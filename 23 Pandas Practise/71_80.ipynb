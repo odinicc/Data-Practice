{
 "cells": [
  {
   "cell_type": "code",
   "execution_count": 1,
   "outputs": [],
   "source": [
    "import pandas as pd\n",
    "import numpy as np"
   ],
   "metadata": {
    "collapsed": false,
    "pycharm": {
     "name": "#%%\n"
    }
   }
  },
  {
   "cell_type": "markdown",
   "source": [
    "72. How to get the positions where values of two columns match?"
   ],
   "metadata": {
    "collapsed": false,
    "pycharm": {
     "name": "#%% md\n"
    }
   }
  },
  {
   "cell_type": "code",
   "execution_count": 4,
   "outputs": [],
   "source": [
    "\n",
    "df = pd.DataFrame({'fruit1': np.random.choice(['apple', 'orange', 'banana'], 10),\n",
    "                   'fruit2': np.random.choice(['apple', 'orange', 'banana'], 10)})"
   ],
   "metadata": {
    "collapsed": false,
    "pycharm": {
     "name": "#%%\n"
    }
   }
  },
  {
   "cell_type": "code",
   "execution_count": 5,
   "outputs": [
    {
     "data": {
      "text/plain": "   fruit1  fruit2\n0  orange   apple\n1  orange  orange\n2  orange  orange\n3   apple   apple\n4   apple   apple\n5  orange   apple\n6  orange   apple\n7  orange   apple\n8  banana  orange\n9  banana  banana",
      "text/html": "<div>\n<style scoped>\n    .dataframe tbody tr th:only-of-type {\n        vertical-align: middle;\n    }\n\n    .dataframe tbody tr th {\n        vertical-align: top;\n    }\n\n    .dataframe thead th {\n        text-align: right;\n    }\n</style>\n<table border=\"1\" class=\"dataframe\">\n  <thead>\n    <tr style=\"text-align: right;\">\n      <th></th>\n      <th>fruit1</th>\n      <th>fruit2</th>\n    </tr>\n  </thead>\n  <tbody>\n    <tr>\n      <th>0</th>\n      <td>orange</td>\n      <td>apple</td>\n    </tr>\n    <tr>\n      <th>1</th>\n      <td>orange</td>\n      <td>orange</td>\n    </tr>\n    <tr>\n      <th>2</th>\n      <td>orange</td>\n      <td>orange</td>\n    </tr>\n    <tr>\n      <th>3</th>\n      <td>apple</td>\n      <td>apple</td>\n    </tr>\n    <tr>\n      <th>4</th>\n      <td>apple</td>\n      <td>apple</td>\n    </tr>\n    <tr>\n      <th>5</th>\n      <td>orange</td>\n      <td>apple</td>\n    </tr>\n    <tr>\n      <th>6</th>\n      <td>orange</td>\n      <td>apple</td>\n    </tr>\n    <tr>\n      <th>7</th>\n      <td>orange</td>\n      <td>apple</td>\n    </tr>\n    <tr>\n      <th>8</th>\n      <td>banana</td>\n      <td>orange</td>\n    </tr>\n    <tr>\n      <th>9</th>\n      <td>banana</td>\n      <td>banana</td>\n    </tr>\n  </tbody>\n</table>\n</div>"
     },
     "execution_count": 5,
     "metadata": {},
     "output_type": "execute_result"
    }
   ],
   "source": [
    "df"
   ],
   "metadata": {
    "collapsed": false,
    "pycharm": {
     "name": "#%%\n"
    }
   }
  },
  {
   "cell_type": "code",
   "execution_count": 7,
   "outputs": [
    {
     "data": {
      "text/plain": "['fruit1', 'fruit2']"
     },
     "execution_count": 7,
     "metadata": {},
     "output_type": "execute_result"
    }
   ],
   "source": [
    "df.columns.to_list()"
   ],
   "metadata": {
    "collapsed": false,
    "pycharm": {
     "name": "#%%\n"
    }
   }
  },
  {
   "cell_type": "code",
   "execution_count": 15,
   "outputs": [
    {
     "data": {
      "text/plain": "   fruit1  fruit2\n1  orange  orange\n2  orange  orange\n3   apple   apple\n4   apple   apple\n9  banana  banana",
      "text/html": "<div>\n<style scoped>\n    .dataframe tbody tr th:only-of-type {\n        vertical-align: middle;\n    }\n\n    .dataframe tbody tr th {\n        vertical-align: top;\n    }\n\n    .dataframe thead th {\n        text-align: right;\n    }\n</style>\n<table border=\"1\" class=\"dataframe\">\n  <thead>\n    <tr style=\"text-align: right;\">\n      <th></th>\n      <th>fruit1</th>\n      <th>fruit2</th>\n    </tr>\n  </thead>\n  <tbody>\n    <tr>\n      <th>1</th>\n      <td>orange</td>\n      <td>orange</td>\n    </tr>\n    <tr>\n      <th>2</th>\n      <td>orange</td>\n      <td>orange</td>\n    </tr>\n    <tr>\n      <th>3</th>\n      <td>apple</td>\n      <td>apple</td>\n    </tr>\n    <tr>\n      <th>4</th>\n      <td>apple</td>\n      <td>apple</td>\n    </tr>\n    <tr>\n      <th>9</th>\n      <td>banana</td>\n      <td>banana</td>\n    </tr>\n  </tbody>\n</table>\n</div>"
     },
     "execution_count": 15,
     "metadata": {},
     "output_type": "execute_result"
    }
   ],
   "source": [
    "df.query('fruit1 == fruit2')"
   ],
   "metadata": {
    "collapsed": false,
    "pycharm": {
     "name": "#%%\n"
    }
   }
  }
 ],
 "metadata": {
  "kernelspec": {
   "display_name": "Python 3",
   "language": "python",
   "name": "python3"
  },
  "language_info": {
   "codemirror_mode": {
    "name": "ipython",
    "version": 2
   },
   "file_extension": ".py",
   "mimetype": "text/x-python",
   "name": "python",
   "nbconvert_exporter": "python",
   "pygments_lexer": "ipython2",
   "version": "2.7.6"
  }
 },
 "nbformat": 4,
 "nbformat_minor": 0
}
{
 "cells": [
  {
   "cell_type": "code",
   "execution_count": 2,
   "metadata": {
    "collapsed": true,
    "pycharm": {
     "name": "#%%\n"
    }
   },
   "outputs": [],
   "source": [
    "import pandas as pd\n",
    "import numpy as np"
   ]
  },
  {
   "cell_type": "markdown",
   "source": [
    "61. How to know the maximum possible correlation value of each column against other columns\n",
    "Compute maximum possible absolute correlation value of each column against other columns in df."
   ],
   "metadata": {
    "collapsed": false,
    "pycharm": {
     "name": "#%% md\n"
    }
   }
  },
  {
   "cell_type": "code",
   "execution_count": 3,
   "outputs": [],
   "source": [
    "df = pd.DataFrame(np.random.randint(1,100, 80).reshape(8, -1), columns=list('pqrstuvwxy'), index=list('abcdefgh'))\n"
   ],
   "metadata": {
    "collapsed": false,
    "pycharm": {
     "name": "#%%\n"
    }
   }
  },
  {
   "cell_type": "code",
   "execution_count": 4,
   "outputs": [],
   "source": [
    "col_names = df.columns.to_list()"
   ],
   "metadata": {
    "collapsed": false,
    "pycharm": {
     "name": "#%%\n"
    }
   }
  },
  {
   "cell_type": "code",
   "execution_count": 5,
   "outputs": [
    {
     "name": "stdout",
     "output_type": "stream",
     "text": [
      " max_cor = 0.6821860090272848   n1_max = u   n2_max = y\n"
     ]
    }
   ],
   "source": [
    "max_cor = 0\n",
    "for n1 in col_names:\n",
    "    for n2 in col_names:\n",
    "        if n1 != n2:\n",
    "            c = np.corrcoef(df[n1].to_list() ,df[n2].to_list())[1,0]\n",
    "            if c > max_cor:\n",
    "                max_cor = c\n",
    "                n1_max = n1\n",
    "                n2_max = n2\n",
    "print(' max_cor =', max_cor , '  n1_max =', n1_max, '  n2_max =', n2_max)"
   ],
   "metadata": {
    "collapsed": false,
    "pycharm": {
     "name": "#%%\n"
    }
   }
  },
  {
   "cell_type": "markdown",
   "source": [
    "62. How to create a column containing the minimum by maximum of each row"
   ],
   "metadata": {
    "collapsed": false,
    "pycharm": {
     "name": "#%% md\n"
    }
   }
  },
  {
   "cell_type": "code",
   "execution_count": 6,
   "outputs": [],
   "source": [
    "df = pd.DataFrame(np.random.randint(1,100, 80).reshape(8, -1))\n"
   ],
   "metadata": {
    "collapsed": false,
    "pycharm": {
     "name": "#%%\n"
    }
   }
  },
  {
   "cell_type": "code",
   "execution_count": 10,
   "outputs": [
    {
     "data": {
      "text/plain": "    0   1   2   3   4   5   6   7   8   9\n0  50  92  94  64  73  42  74  22   1  77\n1   5  90  66  69  55  21  91  97  49  75\n2  67  97  73  55  77  47  11  70  55  70\n3  66   7  58  88  87  68  34  76  26   2\n4  10  52  77  52  32  93  52  62  25  64\n5  71   5  34  83  10  17  85  30  87  37\n6  41  83  32  35  60  68  50  25  31  65\n7  95  33  84  30  46  11   6  33  70   2",
      "text/html": "<div>\n<style scoped>\n    .dataframe tbody tr th:only-of-type {\n        vertical-align: middle;\n    }\n\n    .dataframe tbody tr th {\n        vertical-align: top;\n    }\n\n    .dataframe thead th {\n        text-align: right;\n    }\n</style>\n<table border=\"1\" class=\"dataframe\">\n  <thead>\n    <tr style=\"text-align: right;\">\n      <th></th>\n      <th>0</th>\n      <th>1</th>\n      <th>2</th>\n      <th>3</th>\n      <th>4</th>\n      <th>5</th>\n      <th>6</th>\n      <th>7</th>\n      <th>8</th>\n      <th>9</th>\n    </tr>\n  </thead>\n  <tbody>\n    <tr>\n      <th>0</th>\n      <td>50</td>\n      <td>92</td>\n      <td>94</td>\n      <td>64</td>\n      <td>73</td>\n      <td>42</td>\n      <td>74</td>\n      <td>22</td>\n      <td>1</td>\n      <td>77</td>\n    </tr>\n    <tr>\n      <th>1</th>\n      <td>5</td>\n      <td>90</td>\n      <td>66</td>\n      <td>69</td>\n      <td>55</td>\n      <td>21</td>\n      <td>91</td>\n      <td>97</td>\n      <td>49</td>\n      <td>75</td>\n    </tr>\n    <tr>\n      <th>2</th>\n      <td>67</td>\n      <td>97</td>\n      <td>73</td>\n      <td>55</td>\n      <td>77</td>\n      <td>47</td>\n      <td>11</td>\n      <td>70</td>\n      <td>55</td>\n      <td>70</td>\n    </tr>\n    <tr>\n      <th>3</th>\n      <td>66</td>\n      <td>7</td>\n      <td>58</td>\n      <td>88</td>\n      <td>87</td>\n      <td>68</td>\n      <td>34</td>\n      <td>76</td>\n      <td>26</td>\n      <td>2</td>\n    </tr>\n    <tr>\n      <th>4</th>\n      <td>10</td>\n      <td>52</td>\n      <td>77</td>\n      <td>52</td>\n      <td>32</td>\n      <td>93</td>\n      <td>52</td>\n      <td>62</td>\n      <td>25</td>\n      <td>64</td>\n    </tr>\n    <tr>\n      <th>5</th>\n      <td>71</td>\n      <td>5</td>\n      <td>34</td>\n      <td>83</td>\n      <td>10</td>\n      <td>17</td>\n      <td>85</td>\n      <td>30</td>\n      <td>87</td>\n      <td>37</td>\n    </tr>\n    <tr>\n      <th>6</th>\n      <td>41</td>\n      <td>83</td>\n      <td>32</td>\n      <td>35</td>\n      <td>60</td>\n      <td>68</td>\n      <td>50</td>\n      <td>25</td>\n      <td>31</td>\n      <td>65</td>\n    </tr>\n    <tr>\n      <th>7</th>\n      <td>95</td>\n      <td>33</td>\n      <td>84</td>\n      <td>30</td>\n      <td>46</td>\n      <td>11</td>\n      <td>6</td>\n      <td>33</td>\n      <td>70</td>\n      <td>2</td>\n    </tr>\n  </tbody>\n</table>\n</div>"
     },
     "execution_count": 10,
     "metadata": {},
     "output_type": "execute_result"
    }
   ],
   "source": [
    "df"
   ],
   "metadata": {
    "collapsed": false,
    "pycharm": {
     "name": "#%%\n"
    }
   }
  },
  {
   "cell_type": "code",
   "execution_count": 13,
   "outputs": [],
   "source": [
    "df['new'] = df.max()/df.min()"
   ],
   "metadata": {
    "collapsed": false,
    "pycharm": {
     "name": "#%%\n"
    }
   }
  },
  {
   "cell_type": "code",
   "execution_count": 15,
   "outputs": [
    {
     "data": {
      "text/plain": "    0   1   2   3   4   5   6   7   8   9   new\n0  50  92  94  64  73  42  74  22   1  77  19.0\n1   5  90  66  69  55  21  91  97  49  75  19.4",
      "text/html": "<div>\n<style scoped>\n    .dataframe tbody tr th:only-of-type {\n        vertical-align: middle;\n    }\n\n    .dataframe tbody tr th {\n        vertical-align: top;\n    }\n\n    .dataframe thead th {\n        text-align: right;\n    }\n</style>\n<table border=\"1\" class=\"dataframe\">\n  <thead>\n    <tr style=\"text-align: right;\">\n      <th></th>\n      <th>0</th>\n      <th>1</th>\n      <th>2</th>\n      <th>3</th>\n      <th>4</th>\n      <th>5</th>\n      <th>6</th>\n      <th>7</th>\n      <th>8</th>\n      <th>9</th>\n      <th>new</th>\n    </tr>\n  </thead>\n  <tbody>\n    <tr>\n      <th>0</th>\n      <td>50</td>\n      <td>92</td>\n      <td>94</td>\n      <td>64</td>\n      <td>73</td>\n      <td>42</td>\n      <td>74</td>\n      <td>22</td>\n      <td>1</td>\n      <td>77</td>\n      <td>19.0</td>\n    </tr>\n    <tr>\n      <th>1</th>\n      <td>5</td>\n      <td>90</td>\n      <td>66</td>\n      <td>69</td>\n      <td>55</td>\n      <td>21</td>\n      <td>91</td>\n      <td>97</td>\n      <td>49</td>\n      <td>75</td>\n      <td>19.4</td>\n    </tr>\n  </tbody>\n</table>\n</div>"
     },
     "execution_count": 15,
     "metadata": {},
     "output_type": "execute_result"
    }
   ],
   "source": [
    "df.head(2)"
   ],
   "metadata": {
    "collapsed": false,
    "pycharm": {
     "name": "#%%\n"
    }
   }
  },
  {
   "cell_type": "markdown",
   "source": [
    "63. How to create a column that contains the penultimate value in each row\n",
    "Create a new column 'penultimate' which has the second largest value of each row of df."
   ],
   "metadata": {
    "collapsed": false,
    "pycharm": {
     "name": "#%% md\n"
    }
   }
  },
  {
   "cell_type": "code",
   "execution_count": 16,
   "outputs": [],
   "source": [
    "df = pd.DataFrame(np.random.randint(1,100, 80).reshape(8, -1))\n"
   ],
   "metadata": {
    "collapsed": false,
    "pycharm": {
     "name": "#%%\n"
    }
   }
  },
  {
   "cell_type": "code",
   "execution_count": 24,
   "outputs": [],
   "source": [
    "out = df.apply(lambda x: x.sort_values().unique()[-2], axis=1)"
   ],
   "metadata": {
    "collapsed": false,
    "pycharm": {
     "name": "#%%\n"
    }
   }
  },
  {
   "cell_type": "code",
   "execution_count": 25,
   "outputs": [],
   "source": [
    "df['penultimate'] = out"
   ],
   "metadata": {
    "collapsed": false,
    "pycharm": {
     "name": "#%%\n"
    }
   }
  },
  {
   "cell_type": "code",
   "execution_count": 27,
   "outputs": [
    {
     "data": {
      "text/plain": "    0   1   2   3   4   5   6   7   8   9  penultimate\n0  33  68   4  65  54  88  35  23  95  69           88\n1  47  21  78  63  32  59  52  33  71  32           71",
      "text/html": "<div>\n<style scoped>\n    .dataframe tbody tr th:only-of-type {\n        vertical-align: middle;\n    }\n\n    .dataframe tbody tr th {\n        vertical-align: top;\n    }\n\n    .dataframe thead th {\n        text-align: right;\n    }\n</style>\n<table border=\"1\" class=\"dataframe\">\n  <thead>\n    <tr style=\"text-align: right;\">\n      <th></th>\n      <th>0</th>\n      <th>1</th>\n      <th>2</th>\n      <th>3</th>\n      <th>4</th>\n      <th>5</th>\n      <th>6</th>\n      <th>7</th>\n      <th>8</th>\n      <th>9</th>\n      <th>penultimate</th>\n    </tr>\n  </thead>\n  <tbody>\n    <tr>\n      <th>0</th>\n      <td>33</td>\n      <td>68</td>\n      <td>4</td>\n      <td>65</td>\n      <td>54</td>\n      <td>88</td>\n      <td>35</td>\n      <td>23</td>\n      <td>95</td>\n      <td>69</td>\n      <td>88</td>\n    </tr>\n    <tr>\n      <th>1</th>\n      <td>47</td>\n      <td>21</td>\n      <td>78</td>\n      <td>63</td>\n      <td>32</td>\n      <td>59</td>\n      <td>52</td>\n      <td>33</td>\n      <td>71</td>\n      <td>32</td>\n      <td>71</td>\n    </tr>\n  </tbody>\n</table>\n</div>"
     },
     "execution_count": 27,
     "metadata": {},
     "output_type": "execute_result"
    }
   ],
   "source": [
    "df.head(2)"
   ],
   "metadata": {
    "collapsed": false,
    "pycharm": {
     "name": "#%%\n"
    }
   }
  },
  {
   "cell_type": "markdown",
   "source": [
    "64. How to normalize all columns in a dataframe\n",
    "Normalize all columns of df by subtracting the column mean and divide by standard deviation.\n",
    "Range all columns of df such that the minimum value in each column is 0 and max is 1."
   ],
   "metadata": {
    "collapsed": false,
    "pycharm": {
     "name": "#%% md\n"
    }
   }
  },
  {
   "cell_type": "code",
   "execution_count": 28,
   "outputs": [],
   "source": [
    "df = pd.DataFrame(np.random.randint(1,100, 80).reshape(8, -1))"
   ],
   "metadata": {
    "collapsed": false,
    "pycharm": {
     "name": "#%%\n"
    }
   }
  },
  {
   "cell_type": "code",
   "execution_count": 29,
   "outputs": [
    {
     "data": {
      "text/plain": "    0   1   2   3   4   5   6   7   8   9\n0  89  55  57  65  91  14  18   9  89  72\n1  98  75  31  63  32  31  12  83  46  82\n2  20  90  42   6  22  66   3  95  84  35\n3  16  65  49  75  94   6  18  60  17   9\n4  83  85  79   8  91  43  17  45  72  23\n5  79  77  61  12  29   6   2  94  81   5\n6  26  58  42  39  39  71  74  91  11  95\n7   9  18  25  12  93  64  90  30  77  16",
      "text/html": "<div>\n<style scoped>\n    .dataframe tbody tr th:only-of-type {\n        vertical-align: middle;\n    }\n\n    .dataframe tbody tr th {\n        vertical-align: top;\n    }\n\n    .dataframe thead th {\n        text-align: right;\n    }\n</style>\n<table border=\"1\" class=\"dataframe\">\n  <thead>\n    <tr style=\"text-align: right;\">\n      <th></th>\n      <th>0</th>\n      <th>1</th>\n      <th>2</th>\n      <th>3</th>\n      <th>4</th>\n      <th>5</th>\n      <th>6</th>\n      <th>7</th>\n      <th>8</th>\n      <th>9</th>\n    </tr>\n  </thead>\n  <tbody>\n    <tr>\n      <th>0</th>\n      <td>89</td>\n      <td>55</td>\n      <td>57</td>\n      <td>65</td>\n      <td>91</td>\n      <td>14</td>\n      <td>18</td>\n      <td>9</td>\n      <td>89</td>\n      <td>72</td>\n    </tr>\n    <tr>\n      <th>1</th>\n      <td>98</td>\n      <td>75</td>\n      <td>31</td>\n      <td>63</td>\n      <td>32</td>\n      <td>31</td>\n      <td>12</td>\n      <td>83</td>\n      <td>46</td>\n      <td>82</td>\n    </tr>\n    <tr>\n      <th>2</th>\n      <td>20</td>\n      <td>90</td>\n      <td>42</td>\n      <td>6</td>\n      <td>22</td>\n      <td>66</td>\n      <td>3</td>\n      <td>95</td>\n      <td>84</td>\n      <td>35</td>\n    </tr>\n    <tr>\n      <th>3</th>\n      <td>16</td>\n      <td>65</td>\n      <td>49</td>\n      <td>75</td>\n      <td>94</td>\n      <td>6</td>\n      <td>18</td>\n      <td>60</td>\n      <td>17</td>\n      <td>9</td>\n    </tr>\n    <tr>\n      <th>4</th>\n      <td>83</td>\n      <td>85</td>\n      <td>79</td>\n      <td>8</td>\n      <td>91</td>\n      <td>43</td>\n      <td>17</td>\n      <td>45</td>\n      <td>72</td>\n      <td>23</td>\n    </tr>\n    <tr>\n      <th>5</th>\n      <td>79</td>\n      <td>77</td>\n      <td>61</td>\n      <td>12</td>\n      <td>29</td>\n      <td>6</td>\n      <td>2</td>\n      <td>94</td>\n      <td>81</td>\n      <td>5</td>\n    </tr>\n    <tr>\n      <th>6</th>\n      <td>26</td>\n      <td>58</td>\n      <td>42</td>\n      <td>39</td>\n      <td>39</td>\n      <td>71</td>\n      <td>74</td>\n      <td>91</td>\n      <td>11</td>\n      <td>95</td>\n    </tr>\n    <tr>\n      <th>7</th>\n      <td>9</td>\n      <td>18</td>\n      <td>25</td>\n      <td>12</td>\n      <td>93</td>\n      <td>64</td>\n      <td>90</td>\n      <td>30</td>\n      <td>77</td>\n      <td>16</td>\n    </tr>\n  </tbody>\n</table>\n</div>"
     },
     "execution_count": 29,
     "metadata": {},
     "output_type": "execute_result"
    }
   ],
   "source": [
    "df"
   ],
   "metadata": {
    "collapsed": false,
    "pycharm": {
     "name": "#%%\n"
    }
   }
  },
  {
   "cell_type": "code",
   "execution_count": 32,
   "outputs": [
    {
     "data": {
      "text/plain": "          0         1         2         3         4         5         6  \\\n0  1.037594 -0.028213  0.034482  0.285260  1.100289 -1.313450 -1.188061   \n1  1.485513  0.685354 -0.845386  0.267879 -0.810596 -0.845386 -1.506387   \n2 -0.751664  1.248962 -0.122896 -1.151789 -0.694503  0.563033 -1.237530   \n3 -0.789829  0.764453  0.256932  1.081653  1.684333 -1.107029 -0.726389   \n4  0.910078  0.974168  0.781898 -1.493297  1.166438 -0.371722 -1.204892   \n5  0.925034  0.871253  0.441005 -0.876631 -0.419492 -1.037974 -1.145537   \n6 -1.027092  0.122102 -0.452495 -0.560232 -0.560232  0.588962  0.696699   \n7 -1.018423 -0.751975 -0.544738 -0.929607  1.468424  0.609870  1.379608   \n\n          7         8         9  \n0 -1.470187  1.037594  0.504691  \n1  0.963670 -0.323543  0.928881  \n2  1.391864  1.077480 -0.322958  \n3  0.605852 -0.758109 -1.011869  \n4 -0.307632  0.557583 -1.012622  \n5  1.328392  0.978815 -1.064865  \n6  1.307208 -1.565777  1.450857  \n7 -0.396711  0.994739 -0.811186  ",
      "text/html": "<div>\n<style scoped>\n    .dataframe tbody tr th:only-of-type {\n        vertical-align: middle;\n    }\n\n    .dataframe tbody tr th {\n        vertical-align: top;\n    }\n\n    .dataframe thead th {\n        text-align: right;\n    }\n</style>\n<table border=\"1\" class=\"dataframe\">\n  <thead>\n    <tr style=\"text-align: right;\">\n      <th></th>\n      <th>0</th>\n      <th>1</th>\n      <th>2</th>\n      <th>3</th>\n      <th>4</th>\n      <th>5</th>\n      <th>6</th>\n      <th>7</th>\n      <th>8</th>\n      <th>9</th>\n    </tr>\n  </thead>\n  <tbody>\n    <tr>\n      <th>0</th>\n      <td>1.037594</td>\n      <td>-0.028213</td>\n      <td>0.034482</td>\n      <td>0.285260</td>\n      <td>1.100289</td>\n      <td>-1.313450</td>\n      <td>-1.188061</td>\n      <td>-1.470187</td>\n      <td>1.037594</td>\n      <td>0.504691</td>\n    </tr>\n    <tr>\n      <th>1</th>\n      <td>1.485513</td>\n      <td>0.685354</td>\n      <td>-0.845386</td>\n      <td>0.267879</td>\n      <td>-0.810596</td>\n      <td>-0.845386</td>\n      <td>-1.506387</td>\n      <td>0.963670</td>\n      <td>-0.323543</td>\n      <td>0.928881</td>\n    </tr>\n    <tr>\n      <th>2</th>\n      <td>-0.751664</td>\n      <td>1.248962</td>\n      <td>-0.122896</td>\n      <td>-1.151789</td>\n      <td>-0.694503</td>\n      <td>0.563033</td>\n      <td>-1.237530</td>\n      <td>1.391864</td>\n      <td>1.077480</td>\n      <td>-0.322958</td>\n    </tr>\n    <tr>\n      <th>3</th>\n      <td>-0.789829</td>\n      <td>0.764453</td>\n      <td>0.256932</td>\n      <td>1.081653</td>\n      <td>1.684333</td>\n      <td>-1.107029</td>\n      <td>-0.726389</td>\n      <td>0.605852</td>\n      <td>-0.758109</td>\n      <td>-1.011869</td>\n    </tr>\n    <tr>\n      <th>4</th>\n      <td>0.910078</td>\n      <td>0.974168</td>\n      <td>0.781898</td>\n      <td>-1.493297</td>\n      <td>1.166438</td>\n      <td>-0.371722</td>\n      <td>-1.204892</td>\n      <td>-0.307632</td>\n      <td>0.557583</td>\n      <td>-1.012622</td>\n    </tr>\n    <tr>\n      <th>5</th>\n      <td>0.925034</td>\n      <td>0.871253</td>\n      <td>0.441005</td>\n      <td>-0.876631</td>\n      <td>-0.419492</td>\n      <td>-1.037974</td>\n      <td>-1.145537</td>\n      <td>1.328392</td>\n      <td>0.978815</td>\n      <td>-1.064865</td>\n    </tr>\n    <tr>\n      <th>6</th>\n      <td>-1.027092</td>\n      <td>0.122102</td>\n      <td>-0.452495</td>\n      <td>-0.560232</td>\n      <td>-0.560232</td>\n      <td>0.588962</td>\n      <td>0.696699</td>\n      <td>1.307208</td>\n      <td>-1.565777</td>\n      <td>1.450857</td>\n    </tr>\n    <tr>\n      <th>7</th>\n      <td>-1.018423</td>\n      <td>-0.751975</td>\n      <td>-0.544738</td>\n      <td>-0.929607</td>\n      <td>1.468424</td>\n      <td>0.609870</td>\n      <td>1.379608</td>\n      <td>-0.396711</td>\n      <td>0.994739</td>\n      <td>-0.811186</td>\n    </tr>\n  </tbody>\n</table>\n</div>"
     },
     "execution_count": 32,
     "metadata": {},
     "output_type": "execute_result"
    }
   ],
   "source": [
    "df.apply(lambda x: (x-x.mean())/x.std(), axis = 1)"
   ],
   "metadata": {
    "collapsed": false,
    "pycharm": {
     "name": "#%%\n"
    }
   }
  },
  {
   "cell_type": "code",
   "execution_count": 33,
   "outputs": [
    {
     "data": {
      "text/plain": "      0     1     2     3     4     5     6     7     8     9\n0  0.10  0.49  0.41  0.14  0.04  0.88  0.82  1.00  0.00  0.26\n1  0.00  0.21  0.89  0.17  0.86  0.62  0.89  0.14  0.55  0.14\n2  0.88  0.00  0.69  1.00  1.00  0.08  0.99  0.00  0.06  0.67\n3  0.92  0.35  0.56  0.00  0.00  1.00  0.82  0.41  0.92  0.96\n4  0.17  0.07  0.00  0.97  0.04  0.43  0.83  0.58  0.22  0.80\n5  0.21  0.18  0.33  0.91  0.90  1.00  1.00  0.01  0.10  1.00\n6  0.81  0.44  0.69  0.52  0.76  0.00  0.18  0.05  1.00  0.00\n7  1.00  1.00  1.00  0.91  0.01  0.11  0.00  0.76  0.15  0.88",
      "text/html": "<div>\n<style scoped>\n    .dataframe tbody tr th:only-of-type {\n        vertical-align: middle;\n    }\n\n    .dataframe tbody tr th {\n        vertical-align: top;\n    }\n\n    .dataframe thead th {\n        text-align: right;\n    }\n</style>\n<table border=\"1\" class=\"dataframe\">\n  <thead>\n    <tr style=\"text-align: right;\">\n      <th></th>\n      <th>0</th>\n      <th>1</th>\n      <th>2</th>\n      <th>3</th>\n      <th>4</th>\n      <th>5</th>\n      <th>6</th>\n      <th>7</th>\n      <th>8</th>\n      <th>9</th>\n    </tr>\n  </thead>\n  <tbody>\n    <tr>\n      <th>0</th>\n      <td>0.10</td>\n      <td>0.49</td>\n      <td>0.41</td>\n      <td>0.14</td>\n      <td>0.04</td>\n      <td>0.88</td>\n      <td>0.82</td>\n      <td>1.00</td>\n      <td>0.00</td>\n      <td>0.26</td>\n    </tr>\n    <tr>\n      <th>1</th>\n      <td>0.00</td>\n      <td>0.21</td>\n      <td>0.89</td>\n      <td>0.17</td>\n      <td>0.86</td>\n      <td>0.62</td>\n      <td>0.89</td>\n      <td>0.14</td>\n      <td>0.55</td>\n      <td>0.14</td>\n    </tr>\n    <tr>\n      <th>2</th>\n      <td>0.88</td>\n      <td>0.00</td>\n      <td>0.69</td>\n      <td>1.00</td>\n      <td>1.00</td>\n      <td>0.08</td>\n      <td>0.99</td>\n      <td>0.00</td>\n      <td>0.06</td>\n      <td>0.67</td>\n    </tr>\n    <tr>\n      <th>3</th>\n      <td>0.92</td>\n      <td>0.35</td>\n      <td>0.56</td>\n      <td>0.00</td>\n      <td>0.00</td>\n      <td>1.00</td>\n      <td>0.82</td>\n      <td>0.41</td>\n      <td>0.92</td>\n      <td>0.96</td>\n    </tr>\n    <tr>\n      <th>4</th>\n      <td>0.17</td>\n      <td>0.07</td>\n      <td>0.00</td>\n      <td>0.97</td>\n      <td>0.04</td>\n      <td>0.43</td>\n      <td>0.83</td>\n      <td>0.58</td>\n      <td>0.22</td>\n      <td>0.80</td>\n    </tr>\n    <tr>\n      <th>5</th>\n      <td>0.21</td>\n      <td>0.18</td>\n      <td>0.33</td>\n      <td>0.91</td>\n      <td>0.90</td>\n      <td>1.00</td>\n      <td>1.00</td>\n      <td>0.01</td>\n      <td>0.10</td>\n      <td>1.00</td>\n    </tr>\n    <tr>\n      <th>6</th>\n      <td>0.81</td>\n      <td>0.44</td>\n      <td>0.69</td>\n      <td>0.52</td>\n      <td>0.76</td>\n      <td>0.00</td>\n      <td>0.18</td>\n      <td>0.05</td>\n      <td>1.00</td>\n      <td>0.00</td>\n    </tr>\n    <tr>\n      <th>7</th>\n      <td>1.00</td>\n      <td>1.00</td>\n      <td>1.00</td>\n      <td>0.91</td>\n      <td>0.01</td>\n      <td>0.11</td>\n      <td>0.00</td>\n      <td>0.76</td>\n      <td>0.15</td>\n      <td>0.88</td>\n    </tr>\n  </tbody>\n</table>\n</div>"
     },
     "execution_count": 33,
     "metadata": {},
     "output_type": "execute_result"
    }
   ],
   "source": [
    "df.apply(lambda x: ((x.max() - x)/(x.max() - x.min())).round(2))"
   ],
   "metadata": {
    "collapsed": false,
    "pycharm": {
     "name": "#%%\n"
    }
   }
  },
  {
   "cell_type": "markdown",
   "source": [
    "65. How to compute the correlation of each row with the suceeding row\n",
    "Compute the correlation of each row of df with its succeeding row."
   ],
   "metadata": {
    "collapsed": false,
    "pycharm": {
     "name": "#%% md\n"
    }
   }
  },
  {
   "cell_type": "code",
   "execution_count": null,
   "outputs": [],
   "source": [],
   "metadata": {
    "collapsed": false,
    "pycharm": {
     "name": "#%%\n"
    }
   }
  }
 ],
 "metadata": {
  "kernelspec": {
   "display_name": "Python 3",
   "language": "python",
   "name": "python3"
  },
  "language_info": {
   "codemirror_mode": {
    "name": "ipython",
    "version": 2
   },
   "file_extension": ".py",
   "mimetype": "text/x-python",
   "name": "python",
   "nbconvert_exporter": "python",
   "pygments_lexer": "ipython2",
   "version": "2.7.6"
  }
 },
 "nbformat": 4,
 "nbformat_minor": 0
}
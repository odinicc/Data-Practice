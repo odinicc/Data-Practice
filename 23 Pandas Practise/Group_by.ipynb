{
 "cells": [
  {
   "cell_type": "code",
   "execution_count": 1,
   "metadata": {
    "collapsed": true,
    "pycharm": {
     "name": "#%%\n"
    }
   },
   "outputs": [],
   "source": [
    "import pandas as pd"
   ]
  },
  {
   "cell_type": "code",
   "execution_count": 2,
   "outputs": [],
   "source": [
    "student_data = pd.DataFrame({\n",
    "    'school_code': ['s001','s002','s003','s001','s002','s004'],\n",
    "    'class': ['V', 'V', 'VI', 'VI', 'V', 'VI'],\n",
    "    'name': ['Alberto Franco','Gino Mcneill','Ryan Parkes', 'Eesha Hinton', 'Gino Mcneill', 'David Parkes'],\n",
    "    'date_Of_Birth ': ['15/05/2002','17/05/2002','16/02/1999','25/09/1998','11/05/2002','15/09/1997'],\n",
    "    'age': [12, 12, 13, 13, 14, 12],\n",
    "    'height': [173, 192, 186, 167, 151, 159],\n",
    "    'weight': [35, 32, 33, 30, 31, 32],\n",
    "    'address': ['street1', 'street2', 'street3', 'street1', 'street2', 'street4']},\n",
    "    index=['S1', 'S2', 'S3', 'S4', 'S5', 'S6'])"
   ],
   "metadata": {
    "collapsed": false,
    "pycharm": {
     "name": "#%%\n"
    }
   }
  },
  {
   "cell_type": "code",
   "execution_count": 5,
   "outputs": [],
   "source": [
    "result = student_data.groupby('school_code')"
   ],
   "metadata": {
    "collapsed": false,
    "pycharm": {
     "name": "#%%\n"
    }
   }
  },
  {
   "cell_type": "code",
   "execution_count": 8,
   "outputs": [
    {
     "data": {
      "text/plain": "   school_code class            name date_Of_Birth   age  height  weight  \\\nS1        s001     V  Alberto Franco     15/05/2002   12     173      35   \nS4        s001    VI    Eesha Hinton     25/09/1998   13     167      30   \n\n    address  \nS1  street1  \nS4  street1  ",
      "text/html": "<div>\n<style scoped>\n    .dataframe tbody tr th:only-of-type {\n        vertical-align: middle;\n    }\n\n    .dataframe tbody tr th {\n        vertical-align: top;\n    }\n\n    .dataframe thead th {\n        text-align: right;\n    }\n</style>\n<table border=\"1\" class=\"dataframe\">\n  <thead>\n    <tr style=\"text-align: right;\">\n      <th></th>\n      <th>school_code</th>\n      <th>class</th>\n      <th>name</th>\n      <th>date_Of_Birth</th>\n      <th>age</th>\n      <th>height</th>\n      <th>weight</th>\n      <th>address</th>\n    </tr>\n  </thead>\n  <tbody>\n    <tr>\n      <th>S1</th>\n      <td>s001</td>\n      <td>V</td>\n      <td>Alberto Franco</td>\n      <td>15/05/2002</td>\n      <td>12</td>\n      <td>173</td>\n      <td>35</td>\n      <td>street1</td>\n    </tr>\n    <tr>\n      <th>S4</th>\n      <td>s001</td>\n      <td>VI</td>\n      <td>Eesha Hinton</td>\n      <td>25/09/1998</td>\n      <td>13</td>\n      <td>167</td>\n      <td>30</td>\n      <td>street1</td>\n    </tr>\n  </tbody>\n</table>\n</div>"
     },
     "execution_count": 8,
     "metadata": {},
     "output_type": "execute_result"
    }
   ],
   "source": [
    "result.get_group('s001')"
   ],
   "metadata": {
    "collapsed": false,
    "pycharm": {
     "name": "#%%\n"
    }
   }
  },
  {
   "cell_type": "code",
   "execution_count": 9,
   "outputs": [
    {
     "name": "stdout",
     "output_type": "stream",
     "text": [
      "<class 'pandas.core.groupby.generic.DataFrameGroupBy'>\n"
     ]
    }
   ],
   "source": [
    "print(type(result))"
   ],
   "metadata": {
    "collapsed": false,
    "pycharm": {
     "name": "#%%\n"
    }
   }
  },
  {
   "cell_type": "markdown",
   "source": [
    "2. Write a Pandas program to split the following dataframe by school code and get mean, min, and max value of age for each school."
   ],
   "metadata": {
    "collapsed": false,
    "pycharm": {
     "name": "#%% md\n"
    }
   }
  },
  {
   "cell_type": "code",
   "execution_count": 11,
   "outputs": [
    {
     "data": {
      "text/plain": "  school_code age          \n              min max  mean\n0        s001  12  13  12.5\n1        s002  12  14  13.0\n2        s003  13  13  13.0\n3        s004  12  12  12.0",
      "text/html": "<div>\n<style scoped>\n    .dataframe tbody tr th:only-of-type {\n        vertical-align: middle;\n    }\n\n    .dataframe tbody tr th {\n        vertical-align: top;\n    }\n\n    .dataframe thead tr th {\n        text-align: left;\n    }\n</style>\n<table border=\"1\" class=\"dataframe\">\n  <thead>\n    <tr>\n      <th></th>\n      <th>school_code</th>\n      <th colspan=\"3\" halign=\"left\">age</th>\n    </tr>\n    <tr>\n      <th></th>\n      <th></th>\n      <th>min</th>\n      <th>max</th>\n      <th>mean</th>\n    </tr>\n  </thead>\n  <tbody>\n    <tr>\n      <th>0</th>\n      <td>s001</td>\n      <td>12</td>\n      <td>13</td>\n      <td>12.5</td>\n    </tr>\n    <tr>\n      <th>1</th>\n      <td>s002</td>\n      <td>12</td>\n      <td>14</td>\n      <td>13.0</td>\n    </tr>\n    <tr>\n      <th>2</th>\n      <td>s003</td>\n      <td>13</td>\n      <td>13</td>\n      <td>13.0</td>\n    </tr>\n    <tr>\n      <th>3</th>\n      <td>s004</td>\n      <td>12</td>\n      <td>12</td>\n      <td>12.0</td>\n    </tr>\n  </tbody>\n</table>\n</div>"
     },
     "execution_count": 11,
     "metadata": {},
     "output_type": "execute_result"
    }
   ],
   "source": [
    "result.agg({'age':['min','max','mean']}).reset_index()"
   ],
   "metadata": {
    "collapsed": false,
    "pycharm": {
     "name": "#%%\n"
    }
   }
  },
  {
   "cell_type": "markdown",
   "source": [
    "3. Write a Pandas program to split the following given dataframe into groups based on school code and class"
   ],
   "metadata": {
    "collapsed": false,
    "pycharm": {
     "name": "#%% md\n"
    }
   }
  },
  {
   "cell_type": "code",
   "execution_count": 14,
   "outputs": [],
   "source": [
    "result = student_data.groupby(['school_code','class'])"
   ],
   "metadata": {
    "collapsed": false,
    "pycharm": {
     "name": "#%%\n"
    }
   }
  },
  {
   "cell_type": "markdown",
   "source": [
    "4. Write a Pandas program to split the following given dataframe into groups based on school code and cast grouping as a list."
   ],
   "metadata": {
    "collapsed": false,
    "pycharm": {
     "name": "#%% md\n"
    }
   }
  },
  {
   "cell_type": "code",
   "execution_count": 17,
   "outputs": [
    {
     "name": "stdout",
     "output_type": "stream",
     "text": [
      "[(('s001', 'V'),    school_code class            name date_Of_Birth   age  height  weight  \\\n",
      "S1        s001     V  Alberto Franco     15/05/2002   12     173      35   \n",
      "\n",
      "    address  \n",
      "S1  street1  ), (('s001', 'VI'),    school_code class          name date_Of_Birth   age  height  weight  \\\n",
      "S4        s001    VI  Eesha Hinton     25/09/1998   13     167      30   \n",
      "\n",
      "    address  \n",
      "S4  street1  ), (('s002', 'V'),    school_code class          name date_Of_Birth   age  height  weight  \\\n",
      "S2        s002     V  Gino Mcneill     17/05/2002   12     192      32   \n",
      "S5        s002     V  Gino Mcneill     11/05/2002   14     151      31   \n",
      "\n",
      "    address  \n",
      "S2  street2  \n",
      "S5  street2  ), (('s003', 'VI'),    school_code class         name date_Of_Birth   age  height  weight  address\n",
      "S3        s003    VI  Ryan Parkes     16/02/1999   13     186      33  street3), (('s004', 'VI'),    school_code class          name date_Of_Birth   age  height  weight  \\\n",
      "S6        s004    VI  David Parkes     15/09/1997   12     159      32   \n",
      "\n",
      "    address  \n",
      "S6  street4  )]\n"
     ]
    }
   ],
   "source": [
    "print(list(result))"
   ],
   "metadata": {
    "collapsed": false,
    "pycharm": {
     "name": "#%%\n"
    }
   }
  },
  {
   "cell_type": "markdown",
   "source": [
    "6. Write a Pandas program to split the following given dataframe into groups based on school code and call a specific group with the name of the group."
   ],
   "metadata": {
    "collapsed": false,
    "pycharm": {
     "name": "#%% md\n"
    }
   }
  },
  {
   "cell_type": "code",
   "execution_count": 18,
   "outputs": [],
   "source": [
    "result = student_data.groupby('school_code')"
   ],
   "metadata": {
    "collapsed": false,
    "pycharm": {
     "name": "#%%\n"
    }
   }
  },
  {
   "cell_type": "code",
   "execution_count": 19,
   "outputs": [
    {
     "data": {
      "text/plain": "   school_code class            name date_Of_Birth   age  height  weight  \\\nS1        s001     V  Alberto Franco     15/05/2002   12     173      35   \nS4        s001    VI    Eesha Hinton     25/09/1998   13     167      30   \n\n    address  \nS1  street1  \nS4  street1  ",
      "text/html": "<div>\n<style scoped>\n    .dataframe tbody tr th:only-of-type {\n        vertical-align: middle;\n    }\n\n    .dataframe tbody tr th {\n        vertical-align: top;\n    }\n\n    .dataframe thead th {\n        text-align: right;\n    }\n</style>\n<table border=\"1\" class=\"dataframe\">\n  <thead>\n    <tr style=\"text-align: right;\">\n      <th></th>\n      <th>school_code</th>\n      <th>class</th>\n      <th>name</th>\n      <th>date_Of_Birth</th>\n      <th>age</th>\n      <th>height</th>\n      <th>weight</th>\n      <th>address</th>\n    </tr>\n  </thead>\n  <tbody>\n    <tr>\n      <th>S1</th>\n      <td>s001</td>\n      <td>V</td>\n      <td>Alberto Franco</td>\n      <td>15/05/2002</td>\n      <td>12</td>\n      <td>173</td>\n      <td>35</td>\n      <td>street1</td>\n    </tr>\n    <tr>\n      <th>S4</th>\n      <td>s001</td>\n      <td>VI</td>\n      <td>Eesha Hinton</td>\n      <td>25/09/1998</td>\n      <td>13</td>\n      <td>167</td>\n      <td>30</td>\n      <td>street1</td>\n    </tr>\n  </tbody>\n</table>\n</div>"
     },
     "execution_count": 19,
     "metadata": {},
     "output_type": "execute_result"
    }
   ],
   "source": [
    "result.get_group('s001')"
   ],
   "metadata": {
    "collapsed": false,
    "pycharm": {
     "name": "#%%\n"
    }
   }
  },
  {
   "cell_type": "code",
   "execution_count": null,
   "outputs": [],
   "source": [],
   "metadata": {
    "collapsed": false,
    "pycharm": {
     "name": "#%%\n"
    }
   }
  },
  {
   "cell_type": "code",
   "execution_count": 20,
   "outputs": [],
   "source": [
    "diamonds = pd.read_csv('https://raw.githubusercontent.com/mwaskom/seaborn-data/master/diamonds.csv')"
   ],
   "metadata": {
    "collapsed": false,
    "pycharm": {
     "name": "#%%\n"
    }
   }
  },
  {
   "cell_type": "code",
   "execution_count": 25,
   "outputs": [
    {
     "data": {
      "text/plain": "          cut color      depth\n0        Fair     D  64.048466\n1        Fair     E  63.319643\n2        Fair     F  63.508013\n3        Fair     G  64.339809\n4        Fair     H  64.585149\n5        Fair     I  64.220571\n6        Fair     J  64.357143\n7        Good     D  62.365710\n8        Good     E  62.203751\n9        Good     F  62.202310\n10       Good     G  62.526636\n11       Good     H  62.499573\n12       Good     I  62.475096\n13       Good     J  62.395765\n14      Ideal     D  61.678370\n15      Ideal     E  61.686677\n16      Ideal     F  61.675562\n17      Ideal     G  61.700164\n18      Ideal     H  61.733194\n19      Ideal     I  61.793598\n20      Ideal     J  61.821987\n21    Premium     D  61.169245\n22    Premium     E  61.175909\n23    Premium     F  61.259974\n24    Premium     G  61.279480\n25    Premium     H  61.322034\n26    Premium     I  61.328641\n27    Premium     J  61.390099\n28  Very Good     D  61.750165\n29  Very Good     E  61.730250\n30  Very Good     F  61.721627\n31  Very Good     G  61.841279\n32  Very Good     H  61.968366\n33  Very Good     I  61.934551\n34  Very Good     J  61.902065",
      "text/html": "<div>\n<style scoped>\n    .dataframe tbody tr th:only-of-type {\n        vertical-align: middle;\n    }\n\n    .dataframe tbody tr th {\n        vertical-align: top;\n    }\n\n    .dataframe thead th {\n        text-align: right;\n    }\n</style>\n<table border=\"1\" class=\"dataframe\">\n  <thead>\n    <tr style=\"text-align: right;\">\n      <th></th>\n      <th>cut</th>\n      <th>color</th>\n      <th>depth</th>\n    </tr>\n  </thead>\n  <tbody>\n    <tr>\n      <th>0</th>\n      <td>Fair</td>\n      <td>D</td>\n      <td>64.048466</td>\n    </tr>\n    <tr>\n      <th>1</th>\n      <td>Fair</td>\n      <td>E</td>\n      <td>63.319643</td>\n    </tr>\n    <tr>\n      <th>2</th>\n      <td>Fair</td>\n      <td>F</td>\n      <td>63.508013</td>\n    </tr>\n    <tr>\n      <th>3</th>\n      <td>Fair</td>\n      <td>G</td>\n      <td>64.339809</td>\n    </tr>\n    <tr>\n      <th>4</th>\n      <td>Fair</td>\n      <td>H</td>\n      <td>64.585149</td>\n    </tr>\n    <tr>\n      <th>5</th>\n      <td>Fair</td>\n      <td>I</td>\n      <td>64.220571</td>\n    </tr>\n    <tr>\n      <th>6</th>\n      <td>Fair</td>\n      <td>J</td>\n      <td>64.357143</td>\n    </tr>\n    <tr>\n      <th>7</th>\n      <td>Good</td>\n      <td>D</td>\n      <td>62.365710</td>\n    </tr>\n    <tr>\n      <th>8</th>\n      <td>Good</td>\n      <td>E</td>\n      <td>62.203751</td>\n    </tr>\n    <tr>\n      <th>9</th>\n      <td>Good</td>\n      <td>F</td>\n      <td>62.202310</td>\n    </tr>\n    <tr>\n      <th>10</th>\n      <td>Good</td>\n      <td>G</td>\n      <td>62.526636</td>\n    </tr>\n    <tr>\n      <th>11</th>\n      <td>Good</td>\n      <td>H</td>\n      <td>62.499573</td>\n    </tr>\n    <tr>\n      <th>12</th>\n      <td>Good</td>\n      <td>I</td>\n      <td>62.475096</td>\n    </tr>\n    <tr>\n      <th>13</th>\n      <td>Good</td>\n      <td>J</td>\n      <td>62.395765</td>\n    </tr>\n    <tr>\n      <th>14</th>\n      <td>Ideal</td>\n      <td>D</td>\n      <td>61.678370</td>\n    </tr>\n    <tr>\n      <th>15</th>\n      <td>Ideal</td>\n      <td>E</td>\n      <td>61.686677</td>\n    </tr>\n    <tr>\n      <th>16</th>\n      <td>Ideal</td>\n      <td>F</td>\n      <td>61.675562</td>\n    </tr>\n    <tr>\n      <th>17</th>\n      <td>Ideal</td>\n      <td>G</td>\n      <td>61.700164</td>\n    </tr>\n    <tr>\n      <th>18</th>\n      <td>Ideal</td>\n      <td>H</td>\n      <td>61.733194</td>\n    </tr>\n    <tr>\n      <th>19</th>\n      <td>Ideal</td>\n      <td>I</td>\n      <td>61.793598</td>\n    </tr>\n    <tr>\n      <th>20</th>\n      <td>Ideal</td>\n      <td>J</td>\n      <td>61.821987</td>\n    </tr>\n    <tr>\n      <th>21</th>\n      <td>Premium</td>\n      <td>D</td>\n      <td>61.169245</td>\n    </tr>\n    <tr>\n      <th>22</th>\n      <td>Premium</td>\n      <td>E</td>\n      <td>61.175909</td>\n    </tr>\n    <tr>\n      <th>23</th>\n      <td>Premium</td>\n      <td>F</td>\n      <td>61.259974</td>\n    </tr>\n    <tr>\n      <th>24</th>\n      <td>Premium</td>\n      <td>G</td>\n      <td>61.279480</td>\n    </tr>\n    <tr>\n      <th>25</th>\n      <td>Premium</td>\n      <td>H</td>\n      <td>61.322034</td>\n    </tr>\n    <tr>\n      <th>26</th>\n      <td>Premium</td>\n      <td>I</td>\n      <td>61.328641</td>\n    </tr>\n    <tr>\n      <th>27</th>\n      <td>Premium</td>\n      <td>J</td>\n      <td>61.390099</td>\n    </tr>\n    <tr>\n      <th>28</th>\n      <td>Very Good</td>\n      <td>D</td>\n      <td>61.750165</td>\n    </tr>\n    <tr>\n      <th>29</th>\n      <td>Very Good</td>\n      <td>E</td>\n      <td>61.730250</td>\n    </tr>\n    <tr>\n      <th>30</th>\n      <td>Very Good</td>\n      <td>F</td>\n      <td>61.721627</td>\n    </tr>\n    <tr>\n      <th>31</th>\n      <td>Very Good</td>\n      <td>G</td>\n      <td>61.841279</td>\n    </tr>\n    <tr>\n      <th>32</th>\n      <td>Very Good</td>\n      <td>H</td>\n      <td>61.968366</td>\n    </tr>\n    <tr>\n      <th>33</th>\n      <td>Very Good</td>\n      <td>I</td>\n      <td>61.934551</td>\n    </tr>\n    <tr>\n      <th>34</th>\n      <td>Very Good</td>\n      <td>J</td>\n      <td>61.902065</td>\n    </tr>\n  </tbody>\n</table>\n</div>"
     },
     "execution_count": 25,
     "metadata": {},
     "output_type": "execute_result"
    }
   ],
   "source": [
    "diamonds.groupby(['cut','color'], as_index = False).agg({'depth':'mean'})"
   ],
   "metadata": {
    "collapsed": false,
    "pycharm": {
     "name": "#%%\n"
    }
   }
  },
  {
   "cell_type": "code",
   "execution_count": 31,
   "outputs": [],
   "source": [
    "import numpy as np"
   ],
   "metadata": {
    "collapsed": false,
    "pycharm": {
     "name": "#%%\n"
    }
   }
  },
  {
   "cell_type": "code",
   "execution_count": 33,
   "outputs": [
    {
     "data": {
      "text/plain": "       carat  depth  table  price     x     y     z\n0        NaN    NaN    NaN    NaN   NaN   NaN   NaN\n1      -0.02   -1.7    6.0    0.0 -0.06 -0.14 -0.12\n2       0.02   -2.9    4.0    1.0  0.16  0.23  0.00\n3       0.06    5.5   -7.0    7.0  0.15  0.16  0.32\n4       0.02    0.9    0.0    1.0  0.14  0.12  0.12\n...      ...    ...    ...    ...   ...   ...   ...\n53935   0.00   -1.9   -2.0    0.0  0.06  0.03 -0.08\n53936   0.00    2.3   -2.0    0.0 -0.06 -0.01  0.11\n53937  -0.02   -0.3    5.0    0.0 -0.03 -0.07 -0.05\n53938   0.16   -1.8   -2.0    0.0  0.49  0.44  0.18\n53939  -0.11    1.2   -3.0    0.0 -0.32 -0.25 -0.10\n\n[53940 rows x 7 columns]",
      "text/html": "<div>\n<style scoped>\n    .dataframe tbody tr th:only-of-type {\n        vertical-align: middle;\n    }\n\n    .dataframe tbody tr th {\n        vertical-align: top;\n    }\n\n    .dataframe thead th {\n        text-align: right;\n    }\n</style>\n<table border=\"1\" class=\"dataframe\">\n  <thead>\n    <tr style=\"text-align: right;\">\n      <th></th>\n      <th>carat</th>\n      <th>depth</th>\n      <th>table</th>\n      <th>price</th>\n      <th>x</th>\n      <th>y</th>\n      <th>z</th>\n    </tr>\n  </thead>\n  <tbody>\n    <tr>\n      <th>0</th>\n      <td>NaN</td>\n      <td>NaN</td>\n      <td>NaN</td>\n      <td>NaN</td>\n      <td>NaN</td>\n      <td>NaN</td>\n      <td>NaN</td>\n    </tr>\n    <tr>\n      <th>1</th>\n      <td>-0.02</td>\n      <td>-1.7</td>\n      <td>6.0</td>\n      <td>0.0</td>\n      <td>-0.06</td>\n      <td>-0.14</td>\n      <td>-0.12</td>\n    </tr>\n    <tr>\n      <th>2</th>\n      <td>0.02</td>\n      <td>-2.9</td>\n      <td>4.0</td>\n      <td>1.0</td>\n      <td>0.16</td>\n      <td>0.23</td>\n      <td>0.00</td>\n    </tr>\n    <tr>\n      <th>3</th>\n      <td>0.06</td>\n      <td>5.5</td>\n      <td>-7.0</td>\n      <td>7.0</td>\n      <td>0.15</td>\n      <td>0.16</td>\n      <td>0.32</td>\n    </tr>\n    <tr>\n      <th>4</th>\n      <td>0.02</td>\n      <td>0.9</td>\n      <td>0.0</td>\n      <td>1.0</td>\n      <td>0.14</td>\n      <td>0.12</td>\n      <td>0.12</td>\n    </tr>\n    <tr>\n      <th>...</th>\n      <td>...</td>\n      <td>...</td>\n      <td>...</td>\n      <td>...</td>\n      <td>...</td>\n      <td>...</td>\n      <td>...</td>\n    </tr>\n    <tr>\n      <th>53935</th>\n      <td>0.00</td>\n      <td>-1.9</td>\n      <td>-2.0</td>\n      <td>0.0</td>\n      <td>0.06</td>\n      <td>0.03</td>\n      <td>-0.08</td>\n    </tr>\n    <tr>\n      <th>53936</th>\n      <td>0.00</td>\n      <td>2.3</td>\n      <td>-2.0</td>\n      <td>0.0</td>\n      <td>-0.06</td>\n      <td>-0.01</td>\n      <td>0.11</td>\n    </tr>\n    <tr>\n      <th>53937</th>\n      <td>-0.02</td>\n      <td>-0.3</td>\n      <td>5.0</td>\n      <td>0.0</td>\n      <td>-0.03</td>\n      <td>-0.07</td>\n      <td>-0.05</td>\n    </tr>\n    <tr>\n      <th>53938</th>\n      <td>0.16</td>\n      <td>-1.8</td>\n      <td>-2.0</td>\n      <td>0.0</td>\n      <td>0.49</td>\n      <td>0.44</td>\n      <td>0.18</td>\n    </tr>\n    <tr>\n      <th>53939</th>\n      <td>-0.11</td>\n      <td>1.2</td>\n      <td>-3.0</td>\n      <td>0.0</td>\n      <td>-0.32</td>\n      <td>-0.25</td>\n      <td>-0.10</td>\n    </tr>\n  </tbody>\n</table>\n<p>53940 rows × 7 columns</p>\n</div>"
     },
     "execution_count": 33,
     "metadata": {},
     "output_type": "execute_result"
    }
   ],
   "source": [
    "diamonds.select_dtypes(include=np.number).diff()"
   ],
   "metadata": {
    "collapsed": false,
    "pycharm": {
     "name": "#%%\n"
    }
   }
  },
  {
   "cell_type": "code",
   "execution_count": 51,
   "outputs": [
    {
     "data": {
      "text/plain": "   school_code class            name date_Of_Birth   age  height  weight  \\\nS1        s001     V  Alberto Franco     15/05/2002   12     173      35   \nS2        s002     V    Gino Mcneill     17/05/2002   12     192      32   \nS3        s003    VI     Ryan Parkes     16/02/1999   13     186      33   \nS4        s001    VI    Eesha Hinton     25/09/1998   13     167      30   \nS5        s002     V    Gino Mcneill     11/05/2002   14     151      31   \nS6        s004    VI    David Parkes     15/09/1997   12     159      32   \n\n    address  \nS1  street1  \nS2  street2  \nS3  street3  \nS4  street1  \nS5  street2  \nS6  street4  ",
      "text/html": "<div>\n<style scoped>\n    .dataframe tbody tr th:only-of-type {\n        vertical-align: middle;\n    }\n\n    .dataframe tbody tr th {\n        vertical-align: top;\n    }\n\n    .dataframe thead th {\n        text-align: right;\n    }\n</style>\n<table border=\"1\" class=\"dataframe\">\n  <thead>\n    <tr style=\"text-align: right;\">\n      <th></th>\n      <th>school_code</th>\n      <th>class</th>\n      <th>name</th>\n      <th>date_Of_Birth</th>\n      <th>age</th>\n      <th>height</th>\n      <th>weight</th>\n      <th>address</th>\n    </tr>\n  </thead>\n  <tbody>\n    <tr>\n      <th>S1</th>\n      <td>s001</td>\n      <td>V</td>\n      <td>Alberto Franco</td>\n      <td>15/05/2002</td>\n      <td>12</td>\n      <td>173</td>\n      <td>35</td>\n      <td>street1</td>\n    </tr>\n    <tr>\n      <th>S2</th>\n      <td>s002</td>\n      <td>V</td>\n      <td>Gino Mcneill</td>\n      <td>17/05/2002</td>\n      <td>12</td>\n      <td>192</td>\n      <td>32</td>\n      <td>street2</td>\n    </tr>\n    <tr>\n      <th>S3</th>\n      <td>s003</td>\n      <td>VI</td>\n      <td>Ryan Parkes</td>\n      <td>16/02/1999</td>\n      <td>13</td>\n      <td>186</td>\n      <td>33</td>\n      <td>street3</td>\n    </tr>\n    <tr>\n      <th>S4</th>\n      <td>s001</td>\n      <td>VI</td>\n      <td>Eesha Hinton</td>\n      <td>25/09/1998</td>\n      <td>13</td>\n      <td>167</td>\n      <td>30</td>\n      <td>street1</td>\n    </tr>\n    <tr>\n      <th>S5</th>\n      <td>s002</td>\n      <td>V</td>\n      <td>Gino Mcneill</td>\n      <td>11/05/2002</td>\n      <td>14</td>\n      <td>151</td>\n      <td>31</td>\n      <td>street2</td>\n    </tr>\n    <tr>\n      <th>S6</th>\n      <td>s004</td>\n      <td>VI</td>\n      <td>David Parkes</td>\n      <td>15/09/1997</td>\n      <td>12</td>\n      <td>159</td>\n      <td>32</td>\n      <td>street4</td>\n    </tr>\n  </tbody>\n</table>\n</div>"
     },
     "execution_count": 51,
     "metadata": {},
     "output_type": "execute_result"
    }
   ],
   "source": [
    "student_data"
   ],
   "metadata": {
    "collapsed": false,
    "pycharm": {
     "name": "#%%\n"
    }
   }
  },
  {
   "cell_type": "code",
   "execution_count": 57,
   "outputs": [
    {
     "name": "stdout",
     "output_type": "stream",
     "text": [
      "Sally\n",
      "Mary\n",
      "John\n"
     ]
    }
   ],
   "source": [
    "data = {\n",
    "    \"firstname\": [\"Sally\", \"Mary\", \"John\"],\n",
    "    \"age\": [50, 40, 30]\n",
    "}\n",
    "\n",
    "df = pd.DataFrame(data)\n",
    "\n",
    "for index, row in df.iterrows():\n",
    "    print(row[\"firstname\"])"
   ],
   "metadata": {
    "collapsed": false,
    "pycharm": {
     "name": "#%%\n"
    }
   }
  },
  {
   "cell_type": "code",
   "execution_count": 78,
   "outputs": [
    {
     "data": {
      "text/plain": "               0          1\n0       7.990228   8.990228\n1       7.630643   8.630643\n2       8.160099   9.160099\n3       8.490214   9.490214\n4       8.710023   9.710023\n...          ...        ...\n53935  11.530017  12.530017\n53936  11.560633  12.560633\n53937  11.380071  12.380071\n53938  12.210146  13.210146\n53939  11.780274  12.780274\n\n[53940 rows x 2 columns]",
      "text/html": "<div>\n<style scoped>\n    .dataframe tbody tr th:only-of-type {\n        vertical-align: middle;\n    }\n\n    .dataframe tbody tr th {\n        vertical-align: top;\n    }\n\n    .dataframe thead th {\n        text-align: right;\n    }\n</style>\n<table border=\"1\" class=\"dataframe\">\n  <thead>\n    <tr style=\"text-align: right;\">\n      <th></th>\n      <th>0</th>\n      <th>1</th>\n    </tr>\n  </thead>\n  <tbody>\n    <tr>\n      <th>0</th>\n      <td>7.990228</td>\n      <td>8.990228</td>\n    </tr>\n    <tr>\n      <th>1</th>\n      <td>7.630643</td>\n      <td>8.630643</td>\n    </tr>\n    <tr>\n      <th>2</th>\n      <td>8.160099</td>\n      <td>9.160099</td>\n    </tr>\n    <tr>\n      <th>3</th>\n      <td>8.490214</td>\n      <td>9.490214</td>\n    </tr>\n    <tr>\n      <th>4</th>\n      <td>8.710023</td>\n      <td>9.710023</td>\n    </tr>\n    <tr>\n      <th>...</th>\n      <td>...</td>\n      <td>...</td>\n    </tr>\n    <tr>\n      <th>53935</th>\n      <td>11.530017</td>\n      <td>12.530017</td>\n    </tr>\n    <tr>\n      <th>53936</th>\n      <td>11.560633</td>\n      <td>12.560633</td>\n    </tr>\n    <tr>\n      <th>53937</th>\n      <td>11.380071</td>\n      <td>12.380071</td>\n    </tr>\n    <tr>\n      <th>53938</th>\n      <td>12.210146</td>\n      <td>13.210146</td>\n    </tr>\n    <tr>\n      <th>53939</th>\n      <td>11.780274</td>\n      <td>12.780274</td>\n    </tr>\n  </tbody>\n</table>\n<p>53940 rows × 2 columns</p>\n</div>"
     },
     "execution_count": 78,
     "metadata": {},
     "output_type": "execute_result"
    }
   ],
   "source": [
    "diamonds.apply(lambda row: fn(row['x'],row['y']), axis = 1, result_type='expand')"
   ],
   "metadata": {
    "collapsed": false,
    "pycharm": {
     "name": "#%%\n"
    }
   }
  },
  {
   "cell_type": "code",
   "execution_count": 71,
   "outputs": [],
   "source": [
    "def fn(a,b):\n",
    "    if a*b != 0:\n",
    "        c = (a+b)/a*b\n",
    "        return c, c+1\n",
    "    if a*b == 0:\n",
    "        return 1 ,1"
   ],
   "metadata": {
    "collapsed": false,
    "pycharm": {
     "name": "#%%\n"
    }
   }
  },
  {
   "cell_type": "code",
   "execution_count": 90,
   "outputs": [],
   "source": [
    "def func2(row):\n",
    "    if (row['x'] * row['y']) != 0:\n",
    "        row['m'] =row['x']+row['y']/(row['x'] * row['y'])\n",
    "        row['w'] =row['x']-row['y']/(row['x'] * row['y'])\n",
    "        return row\n",
    "    else:\n",
    "        return row"
   ],
   "metadata": {
    "collapsed": false,
    "pycharm": {
     "name": "#%%\n"
    }
   }
  },
  {
   "cell_type": "code",
   "execution_count": 91,
   "outputs": [
    {
     "data": {
      "text/plain": "       carat clarity color        cut  depth         m  price  table  \\\n0       0.23     SI2     E      Ideal   61.5  4.203165    326   55.0   \n1       0.21     SI1     E    Premium   59.8  4.147069    326   61.0   \n2       0.23     VS1     E       Good   56.9  4.296914    327   65.0   \n3       0.29     VS2     I    Premium   62.4  4.438095    334   58.0   \n4       0.31     SI2     J       Good   63.3  4.570415    335   58.0   \n...      ...     ...   ...        ...    ...       ...    ...    ...   \n53935   0.72     SI1     D      Ideal   60.8  5.923913   2757   57.0   \n53936   0.72     SI1     D       Good   63.1  5.865747   2757   55.0   \n53937   0.70     SI1     D  Very Good   62.8  5.836678   2757   60.0   \n53938   0.86     SI2     H    Premium   61.0  6.312602   2757   58.0   \n53939   0.75     SI2     D      Ideal   62.2  6.001527   2757   55.0   \n\n              w     x     y     z  \n0      3.696835  3.95  3.98  2.43  \n1      3.632931  3.89  3.84  2.31  \n2      3.803086  4.05  4.07  2.31  \n3      3.961905  4.20  4.23  2.63  \n4      4.109585  4.34  4.35  2.75  \n...         ...   ...   ...   ...  \n53935  5.576087  5.75  5.76  3.50  \n53936  5.514253  5.69  5.75  3.61  \n53937  5.483322  5.66  5.68  3.56  \n53938  5.987398  6.15  6.12  3.74  \n53939  5.658473  5.83  5.87  3.64  \n\n[53940 rows x 12 columns]",
      "text/html": "<div>\n<style scoped>\n    .dataframe tbody tr th:only-of-type {\n        vertical-align: middle;\n    }\n\n    .dataframe tbody tr th {\n        vertical-align: top;\n    }\n\n    .dataframe thead th {\n        text-align: right;\n    }\n</style>\n<table border=\"1\" class=\"dataframe\">\n  <thead>\n    <tr style=\"text-align: right;\">\n      <th></th>\n      <th>carat</th>\n      <th>clarity</th>\n      <th>color</th>\n      <th>cut</th>\n      <th>depth</th>\n      <th>m</th>\n      <th>price</th>\n      <th>table</th>\n      <th>w</th>\n      <th>x</th>\n      <th>y</th>\n      <th>z</th>\n    </tr>\n  </thead>\n  <tbody>\n    <tr>\n      <th>0</th>\n      <td>0.23</td>\n      <td>SI2</td>\n      <td>E</td>\n      <td>Ideal</td>\n      <td>61.5</td>\n      <td>4.203165</td>\n      <td>326</td>\n      <td>55.0</td>\n      <td>3.696835</td>\n      <td>3.95</td>\n      <td>3.98</td>\n      <td>2.43</td>\n    </tr>\n    <tr>\n      <th>1</th>\n      <td>0.21</td>\n      <td>SI1</td>\n      <td>E</td>\n      <td>Premium</td>\n      <td>59.8</td>\n      <td>4.147069</td>\n      <td>326</td>\n      <td>61.0</td>\n      <td>3.632931</td>\n      <td>3.89</td>\n      <td>3.84</td>\n      <td>2.31</td>\n    </tr>\n    <tr>\n      <th>2</th>\n      <td>0.23</td>\n      <td>VS1</td>\n      <td>E</td>\n      <td>Good</td>\n      <td>56.9</td>\n      <td>4.296914</td>\n      <td>327</td>\n      <td>65.0</td>\n      <td>3.803086</td>\n      <td>4.05</td>\n      <td>4.07</td>\n      <td>2.31</td>\n    </tr>\n    <tr>\n      <th>3</th>\n      <td>0.29</td>\n      <td>VS2</td>\n      <td>I</td>\n      <td>Premium</td>\n      <td>62.4</td>\n      <td>4.438095</td>\n      <td>334</td>\n      <td>58.0</td>\n      <td>3.961905</td>\n      <td>4.20</td>\n      <td>4.23</td>\n      <td>2.63</td>\n    </tr>\n    <tr>\n      <th>4</th>\n      <td>0.31</td>\n      <td>SI2</td>\n      <td>J</td>\n      <td>Good</td>\n      <td>63.3</td>\n      <td>4.570415</td>\n      <td>335</td>\n      <td>58.0</td>\n      <td>4.109585</td>\n      <td>4.34</td>\n      <td>4.35</td>\n      <td>2.75</td>\n    </tr>\n    <tr>\n      <th>...</th>\n      <td>...</td>\n      <td>...</td>\n      <td>...</td>\n      <td>...</td>\n      <td>...</td>\n      <td>...</td>\n      <td>...</td>\n      <td>...</td>\n      <td>...</td>\n      <td>...</td>\n      <td>...</td>\n      <td>...</td>\n    </tr>\n    <tr>\n      <th>53935</th>\n      <td>0.72</td>\n      <td>SI1</td>\n      <td>D</td>\n      <td>Ideal</td>\n      <td>60.8</td>\n      <td>5.923913</td>\n      <td>2757</td>\n      <td>57.0</td>\n      <td>5.576087</td>\n      <td>5.75</td>\n      <td>5.76</td>\n      <td>3.50</td>\n    </tr>\n    <tr>\n      <th>53936</th>\n      <td>0.72</td>\n      <td>SI1</td>\n      <td>D</td>\n      <td>Good</td>\n      <td>63.1</td>\n      <td>5.865747</td>\n      <td>2757</td>\n      <td>55.0</td>\n      <td>5.514253</td>\n      <td>5.69</td>\n      <td>5.75</td>\n      <td>3.61</td>\n    </tr>\n    <tr>\n      <th>53937</th>\n      <td>0.70</td>\n      <td>SI1</td>\n      <td>D</td>\n      <td>Very Good</td>\n      <td>62.8</td>\n      <td>5.836678</td>\n      <td>2757</td>\n      <td>60.0</td>\n      <td>5.483322</td>\n      <td>5.66</td>\n      <td>5.68</td>\n      <td>3.56</td>\n    </tr>\n    <tr>\n      <th>53938</th>\n      <td>0.86</td>\n      <td>SI2</td>\n      <td>H</td>\n      <td>Premium</td>\n      <td>61.0</td>\n      <td>6.312602</td>\n      <td>2757</td>\n      <td>58.0</td>\n      <td>5.987398</td>\n      <td>6.15</td>\n      <td>6.12</td>\n      <td>3.74</td>\n    </tr>\n    <tr>\n      <th>53939</th>\n      <td>0.75</td>\n      <td>SI2</td>\n      <td>D</td>\n      <td>Ideal</td>\n      <td>62.2</td>\n      <td>6.001527</td>\n      <td>2757</td>\n      <td>55.0</td>\n      <td>5.658473</td>\n      <td>5.83</td>\n      <td>5.87</td>\n      <td>3.64</td>\n    </tr>\n  </tbody>\n</table>\n<p>53940 rows × 12 columns</p>\n</div>"
     },
     "execution_count": 91,
     "metadata": {},
     "output_type": "execute_result"
    }
   ],
   "source": [
    "diamonds.apply(func2, axis=1)"
   ],
   "metadata": {
    "collapsed": false,
    "pycharm": {
     "name": "#%%\n"
    }
   }
  }
 ],
 "metadata": {
  "kernelspec": {
   "display_name": "Python 3",
   "language": "python",
   "name": "python3"
  },
  "language_info": {
   "codemirror_mode": {
    "name": "ipython",
    "version": 2
   },
   "file_extension": ".py",
   "mimetype": "text/x-python",
   "name": "python",
   "nbconvert_exporter": "python",
   "pygments_lexer": "ipython2",
   "version": "2.7.6"
  }
 },
 "nbformat": 4,
 "nbformat_minor": 0
}
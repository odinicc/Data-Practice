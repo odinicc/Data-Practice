{
 "cells": [
  {
   "cell_type": "code",
   "execution_count": 1,
   "metadata": {
    "collapsed": true,
    "pycharm": {
     "name": "#%%\n"
    }
   },
   "outputs": [],
   "source": [
    "import pandas as pd"
   ]
  },
  {
   "cell_type": "code",
   "execution_count": 2,
   "outputs": [],
   "source": [
    "student_data = pd.DataFrame({\n",
    "    'school_code': ['s001','s002','s003','s001','s002','s004'],\n",
    "    'class': ['V', 'V', 'VI', 'VI', 'V', 'VI'],\n",
    "    'name': ['Alberto Franco','Gino Mcneill','Ryan Parkes', 'Eesha Hinton', 'Gino Mcneill', 'David Parkes'],\n",
    "    'date_Of_Birth ': ['15/05/2002','17/05/2002','16/02/1999','25/09/1998','11/05/2002','15/09/1997'],\n",
    "    'age': [12, 12, 13, 13, 14, 12],\n",
    "    'height': [173, 192, 186, 167, 151, 159],\n",
    "    'weight': [35, 32, 33, 30, 31, 32],\n",
    "    'address': ['street1', 'street2', 'street3', 'street1', 'street2', 'street4']},\n",
    "    index=['S1', 'S2', 'S3', 'S4', 'S5', 'S6'])"
   ],
   "metadata": {
    "collapsed": false,
    "pycharm": {
     "name": "#%%\n"
    }
   }
  },
  {
   "cell_type": "code",
   "execution_count": 5,
   "outputs": [],
   "source": [
    "result = student_data.groupby('school_code')"
   ],
   "metadata": {
    "collapsed": false,
    "pycharm": {
     "name": "#%%\n"
    }
   }
  },
  {
   "cell_type": "code",
   "execution_count": 8,
   "outputs": [
    {
     "data": {
      "text/plain": "   school_code class            name date_Of_Birth   age  height  weight  \\\nS1        s001     V  Alberto Franco     15/05/2002   12     173      35   \nS4        s001    VI    Eesha Hinton     25/09/1998   13     167      30   \n\n    address  \nS1  street1  \nS4  street1  ",
      "text/html": "<div>\n<style scoped>\n    .dataframe tbody tr th:only-of-type {\n        vertical-align: middle;\n    }\n\n    .dataframe tbody tr th {\n        vertical-align: top;\n    }\n\n    .dataframe thead th {\n        text-align: right;\n    }\n</style>\n<table border=\"1\" class=\"dataframe\">\n  <thead>\n    <tr style=\"text-align: right;\">\n      <th></th>\n      <th>school_code</th>\n      <th>class</th>\n      <th>name</th>\n      <th>date_Of_Birth</th>\n      <th>age</th>\n      <th>height</th>\n      <th>weight</th>\n      <th>address</th>\n    </tr>\n  </thead>\n  <tbody>\n    <tr>\n      <th>S1</th>\n      <td>s001</td>\n      <td>V</td>\n      <td>Alberto Franco</td>\n      <td>15/05/2002</td>\n      <td>12</td>\n      <td>173</td>\n      <td>35</td>\n      <td>street1</td>\n    </tr>\n    <tr>\n      <th>S4</th>\n      <td>s001</td>\n      <td>VI</td>\n      <td>Eesha Hinton</td>\n      <td>25/09/1998</td>\n      <td>13</td>\n      <td>167</td>\n      <td>30</td>\n      <td>street1</td>\n    </tr>\n  </tbody>\n</table>\n</div>"
     },
     "execution_count": 8,
     "metadata": {},
     "output_type": "execute_result"
    }
   ],
   "source": [
    "result.get_group('s001')"
   ],
   "metadata": {
    "collapsed": false,
    "pycharm": {
     "name": "#%%\n"
    }
   }
  },
  {
   "cell_type": "code",
   "execution_count": 9,
   "outputs": [
    {
     "name": "stdout",
     "output_type": "stream",
     "text": [
      "<class 'pandas.core.groupby.generic.DataFrameGroupBy'>\n"
     ]
    }
   ],
   "source": [
    "print(type(result))"
   ],
   "metadata": {
    "collapsed": false,
    "pycharm": {
     "name": "#%%\n"
    }
   }
  },
  {
   "cell_type": "markdown",
   "source": [
    "2. Write a Pandas program to split the following dataframe by school code and get mean, min, and max value of age for each school."
   ],
   "metadata": {
    "collapsed": false,
    "pycharm": {
     "name": "#%% md\n"
    }
   }
  },
  {
   "cell_type": "code",
   "execution_count": 11,
   "outputs": [
    {
     "data": {
      "text/plain": "  school_code age          \n              min max  mean\n0        s001  12  13  12.5\n1        s002  12  14  13.0\n2        s003  13  13  13.0\n3        s004  12  12  12.0",
      "text/html": "<div>\n<style scoped>\n    .dataframe tbody tr th:only-of-type {\n        vertical-align: middle;\n    }\n\n    .dataframe tbody tr th {\n        vertical-align: top;\n    }\n\n    .dataframe thead tr th {\n        text-align: left;\n    }\n</style>\n<table border=\"1\" class=\"dataframe\">\n  <thead>\n    <tr>\n      <th></th>\n      <th>school_code</th>\n      <th colspan=\"3\" halign=\"left\">age</th>\n    </tr>\n    <tr>\n      <th></th>\n      <th></th>\n      <th>min</th>\n      <th>max</th>\n      <th>mean</th>\n    </tr>\n  </thead>\n  <tbody>\n    <tr>\n      <th>0</th>\n      <td>s001</td>\n      <td>12</td>\n      <td>13</td>\n      <td>12.5</td>\n    </tr>\n    <tr>\n      <th>1</th>\n      <td>s002</td>\n      <td>12</td>\n      <td>14</td>\n      <td>13.0</td>\n    </tr>\n    <tr>\n      <th>2</th>\n      <td>s003</td>\n      <td>13</td>\n      <td>13</td>\n      <td>13.0</td>\n    </tr>\n    <tr>\n      <th>3</th>\n      <td>s004</td>\n      <td>12</td>\n      <td>12</td>\n      <td>12.0</td>\n    </tr>\n  </tbody>\n</table>\n</div>"
     },
     "execution_count": 11,
     "metadata": {},
     "output_type": "execute_result"
    }
   ],
   "source": [
    "result.agg({'age':['min','max','mean']}).reset_index()"
   ],
   "metadata": {
    "collapsed": false,
    "pycharm": {
     "name": "#%%\n"
    }
   }
  },
  {
   "cell_type": "markdown",
   "source": [
    "3. Write a Pandas program to split the following given dataframe into groups based on school code and class"
   ],
   "metadata": {
    "collapsed": false,
    "pycharm": {
     "name": "#%% md\n"
    }
   }
  },
  {
   "cell_type": "code",
   "execution_count": 14,
   "outputs": [],
   "source": [
    "result = student_data.groupby(['school_code','class'])"
   ],
   "metadata": {
    "collapsed": false,
    "pycharm": {
     "name": "#%%\n"
    }
   }
  },
  {
   "cell_type": "markdown",
   "source": [
    "4. Write a Pandas program to split the following given dataframe into groups based on school code and cast grouping as a list."
   ],
   "metadata": {
    "collapsed": false,
    "pycharm": {
     "name": "#%% md\n"
    }
   }
  },
  {
   "cell_type": "code",
   "execution_count": 17,
   "outputs": [
    {
     "name": "stdout",
     "output_type": "stream",
     "text": [
      "[(('s001', 'V'),    school_code class            name date_Of_Birth   age  height  weight  \\\n",
      "S1        s001     V  Alberto Franco     15/05/2002   12     173      35   \n",
      "\n",
      "    address  \n",
      "S1  street1  ), (('s001', 'VI'),    school_code class          name date_Of_Birth   age  height  weight  \\\n",
      "S4        s001    VI  Eesha Hinton     25/09/1998   13     167      30   \n",
      "\n",
      "    address  \n",
      "S4  street1  ), (('s002', 'V'),    school_code class          name date_Of_Birth   age  height  weight  \\\n",
      "S2        s002     V  Gino Mcneill     17/05/2002   12     192      32   \n",
      "S5        s002     V  Gino Mcneill     11/05/2002   14     151      31   \n",
      "\n",
      "    address  \n",
      "S2  street2  \n",
      "S5  street2  ), (('s003', 'VI'),    school_code class         name date_Of_Birth   age  height  weight  address\n",
      "S3        s003    VI  Ryan Parkes     16/02/1999   13     186      33  street3), (('s004', 'VI'),    school_code class          name date_Of_Birth   age  height  weight  \\\n",
      "S6        s004    VI  David Parkes     15/09/1997   12     159      32   \n",
      "\n",
      "    address  \n",
      "S6  street4  )]\n"
     ]
    }
   ],
   "source": [
    "print(list(result))"
   ],
   "metadata": {
    "collapsed": false,
    "pycharm": {
     "name": "#%%\n"
    }
   }
  },
  {
   "cell_type": "markdown",
   "source": [
    "6. Write a Pandas program to split the following given dataframe into groups based on school code and call a specific group with the name of the group."
   ],
   "metadata": {
    "collapsed": false,
    "pycharm": {
     "name": "#%% md\n"
    }
   }
  },
  {
   "cell_type": "code",
   "execution_count": 18,
   "outputs": [],
   "source": [
    "result = student_data.groupby('school_code')"
   ],
   "metadata": {
    "collapsed": false,
    "pycharm": {
     "name": "#%%\n"
    }
   }
  },
  {
   "cell_type": "code",
   "execution_count": 19,
   "outputs": [
    {
     "data": {
      "text/plain": "   school_code class            name date_Of_Birth   age  height  weight  \\\nS1        s001     V  Alberto Franco     15/05/2002   12     173      35   \nS4        s001    VI    Eesha Hinton     25/09/1998   13     167      30   \n\n    address  \nS1  street1  \nS4  street1  ",
      "text/html": "<div>\n<style scoped>\n    .dataframe tbody tr th:only-of-type {\n        vertical-align: middle;\n    }\n\n    .dataframe tbody tr th {\n        vertical-align: top;\n    }\n\n    .dataframe thead th {\n        text-align: right;\n    }\n</style>\n<table border=\"1\" class=\"dataframe\">\n  <thead>\n    <tr style=\"text-align: right;\">\n      <th></th>\n      <th>school_code</th>\n      <th>class</th>\n      <th>name</th>\n      <th>date_Of_Birth</th>\n      <th>age</th>\n      <th>height</th>\n      <th>weight</th>\n      <th>address</th>\n    </tr>\n  </thead>\n  <tbody>\n    <tr>\n      <th>S1</th>\n      <td>s001</td>\n      <td>V</td>\n      <td>Alberto Franco</td>\n      <td>15/05/2002</td>\n      <td>12</td>\n      <td>173</td>\n      <td>35</td>\n      <td>street1</td>\n    </tr>\n    <tr>\n      <th>S4</th>\n      <td>s001</td>\n      <td>VI</td>\n      <td>Eesha Hinton</td>\n      <td>25/09/1998</td>\n      <td>13</td>\n      <td>167</td>\n      <td>30</td>\n      <td>street1</td>\n    </tr>\n  </tbody>\n</table>\n</div>"
     },
     "execution_count": 19,
     "metadata": {},
     "output_type": "execute_result"
    }
   ],
   "source": [
    "result.get_group('s001')"
   ],
   "metadata": {
    "collapsed": false,
    "pycharm": {
     "name": "#%%\n"
    }
   }
  },
  {
   "cell_type": "code",
   "execution_count": null,
   "outputs": [],
   "source": [],
   "metadata": {
    "collapsed": false,
    "pycharm": {
     "name": "#%%\n"
    }
   }
  },
  {
   "cell_type": "code",
   "execution_count": 20,
   "outputs": [],
   "source": [
    "diamonds = pd.read_csv('https://raw.githubusercontent.com/mwaskom/seaborn-data/master/diamonds.csv')"
   ],
   "metadata": {
    "collapsed": false,
    "pycharm": {
     "name": "#%%\n"
    }
   }
  },
  {
   "cell_type": "code",
   "execution_count": 25,
   "outputs": [
    {
     "data": {
      "text/plain": "          cut color      depth\n0        Fair     D  64.048466\n1        Fair     E  63.319643\n2        Fair     F  63.508013\n3        Fair     G  64.339809\n4        Fair     H  64.585149\n5        Fair     I  64.220571\n6        Fair     J  64.357143\n7        Good     D  62.365710\n8        Good     E  62.203751\n9        Good     F  62.202310\n10       Good     G  62.526636\n11       Good     H  62.499573\n12       Good     I  62.475096\n13       Good     J  62.395765\n14      Ideal     D  61.678370\n15      Ideal     E  61.686677\n16      Ideal     F  61.675562\n17      Ideal     G  61.700164\n18      Ideal     H  61.733194\n19      Ideal     I  61.793598\n20      Ideal     J  61.821987\n21    Premium     D  61.169245\n22    Premium     E  61.175909\n23    Premium     F  61.259974\n24    Premium     G  61.279480\n25    Premium     H  61.322034\n26    Premium     I  61.328641\n27    Premium     J  61.390099\n28  Very Good     D  61.750165\n29  Very Good     E  61.730250\n30  Very Good     F  61.721627\n31  Very Good     G  61.841279\n32  Very Good     H  61.968366\n33  Very Good     I  61.934551\n34  Very Good     J  61.902065",
      "text/html": "<div>\n<style scoped>\n    .dataframe tbody tr th:only-of-type {\n        vertical-align: middle;\n    }\n\n    .dataframe tbody tr th {\n        vertical-align: top;\n    }\n\n    .dataframe thead th {\n        text-align: right;\n    }\n</style>\n<table border=\"1\" class=\"dataframe\">\n  <thead>\n    <tr style=\"text-align: right;\">\n      <th></th>\n      <th>cut</th>\n      <th>color</th>\n      <th>depth</th>\n    </tr>\n  </thead>\n  <tbody>\n    <tr>\n      <th>0</th>\n      <td>Fair</td>\n      <td>D</td>\n      <td>64.048466</td>\n    </tr>\n    <tr>\n      <th>1</th>\n      <td>Fair</td>\n      <td>E</td>\n      <td>63.319643</td>\n    </tr>\n    <tr>\n      <th>2</th>\n      <td>Fair</td>\n      <td>F</td>\n      <td>63.508013</td>\n    </tr>\n    <tr>\n      <th>3</th>\n      <td>Fair</td>\n      <td>G</td>\n      <td>64.339809</td>\n    </tr>\n    <tr>\n      <th>4</th>\n      <td>Fair</td>\n      <td>H</td>\n      <td>64.585149</td>\n    </tr>\n    <tr>\n      <th>5</th>\n      <td>Fair</td>\n      <td>I</td>\n      <td>64.220571</td>\n    </tr>\n    <tr>\n      <th>6</th>\n      <td>Fair</td>\n      <td>J</td>\n      <td>64.357143</td>\n    </tr>\n    <tr>\n      <th>7</th>\n      <td>Good</td>\n      <td>D</td>\n      <td>62.365710</td>\n    </tr>\n    <tr>\n      <th>8</th>\n      <td>Good</td>\n      <td>E</td>\n      <td>62.203751</td>\n    </tr>\n    <tr>\n      <th>9</th>\n      <td>Good</td>\n      <td>F</td>\n      <td>62.202310</td>\n    </tr>\n    <tr>\n      <th>10</th>\n      <td>Good</td>\n      <td>G</td>\n      <td>62.526636</td>\n    </tr>\n    <tr>\n      <th>11</th>\n      <td>Good</td>\n      <td>H</td>\n      <td>62.499573</td>\n    </tr>\n    <tr>\n      <th>12</th>\n      <td>Good</td>\n      <td>I</td>\n      <td>62.475096</td>\n    </tr>\n    <tr>\n      <th>13</th>\n      <td>Good</td>\n      <td>J</td>\n      <td>62.395765</td>\n    </tr>\n    <tr>\n      <th>14</th>\n      <td>Ideal</td>\n      <td>D</td>\n      <td>61.678370</td>\n    </tr>\n    <tr>\n      <th>15</th>\n      <td>Ideal</td>\n      <td>E</td>\n      <td>61.686677</td>\n    </tr>\n    <tr>\n      <th>16</th>\n      <td>Ideal</td>\n      <td>F</td>\n      <td>61.675562</td>\n    </tr>\n    <tr>\n      <th>17</th>\n      <td>Ideal</td>\n      <td>G</td>\n      <td>61.700164</td>\n    </tr>\n    <tr>\n      <th>18</th>\n      <td>Ideal</td>\n      <td>H</td>\n      <td>61.733194</td>\n    </tr>\n    <tr>\n      <th>19</th>\n      <td>Ideal</td>\n      <td>I</td>\n      <td>61.793598</td>\n    </tr>\n    <tr>\n      <th>20</th>\n      <td>Ideal</td>\n      <td>J</td>\n      <td>61.821987</td>\n    </tr>\n    <tr>\n      <th>21</th>\n      <td>Premium</td>\n      <td>D</td>\n      <td>61.169245</td>\n    </tr>\n    <tr>\n      <th>22</th>\n      <td>Premium</td>\n      <td>E</td>\n      <td>61.175909</td>\n    </tr>\n    <tr>\n      <th>23</th>\n      <td>Premium</td>\n      <td>F</td>\n      <td>61.259974</td>\n    </tr>\n    <tr>\n      <th>24</th>\n      <td>Premium</td>\n      <td>G</td>\n      <td>61.279480</td>\n    </tr>\n    <tr>\n      <th>25</th>\n      <td>Premium</td>\n      <td>H</td>\n      <td>61.322034</td>\n    </tr>\n    <tr>\n      <th>26</th>\n      <td>Premium</td>\n      <td>I</td>\n      <td>61.328641</td>\n    </tr>\n    <tr>\n      <th>27</th>\n      <td>Premium</td>\n      <td>J</td>\n      <td>61.390099</td>\n    </tr>\n    <tr>\n      <th>28</th>\n      <td>Very Good</td>\n      <td>D</td>\n      <td>61.750165</td>\n    </tr>\n    <tr>\n      <th>29</th>\n      <td>Very Good</td>\n      <td>E</td>\n      <td>61.730250</td>\n    </tr>\n    <tr>\n      <th>30</th>\n      <td>Very Good</td>\n      <td>F</td>\n      <td>61.721627</td>\n    </tr>\n    <tr>\n      <th>31</th>\n      <td>Very Good</td>\n      <td>G</td>\n      <td>61.841279</td>\n    </tr>\n    <tr>\n      <th>32</th>\n      <td>Very Good</td>\n      <td>H</td>\n      <td>61.968366</td>\n    </tr>\n    <tr>\n      <th>33</th>\n      <td>Very Good</td>\n      <td>I</td>\n      <td>61.934551</td>\n    </tr>\n    <tr>\n      <th>34</th>\n      <td>Very Good</td>\n      <td>J</td>\n      <td>61.902065</td>\n    </tr>\n  </tbody>\n</table>\n</div>"
     },
     "execution_count": 25,
     "metadata": {},
     "output_type": "execute_result"
    }
   ],
   "source": [
    "diamonds.groupby(['cut','color'], as_index = False).agg({'depth':'mean'})"
   ],
   "metadata": {
    "collapsed": false,
    "pycharm": {
     "name": "#%%\n"
    }
   }
  }
 ],
 "metadata": {
  "kernelspec": {
   "display_name": "Python 3",
   "language": "python",
   "name": "python3"
  },
  "language_info": {
   "codemirror_mode": {
    "name": "ipython",
    "version": 2
   },
   "file_extension": ".py",
   "mimetype": "text/x-python",
   "name": "python",
   "nbconvert_exporter": "python",
   "pygments_lexer": "ipython2",
   "version": "2.7.6"
  }
 },
 "nbformat": 4,
 "nbformat_minor": 0
}
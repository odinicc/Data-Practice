{
 "cells": [
  {
   "cell_type": "code",
   "execution_count": 3,
   "metadata": {
    "collapsed": true,
    "pycharm": {
     "name": "#%%\n"
    }
   },
   "outputs": [],
   "source": [
    "import pandas as pd\n",
    "import numpy as np"
   ]
  },
  {
   "cell_type": "markdown",
   "source": [
    "51. How to get the row number of the nth largest value in a column\n",
    "Find the row position of the 5th largest value of column 'a' in df.\n"
   ],
   "metadata": {
    "collapsed": false,
    "pycharm": {
     "name": "#%% md\n"
    }
   }
  },
  {
   "cell_type": "code",
   "execution_count": 4,
   "outputs": [],
   "source": [
    "df = pd.DataFrame(np.random.randint(1, 30, 30).reshape(10,-1), columns=list('abc'))\n"
   ],
   "metadata": {
    "collapsed": false,
    "pycharm": {
     "name": "#%%\n"
    }
   }
  },
  {
   "cell_type": "code",
   "execution_count": 7,
   "outputs": [
    {
     "data": {
      "text/plain": "4    29\n2    27\n0    26\n5    26\n3    20\nName: a, dtype: int32"
     },
     "execution_count": 7,
     "metadata": {},
     "output_type": "execute_result"
    }
   ],
   "source": [
    "df['a'].nlargest(5)"
   ],
   "metadata": {
    "collapsed": false,
    "pycharm": {
     "name": "#%%\n"
    }
   }
  },
  {
   "cell_type": "code",
   "execution_count": 13,
   "outputs": [
    {
     "data": {
      "text/plain": "20"
     },
     "execution_count": 13,
     "metadata": {},
     "output_type": "execute_result"
    }
   ],
   "source": [
    "df['a'].nlargest(5).min()"
   ],
   "metadata": {
    "collapsed": false,
    "pycharm": {
     "name": "#%%\n"
    }
   }
  },
  {
   "cell_type": "markdown",
   "source": [
    "52. How to find the position of the nth largest value greater than a given value\n",
    "In ser, find the position of the 2nd largest value greater than the mean."
   ],
   "metadata": {
    "collapsed": false,
    "pycharm": {
     "name": "#%% md\n"
    }
   }
  },
  {
   "cell_type": "code",
   "execution_count": 14,
   "outputs": [],
   "source": [
    "ser = pd.Series(np.random.randint(1, 100, 15))"
   ],
   "metadata": {
    "collapsed": false,
    "pycharm": {
     "name": "#%%\n"
    }
   }
  },
  {
   "cell_type": "code",
   "execution_count": 16,
   "outputs": [
    {
     "data": {
      "text/plain": "43.53333333333333"
     },
     "execution_count": 16,
     "metadata": {},
     "output_type": "execute_result"
    }
   ],
   "source": [
    "ser.mean()"
   ],
   "metadata": {
    "collapsed": false,
    "pycharm": {
     "name": "#%%\n"
    }
   }
  },
  {
   "cell_type": "code",
   "execution_count": 17,
   "outputs": [
    {
     "data": {
      "text/plain": "0     16\n1     96\n2     12\n3     57\n4     41\n5     26\n6      9\n7      3\n8     53\n9     78\n10    17\n11    89\n12    32\n13    60\n14    64\ndtype: int32"
     },
     "execution_count": 17,
     "metadata": {},
     "output_type": "execute_result"
    }
   ],
   "source": [
    "ser"
   ],
   "metadata": {
    "collapsed": false,
    "pycharm": {
     "name": "#%%\n"
    }
   }
  },
  {
   "cell_type": "code",
   "execution_count": 30,
   "outputs": [],
   "source": [
    "elem = ser.sort_values()[ser > ser.mean()].iloc[1]"
   ],
   "metadata": {
    "collapsed": false,
    "pycharm": {
     "name": "#%%\n"
    }
   }
  },
  {
   "cell_type": "code",
   "execution_count": 37,
   "outputs": [
    {
     "data": {
      "text/plain": "[3]"
     },
     "execution_count": 37,
     "metadata": {},
     "output_type": "execute_result"
    }
   ],
   "source": [
    "ser[ser == elem ].index.to_list()"
   ],
   "metadata": {
    "collapsed": false,
    "pycharm": {
     "name": "#%%\n"
    }
   }
  },
  {
   "cell_type": "markdown",
   "source": [
    "53. How to get the last n rows of a dataframe with row sum > 100\n",
    "Get the last two rows of df whose row sum is greater than 100."
   ],
   "metadata": {
    "collapsed": false,
    "pycharm": {
     "name": "#%% md\n"
    }
   }
  },
  {
   "cell_type": "code",
   "execution_count": 47,
   "outputs": [],
   "source": [
    "df = pd.DataFrame(np.random.randint(10, 40, 60).reshape(-1, 4))\n"
   ],
   "metadata": {
    "collapsed": false,
    "pycharm": {
     "name": "#%%\n"
    }
   }
  },
  {
   "cell_type": "code",
   "execution_count": 48,
   "outputs": [],
   "source": [
    "df['row_sum'] = df[0] + df[1] + df[2] + df[3]"
   ],
   "metadata": {
    "collapsed": false,
    "pycharm": {
     "name": "#%%\n"
    }
   }
  },
  {
   "cell_type": "code",
   "execution_count": 55,
   "outputs": [
    {
     "data": {
      "text/plain": "     0   1   2   3  row_sum\n2   30  22  38  32      122\n3   13  21  33  36      103\n9   31  33  39  20      123\n11  30  38  16  38      122",
      "text/html": "<div>\n<style scoped>\n    .dataframe tbody tr th:only-of-type {\n        vertical-align: middle;\n    }\n\n    .dataframe tbody tr th {\n        vertical-align: top;\n    }\n\n    .dataframe thead th {\n        text-align: right;\n    }\n</style>\n<table border=\"1\" class=\"dataframe\">\n  <thead>\n    <tr style=\"text-align: right;\">\n      <th></th>\n      <th>0</th>\n      <th>1</th>\n      <th>2</th>\n      <th>3</th>\n      <th>row_sum</th>\n    </tr>\n  </thead>\n  <tbody>\n    <tr>\n      <th>2</th>\n      <td>30</td>\n      <td>22</td>\n      <td>38</td>\n      <td>32</td>\n      <td>122</td>\n    </tr>\n    <tr>\n      <th>3</th>\n      <td>13</td>\n      <td>21</td>\n      <td>33</td>\n      <td>36</td>\n      <td>103</td>\n    </tr>\n    <tr>\n      <th>9</th>\n      <td>31</td>\n      <td>33</td>\n      <td>39</td>\n      <td>20</td>\n      <td>123</td>\n    </tr>\n    <tr>\n      <th>11</th>\n      <td>30</td>\n      <td>38</td>\n      <td>16</td>\n      <td>38</td>\n      <td>122</td>\n    </tr>\n  </tbody>\n</table>\n</div>"
     },
     "execution_count": 55,
     "metadata": {},
     "output_type": "execute_result"
    }
   ],
   "source": [
    "df[df['row_sum']>100].iloc[:-1]"
   ],
   "metadata": {
    "collapsed": false,
    "pycharm": {
     "name": "#%%\n"
    }
   }
  },
  {
   "cell_type": "code",
   "execution_count": 72,
   "outputs": [
    {
     "data": {
      "text/plain": "     0   1   2   3  row_sum\n9   31  33  39  20      123\n11  30  38  16  38      122\n14  27  30  26  19      102",
      "text/html": "<div>\n<style scoped>\n    .dataframe tbody tr th:only-of-type {\n        vertical-align: middle;\n    }\n\n    .dataframe tbody tr th {\n        vertical-align: top;\n    }\n\n    .dataframe thead th {\n        text-align: right;\n    }\n</style>\n<table border=\"1\" class=\"dataframe\">\n  <thead>\n    <tr style=\"text-align: right;\">\n      <th></th>\n      <th>0</th>\n      <th>1</th>\n      <th>2</th>\n      <th>3</th>\n      <th>row_sum</th>\n    </tr>\n  </thead>\n  <tbody>\n    <tr>\n      <th>9</th>\n      <td>31</td>\n      <td>33</td>\n      <td>39</td>\n      <td>20</td>\n      <td>123</td>\n    </tr>\n    <tr>\n      <th>11</th>\n      <td>30</td>\n      <td>38</td>\n      <td>16</td>\n      <td>38</td>\n      <td>122</td>\n    </tr>\n    <tr>\n      <th>14</th>\n      <td>27</td>\n      <td>30</td>\n      <td>26</td>\n      <td>19</td>\n      <td>102</td>\n    </tr>\n  </tbody>\n</table>\n</div>"
     },
     "execution_count": 72,
     "metadata": {},
     "output_type": "execute_result"
    }
   ],
   "source": [
    "df[df['row_sum']>100].iloc[-3:]"
   ],
   "metadata": {
    "collapsed": false,
    "pycharm": {
     "name": "#%%\n"
    }
   }
  },
  {
   "cell_type": "markdown",
   "source": [
    "54. How to find and cap outliers from a series or dataframe column\n",
    "Replace all values of ser in the lower 5%ile and greater than 95%ile with respective 5th and 95th %ile value."
   ],
   "metadata": {
    "collapsed": false,
    "pycharm": {
     "name": "#%% md\n"
    }
   }
  },
  {
   "cell_type": "code",
   "execution_count": 73,
   "outputs": [],
   "source": [
    "ser = pd.Series(np.logspace(-2, 2, 30))"
   ],
   "metadata": {
    "collapsed": false,
    "pycharm": {
     "name": "#%%\n"
    }
   }
  },
  {
   "cell_type": "code",
   "execution_count": 90,
   "outputs": [],
   "source": [
    "sder = ser.to_frame()\n",
    "sder.columns = ['data']"
   ],
   "metadata": {
    "collapsed": false,
    "pycharm": {
     "name": "#%%\n"
    }
   }
  },
  {
   "cell_type": "code",
   "execution_count": 91,
   "outputs": [],
   "source": [],
   "metadata": {
    "collapsed": false,
    "pycharm": {
     "name": "#%%\n"
    }
   }
  },
  {
   "cell_type": "code",
   "execution_count": 92,
   "outputs": [],
   "source": [
    "sder['segment'] = pd.qcut(sder['data'],4)"
   ],
   "metadata": {
    "collapsed": false,
    "pycharm": {
     "name": "#%%\n"
    }
   }
  },
  {
   "cell_type": "code",
   "execution_count": 93,
   "outputs": [
    {
     "data": {
      "text/plain": "          data                        segment\n0     0.010000  (0.009000000000000001, 0.101]\n1     0.013738  (0.009000000000000001, 0.101]\n2     0.018874  (0.009000000000000001, 0.101]\n3     0.025929  (0.009000000000000001, 0.101]\n4     0.035622  (0.009000000000000001, 0.101]\n5     0.048939  (0.009000000000000001, 0.101]\n6     0.067234  (0.009000000000000001, 0.101]\n7     0.092367  (0.009000000000000001, 0.101]\n8     0.126896                 (0.101, 1.013]\n9     0.174333                 (0.101, 1.013]\n10    0.239503                 (0.101, 1.013]\n11    0.329034                 (0.101, 1.013]\n12    0.452035                 (0.101, 1.013]\n13    0.621017                 (0.101, 1.013]\n14    0.853168                 (0.101, 1.013]\n15    1.172102                 (1.013, 10.09]\n16    1.610262                 (1.013, 10.09]\n17    2.212216                 (1.013, 10.09]\n18    3.039195                 (1.013, 10.09]\n19    4.175319                 (1.013, 10.09]\n20    5.736153                 (1.013, 10.09]\n21    7.880463                 (1.013, 10.09]\n22   10.826367                 (10.09, 100.0]\n23   14.873521                 (10.09, 100.0]\n24   20.433597                 (10.09, 100.0]\n25   28.072162                 (10.09, 100.0]\n26   38.566204                 (10.09, 100.0]\n27   52.983169                 (10.09, 100.0]\n28   72.789538                 (10.09, 100.0]\n29  100.000000                 (10.09, 100.0]",
      "text/html": "<div>\n<style scoped>\n    .dataframe tbody tr th:only-of-type {\n        vertical-align: middle;\n    }\n\n    .dataframe tbody tr th {\n        vertical-align: top;\n    }\n\n    .dataframe thead th {\n        text-align: right;\n    }\n</style>\n<table border=\"1\" class=\"dataframe\">\n  <thead>\n    <tr style=\"text-align: right;\">\n      <th></th>\n      <th>data</th>\n      <th>segment</th>\n    </tr>\n  </thead>\n  <tbody>\n    <tr>\n      <th>0</th>\n      <td>0.010000</td>\n      <td>(0.009000000000000001, 0.101]</td>\n    </tr>\n    <tr>\n      <th>1</th>\n      <td>0.013738</td>\n      <td>(0.009000000000000001, 0.101]</td>\n    </tr>\n    <tr>\n      <th>2</th>\n      <td>0.018874</td>\n      <td>(0.009000000000000001, 0.101]</td>\n    </tr>\n    <tr>\n      <th>3</th>\n      <td>0.025929</td>\n      <td>(0.009000000000000001, 0.101]</td>\n    </tr>\n    <tr>\n      <th>4</th>\n      <td>0.035622</td>\n      <td>(0.009000000000000001, 0.101]</td>\n    </tr>\n    <tr>\n      <th>5</th>\n      <td>0.048939</td>\n      <td>(0.009000000000000001, 0.101]</td>\n    </tr>\n    <tr>\n      <th>6</th>\n      <td>0.067234</td>\n      <td>(0.009000000000000001, 0.101]</td>\n    </tr>\n    <tr>\n      <th>7</th>\n      <td>0.092367</td>\n      <td>(0.009000000000000001, 0.101]</td>\n    </tr>\n    <tr>\n      <th>8</th>\n      <td>0.126896</td>\n      <td>(0.101, 1.013]</td>\n    </tr>\n    <tr>\n      <th>9</th>\n      <td>0.174333</td>\n      <td>(0.101, 1.013]</td>\n    </tr>\n    <tr>\n      <th>10</th>\n      <td>0.239503</td>\n      <td>(0.101, 1.013]</td>\n    </tr>\n    <tr>\n      <th>11</th>\n      <td>0.329034</td>\n      <td>(0.101, 1.013]</td>\n    </tr>\n    <tr>\n      <th>12</th>\n      <td>0.452035</td>\n      <td>(0.101, 1.013]</td>\n    </tr>\n    <tr>\n      <th>13</th>\n      <td>0.621017</td>\n      <td>(0.101, 1.013]</td>\n    </tr>\n    <tr>\n      <th>14</th>\n      <td>0.853168</td>\n      <td>(0.101, 1.013]</td>\n    </tr>\n    <tr>\n      <th>15</th>\n      <td>1.172102</td>\n      <td>(1.013, 10.09]</td>\n    </tr>\n    <tr>\n      <th>16</th>\n      <td>1.610262</td>\n      <td>(1.013, 10.09]</td>\n    </tr>\n    <tr>\n      <th>17</th>\n      <td>2.212216</td>\n      <td>(1.013, 10.09]</td>\n    </tr>\n    <tr>\n      <th>18</th>\n      <td>3.039195</td>\n      <td>(1.013, 10.09]</td>\n    </tr>\n    <tr>\n      <th>19</th>\n      <td>4.175319</td>\n      <td>(1.013, 10.09]</td>\n    </tr>\n    <tr>\n      <th>20</th>\n      <td>5.736153</td>\n      <td>(1.013, 10.09]</td>\n    </tr>\n    <tr>\n      <th>21</th>\n      <td>7.880463</td>\n      <td>(1.013, 10.09]</td>\n    </tr>\n    <tr>\n      <th>22</th>\n      <td>10.826367</td>\n      <td>(10.09, 100.0]</td>\n    </tr>\n    <tr>\n      <th>23</th>\n      <td>14.873521</td>\n      <td>(10.09, 100.0]</td>\n    </tr>\n    <tr>\n      <th>24</th>\n      <td>20.433597</td>\n      <td>(10.09, 100.0]</td>\n    </tr>\n    <tr>\n      <th>25</th>\n      <td>28.072162</td>\n      <td>(10.09, 100.0]</td>\n    </tr>\n    <tr>\n      <th>26</th>\n      <td>38.566204</td>\n      <td>(10.09, 100.0]</td>\n    </tr>\n    <tr>\n      <th>27</th>\n      <td>52.983169</td>\n      <td>(10.09, 100.0]</td>\n    </tr>\n    <tr>\n      <th>28</th>\n      <td>72.789538</td>\n      <td>(10.09, 100.0]</td>\n    </tr>\n    <tr>\n      <th>29</th>\n      <td>100.000000</td>\n      <td>(10.09, 100.0]</td>\n    </tr>\n  </tbody>\n</table>\n</div>"
     },
     "execution_count": 93,
     "metadata": {},
     "output_type": "execute_result"
    }
   ],
   "source": [
    "sder"
   ],
   "metadata": {
    "collapsed": false,
    "pycharm": {
     "name": "#%%\n"
    }
   }
  }
 ],
 "metadata": {
  "kernelspec": {
   "display_name": "Python 3",
   "language": "python",
   "name": "python3"
  },
  "language_info": {
   "codemirror_mode": {
    "name": "ipython",
    "version": 2
   },
   "file_extension": ".py",
   "mimetype": "text/x-python",
   "name": "python",
   "nbconvert_exporter": "python",
   "pygments_lexer": "ipython2",
   "version": "2.7.6"
  }
 },
 "nbformat": 4,
 "nbformat_minor": 0
}
{
 "cells": [
  {
   "cell_type": "code",
   "execution_count": 3,
   "metadata": {
    "collapsed": true,
    "pycharm": {
     "name": "#%%\n"
    }
   },
   "outputs": [],
   "source": [
    "import pandas as pd\n",
    "import numpy as np"
   ]
  },
  {
   "cell_type": "markdown",
   "source": [
    "51. How to get the row number of the nth largest value in a column\n",
    "Find the row position of the 5th largest value of column 'a' in df.\n"
   ],
   "metadata": {
    "collapsed": false,
    "pycharm": {
     "name": "#%% md\n"
    }
   }
  },
  {
   "cell_type": "code",
   "execution_count": 4,
   "outputs": [],
   "source": [
    "df = pd.DataFrame(np.random.randint(1, 30, 30).reshape(10,-1), columns=list('abc'))\n"
   ],
   "metadata": {
    "collapsed": false,
    "pycharm": {
     "name": "#%%\n"
    }
   }
  },
  {
   "cell_type": "code",
   "execution_count": 7,
   "outputs": [
    {
     "data": {
      "text/plain": "4    29\n2    27\n0    26\n5    26\n3    20\nName: a, dtype: int32"
     },
     "execution_count": 7,
     "metadata": {},
     "output_type": "execute_result"
    }
   ],
   "source": [
    "df['a'].nlargest(5)"
   ],
   "metadata": {
    "collapsed": false,
    "pycharm": {
     "name": "#%%\n"
    }
   }
  },
  {
   "cell_type": "code",
   "execution_count": 13,
   "outputs": [
    {
     "data": {
      "text/plain": "20"
     },
     "execution_count": 13,
     "metadata": {},
     "output_type": "execute_result"
    }
   ],
   "source": [
    "df['a'].nlargest(5).min()"
   ],
   "metadata": {
    "collapsed": false,
    "pycharm": {
     "name": "#%%\n"
    }
   }
  },
  {
   "cell_type": "markdown",
   "source": [
    "52. How to find the position of the nth largest value greater than a given value\n",
    "In ser, find the position of the 2nd largest value greater than the mean."
   ],
   "metadata": {
    "collapsed": false,
    "pycharm": {
     "name": "#%% md\n"
    }
   }
  },
  {
   "cell_type": "code",
   "execution_count": 14,
   "outputs": [],
   "source": [
    "ser = pd.Series(np.random.randint(1, 100, 15))"
   ],
   "metadata": {
    "collapsed": false,
    "pycharm": {
     "name": "#%%\n"
    }
   }
  },
  {
   "cell_type": "code",
   "execution_count": 16,
   "outputs": [
    {
     "data": {
      "text/plain": "43.53333333333333"
     },
     "execution_count": 16,
     "metadata": {},
     "output_type": "execute_result"
    }
   ],
   "source": [
    "ser.mean()"
   ],
   "metadata": {
    "collapsed": false,
    "pycharm": {
     "name": "#%%\n"
    }
   }
  },
  {
   "cell_type": "code",
   "execution_count": 17,
   "outputs": [
    {
     "data": {
      "text/plain": "0     16\n1     96\n2     12\n3     57\n4     41\n5     26\n6      9\n7      3\n8     53\n9     78\n10    17\n11    89\n12    32\n13    60\n14    64\ndtype: int32"
     },
     "execution_count": 17,
     "metadata": {},
     "output_type": "execute_result"
    }
   ],
   "source": [
    "ser"
   ],
   "metadata": {
    "collapsed": false,
    "pycharm": {
     "name": "#%%\n"
    }
   }
  },
  {
   "cell_type": "code",
   "execution_count": 30,
   "outputs": [],
   "source": [
    "elem = ser.sort_values()[ser > ser.mean()].iloc[1]"
   ],
   "metadata": {
    "collapsed": false,
    "pycharm": {
     "name": "#%%\n"
    }
   }
  },
  {
   "cell_type": "code",
   "execution_count": 37,
   "outputs": [
    {
     "data": {
      "text/plain": "[3]"
     },
     "execution_count": 37,
     "metadata": {},
     "output_type": "execute_result"
    }
   ],
   "source": [
    "ser[ser == elem ].index.to_list()"
   ],
   "metadata": {
    "collapsed": false,
    "pycharm": {
     "name": "#%%\n"
    }
   }
  },
  {
   "cell_type": "markdown",
   "source": [
    "53. How to get the last n rows of a dataframe with row sum > 100\n",
    "Get the last two rows of df whose row sum is greater than 100."
   ],
   "metadata": {
    "collapsed": false,
    "pycharm": {
     "name": "#%% md\n"
    }
   }
  },
  {
   "cell_type": "code",
   "execution_count": 47,
   "outputs": [],
   "source": [
    "df = pd.DataFrame(np.random.randint(10, 40, 60).reshape(-1, 4))\n"
   ],
   "metadata": {
    "collapsed": false,
    "pycharm": {
     "name": "#%%\n"
    }
   }
  },
  {
   "cell_type": "code",
   "execution_count": 48,
   "outputs": [],
   "source": [
    "df['row_sum'] = df[0] + df[1] + df[2] + df[3]"
   ],
   "metadata": {
    "collapsed": false,
    "pycharm": {
     "name": "#%%\n"
    }
   }
  },
  {
   "cell_type": "code",
   "execution_count": 55,
   "outputs": [
    {
     "data": {
      "text/plain": "     0   1   2   3  row_sum\n2   30  22  38  32      122\n3   13  21  33  36      103\n9   31  33  39  20      123\n11  30  38  16  38      122",
      "text/html": "<div>\n<style scoped>\n    .dataframe tbody tr th:only-of-type {\n        vertical-align: middle;\n    }\n\n    .dataframe tbody tr th {\n        vertical-align: top;\n    }\n\n    .dataframe thead th {\n        text-align: right;\n    }\n</style>\n<table border=\"1\" class=\"dataframe\">\n  <thead>\n    <tr style=\"text-align: right;\">\n      <th></th>\n      <th>0</th>\n      <th>1</th>\n      <th>2</th>\n      <th>3</th>\n      <th>row_sum</th>\n    </tr>\n  </thead>\n  <tbody>\n    <tr>\n      <th>2</th>\n      <td>30</td>\n      <td>22</td>\n      <td>38</td>\n      <td>32</td>\n      <td>122</td>\n    </tr>\n    <tr>\n      <th>3</th>\n      <td>13</td>\n      <td>21</td>\n      <td>33</td>\n      <td>36</td>\n      <td>103</td>\n    </tr>\n    <tr>\n      <th>9</th>\n      <td>31</td>\n      <td>33</td>\n      <td>39</td>\n      <td>20</td>\n      <td>123</td>\n    </tr>\n    <tr>\n      <th>11</th>\n      <td>30</td>\n      <td>38</td>\n      <td>16</td>\n      <td>38</td>\n      <td>122</td>\n    </tr>\n  </tbody>\n</table>\n</div>"
     },
     "execution_count": 55,
     "metadata": {},
     "output_type": "execute_result"
    }
   ],
   "source": [
    "df[df['row_sum']>100].iloc[:-1]"
   ],
   "metadata": {
    "collapsed": false,
    "pycharm": {
     "name": "#%%\n"
    }
   }
  },
  {
   "cell_type": "code",
   "execution_count": 72,
   "outputs": [
    {
     "data": {
      "text/plain": "     0   1   2   3  row_sum\n9   31  33  39  20      123\n11  30  38  16  38      122\n14  27  30  26  19      102",
      "text/html": "<div>\n<style scoped>\n    .dataframe tbody tr th:only-of-type {\n        vertical-align: middle;\n    }\n\n    .dataframe tbody tr th {\n        vertical-align: top;\n    }\n\n    .dataframe thead th {\n        text-align: right;\n    }\n</style>\n<table border=\"1\" class=\"dataframe\">\n  <thead>\n    <tr style=\"text-align: right;\">\n      <th></th>\n      <th>0</th>\n      <th>1</th>\n      <th>2</th>\n      <th>3</th>\n      <th>row_sum</th>\n    </tr>\n  </thead>\n  <tbody>\n    <tr>\n      <th>9</th>\n      <td>31</td>\n      <td>33</td>\n      <td>39</td>\n      <td>20</td>\n      <td>123</td>\n    </tr>\n    <tr>\n      <th>11</th>\n      <td>30</td>\n      <td>38</td>\n      <td>16</td>\n      <td>38</td>\n      <td>122</td>\n    </tr>\n    <tr>\n      <th>14</th>\n      <td>27</td>\n      <td>30</td>\n      <td>26</td>\n      <td>19</td>\n      <td>102</td>\n    </tr>\n  </tbody>\n</table>\n</div>"
     },
     "execution_count": 72,
     "metadata": {},
     "output_type": "execute_result"
    }
   ],
   "source": [
    "df[df['row_sum']>100].iloc[-3:]"
   ],
   "metadata": {
    "collapsed": false,
    "pycharm": {
     "name": "#%%\n"
    }
   }
  },
  {
   "cell_type": "markdown",
   "source": [
    "54. How to find and cap outliers from a series or dataframe column\n",
    "Replace all values of ser in the lower 5%ile and greater than 95%ile with respective 5th and 95th %ile value."
   ],
   "metadata": {
    "collapsed": false,
    "pycharm": {
     "name": "#%% md\n"
    }
   }
  },
  {
   "cell_type": "code",
   "execution_count": 73,
   "outputs": [],
   "source": [
    "ser = pd.Series(np.logspace(-2, 2, 30))"
   ],
   "metadata": {
    "collapsed": false,
    "pycharm": {
     "name": "#%%\n"
    }
   }
  },
  {
   "cell_type": "code",
   "execution_count": 90,
   "outputs": [],
   "source": [
    "sder = ser.to_frame()\n",
    "sder.columns = ['data']"
   ],
   "metadata": {
    "collapsed": false,
    "pycharm": {
     "name": "#%%\n"
    }
   }
  },
  {
   "cell_type": "code",
   "execution_count": 91,
   "outputs": [],
   "source": [],
   "metadata": {
    "collapsed": false,
    "pycharm": {
     "name": "#%%\n"
    }
   }
  },
  {
   "cell_type": "code",
   "execution_count": 96,
   "outputs": [],
   "source": [
    "sder['segment'] = pd.qcut(sder['data'],20, labels=False)"
   ],
   "metadata": {
    "collapsed": false,
    "pycharm": {
     "name": "#%%\n"
    }
   }
  },
  {
   "cell_type": "code",
   "execution_count": 103,
   "outputs": [],
   "source": [
    "mean_sder =  sder[sder['segment'] == 19]['data'].mean()"
   ],
   "metadata": {
    "collapsed": false,
    "pycharm": {
     "name": "#%%\n"
    }
   }
  },
  {
   "cell_type": "code",
   "execution_count": 104,
   "outputs": [
    {
     "data": {
      "text/plain": "86.39476921991573"
     },
     "execution_count": 104,
     "metadata": {},
     "output_type": "execute_result"
    }
   ],
   "source": [
    "mean_sder"
   ],
   "metadata": {
    "collapsed": false,
    "pycharm": {
     "name": "#%%\n"
    }
   }
  },
  {
   "cell_type": "code",
   "execution_count": 106,
   "outputs": [
    {
     "name": "stderr",
     "output_type": "stream",
     "text": [
      "C:\\Temp\\ipykernel_6280\\3744192986.py:1: SettingWithCopyWarning: \n",
      "A value is trying to be set on a copy of a slice from a DataFrame.\n",
      "Try using .loc[row_indexer,col_indexer] = value instead\n",
      "\n",
      "See the caveats in the documentation: https://pandas.pydata.org/pandas-docs/stable/user_guide/indexing.html#returning-a-view-versus-a-copy\n",
      "  sder[sder['segment'] == 19]['data'] = mean_sder\n"
     ]
    }
   ],
   "source": [
    "sder[sder['segment'] == 19]['data'] = mean_sder"
   ],
   "metadata": {
    "collapsed": false,
    "pycharm": {
     "name": "#%%\n"
    }
   }
  },
  {
   "cell_type": "code",
   "execution_count": null,
   "outputs": [],
   "source": [
    "df1.loc[df1['stream'] == 2, ['feat','another_feat']] = 'aaaa'"
   ],
   "metadata": {
    "collapsed": false,
    "pycharm": {
     "name": "#%%\n"
    }
   }
  },
  {
   "cell_type": "code",
   "execution_count": 108,
   "outputs": [],
   "source": [
    "sder.loc[sder['segment'] == 19,'data'] = mean_sder"
   ],
   "metadata": {
    "collapsed": false,
    "pycharm": {
     "name": "#%%\n"
    }
   }
  },
  {
   "cell_type": "markdown",
   "source": [
    "55. How to reshape a dataframe to the largest possible square after removing the negative values\n",
    "Reshape df to the largest possible square with negative values removed. Drop the smallest values if need be.\n",
    "The order of the positive numbers in the result should remain the same as the original."
   ],
   "metadata": {
    "collapsed": false,
    "pycharm": {
     "name": "#%% md\n"
    }
   }
  },
  {
   "cell_type": "code",
   "execution_count": 109,
   "outputs": [],
   "source": [
    "df = pd.DataFrame(np.random.randint(-20, 50, 100).reshape(10,-1))\n"
   ],
   "metadata": {
    "collapsed": false,
    "pycharm": {
     "name": "#%%\n"
    }
   }
  },
  {
   "cell_type": "code",
   "execution_count": 155,
   "outputs": [
    {
     "data": {
      "text/plain": "    0   1   2   3   4   5   6   7   8   9\n0  41   3  36  49  23  21  19  -7   0  12\n1  -9  36  20  -8 -14  23 -11  44  20  31\n2  21  -2 -15  -9 -17  26  24  14  37  35\n3  -4  -7  18   3   0 -10  36   1  36  47\n4  47  48  31   2  28 -16   8  40  45   8\n5  20 -12  35 -10 -18   0   8  29  34  44\n6  15  44   9  48  34  41  -3  38  28  49\n7   4  -9  39  11   2  23  37  29  32  21\n8  44  36  32  32   7  39  46   3  46  11\n9  20  37 -20   8  45  -7   1  25  -3  36",
      "text/html": "<div>\n<style scoped>\n    .dataframe tbody tr th:only-of-type {\n        vertical-align: middle;\n    }\n\n    .dataframe tbody tr th {\n        vertical-align: top;\n    }\n\n    .dataframe thead th {\n        text-align: right;\n    }\n</style>\n<table border=\"1\" class=\"dataframe\">\n  <thead>\n    <tr style=\"text-align: right;\">\n      <th></th>\n      <th>0</th>\n      <th>1</th>\n      <th>2</th>\n      <th>3</th>\n      <th>4</th>\n      <th>5</th>\n      <th>6</th>\n      <th>7</th>\n      <th>8</th>\n      <th>9</th>\n    </tr>\n  </thead>\n  <tbody>\n    <tr>\n      <th>0</th>\n      <td>41</td>\n      <td>3</td>\n      <td>36</td>\n      <td>49</td>\n      <td>23</td>\n      <td>21</td>\n      <td>19</td>\n      <td>-7</td>\n      <td>0</td>\n      <td>12</td>\n    </tr>\n    <tr>\n      <th>1</th>\n      <td>-9</td>\n      <td>36</td>\n      <td>20</td>\n      <td>-8</td>\n      <td>-14</td>\n      <td>23</td>\n      <td>-11</td>\n      <td>44</td>\n      <td>20</td>\n      <td>31</td>\n    </tr>\n    <tr>\n      <th>2</th>\n      <td>21</td>\n      <td>-2</td>\n      <td>-15</td>\n      <td>-9</td>\n      <td>-17</td>\n      <td>26</td>\n      <td>24</td>\n      <td>14</td>\n      <td>37</td>\n      <td>35</td>\n    </tr>\n    <tr>\n      <th>3</th>\n      <td>-4</td>\n      <td>-7</td>\n      <td>18</td>\n      <td>3</td>\n      <td>0</td>\n      <td>-10</td>\n      <td>36</td>\n      <td>1</td>\n      <td>36</td>\n      <td>47</td>\n    </tr>\n    <tr>\n      <th>4</th>\n      <td>47</td>\n      <td>48</td>\n      <td>31</td>\n      <td>2</td>\n      <td>28</td>\n      <td>-16</td>\n      <td>8</td>\n      <td>40</td>\n      <td>45</td>\n      <td>8</td>\n    </tr>\n    <tr>\n      <th>5</th>\n      <td>20</td>\n      <td>-12</td>\n      <td>35</td>\n      <td>-10</td>\n      <td>-18</td>\n      <td>0</td>\n      <td>8</td>\n      <td>29</td>\n      <td>34</td>\n      <td>44</td>\n    </tr>\n    <tr>\n      <th>6</th>\n      <td>15</td>\n      <td>44</td>\n      <td>9</td>\n      <td>48</td>\n      <td>34</td>\n      <td>41</td>\n      <td>-3</td>\n      <td>38</td>\n      <td>28</td>\n      <td>49</td>\n    </tr>\n    <tr>\n      <th>7</th>\n      <td>4</td>\n      <td>-9</td>\n      <td>39</td>\n      <td>11</td>\n      <td>2</td>\n      <td>23</td>\n      <td>37</td>\n      <td>29</td>\n      <td>32</td>\n      <td>21</td>\n    </tr>\n    <tr>\n      <th>8</th>\n      <td>44</td>\n      <td>36</td>\n      <td>32</td>\n      <td>32</td>\n      <td>7</td>\n      <td>39</td>\n      <td>46</td>\n      <td>3</td>\n      <td>46</td>\n      <td>11</td>\n    </tr>\n    <tr>\n      <th>9</th>\n      <td>20</td>\n      <td>37</td>\n      <td>-20</td>\n      <td>8</td>\n      <td>45</td>\n      <td>-7</td>\n      <td>1</td>\n      <td>25</td>\n      <td>-3</td>\n      <td>36</td>\n    </tr>\n  </tbody>\n</table>\n</div>"
     },
     "execution_count": 155,
     "metadata": {},
     "output_type": "execute_result"
    }
   ],
   "source": [
    "df"
   ],
   "metadata": {
    "collapsed": false,
    "pycharm": {
     "name": "#%%\n"
    }
   }
  },
  {
   "cell_type": "code",
   "execution_count": 119,
   "outputs": [],
   "source": [
    " col_list = list(df.columns.values)"
   ],
   "metadata": {
    "collapsed": false,
    "pycharm": {
     "name": "#%%\n"
    }
   }
  },
  {
   "cell_type": "code",
   "execution_count": 130,
   "outputs": [],
   "source": [
    "sup_lis = []"
   ],
   "metadata": {
    "collapsed": false,
    "pycharm": {
     "name": "#%%\n"
    }
   }
  },
  {
   "cell_type": "code",
   "execution_count": 131,
   "outputs": [],
   "source": [
    "for col_name in col_list:\n",
    "    sup_lis.extend(df[col_name].tolist())"
   ],
   "metadata": {
    "collapsed": false,
    "pycharm": {
     "name": "#%%\n"
    }
   }
  },
  {
   "cell_type": "code",
   "execution_count": 135,
   "outputs": [
    {
     "data": {
      "text/plain": "[41,\n -9,\n 21,\n -4,\n 47,\n 20,\n 15,\n 4,\n 44,\n 20,\n 3,\n 36,\n -2,\n -7,\n 48,\n -12,\n 44,\n -9,\n 36,\n 37,\n 36,\n 20,\n -15,\n 18,\n 31,\n 35,\n 9,\n 39,\n 32,\n -20,\n 49,\n -8,\n -9,\n 3,\n 2,\n -10,\n 48,\n 11,\n 32,\n 8,\n 23,\n -14,\n -17,\n 0,\n 28,\n -18,\n 34,\n 2,\n 7,\n 45,\n 21,\n 23,\n 26,\n -10,\n -16,\n 0,\n 41,\n 23,\n 39,\n -7,\n 19,\n -11,\n 24,\n 36,\n 8,\n 8,\n -3,\n 37,\n 46,\n 1,\n -7,\n 44,\n 14,\n 1,\n 40,\n 29,\n 38,\n 29,\n 3,\n 25,\n 0,\n 20,\n 37,\n 36,\n 45,\n 34,\n 28,\n 32,\n 46,\n -3,\n 12,\n 31,\n 35,\n 47,\n 8,\n 44,\n 49,\n 21,\n 11,\n 36]"
     },
     "execution_count": 135,
     "metadata": {},
     "output_type": "execute_result"
    }
   ],
   "source": [
    "sup_lis"
   ],
   "metadata": {
    "collapsed": false,
    "pycharm": {
     "name": "#%%\n"
    }
   }
  },
  {
   "cell_type": "code",
   "execution_count": 136,
   "outputs": [],
   "source": [
    "new_list = [item for item in sup_lis if item > 0]"
   ],
   "metadata": {
    "collapsed": false,
    "pycharm": {
     "name": "#%%\n"
    }
   }
  },
  {
   "cell_type": "code",
   "execution_count": 145,
   "outputs": [],
   "source": [
    "target_size = int(len(new_list) ** 0.5)\n"
   ],
   "metadata": {
    "collapsed": false,
    "pycharm": {
     "name": "#%%\n"
    }
   }
  },
  {
   "cell_type": "code",
   "execution_count": 149,
   "outputs": [],
   "source": [
    "new_list_sorted = sorted(new_list)"
   ],
   "metadata": {
    "collapsed": false,
    "pycharm": {
     "name": "#%%\n"
    }
   }
  },
  {
   "cell_type": "code",
   "execution_count": 152,
   "outputs": [],
   "source": [
    "target_list = new_list_sorted[0:target_size ** 2]"
   ],
   "metadata": {
    "collapsed": false,
    "pycharm": {
     "name": "#%%\n"
    }
   }
  },
  {
   "cell_type": "code",
   "execution_count": 156,
   "outputs": [
    {
     "name": "stdout",
     "output_type": "stream",
     "text": [
      "64\n"
     ]
    }
   ],
   "source": [
    "print(len(target_list))"
   ],
   "metadata": {
    "collapsed": false,
    "pycharm": {
     "name": "#%%\n"
    }
   }
  },
  {
   "cell_type": "code",
   "execution_count": 163,
   "outputs": [],
   "source": [
    "target_dataframe = pd.DataFrame(np.reshape(target_list, (target_size, target_size)))"
   ],
   "metadata": {
    "collapsed": false,
    "pycharm": {
     "name": "#%%\n"
    }
   }
  }
 ],
 "metadata": {
  "kernelspec": {
   "display_name": "Python 3",
   "language": "python",
   "name": "python3"
  },
  "language_info": {
   "codemirror_mode": {
    "name": "ipython",
    "version": 2
   },
   "file_extension": ".py",
   "mimetype": "text/x-python",
   "name": "python",
   "nbconvert_exporter": "python",
   "pygments_lexer": "ipython2",
   "version": "2.7.6"
  }
 },
 "nbformat": 4,
 "nbformat_minor": 0
}
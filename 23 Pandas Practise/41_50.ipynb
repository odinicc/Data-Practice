{
 "cells": [
  {
   "cell_type": "code",
   "execution_count": 1,
   "outputs": [],
   "source": [
    "import pandas as pd\n",
    "import numpy as np\n",
    "\n"
   ],
   "metadata": {
    "collapsed": false,
    "pycharm": {
     "name": "#%%\n"
    }
   }
  },
  {
   "cell_type": "markdown",
   "source": [
    "41. How to count the number of missing values in each column\n",
    "Count the number of missing values in each column of df. Which column has the maximum number of missing values"
   ],
   "metadata": {
    "collapsed": false,
    "pycharm": {
     "name": "#%% md\n"
    }
   }
  },
  {
   "cell_type": "code",
   "execution_count": 2,
   "outputs": [],
   "source": [
    "df = pd.read_csv('https://raw.githubusercontent.com/selva86/datasets/master/Cars93_miss.csv')"
   ],
   "metadata": {
    "collapsed": false,
    "pycharm": {
     "name": "#%%\n"
    }
   }
  },
  {
   "cell_type": "code",
   "execution_count": 4,
   "outputs": [],
   "source": [
    "df_check = df.isnull()"
   ],
   "metadata": {
    "collapsed": false,
    "pycharm": {
     "name": "#%%\n"
    }
   }
  },
  {
   "cell_type": "code",
   "execution_count": 5,
   "outputs": [
    {
     "data": {
      "text/plain": "    Manufacturer  Model   Type  Min.Price  Price  Max.Price  MPG.city  \\\n0          False  False  False      False  False      False     False   \n1           True  False  False      False  False      False     False   \n2          False  False  False      False  False      False     False   \n3          False  False  False       True  False      False     False   \n4          False  False  False       True  False       True     False   \n..           ...    ...    ...        ...    ...        ...       ...   \n88         False  False  False      False  False      False     False   \n89         False  False  False      False  False      False     False   \n90         False  False  False      False  False      False     False   \n91         False  False  False      False  False      False     False   \n92          True  False  False      False  False      False     False   \n\n    MPG.highway  AirBags  DriveTrain  ...  Passengers  Length  Wheelbase  \\\n0         False    False       False  ...       False   False      False   \n1         False    False       False  ...       False   False      False   \n2         False    False       False  ...       False   False      False   \n3         False    False        True  ...       False   False      False   \n4         False     True       False  ...       False   False      False   \n..          ...      ...         ...  ...         ...     ...        ...   \n88        False    False       False  ...       False   False      False   \n89        False    False       False  ...       False   False      False   \n90        False    False       False  ...       False   False      False   \n91        False    False       False  ...       False   False      False   \n92        False    False       False  ...       False   False      False   \n\n    Width  Turn.circle  Rear.seat.room  Luggage.room  Weight  Origin   Make  \n0   False        False           False          True   False   False  False  \n1   False        False           False         False   False   False  False  \n2   False        False           False         False   False   False  False  \n3    True        False           False         False   False   False  False  \n4   False        False           False         False   False   False  False  \n..    ...          ...             ...           ...     ...     ...    ...  \n88  False        False           False          True   False    True  False  \n89  False        False           False         False   False   False  False  \n90  False        False           False         False   False   False  False  \n91  False        False           False         False   False   False  False  \n92  False        False           False         False   False   False  False  \n\n[93 rows x 27 columns]",
      "text/html": "<div>\n<style scoped>\n    .dataframe tbody tr th:only-of-type {\n        vertical-align: middle;\n    }\n\n    .dataframe tbody tr th {\n        vertical-align: top;\n    }\n\n    .dataframe thead th {\n        text-align: right;\n    }\n</style>\n<table border=\"1\" class=\"dataframe\">\n  <thead>\n    <tr style=\"text-align: right;\">\n      <th></th>\n      <th>Manufacturer</th>\n      <th>Model</th>\n      <th>Type</th>\n      <th>Min.Price</th>\n      <th>Price</th>\n      <th>Max.Price</th>\n      <th>MPG.city</th>\n      <th>MPG.highway</th>\n      <th>AirBags</th>\n      <th>DriveTrain</th>\n      <th>...</th>\n      <th>Passengers</th>\n      <th>Length</th>\n      <th>Wheelbase</th>\n      <th>Width</th>\n      <th>Turn.circle</th>\n      <th>Rear.seat.room</th>\n      <th>Luggage.room</th>\n      <th>Weight</th>\n      <th>Origin</th>\n      <th>Make</th>\n    </tr>\n  </thead>\n  <tbody>\n    <tr>\n      <th>0</th>\n      <td>False</td>\n      <td>False</td>\n      <td>False</td>\n      <td>False</td>\n      <td>False</td>\n      <td>False</td>\n      <td>False</td>\n      <td>False</td>\n      <td>False</td>\n      <td>False</td>\n      <td>...</td>\n      <td>False</td>\n      <td>False</td>\n      <td>False</td>\n      <td>False</td>\n      <td>False</td>\n      <td>False</td>\n      <td>True</td>\n      <td>False</td>\n      <td>False</td>\n      <td>False</td>\n    </tr>\n    <tr>\n      <th>1</th>\n      <td>True</td>\n      <td>False</td>\n      <td>False</td>\n      <td>False</td>\n      <td>False</td>\n      <td>False</td>\n      <td>False</td>\n      <td>False</td>\n      <td>False</td>\n      <td>False</td>\n      <td>...</td>\n      <td>False</td>\n      <td>False</td>\n      <td>False</td>\n      <td>False</td>\n      <td>False</td>\n      <td>False</td>\n      <td>False</td>\n      <td>False</td>\n      <td>False</td>\n      <td>False</td>\n    </tr>\n    <tr>\n      <th>2</th>\n      <td>False</td>\n      <td>False</td>\n      <td>False</td>\n      <td>False</td>\n      <td>False</td>\n      <td>False</td>\n      <td>False</td>\n      <td>False</td>\n      <td>False</td>\n      <td>False</td>\n      <td>...</td>\n      <td>False</td>\n      <td>False</td>\n      <td>False</td>\n      <td>False</td>\n      <td>False</td>\n      <td>False</td>\n      <td>False</td>\n      <td>False</td>\n      <td>False</td>\n      <td>False</td>\n    </tr>\n    <tr>\n      <th>3</th>\n      <td>False</td>\n      <td>False</td>\n      <td>False</td>\n      <td>True</td>\n      <td>False</td>\n      <td>False</td>\n      <td>False</td>\n      <td>False</td>\n      <td>False</td>\n      <td>True</td>\n      <td>...</td>\n      <td>False</td>\n      <td>False</td>\n      <td>False</td>\n      <td>True</td>\n      <td>False</td>\n      <td>False</td>\n      <td>False</td>\n      <td>False</td>\n      <td>False</td>\n      <td>False</td>\n    </tr>\n    <tr>\n      <th>4</th>\n      <td>False</td>\n      <td>False</td>\n      <td>False</td>\n      <td>True</td>\n      <td>False</td>\n      <td>True</td>\n      <td>False</td>\n      <td>False</td>\n      <td>True</td>\n      <td>False</td>\n      <td>...</td>\n      <td>False</td>\n      <td>False</td>\n      <td>False</td>\n      <td>False</td>\n      <td>False</td>\n      <td>False</td>\n      <td>False</td>\n      <td>False</td>\n      <td>False</td>\n      <td>False</td>\n    </tr>\n    <tr>\n      <th>...</th>\n      <td>...</td>\n      <td>...</td>\n      <td>...</td>\n      <td>...</td>\n      <td>...</td>\n      <td>...</td>\n      <td>...</td>\n      <td>...</td>\n      <td>...</td>\n      <td>...</td>\n      <td>...</td>\n      <td>...</td>\n      <td>...</td>\n      <td>...</td>\n      <td>...</td>\n      <td>...</td>\n      <td>...</td>\n      <td>...</td>\n      <td>...</td>\n      <td>...</td>\n      <td>...</td>\n    </tr>\n    <tr>\n      <th>88</th>\n      <td>False</td>\n      <td>False</td>\n      <td>False</td>\n      <td>False</td>\n      <td>False</td>\n      <td>False</td>\n      <td>False</td>\n      <td>False</td>\n      <td>False</td>\n      <td>False</td>\n      <td>...</td>\n      <td>False</td>\n      <td>False</td>\n      <td>False</td>\n      <td>False</td>\n      <td>False</td>\n      <td>False</td>\n      <td>True</td>\n      <td>False</td>\n      <td>True</td>\n      <td>False</td>\n    </tr>\n    <tr>\n      <th>89</th>\n      <td>False</td>\n      <td>False</td>\n      <td>False</td>\n      <td>False</td>\n      <td>False</td>\n      <td>False</td>\n      <td>False</td>\n      <td>False</td>\n      <td>False</td>\n      <td>False</td>\n      <td>...</td>\n      <td>False</td>\n      <td>False</td>\n      <td>False</td>\n      <td>False</td>\n      <td>False</td>\n      <td>False</td>\n      <td>False</td>\n      <td>False</td>\n      <td>False</td>\n      <td>False</td>\n    </tr>\n    <tr>\n      <th>90</th>\n      <td>False</td>\n      <td>False</td>\n      <td>False</td>\n      <td>False</td>\n      <td>False</td>\n      <td>False</td>\n      <td>False</td>\n      <td>False</td>\n      <td>False</td>\n      <td>False</td>\n      <td>...</td>\n      <td>False</td>\n      <td>False</td>\n      <td>False</td>\n      <td>False</td>\n      <td>False</td>\n      <td>False</td>\n      <td>False</td>\n      <td>False</td>\n      <td>False</td>\n      <td>False</td>\n    </tr>\n    <tr>\n      <th>91</th>\n      <td>False</td>\n      <td>False</td>\n      <td>False</td>\n      <td>False</td>\n      <td>False</td>\n      <td>False</td>\n      <td>False</td>\n      <td>False</td>\n      <td>False</td>\n      <td>False</td>\n      <td>...</td>\n      <td>False</td>\n      <td>False</td>\n      <td>False</td>\n      <td>False</td>\n      <td>False</td>\n      <td>False</td>\n      <td>False</td>\n      <td>False</td>\n      <td>False</td>\n      <td>False</td>\n    </tr>\n    <tr>\n      <th>92</th>\n      <td>True</td>\n      <td>False</td>\n      <td>False</td>\n      <td>False</td>\n      <td>False</td>\n      <td>False</td>\n      <td>False</td>\n      <td>False</td>\n      <td>False</td>\n      <td>False</td>\n      <td>...</td>\n      <td>False</td>\n      <td>False</td>\n      <td>False</td>\n      <td>False</td>\n      <td>False</td>\n      <td>False</td>\n      <td>False</td>\n      <td>False</td>\n      <td>False</td>\n      <td>False</td>\n    </tr>\n  </tbody>\n</table>\n<p>93 rows × 27 columns</p>\n</div>"
     },
     "execution_count": 5,
     "metadata": {},
     "output_type": "execute_result"
    }
   ],
   "source": [
    "df_check.count()"
   ],
   "metadata": {
    "collapsed": false,
    "pycharm": {
     "name": "#%%\n"
    }
   }
  },
  {
   "cell_type": "code",
   "execution_count": 9,
   "outputs": [
    {
     "data": {
      "text/plain": "Manufacturer           4\nModel                  1\nType                   3\nMin.Price              7\nPrice                  2\nMax.Price              5\nMPG.city               9\nMPG.highway            2\nAirBags                6\nDriveTrain             7\nCylinders              5\nEngineSize             2\nHorsepower             7\nRPM                    3\nRev.per.mile           6\nMan.trans.avail        5\nFuel.tank.capacity     8\nPassengers             2\nLength                 4\nWheelbase              1\nWidth                  6\nTurn.circle            5\nRear.seat.room         4\nLuggage.room          19\nWeight                 7\nOrigin                 5\nMake                   3\ndtype: int64"
     },
     "execution_count": 9,
     "metadata": {},
     "output_type": "execute_result"
    }
   ],
   "source": [
    "df.isnull().sum()"
   ],
   "metadata": {
    "collapsed": false,
    "pycharm": {
     "name": "#%%\n"
    }
   }
  },
  {
   "cell_type": "code",
   "execution_count": 10,
   "outputs": [
    {
     "data": {
      "text/plain": "138"
     },
     "execution_count": 10,
     "metadata": {},
     "output_type": "execute_result"
    }
   ],
   "source": [
    "df.isnull().sum().sum()"
   ],
   "metadata": {
    "collapsed": false,
    "pycharm": {
     "name": "#%%\n"
    }
   }
  },
  {
   "cell_type": "markdown",
   "source": [
    "42. How to replace missing values of multiple numeric columns with the mean\n",
    "Replace missing values in Min.Price and Max.Price columns with their respective mean."
   ],
   "metadata": {
    "collapsed": false,
    "pycharm": {
     "name": "#%% md\n"
    }
   }
  },
  {
   "cell_type": "code",
   "execution_count": 11,
   "outputs": [],
   "source": [
    "df = pd.read_csv('https://raw.githubusercontent.com/selva86/datasets/master/Cars93_miss.csv')\n"
   ],
   "metadata": {
    "collapsed": false,
    "pycharm": {
     "name": "#%%\n"
    }
   }
  },
  {
   "cell_type": "code",
   "execution_count": 12,
   "outputs": [
    {
     "data": {
      "text/plain": "   Manufacturer    Model     Type  Min.Price  Price  Max.Price  MPG.city  \\\n0         Acura  Integra    Small       12.9   15.9       18.8      25.0   \n1           NaN   Legend  Midsize       29.2   33.9       38.7      18.0   \n2          Audi       90  Compact       25.9   29.1       32.3      20.0   \n3          Audi      100  Midsize        NaN   37.7       44.6      19.0   \n4           BMW     535i  Midsize        NaN   30.0        NaN      22.0   \n..          ...      ...      ...        ...    ...        ...       ...   \n88   Volkswagen  Eurovan      Van       16.6   19.7       22.7      17.0   \n89   Volkswagen   Passat  Compact       17.6   20.0       22.4      21.0   \n90   Volkswagen  Corrado   Sporty       22.9   23.3       23.7      18.0   \n91        Volvo      240  Compact       21.8   22.7       23.5      21.0   \n92          NaN      850  Midsize       24.8   26.7       28.5      20.0   \n\n    MPG.highway             AirBags DriveTrain  ... Passengers  Length  \\\n0          31.0                None      Front  ...        5.0   177.0   \n1          25.0  Driver & Passenger      Front  ...        5.0   195.0   \n2          26.0         Driver only      Front  ...        5.0   180.0   \n3          26.0  Driver & Passenger        NaN  ...        6.0   193.0   \n4          30.0                 NaN       Rear  ...        4.0   186.0   \n..          ...                 ...        ...  ...        ...     ...   \n88         21.0                None      Front  ...        7.0   187.0   \n89         30.0                None      Front  ...        5.0   180.0   \n90         25.0                None      Front  ...        4.0   159.0   \n91         28.0         Driver only       Rear  ...        5.0   190.0   \n92         28.0  Driver & Passenger      Front  ...        5.0   184.0   \n\n    Wheelbase  Width  Turn.circle Rear.seat.room  Luggage.room  Weight  \\\n0       102.0   68.0         37.0           26.5           NaN  2705.0   \n1       115.0   71.0         38.0           30.0          15.0  3560.0   \n2       102.0   67.0         37.0           28.0          14.0  3375.0   \n3       106.0    NaN         37.0           31.0          17.0  3405.0   \n4       109.0   69.0         39.0           27.0          13.0  3640.0   \n..        ...    ...          ...            ...           ...     ...   \n88      115.0   72.0         38.0           34.0           NaN  3960.0   \n89      103.0   67.0         35.0           31.5          14.0  2985.0   \n90       97.0   66.0         36.0           26.0          15.0  2810.0   \n91      104.0   67.0         37.0           29.5          14.0  2985.0   \n92      105.0   69.0         38.0           30.0          15.0  3245.0   \n\n     Origin                Make  \n0   non-USA       Acura Integra  \n1   non-USA        Acura Legend  \n2   non-USA             Audi 90  \n3   non-USA            Audi 100  \n4   non-USA            BMW 535i  \n..      ...                 ...  \n88      NaN  Volkswagen Eurovan  \n89  non-USA   Volkswagen Passat  \n90  non-USA  Volkswagen Corrado  \n91  non-USA           Volvo 240  \n92  non-USA           Volvo 850  \n\n[93 rows x 27 columns]",
      "text/html": "<div>\n<style scoped>\n    .dataframe tbody tr th:only-of-type {\n        vertical-align: middle;\n    }\n\n    .dataframe tbody tr th {\n        vertical-align: top;\n    }\n\n    .dataframe thead th {\n        text-align: right;\n    }\n</style>\n<table border=\"1\" class=\"dataframe\">\n  <thead>\n    <tr style=\"text-align: right;\">\n      <th></th>\n      <th>Manufacturer</th>\n      <th>Model</th>\n      <th>Type</th>\n      <th>Min.Price</th>\n      <th>Price</th>\n      <th>Max.Price</th>\n      <th>MPG.city</th>\n      <th>MPG.highway</th>\n      <th>AirBags</th>\n      <th>DriveTrain</th>\n      <th>...</th>\n      <th>Passengers</th>\n      <th>Length</th>\n      <th>Wheelbase</th>\n      <th>Width</th>\n      <th>Turn.circle</th>\n      <th>Rear.seat.room</th>\n      <th>Luggage.room</th>\n      <th>Weight</th>\n      <th>Origin</th>\n      <th>Make</th>\n    </tr>\n  </thead>\n  <tbody>\n    <tr>\n      <th>0</th>\n      <td>Acura</td>\n      <td>Integra</td>\n      <td>Small</td>\n      <td>12.9</td>\n      <td>15.9</td>\n      <td>18.8</td>\n      <td>25.0</td>\n      <td>31.0</td>\n      <td>None</td>\n      <td>Front</td>\n      <td>...</td>\n      <td>5.0</td>\n      <td>177.0</td>\n      <td>102.0</td>\n      <td>68.0</td>\n      <td>37.0</td>\n      <td>26.5</td>\n      <td>NaN</td>\n      <td>2705.0</td>\n      <td>non-USA</td>\n      <td>Acura Integra</td>\n    </tr>\n    <tr>\n      <th>1</th>\n      <td>NaN</td>\n      <td>Legend</td>\n      <td>Midsize</td>\n      <td>29.2</td>\n      <td>33.9</td>\n      <td>38.7</td>\n      <td>18.0</td>\n      <td>25.0</td>\n      <td>Driver &amp; Passenger</td>\n      <td>Front</td>\n      <td>...</td>\n      <td>5.0</td>\n      <td>195.0</td>\n      <td>115.0</td>\n      <td>71.0</td>\n      <td>38.0</td>\n      <td>30.0</td>\n      <td>15.0</td>\n      <td>3560.0</td>\n      <td>non-USA</td>\n      <td>Acura Legend</td>\n    </tr>\n    <tr>\n      <th>2</th>\n      <td>Audi</td>\n      <td>90</td>\n      <td>Compact</td>\n      <td>25.9</td>\n      <td>29.1</td>\n      <td>32.3</td>\n      <td>20.0</td>\n      <td>26.0</td>\n      <td>Driver only</td>\n      <td>Front</td>\n      <td>...</td>\n      <td>5.0</td>\n      <td>180.0</td>\n      <td>102.0</td>\n      <td>67.0</td>\n      <td>37.0</td>\n      <td>28.0</td>\n      <td>14.0</td>\n      <td>3375.0</td>\n      <td>non-USA</td>\n      <td>Audi 90</td>\n    </tr>\n    <tr>\n      <th>3</th>\n      <td>Audi</td>\n      <td>100</td>\n      <td>Midsize</td>\n      <td>NaN</td>\n      <td>37.7</td>\n      <td>44.6</td>\n      <td>19.0</td>\n      <td>26.0</td>\n      <td>Driver &amp; Passenger</td>\n      <td>NaN</td>\n      <td>...</td>\n      <td>6.0</td>\n      <td>193.0</td>\n      <td>106.0</td>\n      <td>NaN</td>\n      <td>37.0</td>\n      <td>31.0</td>\n      <td>17.0</td>\n      <td>3405.0</td>\n      <td>non-USA</td>\n      <td>Audi 100</td>\n    </tr>\n    <tr>\n      <th>4</th>\n      <td>BMW</td>\n      <td>535i</td>\n      <td>Midsize</td>\n      <td>NaN</td>\n      <td>30.0</td>\n      <td>NaN</td>\n      <td>22.0</td>\n      <td>30.0</td>\n      <td>NaN</td>\n      <td>Rear</td>\n      <td>...</td>\n      <td>4.0</td>\n      <td>186.0</td>\n      <td>109.0</td>\n      <td>69.0</td>\n      <td>39.0</td>\n      <td>27.0</td>\n      <td>13.0</td>\n      <td>3640.0</td>\n      <td>non-USA</td>\n      <td>BMW 535i</td>\n    </tr>\n    <tr>\n      <th>...</th>\n      <td>...</td>\n      <td>...</td>\n      <td>...</td>\n      <td>...</td>\n      <td>...</td>\n      <td>...</td>\n      <td>...</td>\n      <td>...</td>\n      <td>...</td>\n      <td>...</td>\n      <td>...</td>\n      <td>...</td>\n      <td>...</td>\n      <td>...</td>\n      <td>...</td>\n      <td>...</td>\n      <td>...</td>\n      <td>...</td>\n      <td>...</td>\n      <td>...</td>\n      <td>...</td>\n    </tr>\n    <tr>\n      <th>88</th>\n      <td>Volkswagen</td>\n      <td>Eurovan</td>\n      <td>Van</td>\n      <td>16.6</td>\n      <td>19.7</td>\n      <td>22.7</td>\n      <td>17.0</td>\n      <td>21.0</td>\n      <td>None</td>\n      <td>Front</td>\n      <td>...</td>\n      <td>7.0</td>\n      <td>187.0</td>\n      <td>115.0</td>\n      <td>72.0</td>\n      <td>38.0</td>\n      <td>34.0</td>\n      <td>NaN</td>\n      <td>3960.0</td>\n      <td>NaN</td>\n      <td>Volkswagen Eurovan</td>\n    </tr>\n    <tr>\n      <th>89</th>\n      <td>Volkswagen</td>\n      <td>Passat</td>\n      <td>Compact</td>\n      <td>17.6</td>\n      <td>20.0</td>\n      <td>22.4</td>\n      <td>21.0</td>\n      <td>30.0</td>\n      <td>None</td>\n      <td>Front</td>\n      <td>...</td>\n      <td>5.0</td>\n      <td>180.0</td>\n      <td>103.0</td>\n      <td>67.0</td>\n      <td>35.0</td>\n      <td>31.5</td>\n      <td>14.0</td>\n      <td>2985.0</td>\n      <td>non-USA</td>\n      <td>Volkswagen Passat</td>\n    </tr>\n    <tr>\n      <th>90</th>\n      <td>Volkswagen</td>\n      <td>Corrado</td>\n      <td>Sporty</td>\n      <td>22.9</td>\n      <td>23.3</td>\n      <td>23.7</td>\n      <td>18.0</td>\n      <td>25.0</td>\n      <td>None</td>\n      <td>Front</td>\n      <td>...</td>\n      <td>4.0</td>\n      <td>159.0</td>\n      <td>97.0</td>\n      <td>66.0</td>\n      <td>36.0</td>\n      <td>26.0</td>\n      <td>15.0</td>\n      <td>2810.0</td>\n      <td>non-USA</td>\n      <td>Volkswagen Corrado</td>\n    </tr>\n    <tr>\n      <th>91</th>\n      <td>Volvo</td>\n      <td>240</td>\n      <td>Compact</td>\n      <td>21.8</td>\n      <td>22.7</td>\n      <td>23.5</td>\n      <td>21.0</td>\n      <td>28.0</td>\n      <td>Driver only</td>\n      <td>Rear</td>\n      <td>...</td>\n      <td>5.0</td>\n      <td>190.0</td>\n      <td>104.0</td>\n      <td>67.0</td>\n      <td>37.0</td>\n      <td>29.5</td>\n      <td>14.0</td>\n      <td>2985.0</td>\n      <td>non-USA</td>\n      <td>Volvo 240</td>\n    </tr>\n    <tr>\n      <th>92</th>\n      <td>NaN</td>\n      <td>850</td>\n      <td>Midsize</td>\n      <td>24.8</td>\n      <td>26.7</td>\n      <td>28.5</td>\n      <td>20.0</td>\n      <td>28.0</td>\n      <td>Driver &amp; Passenger</td>\n      <td>Front</td>\n      <td>...</td>\n      <td>5.0</td>\n      <td>184.0</td>\n      <td>105.0</td>\n      <td>69.0</td>\n      <td>38.0</td>\n      <td>30.0</td>\n      <td>15.0</td>\n      <td>3245.0</td>\n      <td>non-USA</td>\n      <td>Volvo 850</td>\n    </tr>\n  </tbody>\n</table>\n<p>93 rows × 27 columns</p>\n</div>"
     },
     "execution_count": 12,
     "metadata": {},
     "output_type": "execute_result"
    }
   ],
   "source": [
    "df  "
   ],
   "metadata": {
    "collapsed": false,
    "pycharm": {
     "name": "#%%\n"
    }
   }
  }
 ],
 "metadata": {
  "kernelspec": {
   "display_name": "Python 3",
   "language": "python",
   "name": "python3"
  },
  "language_info": {
   "codemirror_mode": {
    "name": "ipython",
    "version": 2
   },
   "file_extension": ".py",
   "mimetype": "text/x-python",
   "name": "python",
   "nbconvert_exporter": "python",
   "pygments_lexer": "ipython2",
   "version": "2.7.6"
  }
 },
 "nbformat": 4,
 "nbformat_minor": 0
}
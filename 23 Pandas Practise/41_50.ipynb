{
 "cells": [
  {
   "cell_type": "code",
   "execution_count": 1,
   "outputs": [],
   "source": [
    "import pandas as pd\n",
    "import numpy as np\n",
    "\n"
   ],
   "metadata": {
    "collapsed": false,
    "pycharm": {
     "name": "#%%\n"
    }
   }
  },
  {
   "cell_type": "code",
   "execution_count": null,
   "outputs": [],
   "source": [],
   "metadata": {
    "collapsed": false,
    "pycharm": {
     "name": "#%%\n"
    }
   }
  },
  {
   "cell_type": "markdown",
   "source": [
    "31. How to fill an intermittent time series so all missing dates show up with values of previous non-missing date"
   ],
   "metadata": {
    "collapsed": false,
    "pycharm": {
     "name": "#%% md\n"
    }
   }
  },
  {
   "cell_type": "code",
   "execution_count": 2,
   "outputs": [],
   "source": [
    "ser = pd.Series([1,10,3,np.nan], index=pd.to_datetime(['2000-01-01', '2000-01-03', '2000-01-06', '2000-01-08']))"
   ],
   "metadata": {
    "collapsed": false,
    "pycharm": {
     "name": "#%%\n"
    }
   }
  },
  {
   "cell_type": "code",
   "execution_count": 3,
   "outputs": [],
   "source": [
    "df_ser = ser.to_frame()"
   ],
   "metadata": {
    "collapsed": false,
    "pycharm": {
     "name": "#%%\n"
    }
   }
  },
  {
   "cell_type": "code",
   "execution_count": 4,
   "outputs": [],
   "source": [
    "df_ser.columns = ['val']"
   ],
   "metadata": {
    "collapsed": false,
    "pycharm": {
     "name": "#%%\n"
    }
   }
  },
  {
   "cell_type": "code",
   "execution_count": 5,
   "outputs": [],
   "source": [
    "df_ser['prev'] = df_ser['val'].shift(-1)"
   ],
   "metadata": {
    "collapsed": false,
    "pycharm": {
     "name": "#%%\n"
    }
   }
  },
  {
   "cell_type": "code",
   "execution_count": 6,
   "outputs": [
    {
     "data": {
      "text/plain": "2000-01-01     1.0\n2000-01-02     1.0\n2000-01-03    10.0\n2000-01-04    10.0\n2000-01-05    10.0\n2000-01-06     3.0\n2000-01-07     3.0\n2000-01-08     NaN\nFreq: D, dtype: float64"
     },
     "execution_count": 6,
     "metadata": {},
     "output_type": "execute_result"
    }
   ],
   "source": [
    "ser.resample('D').ffill()"
   ],
   "metadata": {
    "collapsed": false,
    "pycharm": {
     "name": "#%%\n"
    }
   }
  },
  {
   "cell_type": "markdown",
   "source": [
    "32. How to compute the autocorrelations of a numeric series"
   ],
   "metadata": {
    "collapsed": false,
    "pycharm": {
     "name": "#%% md\n"
    }
   }
  },
  {
   "cell_type": "code",
   "execution_count": 7,
   "outputs": [],
   "source": [
    "ser = pd.Series(np.arange(20) + np.random.normal(1, 10, 20))\n"
   ],
   "metadata": {
    "collapsed": false,
    "pycharm": {
     "name": "#%%\n"
    }
   }
  },
  {
   "cell_type": "code",
   "execution_count": 10,
   "outputs": [],
   "source": [
    "df_ser = ser.to_frame()"
   ],
   "metadata": {
    "collapsed": false,
    "pycharm": {
     "name": "#%%\n"
    }
   }
  },
  {
   "cell_type": "code",
   "execution_count": 12,
   "outputs": [],
   "source": [
    "df_ser.columns = ['value']"
   ],
   "metadata": {
    "collapsed": false,
    "pycharm": {
     "name": "#%%\n"
    }
   }
  },
  {
   "cell_type": "code",
   "execution_count": 44,
   "outputs": [],
   "source": [
    "df_ser['range'] = pd.qcut(df_ser['value'],10,labels=False )"
   ],
   "metadata": {
    "collapsed": false,
    "pycharm": {
     "name": "#%%\n"
    }
   }
  },
  {
   "cell_type": "code",
   "execution_count": 45,
   "outputs": [
    {
     "data": {
      "text/plain": "        value  range\n0    1.853636      3\n1   -9.267769      1\n2    1.718634      3\n3  -15.577196      0\n4    0.152698      2\n5   29.864833      9\n6    8.454052      5\n7    7.206681      4\n8    0.447103      2\n9  -14.012548      0\n10  -4.490828      1\n11  15.157649      6\n12  24.349488      7\n13  20.854355      7\n14  13.059007      5\n15  27.065278      8\n16   6.188512      4\n17  30.836563      9\n18  27.837676      8\n19  17.032467      6",
      "text/html": "<div>\n<style scoped>\n    .dataframe tbody tr th:only-of-type {\n        vertical-align: middle;\n    }\n\n    .dataframe tbody tr th {\n        vertical-align: top;\n    }\n\n    .dataframe thead th {\n        text-align: right;\n    }\n</style>\n<table border=\"1\" class=\"dataframe\">\n  <thead>\n    <tr style=\"text-align: right;\">\n      <th></th>\n      <th>value</th>\n      <th>range</th>\n    </tr>\n  </thead>\n  <tbody>\n    <tr>\n      <th>0</th>\n      <td>1.853636</td>\n      <td>3</td>\n    </tr>\n    <tr>\n      <th>1</th>\n      <td>-9.267769</td>\n      <td>1</td>\n    </tr>\n    <tr>\n      <th>2</th>\n      <td>1.718634</td>\n      <td>3</td>\n    </tr>\n    <tr>\n      <th>3</th>\n      <td>-15.577196</td>\n      <td>0</td>\n    </tr>\n    <tr>\n      <th>4</th>\n      <td>0.152698</td>\n      <td>2</td>\n    </tr>\n    <tr>\n      <th>5</th>\n      <td>29.864833</td>\n      <td>9</td>\n    </tr>\n    <tr>\n      <th>6</th>\n      <td>8.454052</td>\n      <td>5</td>\n    </tr>\n    <tr>\n      <th>7</th>\n      <td>7.206681</td>\n      <td>4</td>\n    </tr>\n    <tr>\n      <th>8</th>\n      <td>0.447103</td>\n      <td>2</td>\n    </tr>\n    <tr>\n      <th>9</th>\n      <td>-14.012548</td>\n      <td>0</td>\n    </tr>\n    <tr>\n      <th>10</th>\n      <td>-4.490828</td>\n      <td>1</td>\n    </tr>\n    <tr>\n      <th>11</th>\n      <td>15.157649</td>\n      <td>6</td>\n    </tr>\n    <tr>\n      <th>12</th>\n      <td>24.349488</td>\n      <td>7</td>\n    </tr>\n    <tr>\n      <th>13</th>\n      <td>20.854355</td>\n      <td>7</td>\n    </tr>\n    <tr>\n      <th>14</th>\n      <td>13.059007</td>\n      <td>5</td>\n    </tr>\n    <tr>\n      <th>15</th>\n      <td>27.065278</td>\n      <td>8</td>\n    </tr>\n    <tr>\n      <th>16</th>\n      <td>6.188512</td>\n      <td>4</td>\n    </tr>\n    <tr>\n      <th>17</th>\n      <td>30.836563</td>\n      <td>9</td>\n    </tr>\n    <tr>\n      <th>18</th>\n      <td>27.837676</td>\n      <td>8</td>\n    </tr>\n    <tr>\n      <th>19</th>\n      <td>17.032467</td>\n      <td>6</td>\n    </tr>\n  </tbody>\n</table>\n</div>"
     },
     "execution_count": 45,
     "metadata": {},
     "output_type": "execute_result"
    }
   ],
   "source": [
    "df_ser"
   ],
   "metadata": {
    "collapsed": false,
    "pycharm": {
     "name": "#%%\n"
    }
   }
  },
  {
   "cell_type": "code",
   "execution_count": null,
   "outputs": [],
   "source": [
    "#No autocorrelation"
   ],
   "metadata": {
    "collapsed": false,
    "pycharm": {
     "name": "#%%\n"
    }
   }
  },
  {
   "cell_type": "markdown",
   "source": [
    "33. How to import only every nth row from a csv file to create a dataframe"
   ],
   "metadata": {
    "collapsed": false,
    "pycharm": {
     "name": "#%% md\n"
    }
   }
  },
  {
   "cell_type": "code",
   "execution_count": 46,
   "outputs": [],
   "source": [
    "csv_path = 'https://raw.githubusercontent.com/selva86/datasets/master/BostonHousing.csv'\n",
    "df = pd.read_csv(csv_path)"
   ],
   "metadata": {
    "collapsed": false,
    "pycharm": {
     "name": "#%%\n"
    }
   }
  },
  {
   "cell_type": "code",
   "execution_count": 48,
   "outputs": [
    {
     "data": {
      "text/plain": "         crim    zn  indus  chas    nox     rm    age     dis  rad  tax  \\\n0     0.00632  18.0   2.31     0  0.538  6.575   65.2  4.0900    1  296   \n50    0.08873  21.0   5.64     0  0.439  5.963   45.7  6.8147    4  243   \n100   0.14866   0.0   8.56     0  0.520  6.727   79.9  2.7778    5  384   \n150   1.65660   0.0  19.58     0  0.871  6.122   97.3  1.6180    5  403   \n200   0.01778  95.0   1.47     0  0.403  7.135   13.9  7.6534    3  402   \n250   0.14030  22.0   5.86     0  0.431  6.487   13.0  7.3967    7  330   \n300   0.04417  70.0   2.24     0  0.400  6.871   47.4  7.8278    5  358   \n350   0.06211  40.0   1.25     0  0.429  6.490   44.4  8.7921    1  335   \n400  25.04610   0.0  18.10     0  0.693  5.987  100.0  1.5888   24  666   \n450   6.71772   0.0  18.10     0  0.713  6.749   92.6  2.3236   24  666   \n500   0.22438   0.0   9.69     0  0.585  6.027   79.7  2.4982    6  391   \n\n     ptratio       b  lstat  medv  \n0       15.3  396.90   4.98  24.0  \n50      16.8  395.56  13.45  19.7  \n100     20.9  394.76   9.42  27.5  \n150     14.7  372.80  14.10  21.5  \n200     17.0  384.30   4.45  32.9  \n250     19.1  396.28   5.90  24.4  \n300     14.8  390.86   6.07  24.8  \n350     19.7  396.90   5.98  22.9  \n400     20.2  396.90  26.77   5.6  \n450     20.2    0.32  17.44  13.4  \n500     19.2  396.90  14.33  16.8  ",
      "text/html": "<div>\n<style scoped>\n    .dataframe tbody tr th:only-of-type {\n        vertical-align: middle;\n    }\n\n    .dataframe tbody tr th {\n        vertical-align: top;\n    }\n\n    .dataframe thead th {\n        text-align: right;\n    }\n</style>\n<table border=\"1\" class=\"dataframe\">\n  <thead>\n    <tr style=\"text-align: right;\">\n      <th></th>\n      <th>crim</th>\n      <th>zn</th>\n      <th>indus</th>\n      <th>chas</th>\n      <th>nox</th>\n      <th>rm</th>\n      <th>age</th>\n      <th>dis</th>\n      <th>rad</th>\n      <th>tax</th>\n      <th>ptratio</th>\n      <th>b</th>\n      <th>lstat</th>\n      <th>medv</th>\n    </tr>\n  </thead>\n  <tbody>\n    <tr>\n      <th>0</th>\n      <td>0.00632</td>\n      <td>18.0</td>\n      <td>2.31</td>\n      <td>0</td>\n      <td>0.538</td>\n      <td>6.575</td>\n      <td>65.2</td>\n      <td>4.0900</td>\n      <td>1</td>\n      <td>296</td>\n      <td>15.3</td>\n      <td>396.90</td>\n      <td>4.98</td>\n      <td>24.0</td>\n    </tr>\n    <tr>\n      <th>50</th>\n      <td>0.08873</td>\n      <td>21.0</td>\n      <td>5.64</td>\n      <td>0</td>\n      <td>0.439</td>\n      <td>5.963</td>\n      <td>45.7</td>\n      <td>6.8147</td>\n      <td>4</td>\n      <td>243</td>\n      <td>16.8</td>\n      <td>395.56</td>\n      <td>13.45</td>\n      <td>19.7</td>\n    </tr>\n    <tr>\n      <th>100</th>\n      <td>0.14866</td>\n      <td>0.0</td>\n      <td>8.56</td>\n      <td>0</td>\n      <td>0.520</td>\n      <td>6.727</td>\n      <td>79.9</td>\n      <td>2.7778</td>\n      <td>5</td>\n      <td>384</td>\n      <td>20.9</td>\n      <td>394.76</td>\n      <td>9.42</td>\n      <td>27.5</td>\n    </tr>\n    <tr>\n      <th>150</th>\n      <td>1.65660</td>\n      <td>0.0</td>\n      <td>19.58</td>\n      <td>0</td>\n      <td>0.871</td>\n      <td>6.122</td>\n      <td>97.3</td>\n      <td>1.6180</td>\n      <td>5</td>\n      <td>403</td>\n      <td>14.7</td>\n      <td>372.80</td>\n      <td>14.10</td>\n      <td>21.5</td>\n    </tr>\n    <tr>\n      <th>200</th>\n      <td>0.01778</td>\n      <td>95.0</td>\n      <td>1.47</td>\n      <td>0</td>\n      <td>0.403</td>\n      <td>7.135</td>\n      <td>13.9</td>\n      <td>7.6534</td>\n      <td>3</td>\n      <td>402</td>\n      <td>17.0</td>\n      <td>384.30</td>\n      <td>4.45</td>\n      <td>32.9</td>\n    </tr>\n    <tr>\n      <th>250</th>\n      <td>0.14030</td>\n      <td>22.0</td>\n      <td>5.86</td>\n      <td>0</td>\n      <td>0.431</td>\n      <td>6.487</td>\n      <td>13.0</td>\n      <td>7.3967</td>\n      <td>7</td>\n      <td>330</td>\n      <td>19.1</td>\n      <td>396.28</td>\n      <td>5.90</td>\n      <td>24.4</td>\n    </tr>\n    <tr>\n      <th>300</th>\n      <td>0.04417</td>\n      <td>70.0</td>\n      <td>2.24</td>\n      <td>0</td>\n      <td>0.400</td>\n      <td>6.871</td>\n      <td>47.4</td>\n      <td>7.8278</td>\n      <td>5</td>\n      <td>358</td>\n      <td>14.8</td>\n      <td>390.86</td>\n      <td>6.07</td>\n      <td>24.8</td>\n    </tr>\n    <tr>\n      <th>350</th>\n      <td>0.06211</td>\n      <td>40.0</td>\n      <td>1.25</td>\n      <td>0</td>\n      <td>0.429</td>\n      <td>6.490</td>\n      <td>44.4</td>\n      <td>8.7921</td>\n      <td>1</td>\n      <td>335</td>\n      <td>19.7</td>\n      <td>396.90</td>\n      <td>5.98</td>\n      <td>22.9</td>\n    </tr>\n    <tr>\n      <th>400</th>\n      <td>25.04610</td>\n      <td>0.0</td>\n      <td>18.10</td>\n      <td>0</td>\n      <td>0.693</td>\n      <td>5.987</td>\n      <td>100.0</td>\n      <td>1.5888</td>\n      <td>24</td>\n      <td>666</td>\n      <td>20.2</td>\n      <td>396.90</td>\n      <td>26.77</td>\n      <td>5.6</td>\n    </tr>\n    <tr>\n      <th>450</th>\n      <td>6.71772</td>\n      <td>0.0</td>\n      <td>18.10</td>\n      <td>0</td>\n      <td>0.713</td>\n      <td>6.749</td>\n      <td>92.6</td>\n      <td>2.3236</td>\n      <td>24</td>\n      <td>666</td>\n      <td>20.2</td>\n      <td>0.32</td>\n      <td>17.44</td>\n      <td>13.4</td>\n    </tr>\n    <tr>\n      <th>500</th>\n      <td>0.22438</td>\n      <td>0.0</td>\n      <td>9.69</td>\n      <td>0</td>\n      <td>0.585</td>\n      <td>6.027</td>\n      <td>79.7</td>\n      <td>2.4982</td>\n      <td>6</td>\n      <td>391</td>\n      <td>19.2</td>\n      <td>396.90</td>\n      <td>14.33</td>\n      <td>16.8</td>\n    </tr>\n  </tbody>\n</table>\n</div>"
     },
     "execution_count": 48,
     "metadata": {},
     "output_type": "execute_result"
    }
   ],
   "source": [
    "#take every 50-th row\n",
    "df[df.index%50 ==0]"
   ],
   "metadata": {
    "collapsed": false,
    "pycharm": {
     "name": "#%%\n"
    }
   }
  },
  {
   "cell_type": "markdown",
   "source": [
    "34. How to change column values when importing csv to a dataframe\n",
    "Import the boston housing dataset, but while importing change the\n",
    "'medv' (median house value) column so that values < 25 becomes ‘Low’ and > 25 becomes ‘High’."
   ],
   "metadata": {
    "collapsed": false,
    "pycharm": {
     "name": "#%% md\n"
    }
   }
  },
  {
   "cell_type": "code",
   "execution_count": 49,
   "outputs": [],
   "source": [
    "df = pd.read_csv('https://raw.githubusercontent.com/selva86/datasets/master/BostonHousing.csv')"
   ],
   "metadata": {
    "collapsed": false,
    "pycharm": {
     "name": "#%%\n"
    }
   }
  },
  {
   "cell_type": "code",
   "execution_count": 72,
   "outputs": [],
   "source": [
    "df['medv'] = pd.cut(df['medv'],[0,25,float(\"inf\")], labels = ['Low','High'])"
   ],
   "metadata": {
    "collapsed": false,
    "pycharm": {
     "name": "#%%\n"
    }
   }
  },
  {
   "cell_type": "code",
   "execution_count": 73,
   "outputs": [
    {
     "data": {
      "text/plain": "        crim    zn  indus  chas    nox     rm   age     dis  rad  tax  \\\n0    0.00632  18.0   2.31     0  0.538  6.575  65.2  4.0900    1  296   \n1    0.02731   0.0   7.07     0  0.469  6.421  78.9  4.9671    2  242   \n2    0.02729   0.0   7.07     0  0.469  7.185  61.1  4.9671    2  242   \n3    0.03237   0.0   2.18     0  0.458  6.998  45.8  6.0622    3  222   \n4    0.06905   0.0   2.18     0  0.458  7.147  54.2  6.0622    3  222   \n..       ...   ...    ...   ...    ...    ...   ...     ...  ...  ...   \n501  0.06263   0.0  11.93     0  0.573  6.593  69.1  2.4786    1  273   \n502  0.04527   0.0  11.93     0  0.573  6.120  76.7  2.2875    1  273   \n503  0.06076   0.0  11.93     0  0.573  6.976  91.0  2.1675    1  273   \n504  0.10959   0.0  11.93     0  0.573  6.794  89.3  2.3889    1  273   \n505  0.04741   0.0  11.93     0  0.573  6.030  80.8  2.5050    1  273   \n\n     ptratio       b  lstat  medv medv2  \n0       15.3  396.90   4.98   Low   Low  \n1       17.8  396.90   9.14   Low   Low  \n2       17.8  392.83   4.03  High  High  \n3       18.7  394.63   2.94  High  High  \n4       18.7  396.90   5.33  High  High  \n..       ...     ...    ...   ...   ...  \n501     21.0  391.99   9.67   Low   Low  \n502     21.0  396.90   9.08   Low   Low  \n503     21.0  396.90   5.64   Low   Low  \n504     21.0  393.45   6.48   Low   Low  \n505     21.0  396.90   7.88   Low   Low  \n\n[506 rows x 15 columns]",
      "text/html": "<div>\n<style scoped>\n    .dataframe tbody tr th:only-of-type {\n        vertical-align: middle;\n    }\n\n    .dataframe tbody tr th {\n        vertical-align: top;\n    }\n\n    .dataframe thead th {\n        text-align: right;\n    }\n</style>\n<table border=\"1\" class=\"dataframe\">\n  <thead>\n    <tr style=\"text-align: right;\">\n      <th></th>\n      <th>crim</th>\n      <th>zn</th>\n      <th>indus</th>\n      <th>chas</th>\n      <th>nox</th>\n      <th>rm</th>\n      <th>age</th>\n      <th>dis</th>\n      <th>rad</th>\n      <th>tax</th>\n      <th>ptratio</th>\n      <th>b</th>\n      <th>lstat</th>\n      <th>medv</th>\n      <th>medv2</th>\n    </tr>\n  </thead>\n  <tbody>\n    <tr>\n      <th>0</th>\n      <td>0.00632</td>\n      <td>18.0</td>\n      <td>2.31</td>\n      <td>0</td>\n      <td>0.538</td>\n      <td>6.575</td>\n      <td>65.2</td>\n      <td>4.0900</td>\n      <td>1</td>\n      <td>296</td>\n      <td>15.3</td>\n      <td>396.90</td>\n      <td>4.98</td>\n      <td>Low</td>\n      <td>Low</td>\n    </tr>\n    <tr>\n      <th>1</th>\n      <td>0.02731</td>\n      <td>0.0</td>\n      <td>7.07</td>\n      <td>0</td>\n      <td>0.469</td>\n      <td>6.421</td>\n      <td>78.9</td>\n      <td>4.9671</td>\n      <td>2</td>\n      <td>242</td>\n      <td>17.8</td>\n      <td>396.90</td>\n      <td>9.14</td>\n      <td>Low</td>\n      <td>Low</td>\n    </tr>\n    <tr>\n      <th>2</th>\n      <td>0.02729</td>\n      <td>0.0</td>\n      <td>7.07</td>\n      <td>0</td>\n      <td>0.469</td>\n      <td>7.185</td>\n      <td>61.1</td>\n      <td>4.9671</td>\n      <td>2</td>\n      <td>242</td>\n      <td>17.8</td>\n      <td>392.83</td>\n      <td>4.03</td>\n      <td>High</td>\n      <td>High</td>\n    </tr>\n    <tr>\n      <th>3</th>\n      <td>0.03237</td>\n      <td>0.0</td>\n      <td>2.18</td>\n      <td>0</td>\n      <td>0.458</td>\n      <td>6.998</td>\n      <td>45.8</td>\n      <td>6.0622</td>\n      <td>3</td>\n      <td>222</td>\n      <td>18.7</td>\n      <td>394.63</td>\n      <td>2.94</td>\n      <td>High</td>\n      <td>High</td>\n    </tr>\n    <tr>\n      <th>4</th>\n      <td>0.06905</td>\n      <td>0.0</td>\n      <td>2.18</td>\n      <td>0</td>\n      <td>0.458</td>\n      <td>7.147</td>\n      <td>54.2</td>\n      <td>6.0622</td>\n      <td>3</td>\n      <td>222</td>\n      <td>18.7</td>\n      <td>396.90</td>\n      <td>5.33</td>\n      <td>High</td>\n      <td>High</td>\n    </tr>\n    <tr>\n      <th>...</th>\n      <td>...</td>\n      <td>...</td>\n      <td>...</td>\n      <td>...</td>\n      <td>...</td>\n      <td>...</td>\n      <td>...</td>\n      <td>...</td>\n      <td>...</td>\n      <td>...</td>\n      <td>...</td>\n      <td>...</td>\n      <td>...</td>\n      <td>...</td>\n      <td>...</td>\n    </tr>\n    <tr>\n      <th>501</th>\n      <td>0.06263</td>\n      <td>0.0</td>\n      <td>11.93</td>\n      <td>0</td>\n      <td>0.573</td>\n      <td>6.593</td>\n      <td>69.1</td>\n      <td>2.4786</td>\n      <td>1</td>\n      <td>273</td>\n      <td>21.0</td>\n      <td>391.99</td>\n      <td>9.67</td>\n      <td>Low</td>\n      <td>Low</td>\n    </tr>\n    <tr>\n      <th>502</th>\n      <td>0.04527</td>\n      <td>0.0</td>\n      <td>11.93</td>\n      <td>0</td>\n      <td>0.573</td>\n      <td>6.120</td>\n      <td>76.7</td>\n      <td>2.2875</td>\n      <td>1</td>\n      <td>273</td>\n      <td>21.0</td>\n      <td>396.90</td>\n      <td>9.08</td>\n      <td>Low</td>\n      <td>Low</td>\n    </tr>\n    <tr>\n      <th>503</th>\n      <td>0.06076</td>\n      <td>0.0</td>\n      <td>11.93</td>\n      <td>0</td>\n      <td>0.573</td>\n      <td>6.976</td>\n      <td>91.0</td>\n      <td>2.1675</td>\n      <td>1</td>\n      <td>273</td>\n      <td>21.0</td>\n      <td>396.90</td>\n      <td>5.64</td>\n      <td>Low</td>\n      <td>Low</td>\n    </tr>\n    <tr>\n      <th>504</th>\n      <td>0.10959</td>\n      <td>0.0</td>\n      <td>11.93</td>\n      <td>0</td>\n      <td>0.573</td>\n      <td>6.794</td>\n      <td>89.3</td>\n      <td>2.3889</td>\n      <td>1</td>\n      <td>273</td>\n      <td>21.0</td>\n      <td>393.45</td>\n      <td>6.48</td>\n      <td>Low</td>\n      <td>Low</td>\n    </tr>\n    <tr>\n      <th>505</th>\n      <td>0.04741</td>\n      <td>0.0</td>\n      <td>11.93</td>\n      <td>0</td>\n      <td>0.573</td>\n      <td>6.030</td>\n      <td>80.8</td>\n      <td>2.5050</td>\n      <td>1</td>\n      <td>273</td>\n      <td>21.0</td>\n      <td>396.90</td>\n      <td>7.88</td>\n      <td>Low</td>\n      <td>Low</td>\n    </tr>\n  </tbody>\n</table>\n<p>506 rows × 15 columns</p>\n</div>"
     },
     "execution_count": 73,
     "metadata": {},
     "output_type": "execute_result"
    }
   ],
   "source": [
    "df"
   ],
   "metadata": {
    "collapsed": false,
    "pycharm": {
     "name": "#%%\n"
    }
   }
  },
  {
   "cell_type": "markdown",
   "source": [
    "35. How to create a dataframe with rows as strides from a given series"
   ],
   "metadata": {
    "collapsed": false,
    "pycharm": {
     "name": "#%% md\n"
    }
   }
  },
  {
   "cell_type": "code",
   "execution_count": 74,
   "outputs": [],
   "source": [
    "L = pd.Series(range(15))"
   ],
   "metadata": {
    "collapsed": false,
    "pycharm": {
     "name": "#%%\n"
    }
   }
  },
  {
   "cell_type": "code",
   "execution_count": 75,
   "outputs": [
    {
     "data": {
      "text/plain": "0      0\n1      1\n2      2\n3      3\n4      4\n5      5\n6      6\n7      7\n8      8\n9      9\n10    10\n11    11\n12    12\n13    13\n14    14\ndtype: int64"
     },
     "execution_count": 75,
     "metadata": {},
     "output_type": "execute_result"
    }
   ],
   "source": [
    "L"
   ],
   "metadata": {
    "collapsed": false,
    "pycharm": {
     "name": "#%%\n"
    }
   }
  },
  {
   "cell_type": "markdown",
   "source": [
    "36. How to import only specified columns from a csv file\n",
    "Import ‘crim’ and ‘medv’ columns of the BostonHousing dataset as a dataframe."
   ],
   "metadata": {
    "collapsed": false,
    "pycharm": {
     "name": "#%% md\n"
    }
   }
  },
  {
   "cell_type": "code",
   "execution_count": null,
   "outputs": [],
   "source": [],
   "metadata": {
    "collapsed": false,
    "pycharm": {
     "name": "#%%\n"
    }
   }
  },
  {
   "cell_type": "code",
   "execution_count": 78,
   "outputs": [],
   "source": [
    "df = pd.read_csv('https://raw.githubusercontent.com/selva86/datasets/master/BostonHousing.csv',usecols=['medv', 'crim'])"
   ],
   "metadata": {
    "collapsed": false,
    "pycharm": {
     "name": "#%%\n"
    }
   }
  },
  {
   "cell_type": "code",
   "execution_count": 79,
   "outputs": [
    {
     "data": {
      "text/plain": "        crim  medv\n0    0.00632  24.0\n1    0.02731  21.6\n2    0.02729  34.7\n3    0.03237  33.4\n4    0.06905  36.2\n..       ...   ...\n501  0.06263  22.4\n502  0.04527  20.6\n503  0.06076  23.9\n504  0.10959  22.0\n505  0.04741  11.9\n\n[506 rows x 2 columns]",
      "text/html": "<div>\n<style scoped>\n    .dataframe tbody tr th:only-of-type {\n        vertical-align: middle;\n    }\n\n    .dataframe tbody tr th {\n        vertical-align: top;\n    }\n\n    .dataframe thead th {\n        text-align: right;\n    }\n</style>\n<table border=\"1\" class=\"dataframe\">\n  <thead>\n    <tr style=\"text-align: right;\">\n      <th></th>\n      <th>crim</th>\n      <th>medv</th>\n    </tr>\n  </thead>\n  <tbody>\n    <tr>\n      <th>0</th>\n      <td>0.00632</td>\n      <td>24.0</td>\n    </tr>\n    <tr>\n      <th>1</th>\n      <td>0.02731</td>\n      <td>21.6</td>\n    </tr>\n    <tr>\n      <th>2</th>\n      <td>0.02729</td>\n      <td>34.7</td>\n    </tr>\n    <tr>\n      <th>3</th>\n      <td>0.03237</td>\n      <td>33.4</td>\n    </tr>\n    <tr>\n      <th>4</th>\n      <td>0.06905</td>\n      <td>36.2</td>\n    </tr>\n    <tr>\n      <th>...</th>\n      <td>...</td>\n      <td>...</td>\n    </tr>\n    <tr>\n      <th>501</th>\n      <td>0.06263</td>\n      <td>22.4</td>\n    </tr>\n    <tr>\n      <th>502</th>\n      <td>0.04527</td>\n      <td>20.6</td>\n    </tr>\n    <tr>\n      <th>503</th>\n      <td>0.06076</td>\n      <td>23.9</td>\n    </tr>\n    <tr>\n      <th>504</th>\n      <td>0.10959</td>\n      <td>22.0</td>\n    </tr>\n    <tr>\n      <th>505</th>\n      <td>0.04741</td>\n      <td>11.9</td>\n    </tr>\n  </tbody>\n</table>\n<p>506 rows × 2 columns</p>\n</div>"
     },
     "execution_count": 79,
     "metadata": {},
     "output_type": "execute_result"
    }
   ],
   "source": [
    "df"
   ],
   "metadata": {
    "collapsed": false,
    "pycharm": {
     "name": "#%%\n"
    }
   }
  },
  {
   "cell_type": "markdown",
   "source": [
    "37. How to get the nrows, ncolumns, datatype, summary stats of each column of a dataframe? Also get the array and list equivalent\n",
    "Get the number of rows, columns, datatype and summary statistics of each column of the Cars93 dataset. Also get the numpy array and list equivalent of the dataframe."
   ],
   "metadata": {
    "collapsed": false,
    "pycharm": {
     "name": "#%% md\n"
    }
   }
  },
  {
   "cell_type": "code",
   "execution_count": 80,
   "outputs": [],
   "source": [
    "df = pd.read_csv('https://raw.githubusercontent.com/selva86/datasets/master/Cars93_miss.csv')\n"
   ],
   "metadata": {
    "collapsed": false,
    "pycharm": {
     "name": "#%%\n"
    }
   }
  },
  {
   "cell_type": "code",
   "execution_count": 87,
   "outputs": [
    {
     "data": {
      "text/plain": "       Min.Price      Price  Max.Price   MPG.city  MPG.highway  EngineSize  \\\ncount  86.000000  91.000000  88.000000  84.000000    91.000000   91.000000   \nmean   17.118605  19.616484  21.459091  22.404762    29.065934    2.658242   \nstd     8.828290   9.724280  10.696563   5.841520     5.370293    1.045845   \nmin     6.700000   7.400000   7.900000  15.000000    20.000000    1.000000   \n25%    10.825000  12.350000  14.575000  18.000000    26.000000    1.800000   \n50%    14.600000  17.700000  19.150000  21.000000    28.000000    2.300000   \n75%    20.250000  23.500000  24.825000  25.000000    31.000000    3.250000   \nmax    45.400000  61.900000  80.000000  46.000000    50.000000    5.700000   \n\n       Horsepower          RPM  Rev.per.mile  Fuel.tank.capacity  Passengers  \\\ncount   86.000000    90.000000     87.000000           85.000000   91.000000   \nmean   144.000000  5276.666667   2355.000000           16.683529    5.076923   \nstd     53.455204   605.554811    486.916616            3.375748    1.045953   \nmin     55.000000  3800.000000   1320.000000            9.200000    2.000000   \n25%    100.750000  4800.000000   2017.500000           14.500000    4.000000   \n50%    140.000000  5200.000000   2360.000000           16.500000    5.000000   \n75%    170.000000  5787.500000   2565.000000           19.000000    6.000000   \nmax    300.000000  6500.000000   3755.000000           27.000000    8.000000   \n\n           Length   Wheelbase      Width  Turn.circle  Rear.seat.room  \\\ncount   89.000000   92.000000  87.000000    88.000000       89.000000   \nmean   182.865169  103.956522  69.448276    38.954545       27.853933   \nstd     14.792651    6.856317   3.778023     3.304157        3.018129   \nmin    141.000000   90.000000  60.000000    32.000000       19.000000   \n25%    174.000000   98.000000  67.000000    36.000000       26.000000   \n50%    181.000000  103.000000  69.000000    39.000000       27.500000   \n75%    192.000000  110.000000  72.000000    42.000000       30.000000   \nmax    219.000000  119.000000  78.000000    45.000000       36.000000   \n\n       Luggage.room       Weight  \ncount     74.000000    86.000000  \nmean      13.986486  3104.593023  \nstd        3.120824   600.129993  \nmin        6.000000  1695.000000  \n25%       12.000000  2647.500000  \n50%       14.000000  3085.000000  \n75%       16.000000  3567.500000  \nmax       22.000000  4105.000000  ",
      "text/html": "<div>\n<style scoped>\n    .dataframe tbody tr th:only-of-type {\n        vertical-align: middle;\n    }\n\n    .dataframe tbody tr th {\n        vertical-align: top;\n    }\n\n    .dataframe thead th {\n        text-align: right;\n    }\n</style>\n<table border=\"1\" class=\"dataframe\">\n  <thead>\n    <tr style=\"text-align: right;\">\n      <th></th>\n      <th>Min.Price</th>\n      <th>Price</th>\n      <th>Max.Price</th>\n      <th>MPG.city</th>\n      <th>MPG.highway</th>\n      <th>EngineSize</th>\n      <th>Horsepower</th>\n      <th>RPM</th>\n      <th>Rev.per.mile</th>\n      <th>Fuel.tank.capacity</th>\n      <th>Passengers</th>\n      <th>Length</th>\n      <th>Wheelbase</th>\n      <th>Width</th>\n      <th>Turn.circle</th>\n      <th>Rear.seat.room</th>\n      <th>Luggage.room</th>\n      <th>Weight</th>\n    </tr>\n  </thead>\n  <tbody>\n    <tr>\n      <th>count</th>\n      <td>86.000000</td>\n      <td>91.000000</td>\n      <td>88.000000</td>\n      <td>84.000000</td>\n      <td>91.000000</td>\n      <td>91.000000</td>\n      <td>86.000000</td>\n      <td>90.000000</td>\n      <td>87.000000</td>\n      <td>85.000000</td>\n      <td>91.000000</td>\n      <td>89.000000</td>\n      <td>92.000000</td>\n      <td>87.000000</td>\n      <td>88.000000</td>\n      <td>89.000000</td>\n      <td>74.000000</td>\n      <td>86.000000</td>\n    </tr>\n    <tr>\n      <th>mean</th>\n      <td>17.118605</td>\n      <td>19.616484</td>\n      <td>21.459091</td>\n      <td>22.404762</td>\n      <td>29.065934</td>\n      <td>2.658242</td>\n      <td>144.000000</td>\n      <td>5276.666667</td>\n      <td>2355.000000</td>\n      <td>16.683529</td>\n      <td>5.076923</td>\n      <td>182.865169</td>\n      <td>103.956522</td>\n      <td>69.448276</td>\n      <td>38.954545</td>\n      <td>27.853933</td>\n      <td>13.986486</td>\n      <td>3104.593023</td>\n    </tr>\n    <tr>\n      <th>std</th>\n      <td>8.828290</td>\n      <td>9.724280</td>\n      <td>10.696563</td>\n      <td>5.841520</td>\n      <td>5.370293</td>\n      <td>1.045845</td>\n      <td>53.455204</td>\n      <td>605.554811</td>\n      <td>486.916616</td>\n      <td>3.375748</td>\n      <td>1.045953</td>\n      <td>14.792651</td>\n      <td>6.856317</td>\n      <td>3.778023</td>\n      <td>3.304157</td>\n      <td>3.018129</td>\n      <td>3.120824</td>\n      <td>600.129993</td>\n    </tr>\n    <tr>\n      <th>min</th>\n      <td>6.700000</td>\n      <td>7.400000</td>\n      <td>7.900000</td>\n      <td>15.000000</td>\n      <td>20.000000</td>\n      <td>1.000000</td>\n      <td>55.000000</td>\n      <td>3800.000000</td>\n      <td>1320.000000</td>\n      <td>9.200000</td>\n      <td>2.000000</td>\n      <td>141.000000</td>\n      <td>90.000000</td>\n      <td>60.000000</td>\n      <td>32.000000</td>\n      <td>19.000000</td>\n      <td>6.000000</td>\n      <td>1695.000000</td>\n    </tr>\n    <tr>\n      <th>25%</th>\n      <td>10.825000</td>\n      <td>12.350000</td>\n      <td>14.575000</td>\n      <td>18.000000</td>\n      <td>26.000000</td>\n      <td>1.800000</td>\n      <td>100.750000</td>\n      <td>4800.000000</td>\n      <td>2017.500000</td>\n      <td>14.500000</td>\n      <td>4.000000</td>\n      <td>174.000000</td>\n      <td>98.000000</td>\n      <td>67.000000</td>\n      <td>36.000000</td>\n      <td>26.000000</td>\n      <td>12.000000</td>\n      <td>2647.500000</td>\n    </tr>\n    <tr>\n      <th>50%</th>\n      <td>14.600000</td>\n      <td>17.700000</td>\n      <td>19.150000</td>\n      <td>21.000000</td>\n      <td>28.000000</td>\n      <td>2.300000</td>\n      <td>140.000000</td>\n      <td>5200.000000</td>\n      <td>2360.000000</td>\n      <td>16.500000</td>\n      <td>5.000000</td>\n      <td>181.000000</td>\n      <td>103.000000</td>\n      <td>69.000000</td>\n      <td>39.000000</td>\n      <td>27.500000</td>\n      <td>14.000000</td>\n      <td>3085.000000</td>\n    </tr>\n    <tr>\n      <th>75%</th>\n      <td>20.250000</td>\n      <td>23.500000</td>\n      <td>24.825000</td>\n      <td>25.000000</td>\n      <td>31.000000</td>\n      <td>3.250000</td>\n      <td>170.000000</td>\n      <td>5787.500000</td>\n      <td>2565.000000</td>\n      <td>19.000000</td>\n      <td>6.000000</td>\n      <td>192.000000</td>\n      <td>110.000000</td>\n      <td>72.000000</td>\n      <td>42.000000</td>\n      <td>30.000000</td>\n      <td>16.000000</td>\n      <td>3567.500000</td>\n    </tr>\n    <tr>\n      <th>max</th>\n      <td>45.400000</td>\n      <td>61.900000</td>\n      <td>80.000000</td>\n      <td>46.000000</td>\n      <td>50.000000</td>\n      <td>5.700000</td>\n      <td>300.000000</td>\n      <td>6500.000000</td>\n      <td>3755.000000</td>\n      <td>27.000000</td>\n      <td>8.000000</td>\n      <td>219.000000</td>\n      <td>119.000000</td>\n      <td>78.000000</td>\n      <td>45.000000</td>\n      <td>36.000000</td>\n      <td>22.000000</td>\n      <td>4105.000000</td>\n    </tr>\n  </tbody>\n</table>\n</div>"
     },
     "execution_count": 87,
     "metadata": {},
     "output_type": "execute_result"
    }
   ],
   "source": [
    "df.describe()"
   ],
   "metadata": {
    "collapsed": false,
    "pycharm": {
     "name": "#%%\n"
    }
   }
  },
  {
   "cell_type": "code",
   "execution_count": 90,
   "outputs": [
    {
     "data": {
      "text/plain": "Manufacturer           object\nModel                  object\nType                   object\nMin.Price             float64\nPrice                 float64\nMax.Price             float64\nMPG.city              float64\nMPG.highway           float64\nAirBags                object\nDriveTrain             object\nCylinders              object\nEngineSize            float64\nHorsepower            float64\nRPM                   float64\nRev.per.mile          float64\nMan.trans.avail        object\nFuel.tank.capacity    float64\nPassengers            float64\nLength                float64\nWheelbase             float64\nWidth                 float64\nTurn.circle           float64\nRear.seat.room        float64\nLuggage.room          float64\nWeight                float64\nOrigin                 object\nMake                   object\ndtype: object"
     },
     "execution_count": 90,
     "metadata": {},
     "output_type": "execute_result"
    }
   ],
   "source": [
    "df.dtypes\n"
   ],
   "metadata": {
    "collapsed": false,
    "pycharm": {
     "name": "#%%\n"
    }
   }
  },
  {
   "cell_type": "markdown",
   "source": [
    "38. How to extract the row and column number of a particular cell with given criterion\n",
    "Which manufacturer, model and type has the highest Price?\n",
    "What is the row and column number of the cell with the highest Price value?"
   ],
   "metadata": {
    "collapsed": false,
    "pycharm": {
     "name": "#%% md\n"
    }
   }
  },
  {
   "cell_type": "code",
   "execution_count": 91,
   "outputs": [],
   "source": [
    "df = pd.read_csv('https://raw.githubusercontent.com/selva86/datasets/master/Cars93_miss.csv')\n"
   ],
   "metadata": {
    "collapsed": false,
    "pycharm": {
     "name": "#%%\n"
    }
   }
  },
  {
   "cell_type": "code",
   "execution_count": 98,
   "outputs": [
    {
     "data": {
      "text/plain": "     Manufacturer Model     Type  Min.Price  Price  Max.Price  MPG.city  \\\n58  Mercedes-Benz  300E  Midsize       43.8   61.9       80.0      19.0   \n\n    MPG.highway             AirBags DriveTrain  ... Passengers  Length  \\\n58         25.0  Driver & Passenger       Rear  ...        5.0     NaN   \n\n    Wheelbase  Width  Turn.circle Rear.seat.room  Luggage.room  Weight  \\\n58      110.0   69.0         37.0            NaN          15.0  3525.0   \n\n     Origin                Make  \n58  non-USA  Mercedes-Benz 300E  \n\n[1 rows x 27 columns]",
      "text/html": "<div>\n<style scoped>\n    .dataframe tbody tr th:only-of-type {\n        vertical-align: middle;\n    }\n\n    .dataframe tbody tr th {\n        vertical-align: top;\n    }\n\n    .dataframe thead th {\n        text-align: right;\n    }\n</style>\n<table border=\"1\" class=\"dataframe\">\n  <thead>\n    <tr style=\"text-align: right;\">\n      <th></th>\n      <th>Manufacturer</th>\n      <th>Model</th>\n      <th>Type</th>\n      <th>Min.Price</th>\n      <th>Price</th>\n      <th>Max.Price</th>\n      <th>MPG.city</th>\n      <th>MPG.highway</th>\n      <th>AirBags</th>\n      <th>DriveTrain</th>\n      <th>...</th>\n      <th>Passengers</th>\n      <th>Length</th>\n      <th>Wheelbase</th>\n      <th>Width</th>\n      <th>Turn.circle</th>\n      <th>Rear.seat.room</th>\n      <th>Luggage.room</th>\n      <th>Weight</th>\n      <th>Origin</th>\n      <th>Make</th>\n    </tr>\n  </thead>\n  <tbody>\n    <tr>\n      <th>58</th>\n      <td>Mercedes-Benz</td>\n      <td>300E</td>\n      <td>Midsize</td>\n      <td>43.8</td>\n      <td>61.9</td>\n      <td>80.0</td>\n      <td>19.0</td>\n      <td>25.0</td>\n      <td>Driver &amp; Passenger</td>\n      <td>Rear</td>\n      <td>...</td>\n      <td>5.0</td>\n      <td>NaN</td>\n      <td>110.0</td>\n      <td>69.0</td>\n      <td>37.0</td>\n      <td>NaN</td>\n      <td>15.0</td>\n      <td>3525.0</td>\n      <td>non-USA</td>\n      <td>Mercedes-Benz 300E</td>\n    </tr>\n  </tbody>\n</table>\n<p>1 rows × 27 columns</p>\n</div>"
     },
     "execution_count": 98,
     "metadata": {},
     "output_type": "execute_result"
    }
   ],
   "source": [
    "df[df.index == df['Price'].idxmax()]"
   ],
   "metadata": {
    "collapsed": false,
    "pycharm": {
     "name": "#%%\n"
    }
   }
  },
  {
   "cell_type": "markdown",
   "source": [
    "39. How to rename a specific columns in a dataframe\n",
    "Rename the column Type as CarType in df and replace the ‘.’ in column names with ‘_’."
   ],
   "metadata": {
    "collapsed": false,
    "pycharm": {
     "name": "#%% md\n"
    }
   }
  },
  {
   "cell_type": "code",
   "execution_count": 99,
   "outputs": [],
   "source": [
    "df = pd.read_csv('https://raw.githubusercontent.com/selva86/datasets/master/Cars93_miss.csv')"
   ],
   "metadata": {
    "collapsed": false,
    "pycharm": {
     "name": "#%%\n"
    }
   }
  },
  {
   "cell_type": "code",
   "execution_count": 103,
   "outputs": [],
   "source": [
    "col = df.columns"
   ],
   "metadata": {
    "collapsed": false,
    "pycharm": {
     "name": "#%%\n"
    }
   }
  },
  {
   "cell_type": "code",
   "execution_count": 120,
   "outputs": [],
   "source": [
    "new_col_names = [w.replace('.','_') for w in col]"
   ],
   "metadata": {
    "collapsed": false,
    "pycharm": {
     "name": "#%%\n"
    }
   }
  },
  {
   "cell_type": "code",
   "execution_count": 122,
   "outputs": [],
   "source": [
    "df.columns = new_col_names"
   ],
   "metadata": {
    "collapsed": false,
    "pycharm": {
     "name": "#%%\n"
    }
   }
  },
  {
   "cell_type": "code",
   "execution_count": 125,
   "outputs": [],
   "source": [
    "df.rename(columns={'Type':'CarType'}, inplace=True)"
   ],
   "metadata": {
    "collapsed": false,
    "pycharm": {
     "name": "#%%\n"
    }
   }
  },
  {
   "cell_type": "markdown",
   "source": [
    "40. How to check if a dataframe has any missing values\n",
    "Check if df has any missing values."
   ],
   "metadata": {
    "collapsed": false,
    "pycharm": {
     "name": "#%% md\n"
    }
   }
  },
  {
   "cell_type": "code",
   "execution_count": 126,
   "outputs": [],
   "source": [
    "df = pd.read_csv('https://raw.githubusercontent.com/selva86/datasets/master/Cars93_miss.csv')"
   ],
   "metadata": {
    "collapsed": false,
    "pycharm": {
     "name": "#%%\n"
    }
   }
  },
  {
   "cell_type": "code",
   "execution_count": 128,
   "outputs": [
    {
     "data": {
      "text/plain": "    Manufacturer  Model   Type  Min.Price  Price  Max.Price  MPG.city  \\\n0          False  False  False      False  False      False     False   \n1           True  False  False      False  False      False     False   \n2          False  False  False      False  False      False     False   \n3          False  False  False       True  False      False     False   \n4          False  False  False       True  False       True     False   \n..           ...    ...    ...        ...    ...        ...       ...   \n88         False  False  False      False  False      False     False   \n89         False  False  False      False  False      False     False   \n90         False  False  False      False  False      False     False   \n91         False  False  False      False  False      False     False   \n92          True  False  False      False  False      False     False   \n\n    MPG.highway  AirBags  DriveTrain  ...  Passengers  Length  Wheelbase  \\\n0         False    False       False  ...       False   False      False   \n1         False    False       False  ...       False   False      False   \n2         False    False       False  ...       False   False      False   \n3         False    False        True  ...       False   False      False   \n4         False     True       False  ...       False   False      False   \n..          ...      ...         ...  ...         ...     ...        ...   \n88        False    False       False  ...       False   False      False   \n89        False    False       False  ...       False   False      False   \n90        False    False       False  ...       False   False      False   \n91        False    False       False  ...       False   False      False   \n92        False    False       False  ...       False   False      False   \n\n    Width  Turn.circle  Rear.seat.room  Luggage.room  Weight  Origin   Make  \n0   False        False           False          True   False   False  False  \n1   False        False           False         False   False   False  False  \n2   False        False           False         False   False   False  False  \n3    True        False           False         False   False   False  False  \n4   False        False           False         False   False   False  False  \n..    ...          ...             ...           ...     ...     ...    ...  \n88  False        False           False          True   False    True  False  \n89  False        False           False         False   False   False  False  \n90  False        False           False         False   False   False  False  \n91  False        False           False         False   False   False  False  \n92  False        False           False         False   False   False  False  \n\n[93 rows x 27 columns]",
      "text/html": "<div>\n<style scoped>\n    .dataframe tbody tr th:only-of-type {\n        vertical-align: middle;\n    }\n\n    .dataframe tbody tr th {\n        vertical-align: top;\n    }\n\n    .dataframe thead th {\n        text-align: right;\n    }\n</style>\n<table border=\"1\" class=\"dataframe\">\n  <thead>\n    <tr style=\"text-align: right;\">\n      <th></th>\n      <th>Manufacturer</th>\n      <th>Model</th>\n      <th>Type</th>\n      <th>Min.Price</th>\n      <th>Price</th>\n      <th>Max.Price</th>\n      <th>MPG.city</th>\n      <th>MPG.highway</th>\n      <th>AirBags</th>\n      <th>DriveTrain</th>\n      <th>...</th>\n      <th>Passengers</th>\n      <th>Length</th>\n      <th>Wheelbase</th>\n      <th>Width</th>\n      <th>Turn.circle</th>\n      <th>Rear.seat.room</th>\n      <th>Luggage.room</th>\n      <th>Weight</th>\n      <th>Origin</th>\n      <th>Make</th>\n    </tr>\n  </thead>\n  <tbody>\n    <tr>\n      <th>0</th>\n      <td>False</td>\n      <td>False</td>\n      <td>False</td>\n      <td>False</td>\n      <td>False</td>\n      <td>False</td>\n      <td>False</td>\n      <td>False</td>\n      <td>False</td>\n      <td>False</td>\n      <td>...</td>\n      <td>False</td>\n      <td>False</td>\n      <td>False</td>\n      <td>False</td>\n      <td>False</td>\n      <td>False</td>\n      <td>True</td>\n      <td>False</td>\n      <td>False</td>\n      <td>False</td>\n    </tr>\n    <tr>\n      <th>1</th>\n      <td>True</td>\n      <td>False</td>\n      <td>False</td>\n      <td>False</td>\n      <td>False</td>\n      <td>False</td>\n      <td>False</td>\n      <td>False</td>\n      <td>False</td>\n      <td>False</td>\n      <td>...</td>\n      <td>False</td>\n      <td>False</td>\n      <td>False</td>\n      <td>False</td>\n      <td>False</td>\n      <td>False</td>\n      <td>False</td>\n      <td>False</td>\n      <td>False</td>\n      <td>False</td>\n    </tr>\n    <tr>\n      <th>2</th>\n      <td>False</td>\n      <td>False</td>\n      <td>False</td>\n      <td>False</td>\n      <td>False</td>\n      <td>False</td>\n      <td>False</td>\n      <td>False</td>\n      <td>False</td>\n      <td>False</td>\n      <td>...</td>\n      <td>False</td>\n      <td>False</td>\n      <td>False</td>\n      <td>False</td>\n      <td>False</td>\n      <td>False</td>\n      <td>False</td>\n      <td>False</td>\n      <td>False</td>\n      <td>False</td>\n    </tr>\n    <tr>\n      <th>3</th>\n      <td>False</td>\n      <td>False</td>\n      <td>False</td>\n      <td>True</td>\n      <td>False</td>\n      <td>False</td>\n      <td>False</td>\n      <td>False</td>\n      <td>False</td>\n      <td>True</td>\n      <td>...</td>\n      <td>False</td>\n      <td>False</td>\n      <td>False</td>\n      <td>True</td>\n      <td>False</td>\n      <td>False</td>\n      <td>False</td>\n      <td>False</td>\n      <td>False</td>\n      <td>False</td>\n    </tr>\n    <tr>\n      <th>4</th>\n      <td>False</td>\n      <td>False</td>\n      <td>False</td>\n      <td>True</td>\n      <td>False</td>\n      <td>True</td>\n      <td>False</td>\n      <td>False</td>\n      <td>True</td>\n      <td>False</td>\n      <td>...</td>\n      <td>False</td>\n      <td>False</td>\n      <td>False</td>\n      <td>False</td>\n      <td>False</td>\n      <td>False</td>\n      <td>False</td>\n      <td>False</td>\n      <td>False</td>\n      <td>False</td>\n    </tr>\n    <tr>\n      <th>...</th>\n      <td>...</td>\n      <td>...</td>\n      <td>...</td>\n      <td>...</td>\n      <td>...</td>\n      <td>...</td>\n      <td>...</td>\n      <td>...</td>\n      <td>...</td>\n      <td>...</td>\n      <td>...</td>\n      <td>...</td>\n      <td>...</td>\n      <td>...</td>\n      <td>...</td>\n      <td>...</td>\n      <td>...</td>\n      <td>...</td>\n      <td>...</td>\n      <td>...</td>\n      <td>...</td>\n    </tr>\n    <tr>\n      <th>88</th>\n      <td>False</td>\n      <td>False</td>\n      <td>False</td>\n      <td>False</td>\n      <td>False</td>\n      <td>False</td>\n      <td>False</td>\n      <td>False</td>\n      <td>False</td>\n      <td>False</td>\n      <td>...</td>\n      <td>False</td>\n      <td>False</td>\n      <td>False</td>\n      <td>False</td>\n      <td>False</td>\n      <td>False</td>\n      <td>True</td>\n      <td>False</td>\n      <td>True</td>\n      <td>False</td>\n    </tr>\n    <tr>\n      <th>89</th>\n      <td>False</td>\n      <td>False</td>\n      <td>False</td>\n      <td>False</td>\n      <td>False</td>\n      <td>False</td>\n      <td>False</td>\n      <td>False</td>\n      <td>False</td>\n      <td>False</td>\n      <td>...</td>\n      <td>False</td>\n      <td>False</td>\n      <td>False</td>\n      <td>False</td>\n      <td>False</td>\n      <td>False</td>\n      <td>False</td>\n      <td>False</td>\n      <td>False</td>\n      <td>False</td>\n    </tr>\n    <tr>\n      <th>90</th>\n      <td>False</td>\n      <td>False</td>\n      <td>False</td>\n      <td>False</td>\n      <td>False</td>\n      <td>False</td>\n      <td>False</td>\n      <td>False</td>\n      <td>False</td>\n      <td>False</td>\n      <td>...</td>\n      <td>False</td>\n      <td>False</td>\n      <td>False</td>\n      <td>False</td>\n      <td>False</td>\n      <td>False</td>\n      <td>False</td>\n      <td>False</td>\n      <td>False</td>\n      <td>False</td>\n    </tr>\n    <tr>\n      <th>91</th>\n      <td>False</td>\n      <td>False</td>\n      <td>False</td>\n      <td>False</td>\n      <td>False</td>\n      <td>False</td>\n      <td>False</td>\n      <td>False</td>\n      <td>False</td>\n      <td>False</td>\n      <td>...</td>\n      <td>False</td>\n      <td>False</td>\n      <td>False</td>\n      <td>False</td>\n      <td>False</td>\n      <td>False</td>\n      <td>False</td>\n      <td>False</td>\n      <td>False</td>\n      <td>False</td>\n    </tr>\n    <tr>\n      <th>92</th>\n      <td>True</td>\n      <td>False</td>\n      <td>False</td>\n      <td>False</td>\n      <td>False</td>\n      <td>False</td>\n      <td>False</td>\n      <td>False</td>\n      <td>False</td>\n      <td>False</td>\n      <td>...</td>\n      <td>False</td>\n      <td>False</td>\n      <td>False</td>\n      <td>False</td>\n      <td>False</td>\n      <td>False</td>\n      <td>False</td>\n      <td>False</td>\n      <td>False</td>\n      <td>False</td>\n    </tr>\n  </tbody>\n</table>\n<p>93 rows × 27 columns</p>\n</div>"
     },
     "execution_count": 128,
     "metadata": {},
     "output_type": "execute_result"
    }
   ],
   "source": [
    "df.isnull()"
   ],
   "metadata": {
    "collapsed": false,
    "pycharm": {
     "name": "#%%\n"
    }
   }
  },
  {
   "cell_type": "code",
   "execution_count": 130,
   "outputs": [
    {
     "data": {
      "text/plain": "   Manufacturer    Model     Type  Min.Price  Price  Max.Price  MPG.city  \\\n0         Acura  Integra    Small       12.9   15.9       18.8      25.0   \n1           NaN   Legend  Midsize       29.2   33.9       38.7      18.0   \n2          Audi       90  Compact       25.9   29.1       32.3      20.0   \n3          Audi      100  Midsize        NaN   37.7       44.6      19.0   \n4           BMW     535i  Midsize        NaN   30.0        NaN      22.0   \n..          ...      ...      ...        ...    ...        ...       ...   \n88   Volkswagen  Eurovan      Van       16.6   19.7       22.7      17.0   \n89   Volkswagen   Passat  Compact       17.6   20.0       22.4      21.0   \n90   Volkswagen  Corrado   Sporty       22.9   23.3       23.7      18.0   \n91        Volvo      240  Compact       21.8   22.7       23.5      21.0   \n92          NaN      850  Midsize       24.8   26.7       28.5      20.0   \n\n    MPG.highway             AirBags DriveTrain  ... Passengers  Length  \\\n0          31.0                None      Front  ...        5.0   177.0   \n1          25.0  Driver & Passenger      Front  ...        5.0   195.0   \n2          26.0         Driver only      Front  ...        5.0   180.0   \n3          26.0  Driver & Passenger        NaN  ...        6.0   193.0   \n4          30.0                 NaN       Rear  ...        4.0   186.0   \n..          ...                 ...        ...  ...        ...     ...   \n88         21.0                None      Front  ...        7.0   187.0   \n89         30.0                None      Front  ...        5.0   180.0   \n90         25.0                None      Front  ...        4.0   159.0   \n91         28.0         Driver only       Rear  ...        5.0   190.0   \n92         28.0  Driver & Passenger      Front  ...        5.0   184.0   \n\n    Wheelbase  Width  Turn.circle Rear.seat.room  Luggage.room  Weight  \\\n0       102.0   68.0         37.0           26.5           NaN  2705.0   \n1       115.0   71.0         38.0           30.0          15.0  3560.0   \n2       102.0   67.0         37.0           28.0          14.0  3375.0   \n3       106.0    NaN         37.0           31.0          17.0  3405.0   \n4       109.0   69.0         39.0           27.0          13.0  3640.0   \n..        ...    ...          ...            ...           ...     ...   \n88      115.0   72.0         38.0           34.0           NaN  3960.0   \n89      103.0   67.0         35.0           31.5          14.0  2985.0   \n90       97.0   66.0         36.0           26.0          15.0  2810.0   \n91      104.0   67.0         37.0           29.5          14.0  2985.0   \n92      105.0   69.0         38.0           30.0          15.0  3245.0   \n\n     Origin                Make  \n0   non-USA       Acura Integra  \n1   non-USA        Acura Legend  \n2   non-USA             Audi 90  \n3   non-USA            Audi 100  \n4   non-USA            BMW 535i  \n..      ...                 ...  \n88      NaN  Volkswagen Eurovan  \n89  non-USA   Volkswagen Passat  \n90  non-USA  Volkswagen Corrado  \n91  non-USA           Volvo 240  \n92  non-USA           Volvo 850  \n\n[93 rows x 27 columns]",
      "text/html": "<div>\n<style scoped>\n    .dataframe tbody tr th:only-of-type {\n        vertical-align: middle;\n    }\n\n    .dataframe tbody tr th {\n        vertical-align: top;\n    }\n\n    .dataframe thead th {\n        text-align: right;\n    }\n</style>\n<table border=\"1\" class=\"dataframe\">\n  <thead>\n    <tr style=\"text-align: right;\">\n      <th></th>\n      <th>Manufacturer</th>\n      <th>Model</th>\n      <th>Type</th>\n      <th>Min.Price</th>\n      <th>Price</th>\n      <th>Max.Price</th>\n      <th>MPG.city</th>\n      <th>MPG.highway</th>\n      <th>AirBags</th>\n      <th>DriveTrain</th>\n      <th>...</th>\n      <th>Passengers</th>\n      <th>Length</th>\n      <th>Wheelbase</th>\n      <th>Width</th>\n      <th>Turn.circle</th>\n      <th>Rear.seat.room</th>\n      <th>Luggage.room</th>\n      <th>Weight</th>\n      <th>Origin</th>\n      <th>Make</th>\n    </tr>\n  </thead>\n  <tbody>\n    <tr>\n      <th>0</th>\n      <td>Acura</td>\n      <td>Integra</td>\n      <td>Small</td>\n      <td>12.9</td>\n      <td>15.9</td>\n      <td>18.8</td>\n      <td>25.0</td>\n      <td>31.0</td>\n      <td>None</td>\n      <td>Front</td>\n      <td>...</td>\n      <td>5.0</td>\n      <td>177.0</td>\n      <td>102.0</td>\n      <td>68.0</td>\n      <td>37.0</td>\n      <td>26.5</td>\n      <td>NaN</td>\n      <td>2705.0</td>\n      <td>non-USA</td>\n      <td>Acura Integra</td>\n    </tr>\n    <tr>\n      <th>1</th>\n      <td>NaN</td>\n      <td>Legend</td>\n      <td>Midsize</td>\n      <td>29.2</td>\n      <td>33.9</td>\n      <td>38.7</td>\n      <td>18.0</td>\n      <td>25.0</td>\n      <td>Driver &amp; Passenger</td>\n      <td>Front</td>\n      <td>...</td>\n      <td>5.0</td>\n      <td>195.0</td>\n      <td>115.0</td>\n      <td>71.0</td>\n      <td>38.0</td>\n      <td>30.0</td>\n      <td>15.0</td>\n      <td>3560.0</td>\n      <td>non-USA</td>\n      <td>Acura Legend</td>\n    </tr>\n    <tr>\n      <th>2</th>\n      <td>Audi</td>\n      <td>90</td>\n      <td>Compact</td>\n      <td>25.9</td>\n      <td>29.1</td>\n      <td>32.3</td>\n      <td>20.0</td>\n      <td>26.0</td>\n      <td>Driver only</td>\n      <td>Front</td>\n      <td>...</td>\n      <td>5.0</td>\n      <td>180.0</td>\n      <td>102.0</td>\n      <td>67.0</td>\n      <td>37.0</td>\n      <td>28.0</td>\n      <td>14.0</td>\n      <td>3375.0</td>\n      <td>non-USA</td>\n      <td>Audi 90</td>\n    </tr>\n    <tr>\n      <th>3</th>\n      <td>Audi</td>\n      <td>100</td>\n      <td>Midsize</td>\n      <td>NaN</td>\n      <td>37.7</td>\n      <td>44.6</td>\n      <td>19.0</td>\n      <td>26.0</td>\n      <td>Driver &amp; Passenger</td>\n      <td>NaN</td>\n      <td>...</td>\n      <td>6.0</td>\n      <td>193.0</td>\n      <td>106.0</td>\n      <td>NaN</td>\n      <td>37.0</td>\n      <td>31.0</td>\n      <td>17.0</td>\n      <td>3405.0</td>\n      <td>non-USA</td>\n      <td>Audi 100</td>\n    </tr>\n    <tr>\n      <th>4</th>\n      <td>BMW</td>\n      <td>535i</td>\n      <td>Midsize</td>\n      <td>NaN</td>\n      <td>30.0</td>\n      <td>NaN</td>\n      <td>22.0</td>\n      <td>30.0</td>\n      <td>NaN</td>\n      <td>Rear</td>\n      <td>...</td>\n      <td>4.0</td>\n      <td>186.0</td>\n      <td>109.0</td>\n      <td>69.0</td>\n      <td>39.0</td>\n      <td>27.0</td>\n      <td>13.0</td>\n      <td>3640.0</td>\n      <td>non-USA</td>\n      <td>BMW 535i</td>\n    </tr>\n    <tr>\n      <th>...</th>\n      <td>...</td>\n      <td>...</td>\n      <td>...</td>\n      <td>...</td>\n      <td>...</td>\n      <td>...</td>\n      <td>...</td>\n      <td>...</td>\n      <td>...</td>\n      <td>...</td>\n      <td>...</td>\n      <td>...</td>\n      <td>...</td>\n      <td>...</td>\n      <td>...</td>\n      <td>...</td>\n      <td>...</td>\n      <td>...</td>\n      <td>...</td>\n      <td>...</td>\n      <td>...</td>\n    </tr>\n    <tr>\n      <th>88</th>\n      <td>Volkswagen</td>\n      <td>Eurovan</td>\n      <td>Van</td>\n      <td>16.6</td>\n      <td>19.7</td>\n      <td>22.7</td>\n      <td>17.0</td>\n      <td>21.0</td>\n      <td>None</td>\n      <td>Front</td>\n      <td>...</td>\n      <td>7.0</td>\n      <td>187.0</td>\n      <td>115.0</td>\n      <td>72.0</td>\n      <td>38.0</td>\n      <td>34.0</td>\n      <td>NaN</td>\n      <td>3960.0</td>\n      <td>NaN</td>\n      <td>Volkswagen Eurovan</td>\n    </tr>\n    <tr>\n      <th>89</th>\n      <td>Volkswagen</td>\n      <td>Passat</td>\n      <td>Compact</td>\n      <td>17.6</td>\n      <td>20.0</td>\n      <td>22.4</td>\n      <td>21.0</td>\n      <td>30.0</td>\n      <td>None</td>\n      <td>Front</td>\n      <td>...</td>\n      <td>5.0</td>\n      <td>180.0</td>\n      <td>103.0</td>\n      <td>67.0</td>\n      <td>35.0</td>\n      <td>31.5</td>\n      <td>14.0</td>\n      <td>2985.0</td>\n      <td>non-USA</td>\n      <td>Volkswagen Passat</td>\n    </tr>\n    <tr>\n      <th>90</th>\n      <td>Volkswagen</td>\n      <td>Corrado</td>\n      <td>Sporty</td>\n      <td>22.9</td>\n      <td>23.3</td>\n      <td>23.7</td>\n      <td>18.0</td>\n      <td>25.0</td>\n      <td>None</td>\n      <td>Front</td>\n      <td>...</td>\n      <td>4.0</td>\n      <td>159.0</td>\n      <td>97.0</td>\n      <td>66.0</td>\n      <td>36.0</td>\n      <td>26.0</td>\n      <td>15.0</td>\n      <td>2810.0</td>\n      <td>non-USA</td>\n      <td>Volkswagen Corrado</td>\n    </tr>\n    <tr>\n      <th>91</th>\n      <td>Volvo</td>\n      <td>240</td>\n      <td>Compact</td>\n      <td>21.8</td>\n      <td>22.7</td>\n      <td>23.5</td>\n      <td>21.0</td>\n      <td>28.0</td>\n      <td>Driver only</td>\n      <td>Rear</td>\n      <td>...</td>\n      <td>5.0</td>\n      <td>190.0</td>\n      <td>104.0</td>\n      <td>67.0</td>\n      <td>37.0</td>\n      <td>29.5</td>\n      <td>14.0</td>\n      <td>2985.0</td>\n      <td>non-USA</td>\n      <td>Volvo 240</td>\n    </tr>\n    <tr>\n      <th>92</th>\n      <td>NaN</td>\n      <td>850</td>\n      <td>Midsize</td>\n      <td>24.8</td>\n      <td>26.7</td>\n      <td>28.5</td>\n      <td>20.0</td>\n      <td>28.0</td>\n      <td>Driver &amp; Passenger</td>\n      <td>Front</td>\n      <td>...</td>\n      <td>5.0</td>\n      <td>184.0</td>\n      <td>105.0</td>\n      <td>69.0</td>\n      <td>38.0</td>\n      <td>30.0</td>\n      <td>15.0</td>\n      <td>3245.0</td>\n      <td>non-USA</td>\n      <td>Volvo 850</td>\n    </tr>\n  </tbody>\n</table>\n<p>93 rows × 27 columns</p>\n</div>"
     },
     "execution_count": 130,
     "metadata": {},
     "output_type": "execute_result"
    }
   ],
   "source": [
    "df"
   ],
   "metadata": {
    "collapsed": false,
    "pycharm": {
     "name": "#%%\n"
    }
   }
  },
  {
   "cell_type": "code",
   "execution_count": null,
   "outputs": [],
   "source": [],
   "metadata": {
    "collapsed": false,
    "pycharm": {
     "name": "#%%\n"
    }
   }
  },
  {
   "cell_type": "code",
   "execution_count": null,
   "outputs": [],
   "source": [],
   "metadata": {
    "collapsed": false,
    "pycharm": {
     "name": "#%%\n"
    }
   }
  }
 ],
 "metadata": {
  "kernelspec": {
   "display_name": "Python 3",
   "language": "python",
   "name": "python3"
  },
  "language_info": {
   "codemirror_mode": {
    "name": "ipython",
    "version": 2
   },
   "file_extension": ".py",
   "mimetype": "text/x-python",
   "name": "python",
   "nbconvert_exporter": "python",
   "pygments_lexer": "ipython2",
   "version": "2.7.6"
  }
 },
 "nbformat": 4,
 "nbformat_minor": 0
}
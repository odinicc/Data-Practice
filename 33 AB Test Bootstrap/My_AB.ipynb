{
 "cells": [
  {
   "cell_type": "code",
   "execution_count": 1,
   "metadata": {
    "collapsed": true,
    "pycharm": {
     "name": "#%%\n"
    }
   },
   "outputs": [],
   "source": [
    "# Base\n",
    "# -----------------------------------\n",
    "import numpy as np\n",
    "import pandas as pd\n",
    "import seaborn as sns\n",
    "import matplotlib.pyplot as plt\n",
    "import os\n",
    "\n",
    "# Hypothesis Testing\n",
    "# -----------------------------------\n",
    "from scipy.stats import shapiro\n",
    "import scipy.stats as stats\n",
    "\n",
    "# Configuration\n",
    "# -----------------------------------\n",
    "import warnings\n",
    "warnings.filterwarnings(\"ignore\")\n",
    "warnings.simplefilter(action='ignore', category=FutureWarning)\n",
    "\n",
    "pd.set_option('display.max_columns', None)\n",
    "pd.options.display.float_format = '{:.4f}'.format"
   ]
  },
  {
   "cell_type": "code",
   "execution_count": 4,
   "outputs": [],
   "source": [
    "path = \"./cookie_cats.csv\"\n",
    "\n",
    "def load(path, info = True):\n",
    "\n",
    "    import pandas as pd\n",
    "    import io\n",
    "\n",
    "    if len(path.split(\".csv\")) > 1:\n",
    "        read = pd.read_csv(path)\n",
    "    elif len(path.split(\".xlsx\")) > 1:\n",
    "        read = pd.read_excel(path)\n",
    "\n",
    "    if info:\n",
    "        if len(read) > 0:\n",
    "            print(\"# Data imported!\")\n",
    "            print(\"# ------------------------------------\", \"\\n\")\n",
    "\n",
    "            print(\"# DIMENSIONS -------------------------\")\n",
    "            print(\"Observation:\", read.shape[0], \"Column:\", read.shape[1], \"\\n\")\n",
    "\n",
    "            print(\"# DTYPES -----------------------------\")\n",
    "            if len(read.select_dtypes(\"object\").columns) > 0:\n",
    "                print(\"Object Variables:\", \"\\n\", \"# of Variables:\",\n",
    "                      len(read.select_dtypes(\"object\").columns), \"\\n\",\n",
    "                      read.select_dtypes(\"object\").columns.tolist(), \"\\n\")\n",
    "\n",
    "            if len(read.select_dtypes(\"integer\").columns) > 0:\n",
    "                print(\"Integer Variables:\", \"\\n\", \"# of Variables:\",\n",
    "                      len(read.select_dtypes(\"integer\").columns), \"\\n\",\n",
    "                      read.select_dtypes(\"integer\").columns.tolist(), \"\\n\")\n",
    "\n",
    "            if len(read.select_dtypes(\"float\").columns) > 0:\n",
    "                print(\"Float Variables:\", \"\\n\", \"# of Variables:\",\n",
    "                      len(read.select_dtypes(\"float\").columns), \"\\n\",\n",
    "                      read.select_dtypes(\"float\").columns.tolist(), \"\\n\")\n",
    "\n",
    "            if len(read.select_dtypes(\"bool\").columns) > 0:\n",
    "                print(\"Bool Variables:\", \"\\n\", \"# of Variables:\",\n",
    "                      len(read.select_dtypes(\"bool\").columns), \"\\n\",\n",
    "                      read.select_dtypes(\"bool\").columns.tolist(), \"\\n\")\n",
    "\n",
    "            print(\"# MISSING VALUE ---------------------\")\n",
    "            print(\"Are there any missing values? \\n \", np.where(read.isnull().values.any() == False,\n",
    "                                                                \"No missing value!\", \"Data includes missing value!\"), \"\\n\")\n",
    "\n",
    "            buf = io.StringIO()\n",
    "            read.info(buf=buf)\n",
    "            info = buf.getvalue().split('\\n')[-2].split(\":\")[1].strip()\n",
    "            print(\"# MEMORY USAGE ---------------------- \\n\", info)\n",
    "\n",
    "        else:\n",
    "            print(\"# Data did not import!\")\n",
    "\n",
    "    return read"
   ],
   "metadata": {
    "collapsed": false,
    "pycharm": {
     "name": "#%%\n"
    }
   }
  },
  {
   "cell_type": "code",
   "execution_count": 6,
   "outputs": [
    {
     "name": "stdout",
     "output_type": "stream",
     "text": [
      "# Data imported!\n",
      "# ------------------------------------ \n",
      "\n",
      "# DIMENSIONS -------------------------\n",
      "Observation: 90189 Column: 5 \n",
      "\n",
      "# DTYPES -----------------------------\n",
      "Object Variables: \n",
      " # of Variables: 1 \n",
      " ['version'] \n",
      "\n",
      "Integer Variables: \n",
      " # of Variables: 2 \n",
      " ['userid', 'sum_gamerounds'] \n",
      "\n",
      "Bool Variables: \n",
      " # of Variables: 2 \n",
      " ['retention_1', 'retention_7'] \n",
      "\n",
      "# MISSING VALUE ---------------------\n",
      "Are there any missing values? \n",
      "  No missing value! \n",
      "\n",
      "# MEMORY USAGE ---------------------- \n",
      " 2.2+ MB\n"
     ]
    }
   ],
   "source": [
    "ab = load(path, info = True)\n"
   ],
   "metadata": {
    "collapsed": false,
    "pycharm": {
     "name": "#%%\n"
    }
   }
  },
  {
   "cell_type": "code",
   "execution_count": 7,
   "outputs": [
    {
     "data": {
      "text/plain": "   userid  version  sum_gamerounds  retention_1  retention_7\n0     116  gate_30               3        False        False\n1     337  gate_30              38         True        False\n2     377  gate_40             165         True        False\n3     483  gate_40               1        False        False\n4     488  gate_40             179         True         True",
      "text/html": "<div>\n<style scoped>\n    .dataframe tbody tr th:only-of-type {\n        vertical-align: middle;\n    }\n\n    .dataframe tbody tr th {\n        vertical-align: top;\n    }\n\n    .dataframe thead th {\n        text-align: right;\n    }\n</style>\n<table border=\"1\" class=\"dataframe\">\n  <thead>\n    <tr style=\"text-align: right;\">\n      <th></th>\n      <th>userid</th>\n      <th>version</th>\n      <th>sum_gamerounds</th>\n      <th>retention_1</th>\n      <th>retention_7</th>\n    </tr>\n  </thead>\n  <tbody>\n    <tr>\n      <th>0</th>\n      <td>116</td>\n      <td>gate_30</td>\n      <td>3</td>\n      <td>False</td>\n      <td>False</td>\n    </tr>\n    <tr>\n      <th>1</th>\n      <td>337</td>\n      <td>gate_30</td>\n      <td>38</td>\n      <td>True</td>\n      <td>False</td>\n    </tr>\n    <tr>\n      <th>2</th>\n      <td>377</td>\n      <td>gate_40</td>\n      <td>165</td>\n      <td>True</td>\n      <td>False</td>\n    </tr>\n    <tr>\n      <th>3</th>\n      <td>483</td>\n      <td>gate_40</td>\n      <td>1</td>\n      <td>False</td>\n      <td>False</td>\n    </tr>\n    <tr>\n      <th>4</th>\n      <td>488</td>\n      <td>gate_40</td>\n      <td>179</td>\n      <td>True</td>\n      <td>True</td>\n    </tr>\n  </tbody>\n</table>\n</div>"
     },
     "execution_count": 7,
     "metadata": {},
     "output_type": "execute_result"
    }
   ],
   "source": [
    "ab.head()"
   ],
   "metadata": {
    "collapsed": false,
    "pycharm": {
     "name": "#%%\n"
    }
   }
  },
  {
   "cell_type": "code",
   "execution_count": 10,
   "outputs": [
    {
     "name": "stdout",
     "output_type": "stream",
     "text": [
      "90189\n",
      "90189\n"
     ]
    }
   ],
   "source": [
    "# Number of Unique User equal to row\n",
    "print(ab.userid.nunique() )\n",
    "print(ab.shape[0] )"
   ],
   "metadata": {
    "collapsed": false,
    "pycharm": {
     "name": "#%%\n"
    }
   }
  },
  {
   "cell_type": "code",
   "execution_count": 11,
   "outputs": [
    {
     "data": {
      "text/plain": "                    count    mean      std    min     1%     5%    10%    20%  \\\nsum_gamerounds 90189.0000 51.8725 195.0509 0.0000 0.0000 1.0000 1.0000 3.0000   \n\n                   50%     80%      90%      95%      99%        max  \nsum_gamerounds 16.0000 67.0000 134.0000 221.0000 493.0000 49854.0000  ",
      "text/html": "<div>\n<style scoped>\n    .dataframe tbody tr th:only-of-type {\n        vertical-align: middle;\n    }\n\n    .dataframe tbody tr th {\n        vertical-align: top;\n    }\n\n    .dataframe thead th {\n        text-align: right;\n    }\n</style>\n<table border=\"1\" class=\"dataframe\">\n  <thead>\n    <tr style=\"text-align: right;\">\n      <th></th>\n      <th>count</th>\n      <th>mean</th>\n      <th>std</th>\n      <th>min</th>\n      <th>1%</th>\n      <th>5%</th>\n      <th>10%</th>\n      <th>20%</th>\n      <th>50%</th>\n      <th>80%</th>\n      <th>90%</th>\n      <th>95%</th>\n      <th>99%</th>\n      <th>max</th>\n    </tr>\n  </thead>\n  <tbody>\n    <tr>\n      <th>sum_gamerounds</th>\n      <td>90189.0000</td>\n      <td>51.8725</td>\n      <td>195.0509</td>\n      <td>0.0000</td>\n      <td>0.0000</td>\n      <td>1.0000</td>\n      <td>1.0000</td>\n      <td>3.0000</td>\n      <td>16.0000</td>\n      <td>67.0000</td>\n      <td>134.0000</td>\n      <td>221.0000</td>\n      <td>493.0000</td>\n      <td>49854.0000</td>\n    </tr>\n  </tbody>\n</table>\n</div>"
     },
     "execution_count": 11,
     "metadata": {},
     "output_type": "execute_result"
    }
   ],
   "source": [
    "ab.describe([0.01, 0.05, 0.10, 0.20, 0.80, 0.90, 0.95, 0.99])[[\"sum_gamerounds\"]].T"
   ],
   "metadata": {
    "collapsed": false,
    "pycharm": {
     "name": "#%%\n"
    }
   }
  },
  {
   "cell_type": "code",
   "execution_count": 13,
   "outputs": [
    {
     "data": {
      "text/plain": "         count  median    mean      std    max\nversion                                       \ngate_30  44700 17.0000 52.4563 256.7164  49854\ngate_40  45489 16.0000 51.2988 103.2944   2640",
      "text/html": "<div>\n<style scoped>\n    .dataframe tbody tr th:only-of-type {\n        vertical-align: middle;\n    }\n\n    .dataframe tbody tr th {\n        vertical-align: top;\n    }\n\n    .dataframe thead th {\n        text-align: right;\n    }\n</style>\n<table border=\"1\" class=\"dataframe\">\n  <thead>\n    <tr style=\"text-align: right;\">\n      <th></th>\n      <th>count</th>\n      <th>median</th>\n      <th>mean</th>\n      <th>std</th>\n      <th>max</th>\n    </tr>\n    <tr>\n      <th>version</th>\n      <th></th>\n      <th></th>\n      <th></th>\n      <th></th>\n      <th></th>\n    </tr>\n  </thead>\n  <tbody>\n    <tr>\n      <th>gate_30</th>\n      <td>44700</td>\n      <td>17.0000</td>\n      <td>52.4563</td>\n      <td>256.7164</td>\n      <td>49854</td>\n    </tr>\n    <tr>\n      <th>gate_40</th>\n      <td>45489</td>\n      <td>16.0000</td>\n      <td>51.2988</td>\n      <td>103.2944</td>\n      <td>2640</td>\n    </tr>\n  </tbody>\n</table>\n</div>"
     },
     "execution_count": 13,
     "metadata": {},
     "output_type": "execute_result"
    }
   ],
   "source": [
    "# A/B Groups & Target Summary Stats\n",
    "ab.groupby(\"version\").sum_gamerounds.agg([\"count\", \"median\", \"mean\", \"std\", \"max\"])"
   ],
   "metadata": {
    "collapsed": false,
    "pycharm": {
     "name": "#%%\n"
    }
   }
  }
 ],
 "metadata": {
  "kernelspec": {
   "display_name": "Python 3",
   "language": "python",
   "name": "python3"
  },
  "language_info": {
   "codemirror_mode": {
    "name": "ipython",
    "version": 2
   },
   "file_extension": ".py",
   "mimetype": "text/x-python",
   "name": "python",
   "nbconvert_exporter": "python",
   "pygments_lexer": "ipython2",
   "version": "2.7.6"
  }
 },
 "nbformat": 4,
 "nbformat_minor": 0
}
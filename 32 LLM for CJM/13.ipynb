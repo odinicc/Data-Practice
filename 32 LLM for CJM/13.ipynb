{
 "cells": [
  {
   "cell_type": "code",
   "execution_count": null,
   "metadata": {
    "collapsed": true,
    "pycharm": {
     "name": "#%%\n"
    }
   },
   "outputs": [],
   "source": []
  },
  {
   "cell_type": "code",
   "execution_count": 4,
   "outputs": [],
   "source": [
    "# -*- coding: utf-8 -*-\n",
    "from openai import OpenAI\n",
    "import numpy as np\n",
    "import pandas as pd\n",
    "\n",
    "client = OpenAI(\n",
    "    api_key=\"sk-K9QGaTdbLnrs4ux3t1zFZQJ41osq8lYQ\",\n",
    "    base_url=\"https://api.proxyapi.ru/openai/v1\",\n",
    ")\n",
    "\n",
    "#function to make embeding from text\n",
    "def get_embedding(text):\n",
    "    model=\"text-embedding-ada-002\"\n",
    "    text = text.replace(\"\\n\", \" \")\n",
    "    return client.embeddings.create(input = [text], model=model).data[0].embedding\n",
    "\n",
    "\n",
    "#find content_name text in campaign promt\n",
    "def find_content_name_in_promt():\n",
    "\n",
    "    #read campaign_promt\n",
    "    with open('campaign_promt.txt', 'r',encoding='utf-8') as file:\n",
    "        # Read the entire file content into a single string\n",
    "        content = file.read()\n",
    "        content = content.replace('\\n', ' ')\n",
    "    promt_to_get_content_name_name = '\"'+ content + '\"' + ' -Это описание маркетинговой кампании. Пожлауйста верни только название шаблона из нее на русском языке. Важно только название шаблона без лишних слов. В названии шаблона также укажи один из каналов SMS ,Email, Push '\n",
    "    chat_completion = client.chat.completions.create(\n",
    "        model=\"gpt-4o\", messages=[{\"role\": \"system\", \"content\": promt_to_get_content_name_name}]\n",
    "    )\n",
    "\n",
    "\n",
    "\n",
    "    promt_content_name = chat_completion.choices[0].message.content\n",
    "    return promt_content_name\n",
    "\n",
    "promt_content_name = find_content_name_in_promt()\n",
    "promt_content_embedding = get_embedding(promt_content_name)\n",
    "\n",
    "def find_simmilar_content_num(promt_content_embedding):\n",
    "    content_embedding_table =  '03 df_content_embedding.json'\n",
    "    df_content_embedding = pd.read_json(content_embedding_table)\n",
    "    df_content_embedding['sim_score']= df_content_embedding.apply(lambda x: np.dot(x['embedding'],promt_content_embedding), axis=1)\n",
    "    target_content = int(df_content_embedding.iloc[[df_content_embedding['sim_score'].idxmax()]]['Content_id'].iloc[0])\n",
    "    target_content_channel = df_content_embedding.iloc[[df_content_embedding['sim_score'].idxmax()]]['Channel'].iloc[0]\n",
    "    target_content_sim_score = df_content_embedding.iloc[[df_content_embedding['sim_score'].idxmax()]]['sim_score'].iloc[0]\n",
    "    return target_content , target_content_sim_score , target_content_channel\n",
    "\n",
    "target_content , target_content_sim_score ,target_content_channel= find_simmilar_content_num(promt_content_embedding)\n",
    "\n",
    "import sys\n",
    "\n",
    "\n",
    "\n",
    "\n",
    "\n",
    "\n"
   ],
   "metadata": {
    "collapsed": false,
    "pycharm": {
     "name": "#%%\n"
    }
   }
  },
  {
   "cell_type": "code",
   "execution_count": 6,
   "outputs": [
    {
     "data": {
      "text/plain": "['SMS', 64]"
     },
     "execution_count": 6,
     "metadata": {},
     "output_type": "execute_result"
    }
   ],
   "source": [
    "[target_content_channel,target_content]"
   ],
   "metadata": {
    "collapsed": false,
    "pycharm": {
     "name": "#%%\n"
    }
   }
  },
  {
   "cell_type": "code",
   "execution_count": null,
   "outputs": [],
   "source": [
    "sys.stdout.reconfigure(encoding='utf-8')\n",
    "print([target_content_channel,target_content])  # This prints the result which will be captured by script1.py"
   ],
   "metadata": {
    "collapsed": false,
    "pycharm": {
     "name": "#%%\n"
    }
   }
  }
 ],
 "metadata": {
  "kernelspec": {
   "display_name": "Python 3",
   "language": "python",
   "name": "python3"
  },
  "language_info": {
   "codemirror_mode": {
    "name": "ipython",
    "version": 2
   },
   "file_extension": ".py",
   "mimetype": "text/x-python",
   "name": "python",
   "nbconvert_exporter": "python",
   "pygments_lexer": "ipython2",
   "version": "2.7.6"
  }
 },
 "nbformat": 4,
 "nbformat_minor": 0
}
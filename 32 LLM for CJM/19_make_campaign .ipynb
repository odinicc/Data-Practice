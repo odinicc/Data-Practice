{
 "cells": [
  {
   "cell_type": "code",
   "execution_count": 1,
   "metadata": {
    "collapsed": true,
    "pycharm": {
     "name": "#%%\n"
    }
   },
   "outputs": [],
   "source": [
    "import subprocess\n",
    "import json\n"
   ]
  },
  {
   "cell_type": "code",
   "execution_count": null,
   "outputs": [],
   "source": [
    "# Run 11_find_segment.py and capture proper segment from description promt\n",
    "\n",
    "result_segment = subprocess.run(['python', '11_find_segment.py'], capture_output=True, text=True)\n",
    "result_cam_name = subprocess.run(['python', '16_find_cam_name.py'], capture_output=True, text=True)\n",
    "# read segment output\n",
    "output_segment = result_segment.stdout.strip()  # Capture and clean the output\n",
    "try:\n",
    "    value_segment = int(output_segment)  # Assuming the output is an integer\n",
    "except ValueError:\n",
    "    print(\"Error: The output from 11_find_segment.py is not a valid integer.\")\n",
    "print (value_segment)\n",
    "# read campaign name output\n",
    "output_cam_name = result_cam_name.stdout.strip()  # Capture and clean the output\n",
    "print(type(output_cam_name))\n",
    "print(output_cam_name)\n",
    "print(type(output_cam_name))\n",
    "try:\n",
    "    value_cam_name = str(output_cam_name)  # Assuming the output is an string\n",
    "except ValueError:\n",
    "    print(\"Error: The output from 16_find_cam_name.py is not a valid integer.\")\n",
    "print (value_cam_name)\n"
   ],
   "metadata": {
    "collapsed": false,
    "pycharm": {
     "name": "#%%\n"
    }
   }
  },
  {
   "cell_type": "code",
   "execution_count": 3,
   "outputs": [],
   "source": [
    "subfolder = 'campaign jsons'\n",
    "filename = 'segment_touchpoint_placeholder.json'\n",
    "filepath = subfolder + '/' + filename"
   ],
   "metadata": {
    "collapsed": false,
    "pycharm": {
     "name": "#%%\n"
    }
   }
  },
  {
   "cell_type": "code",
   "execution_count": 4,
   "outputs": [],
   "source": [
    "with open(filepath, 'r',encoding=\"utf8\") as file:\n",
    "    data_in_json = json.load(file)"
   ],
   "metadata": {
    "collapsed": false,
    "pycharm": {
     "name": "#%%\n"
    }
   }
  },
  {
   "cell_type": "code",
   "execution_count": 5,
   "outputs": [],
   "source": [
    "def replace_value(obj, old_value, new_value):\n",
    "    if isinstance(obj, dict):\n",
    "        return {k: replace_value(v, old_value, new_value) for k, v in obj.items()}\n",
    "    elif isinstance(obj, list):\n",
    "        return [replace_value(elem, old_value, new_value) for elem in obj]\n",
    "    elif obj == old_value:\n",
    "        return new_value\n",
    "    else:\n",
    "        return obj"
   ],
   "metadata": {
    "collapsed": false,
    "pycharm": {
     "name": "#%%\n"
    }
   }
  },
  {
   "cell_type": "code",
   "execution_count": 6,
   "outputs": [],
   "source": [
    "old_value = \"segmentId_placeholder\"\n",
    "new_value = value_segment\n",
    "data_in_json = replace_value(data_in_json, old_value, new_value)\n",
    "\n"
   ],
   "metadata": {
    "collapsed": false,
    "pycharm": {
     "name": "#%%\n"
    }
   }
  },
  {
   "cell_type": "code",
   "execution_count": 7,
   "outputs": [],
   "source": [
    "with open('Campaign_from_promt.json', 'w') as file:\n",
    "    json.dump(data_in_json, file, indent=4)"
   ],
   "metadata": {
    "collapsed": false,
    "pycharm": {
     "name": "#%%\n"
    }
   }
  }
 ],
 "metadata": {
  "kernelspec": {
   "display_name": "Python 3",
   "language": "python",
   "name": "python3"
  },
  "language_info": {
   "codemirror_mode": {
    "name": "ipython",
    "version": 2
   },
   "file_extension": ".py",
   "mimetype": "text/x-python",
   "name": "python",
   "nbconvert_exporter": "python",
   "pygments_lexer": "ipython2",
   "version": "2.7.6"
  }
 },
 "nbformat": 4,
 "nbformat_minor": 0
}
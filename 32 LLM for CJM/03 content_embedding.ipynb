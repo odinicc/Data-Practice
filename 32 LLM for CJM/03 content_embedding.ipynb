{
 "cells": [
  {
   "cell_type": "code",
   "execution_count": 26,
   "metadata": {
    "collapsed": true,
    "pycharm": {
     "name": "#%%\n"
    }
   },
   "outputs": [],
   "source": [
    "from openai import OpenAI\n",
    "import numpy as np\n",
    "import pandas as pd"
   ]
  },
  {
   "cell_type": "code",
   "execution_count": 27,
   "outputs": [],
   "source": [
    "df_content_embedding = pd.read_excel('03 content names and id.xlsx')"
   ],
   "metadata": {
    "collapsed": false,
    "pycharm": {
     "name": "#%%\n"
    }
   }
  },
  {
   "cell_type": "code",
   "execution_count": 28,
   "outputs": [
    {
     "data": {
      "text/plain": "   Content_id               Content_name Channel  Variant\n0          64                 Sms Simple     SMS       64\n1          53         SMS бонусные баллы     SMS       48\n2           7        EMAIL Детская карта   Email       12\n3          57                  SMS Вклад     SMS       57\n4           8  PUSH Кешбэк по категориям    Push       14",
      "text/html": "<div>\n<style scoped>\n    .dataframe tbody tr th:only-of-type {\n        vertical-align: middle;\n    }\n\n    .dataframe tbody tr th {\n        vertical-align: top;\n    }\n\n    .dataframe thead th {\n        text-align: right;\n    }\n</style>\n<table border=\"1\" class=\"dataframe\">\n  <thead>\n    <tr style=\"text-align: right;\">\n      <th></th>\n      <th>Content_id</th>\n      <th>Content_name</th>\n      <th>Channel</th>\n      <th>Variant</th>\n    </tr>\n  </thead>\n  <tbody>\n    <tr>\n      <th>0</th>\n      <td>64</td>\n      <td>Sms Simple</td>\n      <td>SMS</td>\n      <td>64</td>\n    </tr>\n    <tr>\n      <th>1</th>\n      <td>53</td>\n      <td>SMS бонусные баллы</td>\n      <td>SMS</td>\n      <td>48</td>\n    </tr>\n    <tr>\n      <th>2</th>\n      <td>7</td>\n      <td>EMAIL Детская карта</td>\n      <td>Email</td>\n      <td>12</td>\n    </tr>\n    <tr>\n      <th>3</th>\n      <td>57</td>\n      <td>SMS Вклад</td>\n      <td>SMS</td>\n      <td>57</td>\n    </tr>\n    <tr>\n      <th>4</th>\n      <td>8</td>\n      <td>PUSH Кешбэк по категориям</td>\n      <td>Push</td>\n      <td>14</td>\n    </tr>\n  </tbody>\n</table>\n</div>"
     },
     "execution_count": 28,
     "metadata": {},
     "output_type": "execute_result"
    }
   ],
   "source": [
    "df_content_embedding"
   ],
   "metadata": {
    "collapsed": false,
    "pycharm": {
     "name": "#%%\n"
    }
   }
  },
  {
   "cell_type": "code",
   "execution_count": 29,
   "outputs": [],
   "source": [
    "client = OpenAI(\n",
    "    api_key=\"sk-K9QGaTdbLnrs4ux3t1zFZQJ41osq8lYQ\",\n",
    "    base_url=\"https://api.proxyapi.ru/openai/v1\",\n",
    ")"
   ],
   "metadata": {
    "collapsed": false,
    "pycharm": {
     "name": "#%%\n"
    }
   }
  },
  {
   "cell_type": "code",
   "execution_count": 30,
   "outputs": [],
   "source": [
    "#Function to make Embedding from text\n",
    "def get_embedding(text):\n",
    "    model=\"text-embedding-ada-002\"\n",
    "    text = text.replace(\"\\n\", \" \")\n",
    "    return client.embeddings.create(input = [text], model=model).data[0].embedding"
   ],
   "metadata": {
    "collapsed": false,
    "pycharm": {
     "name": "#%%\n"
    }
   }
  },
  {
   "cell_type": "code",
   "execution_count": 31,
   "outputs": [],
   "source": [
    "df_content_embedding['embedding'] = df_content_embedding.apply(lambda x: get_embedding(x['Content_name']), axis=1)\n"
   ],
   "metadata": {
    "collapsed": false,
    "pycharm": {
     "name": "#%%\n"
    }
   }
  },
  {
   "cell_type": "code",
   "execution_count": 32,
   "outputs": [
    {
     "data": {
      "text/plain": "   Content_id               Content_name Channel  Variant  \\\n0          64                 Sms Simple     SMS       64   \n1          53         SMS бонусные баллы     SMS       48   \n2           7        EMAIL Детская карта   Email       12   \n3          57                  SMS Вклад     SMS       57   \n4           8  PUSH Кешбэк по категориям    Push       14   \n\n                                           embedding  \n0  [-0.019360685721039772, 0.0318610705435276, -0...  \n1  [-0.037366367876529694, 0.003607605816796422, ...  \n2  [-0.0273886751383543, 0.014066187664866447, -0...  \n3  [-0.02657761238515377, -0.006660825107246637, ...  \n4  [-0.018032163381576538, 0.006872855126857758, ...  ",
      "text/html": "<div>\n<style scoped>\n    .dataframe tbody tr th:only-of-type {\n        vertical-align: middle;\n    }\n\n    .dataframe tbody tr th {\n        vertical-align: top;\n    }\n\n    .dataframe thead th {\n        text-align: right;\n    }\n</style>\n<table border=\"1\" class=\"dataframe\">\n  <thead>\n    <tr style=\"text-align: right;\">\n      <th></th>\n      <th>Content_id</th>\n      <th>Content_name</th>\n      <th>Channel</th>\n      <th>Variant</th>\n      <th>embedding</th>\n    </tr>\n  </thead>\n  <tbody>\n    <tr>\n      <th>0</th>\n      <td>64</td>\n      <td>Sms Simple</td>\n      <td>SMS</td>\n      <td>64</td>\n      <td>[-0.019360685721039772, 0.0318610705435276, -0...</td>\n    </tr>\n    <tr>\n      <th>1</th>\n      <td>53</td>\n      <td>SMS бонусные баллы</td>\n      <td>SMS</td>\n      <td>48</td>\n      <td>[-0.037366367876529694, 0.003607605816796422, ...</td>\n    </tr>\n    <tr>\n      <th>2</th>\n      <td>7</td>\n      <td>EMAIL Детская карта</td>\n      <td>Email</td>\n      <td>12</td>\n      <td>[-0.0273886751383543, 0.014066187664866447, -0...</td>\n    </tr>\n    <tr>\n      <th>3</th>\n      <td>57</td>\n      <td>SMS Вклад</td>\n      <td>SMS</td>\n      <td>57</td>\n      <td>[-0.02657761238515377, -0.006660825107246637, ...</td>\n    </tr>\n    <tr>\n      <th>4</th>\n      <td>8</td>\n      <td>PUSH Кешбэк по категориям</td>\n      <td>Push</td>\n      <td>14</td>\n      <td>[-0.018032163381576538, 0.006872855126857758, ...</td>\n    </tr>\n  </tbody>\n</table>\n</div>"
     },
     "execution_count": 32,
     "metadata": {},
     "output_type": "execute_result"
    }
   ],
   "source": [
    "df_content_embedding"
   ],
   "metadata": {
    "collapsed": false,
    "pycharm": {
     "name": "#%%\n"
    }
   }
  },
  {
   "cell_type": "code",
   "execution_count": 33,
   "outputs": [],
   "source": [
    "df_content_embedding.reset_index(drop=True).to_json('03 df_content_embedding.json')"
   ],
   "metadata": {
    "collapsed": false,
    "pycharm": {
     "name": "#%%\n"
    }
   }
  }
 ],
 "metadata": {
  "kernelspec": {
   "display_name": "Python 3",
   "language": "python",
   "name": "python3"
  },
  "language_info": {
   "codemirror_mode": {
    "name": "ipython",
    "version": 2
   },
   "file_extension": ".py",
   "mimetype": "text/x-python",
   "name": "python",
   "nbconvert_exporter": "python",
   "pygments_lexer": "ipython2",
   "version": "2.7.6"
  }
 },
 "nbformat": 4,
 "nbformat_minor": 0
}
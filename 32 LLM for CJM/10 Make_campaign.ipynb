{
 "cells": [
  {
   "cell_type": "code",
   "execution_count": 66,
   "metadata": {
    "collapsed": true,
    "pycharm": {
     "name": "#%%\n"
    }
   },
   "outputs": [],
   "source": [
    "from openai import OpenAI\n",
    "import numpy as np\n",
    "import pandas as pd"
   ]
  },
  {
   "cell_type": "code",
   "execution_count": 67,
   "outputs": [],
   "source": [
    "client = OpenAI(\n",
    "    api_key=\"sk-K9QGaTdbLnrs4ux3t1zFZQJ41osq8lYQ\",\n",
    "    base_url=\"https://api.proxyapi.ru/openai/v1\",\n",
    ")"
   ],
   "metadata": {
    "collapsed": false,
    "pycharm": {
     "name": "#%%\n"
    }
   }
  },
  {
   "cell_type": "code",
   "execution_count": 68,
   "outputs": [],
   "source": [
    "def get_embedding(text):\n",
    "    model=\"text-embedding-ada-002\"\n",
    "    text = text.replace(\"\\n\", \" \")\n",
    "    return client.embeddings.create(input = [text], model=model).data[0].embedding"
   ],
   "metadata": {
    "collapsed": false,
    "pycharm": {
     "name": "#%%\n"
    }
   }
  },
  {
   "cell_type": "code",
   "execution_count": 69,
   "outputs": [],
   "source": [
    "#find segment text in campaign promt\n",
    "def find_segment_name_in_promt():\n",
    "\n",
    "    #read campaign_promt\n",
    "    with open('campaign_promt.txt', 'r',encoding='utf-8') as file:\n",
    "    # Read the entire file content into a single string\n",
    "        content = file.read()\n",
    "        content = content.replace('\\n', ' ')\n",
    "    promt_to_get_segment_name = '\"'+ content + '\"' + 'верни только название сегмента'\n",
    "    chat_completion = client.chat.completions.create(\n",
    "        model=\"gpt-4o\", messages=[{\"role\": \"system\", \"content\": promt_to_get_segment_name}]\n",
    "    )\n",
    "    promt_segment = chat_completion.choices[0].message.content\n",
    "    return promt_segment\n"
   ],
   "metadata": {
    "collapsed": false,
    "pycharm": {
     "name": "#%%\n"
    }
   }
  },
  {
   "cell_type": "code",
   "execution_count": 70,
   "outputs": [],
   "source": [
    "promt_segment = find_segment_name_in_promt()"
   ],
   "metadata": {
    "collapsed": false,
    "pycharm": {
     "name": "#%%\n"
    }
   }
  },
  {
   "cell_type": "code",
   "execution_count": 71,
   "outputs": [],
   "source": [
    "promt_segment_embedding = get_embedding(promt_segment)"
   ],
   "metadata": {
    "collapsed": false,
    "pycharm": {
     "name": "#%%\n"
    }
   }
  },
  {
   "cell_type": "code",
   "execution_count": 84,
   "outputs": [],
   "source": [
    "def find_simmilar_segment_num(promt_segment_embedding,segment_embedding_table =  'df_segment_embedding.json'):\n",
    "    df_segment_embedding = pd.read_json(segment_embedding_table)\n",
    "    df_segment_embedding['sim_score']= df_segment_embedding.apply(lambda x: np.dot(x['embedding'],promt_segment_embedding), axis=1)\n",
    "    target_segment = int(df_segment_embedding.iloc[[df_segment_embedding['sim_score'].idxmax()]]['Segment_id'].iloc[0])\n",
    "    target_segment_sim_score = df_segment_embedding.iloc[[df_segment_embedding['sim_score'].idxmax()]]['sim_score'].iloc[0]\n",
    "    return target_segment , target_segment_sim_score\n"
   ],
   "metadata": {
    "collapsed": false,
    "pycharm": {
     "name": "#%%\n"
    }
   }
  },
  {
   "cell_type": "code",
   "execution_count": 85,
   "outputs": [],
   "source": [
    "target_segment , target_segment_sim_score = find_simmilar_segment_num(promt_segment_embedding)"
   ],
   "metadata": {
    "collapsed": false,
    "pycharm": {
     "name": "#%%\n"
    }
   }
  },
  {
   "cell_type": "code",
   "execution_count": 86,
   "outputs": [
    {
     "data": {
      "text/plain": "165"
     },
     "execution_count": 86,
     "metadata": {},
     "output_type": "execute_result"
    }
   ],
   "source": [
    "target_segment"
   ],
   "metadata": {
    "collapsed": false,
    "pycharm": {
     "name": "#%%\n"
    }
   }
  },
  {
   "cell_type": "code",
   "execution_count": 120,
   "outputs": [
    {
     "data": {
      "text/plain": "0.9395781808049918"
     },
     "execution_count": 120,
     "metadata": {},
     "output_type": "execute_result"
    }
   ],
   "source": [
    "target_segment_sim_score"
   ],
   "metadata": {
    "collapsed": false,
    "pycharm": {
     "name": "#%%\n"
    }
   }
  },
  {
   "cell_type": "code",
   "execution_count": 129,
   "outputs": [],
   "source": [
    "#find segment text in campaign promt\n",
    "def find_content_name_in_promt():\n",
    "\n",
    "    #read campaign_promt\n",
    "    with open('campaign_promt.txt', 'r',encoding='utf-8') as file:\n",
    "        # Read the entire file content into a single string\n",
    "        content = file.read()\n",
    "        content = content.replace('\\n', ' ')\n",
    "    promt_to_get_segment_name = '\"'+ content + '\"' + 'верни только название шаблона. Важно только название без лишних слов'\n",
    "    chat_completion = client.chat.completions.create(\n",
    "        model=\"gpt-4o\", messages=[{\"role\": \"system\", \"content\": promt_to_get_segment_name}]\n",
    "    )\n",
    "    promt_content = chat_completion.choices[0].message.content\n",
    "    return promt_content"
   ],
   "metadata": {
    "collapsed": false,
    "pycharm": {
     "name": "#%%\n"
    }
   }
  },
  {
   "cell_type": "code",
   "execution_count": 130,
   "outputs": [],
   "source": [
    "promt_content = find_content_name_in_promt()"
   ],
   "metadata": {
    "collapsed": false,
    "pycharm": {
     "name": "#%%\n"
    }
   }
  },
  {
   "cell_type": "code",
   "execution_count": 131,
   "outputs": [
    {
     "data": {
      "text/plain": "'БонусныеБалл_СМС'"
     },
     "execution_count": 131,
     "metadata": {},
     "output_type": "execute_result"
    }
   ],
   "source": [
    "promt_content"
   ],
   "metadata": {
    "collapsed": false,
    "pycharm": {
     "name": "#%%\n"
    }
   }
  },
  {
   "cell_type": "code",
   "execution_count": 132,
   "outputs": [],
   "source": [
    "promt_content_embedding = get_embedding(promt_content)"
   ],
   "metadata": {
    "collapsed": false,
    "pycharm": {
     "name": "#%%\n"
    }
   }
  },
  {
   "cell_type": "code",
   "execution_count": 133,
   "outputs": [],
   "source": [
    "def find_simmilar_content_num(promt_content_embedding,content_embedding_table =  'df_content_embedding.json'):\n",
    "    df_content_embedding = pd.read_json(content_embedding_table)\n",
    "    df_content_embedding['sim_score']= df_content_embedding.apply(lambda x: np.dot(x['embedding'],promt_content_embedding), axis=1)\n",
    "    target_content = int(df_content_embedding.iloc[[df_content_embedding['sim_score'].idxmax()]]['Content_id'].iloc[0])\n",
    "    target_content_sim_score = df_content_embedding.iloc[[df_content_embedding['sim_score'].idxmax()]]['sim_score'].iloc[0]\n",
    "    return target_content , target_content_sim_score"
   ],
   "metadata": {
    "collapsed": false,
    "pycharm": {
     "name": "#%%\n"
    }
   }
  },
  {
   "cell_type": "code",
   "execution_count": 134,
   "outputs": [],
   "source": [
    "target_content , target_content_sim_score = find_simmilar_content_num(promt_content_embedding)\n"
   ],
   "metadata": {
    "collapsed": false,
    "pycharm": {
     "name": "#%%\n"
    }
   }
  },
  {
   "cell_type": "code",
   "execution_count": 135,
   "outputs": [
    {
     "data": {
      "text/plain": "53"
     },
     "execution_count": 135,
     "metadata": {},
     "output_type": "execute_result"
    }
   ],
   "source": [
    "target_content"
   ],
   "metadata": {
    "collapsed": false,
    "pycharm": {
     "name": "#%%\n"
    }
   }
  },
  {
   "cell_type": "code",
   "execution_count": 136,
   "outputs": [
    {
     "data": {
      "text/plain": "0.9322656492297301"
     },
     "execution_count": 136,
     "metadata": {},
     "output_type": "execute_result"
    }
   ],
   "source": [
    "target_content_sim_score"
   ],
   "metadata": {
    "collapsed": false,
    "pycharm": {
     "name": "#%%\n"
    }
   }
  }
 ],
 "metadata": {
  "kernelspec": {
   "display_name": "Python 3",
   "language": "python",
   "name": "python3"
  },
  "language_info": {
   "codemirror_mode": {
    "name": "ipython",
    "version": 2
   },
   "file_extension": ".py",
   "mimetype": "text/x-python",
   "name": "python",
   "nbconvert_exporter": "python",
   "pygments_lexer": "ipython2",
   "version": "2.7.6"
  }
 },
 "nbformat": 4,
 "nbformat_minor": 0
}
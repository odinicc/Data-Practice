{
 "cells": [
  {
   "cell_type": "code",
   "execution_count": 1,
   "metadata": {
    "collapsed": true,
    "pycharm": {
     "name": "#%%\n"
    }
   },
   "outputs": [],
   "source": [
    "# -*- coding: utf-8 -*-\n",
    "from openai import OpenAI\n",
    "import numpy as np\n",
    "import pandas as pd\n",
    "\n",
    "client = OpenAI(\n",
    "    api_key=\"sk-K9QGaTdbLnrs4ux3t1zFZQJ41osq8lYQ\",\n",
    "    base_url=\"https://api.proxyapi.ru/openai/v1\",\n",
    ")"
   ]
  },
  {
   "cell_type": "code",
   "execution_count": 2,
   "outputs": [],
   "source": [
    "#function to make embeding from text\n",
    "def get_embedding(text):\n",
    "    model=\"text-embedding-ada-002\"\n",
    "    text = text.replace(\"\\n\", \" \")\n",
    "    return client.embeddings.create(input = [text], model=model).data[0].embedding\n"
   ],
   "metadata": {
    "collapsed": false,
    "pycharm": {
     "name": "#%%\n"
    }
   }
  },
  {
   "cell_type": "code",
   "execution_count": 3,
   "outputs": [],
   "source": [
    "campaign_tree_embedding_table =  '01 df_campaign_embedding.json'\n",
    "df_campaign_tree_embedding = pd.read_json(campaign_tree_embedding_table)"
   ],
   "metadata": {
    "collapsed": false,
    "pycharm": {
     "name": "#%%\n"
    }
   }
  },
  {
   "cell_type": "code",
   "execution_count": 11,
   "outputs": [
    {
     "data": {
      "text/plain": "            Campaign Tree                               Campaign Description  \\\n0   segment_ab_touchpoint  Отправляем коммуникацию по сегменту Проводим A...   \n1   segment_ab_touchpoint  Коммуникация по сегменту клиентов с контрольно...   \n2   segment_ab_touchpoint      Коммуникация по сегменту клиентов c AB-тестом   \n3      segment_touchpoint                  Коммуникация по сегменту клиентов   \n4      segment_touchpoint     Коммуникация по сегменту клиентов без AB-теста   \n5   segment_ab_touchpoint  Отправляем коммуникацию с контеной единицей\\nП...   \n6   segment_ab_touchpoint  Коммуникация по сегменту клиентов с A\\B тестом...   \n7   segment_ab_touchpoint      Коммуникация по сегменту клиентов с AB-тестом   \n8   segment_ab_touchpoint  Коммуникация по сегменту клиентов с A\\B тестом...   \n9   segment_ab_touchpoint  Отправляем коммуникацию с контеной единицей с ...   \n10     segment_touchpoint        Отправляем коммуникацию с контеной единицей   \n11     segment_touchpoint  Отправляем коммуникацию с контеной единицей бе...   \n12  segment_ab_touchpoint  Коммуникация по сегменту клиентов с A\\B тестом...   \n13  segment_ab_touchpoint  Отправляем коммуникацию с контеной единицей и ...   \n14  segment_ab_touchpoint  Отправляем коммуникацию с контеной единицей и ...   \n\n                                            embedding  \n0   [-0.0056412537, 0.0038573248000000004, -0.0134...  \n1   [-0.0100319181, 0.0017713233, -0.0080429465, -...  \n2   [-0.0043519656, -0.0098345727, -0.0062419432, ...  \n3   [-0.0009113154, -0.0012367852, -0.0010950617, ...  \n4   [-0.0012503447, -0.0001343354, -0.006370212, -...  \n5   [-0.0069621522, 0.004906531400000001, -0.00797...  \n6   [0.0004433665, 0.0070938636, -0.00091056070000...  \n7   [-0.0062836967, -0.0082463035, -0.0005749431, ...  \n8   [0.0004433665, 0.0070938636, -0.00091056070000...  \n9   [-0.0135787679, 0.0060570017, -0.0081419824000...  \n10  [-0.015818061300000002, 0.0088228751, -0.01264...  \n11  [-0.0137096401, 0.0073008756, -0.0125879431, 0...  \n12  [-0.0005078408, 0.0146040395, -0.0046411720000...  \n13  [-0.0193064641, 0.0086395117, -0.013865076, -0...  \n14  [-0.0245623793, 0.0129943751, -0.0116792349, -...  ",
      "text/html": "<div>\n<style scoped>\n    .dataframe tbody tr th:only-of-type {\n        vertical-align: middle;\n    }\n\n    .dataframe tbody tr th {\n        vertical-align: top;\n    }\n\n    .dataframe thead th {\n        text-align: right;\n    }\n</style>\n<table border=\"1\" class=\"dataframe\">\n  <thead>\n    <tr style=\"text-align: right;\">\n      <th></th>\n      <th>Campaign Tree</th>\n      <th>Campaign Description</th>\n      <th>embedding</th>\n    </tr>\n  </thead>\n  <tbody>\n    <tr>\n      <th>0</th>\n      <td>segment_ab_touchpoint</td>\n      <td>Отправляем коммуникацию по сегменту Проводим A...</td>\n      <td>[-0.0056412537, 0.0038573248000000004, -0.0134...</td>\n    </tr>\n    <tr>\n      <th>1</th>\n      <td>segment_ab_touchpoint</td>\n      <td>Коммуникация по сегменту клиентов с контрольно...</td>\n      <td>[-0.0100319181, 0.0017713233, -0.0080429465, -...</td>\n    </tr>\n    <tr>\n      <th>2</th>\n      <td>segment_ab_touchpoint</td>\n      <td>Коммуникация по сегменту клиентов c AB-тестом</td>\n      <td>[-0.0043519656, -0.0098345727, -0.0062419432, ...</td>\n    </tr>\n    <tr>\n      <th>3</th>\n      <td>segment_touchpoint</td>\n      <td>Коммуникация по сегменту клиентов</td>\n      <td>[-0.0009113154, -0.0012367852, -0.0010950617, ...</td>\n    </tr>\n    <tr>\n      <th>4</th>\n      <td>segment_touchpoint</td>\n      <td>Коммуникация по сегменту клиентов без AB-теста</td>\n      <td>[-0.0012503447, -0.0001343354, -0.006370212, -...</td>\n    </tr>\n    <tr>\n      <th>5</th>\n      <td>segment_ab_touchpoint</td>\n      <td>Отправляем коммуникацию с контеной единицей\\nП...</td>\n      <td>[-0.0069621522, 0.004906531400000001, -0.00797...</td>\n    </tr>\n    <tr>\n      <th>6</th>\n      <td>segment_ab_touchpoint</td>\n      <td>Коммуникация по сегменту клиентов с A\\B тестом...</td>\n      <td>[0.0004433665, 0.0070938636, -0.00091056070000...</td>\n    </tr>\n    <tr>\n      <th>7</th>\n      <td>segment_ab_touchpoint</td>\n      <td>Коммуникация по сегменту клиентов с AB-тестом</td>\n      <td>[-0.0062836967, -0.0082463035, -0.0005749431, ...</td>\n    </tr>\n    <tr>\n      <th>8</th>\n      <td>segment_ab_touchpoint</td>\n      <td>Коммуникация по сегменту клиентов с A\\B тестом...</td>\n      <td>[0.0004433665, 0.0070938636, -0.00091056070000...</td>\n    </tr>\n    <tr>\n      <th>9</th>\n      <td>segment_ab_touchpoint</td>\n      <td>Отправляем коммуникацию с контеной единицей с ...</td>\n      <td>[-0.0135787679, 0.0060570017, -0.0081419824000...</td>\n    </tr>\n    <tr>\n      <th>10</th>\n      <td>segment_touchpoint</td>\n      <td>Отправляем коммуникацию с контеной единицей</td>\n      <td>[-0.015818061300000002, 0.0088228751, -0.01264...</td>\n    </tr>\n    <tr>\n      <th>11</th>\n      <td>segment_touchpoint</td>\n      <td>Отправляем коммуникацию с контеной единицей бе...</td>\n      <td>[-0.0137096401, 0.0073008756, -0.0125879431, 0...</td>\n    </tr>\n    <tr>\n      <th>12</th>\n      <td>segment_ab_touchpoint</td>\n      <td>Коммуникация по сегменту клиентов с A\\B тестом...</td>\n      <td>[-0.0005078408, 0.0146040395, -0.0046411720000...</td>\n    </tr>\n    <tr>\n      <th>13</th>\n      <td>segment_ab_touchpoint</td>\n      <td>Отправляем коммуникацию с контеной единицей и ...</td>\n      <td>[-0.0193064641, 0.0086395117, -0.013865076, -0...</td>\n    </tr>\n    <tr>\n      <th>14</th>\n      <td>segment_ab_touchpoint</td>\n      <td>Отправляем коммуникацию с контеной единицей и ...</td>\n      <td>[-0.0245623793, 0.0129943751, -0.0116792349, -...</td>\n    </tr>\n  </tbody>\n</table>\n</div>"
     },
     "execution_count": 11,
     "metadata": {},
     "output_type": "execute_result"
    }
   ],
   "source": [
    "df_campaign_tree_embedding"
   ],
   "metadata": {
    "collapsed": false,
    "pycharm": {
     "name": "#%%\n"
    }
   }
  },
  {
   "cell_type": "code",
   "execution_count": 13,
   "outputs": [],
   "source": [
    "df_campaign_tree_embedding_list = df_campaign_tree_embedding['Campaign Description'].to_list()"
   ],
   "metadata": {
    "collapsed": false,
    "pycharm": {
     "name": "#%%\n"
    }
   }
  },
  {
   "cell_type": "code",
   "execution_count": 21,
   "outputs": [],
   "source": [
    "df_campaign_tree_embedding_str = \" ; \".join(item.replace(\"\\n\", \" \") for item in df_campaign_tree_embedding_list)"
   ],
   "metadata": {
    "collapsed": false,
    "pycharm": {
     "name": "#%%\n"
    }
   }
  },
  {
   "cell_type": "code",
   "execution_count": 22,
   "outputs": [
    {
     "data": {
      "text/plain": "'Отправляем коммуникацию по сегменту Проводим A\\\\B тест  ; Коммуникация по сегменту клиентов с контрольной группой ; Коммуникация по сегменту клиентов c AB-тестом ; Коммуникация по сегменту клиентов ; Коммуникация по сегменту клиентов без AB-теста ; Отправляем коммуникацию с контеной единицей Проводим A\\\\B тест  ; Коммуникация по сегменту клиентов с A\\\\B тестом  Сплит 5% - 95% ; Коммуникация по сегменту клиентов с AB-тестом ; Коммуникация по сегменту клиентов с A\\\\B тестом  Сплит 5% - 95% ; Отправляем коммуникацию с контеной единицей с AB-тестом ; Отправляем коммуникацию с контеной единицей ; Отправляем коммуникацию с контеной единицей без AB-теста ; Коммуникация по сегменту клиентов с A\\\\B тестом и локальной контрольной группой ; Отправляем коммуникацию с контеной единицей и с контрольной группой ; Отправляем коммуникацию с контеной единицей и с контрольной группой в 5 процентов'"
     },
     "execution_count": 22,
     "metadata": {},
     "output_type": "execute_result"
    }
   ],
   "source": [
    "df_campaign_tree_embedding_str"
   ],
   "metadata": {
    "collapsed": false,
    "pycharm": {
     "name": "#%%\n"
    }
   }
  },
  {
   "cell_type": "code",
   "execution_count": null,
   "outputs": [],
   "source": [],
   "metadata": {
    "collapsed": false,
    "pycharm": {
     "name": "#%%\n"
    }
   }
  },
  {
   "cell_type": "code",
   "execution_count": 24,
   "outputs": [],
   "source": [
    "#read campaign_promt\n",
    "with open('campaign_promt.txt', 'r',encoding='utf-8') as file:\n",
    "    # Read the entire file content into a single string\n",
    "    content_in_promt = file.read()\n",
    "    content_in_promt = content.replace('\\n', ' ')"
   ],
   "metadata": {
    "collapsed": false,
    "pycharm": {
     "name": "#%%\n"
    }
   }
  },
  {
   "cell_type": "code",
   "execution_count": 30,
   "outputs": [],
   "source": [
    "overal_promt = 'Есть описание маркетинговой кампании' + ' \"' + content_in_promt + '\" ' + 'Верни наиболее близкое описание из списка стандартных кампаний'+ df_campaign_tree_embedding_str + ' Важно: Отправь пожалуйста только название кампании'"
   ],
   "metadata": {
    "collapsed": false,
    "pycharm": {
     "name": "#%%\n"
    }
   }
  },
  {
   "cell_type": "code",
   "execution_count": 31,
   "outputs": [
    {
     "data": {
      "text/plain": "'Есть описание маркетинговой кампании \"Отправляем коммуникацию по мужчинам 25 45 лет  в качестве шаблона используем  Email про детские финансовые продукты Коммуникация  по сегменту клиентов c локальной контрольной группой\" Верни наиболее близкое описание из списка стандартных кампанийОтправляем коммуникацию по сегменту Проводим A\\\\B тест  ; Коммуникация по сегменту клиентов с контрольной группой ; Коммуникация по сегменту клиентов c AB-тестом ; Коммуникация по сегменту клиентов ; Коммуникация по сегменту клиентов без AB-теста ; Отправляем коммуникацию с контеной единицей Проводим A\\\\B тест  ; Коммуникация по сегменту клиентов с A\\\\B тестом  Сплит 5% - 95% ; Коммуникация по сегменту клиентов с AB-тестом ; Коммуникация по сегменту клиентов с A\\\\B тестом  Сплит 5% - 95% ; Отправляем коммуникацию с контеной единицей с AB-тестом ; Отправляем коммуникацию с контеной единицей ; Отправляем коммуникацию с контеной единицей без AB-теста ; Коммуникация по сегменту клиентов с A\\\\B тестом и локальной контрольной группой ; Отправляем коммуникацию с контеной единицей и с контрольной группой ; Отправляем коммуникацию с контеной единицей и с контрольной группой в 5 процентов Важно: Отправь пожалуйста только название кампании'"
     },
     "execution_count": 31,
     "metadata": {},
     "output_type": "execute_result"
    }
   ],
   "source": [
    "overal_promt"
   ],
   "metadata": {
    "collapsed": false,
    "pycharm": {
     "name": "#%%\n"
    }
   }
  },
  {
   "cell_type": "code",
   "execution_count": 33,
   "outputs": [],
   "source": [
    "chat_completion = client.chat.completions.create(\n",
    "    model=\"gpt-4o\", messages=[{\"role\": \"system\", \"content\": overal_promt}]\n",
    ")\n",
    "\n",
    "chat_response = chat_completion.choices[0].message.content"
   ],
   "metadata": {
    "collapsed": false,
    "pycharm": {
     "name": "#%%\n"
    }
   }
  },
  {
   "cell_type": "code",
   "execution_count": 34,
   "outputs": [
    {
     "data": {
      "text/plain": "'Коммуникация по сегменту клиентов с A\\\\B тестом и локальной контрольной группой'"
     },
     "execution_count": 34,
     "metadata": {},
     "output_type": "execute_result"
    }
   ],
   "source": [
    "chat_response"
   ],
   "metadata": {
    "collapsed": false,
    "pycharm": {
     "name": "#%%\n"
    }
   }
  },
  {
   "cell_type": "code",
   "execution_count": 35,
   "outputs": [],
   "source": [
    "chat_response_embedding = get_embedding(chat_response)"
   ],
   "metadata": {
    "collapsed": false,
    "pycharm": {
     "name": "#%%\n"
    }
   }
  },
  {
   "cell_type": "code",
   "execution_count": 39,
   "outputs": [],
   "source": [
    "def find_simmilar_campaign_tree_num(promt_campaign_tree_embedding):\n",
    "    campaign_tree_embedding_table =  '01 df_campaign_embedding.json'\n",
    "    df_campaign_tree_embedding = pd.read_json(campaign_tree_embedding_table)\n",
    "    df_campaign_tree_embedding['sim_score']= df_campaign_tree_embedding.apply(lambda x: np.dot(x['embedding'],promt_campaign_tree_embedding), axis=1)\n",
    "    target_campaign_tree = df_campaign_tree_embedding.iloc[[df_campaign_tree_embedding['sim_score'].idxmax()]]['Campaign Tree'].iloc[0]\n",
    "    target_campaign_tree_sim_score = df_campaign_tree_embedding.iloc[[df_campaign_tree_embedding['sim_score'].idxmax()]]['sim_score'].iloc[0]\n",
    "    return target_campaign_tree , target_campaign_tree_sim_score\n",
    "\n",
    "target_campaign_tree , target_campaign_tree_sim_score = find_simmilar_campaign_tree_num(chat_response_embedding)"
   ],
   "metadata": {
    "collapsed": false,
    "pycharm": {
     "name": "#%%\n"
    }
   }
  },
  {
   "cell_type": "code",
   "execution_count": 40,
   "outputs": [
    {
     "data": {
      "text/plain": "'segment_ab_touchpoint'"
     },
     "execution_count": 40,
     "metadata": {},
     "output_type": "execute_result"
    }
   ],
   "source": [
    "target_campaign_tree"
   ],
   "metadata": {
    "collapsed": false,
    "pycharm": {
     "name": "#%%\n"
    }
   }
  },
  {
   "cell_type": "code",
   "execution_count": 6,
   "outputs": [
    {
     "data": {
      "text/plain": "['SMS', 64]"
     },
     "execution_count": 6,
     "metadata": {},
     "output_type": "execute_result"
    }
   ],
   "source": [
    "[target_content_channel,target_content]"
   ],
   "metadata": {
    "collapsed": false,
    "pycharm": {
     "name": "#%%\n"
    }
   }
  },
  {
   "cell_type": "code",
   "execution_count": null,
   "outputs": [],
   "source": [
    "sys.stdout.reconfigure(encoding='utf-8')\n",
    "print([target_content_channel,target_content])  # This prints the result which will be captured by script1.py"
   ],
   "metadata": {
    "collapsed": false,
    "pycharm": {
     "name": "#%%\n"
    }
   }
  }
 ],
 "metadata": {
  "kernelspec": {
   "display_name": "Python 3",
   "language": "python",
   "name": "python3"
  },
  "language_info": {
   "codemirror_mode": {
    "name": "ipython",
    "version": 2
   },
   "file_extension": ".py",
   "mimetype": "text/x-python",
   "name": "python",
   "nbconvert_exporter": "python",
   "pygments_lexer": "ipython2",
   "version": "2.7.6"
  }
 },
 "nbformat": 4,
 "nbformat_minor": 0
}
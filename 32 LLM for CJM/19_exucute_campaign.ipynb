{
 "cells": [
  {
   "cell_type": "code",
   "execution_count": 164,
   "metadata": {
    "collapsed": true,
    "pycharm": {
     "name": "#%%\n"
    }
   },
   "outputs": [],
   "source": [
    "import subprocess\n",
    "import json\n",
    "import subprocess\n",
    "import threading\n",
    "import concurrent.futures\n",
    "\n"
   ]
  },
  {
   "cell_type": "code",
   "execution_count": 165,
   "outputs": [],
   "source": [
    "# List of scripts to run\n",
    "script_paths = [\"11_find_campaign_tree.py\", \"12_find_segment.py\", \"16_find_cam_name.py\" , \"13_find_content_name.py\"]"
   ],
   "metadata": {
    "collapsed": false,
    "pycharm": {
     "name": "#%%\n"
    }
   }
  },
  {
   "cell_type": "code",
   "execution_count": 166,
   "outputs": [],
   "source": [
    "# Function to run a script and return its output\n",
    "def run_script(script_path):\n",
    "    result = subprocess.run([\"python\", script_path], stdout=subprocess.PIPE, text=True,encoding='utf-8')\n",
    "    return result.stdout"
   ],
   "metadata": {
    "collapsed": false,
    "pycharm": {
     "name": "#%%\n"
    }
   }
  },
  {
   "cell_type": "code",
   "execution_count": 167,
   "outputs": [],
   "source": [
    "# Function to run scripts in parallel\n",
    "def run_scripts_parallel():\n",
    "    with concurrent.futures.ThreadPoolExecutor() as executor:\n",
    "        # Submit each script to the executor\n",
    "        futures = {executor.submit(run_script, script): script for script in script_paths}\n",
    "\n",
    "        # Get the outputs of each script\n",
    "        for future in concurrent.futures.as_completed(futures):\n",
    "            script = futures[future]\n",
    "            output = future.result()\n",
    "            script_outputs[script] = output"
   ],
   "metadata": {
    "collapsed": false,
    "pycharm": {
     "name": "#%%\n"
    }
   }
  },
  {
   "cell_type": "code",
   "execution_count": 168,
   "outputs": [],
   "source": [
    "# Function to remove lines\n",
    "def remove_newlines_and_quotes(input_string):\n",
    "    # Remove newline symbols\n",
    "    cleaned_string = input_string.replace(\"\\n\", \"\")\n",
    "    # Remove single and double quotes\n",
    "    cleaned_string = cleaned_string.replace(\"'\", \"\").replace('\"', '')\n",
    "    return cleaned_string"
   ],
   "metadata": {
    "collapsed": false,
    "pycharm": {
     "name": "#%%\n"
    }
   }
  },
  {
   "cell_type": "code",
   "execution_count": 169,
   "outputs": [],
   "source": [
    "# Dictionary mapping script paths to their outputs\n",
    "script_outputs = {}\n",
    "\n",
    "# Run scripts in parallel\n",
    "run_scripts_parallel()"
   ],
   "metadata": {
    "collapsed": false,
    "pycharm": {
     "name": "#%%\n"
    }
   }
  },
  {
   "cell_type": "code",
   "execution_count": 170,
   "outputs": [],
   "source": [
    "# Save outputs in variables\n",
    "find_campaign_tree_output = script_outputs[\"11_find_campaign_tree.py\"]\n",
    "find_segment_output = script_outputs[\"12_find_segment.py\"]\n",
    "find_cam_name_output = script_outputs[\"16_find_cam_name.py\"]\n",
    "find_content_output = script_outputs[\"13_find_content_name.py\"]"
   ],
   "metadata": {
    "collapsed": false,
    "pycharm": {
     "name": "#%%\n"
    }
   }
  },
  {
   "cell_type": "code",
   "execution_count": 171,
   "outputs": [],
   "source": [
    "campaign_tree_id = remove_newlines_and_quotes(find_campaign_tree_output)\n",
    "segment_id = int(remove_newlines_and_quotes(find_segment_output))\n",
    "cam_name_str = 'A ' + str(remove_newlines_and_quotes(find_cam_name_output))\n",
    "content_resp = remove_newlines_and_quotes(find_content_output)\n"
   ],
   "metadata": {
    "collapsed": false,
    "pycharm": {
     "name": "#%%\n"
    }
   }
  },
  {
   "cell_type": "code",
   "execution_count": 172,
   "outputs": [],
   "source": [
    "# Remove the square brackets\n",
    "content_resp = content_resp.strip('[]')\n",
    "\n",
    "# Split the string into a list\n",
    "content_list = content_resp.split(', ')\n",
    "\n",
    "# Convert numerical strings to integers\n",
    "content_list = [int(item) if item.isdigit() else item for item in content_list]\n",
    "content_channel = content_list[0]\n",
    "content_id = content_list[1]\n",
    "variant_id = content_list[2]"
   ],
   "metadata": {
    "collapsed": false,
    "pycharm": {
     "name": "#%%\n"
    }
   }
  },
  {
   "cell_type": "code",
   "execution_count": 173,
   "outputs": [],
   "source": [
    "subfolder = 'campaign jsons'\n",
    "#pick up proper json tree\n",
    "filename = campaign_tree_id + '.json'\n",
    "filepath = subfolder + '/' + filename"
   ],
   "metadata": {
    "collapsed": false,
    "pycharm": {
     "name": "#%%\n"
    }
   }
  },
  {
   "cell_type": "code",
   "execution_count": 174,
   "outputs": [],
   "source": [
    "with open(filepath, 'r',encoding=\"utf8\") as file:\n",
    "    data_in_json = json.load(file)"
   ],
   "metadata": {
    "collapsed": false,
    "pycharm": {
     "name": "#%%\n"
    }
   }
  },
  {
   "cell_type": "code",
   "execution_count": 175,
   "outputs": [],
   "source": [
    "#function to put placeholders to campaign Json\n",
    "def replace_value(obj, old_value, new_value):\n",
    "    if isinstance(obj, dict):\n",
    "        return {k: replace_value(v, old_value, new_value) for k, v in obj.items()}\n",
    "    elif isinstance(obj, list):\n",
    "        return [replace_value(elem, old_value, new_value) for elem in obj]\n",
    "    elif obj == old_value:\n",
    "        return new_value\n",
    "    else:\n",
    "        return obj"
   ],
   "metadata": {
    "collapsed": false,
    "pycharm": {
     "name": "#%%\n"
    }
   }
  },
  {
   "cell_type": "code",
   "execution_count": 176,
   "outputs": [],
   "source": [
    "#Update segment to Current\n",
    "old_value = \"segmentId_placeholder\"\n",
    "new_value = segment_id\n",
    "data_in_json = replace_value(data_in_json, old_value, new_value)\n",
    "\n",
    "#Update content channel to Current\n",
    "old_value = \"channel_placeholder\"\n",
    "new_value = content_channel\n",
    "data_in_json = replace_value(data_in_json, old_value, new_value)\n",
    "\n",
    "#Update content variant to Current\n",
    "old_value = \"variant_placeholder\"\n",
    "new_value = variant_id\n",
    "data_in_json = replace_value(data_in_json, old_value, new_value)\n",
    "\n",
    "#Update content to Current\n",
    "old_value = \"contentunit_placeholder\"\n",
    "new_value = content_id\n",
    "data_in_json = replace_value(data_in_json, old_value, new_value)\n",
    "\n",
    "#Update cam description to Current\n",
    "old_value = \"cam_name_placeholder\"\n",
    "new_value = cam_name_str\n",
    "data_in_json = replace_value(data_in_json, old_value, new_value)"
   ],
   "metadata": {
    "collapsed": false,
    "pycharm": {
     "name": "#%%\n"
    }
   }
  },
  {
   "cell_type": "code",
   "execution_count": 177,
   "outputs": [],
   "source": [
    "with open('Campaign_from_promt.json', 'w',encoding='utf8') as file:\n",
    "    json.dump(data_in_json, file, indent=4,ensure_ascii=False)"
   ],
   "metadata": {
    "collapsed": false,
    "pycharm": {
     "name": "#%%\n"
    }
   }
  }
 ],
 "metadata": {
  "kernelspec": {
   "display_name": "Python 3",
   "language": "python",
   "name": "python3"
  },
  "language_info": {
   "codemirror_mode": {
    "name": "ipython",
    "version": 2
   },
   "file_extension": ".py",
   "mimetype": "text/x-python",
   "name": "python",
   "nbconvert_exporter": "python",
   "pygments_lexer": "ipython2",
   "version": "2.7.6"
  }
 },
 "nbformat": 4,
 "nbformat_minor": 0
}
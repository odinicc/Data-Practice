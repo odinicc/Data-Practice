{
 "cells": [
  {
   "cell_type": "code",
   "execution_count": 1,
   "metadata": {
    "collapsed": true,
    "pycharm": {
     "name": "#%%\n"
    }
   },
   "outputs": [],
   "source": [
    "import json\n",
    "\n"
   ]
  },
  {
   "cell_type": "code",
   "execution_count": 14,
   "outputs": [],
   "source": [
    "# Step 1: Open and read the JSON file\n",
    "with open('segment_touchpoint_placeholder.json', 'r',encoding=\"utf8\") as file:\n",
    "    data_in_json = json.load(file)"
   ],
   "metadata": {
    "collapsed": false,
    "pycharm": {
     "name": "#%%\n"
    }
   }
  },
  {
   "cell_type": "code",
   "execution_count": 6,
   "outputs": [],
   "source": [
    "def replace_value(obj, old_value, new_value):\n",
    "    if isinstance(obj, dict):\n",
    "        return {k: replace_value(v, old_value, new_value) for k, v in obj.items()}\n",
    "    elif isinstance(obj, list):\n",
    "        return [replace_value(elem, old_value, new_value) for elem in obj]\n",
    "    elif obj == old_value:\n",
    "        return new_value\n",
    "    else:\n",
    "        return obj"
   ],
   "metadata": {
    "collapsed": false,
    "pycharm": {
     "name": "#%%\n"
    }
   }
  },
  {
   "cell_type": "code",
   "execution_count": 15,
   "outputs": [],
   "source": [
    "old_value = \"segmentId_placeholder\"\n",
    "new_value = 172\n",
    "data_in_json = replace_value(data_in_json, old_value, new_value)"
   ],
   "metadata": {
    "collapsed": false,
    "pycharm": {
     "name": "#%%\n"
    }
   }
  },
  {
   "cell_type": "code",
   "execution_count": 16,
   "outputs": [],
   "source": [
    "with open('segment_touchpoint_comp.json', 'w') as file:\n",
    "    json.dump(data_in_json, file, indent=4)"
   ],
   "metadata": {
    "collapsed": false,
    "pycharm": {
     "name": "#%%\n"
    }
   }
  }
 ],
 "metadata": {
  "kernelspec": {
   "display_name": "Python 3",
   "language": "python",
   "name": "python3"
  },
  "language_info": {
   "codemirror_mode": {
    "name": "ipython",
    "version": 2
   },
   "file_extension": ".py",
   "mimetype": "text/x-python",
   "name": "python",
   "nbconvert_exporter": "python",
   "pygments_lexer": "ipython2",
   "version": "2.7.6"
  }
 },
 "nbformat": 4,
 "nbformat_minor": 0
}
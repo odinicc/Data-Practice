{
 "cells": [
  {
   "cell_type": "code",
   "execution_count": 2,
   "metadata": {
    "collapsed": true,
    "pycharm": {
     "name": "#%%\n"
    }
   },
   "outputs": [],
   "source": [
    "import pandas as pd"
   ]
  },
  {
   "cell_type": "code",
   "execution_count": 3,
   "outputs": [],
   "source": [
    "# Standard\n",
    "import pandas as pd\n",
    "import numpy as np\n",
    "import os\n",
    "# Pycaret\n",
    "from pycaret.classification import *\n",
    "# Plots\n",
    "from plotly.offline import iplot\n",
    "import plotly.graph_objects as go\n",
    "from plotly.subplots import make_subplots\n",
    "import seaborn as sns\n",
    "# Sklearn tools\n",
    "from sklearn.preprocessing import LabelEncoder\n",
    "from sklearn.metrics import *\n",
    "# Extras\n",
    "from datetime import date\n",
    "import warnings\n",
    "warnings.filterwarnings(\"ignore\")\n",
    "import seaborn as sns"
   ],
   "metadata": {
    "collapsed": false,
    "pycharm": {
     "name": "#%%\n"
    }
   }
  },
  {
   "cell_type": "code",
   "execution_count": 4,
   "outputs": [],
   "source": [
    "df_test = pd.read_csv('df_test_new.csv')"
   ],
   "metadata": {
    "collapsed": false,
    "pycharm": {
     "name": "#%%\n"
    }
   }
  },
  {
   "cell_type": "code",
   "execution_count": 5,
   "outputs": [],
   "source": [
    "df_train = pd.read_csv('df_train_new.csv')"
   ],
   "metadata": {
    "collapsed": false,
    "pycharm": {
     "name": "#%%\n"
    }
   }
  },
  {
   "cell_type": "code",
   "execution_count": 6,
   "outputs": [
    {
     "data": {
      "text/plain": "     state  account_length      area_code  international_plan  \\\n0       OH             107  area_code_415               False   \n1       NJ             137  area_code_415               False   \n2       OH              84  area_code_408                True   \n3       OK              75  area_code_415                True   \n4       MA             121  area_code_510               False   \n...    ...             ...            ...                 ...   \n4245    MT              83  area_code_415               False   \n4246    WV              73  area_code_408               False   \n4247    NC              75  area_code_408               False   \n4248    HI              50  area_code_408               False   \n4249    VT              86  area_code_415               False   \n\n      voice_mail_plan  number_vmail_messages  total_day_minutes  \\\n0                 NaN                     26                161   \n1                 NaN                      0                243   \n2                 NaN                      0                299   \n3                 NaN                      0                166   \n4                 NaN                     24                218   \n...               ...                    ...                ...   \n4245              NaN                      0                188   \n4246              NaN                      0                177   \n4247              NaN                      0                170   \n4248              NaN                     40                235   \n4249              NaN                     34                129   \n\n      total_day_calls  total_day_charge  total_eve_minutes  ...  \\\n0                 123             27.47                195  ...   \n1                 114             41.38                121  ...   \n2                  71             50.90                 61  ...   \n3                 113             28.34                148  ...   \n4                  88             37.09                348  ...   \n...               ...               ...                ...  ...   \n4245               70             32.01                243  ...   \n4246               89             30.24                131  ...   \n4247              101             29.02                193  ...   \n4248              127             40.07                223  ...   \n4249              102             22.00                267  ...   \n\n      total_night_minutes  total_night_calls  total_night_charge  \\\n0                     254                103               11.45   \n1                     162                104                7.32   \n2                     196                 89                8.86   \n3                     186                121                8.41   \n4                     212                118                9.57   \n...                   ...                ...                 ...   \n4245                  213                 79                9.62   \n4246                  186                 89                8.38   \n4247                  129                104                5.81   \n4248                  297                116               13.39   \n4249                  154                100                6.97   \n\n      total_intl_minutes  total_intl_calls  total_intl_charge  \\\n0                     13                 3               3.70   \n1                     12                 5               3.29   \n2                      6                 7               1.78   \n3                     10                 3               2.73   \n4                      7                 7               2.03   \n...                  ...               ...                ...   \n4245                  10                 6               2.78   \n4246                  11                 6               3.11   \n4247                   6                 7               1.86   \n4248                   9                 5               2.67   \n4249                   9                16               2.51   \n\n      number_customer_service_calls  total_mins  total_calls  churn  \n0                                 1         625          332     no  \n1                                 0         539          333     no  \n2                                 2         564          255     no  \n3                                 3         512          359     no  \n4                                 3         786          321     no  \n...                             ...         ...          ...    ...  \n4245                              0         656          243     no  \n4246                              3         506          266     no  \n4247                              1         499          338     no  \n4248                              2         766          374     no  \n4249                              0         560          322     no  \n\n[4250 rows x 22 columns]",
      "text/html": "<div>\n<style scoped>\n    .dataframe tbody tr th:only-of-type {\n        vertical-align: middle;\n    }\n\n    .dataframe tbody tr th {\n        vertical-align: top;\n    }\n\n    .dataframe thead th {\n        text-align: right;\n    }\n</style>\n<table border=\"1\" class=\"dataframe\">\n  <thead>\n    <tr style=\"text-align: right;\">\n      <th></th>\n      <th>state</th>\n      <th>account_length</th>\n      <th>area_code</th>\n      <th>international_plan</th>\n      <th>voice_mail_plan</th>\n      <th>number_vmail_messages</th>\n      <th>total_day_minutes</th>\n      <th>total_day_calls</th>\n      <th>total_day_charge</th>\n      <th>total_eve_minutes</th>\n      <th>...</th>\n      <th>total_night_minutes</th>\n      <th>total_night_calls</th>\n      <th>total_night_charge</th>\n      <th>total_intl_minutes</th>\n      <th>total_intl_calls</th>\n      <th>total_intl_charge</th>\n      <th>number_customer_service_calls</th>\n      <th>total_mins</th>\n      <th>total_calls</th>\n      <th>churn</th>\n    </tr>\n  </thead>\n  <tbody>\n    <tr>\n      <th>0</th>\n      <td>OH</td>\n      <td>107</td>\n      <td>area_code_415</td>\n      <td>False</td>\n      <td>NaN</td>\n      <td>26</td>\n      <td>161</td>\n      <td>123</td>\n      <td>27.47</td>\n      <td>195</td>\n      <td>...</td>\n      <td>254</td>\n      <td>103</td>\n      <td>11.45</td>\n      <td>13</td>\n      <td>3</td>\n      <td>3.70</td>\n      <td>1</td>\n      <td>625</td>\n      <td>332</td>\n      <td>no</td>\n    </tr>\n    <tr>\n      <th>1</th>\n      <td>NJ</td>\n      <td>137</td>\n      <td>area_code_415</td>\n      <td>False</td>\n      <td>NaN</td>\n      <td>0</td>\n      <td>243</td>\n      <td>114</td>\n      <td>41.38</td>\n      <td>121</td>\n      <td>...</td>\n      <td>162</td>\n      <td>104</td>\n      <td>7.32</td>\n      <td>12</td>\n      <td>5</td>\n      <td>3.29</td>\n      <td>0</td>\n      <td>539</td>\n      <td>333</td>\n      <td>no</td>\n    </tr>\n    <tr>\n      <th>2</th>\n      <td>OH</td>\n      <td>84</td>\n      <td>area_code_408</td>\n      <td>True</td>\n      <td>NaN</td>\n      <td>0</td>\n      <td>299</td>\n      <td>71</td>\n      <td>50.90</td>\n      <td>61</td>\n      <td>...</td>\n      <td>196</td>\n      <td>89</td>\n      <td>8.86</td>\n      <td>6</td>\n      <td>7</td>\n      <td>1.78</td>\n      <td>2</td>\n      <td>564</td>\n      <td>255</td>\n      <td>no</td>\n    </tr>\n    <tr>\n      <th>3</th>\n      <td>OK</td>\n      <td>75</td>\n      <td>area_code_415</td>\n      <td>True</td>\n      <td>NaN</td>\n      <td>0</td>\n      <td>166</td>\n      <td>113</td>\n      <td>28.34</td>\n      <td>148</td>\n      <td>...</td>\n      <td>186</td>\n      <td>121</td>\n      <td>8.41</td>\n      <td>10</td>\n      <td>3</td>\n      <td>2.73</td>\n      <td>3</td>\n      <td>512</td>\n      <td>359</td>\n      <td>no</td>\n    </tr>\n    <tr>\n      <th>4</th>\n      <td>MA</td>\n      <td>121</td>\n      <td>area_code_510</td>\n      <td>False</td>\n      <td>NaN</td>\n      <td>24</td>\n      <td>218</td>\n      <td>88</td>\n      <td>37.09</td>\n      <td>348</td>\n      <td>...</td>\n      <td>212</td>\n      <td>118</td>\n      <td>9.57</td>\n      <td>7</td>\n      <td>7</td>\n      <td>2.03</td>\n      <td>3</td>\n      <td>786</td>\n      <td>321</td>\n      <td>no</td>\n    </tr>\n    <tr>\n      <th>...</th>\n      <td>...</td>\n      <td>...</td>\n      <td>...</td>\n      <td>...</td>\n      <td>...</td>\n      <td>...</td>\n      <td>...</td>\n      <td>...</td>\n      <td>...</td>\n      <td>...</td>\n      <td>...</td>\n      <td>...</td>\n      <td>...</td>\n      <td>...</td>\n      <td>...</td>\n      <td>...</td>\n      <td>...</td>\n      <td>...</td>\n      <td>...</td>\n      <td>...</td>\n      <td>...</td>\n    </tr>\n    <tr>\n      <th>4245</th>\n      <td>MT</td>\n      <td>83</td>\n      <td>area_code_415</td>\n      <td>False</td>\n      <td>NaN</td>\n      <td>0</td>\n      <td>188</td>\n      <td>70</td>\n      <td>32.01</td>\n      <td>243</td>\n      <td>...</td>\n      <td>213</td>\n      <td>79</td>\n      <td>9.62</td>\n      <td>10</td>\n      <td>6</td>\n      <td>2.78</td>\n      <td>0</td>\n      <td>656</td>\n      <td>243</td>\n      <td>no</td>\n    </tr>\n    <tr>\n      <th>4246</th>\n      <td>WV</td>\n      <td>73</td>\n      <td>area_code_408</td>\n      <td>False</td>\n      <td>NaN</td>\n      <td>0</td>\n      <td>177</td>\n      <td>89</td>\n      <td>30.24</td>\n      <td>131</td>\n      <td>...</td>\n      <td>186</td>\n      <td>89</td>\n      <td>8.38</td>\n      <td>11</td>\n      <td>6</td>\n      <td>3.11</td>\n      <td>3</td>\n      <td>506</td>\n      <td>266</td>\n      <td>no</td>\n    </tr>\n    <tr>\n      <th>4247</th>\n      <td>NC</td>\n      <td>75</td>\n      <td>area_code_408</td>\n      <td>False</td>\n      <td>NaN</td>\n      <td>0</td>\n      <td>170</td>\n      <td>101</td>\n      <td>29.02</td>\n      <td>193</td>\n      <td>...</td>\n      <td>129</td>\n      <td>104</td>\n      <td>5.81</td>\n      <td>6</td>\n      <td>7</td>\n      <td>1.86</td>\n      <td>1</td>\n      <td>499</td>\n      <td>338</td>\n      <td>no</td>\n    </tr>\n    <tr>\n      <th>4248</th>\n      <td>HI</td>\n      <td>50</td>\n      <td>area_code_408</td>\n      <td>False</td>\n      <td>NaN</td>\n      <td>40</td>\n      <td>235</td>\n      <td>127</td>\n      <td>40.07</td>\n      <td>223</td>\n      <td>...</td>\n      <td>297</td>\n      <td>116</td>\n      <td>13.39</td>\n      <td>9</td>\n      <td>5</td>\n      <td>2.67</td>\n      <td>2</td>\n      <td>766</td>\n      <td>374</td>\n      <td>no</td>\n    </tr>\n    <tr>\n      <th>4249</th>\n      <td>VT</td>\n      <td>86</td>\n      <td>area_code_415</td>\n      <td>False</td>\n      <td>NaN</td>\n      <td>34</td>\n      <td>129</td>\n      <td>102</td>\n      <td>22.00</td>\n      <td>267</td>\n      <td>...</td>\n      <td>154</td>\n      <td>100</td>\n      <td>6.97</td>\n      <td>9</td>\n      <td>16</td>\n      <td>2.51</td>\n      <td>0</td>\n      <td>560</td>\n      <td>322</td>\n      <td>no</td>\n    </tr>\n  </tbody>\n</table>\n<p>4250 rows × 22 columns</p>\n</div>"
     },
     "execution_count": 6,
     "metadata": {},
     "output_type": "execute_result"
    }
   ],
   "source": [
    "df_train"
   ],
   "metadata": {
    "collapsed": false,
    "pycharm": {
     "name": "#%%\n"
    }
   }
  },
  {
   "cell_type": "code",
   "execution_count": 7,
   "outputs": [
    {
     "data": {
      "text/plain": "<IPython.core.display.HTML object>",
      "text/html": ""
     },
     "metadata": {},
     "output_type": "display_data"
    }
   ],
   "source": [
    "exp01 = setup(data=df_train, target='churn' )"
   ],
   "metadata": {
    "collapsed": false,
    "pycharm": {
     "name": "#%%\n"
    }
   }
  },
  {
   "cell_type": "code",
   "execution_count": 8,
   "outputs": [
    {
     "data": {
      "text/plain": "                                                                    \n                                                                    \nInitiated  . . . . . . . . . . . . . . . . . .              02:05:18\nStatus     . . . . . . . . . . . . . . . . . .  Loading Dependencies\nEstimator  . . . . . . . . . . . . . . . . . .     Compiling Library",
      "text/html": "<div>\n<style scoped>\n    .dataframe tbody tr th:only-of-type {\n        vertical-align: middle;\n    }\n\n    .dataframe tbody tr th {\n        vertical-align: top;\n    }\n\n    .dataframe thead th {\n        text-align: right;\n    }\n</style>\n<table border=\"1\" class=\"dataframe\">\n  <thead>\n    <tr style=\"text-align: right;\">\n      <th></th>\n      <th></th>\n      <th></th>\n    </tr>\n    <tr>\n      <th></th>\n      <th></th>\n      <th></th>\n    </tr>\n  </thead>\n  <tbody>\n    <tr>\n      <th>Initiated</th>\n      <td>. . . . . . . . . . . . . . . . . .</td>\n      <td>02:05:18</td>\n    </tr>\n    <tr>\n      <th>Status</th>\n      <td>. . . . . . . . . . . . . . . . . .</td>\n      <td>Loading Dependencies</td>\n    </tr>\n    <tr>\n      <th>Estimator</th>\n      <td>. . . . . . . . . . . . . . . . . .</td>\n      <td>Compiling Library</td>\n    </tr>\n  </tbody>\n</table>\n</div>"
     },
     "metadata": {},
     "output_type": "display_data"
    },
    {
     "data": {
      "text/plain": "<IPython.core.display.HTML object>",
      "text/html": ""
     },
     "metadata": {},
     "output_type": "display_data"
    },
    {
     "data": {
      "text/plain": "Processing:   0%|          | 0/49 [00:00<?, ?it/s]",
      "application/vnd.jupyter.widget-view+json": {
       "version_major": 2,
       "version_minor": 0,
       "model_id": "880ecb74aee24d058f5a3cac8c9eaeb4"
      }
     },
     "metadata": {},
     "output_type": "display_data"
    }
   ],
   "source": [
    "top5 = compare_models(n_select = 5 , exclude =  [\"svm\", \"lr\",'ridge','dt','qda'])"
   ],
   "metadata": {
    "collapsed": false,
    "pycharm": {
     "name": "#%%\n"
    }
   }
  },
  {
   "cell_type": "code",
   "execution_count": 9,
   "outputs": [
    {
     "data": {
      "text/plain": "                                    Model  Accuracy     AUC  Recall   Prec.  \\\nlightgbm  Light Gradient Boosting Machine    0.9637  0.9225  0.9637  0.9637   \ncatboost              CatBoost Classifier    0.9637  0.9259  0.9637  0.9643   \ngbc          Gradient Boosting Classifier    0.9614  0.9207  0.9614  0.9614   \nrf               Random Forest Classifier    0.9550  0.9247  0.9550  0.9563   \net                 Extra Trees Classifier    0.9301  0.9201  0.9301  0.9335   \nada                  Ada Boost Classifier    0.8965  0.8583  0.8965  0.8866   \nknn                K Neighbors Classifier    0.8884  0.7101  0.8884  0.8764   \nnb                            Naive Bayes    0.8739  0.8530  0.8739  0.8822   \nlda          Linear Discriminant Analysis    0.8598  0.8197  0.8598  0.8335   \ndummy                    Dummy Classifier    0.8592  0.5000  0.8592  0.7382   \n\n              F1   Kappa     MCC  TT (Sec)  \nlightgbm  0.9620  0.8366  0.8433     0.190  \ncatboost  0.9618  0.8348  0.8435     2.186  \ngbc       0.9596  0.8263  0.8334     0.292  \nrf        0.9515  0.7874  0.8033     0.198  \net        0.9200  0.6361  0.6787     0.153  \nada       0.8853  0.4883  0.5090     0.122  \nknn       0.8705  0.4072  0.4460     0.642  \nnb        0.8773  0.5085  0.5108     0.039  \nlda       0.8396  0.2711  0.2909     0.040  \ndummy     0.7941  0.0000  0.0000     0.044  ",
      "text/html": "<div>\n<style scoped>\n    .dataframe tbody tr th:only-of-type {\n        vertical-align: middle;\n    }\n\n    .dataframe tbody tr th {\n        vertical-align: top;\n    }\n\n    .dataframe thead th {\n        text-align: right;\n    }\n</style>\n<table border=\"1\" class=\"dataframe\">\n  <thead>\n    <tr style=\"text-align: right;\">\n      <th></th>\n      <th>Model</th>\n      <th>Accuracy</th>\n      <th>AUC</th>\n      <th>Recall</th>\n      <th>Prec.</th>\n      <th>F1</th>\n      <th>Kappa</th>\n      <th>MCC</th>\n      <th>TT (Sec)</th>\n    </tr>\n  </thead>\n  <tbody>\n    <tr>\n      <th>lightgbm</th>\n      <td>Light Gradient Boosting Machine</td>\n      <td>0.9637</td>\n      <td>0.9225</td>\n      <td>0.9637</td>\n      <td>0.9637</td>\n      <td>0.9620</td>\n      <td>0.8366</td>\n      <td>0.8433</td>\n      <td>0.190</td>\n    </tr>\n    <tr>\n      <th>catboost</th>\n      <td>CatBoost Classifier</td>\n      <td>0.9637</td>\n      <td>0.9259</td>\n      <td>0.9637</td>\n      <td>0.9643</td>\n      <td>0.9618</td>\n      <td>0.8348</td>\n      <td>0.8435</td>\n      <td>2.186</td>\n    </tr>\n    <tr>\n      <th>gbc</th>\n      <td>Gradient Boosting Classifier</td>\n      <td>0.9614</td>\n      <td>0.9207</td>\n      <td>0.9614</td>\n      <td>0.9614</td>\n      <td>0.9596</td>\n      <td>0.8263</td>\n      <td>0.8334</td>\n      <td>0.292</td>\n    </tr>\n    <tr>\n      <th>rf</th>\n      <td>Random Forest Classifier</td>\n      <td>0.9550</td>\n      <td>0.9247</td>\n      <td>0.9550</td>\n      <td>0.9563</td>\n      <td>0.9515</td>\n      <td>0.7874</td>\n      <td>0.8033</td>\n      <td>0.198</td>\n    </tr>\n    <tr>\n      <th>et</th>\n      <td>Extra Trees Classifier</td>\n      <td>0.9301</td>\n      <td>0.9201</td>\n      <td>0.9301</td>\n      <td>0.9335</td>\n      <td>0.9200</td>\n      <td>0.6361</td>\n      <td>0.6787</td>\n      <td>0.153</td>\n    </tr>\n    <tr>\n      <th>ada</th>\n      <td>Ada Boost Classifier</td>\n      <td>0.8965</td>\n      <td>0.8583</td>\n      <td>0.8965</td>\n      <td>0.8866</td>\n      <td>0.8853</td>\n      <td>0.4883</td>\n      <td>0.5090</td>\n      <td>0.122</td>\n    </tr>\n    <tr>\n      <th>knn</th>\n      <td>K Neighbors Classifier</td>\n      <td>0.8884</td>\n      <td>0.7101</td>\n      <td>0.8884</td>\n      <td>0.8764</td>\n      <td>0.8705</td>\n      <td>0.4072</td>\n      <td>0.4460</td>\n      <td>0.642</td>\n    </tr>\n    <tr>\n      <th>nb</th>\n      <td>Naive Bayes</td>\n      <td>0.8739</td>\n      <td>0.8530</td>\n      <td>0.8739</td>\n      <td>0.8822</td>\n      <td>0.8773</td>\n      <td>0.5085</td>\n      <td>0.5108</td>\n      <td>0.039</td>\n    </tr>\n    <tr>\n      <th>lda</th>\n      <td>Linear Discriminant Analysis</td>\n      <td>0.8598</td>\n      <td>0.8197</td>\n      <td>0.8598</td>\n      <td>0.8335</td>\n      <td>0.8396</td>\n      <td>0.2711</td>\n      <td>0.2909</td>\n      <td>0.040</td>\n    </tr>\n    <tr>\n      <th>dummy</th>\n      <td>Dummy Classifier</td>\n      <td>0.8592</td>\n      <td>0.5000</td>\n      <td>0.8592</td>\n      <td>0.7382</td>\n      <td>0.7941</td>\n      <td>0.0000</td>\n      <td>0.0000</td>\n      <td>0.044</td>\n    </tr>\n  </tbody>\n</table>\n</div>"
     },
     "execution_count": 9,
     "metadata": {},
     "output_type": "execute_result"
    }
   ],
   "source": [
    "pull(top5)"
   ],
   "metadata": {
    "collapsed": false,
    "pycharm": {
     "name": "#%%\n"
    }
   }
  },
  {
   "cell_type": "code",
   "execution_count": 10,
   "outputs": [
    {
     "data": {
      "text/plain": "                                                                    \n                                                                    \nInitiated  . . . . . . . . . . . . . . . . . .              02:06:04\nStatus     . . . . . . . . . . . . . . . . . .  Loading Dependencies\nEstimator  . . . . . . . . . . . . . . . . . .     Compiling Library",
      "text/html": "<div>\n<style scoped>\n    .dataframe tbody tr th:only-of-type {\n        vertical-align: middle;\n    }\n\n    .dataframe tbody tr th {\n        vertical-align: top;\n    }\n\n    .dataframe thead th {\n        text-align: right;\n    }\n</style>\n<table border=\"1\" class=\"dataframe\">\n  <thead>\n    <tr style=\"text-align: right;\">\n      <th></th>\n      <th></th>\n      <th></th>\n    </tr>\n    <tr>\n      <th></th>\n      <th></th>\n      <th></th>\n    </tr>\n  </thead>\n  <tbody>\n    <tr>\n      <th>Initiated</th>\n      <td>. . . . . . . . . . . . . . . . . .</td>\n      <td>02:06:04</td>\n    </tr>\n    <tr>\n      <th>Status</th>\n      <td>. . . . . . . . . . . . . . . . . .</td>\n      <td>Loading Dependencies</td>\n    </tr>\n    <tr>\n      <th>Estimator</th>\n      <td>. . . . . . . . . . . . . . . . . .</td>\n      <td>Compiling Library</td>\n    </tr>\n  </tbody>\n</table>\n</div>"
     },
     "metadata": {},
     "output_type": "display_data"
    },
    {
     "data": {
      "text/plain": "<IPython.core.display.HTML object>",
      "text/html": ""
     },
     "metadata": {},
     "output_type": "display_data"
    },
    {
     "data": {
      "text/plain": "Processing:   0%|          | 0/7 [00:00<?, ?it/s]",
      "application/vnd.jupyter.widget-view+json": {
       "version_major": 2,
       "version_minor": 0,
       "model_id": "3ae737d2884c471a9e6a0663a792d8f5"
      }
     },
     "metadata": {},
     "output_type": "display_data"
    },
    {
     "name": "stdout",
     "output_type": "stream",
     "text": [
      "Fitting 10 folds for each of 10 candidates, totalling 100 fits\n",
      "Original model was better than the tuned model, hence it will be returned. NOTE: The display metrics are for the tuned model (not the original one).\n"
     ]
    },
    {
     "data": {
      "text/plain": "                                                                    \n                                                                    \nInitiated  . . . . . . . . . . . . . . . . . .              02:06:19\nStatus     . . . . . . . . . . . . . . . . . .  Loading Dependencies\nEstimator  . . . . . . . . . . . . . . . . . .     Compiling Library",
      "text/html": "<div>\n<style scoped>\n    .dataframe tbody tr th:only-of-type {\n        vertical-align: middle;\n    }\n\n    .dataframe tbody tr th {\n        vertical-align: top;\n    }\n\n    .dataframe thead th {\n        text-align: right;\n    }\n</style>\n<table border=\"1\" class=\"dataframe\">\n  <thead>\n    <tr style=\"text-align: right;\">\n      <th></th>\n      <th></th>\n      <th></th>\n    </tr>\n    <tr>\n      <th></th>\n      <th></th>\n      <th></th>\n    </tr>\n  </thead>\n  <tbody>\n    <tr>\n      <th>Initiated</th>\n      <td>. . . . . . . . . . . . . . . . . .</td>\n      <td>02:06:19</td>\n    </tr>\n    <tr>\n      <th>Status</th>\n      <td>. . . . . . . . . . . . . . . . . .</td>\n      <td>Loading Dependencies</td>\n    </tr>\n    <tr>\n      <th>Estimator</th>\n      <td>. . . . . . . . . . . . . . . . . .</td>\n      <td>Compiling Library</td>\n    </tr>\n  </tbody>\n</table>\n</div>"
     },
     "metadata": {},
     "output_type": "display_data"
    },
    {
     "data": {
      "text/plain": "<IPython.core.display.HTML object>",
      "text/html": ""
     },
     "metadata": {},
     "output_type": "display_data"
    },
    {
     "data": {
      "text/plain": "Processing:   0%|          | 0/7 [00:00<?, ?it/s]",
      "application/vnd.jupyter.widget-view+json": {
       "version_major": 2,
       "version_minor": 0,
       "model_id": "a35de7849f8c4b6380a15e51bd352379"
      }
     },
     "metadata": {},
     "output_type": "display_data"
    },
    {
     "name": "stdout",
     "output_type": "stream",
     "text": [
      "Fitting 10 folds for each of 10 candidates, totalling 100 fits\n"
     ]
    },
    {
     "data": {
      "text/plain": "                                                                    \n                                                                    \nInitiated  . . . . . . . . . . . . . . . . . .              02:07:52\nStatus     . . . . . . . . . . . . . . . . . .  Loading Dependencies\nEstimator  . . . . . . . . . . . . . . . . . .     Compiling Library",
      "text/html": "<div>\n<style scoped>\n    .dataframe tbody tr th:only-of-type {\n        vertical-align: middle;\n    }\n\n    .dataframe tbody tr th {\n        vertical-align: top;\n    }\n\n    .dataframe thead th {\n        text-align: right;\n    }\n</style>\n<table border=\"1\" class=\"dataframe\">\n  <thead>\n    <tr style=\"text-align: right;\">\n      <th></th>\n      <th></th>\n      <th></th>\n    </tr>\n    <tr>\n      <th></th>\n      <th></th>\n      <th></th>\n    </tr>\n  </thead>\n  <tbody>\n    <tr>\n      <th>Initiated</th>\n      <td>. . . . . . . . . . . . . . . . . .</td>\n      <td>02:07:52</td>\n    </tr>\n    <tr>\n      <th>Status</th>\n      <td>. . . . . . . . . . . . . . . . . .</td>\n      <td>Loading Dependencies</td>\n    </tr>\n    <tr>\n      <th>Estimator</th>\n      <td>. . . . . . . . . . . . . . . . . .</td>\n      <td>Compiling Library</td>\n    </tr>\n  </tbody>\n</table>\n</div>"
     },
     "metadata": {},
     "output_type": "display_data"
    },
    {
     "data": {
      "text/plain": "<IPython.core.display.HTML object>",
      "text/html": ""
     },
     "metadata": {},
     "output_type": "display_data"
    },
    {
     "data": {
      "text/plain": "Processing:   0%|          | 0/7 [00:00<?, ?it/s]",
      "application/vnd.jupyter.widget-view+json": {
       "version_major": 2,
       "version_minor": 0,
       "model_id": "bf029b91bb0c4968abe011379b7fad36"
      }
     },
     "metadata": {},
     "output_type": "display_data"
    },
    {
     "name": "stdout",
     "output_type": "stream",
     "text": [
      "Fitting 10 folds for each of 10 candidates, totalling 100 fits\n",
      "Original model was better than the tuned model, hence it will be returned. NOTE: The display metrics are for the tuned model (not the original one).\n"
     ]
    },
    {
     "data": {
      "text/plain": "                                                                    \n                                                                    \nInitiated  . . . . . . . . . . . . . . . . . .              02:08:19\nStatus     . . . . . . . . . . . . . . . . . .  Loading Dependencies\nEstimator  . . . . . . . . . . . . . . . . . .     Compiling Library",
      "text/html": "<div>\n<style scoped>\n    .dataframe tbody tr th:only-of-type {\n        vertical-align: middle;\n    }\n\n    .dataframe tbody tr th {\n        vertical-align: top;\n    }\n\n    .dataframe thead th {\n        text-align: right;\n    }\n</style>\n<table border=\"1\" class=\"dataframe\">\n  <thead>\n    <tr style=\"text-align: right;\">\n      <th></th>\n      <th></th>\n      <th></th>\n    </tr>\n    <tr>\n      <th></th>\n      <th></th>\n      <th></th>\n    </tr>\n  </thead>\n  <tbody>\n    <tr>\n      <th>Initiated</th>\n      <td>. . . . . . . . . . . . . . . . . .</td>\n      <td>02:08:19</td>\n    </tr>\n    <tr>\n      <th>Status</th>\n      <td>. . . . . . . . . . . . . . . . . .</td>\n      <td>Loading Dependencies</td>\n    </tr>\n    <tr>\n      <th>Estimator</th>\n      <td>. . . . . . . . . . . . . . . . . .</td>\n      <td>Compiling Library</td>\n    </tr>\n  </tbody>\n</table>\n</div>"
     },
     "metadata": {},
     "output_type": "display_data"
    },
    {
     "data": {
      "text/plain": "<IPython.core.display.HTML object>",
      "text/html": ""
     },
     "metadata": {},
     "output_type": "display_data"
    },
    {
     "data": {
      "text/plain": "Processing:   0%|          | 0/7 [00:00<?, ?it/s]",
      "application/vnd.jupyter.widget-view+json": {
       "version_major": 2,
       "version_minor": 0,
       "model_id": "4d22a09a34904468a8c08e57bd3c7526"
      }
     },
     "metadata": {},
     "output_type": "display_data"
    },
    {
     "name": "stdout",
     "output_type": "stream",
     "text": [
      "Fitting 10 folds for each of 10 candidates, totalling 100 fits\n"
     ]
    },
    {
     "data": {
      "text/plain": "                                                                    \n                                                                    \nInitiated  . . . . . . . . . . . . . . . . . .              02:09:10\nStatus     . . . . . . . . . . . . . . . . . .  Loading Dependencies\nEstimator  . . . . . . . . . . . . . . . . . .     Compiling Library",
      "text/html": "<div>\n<style scoped>\n    .dataframe tbody tr th:only-of-type {\n        vertical-align: middle;\n    }\n\n    .dataframe tbody tr th {\n        vertical-align: top;\n    }\n\n    .dataframe thead th {\n        text-align: right;\n    }\n</style>\n<table border=\"1\" class=\"dataframe\">\n  <thead>\n    <tr style=\"text-align: right;\">\n      <th></th>\n      <th></th>\n      <th></th>\n    </tr>\n    <tr>\n      <th></th>\n      <th></th>\n      <th></th>\n    </tr>\n  </thead>\n  <tbody>\n    <tr>\n      <th>Initiated</th>\n      <td>. . . . . . . . . . . . . . . . . .</td>\n      <td>02:09:10</td>\n    </tr>\n    <tr>\n      <th>Status</th>\n      <td>. . . . . . . . . . . . . . . . . .</td>\n      <td>Loading Dependencies</td>\n    </tr>\n    <tr>\n      <th>Estimator</th>\n      <td>. . . . . . . . . . . . . . . . . .</td>\n      <td>Compiling Library</td>\n    </tr>\n  </tbody>\n</table>\n</div>"
     },
     "metadata": {},
     "output_type": "display_data"
    },
    {
     "data": {
      "text/plain": "<IPython.core.display.HTML object>",
      "text/html": ""
     },
     "metadata": {},
     "output_type": "display_data"
    },
    {
     "data": {
      "text/plain": "Processing:   0%|          | 0/7 [00:00<?, ?it/s]",
      "application/vnd.jupyter.widget-view+json": {
       "version_major": 2,
       "version_minor": 0,
       "model_id": "5a5a64ffab634072a4d5132a79e322df"
      }
     },
     "metadata": {},
     "output_type": "display_data"
    },
    {
     "name": "stdout",
     "output_type": "stream",
     "text": [
      "Fitting 10 folds for each of 10 candidates, totalling 100 fits\n"
     ]
    }
   ],
   "source": [
    "tuned_top5 = [tune_model(i) for i in top5]"
   ],
   "metadata": {
    "collapsed": false,
    "pycharm": {
     "name": "#%%\n"
    }
   }
  },
  {
   "cell_type": "code",
   "execution_count": 11,
   "outputs": [
    {
     "data": {
      "text/plain": "                                                                    \n                                                                    \nInitiated  . . . . . . . . . . . . . . . . . .              02:09:33\nStatus     . . . . . . . . . . . . . . . . . .  Loading Dependencies\nEstimator  . . . . . . . . . . . . . . . . . .     Compiling Library",
      "text/html": "<div>\n<style scoped>\n    .dataframe tbody tr th:only-of-type {\n        vertical-align: middle;\n    }\n\n    .dataframe tbody tr th {\n        vertical-align: top;\n    }\n\n    .dataframe thead th {\n        text-align: right;\n    }\n</style>\n<table border=\"1\" class=\"dataframe\">\n  <thead>\n    <tr style=\"text-align: right;\">\n      <th></th>\n      <th></th>\n      <th></th>\n    </tr>\n    <tr>\n      <th></th>\n      <th></th>\n      <th></th>\n    </tr>\n  </thead>\n  <tbody>\n    <tr>\n      <th>Initiated</th>\n      <td>. . . . . . . . . . . . . . . . . .</td>\n      <td>02:09:33</td>\n    </tr>\n    <tr>\n      <th>Status</th>\n      <td>. . . . . . . . . . . . . . . . . .</td>\n      <td>Loading Dependencies</td>\n    </tr>\n    <tr>\n      <th>Estimator</th>\n      <td>. . . . . . . . . . . . . . . . . .</td>\n      <td>Compiling Library</td>\n    </tr>\n  </tbody>\n</table>\n</div>"
     },
     "metadata": {},
     "output_type": "display_data"
    },
    {
     "data": {
      "text/plain": "<IPython.core.display.HTML object>",
      "text/html": ""
     },
     "metadata": {},
     "output_type": "display_data"
    },
    {
     "data": {
      "text/plain": "Processing:   0%|          | 0/6 [00:00<?, ?it/s]",
      "application/vnd.jupyter.widget-view+json": {
       "version_major": 2,
       "version_minor": 0,
       "model_id": "82d3b660366845569e9f3a045b091af2"
      }
     },
     "metadata": {},
     "output_type": "display_data"
    },
    {
     "data": {
      "text/plain": "                                                                    \n                                                                    \nInitiated  . . . . . . . . . . . . . . . . . .              02:09:46\nStatus     . . . . . . . . . . . . . . . . . .  Loading Dependencies\nEstimator  . . . . . . . . . . . . . . . . . .     Compiling Library",
      "text/html": "<div>\n<style scoped>\n    .dataframe tbody tr th:only-of-type {\n        vertical-align: middle;\n    }\n\n    .dataframe tbody tr th {\n        vertical-align: top;\n    }\n\n    .dataframe thead th {\n        text-align: right;\n    }\n</style>\n<table border=\"1\" class=\"dataframe\">\n  <thead>\n    <tr style=\"text-align: right;\">\n      <th></th>\n      <th></th>\n      <th></th>\n    </tr>\n    <tr>\n      <th></th>\n      <th></th>\n      <th></th>\n    </tr>\n  </thead>\n  <tbody>\n    <tr>\n      <th>Initiated</th>\n      <td>. . . . . . . . . . . . . . . . . .</td>\n      <td>02:09:46</td>\n    </tr>\n    <tr>\n      <th>Status</th>\n      <td>. . . . . . . . . . . . . . . . . .</td>\n      <td>Loading Dependencies</td>\n    </tr>\n    <tr>\n      <th>Estimator</th>\n      <td>. . . . . . . . . . . . . . . . . .</td>\n      <td>Compiling Library</td>\n    </tr>\n  </tbody>\n</table>\n</div>"
     },
     "metadata": {},
     "output_type": "display_data"
    },
    {
     "data": {
      "text/plain": "<IPython.core.display.HTML object>",
      "text/html": ""
     },
     "metadata": {},
     "output_type": "display_data"
    },
    {
     "data": {
      "text/plain": "Processing:   0%|          | 0/6 [00:00<?, ?it/s]",
      "application/vnd.jupyter.widget-view+json": {
       "version_major": 2,
       "version_minor": 0,
       "model_id": "6fcf09bd66eb4ea6b515685fcc83dd88"
      }
     },
     "metadata": {},
     "output_type": "display_data"
    },
    {
     "data": {
      "text/plain": "                                                                    \n                                                                    \nInitiated  . . . . . . . . . . . . . . . . . .              02:10:11\nStatus     . . . . . . . . . . . . . . . . . .  Loading Dependencies\nEstimator  . . . . . . . . . . . . . . . . . .     Compiling Library",
      "text/html": "<div>\n<style scoped>\n    .dataframe tbody tr th:only-of-type {\n        vertical-align: middle;\n    }\n\n    .dataframe tbody tr th {\n        vertical-align: top;\n    }\n\n    .dataframe thead th {\n        text-align: right;\n    }\n</style>\n<table border=\"1\" class=\"dataframe\">\n  <thead>\n    <tr style=\"text-align: right;\">\n      <th></th>\n      <th></th>\n      <th></th>\n    </tr>\n    <tr>\n      <th></th>\n      <th></th>\n      <th></th>\n    </tr>\n  </thead>\n  <tbody>\n    <tr>\n      <th>Initiated</th>\n      <td>. . . . . . . . . . . . . . . . . .</td>\n      <td>02:10:11</td>\n    </tr>\n    <tr>\n      <th>Status</th>\n      <td>. . . . . . . . . . . . . . . . . .</td>\n      <td>Loading Dependencies</td>\n    </tr>\n    <tr>\n      <th>Estimator</th>\n      <td>. . . . . . . . . . . . . . . . . .</td>\n      <td>Compiling Library</td>\n    </tr>\n  </tbody>\n</table>\n</div>"
     },
     "metadata": {},
     "output_type": "display_data"
    },
    {
     "data": {
      "text/plain": "<IPython.core.display.HTML object>",
      "text/html": ""
     },
     "metadata": {},
     "output_type": "display_data"
    },
    {
     "data": {
      "text/plain": "Processing:   0%|          | 0/6 [00:00<?, ?it/s]",
      "application/vnd.jupyter.widget-view+json": {
       "version_major": 2,
       "version_minor": 0,
       "model_id": "be8f250db1114cfe8f5e5bd6321edfe8"
      }
     },
     "metadata": {},
     "output_type": "display_data"
    },
    {
     "data": {
      "text/plain": "                                                                    \n                                                                    \nInitiated  . . . . . . . . . . . . . . . . . .              02:10:38\nStatus     . . . . . . . . . . . . . . . . . .  Loading Dependencies\nEstimator  . . . . . . . . . . . . . . . . . .     Compiling Library",
      "text/html": "<div>\n<style scoped>\n    .dataframe tbody tr th:only-of-type {\n        vertical-align: middle;\n    }\n\n    .dataframe tbody tr th {\n        vertical-align: top;\n    }\n\n    .dataframe thead th {\n        text-align: right;\n    }\n</style>\n<table border=\"1\" class=\"dataframe\">\n  <thead>\n    <tr style=\"text-align: right;\">\n      <th></th>\n      <th></th>\n      <th></th>\n    </tr>\n    <tr>\n      <th></th>\n      <th></th>\n      <th></th>\n    </tr>\n  </thead>\n  <tbody>\n    <tr>\n      <th>Initiated</th>\n      <td>. . . . . . . . . . . . . . . . . .</td>\n      <td>02:10:38</td>\n    </tr>\n    <tr>\n      <th>Status</th>\n      <td>. . . . . . . . . . . . . . . . . .</td>\n      <td>Loading Dependencies</td>\n    </tr>\n    <tr>\n      <th>Estimator</th>\n      <td>. . . . . . . . . . . . . . . . . .</td>\n      <td>Compiling Library</td>\n    </tr>\n  </tbody>\n</table>\n</div>"
     },
     "metadata": {},
     "output_type": "display_data"
    },
    {
     "data": {
      "text/plain": "<IPython.core.display.HTML object>",
      "text/html": ""
     },
     "metadata": {},
     "output_type": "display_data"
    },
    {
     "data": {
      "text/plain": "Processing:   0%|          | 0/6 [00:00<?, ?it/s]",
      "application/vnd.jupyter.widget-view+json": {
       "version_major": 2,
       "version_minor": 0,
       "model_id": "eeab260596b5429b8febba39019b6e2a"
      }
     },
     "metadata": {},
     "output_type": "display_data"
    },
    {
     "data": {
      "text/plain": "                                                                    \n                                                                    \nInitiated  . . . . . . . . . . . . . . . . . .              02:12:07\nStatus     . . . . . . . . . . . . . . . . . .  Loading Dependencies\nEstimator  . . . . . . . . . . . . . . . . . .     Compiling Library",
      "text/html": "<div>\n<style scoped>\n    .dataframe tbody tr th:only-of-type {\n        vertical-align: middle;\n    }\n\n    .dataframe tbody tr th {\n        vertical-align: top;\n    }\n\n    .dataframe thead th {\n        text-align: right;\n    }\n</style>\n<table border=\"1\" class=\"dataframe\">\n  <thead>\n    <tr style=\"text-align: right;\">\n      <th></th>\n      <th></th>\n      <th></th>\n    </tr>\n    <tr>\n      <th></th>\n      <th></th>\n      <th></th>\n    </tr>\n  </thead>\n  <tbody>\n    <tr>\n      <th>Initiated</th>\n      <td>. . . . . . . . . . . . . . . . . .</td>\n      <td>02:12:07</td>\n    </tr>\n    <tr>\n      <th>Status</th>\n      <td>. . . . . . . . . . . . . . . . . .</td>\n      <td>Loading Dependencies</td>\n    </tr>\n    <tr>\n      <th>Estimator</th>\n      <td>. . . . . . . . . . . . . . . . . .</td>\n      <td>Compiling Library</td>\n    </tr>\n  </tbody>\n</table>\n</div>"
     },
     "metadata": {},
     "output_type": "display_data"
    },
    {
     "data": {
      "text/plain": "<IPython.core.display.HTML object>",
      "text/html": ""
     },
     "metadata": {},
     "output_type": "display_data"
    },
    {
     "data": {
      "text/plain": "Processing:   0%|          | 0/6 [00:00<?, ?it/s]",
      "application/vnd.jupyter.widget-view+json": {
       "version_major": 2,
       "version_minor": 0,
       "model_id": "1a02872f266e41c8a388ecc0c9b5e106"
      }
     },
     "metadata": {},
     "output_type": "display_data"
    }
   ],
   "source": [
    "bagged_top5 = [ensemble_model(i) for i in tuned_top5]"
   ],
   "metadata": {
    "collapsed": false,
    "pycharm": {
     "name": "#%%\n"
    }
   }
  },
  {
   "cell_type": "code",
   "execution_count": 12,
   "outputs": [
    {
     "data": {
      "text/plain": "                                                                    \n                                                                    \nInitiated  . . . . . . . . . . . . . . . . . .              02:12:37\nStatus     . . . . . . . . . . . . . . . . . .  Loading Dependencies\nEstimator  . . . . . . . . . . . . . . . . . .     Compiling Library",
      "text/html": "<div>\n<style scoped>\n    .dataframe tbody tr th:only-of-type {\n        vertical-align: middle;\n    }\n\n    .dataframe tbody tr th {\n        vertical-align: top;\n    }\n\n    .dataframe thead th {\n        text-align: right;\n    }\n</style>\n<table border=\"1\" class=\"dataframe\">\n  <thead>\n    <tr style=\"text-align: right;\">\n      <th></th>\n      <th></th>\n      <th></th>\n    </tr>\n    <tr>\n      <th></th>\n      <th></th>\n      <th></th>\n    </tr>\n  </thead>\n  <tbody>\n    <tr>\n      <th>Initiated</th>\n      <td>. . . . . . . . . . . . . . . . . .</td>\n      <td>02:12:37</td>\n    </tr>\n    <tr>\n      <th>Status</th>\n      <td>. . . . . . . . . . . . . . . . . .</td>\n      <td>Loading Dependencies</td>\n    </tr>\n    <tr>\n      <th>Estimator</th>\n      <td>. . . . . . . . . . . . . . . . . .</td>\n      <td>Compiling Library</td>\n    </tr>\n  </tbody>\n</table>\n</div>"
     },
     "metadata": {},
     "output_type": "display_data"
    },
    {
     "data": {
      "text/plain": "<IPython.core.display.HTML object>",
      "text/html": ""
     },
     "metadata": {},
     "output_type": "display_data"
    },
    {
     "data": {
      "text/plain": "Processing:   0%|          | 0/6 [00:00<?, ?it/s]",
      "application/vnd.jupyter.widget-view+json": {
       "version_major": 2,
       "version_minor": 0,
       "model_id": "0e6baccb44ec4e0ab7f42e0991a09a53"
      }
     },
     "metadata": {},
     "output_type": "display_data"
    }
   ],
   "source": [
    "blender = blend_models(estimator_list = top5)"
   ],
   "metadata": {
    "collapsed": false,
    "pycharm": {
     "name": "#%%\n"
    }
   }
  },
  {
   "cell_type": "code",
   "execution_count": 13,
   "outputs": [
    {
     "data": {
      "text/plain": "                                                                    \n                                                                    \nInitiated  . . . . . . . . . . . . . . . . . .              02:13:08\nStatus     . . . . . . . . . . . . . . . . . .  Loading Dependencies\nEstimator  . . . . . . . . . . . . . . . . . .     Compiling Library",
      "text/html": "<div>\n<style scoped>\n    .dataframe tbody tr th:only-of-type {\n        vertical-align: middle;\n    }\n\n    .dataframe tbody tr th {\n        vertical-align: top;\n    }\n\n    .dataframe thead th {\n        text-align: right;\n    }\n</style>\n<table border=\"1\" class=\"dataframe\">\n  <thead>\n    <tr style=\"text-align: right;\">\n      <th></th>\n      <th></th>\n      <th></th>\n    </tr>\n    <tr>\n      <th></th>\n      <th></th>\n      <th></th>\n    </tr>\n  </thead>\n  <tbody>\n    <tr>\n      <th>Initiated</th>\n      <td>. . . . . . . . . . . . . . . . . .</td>\n      <td>02:13:08</td>\n    </tr>\n    <tr>\n      <th>Status</th>\n      <td>. . . . . . . . . . . . . . . . . .</td>\n      <td>Loading Dependencies</td>\n    </tr>\n    <tr>\n      <th>Estimator</th>\n      <td>. . . . . . . . . . . . . . . . . .</td>\n      <td>Compiling Library</td>\n    </tr>\n  </tbody>\n</table>\n</div>"
     },
     "metadata": {},
     "output_type": "display_data"
    },
    {
     "data": {
      "text/plain": "<IPython.core.display.HTML object>",
      "text/html": ""
     },
     "metadata": {},
     "output_type": "display_data"
    },
    {
     "data": {
      "text/plain": "Processing:   0%|          | 0/6 [00:00<?, ?it/s]",
      "application/vnd.jupyter.widget-view+json": {
       "version_major": 2,
       "version_minor": 0,
       "model_id": "fc3af579c5fe4601aaa74b9de2318fff"
      }
     },
     "metadata": {},
     "output_type": "display_data"
    }
   ],
   "source": [
    "stacker = stack_models(estimator_list = top5)"
   ],
   "metadata": {
    "collapsed": false,
    "pycharm": {
     "name": "#%%\n"
    }
   }
  },
  {
   "cell_type": "code",
   "execution_count": 14,
   "outputs": [],
   "source": [
    "best = automl(optimize = 'Accuracy')"
   ],
   "metadata": {
    "collapsed": false,
    "pycharm": {
     "name": "#%%\n"
    }
   }
  },
  {
   "cell_type": "code",
   "execution_count": 15,
   "outputs": [
    {
     "data": {
      "text/plain": "      Accuracy     AUC  Recall   Prec.      F1   Kappa     MCC\nFold                                                          \n0       0.9564  0.8638  0.9564  0.9553  0.9547  0.8064  0.8108\n1       0.9564  0.8646  0.9564  0.9568  0.9535  0.7977  0.8097\n2       0.9631  0.9299  0.9631  0.9622  0.9621  0.8396  0.8418\n3       0.9732  0.9657  0.9732  0.9731  0.9723  0.8821  0.8856\n4       0.9497  0.8951  0.9497  0.9491  0.9464  0.7666  0.7781\n5       0.9697  0.9580  0.9697  0.9694  0.9695  0.8713  0.8714\n6       0.9731  0.9132  0.9731  0.9727  0.9725  0.8845  0.8860\n7       0.9697  0.9431  0.9697  0.9697  0.9685  0.8659  0.8706\n8       0.9697  0.9532  0.9697  0.9692  0.9689  0.8687  0.8710\n9       0.9697  0.9529  0.9697  0.9692  0.9692  0.8714  0.8722\nMean    0.9651  0.9240  0.9651  0.9647  0.9638  0.8454  0.8497\nStd     0.0078  0.0362  0.0078  0.0079  0.0087  0.0390  0.0358",
      "text/html": "<div>\n<style scoped>\n    .dataframe tbody tr th:only-of-type {\n        vertical-align: middle;\n    }\n\n    .dataframe tbody tr th {\n        vertical-align: top;\n    }\n\n    .dataframe thead th {\n        text-align: right;\n    }\n</style>\n<table border=\"1\" class=\"dataframe\">\n  <thead>\n    <tr style=\"text-align: right;\">\n      <th></th>\n      <th>Accuracy</th>\n      <th>AUC</th>\n      <th>Recall</th>\n      <th>Prec.</th>\n      <th>F1</th>\n      <th>Kappa</th>\n      <th>MCC</th>\n    </tr>\n    <tr>\n      <th>Fold</th>\n      <th></th>\n      <th></th>\n      <th></th>\n      <th></th>\n      <th></th>\n      <th></th>\n      <th></th>\n    </tr>\n  </thead>\n  <tbody>\n    <tr>\n      <th>0</th>\n      <td>0.9564</td>\n      <td>0.8638</td>\n      <td>0.9564</td>\n      <td>0.9553</td>\n      <td>0.9547</td>\n      <td>0.8064</td>\n      <td>0.8108</td>\n    </tr>\n    <tr>\n      <th>1</th>\n      <td>0.9564</td>\n      <td>0.8646</td>\n      <td>0.9564</td>\n      <td>0.9568</td>\n      <td>0.9535</td>\n      <td>0.7977</td>\n      <td>0.8097</td>\n    </tr>\n    <tr>\n      <th>2</th>\n      <td>0.9631</td>\n      <td>0.9299</td>\n      <td>0.9631</td>\n      <td>0.9622</td>\n      <td>0.9621</td>\n      <td>0.8396</td>\n      <td>0.8418</td>\n    </tr>\n    <tr>\n      <th>3</th>\n      <td>0.9732</td>\n      <td>0.9657</td>\n      <td>0.9732</td>\n      <td>0.9731</td>\n      <td>0.9723</td>\n      <td>0.8821</td>\n      <td>0.8856</td>\n    </tr>\n    <tr>\n      <th>4</th>\n      <td>0.9497</td>\n      <td>0.8951</td>\n      <td>0.9497</td>\n      <td>0.9491</td>\n      <td>0.9464</td>\n      <td>0.7666</td>\n      <td>0.7781</td>\n    </tr>\n    <tr>\n      <th>5</th>\n      <td>0.9697</td>\n      <td>0.9580</td>\n      <td>0.9697</td>\n      <td>0.9694</td>\n      <td>0.9695</td>\n      <td>0.8713</td>\n      <td>0.8714</td>\n    </tr>\n    <tr>\n      <th>6</th>\n      <td>0.9731</td>\n      <td>0.9132</td>\n      <td>0.9731</td>\n      <td>0.9727</td>\n      <td>0.9725</td>\n      <td>0.8845</td>\n      <td>0.8860</td>\n    </tr>\n    <tr>\n      <th>7</th>\n      <td>0.9697</td>\n      <td>0.9431</td>\n      <td>0.9697</td>\n      <td>0.9697</td>\n      <td>0.9685</td>\n      <td>0.8659</td>\n      <td>0.8706</td>\n    </tr>\n    <tr>\n      <th>8</th>\n      <td>0.9697</td>\n      <td>0.9532</td>\n      <td>0.9697</td>\n      <td>0.9692</td>\n      <td>0.9689</td>\n      <td>0.8687</td>\n      <td>0.8710</td>\n    </tr>\n    <tr>\n      <th>9</th>\n      <td>0.9697</td>\n      <td>0.9529</td>\n      <td>0.9697</td>\n      <td>0.9692</td>\n      <td>0.9692</td>\n      <td>0.8714</td>\n      <td>0.8722</td>\n    </tr>\n    <tr>\n      <th>Mean</th>\n      <td>0.9651</td>\n      <td>0.9240</td>\n      <td>0.9651</td>\n      <td>0.9647</td>\n      <td>0.9638</td>\n      <td>0.8454</td>\n      <td>0.8497</td>\n    </tr>\n    <tr>\n      <th>Std</th>\n      <td>0.0078</td>\n      <td>0.0362</td>\n      <td>0.0078</td>\n      <td>0.0079</td>\n      <td>0.0087</td>\n      <td>0.0390</td>\n      <td>0.0358</td>\n    </tr>\n  </tbody>\n</table>\n</div>"
     },
     "execution_count": 15,
     "metadata": {},
     "output_type": "execute_result"
    }
   ],
   "source": [
    "pull(best)"
   ],
   "metadata": {
    "collapsed": false,
    "pycharm": {
     "name": "#%%\n"
    }
   }
  },
  {
   "cell_type": "code",
   "execution_count": 16,
   "outputs": [],
   "source": [
    "final_model = finalize_model(best)"
   ],
   "metadata": {
    "collapsed": false,
    "pycharm": {
     "name": "#%%\n"
    }
   }
  },
  {
   "cell_type": "code",
   "execution_count": 17,
   "outputs": [
    {
     "data": {
      "text/plain": "      Accuracy     AUC  Recall   Prec.      F1   Kappa     MCC\nFold                                                          \n0       0.9597  0.8516  0.9597  0.9592  0.9579  0.8193  0.8253\n1       0.9497  0.8924  0.9497  0.9525  0.9449  0.7557  0.7793\n2       0.9631  0.9219  0.9631  0.9633  0.9612  0.8326  0.8405\n3       0.9732  0.9663  0.9732  0.9740  0.9719  0.8795  0.8860\n4       0.9463  0.8983  0.9463  0.9495  0.9408  0.7363  0.7633\n5       0.9764  0.9434  0.9764  0.9764  0.9758  0.8956  0.8981\n6       0.9731  0.9071  0.9731  0.9730  0.9722  0.8820  0.8855\n7       0.9596  0.9337  0.9596  0.9614  0.9567  0.8111  0.8259\n8       0.9630  0.9612  0.9630  0.9624  0.9615  0.8361  0.8407\n9       0.9663  0.9510  0.9663  0.9665  0.9648  0.8494  0.8556\nMean    0.9630  0.9227  0.9630  0.9638  0.9608  0.8298  0.8400\nStd     0.0094  0.0340  0.0094  0.0085  0.0108  0.0497  0.0422",
      "text/html": "<div>\n<style scoped>\n    .dataframe tbody tr th:only-of-type {\n        vertical-align: middle;\n    }\n\n    .dataframe tbody tr th {\n        vertical-align: top;\n    }\n\n    .dataframe thead th {\n        text-align: right;\n    }\n</style>\n<table border=\"1\" class=\"dataframe\">\n  <thead>\n    <tr style=\"text-align: right;\">\n      <th></th>\n      <th>Accuracy</th>\n      <th>AUC</th>\n      <th>Recall</th>\n      <th>Prec.</th>\n      <th>F1</th>\n      <th>Kappa</th>\n      <th>MCC</th>\n    </tr>\n    <tr>\n      <th>Fold</th>\n      <th></th>\n      <th></th>\n      <th></th>\n      <th></th>\n      <th></th>\n      <th></th>\n      <th></th>\n    </tr>\n  </thead>\n  <tbody>\n    <tr>\n      <th>0</th>\n      <td>0.9597</td>\n      <td>0.8516</td>\n      <td>0.9597</td>\n      <td>0.9592</td>\n      <td>0.9579</td>\n      <td>0.8193</td>\n      <td>0.8253</td>\n    </tr>\n    <tr>\n      <th>1</th>\n      <td>0.9497</td>\n      <td>0.8924</td>\n      <td>0.9497</td>\n      <td>0.9525</td>\n      <td>0.9449</td>\n      <td>0.7557</td>\n      <td>0.7793</td>\n    </tr>\n    <tr>\n      <th>2</th>\n      <td>0.9631</td>\n      <td>0.9219</td>\n      <td>0.9631</td>\n      <td>0.9633</td>\n      <td>0.9612</td>\n      <td>0.8326</td>\n      <td>0.8405</td>\n    </tr>\n    <tr>\n      <th>3</th>\n      <td>0.9732</td>\n      <td>0.9663</td>\n      <td>0.9732</td>\n      <td>0.9740</td>\n      <td>0.9719</td>\n      <td>0.8795</td>\n      <td>0.8860</td>\n    </tr>\n    <tr>\n      <th>4</th>\n      <td>0.9463</td>\n      <td>0.8983</td>\n      <td>0.9463</td>\n      <td>0.9495</td>\n      <td>0.9408</td>\n      <td>0.7363</td>\n      <td>0.7633</td>\n    </tr>\n    <tr>\n      <th>5</th>\n      <td>0.9764</td>\n      <td>0.9434</td>\n      <td>0.9764</td>\n      <td>0.9764</td>\n      <td>0.9758</td>\n      <td>0.8956</td>\n      <td>0.8981</td>\n    </tr>\n    <tr>\n      <th>6</th>\n      <td>0.9731</td>\n      <td>0.9071</td>\n      <td>0.9731</td>\n      <td>0.9730</td>\n      <td>0.9722</td>\n      <td>0.8820</td>\n      <td>0.8855</td>\n    </tr>\n    <tr>\n      <th>7</th>\n      <td>0.9596</td>\n      <td>0.9337</td>\n      <td>0.9596</td>\n      <td>0.9614</td>\n      <td>0.9567</td>\n      <td>0.8111</td>\n      <td>0.8259</td>\n    </tr>\n    <tr>\n      <th>8</th>\n      <td>0.9630</td>\n      <td>0.9612</td>\n      <td>0.9630</td>\n      <td>0.9624</td>\n      <td>0.9615</td>\n      <td>0.8361</td>\n      <td>0.8407</td>\n    </tr>\n    <tr>\n      <th>9</th>\n      <td>0.9663</td>\n      <td>0.9510</td>\n      <td>0.9663</td>\n      <td>0.9665</td>\n      <td>0.9648</td>\n      <td>0.8494</td>\n      <td>0.8556</td>\n    </tr>\n    <tr>\n      <th>Mean</th>\n      <td>0.9630</td>\n      <td>0.9227</td>\n      <td>0.9630</td>\n      <td>0.9638</td>\n      <td>0.9608</td>\n      <td>0.8298</td>\n      <td>0.8400</td>\n    </tr>\n    <tr>\n      <th>Std</th>\n      <td>0.0094</td>\n      <td>0.0340</td>\n      <td>0.0094</td>\n      <td>0.0085</td>\n      <td>0.0108</td>\n      <td>0.0497</td>\n      <td>0.0422</td>\n    </tr>\n  </tbody>\n</table>\n</div>"
     },
     "execution_count": 17,
     "metadata": {},
     "output_type": "execute_result"
    }
   ],
   "source": [
    "pull(final_model)\n"
   ],
   "metadata": {
    "collapsed": false,
    "pycharm": {
     "name": "#%%\n"
    }
   }
  },
  {
   "cell_type": "code",
   "execution_count": 25,
   "outputs": [
    {
     "data": {
      "text/plain": "<IPython.core.display.HTML object>",
      "text/html": ""
     },
     "metadata": {},
     "output_type": "display_data"
    }
   ],
   "source": [
    "predict_unseen = predict_model(final_model, data=df_test)"
   ],
   "metadata": {
    "collapsed": false,
    "pycharm": {
     "name": "#%%\n"
    }
   }
  },
  {
   "cell_type": "code",
   "execution_count": 26,
   "outputs": [],
   "source": [
    "df_result = predict_unseen[['id','prediction_label']]"
   ],
   "metadata": {
    "collapsed": false,
    "pycharm": {
     "name": "#%%\n"
    }
   }
  },
  {
   "cell_type": "code",
   "execution_count": 27,
   "outputs": [],
   "source": [
    "df_result.rename(columns={'prediction_label':'churn'},inplace = True)"
   ],
   "metadata": {
    "collapsed": false,
    "pycharm": {
     "name": "#%%\n"
    }
   }
  },
  {
   "cell_type": "code",
   "execution_count": 28,
   "outputs": [],
   "source": [
    "df_result.to_csv( 'out.csv',index=False,sep=',')"
   ],
   "metadata": {
    "collapsed": false,
    "pycharm": {
     "name": "#%%\n"
    }
   }
  },
  {
   "cell_type": "code",
   "execution_count": 29,
   "outputs": [
    {
     "data": {
      "text/plain": "       account_length  voice_mail_plan  number_vmail_messages  \\\ncount     4250.000000              0.0            4250.000000   \nmean       100.236235              NaN               7.631765   \nstd         39.698401              NaN              13.439882   \nmin          1.000000              NaN               0.000000   \n25%         73.000000              NaN               0.000000   \n50%        100.000000              NaN               0.000000   \n75%        127.000000              NaN              16.000000   \nmax        243.000000              NaN              52.000000   \n\n       total_day_minutes  total_day_calls  total_day_charge  \\\ncount        4250.000000      4250.000000       4250.000000   \nmean          179.812471        99.907294         30.644682   \nstd            54.009948        19.850817          9.182096   \nmin             0.000000         0.000000          0.000000   \n25%           143.000000        87.000000         24.365000   \n50%           180.000000       100.000000         30.680000   \n75%           216.000000       113.000000         36.750000   \nmax           351.000000       165.000000         59.760000   \n\n       total_eve_minutes  total_eve_calls  total_eve_charge  \\\ncount        4250.000000      4250.000000       4250.000000   \nmean          199.725647       100.176471         17.015012   \nstd            50.254818        19.908591          4.271212   \nmin             0.000000         0.000000          0.000000   \n25%           165.250000        87.000000         14.102500   \n50%           200.000000       100.000000         17.060000   \n75%           233.000000       114.000000         19.867500   \nmax           359.000000       170.000000         30.540000   \n\n       total_night_minutes  total_night_calls  total_night_charge  \\\ncount          4250.000000        4250.000000         4250.000000   \nmean            200.078824          99.839529            9.023892   \nstd              50.348409          20.093220            2.265922   \nmin               0.000000           0.000000            0.000000   \n25%             167.000000          86.000000            7.522500   \n50%             200.000000         100.000000            9.020000   \n75%             234.000000         113.000000           10.560000   \nmax             395.000000         175.000000           17.770000   \n\n       total_intl_minutes  total_intl_calls  total_intl_charge  \\\ncount         4250.000000       4250.000000        4250.000000   \nmean             9.809176          4.426353           2.769654   \nstd              2.772636          2.463069           0.745204   \nmin              0.000000          0.000000           0.000000   \n25%              8.000000          3.000000           2.300000   \n50%             10.000000          4.000000           2.780000   \n75%             12.000000          6.000000           3.240000   \nmax             20.000000         20.000000           5.400000   \n\n       number_customer_service_calls   total_mins  total_calls  \ncount                    4250.000000  4250.000000  4250.000000  \nmean                        1.559059   590.766118   304.349647  \nstd                         1.311434    88.828631    34.519048  \nmin                         0.000000   284.000000   191.000000  \n25%                         1.000000   531.000000   281.000000  \n50%                         1.000000   591.000000   305.000000  \n75%                         2.000000   650.000000   327.000000  \nmax                         9.000000   884.000000   416.000000  ",
      "text/html": "<div>\n<style scoped>\n    .dataframe tbody tr th:only-of-type {\n        vertical-align: middle;\n    }\n\n    .dataframe tbody tr th {\n        vertical-align: top;\n    }\n\n    .dataframe thead th {\n        text-align: right;\n    }\n</style>\n<table border=\"1\" class=\"dataframe\">\n  <thead>\n    <tr style=\"text-align: right;\">\n      <th></th>\n      <th>account_length</th>\n      <th>voice_mail_plan</th>\n      <th>number_vmail_messages</th>\n      <th>total_day_minutes</th>\n      <th>total_day_calls</th>\n      <th>total_day_charge</th>\n      <th>total_eve_minutes</th>\n      <th>total_eve_calls</th>\n      <th>total_eve_charge</th>\n      <th>total_night_minutes</th>\n      <th>total_night_calls</th>\n      <th>total_night_charge</th>\n      <th>total_intl_minutes</th>\n      <th>total_intl_calls</th>\n      <th>total_intl_charge</th>\n      <th>number_customer_service_calls</th>\n      <th>total_mins</th>\n      <th>total_calls</th>\n    </tr>\n  </thead>\n  <tbody>\n    <tr>\n      <th>count</th>\n      <td>4250.000000</td>\n      <td>0.0</td>\n      <td>4250.000000</td>\n      <td>4250.000000</td>\n      <td>4250.000000</td>\n      <td>4250.000000</td>\n      <td>4250.000000</td>\n      <td>4250.000000</td>\n      <td>4250.000000</td>\n      <td>4250.000000</td>\n      <td>4250.000000</td>\n      <td>4250.000000</td>\n      <td>4250.000000</td>\n      <td>4250.000000</td>\n      <td>4250.000000</td>\n      <td>4250.000000</td>\n      <td>4250.000000</td>\n      <td>4250.000000</td>\n    </tr>\n    <tr>\n      <th>mean</th>\n      <td>100.236235</td>\n      <td>NaN</td>\n      <td>7.631765</td>\n      <td>179.812471</td>\n      <td>99.907294</td>\n      <td>30.644682</td>\n      <td>199.725647</td>\n      <td>100.176471</td>\n      <td>17.015012</td>\n      <td>200.078824</td>\n      <td>99.839529</td>\n      <td>9.023892</td>\n      <td>9.809176</td>\n      <td>4.426353</td>\n      <td>2.769654</td>\n      <td>1.559059</td>\n      <td>590.766118</td>\n      <td>304.349647</td>\n    </tr>\n    <tr>\n      <th>std</th>\n      <td>39.698401</td>\n      <td>NaN</td>\n      <td>13.439882</td>\n      <td>54.009948</td>\n      <td>19.850817</td>\n      <td>9.182096</td>\n      <td>50.254818</td>\n      <td>19.908591</td>\n      <td>4.271212</td>\n      <td>50.348409</td>\n      <td>20.093220</td>\n      <td>2.265922</td>\n      <td>2.772636</td>\n      <td>2.463069</td>\n      <td>0.745204</td>\n      <td>1.311434</td>\n      <td>88.828631</td>\n      <td>34.519048</td>\n    </tr>\n    <tr>\n      <th>min</th>\n      <td>1.000000</td>\n      <td>NaN</td>\n      <td>0.000000</td>\n      <td>0.000000</td>\n      <td>0.000000</td>\n      <td>0.000000</td>\n      <td>0.000000</td>\n      <td>0.000000</td>\n      <td>0.000000</td>\n      <td>0.000000</td>\n      <td>0.000000</td>\n      <td>0.000000</td>\n      <td>0.000000</td>\n      <td>0.000000</td>\n      <td>0.000000</td>\n      <td>0.000000</td>\n      <td>284.000000</td>\n      <td>191.000000</td>\n    </tr>\n    <tr>\n      <th>25%</th>\n      <td>73.000000</td>\n      <td>NaN</td>\n      <td>0.000000</td>\n      <td>143.000000</td>\n      <td>87.000000</td>\n      <td>24.365000</td>\n      <td>165.250000</td>\n      <td>87.000000</td>\n      <td>14.102500</td>\n      <td>167.000000</td>\n      <td>86.000000</td>\n      <td>7.522500</td>\n      <td>8.000000</td>\n      <td>3.000000</td>\n      <td>2.300000</td>\n      <td>1.000000</td>\n      <td>531.000000</td>\n      <td>281.000000</td>\n    </tr>\n    <tr>\n      <th>50%</th>\n      <td>100.000000</td>\n      <td>NaN</td>\n      <td>0.000000</td>\n      <td>180.000000</td>\n      <td>100.000000</td>\n      <td>30.680000</td>\n      <td>200.000000</td>\n      <td>100.000000</td>\n      <td>17.060000</td>\n      <td>200.000000</td>\n      <td>100.000000</td>\n      <td>9.020000</td>\n      <td>10.000000</td>\n      <td>4.000000</td>\n      <td>2.780000</td>\n      <td>1.000000</td>\n      <td>591.000000</td>\n      <td>305.000000</td>\n    </tr>\n    <tr>\n      <th>75%</th>\n      <td>127.000000</td>\n      <td>NaN</td>\n      <td>16.000000</td>\n      <td>216.000000</td>\n      <td>113.000000</td>\n      <td>36.750000</td>\n      <td>233.000000</td>\n      <td>114.000000</td>\n      <td>19.867500</td>\n      <td>234.000000</td>\n      <td>113.000000</td>\n      <td>10.560000</td>\n      <td>12.000000</td>\n      <td>6.000000</td>\n      <td>3.240000</td>\n      <td>2.000000</td>\n      <td>650.000000</td>\n      <td>327.000000</td>\n    </tr>\n    <tr>\n      <th>max</th>\n      <td>243.000000</td>\n      <td>NaN</td>\n      <td>52.000000</td>\n      <td>351.000000</td>\n      <td>165.000000</td>\n      <td>59.760000</td>\n      <td>359.000000</td>\n      <td>170.000000</td>\n      <td>30.540000</td>\n      <td>395.000000</td>\n      <td>175.000000</td>\n      <td>17.770000</td>\n      <td>20.000000</td>\n      <td>20.000000</td>\n      <td>5.400000</td>\n      <td>9.000000</td>\n      <td>884.000000</td>\n      <td>416.000000</td>\n    </tr>\n  </tbody>\n</table>\n</div>"
     },
     "execution_count": 29,
     "metadata": {},
     "output_type": "execute_result"
    }
   ],
   "source": [
    "df_train.describe()"
   ],
   "metadata": {
    "collapsed": false,
    "pycharm": {
     "name": "#%%\n"
    }
   }
  },
  {
   "cell_type": "code",
   "execution_count": 30,
   "outputs": [
    {
     "data": {
      "text/plain": "     state  account_length      area_code  international_plan  \\\n0       OH             107  area_code_415               False   \n1       NJ             137  area_code_415               False   \n2       OH              84  area_code_408                True   \n3       OK              75  area_code_415                True   \n4       MA             121  area_code_510               False   \n...    ...             ...            ...                 ...   \n4245    MT              83  area_code_415               False   \n4246    WV              73  area_code_408               False   \n4247    NC              75  area_code_408               False   \n4248    HI              50  area_code_408               False   \n4249    VT              86  area_code_415               False   \n\n      voice_mail_plan  number_vmail_messages  total_day_minutes  \\\n0                 NaN                     26                161   \n1                 NaN                      0                243   \n2                 NaN                      0                299   \n3                 NaN                      0                166   \n4                 NaN                     24                218   \n...               ...                    ...                ...   \n4245              NaN                      0                188   \n4246              NaN                      0                177   \n4247              NaN                      0                170   \n4248              NaN                     40                235   \n4249              NaN                     34                129   \n\n      total_day_calls  total_day_charge  total_eve_minutes  ...  \\\n0                 123             27.47                195  ...   \n1                 114             41.38                121  ...   \n2                  71             50.90                 61  ...   \n3                 113             28.34                148  ...   \n4                  88             37.09                348  ...   \n...               ...               ...                ...  ...   \n4245               70             32.01                243  ...   \n4246               89             30.24                131  ...   \n4247              101             29.02                193  ...   \n4248              127             40.07                223  ...   \n4249              102             22.00                267  ...   \n\n      total_night_minutes  total_night_calls  total_night_charge  \\\n0                     254                103               11.45   \n1                     162                104                7.32   \n2                     196                 89                8.86   \n3                     186                121                8.41   \n4                     212                118                9.57   \n...                   ...                ...                 ...   \n4245                  213                 79                9.62   \n4246                  186                 89                8.38   \n4247                  129                104                5.81   \n4248                  297                116               13.39   \n4249                  154                100                6.97   \n\n      total_intl_minutes  total_intl_calls  total_intl_charge  \\\n0                     13                 3               3.70   \n1                     12                 5               3.29   \n2                      6                 7               1.78   \n3                     10                 3               2.73   \n4                      7                 7               2.03   \n...                  ...               ...                ...   \n4245                  10                 6               2.78   \n4246                  11                 6               3.11   \n4247                   6                 7               1.86   \n4248                   9                 5               2.67   \n4249                   9                16               2.51   \n\n      number_customer_service_calls  total_mins  total_calls  churn  \n0                                 1         625          332     no  \n1                                 0         539          333     no  \n2                                 2         564          255     no  \n3                                 3         512          359     no  \n4                                 3         786          321     no  \n...                             ...         ...          ...    ...  \n4245                              0         656          243     no  \n4246                              3         506          266     no  \n4247                              1         499          338     no  \n4248                              2         766          374     no  \n4249                              0         560          322     no  \n\n[4250 rows x 22 columns]",
      "text/html": "<div>\n<style scoped>\n    .dataframe tbody tr th:only-of-type {\n        vertical-align: middle;\n    }\n\n    .dataframe tbody tr th {\n        vertical-align: top;\n    }\n\n    .dataframe thead th {\n        text-align: right;\n    }\n</style>\n<table border=\"1\" class=\"dataframe\">\n  <thead>\n    <tr style=\"text-align: right;\">\n      <th></th>\n      <th>state</th>\n      <th>account_length</th>\n      <th>area_code</th>\n      <th>international_plan</th>\n      <th>voice_mail_plan</th>\n      <th>number_vmail_messages</th>\n      <th>total_day_minutes</th>\n      <th>total_day_calls</th>\n      <th>total_day_charge</th>\n      <th>total_eve_minutes</th>\n      <th>...</th>\n      <th>total_night_minutes</th>\n      <th>total_night_calls</th>\n      <th>total_night_charge</th>\n      <th>total_intl_minutes</th>\n      <th>total_intl_calls</th>\n      <th>total_intl_charge</th>\n      <th>number_customer_service_calls</th>\n      <th>total_mins</th>\n      <th>total_calls</th>\n      <th>churn</th>\n    </tr>\n  </thead>\n  <tbody>\n    <tr>\n      <th>0</th>\n      <td>OH</td>\n      <td>107</td>\n      <td>area_code_415</td>\n      <td>False</td>\n      <td>NaN</td>\n      <td>26</td>\n      <td>161</td>\n      <td>123</td>\n      <td>27.47</td>\n      <td>195</td>\n      <td>...</td>\n      <td>254</td>\n      <td>103</td>\n      <td>11.45</td>\n      <td>13</td>\n      <td>3</td>\n      <td>3.70</td>\n      <td>1</td>\n      <td>625</td>\n      <td>332</td>\n      <td>no</td>\n    </tr>\n    <tr>\n      <th>1</th>\n      <td>NJ</td>\n      <td>137</td>\n      <td>area_code_415</td>\n      <td>False</td>\n      <td>NaN</td>\n      <td>0</td>\n      <td>243</td>\n      <td>114</td>\n      <td>41.38</td>\n      <td>121</td>\n      <td>...</td>\n      <td>162</td>\n      <td>104</td>\n      <td>7.32</td>\n      <td>12</td>\n      <td>5</td>\n      <td>3.29</td>\n      <td>0</td>\n      <td>539</td>\n      <td>333</td>\n      <td>no</td>\n    </tr>\n    <tr>\n      <th>2</th>\n      <td>OH</td>\n      <td>84</td>\n      <td>area_code_408</td>\n      <td>True</td>\n      <td>NaN</td>\n      <td>0</td>\n      <td>299</td>\n      <td>71</td>\n      <td>50.90</td>\n      <td>61</td>\n      <td>...</td>\n      <td>196</td>\n      <td>89</td>\n      <td>8.86</td>\n      <td>6</td>\n      <td>7</td>\n      <td>1.78</td>\n      <td>2</td>\n      <td>564</td>\n      <td>255</td>\n      <td>no</td>\n    </tr>\n    <tr>\n      <th>3</th>\n      <td>OK</td>\n      <td>75</td>\n      <td>area_code_415</td>\n      <td>True</td>\n      <td>NaN</td>\n      <td>0</td>\n      <td>166</td>\n      <td>113</td>\n      <td>28.34</td>\n      <td>148</td>\n      <td>...</td>\n      <td>186</td>\n      <td>121</td>\n      <td>8.41</td>\n      <td>10</td>\n      <td>3</td>\n      <td>2.73</td>\n      <td>3</td>\n      <td>512</td>\n      <td>359</td>\n      <td>no</td>\n    </tr>\n    <tr>\n      <th>4</th>\n      <td>MA</td>\n      <td>121</td>\n      <td>area_code_510</td>\n      <td>False</td>\n      <td>NaN</td>\n      <td>24</td>\n      <td>218</td>\n      <td>88</td>\n      <td>37.09</td>\n      <td>348</td>\n      <td>...</td>\n      <td>212</td>\n      <td>118</td>\n      <td>9.57</td>\n      <td>7</td>\n      <td>7</td>\n      <td>2.03</td>\n      <td>3</td>\n      <td>786</td>\n      <td>321</td>\n      <td>no</td>\n    </tr>\n    <tr>\n      <th>...</th>\n      <td>...</td>\n      <td>...</td>\n      <td>...</td>\n      <td>...</td>\n      <td>...</td>\n      <td>...</td>\n      <td>...</td>\n      <td>...</td>\n      <td>...</td>\n      <td>...</td>\n      <td>...</td>\n      <td>...</td>\n      <td>...</td>\n      <td>...</td>\n      <td>...</td>\n      <td>...</td>\n      <td>...</td>\n      <td>...</td>\n      <td>...</td>\n      <td>...</td>\n      <td>...</td>\n    </tr>\n    <tr>\n      <th>4245</th>\n      <td>MT</td>\n      <td>83</td>\n      <td>area_code_415</td>\n      <td>False</td>\n      <td>NaN</td>\n      <td>0</td>\n      <td>188</td>\n      <td>70</td>\n      <td>32.01</td>\n      <td>243</td>\n      <td>...</td>\n      <td>213</td>\n      <td>79</td>\n      <td>9.62</td>\n      <td>10</td>\n      <td>6</td>\n      <td>2.78</td>\n      <td>0</td>\n      <td>656</td>\n      <td>243</td>\n      <td>no</td>\n    </tr>\n    <tr>\n      <th>4246</th>\n      <td>WV</td>\n      <td>73</td>\n      <td>area_code_408</td>\n      <td>False</td>\n      <td>NaN</td>\n      <td>0</td>\n      <td>177</td>\n      <td>89</td>\n      <td>30.24</td>\n      <td>131</td>\n      <td>...</td>\n      <td>186</td>\n      <td>89</td>\n      <td>8.38</td>\n      <td>11</td>\n      <td>6</td>\n      <td>3.11</td>\n      <td>3</td>\n      <td>506</td>\n      <td>266</td>\n      <td>no</td>\n    </tr>\n    <tr>\n      <th>4247</th>\n      <td>NC</td>\n      <td>75</td>\n      <td>area_code_408</td>\n      <td>False</td>\n      <td>NaN</td>\n      <td>0</td>\n      <td>170</td>\n      <td>101</td>\n      <td>29.02</td>\n      <td>193</td>\n      <td>...</td>\n      <td>129</td>\n      <td>104</td>\n      <td>5.81</td>\n      <td>6</td>\n      <td>7</td>\n      <td>1.86</td>\n      <td>1</td>\n      <td>499</td>\n      <td>338</td>\n      <td>no</td>\n    </tr>\n    <tr>\n      <th>4248</th>\n      <td>HI</td>\n      <td>50</td>\n      <td>area_code_408</td>\n      <td>False</td>\n      <td>NaN</td>\n      <td>40</td>\n      <td>235</td>\n      <td>127</td>\n      <td>40.07</td>\n      <td>223</td>\n      <td>...</td>\n      <td>297</td>\n      <td>116</td>\n      <td>13.39</td>\n      <td>9</td>\n      <td>5</td>\n      <td>2.67</td>\n      <td>2</td>\n      <td>766</td>\n      <td>374</td>\n      <td>no</td>\n    </tr>\n    <tr>\n      <th>4249</th>\n      <td>VT</td>\n      <td>86</td>\n      <td>area_code_415</td>\n      <td>False</td>\n      <td>NaN</td>\n      <td>34</td>\n      <td>129</td>\n      <td>102</td>\n      <td>22.00</td>\n      <td>267</td>\n      <td>...</td>\n      <td>154</td>\n      <td>100</td>\n      <td>6.97</td>\n      <td>9</td>\n      <td>16</td>\n      <td>2.51</td>\n      <td>0</td>\n      <td>560</td>\n      <td>322</td>\n      <td>no</td>\n    </tr>\n  </tbody>\n</table>\n<p>4250 rows × 22 columns</p>\n</div>"
     },
     "execution_count": 30,
     "metadata": {},
     "output_type": "execute_result"
    }
   ],
   "source": [
    "df_train"
   ],
   "metadata": {
    "collapsed": false,
    "pycharm": {
     "name": "#%%\n"
    }
   }
  },
  {
   "cell_type": "code",
   "execution_count": 31,
   "outputs": [],
   "source": [
    "import pycaret\n"
   ],
   "metadata": {
    "collapsed": false,
    "pycharm": {
     "name": "#%%\n"
    }
   }
  },
  {
   "cell_type": "code",
   "execution_count": 31,
   "outputs": [],
   "source": [],
   "metadata": {
    "collapsed": false,
    "pycharm": {
     "name": "#%%\n"
    }
   }
  }
 ],
 "metadata": {
  "kernelspec": {
   "display_name": "Python 3",
   "language": "python",
   "name": "python3"
  },
  "language_info": {
   "codemirror_mode": {
    "name": "ipython",
    "version": 2
   },
   "file_extension": ".py",
   "mimetype": "text/x-python",
   "name": "python",
   "nbconvert_exporter": "python",
   "pygments_lexer": "ipython2",
   "version": "2.7.6"
  }
 },
 "nbformat": 4,
 "nbformat_minor": 0
}
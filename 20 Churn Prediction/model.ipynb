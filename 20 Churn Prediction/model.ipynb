{
 "cells": [
  {
   "cell_type": "code",
   "execution_count": 1,
   "metadata": {
    "collapsed": true,
    "pycharm": {
     "name": "#%%\n"
    }
   },
   "outputs": [],
   "source": [
    "import pandas as pd"
   ]
  },
  {
   "cell_type": "code",
   "execution_count": 18,
   "outputs": [],
   "source": [
    "# Standard\n",
    "import pandas as pd\n",
    "import numpy as np\n",
    "import os\n",
    "# Pycaret\n",
    "from pycaret.classification import *\n",
    "# Plots\n",
    "from plotly.offline import iplot\n",
    "import plotly.graph_objects as go\n",
    "from plotly.subplots import make_subplots\n",
    "import seaborn as sns\n",
    "# Sklearn tools\n",
    "from sklearn.preprocessing import LabelEncoder\n",
    "from sklearn.metrics import *\n",
    "# Extras\n",
    "from datetime import date\n",
    "import warnings\n",
    "warnings.filterwarnings(\"ignore\")\n",
    "import seaborn as sns\n",
    "import pycaret"
   ],
   "metadata": {
    "collapsed": false,
    "pycharm": {
     "name": "#%%\n"
    }
   }
  },
  {
   "cell_type": "code",
   "execution_count": 3,
   "outputs": [],
   "source": [
    "df_test = pd.read_csv('test.csv')"
   ],
   "metadata": {
    "collapsed": false,
    "pycharm": {
     "name": "#%%\n"
    }
   }
  },
  {
   "cell_type": "code",
   "execution_count": 4,
   "outputs": [],
   "source": [
    "df_train = pd.read_csv('train.csv')"
   ],
   "metadata": {
    "collapsed": false,
    "pycharm": {
     "name": "#%%\n"
    }
   }
  },
  {
   "cell_type": "code",
   "execution_count": 5,
   "outputs": [],
   "source": [
    "df_sampleSubmission = pd.read_csv('sampleSubmission.csv')"
   ],
   "metadata": {
    "collapsed": false,
    "pycharm": {
     "name": "#%%\n"
    }
   }
  },
  {
   "cell_type": "code",
   "execution_count": 6,
   "outputs": [
    {
     "data": {
      "text/plain": "     state  account_length      area_code international_plan voice_mail_plan  \\\n0       OH             107  area_code_415                 no             yes   \n1       NJ             137  area_code_415                 no              no   \n2       OH              84  area_code_408                yes              no   \n3       OK              75  area_code_415                yes              no   \n4       MA             121  area_code_510                 no             yes   \n...    ...             ...            ...                ...             ...   \n4245    MT              83  area_code_415                 no              no   \n4246    WV              73  area_code_408                 no              no   \n4247    NC              75  area_code_408                 no              no   \n4248    HI              50  area_code_408                 no             yes   \n4249    VT              86  area_code_415                 no             yes   \n\n      number_vmail_messages  total_day_minutes  total_day_calls  \\\n0                        26              161.6              123   \n1                         0              243.4              114   \n2                         0              299.4               71   \n3                         0              166.7              113   \n4                        24              218.2               88   \n...                     ...                ...              ...   \n4245                      0              188.3               70   \n4246                      0              177.9               89   \n4247                      0              170.7              101   \n4248                     40              235.7              127   \n4249                     34              129.4              102   \n\n      total_day_charge  total_eve_minutes  total_eve_calls  total_eve_charge  \\\n0                27.47              195.5              103             16.62   \n1                41.38              121.2              110             10.30   \n2                50.90               61.9               88              5.26   \n3                28.34              148.3              122             12.61   \n4                37.09              348.5              108             29.62   \n...                ...                ...              ...               ...   \n4245             32.01              243.8               88             20.72   \n4246             30.24              131.2               82             11.15   \n4247             29.02              193.1              126             16.41   \n4248             40.07              223.0              126             18.96   \n4249             22.00              267.1              104             22.70   \n\n      total_night_minutes  total_night_calls  total_night_charge  \\\n0                   254.4                103               11.45   \n1                   162.6                104                7.32   \n2                   196.9                 89                8.86   \n3                   186.9                121                8.41   \n4                   212.6                118                9.57   \n...                   ...                ...                 ...   \n4245                213.7                 79                9.62   \n4246                186.2                 89                8.38   \n4247                129.1                104                5.81   \n4248                297.5                116               13.39   \n4249                154.8                100                6.97   \n\n      total_intl_minutes  total_intl_calls  total_intl_charge  \\\n0                   13.7                 3               3.70   \n1                   12.2                 5               3.29   \n2                    6.6                 7               1.78   \n3                   10.1                 3               2.73   \n4                    7.5                 7               2.03   \n...                  ...               ...                ...   \n4245                10.3                 6               2.78   \n4246                11.5                 6               3.11   \n4247                 6.9                 7               1.86   \n4248                 9.9                 5               2.67   \n4249                 9.3                16               2.51   \n\n      number_customer_service_calls churn  \n0                                 1    no  \n1                                 0    no  \n2                                 2    no  \n3                                 3    no  \n4                                 3    no  \n...                             ...   ...  \n4245                              0    no  \n4246                              3    no  \n4247                              1    no  \n4248                              2    no  \n4249                              0    no  \n\n[4250 rows x 20 columns]",
      "text/html": "<div>\n<style scoped>\n    .dataframe tbody tr th:only-of-type {\n        vertical-align: middle;\n    }\n\n    .dataframe tbody tr th {\n        vertical-align: top;\n    }\n\n    .dataframe thead th {\n        text-align: right;\n    }\n</style>\n<table border=\"1\" class=\"dataframe\">\n  <thead>\n    <tr style=\"text-align: right;\">\n      <th></th>\n      <th>state</th>\n      <th>account_length</th>\n      <th>area_code</th>\n      <th>international_plan</th>\n      <th>voice_mail_plan</th>\n      <th>number_vmail_messages</th>\n      <th>total_day_minutes</th>\n      <th>total_day_calls</th>\n      <th>total_day_charge</th>\n      <th>total_eve_minutes</th>\n      <th>total_eve_calls</th>\n      <th>total_eve_charge</th>\n      <th>total_night_minutes</th>\n      <th>total_night_calls</th>\n      <th>total_night_charge</th>\n      <th>total_intl_minutes</th>\n      <th>total_intl_calls</th>\n      <th>total_intl_charge</th>\n      <th>number_customer_service_calls</th>\n      <th>churn</th>\n    </tr>\n  </thead>\n  <tbody>\n    <tr>\n      <th>0</th>\n      <td>OH</td>\n      <td>107</td>\n      <td>area_code_415</td>\n      <td>no</td>\n      <td>yes</td>\n      <td>26</td>\n      <td>161.6</td>\n      <td>123</td>\n      <td>27.47</td>\n      <td>195.5</td>\n      <td>103</td>\n      <td>16.62</td>\n      <td>254.4</td>\n      <td>103</td>\n      <td>11.45</td>\n      <td>13.7</td>\n      <td>3</td>\n      <td>3.70</td>\n      <td>1</td>\n      <td>no</td>\n    </tr>\n    <tr>\n      <th>1</th>\n      <td>NJ</td>\n      <td>137</td>\n      <td>area_code_415</td>\n      <td>no</td>\n      <td>no</td>\n      <td>0</td>\n      <td>243.4</td>\n      <td>114</td>\n      <td>41.38</td>\n      <td>121.2</td>\n      <td>110</td>\n      <td>10.30</td>\n      <td>162.6</td>\n      <td>104</td>\n      <td>7.32</td>\n      <td>12.2</td>\n      <td>5</td>\n      <td>3.29</td>\n      <td>0</td>\n      <td>no</td>\n    </tr>\n    <tr>\n      <th>2</th>\n      <td>OH</td>\n      <td>84</td>\n      <td>area_code_408</td>\n      <td>yes</td>\n      <td>no</td>\n      <td>0</td>\n      <td>299.4</td>\n      <td>71</td>\n      <td>50.90</td>\n      <td>61.9</td>\n      <td>88</td>\n      <td>5.26</td>\n      <td>196.9</td>\n      <td>89</td>\n      <td>8.86</td>\n      <td>6.6</td>\n      <td>7</td>\n      <td>1.78</td>\n      <td>2</td>\n      <td>no</td>\n    </tr>\n    <tr>\n      <th>3</th>\n      <td>OK</td>\n      <td>75</td>\n      <td>area_code_415</td>\n      <td>yes</td>\n      <td>no</td>\n      <td>0</td>\n      <td>166.7</td>\n      <td>113</td>\n      <td>28.34</td>\n      <td>148.3</td>\n      <td>122</td>\n      <td>12.61</td>\n      <td>186.9</td>\n      <td>121</td>\n      <td>8.41</td>\n      <td>10.1</td>\n      <td>3</td>\n      <td>2.73</td>\n      <td>3</td>\n      <td>no</td>\n    </tr>\n    <tr>\n      <th>4</th>\n      <td>MA</td>\n      <td>121</td>\n      <td>area_code_510</td>\n      <td>no</td>\n      <td>yes</td>\n      <td>24</td>\n      <td>218.2</td>\n      <td>88</td>\n      <td>37.09</td>\n      <td>348.5</td>\n      <td>108</td>\n      <td>29.62</td>\n      <td>212.6</td>\n      <td>118</td>\n      <td>9.57</td>\n      <td>7.5</td>\n      <td>7</td>\n      <td>2.03</td>\n      <td>3</td>\n      <td>no</td>\n    </tr>\n    <tr>\n      <th>...</th>\n      <td>...</td>\n      <td>...</td>\n      <td>...</td>\n      <td>...</td>\n      <td>...</td>\n      <td>...</td>\n      <td>...</td>\n      <td>...</td>\n      <td>...</td>\n      <td>...</td>\n      <td>...</td>\n      <td>...</td>\n      <td>...</td>\n      <td>...</td>\n      <td>...</td>\n      <td>...</td>\n      <td>...</td>\n      <td>...</td>\n      <td>...</td>\n      <td>...</td>\n    </tr>\n    <tr>\n      <th>4245</th>\n      <td>MT</td>\n      <td>83</td>\n      <td>area_code_415</td>\n      <td>no</td>\n      <td>no</td>\n      <td>0</td>\n      <td>188.3</td>\n      <td>70</td>\n      <td>32.01</td>\n      <td>243.8</td>\n      <td>88</td>\n      <td>20.72</td>\n      <td>213.7</td>\n      <td>79</td>\n      <td>9.62</td>\n      <td>10.3</td>\n      <td>6</td>\n      <td>2.78</td>\n      <td>0</td>\n      <td>no</td>\n    </tr>\n    <tr>\n      <th>4246</th>\n      <td>WV</td>\n      <td>73</td>\n      <td>area_code_408</td>\n      <td>no</td>\n      <td>no</td>\n      <td>0</td>\n      <td>177.9</td>\n      <td>89</td>\n      <td>30.24</td>\n      <td>131.2</td>\n      <td>82</td>\n      <td>11.15</td>\n      <td>186.2</td>\n      <td>89</td>\n      <td>8.38</td>\n      <td>11.5</td>\n      <td>6</td>\n      <td>3.11</td>\n      <td>3</td>\n      <td>no</td>\n    </tr>\n    <tr>\n      <th>4247</th>\n      <td>NC</td>\n      <td>75</td>\n      <td>area_code_408</td>\n      <td>no</td>\n      <td>no</td>\n      <td>0</td>\n      <td>170.7</td>\n      <td>101</td>\n      <td>29.02</td>\n      <td>193.1</td>\n      <td>126</td>\n      <td>16.41</td>\n      <td>129.1</td>\n      <td>104</td>\n      <td>5.81</td>\n      <td>6.9</td>\n      <td>7</td>\n      <td>1.86</td>\n      <td>1</td>\n      <td>no</td>\n    </tr>\n    <tr>\n      <th>4248</th>\n      <td>HI</td>\n      <td>50</td>\n      <td>area_code_408</td>\n      <td>no</td>\n      <td>yes</td>\n      <td>40</td>\n      <td>235.7</td>\n      <td>127</td>\n      <td>40.07</td>\n      <td>223.0</td>\n      <td>126</td>\n      <td>18.96</td>\n      <td>297.5</td>\n      <td>116</td>\n      <td>13.39</td>\n      <td>9.9</td>\n      <td>5</td>\n      <td>2.67</td>\n      <td>2</td>\n      <td>no</td>\n    </tr>\n    <tr>\n      <th>4249</th>\n      <td>VT</td>\n      <td>86</td>\n      <td>area_code_415</td>\n      <td>no</td>\n      <td>yes</td>\n      <td>34</td>\n      <td>129.4</td>\n      <td>102</td>\n      <td>22.00</td>\n      <td>267.1</td>\n      <td>104</td>\n      <td>22.70</td>\n      <td>154.8</td>\n      <td>100</td>\n      <td>6.97</td>\n      <td>9.3</td>\n      <td>16</td>\n      <td>2.51</td>\n      <td>0</td>\n      <td>no</td>\n    </tr>\n  </tbody>\n</table>\n<p>4250 rows × 20 columns</p>\n</div>"
     },
     "execution_count": 6,
     "metadata": {},
     "output_type": "execute_result"
    }
   ],
   "source": [
    "df_train"
   ],
   "metadata": {
    "collapsed": false,
    "pycharm": {
     "name": "#%%\n"
    }
   }
  },
  {
   "cell_type": "code",
   "execution_count": 7,
   "outputs": [],
   "source": [
    "df_train['total_mins'] = df_train['total_day_minutes'] + df_train['total_eve_minutes'] + df_train['total_night_minutes'] + df_train['total_intl_minutes']\n",
    "df_train['total_calls'] = df_train['total_day_calls'] + df_train['total_eve_calls'] + df_train['total_night_calls'] + df_train['total_intl_calls']\n",
    "\n",
    "df_train = df_train.astype({\"total_mins\": int,\"total_day_minutes\": int,\"total_eve_minutes\": int,\"total_night_minutes\": int,\"total_intl_minutes\": int})\n",
    "\n",
    "df_train['international_plan'] = df_train['international_plan'].map({'yes':True ,'no':False})\n",
    "df_train['voice_mail_plan'] = df_train['voice_mail_plan'].map({'yes':True ,'no':False})\n",
    "df_train['voice_mail_plan'] = df_train['voice_mail_plan'].map({'yes':True ,'no':False})\n",
    "\n",
    "df_train_not_churn = df_train[df_train['churn'] == 'no']\n",
    "df_train_churn = df_train[df_train['churn'] == 'yes']"
   ],
   "metadata": {
    "collapsed": false,
    "pycharm": {
     "name": "#%%\n"
    }
   }
  },
  {
   "cell_type": "code",
   "execution_count": 8,
   "outputs": [],
   "source": [
    "df_test['total_mins'] = df_test['total_day_minutes'] + df_test['total_eve_minutes'] + df_test['total_night_minutes'] + df_test['total_intl_minutes']\n",
    "df_test['total_calls'] = df_test['total_day_calls'] + df_test['total_eve_calls'] + df_test['total_night_calls'] + df_test['total_intl_calls']\n",
    "\n",
    "df_test = df_test.astype({\"total_mins\": int,\"total_day_minutes\": int,\"total_eve_minutes\": int,\"total_night_minutes\": int,\"total_intl_minutes\": int})\n",
    "\n",
    "df_test['international_plan'] = df_test['international_plan'].map({'yes':True ,'no':False})\n",
    "df_test['voice_mail_plan'] = df_test['voice_mail_plan'].map({'yes':True ,'no':False})\n",
    "df_test['voice_mail_plan'] = df_test['voice_mail_plan'].map({'yes':True ,'no':False})\n"
   ],
   "metadata": {
    "collapsed": false,
    "pycharm": {
     "name": "#%%\n"
    }
   }
  },
  {
   "cell_type": "code",
   "execution_count": 9,
   "outputs": [],
   "source": [
    "column_to_move = df_train.pop(\"churn\")\n",
    "\n",
    "# insert column with insert(location, column_name, column_value)\n",
    "\n"
   ],
   "metadata": {
    "collapsed": false,
    "pycharm": {
     "name": "#%%\n"
    }
   }
  },
  {
   "cell_type": "code",
   "execution_count": 22,
   "outputs": [
    {
     "ename": "ValueError",
     "evalue": "cannot insert churn, already exists",
     "output_type": "error",
     "traceback": [
      "\u001B[1;31m---------------------------------------------------------------------------\u001B[0m",
      "\u001B[1;31mValueError\u001B[0m                                Traceback (most recent call last)",
      "\u001B[1;32m~\\AppData\\Local\\Temp\\ipykernel_3784\\770808904.py\u001B[0m in \u001B[0;36m?\u001B[1;34m()\u001B[0m\n\u001B[1;32m----> 1\u001B[1;33m \u001B[0mdf_train\u001B[0m \u001B[1;33m=\u001B[0m \u001B[0mdf_train\u001B[0m\u001B[1;33m.\u001B[0m\u001B[0minsert\u001B[0m\u001B[1;33m(\u001B[0m\u001B[1;36m21\u001B[0m\u001B[1;33m,\u001B[0m \u001B[1;34m\"churn\"\u001B[0m\u001B[1;33m,\u001B[0m \u001B[0mcolumn_to_move\u001B[0m\u001B[1;33m)\u001B[0m\u001B[1;33m\u001B[0m\u001B[1;33m\u001B[0m\u001B[0m\n\u001B[0m",
      "\u001B[1;32mC:\\ProgramData\\miniconda3\\lib\\site-packages\\pandas\\core\\frame.py\u001B[0m in \u001B[0;36m?\u001B[1;34m(self, loc, column, value, allow_duplicates)\u001B[0m\n\u001B[0;32m   4813\u001B[0m                 \u001B[1;34m\"'self.flags.allows_duplicate_labels' is False.\"\u001B[0m\u001B[1;33m\u001B[0m\u001B[1;33m\u001B[0m\u001B[0m\n\u001B[0;32m   4814\u001B[0m             )\n\u001B[0;32m   4815\u001B[0m         \u001B[1;32mif\u001B[0m \u001B[1;32mnot\u001B[0m \u001B[0mallow_duplicates\u001B[0m \u001B[1;32mand\u001B[0m \u001B[0mcolumn\u001B[0m \u001B[1;32min\u001B[0m \u001B[0mself\u001B[0m\u001B[1;33m.\u001B[0m\u001B[0mcolumns\u001B[0m\u001B[1;33m:\u001B[0m\u001B[1;33m\u001B[0m\u001B[1;33m\u001B[0m\u001B[0m\n\u001B[0;32m   4816\u001B[0m             \u001B[1;31m# Should this be a different kind of error??\u001B[0m\u001B[1;33m\u001B[0m\u001B[1;33m\u001B[0m\u001B[0m\n\u001B[1;32m-> 4817\u001B[1;33m             \u001B[1;32mraise\u001B[0m \u001B[0mValueError\u001B[0m\u001B[1;33m(\u001B[0m\u001B[1;34mf\"cannot insert {column}, already exists\"\u001B[0m\u001B[1;33m)\u001B[0m\u001B[1;33m\u001B[0m\u001B[1;33m\u001B[0m\u001B[0m\n\u001B[0m\u001B[0;32m   4818\u001B[0m         \u001B[1;32mif\u001B[0m \u001B[1;32mnot\u001B[0m \u001B[0misinstance\u001B[0m\u001B[1;33m(\u001B[0m\u001B[0mloc\u001B[0m\u001B[1;33m,\u001B[0m \u001B[0mint\u001B[0m\u001B[1;33m)\u001B[0m\u001B[1;33m:\u001B[0m\u001B[1;33m\u001B[0m\u001B[1;33m\u001B[0m\u001B[0m\n\u001B[0;32m   4819\u001B[0m             \u001B[1;32mraise\u001B[0m \u001B[0mTypeError\u001B[0m\u001B[1;33m(\u001B[0m\u001B[1;34m\"loc must be int\"\u001B[0m\u001B[1;33m)\u001B[0m\u001B[1;33m\u001B[0m\u001B[1;33m\u001B[0m\u001B[0m\n\u001B[0;32m   4820\u001B[0m \u001B[1;33m\u001B[0m\u001B[0m\n",
      "\u001B[1;31mValueError\u001B[0m: cannot insert churn, already exists"
     ]
    }
   ],
   "source": [
    "df_train = df_train.insert(21, \"churn\", column_to_move)"
   ],
   "metadata": {
    "collapsed": false,
    "pycharm": {
     "name": "#%%\n"
    }
   }
  },
  {
   "cell_type": "code",
   "execution_count": 20,
   "outputs": [],
   "source": [
    "df_train.to_csv( 'df_train_new.csv', index=False)"
   ],
   "metadata": {
    "collapsed": false,
    "pycharm": {
     "name": "#%%\n"
    }
   }
  },
  {
   "cell_type": "code",
   "execution_count": 21,
   "outputs": [],
   "source": [
    "df_test.to_csv( 'df_test_new.csv',index=False)"
   ],
   "metadata": {
    "collapsed": false,
    "pycharm": {
     "name": "#%%\n"
    }
   }
  }
 ],
 "metadata": {
  "kernelspec": {
   "display_name": "Python 3",
   "language": "python",
   "name": "python3"
  },
  "language_info": {
   "codemirror_mode": {
    "name": "ipython",
    "version": 2
   },
   "file_extension": ".py",
   "mimetype": "text/x-python",
   "name": "python",
   "nbconvert_exporter": "python",
   "pygments_lexer": "ipython2",
   "version": "2.7.6"
  }
 },
 "nbformat": 4,
 "nbformat_minor": 0
}
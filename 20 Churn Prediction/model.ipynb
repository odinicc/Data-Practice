{
 "cells": [
  {
   "cell_type": "code",
   "execution_count": 1,
   "metadata": {
    "collapsed": true,
    "pycharm": {
     "name": "#%%\n"
    }
   },
   "outputs": [],
   "source": [
    "import pandas as pd"
   ]
  },
  {
   "cell_type": "code",
   "execution_count": 7,
   "outputs": [],
   "source": [
    "df_test = pd.read_csv('test.csv')"
   ],
   "metadata": {
    "collapsed": false,
    "pycharm": {
     "name": "#%%\n"
    }
   }
  },
  {
   "cell_type": "code",
   "execution_count": 3,
   "outputs": [],
   "source": [
    "df_train = pd.read_csv('train.csv')"
   ],
   "metadata": {
    "collapsed": false,
    "pycharm": {
     "name": "#%%\n"
    }
   }
  },
  {
   "cell_type": "code",
   "execution_count": 4,
   "outputs": [],
   "source": [
    "df_sampleSubmission = pd.read_csv('sampleSubmission.csv')"
   ],
   "metadata": {
    "collapsed": false,
    "pycharm": {
     "name": "#%%\n"
    }
   }
  },
  {
   "cell_type": "code",
   "execution_count": null,
   "outputs": [],
   "source": [],
   "metadata": {
    "collapsed": false,
    "pycharm": {
     "name": "#%%\n"
    }
   }
  },
  {
   "cell_type": "code",
   "execution_count": 5,
   "outputs": [
    {
     "data": {
      "text/plain": "     state  account_length      area_code international_plan voice_mail_plan  \\\n0       OH             107  area_code_415                 no             yes   \n1       NJ             137  area_code_415                 no              no   \n2       OH              84  area_code_408                yes              no   \n3       OK              75  area_code_415                yes              no   \n4       MA             121  area_code_510                 no             yes   \n...    ...             ...            ...                ...             ...   \n4245    MT              83  area_code_415                 no              no   \n4246    WV              73  area_code_408                 no              no   \n4247    NC              75  area_code_408                 no              no   \n4248    HI              50  area_code_408                 no             yes   \n4249    VT              86  area_code_415                 no             yes   \n\n      number_vmail_messages  total_day_minutes  total_day_calls  \\\n0                        26              161.6              123   \n1                         0              243.4              114   \n2                         0              299.4               71   \n3                         0              166.7              113   \n4                        24              218.2               88   \n...                     ...                ...              ...   \n4245                      0              188.3               70   \n4246                      0              177.9               89   \n4247                      0              170.7              101   \n4248                     40              235.7              127   \n4249                     34              129.4              102   \n\n      total_day_charge  total_eve_minutes  total_eve_calls  total_eve_charge  \\\n0                27.47              195.5              103             16.62   \n1                41.38              121.2              110             10.30   \n2                50.90               61.9               88              5.26   \n3                28.34              148.3              122             12.61   \n4                37.09              348.5              108             29.62   \n...                ...                ...              ...               ...   \n4245             32.01              243.8               88             20.72   \n4246             30.24              131.2               82             11.15   \n4247             29.02              193.1              126             16.41   \n4248             40.07              223.0              126             18.96   \n4249             22.00              267.1              104             22.70   \n\n      total_night_minutes  total_night_calls  total_night_charge  \\\n0                   254.4                103               11.45   \n1                   162.6                104                7.32   \n2                   196.9                 89                8.86   \n3                   186.9                121                8.41   \n4                   212.6                118                9.57   \n...                   ...                ...                 ...   \n4245                213.7                 79                9.62   \n4246                186.2                 89                8.38   \n4247                129.1                104                5.81   \n4248                297.5                116               13.39   \n4249                154.8                100                6.97   \n\n      total_intl_minutes  total_intl_calls  total_intl_charge  \\\n0                   13.7                 3               3.70   \n1                   12.2                 5               3.29   \n2                    6.6                 7               1.78   \n3                   10.1                 3               2.73   \n4                    7.5                 7               2.03   \n...                  ...               ...                ...   \n4245                10.3                 6               2.78   \n4246                11.5                 6               3.11   \n4247                 6.9                 7               1.86   \n4248                 9.9                 5               2.67   \n4249                 9.3                16               2.51   \n\n      number_customer_service_calls churn  \n0                                 1    no  \n1                                 0    no  \n2                                 2    no  \n3                                 3    no  \n4                                 3    no  \n...                             ...   ...  \n4245                              0    no  \n4246                              3    no  \n4247                              1    no  \n4248                              2    no  \n4249                              0    no  \n\n[4250 rows x 20 columns]",
      "text/html": "<div>\n<style scoped>\n    .dataframe tbody tr th:only-of-type {\n        vertical-align: middle;\n    }\n\n    .dataframe tbody tr th {\n        vertical-align: top;\n    }\n\n    .dataframe thead th {\n        text-align: right;\n    }\n</style>\n<table border=\"1\" class=\"dataframe\">\n  <thead>\n    <tr style=\"text-align: right;\">\n      <th></th>\n      <th>state</th>\n      <th>account_length</th>\n      <th>area_code</th>\n      <th>international_plan</th>\n      <th>voice_mail_plan</th>\n      <th>number_vmail_messages</th>\n      <th>total_day_minutes</th>\n      <th>total_day_calls</th>\n      <th>total_day_charge</th>\n      <th>total_eve_minutes</th>\n      <th>total_eve_calls</th>\n      <th>total_eve_charge</th>\n      <th>total_night_minutes</th>\n      <th>total_night_calls</th>\n      <th>total_night_charge</th>\n      <th>total_intl_minutes</th>\n      <th>total_intl_calls</th>\n      <th>total_intl_charge</th>\n      <th>number_customer_service_calls</th>\n      <th>churn</th>\n    </tr>\n  </thead>\n  <tbody>\n    <tr>\n      <th>0</th>\n      <td>OH</td>\n      <td>107</td>\n      <td>area_code_415</td>\n      <td>no</td>\n      <td>yes</td>\n      <td>26</td>\n      <td>161.6</td>\n      <td>123</td>\n      <td>27.47</td>\n      <td>195.5</td>\n      <td>103</td>\n      <td>16.62</td>\n      <td>254.4</td>\n      <td>103</td>\n      <td>11.45</td>\n      <td>13.7</td>\n      <td>3</td>\n      <td>3.70</td>\n      <td>1</td>\n      <td>no</td>\n    </tr>\n    <tr>\n      <th>1</th>\n      <td>NJ</td>\n      <td>137</td>\n      <td>area_code_415</td>\n      <td>no</td>\n      <td>no</td>\n      <td>0</td>\n      <td>243.4</td>\n      <td>114</td>\n      <td>41.38</td>\n      <td>121.2</td>\n      <td>110</td>\n      <td>10.30</td>\n      <td>162.6</td>\n      <td>104</td>\n      <td>7.32</td>\n      <td>12.2</td>\n      <td>5</td>\n      <td>3.29</td>\n      <td>0</td>\n      <td>no</td>\n    </tr>\n    <tr>\n      <th>2</th>\n      <td>OH</td>\n      <td>84</td>\n      <td>area_code_408</td>\n      <td>yes</td>\n      <td>no</td>\n      <td>0</td>\n      <td>299.4</td>\n      <td>71</td>\n      <td>50.90</td>\n      <td>61.9</td>\n      <td>88</td>\n      <td>5.26</td>\n      <td>196.9</td>\n      <td>89</td>\n      <td>8.86</td>\n      <td>6.6</td>\n      <td>7</td>\n      <td>1.78</td>\n      <td>2</td>\n      <td>no</td>\n    </tr>\n    <tr>\n      <th>3</th>\n      <td>OK</td>\n      <td>75</td>\n      <td>area_code_415</td>\n      <td>yes</td>\n      <td>no</td>\n      <td>0</td>\n      <td>166.7</td>\n      <td>113</td>\n      <td>28.34</td>\n      <td>148.3</td>\n      <td>122</td>\n      <td>12.61</td>\n      <td>186.9</td>\n      <td>121</td>\n      <td>8.41</td>\n      <td>10.1</td>\n      <td>3</td>\n      <td>2.73</td>\n      <td>3</td>\n      <td>no</td>\n    </tr>\n    <tr>\n      <th>4</th>\n      <td>MA</td>\n      <td>121</td>\n      <td>area_code_510</td>\n      <td>no</td>\n      <td>yes</td>\n      <td>24</td>\n      <td>218.2</td>\n      <td>88</td>\n      <td>37.09</td>\n      <td>348.5</td>\n      <td>108</td>\n      <td>29.62</td>\n      <td>212.6</td>\n      <td>118</td>\n      <td>9.57</td>\n      <td>7.5</td>\n      <td>7</td>\n      <td>2.03</td>\n      <td>3</td>\n      <td>no</td>\n    </tr>\n    <tr>\n      <th>...</th>\n      <td>...</td>\n      <td>...</td>\n      <td>...</td>\n      <td>...</td>\n      <td>...</td>\n      <td>...</td>\n      <td>...</td>\n      <td>...</td>\n      <td>...</td>\n      <td>...</td>\n      <td>...</td>\n      <td>...</td>\n      <td>...</td>\n      <td>...</td>\n      <td>...</td>\n      <td>...</td>\n      <td>...</td>\n      <td>...</td>\n      <td>...</td>\n      <td>...</td>\n    </tr>\n    <tr>\n      <th>4245</th>\n      <td>MT</td>\n      <td>83</td>\n      <td>area_code_415</td>\n      <td>no</td>\n      <td>no</td>\n      <td>0</td>\n      <td>188.3</td>\n      <td>70</td>\n      <td>32.01</td>\n      <td>243.8</td>\n      <td>88</td>\n      <td>20.72</td>\n      <td>213.7</td>\n      <td>79</td>\n      <td>9.62</td>\n      <td>10.3</td>\n      <td>6</td>\n      <td>2.78</td>\n      <td>0</td>\n      <td>no</td>\n    </tr>\n    <tr>\n      <th>4246</th>\n      <td>WV</td>\n      <td>73</td>\n      <td>area_code_408</td>\n      <td>no</td>\n      <td>no</td>\n      <td>0</td>\n      <td>177.9</td>\n      <td>89</td>\n      <td>30.24</td>\n      <td>131.2</td>\n      <td>82</td>\n      <td>11.15</td>\n      <td>186.2</td>\n      <td>89</td>\n      <td>8.38</td>\n      <td>11.5</td>\n      <td>6</td>\n      <td>3.11</td>\n      <td>3</td>\n      <td>no</td>\n    </tr>\n    <tr>\n      <th>4247</th>\n      <td>NC</td>\n      <td>75</td>\n      <td>area_code_408</td>\n      <td>no</td>\n      <td>no</td>\n      <td>0</td>\n      <td>170.7</td>\n      <td>101</td>\n      <td>29.02</td>\n      <td>193.1</td>\n      <td>126</td>\n      <td>16.41</td>\n      <td>129.1</td>\n      <td>104</td>\n      <td>5.81</td>\n      <td>6.9</td>\n      <td>7</td>\n      <td>1.86</td>\n      <td>1</td>\n      <td>no</td>\n    </tr>\n    <tr>\n      <th>4248</th>\n      <td>HI</td>\n      <td>50</td>\n      <td>area_code_408</td>\n      <td>no</td>\n      <td>yes</td>\n      <td>40</td>\n      <td>235.7</td>\n      <td>127</td>\n      <td>40.07</td>\n      <td>223.0</td>\n      <td>126</td>\n      <td>18.96</td>\n      <td>297.5</td>\n      <td>116</td>\n      <td>13.39</td>\n      <td>9.9</td>\n      <td>5</td>\n      <td>2.67</td>\n      <td>2</td>\n      <td>no</td>\n    </tr>\n    <tr>\n      <th>4249</th>\n      <td>VT</td>\n      <td>86</td>\n      <td>area_code_415</td>\n      <td>no</td>\n      <td>yes</td>\n      <td>34</td>\n      <td>129.4</td>\n      <td>102</td>\n      <td>22.00</td>\n      <td>267.1</td>\n      <td>104</td>\n      <td>22.70</td>\n      <td>154.8</td>\n      <td>100</td>\n      <td>6.97</td>\n      <td>9.3</td>\n      <td>16</td>\n      <td>2.51</td>\n      <td>0</td>\n      <td>no</td>\n    </tr>\n  </tbody>\n</table>\n<p>4250 rows × 20 columns</p>\n</div>"
     },
     "execution_count": 5,
     "metadata": {},
     "output_type": "execute_result"
    }
   ],
   "source": [
    "df_train"
   ],
   "metadata": {
    "collapsed": false,
    "pycharm": {
     "name": "#%%\n"
    }
   }
  },
  {
   "cell_type": "code",
   "execution_count": 6,
   "outputs": [
    {
     "data": {
      "text/plain": "      id churn\n0      1   yes\n1      2    no\n2      3    no\n3      4   yes\n4      5   yes\n..   ...   ...\n745  746   yes\n746  747   yes\n747  748    no\n748  749   yes\n749  750   yes\n\n[750 rows x 2 columns]",
      "text/html": "<div>\n<style scoped>\n    .dataframe tbody tr th:only-of-type {\n        vertical-align: middle;\n    }\n\n    .dataframe tbody tr th {\n        vertical-align: top;\n    }\n\n    .dataframe thead th {\n        text-align: right;\n    }\n</style>\n<table border=\"1\" class=\"dataframe\">\n  <thead>\n    <tr style=\"text-align: right;\">\n      <th></th>\n      <th>id</th>\n      <th>churn</th>\n    </tr>\n  </thead>\n  <tbody>\n    <tr>\n      <th>0</th>\n      <td>1</td>\n      <td>yes</td>\n    </tr>\n    <tr>\n      <th>1</th>\n      <td>2</td>\n      <td>no</td>\n    </tr>\n    <tr>\n      <th>2</th>\n      <td>3</td>\n      <td>no</td>\n    </tr>\n    <tr>\n      <th>3</th>\n      <td>4</td>\n      <td>yes</td>\n    </tr>\n    <tr>\n      <th>4</th>\n      <td>5</td>\n      <td>yes</td>\n    </tr>\n    <tr>\n      <th>...</th>\n      <td>...</td>\n      <td>...</td>\n    </tr>\n    <tr>\n      <th>745</th>\n      <td>746</td>\n      <td>yes</td>\n    </tr>\n    <tr>\n      <th>746</th>\n      <td>747</td>\n      <td>yes</td>\n    </tr>\n    <tr>\n      <th>747</th>\n      <td>748</td>\n      <td>no</td>\n    </tr>\n    <tr>\n      <th>748</th>\n      <td>749</td>\n      <td>yes</td>\n    </tr>\n    <tr>\n      <th>749</th>\n      <td>750</td>\n      <td>yes</td>\n    </tr>\n  </tbody>\n</table>\n<p>750 rows × 2 columns</p>\n</div>"
     },
     "execution_count": 6,
     "metadata": {},
     "output_type": "execute_result"
    }
   ],
   "source": [
    "df_sampleSubmission"
   ],
   "metadata": {
    "collapsed": false,
    "pycharm": {
     "name": "#%%\n"
    }
   }
  },
  {
   "cell_type": "code",
   "execution_count": 7,
   "outputs": [
    {
     "data": {
      "text/plain": "       account_length  number_vmail_messages  total_day_minutes  \\\ncount     4250.000000            4250.000000        4250.000000   \nmean       100.236235               7.631765         180.259600   \nstd         39.698401              13.439882          54.012373   \nmin          1.000000               0.000000           0.000000   \n25%         73.000000               0.000000         143.325000   \n50%        100.000000               0.000000         180.450000   \n75%        127.000000              16.000000         216.200000   \nmax        243.000000              52.000000         351.500000   \n\n       total_day_calls  total_day_charge  total_eve_minutes  total_eve_calls  \\\ncount      4250.000000       4250.000000        4250.000000      4250.000000   \nmean         99.907294         30.644682         200.173906       100.176471   \nstd          19.850817          9.182096          50.249518        19.908591   \nmin           0.000000          0.000000           0.000000         0.000000   \n25%          87.000000         24.365000         165.925000        87.000000   \n50%         100.000000         30.680000         200.700000       100.000000   \n75%         113.000000         36.750000         233.775000       114.000000   \nmax         165.000000         59.760000         359.300000       170.000000   \n\n       total_eve_charge  total_night_minutes  total_night_calls  \\\ncount       4250.000000          4250.000000        4250.000000   \nmean          17.015012           200.527882          99.839529   \nstd            4.271212            50.353548          20.093220   \nmin            0.000000             0.000000           0.000000   \n25%           14.102500           167.225000          86.000000   \n50%           17.060000           200.450000         100.000000   \n75%           19.867500           234.700000         113.000000   \nmax           30.540000           395.000000         175.000000   \n\n       total_night_charge  total_intl_minutes  total_intl_calls  \\\ncount         4250.000000         4250.000000       4250.000000   \nmean             9.023892           10.256071          4.426353   \nstd              2.265922            2.760102          2.463069   \nmin              0.000000            0.000000          0.000000   \n25%              7.522500            8.500000          3.000000   \n50%              9.020000           10.300000          4.000000   \n75%             10.560000           12.000000          6.000000   \nmax             17.770000           20.000000         20.000000   \n\n       total_intl_charge  number_customer_service_calls  \ncount        4250.000000                    4250.000000  \nmean            2.769654                       1.559059  \nstd             0.745204                       1.311434  \nmin             0.000000                       0.000000  \n25%             2.300000                       1.000000  \n50%             2.780000                       1.000000  \n75%             3.240000                       2.000000  \nmax             5.400000                       9.000000  ",
      "text/html": "<div>\n<style scoped>\n    .dataframe tbody tr th:only-of-type {\n        vertical-align: middle;\n    }\n\n    .dataframe tbody tr th {\n        vertical-align: top;\n    }\n\n    .dataframe thead th {\n        text-align: right;\n    }\n</style>\n<table border=\"1\" class=\"dataframe\">\n  <thead>\n    <tr style=\"text-align: right;\">\n      <th></th>\n      <th>account_length</th>\n      <th>number_vmail_messages</th>\n      <th>total_day_minutes</th>\n      <th>total_day_calls</th>\n      <th>total_day_charge</th>\n      <th>total_eve_minutes</th>\n      <th>total_eve_calls</th>\n      <th>total_eve_charge</th>\n      <th>total_night_minutes</th>\n      <th>total_night_calls</th>\n      <th>total_night_charge</th>\n      <th>total_intl_minutes</th>\n      <th>total_intl_calls</th>\n      <th>total_intl_charge</th>\n      <th>number_customer_service_calls</th>\n    </tr>\n  </thead>\n  <tbody>\n    <tr>\n      <th>count</th>\n      <td>4250.000000</td>\n      <td>4250.000000</td>\n      <td>4250.000000</td>\n      <td>4250.000000</td>\n      <td>4250.000000</td>\n      <td>4250.000000</td>\n      <td>4250.000000</td>\n      <td>4250.000000</td>\n      <td>4250.000000</td>\n      <td>4250.000000</td>\n      <td>4250.000000</td>\n      <td>4250.000000</td>\n      <td>4250.000000</td>\n      <td>4250.000000</td>\n      <td>4250.000000</td>\n    </tr>\n    <tr>\n      <th>mean</th>\n      <td>100.236235</td>\n      <td>7.631765</td>\n      <td>180.259600</td>\n      <td>99.907294</td>\n      <td>30.644682</td>\n      <td>200.173906</td>\n      <td>100.176471</td>\n      <td>17.015012</td>\n      <td>200.527882</td>\n      <td>99.839529</td>\n      <td>9.023892</td>\n      <td>10.256071</td>\n      <td>4.426353</td>\n      <td>2.769654</td>\n      <td>1.559059</td>\n    </tr>\n    <tr>\n      <th>std</th>\n      <td>39.698401</td>\n      <td>13.439882</td>\n      <td>54.012373</td>\n      <td>19.850817</td>\n      <td>9.182096</td>\n      <td>50.249518</td>\n      <td>19.908591</td>\n      <td>4.271212</td>\n      <td>50.353548</td>\n      <td>20.093220</td>\n      <td>2.265922</td>\n      <td>2.760102</td>\n      <td>2.463069</td>\n      <td>0.745204</td>\n      <td>1.311434</td>\n    </tr>\n    <tr>\n      <th>min</th>\n      <td>1.000000</td>\n      <td>0.000000</td>\n      <td>0.000000</td>\n      <td>0.000000</td>\n      <td>0.000000</td>\n      <td>0.000000</td>\n      <td>0.000000</td>\n      <td>0.000000</td>\n      <td>0.000000</td>\n      <td>0.000000</td>\n      <td>0.000000</td>\n      <td>0.000000</td>\n      <td>0.000000</td>\n      <td>0.000000</td>\n      <td>0.000000</td>\n    </tr>\n    <tr>\n      <th>25%</th>\n      <td>73.000000</td>\n      <td>0.000000</td>\n      <td>143.325000</td>\n      <td>87.000000</td>\n      <td>24.365000</td>\n      <td>165.925000</td>\n      <td>87.000000</td>\n      <td>14.102500</td>\n      <td>167.225000</td>\n      <td>86.000000</td>\n      <td>7.522500</td>\n      <td>8.500000</td>\n      <td>3.000000</td>\n      <td>2.300000</td>\n      <td>1.000000</td>\n    </tr>\n    <tr>\n      <th>50%</th>\n      <td>100.000000</td>\n      <td>0.000000</td>\n      <td>180.450000</td>\n      <td>100.000000</td>\n      <td>30.680000</td>\n      <td>200.700000</td>\n      <td>100.000000</td>\n      <td>17.060000</td>\n      <td>200.450000</td>\n      <td>100.000000</td>\n      <td>9.020000</td>\n      <td>10.300000</td>\n      <td>4.000000</td>\n      <td>2.780000</td>\n      <td>1.000000</td>\n    </tr>\n    <tr>\n      <th>75%</th>\n      <td>127.000000</td>\n      <td>16.000000</td>\n      <td>216.200000</td>\n      <td>113.000000</td>\n      <td>36.750000</td>\n      <td>233.775000</td>\n      <td>114.000000</td>\n      <td>19.867500</td>\n      <td>234.700000</td>\n      <td>113.000000</td>\n      <td>10.560000</td>\n      <td>12.000000</td>\n      <td>6.000000</td>\n      <td>3.240000</td>\n      <td>2.000000</td>\n    </tr>\n    <tr>\n      <th>max</th>\n      <td>243.000000</td>\n      <td>52.000000</td>\n      <td>351.500000</td>\n      <td>165.000000</td>\n      <td>59.760000</td>\n      <td>359.300000</td>\n      <td>170.000000</td>\n      <td>30.540000</td>\n      <td>395.000000</td>\n      <td>175.000000</td>\n      <td>17.770000</td>\n      <td>20.000000</td>\n      <td>20.000000</td>\n      <td>5.400000</td>\n      <td>9.000000</td>\n    </tr>\n  </tbody>\n</table>\n</div>"
     },
     "execution_count": 7,
     "metadata": {},
     "output_type": "execute_result"
    }
   ],
   "source": [
    "df_train.describe()"
   ],
   "metadata": {
    "collapsed": false,
    "pycharm": {
     "name": "#%%\n"
    }
   }
  },
  {
   "cell_type": "code",
   "execution_count": 8,
   "outputs": [
    {
     "data": {
      "text/plain": "     state  account_length      area_code international_plan voice_mail_plan  \\\n0       OH             107  area_code_415                 no             yes   \n1       NJ             137  area_code_415                 no              no   \n2       OH              84  area_code_408                yes              no   \n3       OK              75  area_code_415                yes              no   \n4       MA             121  area_code_510                 no             yes   \n...    ...             ...            ...                ...             ...   \n4245    MT              83  area_code_415                 no              no   \n4246    WV              73  area_code_408                 no              no   \n4247    NC              75  area_code_408                 no              no   \n4248    HI              50  area_code_408                 no             yes   \n4249    VT              86  area_code_415                 no             yes   \n\n      number_vmail_messages  total_day_minutes  total_day_calls  \\\n0                        26              161.6              123   \n1                         0              243.4              114   \n2                         0              299.4               71   \n3                         0              166.7              113   \n4                        24              218.2               88   \n...                     ...                ...              ...   \n4245                      0              188.3               70   \n4246                      0              177.9               89   \n4247                      0              170.7              101   \n4248                     40              235.7              127   \n4249                     34              129.4              102   \n\n      total_day_charge  total_eve_minutes  total_eve_calls  total_eve_charge  \\\n0                27.47              195.5              103             16.62   \n1                41.38              121.2              110             10.30   \n2                50.90               61.9               88              5.26   \n3                28.34              148.3              122             12.61   \n4                37.09              348.5              108             29.62   \n...                ...                ...              ...               ...   \n4245             32.01              243.8               88             20.72   \n4246             30.24              131.2               82             11.15   \n4247             29.02              193.1              126             16.41   \n4248             40.07              223.0              126             18.96   \n4249             22.00              267.1              104             22.70   \n\n      total_night_minutes  total_night_calls  total_night_charge  \\\n0                   254.4                103               11.45   \n1                   162.6                104                7.32   \n2                   196.9                 89                8.86   \n3                   186.9                121                8.41   \n4                   212.6                118                9.57   \n...                   ...                ...                 ...   \n4245                213.7                 79                9.62   \n4246                186.2                 89                8.38   \n4247                129.1                104                5.81   \n4248                297.5                116               13.39   \n4249                154.8                100                6.97   \n\n      total_intl_minutes  total_intl_calls  total_intl_charge  \\\n0                   13.7                 3               3.70   \n1                   12.2                 5               3.29   \n2                    6.6                 7               1.78   \n3                   10.1                 3               2.73   \n4                    7.5                 7               2.03   \n...                  ...               ...                ...   \n4245                10.3                 6               2.78   \n4246                11.5                 6               3.11   \n4247                 6.9                 7               1.86   \n4248                 9.9                 5               2.67   \n4249                 9.3                16               2.51   \n\n      number_customer_service_calls churn  \n0                                 1    no  \n1                                 0    no  \n2                                 2    no  \n3                                 3    no  \n4                                 3    no  \n...                             ...   ...  \n4245                              0    no  \n4246                              3    no  \n4247                              1    no  \n4248                              2    no  \n4249                              0    no  \n\n[4250 rows x 20 columns]",
      "text/html": "<div>\n<style scoped>\n    .dataframe tbody tr th:only-of-type {\n        vertical-align: middle;\n    }\n\n    .dataframe tbody tr th {\n        vertical-align: top;\n    }\n\n    .dataframe thead th {\n        text-align: right;\n    }\n</style>\n<table border=\"1\" class=\"dataframe\">\n  <thead>\n    <tr style=\"text-align: right;\">\n      <th></th>\n      <th>state</th>\n      <th>account_length</th>\n      <th>area_code</th>\n      <th>international_plan</th>\n      <th>voice_mail_plan</th>\n      <th>number_vmail_messages</th>\n      <th>total_day_minutes</th>\n      <th>total_day_calls</th>\n      <th>total_day_charge</th>\n      <th>total_eve_minutes</th>\n      <th>total_eve_calls</th>\n      <th>total_eve_charge</th>\n      <th>total_night_minutes</th>\n      <th>total_night_calls</th>\n      <th>total_night_charge</th>\n      <th>total_intl_minutes</th>\n      <th>total_intl_calls</th>\n      <th>total_intl_charge</th>\n      <th>number_customer_service_calls</th>\n      <th>churn</th>\n    </tr>\n  </thead>\n  <tbody>\n    <tr>\n      <th>0</th>\n      <td>OH</td>\n      <td>107</td>\n      <td>area_code_415</td>\n      <td>no</td>\n      <td>yes</td>\n      <td>26</td>\n      <td>161.6</td>\n      <td>123</td>\n      <td>27.47</td>\n      <td>195.5</td>\n      <td>103</td>\n      <td>16.62</td>\n      <td>254.4</td>\n      <td>103</td>\n      <td>11.45</td>\n      <td>13.7</td>\n      <td>3</td>\n      <td>3.70</td>\n      <td>1</td>\n      <td>no</td>\n    </tr>\n    <tr>\n      <th>1</th>\n      <td>NJ</td>\n      <td>137</td>\n      <td>area_code_415</td>\n      <td>no</td>\n      <td>no</td>\n      <td>0</td>\n      <td>243.4</td>\n      <td>114</td>\n      <td>41.38</td>\n      <td>121.2</td>\n      <td>110</td>\n      <td>10.30</td>\n      <td>162.6</td>\n      <td>104</td>\n      <td>7.32</td>\n      <td>12.2</td>\n      <td>5</td>\n      <td>3.29</td>\n      <td>0</td>\n      <td>no</td>\n    </tr>\n    <tr>\n      <th>2</th>\n      <td>OH</td>\n      <td>84</td>\n      <td>area_code_408</td>\n      <td>yes</td>\n      <td>no</td>\n      <td>0</td>\n      <td>299.4</td>\n      <td>71</td>\n      <td>50.90</td>\n      <td>61.9</td>\n      <td>88</td>\n      <td>5.26</td>\n      <td>196.9</td>\n      <td>89</td>\n      <td>8.86</td>\n      <td>6.6</td>\n      <td>7</td>\n      <td>1.78</td>\n      <td>2</td>\n      <td>no</td>\n    </tr>\n    <tr>\n      <th>3</th>\n      <td>OK</td>\n      <td>75</td>\n      <td>area_code_415</td>\n      <td>yes</td>\n      <td>no</td>\n      <td>0</td>\n      <td>166.7</td>\n      <td>113</td>\n      <td>28.34</td>\n      <td>148.3</td>\n      <td>122</td>\n      <td>12.61</td>\n      <td>186.9</td>\n      <td>121</td>\n      <td>8.41</td>\n      <td>10.1</td>\n      <td>3</td>\n      <td>2.73</td>\n      <td>3</td>\n      <td>no</td>\n    </tr>\n    <tr>\n      <th>4</th>\n      <td>MA</td>\n      <td>121</td>\n      <td>area_code_510</td>\n      <td>no</td>\n      <td>yes</td>\n      <td>24</td>\n      <td>218.2</td>\n      <td>88</td>\n      <td>37.09</td>\n      <td>348.5</td>\n      <td>108</td>\n      <td>29.62</td>\n      <td>212.6</td>\n      <td>118</td>\n      <td>9.57</td>\n      <td>7.5</td>\n      <td>7</td>\n      <td>2.03</td>\n      <td>3</td>\n      <td>no</td>\n    </tr>\n    <tr>\n      <th>...</th>\n      <td>...</td>\n      <td>...</td>\n      <td>...</td>\n      <td>...</td>\n      <td>...</td>\n      <td>...</td>\n      <td>...</td>\n      <td>...</td>\n      <td>...</td>\n      <td>...</td>\n      <td>...</td>\n      <td>...</td>\n      <td>...</td>\n      <td>...</td>\n      <td>...</td>\n      <td>...</td>\n      <td>...</td>\n      <td>...</td>\n      <td>...</td>\n      <td>...</td>\n    </tr>\n    <tr>\n      <th>4245</th>\n      <td>MT</td>\n      <td>83</td>\n      <td>area_code_415</td>\n      <td>no</td>\n      <td>no</td>\n      <td>0</td>\n      <td>188.3</td>\n      <td>70</td>\n      <td>32.01</td>\n      <td>243.8</td>\n      <td>88</td>\n      <td>20.72</td>\n      <td>213.7</td>\n      <td>79</td>\n      <td>9.62</td>\n      <td>10.3</td>\n      <td>6</td>\n      <td>2.78</td>\n      <td>0</td>\n      <td>no</td>\n    </tr>\n    <tr>\n      <th>4246</th>\n      <td>WV</td>\n      <td>73</td>\n      <td>area_code_408</td>\n      <td>no</td>\n      <td>no</td>\n      <td>0</td>\n      <td>177.9</td>\n      <td>89</td>\n      <td>30.24</td>\n      <td>131.2</td>\n      <td>82</td>\n      <td>11.15</td>\n      <td>186.2</td>\n      <td>89</td>\n      <td>8.38</td>\n      <td>11.5</td>\n      <td>6</td>\n      <td>3.11</td>\n      <td>3</td>\n      <td>no</td>\n    </tr>\n    <tr>\n      <th>4247</th>\n      <td>NC</td>\n      <td>75</td>\n      <td>area_code_408</td>\n      <td>no</td>\n      <td>no</td>\n      <td>0</td>\n      <td>170.7</td>\n      <td>101</td>\n      <td>29.02</td>\n      <td>193.1</td>\n      <td>126</td>\n      <td>16.41</td>\n      <td>129.1</td>\n      <td>104</td>\n      <td>5.81</td>\n      <td>6.9</td>\n      <td>7</td>\n      <td>1.86</td>\n      <td>1</td>\n      <td>no</td>\n    </tr>\n    <tr>\n      <th>4248</th>\n      <td>HI</td>\n      <td>50</td>\n      <td>area_code_408</td>\n      <td>no</td>\n      <td>yes</td>\n      <td>40</td>\n      <td>235.7</td>\n      <td>127</td>\n      <td>40.07</td>\n      <td>223.0</td>\n      <td>126</td>\n      <td>18.96</td>\n      <td>297.5</td>\n      <td>116</td>\n      <td>13.39</td>\n      <td>9.9</td>\n      <td>5</td>\n      <td>2.67</td>\n      <td>2</td>\n      <td>no</td>\n    </tr>\n    <tr>\n      <th>4249</th>\n      <td>VT</td>\n      <td>86</td>\n      <td>area_code_415</td>\n      <td>no</td>\n      <td>yes</td>\n      <td>34</td>\n      <td>129.4</td>\n      <td>102</td>\n      <td>22.00</td>\n      <td>267.1</td>\n      <td>104</td>\n      <td>22.70</td>\n      <td>154.8</td>\n      <td>100</td>\n      <td>6.97</td>\n      <td>9.3</td>\n      <td>16</td>\n      <td>2.51</td>\n      <td>0</td>\n      <td>no</td>\n    </tr>\n  </tbody>\n</table>\n<p>4250 rows × 20 columns</p>\n</div>"
     },
     "execution_count": 8,
     "metadata": {},
     "output_type": "execute_result"
    }
   ],
   "source": [
    "df_train"
   ],
   "metadata": {
    "collapsed": false,
    "pycharm": {
     "name": "#%%\n"
    }
   }
  },
  {
   "cell_type": "code",
   "execution_count": 2,
   "outputs": [],
   "source": [
    "import pycaret\n"
   ],
   "metadata": {
    "collapsed": false,
    "pycharm": {
     "name": "#%%\n"
    }
   }
  },
  {
   "cell_type": "code",
   "execution_count": null,
   "outputs": [],
   "source": [],
   "metadata": {
    "collapsed": false,
    "pycharm": {
     "name": "#%%\n"
    }
   }
  }
 ],
 "metadata": {
  "kernelspec": {
   "display_name": "Python 3",
   "language": "python",
   "name": "python3"
  },
  "language_info": {
   "codemirror_mode": {
    "name": "ipython",
    "version": 2
   },
   "file_extension": ".py",
   "mimetype": "text/x-python",
   "name": "python",
   "nbconvert_exporter": "python",
   "pygments_lexer": "ipython2",
   "version": "2.7.6"
  }
 },
 "nbformat": 4,
 "nbformat_minor": 0
}
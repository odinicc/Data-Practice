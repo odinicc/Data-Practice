{
 "cells": [
  {
   "cell_type": "code",
   "execution_count": 1,
   "metadata": {
    "collapsed": true,
    "pycharm": {
     "name": "#%%\n"
    }
   },
   "outputs": [],
   "source": [
    "import pandas as pd"
   ]
  },
  {
   "cell_type": "code",
   "execution_count": 2,
   "outputs": [],
   "source": [
    "# Standard\n",
    "import pandas as pd\n",
    "import numpy as np\n",
    "import os\n",
    "# Pycaret\n",
    "from pycaret.classification import *\n",
    "# Plots\n",
    "from plotly.offline import iplot\n",
    "import plotly.graph_objects as go\n",
    "from plotly.subplots import make_subplots\n",
    "import seaborn as sns\n",
    "# Sklearn tools\n",
    "from sklearn.preprocessing import LabelEncoder\n",
    "from sklearn.metrics import *\n",
    "# Extras\n",
    "from datetime import date\n",
    "import warnings\n",
    "warnings.filterwarnings(\"ignore\")\n",
    "import seaborn as sns"
   ],
   "metadata": {
    "collapsed": false,
    "pycharm": {
     "name": "#%%\n"
    }
   }
  },
  {
   "cell_type": "code",
   "execution_count": 3,
   "outputs": [],
   "source": [
    "df_test = pd.read_csv('df_test_new.csv')"
   ],
   "metadata": {
    "collapsed": false,
    "pycharm": {
     "name": "#%%\n"
    }
   }
  },
  {
   "cell_type": "code",
   "execution_count": 4,
   "outputs": [],
   "source": [
    "df_train = pd.read_csv('df_train_new.csv')"
   ],
   "metadata": {
    "collapsed": false,
    "pycharm": {
     "name": "#%%\n"
    }
   }
  },
  {
   "cell_type": "code",
   "execution_count": 5,
   "outputs": [
    {
     "data": {
      "text/plain": "     state  account_length      area_code  international_plan  \\\n0       OH             107  area_code_415               False   \n1       NJ             137  area_code_415               False   \n2       OH              84  area_code_408                True   \n3       OK              75  area_code_415                True   \n4       MA             121  area_code_510               False   \n...    ...             ...            ...                 ...   \n4245    MT              83  area_code_415               False   \n4246    WV              73  area_code_408               False   \n4247    NC              75  area_code_408               False   \n4248    HI              50  area_code_408               False   \n4249    VT              86  area_code_415               False   \n\n      voice_mail_plan  number_vmail_messages  total_day_minutes  \\\n0                 NaN                     26                161   \n1                 NaN                      0                243   \n2                 NaN                      0                299   \n3                 NaN                      0                166   \n4                 NaN                     24                218   \n...               ...                    ...                ...   \n4245              NaN                      0                188   \n4246              NaN                      0                177   \n4247              NaN                      0                170   \n4248              NaN                     40                235   \n4249              NaN                     34                129   \n\n      total_day_calls  total_day_charge  total_eve_minutes  ...  \\\n0                 123             27.47                195  ...   \n1                 114             41.38                121  ...   \n2                  71             50.90                 61  ...   \n3                 113             28.34                148  ...   \n4                  88             37.09                348  ...   \n...               ...               ...                ...  ...   \n4245               70             32.01                243  ...   \n4246               89             30.24                131  ...   \n4247              101             29.02                193  ...   \n4248              127             40.07                223  ...   \n4249              102             22.00                267  ...   \n\n      total_night_minutes  total_night_calls  total_night_charge  \\\n0                     254                103               11.45   \n1                     162                104                7.32   \n2                     196                 89                8.86   \n3                     186                121                8.41   \n4                     212                118                9.57   \n...                   ...                ...                 ...   \n4245                  213                 79                9.62   \n4246                  186                 89                8.38   \n4247                  129                104                5.81   \n4248                  297                116               13.39   \n4249                  154                100                6.97   \n\n      total_intl_minutes  total_intl_calls  total_intl_charge  \\\n0                     13                 3               3.70   \n1                     12                 5               3.29   \n2                      6                 7               1.78   \n3                     10                 3               2.73   \n4                      7                 7               2.03   \n...                  ...               ...                ...   \n4245                  10                 6               2.78   \n4246                  11                 6               3.11   \n4247                   6                 7               1.86   \n4248                   9                 5               2.67   \n4249                   9                16               2.51   \n\n      number_customer_service_calls  total_mins  total_calls  churn  \n0                                 1         625          332     no  \n1                                 0         539          333     no  \n2                                 2         564          255     no  \n3                                 3         512          359     no  \n4                                 3         786          321     no  \n...                             ...         ...          ...    ...  \n4245                              0         656          243     no  \n4246                              3         506          266     no  \n4247                              1         499          338     no  \n4248                              2         766          374     no  \n4249                              0         560          322     no  \n\n[4250 rows x 22 columns]",
      "text/html": "<div>\n<style scoped>\n    .dataframe tbody tr th:only-of-type {\n        vertical-align: middle;\n    }\n\n    .dataframe tbody tr th {\n        vertical-align: top;\n    }\n\n    .dataframe thead th {\n        text-align: right;\n    }\n</style>\n<table border=\"1\" class=\"dataframe\">\n  <thead>\n    <tr style=\"text-align: right;\">\n      <th></th>\n      <th>state</th>\n      <th>account_length</th>\n      <th>area_code</th>\n      <th>international_plan</th>\n      <th>voice_mail_plan</th>\n      <th>number_vmail_messages</th>\n      <th>total_day_minutes</th>\n      <th>total_day_calls</th>\n      <th>total_day_charge</th>\n      <th>total_eve_minutes</th>\n      <th>...</th>\n      <th>total_night_minutes</th>\n      <th>total_night_calls</th>\n      <th>total_night_charge</th>\n      <th>total_intl_minutes</th>\n      <th>total_intl_calls</th>\n      <th>total_intl_charge</th>\n      <th>number_customer_service_calls</th>\n      <th>total_mins</th>\n      <th>total_calls</th>\n      <th>churn</th>\n    </tr>\n  </thead>\n  <tbody>\n    <tr>\n      <th>0</th>\n      <td>OH</td>\n      <td>107</td>\n      <td>area_code_415</td>\n      <td>False</td>\n      <td>NaN</td>\n      <td>26</td>\n      <td>161</td>\n      <td>123</td>\n      <td>27.47</td>\n      <td>195</td>\n      <td>...</td>\n      <td>254</td>\n      <td>103</td>\n      <td>11.45</td>\n      <td>13</td>\n      <td>3</td>\n      <td>3.70</td>\n      <td>1</td>\n      <td>625</td>\n      <td>332</td>\n      <td>no</td>\n    </tr>\n    <tr>\n      <th>1</th>\n      <td>NJ</td>\n      <td>137</td>\n      <td>area_code_415</td>\n      <td>False</td>\n      <td>NaN</td>\n      <td>0</td>\n      <td>243</td>\n      <td>114</td>\n      <td>41.38</td>\n      <td>121</td>\n      <td>...</td>\n      <td>162</td>\n      <td>104</td>\n      <td>7.32</td>\n      <td>12</td>\n      <td>5</td>\n      <td>3.29</td>\n      <td>0</td>\n      <td>539</td>\n      <td>333</td>\n      <td>no</td>\n    </tr>\n    <tr>\n      <th>2</th>\n      <td>OH</td>\n      <td>84</td>\n      <td>area_code_408</td>\n      <td>True</td>\n      <td>NaN</td>\n      <td>0</td>\n      <td>299</td>\n      <td>71</td>\n      <td>50.90</td>\n      <td>61</td>\n      <td>...</td>\n      <td>196</td>\n      <td>89</td>\n      <td>8.86</td>\n      <td>6</td>\n      <td>7</td>\n      <td>1.78</td>\n      <td>2</td>\n      <td>564</td>\n      <td>255</td>\n      <td>no</td>\n    </tr>\n    <tr>\n      <th>3</th>\n      <td>OK</td>\n      <td>75</td>\n      <td>area_code_415</td>\n      <td>True</td>\n      <td>NaN</td>\n      <td>0</td>\n      <td>166</td>\n      <td>113</td>\n      <td>28.34</td>\n      <td>148</td>\n      <td>...</td>\n      <td>186</td>\n      <td>121</td>\n      <td>8.41</td>\n      <td>10</td>\n      <td>3</td>\n      <td>2.73</td>\n      <td>3</td>\n      <td>512</td>\n      <td>359</td>\n      <td>no</td>\n    </tr>\n    <tr>\n      <th>4</th>\n      <td>MA</td>\n      <td>121</td>\n      <td>area_code_510</td>\n      <td>False</td>\n      <td>NaN</td>\n      <td>24</td>\n      <td>218</td>\n      <td>88</td>\n      <td>37.09</td>\n      <td>348</td>\n      <td>...</td>\n      <td>212</td>\n      <td>118</td>\n      <td>9.57</td>\n      <td>7</td>\n      <td>7</td>\n      <td>2.03</td>\n      <td>3</td>\n      <td>786</td>\n      <td>321</td>\n      <td>no</td>\n    </tr>\n    <tr>\n      <th>...</th>\n      <td>...</td>\n      <td>...</td>\n      <td>...</td>\n      <td>...</td>\n      <td>...</td>\n      <td>...</td>\n      <td>...</td>\n      <td>...</td>\n      <td>...</td>\n      <td>...</td>\n      <td>...</td>\n      <td>...</td>\n      <td>...</td>\n      <td>...</td>\n      <td>...</td>\n      <td>...</td>\n      <td>...</td>\n      <td>...</td>\n      <td>...</td>\n      <td>...</td>\n      <td>...</td>\n    </tr>\n    <tr>\n      <th>4245</th>\n      <td>MT</td>\n      <td>83</td>\n      <td>area_code_415</td>\n      <td>False</td>\n      <td>NaN</td>\n      <td>0</td>\n      <td>188</td>\n      <td>70</td>\n      <td>32.01</td>\n      <td>243</td>\n      <td>...</td>\n      <td>213</td>\n      <td>79</td>\n      <td>9.62</td>\n      <td>10</td>\n      <td>6</td>\n      <td>2.78</td>\n      <td>0</td>\n      <td>656</td>\n      <td>243</td>\n      <td>no</td>\n    </tr>\n    <tr>\n      <th>4246</th>\n      <td>WV</td>\n      <td>73</td>\n      <td>area_code_408</td>\n      <td>False</td>\n      <td>NaN</td>\n      <td>0</td>\n      <td>177</td>\n      <td>89</td>\n      <td>30.24</td>\n      <td>131</td>\n      <td>...</td>\n      <td>186</td>\n      <td>89</td>\n      <td>8.38</td>\n      <td>11</td>\n      <td>6</td>\n      <td>3.11</td>\n      <td>3</td>\n      <td>506</td>\n      <td>266</td>\n      <td>no</td>\n    </tr>\n    <tr>\n      <th>4247</th>\n      <td>NC</td>\n      <td>75</td>\n      <td>area_code_408</td>\n      <td>False</td>\n      <td>NaN</td>\n      <td>0</td>\n      <td>170</td>\n      <td>101</td>\n      <td>29.02</td>\n      <td>193</td>\n      <td>...</td>\n      <td>129</td>\n      <td>104</td>\n      <td>5.81</td>\n      <td>6</td>\n      <td>7</td>\n      <td>1.86</td>\n      <td>1</td>\n      <td>499</td>\n      <td>338</td>\n      <td>no</td>\n    </tr>\n    <tr>\n      <th>4248</th>\n      <td>HI</td>\n      <td>50</td>\n      <td>area_code_408</td>\n      <td>False</td>\n      <td>NaN</td>\n      <td>40</td>\n      <td>235</td>\n      <td>127</td>\n      <td>40.07</td>\n      <td>223</td>\n      <td>...</td>\n      <td>297</td>\n      <td>116</td>\n      <td>13.39</td>\n      <td>9</td>\n      <td>5</td>\n      <td>2.67</td>\n      <td>2</td>\n      <td>766</td>\n      <td>374</td>\n      <td>no</td>\n    </tr>\n    <tr>\n      <th>4249</th>\n      <td>VT</td>\n      <td>86</td>\n      <td>area_code_415</td>\n      <td>False</td>\n      <td>NaN</td>\n      <td>34</td>\n      <td>129</td>\n      <td>102</td>\n      <td>22.00</td>\n      <td>267</td>\n      <td>...</td>\n      <td>154</td>\n      <td>100</td>\n      <td>6.97</td>\n      <td>9</td>\n      <td>16</td>\n      <td>2.51</td>\n      <td>0</td>\n      <td>560</td>\n      <td>322</td>\n      <td>no</td>\n    </tr>\n  </tbody>\n</table>\n<p>4250 rows × 22 columns</p>\n</div>"
     },
     "execution_count": 5,
     "metadata": {},
     "output_type": "execute_result"
    }
   ],
   "source": [
    "df_train"
   ],
   "metadata": {
    "collapsed": false,
    "pycharm": {
     "name": "#%%\n"
    }
   }
  },
  {
   "cell_type": "code",
   "execution_count": 9,
   "outputs": [
    {
     "data": {
      "text/plain": "<IPython.core.display.HTML object>",
      "text/html": ""
     },
     "metadata": {},
     "output_type": "display_data"
    }
   ],
   "source": [
    "exp01 = setup(data=df_train, target='churn' )"
   ],
   "metadata": {
    "collapsed": false,
    "pycharm": {
     "name": "#%%\n"
    }
   }
  },
  {
   "cell_type": "code",
   "execution_count": 13,
   "outputs": [],
   "source": [
    "all_models = exp01.models()"
   ],
   "metadata": {
    "collapsed": false,
    "pycharm": {
     "name": "#%%\n"
    }
   }
  },
  {
   "cell_type": "code",
   "execution_count": 14,
   "outputs": [
    {
     "data": {
      "text/plain": "                                     Name  \\\nID                                          \nlr                    Logistic Regression   \nknn                K Neighbors Classifier   \nnb                            Naive Bayes   \ndt               Decision Tree Classifier   \nsvm                   SVM - Linear Kernel   \nrbfsvm                SVM - Radial Kernel   \ngpc           Gaussian Process Classifier   \nmlp                        MLP Classifier   \nridge                    Ridge Classifier   \nrf               Random Forest Classifier   \nqda       Quadratic Discriminant Analysis   \nada                  Ada Boost Classifier   \ngbc          Gradient Boosting Classifier   \nlda          Linear Discriminant Analysis   \net                 Extra Trees Classifier   \nlightgbm  Light Gradient Boosting Machine   \ncatboost              CatBoost Classifier   \ndummy                    Dummy Classifier   \n\n                                                  Reference  Turbo  \nID                                                                  \nlr        sklearn.linear_model._logistic.LogisticRegression   True  \nknn       sklearn.neighbors._classification.KNeighborsCl...   True  \nnb                           sklearn.naive_bayes.GaussianNB   True  \ndt             sklearn.tree._classes.DecisionTreeClassifier   True  \nsvm       sklearn.linear_model._stochastic_gradient.SGDC...   True  \nrbfsvm                             sklearn.svm._classes.SVC  False  \ngpc       sklearn.gaussian_process._gpc.GaussianProcessC...  False  \nmlp       sklearn.neural_network._multilayer_perceptron....  False  \nridge           sklearn.linear_model._ridge.RidgeClassifier   True  \nrf          sklearn.ensemble._forest.RandomForestClassifier   True  \nqda       sklearn.discriminant_analysis.QuadraticDiscrim...   True  \nada       sklearn.ensemble._weight_boosting.AdaBoostClas...   True  \ngbc         sklearn.ensemble._gb.GradientBoostingClassifier   True  \nlda       sklearn.discriminant_analysis.LinearDiscrimina...   True  \net            sklearn.ensemble._forest.ExtraTreesClassifier   True  \nlightgbm                    lightgbm.sklearn.LGBMClassifier   True  \ncatboost                   catboost.core.CatBoostClassifier   True  \ndummy                         sklearn.dummy.DummyClassifier   True  ",
      "text/html": "<div>\n<style scoped>\n    .dataframe tbody tr th:only-of-type {\n        vertical-align: middle;\n    }\n\n    .dataframe tbody tr th {\n        vertical-align: top;\n    }\n\n    .dataframe thead th {\n        text-align: right;\n    }\n</style>\n<table border=\"1\" class=\"dataframe\">\n  <thead>\n    <tr style=\"text-align: right;\">\n      <th></th>\n      <th>Name</th>\n      <th>Reference</th>\n      <th>Turbo</th>\n    </tr>\n    <tr>\n      <th>ID</th>\n      <th></th>\n      <th></th>\n      <th></th>\n    </tr>\n  </thead>\n  <tbody>\n    <tr>\n      <th>lr</th>\n      <td>Logistic Regression</td>\n      <td>sklearn.linear_model._logistic.LogisticRegression</td>\n      <td>True</td>\n    </tr>\n    <tr>\n      <th>knn</th>\n      <td>K Neighbors Classifier</td>\n      <td>sklearn.neighbors._classification.KNeighborsCl...</td>\n      <td>True</td>\n    </tr>\n    <tr>\n      <th>nb</th>\n      <td>Naive Bayes</td>\n      <td>sklearn.naive_bayes.GaussianNB</td>\n      <td>True</td>\n    </tr>\n    <tr>\n      <th>dt</th>\n      <td>Decision Tree Classifier</td>\n      <td>sklearn.tree._classes.DecisionTreeClassifier</td>\n      <td>True</td>\n    </tr>\n    <tr>\n      <th>svm</th>\n      <td>SVM - Linear Kernel</td>\n      <td>sklearn.linear_model._stochastic_gradient.SGDC...</td>\n      <td>True</td>\n    </tr>\n    <tr>\n      <th>rbfsvm</th>\n      <td>SVM - Radial Kernel</td>\n      <td>sklearn.svm._classes.SVC</td>\n      <td>False</td>\n    </tr>\n    <tr>\n      <th>gpc</th>\n      <td>Gaussian Process Classifier</td>\n      <td>sklearn.gaussian_process._gpc.GaussianProcessC...</td>\n      <td>False</td>\n    </tr>\n    <tr>\n      <th>mlp</th>\n      <td>MLP Classifier</td>\n      <td>sklearn.neural_network._multilayer_perceptron....</td>\n      <td>False</td>\n    </tr>\n    <tr>\n      <th>ridge</th>\n      <td>Ridge Classifier</td>\n      <td>sklearn.linear_model._ridge.RidgeClassifier</td>\n      <td>True</td>\n    </tr>\n    <tr>\n      <th>rf</th>\n      <td>Random Forest Classifier</td>\n      <td>sklearn.ensemble._forest.RandomForestClassifier</td>\n      <td>True</td>\n    </tr>\n    <tr>\n      <th>qda</th>\n      <td>Quadratic Discriminant Analysis</td>\n      <td>sklearn.discriminant_analysis.QuadraticDiscrim...</td>\n      <td>True</td>\n    </tr>\n    <tr>\n      <th>ada</th>\n      <td>Ada Boost Classifier</td>\n      <td>sklearn.ensemble._weight_boosting.AdaBoostClas...</td>\n      <td>True</td>\n    </tr>\n    <tr>\n      <th>gbc</th>\n      <td>Gradient Boosting Classifier</td>\n      <td>sklearn.ensemble._gb.GradientBoostingClassifier</td>\n      <td>True</td>\n    </tr>\n    <tr>\n      <th>lda</th>\n      <td>Linear Discriminant Analysis</td>\n      <td>sklearn.discriminant_analysis.LinearDiscrimina...</td>\n      <td>True</td>\n    </tr>\n    <tr>\n      <th>et</th>\n      <td>Extra Trees Classifier</td>\n      <td>sklearn.ensemble._forest.ExtraTreesClassifier</td>\n      <td>True</td>\n    </tr>\n    <tr>\n      <th>lightgbm</th>\n      <td>Light Gradient Boosting Machine</td>\n      <td>lightgbm.sklearn.LGBMClassifier</td>\n      <td>True</td>\n    </tr>\n    <tr>\n      <th>catboost</th>\n      <td>CatBoost Classifier</td>\n      <td>catboost.core.CatBoostClassifier</td>\n      <td>True</td>\n    </tr>\n    <tr>\n      <th>dummy</th>\n      <td>Dummy Classifier</td>\n      <td>sklearn.dummy.DummyClassifier</td>\n      <td>True</td>\n    </tr>\n  </tbody>\n</table>\n</div>"
     },
     "execution_count": 14,
     "metadata": {},
     "output_type": "execute_result"
    }
   ],
   "source": [
    "all_models"
   ],
   "metadata": {
    "collapsed": false,
    "pycharm": {
     "name": "#%%\n"
    }
   }
  },
  {
   "cell_type": "code",
   "execution_count": 24,
   "outputs": [
    {
     "data": {
      "text/plain": "                                                                    \n                                                                    \nInitiated  . . . . . . . . . . . . . . . . . .              12:12:01\nStatus     . . . . . . . . . . . . . . . . . .  Loading Dependencies\nEstimator  . . . . . . . . . . . . . . . . . .     Compiling Library",
      "text/html": "<div>\n<style scoped>\n    .dataframe tbody tr th:only-of-type {\n        vertical-align: middle;\n    }\n\n    .dataframe tbody tr th {\n        vertical-align: top;\n    }\n\n    .dataframe thead th {\n        text-align: right;\n    }\n</style>\n<table border=\"1\" class=\"dataframe\">\n  <thead>\n    <tr style=\"text-align: right;\">\n      <th></th>\n      <th></th>\n      <th></th>\n    </tr>\n    <tr>\n      <th></th>\n      <th></th>\n      <th></th>\n    </tr>\n  </thead>\n  <tbody>\n    <tr>\n      <th>Initiated</th>\n      <td>. . . . . . . . . . . . . . . . . .</td>\n      <td>12:12:01</td>\n    </tr>\n    <tr>\n      <th>Status</th>\n      <td>. . . . . . . . . . . . . . . . . .</td>\n      <td>Loading Dependencies</td>\n    </tr>\n    <tr>\n      <th>Estimator</th>\n      <td>. . . . . . . . . . . . . . . . . .</td>\n      <td>Compiling Library</td>\n    </tr>\n  </tbody>\n</table>\n</div>"
     },
     "metadata": {},
     "output_type": "display_data"
    },
    {
     "data": {
      "text/plain": "<IPython.core.display.HTML object>",
      "text/html": ""
     },
     "metadata": {},
     "output_type": "display_data"
    },
    {
     "data": {
      "text/plain": "Processing:   0%|          | 0/17 [00:00<?, ?it/s]",
      "application/vnd.jupyter.widget-view+json": {
       "version_major": 2,
       "version_minor": 0,
       "model_id": "ca4a5b5a38e1487aba65538bb5e8fb9f"
      }
     },
     "metadata": {},
     "output_type": "display_data"
    }
   ],
   "source": [
    "top5 = compare_models( include =  [\"gbc\", \"lightgbm\",'catboost'])"
   ],
   "metadata": {
    "collapsed": false,
    "pycharm": {
     "name": "#%%\n"
    }
   }
  },
  {
   "cell_type": "code",
   "execution_count": 35,
   "outputs": [
    {
     "data": {
      "text/plain": "<IPython.core.display.HTML object>",
      "text/html": ""
     },
     "metadata": {},
     "output_type": "display_data"
    },
    {
     "data": {
      "text/plain": "                             Model  Accuracy     AUC  Recall   Prec.      F1  \\\n0  Light Gradient Boosting Machine    0.9631  0.9181  0.9631  0.9623  0.9621   \n\n    Kappa     MCC  \n0  0.8386  0.8412  ",
      "text/html": "<div>\n<style scoped>\n    .dataframe tbody tr th:only-of-type {\n        vertical-align: middle;\n    }\n\n    .dataframe tbody tr th {\n        vertical-align: top;\n    }\n\n    .dataframe thead th {\n        text-align: right;\n    }\n</style>\n<table border=\"1\" class=\"dataframe\">\n  <thead>\n    <tr style=\"text-align: right;\">\n      <th></th>\n      <th>Model</th>\n      <th>Accuracy</th>\n      <th>AUC</th>\n      <th>Recall</th>\n      <th>Prec.</th>\n      <th>F1</th>\n      <th>Kappa</th>\n      <th>MCC</th>\n    </tr>\n  </thead>\n  <tbody>\n    <tr>\n      <th>0</th>\n      <td>Light Gradient Boosting Machine</td>\n      <td>0.9631</td>\n      <td>0.9181</td>\n      <td>0.9631</td>\n      <td>0.9623</td>\n      <td>0.9621</td>\n      <td>0.8386</td>\n      <td>0.8412</td>\n    </tr>\n  </tbody>\n</table>\n</div>"
     },
     "execution_count": 35,
     "metadata": {},
     "output_type": "execute_result"
    }
   ],
   "source": [
    "predict_model(top5)\n",
    "pull()"
   ],
   "metadata": {
    "collapsed": false,
    "pycharm": {
     "name": "#%%\n"
    }
   }
  },
  {
   "cell_type": "code",
   "execution_count": 36,
   "outputs": [
    {
     "data": {
      "text/plain": "                                                                    \n                                                                    \nInitiated  . . . . . . . . . . . . . . . . . .              12:19:55\nStatus     . . . . . . . . . . . . . . . . . .  Loading Dependencies\nEstimator  . . . . . . . . . . . . . . . . . .     Compiling Library",
      "text/html": "<div>\n<style scoped>\n    .dataframe tbody tr th:only-of-type {\n        vertical-align: middle;\n    }\n\n    .dataframe tbody tr th {\n        vertical-align: top;\n    }\n\n    .dataframe thead th {\n        text-align: right;\n    }\n</style>\n<table border=\"1\" class=\"dataframe\">\n  <thead>\n    <tr style=\"text-align: right;\">\n      <th></th>\n      <th></th>\n      <th></th>\n    </tr>\n    <tr>\n      <th></th>\n      <th></th>\n      <th></th>\n    </tr>\n  </thead>\n  <tbody>\n    <tr>\n      <th>Initiated</th>\n      <td>. . . . . . . . . . . . . . . . . .</td>\n      <td>12:19:55</td>\n    </tr>\n    <tr>\n      <th>Status</th>\n      <td>. . . . . . . . . . . . . . . . . .</td>\n      <td>Loading Dependencies</td>\n    </tr>\n    <tr>\n      <th>Estimator</th>\n      <td>. . . . . . . . . . . . . . . . . .</td>\n      <td>Compiling Library</td>\n    </tr>\n  </tbody>\n</table>\n</div>"
     },
     "metadata": {},
     "output_type": "display_data"
    },
    {
     "data": {
      "text/plain": "<IPython.core.display.HTML object>",
      "text/html": ""
     },
     "metadata": {},
     "output_type": "display_data"
    },
    {
     "data": {
      "text/plain": "Processing:   0%|          | 0/7 [00:00<?, ?it/s]",
      "application/vnd.jupyter.widget-view+json": {
       "version_major": 2,
       "version_minor": 0,
       "model_id": "6e6a273c11034e2ebb521afb97ce9ab4"
      }
     },
     "metadata": {},
     "output_type": "display_data"
    },
    {
     "name": "stdout",
     "output_type": "stream",
     "text": [
      "Fitting 10 folds for each of 10 candidates, totalling 100 fits\n",
      "Original model was better than the tuned model, hence it will be returned. NOTE: The display metrics are for the tuned model (not the original one).\n"
     ]
    }
   ],
   "source": [
    "tuned_model = tune_model(top5)"
   ],
   "metadata": {
    "collapsed": false,
    "pycharm": {
     "name": "#%%\n"
    }
   }
  },
  {
   "cell_type": "code",
   "execution_count": 37,
   "outputs": [
    {
     "data": {
      "text/plain": "<IPython.core.display.HTML object>",
      "text/html": ""
     },
     "metadata": {},
     "output_type": "display_data"
    },
    {
     "data": {
      "text/plain": "                             Model  Accuracy     AUC  Recall   Prec.      F1  \\\n0  Light Gradient Boosting Machine    0.9631  0.9181  0.9631  0.9623  0.9621   \n\n    Kappa     MCC  \n0  0.8386  0.8412  ",
      "text/html": "<div>\n<style scoped>\n    .dataframe tbody tr th:only-of-type {\n        vertical-align: middle;\n    }\n\n    .dataframe tbody tr th {\n        vertical-align: top;\n    }\n\n    .dataframe thead th {\n        text-align: right;\n    }\n</style>\n<table border=\"1\" class=\"dataframe\">\n  <thead>\n    <tr style=\"text-align: right;\">\n      <th></th>\n      <th>Model</th>\n      <th>Accuracy</th>\n      <th>AUC</th>\n      <th>Recall</th>\n      <th>Prec.</th>\n      <th>F1</th>\n      <th>Kappa</th>\n      <th>MCC</th>\n    </tr>\n  </thead>\n  <tbody>\n    <tr>\n      <th>0</th>\n      <td>Light Gradient Boosting Machine</td>\n      <td>0.9631</td>\n      <td>0.9181</td>\n      <td>0.9631</td>\n      <td>0.9623</td>\n      <td>0.9621</td>\n      <td>0.8386</td>\n      <td>0.8412</td>\n    </tr>\n  </tbody>\n</table>\n</div>"
     },
     "execution_count": 37,
     "metadata": {},
     "output_type": "execute_result"
    }
   ],
   "source": [
    "predict_model(tuned_model)\n",
    "pull()"
   ],
   "metadata": {
    "collapsed": false,
    "pycharm": {
     "name": "#%%\n"
    }
   }
  },
  {
   "cell_type": "code",
   "execution_count": 44,
   "outputs": [
    {
     "data": {
      "text/plain": "                                                                    \n                                                                    \nInitiated  . . . . . . . . . . . . . . . . . .              12:26:16\nStatus     . . . . . . . . . . . . . . . . . .  Loading Dependencies\nEstimator  . . . . . . . . . . . . . . . . . .     Compiling Library",
      "text/html": "<div>\n<style scoped>\n    .dataframe tbody tr th:only-of-type {\n        vertical-align: middle;\n    }\n\n    .dataframe tbody tr th {\n        vertical-align: top;\n    }\n\n    .dataframe thead th {\n        text-align: right;\n    }\n</style>\n<table border=\"1\" class=\"dataframe\">\n  <thead>\n    <tr style=\"text-align: right;\">\n      <th></th>\n      <th></th>\n      <th></th>\n    </tr>\n    <tr>\n      <th></th>\n      <th></th>\n      <th></th>\n    </tr>\n  </thead>\n  <tbody>\n    <tr>\n      <th>Initiated</th>\n      <td>. . . . . . . . . . . . . . . . . .</td>\n      <td>12:26:16</td>\n    </tr>\n    <tr>\n      <th>Status</th>\n      <td>. . . . . . . . . . . . . . . . . .</td>\n      <td>Loading Dependencies</td>\n    </tr>\n    <tr>\n      <th>Estimator</th>\n      <td>. . . . . . . . . . . . . . . . . .</td>\n      <td>Compiling Library</td>\n    </tr>\n  </tbody>\n</table>\n</div>"
     },
     "metadata": {},
     "output_type": "display_data"
    },
    {
     "data": {
      "text/plain": "<IPython.core.display.HTML object>",
      "text/html": ""
     },
     "metadata": {},
     "output_type": "display_data"
    },
    {
     "data": {
      "text/plain": "Processing:   0%|          | 0/6 [00:00<?, ?it/s]",
      "application/vnd.jupyter.widget-view+json": {
       "version_major": 2,
       "version_minor": 0,
       "model_id": "f222681643894eadaa32d5ea23e5f9c8"
      }
     },
     "metadata": {},
     "output_type": "display_data"
    }
   ],
   "source": [
    "bagged_model = ensemble_model(top5,method = 'Bagging')"
   ],
   "metadata": {
    "collapsed": false,
    "pycharm": {
     "name": "#%%\n"
    }
   }
  },
  {
   "cell_type": "code",
   "execution_count": 45,
   "outputs": [
    {
     "data": {
      "text/plain": "<IPython.core.display.HTML object>",
      "text/html": ""
     },
     "metadata": {},
     "output_type": "display_data"
    },
    {
     "data": {
      "text/plain": "                Model  Accuracy     AUC  Recall   Prec.      F1   Kappa  \\\n0  Bagging Classifier    0.9631  0.9111  0.9631  0.9623  0.9622  0.8394   \n\n      MCC  \n0  0.8416  ",
      "text/html": "<div>\n<style scoped>\n    .dataframe tbody tr th:only-of-type {\n        vertical-align: middle;\n    }\n\n    .dataframe tbody tr th {\n        vertical-align: top;\n    }\n\n    .dataframe thead th {\n        text-align: right;\n    }\n</style>\n<table border=\"1\" class=\"dataframe\">\n  <thead>\n    <tr style=\"text-align: right;\">\n      <th></th>\n      <th>Model</th>\n      <th>Accuracy</th>\n      <th>AUC</th>\n      <th>Recall</th>\n      <th>Prec.</th>\n      <th>F1</th>\n      <th>Kappa</th>\n      <th>MCC</th>\n    </tr>\n  </thead>\n  <tbody>\n    <tr>\n      <th>0</th>\n      <td>Bagging Classifier</td>\n      <td>0.9631</td>\n      <td>0.9111</td>\n      <td>0.9631</td>\n      <td>0.9623</td>\n      <td>0.9622</td>\n      <td>0.8394</td>\n      <td>0.8416</td>\n    </tr>\n  </tbody>\n</table>\n</div>"
     },
     "execution_count": 45,
     "metadata": {},
     "output_type": "execute_result"
    }
   ],
   "source": [
    "predict_model(bagged_model)\n",
    "pull()"
   ],
   "metadata": {
    "collapsed": false,
    "pycharm": {
     "name": "#%%\n"
    }
   }
  },
  {
   "cell_type": "code",
   "execution_count": 49,
   "outputs": [],
   "source": [
    "final_model = finalize_model(top5)"
   ],
   "metadata": {
    "collapsed": false,
    "pycharm": {
     "name": "#%%\n"
    }
   }
  },
  {
   "cell_type": "code",
   "execution_count": 50,
   "outputs": [
    {
     "data": {
      "text/plain": "<IPython.core.display.HTML object>",
      "text/html": ""
     },
     "metadata": {},
     "output_type": "display_data"
    },
    {
     "data": {
      "text/plain": "                             Model  Accuracy     AUC  Recall   Prec.      F1  \\\n0  Light Gradient Boosting Machine    0.9631  0.9181  0.9631  0.9623  0.9621   \n\n    Kappa     MCC  \n0  0.8386  0.8412  ",
      "text/html": "<div>\n<style scoped>\n    .dataframe tbody tr th:only-of-type {\n        vertical-align: middle;\n    }\n\n    .dataframe tbody tr th {\n        vertical-align: top;\n    }\n\n    .dataframe thead th {\n        text-align: right;\n    }\n</style>\n<table border=\"1\" class=\"dataframe\">\n  <thead>\n    <tr style=\"text-align: right;\">\n      <th></th>\n      <th>Model</th>\n      <th>Accuracy</th>\n      <th>AUC</th>\n      <th>Recall</th>\n      <th>Prec.</th>\n      <th>F1</th>\n      <th>Kappa</th>\n      <th>MCC</th>\n    </tr>\n  </thead>\n  <tbody>\n    <tr>\n      <th>0</th>\n      <td>Light Gradient Boosting Machine</td>\n      <td>0.9631</td>\n      <td>0.9181</td>\n      <td>0.9631</td>\n      <td>0.9623</td>\n      <td>0.9621</td>\n      <td>0.8386</td>\n      <td>0.8412</td>\n    </tr>\n  </tbody>\n</table>\n</div>"
     },
     "execution_count": 50,
     "metadata": {},
     "output_type": "execute_result"
    }
   ],
   "source": [
    "predict_model(top5)\n",
    "pull()"
   ],
   "metadata": {
    "collapsed": false,
    "pycharm": {
     "name": "#%%\n"
    }
   }
  },
  {
   "cell_type": "code",
   "execution_count": 50,
   "outputs": [],
   "source": [],
   "metadata": {
    "collapsed": false,
    "pycharm": {
     "name": "#%%\n"
    }
   }
  },
  {
   "cell_type": "code",
   "execution_count": 50,
   "outputs": [],
   "source": [],
   "metadata": {
    "collapsed": false,
    "pycharm": {
     "name": "#%%\n"
    }
   }
  },
  {
   "cell_type": "code",
   "execution_count": 51,
   "outputs": [
    {
     "data": {
      "text/plain": "<IPython.core.display.HTML object>",
      "text/html": ""
     },
     "metadata": {},
     "output_type": "display_data"
    }
   ],
   "source": [
    "predict_unseen = predict_model(final_model, data=df_test)"
   ],
   "metadata": {
    "collapsed": false,
    "pycharm": {
     "name": "#%%\n"
    }
   }
  },
  {
   "cell_type": "code",
   "execution_count": 52,
   "outputs": [],
   "source": [
    "df_result = predict_unseen[['id','prediction_label']]"
   ],
   "metadata": {
    "collapsed": false,
    "pycharm": {
     "name": "#%%\n"
    }
   }
  },
  {
   "cell_type": "code",
   "execution_count": 53,
   "outputs": [],
   "source": [
    "df_result.rename(columns={'prediction_label':'churn'},inplace = True)"
   ],
   "metadata": {
    "collapsed": false,
    "pycharm": {
     "name": "#%%\n"
    }
   }
  },
  {
   "cell_type": "code",
   "execution_count": 54,
   "outputs": [],
   "source": [
    "df_result.to_csv( 'out.csv',index=False,sep=',')"
   ],
   "metadata": {
    "collapsed": false,
    "pycharm": {
     "name": "#%%\n"
    }
   }
  },
  {
   "cell_type": "code",
   "execution_count": 55,
   "outputs": [
    {
     "data": {
      "text/plain": "       account_length  voice_mail_plan  number_vmail_messages  \\\ncount     4250.000000              0.0            4250.000000   \nmean       100.236235              NaN               7.631765   \nstd         39.698401              NaN              13.439882   \nmin          1.000000              NaN               0.000000   \n25%         73.000000              NaN               0.000000   \n50%        100.000000              NaN               0.000000   \n75%        127.000000              NaN              16.000000   \nmax        243.000000              NaN              52.000000   \n\n       total_day_minutes  total_day_calls  total_day_charge  \\\ncount        4250.000000      4250.000000       4250.000000   \nmean          179.812471        99.907294         30.644682   \nstd            54.009948        19.850817          9.182096   \nmin             0.000000         0.000000          0.000000   \n25%           143.000000        87.000000         24.365000   \n50%           180.000000       100.000000         30.680000   \n75%           216.000000       113.000000         36.750000   \nmax           351.000000       165.000000         59.760000   \n\n       total_eve_minutes  total_eve_calls  total_eve_charge  \\\ncount        4250.000000      4250.000000       4250.000000   \nmean          199.725647       100.176471         17.015012   \nstd            50.254818        19.908591          4.271212   \nmin             0.000000         0.000000          0.000000   \n25%           165.250000        87.000000         14.102500   \n50%           200.000000       100.000000         17.060000   \n75%           233.000000       114.000000         19.867500   \nmax           359.000000       170.000000         30.540000   \n\n       total_night_minutes  total_night_calls  total_night_charge  \\\ncount          4250.000000        4250.000000         4250.000000   \nmean            200.078824          99.839529            9.023892   \nstd              50.348409          20.093220            2.265922   \nmin               0.000000           0.000000            0.000000   \n25%             167.000000          86.000000            7.522500   \n50%             200.000000         100.000000            9.020000   \n75%             234.000000         113.000000           10.560000   \nmax             395.000000         175.000000           17.770000   \n\n       total_intl_minutes  total_intl_calls  total_intl_charge  \\\ncount         4250.000000       4250.000000        4250.000000   \nmean             9.809176          4.426353           2.769654   \nstd              2.772636          2.463069           0.745204   \nmin              0.000000          0.000000           0.000000   \n25%              8.000000          3.000000           2.300000   \n50%             10.000000          4.000000           2.780000   \n75%             12.000000          6.000000           3.240000   \nmax             20.000000         20.000000           5.400000   \n\n       number_customer_service_calls   total_mins  total_calls  \ncount                    4250.000000  4250.000000  4250.000000  \nmean                        1.559059   590.766118   304.349647  \nstd                         1.311434    88.828631    34.519048  \nmin                         0.000000   284.000000   191.000000  \n25%                         1.000000   531.000000   281.000000  \n50%                         1.000000   591.000000   305.000000  \n75%                         2.000000   650.000000   327.000000  \nmax                         9.000000   884.000000   416.000000  ",
      "text/html": "<div>\n<style scoped>\n    .dataframe tbody tr th:only-of-type {\n        vertical-align: middle;\n    }\n\n    .dataframe tbody tr th {\n        vertical-align: top;\n    }\n\n    .dataframe thead th {\n        text-align: right;\n    }\n</style>\n<table border=\"1\" class=\"dataframe\">\n  <thead>\n    <tr style=\"text-align: right;\">\n      <th></th>\n      <th>account_length</th>\n      <th>voice_mail_plan</th>\n      <th>number_vmail_messages</th>\n      <th>total_day_minutes</th>\n      <th>total_day_calls</th>\n      <th>total_day_charge</th>\n      <th>total_eve_minutes</th>\n      <th>total_eve_calls</th>\n      <th>total_eve_charge</th>\n      <th>total_night_minutes</th>\n      <th>total_night_calls</th>\n      <th>total_night_charge</th>\n      <th>total_intl_minutes</th>\n      <th>total_intl_calls</th>\n      <th>total_intl_charge</th>\n      <th>number_customer_service_calls</th>\n      <th>total_mins</th>\n      <th>total_calls</th>\n    </tr>\n  </thead>\n  <tbody>\n    <tr>\n      <th>count</th>\n      <td>4250.000000</td>\n      <td>0.0</td>\n      <td>4250.000000</td>\n      <td>4250.000000</td>\n      <td>4250.000000</td>\n      <td>4250.000000</td>\n      <td>4250.000000</td>\n      <td>4250.000000</td>\n      <td>4250.000000</td>\n      <td>4250.000000</td>\n      <td>4250.000000</td>\n      <td>4250.000000</td>\n      <td>4250.000000</td>\n      <td>4250.000000</td>\n      <td>4250.000000</td>\n      <td>4250.000000</td>\n      <td>4250.000000</td>\n      <td>4250.000000</td>\n    </tr>\n    <tr>\n      <th>mean</th>\n      <td>100.236235</td>\n      <td>NaN</td>\n      <td>7.631765</td>\n      <td>179.812471</td>\n      <td>99.907294</td>\n      <td>30.644682</td>\n      <td>199.725647</td>\n      <td>100.176471</td>\n      <td>17.015012</td>\n      <td>200.078824</td>\n      <td>99.839529</td>\n      <td>9.023892</td>\n      <td>9.809176</td>\n      <td>4.426353</td>\n      <td>2.769654</td>\n      <td>1.559059</td>\n      <td>590.766118</td>\n      <td>304.349647</td>\n    </tr>\n    <tr>\n      <th>std</th>\n      <td>39.698401</td>\n      <td>NaN</td>\n      <td>13.439882</td>\n      <td>54.009948</td>\n      <td>19.850817</td>\n      <td>9.182096</td>\n      <td>50.254818</td>\n      <td>19.908591</td>\n      <td>4.271212</td>\n      <td>50.348409</td>\n      <td>20.093220</td>\n      <td>2.265922</td>\n      <td>2.772636</td>\n      <td>2.463069</td>\n      <td>0.745204</td>\n      <td>1.311434</td>\n      <td>88.828631</td>\n      <td>34.519048</td>\n    </tr>\n    <tr>\n      <th>min</th>\n      <td>1.000000</td>\n      <td>NaN</td>\n      <td>0.000000</td>\n      <td>0.000000</td>\n      <td>0.000000</td>\n      <td>0.000000</td>\n      <td>0.000000</td>\n      <td>0.000000</td>\n      <td>0.000000</td>\n      <td>0.000000</td>\n      <td>0.000000</td>\n      <td>0.000000</td>\n      <td>0.000000</td>\n      <td>0.000000</td>\n      <td>0.000000</td>\n      <td>0.000000</td>\n      <td>284.000000</td>\n      <td>191.000000</td>\n    </tr>\n    <tr>\n      <th>25%</th>\n      <td>73.000000</td>\n      <td>NaN</td>\n      <td>0.000000</td>\n      <td>143.000000</td>\n      <td>87.000000</td>\n      <td>24.365000</td>\n      <td>165.250000</td>\n      <td>87.000000</td>\n      <td>14.102500</td>\n      <td>167.000000</td>\n      <td>86.000000</td>\n      <td>7.522500</td>\n      <td>8.000000</td>\n      <td>3.000000</td>\n      <td>2.300000</td>\n      <td>1.000000</td>\n      <td>531.000000</td>\n      <td>281.000000</td>\n    </tr>\n    <tr>\n      <th>50%</th>\n      <td>100.000000</td>\n      <td>NaN</td>\n      <td>0.000000</td>\n      <td>180.000000</td>\n      <td>100.000000</td>\n      <td>30.680000</td>\n      <td>200.000000</td>\n      <td>100.000000</td>\n      <td>17.060000</td>\n      <td>200.000000</td>\n      <td>100.000000</td>\n      <td>9.020000</td>\n      <td>10.000000</td>\n      <td>4.000000</td>\n      <td>2.780000</td>\n      <td>1.000000</td>\n      <td>591.000000</td>\n      <td>305.000000</td>\n    </tr>\n    <tr>\n      <th>75%</th>\n      <td>127.000000</td>\n      <td>NaN</td>\n      <td>16.000000</td>\n      <td>216.000000</td>\n      <td>113.000000</td>\n      <td>36.750000</td>\n      <td>233.000000</td>\n      <td>114.000000</td>\n      <td>19.867500</td>\n      <td>234.000000</td>\n      <td>113.000000</td>\n      <td>10.560000</td>\n      <td>12.000000</td>\n      <td>6.000000</td>\n      <td>3.240000</td>\n      <td>2.000000</td>\n      <td>650.000000</td>\n      <td>327.000000</td>\n    </tr>\n    <tr>\n      <th>max</th>\n      <td>243.000000</td>\n      <td>NaN</td>\n      <td>52.000000</td>\n      <td>351.000000</td>\n      <td>165.000000</td>\n      <td>59.760000</td>\n      <td>359.000000</td>\n      <td>170.000000</td>\n      <td>30.540000</td>\n      <td>395.000000</td>\n      <td>175.000000</td>\n      <td>17.770000</td>\n      <td>20.000000</td>\n      <td>20.000000</td>\n      <td>5.400000</td>\n      <td>9.000000</td>\n      <td>884.000000</td>\n      <td>416.000000</td>\n    </tr>\n  </tbody>\n</table>\n</div>"
     },
     "execution_count": 55,
     "metadata": {},
     "output_type": "execute_result"
    }
   ],
   "source": [
    "df_train.describe()"
   ],
   "metadata": {
    "collapsed": false,
    "pycharm": {
     "name": "#%%\n"
    }
   }
  },
  {
   "cell_type": "code",
   "execution_count": 56,
   "outputs": [
    {
     "data": {
      "text/plain": "     state  account_length      area_code  international_plan  \\\n0       OH             107  area_code_415               False   \n1       NJ             137  area_code_415               False   \n2       OH              84  area_code_408                True   \n3       OK              75  area_code_415                True   \n4       MA             121  area_code_510               False   \n...    ...             ...            ...                 ...   \n4245    MT              83  area_code_415               False   \n4246    WV              73  area_code_408               False   \n4247    NC              75  area_code_408               False   \n4248    HI              50  area_code_408               False   \n4249    VT              86  area_code_415               False   \n\n      voice_mail_plan  number_vmail_messages  total_day_minutes  \\\n0                 NaN                     26                161   \n1                 NaN                      0                243   \n2                 NaN                      0                299   \n3                 NaN                      0                166   \n4                 NaN                     24                218   \n...               ...                    ...                ...   \n4245              NaN                      0                188   \n4246              NaN                      0                177   \n4247              NaN                      0                170   \n4248              NaN                     40                235   \n4249              NaN                     34                129   \n\n      total_day_calls  total_day_charge  total_eve_minutes  ...  \\\n0                 123             27.47                195  ...   \n1                 114             41.38                121  ...   \n2                  71             50.90                 61  ...   \n3                 113             28.34                148  ...   \n4                  88             37.09                348  ...   \n...               ...               ...                ...  ...   \n4245               70             32.01                243  ...   \n4246               89             30.24                131  ...   \n4247              101             29.02                193  ...   \n4248              127             40.07                223  ...   \n4249              102             22.00                267  ...   \n\n      total_night_minutes  total_night_calls  total_night_charge  \\\n0                     254                103               11.45   \n1                     162                104                7.32   \n2                     196                 89                8.86   \n3                     186                121                8.41   \n4                     212                118                9.57   \n...                   ...                ...                 ...   \n4245                  213                 79                9.62   \n4246                  186                 89                8.38   \n4247                  129                104                5.81   \n4248                  297                116               13.39   \n4249                  154                100                6.97   \n\n      total_intl_minutes  total_intl_calls  total_intl_charge  \\\n0                     13                 3               3.70   \n1                     12                 5               3.29   \n2                      6                 7               1.78   \n3                     10                 3               2.73   \n4                      7                 7               2.03   \n...                  ...               ...                ...   \n4245                  10                 6               2.78   \n4246                  11                 6               3.11   \n4247                   6                 7               1.86   \n4248                   9                 5               2.67   \n4249                   9                16               2.51   \n\n      number_customer_service_calls  total_mins  total_calls  churn  \n0                                 1         625          332     no  \n1                                 0         539          333     no  \n2                                 2         564          255     no  \n3                                 3         512          359     no  \n4                                 3         786          321     no  \n...                             ...         ...          ...    ...  \n4245                              0         656          243     no  \n4246                              3         506          266     no  \n4247                              1         499          338     no  \n4248                              2         766          374     no  \n4249                              0         560          322     no  \n\n[4250 rows x 22 columns]",
      "text/html": "<div>\n<style scoped>\n    .dataframe tbody tr th:only-of-type {\n        vertical-align: middle;\n    }\n\n    .dataframe tbody tr th {\n        vertical-align: top;\n    }\n\n    .dataframe thead th {\n        text-align: right;\n    }\n</style>\n<table border=\"1\" class=\"dataframe\">\n  <thead>\n    <tr style=\"text-align: right;\">\n      <th></th>\n      <th>state</th>\n      <th>account_length</th>\n      <th>area_code</th>\n      <th>international_plan</th>\n      <th>voice_mail_plan</th>\n      <th>number_vmail_messages</th>\n      <th>total_day_minutes</th>\n      <th>total_day_calls</th>\n      <th>total_day_charge</th>\n      <th>total_eve_minutes</th>\n      <th>...</th>\n      <th>total_night_minutes</th>\n      <th>total_night_calls</th>\n      <th>total_night_charge</th>\n      <th>total_intl_minutes</th>\n      <th>total_intl_calls</th>\n      <th>total_intl_charge</th>\n      <th>number_customer_service_calls</th>\n      <th>total_mins</th>\n      <th>total_calls</th>\n      <th>churn</th>\n    </tr>\n  </thead>\n  <tbody>\n    <tr>\n      <th>0</th>\n      <td>OH</td>\n      <td>107</td>\n      <td>area_code_415</td>\n      <td>False</td>\n      <td>NaN</td>\n      <td>26</td>\n      <td>161</td>\n      <td>123</td>\n      <td>27.47</td>\n      <td>195</td>\n      <td>...</td>\n      <td>254</td>\n      <td>103</td>\n      <td>11.45</td>\n      <td>13</td>\n      <td>3</td>\n      <td>3.70</td>\n      <td>1</td>\n      <td>625</td>\n      <td>332</td>\n      <td>no</td>\n    </tr>\n    <tr>\n      <th>1</th>\n      <td>NJ</td>\n      <td>137</td>\n      <td>area_code_415</td>\n      <td>False</td>\n      <td>NaN</td>\n      <td>0</td>\n      <td>243</td>\n      <td>114</td>\n      <td>41.38</td>\n      <td>121</td>\n      <td>...</td>\n      <td>162</td>\n      <td>104</td>\n      <td>7.32</td>\n      <td>12</td>\n      <td>5</td>\n      <td>3.29</td>\n      <td>0</td>\n      <td>539</td>\n      <td>333</td>\n      <td>no</td>\n    </tr>\n    <tr>\n      <th>2</th>\n      <td>OH</td>\n      <td>84</td>\n      <td>area_code_408</td>\n      <td>True</td>\n      <td>NaN</td>\n      <td>0</td>\n      <td>299</td>\n      <td>71</td>\n      <td>50.90</td>\n      <td>61</td>\n      <td>...</td>\n      <td>196</td>\n      <td>89</td>\n      <td>8.86</td>\n      <td>6</td>\n      <td>7</td>\n      <td>1.78</td>\n      <td>2</td>\n      <td>564</td>\n      <td>255</td>\n      <td>no</td>\n    </tr>\n    <tr>\n      <th>3</th>\n      <td>OK</td>\n      <td>75</td>\n      <td>area_code_415</td>\n      <td>True</td>\n      <td>NaN</td>\n      <td>0</td>\n      <td>166</td>\n      <td>113</td>\n      <td>28.34</td>\n      <td>148</td>\n      <td>...</td>\n      <td>186</td>\n      <td>121</td>\n      <td>8.41</td>\n      <td>10</td>\n      <td>3</td>\n      <td>2.73</td>\n      <td>3</td>\n      <td>512</td>\n      <td>359</td>\n      <td>no</td>\n    </tr>\n    <tr>\n      <th>4</th>\n      <td>MA</td>\n      <td>121</td>\n      <td>area_code_510</td>\n      <td>False</td>\n      <td>NaN</td>\n      <td>24</td>\n      <td>218</td>\n      <td>88</td>\n      <td>37.09</td>\n      <td>348</td>\n      <td>...</td>\n      <td>212</td>\n      <td>118</td>\n      <td>9.57</td>\n      <td>7</td>\n      <td>7</td>\n      <td>2.03</td>\n      <td>3</td>\n      <td>786</td>\n      <td>321</td>\n      <td>no</td>\n    </tr>\n    <tr>\n      <th>...</th>\n      <td>...</td>\n      <td>...</td>\n      <td>...</td>\n      <td>...</td>\n      <td>...</td>\n      <td>...</td>\n      <td>...</td>\n      <td>...</td>\n      <td>...</td>\n      <td>...</td>\n      <td>...</td>\n      <td>...</td>\n      <td>...</td>\n      <td>...</td>\n      <td>...</td>\n      <td>...</td>\n      <td>...</td>\n      <td>...</td>\n      <td>...</td>\n      <td>...</td>\n      <td>...</td>\n    </tr>\n    <tr>\n      <th>4245</th>\n      <td>MT</td>\n      <td>83</td>\n      <td>area_code_415</td>\n      <td>False</td>\n      <td>NaN</td>\n      <td>0</td>\n      <td>188</td>\n      <td>70</td>\n      <td>32.01</td>\n      <td>243</td>\n      <td>...</td>\n      <td>213</td>\n      <td>79</td>\n      <td>9.62</td>\n      <td>10</td>\n      <td>6</td>\n      <td>2.78</td>\n      <td>0</td>\n      <td>656</td>\n      <td>243</td>\n      <td>no</td>\n    </tr>\n    <tr>\n      <th>4246</th>\n      <td>WV</td>\n      <td>73</td>\n      <td>area_code_408</td>\n      <td>False</td>\n      <td>NaN</td>\n      <td>0</td>\n      <td>177</td>\n      <td>89</td>\n      <td>30.24</td>\n      <td>131</td>\n      <td>...</td>\n      <td>186</td>\n      <td>89</td>\n      <td>8.38</td>\n      <td>11</td>\n      <td>6</td>\n      <td>3.11</td>\n      <td>3</td>\n      <td>506</td>\n      <td>266</td>\n      <td>no</td>\n    </tr>\n    <tr>\n      <th>4247</th>\n      <td>NC</td>\n      <td>75</td>\n      <td>area_code_408</td>\n      <td>False</td>\n      <td>NaN</td>\n      <td>0</td>\n      <td>170</td>\n      <td>101</td>\n      <td>29.02</td>\n      <td>193</td>\n      <td>...</td>\n      <td>129</td>\n      <td>104</td>\n      <td>5.81</td>\n      <td>6</td>\n      <td>7</td>\n      <td>1.86</td>\n      <td>1</td>\n      <td>499</td>\n      <td>338</td>\n      <td>no</td>\n    </tr>\n    <tr>\n      <th>4248</th>\n      <td>HI</td>\n      <td>50</td>\n      <td>area_code_408</td>\n      <td>False</td>\n      <td>NaN</td>\n      <td>40</td>\n      <td>235</td>\n      <td>127</td>\n      <td>40.07</td>\n      <td>223</td>\n      <td>...</td>\n      <td>297</td>\n      <td>116</td>\n      <td>13.39</td>\n      <td>9</td>\n      <td>5</td>\n      <td>2.67</td>\n      <td>2</td>\n      <td>766</td>\n      <td>374</td>\n      <td>no</td>\n    </tr>\n    <tr>\n      <th>4249</th>\n      <td>VT</td>\n      <td>86</td>\n      <td>area_code_415</td>\n      <td>False</td>\n      <td>NaN</td>\n      <td>34</td>\n      <td>129</td>\n      <td>102</td>\n      <td>22.00</td>\n      <td>267</td>\n      <td>...</td>\n      <td>154</td>\n      <td>100</td>\n      <td>6.97</td>\n      <td>9</td>\n      <td>16</td>\n      <td>2.51</td>\n      <td>0</td>\n      <td>560</td>\n      <td>322</td>\n      <td>no</td>\n    </tr>\n  </tbody>\n</table>\n<p>4250 rows × 22 columns</p>\n</div>"
     },
     "execution_count": 56,
     "metadata": {},
     "output_type": "execute_result"
    }
   ],
   "source": [
    "df_train"
   ],
   "metadata": {
    "collapsed": false,
    "pycharm": {
     "name": "#%%\n"
    }
   }
  },
  {
   "cell_type": "code",
   "execution_count": 57,
   "outputs": [],
   "source": [
    "import pycaret\n"
   ],
   "metadata": {
    "collapsed": false,
    "pycharm": {
     "name": "#%%\n"
    }
   }
  },
  {
   "cell_type": "code",
   "execution_count": 57,
   "outputs": [],
   "source": [],
   "metadata": {
    "collapsed": false,
    "pycharm": {
     "name": "#%%\n"
    }
   }
  }
 ],
 "metadata": {
  "kernelspec": {
   "display_name": "Python 3",
   "language": "python",
   "name": "python3"
  },
  "language_info": {
   "codemirror_mode": {
    "name": "ipython",
    "version": 2
   },
   "file_extension": ".py",
   "mimetype": "text/x-python",
   "name": "python",
   "nbconvert_exporter": "python",
   "pygments_lexer": "ipython2",
   "version": "2.7.6"
  }
 },
 "nbformat": 4,
 "nbformat_minor": 0
}
{
 "cells": [
  {
   "cell_type": "code",
   "execution_count": 73,
   "metadata": {
    "pycharm": {
     "name": "#%%\n"
    }
   },
   "outputs": [],
   "source": [
    "import pandas as pd\n",
    "import numpy as np\n",
    "from scipy import stats\n",
    "import seaborn as sns\n",
    "%matplotlib inline  \n"
   ]
  },
  {
   "cell_type": "code",
   "execution_count": 74,
   "metadata": {
    "pycharm": {
     "name": "#%%\n"
    }
   },
   "outputs": [],
   "source": [
    "days = 30"
   ]
  },
  {
   "cell_type": "code",
   "execution_count": 123,
   "metadata": {
    "pycharm": {
     "name": "#%%\n"
    }
   },
   "outputs": [],
   "source": [
    "mu_control, sigma_control, n_control = 100, 5, 100\n",
    "mu_experiment, sigma_experiment, n_experiment = 100, 5, 100"
   ]
  },
  {
   "cell_type": "code",
   "execution_count": 123,
   "metadata": {
    "pycharm": {
     "name": "#%%\n"
    }
   },
   "outputs": [],
   "source": []
  },
  {
   "cell_type": "code",
   "execution_count": 124,
   "metadata": {
    "pycharm": {
     "name": "#%%\n"
    }
   },
   "outputs": [],
   "source": [
    "current_date = 1\n",
    "user_data = pd.DataFrame()\n",
    "stat_result = pd.DataFrame()\n",
    "daily_data = pd.DataFrame()"
   ]
  },
  {
   "cell_type": "code",
   "execution_count": 124,
   "metadata": {
    "pycharm": {
     "name": "#%%\n"
    }
   },
   "outputs": [],
   "source": []
  },
  {
   "cell_type": "code",
   "execution_count": 125,
   "metadata": {
    "pycharm": {
     "name": "#%%\n"
    }
   },
   "outputs": [
    {
     "name": "stderr",
     "output_type": "stream",
     "text": [
      "C:\\Temp\\ipykernel_14108\\3257773315.py:15: FutureWarning: The frame.append method is deprecated and will be removed from pandas in a future version. Use pandas.concat instead.\n",
      "  user_data = user_data.append(day_data_experiment).append(day_data_control)\n",
      "C:\\Temp\\ipykernel_14108\\3257773315.py:21: FutureWarning: The frame.append method is deprecated and will be removed from pandas in a future version. Use pandas.concat instead.\n",
      "  stat_result = stat_result.append(pd.DataFrame({'t': [fit[0]], 'p': [fit[1]], 'date': current_date}))\n",
      "C:\\Temp\\ipykernel_14108\\3257773315.py:27: FutureWarning: The frame.append method is deprecated and will be removed from pandas in a future version. Use pandas.concat instead.\n",
      "  daily_data = daily_data.append(current_data_stat)\n",
      "C:\\Temp\\ipykernel_14108\\3257773315.py:15: FutureWarning: The frame.append method is deprecated and will be removed from pandas in a future version. Use pandas.concat instead.\n",
      "  user_data = user_data.append(day_data_experiment).append(day_data_control)\n",
      "C:\\Temp\\ipykernel_14108\\3257773315.py:15: FutureWarning: The frame.append method is deprecated and will be removed from pandas in a future version. Use pandas.concat instead.\n",
      "  user_data = user_data.append(day_data_experiment).append(day_data_control)\n",
      "C:\\Temp\\ipykernel_14108\\3257773315.py:21: FutureWarning: The frame.append method is deprecated and will be removed from pandas in a future version. Use pandas.concat instead.\n",
      "  stat_result = stat_result.append(pd.DataFrame({'t': [fit[0]], 'p': [fit[1]], 'date': current_date}))\n",
      "C:\\Temp\\ipykernel_14108\\3257773315.py:27: FutureWarning: The frame.append method is deprecated and will be removed from pandas in a future version. Use pandas.concat instead.\n",
      "  daily_data = daily_data.append(current_data_stat)\n",
      "C:\\Temp\\ipykernel_14108\\3257773315.py:15: FutureWarning: The frame.append method is deprecated and will be removed from pandas in a future version. Use pandas.concat instead.\n",
      "  user_data = user_data.append(day_data_experiment).append(day_data_control)\n",
      "C:\\Temp\\ipykernel_14108\\3257773315.py:15: FutureWarning: The frame.append method is deprecated and will be removed from pandas in a future version. Use pandas.concat instead.\n",
      "  user_data = user_data.append(day_data_experiment).append(day_data_control)\n",
      "C:\\Temp\\ipykernel_14108\\3257773315.py:21: FutureWarning: The frame.append method is deprecated and will be removed from pandas in a future version. Use pandas.concat instead.\n",
      "  stat_result = stat_result.append(pd.DataFrame({'t': [fit[0]], 'p': [fit[1]], 'date': current_date}))\n",
      "C:\\Temp\\ipykernel_14108\\3257773315.py:27: FutureWarning: The frame.append method is deprecated and will be removed from pandas in a future version. Use pandas.concat instead.\n",
      "  daily_data = daily_data.append(current_data_stat)\n",
      "C:\\Temp\\ipykernel_14108\\3257773315.py:15: FutureWarning: The frame.append method is deprecated and will be removed from pandas in a future version. Use pandas.concat instead.\n",
      "  user_data = user_data.append(day_data_experiment).append(day_data_control)\n",
      "C:\\Temp\\ipykernel_14108\\3257773315.py:15: FutureWarning: The frame.append method is deprecated and will be removed from pandas in a future version. Use pandas.concat instead.\n",
      "  user_data = user_data.append(day_data_experiment).append(day_data_control)\n",
      "C:\\Temp\\ipykernel_14108\\3257773315.py:21: FutureWarning: The frame.append method is deprecated and will be removed from pandas in a future version. Use pandas.concat instead.\n",
      "  stat_result = stat_result.append(pd.DataFrame({'t': [fit[0]], 'p': [fit[1]], 'date': current_date}))\n",
      "C:\\Temp\\ipykernel_14108\\3257773315.py:27: FutureWarning: The frame.append method is deprecated and will be removed from pandas in a future version. Use pandas.concat instead.\n",
      "  daily_data = daily_data.append(current_data_stat)\n",
      "C:\\Temp\\ipykernel_14108\\3257773315.py:15: FutureWarning: The frame.append method is deprecated and will be removed from pandas in a future version. Use pandas.concat instead.\n",
      "  user_data = user_data.append(day_data_experiment).append(day_data_control)\n",
      "C:\\Temp\\ipykernel_14108\\3257773315.py:15: FutureWarning: The frame.append method is deprecated and will be removed from pandas in a future version. Use pandas.concat instead.\n",
      "  user_data = user_data.append(day_data_experiment).append(day_data_control)\n",
      "C:\\Temp\\ipykernel_14108\\3257773315.py:21: FutureWarning: The frame.append method is deprecated and will be removed from pandas in a future version. Use pandas.concat instead.\n",
      "  stat_result = stat_result.append(pd.DataFrame({'t': [fit[0]], 'p': [fit[1]], 'date': current_date}))\n",
      "C:\\Temp\\ipykernel_14108\\3257773315.py:27: FutureWarning: The frame.append method is deprecated and will be removed from pandas in a future version. Use pandas.concat instead.\n",
      "  daily_data = daily_data.append(current_data_stat)\n",
      "C:\\Temp\\ipykernel_14108\\3257773315.py:15: FutureWarning: The frame.append method is deprecated and will be removed from pandas in a future version. Use pandas.concat instead.\n",
      "  user_data = user_data.append(day_data_experiment).append(day_data_control)\n",
      "C:\\Temp\\ipykernel_14108\\3257773315.py:15: FutureWarning: The frame.append method is deprecated and will be removed from pandas in a future version. Use pandas.concat instead.\n",
      "  user_data = user_data.append(day_data_experiment).append(day_data_control)\n",
      "C:\\Temp\\ipykernel_14108\\3257773315.py:21: FutureWarning: The frame.append method is deprecated and will be removed from pandas in a future version. Use pandas.concat instead.\n",
      "  stat_result = stat_result.append(pd.DataFrame({'t': [fit[0]], 'p': [fit[1]], 'date': current_date}))\n",
      "C:\\Temp\\ipykernel_14108\\3257773315.py:27: FutureWarning: The frame.append method is deprecated and will be removed from pandas in a future version. Use pandas.concat instead.\n",
      "  daily_data = daily_data.append(current_data_stat)\n",
      "C:\\Temp\\ipykernel_14108\\3257773315.py:15: FutureWarning: The frame.append method is deprecated and will be removed from pandas in a future version. Use pandas.concat instead.\n",
      "  user_data = user_data.append(day_data_experiment).append(day_data_control)\n",
      "C:\\Temp\\ipykernel_14108\\3257773315.py:15: FutureWarning: The frame.append method is deprecated and will be removed from pandas in a future version. Use pandas.concat instead.\n",
      "  user_data = user_data.append(day_data_experiment).append(day_data_control)\n",
      "C:\\Temp\\ipykernel_14108\\3257773315.py:21: FutureWarning: The frame.append method is deprecated and will be removed from pandas in a future version. Use pandas.concat instead.\n",
      "  stat_result = stat_result.append(pd.DataFrame({'t': [fit[0]], 'p': [fit[1]], 'date': current_date}))\n",
      "C:\\Temp\\ipykernel_14108\\3257773315.py:27: FutureWarning: The frame.append method is deprecated and will be removed from pandas in a future version. Use pandas.concat instead.\n",
      "  daily_data = daily_data.append(current_data_stat)\n",
      "C:\\Temp\\ipykernel_14108\\3257773315.py:15: FutureWarning: The frame.append method is deprecated and will be removed from pandas in a future version. Use pandas.concat instead.\n",
      "  user_data = user_data.append(day_data_experiment).append(day_data_control)\n",
      "C:\\Temp\\ipykernel_14108\\3257773315.py:15: FutureWarning: The frame.append method is deprecated and will be removed from pandas in a future version. Use pandas.concat instead.\n",
      "  user_data = user_data.append(day_data_experiment).append(day_data_control)\n",
      "C:\\Temp\\ipykernel_14108\\3257773315.py:21: FutureWarning: The frame.append method is deprecated and will be removed from pandas in a future version. Use pandas.concat instead.\n",
      "  stat_result = stat_result.append(pd.DataFrame({'t': [fit[0]], 'p': [fit[1]], 'date': current_date}))\n",
      "C:\\Temp\\ipykernel_14108\\3257773315.py:27: FutureWarning: The frame.append method is deprecated and will be removed from pandas in a future version. Use pandas.concat instead.\n",
      "  daily_data = daily_data.append(current_data_stat)\n",
      "C:\\Temp\\ipykernel_14108\\3257773315.py:15: FutureWarning: The frame.append method is deprecated and will be removed from pandas in a future version. Use pandas.concat instead.\n",
      "  user_data = user_data.append(day_data_experiment).append(day_data_control)\n",
      "C:\\Temp\\ipykernel_14108\\3257773315.py:15: FutureWarning: The frame.append method is deprecated and will be removed from pandas in a future version. Use pandas.concat instead.\n",
      "  user_data = user_data.append(day_data_experiment).append(day_data_control)\n",
      "C:\\Temp\\ipykernel_14108\\3257773315.py:21: FutureWarning: The frame.append method is deprecated and will be removed from pandas in a future version. Use pandas.concat instead.\n",
      "  stat_result = stat_result.append(pd.DataFrame({'t': [fit[0]], 'p': [fit[1]], 'date': current_date}))\n",
      "C:\\Temp\\ipykernel_14108\\3257773315.py:27: FutureWarning: The frame.append method is deprecated and will be removed from pandas in a future version. Use pandas.concat instead.\n",
      "  daily_data = daily_data.append(current_data_stat)\n",
      "C:\\Temp\\ipykernel_14108\\3257773315.py:15: FutureWarning: The frame.append method is deprecated and will be removed from pandas in a future version. Use pandas.concat instead.\n",
      "  user_data = user_data.append(day_data_experiment).append(day_data_control)\n",
      "C:\\Temp\\ipykernel_14108\\3257773315.py:15: FutureWarning: The frame.append method is deprecated and will be removed from pandas in a future version. Use pandas.concat instead.\n",
      "  user_data = user_data.append(day_data_experiment).append(day_data_control)\n",
      "C:\\Temp\\ipykernel_14108\\3257773315.py:21: FutureWarning: The frame.append method is deprecated and will be removed from pandas in a future version. Use pandas.concat instead.\n",
      "  stat_result = stat_result.append(pd.DataFrame({'t': [fit[0]], 'p': [fit[1]], 'date': current_date}))\n",
      "C:\\Temp\\ipykernel_14108\\3257773315.py:27: FutureWarning: The frame.append method is deprecated and will be removed from pandas in a future version. Use pandas.concat instead.\n",
      "  daily_data = daily_data.append(current_data_stat)\n",
      "C:\\Temp\\ipykernel_14108\\3257773315.py:15: FutureWarning: The frame.append method is deprecated and will be removed from pandas in a future version. Use pandas.concat instead.\n",
      "  user_data = user_data.append(day_data_experiment).append(day_data_control)\n",
      "C:\\Temp\\ipykernel_14108\\3257773315.py:15: FutureWarning: The frame.append method is deprecated and will be removed from pandas in a future version. Use pandas.concat instead.\n",
      "  user_data = user_data.append(day_data_experiment).append(day_data_control)\n",
      "C:\\Temp\\ipykernel_14108\\3257773315.py:21: FutureWarning: The frame.append method is deprecated and will be removed from pandas in a future version. Use pandas.concat instead.\n",
      "  stat_result = stat_result.append(pd.DataFrame({'t': [fit[0]], 'p': [fit[1]], 'date': current_date}))\n",
      "C:\\Temp\\ipykernel_14108\\3257773315.py:27: FutureWarning: The frame.append method is deprecated and will be removed from pandas in a future version. Use pandas.concat instead.\n",
      "  daily_data = daily_data.append(current_data_stat)\n",
      "C:\\Temp\\ipykernel_14108\\3257773315.py:15: FutureWarning: The frame.append method is deprecated and will be removed from pandas in a future version. Use pandas.concat instead.\n",
      "  user_data = user_data.append(day_data_experiment).append(day_data_control)\n",
      "C:\\Temp\\ipykernel_14108\\3257773315.py:15: FutureWarning: The frame.append method is deprecated and will be removed from pandas in a future version. Use pandas.concat instead.\n",
      "  user_data = user_data.append(day_data_experiment).append(day_data_control)\n",
      "C:\\Temp\\ipykernel_14108\\3257773315.py:21: FutureWarning: The frame.append method is deprecated and will be removed from pandas in a future version. Use pandas.concat instead.\n",
      "  stat_result = stat_result.append(pd.DataFrame({'t': [fit[0]], 'p': [fit[1]], 'date': current_date}))\n",
      "C:\\Temp\\ipykernel_14108\\3257773315.py:27: FutureWarning: The frame.append method is deprecated and will be removed from pandas in a future version. Use pandas.concat instead.\n",
      "  daily_data = daily_data.append(current_data_stat)\n",
      "C:\\Temp\\ipykernel_14108\\3257773315.py:15: FutureWarning: The frame.append method is deprecated and will be removed from pandas in a future version. Use pandas.concat instead.\n",
      "  user_data = user_data.append(day_data_experiment).append(day_data_control)\n",
      "C:\\Temp\\ipykernel_14108\\3257773315.py:15: FutureWarning: The frame.append method is deprecated and will be removed from pandas in a future version. Use pandas.concat instead.\n",
      "  user_data = user_data.append(day_data_experiment).append(day_data_control)\n",
      "C:\\Temp\\ipykernel_14108\\3257773315.py:21: FutureWarning: The frame.append method is deprecated and will be removed from pandas in a future version. Use pandas.concat instead.\n",
      "  stat_result = stat_result.append(pd.DataFrame({'t': [fit[0]], 'p': [fit[1]], 'date': current_date}))\n",
      "C:\\Temp\\ipykernel_14108\\3257773315.py:27: FutureWarning: The frame.append method is deprecated and will be removed from pandas in a future version. Use pandas.concat instead.\n",
      "  daily_data = daily_data.append(current_data_stat)\n",
      "C:\\Temp\\ipykernel_14108\\3257773315.py:15: FutureWarning: The frame.append method is deprecated and will be removed from pandas in a future version. Use pandas.concat instead.\n",
      "  user_data = user_data.append(day_data_experiment).append(day_data_control)\n",
      "C:\\Temp\\ipykernel_14108\\3257773315.py:15: FutureWarning: The frame.append method is deprecated and will be removed from pandas in a future version. Use pandas.concat instead.\n",
      "  user_data = user_data.append(day_data_experiment).append(day_data_control)\n",
      "C:\\Temp\\ipykernel_14108\\3257773315.py:21: FutureWarning: The frame.append method is deprecated and will be removed from pandas in a future version. Use pandas.concat instead.\n",
      "  stat_result = stat_result.append(pd.DataFrame({'t': [fit[0]], 'p': [fit[1]], 'date': current_date}))\n",
      "C:\\Temp\\ipykernel_14108\\3257773315.py:27: FutureWarning: The frame.append method is deprecated and will be removed from pandas in a future version. Use pandas.concat instead.\n",
      "  daily_data = daily_data.append(current_data_stat)\n",
      "C:\\Temp\\ipykernel_14108\\3257773315.py:15: FutureWarning: The frame.append method is deprecated and will be removed from pandas in a future version. Use pandas.concat instead.\n",
      "  user_data = user_data.append(day_data_experiment).append(day_data_control)\n",
      "C:\\Temp\\ipykernel_14108\\3257773315.py:15: FutureWarning: The frame.append method is deprecated and will be removed from pandas in a future version. Use pandas.concat instead.\n",
      "  user_data = user_data.append(day_data_experiment).append(day_data_control)\n",
      "C:\\Temp\\ipykernel_14108\\3257773315.py:21: FutureWarning: The frame.append method is deprecated and will be removed from pandas in a future version. Use pandas.concat instead.\n",
      "  stat_result = stat_result.append(pd.DataFrame({'t': [fit[0]], 'p': [fit[1]], 'date': current_date}))\n",
      "C:\\Temp\\ipykernel_14108\\3257773315.py:27: FutureWarning: The frame.append method is deprecated and will be removed from pandas in a future version. Use pandas.concat instead.\n",
      "  daily_data = daily_data.append(current_data_stat)\n",
      "C:\\Temp\\ipykernel_14108\\3257773315.py:15: FutureWarning: The frame.append method is deprecated and will be removed from pandas in a future version. Use pandas.concat instead.\n",
      "  user_data = user_data.append(day_data_experiment).append(day_data_control)\n",
      "C:\\Temp\\ipykernel_14108\\3257773315.py:15: FutureWarning: The frame.append method is deprecated and will be removed from pandas in a future version. Use pandas.concat instead.\n",
      "  user_data = user_data.append(day_data_experiment).append(day_data_control)\n",
      "C:\\Temp\\ipykernel_14108\\3257773315.py:21: FutureWarning: The frame.append method is deprecated and will be removed from pandas in a future version. Use pandas.concat instead.\n",
      "  stat_result = stat_result.append(pd.DataFrame({'t': [fit[0]], 'p': [fit[1]], 'date': current_date}))\n",
      "C:\\Temp\\ipykernel_14108\\3257773315.py:27: FutureWarning: The frame.append method is deprecated and will be removed from pandas in a future version. Use pandas.concat instead.\n",
      "  daily_data = daily_data.append(current_data_stat)\n",
      "C:\\Temp\\ipykernel_14108\\3257773315.py:15: FutureWarning: The frame.append method is deprecated and will be removed from pandas in a future version. Use pandas.concat instead.\n",
      "  user_data = user_data.append(day_data_experiment).append(day_data_control)\n",
      "C:\\Temp\\ipykernel_14108\\3257773315.py:15: FutureWarning: The frame.append method is deprecated and will be removed from pandas in a future version. Use pandas.concat instead.\n",
      "  user_data = user_data.append(day_data_experiment).append(day_data_control)\n",
      "C:\\Temp\\ipykernel_14108\\3257773315.py:21: FutureWarning: The frame.append method is deprecated and will be removed from pandas in a future version. Use pandas.concat instead.\n",
      "  stat_result = stat_result.append(pd.DataFrame({'t': [fit[0]], 'p': [fit[1]], 'date': current_date}))\n",
      "C:\\Temp\\ipykernel_14108\\3257773315.py:27: FutureWarning: The frame.append method is deprecated and will be removed from pandas in a future version. Use pandas.concat instead.\n",
      "  daily_data = daily_data.append(current_data_stat)\n",
      "C:\\Temp\\ipykernel_14108\\3257773315.py:15: FutureWarning: The frame.append method is deprecated and will be removed from pandas in a future version. Use pandas.concat instead.\n",
      "  user_data = user_data.append(day_data_experiment).append(day_data_control)\n",
      "C:\\Temp\\ipykernel_14108\\3257773315.py:15: FutureWarning: The frame.append method is deprecated and will be removed from pandas in a future version. Use pandas.concat instead.\n",
      "  user_data = user_data.append(day_data_experiment).append(day_data_control)\n",
      "C:\\Temp\\ipykernel_14108\\3257773315.py:21: FutureWarning: The frame.append method is deprecated and will be removed from pandas in a future version. Use pandas.concat instead.\n",
      "  stat_result = stat_result.append(pd.DataFrame({'t': [fit[0]], 'p': [fit[1]], 'date': current_date}))\n",
      "C:\\Temp\\ipykernel_14108\\3257773315.py:27: FutureWarning: The frame.append method is deprecated and will be removed from pandas in a future version. Use pandas.concat instead.\n",
      "  daily_data = daily_data.append(current_data_stat)\n",
      "C:\\Temp\\ipykernel_14108\\3257773315.py:15: FutureWarning: The frame.append method is deprecated and will be removed from pandas in a future version. Use pandas.concat instead.\n",
      "  user_data = user_data.append(day_data_experiment).append(day_data_control)\n",
      "C:\\Temp\\ipykernel_14108\\3257773315.py:15: FutureWarning: The frame.append method is deprecated and will be removed from pandas in a future version. Use pandas.concat instead.\n",
      "  user_data = user_data.append(day_data_experiment).append(day_data_control)\n",
      "C:\\Temp\\ipykernel_14108\\3257773315.py:21: FutureWarning: The frame.append method is deprecated and will be removed from pandas in a future version. Use pandas.concat instead.\n",
      "  stat_result = stat_result.append(pd.DataFrame({'t': [fit[0]], 'p': [fit[1]], 'date': current_date}))\n",
      "C:\\Temp\\ipykernel_14108\\3257773315.py:27: FutureWarning: The frame.append method is deprecated and will be removed from pandas in a future version. Use pandas.concat instead.\n",
      "  daily_data = daily_data.append(current_data_stat)\n",
      "C:\\Temp\\ipykernel_14108\\3257773315.py:15: FutureWarning: The frame.append method is deprecated and will be removed from pandas in a future version. Use pandas.concat instead.\n",
      "  user_data = user_data.append(day_data_experiment).append(day_data_control)\n",
      "C:\\Temp\\ipykernel_14108\\3257773315.py:15: FutureWarning: The frame.append method is deprecated and will be removed from pandas in a future version. Use pandas.concat instead.\n",
      "  user_data = user_data.append(day_data_experiment).append(day_data_control)\n",
      "C:\\Temp\\ipykernel_14108\\3257773315.py:21: FutureWarning: The frame.append method is deprecated and will be removed from pandas in a future version. Use pandas.concat instead.\n",
      "  stat_result = stat_result.append(pd.DataFrame({'t': [fit[0]], 'p': [fit[1]], 'date': current_date}))\n",
      "C:\\Temp\\ipykernel_14108\\3257773315.py:27: FutureWarning: The frame.append method is deprecated and will be removed from pandas in a future version. Use pandas.concat instead.\n",
      "  daily_data = daily_data.append(current_data_stat)\n",
      "C:\\Temp\\ipykernel_14108\\3257773315.py:15: FutureWarning: The frame.append method is deprecated and will be removed from pandas in a future version. Use pandas.concat instead.\n",
      "  user_data = user_data.append(day_data_experiment).append(day_data_control)\n",
      "C:\\Temp\\ipykernel_14108\\3257773315.py:15: FutureWarning: The frame.append method is deprecated and will be removed from pandas in a future version. Use pandas.concat instead.\n",
      "  user_data = user_data.append(day_data_experiment).append(day_data_control)\n",
      "C:\\Temp\\ipykernel_14108\\3257773315.py:21: FutureWarning: The frame.append method is deprecated and will be removed from pandas in a future version. Use pandas.concat instead.\n",
      "  stat_result = stat_result.append(pd.DataFrame({'t': [fit[0]], 'p': [fit[1]], 'date': current_date}))\n",
      "C:\\Temp\\ipykernel_14108\\3257773315.py:27: FutureWarning: The frame.append method is deprecated and will be removed from pandas in a future version. Use pandas.concat instead.\n",
      "  daily_data = daily_data.append(current_data_stat)\n",
      "C:\\Temp\\ipykernel_14108\\3257773315.py:15: FutureWarning: The frame.append method is deprecated and will be removed from pandas in a future version. Use pandas.concat instead.\n",
      "  user_data = user_data.append(day_data_experiment).append(day_data_control)\n",
      "C:\\Temp\\ipykernel_14108\\3257773315.py:15: FutureWarning: The frame.append method is deprecated and will be removed from pandas in a future version. Use pandas.concat instead.\n",
      "  user_data = user_data.append(day_data_experiment).append(day_data_control)\n",
      "C:\\Temp\\ipykernel_14108\\3257773315.py:21: FutureWarning: The frame.append method is deprecated and will be removed from pandas in a future version. Use pandas.concat instead.\n",
      "  stat_result = stat_result.append(pd.DataFrame({'t': [fit[0]], 'p': [fit[1]], 'date': current_date}))\n",
      "C:\\Temp\\ipykernel_14108\\3257773315.py:27: FutureWarning: The frame.append method is deprecated and will be removed from pandas in a future version. Use pandas.concat instead.\n",
      "  daily_data = daily_data.append(current_data_stat)\n",
      "C:\\Temp\\ipykernel_14108\\3257773315.py:15: FutureWarning: The frame.append method is deprecated and will be removed from pandas in a future version. Use pandas.concat instead.\n",
      "  user_data = user_data.append(day_data_experiment).append(day_data_control)\n",
      "C:\\Temp\\ipykernel_14108\\3257773315.py:15: FutureWarning: The frame.append method is deprecated and will be removed from pandas in a future version. Use pandas.concat instead.\n",
      "  user_data = user_data.append(day_data_experiment).append(day_data_control)\n",
      "C:\\Temp\\ipykernel_14108\\3257773315.py:21: FutureWarning: The frame.append method is deprecated and will be removed from pandas in a future version. Use pandas.concat instead.\n",
      "  stat_result = stat_result.append(pd.DataFrame({'t': [fit[0]], 'p': [fit[1]], 'date': current_date}))\n",
      "C:\\Temp\\ipykernel_14108\\3257773315.py:27: FutureWarning: The frame.append method is deprecated and will be removed from pandas in a future version. Use pandas.concat instead.\n",
      "  daily_data = daily_data.append(current_data_stat)\n",
      "C:\\Temp\\ipykernel_14108\\3257773315.py:15: FutureWarning: The frame.append method is deprecated and will be removed from pandas in a future version. Use pandas.concat instead.\n",
      "  user_data = user_data.append(day_data_experiment).append(day_data_control)\n",
      "C:\\Temp\\ipykernel_14108\\3257773315.py:15: FutureWarning: The frame.append method is deprecated and will be removed from pandas in a future version. Use pandas.concat instead.\n",
      "  user_data = user_data.append(day_data_experiment).append(day_data_control)\n",
      "C:\\Temp\\ipykernel_14108\\3257773315.py:21: FutureWarning: The frame.append method is deprecated and will be removed from pandas in a future version. Use pandas.concat instead.\n",
      "  stat_result = stat_result.append(pd.DataFrame({'t': [fit[0]], 'p': [fit[1]], 'date': current_date}))\n",
      "C:\\Temp\\ipykernel_14108\\3257773315.py:27: FutureWarning: The frame.append method is deprecated and will be removed from pandas in a future version. Use pandas.concat instead.\n",
      "  daily_data = daily_data.append(current_data_stat)\n",
      "C:\\Temp\\ipykernel_14108\\3257773315.py:15: FutureWarning: The frame.append method is deprecated and will be removed from pandas in a future version. Use pandas.concat instead.\n",
      "  user_data = user_data.append(day_data_experiment).append(day_data_control)\n",
      "C:\\Temp\\ipykernel_14108\\3257773315.py:15: FutureWarning: The frame.append method is deprecated and will be removed from pandas in a future version. Use pandas.concat instead.\n",
      "  user_data = user_data.append(day_data_experiment).append(day_data_control)\n",
      "C:\\Temp\\ipykernel_14108\\3257773315.py:21: FutureWarning: The frame.append method is deprecated and will be removed from pandas in a future version. Use pandas.concat instead.\n",
      "  stat_result = stat_result.append(pd.DataFrame({'t': [fit[0]], 'p': [fit[1]], 'date': current_date}))\n",
      "C:\\Temp\\ipykernel_14108\\3257773315.py:27: FutureWarning: The frame.append method is deprecated and will be removed from pandas in a future version. Use pandas.concat instead.\n",
      "  daily_data = daily_data.append(current_data_stat)\n",
      "C:\\Temp\\ipykernel_14108\\3257773315.py:15: FutureWarning: The frame.append method is deprecated and will be removed from pandas in a future version. Use pandas.concat instead.\n",
      "  user_data = user_data.append(day_data_experiment).append(day_data_control)\n",
      "C:\\Temp\\ipykernel_14108\\3257773315.py:15: FutureWarning: The frame.append method is deprecated and will be removed from pandas in a future version. Use pandas.concat instead.\n",
      "  user_data = user_data.append(day_data_experiment).append(day_data_control)\n",
      "C:\\Temp\\ipykernel_14108\\3257773315.py:21: FutureWarning: The frame.append method is deprecated and will be removed from pandas in a future version. Use pandas.concat instead.\n",
      "  stat_result = stat_result.append(pd.DataFrame({'t': [fit[0]], 'p': [fit[1]], 'date': current_date}))\n",
      "C:\\Temp\\ipykernel_14108\\3257773315.py:27: FutureWarning: The frame.append method is deprecated and will be removed from pandas in a future version. Use pandas.concat instead.\n",
      "  daily_data = daily_data.append(current_data_stat)\n",
      "C:\\Temp\\ipykernel_14108\\3257773315.py:15: FutureWarning: The frame.append method is deprecated and will be removed from pandas in a future version. Use pandas.concat instead.\n",
      "  user_data = user_data.append(day_data_experiment).append(day_data_control)\n",
      "C:\\Temp\\ipykernel_14108\\3257773315.py:15: FutureWarning: The frame.append method is deprecated and will be removed from pandas in a future version. Use pandas.concat instead.\n",
      "  user_data = user_data.append(day_data_experiment).append(day_data_control)\n",
      "C:\\Temp\\ipykernel_14108\\3257773315.py:21: FutureWarning: The frame.append method is deprecated and will be removed from pandas in a future version. Use pandas.concat instead.\n",
      "  stat_result = stat_result.append(pd.DataFrame({'t': [fit[0]], 'p': [fit[1]], 'date': current_date}))\n",
      "C:\\Temp\\ipykernel_14108\\3257773315.py:27: FutureWarning: The frame.append method is deprecated and will be removed from pandas in a future version. Use pandas.concat instead.\n",
      "  daily_data = daily_data.append(current_data_stat)\n",
      "C:\\Temp\\ipykernel_14108\\3257773315.py:15: FutureWarning: The frame.append method is deprecated and will be removed from pandas in a future version. Use pandas.concat instead.\n",
      "  user_data = user_data.append(day_data_experiment).append(day_data_control)\n",
      "C:\\Temp\\ipykernel_14108\\3257773315.py:15: FutureWarning: The frame.append method is deprecated and will be removed from pandas in a future version. Use pandas.concat instead.\n",
      "  user_data = user_data.append(day_data_experiment).append(day_data_control)\n",
      "C:\\Temp\\ipykernel_14108\\3257773315.py:21: FutureWarning: The frame.append method is deprecated and will be removed from pandas in a future version. Use pandas.concat instead.\n",
      "  stat_result = stat_result.append(pd.DataFrame({'t': [fit[0]], 'p': [fit[1]], 'date': current_date}))\n",
      "C:\\Temp\\ipykernel_14108\\3257773315.py:27: FutureWarning: The frame.append method is deprecated and will be removed from pandas in a future version. Use pandas.concat instead.\n",
      "  daily_data = daily_data.append(current_data_stat)\n",
      "C:\\Temp\\ipykernel_14108\\3257773315.py:15: FutureWarning: The frame.append method is deprecated and will be removed from pandas in a future version. Use pandas.concat instead.\n",
      "  user_data = user_data.append(day_data_experiment).append(day_data_control)\n",
      "C:\\Temp\\ipykernel_14108\\3257773315.py:15: FutureWarning: The frame.append method is deprecated and will be removed from pandas in a future version. Use pandas.concat instead.\n",
      "  user_data = user_data.append(day_data_experiment).append(day_data_control)\n",
      "C:\\Temp\\ipykernel_14108\\3257773315.py:21: FutureWarning: The frame.append method is deprecated and will be removed from pandas in a future version. Use pandas.concat instead.\n",
      "  stat_result = stat_result.append(pd.DataFrame({'t': [fit[0]], 'p': [fit[1]], 'date': current_date}))\n",
      "C:\\Temp\\ipykernel_14108\\3257773315.py:27: FutureWarning: The frame.append method is deprecated and will be removed from pandas in a future version. Use pandas.concat instead.\n",
      "  daily_data = daily_data.append(current_data_stat)\n",
      "C:\\Temp\\ipykernel_14108\\3257773315.py:15: FutureWarning: The frame.append method is deprecated and will be removed from pandas in a future version. Use pandas.concat instead.\n",
      "  user_data = user_data.append(day_data_experiment).append(day_data_control)\n",
      "C:\\Temp\\ipykernel_14108\\3257773315.py:15: FutureWarning: The frame.append method is deprecated and will be removed from pandas in a future version. Use pandas.concat instead.\n",
      "  user_data = user_data.append(day_data_experiment).append(day_data_control)\n",
      "C:\\Temp\\ipykernel_14108\\3257773315.py:21: FutureWarning: The frame.append method is deprecated and will be removed from pandas in a future version. Use pandas.concat instead.\n",
      "  stat_result = stat_result.append(pd.DataFrame({'t': [fit[0]], 'p': [fit[1]], 'date': current_date}))\n",
      "C:\\Temp\\ipykernel_14108\\3257773315.py:27: FutureWarning: The frame.append method is deprecated and will be removed from pandas in a future version. Use pandas.concat instead.\n",
      "  daily_data = daily_data.append(current_data_stat)\n"
     ]
    }
   ],
   "source": [
    "for day in range(days):\n",
    "    daily_data_control = np.random.normal(mu_control, sigma_control, n_control)\n",
    "    daily_data_experiment = np.random.normal(mu_experiment, sigma_experiment, n_experiment)\n",
    "    \n",
    "    day_data_control = pd.DataFrame({'value': daily_data_control})\n",
    "    day_data_control['date'] = current_date\n",
    "    day_data_control['group'] = 'control'\n",
    "\n",
    "    \n",
    "    day_data_experiment = pd.DataFrame({'value': daily_data_experiment})\n",
    "    day_data_experiment['date'] = current_date\n",
    "    day_data_experiment['group'] = 'experiment'\n",
    "\n",
    "    \n",
    "    user_data = user_data.append(day_data_experiment).append(day_data_control)\n",
    "    #print(user_data.head())\n",
    "    fit = stats.ttest_ind(user_data[user_data.group == 'experiment'].value, \n",
    "                          user_data[user_data.group == 'control'].value)\n",
    "\n",
    "    \n",
    "    stat_result = stat_result.append(pd.DataFrame({'t': [fit[0]], 'p': [fit[1]], 'date': current_date}))\n",
    "    \n",
    "    \n",
    "    current_data_stat = user_data.groupby(['group'], as_index=False).agg({'value': 'mean'})\n",
    "    current_data_stat['date'] = current_date\n",
    "    \n",
    "    daily_data = daily_data.append(current_data_stat)\n",
    "    \n",
    "    current_date += 1\n"
   ]
  },
  {
   "cell_type": "code",
   "execution_count": 126,
   "outputs": [
    {
     "data": {
      "text/plain": "        group       value  date\n0     control   99.368060     1\n1  experiment  100.554967     1\n0     control   99.624695     2\n1  experiment  100.369891     2\n0     control   99.886037     3\n1  experiment   99.969441     3\n0     control   99.727938     4\n1  experiment  100.007502     4\n0     control   99.952633     5\n1  experiment  100.089820     5",
      "text/html": "<div>\n<style scoped>\n    .dataframe tbody tr th:only-of-type {\n        vertical-align: middle;\n    }\n\n    .dataframe tbody tr th {\n        vertical-align: top;\n    }\n\n    .dataframe thead th {\n        text-align: right;\n    }\n</style>\n<table border=\"1\" class=\"dataframe\">\n  <thead>\n    <tr style=\"text-align: right;\">\n      <th></th>\n      <th>group</th>\n      <th>value</th>\n      <th>date</th>\n    </tr>\n  </thead>\n  <tbody>\n    <tr>\n      <th>0</th>\n      <td>control</td>\n      <td>99.368060</td>\n      <td>1</td>\n    </tr>\n    <tr>\n      <th>1</th>\n      <td>experiment</td>\n      <td>100.554967</td>\n      <td>1</td>\n    </tr>\n    <tr>\n      <th>0</th>\n      <td>control</td>\n      <td>99.624695</td>\n      <td>2</td>\n    </tr>\n    <tr>\n      <th>1</th>\n      <td>experiment</td>\n      <td>100.369891</td>\n      <td>2</td>\n    </tr>\n    <tr>\n      <th>0</th>\n      <td>control</td>\n      <td>99.886037</td>\n      <td>3</td>\n    </tr>\n    <tr>\n      <th>1</th>\n      <td>experiment</td>\n      <td>99.969441</td>\n      <td>3</td>\n    </tr>\n    <tr>\n      <th>0</th>\n      <td>control</td>\n      <td>99.727938</td>\n      <td>4</td>\n    </tr>\n    <tr>\n      <th>1</th>\n      <td>experiment</td>\n      <td>100.007502</td>\n      <td>4</td>\n    </tr>\n    <tr>\n      <th>0</th>\n      <td>control</td>\n      <td>99.952633</td>\n      <td>5</td>\n    </tr>\n    <tr>\n      <th>1</th>\n      <td>experiment</td>\n      <td>100.089820</td>\n      <td>5</td>\n    </tr>\n  </tbody>\n</table>\n</div>"
     },
     "execution_count": 126,
     "metadata": {},
     "output_type": "execute_result"
    }
   ],
   "source": [
    "daily_data.head(10)"
   ],
   "metadata": {
    "collapsed": false,
    "pycharm": {
     "name": "#%%\n"
    }
   }
  },
  {
   "cell_type": "code",
   "execution_count": 127,
   "outputs": [],
   "source": [
    "daily_data = daily_data.reset_index(drop=True)"
   ],
   "metadata": {
    "collapsed": false,
    "pycharm": {
     "name": "#%%\n"
    }
   }
  },
  {
   "cell_type": "code",
   "execution_count": 128,
   "metadata": {
    "pycharm": {
     "name": "#%%\n"
    }
   },
   "outputs": [
    {
     "data": {
      "text/plain": "<Figure size 432x288 with 1 Axes>",
      "image/png": "[encoded data removed]"
     },
     "metadata": {
      "needs_background": "light"
     },
     "output_type": "display_data"
    }
   ],
   "source": [
    "ax = sns.lineplot(data=daily_data, x=\"date\", y=\"value\", hue='group')"
   ]
  },
  {
   "cell_type": "code",
   "execution_count": 129,
   "metadata": {
    "pycharm": {
     "name": "#%%\n"
    }
   },
   "outputs": [
    {
     "data": {
      "text/plain": "<matplotlib.lines.Line2D at 0x1c4792b1de0>"
     },
     "execution_count": 129,
     "metadata": {},
     "output_type": "execute_result"
    },
    {
     "data": {
      "text/plain": "<Figure size 432x288 with 1 Axes>",
      "image/png": "[encoded data removed]"
     },
     "metadata": {
      "needs_background": "light"
     },
     "output_type": "display_data"
    }
   ],
   "source": [
    "ax = sns.lineplot(data=stat_result.reset_index(drop=True), x=\"date\", y=\"p\")\n",
    "ax.axhline(0.05, ls='--', color='red')"
   ]
  },
  {
   "cell_type": "code",
   "execution_count": 130,
   "metadata": {
    "pycharm": {
     "name": "#%%\n"
    }
   },
   "outputs": [
    {
     "ename": "NameError",
     "evalue": "name 'MDE' is not defined",
     "output_type": "error",
     "traceback": [
      "\u001B[1;31m---------------------------------------------------------------------------\u001B[0m",
      "\u001B[1;31mNameError\u001B[0m                                 Traceback (most recent call last)",
      "Input \u001B[1;32mIn [130]\u001B[0m, in \u001B[0;36m<cell line: 1>\u001B[1;34m()\u001B[0m\n\u001B[1;32m----> 1\u001B[0m \u001B[43mMDE\u001B[49m\n",
      "\u001B[1;31mNameError\u001B[0m: name 'MDE' is not defined"
     ]
    }
   ],
   "source": [
    "MDE"
   ]
  }
 ],
 "metadata": {
  "kernelspec": {
   "display_name": "Python 3",
   "language": "python",
   "name": "python3"
  },
  "language_info": {
   "codemirror_mode": {
    "name": "ipython",
    "version": 3
   },
   "file_extension": ".py",
   "mimetype": "text/x-python",
   "name": "python",
   "nbconvert_exporter": "python",
   "pygments_lexer": "ipython3",
   "version": "3.7.4"
  }
 },
 "nbformat": 4,
 "nbformat_minor": 2
}
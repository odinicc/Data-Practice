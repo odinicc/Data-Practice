{
 "cells": [
  {
   "cell_type": "code",
   "execution_count": 1,
   "metadata": {
    "collapsed": true,
    "pycharm": {
     "name": "#%%\n"
    }
   },
   "outputs": [],
   "source": [
    "import pandas as pd\n",
    "import sklearn.neighbors._base\n",
    "import sys\n",
    "sys.modules['sklearn.neighbors.base'] = sklearn.neighbors._base"
   ]
  },
  {
   "cell_type": "code",
   "execution_count": 2,
   "outputs": [],
   "source": [
    "# Standard\n",
    "import pandas as pd\n",
    "import numpy as np\n",
    "import os\n",
    "# Pycaret\n",
    "from pycaret.classification import *\n",
    "# Plots\n",
    "from plotly.offline import iplot\n",
    "import plotly.graph_objects as go\n",
    "from plotly.subplots import make_subplots\n",
    "import seaborn as sns\n",
    "# Sklearn tools\n",
    "from sklearn.preprocessing import LabelEncoder\n",
    "from sklearn.metrics import *\n",
    "# Extras\n",
    "from datetime import date\n",
    "import warnings\n",
    "warnings.filterwarnings(\"ignore\")\n",
    "import seaborn as sns\n",
    "import pycaret\n",
    "\n",
    "from sklearn.impute import SimpleImputer\n",
    "\n",
    "from sklearn.experimental import enable_iterative_imputer\n",
    "from sklearn.impute import IterativeImputer"
   ],
   "metadata": {
    "collapsed": false,
    "pycharm": {
     "name": "#%%\n"
    }
   }
  },
  {
   "cell_type": "code",
   "execution_count": 4,
   "outputs": [],
   "source": [
    "df_train = pd.read_csv('df_c_train.csv')"
   ],
   "metadata": {
    "collapsed": false,
    "pycharm": {
     "name": "#%%\n"
    }
   }
  },
  {
   "cell_type": "code",
   "execution_count": 6,
   "outputs": [
    {
     "data": {
      "text/plain": "          id  last_date_of_month_7  last_date_of_month_8   arpu_6   arpu_7  \\\n0          0                     1                     1   31.277   87.009   \n1          1                     1                     1    0.000  122.787   \n2          2                     1                     1   60.806  103.176   \n3          3                     1                     1  156.362  205.260   \n4          4                     1                     1  240.708  128.191   \n...      ...                   ...                   ...      ...      ...   \n69994  69994                     1                     1   15.760  410.924   \n69995  69995                     1                     1  160.083  289.129   \n69996  69996                     1                     1  372.088  258.374   \n69997  69997                     1                     1  238.575  245.414   \n69998  69998                     1                     1  168.269   42.815   \n\n        arpu_8  onnet_mou_6  onnet_mou_7  onnet_mou_8  offnet_mou_6  ...  \\\n0        7.527        48.58       124.38         1.29         32.24  ...   \n1       42.953         0.00         0.00         0.00          0.00  ...   \n2        0.000         0.53        15.93         0.00         53.99  ...   \n3      111.095         7.26        16.01         0.00         68.76  ...   \n4      101.565        21.28         4.83         6.13         56.99  ...   \n...        ...          ...          ...          ...           ...  ...   \n69994  329.136         0.00         7.36        10.93          0.00  ...   \n69995  265.772       116.54       196.46       232.63         49.53  ...   \n69996  279.782        77.13        68.44        78.44        335.54  ...   \n69997  145.062        14.01         7.64         6.71         30.34  ...   \n69998  167.961         0.00         0.00         0.00          0.00  ...   \n\n       monthly_3g_7  monthly_3g_8  sachet_3g_6  sachet_3g_7  sachet_3g_8  \\\n0                 0             0            0            0            0   \n1                 1             0            0            0            0   \n2                 0             0            0            0            0   \n3                 0             0            0            0            0   \n4                 0             0            0            1            0   \n...             ...           ...          ...          ...          ...   \n69994             0             0            0            1            0   \n69995             0             0            0            0            0   \n69996             0             0            0            0            0   \n69997             1             1            0            0            0   \n69998             0             0            0            0            0   \n\n        aon  aug_vbc_3g  jul_vbc_3g  jun_vbc_3g  churn_probability  \n0      1958        0.00        0.00        0.00                  0  \n1       710        0.00        0.00        0.00                  0  \n2       882        0.00        0.00        0.00                  0  \n3       982        0.00        0.00        0.00                  0  \n4       647        0.00        0.00        0.00                  0  \n...     ...         ...         ...         ...                ...  \n69994   221        0.00        0.00        0.00                  0  \n69995   712        0.00        0.00        0.00                  0  \n69996   879        0.00        0.00        0.00                  0  \n69997   277      664.25     1402.96      990.97                  0  \n69998  1876        0.00        0.00        0.00                  0  \n\n[69999 rows x 129 columns]",
      "text/html": "<div>\n<style scoped>\n    .dataframe tbody tr th:only-of-type {\n        vertical-align: middle;\n    }\n\n    .dataframe tbody tr th {\n        vertical-align: top;\n    }\n\n    .dataframe thead th {\n        text-align: right;\n    }\n</style>\n<table border=\"1\" class=\"dataframe\">\n  <thead>\n    <tr style=\"text-align: right;\">\n      <th></th>\n      <th>id</th>\n      <th>last_date_of_month_7</th>\n      <th>last_date_of_month_8</th>\n      <th>arpu_6</th>\n      <th>arpu_7</th>\n      <th>arpu_8</th>\n      <th>onnet_mou_6</th>\n      <th>onnet_mou_7</th>\n      <th>onnet_mou_8</th>\n      <th>offnet_mou_6</th>\n      <th>...</th>\n      <th>monthly_3g_7</th>\n      <th>monthly_3g_8</th>\n      <th>sachet_3g_6</th>\n      <th>sachet_3g_7</th>\n      <th>sachet_3g_8</th>\n      <th>aon</th>\n      <th>aug_vbc_3g</th>\n      <th>jul_vbc_3g</th>\n      <th>jun_vbc_3g</th>\n      <th>churn_probability</th>\n    </tr>\n  </thead>\n  <tbody>\n    <tr>\n      <th>0</th>\n      <td>0</td>\n      <td>1</td>\n      <td>1</td>\n      <td>31.277</td>\n      <td>87.009</td>\n      <td>7.527</td>\n      <td>48.58</td>\n      <td>124.38</td>\n      <td>1.29</td>\n      <td>32.24</td>\n      <td>...</td>\n      <td>0</td>\n      <td>0</td>\n      <td>0</td>\n      <td>0</td>\n      <td>0</td>\n      <td>1958</td>\n      <td>0.00</td>\n      <td>0.00</td>\n      <td>0.00</td>\n      <td>0</td>\n    </tr>\n    <tr>\n      <th>1</th>\n      <td>1</td>\n      <td>1</td>\n      <td>1</td>\n      <td>0.000</td>\n      <td>122.787</td>\n      <td>42.953</td>\n      <td>0.00</td>\n      <td>0.00</td>\n      <td>0.00</td>\n      <td>0.00</td>\n      <td>...</td>\n      <td>1</td>\n      <td>0</td>\n      <td>0</td>\n      <td>0</td>\n      <td>0</td>\n      <td>710</td>\n      <td>0.00</td>\n      <td>0.00</td>\n      <td>0.00</td>\n      <td>0</td>\n    </tr>\n    <tr>\n      <th>2</th>\n      <td>2</td>\n      <td>1</td>\n      <td>1</td>\n      <td>60.806</td>\n      <td>103.176</td>\n      <td>0.000</td>\n      <td>0.53</td>\n      <td>15.93</td>\n      <td>0.00</td>\n      <td>53.99</td>\n      <td>...</td>\n      <td>0</td>\n      <td>0</td>\n      <td>0</td>\n      <td>0</td>\n      <td>0</td>\n      <td>882</td>\n      <td>0.00</td>\n      <td>0.00</td>\n      <td>0.00</td>\n      <td>0</td>\n    </tr>\n    <tr>\n      <th>3</th>\n      <td>3</td>\n      <td>1</td>\n      <td>1</td>\n      <td>156.362</td>\n      <td>205.260</td>\n      <td>111.095</td>\n      <td>7.26</td>\n      <td>16.01</td>\n      <td>0.00</td>\n      <td>68.76</td>\n      <td>...</td>\n      <td>0</td>\n      <td>0</td>\n      <td>0</td>\n      <td>0</td>\n      <td>0</td>\n      <td>982</td>\n      <td>0.00</td>\n      <td>0.00</td>\n      <td>0.00</td>\n      <td>0</td>\n    </tr>\n    <tr>\n      <th>4</th>\n      <td>4</td>\n      <td>1</td>\n      <td>1</td>\n      <td>240.708</td>\n      <td>128.191</td>\n      <td>101.565</td>\n      <td>21.28</td>\n      <td>4.83</td>\n      <td>6.13</td>\n      <td>56.99</td>\n      <td>...</td>\n      <td>0</td>\n      <td>0</td>\n      <td>0</td>\n      <td>1</td>\n      <td>0</td>\n      <td>647</td>\n      <td>0.00</td>\n      <td>0.00</td>\n      <td>0.00</td>\n      <td>0</td>\n    </tr>\n    <tr>\n      <th>...</th>\n      <td>...</td>\n      <td>...</td>\n      <td>...</td>\n      <td>...</td>\n      <td>...</td>\n      <td>...</td>\n      <td>...</td>\n      <td>...</td>\n      <td>...</td>\n      <td>...</td>\n      <td>...</td>\n      <td>...</td>\n      <td>...</td>\n      <td>...</td>\n      <td>...</td>\n      <td>...</td>\n      <td>...</td>\n      <td>...</td>\n      <td>...</td>\n      <td>...</td>\n      <td>...</td>\n    </tr>\n    <tr>\n      <th>69994</th>\n      <td>69994</td>\n      <td>1</td>\n      <td>1</td>\n      <td>15.760</td>\n      <td>410.924</td>\n      <td>329.136</td>\n      <td>0.00</td>\n      <td>7.36</td>\n      <td>10.93</td>\n      <td>0.00</td>\n      <td>...</td>\n      <td>0</td>\n      <td>0</td>\n      <td>0</td>\n      <td>1</td>\n      <td>0</td>\n      <td>221</td>\n      <td>0.00</td>\n      <td>0.00</td>\n      <td>0.00</td>\n      <td>0</td>\n    </tr>\n    <tr>\n      <th>69995</th>\n      <td>69995</td>\n      <td>1</td>\n      <td>1</td>\n      <td>160.083</td>\n      <td>289.129</td>\n      <td>265.772</td>\n      <td>116.54</td>\n      <td>196.46</td>\n      <td>232.63</td>\n      <td>49.53</td>\n      <td>...</td>\n      <td>0</td>\n      <td>0</td>\n      <td>0</td>\n      <td>0</td>\n      <td>0</td>\n      <td>712</td>\n      <td>0.00</td>\n      <td>0.00</td>\n      <td>0.00</td>\n      <td>0</td>\n    </tr>\n    <tr>\n      <th>69996</th>\n      <td>69996</td>\n      <td>1</td>\n      <td>1</td>\n      <td>372.088</td>\n      <td>258.374</td>\n      <td>279.782</td>\n      <td>77.13</td>\n      <td>68.44</td>\n      <td>78.44</td>\n      <td>335.54</td>\n      <td>...</td>\n      <td>0</td>\n      <td>0</td>\n      <td>0</td>\n      <td>0</td>\n      <td>0</td>\n      <td>879</td>\n      <td>0.00</td>\n      <td>0.00</td>\n      <td>0.00</td>\n      <td>0</td>\n    </tr>\n    <tr>\n      <th>69997</th>\n      <td>69997</td>\n      <td>1</td>\n      <td>1</td>\n      <td>238.575</td>\n      <td>245.414</td>\n      <td>145.062</td>\n      <td>14.01</td>\n      <td>7.64</td>\n      <td>6.71</td>\n      <td>30.34</td>\n      <td>...</td>\n      <td>1</td>\n      <td>1</td>\n      <td>0</td>\n      <td>0</td>\n      <td>0</td>\n      <td>277</td>\n      <td>664.25</td>\n      <td>1402.96</td>\n      <td>990.97</td>\n      <td>0</td>\n    </tr>\n    <tr>\n      <th>69998</th>\n      <td>69998</td>\n      <td>1</td>\n      <td>1</td>\n      <td>168.269</td>\n      <td>42.815</td>\n      <td>167.961</td>\n      <td>0.00</td>\n      <td>0.00</td>\n      <td>0.00</td>\n      <td>0.00</td>\n      <td>...</td>\n      <td>0</td>\n      <td>0</td>\n      <td>0</td>\n      <td>0</td>\n      <td>0</td>\n      <td>1876</td>\n      <td>0.00</td>\n      <td>0.00</td>\n      <td>0.00</td>\n      <td>0</td>\n    </tr>\n  </tbody>\n</table>\n<p>69999 rows × 129 columns</p>\n</div>"
     },
     "execution_count": 6,
     "metadata": {},
     "output_type": "execute_result"
    }
   ],
   "source": [
    "df_train"
   ],
   "metadata": {
    "collapsed": false,
    "pycharm": {
     "name": "#%%\n"
    }
   }
  },
  {
   "cell_type": "code",
   "execution_count": 5,
   "outputs": [],
   "source": [
    "df_test = pd.read_csv('df_c_test.csv')"
   ],
   "metadata": {
    "collapsed": false,
    "pycharm": {
     "name": "#%%\n"
    }
   }
  },
  {
   "cell_type": "code",
   "execution_count": 9,
   "outputs": [
    {
     "name": "stdout",
     "output_type": "stream",
     "text": [
      "[LightGBM] [Info] Number of positive: 44007, number of negative: 44007\n",
      "[LightGBM] [Info] Auto-choosing row-wise multi-threading, the overhead of testing was 0.017340 seconds.\n",
      "You can set `force_row_wise=true` to remove the overhead.\n",
      "And if memory is not enough, you can set `force_col_wise=true`.\n",
      "[LightGBM] [Info] Total Bins 31359\n",
      "[LightGBM] [Info] Number of data points in the train set: 88014, number of used features: 123\n",
      "[LightGBM] [Info] [binary:BoostFromScore]: pavg=0.500000 -> initscore=0.000000\n"
     ]
    },
    {
     "data": {
      "text/plain": "<IPython.core.display.HTML object>",
      "text/html": ""
     },
     "metadata": {},
     "output_type": "display_data"
    }
   ],
   "source": [
    "clf1= setup(data = df_train, target = 'churn_probability' ,fix_imbalance = True,feature_selection = True,remove_multicollinearity = True)"
   ],
   "metadata": {
    "collapsed": false,
    "pycharm": {
     "name": "#%%\n"
    }
   }
  },
  {
   "cell_type": "code",
   "execution_count": 16,
   "outputs": [
    {
     "data": {
      "text/plain": "                                                                    \n                                                                    \nInitiated  . . . . . . . . . . . . . . . . . .              02:26:55\nStatus     . . . . . . . . . . . . . . . . . .  Loading Dependencies\nEstimator  . . . . . . . . . . . . . . . . . .     Compiling Library",
      "text/html": "<div>\n<style scoped>\n    .dataframe tbody tr th:only-of-type {\n        vertical-align: middle;\n    }\n\n    .dataframe tbody tr th {\n        vertical-align: top;\n    }\n\n    .dataframe thead th {\n        text-align: right;\n    }\n</style>\n<table border=\"1\" class=\"dataframe\">\n  <thead>\n    <tr style=\"text-align: right;\">\n      <th></th>\n      <th></th>\n      <th></th>\n    </tr>\n    <tr>\n      <th></th>\n      <th></th>\n      <th></th>\n    </tr>\n  </thead>\n  <tbody>\n    <tr>\n      <th>Initiated</th>\n      <td>. . . . . . . . . . . . . . . . . .</td>\n      <td>02:26:55</td>\n    </tr>\n    <tr>\n      <th>Status</th>\n      <td>. . . . . . . . . . . . . . . . . .</td>\n      <td>Loading Dependencies</td>\n    </tr>\n    <tr>\n      <th>Estimator</th>\n      <td>. . . . . . . . . . . . . . . . . .</td>\n      <td>Compiling Library</td>\n    </tr>\n  </tbody>\n</table>\n</div>"
     },
     "metadata": {},
     "output_type": "display_data"
    },
    {
     "data": {
      "text/plain": "<IPython.core.display.HTML object>",
      "text/html": ""
     },
     "metadata": {},
     "output_type": "display_data"
    },
    {
     "data": {
      "text/plain": "Processing:   0%|          | 0/69 [00:00<?, ?it/s]",
      "application/vnd.jupyter.widget-view+json": {
       "version_major": 2,
       "version_minor": 0,
       "model_id": "8c6f6f7b0e76464fbf4a13b86fbd817c"
      }
     },
     "metadata": {},
     "output_type": "display_data"
    }
   ],
   "source": [
    "top5 = compare_models(n_select = 5,sort=\"Accuracy\")"
   ],
   "metadata": {
    "collapsed": false,
    "pycharm": {
     "name": "#%%\n"
    }
   }
  },
  {
   "cell_type": "code",
   "execution_count": 17,
   "outputs": [
    {
     "data": {
      "text/plain": "                                    Model  Accuracy     AUC  Recall   Prec.  \\\ncatboost              CatBoost Classifier    0.9408  0.9372  0.6450  0.7403   \nlightgbm  Light Gradient Boosting Machine    0.9370  0.9332  0.6482  0.7085   \net                 Extra Trees Classifier    0.9321  0.9299  0.6847  0.6611   \nrf               Random Forest Classifier    0.9297  0.9284  0.7005  0.6425   \ngbc          Gradient Boosting Classifier    0.9224  0.9240  0.7045  0.6023   \nada                  Ada Boost Classifier    0.9038  0.9101  0.7063  0.5207   \ndummy                    Dummy Classifier    0.8981  0.5000  0.0000  0.0000   \ndt               Decision Tree Classifier    0.8869  0.7711  0.6258  0.4596   \nlda          Linear Discriminant Analysis    0.8856  0.8901  0.7230  0.4609   \nridge                    Ridge Classifier    0.8850  0.0000  0.7232  0.4591   \nlr                    Logistic Regression    0.8777  0.8996  0.7797  0.4460   \nknn                K Neighbors Classifier    0.8212  0.8272  0.7021  0.3314   \nsvm                   SVM - Linear Kernel    0.7729  0.0000  0.7076  0.3956   \nnb                            Naive Bayes    0.5501  0.8544  0.8968  0.1726   \nqda       Quadratic Discriminant Analysis    0.5216  0.8604  0.9057  0.1646   \n\n              F1   Kappa     MCC  TT (Sec)  \ncatboost  0.6893  0.6567  0.6587    16.631  \nlightgbm  0.6769  0.6420  0.6429     3.943  \net        0.6725  0.6347  0.6349     6.686  \nrf        0.6701  0.6309  0.6317    11.633  \ngbc       0.6493  0.6060  0.6084    19.883  \nada       0.5994  0.5462  0.5544     6.875  \ndummy     0.0000  0.0000  0.0000     3.315  \ndt        0.5298  0.4672  0.4745     3.641  \nlda       0.5628  0.5006  0.5176     3.173  \nridge     0.5616  0.4992  0.5163     3.320  \nlr        0.5661  0.5013  0.5286     6.058  \nknn       0.4490  0.3598  0.3958     4.976  \nsvm       0.4344  0.3440  0.3998     4.493  \nnb        0.2894  0.1429  0.2475     3.185  \nqda       0.2786  0.1283  0.2340     3.440  ",
      "text/html": "<div>\n<style scoped>\n    .dataframe tbody tr th:only-of-type {\n        vertical-align: middle;\n    }\n\n    .dataframe tbody tr th {\n        vertical-align: top;\n    }\n\n    .dataframe thead th {\n        text-align: right;\n    }\n</style>\n<table border=\"1\" class=\"dataframe\">\n  <thead>\n    <tr style=\"text-align: right;\">\n      <th></th>\n      <th>Model</th>\n      <th>Accuracy</th>\n      <th>AUC</th>\n      <th>Recall</th>\n      <th>Prec.</th>\n      <th>F1</th>\n      <th>Kappa</th>\n      <th>MCC</th>\n      <th>TT (Sec)</th>\n    </tr>\n  </thead>\n  <tbody>\n    <tr>\n      <th>catboost</th>\n      <td>CatBoost Classifier</td>\n      <td>0.9408</td>\n      <td>0.9372</td>\n      <td>0.6450</td>\n      <td>0.7403</td>\n      <td>0.6893</td>\n      <td>0.6567</td>\n      <td>0.6587</td>\n      <td>16.631</td>\n    </tr>\n    <tr>\n      <th>lightgbm</th>\n      <td>Light Gradient Boosting Machine</td>\n      <td>0.9370</td>\n      <td>0.9332</td>\n      <td>0.6482</td>\n      <td>0.7085</td>\n      <td>0.6769</td>\n      <td>0.6420</td>\n      <td>0.6429</td>\n      <td>3.943</td>\n    </tr>\n    <tr>\n      <th>et</th>\n      <td>Extra Trees Classifier</td>\n      <td>0.9321</td>\n      <td>0.9299</td>\n      <td>0.6847</td>\n      <td>0.6611</td>\n      <td>0.6725</td>\n      <td>0.6347</td>\n      <td>0.6349</td>\n      <td>6.686</td>\n    </tr>\n    <tr>\n      <th>rf</th>\n      <td>Random Forest Classifier</td>\n      <td>0.9297</td>\n      <td>0.9284</td>\n      <td>0.7005</td>\n      <td>0.6425</td>\n      <td>0.6701</td>\n      <td>0.6309</td>\n      <td>0.6317</td>\n      <td>11.633</td>\n    </tr>\n    <tr>\n      <th>gbc</th>\n      <td>Gradient Boosting Classifier</td>\n      <td>0.9224</td>\n      <td>0.9240</td>\n      <td>0.7045</td>\n      <td>0.6023</td>\n      <td>0.6493</td>\n      <td>0.6060</td>\n      <td>0.6084</td>\n      <td>19.883</td>\n    </tr>\n    <tr>\n      <th>ada</th>\n      <td>Ada Boost Classifier</td>\n      <td>0.9038</td>\n      <td>0.9101</td>\n      <td>0.7063</td>\n      <td>0.5207</td>\n      <td>0.5994</td>\n      <td>0.5462</td>\n      <td>0.5544</td>\n      <td>6.875</td>\n    </tr>\n    <tr>\n      <th>dummy</th>\n      <td>Dummy Classifier</td>\n      <td>0.8981</td>\n      <td>0.5000</td>\n      <td>0.0000</td>\n      <td>0.0000</td>\n      <td>0.0000</td>\n      <td>0.0000</td>\n      <td>0.0000</td>\n      <td>3.315</td>\n    </tr>\n    <tr>\n      <th>dt</th>\n      <td>Decision Tree Classifier</td>\n      <td>0.8869</td>\n      <td>0.7711</td>\n      <td>0.6258</td>\n      <td>0.4596</td>\n      <td>0.5298</td>\n      <td>0.4672</td>\n      <td>0.4745</td>\n      <td>3.641</td>\n    </tr>\n    <tr>\n      <th>lda</th>\n      <td>Linear Discriminant Analysis</td>\n      <td>0.8856</td>\n      <td>0.8901</td>\n      <td>0.7230</td>\n      <td>0.4609</td>\n      <td>0.5628</td>\n      <td>0.5006</td>\n      <td>0.5176</td>\n      <td>3.173</td>\n    </tr>\n    <tr>\n      <th>ridge</th>\n      <td>Ridge Classifier</td>\n      <td>0.8850</td>\n      <td>0.0000</td>\n      <td>0.7232</td>\n      <td>0.4591</td>\n      <td>0.5616</td>\n      <td>0.4992</td>\n      <td>0.5163</td>\n      <td>3.320</td>\n    </tr>\n    <tr>\n      <th>lr</th>\n      <td>Logistic Regression</td>\n      <td>0.8777</td>\n      <td>0.8996</td>\n      <td>0.7797</td>\n      <td>0.4460</td>\n      <td>0.5661</td>\n      <td>0.5013</td>\n      <td>0.5286</td>\n      <td>6.058</td>\n    </tr>\n    <tr>\n      <th>knn</th>\n      <td>K Neighbors Classifier</td>\n      <td>0.8212</td>\n      <td>0.8272</td>\n      <td>0.7021</td>\n      <td>0.3314</td>\n      <td>0.4490</td>\n      <td>0.3598</td>\n      <td>0.3958</td>\n      <td>4.976</td>\n    </tr>\n    <tr>\n      <th>svm</th>\n      <td>SVM - Linear Kernel</td>\n      <td>0.7729</td>\n      <td>0.0000</td>\n      <td>0.7076</td>\n      <td>0.3956</td>\n      <td>0.4344</td>\n      <td>0.3440</td>\n      <td>0.3998</td>\n      <td>4.493</td>\n    </tr>\n    <tr>\n      <th>nb</th>\n      <td>Naive Bayes</td>\n      <td>0.5501</td>\n      <td>0.8544</td>\n      <td>0.8968</td>\n      <td>0.1726</td>\n      <td>0.2894</td>\n      <td>0.1429</td>\n      <td>0.2475</td>\n      <td>3.185</td>\n    </tr>\n    <tr>\n      <th>qda</th>\n      <td>Quadratic Discriminant Analysis</td>\n      <td>0.5216</td>\n      <td>0.8604</td>\n      <td>0.9057</td>\n      <td>0.1646</td>\n      <td>0.2786</td>\n      <td>0.1283</td>\n      <td>0.2340</td>\n      <td>3.440</td>\n    </tr>\n  </tbody>\n</table>\n</div>"
     },
     "execution_count": 17,
     "metadata": {},
     "output_type": "execute_result"
    }
   ],
   "source": [
    "pull(top5)"
   ],
   "metadata": {
    "collapsed": false,
    "pycharm": {
     "name": "#%%\n"
    }
   }
  },
  {
   "cell_type": "code",
   "execution_count": 18,
   "outputs": [],
   "source": [
    "top3 = top5[0:2]"
   ],
   "metadata": {
    "collapsed": false,
    "pycharm": {
     "name": "#%%\n"
    }
   }
  },
  {
   "cell_type": "code",
   "execution_count": 19,
   "outputs": [
    {
     "data": {
      "text/plain": "                                                                    \n                                                                    \nInitiated  . . . . . . . . . . . . . . . . . .              02:45:53\nStatus     . . . . . . . . . . . . . . . . . .  Loading Dependencies\nEstimator  . . . . . . . . . . . . . . . . . .     Compiling Library",
      "text/html": "<div>\n<style scoped>\n    .dataframe tbody tr th:only-of-type {\n        vertical-align: middle;\n    }\n\n    .dataframe tbody tr th {\n        vertical-align: top;\n    }\n\n    .dataframe thead th {\n        text-align: right;\n    }\n</style>\n<table border=\"1\" class=\"dataframe\">\n  <thead>\n    <tr style=\"text-align: right;\">\n      <th></th>\n      <th></th>\n      <th></th>\n    </tr>\n    <tr>\n      <th></th>\n      <th></th>\n      <th></th>\n    </tr>\n  </thead>\n  <tbody>\n    <tr>\n      <th>Initiated</th>\n      <td>. . . . . . . . . . . . . . . . . .</td>\n      <td>02:45:53</td>\n    </tr>\n    <tr>\n      <th>Status</th>\n      <td>. . . . . . . . . . . . . . . . . .</td>\n      <td>Loading Dependencies</td>\n    </tr>\n    <tr>\n      <th>Estimator</th>\n      <td>. . . . . . . . . . . . . . . . . .</td>\n      <td>Compiling Library</td>\n    </tr>\n  </tbody>\n</table>\n</div>"
     },
     "metadata": {},
     "output_type": "display_data"
    },
    {
     "data": {
      "text/plain": "<IPython.core.display.HTML object>",
      "text/html": ""
     },
     "metadata": {},
     "output_type": "display_data"
    },
    {
     "data": {
      "text/plain": "Processing:   0%|          | 0/7 [00:00<?, ?it/s]",
      "application/vnd.jupyter.widget-view+json": {
       "version_major": 2,
       "version_minor": 0,
       "model_id": "602ea365001f435c8184f93385ffa13d"
      }
     },
     "metadata": {},
     "output_type": "display_data"
    },
    {
     "name": "stdout",
     "output_type": "stream",
     "text": [
      "Fitting 10 folds for each of 10 candidates, totalling 100 fits\n",
      "Original model was better than the tuned model, hence it will be returned. NOTE: The display metrics are for the tuned model (not the original one).\n"
     ]
    },
    {
     "data": {
      "text/plain": "                                                                    \n                                                                    \nInitiated  . . . . . . . . . . . . . . . . . .              03:20:59\nStatus     . . . . . . . . . . . . . . . . . .  Loading Dependencies\nEstimator  . . . . . . . . . . . . . . . . . .     Compiling Library",
      "text/html": "<div>\n<style scoped>\n    .dataframe tbody tr th:only-of-type {\n        vertical-align: middle;\n    }\n\n    .dataframe tbody tr th {\n        vertical-align: top;\n    }\n\n    .dataframe thead th {\n        text-align: right;\n    }\n</style>\n<table border=\"1\" class=\"dataframe\">\n  <thead>\n    <tr style=\"text-align: right;\">\n      <th></th>\n      <th></th>\n      <th></th>\n    </tr>\n    <tr>\n      <th></th>\n      <th></th>\n      <th></th>\n    </tr>\n  </thead>\n  <tbody>\n    <tr>\n      <th>Initiated</th>\n      <td>. . . . . . . . . . . . . . . . . .</td>\n      <td>03:20:59</td>\n    </tr>\n    <tr>\n      <th>Status</th>\n      <td>. . . . . . . . . . . . . . . . . .</td>\n      <td>Loading Dependencies</td>\n    </tr>\n    <tr>\n      <th>Estimator</th>\n      <td>. . . . . . . . . . . . . . . . . .</td>\n      <td>Compiling Library</td>\n    </tr>\n  </tbody>\n</table>\n</div>"
     },
     "metadata": {},
     "output_type": "display_data"
    },
    {
     "data": {
      "text/plain": "<IPython.core.display.HTML object>",
      "text/html": ""
     },
     "metadata": {},
     "output_type": "display_data"
    },
    {
     "data": {
      "text/plain": "Processing:   0%|          | 0/7 [00:00<?, ?it/s]",
      "application/vnd.jupyter.widget-view+json": {
       "version_major": 2,
       "version_minor": 0,
       "model_id": "94da3bb62be84ab2b69869be6cfc15c6"
      }
     },
     "metadata": {},
     "output_type": "display_data"
    },
    {
     "name": "stdout",
     "output_type": "stream",
     "text": [
      "Fitting 10 folds for each of 10 candidates, totalling 100 fits\n"
     ]
    }
   ],
   "source": [
    "tuned_top3 = [tune_model(i , choose_better = True, optimize=\"Accuracy\") for i in top3]"
   ],
   "metadata": {
    "collapsed": false,
    "pycharm": {
     "name": "#%%\n"
    }
   }
  },
  {
   "cell_type": "code",
   "execution_count": 20,
   "outputs": [
    {
     "data": {
      "text/plain": "      Accuracy     AUC  Recall   Prec.      F1   Kappa     MCC\nFold                                                          \n0       0.9390  0.9346  0.6232  0.7370  0.6754  0.6419  0.6447\n1       0.9388  0.9334  0.6212  0.7363  0.6739  0.6404  0.6432\n2       0.9345  0.9292  0.6192  0.7023  0.6581  0.6221  0.6236\n3       0.9396  0.9317  0.6453  0.7302  0.6851  0.6518  0.6534\n4       0.9355  0.9244  0.5932  0.7237  0.6520  0.6168  0.6205\n5       0.9382  0.9296  0.6413  0.7207  0.6787  0.6446  0.6459\n6       0.9435  0.9298  0.6513  0.7593  0.7012  0.6702  0.6726\n7       0.9402  0.9379  0.6520  0.7326  0.6899  0.6570  0.6583\n8       0.9394  0.9402  0.6320  0.7366  0.6803  0.6470  0.6494\n9       0.9394  0.9403  0.6633  0.7196  0.6903  0.6568  0.6574\nMean    0.9388  0.9331  0.6342  0.7298  0.6785  0.6449  0.6469\nStd     0.0023  0.0049  0.0196  0.0142  0.0141  0.0152  0.0149",
      "text/html": "<div>\n<style scoped>\n    .dataframe tbody tr th:only-of-type {\n        vertical-align: middle;\n    }\n\n    .dataframe tbody tr th {\n        vertical-align: top;\n    }\n\n    .dataframe thead th {\n        text-align: right;\n    }\n</style>\n<table border=\"1\" class=\"dataframe\">\n  <thead>\n    <tr style=\"text-align: right;\">\n      <th></th>\n      <th>Accuracy</th>\n      <th>AUC</th>\n      <th>Recall</th>\n      <th>Prec.</th>\n      <th>F1</th>\n      <th>Kappa</th>\n      <th>MCC</th>\n    </tr>\n    <tr>\n      <th>Fold</th>\n      <th></th>\n      <th></th>\n      <th></th>\n      <th></th>\n      <th></th>\n      <th></th>\n      <th></th>\n    </tr>\n  </thead>\n  <tbody>\n    <tr>\n      <th>0</th>\n      <td>0.9390</td>\n      <td>0.9346</td>\n      <td>0.6232</td>\n      <td>0.7370</td>\n      <td>0.6754</td>\n      <td>0.6419</td>\n      <td>0.6447</td>\n    </tr>\n    <tr>\n      <th>1</th>\n      <td>0.9388</td>\n      <td>0.9334</td>\n      <td>0.6212</td>\n      <td>0.7363</td>\n      <td>0.6739</td>\n      <td>0.6404</td>\n      <td>0.6432</td>\n    </tr>\n    <tr>\n      <th>2</th>\n      <td>0.9345</td>\n      <td>0.9292</td>\n      <td>0.6192</td>\n      <td>0.7023</td>\n      <td>0.6581</td>\n      <td>0.6221</td>\n      <td>0.6236</td>\n    </tr>\n    <tr>\n      <th>3</th>\n      <td>0.9396</td>\n      <td>0.9317</td>\n      <td>0.6453</td>\n      <td>0.7302</td>\n      <td>0.6851</td>\n      <td>0.6518</td>\n      <td>0.6534</td>\n    </tr>\n    <tr>\n      <th>4</th>\n      <td>0.9355</td>\n      <td>0.9244</td>\n      <td>0.5932</td>\n      <td>0.7237</td>\n      <td>0.6520</td>\n      <td>0.6168</td>\n      <td>0.6205</td>\n    </tr>\n    <tr>\n      <th>5</th>\n      <td>0.9382</td>\n      <td>0.9296</td>\n      <td>0.6413</td>\n      <td>0.7207</td>\n      <td>0.6787</td>\n      <td>0.6446</td>\n      <td>0.6459</td>\n    </tr>\n    <tr>\n      <th>6</th>\n      <td>0.9435</td>\n      <td>0.9298</td>\n      <td>0.6513</td>\n      <td>0.7593</td>\n      <td>0.7012</td>\n      <td>0.6702</td>\n      <td>0.6726</td>\n    </tr>\n    <tr>\n      <th>7</th>\n      <td>0.9402</td>\n      <td>0.9379</td>\n      <td>0.6520</td>\n      <td>0.7326</td>\n      <td>0.6899</td>\n      <td>0.6570</td>\n      <td>0.6583</td>\n    </tr>\n    <tr>\n      <th>8</th>\n      <td>0.9394</td>\n      <td>0.9402</td>\n      <td>0.6320</td>\n      <td>0.7366</td>\n      <td>0.6803</td>\n      <td>0.6470</td>\n      <td>0.6494</td>\n    </tr>\n    <tr>\n      <th>9</th>\n      <td>0.9394</td>\n      <td>0.9403</td>\n      <td>0.6633</td>\n      <td>0.7196</td>\n      <td>0.6903</td>\n      <td>0.6568</td>\n      <td>0.6574</td>\n    </tr>\n    <tr>\n      <th>Mean</th>\n      <td>0.9388</td>\n      <td>0.9331</td>\n      <td>0.6342</td>\n      <td>0.7298</td>\n      <td>0.6785</td>\n      <td>0.6449</td>\n      <td>0.6469</td>\n    </tr>\n    <tr>\n      <th>Std</th>\n      <td>0.0023</td>\n      <td>0.0049</td>\n      <td>0.0196</td>\n      <td>0.0142</td>\n      <td>0.0141</td>\n      <td>0.0152</td>\n      <td>0.0149</td>\n    </tr>\n  </tbody>\n</table>\n</div>"
     },
     "execution_count": 20,
     "metadata": {},
     "output_type": "execute_result"
    }
   ],
   "source": [
    "pull(tuned_top3)"
   ],
   "metadata": {
    "collapsed": false,
    "pycharm": {
     "name": "#%%\n"
    }
   }
  },
  {
   "cell_type": "code",
   "execution_count": 21,
   "outputs": [
    {
     "data": {
      "text/plain": "                                                                    \n                                                                    \nInitiated  . . . . . . . . . . . . . . . . . .              03:30:34\nStatus     . . . . . . . . . . . . . . . . . .  Loading Dependencies\nEstimator  . . . . . . . . . . . . . . . . . .     Compiling Library",
      "text/html": "<div>\n<style scoped>\n    .dataframe tbody tr th:only-of-type {\n        vertical-align: middle;\n    }\n\n    .dataframe tbody tr th {\n        vertical-align: top;\n    }\n\n    .dataframe thead th {\n        text-align: right;\n    }\n</style>\n<table border=\"1\" class=\"dataframe\">\n  <thead>\n    <tr style=\"text-align: right;\">\n      <th></th>\n      <th></th>\n      <th></th>\n    </tr>\n    <tr>\n      <th></th>\n      <th></th>\n      <th></th>\n    </tr>\n  </thead>\n  <tbody>\n    <tr>\n      <th>Initiated</th>\n      <td>. . . . . . . . . . . . . . . . . .</td>\n      <td>03:30:34</td>\n    </tr>\n    <tr>\n      <th>Status</th>\n      <td>. . . . . . . . . . . . . . . . . .</td>\n      <td>Loading Dependencies</td>\n    </tr>\n    <tr>\n      <th>Estimator</th>\n      <td>. . . . . . . . . . . . . . . . . .</td>\n      <td>Compiling Library</td>\n    </tr>\n  </tbody>\n</table>\n</div>"
     },
     "metadata": {},
     "output_type": "display_data"
    },
    {
     "data": {
      "text/plain": "<IPython.core.display.HTML object>",
      "text/html": ""
     },
     "metadata": {},
     "output_type": "display_data"
    },
    {
     "data": {
      "text/plain": "Processing:   0%|          | 0/6 [00:00<?, ?it/s]",
      "application/vnd.jupyter.widget-view+json": {
       "version_major": 2,
       "version_minor": 0,
       "model_id": "a7b011bc8a7a42f3ace1cbf7904e3e88"
      }
     },
     "metadata": {},
     "output_type": "display_data"
    },
    {
     "data": {
      "text/plain": "                                                                    \n                                                                    \nInitiated  . . . . . . . . . . . . . . . . . .              03:59:19\nStatus     . . . . . . . . . . . . . . . . . .  Loading Dependencies\nEstimator  . . . . . . . . . . . . . . . . . .     Compiling Library",
      "text/html": "<div>\n<style scoped>\n    .dataframe tbody tr th:only-of-type {\n        vertical-align: middle;\n    }\n\n    .dataframe tbody tr th {\n        vertical-align: top;\n    }\n\n    .dataframe thead th {\n        text-align: right;\n    }\n</style>\n<table border=\"1\" class=\"dataframe\">\n  <thead>\n    <tr style=\"text-align: right;\">\n      <th></th>\n      <th></th>\n      <th></th>\n    </tr>\n    <tr>\n      <th></th>\n      <th></th>\n      <th></th>\n    </tr>\n  </thead>\n  <tbody>\n    <tr>\n      <th>Initiated</th>\n      <td>. . . . . . . . . . . . . . . . . .</td>\n      <td>03:59:19</td>\n    </tr>\n    <tr>\n      <th>Status</th>\n      <td>. . . . . . . . . . . . . . . . . .</td>\n      <td>Loading Dependencies</td>\n    </tr>\n    <tr>\n      <th>Estimator</th>\n      <td>. . . . . . . . . . . . . . . . . .</td>\n      <td>Compiling Library</td>\n    </tr>\n  </tbody>\n</table>\n</div>"
     },
     "metadata": {},
     "output_type": "display_data"
    },
    {
     "data": {
      "text/plain": "<IPython.core.display.HTML object>",
      "text/html": ""
     },
     "metadata": {},
     "output_type": "display_data"
    },
    {
     "data": {
      "text/plain": "Processing:   0%|          | 0/6 [00:00<?, ?it/s]",
      "application/vnd.jupyter.widget-view+json": {
       "version_major": 2,
       "version_minor": 0,
       "model_id": "cd26058c88aa44e590a4695d2294adf0"
      }
     },
     "metadata": {},
     "output_type": "display_data"
    }
   ],
   "source": [
    "bagged_top3 = [ensemble_model(i, choose_better = True, optimize=\"Accuracy\") for i in tuned_top3]"
   ],
   "metadata": {
    "collapsed": false,
    "pycharm": {
     "name": "#%%\n"
    }
   }
  },
  {
   "cell_type": "code",
   "execution_count": 22,
   "outputs": [
    {
     "data": {
      "text/plain": "      Accuracy     AUC  Recall   Prec.      F1   Kappa     MCC\nFold                                                          \n0       0.9390  0.9384  0.6293  0.7336  0.6775  0.6440  0.6463\n1       0.9410  0.9338  0.6553  0.7365  0.6935  0.6610  0.6624\n2       0.9386  0.9322  0.6353  0.7271  0.6781  0.6443  0.6461\n3       0.9386  0.9350  0.6353  0.7271  0.6781  0.6443  0.6461\n4       0.9369  0.9276  0.6112  0.7262  0.6638  0.6293  0.6321\n5       0.9388  0.9305  0.6533  0.7196  0.6849  0.6511  0.6520\n6       0.9424  0.9337  0.6453  0.7541  0.6955  0.6639  0.6664\n7       0.9418  0.9378  0.6620  0.7405  0.6990  0.6670  0.6683\n8       0.9420  0.9428  0.6500  0.7488  0.6959  0.6641  0.6661\n9       0.9416  0.9443  0.6874  0.7252  0.7058  0.6734  0.6737\nMean    0.9401  0.9356  0.6464  0.7339  0.6872  0.6542  0.6559\nStd     0.0018  0.0050  0.0196  0.0106  0.0122  0.0130  0.0126",
      "text/html": "<div>\n<style scoped>\n    .dataframe tbody tr th:only-of-type {\n        vertical-align: middle;\n    }\n\n    .dataframe tbody tr th {\n        vertical-align: top;\n    }\n\n    .dataframe thead th {\n        text-align: right;\n    }\n</style>\n<table border=\"1\" class=\"dataframe\">\n  <thead>\n    <tr style=\"text-align: right;\">\n      <th></th>\n      <th>Accuracy</th>\n      <th>AUC</th>\n      <th>Recall</th>\n      <th>Prec.</th>\n      <th>F1</th>\n      <th>Kappa</th>\n      <th>MCC</th>\n    </tr>\n    <tr>\n      <th>Fold</th>\n      <th></th>\n      <th></th>\n      <th></th>\n      <th></th>\n      <th></th>\n      <th></th>\n      <th></th>\n    </tr>\n  </thead>\n  <tbody>\n    <tr>\n      <th>0</th>\n      <td>0.9390</td>\n      <td>0.9384</td>\n      <td>0.6293</td>\n      <td>0.7336</td>\n      <td>0.6775</td>\n      <td>0.6440</td>\n      <td>0.6463</td>\n    </tr>\n    <tr>\n      <th>1</th>\n      <td>0.9410</td>\n      <td>0.9338</td>\n      <td>0.6553</td>\n      <td>0.7365</td>\n      <td>0.6935</td>\n      <td>0.6610</td>\n      <td>0.6624</td>\n    </tr>\n    <tr>\n      <th>2</th>\n      <td>0.9386</td>\n      <td>0.9322</td>\n      <td>0.6353</td>\n      <td>0.7271</td>\n      <td>0.6781</td>\n      <td>0.6443</td>\n      <td>0.6461</td>\n    </tr>\n    <tr>\n      <th>3</th>\n      <td>0.9386</td>\n      <td>0.9350</td>\n      <td>0.6353</td>\n      <td>0.7271</td>\n      <td>0.6781</td>\n      <td>0.6443</td>\n      <td>0.6461</td>\n    </tr>\n    <tr>\n      <th>4</th>\n      <td>0.9369</td>\n      <td>0.9276</td>\n      <td>0.6112</td>\n      <td>0.7262</td>\n      <td>0.6638</td>\n      <td>0.6293</td>\n      <td>0.6321</td>\n    </tr>\n    <tr>\n      <th>5</th>\n      <td>0.9388</td>\n      <td>0.9305</td>\n      <td>0.6533</td>\n      <td>0.7196</td>\n      <td>0.6849</td>\n      <td>0.6511</td>\n      <td>0.6520</td>\n    </tr>\n    <tr>\n      <th>6</th>\n      <td>0.9424</td>\n      <td>0.9337</td>\n      <td>0.6453</td>\n      <td>0.7541</td>\n      <td>0.6955</td>\n      <td>0.6639</td>\n      <td>0.6664</td>\n    </tr>\n    <tr>\n      <th>7</th>\n      <td>0.9418</td>\n      <td>0.9378</td>\n      <td>0.6620</td>\n      <td>0.7405</td>\n      <td>0.6990</td>\n      <td>0.6670</td>\n      <td>0.6683</td>\n    </tr>\n    <tr>\n      <th>8</th>\n      <td>0.9420</td>\n      <td>0.9428</td>\n      <td>0.6500</td>\n      <td>0.7488</td>\n      <td>0.6959</td>\n      <td>0.6641</td>\n      <td>0.6661</td>\n    </tr>\n    <tr>\n      <th>9</th>\n      <td>0.9416</td>\n      <td>0.9443</td>\n      <td>0.6874</td>\n      <td>0.7252</td>\n      <td>0.7058</td>\n      <td>0.6734</td>\n      <td>0.6737</td>\n    </tr>\n    <tr>\n      <th>Mean</th>\n      <td>0.9401</td>\n      <td>0.9356</td>\n      <td>0.6464</td>\n      <td>0.7339</td>\n      <td>0.6872</td>\n      <td>0.6542</td>\n      <td>0.6559</td>\n    </tr>\n    <tr>\n      <th>Std</th>\n      <td>0.0018</td>\n      <td>0.0050</td>\n      <td>0.0196</td>\n      <td>0.0106</td>\n      <td>0.0122</td>\n      <td>0.0130</td>\n      <td>0.0126</td>\n    </tr>\n  </tbody>\n</table>\n</div>"
     },
     "execution_count": 22,
     "metadata": {},
     "output_type": "execute_result"
    }
   ],
   "source": [
    "pull(bagged_top3)"
   ],
   "metadata": {
    "collapsed": false,
    "pycharm": {
     "name": "#%%\n"
    }
   }
  },
  {
   "cell_type": "code",
   "execution_count": 23,
   "outputs": [
    {
     "data": {
      "text/plain": "                                                                    \n                                                                    \nInitiated  . . . . . . . . . . . . . . . . . .              04:02:17\nStatus     . . . . . . . . . . . . . . . . . .  Loading Dependencies\nEstimator  . . . . . . . . . . . . . . . . . .     Compiling Library",
      "text/html": "<div>\n<style scoped>\n    .dataframe tbody tr th:only-of-type {\n        vertical-align: middle;\n    }\n\n    .dataframe tbody tr th {\n        vertical-align: top;\n    }\n\n    .dataframe thead th {\n        text-align: right;\n    }\n</style>\n<table border=\"1\" class=\"dataframe\">\n  <thead>\n    <tr style=\"text-align: right;\">\n      <th></th>\n      <th></th>\n      <th></th>\n    </tr>\n    <tr>\n      <th></th>\n      <th></th>\n      <th></th>\n    </tr>\n  </thead>\n  <tbody>\n    <tr>\n      <th>Initiated</th>\n      <td>. . . . . . . . . . . . . . . . . .</td>\n      <td>04:02:17</td>\n    </tr>\n    <tr>\n      <th>Status</th>\n      <td>. . . . . . . . . . . . . . . . . .</td>\n      <td>Loading Dependencies</td>\n    </tr>\n    <tr>\n      <th>Estimator</th>\n      <td>. . . . . . . . . . . . . . . . . .</td>\n      <td>Compiling Library</td>\n    </tr>\n  </tbody>\n</table>\n</div>"
     },
     "metadata": {},
     "output_type": "display_data"
    },
    {
     "data": {
      "text/plain": "<IPython.core.display.HTML object>",
      "text/html": ""
     },
     "metadata": {},
     "output_type": "display_data"
    },
    {
     "data": {
      "text/plain": "Processing:   0%|          | 0/6 [00:00<?, ?it/s]",
      "application/vnd.jupyter.widget-view+json": {
       "version_major": 2,
       "version_minor": 0,
       "model_id": "fe7a5fe2c3a14218a70637bfe652bb31"
      }
     },
     "metadata": {},
     "output_type": "display_data"
    },
    {
     "name": "stdout",
     "output_type": "stream",
     "text": [
      "Original model was better than the blended model, hence it will be returned. NOTE: The display metrics are for the blended model (not the original one).\n"
     ]
    }
   ],
   "source": [
    "blender = blend_models(estimator_list = top3,choose_better = True, optimize=\"Accuracy\")"
   ],
   "metadata": {
    "collapsed": false,
    "pycharm": {
     "name": "#%%\n"
    }
   }
  },
  {
   "cell_type": "code",
   "execution_count": 24,
   "outputs": [
    {
     "data": {
      "text/plain": "      Accuracy     AUC  Recall   Prec.      F1   Kappa     MCC\nFold                                                          \n0       0.9406  0.9398  0.6553  0.7332  0.6921  0.6593  0.6606\n1       0.9408  0.9368  0.6473  0.7391  0.6902  0.6576  0.6594\n2       0.9384  0.9345  0.6453  0.7204  0.6808  0.6468  0.6480\n3       0.9414  0.9362  0.6533  0.7409  0.6944  0.6621  0.6637\n4       0.9367  0.9320  0.6253  0.7172  0.6681  0.6333  0.6351\n5       0.9408  0.9313  0.6593  0.7327  0.6941  0.6614  0.6626\n6       0.9431  0.9367  0.6573  0.7523  0.7016  0.6703  0.6722\n7       0.9410  0.9374  0.6580  0.7360  0.6948  0.6623  0.6636\n8       0.9416  0.9416  0.6560  0.7421  0.6964  0.6642  0.6658\n9       0.9390  0.9444  0.6693  0.7137  0.6908  0.6570  0.6574\nMean    0.9403  0.9371  0.6526  0.7328  0.6903  0.6574  0.6588\nStd     0.0017  0.0039  0.0111  0.0116  0.0090  0.0099  0.0099",
      "text/html": "<div>\n<style scoped>\n    .dataframe tbody tr th:only-of-type {\n        vertical-align: middle;\n    }\n\n    .dataframe tbody tr th {\n        vertical-align: top;\n    }\n\n    .dataframe thead th {\n        text-align: right;\n    }\n</style>\n<table border=\"1\" class=\"dataframe\">\n  <thead>\n    <tr style=\"text-align: right;\">\n      <th></th>\n      <th>Accuracy</th>\n      <th>AUC</th>\n      <th>Recall</th>\n      <th>Prec.</th>\n      <th>F1</th>\n      <th>Kappa</th>\n      <th>MCC</th>\n    </tr>\n    <tr>\n      <th>Fold</th>\n      <th></th>\n      <th></th>\n      <th></th>\n      <th></th>\n      <th></th>\n      <th></th>\n      <th></th>\n    </tr>\n  </thead>\n  <tbody>\n    <tr>\n      <th>0</th>\n      <td>0.9406</td>\n      <td>0.9398</td>\n      <td>0.6553</td>\n      <td>0.7332</td>\n      <td>0.6921</td>\n      <td>0.6593</td>\n      <td>0.6606</td>\n    </tr>\n    <tr>\n      <th>1</th>\n      <td>0.9408</td>\n      <td>0.9368</td>\n      <td>0.6473</td>\n      <td>0.7391</td>\n      <td>0.6902</td>\n      <td>0.6576</td>\n      <td>0.6594</td>\n    </tr>\n    <tr>\n      <th>2</th>\n      <td>0.9384</td>\n      <td>0.9345</td>\n      <td>0.6453</td>\n      <td>0.7204</td>\n      <td>0.6808</td>\n      <td>0.6468</td>\n      <td>0.6480</td>\n    </tr>\n    <tr>\n      <th>3</th>\n      <td>0.9414</td>\n      <td>0.9362</td>\n      <td>0.6533</td>\n      <td>0.7409</td>\n      <td>0.6944</td>\n      <td>0.6621</td>\n      <td>0.6637</td>\n    </tr>\n    <tr>\n      <th>4</th>\n      <td>0.9367</td>\n      <td>0.9320</td>\n      <td>0.6253</td>\n      <td>0.7172</td>\n      <td>0.6681</td>\n      <td>0.6333</td>\n      <td>0.6351</td>\n    </tr>\n    <tr>\n      <th>5</th>\n      <td>0.9408</td>\n      <td>0.9313</td>\n      <td>0.6593</td>\n      <td>0.7327</td>\n      <td>0.6941</td>\n      <td>0.6614</td>\n      <td>0.6626</td>\n    </tr>\n    <tr>\n      <th>6</th>\n      <td>0.9431</td>\n      <td>0.9367</td>\n      <td>0.6573</td>\n      <td>0.7523</td>\n      <td>0.7016</td>\n      <td>0.6703</td>\n      <td>0.6722</td>\n    </tr>\n    <tr>\n      <th>7</th>\n      <td>0.9410</td>\n      <td>0.9374</td>\n      <td>0.6580</td>\n      <td>0.7360</td>\n      <td>0.6948</td>\n      <td>0.6623</td>\n      <td>0.6636</td>\n    </tr>\n    <tr>\n      <th>8</th>\n      <td>0.9416</td>\n      <td>0.9416</td>\n      <td>0.6560</td>\n      <td>0.7421</td>\n      <td>0.6964</td>\n      <td>0.6642</td>\n      <td>0.6658</td>\n    </tr>\n    <tr>\n      <th>9</th>\n      <td>0.9390</td>\n      <td>0.9444</td>\n      <td>0.6693</td>\n      <td>0.7137</td>\n      <td>0.6908</td>\n      <td>0.6570</td>\n      <td>0.6574</td>\n    </tr>\n    <tr>\n      <th>Mean</th>\n      <td>0.9403</td>\n      <td>0.9371</td>\n      <td>0.6526</td>\n      <td>0.7328</td>\n      <td>0.6903</td>\n      <td>0.6574</td>\n      <td>0.6588</td>\n    </tr>\n    <tr>\n      <th>Std</th>\n      <td>0.0017</td>\n      <td>0.0039</td>\n      <td>0.0111</td>\n      <td>0.0116</td>\n      <td>0.0090</td>\n      <td>0.0099</td>\n      <td>0.0099</td>\n    </tr>\n  </tbody>\n</table>\n</div>"
     },
     "execution_count": 24,
     "metadata": {},
     "output_type": "execute_result"
    }
   ],
   "source": [
    "pull(blender)"
   ],
   "metadata": {
    "collapsed": false,
    "pycharm": {
     "name": "#%%\n"
    }
   }
  },
  {
   "cell_type": "code",
   "execution_count": 25,
   "outputs": [
    {
     "data": {
      "text/plain": "                                                                    \n                                                                    \nInitiated  . . . . . . . . . . . . . . . . . .              04:09:32\nStatus     . . . . . . . . . . . . . . . . . .  Loading Dependencies\nEstimator  . . . . . . . . . . . . . . . . . .     Compiling Library",
      "text/html": "<div>\n<style scoped>\n    .dataframe tbody tr th:only-of-type {\n        vertical-align: middle;\n    }\n\n    .dataframe tbody tr th {\n        vertical-align: top;\n    }\n\n    .dataframe thead th {\n        text-align: right;\n    }\n</style>\n<table border=\"1\" class=\"dataframe\">\n  <thead>\n    <tr style=\"text-align: right;\">\n      <th></th>\n      <th></th>\n      <th></th>\n    </tr>\n    <tr>\n      <th></th>\n      <th></th>\n      <th></th>\n    </tr>\n  </thead>\n  <tbody>\n    <tr>\n      <th>Initiated</th>\n      <td>. . . . . . . . . . . . . . . . . .</td>\n      <td>04:09:32</td>\n    </tr>\n    <tr>\n      <th>Status</th>\n      <td>. . . . . . . . . . . . . . . . . .</td>\n      <td>Loading Dependencies</td>\n    </tr>\n    <tr>\n      <th>Estimator</th>\n      <td>. . . . . . . . . . . . . . . . . .</td>\n      <td>Compiling Library</td>\n    </tr>\n  </tbody>\n</table>\n</div>"
     },
     "metadata": {},
     "output_type": "display_data"
    },
    {
     "data": {
      "text/plain": "<IPython.core.display.HTML object>",
      "text/html": ""
     },
     "metadata": {},
     "output_type": "display_data"
    },
    {
     "data": {
      "text/plain": "Processing:   0%|          | 0/6 [00:00<?, ?it/s]",
      "application/vnd.jupyter.widget-view+json": {
       "version_major": 2,
       "version_minor": 0,
       "model_id": "57d1b915ad3447b4a78888a72fdea67f"
      }
     },
     "metadata": {},
     "output_type": "display_data"
    },
    {
     "name": "stdout",
     "output_type": "stream",
     "text": [
      "Original model was better than the stacked model, hence it will be returned. NOTE: The display metrics are for the stacked model (not the original one).\n"
     ]
    }
   ],
   "source": [
    "stacker = stack_models(estimator_list = top3,choose_better = True, optimize=\"Accuracy\")"
   ],
   "metadata": {
    "collapsed": false,
    "pycharm": {
     "name": "#%%\n"
    }
   }
  },
  {
   "cell_type": "code",
   "execution_count": 26,
   "outputs": [
    {
     "data": {
      "text/plain": "      Accuracy     AUC  Recall   Prec.      F1   Kappa     MCC\nFold                                                          \n0       0.8816  0.9054  0.7735  0.4525  0.5710  0.5078  0.5323\n1       0.9267  0.9212  0.7275  0.6195  0.6691  0.6282  0.6308\n2       0.9263  0.9056  0.7174  0.6194  0.6648  0.6237  0.6258\n3       0.8900  0.9070  0.7796  0.4756  0.5907  0.5315  0.5532\n4       0.9282  0.9130  0.6914  0.6354  0.6622  0.6221  0.6228\n5       0.8812  0.9001  0.7735  0.4515  0.5702  0.5067  0.5315\n6       0.9349  0.9158  0.7295  0.6642  0.6953  0.6590  0.6599\n7       0.8790  0.8941  0.7480  0.4447  0.5578  0.4929  0.5153\n8       0.9322  0.9255  0.7520  0.6438  0.6937  0.6559  0.6584\n9       0.8810  0.9020  0.7836  0.4515  0.5729  0.5095  0.5357\nMean    0.9061  0.9090  0.7476  0.5458  0.6248  0.5737  0.5866\nStd     0.0238  0.0093  0.0291  0.0917  0.0538  0.0657  0.0549",
      "text/html": "<div>\n<style scoped>\n    .dataframe tbody tr th:only-of-type {\n        vertical-align: middle;\n    }\n\n    .dataframe tbody tr th {\n        vertical-align: top;\n    }\n\n    .dataframe thead th {\n        text-align: right;\n    }\n</style>\n<table border=\"1\" class=\"dataframe\">\n  <thead>\n    <tr style=\"text-align: right;\">\n      <th></th>\n      <th>Accuracy</th>\n      <th>AUC</th>\n      <th>Recall</th>\n      <th>Prec.</th>\n      <th>F1</th>\n      <th>Kappa</th>\n      <th>MCC</th>\n    </tr>\n    <tr>\n      <th>Fold</th>\n      <th></th>\n      <th></th>\n      <th></th>\n      <th></th>\n      <th></th>\n      <th></th>\n      <th></th>\n    </tr>\n  </thead>\n  <tbody>\n    <tr>\n      <th>0</th>\n      <td>0.8816</td>\n      <td>0.9054</td>\n      <td>0.7735</td>\n      <td>0.4525</td>\n      <td>0.5710</td>\n      <td>0.5078</td>\n      <td>0.5323</td>\n    </tr>\n    <tr>\n      <th>1</th>\n      <td>0.9267</td>\n      <td>0.9212</td>\n      <td>0.7275</td>\n      <td>0.6195</td>\n      <td>0.6691</td>\n      <td>0.6282</td>\n      <td>0.6308</td>\n    </tr>\n    <tr>\n      <th>2</th>\n      <td>0.9263</td>\n      <td>0.9056</td>\n      <td>0.7174</td>\n      <td>0.6194</td>\n      <td>0.6648</td>\n      <td>0.6237</td>\n      <td>0.6258</td>\n    </tr>\n    <tr>\n      <th>3</th>\n      <td>0.8900</td>\n      <td>0.9070</td>\n      <td>0.7796</td>\n      <td>0.4756</td>\n      <td>0.5907</td>\n      <td>0.5315</td>\n      <td>0.5532</td>\n    </tr>\n    <tr>\n      <th>4</th>\n      <td>0.9282</td>\n      <td>0.9130</td>\n      <td>0.6914</td>\n      <td>0.6354</td>\n      <td>0.6622</td>\n      <td>0.6221</td>\n      <td>0.6228</td>\n    </tr>\n    <tr>\n      <th>5</th>\n      <td>0.8812</td>\n      <td>0.9001</td>\n      <td>0.7735</td>\n      <td>0.4515</td>\n      <td>0.5702</td>\n      <td>0.5067</td>\n      <td>0.5315</td>\n    </tr>\n    <tr>\n      <th>6</th>\n      <td>0.9349</td>\n      <td>0.9158</td>\n      <td>0.7295</td>\n      <td>0.6642</td>\n      <td>0.6953</td>\n      <td>0.6590</td>\n      <td>0.6599</td>\n    </tr>\n    <tr>\n      <th>7</th>\n      <td>0.8790</td>\n      <td>0.8941</td>\n      <td>0.7480</td>\n      <td>0.4447</td>\n      <td>0.5578</td>\n      <td>0.4929</td>\n      <td>0.5153</td>\n    </tr>\n    <tr>\n      <th>8</th>\n      <td>0.9322</td>\n      <td>0.9255</td>\n      <td>0.7520</td>\n      <td>0.6438</td>\n      <td>0.6937</td>\n      <td>0.6559</td>\n      <td>0.6584</td>\n    </tr>\n    <tr>\n      <th>9</th>\n      <td>0.8810</td>\n      <td>0.9020</td>\n      <td>0.7836</td>\n      <td>0.4515</td>\n      <td>0.5729</td>\n      <td>0.5095</td>\n      <td>0.5357</td>\n    </tr>\n    <tr>\n      <th>Mean</th>\n      <td>0.9061</td>\n      <td>0.9090</td>\n      <td>0.7476</td>\n      <td>0.5458</td>\n      <td>0.6248</td>\n      <td>0.5737</td>\n      <td>0.5866</td>\n    </tr>\n    <tr>\n      <th>Std</th>\n      <td>0.0238</td>\n      <td>0.0093</td>\n      <td>0.0291</td>\n      <td>0.0917</td>\n      <td>0.0538</td>\n      <td>0.0657</td>\n      <td>0.0549</td>\n    </tr>\n  </tbody>\n</table>\n</div>"
     },
     "execution_count": 26,
     "metadata": {},
     "output_type": "execute_result"
    }
   ],
   "source": [
    "pull(stacker)"
   ],
   "metadata": {
    "collapsed": false,
    "pycharm": {
     "name": "#%%\n"
    }
   }
  },
  {
   "cell_type": "code",
   "execution_count": 27,
   "outputs": [],
   "source": [
    "best = automl(optimize = 'Accuracy')"
   ],
   "metadata": {
    "collapsed": false,
    "pycharm": {
     "name": "#%%\n"
    }
   }
  },
  {
   "cell_type": "code",
   "execution_count": 28,
   "outputs": [
    {
     "data": {
      "text/plain": "<IPython.core.display.HTML object>",
      "text/html": ""
     },
     "metadata": {},
     "output_type": "display_data"
    },
    {
     "data": {
      "text/plain": "                 Model  Accuracy     AUC  Recall   Prec.      F1   Kappa  \\\n0  CatBoost Classifier    0.9406  0.9374  0.6416  0.7406  0.6875  0.6549   \n\n      MCC  \n0  0.6569  ",
      "text/html": "<div>\n<style scoped>\n    .dataframe tbody tr th:only-of-type {\n        vertical-align: middle;\n    }\n\n    .dataframe tbody tr th {\n        vertical-align: top;\n    }\n\n    .dataframe thead th {\n        text-align: right;\n    }\n</style>\n<table border=\"1\" class=\"dataframe\">\n  <thead>\n    <tr style=\"text-align: right;\">\n      <th></th>\n      <th>Model</th>\n      <th>Accuracy</th>\n      <th>AUC</th>\n      <th>Recall</th>\n      <th>Prec.</th>\n      <th>F1</th>\n      <th>Kappa</th>\n      <th>MCC</th>\n    </tr>\n  </thead>\n  <tbody>\n    <tr>\n      <th>0</th>\n      <td>CatBoost Classifier</td>\n      <td>0.9406</td>\n      <td>0.9374</td>\n      <td>0.6416</td>\n      <td>0.7406</td>\n      <td>0.6875</td>\n      <td>0.6549</td>\n      <td>0.6569</td>\n    </tr>\n  </tbody>\n</table>\n</div>"
     },
     "execution_count": 28,
     "metadata": {},
     "output_type": "execute_result"
    }
   ],
   "source": [
    "predict_model(best)\n",
    "pull()"
   ],
   "metadata": {
    "collapsed": false,
    "pycharm": {
     "name": "#%%\n"
    }
   }
  },
  {
   "cell_type": "code",
   "execution_count": 31,
   "outputs": [],
   "source": [
    "final_model = finalize_model(best)"
   ],
   "metadata": {
    "collapsed": false,
    "pycharm": {
     "name": "#%%\n"
    }
   }
  },
  {
   "cell_type": "code",
   "execution_count": 32,
   "outputs": [
    {
     "data": {
      "text/plain": "<IPython.core.display.HTML object>",
      "text/html": ""
     },
     "metadata": {},
     "output_type": "display_data"
    },
    {
     "ename": "CatBoostError",
     "evalue": "C:/Go_Agent/pipelines/BuildMaster/catboost.git/catboost/libs/data/model_dataset_compatibility.cpp:81: At position 1 should be feature with name roam_og_mou_6 (found roam_og_mou_7).",
     "output_type": "error",
     "traceback": [
      "\u001B[1;31m---------------------------------------------------------------------------\u001B[0m",
      "\u001B[1;31mCatBoostError\u001B[0m                             Traceback (most recent call last)",
      "Cell \u001B[1;32mIn[32], line 1\u001B[0m\n\u001B[1;32m----> 1\u001B[0m \u001B[43mpredict_model\u001B[49m\u001B[43m(\u001B[49m\u001B[43mfinal_model\u001B[49m\u001B[43m)\u001B[49m\n\u001B[0;32m      2\u001B[0m pull()\n",
      "File \u001B[1;32mC:\\ProgramData\\miniconda3\\lib\\site-packages\\pycaret\\classification\\functional.py:2166\u001B[0m, in \u001B[0;36mpredict_model\u001B[1;34m(estimator, data, probability_threshold, encoded_labels, raw_score, round, verbose)\u001B[0m\n\u001B[0;32m   2163\u001B[0m \u001B[38;5;28;01mif\u001B[39;00m experiment \u001B[38;5;129;01mis\u001B[39;00m \u001B[38;5;28;01mNone\u001B[39;00m:\n\u001B[0;32m   2164\u001B[0m     experiment \u001B[38;5;241m=\u001B[39m _EXPERIMENT_CLASS()\n\u001B[1;32m-> 2166\u001B[0m \u001B[38;5;28;01mreturn\u001B[39;00m \u001B[43mexperiment\u001B[49m\u001B[38;5;241;43m.\u001B[39;49m\u001B[43mpredict_model\u001B[49m\u001B[43m(\u001B[49m\n\u001B[0;32m   2167\u001B[0m \u001B[43m    \u001B[49m\u001B[43mestimator\u001B[49m\u001B[38;5;241;43m=\u001B[39;49m\u001B[43mestimator\u001B[49m\u001B[43m,\u001B[49m\n\u001B[0;32m   2168\u001B[0m \u001B[43m    \u001B[49m\u001B[43mdata\u001B[49m\u001B[38;5;241;43m=\u001B[39;49m\u001B[43mdata\u001B[49m\u001B[43m,\u001B[49m\n\u001B[0;32m   2169\u001B[0m \u001B[43m    \u001B[49m\u001B[43mprobability_threshold\u001B[49m\u001B[38;5;241;43m=\u001B[39;49m\u001B[43mprobability_threshold\u001B[49m\u001B[43m,\u001B[49m\n\u001B[0;32m   2170\u001B[0m \u001B[43m    \u001B[49m\u001B[43mencoded_labels\u001B[49m\u001B[38;5;241;43m=\u001B[39;49m\u001B[43mencoded_labels\u001B[49m\u001B[43m,\u001B[49m\n\u001B[0;32m   2171\u001B[0m \u001B[43m    \u001B[49m\u001B[43mraw_score\u001B[49m\u001B[38;5;241;43m=\u001B[39;49m\u001B[43mraw_score\u001B[49m\u001B[43m,\u001B[49m\n\u001B[0;32m   2172\u001B[0m \u001B[43m    \u001B[49m\u001B[38;5;28;43mround\u001B[39;49m\u001B[38;5;241;43m=\u001B[39;49m\u001B[38;5;28;43mround\u001B[39;49m\u001B[43m,\u001B[49m\n\u001B[0;32m   2173\u001B[0m \u001B[43m    \u001B[49m\u001B[43mverbose\u001B[49m\u001B[38;5;241;43m=\u001B[39;49m\u001B[43mverbose\u001B[49m\u001B[43m,\u001B[49m\n\u001B[0;32m   2174\u001B[0m \u001B[43m\u001B[49m\u001B[43m)\u001B[49m\n",
      "File \u001B[1;32mC:\\ProgramData\\miniconda3\\lib\\site-packages\\pycaret\\classification\\oop.py:2813\u001B[0m, in \u001B[0;36mClassificationExperiment.predict_model\u001B[1;34m(self, estimator, data, probability_threshold, encoded_labels, raw_score, round, verbose)\u001B[0m\n\u001B[0;32m   2741\u001B[0m \u001B[38;5;28;01mdef\u001B[39;00m \u001B[38;5;21mpredict_model\u001B[39m(\n\u001B[0;32m   2742\u001B[0m     \u001B[38;5;28mself\u001B[39m,\n\u001B[0;32m   2743\u001B[0m     estimator,\n\u001B[1;32m   (...)\u001B[0m\n\u001B[0;32m   2749\u001B[0m     verbose: \u001B[38;5;28mbool\u001B[39m \u001B[38;5;241m=\u001B[39m \u001B[38;5;28;01mTrue\u001B[39;00m,\n\u001B[0;32m   2750\u001B[0m ) \u001B[38;5;241m-\u001B[39m\u001B[38;5;241m>\u001B[39m pd\u001B[38;5;241m.\u001B[39mDataFrame:\n\u001B[0;32m   2751\u001B[0m \u001B[38;5;250m    \u001B[39m\u001B[38;5;124;03m\"\"\"\u001B[39;00m\n\u001B[0;32m   2752\u001B[0m \u001B[38;5;124;03m    This function predicts ``Label`` and ``Score`` (probability of predicted\u001B[39;00m\n\u001B[0;32m   2753\u001B[0m \u001B[38;5;124;03m    class) using a trained model. When ``data`` is None, it predicts label and\u001B[39;00m\n\u001B[1;32m   (...)\u001B[0m\n\u001B[0;32m   2810\u001B[0m \n\u001B[0;32m   2811\u001B[0m \u001B[38;5;124;03m    \"\"\"\u001B[39;00m\n\u001B[1;32m-> 2813\u001B[0m     \u001B[38;5;28;01mreturn\u001B[39;00m \u001B[38;5;28;43msuper\u001B[39;49m\u001B[43m(\u001B[49m\u001B[43m)\u001B[49m\u001B[38;5;241;43m.\u001B[39;49m\u001B[43mpredict_model\u001B[49m\u001B[43m(\u001B[49m\n\u001B[0;32m   2814\u001B[0m \u001B[43m        \u001B[49m\u001B[43mestimator\u001B[49m\u001B[38;5;241;43m=\u001B[39;49m\u001B[43mestimator\u001B[49m\u001B[43m,\u001B[49m\n\u001B[0;32m   2815\u001B[0m \u001B[43m        \u001B[49m\u001B[43mdata\u001B[49m\u001B[38;5;241;43m=\u001B[39;49m\u001B[43mdata\u001B[49m\u001B[43m,\u001B[49m\n\u001B[0;32m   2816\u001B[0m \u001B[43m        \u001B[49m\u001B[43mprobability_threshold\u001B[49m\u001B[38;5;241;43m=\u001B[39;49m\u001B[43mprobability_threshold\u001B[49m\u001B[43m,\u001B[49m\n\u001B[0;32m   2817\u001B[0m \u001B[43m        \u001B[49m\u001B[43mencoded_labels\u001B[49m\u001B[38;5;241;43m=\u001B[39;49m\u001B[43mencoded_labels\u001B[49m\u001B[43m,\u001B[49m\n\u001B[0;32m   2818\u001B[0m \u001B[43m        \u001B[49m\u001B[43mraw_score\u001B[49m\u001B[38;5;241;43m=\u001B[39;49m\u001B[43mraw_score\u001B[49m\u001B[43m,\u001B[49m\n\u001B[0;32m   2819\u001B[0m \u001B[43m        \u001B[49m\u001B[38;5;28;43mround\u001B[39;49m\u001B[38;5;241;43m=\u001B[39;49m\u001B[38;5;28;43mround\u001B[39;49m\u001B[43m,\u001B[49m\n\u001B[0;32m   2820\u001B[0m \u001B[43m        \u001B[49m\u001B[43mverbose\u001B[49m\u001B[38;5;241;43m=\u001B[39;49m\u001B[43mverbose\u001B[49m\u001B[43m,\u001B[49m\n\u001B[0;32m   2821\u001B[0m \u001B[43m    \u001B[49m\u001B[43m)\u001B[49m\n",
      "File \u001B[1;32mC:\\ProgramData\\miniconda3\\lib\\site-packages\\pycaret\\internal\\pycaret_experiment\\supervised_experiment.py:4984\u001B[0m, in \u001B[0;36m_SupervisedExperiment.predict_model\u001B[1;34m(self, estimator, data, probability_threshold, encoded_labels, raw_score, round, verbose, ml_usecase, preprocess)\u001B[0m\n\u001B[0;32m   4981\u001B[0m         probability_threshold \u001B[38;5;241m=\u001B[39m estimator\u001B[38;5;241m.\u001B[39mprobability_threshold\n\u001B[0;32m   4982\u001B[0m     estimator \u001B[38;5;241m=\u001B[39m get_estimator_from_meta_estimator(estimator)\n\u001B[1;32m-> 4984\u001B[0m pred \u001B[38;5;241m=\u001B[39m np\u001B[38;5;241m.\u001B[39mnan_to_num(\u001B[43mestimator\u001B[49m\u001B[38;5;241;43m.\u001B[39;49m\u001B[43mpredict\u001B[49m\u001B[43m(\u001B[49m\u001B[43mX_test_\u001B[49m\u001B[43m)\u001B[49m)\n\u001B[0;32m   4985\u001B[0m pred \u001B[38;5;241m=\u001B[39m pipeline\u001B[38;5;241m.\u001B[39minverse_transform(pred)\n\u001B[0;32m   4986\u001B[0m \u001B[38;5;66;03m# Need to convert labels back to numbers\u001B[39;00m\n\u001B[0;32m   4987\u001B[0m \u001B[38;5;66;03m# TODO optimize\u001B[39;00m\n",
      "File \u001B[1;32mC:\\ProgramData\\miniconda3\\lib\\site-packages\\catboost\\core.py:5156\u001B[0m, in \u001B[0;36mCatBoostClassifier.predict\u001B[1;34m(self, data, prediction_type, ntree_start, ntree_end, thread_count, verbose, task_type)\u001B[0m\n\u001B[0;32m   5105\u001B[0m \u001B[38;5;28;01mdef\u001B[39;00m \u001B[38;5;21mpredict\u001B[39m(\u001B[38;5;28mself\u001B[39m, data, prediction_type\u001B[38;5;241m=\u001B[39m\u001B[38;5;124m'\u001B[39m\u001B[38;5;124mClass\u001B[39m\u001B[38;5;124m'\u001B[39m, ntree_start\u001B[38;5;241m=\u001B[39m\u001B[38;5;241m0\u001B[39m, ntree_end\u001B[38;5;241m=\u001B[39m\u001B[38;5;241m0\u001B[39m, thread_count\u001B[38;5;241m=\u001B[39m\u001B[38;5;241m-\u001B[39m\u001B[38;5;241m1\u001B[39m, verbose\u001B[38;5;241m=\u001B[39m\u001B[38;5;28;01mNone\u001B[39;00m, task_type\u001B[38;5;241m=\u001B[39m\u001B[38;5;124m\"\u001B[39m\u001B[38;5;124mCPU\u001B[39m\u001B[38;5;124m\"\u001B[39m):\n\u001B[0;32m   5106\u001B[0m \u001B[38;5;250m    \u001B[39m\u001B[38;5;124;03m\"\"\"\u001B[39;00m\n\u001B[0;32m   5107\u001B[0m \u001B[38;5;124;03m    Predict with data.\u001B[39;00m\n\u001B[0;32m   5108\u001B[0m \n\u001B[1;32m   (...)\u001B[0m\n\u001B[0;32m   5154\u001B[0m \u001B[38;5;124;03m              with log probability for every class for each object.\u001B[39;00m\n\u001B[0;32m   5155\u001B[0m \u001B[38;5;124;03m    \"\"\"\u001B[39;00m\n\u001B[1;32m-> 5156\u001B[0m     \u001B[38;5;28;01mreturn\u001B[39;00m \u001B[38;5;28;43mself\u001B[39;49m\u001B[38;5;241;43m.\u001B[39;49m\u001B[43m_predict\u001B[49m\u001B[43m(\u001B[49m\u001B[43mdata\u001B[49m\u001B[43m,\u001B[49m\u001B[43m \u001B[49m\u001B[43mprediction_type\u001B[49m\u001B[43m,\u001B[49m\u001B[43m \u001B[49m\u001B[43mntree_start\u001B[49m\u001B[43m,\u001B[49m\u001B[43m \u001B[49m\u001B[43mntree_end\u001B[49m\u001B[43m,\u001B[49m\u001B[43m \u001B[49m\u001B[43mthread_count\u001B[49m\u001B[43m,\u001B[49m\u001B[43m \u001B[49m\u001B[43mverbose\u001B[49m\u001B[43m,\u001B[49m\u001B[43m \u001B[49m\u001B[38;5;124;43m'\u001B[39;49m\u001B[38;5;124;43mpredict\u001B[39;49m\u001B[38;5;124;43m'\u001B[39;49m\u001B[43m,\u001B[49m\u001B[43m \u001B[49m\u001B[43mtask_type\u001B[49m\u001B[43m)\u001B[49m\n",
      "File \u001B[1;32mC:\\ProgramData\\miniconda3\\lib\\site-packages\\catboost\\core.py:2508\u001B[0m, in \u001B[0;36mCatBoost._predict\u001B[1;34m(self, data, prediction_type, ntree_start, ntree_end, thread_count, verbose, parent_method_name, task_type)\u001B[0m\n\u001B[0;32m   2505\u001B[0m data, data_is_single_object \u001B[38;5;241m=\u001B[39m \u001B[38;5;28mself\u001B[39m\u001B[38;5;241m.\u001B[39m_process_predict_input_data(data, parent_method_name, thread_count)\n\u001B[0;32m   2506\u001B[0m \u001B[38;5;28mself\u001B[39m\u001B[38;5;241m.\u001B[39m_validate_prediction_type(prediction_type)\n\u001B[1;32m-> 2508\u001B[0m predictions \u001B[38;5;241m=\u001B[39m \u001B[38;5;28;43mself\u001B[39;49m\u001B[38;5;241;43m.\u001B[39;49m\u001B[43m_base_predict\u001B[49m\u001B[43m(\u001B[49m\u001B[43mdata\u001B[49m\u001B[43m,\u001B[49m\u001B[43m \u001B[49m\u001B[43mprediction_type\u001B[49m\u001B[43m,\u001B[49m\u001B[43m \u001B[49m\u001B[43mntree_start\u001B[49m\u001B[43m,\u001B[49m\u001B[43m \u001B[49m\u001B[43mntree_end\u001B[49m\u001B[43m,\u001B[49m\u001B[43m \u001B[49m\u001B[43mthread_count\u001B[49m\u001B[43m,\u001B[49m\u001B[43m \u001B[49m\u001B[43mverbose\u001B[49m\u001B[43m,\u001B[49m\u001B[43m \u001B[49m\u001B[43mtask_type\u001B[49m\u001B[43m)\u001B[49m\n\u001B[0;32m   2509\u001B[0m \u001B[38;5;28;01mreturn\u001B[39;00m predictions[\u001B[38;5;241m0\u001B[39m] \u001B[38;5;28;01mif\u001B[39;00m data_is_single_object \u001B[38;5;28;01melse\u001B[39;00m predictions\n",
      "File \u001B[1;32mC:\\ProgramData\\miniconda3\\lib\\site-packages\\catboost\\core.py:1775\u001B[0m, in \u001B[0;36m_CatBoostBase._base_predict\u001B[1;34m(self, pool, prediction_type, ntree_start, ntree_end, thread_count, verbose, task_type)\u001B[0m\n\u001B[0;32m   1774\u001B[0m \u001B[38;5;28;01mdef\u001B[39;00m \u001B[38;5;21m_base_predict\u001B[39m(\u001B[38;5;28mself\u001B[39m, pool, prediction_type, ntree_start, ntree_end, thread_count, verbose, task_type):\n\u001B[1;32m-> 1775\u001B[0m     \u001B[38;5;28;01mreturn\u001B[39;00m \u001B[38;5;28;43mself\u001B[39;49m\u001B[38;5;241;43m.\u001B[39;49m\u001B[43m_object\u001B[49m\u001B[38;5;241;43m.\u001B[39;49m\u001B[43m_base_predict\u001B[49m\u001B[43m(\u001B[49m\u001B[43mpool\u001B[49m\u001B[43m,\u001B[49m\u001B[43m \u001B[49m\u001B[43mprediction_type\u001B[49m\u001B[43m,\u001B[49m\u001B[43m \u001B[49m\u001B[43mntree_start\u001B[49m\u001B[43m,\u001B[49m\u001B[43m \u001B[49m\u001B[43mntree_end\u001B[49m\u001B[43m,\u001B[49m\u001B[43m \u001B[49m\u001B[43mthread_count\u001B[49m\u001B[43m,\u001B[49m\u001B[43m \u001B[49m\u001B[43mverbose\u001B[49m\u001B[43m,\u001B[49m\u001B[43m \u001B[49m\u001B[43mtask_type\u001B[49m\u001B[43m)\u001B[49m\n",
      "File \u001B[1;32m_catboost.pyx:4781\u001B[0m, in \u001B[0;36m_catboost._CatBoost._base_predict\u001B[1;34m()\u001B[0m\n",
      "File \u001B[1;32m_catboost.pyx:4788\u001B[0m, in \u001B[0;36m_catboost._CatBoost._base_predict\u001B[1;34m()\u001B[0m\n",
      "\u001B[1;31mCatBoostError\u001B[0m: C:/Go_Agent/pipelines/BuildMaster/catboost.git/catboost/libs/data/model_dataset_compatibility.cpp:81: At position 1 should be feature with name roam_og_mou_6 (found roam_og_mou_7)."
     ]
    }
   ],
   "source": [
    "predict_model(final_model)\n",
    "pull()"
   ],
   "metadata": {
    "collapsed": false,
    "pycharm": {
     "name": "#%%\n"
    }
   }
  },
  {
   "cell_type": "code",
   "execution_count": 46,
   "outputs": [
    {
     "data": {
      "text/plain": "<IPython.core.display.HTML object>",
      "text/html": ""
     },
     "metadata": {},
     "output_type": "display_data"
    }
   ],
   "source": [
    "predict_unseen_f = predict_model(final_model, data=df_test)"
   ],
   "metadata": {
    "collapsed": false,
    "pycharm": {
     "name": "#%%\n"
    }
   }
  },
  {
   "cell_type": "code",
   "execution_count": 54,
   "outputs": [],
   "source": [
    "overal_f = predict_unseen_f[['id','prediction_label']].rename(columns={'prediction_label':'churn_probability'})"
   ],
   "metadata": {
    "collapsed": false,
    "pycharm": {
     "name": "#%%\n"
    }
   }
  },
  {
   "cell_type": "code",
   "execution_count": 55,
   "outputs": [],
   "source": [
    "overal_f.to_csv( 'overal_f.csv', index=False)"
   ],
   "metadata": {
    "collapsed": false,
    "pycharm": {
     "name": "#%%\n"
    }
   }
  },
  {
   "cell_type": "code",
   "execution_count": 52,
   "outputs": [
    {
     "data": {
      "text/plain": "          id  prediction_label\n0      69999                 0\n1      70000                 0\n2      70001                 0\n3      70002                 0\n4      70003                 0\n...      ...               ...\n29995  99994                 0\n29996  99995                 0\n29997  99996                 0\n29998  99997                 0\n29999  99998                 0\n\n[30000 rows x 2 columns]",
      "text/html": "<div>\n<style scoped>\n    .dataframe tbody tr th:only-of-type {\n        vertical-align: middle;\n    }\n\n    .dataframe tbody tr th {\n        vertical-align: top;\n    }\n\n    .dataframe thead th {\n        text-align: right;\n    }\n</style>\n<table border=\"1\" class=\"dataframe\">\n  <thead>\n    <tr style=\"text-align: right;\">\n      <th></th>\n      <th>id</th>\n      <th>prediction_label</th>\n    </tr>\n  </thead>\n  <tbody>\n    <tr>\n      <th>0</th>\n      <td>69999</td>\n      <td>0</td>\n    </tr>\n    <tr>\n      <th>1</th>\n      <td>70000</td>\n      <td>0</td>\n    </tr>\n    <tr>\n      <th>2</th>\n      <td>70001</td>\n      <td>0</td>\n    </tr>\n    <tr>\n      <th>3</th>\n      <td>70002</td>\n      <td>0</td>\n    </tr>\n    <tr>\n      <th>4</th>\n      <td>70003</td>\n      <td>0</td>\n    </tr>\n    <tr>\n      <th>...</th>\n      <td>...</td>\n      <td>...</td>\n    </tr>\n    <tr>\n      <th>29995</th>\n      <td>99994</td>\n      <td>0</td>\n    </tr>\n    <tr>\n      <th>29996</th>\n      <td>99995</td>\n      <td>0</td>\n    </tr>\n    <tr>\n      <th>29997</th>\n      <td>99996</td>\n      <td>0</td>\n    </tr>\n    <tr>\n      <th>29998</th>\n      <td>99997</td>\n      <td>0</td>\n    </tr>\n    <tr>\n      <th>29999</th>\n      <td>99998</td>\n      <td>0</td>\n    </tr>\n  </tbody>\n</table>\n<p>30000 rows × 2 columns</p>\n</div>"
     },
     "execution_count": 52,
     "metadata": {},
     "output_type": "execute_result"
    }
   ],
   "source": [
    "overal_f"
   ],
   "metadata": {
    "collapsed": false,
    "pycharm": {
     "name": "#%%\n"
    }
   }
  },
  {
   "cell_type": "code",
   "execution_count": 36,
   "outputs": [],
   "source": [],
   "metadata": {
    "collapsed": false,
    "pycharm": {
     "name": "#%%\n"
    }
   }
  },
  {
   "cell_type": "code",
   "execution_count": 49,
   "outputs": [
    {
     "data": {
      "text/plain": "<IPython.core.display.HTML object>",
      "text/html": ""
     },
     "metadata": {},
     "output_type": "display_data"
    }
   ],
   "source": [
    "predict_unseen_b = predict_model(best, data=df_test)"
   ],
   "metadata": {
    "collapsed": false,
    "pycharm": {
     "name": "#%%\n"
    }
   }
  },
  {
   "cell_type": "code",
   "execution_count": 57,
   "outputs": [],
   "source": [
    "overal_b = predict_unseen_b[['id','prediction_label']].rename(columns={'prediction_label':'churn_probability'})"
   ],
   "metadata": {
    "collapsed": false,
    "pycharm": {
     "name": "#%%\n"
    }
   }
  },
  {
   "cell_type": "code",
   "execution_count": 58,
   "outputs": [],
   "source": [
    "overal_b.to_csv( 'overal_b.csv', index=False)\n"
   ],
   "metadata": {
    "collapsed": false,
    "pycharm": {
     "name": "#%%\n"
    }
   }
  },
  {
   "cell_type": "code",
   "execution_count": 53,
   "outputs": [
    {
     "data": {
      "text/plain": "          id  prediction_label\n0      69999                 0\n1      70000                 0\n2      70001                 1\n3      70002                 0\n4      70003                 0\n...      ...               ...\n29995  99994                 0\n29996  99995                 0\n29997  99996                 0\n29998  99997                 0\n29999  99998                 0\n\n[30000 rows x 2 columns]",
      "text/html": "<div>\n<style scoped>\n    .dataframe tbody tr th:only-of-type {\n        vertical-align: middle;\n    }\n\n    .dataframe tbody tr th {\n        vertical-align: top;\n    }\n\n    .dataframe thead th {\n        text-align: right;\n    }\n</style>\n<table border=\"1\" class=\"dataframe\">\n  <thead>\n    <tr style=\"text-align: right;\">\n      <th></th>\n      <th>id</th>\n      <th>prediction_label</th>\n    </tr>\n  </thead>\n  <tbody>\n    <tr>\n      <th>0</th>\n      <td>69999</td>\n      <td>0</td>\n    </tr>\n    <tr>\n      <th>1</th>\n      <td>70000</td>\n      <td>0</td>\n    </tr>\n    <tr>\n      <th>2</th>\n      <td>70001</td>\n      <td>1</td>\n    </tr>\n    <tr>\n      <th>3</th>\n      <td>70002</td>\n      <td>0</td>\n    </tr>\n    <tr>\n      <th>4</th>\n      <td>70003</td>\n      <td>0</td>\n    </tr>\n    <tr>\n      <th>...</th>\n      <td>...</td>\n      <td>...</td>\n    </tr>\n    <tr>\n      <th>29995</th>\n      <td>99994</td>\n      <td>0</td>\n    </tr>\n    <tr>\n      <th>29996</th>\n      <td>99995</td>\n      <td>0</td>\n    </tr>\n    <tr>\n      <th>29997</th>\n      <td>99996</td>\n      <td>0</td>\n    </tr>\n    <tr>\n      <th>29998</th>\n      <td>99997</td>\n      <td>0</td>\n    </tr>\n    <tr>\n      <th>29999</th>\n      <td>99998</td>\n      <td>0</td>\n    </tr>\n  </tbody>\n</table>\n<p>30000 rows × 2 columns</p>\n</div>"
     },
     "execution_count": 53,
     "metadata": {},
     "output_type": "execute_result"
    }
   ],
   "source": [
    "overal_b"
   ],
   "metadata": {
    "collapsed": false,
    "pycharm": {
     "name": "#%%\n"
    }
   }
  }
 ],
 "metadata": {
  "kernelspec": {
   "display_name": "Python 3",
   "language": "python",
   "name": "python3"
  },
  "language_info": {
   "codemirror_mode": {
    "name": "ipython",
    "version": 2
   },
   "file_extension": ".py",
   "mimetype": "text/x-python",
   "name": "python",
   "nbconvert_exporter": "python",
   "pygments_lexer": "ipython2",
   "version": "2.7.6"
  }
 },
 "nbformat": 4,
 "nbformat_minor": 0
}
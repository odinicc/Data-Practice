{
 "cells": [
  {
   "cell_type": "code",
   "execution_count": 1,
   "metadata": {
    "collapsed": true,
    "pycharm": {
     "name": "#%%\n"
    }
   },
   "outputs": [],
   "source": [
    "import pandas as pd\n",
    "import sklearn.neighbors._base\n",
    "import sys\n",
    "sys.modules['sklearn.neighbors.base'] = sklearn.neighbors._base"
   ]
  },
  {
   "cell_type": "code",
   "execution_count": 2,
   "outputs": [],
   "source": [
    "# Standard\n",
    "import pandas as pd\n",
    "import numpy as np\n",
    "import os\n",
    "# Pycaret\n",
    "from pycaret.classification import *\n",
    "# Plots\n",
    "from plotly.offline import iplot\n",
    "import plotly.graph_objects as go\n",
    "from plotly.subplots import make_subplots\n",
    "import seaborn as sns\n",
    "# Sklearn tools\n",
    "from sklearn.preprocessing import LabelEncoder\n",
    "from sklearn.metrics import *\n",
    "# Extras\n",
    "from datetime import date\n",
    "import warnings\n",
    "warnings.filterwarnings(\"ignore\")\n",
    "import seaborn as sns\n",
    "import pycaret\n",
    "\n",
    "from sklearn.impute import SimpleImputer\n",
    "\n",
    "from sklearn.experimental import enable_iterative_imputer\n",
    "from sklearn.impute import IterativeImputer"
   ],
   "metadata": {
    "collapsed": false,
    "pycharm": {
     "name": "#%%\n"
    }
   }
  },
  {
   "cell_type": "code",
   "execution_count": 3,
   "outputs": [],
   "source": [
    "df_test = pd.read_csv('test.csv')"
   ],
   "metadata": {
    "collapsed": false,
    "pycharm": {
     "name": "#%%\n"
    }
   }
  },
  {
   "cell_type": "code",
   "execution_count": 4,
   "outputs": [],
   "source": [
    "df_train = pd.read_csv('train.csv')"
   ],
   "metadata": {
    "collapsed": false,
    "pycharm": {
     "name": "#%%\n"
    }
   }
  },
  {
   "cell_type": "code",
   "execution_count": 5,
   "outputs": [
    {
     "data": {
      "text/plain": "          id  circle_id  loc_og_t2o_mou  std_og_t2o_mou  loc_ic_t2o_mou  \\\n0          0        109             0.0             0.0             0.0   \n1          1        109             0.0             0.0             0.0   \n2          2        109             0.0             0.0             0.0   \n3          3        109             0.0             0.0             0.0   \n4          4        109             0.0             0.0             0.0   \n...      ...        ...             ...             ...             ...   \n69994  69994        109             0.0             0.0             0.0   \n69995  69995        109             0.0             0.0             0.0   \n69996  69996        109             0.0             0.0             0.0   \n69997  69997        109             0.0             0.0             0.0   \n69998  69998        109             0.0             0.0             0.0   \n\n      last_date_of_month_6 last_date_of_month_7 last_date_of_month_8   arpu_6  \\\n0                6/30/2014            7/31/2014            8/31/2014   31.277   \n1                6/30/2014            7/31/2014            8/31/2014    0.000   \n2                6/30/2014            7/31/2014            8/31/2014   60.806   \n3                6/30/2014            7/31/2014            8/31/2014  156.362   \n4                6/30/2014            7/31/2014            8/31/2014  240.708   \n...                    ...                  ...                  ...      ...   \n69994            6/30/2014            7/31/2014            8/31/2014   15.760   \n69995            6/30/2014            7/31/2014            8/31/2014  160.083   \n69996            6/30/2014            7/31/2014            8/31/2014  372.088   \n69997            6/30/2014            7/31/2014            8/31/2014  238.575   \n69998            6/30/2014            7/31/2014            8/31/2014  168.269   \n\n        arpu_7  ...  sachet_3g_7  sachet_3g_8  fb_user_6  fb_user_7  \\\n0       87.009  ...            0            0        NaN        NaN   \n1      122.787  ...            0            0        NaN        1.0   \n2      103.176  ...            0            0        NaN        NaN   \n3      205.260  ...            0            0        NaN        NaN   \n4      128.191  ...            1            0        1.0        1.0   \n...        ...  ...          ...          ...        ...        ...   \n69994  410.924  ...            1            0        NaN        1.0   \n69995  289.129  ...            0            0        NaN        NaN   \n69996  258.374  ...            0            0        NaN        NaN   \n69997  245.414  ...            0            0        1.0        1.0   \n69998   42.815  ...            0            0        1.0        NaN   \n\n       fb_user_8   aon  aug_vbc_3g  jul_vbc_3g  jun_vbc_3g  churn_probability  \n0            NaN  1958        0.00        0.00        0.00                  0  \n1            NaN   710        0.00        0.00        0.00                  0  \n2            NaN   882        0.00        0.00        0.00                  0  \n3            NaN   982        0.00        0.00        0.00                  0  \n4            1.0   647        0.00        0.00        0.00                  0  \n...          ...   ...         ...         ...         ...                ...  \n69994        1.0   221        0.00        0.00        0.00                  0  \n69995        NaN   712        0.00        0.00        0.00                  0  \n69996        NaN   879        0.00        0.00        0.00                  0  \n69997        1.0   277      664.25     1402.96      990.97                  0  \n69998        1.0  1876        0.00        0.00        0.00                  0  \n\n[69999 rows x 172 columns]",
      "text/html": "<div>\n<style scoped>\n    .dataframe tbody tr th:only-of-type {\n        vertical-align: middle;\n    }\n\n    .dataframe tbody tr th {\n        vertical-align: top;\n    }\n\n    .dataframe thead th {\n        text-align: right;\n    }\n</style>\n<table border=\"1\" class=\"dataframe\">\n  <thead>\n    <tr style=\"text-align: right;\">\n      <th></th>\n      <th>id</th>\n      <th>circle_id</th>\n      <th>loc_og_t2o_mou</th>\n      <th>std_og_t2o_mou</th>\n      <th>loc_ic_t2o_mou</th>\n      <th>last_date_of_month_6</th>\n      <th>last_date_of_month_7</th>\n      <th>last_date_of_month_8</th>\n      <th>arpu_6</th>\n      <th>arpu_7</th>\n      <th>...</th>\n      <th>sachet_3g_7</th>\n      <th>sachet_3g_8</th>\n      <th>fb_user_6</th>\n      <th>fb_user_7</th>\n      <th>fb_user_8</th>\n      <th>aon</th>\n      <th>aug_vbc_3g</th>\n      <th>jul_vbc_3g</th>\n      <th>jun_vbc_3g</th>\n      <th>churn_probability</th>\n    </tr>\n  </thead>\n  <tbody>\n    <tr>\n      <th>0</th>\n      <td>0</td>\n      <td>109</td>\n      <td>0.0</td>\n      <td>0.0</td>\n      <td>0.0</td>\n      <td>6/30/2014</td>\n      <td>7/31/2014</td>\n      <td>8/31/2014</td>\n      <td>31.277</td>\n      <td>87.009</td>\n      <td>...</td>\n      <td>0</td>\n      <td>0</td>\n      <td>NaN</td>\n      <td>NaN</td>\n      <td>NaN</td>\n      <td>1958</td>\n      <td>0.00</td>\n      <td>0.00</td>\n      <td>0.00</td>\n      <td>0</td>\n    </tr>\n    <tr>\n      <th>1</th>\n      <td>1</td>\n      <td>109</td>\n      <td>0.0</td>\n      <td>0.0</td>\n      <td>0.0</td>\n      <td>6/30/2014</td>\n      <td>7/31/2014</td>\n      <td>8/31/2014</td>\n      <td>0.000</td>\n      <td>122.787</td>\n      <td>...</td>\n      <td>0</td>\n      <td>0</td>\n      <td>NaN</td>\n      <td>1.0</td>\n      <td>NaN</td>\n      <td>710</td>\n      <td>0.00</td>\n      <td>0.00</td>\n      <td>0.00</td>\n      <td>0</td>\n    </tr>\n    <tr>\n      <th>2</th>\n      <td>2</td>\n      <td>109</td>\n      <td>0.0</td>\n      <td>0.0</td>\n      <td>0.0</td>\n      <td>6/30/2014</td>\n      <td>7/31/2014</td>\n      <td>8/31/2014</td>\n      <td>60.806</td>\n      <td>103.176</td>\n      <td>...</td>\n      <td>0</td>\n      <td>0</td>\n      <td>NaN</td>\n      <td>NaN</td>\n      <td>NaN</td>\n      <td>882</td>\n      <td>0.00</td>\n      <td>0.00</td>\n      <td>0.00</td>\n      <td>0</td>\n    </tr>\n    <tr>\n      <th>3</th>\n      <td>3</td>\n      <td>109</td>\n      <td>0.0</td>\n      <td>0.0</td>\n      <td>0.0</td>\n      <td>6/30/2014</td>\n      <td>7/31/2014</td>\n      <td>8/31/2014</td>\n      <td>156.362</td>\n      <td>205.260</td>\n      <td>...</td>\n      <td>0</td>\n      <td>0</td>\n      <td>NaN</td>\n      <td>NaN</td>\n      <td>NaN</td>\n      <td>982</td>\n      <td>0.00</td>\n      <td>0.00</td>\n      <td>0.00</td>\n      <td>0</td>\n    </tr>\n    <tr>\n      <th>4</th>\n      <td>4</td>\n      <td>109</td>\n      <td>0.0</td>\n      <td>0.0</td>\n      <td>0.0</td>\n      <td>6/30/2014</td>\n      <td>7/31/2014</td>\n      <td>8/31/2014</td>\n      <td>240.708</td>\n      <td>128.191</td>\n      <td>...</td>\n      <td>1</td>\n      <td>0</td>\n      <td>1.0</td>\n      <td>1.0</td>\n      <td>1.0</td>\n      <td>647</td>\n      <td>0.00</td>\n      <td>0.00</td>\n      <td>0.00</td>\n      <td>0</td>\n    </tr>\n    <tr>\n      <th>...</th>\n      <td>...</td>\n      <td>...</td>\n      <td>...</td>\n      <td>...</td>\n      <td>...</td>\n      <td>...</td>\n      <td>...</td>\n      <td>...</td>\n      <td>...</td>\n      <td>...</td>\n      <td>...</td>\n      <td>...</td>\n      <td>...</td>\n      <td>...</td>\n      <td>...</td>\n      <td>...</td>\n      <td>...</td>\n      <td>...</td>\n      <td>...</td>\n      <td>...</td>\n      <td>...</td>\n    </tr>\n    <tr>\n      <th>69994</th>\n      <td>69994</td>\n      <td>109</td>\n      <td>0.0</td>\n      <td>0.0</td>\n      <td>0.0</td>\n      <td>6/30/2014</td>\n      <td>7/31/2014</td>\n      <td>8/31/2014</td>\n      <td>15.760</td>\n      <td>410.924</td>\n      <td>...</td>\n      <td>1</td>\n      <td>0</td>\n      <td>NaN</td>\n      <td>1.0</td>\n      <td>1.0</td>\n      <td>221</td>\n      <td>0.00</td>\n      <td>0.00</td>\n      <td>0.00</td>\n      <td>0</td>\n    </tr>\n    <tr>\n      <th>69995</th>\n      <td>69995</td>\n      <td>109</td>\n      <td>0.0</td>\n      <td>0.0</td>\n      <td>0.0</td>\n      <td>6/30/2014</td>\n      <td>7/31/2014</td>\n      <td>8/31/2014</td>\n      <td>160.083</td>\n      <td>289.129</td>\n      <td>...</td>\n      <td>0</td>\n      <td>0</td>\n      <td>NaN</td>\n      <td>NaN</td>\n      <td>NaN</td>\n      <td>712</td>\n      <td>0.00</td>\n      <td>0.00</td>\n      <td>0.00</td>\n      <td>0</td>\n    </tr>\n    <tr>\n      <th>69996</th>\n      <td>69996</td>\n      <td>109</td>\n      <td>0.0</td>\n      <td>0.0</td>\n      <td>0.0</td>\n      <td>6/30/2014</td>\n      <td>7/31/2014</td>\n      <td>8/31/2014</td>\n      <td>372.088</td>\n      <td>258.374</td>\n      <td>...</td>\n      <td>0</td>\n      <td>0</td>\n      <td>NaN</td>\n      <td>NaN</td>\n      <td>NaN</td>\n      <td>879</td>\n      <td>0.00</td>\n      <td>0.00</td>\n      <td>0.00</td>\n      <td>0</td>\n    </tr>\n    <tr>\n      <th>69997</th>\n      <td>69997</td>\n      <td>109</td>\n      <td>0.0</td>\n      <td>0.0</td>\n      <td>0.0</td>\n      <td>6/30/2014</td>\n      <td>7/31/2014</td>\n      <td>8/31/2014</td>\n      <td>238.575</td>\n      <td>245.414</td>\n      <td>...</td>\n      <td>0</td>\n      <td>0</td>\n      <td>1.0</td>\n      <td>1.0</td>\n      <td>1.0</td>\n      <td>277</td>\n      <td>664.25</td>\n      <td>1402.96</td>\n      <td>990.97</td>\n      <td>0</td>\n    </tr>\n    <tr>\n      <th>69998</th>\n      <td>69998</td>\n      <td>109</td>\n      <td>0.0</td>\n      <td>0.0</td>\n      <td>0.0</td>\n      <td>6/30/2014</td>\n      <td>7/31/2014</td>\n      <td>8/31/2014</td>\n      <td>168.269</td>\n      <td>42.815</td>\n      <td>...</td>\n      <td>0</td>\n      <td>0</td>\n      <td>1.0</td>\n      <td>NaN</td>\n      <td>1.0</td>\n      <td>1876</td>\n      <td>0.00</td>\n      <td>0.00</td>\n      <td>0.00</td>\n      <td>0</td>\n    </tr>\n  </tbody>\n</table>\n<p>69999 rows × 172 columns</p>\n</div>"
     },
     "execution_count": 5,
     "metadata": {},
     "output_type": "execute_result"
    }
   ],
   "source": [
    "df_train"
   ],
   "metadata": {
    "collapsed": false,
    "pycharm": {
     "name": "#%%\n"
    }
   }
  },
  {
   "cell_type": "code",
   "execution_count": 6,
   "outputs": [
    {
     "data": {
      "text/plain": "                         column_name  percent_missing\nid                                id         0.000000\ncircle_id                  circle_id         0.000000\nloc_og_t2o_mou        loc_og_t2o_mou         1.002871\nstd_og_t2o_mou        std_og_t2o_mou         1.002871\nloc_ic_t2o_mou        loc_ic_t2o_mou         1.002871\n...                              ...              ...\naon                              aon         0.000000\naug_vbc_3g                aug_vbc_3g         0.000000\njul_vbc_3g                jul_vbc_3g         0.000000\njun_vbc_3g                jun_vbc_3g         0.000000\nchurn_probability  churn_probability         0.000000\n\n[172 rows x 2 columns]",
      "text/html": "<div>\n<style scoped>\n    .dataframe tbody tr th:only-of-type {\n        vertical-align: middle;\n    }\n\n    .dataframe tbody tr th {\n        vertical-align: top;\n    }\n\n    .dataframe thead th {\n        text-align: right;\n    }\n</style>\n<table border=\"1\" class=\"dataframe\">\n  <thead>\n    <tr style=\"text-align: right;\">\n      <th></th>\n      <th>column_name</th>\n      <th>percent_missing</th>\n    </tr>\n  </thead>\n  <tbody>\n    <tr>\n      <th>id</th>\n      <td>id</td>\n      <td>0.000000</td>\n    </tr>\n    <tr>\n      <th>circle_id</th>\n      <td>circle_id</td>\n      <td>0.000000</td>\n    </tr>\n    <tr>\n      <th>loc_og_t2o_mou</th>\n      <td>loc_og_t2o_mou</td>\n      <td>1.002871</td>\n    </tr>\n    <tr>\n      <th>std_og_t2o_mou</th>\n      <td>std_og_t2o_mou</td>\n      <td>1.002871</td>\n    </tr>\n    <tr>\n      <th>loc_ic_t2o_mou</th>\n      <td>loc_ic_t2o_mou</td>\n      <td>1.002871</td>\n    </tr>\n    <tr>\n      <th>...</th>\n      <td>...</td>\n      <td>...</td>\n    </tr>\n    <tr>\n      <th>aon</th>\n      <td>aon</td>\n      <td>0.000000</td>\n    </tr>\n    <tr>\n      <th>aug_vbc_3g</th>\n      <td>aug_vbc_3g</td>\n      <td>0.000000</td>\n    </tr>\n    <tr>\n      <th>jul_vbc_3g</th>\n      <td>jul_vbc_3g</td>\n      <td>0.000000</td>\n    </tr>\n    <tr>\n      <th>jun_vbc_3g</th>\n      <td>jun_vbc_3g</td>\n      <td>0.000000</td>\n    </tr>\n    <tr>\n      <th>churn_probability</th>\n      <td>churn_probability</td>\n      <td>0.000000</td>\n    </tr>\n  </tbody>\n</table>\n<p>172 rows × 2 columns</p>\n</div>"
     },
     "execution_count": 6,
     "metadata": {},
     "output_type": "execute_result"
    }
   ],
   "source": [
    "percent_missing = df_train.isnull().sum() * 100 / len(df_train)\n",
    "missing_value_df = pd.DataFrame({'column_name': df_train.columns,\n",
    "                                 'percent_missing': percent_missing})\n",
    "missing_value_df"
   ],
   "metadata": {
    "collapsed": false,
    "pycharm": {
     "name": "#%%\n"
    }
   }
  },
  {
   "cell_type": "code",
   "execution_count": 19,
   "outputs": [],
   "source": [
    "columns_with_good_data = missing_value_df[missing_value_df['percent_missing']<40]['column_name'].to_list()\n"
   ],
   "metadata": {
    "collapsed": false,
    "pycharm": {
     "name": "#%%\n"
    }
   }
  },
  {
   "cell_type": "code",
   "execution_count": 21,
   "outputs": [],
   "source": [
    "df_train_short = df_train[columns_with_good_data]"
   ],
   "metadata": {
    "collapsed": false,
    "pycharm": {
     "name": "#%%\n"
    }
   }
  },
  {
   "cell_type": "code",
   "execution_count": 22,
   "outputs": [],
   "source": [
    "columns_with_good_data.remove('churn_probability')"
   ],
   "metadata": {
    "collapsed": false,
    "pycharm": {
     "name": "#%%\n"
    }
   }
  },
  {
   "cell_type": "code",
   "execution_count": 23,
   "outputs": [],
   "source": [
    "df_test_short = df_test[columns_with_good_data]"
   ],
   "metadata": {
    "collapsed": false,
    "pycharm": {
     "name": "#%%\n"
    }
   }
  },
  {
   "cell_type": "code",
   "execution_count": 24,
   "outputs": [],
   "source": [
    "df_test_short['churn_probability'] = -1"
   ],
   "metadata": {
    "collapsed": false,
    "pycharm": {
     "name": "#%%\n"
    }
   }
  },
  {
   "cell_type": "code",
   "execution_count": 25,
   "outputs": [],
   "source": [
    "df_short = pd.concat([df_train_short,df_test_short])"
   ],
   "metadata": {
    "collapsed": false,
    "pycharm": {
     "name": "#%%\n"
    }
   }
  },
  {
   "cell_type": "code",
   "execution_count": 27,
   "outputs": [],
   "source": [
    "df_short.drop(columns=['last_date_of_month_6'],inplace=True)"
   ],
   "metadata": {
    "collapsed": false,
    "pycharm": {
     "name": "#%%\n"
    }
   }
  },
  {
   "cell_type": "code",
   "execution_count": 28,
   "outputs": [],
   "source": [
    "df_short.loc[df_short['last_date_of_month_7'].notnull(), 'last_date_of_month_7'] = 1\n",
    "df_short.loc[df_short['last_date_of_month_7'].isnull(), 'last_date_of_month_7'] = 0"
   ],
   "metadata": {
    "collapsed": false,
    "pycharm": {
     "name": "#%%\n"
    }
   }
  },
  {
   "cell_type": "code",
   "execution_count": 29,
   "outputs": [],
   "source": [
    "df_short.loc[df_short['last_date_of_month_8'].notnull(), 'last_date_of_month_8'] = 1\n",
    "df_short.loc[df_short['last_date_of_month_8'].isnull(), 'last_date_of_month_8'] = 0"
   ],
   "metadata": {
    "collapsed": false,
    "pycharm": {
     "name": "#%%\n"
    }
   }
  },
  {
   "cell_type": "code",
   "execution_count": 30,
   "outputs": [
    {
     "data": {
      "text/plain": "          id  circle_id  loc_og_t2o_mou  std_og_t2o_mou  loc_ic_t2o_mou  \\\n0          0        109             0.0             0.0             0.0   \n1          1        109             0.0             0.0             0.0   \n2          2        109             0.0             0.0             0.0   \n3          3        109             0.0             0.0             0.0   \n4          4        109             0.0             0.0             0.0   \n...      ...        ...             ...             ...             ...   \n29995  99994        109             0.0             0.0             0.0   \n29996  99995        109             0.0             0.0             0.0   \n29997  99996        109             0.0             0.0             0.0   \n29998  99997        109             0.0             0.0             0.0   \n29999  99998        109             0.0             0.0             0.0   \n\n      last_date_of_month_7 last_date_of_month_8    arpu_6   arpu_7   arpu_8  \\\n0                        1                    1    31.277   87.009    7.527   \n1                        1                    1     0.000  122.787   42.953   \n2                        1                    1    60.806  103.176    0.000   \n3                        1                    1   156.362  205.260  111.095   \n4                        1                    1   240.708  128.191  101.565   \n...                    ...                  ...       ...      ...      ...   \n29995                    1                    1   718.870  396.259  406.150   \n29996                    1                    1   218.327  324.070  374.981   \n29997                    1                    1   139.473   38.230  180.194   \n29998                    1                    1  1122.912  781.121  257.439   \n29999                    1                    1   318.980  307.890  605.320   \n\n       ...  monthly_3g_7  monthly_3g_8  sachet_3g_6  sachet_3g_7  sachet_3g_8  \\\n0      ...             0             0            0            0            0   \n1      ...             1             0            0            0            0   \n2      ...             0             0            0            0            0   \n3      ...             0             0            0            0            0   \n4      ...             0             0            0            1            0   \n...    ...           ...           ...          ...          ...          ...   \n29995  ...             0             0            0            0            0   \n29996  ...             1             0            0            0            0   \n29997  ...             0             0            0            0            0   \n29998  ...             0             0            0            0            0   \n29999  ...             3             2            1            1            0   \n\n        aon  aug_vbc_3g  jul_vbc_3g  jun_vbc_3g  churn_probability  \n0      1958        0.00        0.00        0.00                  0  \n1       710        0.00        0.00        0.00                  0  \n2       882        0.00        0.00        0.00                  0  \n3       982        0.00        0.00        0.00                  0  \n4       647        0.00        0.00        0.00                  0  \n...     ...         ...         ...         ...                ...  \n29995  1255        3.71      105.64       61.48                 -1  \n29996  2258        0.00        0.00        0.00                 -1  \n29997   440        0.00        0.00        0.00                 -1  \n29998   810        0.00        0.00        0.00                 -1  \n29999   440      762.55      687.13       22.76                 -1  \n\n[99999 rows x 141 columns]",
      "text/html": "<div>\n<style scoped>\n    .dataframe tbody tr th:only-of-type {\n        vertical-align: middle;\n    }\n\n    .dataframe tbody tr th {\n        vertical-align: top;\n    }\n\n    .dataframe thead th {\n        text-align: right;\n    }\n</style>\n<table border=\"1\" class=\"dataframe\">\n  <thead>\n    <tr style=\"text-align: right;\">\n      <th></th>\n      <th>id</th>\n      <th>circle_id</th>\n      <th>loc_og_t2o_mou</th>\n      <th>std_og_t2o_mou</th>\n      <th>loc_ic_t2o_mou</th>\n      <th>last_date_of_month_7</th>\n      <th>last_date_of_month_8</th>\n      <th>arpu_6</th>\n      <th>arpu_7</th>\n      <th>arpu_8</th>\n      <th>...</th>\n      <th>monthly_3g_7</th>\n      <th>monthly_3g_8</th>\n      <th>sachet_3g_6</th>\n      <th>sachet_3g_7</th>\n      <th>sachet_3g_8</th>\n      <th>aon</th>\n      <th>aug_vbc_3g</th>\n      <th>jul_vbc_3g</th>\n      <th>jun_vbc_3g</th>\n      <th>churn_probability</th>\n    </tr>\n  </thead>\n  <tbody>\n    <tr>\n      <th>0</th>\n      <td>0</td>\n      <td>109</td>\n      <td>0.0</td>\n      <td>0.0</td>\n      <td>0.0</td>\n      <td>1</td>\n      <td>1</td>\n      <td>31.277</td>\n      <td>87.009</td>\n      <td>7.527</td>\n      <td>...</td>\n      <td>0</td>\n      <td>0</td>\n      <td>0</td>\n      <td>0</td>\n      <td>0</td>\n      <td>1958</td>\n      <td>0.00</td>\n      <td>0.00</td>\n      <td>0.00</td>\n      <td>0</td>\n    </tr>\n    <tr>\n      <th>1</th>\n      <td>1</td>\n      <td>109</td>\n      <td>0.0</td>\n      <td>0.0</td>\n      <td>0.0</td>\n      <td>1</td>\n      <td>1</td>\n      <td>0.000</td>\n      <td>122.787</td>\n      <td>42.953</td>\n      <td>...</td>\n      <td>1</td>\n      <td>0</td>\n      <td>0</td>\n      <td>0</td>\n      <td>0</td>\n      <td>710</td>\n      <td>0.00</td>\n      <td>0.00</td>\n      <td>0.00</td>\n      <td>0</td>\n    </tr>\n    <tr>\n      <th>2</th>\n      <td>2</td>\n      <td>109</td>\n      <td>0.0</td>\n      <td>0.0</td>\n      <td>0.0</td>\n      <td>1</td>\n      <td>1</td>\n      <td>60.806</td>\n      <td>103.176</td>\n      <td>0.000</td>\n      <td>...</td>\n      <td>0</td>\n      <td>0</td>\n      <td>0</td>\n      <td>0</td>\n      <td>0</td>\n      <td>882</td>\n      <td>0.00</td>\n      <td>0.00</td>\n      <td>0.00</td>\n      <td>0</td>\n    </tr>\n    <tr>\n      <th>3</th>\n      <td>3</td>\n      <td>109</td>\n      <td>0.0</td>\n      <td>0.0</td>\n      <td>0.0</td>\n      <td>1</td>\n      <td>1</td>\n      <td>156.362</td>\n      <td>205.260</td>\n      <td>111.095</td>\n      <td>...</td>\n      <td>0</td>\n      <td>0</td>\n      <td>0</td>\n      <td>0</td>\n      <td>0</td>\n      <td>982</td>\n      <td>0.00</td>\n      <td>0.00</td>\n      <td>0.00</td>\n      <td>0</td>\n    </tr>\n    <tr>\n      <th>4</th>\n      <td>4</td>\n      <td>109</td>\n      <td>0.0</td>\n      <td>0.0</td>\n      <td>0.0</td>\n      <td>1</td>\n      <td>1</td>\n      <td>240.708</td>\n      <td>128.191</td>\n      <td>101.565</td>\n      <td>...</td>\n      <td>0</td>\n      <td>0</td>\n      <td>0</td>\n      <td>1</td>\n      <td>0</td>\n      <td>647</td>\n      <td>0.00</td>\n      <td>0.00</td>\n      <td>0.00</td>\n      <td>0</td>\n    </tr>\n    <tr>\n      <th>...</th>\n      <td>...</td>\n      <td>...</td>\n      <td>...</td>\n      <td>...</td>\n      <td>...</td>\n      <td>...</td>\n      <td>...</td>\n      <td>...</td>\n      <td>...</td>\n      <td>...</td>\n      <td>...</td>\n      <td>...</td>\n      <td>...</td>\n      <td>...</td>\n      <td>...</td>\n      <td>...</td>\n      <td>...</td>\n      <td>...</td>\n      <td>...</td>\n      <td>...</td>\n      <td>...</td>\n    </tr>\n    <tr>\n      <th>29995</th>\n      <td>99994</td>\n      <td>109</td>\n      <td>0.0</td>\n      <td>0.0</td>\n      <td>0.0</td>\n      <td>1</td>\n      <td>1</td>\n      <td>718.870</td>\n      <td>396.259</td>\n      <td>406.150</td>\n      <td>...</td>\n      <td>0</td>\n      <td>0</td>\n      <td>0</td>\n      <td>0</td>\n      <td>0</td>\n      <td>1255</td>\n      <td>3.71</td>\n      <td>105.64</td>\n      <td>61.48</td>\n      <td>-1</td>\n    </tr>\n    <tr>\n      <th>29996</th>\n      <td>99995</td>\n      <td>109</td>\n      <td>0.0</td>\n      <td>0.0</td>\n      <td>0.0</td>\n      <td>1</td>\n      <td>1</td>\n      <td>218.327</td>\n      <td>324.070</td>\n      <td>374.981</td>\n      <td>...</td>\n      <td>1</td>\n      <td>0</td>\n      <td>0</td>\n      <td>0</td>\n      <td>0</td>\n      <td>2258</td>\n      <td>0.00</td>\n      <td>0.00</td>\n      <td>0.00</td>\n      <td>-1</td>\n    </tr>\n    <tr>\n      <th>29997</th>\n      <td>99996</td>\n      <td>109</td>\n      <td>0.0</td>\n      <td>0.0</td>\n      <td>0.0</td>\n      <td>1</td>\n      <td>1</td>\n      <td>139.473</td>\n      <td>38.230</td>\n      <td>180.194</td>\n      <td>...</td>\n      <td>0</td>\n      <td>0</td>\n      <td>0</td>\n      <td>0</td>\n      <td>0</td>\n      <td>440</td>\n      <td>0.00</td>\n      <td>0.00</td>\n      <td>0.00</td>\n      <td>-1</td>\n    </tr>\n    <tr>\n      <th>29998</th>\n      <td>99997</td>\n      <td>109</td>\n      <td>0.0</td>\n      <td>0.0</td>\n      <td>0.0</td>\n      <td>1</td>\n      <td>1</td>\n      <td>1122.912</td>\n      <td>781.121</td>\n      <td>257.439</td>\n      <td>...</td>\n      <td>0</td>\n      <td>0</td>\n      <td>0</td>\n      <td>0</td>\n      <td>0</td>\n      <td>810</td>\n      <td>0.00</td>\n      <td>0.00</td>\n      <td>0.00</td>\n      <td>-1</td>\n    </tr>\n    <tr>\n      <th>29999</th>\n      <td>99998</td>\n      <td>109</td>\n      <td>0.0</td>\n      <td>0.0</td>\n      <td>0.0</td>\n      <td>1</td>\n      <td>1</td>\n      <td>318.980</td>\n      <td>307.890</td>\n      <td>605.320</td>\n      <td>...</td>\n      <td>3</td>\n      <td>2</td>\n      <td>1</td>\n      <td>1</td>\n      <td>0</td>\n      <td>440</td>\n      <td>762.55</td>\n      <td>687.13</td>\n      <td>22.76</td>\n      <td>-1</td>\n    </tr>\n  </tbody>\n</table>\n<p>99999 rows × 141 columns</p>\n</div>"
     },
     "execution_count": 30,
     "metadata": {},
     "output_type": "execute_result"
    }
   ],
   "source": [
    "df_short"
   ],
   "metadata": {
    "collapsed": false,
    "pycharm": {
     "name": "#%%\n"
    }
   }
  },
  {
   "cell_type": "code",
   "execution_count": null,
   "outputs": [],
   "source": [
    "#Fill NaN Values"
   ],
   "metadata": {
    "collapsed": false,
    "pycharm": {
     "name": "#%%\n"
    }
   }
  },
  {
   "cell_type": "code",
   "execution_count": 33,
   "outputs": [
    {
     "data": {
      "text/plain": "                         column_name  percent_missing\nid                                id          0.00000\ncircle_id                  circle_id          0.00000\nloc_og_t2o_mou        loc_og_t2o_mou          1.01801\nstd_og_t2o_mou        std_og_t2o_mou          1.01801\nloc_ic_t2o_mou        loc_ic_t2o_mou          1.01801\n...                              ...              ...\naon                              aon          0.00000\naug_vbc_3g                aug_vbc_3g          0.00000\njul_vbc_3g                jul_vbc_3g          0.00000\njun_vbc_3g                jun_vbc_3g          0.00000\nchurn_probability  churn_probability          0.00000\n\n[141 rows x 2 columns]",
      "text/html": "<div>\n<style scoped>\n    .dataframe tbody tr th:only-of-type {\n        vertical-align: middle;\n    }\n\n    .dataframe tbody tr th {\n        vertical-align: top;\n    }\n\n    .dataframe thead th {\n        text-align: right;\n    }\n</style>\n<table border=\"1\" class=\"dataframe\">\n  <thead>\n    <tr style=\"text-align: right;\">\n      <th></th>\n      <th>column_name</th>\n      <th>percent_missing</th>\n    </tr>\n  </thead>\n  <tbody>\n    <tr>\n      <th>id</th>\n      <td>id</td>\n      <td>0.00000</td>\n    </tr>\n    <tr>\n      <th>circle_id</th>\n      <td>circle_id</td>\n      <td>0.00000</td>\n    </tr>\n    <tr>\n      <th>loc_og_t2o_mou</th>\n      <td>loc_og_t2o_mou</td>\n      <td>1.01801</td>\n    </tr>\n    <tr>\n      <th>std_og_t2o_mou</th>\n      <td>std_og_t2o_mou</td>\n      <td>1.01801</td>\n    </tr>\n    <tr>\n      <th>loc_ic_t2o_mou</th>\n      <td>loc_ic_t2o_mou</td>\n      <td>1.01801</td>\n    </tr>\n    <tr>\n      <th>...</th>\n      <td>...</td>\n      <td>...</td>\n    </tr>\n    <tr>\n      <th>aon</th>\n      <td>aon</td>\n      <td>0.00000</td>\n    </tr>\n    <tr>\n      <th>aug_vbc_3g</th>\n      <td>aug_vbc_3g</td>\n      <td>0.00000</td>\n    </tr>\n    <tr>\n      <th>jul_vbc_3g</th>\n      <td>jul_vbc_3g</td>\n      <td>0.00000</td>\n    </tr>\n    <tr>\n      <th>jun_vbc_3g</th>\n      <td>jun_vbc_3g</td>\n      <td>0.00000</td>\n    </tr>\n    <tr>\n      <th>churn_probability</th>\n      <td>churn_probability</td>\n      <td>0.00000</td>\n    </tr>\n  </tbody>\n</table>\n<p>141 rows × 2 columns</p>\n</div>"
     },
     "execution_count": 33,
     "metadata": {},
     "output_type": "execute_result"
    }
   ],
   "source": [
    "percent_missing = df_short.isnull().sum() * 100 / len(df_short)\n",
    "missing_value_df = pd.DataFrame({'column_name': df_short.columns,\n",
    "                                 'percent_missing': percent_missing})\n",
    "missing_value_df"
   ],
   "metadata": {
    "collapsed": false,
    "pycharm": {
     "name": "#%%\n"
    }
   }
  },
  {
   "cell_type": "code",
   "execution_count": 34,
   "outputs": [],
   "source": [
    "df_short.drop(columns = ['date_of_last_rech_6','date_of_last_rech_7','date_of_last_rech_8'], inplace=True)"
   ],
   "metadata": {
    "collapsed": false,
    "pycharm": {
     "name": "#%%\n"
    }
   }
  },
  {
   "cell_type": "code",
   "execution_count": 31,
   "outputs": [],
   "source": [
    "imp = IterativeImputer(max_iter=10, random_state=0)"
   ],
   "metadata": {
    "collapsed": false,
    "pycharm": {
     "name": "#%%\n"
    }
   }
  },
  {
   "cell_type": "code",
   "execution_count": 35,
   "outputs": [
    {
     "data": {
      "text/plain": "IterativeImputer(random_state=0)",
      "text/html": "<style>#sk-container-id-1 {color: black;background-color: white;}#sk-container-id-1 pre{padding: 0;}#sk-container-id-1 div.sk-toggleable {background-color: white;}#sk-container-id-1 label.sk-toggleable__label {cursor: pointer;display: block;width: 100%;margin-bottom: 0;padding: 0.3em;box-sizing: border-box;text-align: center;}#sk-container-id-1 label.sk-toggleable__label-arrow:before {content: \"▸\";float: left;margin-right: 0.25em;color: #696969;}#sk-container-id-1 label.sk-toggleable__label-arrow:hover:before {color: black;}#sk-container-id-1 div.sk-estimator:hover label.sk-toggleable__label-arrow:before {color: black;}#sk-container-id-1 div.sk-toggleable__content {max-height: 0;max-width: 0;overflow: hidden;text-align: left;background-color: #f0f8ff;}#sk-container-id-1 div.sk-toggleable__content pre {margin: 0.2em;color: black;border-radius: 0.25em;background-color: #f0f8ff;}#sk-container-id-1 input.sk-toggleable__control:checked~div.sk-toggleable__content {max-height: 200px;max-width: 100%;overflow: auto;}#sk-container-id-1 input.sk-toggleable__control:checked~label.sk-toggleable__label-arrow:before {content: \"▾\";}#sk-container-id-1 div.sk-estimator input.sk-toggleable__control:checked~label.sk-toggleable__label {background-color: #d4ebff;}#sk-container-id-1 div.sk-label input.sk-toggleable__control:checked~label.sk-toggleable__label {background-color: #d4ebff;}#sk-container-id-1 input.sk-hidden--visually {border: 0;clip: rect(1px 1px 1px 1px);clip: rect(1px, 1px, 1px, 1px);height: 1px;margin: -1px;overflow: hidden;padding: 0;position: absolute;width: 1px;}#sk-container-id-1 div.sk-estimator {font-family: monospace;background-color: #f0f8ff;border: 1px dotted black;border-radius: 0.25em;box-sizing: border-box;margin-bottom: 0.5em;}#sk-container-id-1 div.sk-estimator:hover {background-color: #d4ebff;}#sk-container-id-1 div.sk-parallel-item::after {content: \"\";width: 100%;border-bottom: 1px solid gray;flex-grow: 1;}#sk-container-id-1 div.sk-label:hover label.sk-toggleable__label {background-color: #d4ebff;}#sk-container-id-1 div.sk-serial::before {content: \"\";position: absolute;border-left: 1px solid gray;box-sizing: border-box;top: 0;bottom: 0;left: 50%;z-index: 0;}#sk-container-id-1 div.sk-serial {display: flex;flex-direction: column;align-items: center;background-color: white;padding-right: 0.2em;padding-left: 0.2em;position: relative;}#sk-container-id-1 div.sk-item {position: relative;z-index: 1;}#sk-container-id-1 div.sk-parallel {display: flex;align-items: stretch;justify-content: center;background-color: white;position: relative;}#sk-container-id-1 div.sk-item::before, #sk-container-id-1 div.sk-parallel-item::before {content: \"\";position: absolute;border-left: 1px solid gray;box-sizing: border-box;top: 0;bottom: 0;left: 50%;z-index: -1;}#sk-container-id-1 div.sk-parallel-item {display: flex;flex-direction: column;z-index: 1;position: relative;background-color: white;}#sk-container-id-1 div.sk-parallel-item:first-child::after {align-self: flex-end;width: 50%;}#sk-container-id-1 div.sk-parallel-item:last-child::after {align-self: flex-start;width: 50%;}#sk-container-id-1 div.sk-parallel-item:only-child::after {width: 0;}#sk-container-id-1 div.sk-dashed-wrapped {border: 1px dashed gray;margin: 0 0.4em 0.5em 0.4em;box-sizing: border-box;padding-bottom: 0.4em;background-color: white;}#sk-container-id-1 div.sk-label label {font-family: monospace;font-weight: bold;display: inline-block;line-height: 1.2em;}#sk-container-id-1 div.sk-label-container {text-align: center;}#sk-container-id-1 div.sk-container {/* jupyter's `normalize.less` sets `[hidden] { display: none; }` but bootstrap.min.css set `[hidden] { display: none !important; }` so we also need the `!important` here to be able to override the default hidden behavior on the sphinx rendered scikit-learn.org. See: https://github.com/scikit-learn/scikit-learn/issues/21755 */display: inline-block !important;position: relative;}#sk-container-id-1 div.sk-text-repr-fallback {display: none;}</style><div id=\"sk-container-id-1\" class=\"sk-top-container\"><div class=\"sk-text-repr-fallback\"><pre>IterativeImputer(random_state=0)</pre><b>In a Jupyter environment, please rerun this cell to show the HTML representation or trust the notebook. <br />On GitHub, the HTML representation is unable to render, please try loading this page with nbviewer.org.</b></div><div class=\"sk-container\" hidden><div class=\"sk-item\"><div class=\"sk-estimator sk-toggleable\"><input class=\"sk-toggleable__control sk-hidden--visually\" id=\"sk-estimator-id-1\" type=\"checkbox\" checked><label for=\"sk-estimator-id-1\" class=\"sk-toggleable__label sk-toggleable__label-arrow\">IterativeImputer</label><div class=\"sk-toggleable__content\"><pre>IterativeImputer(random_state=0)</pre></div></div></div></div></div>"
     },
     "execution_count": 35,
     "metadata": {},
     "output_type": "execute_result"
    }
   ],
   "source": [
    "imp.fit(df_short)"
   ],
   "metadata": {
    "collapsed": false,
    "pycharm": {
     "name": "#%%\n"
    }
   }
  },
  {
   "cell_type": "code",
   "execution_count": 36,
   "outputs": [],
   "source": [
    "df_short_clean = imp.fit_transform(df_short)"
   ],
   "metadata": {
    "collapsed": false,
    "pycharm": {
     "name": "#%%\n"
    }
   }
  },
  {
   "cell_type": "code",
   "execution_count": 38,
   "outputs": [
    {
     "data": {
      "text/plain": "array([[ 0.0000e+00,  1.0900e+02,  0.0000e+00, ...,  0.0000e+00,\n         0.0000e+00,  0.0000e+00],\n       [ 1.0000e+00,  1.0900e+02,  0.0000e+00, ...,  0.0000e+00,\n         0.0000e+00,  0.0000e+00],\n       [ 2.0000e+00,  1.0900e+02,  0.0000e+00, ...,  0.0000e+00,\n         0.0000e+00,  0.0000e+00],\n       ...,\n       [ 9.9996e+04,  1.0900e+02,  0.0000e+00, ...,  0.0000e+00,\n         0.0000e+00, -1.0000e+00],\n       [ 9.9997e+04,  1.0900e+02,  0.0000e+00, ...,  0.0000e+00,\n         0.0000e+00, -1.0000e+00],\n       [ 9.9998e+04,  1.0900e+02,  0.0000e+00, ...,  6.8713e+02,\n         2.2760e+01, -1.0000e+00]])"
     },
     "execution_count": 38,
     "metadata": {},
     "output_type": "execute_result"
    }
   ],
   "source": [
    "df_short_clean"
   ],
   "metadata": {
    "collapsed": false,
    "pycharm": {
     "name": "#%%\n"
    }
   }
  },
  {
   "cell_type": "code",
   "execution_count": 49,
   "outputs": [
    {
     "data": {
      "text/plain": "['id',\n 'circle_id',\n 'loc_og_t2o_mou',\n 'std_og_t2o_mou',\n 'loc_ic_t2o_mou',\n 'last_date_of_month_7',\n 'last_date_of_month_8',\n 'arpu_6',\n 'arpu_7',\n 'arpu_8',\n 'onnet_mou_6',\n 'onnet_mou_7',\n 'onnet_mou_8',\n 'offnet_mou_6',\n 'offnet_mou_7',\n 'offnet_mou_8',\n 'roam_ic_mou_6',\n 'roam_ic_mou_7',\n 'roam_ic_mou_8',\n 'roam_og_mou_6',\n 'roam_og_mou_7',\n 'roam_og_mou_8',\n 'loc_og_t2t_mou_6',\n 'loc_og_t2t_mou_7',\n 'loc_og_t2t_mou_8',\n 'loc_og_t2m_mou_6',\n 'loc_og_t2m_mou_7',\n 'loc_og_t2m_mou_8',\n 'loc_og_t2f_mou_6',\n 'loc_og_t2f_mou_7',\n 'loc_og_t2f_mou_8',\n 'loc_og_t2c_mou_6',\n 'loc_og_t2c_mou_7',\n 'loc_og_t2c_mou_8',\n 'loc_og_mou_6',\n 'loc_og_mou_7',\n 'loc_og_mou_8',\n 'std_og_t2t_mou_6',\n 'std_og_t2t_mou_7',\n 'std_og_t2t_mou_8',\n 'std_og_t2m_mou_6',\n 'std_og_t2m_mou_7',\n 'std_og_t2m_mou_8',\n 'std_og_t2f_mou_6',\n 'std_og_t2f_mou_7',\n 'std_og_t2f_mou_8',\n 'std_og_t2c_mou_6',\n 'std_og_t2c_mou_7',\n 'std_og_t2c_mou_8',\n 'std_og_mou_6',\n 'std_og_mou_7',\n 'std_og_mou_8',\n 'isd_og_mou_6',\n 'isd_og_mou_7',\n 'isd_og_mou_8',\n 'spl_og_mou_6',\n 'spl_og_mou_7',\n 'spl_og_mou_8',\n 'og_others_6',\n 'og_others_7',\n 'og_others_8',\n 'total_og_mou_6',\n 'total_og_mou_7',\n 'total_og_mou_8',\n 'loc_ic_t2t_mou_6',\n 'loc_ic_t2t_mou_7',\n 'loc_ic_t2t_mou_8',\n 'loc_ic_t2m_mou_6',\n 'loc_ic_t2m_mou_7',\n 'loc_ic_t2m_mou_8',\n 'loc_ic_t2f_mou_6',\n 'loc_ic_t2f_mou_7',\n 'loc_ic_t2f_mou_8',\n 'loc_ic_mou_6',\n 'loc_ic_mou_7',\n 'loc_ic_mou_8',\n 'std_ic_t2t_mou_6',\n 'std_ic_t2t_mou_7',\n 'std_ic_t2t_mou_8',\n 'std_ic_t2m_mou_6',\n 'std_ic_t2m_mou_7',\n 'std_ic_t2m_mou_8',\n 'std_ic_t2f_mou_6',\n 'std_ic_t2f_mou_7',\n 'std_ic_t2f_mou_8',\n 'std_ic_t2o_mou_6',\n 'std_ic_t2o_mou_7',\n 'std_ic_t2o_mou_8',\n 'std_ic_mou_6',\n 'std_ic_mou_7',\n 'std_ic_mou_8',\n 'total_ic_mou_6',\n 'total_ic_mou_7',\n 'total_ic_mou_8',\n 'spl_ic_mou_6',\n 'spl_ic_mou_7',\n 'spl_ic_mou_8',\n 'isd_ic_mou_6',\n 'isd_ic_mou_7',\n 'isd_ic_mou_8',\n 'ic_others_6',\n 'ic_others_7',\n 'ic_others_8',\n 'total_rech_num_6',\n 'total_rech_num_7',\n 'total_rech_num_8',\n 'total_rech_amt_6',\n 'total_rech_amt_7',\n 'total_rech_amt_8',\n 'max_rech_amt_6',\n 'max_rech_amt_7',\n 'max_rech_amt_8',\n 'last_day_rch_amt_6',\n 'last_day_rch_amt_7',\n 'last_day_rch_amt_8',\n 'vol_2g_mb_6',\n 'vol_2g_mb_7',\n 'vol_2g_mb_8',\n 'vol_3g_mb_6',\n 'vol_3g_mb_7',\n 'vol_3g_mb_8',\n 'monthly_2g_6',\n 'monthly_2g_7',\n 'monthly_2g_8',\n 'sachet_2g_6',\n 'sachet_2g_7',\n 'sachet_2g_8',\n 'monthly_3g_6',\n 'monthly_3g_7',\n 'monthly_3g_8',\n 'sachet_3g_6',\n 'sachet_3g_7',\n 'sachet_3g_8',\n 'aon',\n 'aug_vbc_3g',\n 'jul_vbc_3g',\n 'jun_vbc_3g',\n 'churn_probability']"
     },
     "execution_count": 49,
     "metadata": {},
     "output_type": "execute_result"
    }
   ],
   "source": [
    "df_short.columns.to_list()"
   ],
   "metadata": {
    "collapsed": false,
    "pycharm": {
     "name": "#%%\n"
    }
   }
  },
  {
   "cell_type": "code",
   "execution_count": 50,
   "outputs": [],
   "source": [
    "df_short_clean_df = pd.DataFrame(df_short_clean , columns=df_short.columns.to_list())"
   ],
   "metadata": {
    "collapsed": false,
    "pycharm": {
     "name": "#%%\n"
    }
   }
  },
  {
   "cell_type": "code",
   "execution_count": 51,
   "outputs": [
    {
     "data": {
      "text/plain": "            id  circle_id  loc_og_t2o_mou  std_og_t2o_mou  loc_ic_t2o_mou  \\\n0          0.0      109.0             0.0             0.0             0.0   \n1          1.0      109.0             0.0             0.0             0.0   \n2          2.0      109.0             0.0             0.0             0.0   \n3          3.0      109.0             0.0             0.0             0.0   \n4          4.0      109.0             0.0             0.0             0.0   \n...        ...        ...             ...             ...             ...   \n99994  99994.0      109.0             0.0             0.0             0.0   \n99995  99995.0      109.0             0.0             0.0             0.0   \n99996  99996.0      109.0             0.0             0.0             0.0   \n99997  99997.0      109.0             0.0             0.0             0.0   \n99998  99998.0      109.0             0.0             0.0             0.0   \n\n       last_date_of_month_7  last_date_of_month_8    arpu_6   arpu_7   arpu_8  \\\n0                       1.0                   1.0    31.277   87.009    7.527   \n1                       1.0                   1.0     0.000  122.787   42.953   \n2                       1.0                   1.0    60.806  103.176    0.000   \n3                       1.0                   1.0   156.362  205.260  111.095   \n4                       1.0                   1.0   240.708  128.191  101.565   \n...                     ...                   ...       ...      ...      ...   \n99994                   1.0                   1.0   718.870  396.259  406.150   \n99995                   1.0                   1.0   218.327  324.070  374.981   \n99996                   1.0                   1.0   139.473   38.230  180.194   \n99997                   1.0                   1.0  1122.912  781.121  257.439   \n99998                   1.0                   1.0   318.980  307.890  605.320   \n\n       ...  monthly_3g_7  monthly_3g_8  sachet_3g_6  sachet_3g_7  sachet_3g_8  \\\n0      ...           0.0           0.0          0.0          0.0          0.0   \n1      ...           1.0           0.0          0.0          0.0          0.0   \n2      ...           0.0           0.0          0.0          0.0          0.0   \n3      ...           0.0           0.0          0.0          0.0          0.0   \n4      ...           0.0           0.0          0.0          1.0          0.0   \n...    ...           ...           ...          ...          ...          ...   \n99994  ...           0.0           0.0          0.0          0.0          0.0   \n99995  ...           1.0           0.0          0.0          0.0          0.0   \n99996  ...           0.0           0.0          0.0          0.0          0.0   \n99997  ...           0.0           0.0          0.0          0.0          0.0   \n99998  ...           3.0           2.0          1.0          1.0          0.0   \n\n          aon  aug_vbc_3g  jul_vbc_3g  jun_vbc_3g  churn_probability  \n0      1958.0        0.00        0.00        0.00                0.0  \n1       710.0        0.00        0.00        0.00                0.0  \n2       882.0        0.00        0.00        0.00                0.0  \n3       982.0        0.00        0.00        0.00                0.0  \n4       647.0        0.00        0.00        0.00                0.0  \n...       ...         ...         ...         ...                ...  \n99994  1255.0        3.71      105.64       61.48               -1.0  \n99995  2258.0        0.00        0.00        0.00               -1.0  \n99996   440.0        0.00        0.00        0.00               -1.0  \n99997   810.0        0.00        0.00        0.00               -1.0  \n99998   440.0      762.55      687.13       22.76               -1.0  \n\n[99999 rows x 138 columns]",
      "text/html": "<div>\n<style scoped>\n    .dataframe tbody tr th:only-of-type {\n        vertical-align: middle;\n    }\n\n    .dataframe tbody tr th {\n        vertical-align: top;\n    }\n\n    .dataframe thead th {\n        text-align: right;\n    }\n</style>\n<table border=\"1\" class=\"dataframe\">\n  <thead>\n    <tr style=\"text-align: right;\">\n      <th></th>\n      <th>id</th>\n      <th>circle_id</th>\n      <th>loc_og_t2o_mou</th>\n      <th>std_og_t2o_mou</th>\n      <th>loc_ic_t2o_mou</th>\n      <th>last_date_of_month_7</th>\n      <th>last_date_of_month_8</th>\n      <th>arpu_6</th>\n      <th>arpu_7</th>\n      <th>arpu_8</th>\n      <th>...</th>\n      <th>monthly_3g_7</th>\n      <th>monthly_3g_8</th>\n      <th>sachet_3g_6</th>\n      <th>sachet_3g_7</th>\n      <th>sachet_3g_8</th>\n      <th>aon</th>\n      <th>aug_vbc_3g</th>\n      <th>jul_vbc_3g</th>\n      <th>jun_vbc_3g</th>\n      <th>churn_probability</th>\n    </tr>\n  </thead>\n  <tbody>\n    <tr>\n      <th>0</th>\n      <td>0.0</td>\n      <td>109.0</td>\n      <td>0.0</td>\n      <td>0.0</td>\n      <td>0.0</td>\n      <td>1.0</td>\n      <td>1.0</td>\n      <td>31.277</td>\n      <td>87.009</td>\n      <td>7.527</td>\n      <td>...</td>\n      <td>0.0</td>\n      <td>0.0</td>\n      <td>0.0</td>\n      <td>0.0</td>\n      <td>0.0</td>\n      <td>1958.0</td>\n      <td>0.00</td>\n      <td>0.00</td>\n      <td>0.00</td>\n      <td>0.0</td>\n    </tr>\n    <tr>\n      <th>1</th>\n      <td>1.0</td>\n      <td>109.0</td>\n      <td>0.0</td>\n      <td>0.0</td>\n      <td>0.0</td>\n      <td>1.0</td>\n      <td>1.0</td>\n      <td>0.000</td>\n      <td>122.787</td>\n      <td>42.953</td>\n      <td>...</td>\n      <td>1.0</td>\n      <td>0.0</td>\n      <td>0.0</td>\n      <td>0.0</td>\n      <td>0.0</td>\n      <td>710.0</td>\n      <td>0.00</td>\n      <td>0.00</td>\n      <td>0.00</td>\n      <td>0.0</td>\n    </tr>\n    <tr>\n      <th>2</th>\n      <td>2.0</td>\n      <td>109.0</td>\n      <td>0.0</td>\n      <td>0.0</td>\n      <td>0.0</td>\n      <td>1.0</td>\n      <td>1.0</td>\n      <td>60.806</td>\n      <td>103.176</td>\n      <td>0.000</td>\n      <td>...</td>\n      <td>0.0</td>\n      <td>0.0</td>\n      <td>0.0</td>\n      <td>0.0</td>\n      <td>0.0</td>\n      <td>882.0</td>\n      <td>0.00</td>\n      <td>0.00</td>\n      <td>0.00</td>\n      <td>0.0</td>\n    </tr>\n    <tr>\n      <th>3</th>\n      <td>3.0</td>\n      <td>109.0</td>\n      <td>0.0</td>\n      <td>0.0</td>\n      <td>0.0</td>\n      <td>1.0</td>\n      <td>1.0</td>\n      <td>156.362</td>\n      <td>205.260</td>\n      <td>111.095</td>\n      <td>...</td>\n      <td>0.0</td>\n      <td>0.0</td>\n      <td>0.0</td>\n      <td>0.0</td>\n      <td>0.0</td>\n      <td>982.0</td>\n      <td>0.00</td>\n      <td>0.00</td>\n      <td>0.00</td>\n      <td>0.0</td>\n    </tr>\n    <tr>\n      <th>4</th>\n      <td>4.0</td>\n      <td>109.0</td>\n      <td>0.0</td>\n      <td>0.0</td>\n      <td>0.0</td>\n      <td>1.0</td>\n      <td>1.0</td>\n      <td>240.708</td>\n      <td>128.191</td>\n      <td>101.565</td>\n      <td>...</td>\n      <td>0.0</td>\n      <td>0.0</td>\n      <td>0.0</td>\n      <td>1.0</td>\n      <td>0.0</td>\n      <td>647.0</td>\n      <td>0.00</td>\n      <td>0.00</td>\n      <td>0.00</td>\n      <td>0.0</td>\n    </tr>\n    <tr>\n      <th>...</th>\n      <td>...</td>\n      <td>...</td>\n      <td>...</td>\n      <td>...</td>\n      <td>...</td>\n      <td>...</td>\n      <td>...</td>\n      <td>...</td>\n      <td>...</td>\n      <td>...</td>\n      <td>...</td>\n      <td>...</td>\n      <td>...</td>\n      <td>...</td>\n      <td>...</td>\n      <td>...</td>\n      <td>...</td>\n      <td>...</td>\n      <td>...</td>\n      <td>...</td>\n      <td>...</td>\n    </tr>\n    <tr>\n      <th>99994</th>\n      <td>99994.0</td>\n      <td>109.0</td>\n      <td>0.0</td>\n      <td>0.0</td>\n      <td>0.0</td>\n      <td>1.0</td>\n      <td>1.0</td>\n      <td>718.870</td>\n      <td>396.259</td>\n      <td>406.150</td>\n      <td>...</td>\n      <td>0.0</td>\n      <td>0.0</td>\n      <td>0.0</td>\n      <td>0.0</td>\n      <td>0.0</td>\n      <td>1255.0</td>\n      <td>3.71</td>\n      <td>105.64</td>\n      <td>61.48</td>\n      <td>-1.0</td>\n    </tr>\n    <tr>\n      <th>99995</th>\n      <td>99995.0</td>\n      <td>109.0</td>\n      <td>0.0</td>\n      <td>0.0</td>\n      <td>0.0</td>\n      <td>1.0</td>\n      <td>1.0</td>\n      <td>218.327</td>\n      <td>324.070</td>\n      <td>374.981</td>\n      <td>...</td>\n      <td>1.0</td>\n      <td>0.0</td>\n      <td>0.0</td>\n      <td>0.0</td>\n      <td>0.0</td>\n      <td>2258.0</td>\n      <td>0.00</td>\n      <td>0.00</td>\n      <td>0.00</td>\n      <td>-1.0</td>\n    </tr>\n    <tr>\n      <th>99996</th>\n      <td>99996.0</td>\n      <td>109.0</td>\n      <td>0.0</td>\n      <td>0.0</td>\n      <td>0.0</td>\n      <td>1.0</td>\n      <td>1.0</td>\n      <td>139.473</td>\n      <td>38.230</td>\n      <td>180.194</td>\n      <td>...</td>\n      <td>0.0</td>\n      <td>0.0</td>\n      <td>0.0</td>\n      <td>0.0</td>\n      <td>0.0</td>\n      <td>440.0</td>\n      <td>0.00</td>\n      <td>0.00</td>\n      <td>0.00</td>\n      <td>-1.0</td>\n    </tr>\n    <tr>\n      <th>99997</th>\n      <td>99997.0</td>\n      <td>109.0</td>\n      <td>0.0</td>\n      <td>0.0</td>\n      <td>0.0</td>\n      <td>1.0</td>\n      <td>1.0</td>\n      <td>1122.912</td>\n      <td>781.121</td>\n      <td>257.439</td>\n      <td>...</td>\n      <td>0.0</td>\n      <td>0.0</td>\n      <td>0.0</td>\n      <td>0.0</td>\n      <td>0.0</td>\n      <td>810.0</td>\n      <td>0.00</td>\n      <td>0.00</td>\n      <td>0.00</td>\n      <td>-1.0</td>\n    </tr>\n    <tr>\n      <th>99998</th>\n      <td>99998.0</td>\n      <td>109.0</td>\n      <td>0.0</td>\n      <td>0.0</td>\n      <td>0.0</td>\n      <td>1.0</td>\n      <td>1.0</td>\n      <td>318.980</td>\n      <td>307.890</td>\n      <td>605.320</td>\n      <td>...</td>\n      <td>3.0</td>\n      <td>2.0</td>\n      <td>1.0</td>\n      <td>1.0</td>\n      <td>0.0</td>\n      <td>440.0</td>\n      <td>762.55</td>\n      <td>687.13</td>\n      <td>22.76</td>\n      <td>-1.0</td>\n    </tr>\n  </tbody>\n</table>\n<p>99999 rows × 138 columns</p>\n</div>"
     },
     "execution_count": 51,
     "metadata": {},
     "output_type": "execute_result"
    }
   ],
   "source": [
    "df_short_clean_df"
   ],
   "metadata": {
    "collapsed": false,
    "pycharm": {
     "name": "#%%\n"
    }
   }
  },
  {
   "cell_type": "code",
   "execution_count": 45,
   "outputs": [
    {
     "data": {
      "text/plain": "0      float64\n1      float64\n2      float64\n3      float64\n4      float64\n        ...   \n133    float64\n134    float64\n135    float64\n136    float64\n137    float64\nLength: 138, dtype: object"
     },
     "execution_count": 45,
     "metadata": {},
     "output_type": "execute_result"
    }
   ],
   "source": [
    "df_short_clean_df.dtypes"
   ],
   "metadata": {
    "collapsed": false,
    "pycharm": {
     "name": "#%%\n"
    }
   }
  },
  {
   "cell_type": "code",
   "execution_count": 52,
   "outputs": [],
   "source": [
    "df_short_clean_df.to_csv( 'df_short_clean_df.csv', index=False)"
   ],
   "metadata": {
    "collapsed": false,
    "pycharm": {
     "name": "#%%\n"
    }
   }
  },
  {
   "cell_type": "code",
   "execution_count": 53,
   "outputs": [],
   "source": [
    "df_short_clean_train =  df_short_clean_df[df_short_clean_df['churn_probability'] != 0]"
   ],
   "metadata": {
    "collapsed": false,
    "pycharm": {
     "name": "#%%\n"
    }
   }
  },
  {
   "cell_type": "code",
   "execution_count": 58,
   "outputs": [],
   "source": [
    "df_short_clean_test =  df_short_clean_df[df_short_clean_df['churn_probability'] == 0]"
   ],
   "metadata": {
    "collapsed": false,
    "pycharm": {
     "name": "#%%\n"
    }
   }
  },
  {
   "cell_type": "code",
   "execution_count": 59,
   "outputs": [
    {
     "data": {
      "text/plain": "            id  circle_id  loc_og_t2o_mou  std_og_t2o_mou  loc_ic_t2o_mou  \\\n0          0.0      109.0             0.0             0.0             0.0   \n1          1.0      109.0             0.0             0.0             0.0   \n2          2.0      109.0             0.0             0.0             0.0   \n3          3.0      109.0             0.0             0.0             0.0   \n4          4.0      109.0             0.0             0.0             0.0   \n...        ...        ...             ...             ...             ...   \n69994  69994.0      109.0             0.0             0.0             0.0   \n69995  69995.0      109.0             0.0             0.0             0.0   \n69996  69996.0      109.0             0.0             0.0             0.0   \n69997  69997.0      109.0             0.0             0.0             0.0   \n69998  69998.0      109.0             0.0             0.0             0.0   \n\n       last_date_of_month_7  last_date_of_month_8   arpu_6   arpu_7   arpu_8  \\\n0                       1.0                   1.0   31.277   87.009    7.527   \n1                       1.0                   1.0    0.000  122.787   42.953   \n2                       1.0                   1.0   60.806  103.176    0.000   \n3                       1.0                   1.0  156.362  205.260  111.095   \n4                       1.0                   1.0  240.708  128.191  101.565   \n...                     ...                   ...      ...      ...      ...   \n69994                   1.0                   1.0   15.760  410.924  329.136   \n69995                   1.0                   1.0  160.083  289.129  265.772   \n69996                   1.0                   1.0  372.088  258.374  279.782   \n69997                   1.0                   1.0  238.575  245.414  145.062   \n69998                   1.0                   1.0  168.269   42.815  167.961   \n\n       ...  monthly_3g_7  monthly_3g_8  sachet_3g_6  sachet_3g_7  sachet_3g_8  \\\n0      ...           0.0           0.0          0.0          0.0          0.0   \n1      ...           1.0           0.0          0.0          0.0          0.0   \n2      ...           0.0           0.0          0.0          0.0          0.0   \n3      ...           0.0           0.0          0.0          0.0          0.0   \n4      ...           0.0           0.0          0.0          1.0          0.0   \n...    ...           ...           ...          ...          ...          ...   \n69994  ...           0.0           0.0          0.0          1.0          0.0   \n69995  ...           0.0           0.0          0.0          0.0          0.0   \n69996  ...           0.0           0.0          0.0          0.0          0.0   \n69997  ...           1.0           1.0          0.0          0.0          0.0   \n69998  ...           0.0           0.0          0.0          0.0          0.0   \n\n          aon  aug_vbc_3g  jul_vbc_3g  jun_vbc_3g  churn_probability  \n0      1958.0        0.00        0.00        0.00                0.0  \n1       710.0        0.00        0.00        0.00                0.0  \n2       882.0        0.00        0.00        0.00                0.0  \n3       982.0        0.00        0.00        0.00                0.0  \n4       647.0        0.00        0.00        0.00                0.0  \n...       ...         ...         ...         ...                ...  \n69994   221.0        0.00        0.00        0.00                0.0  \n69995   712.0        0.00        0.00        0.00                0.0  \n69996   879.0        0.00        0.00        0.00                0.0  \n69997   277.0      664.25     1402.96      990.97                0.0  \n69998  1876.0        0.00        0.00        0.00                0.0  \n\n[62867 rows x 138 columns]",
      "text/html": "<div>\n<style scoped>\n    .dataframe tbody tr th:only-of-type {\n        vertical-align: middle;\n    }\n\n    .dataframe tbody tr th {\n        vertical-align: top;\n    }\n\n    .dataframe thead th {\n        text-align: right;\n    }\n</style>\n<table border=\"1\" class=\"dataframe\">\n  <thead>\n    <tr style=\"text-align: right;\">\n      <th></th>\n      <th>id</th>\n      <th>circle_id</th>\n      <th>loc_og_t2o_mou</th>\n      <th>std_og_t2o_mou</th>\n      <th>loc_ic_t2o_mou</th>\n      <th>last_date_of_month_7</th>\n      <th>last_date_of_month_8</th>\n      <th>arpu_6</th>\n      <th>arpu_7</th>\n      <th>arpu_8</th>\n      <th>...</th>\n      <th>monthly_3g_7</th>\n      <th>monthly_3g_8</th>\n      <th>sachet_3g_6</th>\n      <th>sachet_3g_7</th>\n      <th>sachet_3g_8</th>\n      <th>aon</th>\n      <th>aug_vbc_3g</th>\n      <th>jul_vbc_3g</th>\n      <th>jun_vbc_3g</th>\n      <th>churn_probability</th>\n    </tr>\n  </thead>\n  <tbody>\n    <tr>\n      <th>0</th>\n      <td>0.0</td>\n      <td>109.0</td>\n      <td>0.0</td>\n      <td>0.0</td>\n      <td>0.0</td>\n      <td>1.0</td>\n      <td>1.0</td>\n      <td>31.277</td>\n      <td>87.009</td>\n      <td>7.527</td>\n      <td>...</td>\n      <td>0.0</td>\n      <td>0.0</td>\n      <td>0.0</td>\n      <td>0.0</td>\n      <td>0.0</td>\n      <td>1958.0</td>\n      <td>0.00</td>\n      <td>0.00</td>\n      <td>0.00</td>\n      <td>0.0</td>\n    </tr>\n    <tr>\n      <th>1</th>\n      <td>1.0</td>\n      <td>109.0</td>\n      <td>0.0</td>\n      <td>0.0</td>\n      <td>0.0</td>\n      <td>1.0</td>\n      <td>1.0</td>\n      <td>0.000</td>\n      <td>122.787</td>\n      <td>42.953</td>\n      <td>...</td>\n      <td>1.0</td>\n      <td>0.0</td>\n      <td>0.0</td>\n      <td>0.0</td>\n      <td>0.0</td>\n      <td>710.0</td>\n      <td>0.00</td>\n      <td>0.00</td>\n      <td>0.00</td>\n      <td>0.0</td>\n    </tr>\n    <tr>\n      <th>2</th>\n      <td>2.0</td>\n      <td>109.0</td>\n      <td>0.0</td>\n      <td>0.0</td>\n      <td>0.0</td>\n      <td>1.0</td>\n      <td>1.0</td>\n      <td>60.806</td>\n      <td>103.176</td>\n      <td>0.000</td>\n      <td>...</td>\n      <td>0.0</td>\n      <td>0.0</td>\n      <td>0.0</td>\n      <td>0.0</td>\n      <td>0.0</td>\n      <td>882.0</td>\n      <td>0.00</td>\n      <td>0.00</td>\n      <td>0.00</td>\n      <td>0.0</td>\n    </tr>\n    <tr>\n      <th>3</th>\n      <td>3.0</td>\n      <td>109.0</td>\n      <td>0.0</td>\n      <td>0.0</td>\n      <td>0.0</td>\n      <td>1.0</td>\n      <td>1.0</td>\n      <td>156.362</td>\n      <td>205.260</td>\n      <td>111.095</td>\n      <td>...</td>\n      <td>0.0</td>\n      <td>0.0</td>\n      <td>0.0</td>\n      <td>0.0</td>\n      <td>0.0</td>\n      <td>982.0</td>\n      <td>0.00</td>\n      <td>0.00</td>\n      <td>0.00</td>\n      <td>0.0</td>\n    </tr>\n    <tr>\n      <th>4</th>\n      <td>4.0</td>\n      <td>109.0</td>\n      <td>0.0</td>\n      <td>0.0</td>\n      <td>0.0</td>\n      <td>1.0</td>\n      <td>1.0</td>\n      <td>240.708</td>\n      <td>128.191</td>\n      <td>101.565</td>\n      <td>...</td>\n      <td>0.0</td>\n      <td>0.0</td>\n      <td>0.0</td>\n      <td>1.0</td>\n      <td>0.0</td>\n      <td>647.0</td>\n      <td>0.00</td>\n      <td>0.00</td>\n      <td>0.00</td>\n      <td>0.0</td>\n    </tr>\n    <tr>\n      <th>...</th>\n      <td>...</td>\n      <td>...</td>\n      <td>...</td>\n      <td>...</td>\n      <td>...</td>\n      <td>...</td>\n      <td>...</td>\n      <td>...</td>\n      <td>...</td>\n      <td>...</td>\n      <td>...</td>\n      <td>...</td>\n      <td>...</td>\n      <td>...</td>\n      <td>...</td>\n      <td>...</td>\n      <td>...</td>\n      <td>...</td>\n      <td>...</td>\n      <td>...</td>\n      <td>...</td>\n    </tr>\n    <tr>\n      <th>69994</th>\n      <td>69994.0</td>\n      <td>109.0</td>\n      <td>0.0</td>\n      <td>0.0</td>\n      <td>0.0</td>\n      <td>1.0</td>\n      <td>1.0</td>\n      <td>15.760</td>\n      <td>410.924</td>\n      <td>329.136</td>\n      <td>...</td>\n      <td>0.0</td>\n      <td>0.0</td>\n      <td>0.0</td>\n      <td>1.0</td>\n      <td>0.0</td>\n      <td>221.0</td>\n      <td>0.00</td>\n      <td>0.00</td>\n      <td>0.00</td>\n      <td>0.0</td>\n    </tr>\n    <tr>\n      <th>69995</th>\n      <td>69995.0</td>\n      <td>109.0</td>\n      <td>0.0</td>\n      <td>0.0</td>\n      <td>0.0</td>\n      <td>1.0</td>\n      <td>1.0</td>\n      <td>160.083</td>\n      <td>289.129</td>\n      <td>265.772</td>\n      <td>...</td>\n      <td>0.0</td>\n      <td>0.0</td>\n      <td>0.0</td>\n      <td>0.0</td>\n      <td>0.0</td>\n      <td>712.0</td>\n      <td>0.00</td>\n      <td>0.00</td>\n      <td>0.00</td>\n      <td>0.0</td>\n    </tr>\n    <tr>\n      <th>69996</th>\n      <td>69996.0</td>\n      <td>109.0</td>\n      <td>0.0</td>\n      <td>0.0</td>\n      <td>0.0</td>\n      <td>1.0</td>\n      <td>1.0</td>\n      <td>372.088</td>\n      <td>258.374</td>\n      <td>279.782</td>\n      <td>...</td>\n      <td>0.0</td>\n      <td>0.0</td>\n      <td>0.0</td>\n      <td>0.0</td>\n      <td>0.0</td>\n      <td>879.0</td>\n      <td>0.00</td>\n      <td>0.00</td>\n      <td>0.00</td>\n      <td>0.0</td>\n    </tr>\n    <tr>\n      <th>69997</th>\n      <td>69997.0</td>\n      <td>109.0</td>\n      <td>0.0</td>\n      <td>0.0</td>\n      <td>0.0</td>\n      <td>1.0</td>\n      <td>1.0</td>\n      <td>238.575</td>\n      <td>245.414</td>\n      <td>145.062</td>\n      <td>...</td>\n      <td>1.0</td>\n      <td>1.0</td>\n      <td>0.0</td>\n      <td>0.0</td>\n      <td>0.0</td>\n      <td>277.0</td>\n      <td>664.25</td>\n      <td>1402.96</td>\n      <td>990.97</td>\n      <td>0.0</td>\n    </tr>\n    <tr>\n      <th>69998</th>\n      <td>69998.0</td>\n      <td>109.0</td>\n      <td>0.0</td>\n      <td>0.0</td>\n      <td>0.0</td>\n      <td>1.0</td>\n      <td>1.0</td>\n      <td>168.269</td>\n      <td>42.815</td>\n      <td>167.961</td>\n      <td>...</td>\n      <td>0.0</td>\n      <td>0.0</td>\n      <td>0.0</td>\n      <td>0.0</td>\n      <td>0.0</td>\n      <td>1876.0</td>\n      <td>0.00</td>\n      <td>0.00</td>\n      <td>0.00</td>\n      <td>0.0</td>\n    </tr>\n  </tbody>\n</table>\n<p>62867 rows × 138 columns</p>\n</div>"
     },
     "execution_count": 59,
     "metadata": {},
     "output_type": "execute_result"
    }
   ],
   "source": [
    "df_short_clean_test"
   ],
   "metadata": {
    "collapsed": false,
    "pycharm": {
     "name": "#%%\n"
    }
   }
  },
  {
   "cell_type": "code",
   "execution_count": 62,
   "outputs": [
    {
     "data": {
      "text/plain": "          id  circle_id  loc_og_t2o_mou  std_og_t2o_mou  loc_ic_t2o_mou  \\\n8          8        109             0.0             0.0             0.0   \n31        31        109             0.0             0.0             0.0   \n33        33        109             0.0             0.0             0.0   \n41        41        109             0.0             0.0             0.0   \n55        55        109             0.0             0.0             0.0   \n...      ...        ...             ...             ...             ...   \n29995  99994        109             0.0             0.0             0.0   \n29996  99995        109             0.0             0.0             0.0   \n29997  99996        109             0.0             0.0             0.0   \n29998  99997        109             0.0             0.0             0.0   \n29999  99998        109             0.0             0.0             0.0   \n\n      last_date_of_month_7 last_date_of_month_8    arpu_6   arpu_7   arpu_8  \\\n8                        1                    1   163.550   90.250   51.726   \n31                       1                    1   894.407  126.500  255.700   \n33                       1                    1   438.077    0.000  213.781   \n41                       1                    1    53.997  131.395    0.000   \n55                       1                    1    86.986  120.089  105.035   \n...                    ...                  ...       ...      ...      ...   \n29995                    1                    1   718.870  396.259  406.150   \n29996                    1                    1   218.327  324.070  374.981   \n29997                    1                    1   139.473   38.230  180.194   \n29998                    1                    1  1122.912  781.121  257.439   \n29999                    1                    1   318.980  307.890  605.320   \n\n       ...  monthly_3g_7  monthly_3g_8  sachet_3g_6  sachet_3g_7  sachet_3g_8  \\\n8      ...             0             0            0            0            0   \n31     ...             0             0            0            0            0   \n33     ...             0             1            0            0            0   \n41     ...             0             0            0            0            0   \n55     ...             0             0            0            0            0   \n...    ...           ...           ...          ...          ...          ...   \n29995  ...             0             0            0            0            0   \n29996  ...             1             0            0            0            0   \n29997  ...             0             0            0            0            0   \n29998  ...             0             0            0            0            0   \n29999  ...             3             2            1            1            0   \n\n        aon  aug_vbc_3g  jul_vbc_3g  jun_vbc_3g  churn_probability  \n8      2455        0.00        0.00        0.00                  1  \n31      303        0.00        0.00        0.00                  1  \n33      457        0.00        0.00        0.00                  1  \n41      194        0.00        0.00        0.00                  1  \n55      789        0.00        0.00        0.00                  1  \n...     ...         ...         ...         ...                ...  \n29995  1255        3.71      105.64       61.48                 -1  \n29996  2258        0.00        0.00        0.00                 -1  \n29997   440        0.00        0.00        0.00                 -1  \n29998   810        0.00        0.00        0.00                 -1  \n29999   440      762.55      687.13       22.76                 -1  \n\n[37132 rows x 138 columns]",
      "text/html": "<div>\n<style scoped>\n    .dataframe tbody tr th:only-of-type {\n        vertical-align: middle;\n    }\n\n    .dataframe tbody tr th {\n        vertical-align: top;\n    }\n\n    .dataframe thead th {\n        text-align: right;\n    }\n</style>\n<table border=\"1\" class=\"dataframe\">\n  <thead>\n    <tr style=\"text-align: right;\">\n      <th></th>\n      <th>id</th>\n      <th>circle_id</th>\n      <th>loc_og_t2o_mou</th>\n      <th>std_og_t2o_mou</th>\n      <th>loc_ic_t2o_mou</th>\n      <th>last_date_of_month_7</th>\n      <th>last_date_of_month_8</th>\n      <th>arpu_6</th>\n      <th>arpu_7</th>\n      <th>arpu_8</th>\n      <th>...</th>\n      <th>monthly_3g_7</th>\n      <th>monthly_3g_8</th>\n      <th>sachet_3g_6</th>\n      <th>sachet_3g_7</th>\n      <th>sachet_3g_8</th>\n      <th>aon</th>\n      <th>aug_vbc_3g</th>\n      <th>jul_vbc_3g</th>\n      <th>jun_vbc_3g</th>\n      <th>churn_probability</th>\n    </tr>\n  </thead>\n  <tbody>\n    <tr>\n      <th>8</th>\n      <td>8</td>\n      <td>109</td>\n      <td>0.0</td>\n      <td>0.0</td>\n      <td>0.0</td>\n      <td>1</td>\n      <td>1</td>\n      <td>163.550</td>\n      <td>90.250</td>\n      <td>51.726</td>\n      <td>...</td>\n      <td>0</td>\n      <td>0</td>\n      <td>0</td>\n      <td>0</td>\n      <td>0</td>\n      <td>2455</td>\n      <td>0.00</td>\n      <td>0.00</td>\n      <td>0.00</td>\n      <td>1</td>\n    </tr>\n    <tr>\n      <th>31</th>\n      <td>31</td>\n      <td>109</td>\n      <td>0.0</td>\n      <td>0.0</td>\n      <td>0.0</td>\n      <td>1</td>\n      <td>1</td>\n      <td>894.407</td>\n      <td>126.500</td>\n      <td>255.700</td>\n      <td>...</td>\n      <td>0</td>\n      <td>0</td>\n      <td>0</td>\n      <td>0</td>\n      <td>0</td>\n      <td>303</td>\n      <td>0.00</td>\n      <td>0.00</td>\n      <td>0.00</td>\n      <td>1</td>\n    </tr>\n    <tr>\n      <th>33</th>\n      <td>33</td>\n      <td>109</td>\n      <td>0.0</td>\n      <td>0.0</td>\n      <td>0.0</td>\n      <td>1</td>\n      <td>1</td>\n      <td>438.077</td>\n      <td>0.000</td>\n      <td>213.781</td>\n      <td>...</td>\n      <td>0</td>\n      <td>1</td>\n      <td>0</td>\n      <td>0</td>\n      <td>0</td>\n      <td>457</td>\n      <td>0.00</td>\n      <td>0.00</td>\n      <td>0.00</td>\n      <td>1</td>\n    </tr>\n    <tr>\n      <th>41</th>\n      <td>41</td>\n      <td>109</td>\n      <td>0.0</td>\n      <td>0.0</td>\n      <td>0.0</td>\n      <td>1</td>\n      <td>1</td>\n      <td>53.997</td>\n      <td>131.395</td>\n      <td>0.000</td>\n      <td>...</td>\n      <td>0</td>\n      <td>0</td>\n      <td>0</td>\n      <td>0</td>\n      <td>0</td>\n      <td>194</td>\n      <td>0.00</td>\n      <td>0.00</td>\n      <td>0.00</td>\n      <td>1</td>\n    </tr>\n    <tr>\n      <th>55</th>\n      <td>55</td>\n      <td>109</td>\n      <td>0.0</td>\n      <td>0.0</td>\n      <td>0.0</td>\n      <td>1</td>\n      <td>1</td>\n      <td>86.986</td>\n      <td>120.089</td>\n      <td>105.035</td>\n      <td>...</td>\n      <td>0</td>\n      <td>0</td>\n      <td>0</td>\n      <td>0</td>\n      <td>0</td>\n      <td>789</td>\n      <td>0.00</td>\n      <td>0.00</td>\n      <td>0.00</td>\n      <td>1</td>\n    </tr>\n    <tr>\n      <th>...</th>\n      <td>...</td>\n      <td>...</td>\n      <td>...</td>\n      <td>...</td>\n      <td>...</td>\n      <td>...</td>\n      <td>...</td>\n      <td>...</td>\n      <td>...</td>\n      <td>...</td>\n      <td>...</td>\n      <td>...</td>\n      <td>...</td>\n      <td>...</td>\n      <td>...</td>\n      <td>...</td>\n      <td>...</td>\n      <td>...</td>\n      <td>...</td>\n      <td>...</td>\n      <td>...</td>\n    </tr>\n    <tr>\n      <th>29995</th>\n      <td>99994</td>\n      <td>109</td>\n      <td>0.0</td>\n      <td>0.0</td>\n      <td>0.0</td>\n      <td>1</td>\n      <td>1</td>\n      <td>718.870</td>\n      <td>396.259</td>\n      <td>406.150</td>\n      <td>...</td>\n      <td>0</td>\n      <td>0</td>\n      <td>0</td>\n      <td>0</td>\n      <td>0</td>\n      <td>1255</td>\n      <td>3.71</td>\n      <td>105.64</td>\n      <td>61.48</td>\n      <td>-1</td>\n    </tr>\n    <tr>\n      <th>29996</th>\n      <td>99995</td>\n      <td>109</td>\n      <td>0.0</td>\n      <td>0.0</td>\n      <td>0.0</td>\n      <td>1</td>\n      <td>1</td>\n      <td>218.327</td>\n      <td>324.070</td>\n      <td>374.981</td>\n      <td>...</td>\n      <td>1</td>\n      <td>0</td>\n      <td>0</td>\n      <td>0</td>\n      <td>0</td>\n      <td>2258</td>\n      <td>0.00</td>\n      <td>0.00</td>\n      <td>0.00</td>\n      <td>-1</td>\n    </tr>\n    <tr>\n      <th>29997</th>\n      <td>99996</td>\n      <td>109</td>\n      <td>0.0</td>\n      <td>0.0</td>\n      <td>0.0</td>\n      <td>1</td>\n      <td>1</td>\n      <td>139.473</td>\n      <td>38.230</td>\n      <td>180.194</td>\n      <td>...</td>\n      <td>0</td>\n      <td>0</td>\n      <td>0</td>\n      <td>0</td>\n      <td>0</td>\n      <td>440</td>\n      <td>0.00</td>\n      <td>0.00</td>\n      <td>0.00</td>\n      <td>-1</td>\n    </tr>\n    <tr>\n      <th>29998</th>\n      <td>99997</td>\n      <td>109</td>\n      <td>0.0</td>\n      <td>0.0</td>\n      <td>0.0</td>\n      <td>1</td>\n      <td>1</td>\n      <td>1122.912</td>\n      <td>781.121</td>\n      <td>257.439</td>\n      <td>...</td>\n      <td>0</td>\n      <td>0</td>\n      <td>0</td>\n      <td>0</td>\n      <td>0</td>\n      <td>810</td>\n      <td>0.00</td>\n      <td>0.00</td>\n      <td>0.00</td>\n      <td>-1</td>\n    </tr>\n    <tr>\n      <th>29999</th>\n      <td>99998</td>\n      <td>109</td>\n      <td>0.0</td>\n      <td>0.0</td>\n      <td>0.0</td>\n      <td>1</td>\n      <td>1</td>\n      <td>318.980</td>\n      <td>307.890</td>\n      <td>605.320</td>\n      <td>...</td>\n      <td>3</td>\n      <td>2</td>\n      <td>1</td>\n      <td>1</td>\n      <td>0</td>\n      <td>440</td>\n      <td>762.55</td>\n      <td>687.13</td>\n      <td>22.76</td>\n      <td>-1</td>\n    </tr>\n  </tbody>\n</table>\n<p>37132 rows × 138 columns</p>\n</div>"
     },
     "execution_count": 62,
     "metadata": {},
     "output_type": "execute_result"
    }
   ],
   "source": [
    "df_short[df_short['churn_probability'] != 0]"
   ],
   "metadata": {
    "collapsed": false,
    "pycharm": {
     "name": "#%%\n"
    }
   }
  },
  {
   "cell_type": "code",
   "execution_count": 64,
   "outputs": [
    {
     "data": {
      "text/plain": "          id  circle_id  loc_og_t2o_mou  std_og_t2o_mou  loc_ic_t2o_mou  \\\n0      69999        109             0.0             0.0             0.0   \n1      70000        109             0.0             0.0             0.0   \n2      70001        109             0.0             0.0             0.0   \n3      70002        109             0.0             0.0             0.0   \n4      70003        109             0.0             0.0             0.0   \n...      ...        ...             ...             ...             ...   \n29995  99994        109             0.0             0.0             0.0   \n29996  99995        109             0.0             0.0             0.0   \n29997  99996        109             0.0             0.0             0.0   \n29998  99997        109             0.0             0.0             0.0   \n29999  99998        109             0.0             0.0             0.0   \n\n      last_date_of_month_6 last_date_of_month_7 last_date_of_month_8  \\\n0                6/30/2014            7/31/2014            8/31/2014   \n1                6/30/2014            7/31/2014            8/31/2014   \n2                6/30/2014            7/31/2014            8/31/2014   \n3                6/30/2014            7/31/2014            8/31/2014   \n4                6/30/2014            7/31/2014            8/31/2014   \n...                    ...                  ...                  ...   \n29995            6/30/2014            7/31/2014            8/31/2014   \n29996            6/30/2014            7/31/2014            8/31/2014   \n29997            6/30/2014            7/31/2014            8/31/2014   \n29998            6/30/2014            7/31/2014            8/31/2014   \n29999            6/30/2014            7/31/2014            8/31/2014   \n\n         arpu_6   arpu_7  ...  sachet_3g_6  sachet_3g_7  sachet_3g_8  \\\n0        91.882   65.330  ...            0            0            0   \n1       414.168  515.568  ...            0            0            0   \n2       329.844  434.884  ...            0            0            0   \n3        43.550  171.390  ...            0            0            0   \n4       306.854  406.289  ...            0            0            0   \n...         ...      ...  ...          ...          ...          ...   \n29995   718.870  396.259  ...            0            0            0   \n29996   218.327  324.070  ...            0            0            0   \n29997   139.473   38.230  ...            0            0            0   \n29998  1122.912  781.121  ...            0            0            0   \n29999   318.980  307.890  ...            1            1            0   \n\n       fb_user_6  fb_user_7  fb_user_8   aon  aug_vbc_3g  jul_vbc_3g  \\\n0            NaN        NaN        NaN  1692        0.00        0.00   \n1            NaN        NaN        NaN  2533        0.00        0.00   \n2            NaN        NaN        NaN   277      525.61      758.41   \n3            NaN        NaN        NaN  1244        0.00        0.00   \n4            NaN        NaN        NaN   462        0.00        0.00   \n...          ...        ...        ...   ...         ...         ...   \n29995        1.0        NaN        NaN  1255        3.71      105.64   \n29996        NaN        0.0        NaN  2258        0.00        0.00   \n29997        NaN        NaN        NaN   440        0.00        0.00   \n29998        NaN        NaN        NaN   810        0.00        0.00   \n29999        1.0        1.0        1.0   440      762.55      687.13   \n\n       jun_vbc_3g  \n0            0.00  \n1            0.00  \n2          241.84  \n3            0.00  \n4            0.00  \n...           ...  \n29995       61.48  \n29996        0.00  \n29997        0.00  \n29998        0.00  \n29999       22.76  \n\n[30000 rows x 171 columns]",
      "text/html": "<div>\n<style scoped>\n    .dataframe tbody tr th:only-of-type {\n        vertical-align: middle;\n    }\n\n    .dataframe tbody tr th {\n        vertical-align: top;\n    }\n\n    .dataframe thead th {\n        text-align: right;\n    }\n</style>\n<table border=\"1\" class=\"dataframe\">\n  <thead>\n    <tr style=\"text-align: right;\">\n      <th></th>\n      <th>id</th>\n      <th>circle_id</th>\n      <th>loc_og_t2o_mou</th>\n      <th>std_og_t2o_mou</th>\n      <th>loc_ic_t2o_mou</th>\n      <th>last_date_of_month_6</th>\n      <th>last_date_of_month_7</th>\n      <th>last_date_of_month_8</th>\n      <th>arpu_6</th>\n      <th>arpu_7</th>\n      <th>...</th>\n      <th>sachet_3g_6</th>\n      <th>sachet_3g_7</th>\n      <th>sachet_3g_8</th>\n      <th>fb_user_6</th>\n      <th>fb_user_7</th>\n      <th>fb_user_8</th>\n      <th>aon</th>\n      <th>aug_vbc_3g</th>\n      <th>jul_vbc_3g</th>\n      <th>jun_vbc_3g</th>\n    </tr>\n  </thead>\n  <tbody>\n    <tr>\n      <th>0</th>\n      <td>69999</td>\n      <td>109</td>\n      <td>0.0</td>\n      <td>0.0</td>\n      <td>0.0</td>\n      <td>6/30/2014</td>\n      <td>7/31/2014</td>\n      <td>8/31/2014</td>\n      <td>91.882</td>\n      <td>65.330</td>\n      <td>...</td>\n      <td>0</td>\n      <td>0</td>\n      <td>0</td>\n      <td>NaN</td>\n      <td>NaN</td>\n      <td>NaN</td>\n      <td>1692</td>\n      <td>0.00</td>\n      <td>0.00</td>\n      <td>0.00</td>\n    </tr>\n    <tr>\n      <th>1</th>\n      <td>70000</td>\n      <td>109</td>\n      <td>0.0</td>\n      <td>0.0</td>\n      <td>0.0</td>\n      <td>6/30/2014</td>\n      <td>7/31/2014</td>\n      <td>8/31/2014</td>\n      <td>414.168</td>\n      <td>515.568</td>\n      <td>...</td>\n      <td>0</td>\n      <td>0</td>\n      <td>0</td>\n      <td>NaN</td>\n      <td>NaN</td>\n      <td>NaN</td>\n      <td>2533</td>\n      <td>0.00</td>\n      <td>0.00</td>\n      <td>0.00</td>\n    </tr>\n    <tr>\n      <th>2</th>\n      <td>70001</td>\n      <td>109</td>\n      <td>0.0</td>\n      <td>0.0</td>\n      <td>0.0</td>\n      <td>6/30/2014</td>\n      <td>7/31/2014</td>\n      <td>8/31/2014</td>\n      <td>329.844</td>\n      <td>434.884</td>\n      <td>...</td>\n      <td>0</td>\n      <td>0</td>\n      <td>0</td>\n      <td>NaN</td>\n      <td>NaN</td>\n      <td>NaN</td>\n      <td>277</td>\n      <td>525.61</td>\n      <td>758.41</td>\n      <td>241.84</td>\n    </tr>\n    <tr>\n      <th>3</th>\n      <td>70002</td>\n      <td>109</td>\n      <td>0.0</td>\n      <td>0.0</td>\n      <td>0.0</td>\n      <td>6/30/2014</td>\n      <td>7/31/2014</td>\n      <td>8/31/2014</td>\n      <td>43.550</td>\n      <td>171.390</td>\n      <td>...</td>\n      <td>0</td>\n      <td>0</td>\n      <td>0</td>\n      <td>NaN</td>\n      <td>NaN</td>\n      <td>NaN</td>\n      <td>1244</td>\n      <td>0.00</td>\n      <td>0.00</td>\n      <td>0.00</td>\n    </tr>\n    <tr>\n      <th>4</th>\n      <td>70003</td>\n      <td>109</td>\n      <td>0.0</td>\n      <td>0.0</td>\n      <td>0.0</td>\n      <td>6/30/2014</td>\n      <td>7/31/2014</td>\n      <td>8/31/2014</td>\n      <td>306.854</td>\n      <td>406.289</td>\n      <td>...</td>\n      <td>0</td>\n      <td>0</td>\n      <td>0</td>\n      <td>NaN</td>\n      <td>NaN</td>\n      <td>NaN</td>\n      <td>462</td>\n      <td>0.00</td>\n      <td>0.00</td>\n      <td>0.00</td>\n    </tr>\n    <tr>\n      <th>...</th>\n      <td>...</td>\n      <td>...</td>\n      <td>...</td>\n      <td>...</td>\n      <td>...</td>\n      <td>...</td>\n      <td>...</td>\n      <td>...</td>\n      <td>...</td>\n      <td>...</td>\n      <td>...</td>\n      <td>...</td>\n      <td>...</td>\n      <td>...</td>\n      <td>...</td>\n      <td>...</td>\n      <td>...</td>\n      <td>...</td>\n      <td>...</td>\n      <td>...</td>\n      <td>...</td>\n    </tr>\n    <tr>\n      <th>29995</th>\n      <td>99994</td>\n      <td>109</td>\n      <td>0.0</td>\n      <td>0.0</td>\n      <td>0.0</td>\n      <td>6/30/2014</td>\n      <td>7/31/2014</td>\n      <td>8/31/2014</td>\n      <td>718.870</td>\n      <td>396.259</td>\n      <td>...</td>\n      <td>0</td>\n      <td>0</td>\n      <td>0</td>\n      <td>1.0</td>\n      <td>NaN</td>\n      <td>NaN</td>\n      <td>1255</td>\n      <td>3.71</td>\n      <td>105.64</td>\n      <td>61.48</td>\n    </tr>\n    <tr>\n      <th>29996</th>\n      <td>99995</td>\n      <td>109</td>\n      <td>0.0</td>\n      <td>0.0</td>\n      <td>0.0</td>\n      <td>6/30/2014</td>\n      <td>7/31/2014</td>\n      <td>8/31/2014</td>\n      <td>218.327</td>\n      <td>324.070</td>\n      <td>...</td>\n      <td>0</td>\n      <td>0</td>\n      <td>0</td>\n      <td>NaN</td>\n      <td>0.0</td>\n      <td>NaN</td>\n      <td>2258</td>\n      <td>0.00</td>\n      <td>0.00</td>\n      <td>0.00</td>\n    </tr>\n    <tr>\n      <th>29997</th>\n      <td>99996</td>\n      <td>109</td>\n      <td>0.0</td>\n      <td>0.0</td>\n      <td>0.0</td>\n      <td>6/30/2014</td>\n      <td>7/31/2014</td>\n      <td>8/31/2014</td>\n      <td>139.473</td>\n      <td>38.230</td>\n      <td>...</td>\n      <td>0</td>\n      <td>0</td>\n      <td>0</td>\n      <td>NaN</td>\n      <td>NaN</td>\n      <td>NaN</td>\n      <td>440</td>\n      <td>0.00</td>\n      <td>0.00</td>\n      <td>0.00</td>\n    </tr>\n    <tr>\n      <th>29998</th>\n      <td>99997</td>\n      <td>109</td>\n      <td>0.0</td>\n      <td>0.0</td>\n      <td>0.0</td>\n      <td>6/30/2014</td>\n      <td>7/31/2014</td>\n      <td>8/31/2014</td>\n      <td>1122.912</td>\n      <td>781.121</td>\n      <td>...</td>\n      <td>0</td>\n      <td>0</td>\n      <td>0</td>\n      <td>NaN</td>\n      <td>NaN</td>\n      <td>NaN</td>\n      <td>810</td>\n      <td>0.00</td>\n      <td>0.00</td>\n      <td>0.00</td>\n    </tr>\n    <tr>\n      <th>29999</th>\n      <td>99998</td>\n      <td>109</td>\n      <td>0.0</td>\n      <td>0.0</td>\n      <td>0.0</td>\n      <td>6/30/2014</td>\n      <td>7/31/2014</td>\n      <td>8/31/2014</td>\n      <td>318.980</td>\n      <td>307.890</td>\n      <td>...</td>\n      <td>1</td>\n      <td>1</td>\n      <td>0</td>\n      <td>1.0</td>\n      <td>1.0</td>\n      <td>1.0</td>\n      <td>440</td>\n      <td>762.55</td>\n      <td>687.13</td>\n      <td>22.76</td>\n    </tr>\n  </tbody>\n</table>\n<p>30000 rows × 171 columns</p>\n</div>"
     },
     "execution_count": 64,
     "metadata": {},
     "output_type": "execute_result"
    }
   ],
   "source": [
    "df_test"
   ],
   "metadata": {
    "collapsed": false,
    "pycharm": {
     "name": "#%%\n"
    }
   }
  },
  {
   "cell_type": "code",
   "execution_count": 57,
   "outputs": [
    {
     "data": {
      "text/plain": "array([ 0.,  1., -1.])"
     },
     "execution_count": 57,
     "metadata": {},
     "output_type": "execute_result"
    }
   ],
   "source": [
    "df_short_clean_df['churn_probability'].unique()"
   ],
   "metadata": {
    "collapsed": false,
    "pycharm": {
     "name": "#%%\n"
    }
   }
  },
  {
   "cell_type": "code",
   "execution_count": null,
   "outputs": [],
   "source": [
    "df_short_clean_df.to_csv( 'df_short_clean_df.csv', index=False)"
   ],
   "metadata": {
    "collapsed": false,
    "pycharm": {
     "name": "#%%\n"
    }
   }
  },
  {
   "cell_type": "code",
   "execution_count": null,
   "outputs": [],
   "source": [],
   "metadata": {
    "collapsed": false,
    "pycharm": {
     "name": "#%%\n"
    }
   }
  },
  {
   "cell_type": "code",
   "execution_count": 42,
   "outputs": [
    {
     "data": {
      "text/plain": "     column_name  percent_missing\n0              0              0.0\n1              1              0.0\n2              2              0.0\n3              3              0.0\n4              4              0.0\n..           ...              ...\n133          133              0.0\n134          134              0.0\n135          135              0.0\n136          136              0.0\n137          137              0.0\n\n[138 rows x 2 columns]",
      "text/html": "<div>\n<style scoped>\n    .dataframe tbody tr th:only-of-type {\n        vertical-align: middle;\n    }\n\n    .dataframe tbody tr th {\n        vertical-align: top;\n    }\n\n    .dataframe thead th {\n        text-align: right;\n    }\n</style>\n<table border=\"1\" class=\"dataframe\">\n  <thead>\n    <tr style=\"text-align: right;\">\n      <th></th>\n      <th>column_name</th>\n      <th>percent_missing</th>\n    </tr>\n  </thead>\n  <tbody>\n    <tr>\n      <th>0</th>\n      <td>0</td>\n      <td>0.0</td>\n    </tr>\n    <tr>\n      <th>1</th>\n      <td>1</td>\n      <td>0.0</td>\n    </tr>\n    <tr>\n      <th>2</th>\n      <td>2</td>\n      <td>0.0</td>\n    </tr>\n    <tr>\n      <th>3</th>\n      <td>3</td>\n      <td>0.0</td>\n    </tr>\n    <tr>\n      <th>4</th>\n      <td>4</td>\n      <td>0.0</td>\n    </tr>\n    <tr>\n      <th>...</th>\n      <td>...</td>\n      <td>...</td>\n    </tr>\n    <tr>\n      <th>133</th>\n      <td>133</td>\n      <td>0.0</td>\n    </tr>\n    <tr>\n      <th>134</th>\n      <td>134</td>\n      <td>0.0</td>\n    </tr>\n    <tr>\n      <th>135</th>\n      <td>135</td>\n      <td>0.0</td>\n    </tr>\n    <tr>\n      <th>136</th>\n      <td>136</td>\n      <td>0.0</td>\n    </tr>\n    <tr>\n      <th>137</th>\n      <td>137</td>\n      <td>0.0</td>\n    </tr>\n  </tbody>\n</table>\n<p>138 rows × 2 columns</p>\n</div>"
     },
     "execution_count": 42,
     "metadata": {},
     "output_type": "execute_result"
    }
   ],
   "source": [
    "percent_missing = df_short_clean_df.isnull().sum() * 100 / len(df_short_clean_df)\n",
    "missing_value_df = pd.DataFrame({'column_name': df_short_clean_df.columns,\n",
    "                                 'percent_missing': percent_missing})\n",
    "missing_value_df"
   ],
   "metadata": {
    "collapsed": false,
    "pycharm": {
     "name": "#%%\n"
    }
   }
  },
  {
   "cell_type": "code",
   "execution_count": null,
   "outputs": [],
   "source": [],
   "metadata": {
    "collapsed": false,
    "pycharm": {
     "name": "#%%\n"
    }
   }
  },
  {
   "cell_type": "code",
   "execution_count": null,
   "outputs": [],
   "source": [
    "df_test_short = df_test[columns_with_good_data]"
   ],
   "metadata": {
    "collapsed": false,
    "pycharm": {
     "name": "#%%\n"
    }
   }
  },
  {
   "cell_type": "code",
   "execution_count": null,
   "outputs": [],
   "source": [
    "df_short['last_date_of_month_9'].value_counts()"
   ],
   "metadata": {
    "collapsed": false,
    "pycharm": {
     "name": "#%%\n"
    }
   }
  },
  {
   "cell_type": "code",
   "execution_count": null,
   "outputs": [],
   "source": [
    "df_test_short"
   ],
   "metadata": {
    "collapsed": false,
    "pycharm": {
     "name": "#%%\n"
    }
   }
  },
  {
   "cell_type": "code",
   "execution_count": null,
   "outputs": [],
   "source": [
    "df_test_short[df_test_short['last_date_of_month_7'].notnull()].last_date_of_month_7 =1"
   ],
   "metadata": {
    "collapsed": false,
    "pycharm": {
     "name": "#%%\n"
    }
   }
  },
  {
   "cell_type": "code",
   "execution_count": null,
   "outputs": [],
   "source": [],
   "metadata": {
    "collapsed": false,
    "pycharm": {
     "name": "#%%\n"
    }
   }
  },
  {
   "cell_type": "code",
   "execution_count": null,
   "outputs": [],
   "source": [],
   "metadata": {
    "collapsed": false,
    "pycharm": {
     "name": "#%%\n"
    }
   }
  },
  {
   "cell_type": "code",
   "execution_count": null,
   "outputs": [],
   "source": [],
   "metadata": {
    "collapsed": false,
    "pycharm": {
     "name": "#%%\n"
    }
   }
  },
  {
   "cell_type": "code",
   "execution_count": null,
   "outputs": [],
   "source": [],
   "metadata": {
    "collapsed": false,
    "pycharm": {
     "name": "#%%\n"
    }
   }
  },
  {
   "cell_type": "code",
   "execution_count": null,
   "outputs": [],
   "source": [],
   "metadata": {
    "collapsed": false,
    "pycharm": {
     "name": "#%%\n"
    }
   }
  }
 ],
 "metadata": {
  "kernelspec": {
   "display_name": "Python 3",
   "language": "python",
   "name": "python3"
  },
  "language_info": {
   "codemirror_mode": {
    "name": "ipython",
    "version": 2
   },
   "file_extension": ".py",
   "mimetype": "text/x-python",
   "name": "python",
   "nbconvert_exporter": "python",
   "pygments_lexer": "ipython2",
   "version": "2.7.6"
  }
 },
 "nbformat": 4,
 "nbformat_minor": 0
}
{
 "cells": [
  {
   "cell_type": "code",
   "execution_count": 1,
   "metadata": {
    "collapsed": true,
    "pycharm": {
     "name": "#%%\n"
    }
   },
   "outputs": [],
   "source": [
    "import pandas as pd\n",
    "import sklearn.neighbors._base\n",
    "import sys\n",
    "sys.modules['sklearn.neighbors.base'] = sklearn.neighbors._base"
   ]
  },
  {
   "cell_type": "code",
   "execution_count": 2,
   "outputs": [],
   "source": [
    "# Standard\n",
    "import pandas as pd\n",
    "import numpy as np\n",
    "import os\n",
    "# Pycaret\n",
    "from pycaret.classification import *\n",
    "# Plots\n",
    "from plotly.offline import iplot\n",
    "import plotly.graph_objects as go\n",
    "from plotly.subplots import make_subplots\n",
    "import seaborn as sns\n",
    "# Sklearn tools\n",
    "from sklearn.preprocessing import LabelEncoder\n",
    "from sklearn.metrics import *\n",
    "# Extras\n",
    "from datetime import date\n",
    "import warnings\n",
    "warnings.filterwarnings(\"ignore\")\n",
    "import seaborn as sns\n",
    "import pycaret\n",
    "\n",
    "from sklearn.impute import SimpleImputer\n",
    "\n",
    "from sklearn.experimental import enable_iterative_imputer\n",
    "from sklearn.impute import IterativeImputer"
   ],
   "metadata": {
    "collapsed": false,
    "pycharm": {
     "name": "#%%\n"
    }
   }
  },
  {
   "cell_type": "code",
   "execution_count": 85,
   "outputs": [],
   "source": [
    "df_clean = pd.read_csv('df_short_clean_df.csv')"
   ],
   "metadata": {
    "collapsed": false,
    "pycharm": {
     "name": "#%%\n"
    }
   }
  },
  {
   "cell_type": "code",
   "execution_count": 86,
   "outputs": [
    {
     "data": {
      "text/plain": "            id  circle_id  loc_og_t2o_mou  std_og_t2o_mou  loc_ic_t2o_mou  \\\n0          0.0      109.0             0.0             0.0             0.0   \n1          1.0      109.0             0.0             0.0             0.0   \n2          2.0      109.0             0.0             0.0             0.0   \n3          3.0      109.0             0.0             0.0             0.0   \n4          4.0      109.0             0.0             0.0             0.0   \n...        ...        ...             ...             ...             ...   \n99994  99994.0      109.0             0.0             0.0             0.0   \n99995  99995.0      109.0             0.0             0.0             0.0   \n99996  99996.0      109.0             0.0             0.0             0.0   \n99997  99997.0      109.0             0.0             0.0             0.0   \n99998  99998.0      109.0             0.0             0.0             0.0   \n\n       last_date_of_month_7  last_date_of_month_8    arpu_6   arpu_7   arpu_8  \\\n0                       1.0                   1.0    31.277   87.009    7.527   \n1                       1.0                   1.0     0.000  122.787   42.953   \n2                       1.0                   1.0    60.806  103.176    0.000   \n3                       1.0                   1.0   156.362  205.260  111.095   \n4                       1.0                   1.0   240.708  128.191  101.565   \n...                     ...                   ...       ...      ...      ...   \n99994                   1.0                   1.0   718.870  396.259  406.150   \n99995                   1.0                   1.0   218.327  324.070  374.981   \n99996                   1.0                   1.0   139.473   38.230  180.194   \n99997                   1.0                   1.0  1122.912  781.121  257.439   \n99998                   1.0                   1.0   318.980  307.890  605.320   \n\n       ...  monthly_3g_7  monthly_3g_8  sachet_3g_6  sachet_3g_7  sachet_3g_8  \\\n0      ...           0.0           0.0          0.0          0.0          0.0   \n1      ...           1.0           0.0          0.0          0.0          0.0   \n2      ...           0.0           0.0          0.0          0.0          0.0   \n3      ...           0.0           0.0          0.0          0.0          0.0   \n4      ...           0.0           0.0          0.0          1.0          0.0   \n...    ...           ...           ...          ...          ...          ...   \n99994  ...           0.0           0.0          0.0          0.0          0.0   \n99995  ...           1.0           0.0          0.0          0.0          0.0   \n99996  ...           0.0           0.0          0.0          0.0          0.0   \n99997  ...           0.0           0.0          0.0          0.0          0.0   \n99998  ...           3.0           2.0          1.0          1.0          0.0   \n\n          aon  aug_vbc_3g  jul_vbc_3g  jun_vbc_3g  churn_probability  \n0      1958.0        0.00        0.00        0.00                0.0  \n1       710.0        0.00        0.00        0.00                0.0  \n2       882.0        0.00        0.00        0.00                0.0  \n3       982.0        0.00        0.00        0.00                0.0  \n4       647.0        0.00        0.00        0.00                0.0  \n...       ...         ...         ...         ...                ...  \n99994  1255.0        3.71      105.64       61.48               -1.0  \n99995  2258.0        0.00        0.00        0.00               -1.0  \n99996   440.0        0.00        0.00        0.00               -1.0  \n99997   810.0        0.00        0.00        0.00               -1.0  \n99998   440.0      762.55      687.13       22.76               -1.0  \n\n[99999 rows x 138 columns]",
      "text/html": "<div>\n<style scoped>\n    .dataframe tbody tr th:only-of-type {\n        vertical-align: middle;\n    }\n\n    .dataframe tbody tr th {\n        vertical-align: top;\n    }\n\n    .dataframe thead th {\n        text-align: right;\n    }\n</style>\n<table border=\"1\" class=\"dataframe\">\n  <thead>\n    <tr style=\"text-align: right;\">\n      <th></th>\n      <th>id</th>\n      <th>circle_id</th>\n      <th>loc_og_t2o_mou</th>\n      <th>std_og_t2o_mou</th>\n      <th>loc_ic_t2o_mou</th>\n      <th>last_date_of_month_7</th>\n      <th>last_date_of_month_8</th>\n      <th>arpu_6</th>\n      <th>arpu_7</th>\n      <th>arpu_8</th>\n      <th>...</th>\n      <th>monthly_3g_7</th>\n      <th>monthly_3g_8</th>\n      <th>sachet_3g_6</th>\n      <th>sachet_3g_7</th>\n      <th>sachet_3g_8</th>\n      <th>aon</th>\n      <th>aug_vbc_3g</th>\n      <th>jul_vbc_3g</th>\n      <th>jun_vbc_3g</th>\n      <th>churn_probability</th>\n    </tr>\n  </thead>\n  <tbody>\n    <tr>\n      <th>0</th>\n      <td>0.0</td>\n      <td>109.0</td>\n      <td>0.0</td>\n      <td>0.0</td>\n      <td>0.0</td>\n      <td>1.0</td>\n      <td>1.0</td>\n      <td>31.277</td>\n      <td>87.009</td>\n      <td>7.527</td>\n      <td>...</td>\n      <td>0.0</td>\n      <td>0.0</td>\n      <td>0.0</td>\n      <td>0.0</td>\n      <td>0.0</td>\n      <td>1958.0</td>\n      <td>0.00</td>\n      <td>0.00</td>\n      <td>0.00</td>\n      <td>0.0</td>\n    </tr>\n    <tr>\n      <th>1</th>\n      <td>1.0</td>\n      <td>109.0</td>\n      <td>0.0</td>\n      <td>0.0</td>\n      <td>0.0</td>\n      <td>1.0</td>\n      <td>1.0</td>\n      <td>0.000</td>\n      <td>122.787</td>\n      <td>42.953</td>\n      <td>...</td>\n      <td>1.0</td>\n      <td>0.0</td>\n      <td>0.0</td>\n      <td>0.0</td>\n      <td>0.0</td>\n      <td>710.0</td>\n      <td>0.00</td>\n      <td>0.00</td>\n      <td>0.00</td>\n      <td>0.0</td>\n    </tr>\n    <tr>\n      <th>2</th>\n      <td>2.0</td>\n      <td>109.0</td>\n      <td>0.0</td>\n      <td>0.0</td>\n      <td>0.0</td>\n      <td>1.0</td>\n      <td>1.0</td>\n      <td>60.806</td>\n      <td>103.176</td>\n      <td>0.000</td>\n      <td>...</td>\n      <td>0.0</td>\n      <td>0.0</td>\n      <td>0.0</td>\n      <td>0.0</td>\n      <td>0.0</td>\n      <td>882.0</td>\n      <td>0.00</td>\n      <td>0.00</td>\n      <td>0.00</td>\n      <td>0.0</td>\n    </tr>\n    <tr>\n      <th>3</th>\n      <td>3.0</td>\n      <td>109.0</td>\n      <td>0.0</td>\n      <td>0.0</td>\n      <td>0.0</td>\n      <td>1.0</td>\n      <td>1.0</td>\n      <td>156.362</td>\n      <td>205.260</td>\n      <td>111.095</td>\n      <td>...</td>\n      <td>0.0</td>\n      <td>0.0</td>\n      <td>0.0</td>\n      <td>0.0</td>\n      <td>0.0</td>\n      <td>982.0</td>\n      <td>0.00</td>\n      <td>0.00</td>\n      <td>0.00</td>\n      <td>0.0</td>\n    </tr>\n    <tr>\n      <th>4</th>\n      <td>4.0</td>\n      <td>109.0</td>\n      <td>0.0</td>\n      <td>0.0</td>\n      <td>0.0</td>\n      <td>1.0</td>\n      <td>1.0</td>\n      <td>240.708</td>\n      <td>128.191</td>\n      <td>101.565</td>\n      <td>...</td>\n      <td>0.0</td>\n      <td>0.0</td>\n      <td>0.0</td>\n      <td>1.0</td>\n      <td>0.0</td>\n      <td>647.0</td>\n      <td>0.00</td>\n      <td>0.00</td>\n      <td>0.00</td>\n      <td>0.0</td>\n    </tr>\n    <tr>\n      <th>...</th>\n      <td>...</td>\n      <td>...</td>\n      <td>...</td>\n      <td>...</td>\n      <td>...</td>\n      <td>...</td>\n      <td>...</td>\n      <td>...</td>\n      <td>...</td>\n      <td>...</td>\n      <td>...</td>\n      <td>...</td>\n      <td>...</td>\n      <td>...</td>\n      <td>...</td>\n      <td>...</td>\n      <td>...</td>\n      <td>...</td>\n      <td>...</td>\n      <td>...</td>\n      <td>...</td>\n    </tr>\n    <tr>\n      <th>99994</th>\n      <td>99994.0</td>\n      <td>109.0</td>\n      <td>0.0</td>\n      <td>0.0</td>\n      <td>0.0</td>\n      <td>1.0</td>\n      <td>1.0</td>\n      <td>718.870</td>\n      <td>396.259</td>\n      <td>406.150</td>\n      <td>...</td>\n      <td>0.0</td>\n      <td>0.0</td>\n      <td>0.0</td>\n      <td>0.0</td>\n      <td>0.0</td>\n      <td>1255.0</td>\n      <td>3.71</td>\n      <td>105.64</td>\n      <td>61.48</td>\n      <td>-1.0</td>\n    </tr>\n    <tr>\n      <th>99995</th>\n      <td>99995.0</td>\n      <td>109.0</td>\n      <td>0.0</td>\n      <td>0.0</td>\n      <td>0.0</td>\n      <td>1.0</td>\n      <td>1.0</td>\n      <td>218.327</td>\n      <td>324.070</td>\n      <td>374.981</td>\n      <td>...</td>\n      <td>1.0</td>\n      <td>0.0</td>\n      <td>0.0</td>\n      <td>0.0</td>\n      <td>0.0</td>\n      <td>2258.0</td>\n      <td>0.00</td>\n      <td>0.00</td>\n      <td>0.00</td>\n      <td>-1.0</td>\n    </tr>\n    <tr>\n      <th>99996</th>\n      <td>99996.0</td>\n      <td>109.0</td>\n      <td>0.0</td>\n      <td>0.0</td>\n      <td>0.0</td>\n      <td>1.0</td>\n      <td>1.0</td>\n      <td>139.473</td>\n      <td>38.230</td>\n      <td>180.194</td>\n      <td>...</td>\n      <td>0.0</td>\n      <td>0.0</td>\n      <td>0.0</td>\n      <td>0.0</td>\n      <td>0.0</td>\n      <td>440.0</td>\n      <td>0.00</td>\n      <td>0.00</td>\n      <td>0.00</td>\n      <td>-1.0</td>\n    </tr>\n    <tr>\n      <th>99997</th>\n      <td>99997.0</td>\n      <td>109.0</td>\n      <td>0.0</td>\n      <td>0.0</td>\n      <td>0.0</td>\n      <td>1.0</td>\n      <td>1.0</td>\n      <td>1122.912</td>\n      <td>781.121</td>\n      <td>257.439</td>\n      <td>...</td>\n      <td>0.0</td>\n      <td>0.0</td>\n      <td>0.0</td>\n      <td>0.0</td>\n      <td>0.0</td>\n      <td>810.0</td>\n      <td>0.00</td>\n      <td>0.00</td>\n      <td>0.00</td>\n      <td>-1.0</td>\n    </tr>\n    <tr>\n      <th>99998</th>\n      <td>99998.0</td>\n      <td>109.0</td>\n      <td>0.0</td>\n      <td>0.0</td>\n      <td>0.0</td>\n      <td>1.0</td>\n      <td>1.0</td>\n      <td>318.980</td>\n      <td>307.890</td>\n      <td>605.320</td>\n      <td>...</td>\n      <td>3.0</td>\n      <td>2.0</td>\n      <td>1.0</td>\n      <td>1.0</td>\n      <td>0.0</td>\n      <td>440.0</td>\n      <td>762.55</td>\n      <td>687.13</td>\n      <td>22.76</td>\n      <td>-1.0</td>\n    </tr>\n  </tbody>\n</table>\n<p>99999 rows × 138 columns</p>\n</div>"
     },
     "execution_count": 86,
     "metadata": {},
     "output_type": "execute_result"
    }
   ],
   "source": [
    "df_clean"
   ],
   "metadata": {
    "collapsed": false,
    "pycharm": {
     "name": "#%%\n"
    }
   }
  },
  {
   "cell_type": "code",
   "execution_count": 87,
   "outputs": [],
   "source": [
    "df_clean.drop(columns=['circle_id','loc_og_t2o_mou','std_og_t2o_mou','loc_ic_t2o_mou','std_og_t2c_mou_6','std_og_t2c_mou_7','std_og_t2c_mou_8','std_ic_t2o_mou_6','std_ic_t2o_mou_7',],inplace=True)"
   ],
   "metadata": {
    "collapsed": false,
    "pycharm": {
     "name": "#%%\n"
    }
   }
  },
  {
   "cell_type": "code",
   "execution_count": 88,
   "outputs": [
    {
     "data": {
      "text/plain": "            id  last_date_of_month_7  last_date_of_month_8    arpu_6   arpu_7  \\\n0          0.0                   1.0                   1.0    31.277   87.009   \n1          1.0                   1.0                   1.0     0.000  122.787   \n2          2.0                   1.0                   1.0    60.806  103.176   \n3          3.0                   1.0                   1.0   156.362  205.260   \n4          4.0                   1.0                   1.0   240.708  128.191   \n...        ...                   ...                   ...       ...      ...   \n99994  99994.0                   1.0                   1.0   718.870  396.259   \n99995  99995.0                   1.0                   1.0   218.327  324.070   \n99996  99996.0                   1.0                   1.0   139.473   38.230   \n99997  99997.0                   1.0                   1.0  1122.912  781.121   \n99998  99998.0                   1.0                   1.0   318.980  307.890   \n\n        arpu_8  onnet_mou_6  onnet_mou_7  onnet_mou_8  offnet_mou_6  ...  \\\n0        7.527        48.58       124.38         1.29         32.24  ...   \n1       42.953         0.00         0.00         0.00          0.00  ...   \n2        0.000         0.53        15.93         0.00         53.99  ...   \n3      111.095         7.26        16.01         0.00         68.76  ...   \n4      101.565        21.28         4.83         6.13         56.99  ...   \n...        ...          ...          ...          ...           ...  ...   \n99994  406.150       324.46       250.01       285.41        190.36  ...   \n99995  374.981       263.79       467.24       650.26        108.53  ...   \n99996  180.194        11.08        14.89        19.94         37.24  ...   \n99997  257.439       122.74        50.23        26.46       1854.09  ...   \n99998  605.320        28.09        32.93        66.31        107.78  ...   \n\n       monthly_3g_7  monthly_3g_8  sachet_3g_6  sachet_3g_7  sachet_3g_8  \\\n0               0.0           0.0          0.0          0.0          0.0   \n1               1.0           0.0          0.0          0.0          0.0   \n2               0.0           0.0          0.0          0.0          0.0   \n3               0.0           0.0          0.0          0.0          0.0   \n4               0.0           0.0          0.0          1.0          0.0   \n...             ...           ...          ...          ...          ...   \n99994           0.0           0.0          0.0          0.0          0.0   \n99995           1.0           0.0          0.0          0.0          0.0   \n99996           0.0           0.0          0.0          0.0          0.0   \n99997           0.0           0.0          0.0          0.0          0.0   \n99998           3.0           2.0          1.0          1.0          0.0   \n\n          aon  aug_vbc_3g  jul_vbc_3g  jun_vbc_3g  churn_probability  \n0      1958.0        0.00        0.00        0.00                0.0  \n1       710.0        0.00        0.00        0.00                0.0  \n2       882.0        0.00        0.00        0.00                0.0  \n3       982.0        0.00        0.00        0.00                0.0  \n4       647.0        0.00        0.00        0.00                0.0  \n...       ...         ...         ...         ...                ...  \n99994  1255.0        3.71      105.64       61.48               -1.0  \n99995  2258.0        0.00        0.00        0.00               -1.0  \n99996   440.0        0.00        0.00        0.00               -1.0  \n99997   810.0        0.00        0.00        0.00               -1.0  \n99998   440.0      762.55      687.13       22.76               -1.0  \n\n[99999 rows x 129 columns]",
      "text/html": "<div>\n<style scoped>\n    .dataframe tbody tr th:only-of-type {\n        vertical-align: middle;\n    }\n\n    .dataframe tbody tr th {\n        vertical-align: top;\n    }\n\n    .dataframe thead th {\n        text-align: right;\n    }\n</style>\n<table border=\"1\" class=\"dataframe\">\n  <thead>\n    <tr style=\"text-align: right;\">\n      <th></th>\n      <th>id</th>\n      <th>last_date_of_month_7</th>\n      <th>last_date_of_month_8</th>\n      <th>arpu_6</th>\n      <th>arpu_7</th>\n      <th>arpu_8</th>\n      <th>onnet_mou_6</th>\n      <th>onnet_mou_7</th>\n      <th>onnet_mou_8</th>\n      <th>offnet_mou_6</th>\n      <th>...</th>\n      <th>monthly_3g_7</th>\n      <th>monthly_3g_8</th>\n      <th>sachet_3g_6</th>\n      <th>sachet_3g_7</th>\n      <th>sachet_3g_8</th>\n      <th>aon</th>\n      <th>aug_vbc_3g</th>\n      <th>jul_vbc_3g</th>\n      <th>jun_vbc_3g</th>\n      <th>churn_probability</th>\n    </tr>\n  </thead>\n  <tbody>\n    <tr>\n      <th>0</th>\n      <td>0.0</td>\n      <td>1.0</td>\n      <td>1.0</td>\n      <td>31.277</td>\n      <td>87.009</td>\n      <td>7.527</td>\n      <td>48.58</td>\n      <td>124.38</td>\n      <td>1.29</td>\n      <td>32.24</td>\n      <td>...</td>\n      <td>0.0</td>\n      <td>0.0</td>\n      <td>0.0</td>\n      <td>0.0</td>\n      <td>0.0</td>\n      <td>1958.0</td>\n      <td>0.00</td>\n      <td>0.00</td>\n      <td>0.00</td>\n      <td>0.0</td>\n    </tr>\n    <tr>\n      <th>1</th>\n      <td>1.0</td>\n      <td>1.0</td>\n      <td>1.0</td>\n      <td>0.000</td>\n      <td>122.787</td>\n      <td>42.953</td>\n      <td>0.00</td>\n      <td>0.00</td>\n      <td>0.00</td>\n      <td>0.00</td>\n      <td>...</td>\n      <td>1.0</td>\n      <td>0.0</td>\n      <td>0.0</td>\n      <td>0.0</td>\n      <td>0.0</td>\n      <td>710.0</td>\n      <td>0.00</td>\n      <td>0.00</td>\n      <td>0.00</td>\n      <td>0.0</td>\n    </tr>\n    <tr>\n      <th>2</th>\n      <td>2.0</td>\n      <td>1.0</td>\n      <td>1.0</td>\n      <td>60.806</td>\n      <td>103.176</td>\n      <td>0.000</td>\n      <td>0.53</td>\n      <td>15.93</td>\n      <td>0.00</td>\n      <td>53.99</td>\n      <td>...</td>\n      <td>0.0</td>\n      <td>0.0</td>\n      <td>0.0</td>\n      <td>0.0</td>\n      <td>0.0</td>\n      <td>882.0</td>\n      <td>0.00</td>\n      <td>0.00</td>\n      <td>0.00</td>\n      <td>0.0</td>\n    </tr>\n    <tr>\n      <th>3</th>\n      <td>3.0</td>\n      <td>1.0</td>\n      <td>1.0</td>\n      <td>156.362</td>\n      <td>205.260</td>\n      <td>111.095</td>\n      <td>7.26</td>\n      <td>16.01</td>\n      <td>0.00</td>\n      <td>68.76</td>\n      <td>...</td>\n      <td>0.0</td>\n      <td>0.0</td>\n      <td>0.0</td>\n      <td>0.0</td>\n      <td>0.0</td>\n      <td>982.0</td>\n      <td>0.00</td>\n      <td>0.00</td>\n      <td>0.00</td>\n      <td>0.0</td>\n    </tr>\n    <tr>\n      <th>4</th>\n      <td>4.0</td>\n      <td>1.0</td>\n      <td>1.0</td>\n      <td>240.708</td>\n      <td>128.191</td>\n      <td>101.565</td>\n      <td>21.28</td>\n      <td>4.83</td>\n      <td>6.13</td>\n      <td>56.99</td>\n      <td>...</td>\n      <td>0.0</td>\n      <td>0.0</td>\n      <td>0.0</td>\n      <td>1.0</td>\n      <td>0.0</td>\n      <td>647.0</td>\n      <td>0.00</td>\n      <td>0.00</td>\n      <td>0.00</td>\n      <td>0.0</td>\n    </tr>\n    <tr>\n      <th>...</th>\n      <td>...</td>\n      <td>...</td>\n      <td>...</td>\n      <td>...</td>\n      <td>...</td>\n      <td>...</td>\n      <td>...</td>\n      <td>...</td>\n      <td>...</td>\n      <td>...</td>\n      <td>...</td>\n      <td>...</td>\n      <td>...</td>\n      <td>...</td>\n      <td>...</td>\n      <td>...</td>\n      <td>...</td>\n      <td>...</td>\n      <td>...</td>\n      <td>...</td>\n      <td>...</td>\n    </tr>\n    <tr>\n      <th>99994</th>\n      <td>99994.0</td>\n      <td>1.0</td>\n      <td>1.0</td>\n      <td>718.870</td>\n      <td>396.259</td>\n      <td>406.150</td>\n      <td>324.46</td>\n      <td>250.01</td>\n      <td>285.41</td>\n      <td>190.36</td>\n      <td>...</td>\n      <td>0.0</td>\n      <td>0.0</td>\n      <td>0.0</td>\n      <td>0.0</td>\n      <td>0.0</td>\n      <td>1255.0</td>\n      <td>3.71</td>\n      <td>105.64</td>\n      <td>61.48</td>\n      <td>-1.0</td>\n    </tr>\n    <tr>\n      <th>99995</th>\n      <td>99995.0</td>\n      <td>1.0</td>\n      <td>1.0</td>\n      <td>218.327</td>\n      <td>324.070</td>\n      <td>374.981</td>\n      <td>263.79</td>\n      <td>467.24</td>\n      <td>650.26</td>\n      <td>108.53</td>\n      <td>...</td>\n      <td>1.0</td>\n      <td>0.0</td>\n      <td>0.0</td>\n      <td>0.0</td>\n      <td>0.0</td>\n      <td>2258.0</td>\n      <td>0.00</td>\n      <td>0.00</td>\n      <td>0.00</td>\n      <td>-1.0</td>\n    </tr>\n    <tr>\n      <th>99996</th>\n      <td>99996.0</td>\n      <td>1.0</td>\n      <td>1.0</td>\n      <td>139.473</td>\n      <td>38.230</td>\n      <td>180.194</td>\n      <td>11.08</td>\n      <td>14.89</td>\n      <td>19.94</td>\n      <td>37.24</td>\n      <td>...</td>\n      <td>0.0</td>\n      <td>0.0</td>\n      <td>0.0</td>\n      <td>0.0</td>\n      <td>0.0</td>\n      <td>440.0</td>\n      <td>0.00</td>\n      <td>0.00</td>\n      <td>0.00</td>\n      <td>-1.0</td>\n    </tr>\n    <tr>\n      <th>99997</th>\n      <td>99997.0</td>\n      <td>1.0</td>\n      <td>1.0</td>\n      <td>1122.912</td>\n      <td>781.121</td>\n      <td>257.439</td>\n      <td>122.74</td>\n      <td>50.23</td>\n      <td>26.46</td>\n      <td>1854.09</td>\n      <td>...</td>\n      <td>0.0</td>\n      <td>0.0</td>\n      <td>0.0</td>\n      <td>0.0</td>\n      <td>0.0</td>\n      <td>810.0</td>\n      <td>0.00</td>\n      <td>0.00</td>\n      <td>0.00</td>\n      <td>-1.0</td>\n    </tr>\n    <tr>\n      <th>99998</th>\n      <td>99998.0</td>\n      <td>1.0</td>\n      <td>1.0</td>\n      <td>318.980</td>\n      <td>307.890</td>\n      <td>605.320</td>\n      <td>28.09</td>\n      <td>32.93</td>\n      <td>66.31</td>\n      <td>107.78</td>\n      <td>...</td>\n      <td>3.0</td>\n      <td>2.0</td>\n      <td>1.0</td>\n      <td>1.0</td>\n      <td>0.0</td>\n      <td>440.0</td>\n      <td>762.55</td>\n      <td>687.13</td>\n      <td>22.76</td>\n      <td>-1.0</td>\n    </tr>\n  </tbody>\n</table>\n<p>99999 rows × 129 columns</p>\n</div>"
     },
     "execution_count": 88,
     "metadata": {},
     "output_type": "execute_result"
    }
   ],
   "source": [
    "df_clean"
   ],
   "metadata": {
    "collapsed": false,
    "pycharm": {
     "name": "#%%\n"
    }
   }
  },
  {
   "cell_type": "code",
   "execution_count": 89,
   "outputs": [],
   "source": [
    "#convert float to int if it possible\n",
    "list_of_col = df_clean.columns"
   ],
   "metadata": {
    "collapsed": false,
    "pycharm": {
     "name": "#%%\n"
    }
   }
  },
  {
   "cell_type": "code",
   "execution_count": 90,
   "outputs": [],
   "source": [
    "for col in list_of_col:\n",
    "    if(np.array_equal(df_clean[col], df_clean[col].astype(int))):\n",
    "        df_clean[col] = df_clean[col].astype(int)"
   ],
   "metadata": {
    "collapsed": false,
    "pycharm": {
     "name": "#%%\n"
    }
   }
  },
  {
   "cell_type": "code",
   "execution_count": 91,
   "outputs": [
    {
     "data": {
      "text/plain": "id                        int32\nlast_date_of_month_7      int32\nlast_date_of_month_8      int32\narpu_6                  float64\narpu_7                  float64\n                         ...   \naon                       int32\naug_vbc_3g              float64\njul_vbc_3g              float64\njun_vbc_3g              float64\nchurn_probability         int32\nLength: 129, dtype: object"
     },
     "execution_count": 91,
     "metadata": {},
     "output_type": "execute_result"
    }
   ],
   "source": [
    "df_clean.dtypes\n"
   ],
   "metadata": {
    "collapsed": false,
    "pycharm": {
     "name": "#%%\n"
    }
   }
  },
  {
   "cell_type": "code",
   "execution_count": 92,
   "outputs": [],
   "source": [
    "df_test = pd.read_csv('test.csv')"
   ],
   "metadata": {
    "collapsed": false,
    "pycharm": {
     "name": "#%%\n"
    }
   }
  },
  {
   "cell_type": "code",
   "execution_count": 93,
   "outputs": [],
   "source": [
    "df_train = pd.read_csv('train.csv')"
   ],
   "metadata": {
    "collapsed": false,
    "pycharm": {
     "name": "#%%\n"
    }
   }
  },
  {
   "cell_type": "code",
   "execution_count": 94,
   "outputs": [],
   "source": [
    "train_list = df_train['id'].to_list()"
   ],
   "metadata": {
    "collapsed": false,
    "pycharm": {
     "name": "#%%\n"
    }
   }
  },
  {
   "cell_type": "code",
   "execution_count": 95,
   "outputs": [
    {
     "data": {
      "text/plain": "69999"
     },
     "execution_count": 95,
     "metadata": {},
     "output_type": "execute_result"
    }
   ],
   "source": [
    "len(train_list)"
   ],
   "metadata": {
    "collapsed": false,
    "pycharm": {
     "name": "#%%\n"
    }
   }
  },
  {
   "cell_type": "code",
   "execution_count": 96,
   "outputs": [],
   "source": [
    "df_c_train = df_clean[df_clean['id'].isin(train_list)]"
   ],
   "metadata": {
    "collapsed": false,
    "pycharm": {
     "name": "#%%\n"
    }
   }
  },
  {
   "cell_type": "code",
   "execution_count": 97,
   "outputs": [],
   "source": [
    "df_c_test = df_clean[~df_clean['id'].isin(train_list)]"
   ],
   "metadata": {
    "collapsed": false,
    "pycharm": {
     "name": "#%%\n"
    }
   }
  },
  {
   "cell_type": "code",
   "execution_count": 98,
   "outputs": [
    {
     "data": {
      "text/plain": "          id  last_date_of_month_7  last_date_of_month_8    arpu_6   arpu_7  \\\n69999  69999                     1                     1    91.882   65.330   \n70000  70000                     1                     1   414.168  515.568   \n70001  70001                     1                     1   329.844  434.884   \n70002  70002                     1                     1    43.550  171.390   \n70003  70003                     1                     1   306.854  406.289   \n...      ...                   ...                   ...       ...      ...   \n99994  99994                     1                     1   718.870  396.259   \n99995  99995                     1                     1   218.327  324.070   \n99996  99996                     1                     1   139.473   38.230   \n99997  99997                     1                     1  1122.912  781.121   \n99998  99998                     1                     1   318.980  307.890   \n\n        arpu_8  onnet_mou_6  onnet_mou_7  onnet_mou_8  offnet_mou_6  ...  \\\n69999   64.445        31.78        20.23        23.11         60.16  ...   \n70000  360.868        75.51        41.21        19.84        474.34  ...   \n70001  746.239         7.54         7.86         8.40         16.98  ...   \n70002   24.400         5.31         2.16         0.00         40.04  ...   \n70003  413.329       450.93       609.03       700.68         60.94  ...   \n...        ...          ...          ...          ...           ...  ...   \n99994  406.150       324.46       250.01       285.41        190.36  ...   \n99995  374.981       263.79       467.24       650.26        108.53  ...   \n99996  180.194        11.08        14.89        19.94         37.24  ...   \n99997  257.439       122.74        50.23        26.46       1854.09  ...   \n99998  605.320        28.09        32.93        66.31        107.78  ...   \n\n       monthly_3g_7  monthly_3g_8  sachet_3g_6  sachet_3g_7  sachet_3g_8  \\\n69999             0             0            0            0            0   \n70000             0             0            0            0            0   \n70001             0             0            0            0            0   \n70002             0             0            0            0            0   \n70003             0             0            0            0            0   \n...             ...           ...          ...          ...          ...   \n99994             0             0            0            0            0   \n99995             1             0            0            0            0   \n99996             0             0            0            0            0   \n99997             0             0            0            0            0   \n99998             3             2            1            1            0   \n\n        aon  aug_vbc_3g  jul_vbc_3g  jun_vbc_3g  churn_probability  \n69999  1692        0.00        0.00        0.00                 -1  \n70000  2533        0.00        0.00        0.00                 -1  \n70001   277      525.61      758.41      241.84                 -1  \n70002  1244        0.00        0.00        0.00                 -1  \n70003   462        0.00        0.00        0.00                 -1  \n...     ...         ...         ...         ...                ...  \n99994  1255        3.71      105.64       61.48                 -1  \n99995  2258        0.00        0.00        0.00                 -1  \n99996   440        0.00        0.00        0.00                 -1  \n99997   810        0.00        0.00        0.00                 -1  \n99998   440      762.55      687.13       22.76                 -1  \n\n[30000 rows x 129 columns]",
      "text/html": "<div>\n<style scoped>\n    .dataframe tbody tr th:only-of-type {\n        vertical-align: middle;\n    }\n\n    .dataframe tbody tr th {\n        vertical-align: top;\n    }\n\n    .dataframe thead th {\n        text-align: right;\n    }\n</style>\n<table border=\"1\" class=\"dataframe\">\n  <thead>\n    <tr style=\"text-align: right;\">\n      <th></th>\n      <th>id</th>\n      <th>last_date_of_month_7</th>\n      <th>last_date_of_month_8</th>\n      <th>arpu_6</th>\n      <th>arpu_7</th>\n      <th>arpu_8</th>\n      <th>onnet_mou_6</th>\n      <th>onnet_mou_7</th>\n      <th>onnet_mou_8</th>\n      <th>offnet_mou_6</th>\n      <th>...</th>\n      <th>monthly_3g_7</th>\n      <th>monthly_3g_8</th>\n      <th>sachet_3g_6</th>\n      <th>sachet_3g_7</th>\n      <th>sachet_3g_8</th>\n      <th>aon</th>\n      <th>aug_vbc_3g</th>\n      <th>jul_vbc_3g</th>\n      <th>jun_vbc_3g</th>\n      <th>churn_probability</th>\n    </tr>\n  </thead>\n  <tbody>\n    <tr>\n      <th>69999</th>\n      <td>69999</td>\n      <td>1</td>\n      <td>1</td>\n      <td>91.882</td>\n      <td>65.330</td>\n      <td>64.445</td>\n      <td>31.78</td>\n      <td>20.23</td>\n      <td>23.11</td>\n      <td>60.16</td>\n      <td>...</td>\n      <td>0</td>\n      <td>0</td>\n      <td>0</td>\n      <td>0</td>\n      <td>0</td>\n      <td>1692</td>\n      <td>0.00</td>\n      <td>0.00</td>\n      <td>0.00</td>\n      <td>-1</td>\n    </tr>\n    <tr>\n      <th>70000</th>\n      <td>70000</td>\n      <td>1</td>\n      <td>1</td>\n      <td>414.168</td>\n      <td>515.568</td>\n      <td>360.868</td>\n      <td>75.51</td>\n      <td>41.21</td>\n      <td>19.84</td>\n      <td>474.34</td>\n      <td>...</td>\n      <td>0</td>\n      <td>0</td>\n      <td>0</td>\n      <td>0</td>\n      <td>0</td>\n      <td>2533</td>\n      <td>0.00</td>\n      <td>0.00</td>\n      <td>0.00</td>\n      <td>-1</td>\n    </tr>\n    <tr>\n      <th>70001</th>\n      <td>70001</td>\n      <td>1</td>\n      <td>1</td>\n      <td>329.844</td>\n      <td>434.884</td>\n      <td>746.239</td>\n      <td>7.54</td>\n      <td>7.86</td>\n      <td>8.40</td>\n      <td>16.98</td>\n      <td>...</td>\n      <td>0</td>\n      <td>0</td>\n      <td>0</td>\n      <td>0</td>\n      <td>0</td>\n      <td>277</td>\n      <td>525.61</td>\n      <td>758.41</td>\n      <td>241.84</td>\n      <td>-1</td>\n    </tr>\n    <tr>\n      <th>70002</th>\n      <td>70002</td>\n      <td>1</td>\n      <td>1</td>\n      <td>43.550</td>\n      <td>171.390</td>\n      <td>24.400</td>\n      <td>5.31</td>\n      <td>2.16</td>\n      <td>0.00</td>\n      <td>40.04</td>\n      <td>...</td>\n      <td>0</td>\n      <td>0</td>\n      <td>0</td>\n      <td>0</td>\n      <td>0</td>\n      <td>1244</td>\n      <td>0.00</td>\n      <td>0.00</td>\n      <td>0.00</td>\n      <td>-1</td>\n    </tr>\n    <tr>\n      <th>70003</th>\n      <td>70003</td>\n      <td>1</td>\n      <td>1</td>\n      <td>306.854</td>\n      <td>406.289</td>\n      <td>413.329</td>\n      <td>450.93</td>\n      <td>609.03</td>\n      <td>700.68</td>\n      <td>60.94</td>\n      <td>...</td>\n      <td>0</td>\n      <td>0</td>\n      <td>0</td>\n      <td>0</td>\n      <td>0</td>\n      <td>462</td>\n      <td>0.00</td>\n      <td>0.00</td>\n      <td>0.00</td>\n      <td>-1</td>\n    </tr>\n    <tr>\n      <th>...</th>\n      <td>...</td>\n      <td>...</td>\n      <td>...</td>\n      <td>...</td>\n      <td>...</td>\n      <td>...</td>\n      <td>...</td>\n      <td>...</td>\n      <td>...</td>\n      <td>...</td>\n      <td>...</td>\n      <td>...</td>\n      <td>...</td>\n      <td>...</td>\n      <td>...</td>\n      <td>...</td>\n      <td>...</td>\n      <td>...</td>\n      <td>...</td>\n      <td>...</td>\n      <td>...</td>\n    </tr>\n    <tr>\n      <th>99994</th>\n      <td>99994</td>\n      <td>1</td>\n      <td>1</td>\n      <td>718.870</td>\n      <td>396.259</td>\n      <td>406.150</td>\n      <td>324.46</td>\n      <td>250.01</td>\n      <td>285.41</td>\n      <td>190.36</td>\n      <td>...</td>\n      <td>0</td>\n      <td>0</td>\n      <td>0</td>\n      <td>0</td>\n      <td>0</td>\n      <td>1255</td>\n      <td>3.71</td>\n      <td>105.64</td>\n      <td>61.48</td>\n      <td>-1</td>\n    </tr>\n    <tr>\n      <th>99995</th>\n      <td>99995</td>\n      <td>1</td>\n      <td>1</td>\n      <td>218.327</td>\n      <td>324.070</td>\n      <td>374.981</td>\n      <td>263.79</td>\n      <td>467.24</td>\n      <td>650.26</td>\n      <td>108.53</td>\n      <td>...</td>\n      <td>1</td>\n      <td>0</td>\n      <td>0</td>\n      <td>0</td>\n      <td>0</td>\n      <td>2258</td>\n      <td>0.00</td>\n      <td>0.00</td>\n      <td>0.00</td>\n      <td>-1</td>\n    </tr>\n    <tr>\n      <th>99996</th>\n      <td>99996</td>\n      <td>1</td>\n      <td>1</td>\n      <td>139.473</td>\n      <td>38.230</td>\n      <td>180.194</td>\n      <td>11.08</td>\n      <td>14.89</td>\n      <td>19.94</td>\n      <td>37.24</td>\n      <td>...</td>\n      <td>0</td>\n      <td>0</td>\n      <td>0</td>\n      <td>0</td>\n      <td>0</td>\n      <td>440</td>\n      <td>0.00</td>\n      <td>0.00</td>\n      <td>0.00</td>\n      <td>-1</td>\n    </tr>\n    <tr>\n      <th>99997</th>\n      <td>99997</td>\n      <td>1</td>\n      <td>1</td>\n      <td>1122.912</td>\n      <td>781.121</td>\n      <td>257.439</td>\n      <td>122.74</td>\n      <td>50.23</td>\n      <td>26.46</td>\n      <td>1854.09</td>\n      <td>...</td>\n      <td>0</td>\n      <td>0</td>\n      <td>0</td>\n      <td>0</td>\n      <td>0</td>\n      <td>810</td>\n      <td>0.00</td>\n      <td>0.00</td>\n      <td>0.00</td>\n      <td>-1</td>\n    </tr>\n    <tr>\n      <th>99998</th>\n      <td>99998</td>\n      <td>1</td>\n      <td>1</td>\n      <td>318.980</td>\n      <td>307.890</td>\n      <td>605.320</td>\n      <td>28.09</td>\n      <td>32.93</td>\n      <td>66.31</td>\n      <td>107.78</td>\n      <td>...</td>\n      <td>3</td>\n      <td>2</td>\n      <td>1</td>\n      <td>1</td>\n      <td>0</td>\n      <td>440</td>\n      <td>762.55</td>\n      <td>687.13</td>\n      <td>22.76</td>\n      <td>-1</td>\n    </tr>\n  </tbody>\n</table>\n<p>30000 rows × 129 columns</p>\n</div>"
     },
     "execution_count": 98,
     "metadata": {},
     "output_type": "execute_result"
    }
   ],
   "source": [
    "df_c_test"
   ],
   "metadata": {
    "collapsed": false,
    "pycharm": {
     "name": "#%%\n"
    }
   }
  },
  {
   "cell_type": "code",
   "execution_count": 99,
   "outputs": [
    {
     "data": {
      "text/plain": "          id  last_date_of_month_7  last_date_of_month_8   arpu_6   arpu_7  \\\n0          0                     1                     1   31.277   87.009   \n1          1                     1                     1    0.000  122.787   \n2          2                     1                     1   60.806  103.176   \n3          3                     1                     1  156.362  205.260   \n4          4                     1                     1  240.708  128.191   \n...      ...                   ...                   ...      ...      ...   \n69994  69994                     1                     1   15.760  410.924   \n69995  69995                     1                     1  160.083  289.129   \n69996  69996                     1                     1  372.088  258.374   \n69997  69997                     1                     1  238.575  245.414   \n69998  69998                     1                     1  168.269   42.815   \n\n        arpu_8  onnet_mou_6  onnet_mou_7  onnet_mou_8  offnet_mou_6  ...  \\\n0        7.527        48.58       124.38         1.29         32.24  ...   \n1       42.953         0.00         0.00         0.00          0.00  ...   \n2        0.000         0.53        15.93         0.00         53.99  ...   \n3      111.095         7.26        16.01         0.00         68.76  ...   \n4      101.565        21.28         4.83         6.13         56.99  ...   \n...        ...          ...          ...          ...           ...  ...   \n69994  329.136         0.00         7.36        10.93          0.00  ...   \n69995  265.772       116.54       196.46       232.63         49.53  ...   \n69996  279.782        77.13        68.44        78.44        335.54  ...   \n69997  145.062        14.01         7.64         6.71         30.34  ...   \n69998  167.961         0.00         0.00         0.00          0.00  ...   \n\n       monthly_3g_7  monthly_3g_8  sachet_3g_6  sachet_3g_7  sachet_3g_8  \\\n0                 0             0            0            0            0   \n1                 1             0            0            0            0   \n2                 0             0            0            0            0   \n3                 0             0            0            0            0   \n4                 0             0            0            1            0   \n...             ...           ...          ...          ...          ...   \n69994             0             0            0            1            0   \n69995             0             0            0            0            0   \n69996             0             0            0            0            0   \n69997             1             1            0            0            0   \n69998             0             0            0            0            0   \n\n        aon  aug_vbc_3g  jul_vbc_3g  jun_vbc_3g  churn_probability  \n0      1958        0.00        0.00        0.00                  0  \n1       710        0.00        0.00        0.00                  0  \n2       882        0.00        0.00        0.00                  0  \n3       982        0.00        0.00        0.00                  0  \n4       647        0.00        0.00        0.00                  0  \n...     ...         ...         ...         ...                ...  \n69994   221        0.00        0.00        0.00                  0  \n69995   712        0.00        0.00        0.00                  0  \n69996   879        0.00        0.00        0.00                  0  \n69997   277      664.25     1402.96      990.97                  0  \n69998  1876        0.00        0.00        0.00                  0  \n\n[69999 rows x 129 columns]",
      "text/html": "<div>\n<style scoped>\n    .dataframe tbody tr th:only-of-type {\n        vertical-align: middle;\n    }\n\n    .dataframe tbody tr th {\n        vertical-align: top;\n    }\n\n    .dataframe thead th {\n        text-align: right;\n    }\n</style>\n<table border=\"1\" class=\"dataframe\">\n  <thead>\n    <tr style=\"text-align: right;\">\n      <th></th>\n      <th>id</th>\n      <th>last_date_of_month_7</th>\n      <th>last_date_of_month_8</th>\n      <th>arpu_6</th>\n      <th>arpu_7</th>\n      <th>arpu_8</th>\n      <th>onnet_mou_6</th>\n      <th>onnet_mou_7</th>\n      <th>onnet_mou_8</th>\n      <th>offnet_mou_6</th>\n      <th>...</th>\n      <th>monthly_3g_7</th>\n      <th>monthly_3g_8</th>\n      <th>sachet_3g_6</th>\n      <th>sachet_3g_7</th>\n      <th>sachet_3g_8</th>\n      <th>aon</th>\n      <th>aug_vbc_3g</th>\n      <th>jul_vbc_3g</th>\n      <th>jun_vbc_3g</th>\n      <th>churn_probability</th>\n    </tr>\n  </thead>\n  <tbody>\n    <tr>\n      <th>0</th>\n      <td>0</td>\n      <td>1</td>\n      <td>1</td>\n      <td>31.277</td>\n      <td>87.009</td>\n      <td>7.527</td>\n      <td>48.58</td>\n      <td>124.38</td>\n      <td>1.29</td>\n      <td>32.24</td>\n      <td>...</td>\n      <td>0</td>\n      <td>0</td>\n      <td>0</td>\n      <td>0</td>\n      <td>0</td>\n      <td>1958</td>\n      <td>0.00</td>\n      <td>0.00</td>\n      <td>0.00</td>\n      <td>0</td>\n    </tr>\n    <tr>\n      <th>1</th>\n      <td>1</td>\n      <td>1</td>\n      <td>1</td>\n      <td>0.000</td>\n      <td>122.787</td>\n      <td>42.953</td>\n      <td>0.00</td>\n      <td>0.00</td>\n      <td>0.00</td>\n      <td>0.00</td>\n      <td>...</td>\n      <td>1</td>\n      <td>0</td>\n      <td>0</td>\n      <td>0</td>\n      <td>0</td>\n      <td>710</td>\n      <td>0.00</td>\n      <td>0.00</td>\n      <td>0.00</td>\n      <td>0</td>\n    </tr>\n    <tr>\n      <th>2</th>\n      <td>2</td>\n      <td>1</td>\n      <td>1</td>\n      <td>60.806</td>\n      <td>103.176</td>\n      <td>0.000</td>\n      <td>0.53</td>\n      <td>15.93</td>\n      <td>0.00</td>\n      <td>53.99</td>\n      <td>...</td>\n      <td>0</td>\n      <td>0</td>\n      <td>0</td>\n      <td>0</td>\n      <td>0</td>\n      <td>882</td>\n      <td>0.00</td>\n      <td>0.00</td>\n      <td>0.00</td>\n      <td>0</td>\n    </tr>\n    <tr>\n      <th>3</th>\n      <td>3</td>\n      <td>1</td>\n      <td>1</td>\n      <td>156.362</td>\n      <td>205.260</td>\n      <td>111.095</td>\n      <td>7.26</td>\n      <td>16.01</td>\n      <td>0.00</td>\n      <td>68.76</td>\n      <td>...</td>\n      <td>0</td>\n      <td>0</td>\n      <td>0</td>\n      <td>0</td>\n      <td>0</td>\n      <td>982</td>\n      <td>0.00</td>\n      <td>0.00</td>\n      <td>0.00</td>\n      <td>0</td>\n    </tr>\n    <tr>\n      <th>4</th>\n      <td>4</td>\n      <td>1</td>\n      <td>1</td>\n      <td>240.708</td>\n      <td>128.191</td>\n      <td>101.565</td>\n      <td>21.28</td>\n      <td>4.83</td>\n      <td>6.13</td>\n      <td>56.99</td>\n      <td>...</td>\n      <td>0</td>\n      <td>0</td>\n      <td>0</td>\n      <td>1</td>\n      <td>0</td>\n      <td>647</td>\n      <td>0.00</td>\n      <td>0.00</td>\n      <td>0.00</td>\n      <td>0</td>\n    </tr>\n    <tr>\n      <th>...</th>\n      <td>...</td>\n      <td>...</td>\n      <td>...</td>\n      <td>...</td>\n      <td>...</td>\n      <td>...</td>\n      <td>...</td>\n      <td>...</td>\n      <td>...</td>\n      <td>...</td>\n      <td>...</td>\n      <td>...</td>\n      <td>...</td>\n      <td>...</td>\n      <td>...</td>\n      <td>...</td>\n      <td>...</td>\n      <td>...</td>\n      <td>...</td>\n      <td>...</td>\n      <td>...</td>\n    </tr>\n    <tr>\n      <th>69994</th>\n      <td>69994</td>\n      <td>1</td>\n      <td>1</td>\n      <td>15.760</td>\n      <td>410.924</td>\n      <td>329.136</td>\n      <td>0.00</td>\n      <td>7.36</td>\n      <td>10.93</td>\n      <td>0.00</td>\n      <td>...</td>\n      <td>0</td>\n      <td>0</td>\n      <td>0</td>\n      <td>1</td>\n      <td>0</td>\n      <td>221</td>\n      <td>0.00</td>\n      <td>0.00</td>\n      <td>0.00</td>\n      <td>0</td>\n    </tr>\n    <tr>\n      <th>69995</th>\n      <td>69995</td>\n      <td>1</td>\n      <td>1</td>\n      <td>160.083</td>\n      <td>289.129</td>\n      <td>265.772</td>\n      <td>116.54</td>\n      <td>196.46</td>\n      <td>232.63</td>\n      <td>49.53</td>\n      <td>...</td>\n      <td>0</td>\n      <td>0</td>\n      <td>0</td>\n      <td>0</td>\n      <td>0</td>\n      <td>712</td>\n      <td>0.00</td>\n      <td>0.00</td>\n      <td>0.00</td>\n      <td>0</td>\n    </tr>\n    <tr>\n      <th>69996</th>\n      <td>69996</td>\n      <td>1</td>\n      <td>1</td>\n      <td>372.088</td>\n      <td>258.374</td>\n      <td>279.782</td>\n      <td>77.13</td>\n      <td>68.44</td>\n      <td>78.44</td>\n      <td>335.54</td>\n      <td>...</td>\n      <td>0</td>\n      <td>0</td>\n      <td>0</td>\n      <td>0</td>\n      <td>0</td>\n      <td>879</td>\n      <td>0.00</td>\n      <td>0.00</td>\n      <td>0.00</td>\n      <td>0</td>\n    </tr>\n    <tr>\n      <th>69997</th>\n      <td>69997</td>\n      <td>1</td>\n      <td>1</td>\n      <td>238.575</td>\n      <td>245.414</td>\n      <td>145.062</td>\n      <td>14.01</td>\n      <td>7.64</td>\n      <td>6.71</td>\n      <td>30.34</td>\n      <td>...</td>\n      <td>1</td>\n      <td>1</td>\n      <td>0</td>\n      <td>0</td>\n      <td>0</td>\n      <td>277</td>\n      <td>664.25</td>\n      <td>1402.96</td>\n      <td>990.97</td>\n      <td>0</td>\n    </tr>\n    <tr>\n      <th>69998</th>\n      <td>69998</td>\n      <td>1</td>\n      <td>1</td>\n      <td>168.269</td>\n      <td>42.815</td>\n      <td>167.961</td>\n      <td>0.00</td>\n      <td>0.00</td>\n      <td>0.00</td>\n      <td>0.00</td>\n      <td>...</td>\n      <td>0</td>\n      <td>0</td>\n      <td>0</td>\n      <td>0</td>\n      <td>0</td>\n      <td>1876</td>\n      <td>0.00</td>\n      <td>0.00</td>\n      <td>0.00</td>\n      <td>0</td>\n    </tr>\n  </tbody>\n</table>\n<p>69999 rows × 129 columns</p>\n</div>"
     },
     "execution_count": 99,
     "metadata": {},
     "output_type": "execute_result"
    }
   ],
   "source": [
    "df_c_train"
   ],
   "metadata": {
    "collapsed": false,
    "pycharm": {
     "name": "#%%\n"
    }
   }
  },
  {
   "cell_type": "code",
   "execution_count": 100,
   "outputs": [],
   "source": [
    "df_c_train.to_csv( 'df_c_train.csv', index=False)"
   ],
   "metadata": {
    "collapsed": false,
    "pycharm": {
     "name": "#%%\n"
    }
   }
  },
  {
   "cell_type": "code",
   "execution_count": 101,
   "outputs": [],
   "source": [
    "df_c_test.to_csv( 'df_c_test.csv', index=False)"
   ],
   "metadata": {
    "collapsed": false,
    "pycharm": {
     "name": "#%%\n"
    }
   }
  }
 ],
 "metadata": {
  "kernelspec": {
   "display_name": "Python 3",
   "language": "python",
   "name": "python3"
  },
  "language_info": {
   "codemirror_mode": {
    "name": "ipython",
    "version": 2
   },
   "file_extension": ".py",
   "mimetype": "text/x-python",
   "name": "python",
   "nbconvert_exporter": "python",
   "pygments_lexer": "ipython2",
   "version": "2.7.6"
  }
 },
 "nbformat": 4,
 "nbformat_minor": 0
}
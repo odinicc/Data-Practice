{
 "cells": [
  {
   "cell_type": "code",
   "execution_count": 40,
   "metadata": {
    "collapsed": true,
    "pycharm": {
     "name": "#%%\n"
    }
   },
   "outputs": [],
   "source": [
    "import pandas as pd\n",
    "import sklearn.neighbors._base\n",
    "import sys\n",
    "sys.modules['sklearn.neighbors.base'] = sklearn.neighbors._base"
   ]
  },
  {
   "cell_type": "code",
   "execution_count": 41,
   "outputs": [],
   "source": [
    "# Standard\n",
    "import pandas as pd\n",
    "import numpy as np\n",
    "import os\n",
    "# Pycaret\n",
    "from pycaret.classification import *\n",
    "# Plots\n",
    "from plotly.offline import iplot\n",
    "import plotly.graph_objects as go\n",
    "from plotly.subplots import make_subplots\n",
    "import seaborn as sns\n",
    "# Sklearn tools\n",
    "from sklearn.preprocessing import LabelEncoder\n",
    "from sklearn.metrics import *\n",
    "# Extras\n",
    "from datetime import date\n",
    "import warnings\n",
    "warnings.filterwarnings(\"ignore\")\n",
    "import seaborn as sns\n",
    "import pycaret\n",
    "\n",
    "from sklearn.impute import SimpleImputer\n",
    "\n",
    "from sklearn.experimental import enable_iterative_imputer\n",
    "from sklearn.impute import IterativeImputer"
   ],
   "metadata": {
    "collapsed": false,
    "pycharm": {
     "name": "#%%\n"
    }
   }
  },
  {
   "cell_type": "code",
   "execution_count": 42,
   "outputs": [],
   "source": [
    "df_train = pd.read_csv('df_c_train.csv')"
   ],
   "metadata": {
    "collapsed": false,
    "pycharm": {
     "name": "#%%\n"
    }
   }
  },
  {
   "cell_type": "code",
   "execution_count": 43,
   "outputs": [
    {
     "data": {
      "text/plain": "          id  last_date_of_month_7  last_date_of_month_8   arpu_6   arpu_7  \\\n0          0                     1                     1   31.277   87.009   \n1          1                     1                     1    0.000  122.787   \n2          2                     1                     1   60.806  103.176   \n3          3                     1                     1  156.362  205.260   \n4          4                     1                     1  240.708  128.191   \n...      ...                   ...                   ...      ...      ...   \n69994  69994                     1                     1   15.760  410.924   \n69995  69995                     1                     1  160.083  289.129   \n69996  69996                     1                     1  372.088  258.374   \n69997  69997                     1                     1  238.575  245.414   \n69998  69998                     1                     1  168.269   42.815   \n\n        arpu_8  onnet_mou_6  onnet_mou_7  onnet_mou_8  offnet_mou_6  ...  \\\n0        7.527        48.58       124.38         1.29         32.24  ...   \n1       42.953         0.00         0.00         0.00          0.00  ...   \n2        0.000         0.53        15.93         0.00         53.99  ...   \n3      111.095         7.26        16.01         0.00         68.76  ...   \n4      101.565        21.28         4.83         6.13         56.99  ...   \n...        ...          ...          ...          ...           ...  ...   \n69994  329.136         0.00         7.36        10.93          0.00  ...   \n69995  265.772       116.54       196.46       232.63         49.53  ...   \n69996  279.782        77.13        68.44        78.44        335.54  ...   \n69997  145.062        14.01         7.64         6.71         30.34  ...   \n69998  167.961         0.00         0.00         0.00          0.00  ...   \n\n       monthly_3g_7  monthly_3g_8  sachet_3g_6  sachet_3g_7  sachet_3g_8  \\\n0                 0             0            0            0            0   \n1                 1             0            0            0            0   \n2                 0             0            0            0            0   \n3                 0             0            0            0            0   \n4                 0             0            0            1            0   \n...             ...           ...          ...          ...          ...   \n69994             0             0            0            1            0   \n69995             0             0            0            0            0   \n69996             0             0            0            0            0   \n69997             1             1            0            0            0   \n69998             0             0            0            0            0   \n\n        aon  aug_vbc_3g  jul_vbc_3g  jun_vbc_3g  churn_probability  \n0      1958        0.00        0.00        0.00                  0  \n1       710        0.00        0.00        0.00                  0  \n2       882        0.00        0.00        0.00                  0  \n3       982        0.00        0.00        0.00                  0  \n4       647        0.00        0.00        0.00                  0  \n...     ...         ...         ...         ...                ...  \n69994   221        0.00        0.00        0.00                  0  \n69995   712        0.00        0.00        0.00                  0  \n69996   879        0.00        0.00        0.00                  0  \n69997   277      664.25     1402.96      990.97                  0  \n69998  1876        0.00        0.00        0.00                  0  \n\n[69999 rows x 129 columns]",
      "text/html": "<div>\n<style scoped>\n    .dataframe tbody tr th:only-of-type {\n        vertical-align: middle;\n    }\n\n    .dataframe tbody tr th {\n        vertical-align: top;\n    }\n\n    .dataframe thead th {\n        text-align: right;\n    }\n</style>\n<table border=\"1\" class=\"dataframe\">\n  <thead>\n    <tr style=\"text-align: right;\">\n      <th></th>\n      <th>id</th>\n      <th>last_date_of_month_7</th>\n      <th>last_date_of_month_8</th>\n      <th>arpu_6</th>\n      <th>arpu_7</th>\n      <th>arpu_8</th>\n      <th>onnet_mou_6</th>\n      <th>onnet_mou_7</th>\n      <th>onnet_mou_8</th>\n      <th>offnet_mou_6</th>\n      <th>...</th>\n      <th>monthly_3g_7</th>\n      <th>monthly_3g_8</th>\n      <th>sachet_3g_6</th>\n      <th>sachet_3g_7</th>\n      <th>sachet_3g_8</th>\n      <th>aon</th>\n      <th>aug_vbc_3g</th>\n      <th>jul_vbc_3g</th>\n      <th>jun_vbc_3g</th>\n      <th>churn_probability</th>\n    </tr>\n  </thead>\n  <tbody>\n    <tr>\n      <th>0</th>\n      <td>0</td>\n      <td>1</td>\n      <td>1</td>\n      <td>31.277</td>\n      <td>87.009</td>\n      <td>7.527</td>\n      <td>48.58</td>\n      <td>124.38</td>\n      <td>1.29</td>\n      <td>32.24</td>\n      <td>...</td>\n      <td>0</td>\n      <td>0</td>\n      <td>0</td>\n      <td>0</td>\n      <td>0</td>\n      <td>1958</td>\n      <td>0.00</td>\n      <td>0.00</td>\n      <td>0.00</td>\n      <td>0</td>\n    </tr>\n    <tr>\n      <th>1</th>\n      <td>1</td>\n      <td>1</td>\n      <td>1</td>\n      <td>0.000</td>\n      <td>122.787</td>\n      <td>42.953</td>\n      <td>0.00</td>\n      <td>0.00</td>\n      <td>0.00</td>\n      <td>0.00</td>\n      <td>...</td>\n      <td>1</td>\n      <td>0</td>\n      <td>0</td>\n      <td>0</td>\n      <td>0</td>\n      <td>710</td>\n      <td>0.00</td>\n      <td>0.00</td>\n      <td>0.00</td>\n      <td>0</td>\n    </tr>\n    <tr>\n      <th>2</th>\n      <td>2</td>\n      <td>1</td>\n      <td>1</td>\n      <td>60.806</td>\n      <td>103.176</td>\n      <td>0.000</td>\n      <td>0.53</td>\n      <td>15.93</td>\n      <td>0.00</td>\n      <td>53.99</td>\n      <td>...</td>\n      <td>0</td>\n      <td>0</td>\n      <td>0</td>\n      <td>0</td>\n      <td>0</td>\n      <td>882</td>\n      <td>0.00</td>\n      <td>0.00</td>\n      <td>0.00</td>\n      <td>0</td>\n    </tr>\n    <tr>\n      <th>3</th>\n      <td>3</td>\n      <td>1</td>\n      <td>1</td>\n      <td>156.362</td>\n      <td>205.260</td>\n      <td>111.095</td>\n      <td>7.26</td>\n      <td>16.01</td>\n      <td>0.00</td>\n      <td>68.76</td>\n      <td>...</td>\n      <td>0</td>\n      <td>0</td>\n      <td>0</td>\n      <td>0</td>\n      <td>0</td>\n      <td>982</td>\n      <td>0.00</td>\n      <td>0.00</td>\n      <td>0.00</td>\n      <td>0</td>\n    </tr>\n    <tr>\n      <th>4</th>\n      <td>4</td>\n      <td>1</td>\n      <td>1</td>\n      <td>240.708</td>\n      <td>128.191</td>\n      <td>101.565</td>\n      <td>21.28</td>\n      <td>4.83</td>\n      <td>6.13</td>\n      <td>56.99</td>\n      <td>...</td>\n      <td>0</td>\n      <td>0</td>\n      <td>0</td>\n      <td>1</td>\n      <td>0</td>\n      <td>647</td>\n      <td>0.00</td>\n      <td>0.00</td>\n      <td>0.00</td>\n      <td>0</td>\n    </tr>\n    <tr>\n      <th>...</th>\n      <td>...</td>\n      <td>...</td>\n      <td>...</td>\n      <td>...</td>\n      <td>...</td>\n      <td>...</td>\n      <td>...</td>\n      <td>...</td>\n      <td>...</td>\n      <td>...</td>\n      <td>...</td>\n      <td>...</td>\n      <td>...</td>\n      <td>...</td>\n      <td>...</td>\n      <td>...</td>\n      <td>...</td>\n      <td>...</td>\n      <td>...</td>\n      <td>...</td>\n      <td>...</td>\n    </tr>\n    <tr>\n      <th>69994</th>\n      <td>69994</td>\n      <td>1</td>\n      <td>1</td>\n      <td>15.760</td>\n      <td>410.924</td>\n      <td>329.136</td>\n      <td>0.00</td>\n      <td>7.36</td>\n      <td>10.93</td>\n      <td>0.00</td>\n      <td>...</td>\n      <td>0</td>\n      <td>0</td>\n      <td>0</td>\n      <td>1</td>\n      <td>0</td>\n      <td>221</td>\n      <td>0.00</td>\n      <td>0.00</td>\n      <td>0.00</td>\n      <td>0</td>\n    </tr>\n    <tr>\n      <th>69995</th>\n      <td>69995</td>\n      <td>1</td>\n      <td>1</td>\n      <td>160.083</td>\n      <td>289.129</td>\n      <td>265.772</td>\n      <td>116.54</td>\n      <td>196.46</td>\n      <td>232.63</td>\n      <td>49.53</td>\n      <td>...</td>\n      <td>0</td>\n      <td>0</td>\n      <td>0</td>\n      <td>0</td>\n      <td>0</td>\n      <td>712</td>\n      <td>0.00</td>\n      <td>0.00</td>\n      <td>0.00</td>\n      <td>0</td>\n    </tr>\n    <tr>\n      <th>69996</th>\n      <td>69996</td>\n      <td>1</td>\n      <td>1</td>\n      <td>372.088</td>\n      <td>258.374</td>\n      <td>279.782</td>\n      <td>77.13</td>\n      <td>68.44</td>\n      <td>78.44</td>\n      <td>335.54</td>\n      <td>...</td>\n      <td>0</td>\n      <td>0</td>\n      <td>0</td>\n      <td>0</td>\n      <td>0</td>\n      <td>879</td>\n      <td>0.00</td>\n      <td>0.00</td>\n      <td>0.00</td>\n      <td>0</td>\n    </tr>\n    <tr>\n      <th>69997</th>\n      <td>69997</td>\n      <td>1</td>\n      <td>1</td>\n      <td>238.575</td>\n      <td>245.414</td>\n      <td>145.062</td>\n      <td>14.01</td>\n      <td>7.64</td>\n      <td>6.71</td>\n      <td>30.34</td>\n      <td>...</td>\n      <td>1</td>\n      <td>1</td>\n      <td>0</td>\n      <td>0</td>\n      <td>0</td>\n      <td>277</td>\n      <td>664.25</td>\n      <td>1402.96</td>\n      <td>990.97</td>\n      <td>0</td>\n    </tr>\n    <tr>\n      <th>69998</th>\n      <td>69998</td>\n      <td>1</td>\n      <td>1</td>\n      <td>168.269</td>\n      <td>42.815</td>\n      <td>167.961</td>\n      <td>0.00</td>\n      <td>0.00</td>\n      <td>0.00</td>\n      <td>0.00</td>\n      <td>...</td>\n      <td>0</td>\n      <td>0</td>\n      <td>0</td>\n      <td>0</td>\n      <td>0</td>\n      <td>1876</td>\n      <td>0.00</td>\n      <td>0.00</td>\n      <td>0.00</td>\n      <td>0</td>\n    </tr>\n  </tbody>\n</table>\n<p>69999 rows × 129 columns</p>\n</div>"
     },
     "execution_count": 43,
     "metadata": {},
     "output_type": "execute_result"
    }
   ],
   "source": [
    "df_train"
   ],
   "metadata": {
    "collapsed": false,
    "pycharm": {
     "name": "#%%\n"
    }
   }
  },
  {
   "cell_type": "code",
   "execution_count": 44,
   "outputs": [],
   "source": [
    "df_test = pd.read_csv('df_c_test.csv')"
   ],
   "metadata": {
    "collapsed": false,
    "pycharm": {
     "name": "#%%\n"
    }
   }
  },
  {
   "cell_type": "code",
   "execution_count": 45,
   "outputs": [
    {
     "data": {
      "text/plain": "<IPython.core.display.HTML object>",
      "text/html": ""
     },
     "metadata": {},
     "output_type": "display_data"
    }
   ],
   "source": [
    "clf1= setup(data = df_train, target = 'churn_probability' ,fix_imbalance = True,fold = 20)"
   ],
   "metadata": {
    "collapsed": false,
    "pycharm": {
     "name": "#%%\n"
    }
   }
  },
  {
   "cell_type": "code",
   "execution_count": 46,
   "outputs": [
    {
     "data": {
      "text/plain": "                                                                    \n                                                                    \nInitiated  . . . . . . . . . . . . . . . . . .              20:20:25\nStatus     . . . . . . . . . . . . . . . . . .  Loading Dependencies\nEstimator  . . . . . . . . . . . . . . . . . .     Compiling Library",
      "text/html": "<div>\n<style scoped>\n    .dataframe tbody tr th:only-of-type {\n        vertical-align: middle;\n    }\n\n    .dataframe tbody tr th {\n        vertical-align: top;\n    }\n\n    .dataframe thead th {\n        text-align: right;\n    }\n</style>\n<table border=\"1\" class=\"dataframe\">\n  <thead>\n    <tr style=\"text-align: right;\">\n      <th></th>\n      <th></th>\n      <th></th>\n    </tr>\n    <tr>\n      <th></th>\n      <th></th>\n      <th></th>\n    </tr>\n  </thead>\n  <tbody>\n    <tr>\n      <th>Initiated</th>\n      <td>. . . . . . . . . . . . . . . . . .</td>\n      <td>20:20:25</td>\n    </tr>\n    <tr>\n      <th>Status</th>\n      <td>. . . . . . . . . . . . . . . . . .</td>\n      <td>Loading Dependencies</td>\n    </tr>\n    <tr>\n      <th>Estimator</th>\n      <td>. . . . . . . . . . . . . . . . . .</td>\n      <td>Compiling Library</td>\n    </tr>\n  </tbody>\n</table>\n</div>"
     },
     "metadata": {},
     "output_type": "display_data"
    },
    {
     "data": {
      "text/plain": "<IPython.core.display.HTML object>",
      "text/html": ""
     },
     "metadata": {},
     "output_type": "display_data"
    },
    {
     "data": {
      "text/plain": "Processing:   0%|          | 0/69 [00:00<?, ?it/s]",
      "application/vnd.jupyter.widget-view+json": {
       "version_major": 2,
       "version_minor": 0,
       "model_id": "6b28193beb364c8aae8cd6bdf763b31a"
      }
     },
     "metadata": {},
     "output_type": "display_data"
    }
   ],
   "source": [
    "top5 = compare_models(n_select = 5,sort=\"Accuracy\",fold = 20)"
   ],
   "metadata": {
    "collapsed": false,
    "pycharm": {
     "name": "#%%\n"
    }
   }
  },
  {
   "cell_type": "code",
   "execution_count": 47,
   "outputs": [
    {
     "data": {
      "text/plain": "                                    Model  Accuracy     AUC  Recall   Prec.  \\\ncatboost              CatBoost Classifier    0.9418  0.9418  0.6604  0.7405   \nlightgbm  Light Gradient Boosting Machine    0.9385  0.9382  0.6786  0.7064   \net                 Extra Trees Classifier    0.9355  0.9268  0.6641  0.6916   \nrf               Random Forest Classifier    0.9342  0.9348  0.7033  0.6684   \ngbc          Gradient Boosting Classifier    0.9257  0.9273  0.7231  0.6155   \nada                  Ada Boost Classifier    0.9077  0.9134  0.7015  0.5362   \ndummy                    Dummy Classifier    0.8981  0.5000  0.0000  0.0000   \nlda          Linear Discriminant Analysis    0.8931  0.9005  0.7508  0.4845   \nridge                    Ridge Classifier    0.8885  0.0000  0.7834  0.4720   \ndt               Decision Tree Classifier    0.8881  0.7774  0.6384  0.4647   \nlr                    Logistic Regression    0.8819  0.9075  0.8009  0.4552   \nqda       Quadratic Discriminant Analysis    0.8743  0.8307  0.6612  0.4534   \nsvm                   SVM - Linear Kernel    0.8235  0.0000  0.6981  0.4685   \nknn                K Neighbors Classifier    0.8126  0.7834  0.6220  0.2988   \nnb                            Naive Bayes    0.4699  0.7086  0.8880  0.1486   \n\n              F1   Kappa     MCC  TT (Sec)  \ncatboost  0.6979  0.6658  0.6673   41.7505  \nlightgbm  0.6918  0.6577  0.6581    3.9535  \net        0.6772  0.6415  0.6418   12.7725  \nrf        0.6851  0.6484  0.6488   31.0825  \ngbc       0.6648  0.6233  0.6260  106.8440  \nada       0.6076  0.5564  0.5630   16.7335  \ndummy     0.0000  0.0000  0.0000    0.4125  \nlda       0.5888  0.5306  0.5476    2.0515  \nridge     0.5889  0.5290  0.5519    0.6270  \ndt        0.5377  0.4758  0.4837    6.1170  \nlr        0.5803  0.5176  0.5457    9.2915  \nqda       0.5319  0.4666  0.4797    2.0530  \nsvm       0.4987  0.4247  0.4670    4.9425  \nknn       0.4036  0.3084  0.3377    2.6690  \nnb        0.2545  0.0969  0.1925    0.5750  ",
      "text/html": "<div>\n<style scoped>\n    .dataframe tbody tr th:only-of-type {\n        vertical-align: middle;\n    }\n\n    .dataframe tbody tr th {\n        vertical-align: top;\n    }\n\n    .dataframe thead th {\n        text-align: right;\n    }\n</style>\n<table border=\"1\" class=\"dataframe\">\n  <thead>\n    <tr style=\"text-align: right;\">\n      <th></th>\n      <th>Model</th>\n      <th>Accuracy</th>\n      <th>AUC</th>\n      <th>Recall</th>\n      <th>Prec.</th>\n      <th>F1</th>\n      <th>Kappa</th>\n      <th>MCC</th>\n      <th>TT (Sec)</th>\n    </tr>\n  </thead>\n  <tbody>\n    <tr>\n      <th>catboost</th>\n      <td>CatBoost Classifier</td>\n      <td>0.9418</td>\n      <td>0.9418</td>\n      <td>0.6604</td>\n      <td>0.7405</td>\n      <td>0.6979</td>\n      <td>0.6658</td>\n      <td>0.6673</td>\n      <td>41.7505</td>\n    </tr>\n    <tr>\n      <th>lightgbm</th>\n      <td>Light Gradient Boosting Machine</td>\n      <td>0.9385</td>\n      <td>0.9382</td>\n      <td>0.6786</td>\n      <td>0.7064</td>\n      <td>0.6918</td>\n      <td>0.6577</td>\n      <td>0.6581</td>\n      <td>3.9535</td>\n    </tr>\n    <tr>\n      <th>et</th>\n      <td>Extra Trees Classifier</td>\n      <td>0.9355</td>\n      <td>0.9268</td>\n      <td>0.6641</td>\n      <td>0.6916</td>\n      <td>0.6772</td>\n      <td>0.6415</td>\n      <td>0.6418</td>\n      <td>12.7725</td>\n    </tr>\n    <tr>\n      <th>rf</th>\n      <td>Random Forest Classifier</td>\n      <td>0.9342</td>\n      <td>0.9348</td>\n      <td>0.7033</td>\n      <td>0.6684</td>\n      <td>0.6851</td>\n      <td>0.6484</td>\n      <td>0.6488</td>\n      <td>31.0825</td>\n    </tr>\n    <tr>\n      <th>gbc</th>\n      <td>Gradient Boosting Classifier</td>\n      <td>0.9257</td>\n      <td>0.9273</td>\n      <td>0.7231</td>\n      <td>0.6155</td>\n      <td>0.6648</td>\n      <td>0.6233</td>\n      <td>0.6260</td>\n      <td>106.8440</td>\n    </tr>\n    <tr>\n      <th>ada</th>\n      <td>Ada Boost Classifier</td>\n      <td>0.9077</td>\n      <td>0.9134</td>\n      <td>0.7015</td>\n      <td>0.5362</td>\n      <td>0.6076</td>\n      <td>0.5564</td>\n      <td>0.5630</td>\n      <td>16.7335</td>\n    </tr>\n    <tr>\n      <th>dummy</th>\n      <td>Dummy Classifier</td>\n      <td>0.8981</td>\n      <td>0.5000</td>\n      <td>0.0000</td>\n      <td>0.0000</td>\n      <td>0.0000</td>\n      <td>0.0000</td>\n      <td>0.0000</td>\n      <td>0.4125</td>\n    </tr>\n    <tr>\n      <th>lda</th>\n      <td>Linear Discriminant Analysis</td>\n      <td>0.8931</td>\n      <td>0.9005</td>\n      <td>0.7508</td>\n      <td>0.4845</td>\n      <td>0.5888</td>\n      <td>0.5306</td>\n      <td>0.5476</td>\n      <td>2.0515</td>\n    </tr>\n    <tr>\n      <th>ridge</th>\n      <td>Ridge Classifier</td>\n      <td>0.8885</td>\n      <td>0.0000</td>\n      <td>0.7834</td>\n      <td>0.4720</td>\n      <td>0.5889</td>\n      <td>0.5290</td>\n      <td>0.5519</td>\n      <td>0.6270</td>\n    </tr>\n    <tr>\n      <th>dt</th>\n      <td>Decision Tree Classifier</td>\n      <td>0.8881</td>\n      <td>0.7774</td>\n      <td>0.6384</td>\n      <td>0.4647</td>\n      <td>0.5377</td>\n      <td>0.4758</td>\n      <td>0.4837</td>\n      <td>6.1170</td>\n    </tr>\n    <tr>\n      <th>lr</th>\n      <td>Logistic Regression</td>\n      <td>0.8819</td>\n      <td>0.9075</td>\n      <td>0.8009</td>\n      <td>0.4552</td>\n      <td>0.5803</td>\n      <td>0.5176</td>\n      <td>0.5457</td>\n      <td>9.2915</td>\n    </tr>\n    <tr>\n      <th>qda</th>\n      <td>Quadratic Discriminant Analysis</td>\n      <td>0.8743</td>\n      <td>0.8307</td>\n      <td>0.6612</td>\n      <td>0.4534</td>\n      <td>0.5319</td>\n      <td>0.4666</td>\n      <td>0.4797</td>\n      <td>2.0530</td>\n    </tr>\n    <tr>\n      <th>svm</th>\n      <td>SVM - Linear Kernel</td>\n      <td>0.8235</td>\n      <td>0.0000</td>\n      <td>0.6981</td>\n      <td>0.4685</td>\n      <td>0.4987</td>\n      <td>0.4247</td>\n      <td>0.4670</td>\n      <td>4.9425</td>\n    </tr>\n    <tr>\n      <th>knn</th>\n      <td>K Neighbors Classifier</td>\n      <td>0.8126</td>\n      <td>0.7834</td>\n      <td>0.6220</td>\n      <td>0.2988</td>\n      <td>0.4036</td>\n      <td>0.3084</td>\n      <td>0.3377</td>\n      <td>2.6690</td>\n    </tr>\n    <tr>\n      <th>nb</th>\n      <td>Naive Bayes</td>\n      <td>0.4699</td>\n      <td>0.7086</td>\n      <td>0.8880</td>\n      <td>0.1486</td>\n      <td>0.2545</td>\n      <td>0.0969</td>\n      <td>0.1925</td>\n      <td>0.5750</td>\n    </tr>\n  </tbody>\n</table>\n</div>"
     },
     "execution_count": 47,
     "metadata": {},
     "output_type": "execute_result"
    }
   ],
   "source": [
    "pull(top5)"
   ],
   "metadata": {
    "collapsed": false,
    "pycharm": {
     "name": "#%%\n"
    }
   }
  },
  {
   "cell_type": "code",
   "execution_count": 48,
   "outputs": [],
   "source": [
    "top3 = top5[0]"
   ],
   "metadata": {
    "collapsed": false,
    "pycharm": {
     "name": "#%%\n"
    }
   }
  },
  {
   "cell_type": "code",
   "execution_count": 49,
   "outputs": [],
   "source": [
    "top1 = top5[0]"
   ],
   "metadata": {
    "collapsed": false,
    "pycharm": {
     "name": "#%%\n"
    }
   }
  },
  {
   "cell_type": "code",
   "execution_count": 53,
   "outputs": [
    {
     "data": {
      "text/plain": "                                                                    \n                                                                    \nInitiated  . . . . . . . . . . . . . . . . . .              22:25:49\nStatus     . . . . . . . . . . . . . . . . . .  Loading Dependencies\nEstimator  . . . . . . . . . . . . . . . . . .     Compiling Library",
      "text/html": "<div>\n<style scoped>\n    .dataframe tbody tr th:only-of-type {\n        vertical-align: middle;\n    }\n\n    .dataframe tbody tr th {\n        vertical-align: top;\n    }\n\n    .dataframe thead th {\n        text-align: right;\n    }\n</style>\n<table border=\"1\" class=\"dataframe\">\n  <thead>\n    <tr style=\"text-align: right;\">\n      <th></th>\n      <th></th>\n      <th></th>\n    </tr>\n    <tr>\n      <th></th>\n      <th></th>\n      <th></th>\n    </tr>\n  </thead>\n  <tbody>\n    <tr>\n      <th>Initiated</th>\n      <td>. . . . . . . . . . . . . . . . . .</td>\n      <td>22:25:49</td>\n    </tr>\n    <tr>\n      <th>Status</th>\n      <td>. . . . . . . . . . . . . . . . . .</td>\n      <td>Loading Dependencies</td>\n    </tr>\n    <tr>\n      <th>Estimator</th>\n      <td>. . . . . . . . . . . . . . . . . .</td>\n      <td>Compiling Library</td>\n    </tr>\n  </tbody>\n</table>\n</div>"
     },
     "metadata": {},
     "output_type": "display_data"
    },
    {
     "data": {
      "text/plain": "<IPython.core.display.HTML object>",
      "text/html": ""
     },
     "metadata": {},
     "output_type": "display_data"
    },
    {
     "data": {
      "text/plain": "Processing:   0%|          | 0/7 [00:00<?, ?it/s]",
      "application/vnd.jupyter.widget-view+json": {
       "version_major": 2,
       "version_minor": 0,
       "model_id": "2c897a483fd04aefa1da08c2d5018222"
      }
     },
     "metadata": {},
     "output_type": "display_data"
    },
    {
     "name": "stdout",
     "output_type": "stream",
     "text": [
      "Fitting 20 folds for each of 20 candidates, totalling 400 fits\n",
      "Original model was better than the tuned model, hence it will be returned. NOTE: The display metrics are for the tuned model (not the original one).\n"
     ]
    }
   ],
   "source": [
    "tuned_top3 = tune_model(top3 , choose_better = True, optimize=\"Accuracy\" , n_iter = 20)"
   ],
   "metadata": {
    "collapsed": false,
    "pycharm": {
     "name": "#%%\n"
    }
   }
  },
  {
   "cell_type": "code",
   "execution_count": 50,
   "outputs": [
    {
     "ename": "TypeError",
     "evalue": "'CatBoostClassifier' object is not iterable",
     "output_type": "error",
     "traceback": [
      "\u001B[1;31m---------------------------------------------------------------------------\u001B[0m",
      "\u001B[1;31mTypeError\u001B[0m                                 Traceback (most recent call last)",
      "Cell \u001B[1;32mIn[50], line 1\u001B[0m\n\u001B[1;32m----> 1\u001B[0m tuned_top3 \u001B[38;5;241m=\u001B[39m [tune_model(i , choose_better \u001B[38;5;241m=\u001B[39m \u001B[38;5;28;01mTrue\u001B[39;00m, optimize\u001B[38;5;241m=\u001B[39m\u001B[38;5;124m\"\u001B[39m\u001B[38;5;124mAccuracy\u001B[39m\u001B[38;5;124m\"\u001B[39m) \u001B[38;5;28;01mfor\u001B[39;00m i \u001B[38;5;129;01min\u001B[39;00m top3]\n",
      "\u001B[1;31mTypeError\u001B[0m: 'CatBoostClassifier' object is not iterable"
     ]
    }
   ],
   "source": [
    "#tuned_top3 = [tune_model(i , choose_better = True, optimize=\"Accuracy\") for i in top3]"
   ],
   "metadata": {
    "collapsed": false,
    "pycharm": {
     "name": "#%%\n"
    }
   }
  },
  {
   "cell_type": "code",
   "execution_count": 54,
   "outputs": [
    {
     "data": {
      "text/plain": "      Accuracy     AUC  Recall   Prec.      F1   Kappa     MCC\nFold                                                          \n0       0.9457  0.9520  0.6960  0.7532  0.7235  0.6934  0.6941\n1       0.9380  0.9449  0.6840  0.7008  0.6923  0.6578  0.6579\n2       0.9420  0.9451  0.6760  0.7348  0.7042  0.6721  0.6728\n3       0.9420  0.9357  0.6760  0.7348  0.7042  0.6721  0.6728\n4       0.9408  0.9399  0.6840  0.7215  0.7023  0.6694  0.6697\n5       0.9392  0.9303  0.6880  0.7078  0.6978  0.6640  0.6640\n6       0.9371  0.9324  0.6600  0.7051  0.6818  0.6470  0.6474\n7       0.9380  0.9430  0.6360  0.7227  0.6766  0.6424  0.6440\n8       0.9433  0.9487  0.6640  0.7511  0.7049  0.6736  0.6752\n9       0.9376  0.9498  0.6920  0.6948  0.6934  0.6586  0.6586\n10      0.9420  0.9393  0.7120  0.7177  0.7149  0.6826  0.6826\n11      0.9441  0.9508  0.7160  0.7306  0.7232  0.6921  0.6922\n12      0.9380  0.9444  0.6426  0.7175  0.6780  0.6438  0.6450\n13      0.9416  0.9376  0.6787  0.7284  0.7027  0.6704  0.6709\n14      0.9363  0.9375  0.6104  0.7204  0.6609  0.6260  0.6286\n15      0.9376  0.9382  0.6305  0.7202  0.6724  0.6380  0.6398\n16      0.9424  0.9430  0.6827  0.7328  0.7069  0.6750  0.6755\n17      0.9367  0.9266  0.6024  0.7282  0.6593  0.6248  0.6282\n18      0.9416  0.9452  0.6867  0.7246  0.7052  0.6728  0.6731\n19      0.9396  0.9325  0.6707  0.7167  0.6929  0.6595  0.6599\nMean    0.9402  0.9408  0.6694  0.7232  0.6949  0.6618  0.6626\nStd     0.0027  0.0069  0.0300  0.0144  0.0179  0.0191  0.0185",
      "text/html": "<div>\n<style scoped>\n    .dataframe tbody tr th:only-of-type {\n        vertical-align: middle;\n    }\n\n    .dataframe tbody tr th {\n        vertical-align: top;\n    }\n\n    .dataframe thead th {\n        text-align: right;\n    }\n</style>\n<table border=\"1\" class=\"dataframe\">\n  <thead>\n    <tr style=\"text-align: right;\">\n      <th></th>\n      <th>Accuracy</th>\n      <th>AUC</th>\n      <th>Recall</th>\n      <th>Prec.</th>\n      <th>F1</th>\n      <th>Kappa</th>\n      <th>MCC</th>\n    </tr>\n    <tr>\n      <th>Fold</th>\n      <th></th>\n      <th></th>\n      <th></th>\n      <th></th>\n      <th></th>\n      <th></th>\n      <th></th>\n    </tr>\n  </thead>\n  <tbody>\n    <tr>\n      <th>0</th>\n      <td>0.9457</td>\n      <td>0.9520</td>\n      <td>0.6960</td>\n      <td>0.7532</td>\n      <td>0.7235</td>\n      <td>0.6934</td>\n      <td>0.6941</td>\n    </tr>\n    <tr>\n      <th>1</th>\n      <td>0.9380</td>\n      <td>0.9449</td>\n      <td>0.6840</td>\n      <td>0.7008</td>\n      <td>0.6923</td>\n      <td>0.6578</td>\n      <td>0.6579</td>\n    </tr>\n    <tr>\n      <th>2</th>\n      <td>0.9420</td>\n      <td>0.9451</td>\n      <td>0.6760</td>\n      <td>0.7348</td>\n      <td>0.7042</td>\n      <td>0.6721</td>\n      <td>0.6728</td>\n    </tr>\n    <tr>\n      <th>3</th>\n      <td>0.9420</td>\n      <td>0.9357</td>\n      <td>0.6760</td>\n      <td>0.7348</td>\n      <td>0.7042</td>\n      <td>0.6721</td>\n      <td>0.6728</td>\n    </tr>\n    <tr>\n      <th>4</th>\n      <td>0.9408</td>\n      <td>0.9399</td>\n      <td>0.6840</td>\n      <td>0.7215</td>\n      <td>0.7023</td>\n      <td>0.6694</td>\n      <td>0.6697</td>\n    </tr>\n    <tr>\n      <th>5</th>\n      <td>0.9392</td>\n      <td>0.9303</td>\n      <td>0.6880</td>\n      <td>0.7078</td>\n      <td>0.6978</td>\n      <td>0.6640</td>\n      <td>0.6640</td>\n    </tr>\n    <tr>\n      <th>6</th>\n      <td>0.9371</td>\n      <td>0.9324</td>\n      <td>0.6600</td>\n      <td>0.7051</td>\n      <td>0.6818</td>\n      <td>0.6470</td>\n      <td>0.6474</td>\n    </tr>\n    <tr>\n      <th>7</th>\n      <td>0.9380</td>\n      <td>0.9430</td>\n      <td>0.6360</td>\n      <td>0.7227</td>\n      <td>0.6766</td>\n      <td>0.6424</td>\n      <td>0.6440</td>\n    </tr>\n    <tr>\n      <th>8</th>\n      <td>0.9433</td>\n      <td>0.9487</td>\n      <td>0.6640</td>\n      <td>0.7511</td>\n      <td>0.7049</td>\n      <td>0.6736</td>\n      <td>0.6752</td>\n    </tr>\n    <tr>\n      <th>9</th>\n      <td>0.9376</td>\n      <td>0.9498</td>\n      <td>0.6920</td>\n      <td>0.6948</td>\n      <td>0.6934</td>\n      <td>0.6586</td>\n      <td>0.6586</td>\n    </tr>\n    <tr>\n      <th>10</th>\n      <td>0.9420</td>\n      <td>0.9393</td>\n      <td>0.7120</td>\n      <td>0.7177</td>\n      <td>0.7149</td>\n      <td>0.6826</td>\n      <td>0.6826</td>\n    </tr>\n    <tr>\n      <th>11</th>\n      <td>0.9441</td>\n      <td>0.9508</td>\n      <td>0.7160</td>\n      <td>0.7306</td>\n      <td>0.7232</td>\n      <td>0.6921</td>\n      <td>0.6922</td>\n    </tr>\n    <tr>\n      <th>12</th>\n      <td>0.9380</td>\n      <td>0.9444</td>\n      <td>0.6426</td>\n      <td>0.7175</td>\n      <td>0.6780</td>\n      <td>0.6438</td>\n      <td>0.6450</td>\n    </tr>\n    <tr>\n      <th>13</th>\n      <td>0.9416</td>\n      <td>0.9376</td>\n      <td>0.6787</td>\n      <td>0.7284</td>\n      <td>0.7027</td>\n      <td>0.6704</td>\n      <td>0.6709</td>\n    </tr>\n    <tr>\n      <th>14</th>\n      <td>0.9363</td>\n      <td>0.9375</td>\n      <td>0.6104</td>\n      <td>0.7204</td>\n      <td>0.6609</td>\n      <td>0.6260</td>\n      <td>0.6286</td>\n    </tr>\n    <tr>\n      <th>15</th>\n      <td>0.9376</td>\n      <td>0.9382</td>\n      <td>0.6305</td>\n      <td>0.7202</td>\n      <td>0.6724</td>\n      <td>0.6380</td>\n      <td>0.6398</td>\n    </tr>\n    <tr>\n      <th>16</th>\n      <td>0.9424</td>\n      <td>0.9430</td>\n      <td>0.6827</td>\n      <td>0.7328</td>\n      <td>0.7069</td>\n      <td>0.6750</td>\n      <td>0.6755</td>\n    </tr>\n    <tr>\n      <th>17</th>\n      <td>0.9367</td>\n      <td>0.9266</td>\n      <td>0.6024</td>\n      <td>0.7282</td>\n      <td>0.6593</td>\n      <td>0.6248</td>\n      <td>0.6282</td>\n    </tr>\n    <tr>\n      <th>18</th>\n      <td>0.9416</td>\n      <td>0.9452</td>\n      <td>0.6867</td>\n      <td>0.7246</td>\n      <td>0.7052</td>\n      <td>0.6728</td>\n      <td>0.6731</td>\n    </tr>\n    <tr>\n      <th>19</th>\n      <td>0.9396</td>\n      <td>0.9325</td>\n      <td>0.6707</td>\n      <td>0.7167</td>\n      <td>0.6929</td>\n      <td>0.6595</td>\n      <td>0.6599</td>\n    </tr>\n    <tr>\n      <th>Mean</th>\n      <td>0.9402</td>\n      <td>0.9408</td>\n      <td>0.6694</td>\n      <td>0.7232</td>\n      <td>0.6949</td>\n      <td>0.6618</td>\n      <td>0.6626</td>\n    </tr>\n    <tr>\n      <th>Std</th>\n      <td>0.0027</td>\n      <td>0.0069</td>\n      <td>0.0300</td>\n      <td>0.0144</td>\n      <td>0.0179</td>\n      <td>0.0191</td>\n      <td>0.0185</td>\n    </tr>\n  </tbody>\n</table>\n</div>"
     },
     "execution_count": 54,
     "metadata": {},
     "output_type": "execute_result"
    }
   ],
   "source": [
    "pull(tuned_top3)"
   ],
   "metadata": {
    "collapsed": false,
    "pycharm": {
     "name": "#%%\n"
    }
   }
  },
  {
   "cell_type": "code",
   "execution_count": 55,
   "outputs": [
    {
     "data": {
      "text/plain": "                                                                    \n                                                                    \nInitiated  . . . . . . . . . . . . . . . . . .              01:03:45\nStatus     . . . . . . . . . . . . . . . . . .  Loading Dependencies\nEstimator  . . . . . . . . . . . . . . . . . .     Compiling Library",
      "text/html": "<div>\n<style scoped>\n    .dataframe tbody tr th:only-of-type {\n        vertical-align: middle;\n    }\n\n    .dataframe tbody tr th {\n        vertical-align: top;\n    }\n\n    .dataframe thead th {\n        text-align: right;\n    }\n</style>\n<table border=\"1\" class=\"dataframe\">\n  <thead>\n    <tr style=\"text-align: right;\">\n      <th></th>\n      <th></th>\n      <th></th>\n    </tr>\n    <tr>\n      <th></th>\n      <th></th>\n      <th></th>\n    </tr>\n  </thead>\n  <tbody>\n    <tr>\n      <th>Initiated</th>\n      <td>. . . . . . . . . . . . . . . . . .</td>\n      <td>01:03:45</td>\n    </tr>\n    <tr>\n      <th>Status</th>\n      <td>. . . . . . . . . . . . . . . . . .</td>\n      <td>Loading Dependencies</td>\n    </tr>\n    <tr>\n      <th>Estimator</th>\n      <td>. . . . . . . . . . . . . . . . . .</td>\n      <td>Compiling Library</td>\n    </tr>\n  </tbody>\n</table>\n</div>"
     },
     "metadata": {},
     "output_type": "display_data"
    },
    {
     "data": {
      "text/plain": "<IPython.core.display.HTML object>",
      "text/html": ""
     },
     "metadata": {},
     "output_type": "display_data"
    },
    {
     "data": {
      "text/plain": "Processing:   0%|          | 0/6 [00:00<?, ?it/s]",
      "application/vnd.jupyter.widget-view+json": {
       "version_major": 2,
       "version_minor": 0,
       "model_id": "b2fbe1efc5ce49e2a6e06c038b171451"
      }
     },
     "metadata": {},
     "output_type": "display_data"
    }
   ],
   "source": [
    "tuned_top_cal = calibrate_model(tuned_top3)"
   ],
   "metadata": {
    "collapsed": false,
    "pycharm": {
     "name": "#%%\n"
    }
   }
  },
  {
   "cell_type": "code",
   "execution_count": 61,
   "outputs": [
    {
     "data": {
      "text/plain": "<IPython.core.display.HTML object>",
      "text/html": ""
     },
     "metadata": {},
     "output_type": "display_data"
    },
    {
     "data": {
      "text/plain": "                 Model  Accuracy     AUC  Recall   Prec.      F1  Kappa  \\\n0  CatBoost Classifier    0.9401  0.9177  0.5542  0.7965  0.6536  0.622   \n\n      MCC  \n0  0.6343  ",
      "text/html": "<div>\n<style scoped>\n    .dataframe tbody tr th:only-of-type {\n        vertical-align: middle;\n    }\n\n    .dataframe tbody tr th {\n        vertical-align: top;\n    }\n\n    .dataframe thead th {\n        text-align: right;\n    }\n</style>\n<table border=\"1\" class=\"dataframe\">\n  <thead>\n    <tr style=\"text-align: right;\">\n      <th></th>\n      <th>Model</th>\n      <th>Accuracy</th>\n      <th>AUC</th>\n      <th>Recall</th>\n      <th>Prec.</th>\n      <th>F1</th>\n      <th>Kappa</th>\n      <th>MCC</th>\n    </tr>\n  </thead>\n  <tbody>\n    <tr>\n      <th>0</th>\n      <td>CatBoost Classifier</td>\n      <td>0.9401</td>\n      <td>0.9177</td>\n      <td>0.5542</td>\n      <td>0.7965</td>\n      <td>0.6536</td>\n      <td>0.622</td>\n      <td>0.6343</td>\n    </tr>\n  </tbody>\n</table>\n</div>"
     },
     "execution_count": 61,
     "metadata": {},
     "output_type": "execute_result"
    }
   ],
   "source": [
    "predict_model(tuned_top_cal)\n",
    "pull()"
   ],
   "metadata": {
    "collapsed": false,
    "pycharm": {
     "name": "#%%\n"
    }
   }
  },
  {
   "cell_type": "code",
   "execution_count": null,
   "outputs": [],
   "source": [
    "bagged_top3 = [ensemble_model(i, choose_better = True, optimize=\"Accuracy\") for i in tuned_top3]"
   ],
   "metadata": {
    "collapsed": false,
    "pycharm": {
     "name": "#%%\n"
    }
   }
  },
  {
   "cell_type": "code",
   "execution_count": null,
   "outputs": [],
   "source": [
    "pull(bagged_top3)"
   ],
   "metadata": {
    "collapsed": false,
    "pycharm": {
     "name": "#%%\n"
    }
   }
  },
  {
   "cell_type": "code",
   "execution_count": null,
   "outputs": [],
   "source": [
    "blender = blend_models(estimator_list = top3,choose_better = True, optimize=\"Accuracy\")"
   ],
   "metadata": {
    "collapsed": false,
    "pycharm": {
     "name": "#%%\n"
    }
   }
  },
  {
   "cell_type": "code",
   "execution_count": null,
   "outputs": [],
   "source": [
    "pull(blender)"
   ],
   "metadata": {
    "collapsed": false,
    "pycharm": {
     "name": "#%%\n"
    }
   }
  },
  {
   "cell_type": "code",
   "execution_count": null,
   "outputs": [],
   "source": [
    "stacker = stack_models(estimator_list = top3,choose_better = True, optimize=\"Accuracy\")"
   ],
   "metadata": {
    "collapsed": false,
    "pycharm": {
     "name": "#%%\n"
    }
   }
  },
  {
   "cell_type": "code",
   "execution_count": null,
   "outputs": [],
   "source": [
    "pull(stacker)"
   ],
   "metadata": {
    "collapsed": false,
    "pycharm": {
     "name": "#%%\n"
    }
   }
  },
  {
   "cell_type": "code",
   "execution_count": 56,
   "outputs": [],
   "source": [
    "best = automl(optimize = 'Accuracy')"
   ],
   "metadata": {
    "collapsed": false,
    "pycharm": {
     "name": "#%%\n"
    }
   }
  },
  {
   "cell_type": "code",
   "execution_count": 60,
   "outputs": [
    {
     "data": {
      "text/plain": "<IPython.core.display.HTML object>",
      "text/html": ""
     },
     "metadata": {},
     "output_type": "display_data"
    },
    {
     "data": {
      "text/plain": "                 Model  Accuracy     AUC  Recall   Prec.      F1   Kappa  \\\n0  CatBoost Classifier    0.9402  0.9401  0.6355  0.7411  0.6843  0.6515   \n\n      MCC  \n0  0.6538  ",
      "text/html": "<div>\n<style scoped>\n    .dataframe tbody tr th:only-of-type {\n        vertical-align: middle;\n    }\n\n    .dataframe tbody tr th {\n        vertical-align: top;\n    }\n\n    .dataframe thead th {\n        text-align: right;\n    }\n</style>\n<table border=\"1\" class=\"dataframe\">\n  <thead>\n    <tr style=\"text-align: right;\">\n      <th></th>\n      <th>Model</th>\n      <th>Accuracy</th>\n      <th>AUC</th>\n      <th>Recall</th>\n      <th>Prec.</th>\n      <th>F1</th>\n      <th>Kappa</th>\n      <th>MCC</th>\n    </tr>\n  </thead>\n  <tbody>\n    <tr>\n      <th>0</th>\n      <td>CatBoost Classifier</td>\n      <td>0.9402</td>\n      <td>0.9401</td>\n      <td>0.6355</td>\n      <td>0.7411</td>\n      <td>0.6843</td>\n      <td>0.6515</td>\n      <td>0.6538</td>\n    </tr>\n  </tbody>\n</table>\n</div>"
     },
     "execution_count": 60,
     "metadata": {},
     "output_type": "execute_result"
    }
   ],
   "source": [
    "predict_model(best)\n",
    "pull()"
   ],
   "metadata": {
    "collapsed": false,
    "pycharm": {
     "name": "#%%\n"
    }
   }
  },
  {
   "cell_type": "code",
   "execution_count": null,
   "outputs": [],
   "source": [
    "final_model = finalize_model(best)"
   ],
   "metadata": {
    "collapsed": false,
    "pycharm": {
     "name": "#%%\n"
    }
   }
  },
  {
   "cell_type": "code",
   "execution_count": null,
   "outputs": [],
   "source": [
    "predict_model(final_model)\n",
    "pull()"
   ],
   "metadata": {
    "collapsed": false,
    "pycharm": {
     "name": "#%%\n"
    }
   }
  },
  {
   "cell_type": "code",
   "execution_count": null,
   "outputs": [],
   "source": [
    "predict_unseen_f = predict_model(final_model, data=df_test)"
   ],
   "metadata": {
    "collapsed": false,
    "pycharm": {
     "name": "#%%\n"
    }
   }
  },
  {
   "cell_type": "code",
   "execution_count": null,
   "outputs": [],
   "source": [
    "overal_f = predict_unseen_f[['id','prediction_label']].rename(columns={'prediction_label':'churn_probability'})"
   ],
   "metadata": {
    "collapsed": false,
    "pycharm": {
     "name": "#%%\n"
    }
   }
  },
  {
   "cell_type": "code",
   "execution_count": null,
   "outputs": [],
   "source": [
    "overal_f.to_csv( 'overal_f.csv', index=False)"
   ],
   "metadata": {
    "collapsed": false,
    "pycharm": {
     "name": "#%%\n"
    }
   }
  },
  {
   "cell_type": "code",
   "execution_count": null,
   "outputs": [],
   "source": [
    "overal_f"
   ],
   "metadata": {
    "collapsed": false,
    "pycharm": {
     "name": "#%%\n"
    }
   }
  },
  {
   "cell_type": "code",
   "execution_count": 57,
   "outputs": [
    {
     "data": {
      "text/plain": "<IPython.core.display.HTML object>",
      "text/html": ""
     },
     "metadata": {},
     "output_type": "display_data"
    }
   ],
   "source": [
    "predict_unseen_b = predict_model(best, data=df_test)"
   ],
   "metadata": {
    "collapsed": false,
    "pycharm": {
     "name": "#%%\n"
    }
   }
  },
  {
   "cell_type": "code",
   "execution_count": 58,
   "outputs": [],
   "source": [
    "overal_b = predict_unseen_b[['id','prediction_label']].rename(columns={'prediction_label':'churn_probability'})"
   ],
   "metadata": {
    "collapsed": false,
    "pycharm": {
     "name": "#%%\n"
    }
   }
  },
  {
   "cell_type": "code",
   "execution_count": 59,
   "outputs": [],
   "source": [
    "overal_b.to_csv( 'overal_b.csv', index=False)\n"
   ],
   "metadata": {
    "collapsed": false,
    "pycharm": {
     "name": "#%%\n"
    }
   }
  },
  {
   "cell_type": "code",
   "execution_count": null,
   "outputs": [],
   "source": [
    "overal_b"
   ],
   "metadata": {
    "collapsed": false,
    "pycharm": {
     "name": "#%%\n"
    }
   }
  }
 ],
 "metadata": {
  "kernelspec": {
   "display_name": "Python 3",
   "language": "python",
   "name": "python3"
  },
  "language_info": {
   "codemirror_mode": {
    "name": "ipython",
    "version": 2
   },
   "file_extension": ".py",
   "mimetype": "text/x-python",
   "name": "python",
   "nbconvert_exporter": "python",
   "pygments_lexer": "ipython2",
   "version": "2.7.6"
  }
 },
 "nbformat": 4,
 "nbformat_minor": 0
}
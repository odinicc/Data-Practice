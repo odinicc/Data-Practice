{
 "cells": [
  {
   "cell_type": "code",
   "execution_count": 7,
   "metadata": {
    "collapsed": true,
    "pycharm": {
     "name": "#%%\n"
    }
   },
   "outputs": [],
   "source": [
    "import pandas as pd\n",
    "from datetime import datetime, timedelta\n",
    "import numpy as np"
   ]
  },
  {
   "cell_type": "code",
   "execution_count": 51,
   "outputs": [],
   "source": [
    "facebook_web_log = pd.read_excel('./Time Between Two Events Data.xlsx')"
   ],
   "metadata": {
    "collapsed": false,
    "pycharm": {
     "name": "#%%\n"
    }
   }
  },
  {
   "cell_type": "code",
   "execution_count": 104,
   "outputs": [],
   "source": [
    "df = facebook_web_log[(facebook_web_log['action'] == 'page_load')\n",
    "                      |(facebook_web_log['action'] == 'scroll_down')]\n",
    "df.sort_values(by = ['user_id','timestamp'], inplace = True)\n",
    "df['event_id'] = df.index\n",
    "df = df[['event_id','user_id','timestamp','action']]"
   ],
   "metadata": {
    "collapsed": false,
    "pycharm": {
     "name": "#%%\n"
    }
   }
  },
  {
   "cell_type": "code",
   "execution_count": 11,
   "outputs": [],
   "source": [],
   "metadata": {
    "collapsed": false,
    "pycharm": {
     "name": "#%%\n"
    }
   }
  },
  {
   "cell_type": "code",
   "execution_count": null,
   "outputs": [],
   "source": [],
   "metadata": {
    "collapsed": false,
    "pycharm": {
     "name": "#%%\n"
    }
   }
  },
  {
   "cell_type": "code",
   "execution_count": 67,
   "outputs": [],
   "source": [
    "last_load_event = -1\n",
    "last_user =  -1\n",
    "def l_load(row):\n",
    "    global last_load_event\n",
    "    global last_user\n",
    "    if (row['action'] == 'page_load'):\n",
    "        last_load_event = row['event_id']\n",
    "        row['prev_load_event'] = last_load_event\n",
    "    elif row['action'] == 'scroll_down':\n",
    "        row['prev_load_event'] = last_load_event\n",
    "    return row['prev_load_event']\n"
   ],
   "metadata": {
    "collapsed": false,
    "pycharm": {
     "name": "#%%\n"
    }
   }
  },
  {
   "cell_type": "code",
   "execution_count": 70,
   "outputs": [],
   "source": [
    "df['prev_load_event'] = -1"
   ],
   "metadata": {
    "collapsed": false,
    "pycharm": {
     "name": "#%%\n"
    }
   }
  },
  {
   "cell_type": "code",
   "execution_count": 72,
   "outputs": [
    {
     "data": {
      "text/plain": "    event_id  user_id           timestamp       action  prev_load_event\n0          0        0 2019-04-25 13:30:15    page_load               -1\n1          1        0 2019-04-25 13:30:18    page_load               -1\n2          2        0 2019-04-25 13:30:40  scroll_down               -1\n3          3        0 2019-04-25 13:31:10  scroll_down               -1\n4          4        0 2019-04-25 13:31:25  scroll_down               -1\n5          5        0 2019-04-28 13:30:40  scroll_down               -1\n6          6        0 2019-04-28 14:30:10    page_load               -1\n7          7        0 2019-04-28 14:30:15    page_load               -1\n8          8        1 2019-04-25 13:40:00    page_load               -1\n9          9        1 2019-04-25 13:40:10  scroll_down               -1\n10        10        1 2019-04-25 13:40:15  scroll_down               -1\n11        11        1 2019-04-25 13:40:20  scroll_down               -1\n12        12        1 2019-04-25 13:40:25  scroll_down               -1\n13        13        1 2019-04-25 13:40:30  scroll_down               -1\n14        14        1 2019-04-26 11:15:00    page_load               -1\n15        15        1 2019-04-26 11:15:10  scroll_down               -1\n16        16        1 2019-04-26 11:15:20  scroll_down               -1\n17        17        2 2019-04-25 13:41:21    page_load               -1\n18        18        2 2019-04-25 13:41:30  scroll_down               -1",
      "text/html": "<div>\n<style scoped>\n    .dataframe tbody tr th:only-of-type {\n        vertical-align: middle;\n    }\n\n    .dataframe tbody tr th {\n        vertical-align: top;\n    }\n\n    .dataframe thead th {\n        text-align: right;\n    }\n</style>\n<table border=\"1\" class=\"dataframe\">\n  <thead>\n    <tr style=\"text-align: right;\">\n      <th></th>\n      <th>event_id</th>\n      <th>user_id</th>\n      <th>timestamp</th>\n      <th>action</th>\n      <th>prev_load_event</th>\n    </tr>\n  </thead>\n  <tbody>\n    <tr>\n      <th>0</th>\n      <td>0</td>\n      <td>0</td>\n      <td>2019-04-25 13:30:15</td>\n      <td>page_load</td>\n      <td>-1</td>\n    </tr>\n    <tr>\n      <th>1</th>\n      <td>1</td>\n      <td>0</td>\n      <td>2019-04-25 13:30:18</td>\n      <td>page_load</td>\n      <td>-1</td>\n    </tr>\n    <tr>\n      <th>2</th>\n      <td>2</td>\n      <td>0</td>\n      <td>2019-04-25 13:30:40</td>\n      <td>scroll_down</td>\n      <td>-1</td>\n    </tr>\n    <tr>\n      <th>3</th>\n      <td>3</td>\n      <td>0</td>\n      <td>2019-04-25 13:31:10</td>\n      <td>scroll_down</td>\n      <td>-1</td>\n    </tr>\n    <tr>\n      <th>4</th>\n      <td>4</td>\n      <td>0</td>\n      <td>2019-04-25 13:31:25</td>\n      <td>scroll_down</td>\n      <td>-1</td>\n    </tr>\n    <tr>\n      <th>5</th>\n      <td>5</td>\n      <td>0</td>\n      <td>2019-04-28 13:30:40</td>\n      <td>scroll_down</td>\n      <td>-1</td>\n    </tr>\n    <tr>\n      <th>6</th>\n      <td>6</td>\n      <td>0</td>\n      <td>2019-04-28 14:30:10</td>\n      <td>page_load</td>\n      <td>-1</td>\n    </tr>\n    <tr>\n      <th>7</th>\n      <td>7</td>\n      <td>0</td>\n      <td>2019-04-28 14:30:15</td>\n      <td>page_load</td>\n      <td>-1</td>\n    </tr>\n    <tr>\n      <th>8</th>\n      <td>8</td>\n      <td>1</td>\n      <td>2019-04-25 13:40:00</td>\n      <td>page_load</td>\n      <td>-1</td>\n    </tr>\n    <tr>\n      <th>9</th>\n      <td>9</td>\n      <td>1</td>\n      <td>2019-04-25 13:40:10</td>\n      <td>scroll_down</td>\n      <td>-1</td>\n    </tr>\n    <tr>\n      <th>10</th>\n      <td>10</td>\n      <td>1</td>\n      <td>2019-04-25 13:40:15</td>\n      <td>scroll_down</td>\n      <td>-1</td>\n    </tr>\n    <tr>\n      <th>11</th>\n      <td>11</td>\n      <td>1</td>\n      <td>2019-04-25 13:40:20</td>\n      <td>scroll_down</td>\n      <td>-1</td>\n    </tr>\n    <tr>\n      <th>12</th>\n      <td>12</td>\n      <td>1</td>\n      <td>2019-04-25 13:40:25</td>\n      <td>scroll_down</td>\n      <td>-1</td>\n    </tr>\n    <tr>\n      <th>13</th>\n      <td>13</td>\n      <td>1</td>\n      <td>2019-04-25 13:40:30</td>\n      <td>scroll_down</td>\n      <td>-1</td>\n    </tr>\n    <tr>\n      <th>14</th>\n      <td>14</td>\n      <td>1</td>\n      <td>2019-04-26 11:15:00</td>\n      <td>page_load</td>\n      <td>-1</td>\n    </tr>\n    <tr>\n      <th>15</th>\n      <td>15</td>\n      <td>1</td>\n      <td>2019-04-26 11:15:10</td>\n      <td>scroll_down</td>\n      <td>-1</td>\n    </tr>\n    <tr>\n      <th>16</th>\n      <td>16</td>\n      <td>1</td>\n      <td>2019-04-26 11:15:20</td>\n      <td>scroll_down</td>\n      <td>-1</td>\n    </tr>\n    <tr>\n      <th>17</th>\n      <td>17</td>\n      <td>2</td>\n      <td>2019-04-25 13:41:21</td>\n      <td>page_load</td>\n      <td>-1</td>\n    </tr>\n    <tr>\n      <th>18</th>\n      <td>18</td>\n      <td>2</td>\n      <td>2019-04-25 13:41:30</td>\n      <td>scroll_down</td>\n      <td>-1</td>\n    </tr>\n  </tbody>\n</table>\n</div>"
     },
     "execution_count": 72,
     "metadata": {},
     "output_type": "execute_result"
    }
   ],
   "source": [
    "df"
   ],
   "metadata": {
    "collapsed": false,
    "pycharm": {
     "name": "#%%\n"
    }
   }
  },
  {
   "cell_type": "code",
   "execution_count": 105,
   "outputs": [],
   "source": [
    "df['prev_load_event'] = df.apply(l_load,axis=1)"
   ],
   "metadata": {
    "collapsed": false,
    "pycharm": {
     "name": "#%%\n"
    }
   }
  },
  {
   "cell_type": "markdown",
   "source": [],
   "metadata": {
    "collapsed": false,
    "pycharm": {
     "name": "#%% md\n"
    }
   }
  },
  {
   "cell_type": "code",
   "execution_count": 106,
   "outputs": [],
   "source": [
    "df_scroll = df[df['action'] == 'scroll_down'][['user_id','timestamp','prev_load_event']].rename(columns = {'timestamp':'ts_scroll'})"
   ],
   "metadata": {
    "collapsed": false,
    "pycharm": {
     "name": "#%%\n"
    }
   }
  },
  {
   "cell_type": "code",
   "execution_count": 114,
   "outputs": [],
   "source": [
    "df_pload  = df[df['action'] == 'page_load'][['event_id','timestamp']].rename(columns = {'timestamp':'ts_load'})"
   ],
   "metadata": {
    "collapsed": false,
    "pycharm": {
     "name": "#%%\n"
    }
   }
  },
  {
   "cell_type": "code",
   "execution_count": 108,
   "outputs": [
    {
     "data": {
      "text/plain": "    event_id  user_id           timestamp\n0          0        0 2019-04-25 13:30:15\n1          1        0 2019-04-25 13:30:18\n6          6        0 2019-04-28 14:30:10\n7          7        0 2019-04-28 14:30:15\n8          8        1 2019-04-25 13:40:00\n14        14        1 2019-04-26 11:15:00\n17        17        2 2019-04-25 13:41:21",
      "text/html": "<div>\n<style scoped>\n    .dataframe tbody tr th:only-of-type {\n        vertical-align: middle;\n    }\n\n    .dataframe tbody tr th {\n        vertical-align: top;\n    }\n\n    .dataframe thead th {\n        text-align: right;\n    }\n</style>\n<table border=\"1\" class=\"dataframe\">\n  <thead>\n    <tr style=\"text-align: right;\">\n      <th></th>\n      <th>event_id</th>\n      <th>user_id</th>\n      <th>timestamp</th>\n    </tr>\n  </thead>\n  <tbody>\n    <tr>\n      <th>0</th>\n      <td>0</td>\n      <td>0</td>\n      <td>2019-04-25 13:30:15</td>\n    </tr>\n    <tr>\n      <th>1</th>\n      <td>1</td>\n      <td>0</td>\n      <td>2019-04-25 13:30:18</td>\n    </tr>\n    <tr>\n      <th>6</th>\n      <td>6</td>\n      <td>0</td>\n      <td>2019-04-28 14:30:10</td>\n    </tr>\n    <tr>\n      <th>7</th>\n      <td>7</td>\n      <td>0</td>\n      <td>2019-04-28 14:30:15</td>\n    </tr>\n    <tr>\n      <th>8</th>\n      <td>8</td>\n      <td>1</td>\n      <td>2019-04-25 13:40:00</td>\n    </tr>\n    <tr>\n      <th>14</th>\n      <td>14</td>\n      <td>1</td>\n      <td>2019-04-26 11:15:00</td>\n    </tr>\n    <tr>\n      <th>17</th>\n      <td>17</td>\n      <td>2</td>\n      <td>2019-04-25 13:41:21</td>\n    </tr>\n  </tbody>\n</table>\n</div>"
     },
     "execution_count": 108,
     "metadata": {},
     "output_type": "execute_result"
    }
   ],
   "source": [
    "df_pload"
   ],
   "metadata": {
    "collapsed": false,
    "pycharm": {
     "name": "#%%\n"
    }
   }
  },
  {
   "cell_type": "markdown",
   "source": [],
   "metadata": {
    "collapsed": false,
    "pycharm": {
     "name": "#%% md\n"
    }
   }
  },
  {
   "cell_type": "code",
   "execution_count": 115,
   "outputs": [],
   "source": [
    "df2 = df_scroll.merge(df_pload, how = 'left', left_on = 'prev_load_event' , right_on = 'event_id').drop(columns = ['prev_load_event','event_id'])"
   ],
   "metadata": {
    "collapsed": false,
    "pycharm": {
     "name": "#%%\n"
    }
   }
  },
  {
   "cell_type": "code",
   "execution_count": 121,
   "outputs": [],
   "source": [
    "df2 = df2[['user_id','ts_load','ts_scroll']]"
   ],
   "metadata": {
    "collapsed": false,
    "pycharm": {
     "name": "#%%\n"
    }
   }
  },
  {
   "cell_type": "code",
   "execution_count": 131,
   "outputs": [],
   "source": [
    "df2_dd  = df2.drop_duplicates(subset=['user_id','ts_load'], keep='first').copy()"
   ],
   "metadata": {
    "collapsed": false,
    "pycharm": {
     "name": "#%%\n"
    }
   }
  },
  {
   "cell_type": "code",
   "execution_count": 129,
   "outputs": [
    {
     "data": {
      "text/plain": "    user_id             ts_load           ts_scroll\n0         0 2019-04-25 13:30:18 2019-04-25 13:30:40\n4         1 2019-04-25 13:40:00 2019-04-25 13:40:10\n9         1 2019-04-26 11:15:00 2019-04-26 11:15:10\n11        2 2019-04-25 13:41:21 2019-04-25 13:41:30",
      "text/html": "<div>\n<style scoped>\n    .dataframe tbody tr th:only-of-type {\n        vertical-align: middle;\n    }\n\n    .dataframe tbody tr th {\n        vertical-align: top;\n    }\n\n    .dataframe thead th {\n        text-align: right;\n    }\n</style>\n<table border=\"1\" class=\"dataframe\">\n  <thead>\n    <tr style=\"text-align: right;\">\n      <th></th>\n      <th>user_id</th>\n      <th>ts_load</th>\n      <th>ts_scroll</th>\n    </tr>\n  </thead>\n  <tbody>\n    <tr>\n      <th>0</th>\n      <td>0</td>\n      <td>2019-04-25 13:30:18</td>\n      <td>2019-04-25 13:30:40</td>\n    </tr>\n    <tr>\n      <th>4</th>\n      <td>1</td>\n      <td>2019-04-25 13:40:00</td>\n      <td>2019-04-25 13:40:10</td>\n    </tr>\n    <tr>\n      <th>9</th>\n      <td>1</td>\n      <td>2019-04-26 11:15:00</td>\n      <td>2019-04-26 11:15:10</td>\n    </tr>\n    <tr>\n      <th>11</th>\n      <td>2</td>\n      <td>2019-04-25 13:41:21</td>\n      <td>2019-04-25 13:41:30</td>\n    </tr>\n  </tbody>\n</table>\n</div>"
     },
     "execution_count": 129,
     "metadata": {},
     "output_type": "execute_result"
    }
   ],
   "source": [
    "df2_dd"
   ],
   "metadata": {
    "collapsed": false,
    "pycharm": {
     "name": "#%%\n"
    }
   }
  },
  {
   "cell_type": "code",
   "execution_count": 132,
   "outputs": [],
   "source": [
    "df2_dd['tb_in_seconds'] = (df2_dd['ts_scroll'] - df2_dd['ts_load']).dt.seconds"
   ],
   "metadata": {
    "collapsed": false,
    "pycharm": {
     "name": "#%%\n"
    }
   }
  },
  {
   "cell_type": "code",
   "execution_count": 133,
   "outputs": [
    {
     "data": {
      "text/plain": "    user_id             ts_load           ts_scroll  tb_in_seconds\n0         0 2019-04-25 13:30:18 2019-04-25 13:30:40             22\n4         1 2019-04-25 13:40:00 2019-04-25 13:40:10             10\n9         1 2019-04-26 11:15:00 2019-04-26 11:15:10             10\n11        2 2019-04-25 13:41:21 2019-04-25 13:41:30              9",
      "text/html": "<div>\n<style scoped>\n    .dataframe tbody tr th:only-of-type {\n        vertical-align: middle;\n    }\n\n    .dataframe tbody tr th {\n        vertical-align: top;\n    }\n\n    .dataframe thead th {\n        text-align: right;\n    }\n</style>\n<table border=\"1\" class=\"dataframe\">\n  <thead>\n    <tr style=\"text-align: right;\">\n      <th></th>\n      <th>user_id</th>\n      <th>ts_load</th>\n      <th>ts_scroll</th>\n      <th>tb_in_seconds</th>\n    </tr>\n  </thead>\n  <tbody>\n    <tr>\n      <th>0</th>\n      <td>0</td>\n      <td>2019-04-25 13:30:18</td>\n      <td>2019-04-25 13:30:40</td>\n      <td>22</td>\n    </tr>\n    <tr>\n      <th>4</th>\n      <td>1</td>\n      <td>2019-04-25 13:40:00</td>\n      <td>2019-04-25 13:40:10</td>\n      <td>10</td>\n    </tr>\n    <tr>\n      <th>9</th>\n      <td>1</td>\n      <td>2019-04-26 11:15:00</td>\n      <td>2019-04-26 11:15:10</td>\n      <td>10</td>\n    </tr>\n    <tr>\n      <th>11</th>\n      <td>2</td>\n      <td>2019-04-25 13:41:21</td>\n      <td>2019-04-25 13:41:30</td>\n      <td>9</td>\n    </tr>\n  </tbody>\n</table>\n</div>"
     },
     "execution_count": 133,
     "metadata": {},
     "output_type": "execute_result"
    }
   ],
   "source": [
    "df2_dd"
   ],
   "metadata": {
    "collapsed": false,
    "pycharm": {
     "name": "#%%\n"
    }
   }
  },
  {
   "cell_type": "code",
   "execution_count": 136,
   "outputs": [
    {
     "ename": "SyntaxError",
     "evalue": "expression cannot contain assignment, perhaps you meant \"==\"? (3341417136.py, line 1)",
     "output_type": "error",
     "traceback": [
      "\u001B[1;36m  Input \u001B[1;32mIn [136]\u001B[1;36m\u001B[0m\n\u001B[1;33m    df2_dd.groupby(['user_id']).agg('Sum' = ('tb_in_seconds':'sum')).reset_index()\u001B[0m\n\u001B[1;37m                                    ^\u001B[0m\n\u001B[1;31mSyntaxError\u001B[0m\u001B[1;31m:\u001B[0m expression cannot contain assignment, perhaps you meant \"==\"?\n"
     ]
    }
   ],
   "source": [
    "df2_dd.groupby(['user_id']).agg('Sum' = ('tb_in_seconds':'sum')).reset_index()"
   ],
   "metadata": {
    "collapsed": false,
    "pycharm": {
     "name": "#%%\n"
    }
   }
  },
  {
   "cell_type": "code",
   "execution_count": 137,
   "outputs": [
    {
     "data": {
      "text/plain": "    user_id             ts_load           ts_scroll  tb_in_seconds\n0         0 2019-04-25 13:30:18 2019-04-25 13:30:40             22\n4         1 2019-04-25 13:40:00 2019-04-25 13:40:10             10\n9         1 2019-04-26 11:15:00 2019-04-26 11:15:10             10\n11        2 2019-04-25 13:41:21 2019-04-25 13:41:30              9",
      "text/html": "<div>\n<style scoped>\n    .dataframe tbody tr th:only-of-type {\n        vertical-align: middle;\n    }\n\n    .dataframe tbody tr th {\n        vertical-align: top;\n    }\n\n    .dataframe thead th {\n        text-align: right;\n    }\n</style>\n<table border=\"1\" class=\"dataframe\">\n  <thead>\n    <tr style=\"text-align: right;\">\n      <th></th>\n      <th>user_id</th>\n      <th>ts_load</th>\n      <th>ts_scroll</th>\n      <th>tb_in_seconds</th>\n    </tr>\n  </thead>\n  <tbody>\n    <tr>\n      <th>0</th>\n      <td>0</td>\n      <td>2019-04-25 13:30:18</td>\n      <td>2019-04-25 13:30:40</td>\n      <td>22</td>\n    </tr>\n    <tr>\n      <th>4</th>\n      <td>1</td>\n      <td>2019-04-25 13:40:00</td>\n      <td>2019-04-25 13:40:10</td>\n      <td>10</td>\n    </tr>\n    <tr>\n      <th>9</th>\n      <td>1</td>\n      <td>2019-04-26 11:15:00</td>\n      <td>2019-04-26 11:15:10</td>\n      <td>10</td>\n    </tr>\n    <tr>\n      <th>11</th>\n      <td>2</td>\n      <td>2019-04-25 13:41:21</td>\n      <td>2019-04-25 13:41:30</td>\n      <td>9</td>\n    </tr>\n  </tbody>\n</table>\n</div>"
     },
     "execution_count": 137,
     "metadata": {},
     "output_type": "execute_result"
    }
   ],
   "source": [
    "df2_dd"
   ],
   "metadata": {
    "collapsed": false,
    "pycharm": {
     "name": "#%%\n"
    }
   }
  },
  {
   "cell_type": "code",
   "execution_count": 138,
   "outputs": [],
   "source": [
    "df2_dd['s1'] = -100\n",
    "df2_dd['s2'] = -100"
   ],
   "metadata": {
    "collapsed": false,
    "pycharm": {
     "name": "#%%\n"
    }
   }
  },
  {
   "cell_type": "code",
   "execution_count": 144,
   "outputs": [],
   "source": [
    "def myf(row):\n",
    "    row['s1'] = row['user_id'] + row['tb_in_seconds']\n",
    "    row['s2'] = row['user_id'] - row['tb_in_seconds']\n",
    "    return row[['s1','s2']]\n"
   ],
   "metadata": {
    "collapsed": false,
    "pycharm": {
     "name": "#%%\n"
    }
   }
  },
  {
   "cell_type": "code",
   "execution_count": 146,
   "outputs": [],
   "source": [
    "df2_dd[['s1','s2']]= df2_dd.apply(myf, axis =1 )"
   ],
   "metadata": {
    "collapsed": false,
    "pycharm": {
     "name": "#%%\n"
    }
   }
  },
  {
   "cell_type": "code",
   "execution_count": 147,
   "outputs": [
    {
     "data": {
      "text/plain": "    user_id             ts_load           ts_scroll  tb_in_seconds  s1  s2\n0         0 2019-04-25 13:30:18 2019-04-25 13:30:40             22  22 -22\n4         1 2019-04-25 13:40:00 2019-04-25 13:40:10             10  11  -9\n9         1 2019-04-26 11:15:00 2019-04-26 11:15:10             10  11  -9\n11        2 2019-04-25 13:41:21 2019-04-25 13:41:30              9  11  -7",
      "text/html": "<div>\n<style scoped>\n    .dataframe tbody tr th:only-of-type {\n        vertical-align: middle;\n    }\n\n    .dataframe tbody tr th {\n        vertical-align: top;\n    }\n\n    .dataframe thead th {\n        text-align: right;\n    }\n</style>\n<table border=\"1\" class=\"dataframe\">\n  <thead>\n    <tr style=\"text-align: right;\">\n      <th></th>\n      <th>user_id</th>\n      <th>ts_load</th>\n      <th>ts_scroll</th>\n      <th>tb_in_seconds</th>\n      <th>s1</th>\n      <th>s2</th>\n    </tr>\n  </thead>\n  <tbody>\n    <tr>\n      <th>0</th>\n      <td>0</td>\n      <td>2019-04-25 13:30:18</td>\n      <td>2019-04-25 13:30:40</td>\n      <td>22</td>\n      <td>22</td>\n      <td>-22</td>\n    </tr>\n    <tr>\n      <th>4</th>\n      <td>1</td>\n      <td>2019-04-25 13:40:00</td>\n      <td>2019-04-25 13:40:10</td>\n      <td>10</td>\n      <td>11</td>\n      <td>-9</td>\n    </tr>\n    <tr>\n      <th>9</th>\n      <td>1</td>\n      <td>2019-04-26 11:15:00</td>\n      <td>2019-04-26 11:15:10</td>\n      <td>10</td>\n      <td>11</td>\n      <td>-9</td>\n    </tr>\n    <tr>\n      <th>11</th>\n      <td>2</td>\n      <td>2019-04-25 13:41:21</td>\n      <td>2019-04-25 13:41:30</td>\n      <td>9</td>\n      <td>11</td>\n      <td>-7</td>\n    </tr>\n  </tbody>\n</table>\n</div>"
     },
     "execution_count": 147,
     "metadata": {},
     "output_type": "execute_result"
    }
   ],
   "source": [
    "df2_dd"
   ],
   "metadata": {
    "collapsed": false,
    "pycharm": {
     "name": "#%%\n"
    }
   }
  }
 ],
 "metadata": {
  "kernelspec": {
   "display_name": "Python 3",
   "language": "python",
   "name": "python3"
  },
  "language_info": {
   "codemirror_mode": {
    "name": "ipython",
    "version": 2
   },
   "file_extension": ".py",
   "mimetype": "text/x-python",
   "name": "python",
   "nbconvert_exporter": "python",
   "pygments_lexer": "ipython2",
   "version": "2.7.6"
  }
 },
 "nbformat": 4,
 "nbformat_minor": 0
}
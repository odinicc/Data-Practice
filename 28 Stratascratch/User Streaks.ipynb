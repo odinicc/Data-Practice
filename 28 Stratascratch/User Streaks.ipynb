{
 "cells": [
  {
   "cell_type": "code",
   "execution_count": 39,
   "metadata": {
    "collapsed": true,
    "pycharm": {
     "name": "#%%\n"
    }
   },
   "outputs": [],
   "source": [
    "import pandas as pd\n",
    "from datetime import datetime, timedelta"
   ]
  },
  {
   "cell_type": "code",
   "execution_count": 114,
   "outputs": [],
   "source": [
    "df = pd.read_excel('./User Streaks Data.xlsx')\n",
    "df['date'] = df['date_visited'].dt.date\n",
    "df.drop(columns=['date_visited'], inplace = True)\n",
    "df.sort_values(by = ['user_id','date'] , inplace= True)\n",
    "df.drop_duplicates(inplace=True)\n",
    "df['date_1'] = df['date'].shift(1)\n",
    "df['user_id_1'] = df['user_id'].shift(1)\n",
    "df['streak'] = 0"
   ],
   "metadata": {
    "collapsed": false,
    "pycharm": {
     "name": "#%%\n"
    }
   }
  },
  {
   "cell_type": "code",
   "execution_count": 44,
   "outputs": [
    {
     "data": {
      "text/plain": "   user_id        date      date_1 user_id_1  streak\n0     u001  2022-08-04         NaN       NaN       0\n17    u001  2022-08-05  2022-08-04      u001       0\n8     u001  2022-08-06  2022-08-05      u001       0\n9     u001  2022-08-07  2022-08-06      u001       0\n14    u001  2022-08-08  2022-08-07      u001       0\n15    u001  2022-08-09  2022-08-08      u001       0\n1     u002  2022-08-05  2022-08-09      u001       0\n12    u002  2022-08-06  2022-08-05      u002       0\n13    u002  2022-08-07  2022-08-06      u002       0\n10    u002  2022-08-08  2022-08-07      u002       0\n27    u002  2022-08-09  2022-08-08      u002       0\n28    u003  2022-08-04  2022-08-09      u002       0\n2     u003  2022-08-06  2022-08-04      u003       0\n32    u003  2022-08-08  2022-08-06      u003       0\n26    u004  2022-08-05  2022-08-08      u003       0\n3     u004  2022-08-07  2022-08-05      u004       0\n20    u004  2022-08-08  2022-08-07      u004       0\n21    u004  2022-08-09  2022-08-08      u004       0\n4     u005  2022-08-08  2022-08-09      u004       0\n5     u006  2022-08-09  2022-08-08      u005       0\n6     u007  2022-08-04  2022-08-09      u006       0\n7     u008  2022-08-05  2022-08-04      u007       0",
      "text/html": "<div>\n<style scoped>\n    .dataframe tbody tr th:only-of-type {\n        vertical-align: middle;\n    }\n\n    .dataframe tbody tr th {\n        vertical-align: top;\n    }\n\n    .dataframe thead th {\n        text-align: right;\n    }\n</style>\n<table border=\"1\" class=\"dataframe\">\n  <thead>\n    <tr style=\"text-align: right;\">\n      <th></th>\n      <th>user_id</th>\n      <th>date</th>\n      <th>date_1</th>\n      <th>user_id_1</th>\n      <th>streak</th>\n    </tr>\n  </thead>\n  <tbody>\n    <tr>\n      <th>0</th>\n      <td>u001</td>\n      <td>2022-08-04</td>\n      <td>NaN</td>\n      <td>NaN</td>\n      <td>0</td>\n    </tr>\n    <tr>\n      <th>17</th>\n      <td>u001</td>\n      <td>2022-08-05</td>\n      <td>2022-08-04</td>\n      <td>u001</td>\n      <td>0</td>\n    </tr>\n    <tr>\n      <th>8</th>\n      <td>u001</td>\n      <td>2022-08-06</td>\n      <td>2022-08-05</td>\n      <td>u001</td>\n      <td>0</td>\n    </tr>\n    <tr>\n      <th>9</th>\n      <td>u001</td>\n      <td>2022-08-07</td>\n      <td>2022-08-06</td>\n      <td>u001</td>\n      <td>0</td>\n    </tr>\n    <tr>\n      <th>14</th>\n      <td>u001</td>\n      <td>2022-08-08</td>\n      <td>2022-08-07</td>\n      <td>u001</td>\n      <td>0</td>\n    </tr>\n    <tr>\n      <th>15</th>\n      <td>u001</td>\n      <td>2022-08-09</td>\n      <td>2022-08-08</td>\n      <td>u001</td>\n      <td>0</td>\n    </tr>\n    <tr>\n      <th>1</th>\n      <td>u002</td>\n      <td>2022-08-05</td>\n      <td>2022-08-09</td>\n      <td>u001</td>\n      <td>0</td>\n    </tr>\n    <tr>\n      <th>12</th>\n      <td>u002</td>\n      <td>2022-08-06</td>\n      <td>2022-08-05</td>\n      <td>u002</td>\n      <td>0</td>\n    </tr>\n    <tr>\n      <th>13</th>\n      <td>u002</td>\n      <td>2022-08-07</td>\n      <td>2022-08-06</td>\n      <td>u002</td>\n      <td>0</td>\n    </tr>\n    <tr>\n      <th>10</th>\n      <td>u002</td>\n      <td>2022-08-08</td>\n      <td>2022-08-07</td>\n      <td>u002</td>\n      <td>0</td>\n    </tr>\n    <tr>\n      <th>27</th>\n      <td>u002</td>\n      <td>2022-08-09</td>\n      <td>2022-08-08</td>\n      <td>u002</td>\n      <td>0</td>\n    </tr>\n    <tr>\n      <th>28</th>\n      <td>u003</td>\n      <td>2022-08-04</td>\n      <td>2022-08-09</td>\n      <td>u002</td>\n      <td>0</td>\n    </tr>\n    <tr>\n      <th>2</th>\n      <td>u003</td>\n      <td>2022-08-06</td>\n      <td>2022-08-04</td>\n      <td>u003</td>\n      <td>0</td>\n    </tr>\n    <tr>\n      <th>32</th>\n      <td>u003</td>\n      <td>2022-08-08</td>\n      <td>2022-08-06</td>\n      <td>u003</td>\n      <td>0</td>\n    </tr>\n    <tr>\n      <th>26</th>\n      <td>u004</td>\n      <td>2022-08-05</td>\n      <td>2022-08-08</td>\n      <td>u003</td>\n      <td>0</td>\n    </tr>\n    <tr>\n      <th>3</th>\n      <td>u004</td>\n      <td>2022-08-07</td>\n      <td>2022-08-05</td>\n      <td>u004</td>\n      <td>0</td>\n    </tr>\n    <tr>\n      <th>20</th>\n      <td>u004</td>\n      <td>2022-08-08</td>\n      <td>2022-08-07</td>\n      <td>u004</td>\n      <td>0</td>\n    </tr>\n    <tr>\n      <th>21</th>\n      <td>u004</td>\n      <td>2022-08-09</td>\n      <td>2022-08-08</td>\n      <td>u004</td>\n      <td>0</td>\n    </tr>\n    <tr>\n      <th>4</th>\n      <td>u005</td>\n      <td>2022-08-08</td>\n      <td>2022-08-09</td>\n      <td>u004</td>\n      <td>0</td>\n    </tr>\n    <tr>\n      <th>5</th>\n      <td>u006</td>\n      <td>2022-08-09</td>\n      <td>2022-08-08</td>\n      <td>u005</td>\n      <td>0</td>\n    </tr>\n    <tr>\n      <th>6</th>\n      <td>u007</td>\n      <td>2022-08-04</td>\n      <td>2022-08-09</td>\n      <td>u006</td>\n      <td>0</td>\n    </tr>\n    <tr>\n      <th>7</th>\n      <td>u008</td>\n      <td>2022-08-05</td>\n      <td>2022-08-04</td>\n      <td>u007</td>\n      <td>0</td>\n    </tr>\n  </tbody>\n</table>\n</div>"
     },
     "execution_count": 44,
     "metadata": {},
     "output_type": "execute_result"
    }
   ],
   "source": [
    "df"
   ],
   "metadata": {
    "collapsed": false,
    "pycharm": {
     "name": "#%%\n"
    }
   }
  },
  {
   "cell_type": "code",
   "execution_count": 57,
   "outputs": [],
   "source": [],
   "metadata": {
    "collapsed": false,
    "pycharm": {
     "name": "#%%\n"
    }
   }
  },
  {
   "cell_type": "code",
   "execution_count": 60,
   "outputs": [
    {
     "data": {
      "text/plain": "   user_id        date      date_1 user_id_1  streak  streak_1\n0     u001  2022-08-04         NaN       NaN     1.0       NaN\n17    u001  2022-08-05  2022-08-04      u001     2.0       1.0\n8     u001  2022-08-06  2022-08-05      u001     0.0       0.0\n9     u001  2022-08-07  2022-08-06      u001     0.0       0.0\n14    u001  2022-08-08  2022-08-07      u001     0.0       0.0\n15    u001  2022-08-09  2022-08-08      u001     0.0       0.0\n1     u002  2022-08-05  2022-08-09      u001     1.0       0.0\n12    u002  2022-08-06  2022-08-05      u002     2.0       1.0\n13    u002  2022-08-07  2022-08-06      u002     0.0       0.0\n10    u002  2022-08-08  2022-08-07      u002     0.0       0.0\n27    u002  2022-08-09  2022-08-08      u002     0.0       0.0\n28    u003  2022-08-04  2022-08-09      u002     1.0       0.0\n2     u003  2022-08-06  2022-08-04      u003     0.0       1.0\n32    u003  2022-08-08  2022-08-06      u003     0.0       0.0\n26    u004  2022-08-05  2022-08-08      u003     1.0       0.0\n3     u004  2022-08-07  2022-08-05      u004     0.0       1.0\n20    u004  2022-08-08  2022-08-07      u004     0.0       0.0\n21    u004  2022-08-09  2022-08-08      u004     0.0       0.0\n4     u005  2022-08-08  2022-08-09      u004     1.0       0.0\n5     u006  2022-08-09  2022-08-08      u005     1.0       1.0\n6     u007  2022-08-04  2022-08-09      u006     1.0       1.0\n7     u008  2022-08-05  2022-08-04      u007     1.0       1.0",
      "text/html": "<div>\n<style scoped>\n    .dataframe tbody tr th:only-of-type {\n        vertical-align: middle;\n    }\n\n    .dataframe tbody tr th {\n        vertical-align: top;\n    }\n\n    .dataframe thead th {\n        text-align: right;\n    }\n</style>\n<table border=\"1\" class=\"dataframe\">\n  <thead>\n    <tr style=\"text-align: right;\">\n      <th></th>\n      <th>user_id</th>\n      <th>date</th>\n      <th>date_1</th>\n      <th>user_id_1</th>\n      <th>streak</th>\n      <th>streak_1</th>\n    </tr>\n  </thead>\n  <tbody>\n    <tr>\n      <th>0</th>\n      <td>u001</td>\n      <td>2022-08-04</td>\n      <td>NaN</td>\n      <td>NaN</td>\n      <td>1.0</td>\n      <td>NaN</td>\n    </tr>\n    <tr>\n      <th>17</th>\n      <td>u001</td>\n      <td>2022-08-05</td>\n      <td>2022-08-04</td>\n      <td>u001</td>\n      <td>2.0</td>\n      <td>1.0</td>\n    </tr>\n    <tr>\n      <th>8</th>\n      <td>u001</td>\n      <td>2022-08-06</td>\n      <td>2022-08-05</td>\n      <td>u001</td>\n      <td>0.0</td>\n      <td>0.0</td>\n    </tr>\n    <tr>\n      <th>9</th>\n      <td>u001</td>\n      <td>2022-08-07</td>\n      <td>2022-08-06</td>\n      <td>u001</td>\n      <td>0.0</td>\n      <td>0.0</td>\n    </tr>\n    <tr>\n      <th>14</th>\n      <td>u001</td>\n      <td>2022-08-08</td>\n      <td>2022-08-07</td>\n      <td>u001</td>\n      <td>0.0</td>\n      <td>0.0</td>\n    </tr>\n    <tr>\n      <th>15</th>\n      <td>u001</td>\n      <td>2022-08-09</td>\n      <td>2022-08-08</td>\n      <td>u001</td>\n      <td>0.0</td>\n      <td>0.0</td>\n    </tr>\n    <tr>\n      <th>1</th>\n      <td>u002</td>\n      <td>2022-08-05</td>\n      <td>2022-08-09</td>\n      <td>u001</td>\n      <td>1.0</td>\n      <td>0.0</td>\n    </tr>\n    <tr>\n      <th>12</th>\n      <td>u002</td>\n      <td>2022-08-06</td>\n      <td>2022-08-05</td>\n      <td>u002</td>\n      <td>2.0</td>\n      <td>1.0</td>\n    </tr>\n    <tr>\n      <th>13</th>\n      <td>u002</td>\n      <td>2022-08-07</td>\n      <td>2022-08-06</td>\n      <td>u002</td>\n      <td>0.0</td>\n      <td>0.0</td>\n    </tr>\n    <tr>\n      <th>10</th>\n      <td>u002</td>\n      <td>2022-08-08</td>\n      <td>2022-08-07</td>\n      <td>u002</td>\n      <td>0.0</td>\n      <td>0.0</td>\n    </tr>\n    <tr>\n      <th>27</th>\n      <td>u002</td>\n      <td>2022-08-09</td>\n      <td>2022-08-08</td>\n      <td>u002</td>\n      <td>0.0</td>\n      <td>0.0</td>\n    </tr>\n    <tr>\n      <th>28</th>\n      <td>u003</td>\n      <td>2022-08-04</td>\n      <td>2022-08-09</td>\n      <td>u002</td>\n      <td>1.0</td>\n      <td>0.0</td>\n    </tr>\n    <tr>\n      <th>2</th>\n      <td>u003</td>\n      <td>2022-08-06</td>\n      <td>2022-08-04</td>\n      <td>u003</td>\n      <td>0.0</td>\n      <td>1.0</td>\n    </tr>\n    <tr>\n      <th>32</th>\n      <td>u003</td>\n      <td>2022-08-08</td>\n      <td>2022-08-06</td>\n      <td>u003</td>\n      <td>0.0</td>\n      <td>0.0</td>\n    </tr>\n    <tr>\n      <th>26</th>\n      <td>u004</td>\n      <td>2022-08-05</td>\n      <td>2022-08-08</td>\n      <td>u003</td>\n      <td>1.0</td>\n      <td>0.0</td>\n    </tr>\n    <tr>\n      <th>3</th>\n      <td>u004</td>\n      <td>2022-08-07</td>\n      <td>2022-08-05</td>\n      <td>u004</td>\n      <td>0.0</td>\n      <td>1.0</td>\n    </tr>\n    <tr>\n      <th>20</th>\n      <td>u004</td>\n      <td>2022-08-08</td>\n      <td>2022-08-07</td>\n      <td>u004</td>\n      <td>0.0</td>\n      <td>0.0</td>\n    </tr>\n    <tr>\n      <th>21</th>\n      <td>u004</td>\n      <td>2022-08-09</td>\n      <td>2022-08-08</td>\n      <td>u004</td>\n      <td>0.0</td>\n      <td>0.0</td>\n    </tr>\n    <tr>\n      <th>4</th>\n      <td>u005</td>\n      <td>2022-08-08</td>\n      <td>2022-08-09</td>\n      <td>u004</td>\n      <td>1.0</td>\n      <td>0.0</td>\n    </tr>\n    <tr>\n      <th>5</th>\n      <td>u006</td>\n      <td>2022-08-09</td>\n      <td>2022-08-08</td>\n      <td>u005</td>\n      <td>1.0</td>\n      <td>1.0</td>\n    </tr>\n    <tr>\n      <th>6</th>\n      <td>u007</td>\n      <td>2022-08-04</td>\n      <td>2022-08-09</td>\n      <td>u006</td>\n      <td>1.0</td>\n      <td>1.0</td>\n    </tr>\n    <tr>\n      <th>7</th>\n      <td>u008</td>\n      <td>2022-08-05</td>\n      <td>2022-08-04</td>\n      <td>u007</td>\n      <td>1.0</td>\n      <td>1.0</td>\n    </tr>\n  </tbody>\n</table>\n</div>"
     },
     "execution_count": 60,
     "metadata": {},
     "output_type": "execute_result"
    }
   ],
   "source": [
    "df"
   ],
   "metadata": {
    "collapsed": false,
    "pycharm": {
     "name": "#%%\n"
    }
   }
  },
  {
   "cell_type": "code",
   "execution_count": 88,
   "outputs": [],
   "source": [
    "def is_streak(user_id,date,date_1,user_id_1,streak,streak_1):\n",
    "    if streak == 0:\n",
    "        if user_id != user_id_1:\n",
    "            return 1\n",
    "        elif streak_1 != 0:\n",
    "            if date == date_1 +  timedelta(days=1):\n",
    "                return streak_1 + 1\n",
    "            else:\n",
    "                return streak_1\n",
    "    return streak"
   ],
   "metadata": {
    "collapsed": false,
    "pycharm": {
     "name": "#%%\n"
    }
   }
  },
  {
   "cell_type": "code",
   "execution_count": 59,
   "outputs": [],
   "source": [
    "df['streak'] = df.apply(lambda x: is_streak(x['user_id'],x['date'],x['date_1'],x['user_id_1'],x['streak'],x['streak_1']), axis=1)"
   ],
   "metadata": {
    "collapsed": false,
    "pycharm": {
     "name": "#%%\n"
    }
   }
  },
  {
   "cell_type": "code",
   "execution_count": 115,
   "outputs": [],
   "source": [
    "while 0 in set(df['streak']):\n",
    "    df['streak_1'] = df['streak'].shift(1)\n",
    "    df['streak'] = df.apply(lambda x: is_streak(x['user_id'],x['date'],x['date_1'],x['user_id_1'],x['streak'],x['streak_1']), axis=1)\n"
   ],
   "metadata": {
    "collapsed": false,
    "pycharm": {
     "name": "#%%\n"
    }
   }
  },
  {
   "cell_type": "code",
   "execution_count": 116,
   "outputs": [
    {
     "data": {
      "text/plain": "   user_id        date      date_1 user_id_1  streak  streak_1\n0     u001  2022-08-04         NaN       NaN     1.0       NaN\n17    u001  2022-08-05  2022-08-04      u001     2.0       1.0\n8     u001  2022-08-06  2022-08-05      u001     3.0       2.0\n9     u001  2022-08-07  2022-08-06      u001     4.0       3.0\n14    u001  2022-08-08  2022-08-07      u001     5.0       4.0\n15    u001  2022-08-09  2022-08-08      u001     6.0       5.0\n1     u002  2022-08-05  2022-08-09      u001     1.0       0.0\n12    u002  2022-08-06  2022-08-05      u002     2.0       1.0\n13    u002  2022-08-07  2022-08-06      u002     3.0       2.0\n10    u002  2022-08-08  2022-08-07      u002     4.0       3.0\n27    u002  2022-08-09  2022-08-08      u002     5.0       4.0\n28    u003  2022-08-04  2022-08-09      u002     1.0       5.0\n2     u003  2022-08-06  2022-08-04      u003     1.0       1.0\n32    u003  2022-08-08  2022-08-06      u003     1.0       1.0\n26    u004  2022-08-05  2022-08-08      u003     1.0       1.0\n3     u004  2022-08-07  2022-08-05      u004     1.0       1.0\n20    u004  2022-08-08  2022-08-07      u004     2.0       1.0\n21    u004  2022-08-09  2022-08-08      u004     3.0       2.0\n4     u005  2022-08-08  2022-08-09      u004     1.0       3.0\n5     u006  2022-08-09  2022-08-08      u005     1.0       1.0\n6     u007  2022-08-04  2022-08-09      u006     1.0       1.0\n7     u008  2022-08-05  2022-08-04      u007     1.0       1.0",
      "text/html": "<div>\n<style scoped>\n    .dataframe tbody tr th:only-of-type {\n        vertical-align: middle;\n    }\n\n    .dataframe tbody tr th {\n        vertical-align: top;\n    }\n\n    .dataframe thead th {\n        text-align: right;\n    }\n</style>\n<table border=\"1\" class=\"dataframe\">\n  <thead>\n    <tr style=\"text-align: right;\">\n      <th></th>\n      <th>user_id</th>\n      <th>date</th>\n      <th>date_1</th>\n      <th>user_id_1</th>\n      <th>streak</th>\n      <th>streak_1</th>\n    </tr>\n  </thead>\n  <tbody>\n    <tr>\n      <th>0</th>\n      <td>u001</td>\n      <td>2022-08-04</td>\n      <td>NaN</td>\n      <td>NaN</td>\n      <td>1.0</td>\n      <td>NaN</td>\n    </tr>\n    <tr>\n      <th>17</th>\n      <td>u001</td>\n      <td>2022-08-05</td>\n      <td>2022-08-04</td>\n      <td>u001</td>\n      <td>2.0</td>\n      <td>1.0</td>\n    </tr>\n    <tr>\n      <th>8</th>\n      <td>u001</td>\n      <td>2022-08-06</td>\n      <td>2022-08-05</td>\n      <td>u001</td>\n      <td>3.0</td>\n      <td>2.0</td>\n    </tr>\n    <tr>\n      <th>9</th>\n      <td>u001</td>\n      <td>2022-08-07</td>\n      <td>2022-08-06</td>\n      <td>u001</td>\n      <td>4.0</td>\n      <td>3.0</td>\n    </tr>\n    <tr>\n      <th>14</th>\n      <td>u001</td>\n      <td>2022-08-08</td>\n      <td>2022-08-07</td>\n      <td>u001</td>\n      <td>5.0</td>\n      <td>4.0</td>\n    </tr>\n    <tr>\n      <th>15</th>\n      <td>u001</td>\n      <td>2022-08-09</td>\n      <td>2022-08-08</td>\n      <td>u001</td>\n      <td>6.0</td>\n      <td>5.0</td>\n    </tr>\n    <tr>\n      <th>1</th>\n      <td>u002</td>\n      <td>2022-08-05</td>\n      <td>2022-08-09</td>\n      <td>u001</td>\n      <td>1.0</td>\n      <td>0.0</td>\n    </tr>\n    <tr>\n      <th>12</th>\n      <td>u002</td>\n      <td>2022-08-06</td>\n      <td>2022-08-05</td>\n      <td>u002</td>\n      <td>2.0</td>\n      <td>1.0</td>\n    </tr>\n    <tr>\n      <th>13</th>\n      <td>u002</td>\n      <td>2022-08-07</td>\n      <td>2022-08-06</td>\n      <td>u002</td>\n      <td>3.0</td>\n      <td>2.0</td>\n    </tr>\n    <tr>\n      <th>10</th>\n      <td>u002</td>\n      <td>2022-08-08</td>\n      <td>2022-08-07</td>\n      <td>u002</td>\n      <td>4.0</td>\n      <td>3.0</td>\n    </tr>\n    <tr>\n      <th>27</th>\n      <td>u002</td>\n      <td>2022-08-09</td>\n      <td>2022-08-08</td>\n      <td>u002</td>\n      <td>5.0</td>\n      <td>4.0</td>\n    </tr>\n    <tr>\n      <th>28</th>\n      <td>u003</td>\n      <td>2022-08-04</td>\n      <td>2022-08-09</td>\n      <td>u002</td>\n      <td>1.0</td>\n      <td>5.0</td>\n    </tr>\n    <tr>\n      <th>2</th>\n      <td>u003</td>\n      <td>2022-08-06</td>\n      <td>2022-08-04</td>\n      <td>u003</td>\n      <td>1.0</td>\n      <td>1.0</td>\n    </tr>\n    <tr>\n      <th>32</th>\n      <td>u003</td>\n      <td>2022-08-08</td>\n      <td>2022-08-06</td>\n      <td>u003</td>\n      <td>1.0</td>\n      <td>1.0</td>\n    </tr>\n    <tr>\n      <th>26</th>\n      <td>u004</td>\n      <td>2022-08-05</td>\n      <td>2022-08-08</td>\n      <td>u003</td>\n      <td>1.0</td>\n      <td>1.0</td>\n    </tr>\n    <tr>\n      <th>3</th>\n      <td>u004</td>\n      <td>2022-08-07</td>\n      <td>2022-08-05</td>\n      <td>u004</td>\n      <td>1.0</td>\n      <td>1.0</td>\n    </tr>\n    <tr>\n      <th>20</th>\n      <td>u004</td>\n      <td>2022-08-08</td>\n      <td>2022-08-07</td>\n      <td>u004</td>\n      <td>2.0</td>\n      <td>1.0</td>\n    </tr>\n    <tr>\n      <th>21</th>\n      <td>u004</td>\n      <td>2022-08-09</td>\n      <td>2022-08-08</td>\n      <td>u004</td>\n      <td>3.0</td>\n      <td>2.0</td>\n    </tr>\n    <tr>\n      <th>4</th>\n      <td>u005</td>\n      <td>2022-08-08</td>\n      <td>2022-08-09</td>\n      <td>u004</td>\n      <td>1.0</td>\n      <td>3.0</td>\n    </tr>\n    <tr>\n      <th>5</th>\n      <td>u006</td>\n      <td>2022-08-09</td>\n      <td>2022-08-08</td>\n      <td>u005</td>\n      <td>1.0</td>\n      <td>1.0</td>\n    </tr>\n    <tr>\n      <th>6</th>\n      <td>u007</td>\n      <td>2022-08-04</td>\n      <td>2022-08-09</td>\n      <td>u006</td>\n      <td>1.0</td>\n      <td>1.0</td>\n    </tr>\n    <tr>\n      <th>7</th>\n      <td>u008</td>\n      <td>2022-08-05</td>\n      <td>2022-08-04</td>\n      <td>u007</td>\n      <td>1.0</td>\n      <td>1.0</td>\n    </tr>\n  </tbody>\n</table>\n</div>"
     },
     "execution_count": 116,
     "metadata": {},
     "output_type": "execute_result"
    }
   ],
   "source": [
    "df"
   ],
   "metadata": {
    "collapsed": false,
    "pycharm": {
     "name": "#%%\n"
    }
   }
  },
  {
   "cell_type": "code",
   "execution_count": null,
   "outputs": [],
   "source": [],
   "metadata": {
    "collapsed": false,
    "pycharm": {
     "name": "#%%\n"
    }
   }
  },
  {
   "cell_type": "code",
   "execution_count": null,
   "outputs": [],
   "source": [],
   "metadata": {
    "collapsed": false,
    "pycharm": {
     "name": "#%%\n"
    }
   }
  },
  {
   "cell_type": "code",
   "execution_count": 67,
   "outputs": [
    {
     "data": {
      "text/plain": "user_id       object\ndate          object\ndate_1        object\nuser_id_1     object\nstreak       float64\nstreak_1     float64\ndtype: object"
     },
     "execution_count": 67,
     "metadata": {},
     "output_type": "execute_result"
    }
   ],
   "source": [
    "df.dtypes"
   ],
   "metadata": {
    "collapsed": false,
    "pycharm": {
     "name": "#%%\n"
    }
   }
  }
 ],
 "metadata": {
  "kernelspec": {
   "display_name": "Python 3",
   "language": "python",
   "name": "python3"
  },
  "language_info": {
   "codemirror_mode": {
    "name": "ipython",
    "version": 2
   },
   "file_extension": ".py",
   "mimetype": "text/x-python",
   "name": "python",
   "nbconvert_exporter": "python",
   "pygments_lexer": "ipython2",
   "version": "2.7.6"
  }
 },
 "nbformat": 4,
 "nbformat_minor": 0
}
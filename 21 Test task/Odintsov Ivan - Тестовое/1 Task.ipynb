{
 "cells": [
  {
   "cell_type": "code",
   "execution_count": 3,
   "metadata": {},
   "outputs": [],
   "source": [
    "import pandas as pd\n",
    "import numpy as np\n"
   ]
  },
  {
   "cell_type": "markdown",
   "metadata": {},
   "source": [
    "План\n",
    "Загрузка данных \n",
    "1. Загружаем файлы с транзакциями и клиентами\n",
    "2. Пробуеем пофиксить косячные данные\n",
    "\n",
    "Поиск транзакций связанных с кофе \n",
    "1. Транзакции где явно есть отдельностоящие слова типа кофе, кофейня или название популярного места \n",
    "2. Транзакции где в символах встречается что-то похожее на \"коф\" + ручной отбор таких транзакций \n",
    "3. Транзакции где в символах встречается название популярного места где продают кофе, но в названии самого места нет кофе. Например: Starbucks \n",
    "4. Транзакции в которых встречаютстя кофейны слова типа latte, cappuccino \n",
    "5. Проверка MCC кодов кофейных транзакций на адекватность. Если в каких-то транзакциях найдем MCC далекий от кофейной тематики мы отдельно ее проверим такие транзакции\n",
    "6. Подготовка компактной таблицы с результатами\n",
    "\n",
    "Выделение клиентов\n",
    "1. Считаем сколько каждый клиент в последние месяцы делал кофейных транзакций \n",
    "2. Выбираем из таблицы клиентов, у кого в любых двух месяцах было 2 или больше кофейных покупок \n",
    "---------------------------------------------------------\n"
   ]
  },
  {
   "cell_type": "markdown",
   "metadata": {},
   "source": [
    "1. Загружаем файлы с транзакциями и клиентами"
   ]
  },
  {
   "cell_type": "code",
   "execution_count": 4,
   "metadata": {},
   "outputs": [],
   "source": [
    "df_clients = pd.read_csv(\"./clients_small.csv\", sep=';')\n",
    "df_transactions = pd.read_csv(\"./transactions_small.csv\", sep=';')\n"
   ]
  },
  {
   "cell_type": "code",
   "execution_count": 5,
   "metadata": {},
   "outputs": [
    {
     "data": {
      "text/html": [
       "<div>\n",
       "<style scoped>\n",
       "    .dataframe tbody tr th:only-of-type {\n",
       "        vertical-align: middle;\n",
       "    }\n",
       "\n",
       "    .dataframe tbody tr th {\n",
       "        vertical-align: top;\n",
       "    }\n",
       "\n",
       "    .dataframe thead th {\n",
       "        text-align: right;\n",
       "    }\n",
       "</style>\n",
       "<table border=\"1\" class=\"dataframe\">\n",
       "  <thead>\n",
       "    <tr style=\"text-align: right;\">\n",
       "      <th></th>\n",
       "      <th>customer_id</th>\n",
       "      <th>card_id</th>\n",
       "      <th>region_name</th>\n",
       "      <th>sex</th>\n",
       "      <th>birth_date</th>\n",
       "    </tr>\n",
       "  </thead>\n",
       "  <tbody>\n",
       "    <tr>\n",
       "      <th>0</th>\n",
       "      <td>02F4DB34C5696A668068CA3C1DE7C2D5</td>\n",
       "      <td>6600B4FDA036A6F00D464541EAD3B21F</td>\n",
       "      <td>Москва</td>\n",
       "      <td>F</td>\n",
       "      <td>1938-08-18</td>\n",
       "    </tr>\n",
       "    <tr>\n",
       "      <th>1</th>\n",
       "      <td>0308713D02D676920F2961E2A84B4516</td>\n",
       "      <td>1FB9344B8661069910D184EF19C448C7</td>\n",
       "      <td>Сахалинская область</td>\n",
       "      <td>F</td>\n",
       "      <td>1990-03-26</td>\n",
       "    </tr>\n",
       "    <tr>\n",
       "      <th>2</th>\n",
       "      <td>032672FDC2CF85213079F83E447AF75B</td>\n",
       "      <td>4C8AD60064AF412753EB54EAFCD8C59D</td>\n",
       "      <td>Самарская область</td>\n",
       "      <td>F</td>\n",
       "      <td>1989-01-13</td>\n",
       "    </tr>\n",
       "  </tbody>\n",
       "</table>\n",
       "</div>"
      ],
      "text/plain": [
       "                        customer_id                           card_id  \\\n",
       "0  02F4DB34C5696A668068CA3C1DE7C2D5  6600B4FDA036A6F00D464541EAD3B21F   \n",
       "1  0308713D02D676920F2961E2A84B4516  1FB9344B8661069910D184EF19C448C7   \n",
       "2  032672FDC2CF85213079F83E447AF75B  4C8AD60064AF412753EB54EAFCD8C59D   \n",
       "\n",
       "           region_name sex  birth_date  \n",
       "0               Москва   F  1938-08-18  \n",
       "1  Сахалинская область   F  1990-03-26  \n",
       "2    Самарская область   F  1989-01-13  "
      ]
     },
     "execution_count": 5,
     "metadata": {},
     "output_type": "execute_result"
    }
   ],
   "source": [
    "df_clients.head(3)"
   ]
  },
  {
   "cell_type": "code",
   "execution_count": 6,
   "metadata": {},
   "outputs": [
    {
     "data": {
      "text/html": [
       "<div>\n",
       "<style scoped>\n",
       "    .dataframe tbody tr th:only-of-type {\n",
       "        vertical-align: middle;\n",
       "    }\n",
       "\n",
       "    .dataframe tbody tr th {\n",
       "        vertical-align: top;\n",
       "    }\n",
       "\n",
       "    .dataframe thead th {\n",
       "        text-align: right;\n",
       "    }\n",
       "</style>\n",
       "<table border=\"1\" class=\"dataframe\">\n",
       "  <thead>\n",
       "    <tr style=\"text-align: right;\">\n",
       "      <th></th>\n",
       "      <th>customer_id</th>\n",
       "      <th>card_id</th>\n",
       "      <th>tr_datetime</th>\n",
       "      <th>tr_normalized_amount</th>\n",
       "      <th>currency</th>\n",
       "      <th>mcc</th>\n",
       "      <th>merchant_name</th>\n",
       "      <th>merchant_city</th>\n",
       "    </tr>\n",
       "  </thead>\n",
       "  <tbody>\n",
       "    <tr>\n",
       "      <th>0</th>\n",
       "      <td>634E7564849D27B3C452229E405629A6</td>\n",
       "      <td>52CD1B87531555F5611C663562FC686D</td>\n",
       "      <td>2019-09-07</td>\n",
       "      <td>10.00</td>\n",
       "      <td>810</td>\n",
       "      <td>5999</td>\n",
       "      <td>i-bank ┴шыaщэ         &gt;moscow         ru</td>\n",
       "      <td>moscow</td>\n",
       "    </tr>\n",
       "    <tr>\n",
       "      <th>1</th>\n",
       "      <td>B20A638E7EB926C63102144596F38C71</td>\n",
       "      <td>9D4F087597B65028953FBE8A8FBF48DE</td>\n",
       "      <td>2019-09-20</td>\n",
       "      <td>313.04</td>\n",
       "      <td>810</td>\n",
       "      <td>5411</td>\n",
       "      <td>dixy                      moskva      ru</td>\n",
       "      <td>moscow</td>\n",
       "    </tr>\n",
       "    <tr>\n",
       "      <th>2</th>\n",
       "      <td>125EBE0A38873D4888408F85877282EF</td>\n",
       "      <td>B8859E8DB421C73B785521A6252A36CB</td>\n",
       "      <td>2019-09-23</td>\n",
       "      <td>250.00</td>\n",
       "      <td>810</td>\n",
       "      <td>5999</td>\n",
       "      <td>i-bank teыe 2         &gt;moscow         ru</td>\n",
       "      <td>moscow</td>\n",
       "    </tr>\n",
       "  </tbody>\n",
       "</table>\n",
       "</div>"
      ],
      "text/plain": [
       "                        customer_id                           card_id  \\\n",
       "0  634E7564849D27B3C452229E405629A6  52CD1B87531555F5611C663562FC686D   \n",
       "1  B20A638E7EB926C63102144596F38C71  9D4F087597B65028953FBE8A8FBF48DE   \n",
       "2  125EBE0A38873D4888408F85877282EF  B8859E8DB421C73B785521A6252A36CB   \n",
       "\n",
       "  tr_datetime  tr_normalized_amount  currency   mcc  \\\n",
       "0  2019-09-07                 10.00       810  5999   \n",
       "1  2019-09-20                313.04       810  5411   \n",
       "2  2019-09-23                250.00       810  5999   \n",
       "\n",
       "                              merchant_name merchant_city  \n",
       "0  i-bank ┴шыaщэ         >moscow         ru        moscow  \n",
       "1  dixy                      moskva      ru        moscow  \n",
       "2  i-bank teыe 2         >moscow         ru        moscow  "
      ]
     },
     "execution_count": 6,
     "metadata": {},
     "output_type": "execute_result"
    }
   ],
   "source": [
    "df_transactions.head(3)"
   ]
  },
  {
   "cell_type": "markdown",
   "metadata": {},
   "source": [
    "2. Пробуеем пофиксить косячные данные"
   ]
  },
  {
   "cell_type": "markdown",
   "metadata": {},
   "source": [
    "Пробуем найти косячные данные типа \"i-bank ┴шыaщэ\" в столбце merchant_name \\\n",
    "Для этого создаем функцию, которая находит не Unicode символы "
   ]
  },
  {
   "cell_type": "code",
   "execution_count": 7,
   "metadata": {},
   "outputs": [],
   "source": [
    "def isEnglish(s):\n",
    "    try:\n",
    "        s.encode(encoding='utf-8').decode('ascii')\n",
    "    except UnicodeDecodeError:\n",
    "        return False\n",
    "    else:\n",
    "        return True"
   ]
  },
  {
   "cell_type": "code",
   "execution_count": 8,
   "metadata": {},
   "outputs": [],
   "source": [
    "df_transactions['merchant_name_eng_name'] = df_transactions.apply(lambda x: isEnglish(x['merchant_name']), axis=1)"
   ]
  },
  {
   "cell_type": "markdown",
   "metadata": {},
   "source": [
    "Исследуем merchant_name которые на распознались и оцениваем их количество в общей выборке"
   ]
  },
  {
   "cell_type": "code",
   "execution_count": 9,
   "metadata": {},
   "outputs": [
    {
     "data": {
      "text/plain": [
       "array(['i-bank ┴шыaщэ         >moscow         ru',\n",
       "       'i-bank teыe 2         >moscow         ru',\n",
       "       'i-bank meуa╘oэ        >moscow         ru',\n",
       "       'i-bank meгaфoн        >moscow         ru',\n",
       "       'i-bank билaйн         >moscow         ru',\n",
       "       'i-bank ╪ъoы№эoe яшєaэш>moscow         ru',\n",
       "       'i-bank teлe 2         >moscow         ru',\n",
       "       'i-bank m├tc           >moscow         ru',\n",
       "       'i-bank ─om.ru         >moscow         ru',\n",
       "       'i-bank teыe 2 (aтєoяыa>moscow         ru',\n",
       "       'i-bank yota. coєoтa\\xa0 c>moscow         ru',\n",
       "       'i-bank mгtc           >moscow         ru',\n",
       "       'i-bank mtc (aтєoяыaєeц>moscow         ru',\n",
       "       'i-bank moєшт          >moscow         ru',\n",
       "       'i-bank pocєeыeъoь ╧ыaє>moscow         ru',\n",
       "       'i-bank tpшъoыop tb    >moscow         ru',\n",
       "       'i-bank ┴шыaщэ (aтєoяыa>moscow         ru',\n",
       "       'i-bank aшcє           >moscow         ru',\n",
       "       'i-bank дom.ru         >moscow         ru',\n",
       "       'i-bank mtc фикcиpoвaнн>moscow         ru',\n",
       "       'i-bank taттeлeкoм (moб>moscow         ru',\n",
       "       'i-bank ▀эфeъc.─eэ№уш  >moscow         ru',\n",
       "       'i-bank taкcи maкcим   >moscow         ru',\n",
       "       'i-bank yota. coтoвaя c>moscow         ru',\n",
       "       'i-bank moтив          >moscow         ru',\n",
       "       'i-bank mah ceє№       >moscow         ru',\n",
       "       'i-bank meгaфoн (aвтoпл>moscow         ru',\n",
       "       'i-bank билaйн (aвтoплa>moscow         ru',\n",
       "       'i-bank ╧oяoыэeэшe ъapє>moscow         ru',\n",
       "       'i-bank aльянcteлeкoм  >moscow         ru',\n",
       "       'i-bank mtc ╘шъcшpoтaээ>moscow         ru',\n",
       "       'i-bank hoтoєeыeъoь    >moscow         ru',\n",
       "       'i-bank tpшъoыop tb - ╧>moscow         ru',\n",
       "       'i-bank pocтeлeкoм плaт>moscow         ru',\n",
       "       'i-bank пoпoлнeниe кapт>moscow         ru',\n",
       "       'i-bank koьяaэш\\xa0 ttk (t>moscow         ru',\n",
       "       'i-bank meуaїoэ (aтєoяы>moscow         ru',\n",
       "       'i-bank taєєeыeъoь (moс>moscow         ru',\n",
       "       'i-bank onlime(oэ╦aщь) >moscow         ru',\n",
       "       'i-bank cєpeыъa        >moscow         ru',\n",
       "       'i-bank яндeкc.дeньги  >moscow         ru',\n",
       "       'i-bank билaйн узбeкиcт>moscow         ru',\n",
       "       'i-bank maтpикc-тeлeкoм>moscow         ru',\n",
       "       'i-bank teыeъapєa      >moscow         ru',\n",
       "       'i-bank cтpeлкa        >moscow         ru',\n",
       "       'i-bank akaдo-eкaтepинб>moscow         ru',\n",
       "       'i-bank thc ¤эepуo hшцэ>moscow         ru',\n",
       "       'i-bank taъcш maъcшь   >moscow         ru',\n",
       "       'i-bank tшэ№ъoїї moсaщы>moscow         ru',\n",
       "       'i-bank mtc їшъcшpoтaээ>moscow         ru',\n",
       "       'i-bank netbynet peгиoн>moscow         ru',\n",
       "       'i-bank aиcт           >moscow         ru',\n",
       "       'i-bank игpa-cepвиc    >moscow         ru',\n",
       "       'i-bank koмпaния ttk (t>moscow         ru',\n",
       "       'i-bank meуaїoэ        >moscow         ru',\n",
       "       'i-bank интepcвязь     >moscow         ru',\n",
       "       'i-bank akaдo teлeкoм  >moscow         ru',\n",
       "       'i-bank onlime(oнлaйм) >moscow         ru',\n",
       "       'i-bank cyььa teыeъoь  >moscow         ru',\n",
       "       'i-bank netbynet peушoэ>moscow         ru',\n",
       "       'i-bank yota. ╚эєepэeє >moscow         ru',\n",
       "       'i-bank ▌ъoєeыeъoь     >moscow         ru',\n",
       "       'i-bank aтєoфop-╧ыaєэ√e>moscow         ru',\n",
       "       'i-bank meцpeушoэуaч   >moscow         ru',\n",
       "       'i-bank yota. интepнeт >moscow         ru',\n",
       "       'i-bank hoвoтeлeкoм    >moscow         ru',\n",
       "       'i-bank mocoсыe╚p╓ сeч >moscow         ru',\n",
       "       'i-bank ┴шыaщэ ╙чсeъшcє>moscow         ru',\n",
       "       'i-bank уфaнeт opeнбypг>moscow         ru',\n",
       "       'i-bank o┴╚t           >moscow         ru',\n",
       "       'i-bank tpикoлop tb    >moscow         ru',\n",
       "       'i-bank ┴шыaщэ (oao b√ь>moscow         ru',\n",
       "       'i-bank ╟eыeэa\\xa0 єoўъa ╦>moscow         ru',\n",
       "       'i-bank mtc (aвтoплaтeж>moscow         ru',\n",
       "       'i-bank aы№\\xa0эcteыeъoь  >moscow         ru',\n",
       "       'i-bank tинькoфф moбaйл>moscow         ru',\n",
       "       'i-bank taєєeыeъoь     >moscow         ru',\n",
       "       'i-bank ┴aыэeє         >moscow         ru',\n",
       "       'i-bank aвтoдop-плaтныe>moscow         ru',\n",
       "       '\"i-bank ├╙╧ b╓k╧ \"\"╞шыш∙>moscow         ru\"',\n",
       "       '\"i-bank гуп bцkп \"\"жилищ>moscow         ru\"',\n",
       "       'i-bank ao thc энepгo t>moscow         ru',\n",
       "       '400200 marchù kempttha    kemptthal   ch',\n",
       "       'i-bank peэeccaэc kpeфш>moscow         ru',\n",
       "       'i-bank ╚уpa-cepтшc    >moscow         ru',\n",
       "       'i-bank mopтoн teлeкoм >moscow         ru',\n",
       "       'i-bank жkу kpacнoдapcк>moscow         ru',\n",
       "       'i-bank hoвыe teлecиcтe>moscow         ru',\n",
       "       'i-bank mtlan пpивoлжcк>moscow         ru',\n",
       "       'i-bank зeлeнaя тoчкa л>moscow         ru',\n",
       "       'mh mìller handels gmbh    rotenburg   de',\n",
       "       'i-bank mapьинo net    >moscow         ru',\n",
       "       'i-bank bceвнeт        >moscow         ru',\n",
       "       'i-bank tpикoлop tb - п>moscow         ru',\n",
       "       'i-bank билaйн (oao bым>moscow         ru',\n",
       "       '\"i-bank ooo \"\"tk bocтoкт>moscow         ru\"',\n",
       "       'i-bank aka─o teыeъoь  >moscow         ru',\n",
       "       'i-bank шкoльнoe питaни moscow         ru',\n",
       "       'i-bank 2 koь          >moscow         ru',\n",
       "       'i-bank bceтэeє        >moscow         ru',\n",
       "       '\"i-bank ooo \"\"tk bocєoъє>moscow         ru\"',\n",
       "       'i-bank ooo ╘ыeъc      >moscow         ru',\n",
       "       'i-bank cшсшpcъшe ceєш >moscow         ru',\n",
       "       'i-bank цeзapь caтeллит>moscow         ru',\n",
       "       'i-bank шкoльнoe питaни>moscow         ru',\n",
       "       'i-bank teлeкapтa      >moscow         ru',\n",
       "       'i-bank oблтeлeкoм     >moscow         ru',\n",
       "       'i-bank ╞k╙ kpacэoфapcъ>moscow         ru',\n",
       "       '\"i-bank ooo \"\"╓eэєp-c┴k\"\">moscow         ru\"',\n",
       "       'i-bank плaнeтa        >moscow         ru',\n",
       "       'turm³l 304                wien        at',\n",
       "       'i-bank ao thc ¤эepуo t>moscow         ru',\n",
       "       'db automaten              m\\x9dnchen-flugde',\n",
       "       'i-bank ╙їaэeє cєepышєa>moscow         ru',\n",
       "       'i-bank thc энepгo hижн>moscow         ru',\n",
       "       'i-bank mtlan ╧pштoыцcъ>moscow         ru',\n",
       "       'i-bank 2 koм          >moscow         ru',\n",
       "       'i-bank блaгoтвopитeльн>moscow         ru',\n",
       "       'i-bank уфaнeт cтepлитa>moscow         ru',\n",
       "       'i-bank meжpeгиoнгaз   >moscow         ru',\n",
       "       'i-bank гopkoм         >moscow         ru',\n",
       "       'i-bank moco┴╦├a╟ (ї-ы >moscow         ru',\n",
       "       'i-bank cибиpcкиe ceти >moscow         ru',\n",
       "       'i-bank aka─o-eъaєepшэс>moscow         ru',\n",
       "       'i-bank maєpшъc-єeыeъoь>moscow         ru',\n",
       "       'i-bank hko moбильнaя к>moscow         ru',\n",
       "       'i-bank ╧ыaэeєa        >moscow         ru',\n",
       "       'i-bank cyммa teлeкoм  >moscow         ru',\n",
       "       'i-bank ├opkoь         >moscow         ru',\n",
       "       'i-bank ╙їaэeє opeэсypу>moscow         ru',\n",
       "       'i-bank cяyєэшъoтoe tb >moscow         ru',\n",
       "       'i-bank ╓eчap№ caєeыышє>moscow         ru',\n",
       "       'i-bank ooo флeкc      >moscow         ru',\n",
       "       'i-bank hoт√e teыecшcєe>moscow         ru',\n",
       "       'i-bank map№шэo net    >moscow         ru',\n",
       "       'i-bank teлe 2 (aвтoплa>moscow         ru',\n",
       "       'i-bank юиt cepвиc (caн>moscow         ru',\n",
       "       'i-bank xoyь kpeфшє    >moscow         ru',\n",
       "       'i-bank ▐╚t cepтшc (caэ>moscow         ru',\n",
       "       'i-bank taттeлeкoм     >moscow         ru',\n",
       "       'i-bank гopkoм юг-зaпaд>moscow         ru',\n",
       "       'i-bank экoтeлeкoм     >moscow         ru',\n",
       "       'i-bank meцpeушoэуaч po>moscow         ru',\n",
       "       'i-bank xoyм kpeдит    >moscow         ru',\n",
       "       '\"i-bank ooo \"\"цeнтp-cбk\"\">moscow         ru\"',\n",
       "       'prýma pùk pùksùg          budapest    hu',\n",
       "       'i-bank ├opkoь ▐у-╟aяaф>moscow         ru',\n",
       "       'i-bank mopєoэ teыeъoь >moscow         ru',\n",
       "       'i-bank betcity  яoяoыэ>moscow         ru',\n",
       "       'i-bank mah ceть       >moscow         ru',\n",
       "       'i-bank hko moсшы№эa\\xa0 ъ>moscow         ru',\n",
       "       'i-bank peнeccaнc kpeди>moscow         ru',\n",
       "       'i-bank ┴a°шэїopьcт\\xa0ч№ >moscow         ru',\n",
       "       'i-bank oсыєeыeъoь     >moscow         ru',\n",
       "       'i-bank mocoблгaз (ф-л >moscow         ru',\n",
       "       '\"i-bank tpшъoыop tb - \"\">moscow         ru\"',\n",
       "       'i-bank яндeкc.дeньги   moscow         ru',\n",
       "       'schottenhamel & lechne    m\\x9dnchen     de',\n",
       "       'i-bank ╟eыeэa\\xa0 єoўъa ╙>moscow         ru',\n",
       "       'i-bank ╚эєepcт\\xa0ч№     >moscow         ru',\n",
       "       'i-bank mocoблeиpц бeз  moscow         ru',\n",
       "       'i-bank cпyтникoвoe tb >moscow         ru',\n",
       "       'i-bank ┴ыaуoєтopшєeы№э>moscow         ru',\n",
       "       'i-bank cшєшышэъ       >moscow         ru',\n",
       "       'i-bank бaлнeт         >moscow         ru',\n",
       "       'i-bank пoдpяд интepнeт>moscow         ru',\n",
       "       'babic obst gem\\x9dse         wien        at',\n",
       "       'i-bank зeлeнaя тoчкa у>moscow         ru',\n",
       "       'i-bank cитилинк       >moscow         ru'], dtype=object)"
      ]
     },
     "execution_count": 9,
     "metadata": {},
     "output_type": "execute_result"
    }
   ],
   "source": [
    "df_transactions[df_transactions['merchant_name_eng_name'] == False ]['merchant_name'].unique()"
   ]
  },
  {
   "cell_type": "code",
   "execution_count": 10,
   "metadata": {},
   "outputs": [
    {
     "name": "stdout",
     "output_type": "stream",
     "text": [
      "good_merchants :  623956 | bad_merchants :  15670 | bad_merchants_percent :  2.5113950342652367\n"
     ]
    }
   ],
   "source": [
    "bad_merchants =  df_transactions[df_transactions['merchant_name_eng_name'] == False ]['merchant_name'].shape[0]\n",
    "good_merchants =  df_transactions['merchant_name'].shape[0]\n",
    "print('good_merchants : ',good_merchants,'| bad_merchants : ',bad_merchants,'| bad_merchants_percent : ', 100*bad_merchants/good_merchants)"
   ]
  },
  {
   "cell_type": "markdown",
   "metadata": {},
   "source": [
    "Процент таких мерчантов не такой большой \\\n",
    "По большей части из них можно понять что за платеж 'i-bank taкcи maкcим'\\\n",
    "По меньшей части не совсем понятно 'i-bank ▀эфeъc.─eэ№уш'\\\n",
    "Пробовал меньшую часть расшифровывать через сервисы подбора кодировки, но ничего не вышло. \\\n",
    "Пробовал отдельно расшифровать через разные кодировки но ничего не вышло \\\n",
    "По большей части глазами пробовал найти кофейную тематику, но ничего не нашел \\\n",
    "По меньшей части просто забил.  Даже если в этой части мерчантов были операции с кофе в аналитике это не будет отражено.\\\n",
    "Но судя по тому что это операции в интернет банке, вряд ли там есть покупки кофе. \n"
   ]
  },
  {
   "cell_type": "code",
   "execution_count": 11,
   "metadata": {},
   "outputs": [
    {
     "data": {
      "text/plain": [
       "array(['i-bank ┴шыaщэ         >moscow         ru',\n",
       "       'i-bank teыe 2         >moscow         ru',\n",
       "       'i-bank meуa╘oэ        >moscow         ru',\n",
       "       'i-bank meгaфoн        >moscow         ru',\n",
       "       'i-bank билaйн         >moscow         ru',\n",
       "       'i-bank ╪ъoы№эoe яшєaэш>moscow         ru',\n",
       "       'i-bank teлe 2         >moscow         ru',\n",
       "       'i-bank m├tc           >moscow         ru',\n",
       "       'i-bank ─om.ru         >moscow         ru',\n",
       "       'i-bank teыe 2 (aтєoяыa>moscow         ru',\n",
       "       'i-bank yota. coєoтa\\xa0 c>moscow         ru',\n",
       "       'i-bank mгtc           >moscow         ru',\n",
       "       'i-bank mtc (aтєoяыaєeц>moscow         ru',\n",
       "       'i-bank moєшт          >moscow         ru',\n",
       "       'i-bank pocєeыeъoь ╧ыaє>moscow         ru',\n",
       "       'i-bank tpшъoыop tb    >moscow         ru',\n",
       "       'i-bank ┴шыaщэ (aтєoяыa>moscow         ru',\n",
       "       'i-bank aшcє           >moscow         ru',\n",
       "       'i-bank дom.ru         >moscow         ru',\n",
       "       'i-bank mtc фикcиpoвaнн>moscow         ru',\n",
       "       'i-bank taттeлeкoм (moб>moscow         ru',\n",
       "       'i-bank ▀эфeъc.─eэ№уш  >moscow         ru',\n",
       "       'i-bank taкcи maкcим   >moscow         ru',\n",
       "       'i-bank yota. coтoвaя c>moscow         ru',\n",
       "       'i-bank moтив          >moscow         ru',\n",
       "       'i-bank mah ceє№       >moscow         ru',\n",
       "       'i-bank meгaфoн (aвтoпл>moscow         ru',\n",
       "       'i-bank билaйн (aвтoплa>moscow         ru',\n",
       "       'i-bank ╧oяoыэeэшe ъapє>moscow         ru',\n",
       "       'i-bank aльянcteлeкoм  >moscow         ru',\n",
       "       'i-bank mtc ╘шъcшpoтaээ>moscow         ru',\n",
       "       'i-bank hoтoєeыeъoь    >moscow         ru',\n",
       "       'i-bank tpшъoыop tb - ╧>moscow         ru',\n",
       "       'i-bank pocтeлeкoм плaт>moscow         ru',\n",
       "       'i-bank пoпoлнeниe кapт>moscow         ru',\n",
       "       'i-bank koьяaэш\\xa0 ttk (t>moscow         ru',\n",
       "       'i-bank meуaїoэ (aтєoяы>moscow         ru',\n",
       "       'i-bank taєєeыeъoь (moс>moscow         ru',\n",
       "       'i-bank onlime(oэ╦aщь) >moscow         ru',\n",
       "       'i-bank cєpeыъa        >moscow         ru',\n",
       "       'i-bank яндeкc.дeньги  >moscow         ru',\n",
       "       'i-bank билaйн узбeкиcт>moscow         ru',\n",
       "       'i-bank maтpикc-тeлeкoм>moscow         ru',\n",
       "       'i-bank teыeъapєa      >moscow         ru',\n",
       "       'i-bank cтpeлкa        >moscow         ru',\n",
       "       'i-bank akaдo-eкaтepинб>moscow         ru',\n",
       "       'i-bank thc ¤эepуo hшцэ>moscow         ru',\n",
       "       'i-bank taъcш maъcшь   >moscow         ru',\n",
       "       'i-bank tшэ№ъoїї moсaщы>moscow         ru',\n",
       "       'i-bank mtc їшъcшpoтaээ>moscow         ru',\n",
       "       'i-bank netbynet peгиoн>moscow         ru',\n",
       "       'i-bank aиcт           >moscow         ru',\n",
       "       'i-bank игpa-cepвиc    >moscow         ru',\n",
       "       'i-bank koмпaния ttk (t>moscow         ru',\n",
       "       'i-bank meуaїoэ        >moscow         ru',\n",
       "       'i-bank интepcвязь     >moscow         ru',\n",
       "       'i-bank akaдo teлeкoм  >moscow         ru',\n",
       "       'i-bank onlime(oнлaйм) >moscow         ru',\n",
       "       'i-bank cyььa teыeъoь  >moscow         ru',\n",
       "       'i-bank netbynet peушoэ>moscow         ru',\n",
       "       'i-bank yota. ╚эєepэeє >moscow         ru',\n",
       "       'i-bank ▌ъoєeыeъoь     >moscow         ru',\n",
       "       'i-bank aтєoфop-╧ыaєэ√e>moscow         ru',\n",
       "       'i-bank meцpeушoэуaч   >moscow         ru',\n",
       "       'i-bank yota. интepнeт >moscow         ru',\n",
       "       'i-bank hoвoтeлeкoм    >moscow         ru',\n",
       "       'i-bank mocoсыe╚p╓ сeч >moscow         ru',\n",
       "       'i-bank ┴шыaщэ ╙чсeъшcє>moscow         ru',\n",
       "       'i-bank уфaнeт opeнбypг>moscow         ru',\n",
       "       'i-bank o┴╚t           >moscow         ru',\n",
       "       'i-bank tpикoлop tb    >moscow         ru',\n",
       "       'i-bank ┴шыaщэ (oao b√ь>moscow         ru',\n",
       "       'i-bank ╟eыeэa\\xa0 єoўъa ╦>moscow         ru',\n",
       "       'i-bank mtc (aвтoплaтeж>moscow         ru',\n",
       "       'i-bank aы№\\xa0эcteыeъoь  >moscow         ru',\n",
       "       'i-bank tинькoфф moбaйл>moscow         ru',\n",
       "       'i-bank taєєeыeъoь     >moscow         ru',\n",
       "       'i-bank ┴aыэeє         >moscow         ru',\n",
       "       'i-bank aвтoдop-плaтныe>moscow         ru',\n",
       "       '\"i-bank ├╙╧ b╓k╧ \"\"╞шыш∙>moscow         ru\"',\n",
       "       '\"i-bank гуп bцkп \"\"жилищ>moscow         ru\"',\n",
       "       'i-bank ao thc энepгo t>moscow         ru',\n",
       "       '400200 marchù kempttha    kemptthal   ch',\n",
       "       'i-bank peэeccaэc kpeфш>moscow         ru',\n",
       "       'i-bank ╚уpa-cepтшc    >moscow         ru',\n",
       "       'i-bank mopтoн teлeкoм >moscow         ru',\n",
       "       'i-bank жkу kpacнoдapcк>moscow         ru',\n",
       "       'i-bank hoвыe teлecиcтe>moscow         ru',\n",
       "       'i-bank mtlan пpивoлжcк>moscow         ru',\n",
       "       'i-bank зeлeнaя тoчкa л>moscow         ru',\n",
       "       'mh mìller handels gmbh    rotenburg   de',\n",
       "       'i-bank mapьинo net    >moscow         ru',\n",
       "       'i-bank bceвнeт        >moscow         ru',\n",
       "       'i-bank tpикoлop tb - п>moscow         ru',\n",
       "       'i-bank билaйн (oao bым>moscow         ru',\n",
       "       '\"i-bank ooo \"\"tk bocтoкт>moscow         ru\"',\n",
       "       'i-bank aka─o teыeъoь  >moscow         ru',\n",
       "       'i-bank шкoльнoe питaни moscow         ru',\n",
       "       'i-bank 2 koь          >moscow         ru',\n",
       "       'i-bank bceтэeє        >moscow         ru',\n",
       "       '\"i-bank ooo \"\"tk bocєoъє>moscow         ru\"',\n",
       "       'i-bank ooo ╘ыeъc      >moscow         ru',\n",
       "       'i-bank cшсшpcъшe ceєш >moscow         ru',\n",
       "       'i-bank цeзapь caтeллит>moscow         ru',\n",
       "       'i-bank шкoльнoe питaни>moscow         ru',\n",
       "       'i-bank teлeкapтa      >moscow         ru',\n",
       "       'i-bank oблтeлeкoм     >moscow         ru',\n",
       "       'i-bank ╞k╙ kpacэoфapcъ>moscow         ru',\n",
       "       '\"i-bank ooo \"\"╓eэєp-c┴k\"\">moscow         ru\"',\n",
       "       'i-bank плaнeтa        >moscow         ru',\n",
       "       'turm³l 304                wien        at',\n",
       "       'i-bank ao thc ¤эepуo t>moscow         ru',\n",
       "       'db automaten              m\\x9dnchen-flugde',\n",
       "       'i-bank ╙їaэeє cєepышєa>moscow         ru',\n",
       "       'i-bank thc энepгo hижн>moscow         ru',\n",
       "       'i-bank mtlan ╧pштoыцcъ>moscow         ru',\n",
       "       'i-bank 2 koм          >moscow         ru',\n",
       "       'i-bank блaгoтвopитeльн>moscow         ru',\n",
       "       'i-bank уфaнeт cтepлитa>moscow         ru',\n",
       "       'i-bank meжpeгиoнгaз   >moscow         ru',\n",
       "       'i-bank гopkoм         >moscow         ru',\n",
       "       'i-bank moco┴╦├a╟ (ї-ы >moscow         ru',\n",
       "       'i-bank cибиpcкиe ceти >moscow         ru',\n",
       "       'i-bank aka─o-eъaєepшэс>moscow         ru',\n",
       "       'i-bank maєpшъc-єeыeъoь>moscow         ru',\n",
       "       'i-bank hko moбильнaя к>moscow         ru',\n",
       "       'i-bank ╧ыaэeєa        >moscow         ru',\n",
       "       'i-bank cyммa teлeкoм  >moscow         ru',\n",
       "       'i-bank ├opkoь         >moscow         ru',\n",
       "       'i-bank ╙їaэeє opeэсypу>moscow         ru',\n",
       "       'i-bank cяyєэшъoтoe tb >moscow         ru',\n",
       "       'i-bank ╓eчap№ caєeыышє>moscow         ru',\n",
       "       'i-bank ooo флeкc      >moscow         ru',\n",
       "       'i-bank hoт√e teыecшcєe>moscow         ru',\n",
       "       'i-bank map№шэo net    >moscow         ru',\n",
       "       'i-bank teлe 2 (aвтoплa>moscow         ru',\n",
       "       'i-bank юиt cepвиc (caн>moscow         ru',\n",
       "       'i-bank xoyь kpeфшє    >moscow         ru',\n",
       "       'i-bank ▐╚t cepтшc (caэ>moscow         ru',\n",
       "       'i-bank taттeлeкoм     >moscow         ru',\n",
       "       'i-bank гopkoм юг-зaпaд>moscow         ru',\n",
       "       'i-bank экoтeлeкoм     >moscow         ru',\n",
       "       'i-bank meцpeушoэуaч po>moscow         ru',\n",
       "       'i-bank xoyм kpeдит    >moscow         ru',\n",
       "       '\"i-bank ooo \"\"цeнтp-cбk\"\">moscow         ru\"',\n",
       "       'prýma pùk pùksùg          budapest    hu',\n",
       "       'i-bank ├opkoь ▐у-╟aяaф>moscow         ru',\n",
       "       'i-bank mopєoэ teыeъoь >moscow         ru',\n",
       "       'i-bank betcity  яoяoыэ>moscow         ru',\n",
       "       'i-bank mah ceть       >moscow         ru',\n",
       "       'i-bank hko moсшы№эa\\xa0 ъ>moscow         ru',\n",
       "       'i-bank peнeccaнc kpeди>moscow         ru',\n",
       "       'i-bank ┴a°шэїopьcт\\xa0ч№ >moscow         ru',\n",
       "       'i-bank oсыєeыeъoь     >moscow         ru',\n",
       "       'i-bank mocoблгaз (ф-л >moscow         ru',\n",
       "       '\"i-bank tpшъoыop tb - \"\">moscow         ru\"',\n",
       "       'i-bank яндeкc.дeньги   moscow         ru',\n",
       "       'schottenhamel & lechne    m\\x9dnchen     de',\n",
       "       'i-bank ╟eыeэa\\xa0 єoўъa ╙>moscow         ru',\n",
       "       'i-bank ╚эєepcт\\xa0ч№     >moscow         ru',\n",
       "       'i-bank mocoблeиpц бeз  moscow         ru',\n",
       "       'i-bank cпyтникoвoe tb >moscow         ru',\n",
       "       'i-bank ┴ыaуoєтopшєeы№э>moscow         ru',\n",
       "       'i-bank cшєшышэъ       >moscow         ru',\n",
       "       'i-bank бaлнeт         >moscow         ru',\n",
       "       'i-bank пoдpяд интepнeт>moscow         ru',\n",
       "       'babic obst gem\\x9dse         wien        at',\n",
       "       'i-bank зeлeнaя тoчкa у>moscow         ru',\n",
       "       'i-bank cитилинк       >moscow         ru'], dtype=object)"
      ]
     },
     "execution_count": 11,
     "metadata": {},
     "output_type": "execute_result"
    }
   ],
   "source": [
    "df_transactions[df_transactions['merchant_name_eng_name'] == False ]['merchant_name'].unique()"
   ]
  },
  {
   "cell_type": "markdown",
   "metadata": {},
   "source": [
    "Будем искать транзакции, где клиенты покупали кофе/посещали кофейни.\\\n",
    "Так как мы не знаем, что конкретно покупал клиент в точке будет подбирать те точки, где больше половины ассортимента это кофе.\\ \n",
    "При этом будет понимать, что в нашу выборку могут попасть и те клиенты, кто \"зашел в Старбакс и купил бутылку воды\".\\\n",
    "Будем отбирать в 6 стадий:\\\n",
    "1. Транзакции где явно есть отдельностоящие слова типа кофе, кофейня или название популярного места \n",
    "2. Транзакции где в символах встречается что-то похожее на \"коф\" + ручной отбор таких транзакций \n",
    "3. Транзакции где в символах встречается название популярного места где продают кофе, но в названии самого места нет кофе. Например: Starbucks \n",
    "4. Транзакции в которых встречаютстя кофейны слова типа latte, cappuccino \n",
    "5. Проверка MCC кодов кофейных транзакций на адекватность. Если в каких-то транзакциях найдем MCC далекий от кофейной тематики мы отдельно ее проверим такие транзакции\n",
    "6. Подготовка компактной таблицы с результатами\n",
    "----------------------------------\n"
   ]
  },
  {
   "cell_type": "markdown",
   "metadata": {},
   "source": [
    "1. Транзакции где явно есть отдельностоящие слова типа кофе, кофейня или название популярного места "
   ]
  },
  {
   "cell_type": "code",
   "execution_count": 12,
   "metadata": {},
   "outputs": [],
   "source": [
    "list_exact_coffee = df_transactions[\n",
    "    (df_transactions['merchant_name'].str.contains('coffee', case=False,regex=False)) | \n",
    "    (df_transactions['merchant_name'].str.contains(r'\\b(?:coffe|cofe|kofe|koffe|koffee|coffe|cofee|kofejnya|kofeiynya|kofeynya|kofeinya|kofeinia|kofeshop|kofeinaya|kofejnaya|cofix|kofein|onepricecoffe|koffein|kofeynyy)\\b', case=False,regex=True)) \n",
    "]['merchant_name'].unique().tolist()"
   ]
  },
  {
   "cell_type": "code",
   "execution_count": 13,
   "metadata": {},
   "outputs": [
    {
     "data": {
      "text/plain": [
       "961"
      ]
     },
     "execution_count": 13,
     "metadata": {},
     "output_type": "execute_result"
    }
   ],
   "source": [
    "len(list_exact_coffee)"
   ]
  },
  {
   "cell_type": "markdown",
   "metadata": {},
   "source": [
    "2. Транзакции где в символах встречается что-то похожее на \"коф\" + ручной отбор таких транзакций "
   ]
  },
  {
   "cell_type": "code",
   "execution_count": 14,
   "metadata": {},
   "outputs": [],
   "source": [
    "df_transactions_prob_coffee = df_transactions[\n",
    "    (df_transactions['merchant_name'].str.contains('cof|kof', case=False,regex=True)) &\n",
    "    (~df_transactions['merchant_name'].isin(list_exact_coffee)) \n",
    "    ]['merchant_name'].unique()"
   ]
  },
  {
   "cell_type": "markdown",
   "metadata": {},
   "source": [
    "Выгрузим файл мерчанты которые похожи на кофе, чтобы разметить их вручную. Их чуть больше 200, что не так много. "
   ]
  },
  {
   "cell_type": "code",
   "execution_count": 15,
   "metadata": {},
   "outputs": [],
   "source": [
    "pd.DataFrame(df_transactions_prob_coffee).to_excel('df_transactions_prob_coffee.xlsx')"
   ]
  },
  {
   "cell_type": "code",
   "execution_count": 16,
   "metadata": {},
   "outputs": [],
   "source": [
    "# тут я поработал с Excel файлом\n",
    "# руками разметил мерченты которые явно относятся к кофе "
   ]
  },
  {
   "cell_type": "code",
   "execution_count": 17,
   "metadata": {},
   "outputs": [],
   "source": [
    "df_transactions_prob_coffee = pd.read_excel('df_transactions_prob_coffee_fixed.xlsx',index_col = 0)"
   ]
  },
  {
   "cell_type": "code",
   "execution_count": 18,
   "metadata": {},
   "outputs": [],
   "source": [
    "df_transactions_prob_coffee.columns = ['merchant_name', 'coffee']\n"
   ]
  },
  {
   "cell_type": "code",
   "execution_count": 19,
   "metadata": {},
   "outputs": [],
   "source": [
    "#добавляем к списку наших кофейных мерчантов тех, которых мы отобрали вручную \n",
    "\n",
    "list_exact_coffee = list_exact_coffee + df_transactions_prob_coffee[df_transactions_prob_coffee['coffee'] == 1]['merchant_name'].to_list()"
   ]
  },
  {
   "cell_type": "code",
   "execution_count": 20,
   "metadata": {},
   "outputs": [
    {
     "data": {
      "text/plain": [
       "1113"
      ]
     },
     "execution_count": 20,
     "metadata": {},
     "output_type": "execute_result"
    }
   ],
   "source": [
    "len(list_exact_coffee)"
   ]
  },
  {
   "cell_type": "markdown",
   "metadata": {},
   "source": [
    "3. Транзакции где в символах встречается название популярного места где продают кофе, но в названии самого места нет кофе. Например: Starbucks \\\n",
    "Погуглил в интернете кофейни и магазины кофе и искал то что без \"Коф\" в названии\n",
    "Также пользовался вот этим списком"
   ]
  },
  {
   "cell_type": "code",
   "execution_count": 21,
   "metadata": {},
   "outputs": [],
   "source": [
    "list_exact_coffee = list_exact_coffee + df_transactions[df_transactions['merchant_name'].str.contains('starbucks|bodryj den|shokoladnitsa|doubleb|bloom n brew|cooperative chernyi', case=False,regex=True)]['merchant_name'].to_list()"
   ]
  },
  {
   "cell_type": "markdown",
   "metadata": {},
   "source": [
    "4. Транзакции в которых встречаютстя кофейны слова типа latte, cappuccino "
   ]
  },
  {
   "cell_type": "code",
   "execution_count": 22,
   "metadata": {},
   "outputs": [],
   "source": [
    "list_exact_coffee = list_exact_coffee + df_transactions[df_transactions['merchant_name'].str.contains('capuchino|cappuccino|latte|robusta|espresso', case=False,regex=True)]['merchant_name'].to_list()"
   ]
  },
  {
   "cell_type": "code",
   "execution_count": 23,
   "metadata": {},
   "outputs": [
    {
     "data": {
      "text/plain": [
       "1881"
      ]
     },
     "execution_count": 23,
     "metadata": {},
     "output_type": "execute_result"
    }
   ],
   "source": [
    "len(list_exact_coffee)"
   ]
  },
  {
   "cell_type": "code",
   "execution_count": 24,
   "metadata": {},
   "outputs": [],
   "source": [
    "#удаляем дубликаты из листа мерчантов\n",
    "list_exact_coffee = list(dict.fromkeys(list_exact_coffee))"
   ]
  },
  {
   "cell_type": "code",
   "execution_count": 25,
   "metadata": {},
   "outputs": [
    {
     "data": {
      "text/plain": [
       "1314"
      ]
     },
     "execution_count": 25,
     "metadata": {},
     "output_type": "execute_result"
    }
   ],
   "source": [
    "len(list_exact_coffee)"
   ]
  },
  {
   "cell_type": "markdown",
   "metadata": {},
   "source": [
    "Размечаем транзакции в которых есть покупки кофе "
   ]
  },
  {
   "cell_type": "code",
   "execution_count": 26,
   "metadata": {},
   "outputs": [],
   "source": [
    "df_transactions['coffee_transaction'] = np.where(df_transactions['merchant_name'].isin(list_exact_coffee), True, False)"
   ]
  },
  {
   "cell_type": "markdown",
   "metadata": {},
   "source": [
    "5. Проверка MCC кодов кофейных транзакций на адекватность. Если в каких-то транзакциях найдем MCC далекий от кофейной тематики мы отдельно ее проверим такие транзакции\\\n",
    "Пользовался вот этим справочником https://merchantpoint.ru/mcc"
   ]
  },
  {
   "cell_type": "code",
   "execution_count": 27,
   "metadata": {},
   "outputs": [
    {
     "data": {
      "text/plain": [
       "array([5814, 5812, 5411, 5813, 5499, 5999, 5441, 7230, 5399, 8999, 5993,\n",
       "       5331, 5969, 5462, 5811, 7832, 5661, 5992, 7999, 5944, 4812, 5533,\n",
       "       5311, 5651], dtype=int64)"
      ]
     },
     "execution_count": 27,
     "metadata": {},
     "output_type": "execute_result"
    }
   ],
   "source": [
    "df_transactions[df_transactions['coffee_transaction'] == True]['mcc'].unique()"
   ]
  },
  {
   "cell_type": "markdown",
   "metadata": {},
   "source": [
    "Нашли подозрительные категории: \\\n",
    "7230 - Парикмахерские и салоны красоты \\\n",
    "5969 - Прямой маркетинг – другие торговые точки прямого маркетинга (нигде более не классифицированные) \\\n",
    "7832 - Кинотеатры \\\n",
    "5661 - Обувные магазины\t\\\n",
    "5922 - Флористика \\\n",
    "5944 - Часы, ювелирные и серебряные изделия \\\n",
    "4812 - Телекоммуникационное оборудование, включая продажу телефонов \\\n",
    "5533 - Автозапчасти и аксессуары \\\n",
    "5651\tОдежда для всей семьи \\\n",
    "\\\n",
    "Изучим транзакции в этих категориях, если транзакция не похожа нк кофе, то выкинем.  "
   ]
  },
  {
   "cell_type": "code",
   "execution_count": 28,
   "metadata": {},
   "outputs": [
    {
     "data": {
      "text/html": [
       "<div>\n",
       "<style scoped>\n",
       "    .dataframe tbody tr th:only-of-type {\n",
       "        vertical-align: middle;\n",
       "    }\n",
       "\n",
       "    .dataframe tbody tr th {\n",
       "        vertical-align: top;\n",
       "    }\n",
       "\n",
       "    .dataframe thead th {\n",
       "        text-align: right;\n",
       "    }\n",
       "</style>\n",
       "<table border=\"1\" class=\"dataframe\">\n",
       "  <thead>\n",
       "    <tr style=\"text-align: right;\">\n",
       "      <th></th>\n",
       "      <th>customer_id</th>\n",
       "      <th>card_id</th>\n",
       "      <th>tr_datetime</th>\n",
       "      <th>tr_normalized_amount</th>\n",
       "      <th>currency</th>\n",
       "      <th>mcc</th>\n",
       "      <th>merchant_name</th>\n",
       "      <th>merchant_city</th>\n",
       "      <th>merchant_name_eng_name</th>\n",
       "      <th>coffee_transaction</th>\n",
       "    </tr>\n",
       "  </thead>\n",
       "  <tbody>\n",
       "    <tr>\n",
       "      <th>14377</th>\n",
       "      <td>7C1C451DB2510B295F77E2CC2AC5F8DD</td>\n",
       "      <td>AA00F803B05F654B720682565CB91B90</td>\n",
       "      <td>2019-10-13</td>\n",
       "      <td>600.0</td>\n",
       "      <td>810</td>\n",
       "      <td>7230</td>\n",
       "      <td>\"\"\"coffee &amp; moloko\"\" salo    sankt-peterbru\"</td>\n",
       "      <td>saint petersburg</td>\n",
       "      <td>True</td>\n",
       "      <td>True</td>\n",
       "    </tr>\n",
       "    <tr>\n",
       "      <th>91517</th>\n",
       "      <td>C841189CE436A41D06676E25A46B7BB2</td>\n",
       "      <td>A4596B479BC539425A7E34D46504ECDC</td>\n",
       "      <td>2019-10-10</td>\n",
       "      <td>3030.0</td>\n",
       "      <td>810</td>\n",
       "      <td>5969</td>\n",
       "      <td>nespresso                 moskva      ru</td>\n",
       "      <td>moscow</td>\n",
       "      <td>True</td>\n",
       "      <td>True</td>\n",
       "    </tr>\n",
       "    <tr>\n",
       "      <th>166668</th>\n",
       "      <td>6DA2F441CDE44CF83C6EA70D15F39E1F</td>\n",
       "      <td>24DE1B66B0DF8594C586D012E51102A4</td>\n",
       "      <td>2019-08-25</td>\n",
       "      <td>1000.0</td>\n",
       "      <td>810</td>\n",
       "      <td>5969</td>\n",
       "      <td>nespresso                 kotelniki   ru</td>\n",
       "      <td>kotelniki</td>\n",
       "      <td>True</td>\n",
       "      <td>True</td>\n",
       "    </tr>\n",
       "    <tr>\n",
       "      <th>246291</th>\n",
       "      <td>8C0BCAE7DB8926ACC47F915539C51142</td>\n",
       "      <td>8F66075E4A8705DB7F3AB72E2F7085DC</td>\n",
       "      <td>2019-10-31</td>\n",
       "      <td>160.0</td>\n",
       "      <td>810</td>\n",
       "      <td>7832</td>\n",
       "      <td>kofe                      ulan-ude    ru</td>\n",
       "      <td>ulan-ude</td>\n",
       "      <td>True</td>\n",
       "      <td>True</td>\n",
       "    </tr>\n",
       "    <tr>\n",
       "      <th>258224</th>\n",
       "      <td>C23E7EBA5725AF6993AB1A4CB948F7B4</td>\n",
       "      <td>9F8A3653462E676F24BA1DBCBDB98121</td>\n",
       "      <td>2019-10-15</td>\n",
       "      <td>438.0</td>\n",
       "      <td>810</td>\n",
       "      <td>5661</td>\n",
       "      <td>surf coffee               petropavlovsru</td>\n",
       "      <td>petropavlovs</td>\n",
       "      <td>True</td>\n",
       "      <td>True</td>\n",
       "    </tr>\n",
       "    <tr>\n",
       "      <th>361741</th>\n",
       "      <td>8F5084DBEFA1F902BEA27C68B45FB447</td>\n",
       "      <td>B5437DEDF66B3F39D0D1E7E0FB88476B</td>\n",
       "      <td>2019-08-23</td>\n",
       "      <td>960.0</td>\n",
       "      <td>810</td>\n",
       "      <td>5969</td>\n",
       "      <td>nespresso                 moskva      ru</td>\n",
       "      <td>moscow</td>\n",
       "      <td>True</td>\n",
       "      <td>True</td>\n",
       "    </tr>\n",
       "    <tr>\n",
       "      <th>368127</th>\n",
       "      <td>7E3D601079B3A15574DF1BCDBE7D4DFA</td>\n",
       "      <td>36D354167A5F241C532C08EB2E7AB68C</td>\n",
       "      <td>2019-08-01</td>\n",
       "      <td>147.0</td>\n",
       "      <td>810</td>\n",
       "      <td>5944</td>\n",
       "      <td>chaykoffskiy              severodvinskru</td>\n",
       "      <td>severodvinsk</td>\n",
       "      <td>True</td>\n",
       "      <td>True</td>\n",
       "    </tr>\n",
       "    <tr>\n",
       "      <th>403512</th>\n",
       "      <td>592D9AFAB685D89E502C012001873ED1</td>\n",
       "      <td>408BD48A186180DA73224CC223E77556</td>\n",
       "      <td>2019-09-25</td>\n",
       "      <td>2201.0</td>\n",
       "      <td>810</td>\n",
       "      <td>4812</td>\n",
       "      <td>travelers coffee          ulan-ude    ru</td>\n",
       "      <td>ulan-ude</td>\n",
       "      <td>True</td>\n",
       "      <td>True</td>\n",
       "    </tr>\n",
       "    <tr>\n",
       "      <th>415024</th>\n",
       "      <td>8C0BCAE7DB8926ACC47F915539C51142</td>\n",
       "      <td>8F66075E4A8705DB7F3AB72E2F7085DC</td>\n",
       "      <td>2019-10-31</td>\n",
       "      <td>290.0</td>\n",
       "      <td>810</td>\n",
       "      <td>7832</td>\n",
       "      <td>kofe                      ulan-ude    ru</td>\n",
       "      <td>ulan-ude</td>\n",
       "      <td>True</td>\n",
       "      <td>True</td>\n",
       "    </tr>\n",
       "    <tr>\n",
       "      <th>459339</th>\n",
       "      <td>592D9AFAB685D89E502C012001873ED1</td>\n",
       "      <td>408BD48A186180DA73224CC223E77556</td>\n",
       "      <td>2019-09-30</td>\n",
       "      <td>1397.0</td>\n",
       "      <td>810</td>\n",
       "      <td>4812</td>\n",
       "      <td>travelers coffee          ulan-ude    ru</td>\n",
       "      <td>ulan-ude</td>\n",
       "      <td>True</td>\n",
       "      <td>True</td>\n",
       "    </tr>\n",
       "    <tr>\n",
       "      <th>500731</th>\n",
       "      <td>DF0364E9428646F4012881C20C030F3A</td>\n",
       "      <td>076D5DC9A49722B20348AB4B35DB95D0</td>\n",
       "      <td>2019-09-13</td>\n",
       "      <td>150.0</td>\n",
       "      <td>810</td>\n",
       "      <td>5533</td>\n",
       "      <td>coffeetoriya center       armavir     ru</td>\n",
       "      <td>armavir</td>\n",
       "      <td>True</td>\n",
       "      <td>True</td>\n",
       "    </tr>\n",
       "    <tr>\n",
       "      <th>550596</th>\n",
       "      <td>B69506C6925EF49F5949BDDE53E718F4</td>\n",
       "      <td>A868FF405D5940D67DB687B3BA21189C</td>\n",
       "      <td>2019-10-31</td>\n",
       "      <td>120.0</td>\n",
       "      <td>810</td>\n",
       "      <td>5651</td>\n",
       "      <td>kofe s soboj              norilsk     ru</td>\n",
       "      <td>norilsk</td>\n",
       "      <td>True</td>\n",
       "      <td>True</td>\n",
       "    </tr>\n",
       "    <tr>\n",
       "      <th>553472</th>\n",
       "      <td>6DA2F441CDE44CF83C6EA70D15F39E1F</td>\n",
       "      <td>39286F90A0BF792429ED46231773B2BC</td>\n",
       "      <td>2019-10-12</td>\n",
       "      <td>1220.0</td>\n",
       "      <td>810</td>\n",
       "      <td>5969</td>\n",
       "      <td>nespresso                 kotelniki   ru</td>\n",
       "      <td>kotelniki</td>\n",
       "      <td>True</td>\n",
       "      <td>True</td>\n",
       "    </tr>\n",
       "    <tr>\n",
       "      <th>593667</th>\n",
       "      <td>DF9D4BE38E25F851AA61FD510E68EF6D</td>\n",
       "      <td>75186C74934100A4A5F08E3FFFC17DDF</td>\n",
       "      <td>2019-08-08</td>\n",
       "      <td>140.0</td>\n",
       "      <td>810</td>\n",
       "      <td>5651</td>\n",
       "      <td>kofe s soboj              norilsk     ru</td>\n",
       "      <td>norilsk</td>\n",
       "      <td>True</td>\n",
       "      <td>True</td>\n",
       "    </tr>\n",
       "  </tbody>\n",
       "</table>\n",
       "</div>"
      ],
      "text/plain": [
       "                             customer_id                           card_id  \\\n",
       "14377   7C1C451DB2510B295F77E2CC2AC5F8DD  AA00F803B05F654B720682565CB91B90   \n",
       "91517   C841189CE436A41D06676E25A46B7BB2  A4596B479BC539425A7E34D46504ECDC   \n",
       "166668  6DA2F441CDE44CF83C6EA70D15F39E1F  24DE1B66B0DF8594C586D012E51102A4   \n",
       "246291  8C0BCAE7DB8926ACC47F915539C51142  8F66075E4A8705DB7F3AB72E2F7085DC   \n",
       "258224  C23E7EBA5725AF6993AB1A4CB948F7B4  9F8A3653462E676F24BA1DBCBDB98121   \n",
       "361741  8F5084DBEFA1F902BEA27C68B45FB447  B5437DEDF66B3F39D0D1E7E0FB88476B   \n",
       "368127  7E3D601079B3A15574DF1BCDBE7D4DFA  36D354167A5F241C532C08EB2E7AB68C   \n",
       "403512  592D9AFAB685D89E502C012001873ED1  408BD48A186180DA73224CC223E77556   \n",
       "415024  8C0BCAE7DB8926ACC47F915539C51142  8F66075E4A8705DB7F3AB72E2F7085DC   \n",
       "459339  592D9AFAB685D89E502C012001873ED1  408BD48A186180DA73224CC223E77556   \n",
       "500731  DF0364E9428646F4012881C20C030F3A  076D5DC9A49722B20348AB4B35DB95D0   \n",
       "550596  B69506C6925EF49F5949BDDE53E718F4  A868FF405D5940D67DB687B3BA21189C   \n",
       "553472  6DA2F441CDE44CF83C6EA70D15F39E1F  39286F90A0BF792429ED46231773B2BC   \n",
       "593667  DF9D4BE38E25F851AA61FD510E68EF6D  75186C74934100A4A5F08E3FFFC17DDF   \n",
       "\n",
       "       tr_datetime  tr_normalized_amount  currency   mcc  \\\n",
       "14377   2019-10-13                 600.0       810  7230   \n",
       "91517   2019-10-10                3030.0       810  5969   \n",
       "166668  2019-08-25                1000.0       810  5969   \n",
       "246291  2019-10-31                 160.0       810  7832   \n",
       "258224  2019-10-15                 438.0       810  5661   \n",
       "361741  2019-08-23                 960.0       810  5969   \n",
       "368127  2019-08-01                 147.0       810  5944   \n",
       "403512  2019-09-25                2201.0       810  4812   \n",
       "415024  2019-10-31                 290.0       810  7832   \n",
       "459339  2019-09-30                1397.0       810  4812   \n",
       "500731  2019-09-13                 150.0       810  5533   \n",
       "550596  2019-10-31                 120.0       810  5651   \n",
       "553472  2019-10-12                1220.0       810  5969   \n",
       "593667  2019-08-08                 140.0       810  5651   \n",
       "\n",
       "                                       merchant_name     merchant_city  \\\n",
       "14377   \"\"\"coffee & moloko\"\" salo    sankt-peterbru\"  saint petersburg   \n",
       "91517       nespresso                 moskva      ru            moscow   \n",
       "166668      nespresso                 kotelniki   ru         kotelniki   \n",
       "246291      kofe                      ulan-ude    ru          ulan-ude   \n",
       "258224      surf coffee               petropavlovsru      petropavlovs   \n",
       "361741      nespresso                 moskva      ru            moscow   \n",
       "368127      chaykoffskiy              severodvinskru      severodvinsk   \n",
       "403512      travelers coffee          ulan-ude    ru          ulan-ude   \n",
       "415024      kofe                      ulan-ude    ru          ulan-ude   \n",
       "459339      travelers coffee          ulan-ude    ru          ulan-ude   \n",
       "500731      coffeetoriya center       armavir     ru           armavir   \n",
       "550596      kofe s soboj              norilsk     ru           norilsk   \n",
       "553472      nespresso                 kotelniki   ru         kotelniki   \n",
       "593667      kofe s soboj              norilsk     ru           norilsk   \n",
       "\n",
       "        merchant_name_eng_name  coffee_transaction  \n",
       "14377                     True                True  \n",
       "91517                     True                True  \n",
       "166668                    True                True  \n",
       "246291                    True                True  \n",
       "258224                    True                True  \n",
       "361741                    True                True  \n",
       "368127                    True                True  \n",
       "403512                    True                True  \n",
       "415024                    True                True  \n",
       "459339                    True                True  \n",
       "500731                    True                True  \n",
       "550596                    True                True  \n",
       "553472                    True                True  \n",
       "593667                    True                True  "
      ]
     },
     "execution_count": 28,
     "metadata": {},
     "output_type": "execute_result"
    }
   ],
   "source": [
    "df_transactions[\n",
    "    (df_transactions['coffee_transaction']) &\n",
    "    (df_transactions['mcc'].isin([7230,5969,7832,5661,5922,5944,4812,5533,5651]))]"
   ]
  },
  {
   "cell_type": "markdown",
   "metadata": {},
   "source": [
    "Судя по транзакциям и гуглению в интеренете все эти точки действительно продают кофе. \\\n",
    "Видимо просто не совсем верно указали MCC коды"
   ]
  },
  {
   "cell_type": "code",
   "execution_count": 29,
   "metadata": {},
   "outputs": [
    {
     "data": {
      "text/html": [
       "<div>\n",
       "<style scoped>\n",
       "    .dataframe tbody tr th:only-of-type {\n",
       "        vertical-align: middle;\n",
       "    }\n",
       "\n",
       "    .dataframe tbody tr th {\n",
       "        vertical-align: top;\n",
       "    }\n",
       "\n",
       "    .dataframe thead th {\n",
       "        text-align: right;\n",
       "    }\n",
       "</style>\n",
       "<table border=\"1\" class=\"dataframe\">\n",
       "  <thead>\n",
       "    <tr style=\"text-align: right;\">\n",
       "      <th></th>\n",
       "      <th>customer_id</th>\n",
       "      <th>card_id</th>\n",
       "      <th>tr_datetime</th>\n",
       "      <th>tr_normalized_amount</th>\n",
       "      <th>currency</th>\n",
       "      <th>mcc</th>\n",
       "      <th>merchant_name</th>\n",
       "      <th>merchant_city</th>\n",
       "      <th>merchant_name_eng_name</th>\n",
       "      <th>coffee_transaction</th>\n",
       "    </tr>\n",
       "  </thead>\n",
       "  <tbody>\n",
       "    <tr>\n",
       "      <th>0</th>\n",
       "      <td>634E7564849D27B3C452229E405629A6</td>\n",
       "      <td>52CD1B87531555F5611C663562FC686D</td>\n",
       "      <td>2019-09-07</td>\n",
       "      <td>10.00</td>\n",
       "      <td>810</td>\n",
       "      <td>5999</td>\n",
       "      <td>i-bank ┴шыaщэ         &gt;moscow         ru</td>\n",
       "      <td>moscow</td>\n",
       "      <td>False</td>\n",
       "      <td>False</td>\n",
       "    </tr>\n",
       "    <tr>\n",
       "      <th>1</th>\n",
       "      <td>B20A638E7EB926C63102144596F38C71</td>\n",
       "      <td>9D4F087597B65028953FBE8A8FBF48DE</td>\n",
       "      <td>2019-09-20</td>\n",
       "      <td>313.04</td>\n",
       "      <td>810</td>\n",
       "      <td>5411</td>\n",
       "      <td>dixy                      moskva      ru</td>\n",
       "      <td>moscow</td>\n",
       "      <td>True</td>\n",
       "      <td>False</td>\n",
       "    </tr>\n",
       "    <tr>\n",
       "      <th>2</th>\n",
       "      <td>125EBE0A38873D4888408F85877282EF</td>\n",
       "      <td>B8859E8DB421C73B785521A6252A36CB</td>\n",
       "      <td>2019-09-23</td>\n",
       "      <td>250.00</td>\n",
       "      <td>810</td>\n",
       "      <td>5999</td>\n",
       "      <td>i-bank teыe 2         &gt;moscow         ru</td>\n",
       "      <td>moscow</td>\n",
       "      <td>False</td>\n",
       "      <td>False</td>\n",
       "    </tr>\n",
       "  </tbody>\n",
       "</table>\n",
       "</div>"
      ],
      "text/plain": [
       "                        customer_id                           card_id  \\\n",
       "0  634E7564849D27B3C452229E405629A6  52CD1B87531555F5611C663562FC686D   \n",
       "1  B20A638E7EB926C63102144596F38C71  9D4F087597B65028953FBE8A8FBF48DE   \n",
       "2  125EBE0A38873D4888408F85877282EF  B8859E8DB421C73B785521A6252A36CB   \n",
       "\n",
       "  tr_datetime  tr_normalized_amount  currency   mcc  \\\n",
       "0  2019-09-07                 10.00       810  5999   \n",
       "1  2019-09-20                313.04       810  5411   \n",
       "2  2019-09-23                250.00       810  5999   \n",
       "\n",
       "                              merchant_name merchant_city  \\\n",
       "0  i-bank ┴шыaщэ         >moscow         ru        moscow   \n",
       "1  dixy                      moskva      ru        moscow   \n",
       "2  i-bank teыe 2         >moscow         ru        moscow   \n",
       "\n",
       "   merchant_name_eng_name  coffee_transaction  \n",
       "0                   False               False  \n",
       "1                    True               False  \n",
       "2                   False               False  "
      ]
     },
     "execution_count": 29,
     "metadata": {},
     "output_type": "execute_result"
    }
   ],
   "source": [
    "df_transactions.head(3)"
   ]
  },
  {
   "cell_type": "markdown",
   "metadata": {},
   "source": [
    "6. Подготовка компактной таблицы с результатами"
   ]
  },
  {
   "cell_type": "code",
   "execution_count": 30,
   "metadata": {},
   "outputs": [],
   "source": [
    "date = pd.to_datetime(df_transactions['tr_datetime'])\n",
    "df_transactions['month'] = date.dt.month"
   ]
  },
  {
   "cell_type": "code",
   "execution_count": 31,
   "metadata": {},
   "outputs": [],
   "source": [
    "df_transactions_short = df_transactions[df_transactions['coffee_transaction'] == True][['customer_id','month','card_id']] "
   ]
  },
  {
   "cell_type": "code",
   "execution_count": 32,
   "metadata": {},
   "outputs": [
    {
     "data": {
      "text/plain": [
       "5370"
      ]
     },
     "execution_count": 32,
     "metadata": {},
     "output_type": "execute_result"
    }
   ],
   "source": [
    "\n",
    "df_transactions['customer_id'].unique().shape[0]"
   ]
  },
  {
   "cell_type": "markdown",
   "metadata": {},
   "source": [
    "Выделение клиентов\n",
    "1. Считаем сколько каждый клиент в последние месяцы делал кофейных транзакций \n",
    "2. Выбираем из таблицы клиентов, у кого в любых двух месяцах было 2 или больше кофейных покупок\n",
    "-----------------------------"
   ]
  },
  {
   "cell_type": "markdown",
   "metadata": {},
   "source": [
    "1. Считаем сколько каждый клиент в последние месяцы делал кофейных транзакций "
   ]
  },
  {
   "cell_type": "code",
   "execution_count": 33,
   "metadata": {},
   "outputs": [],
   "source": [
    "df_coffee_pivot =  df_transactions_short.pivot_table(columns=['month'],index=['customer_id'],aggfunc= 'count',fill_value=0).reset_index()"
   ]
  },
  {
   "cell_type": "code",
   "execution_count": 34,
   "metadata": {},
   "outputs": [
    {
     "data": {
      "text/plain": [
       "1151"
      ]
     },
     "execution_count": 34,
     "metadata": {},
     "output_type": "execute_result"
    }
   ],
   "source": [
    "df_coffee_pivot.shape[0]"
   ]
  },
  {
   "cell_type": "code",
   "execution_count": 35,
   "metadata": {},
   "outputs": [],
   "source": [
    "#Фиксим колонки в табличке от мульти-индекса\n",
    "df_coffee_pivot.columns = [' '.join(map(str, col)).strip() for col in df_coffee_pivot.columns.values]"
   ]
  },
  {
   "cell_type": "code",
   "execution_count": 36,
   "metadata": {},
   "outputs": [],
   "source": [
    "df_coffee_pivot.columns = ['customer_id', '8', '9', '10']"
   ]
  },
  {
   "cell_type": "code",
   "execution_count": 37,
   "metadata": {},
   "outputs": [
    {
     "data": {
      "text/html": [
       "<div>\n",
       "<style scoped>\n",
       "    .dataframe tbody tr th:only-of-type {\n",
       "        vertical-align: middle;\n",
       "    }\n",
       "\n",
       "    .dataframe tbody tr th {\n",
       "        vertical-align: top;\n",
       "    }\n",
       "\n",
       "    .dataframe thead th {\n",
       "        text-align: right;\n",
       "    }\n",
       "</style>\n",
       "<table border=\"1\" class=\"dataframe\">\n",
       "  <thead>\n",
       "    <tr style=\"text-align: right;\">\n",
       "      <th></th>\n",
       "      <th>customer_id</th>\n",
       "      <th>8</th>\n",
       "      <th>9</th>\n",
       "      <th>10</th>\n",
       "    </tr>\n",
       "  </thead>\n",
       "  <tbody>\n",
       "    <tr>\n",
       "      <th>0</th>\n",
       "      <td>003E71F5DF267A7F73CFD9B1E706D554</td>\n",
       "      <td>0</td>\n",
       "      <td>1</td>\n",
       "      <td>0</td>\n",
       "    </tr>\n",
       "    <tr>\n",
       "      <th>1</th>\n",
       "      <td>0060525A49B72C438F891AFF736713E5</td>\n",
       "      <td>1</td>\n",
       "      <td>0</td>\n",
       "      <td>0</td>\n",
       "    </tr>\n",
       "    <tr>\n",
       "      <th>2</th>\n",
       "      <td>01101BD054492A27D0312CA2F1DBA42F</td>\n",
       "      <td>0</td>\n",
       "      <td>1</td>\n",
       "      <td>0</td>\n",
       "    </tr>\n",
       "  </tbody>\n",
       "</table>\n",
       "</div>"
      ],
      "text/plain": [
       "                        customer_id  8  9  10\n",
       "0  003E71F5DF267A7F73CFD9B1E706D554  0  1   0\n",
       "1  0060525A49B72C438F891AFF736713E5  1  0   0\n",
       "2  01101BD054492A27D0312CA2F1DBA42F  0  1   0"
      ]
     },
     "execution_count": 37,
     "metadata": {},
     "output_type": "execute_result"
    }
   ],
   "source": [
    "df_coffee_pivot.head(3)"
   ]
  },
  {
   "cell_type": "markdown",
   "metadata": {},
   "source": [
    "2. Выбираем из таблицы клиентов, у кого в любых двух месяцах было 2 или больше кофейных покупок"
   ]
  },
  {
   "cell_type": "code",
   "execution_count": 38,
   "metadata": {},
   "outputs": [
    {
     "data": {
      "text/html": [
       "<div>\n",
       "<style scoped>\n",
       "    .dataframe tbody tr th:only-of-type {\n",
       "        vertical-align: middle;\n",
       "    }\n",
       "\n",
       "    .dataframe tbody tr th {\n",
       "        vertical-align: top;\n",
       "    }\n",
       "\n",
       "    .dataframe thead th {\n",
       "        text-align: right;\n",
       "    }\n",
       "</style>\n",
       "<table border=\"1\" class=\"dataframe\">\n",
       "  <thead>\n",
       "    <tr style=\"text-align: right;\">\n",
       "      <th></th>\n",
       "      <th>customer_id</th>\n",
       "      <th>8</th>\n",
       "      <th>9</th>\n",
       "      <th>10</th>\n",
       "    </tr>\n",
       "  </thead>\n",
       "  <tbody>\n",
       "    <tr>\n",
       "      <th>5</th>\n",
       "      <td>01F4759D39152AD450EB146328553FF4</td>\n",
       "      <td>4</td>\n",
       "      <td>2</td>\n",
       "      <td>0</td>\n",
       "    </tr>\n",
       "    <tr>\n",
       "      <th>9</th>\n",
       "      <td>02742357300A71889E018AD35941DA09</td>\n",
       "      <td>2</td>\n",
       "      <td>2</td>\n",
       "      <td>0</td>\n",
       "    </tr>\n",
       "    <tr>\n",
       "      <th>12</th>\n",
       "      <td>03FF8D5865069ED9A1810F0464AD0FBA</td>\n",
       "      <td>11</td>\n",
       "      <td>5</td>\n",
       "      <td>5</td>\n",
       "    </tr>\n",
       "    <tr>\n",
       "      <th>13</th>\n",
       "      <td>0405815580CA4D1A190D4E04DA422485</td>\n",
       "      <td>10</td>\n",
       "      <td>3</td>\n",
       "      <td>7</td>\n",
       "    </tr>\n",
       "    <tr>\n",
       "      <th>14</th>\n",
       "      <td>040CA8756FC68D5D173495B66F8B0C28</td>\n",
       "      <td>3</td>\n",
       "      <td>3</td>\n",
       "      <td>2</td>\n",
       "    </tr>\n",
       "    <tr>\n",
       "      <th>...</th>\n",
       "      <td>...</td>\n",
       "      <td>...</td>\n",
       "      <td>...</td>\n",
       "      <td>...</td>\n",
       "    </tr>\n",
       "    <tr>\n",
       "      <th>1137</th>\n",
       "      <td>FDF18BD8668193BB7EA965A1353E1FD0</td>\n",
       "      <td>1</td>\n",
       "      <td>3</td>\n",
       "      <td>2</td>\n",
       "    </tr>\n",
       "    <tr>\n",
       "      <th>1138</th>\n",
       "      <td>FE257FE01D64EDA62D336934C01756B7</td>\n",
       "      <td>6</td>\n",
       "      <td>0</td>\n",
       "      <td>2</td>\n",
       "    </tr>\n",
       "    <tr>\n",
       "      <th>1142</th>\n",
       "      <td>FE9698DE39B77B5DB9EAFE1D9B13CE67</td>\n",
       "      <td>2</td>\n",
       "      <td>4</td>\n",
       "      <td>0</td>\n",
       "    </tr>\n",
       "    <tr>\n",
       "      <th>1143</th>\n",
       "      <td>FEB266B829BAB63CA5CD60CB73B74877</td>\n",
       "      <td>5</td>\n",
       "      <td>3</td>\n",
       "      <td>3</td>\n",
       "    </tr>\n",
       "    <tr>\n",
       "      <th>1147</th>\n",
       "      <td>FF4E4A6536FC8822B38D2126C2BE5FE6</td>\n",
       "      <td>2</td>\n",
       "      <td>3</td>\n",
       "      <td>2</td>\n",
       "    </tr>\n",
       "  </tbody>\n",
       "</table>\n",
       "<p>246 rows × 4 columns</p>\n",
       "</div>"
      ],
      "text/plain": [
       "                           customer_id   8  9  10\n",
       "5     01F4759D39152AD450EB146328553FF4   4  2   0\n",
       "9     02742357300A71889E018AD35941DA09   2  2   0\n",
       "12    03FF8D5865069ED9A1810F0464AD0FBA  11  5   5\n",
       "13    0405815580CA4D1A190D4E04DA422485  10  3   7\n",
       "14    040CA8756FC68D5D173495B66F8B0C28   3  3   2\n",
       "...                                ...  .. ..  ..\n",
       "1137  FDF18BD8668193BB7EA965A1353E1FD0   1  3   2\n",
       "1138  FE257FE01D64EDA62D336934C01756B7   6  0   2\n",
       "1142  FE9698DE39B77B5DB9EAFE1D9B13CE67   2  4   0\n",
       "1143  FEB266B829BAB63CA5CD60CB73B74877   5  3   3\n",
       "1147  FF4E4A6536FC8822B38D2126C2BE5FE6   2  3   2\n",
       "\n",
       "[246 rows x 4 columns]"
      ]
     },
     "execution_count": 38,
     "metadata": {},
     "output_type": "execute_result"
    }
   ],
   "source": [
    "df_coffee_pivot[\n",
    "    ((df_coffee_pivot['8']>1) & (df_coffee_pivot['9']>1)) |\n",
    "    ((df_coffee_pivot['8']>1) & (df_coffee_pivot['10']>1)) |\n",
    "    ((df_coffee_pivot['9']>1) & (df_coffee_pivot['10']>1))]"
   ]
  },
  {
   "cell_type": "markdown",
   "metadata": {},
   "source": [
    "Откровенно говоря мы нашли не совсем то что требовалось в задании. \\\n",
    "\\\n",
    "Требовалось \"Выделить клиентов, которые покупали кофе/посещали кофейни от 2 раз в месяц хотя бы 2 из 3 месяцев.\" \\\n",
    "Мы тут сделали \"Выделить клиентов, которые посещали точки продажи кофе /посещали кофейни от 2 раз в месяц хотя бы 2 из 3 месяцев.\" \\\n",
    "Например, есть магазин 'Кофейная кантата' и если у клиента есть покупка там, то мы засчитываем его за человека который покупал кофе/посещал кофейню. \\\n",
    "Хотя на самом деле он мог купить там чай. \\\n",
    "\\\n",
    "Для того чтобы выделить людей, кто покупал кофе нужны данные по купленным товарам в разрезе транзакций. \\\n",
    "Если они будут, то смогу взять тех кто покупал именно кофе, а не посещал место где активно продается кофе :)\\    "
   ]
  },
  {
   "cell_type": "markdown",
   "metadata": {},
   "source": []
  }
 ],
 "metadata": {
  "kernelspec": {
   "display_name": "Python 3.10.5 64-bit",
   "language": "python",
   "name": "python3"
  },
  "language_info": {
   "codemirror_mode": {
    "name": "ipython",
    "version": 3
   },
   "file_extension": ".py",
   "mimetype": "text/x-python",
   "name": "python",
   "nbconvert_exporter": "python",
   "pygments_lexer": "ipython3",
   "version": "3.10.5"
  },
  "orig_nbformat": 4,
  "vscode": {
   "interpreter": {
    "hash": "d14802a80fda041396e29d0ef764e9db1b52be87434e2145de2ac9afbbaeae6f"
   }
  }
 },
 "nbformat": 4,
 "nbformat_minor": 2
}

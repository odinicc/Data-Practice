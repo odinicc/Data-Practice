{
 "cells": [
  {
   "cell_type": "code",
   "execution_count": 1,
   "metadata": {},
   "outputs": [],
   "source": [
    "import pandas as pd\n",
    "import numpy as np\n",
    "from rfm import RFM\n",
    "from sklearn.model_selection import train_test_split"
   ]
  },
  {
   "cell_type": "markdown",
   "metadata": {},
   "source": [
    "Загружаем файлы с транзакциями и клиентами"
   ]
  },
  {
   "cell_type": "code",
   "execution_count": 2,
   "metadata": {},
   "outputs": [],
   "source": [
    "df_clients = pd.read_csv(\"./clients_small.csv\", sep=';')\n",
    "df_transactions = pd.read_csv(\"./transactions_small.csv\", sep=';')\n"
   ]
  },
  {
   "cell_type": "code",
   "execution_count": 3,
   "metadata": {},
   "outputs": [
    {
     "data": {
      "text/html": [
       "<div>\n",
       "<style scoped>\n",
       "    .dataframe tbody tr th:only-of-type {\n",
       "        vertical-align: middle;\n",
       "    }\n",
       "\n",
       "    .dataframe tbody tr th {\n",
       "        vertical-align: top;\n",
       "    }\n",
       "\n",
       "    .dataframe thead th {\n",
       "        text-align: right;\n",
       "    }\n",
       "</style>\n",
       "<table border=\"1\" class=\"dataframe\">\n",
       "  <thead>\n",
       "    <tr style=\"text-align: right;\">\n",
       "      <th></th>\n",
       "      <th>customer_id</th>\n",
       "      <th>card_id</th>\n",
       "      <th>region_name</th>\n",
       "      <th>sex</th>\n",
       "      <th>birth_date</th>\n",
       "    </tr>\n",
       "  </thead>\n",
       "  <tbody>\n",
       "    <tr>\n",
       "      <th>0</th>\n",
       "      <td>02F4DB34C5696A668068CA3C1DE7C2D5</td>\n",
       "      <td>6600B4FDA036A6F00D464541EAD3B21F</td>\n",
       "      <td>Москва</td>\n",
       "      <td>F</td>\n",
       "      <td>1938-08-18</td>\n",
       "    </tr>\n",
       "    <tr>\n",
       "      <th>1</th>\n",
       "      <td>0308713D02D676920F2961E2A84B4516</td>\n",
       "      <td>1FB9344B8661069910D184EF19C448C7</td>\n",
       "      <td>Сахалинская область</td>\n",
       "      <td>F</td>\n",
       "      <td>1990-03-26</td>\n",
       "    </tr>\n",
       "    <tr>\n",
       "      <th>2</th>\n",
       "      <td>032672FDC2CF85213079F83E447AF75B</td>\n",
       "      <td>4C8AD60064AF412753EB54EAFCD8C59D</td>\n",
       "      <td>Самарская область</td>\n",
       "      <td>F</td>\n",
       "      <td>1989-01-13</td>\n",
       "    </tr>\n",
       "  </tbody>\n",
       "</table>\n",
       "</div>"
      ],
      "text/plain": [
       "                        customer_id                           card_id  \\\n",
       "0  02F4DB34C5696A668068CA3C1DE7C2D5  6600B4FDA036A6F00D464541EAD3B21F   \n",
       "1  0308713D02D676920F2961E2A84B4516  1FB9344B8661069910D184EF19C448C7   \n",
       "2  032672FDC2CF85213079F83E447AF75B  4C8AD60064AF412753EB54EAFCD8C59D   \n",
       "\n",
       "           region_name sex  birth_date  \n",
       "0               Москва   F  1938-08-18  \n",
       "1  Сахалинская область   F  1990-03-26  \n",
       "2    Самарская область   F  1989-01-13  "
      ]
     },
     "execution_count": 3,
     "metadata": {},
     "output_type": "execute_result"
    }
   ],
   "source": [
    "df_clients.head(3)"
   ]
  },
  {
   "cell_type": "code",
   "execution_count": 4,
   "metadata": {},
   "outputs": [
    {
     "data": {
      "text/html": [
       "<div>\n",
       "<style scoped>\n",
       "    .dataframe tbody tr th:only-of-type {\n",
       "        vertical-align: middle;\n",
       "    }\n",
       "\n",
       "    .dataframe tbody tr th {\n",
       "        vertical-align: top;\n",
       "    }\n",
       "\n",
       "    .dataframe thead th {\n",
       "        text-align: right;\n",
       "    }\n",
       "</style>\n",
       "<table border=\"1\" class=\"dataframe\">\n",
       "  <thead>\n",
       "    <tr style=\"text-align: right;\">\n",
       "      <th></th>\n",
       "      <th>customer_id</th>\n",
       "      <th>card_id</th>\n",
       "      <th>tr_datetime</th>\n",
       "      <th>tr_normalized_amount</th>\n",
       "      <th>currency</th>\n",
       "      <th>mcc</th>\n",
       "      <th>merchant_name</th>\n",
       "      <th>merchant_city</th>\n",
       "    </tr>\n",
       "  </thead>\n",
       "  <tbody>\n",
       "    <tr>\n",
       "      <th>0</th>\n",
       "      <td>634E7564849D27B3C452229E405629A6</td>\n",
       "      <td>52CD1B87531555F5611C663562FC686D</td>\n",
       "      <td>2019-09-07</td>\n",
       "      <td>10.00</td>\n",
       "      <td>810</td>\n",
       "      <td>5999</td>\n",
       "      <td>i-bank ┴шыaщэ         &gt;moscow         ru</td>\n",
       "      <td>moscow</td>\n",
       "    </tr>\n",
       "    <tr>\n",
       "      <th>1</th>\n",
       "      <td>B20A638E7EB926C63102144596F38C71</td>\n",
       "      <td>9D4F087597B65028953FBE8A8FBF48DE</td>\n",
       "      <td>2019-09-20</td>\n",
       "      <td>313.04</td>\n",
       "      <td>810</td>\n",
       "      <td>5411</td>\n",
       "      <td>dixy                      moskva      ru</td>\n",
       "      <td>moscow</td>\n",
       "    </tr>\n",
       "    <tr>\n",
       "      <th>2</th>\n",
       "      <td>125EBE0A38873D4888408F85877282EF</td>\n",
       "      <td>B8859E8DB421C73B785521A6252A36CB</td>\n",
       "      <td>2019-09-23</td>\n",
       "      <td>250.00</td>\n",
       "      <td>810</td>\n",
       "      <td>5999</td>\n",
       "      <td>i-bank teыe 2         &gt;moscow         ru</td>\n",
       "      <td>moscow</td>\n",
       "    </tr>\n",
       "  </tbody>\n",
       "</table>\n",
       "</div>"
      ],
      "text/plain": [
       "                        customer_id                           card_id  \\\n",
       "0  634E7564849D27B3C452229E405629A6  52CD1B87531555F5611C663562FC686D   \n",
       "1  B20A638E7EB926C63102144596F38C71  9D4F087597B65028953FBE8A8FBF48DE   \n",
       "2  125EBE0A38873D4888408F85877282EF  B8859E8DB421C73B785521A6252A36CB   \n",
       "\n",
       "  tr_datetime  tr_normalized_amount  currency   mcc  \\\n",
       "0  2019-09-07                 10.00       810  5999   \n",
       "1  2019-09-20                313.04       810  5411   \n",
       "2  2019-09-23                250.00       810  5999   \n",
       "\n",
       "                              merchant_name merchant_city  \n",
       "0  i-bank ┴шыaщэ         >moscow         ru        moscow  \n",
       "1  dixy                      moskva      ru        moscow  \n",
       "2  i-bank teыe 2         >moscow         ru        moscow  "
      ]
     },
     "execution_count": 4,
     "metadata": {},
     "output_type": "execute_result"
    }
   ],
   "source": [
    "df_transactions.head(3)"
   ]
  },
  {
   "cell_type": "markdown",
   "metadata": {},
   "source": [
    "Пробуем найти косячные данные типа \"i-bank ┴шыaщэ\" в столбце merchant_name \\\n",
    "Для этого создаем функцию, которая находит не Unicode символы "
   ]
  },
  {
   "cell_type": "code",
   "execution_count": 5,
   "metadata": {},
   "outputs": [],
   "source": [
    "r = RFM(df_transactions, customer_id='customer_id', transaction_date='tr_datetime', amount='tr_normalized_amount')"
   ]
  },
  {
   "cell_type": "code",
   "execution_count": 6,
   "metadata": {},
   "outputs": [],
   "source": [
    "df_transactions['tr_datetime'] = pd.to_datetime(df_transactions['tr_datetime'])"
   ]
  },
  {
   "cell_type": "code",
   "execution_count": 7,
   "metadata": {},
   "outputs": [],
   "source": [
    "df_clients_rfm = r.rfm_table"
   ]
  },
  {
   "cell_type": "code",
   "execution_count": 8,
   "metadata": {},
   "outputs": [
    {
     "data": {
      "text/html": [
       "<div>\n",
       "<style scoped>\n",
       "    .dataframe tbody tr th:only-of-type {\n",
       "        vertical-align: middle;\n",
       "    }\n",
       "\n",
       "    .dataframe tbody tr th {\n",
       "        vertical-align: top;\n",
       "    }\n",
       "\n",
       "    .dataframe thead th {\n",
       "        text-align: right;\n",
       "    }\n",
       "</style>\n",
       "<table border=\"1\" class=\"dataframe\">\n",
       "  <thead>\n",
       "    <tr style=\"text-align: right;\">\n",
       "      <th></th>\n",
       "      <th>customer_id</th>\n",
       "      <th>recency</th>\n",
       "      <th>frequency</th>\n",
       "      <th>monetary_value</th>\n",
       "      <th>r</th>\n",
       "      <th>f</th>\n",
       "      <th>m</th>\n",
       "      <th>rfm_score</th>\n",
       "      <th>segment</th>\n",
       "    </tr>\n",
       "  </thead>\n",
       "  <tbody>\n",
       "    <tr>\n",
       "      <th>0</th>\n",
       "      <td>13A873ECF427403915BB58EEF5A0D35B</td>\n",
       "      <td>0</td>\n",
       "      <td>512</td>\n",
       "      <td>1402853.97</td>\n",
       "      <td>5</td>\n",
       "      <td>5</td>\n",
       "      <td>5</td>\n",
       "      <td>555</td>\n",
       "      <td>Champions</td>\n",
       "    </tr>\n",
       "    <tr>\n",
       "      <th>1</th>\n",
       "      <td>42E548AE6B3D1A06DA03AADE06F3320D</td>\n",
       "      <td>0</td>\n",
       "      <td>274</td>\n",
       "      <td>226011.60</td>\n",
       "      <td>5</td>\n",
       "      <td>5</td>\n",
       "      <td>5</td>\n",
       "      <td>555</td>\n",
       "      <td>Champions</td>\n",
       "    </tr>\n",
       "    <tr>\n",
       "      <th>2</th>\n",
       "      <td>05347FF04C750066BCDA337B4FB3BA71</td>\n",
       "      <td>0</td>\n",
       "      <td>180</td>\n",
       "      <td>256207.90</td>\n",
       "      <td>5</td>\n",
       "      <td>5</td>\n",
       "      <td>5</td>\n",
       "      <td>555</td>\n",
       "      <td>Champions</td>\n",
       "    </tr>\n",
       "    <tr>\n",
       "      <th>3</th>\n",
       "      <td>0BEE43A4B9A92C7899073DEA8FD8C7E2</td>\n",
       "      <td>0</td>\n",
       "      <td>273</td>\n",
       "      <td>157289.96</td>\n",
       "      <td>5</td>\n",
       "      <td>5</td>\n",
       "      <td>5</td>\n",
       "      <td>555</td>\n",
       "      <td>Champions</td>\n",
       "    </tr>\n",
       "    <tr>\n",
       "      <th>4</th>\n",
       "      <td>545A66B2E91CC776FCCDF285DE690FB3</td>\n",
       "      <td>0</td>\n",
       "      <td>201</td>\n",
       "      <td>196780.88</td>\n",
       "      <td>5</td>\n",
       "      <td>5</td>\n",
       "      <td>5</td>\n",
       "      <td>555</td>\n",
       "      <td>Champions</td>\n",
       "    </tr>\n",
       "  </tbody>\n",
       "</table>\n",
       "</div>"
      ],
      "text/plain": [
       "                        customer_id  recency  frequency  monetary_value  r  f  \\\n",
       "0  13A873ECF427403915BB58EEF5A0D35B        0        512      1402853.97  5  5   \n",
       "1  42E548AE6B3D1A06DA03AADE06F3320D        0        274       226011.60  5  5   \n",
       "2  05347FF04C750066BCDA337B4FB3BA71        0        180       256207.90  5  5   \n",
       "3  0BEE43A4B9A92C7899073DEA8FD8C7E2        0        273       157289.96  5  5   \n",
       "4  545A66B2E91CC776FCCDF285DE690FB3        0        201       196780.88  5  5   \n",
       "\n",
       "   m rfm_score    segment  \n",
       "0  5       555  Champions  \n",
       "1  5       555  Champions  \n",
       "2  5       555  Champions  \n",
       "3  5       555  Champions  \n",
       "4  5       555  Champions  "
      ]
     },
     "execution_count": 8,
     "metadata": {},
     "output_type": "execute_result"
    }
   ],
   "source": [
    "df_clients_rfm.head(5)"
   ]
  },
  {
   "cell_type": "code",
   "execution_count": 9,
   "metadata": {},
   "outputs": [
    {
     "data": {
      "text/html": [
       "<div>\n",
       "<style scoped>\n",
       "    .dataframe tbody tr th:only-of-type {\n",
       "        vertical-align: middle;\n",
       "    }\n",
       "\n",
       "    .dataframe tbody tr th {\n",
       "        vertical-align: top;\n",
       "    }\n",
       "\n",
       "    .dataframe thead tr th {\n",
       "        text-align: left;\n",
       "    }\n",
       "</style>\n",
       "<table border=\"1\" class=\"dataframe\">\n",
       "  <thead>\n",
       "    <tr>\n",
       "      <th></th>\n",
       "      <th>f</th>\n",
       "      <th colspan=\"5\" halign=\"left\">customer_id</th>\n",
       "    </tr>\n",
       "    <tr>\n",
       "      <th>r</th>\n",
       "      <th></th>\n",
       "      <th>1</th>\n",
       "      <th>2</th>\n",
       "      <th>3</th>\n",
       "      <th>4</th>\n",
       "      <th>5</th>\n",
       "    </tr>\n",
       "  </thead>\n",
       "  <tbody>\n",
       "    <tr>\n",
       "      <th>0</th>\n",
       "      <td>1</td>\n",
       "      <td>542</td>\n",
       "      <td>220</td>\n",
       "      <td>126</td>\n",
       "      <td>100</td>\n",
       "      <td>86</td>\n",
       "    </tr>\n",
       "    <tr>\n",
       "      <th>1</th>\n",
       "      <td>2</td>\n",
       "      <td>242</td>\n",
       "      <td>280</td>\n",
       "      <td>200</td>\n",
       "      <td>179</td>\n",
       "      <td>173</td>\n",
       "    </tr>\n",
       "    <tr>\n",
       "      <th>2</th>\n",
       "      <td>3</td>\n",
       "      <td>152</td>\n",
       "      <td>255</td>\n",
       "      <td>231</td>\n",
       "      <td>199</td>\n",
       "      <td>237</td>\n",
       "    </tr>\n",
       "    <tr>\n",
       "      <th>3</th>\n",
       "      <td>4</td>\n",
       "      <td>89</td>\n",
       "      <td>204</td>\n",
       "      <td>247</td>\n",
       "      <td>261</td>\n",
       "      <td>273</td>\n",
       "    </tr>\n",
       "    <tr>\n",
       "      <th>4</th>\n",
       "      <td>5</td>\n",
       "      <td>49</td>\n",
       "      <td>115</td>\n",
       "      <td>270</td>\n",
       "      <td>335</td>\n",
       "      <td>305</td>\n",
       "    </tr>\n",
       "  </tbody>\n",
       "</table>\n",
       "</div>"
      ],
      "text/plain": [
       "   f customer_id                    \n",
       "r              1    2    3    4    5\n",
       "0  1         542  220  126  100   86\n",
       "1  2         242  280  200  179  173\n",
       "2  3         152  255  231  199  237\n",
       "3  4          89  204  247  261  273\n",
       "4  5          49  115  270  335  305"
      ]
     },
     "execution_count": 9,
     "metadata": {},
     "output_type": "execute_result"
    }
   ],
   "source": [
    "df_clients_rfm.pivot_table(columns=['r'],index=['f'], values = ['customer_id'], aggfunc= 'count',fill_value=0).reset_index()"
   ]
  },
  {
   "cell_type": "code",
   "execution_count": 10,
   "metadata": {},
   "outputs": [],
   "source": [
    "df_clients = df_clients[['customer_id','region_name','sex','birth_date']].merge(df_clients_rfm[['r','f','m','rfm_score']], left_index=True, right_index=True)\n"
   ]
  },
  {
   "cell_type": "code",
   "execution_count": 11,
   "metadata": {},
   "outputs": [],
   "source": [
    "#Меняем тип даты рождения в датафрейме  \n",
    "df_clients['birth_date'] = pd.to_datetime(df_clients['birth_date'], errors='coerce')"
   ]
  },
  {
   "cell_type": "code",
   "execution_count": 12,
   "metadata": {},
   "outputs": [
    {
     "data": {
      "text/plain": [
       "customer_id            object\n",
       "region_name            object\n",
       "sex                    object\n",
       "birth_date     datetime64[ns]\n",
       "r                       int64\n",
       "f                       int64\n",
       "m                       int64\n",
       "rfm_score              object\n",
       "dtype: object"
      ]
     },
     "execution_count": 12,
     "metadata": {},
     "output_type": "execute_result"
    }
   ],
   "source": [
    "df_clients.dtypes"
   ]
  },
  {
   "cell_type": "code",
   "execution_count": 13,
   "metadata": {},
   "outputs": [],
   "source": [
    "df_clients['birth_date_bin'] = pd.cut(df_clients['birth_date'], bins=5, labels=False) + 1"
   ]
  },
  {
   "cell_type": "code",
   "execution_count": 14,
   "metadata": {},
   "outputs": [],
   "source": [
    "#Заполяем бины для тех кто у кого нет даты рождения нулями \n",
    "df_clients.loc[df_clients['birth_date_bin'].isnull(),'birth_date_bin'] = 0"
   ]
  },
  {
   "cell_type": "code",
   "execution_count": 15,
   "metadata": {},
   "outputs": [
    {
     "data": {
      "text/plain": [
       "array([1., 5., 4., 0., 2., 3.])"
      ]
     },
     "execution_count": 15,
     "metadata": {},
     "output_type": "execute_result"
    }
   ],
   "source": [
    "df_clients['birth_date_bin'].unique()"
   ]
  },
  {
   "cell_type": "code",
   "execution_count": 22,
   "metadata": {},
   "outputs": [
    {
     "data": {
      "text/plain": [
       "array(['Москва', 'Сахалинская область', 'Самарская область',\n",
       "       'Республика Башкортостан', 'Челябинская область', nan,\n",
       "       'Республика Саха (Якутия)', 'Санкт-Петербург', 'Омская область',\n",
       "       'Красноярский край', 'Приморский край', 'Ростовская область',\n",
       "       'Кировская область', 'Липецкая область', 'Оренбургская область',\n",
       "       'Хабаровский край', 'Республика Татарстан', 'Владимирская область',\n",
       "       'Нижегородская область', 'Саратовская область', 'Республика Тыва',\n",
       "       'Пензенская область', 'Республика Хакасия', 'Тамбовская область',\n",
       "       'Амурская область', 'Республика Карелия', 'Новосибирская область',\n",
       "       'Ярославская область', 'Белгородская область',\n",
       "       'Еврейская автономная область', 'Алтайский край',\n",
       "       'Курская область', 'Брянская область', 'Калужская область',\n",
       "       'Удмуртская Республика', 'Ставропольский край',\n",
       "       'Московская область', 'Томская область', 'Краснодарский край',\n",
       "       'Камчатский край', 'Тюменская область', 'Свердловская область',\n",
       "       'Пермский край', 'Тульская область', 'Республика Бурятия',\n",
       "       'Мурманская область', 'Курганская область', 'Ивановская область',\n",
       "       'Калининградская область', 'Кемеровская область',\n",
       "       'Астраханская область', 'Забайкальский край',\n",
       "       'Чувашская Республика', 'Воронежская область',\n",
       "       'Волгоградская область', 'Республика Калмыкия',\n",
       "       'Костромская область', 'Ульяновская область', 'Псковская область',\n",
       "       'Республика Коми', 'Вологодская область', 'Архангельская область',\n",
       "       'Республика Марий Эл', 'Смоленская область', 'Иркутская область',\n",
       "       'Новгородская область', 'Рязанская область', 'Орловская область',\n",
       "       'Тверская область'], dtype=object)"
      ]
     },
     "execution_count": 22,
     "metadata": {},
     "output_type": "execute_result"
    }
   ],
   "source": [
    "df_clients['region_name'].unique()"
   ]
  },
  {
   "cell_type": "code",
   "execution_count": 21,
   "metadata": {},
   "outputs": [
    {
     "ename": "ValueError",
     "evalue": "Input contains NaN",
     "output_type": "error",
     "traceback": [
      "\u001b[1;31m---------------------------------------------------------------------------\u001b[0m",
      "\u001b[1;31mValueError\u001b[0m                                Traceback (most recent call last)",
      "\u001b[1;32mc:\\Users\\ivan\\Documents\\GitHub\\Data-Engineering-Practice\\21 Test task\\2 Task.ipynb Ячейка 19\u001b[0m in \u001b[0;36m<cell line: 1>\u001b[1;34m()\u001b[0m\n\u001b[1;32m----> <a href='vscode-notebook-cell:/c%3A/Users/ivan/Documents/GitHub/Data-Engineering-Practice/21%20Test%20task/2%20Task.ipynb#ch0000018?line=0'>1</a>\u001b[0m A_group, B_group\u001b[39m=\u001b[39m train_test_split(df_clients, test_size\u001b[39m=\u001b[39;49m\u001b[39m0.5\u001b[39;49m, stratify \u001b[39m=\u001b[39;49m df_clients[[\u001b[39m'\u001b[39;49m\u001b[39mr\u001b[39;49m\u001b[39m'\u001b[39;49m,\u001b[39m'\u001b[39;49m\u001b[39mregion_name\u001b[39;49m\u001b[39m'\u001b[39;49m]])\n",
      "File \u001b[1;32mc:\\Users\\ivan\\AppData\\Local\\Programs\\Python\\Python310\\lib\\site-packages\\sklearn\\model_selection\\_split.py:2454\u001b[0m, in \u001b[0;36mtrain_test_split\u001b[1;34m(test_size, train_size, random_state, shuffle, stratify, *arrays)\u001b[0m\n\u001b[0;32m   2450\u001b[0m         CVClass \u001b[39m=\u001b[39m ShuffleSplit\n\u001b[0;32m   2452\u001b[0m     cv \u001b[39m=\u001b[39m CVClass(test_size\u001b[39m=\u001b[39mn_test, train_size\u001b[39m=\u001b[39mn_train, random_state\u001b[39m=\u001b[39mrandom_state)\n\u001b[1;32m-> 2454\u001b[0m     train, test \u001b[39m=\u001b[39m \u001b[39mnext\u001b[39m(cv\u001b[39m.\u001b[39;49msplit(X\u001b[39m=\u001b[39;49marrays[\u001b[39m0\u001b[39;49m], y\u001b[39m=\u001b[39;49mstratify))\n\u001b[0;32m   2456\u001b[0m \u001b[39mreturn\u001b[39;00m \u001b[39mlist\u001b[39m(\n\u001b[0;32m   2457\u001b[0m     chain\u001b[39m.\u001b[39mfrom_iterable(\n\u001b[0;32m   2458\u001b[0m         (_safe_indexing(a, train), _safe_indexing(a, test)) \u001b[39mfor\u001b[39;00m a \u001b[39min\u001b[39;00m arrays\n\u001b[0;32m   2459\u001b[0m     )\n\u001b[0;32m   2460\u001b[0m )\n",
      "File \u001b[1;32mc:\\Users\\ivan\\AppData\\Local\\Programs\\Python\\Python310\\lib\\site-packages\\sklearn\\model_selection\\_split.py:2035\u001b[0m, in \u001b[0;36mStratifiedShuffleSplit.split\u001b[1;34m(self, X, y, groups)\u001b[0m\n\u001b[0;32m   2001\u001b[0m \u001b[39mdef\u001b[39;00m \u001b[39msplit\u001b[39m(\u001b[39mself\u001b[39m, X, y, groups\u001b[39m=\u001b[39m\u001b[39mNone\u001b[39;00m):\n\u001b[0;32m   2002\u001b[0m     \u001b[39m\"\"\"Generate indices to split data into training and test set.\u001b[39;00m\n\u001b[0;32m   2003\u001b[0m \n\u001b[0;32m   2004\u001b[0m \u001b[39m    Parameters\u001b[39;00m\n\u001b[1;32m   (...)\u001b[0m\n\u001b[0;32m   2033\u001b[0m \u001b[39m    to an integer.\u001b[39;00m\n\u001b[0;32m   2034\u001b[0m \u001b[39m    \"\"\"\u001b[39;00m\n\u001b[1;32m-> 2035\u001b[0m     y \u001b[39m=\u001b[39m check_array(y, input_name\u001b[39m=\u001b[39;49m\u001b[39m\"\u001b[39;49m\u001b[39my\u001b[39;49m\u001b[39m\"\u001b[39;49m, ensure_2d\u001b[39m=\u001b[39;49m\u001b[39mFalse\u001b[39;49;00m, dtype\u001b[39m=\u001b[39;49m\u001b[39mNone\u001b[39;49;00m)\n\u001b[0;32m   2036\u001b[0m     \u001b[39mreturn\u001b[39;00m \u001b[39msuper\u001b[39m()\u001b[39m.\u001b[39msplit(X, y, groups)\n",
      "File \u001b[1;32mc:\\Users\\ivan\\AppData\\Local\\Programs\\Python\\Python310\\lib\\site-packages\\sklearn\\utils\\validation.py:899\u001b[0m, in \u001b[0;36mcheck_array\u001b[1;34m(array, accept_sparse, accept_large_sparse, dtype, order, copy, force_all_finite, ensure_2d, allow_nd, ensure_min_samples, ensure_min_features, estimator, input_name)\u001b[0m\n\u001b[0;32m    893\u001b[0m         \u001b[39mraise\u001b[39;00m \u001b[39mValueError\u001b[39;00m(\n\u001b[0;32m    894\u001b[0m             \u001b[39m\"\u001b[39m\u001b[39mFound array with dim \u001b[39m\u001b[39m%d\u001b[39;00m\u001b[39m. \u001b[39m\u001b[39m%s\u001b[39;00m\u001b[39m expected <= 2.\u001b[39m\u001b[39m\"\u001b[39m\n\u001b[0;32m    895\u001b[0m             \u001b[39m%\u001b[39m (array\u001b[39m.\u001b[39mndim, estimator_name)\n\u001b[0;32m    896\u001b[0m         )\n\u001b[0;32m    898\u001b[0m     \u001b[39mif\u001b[39;00m force_all_finite:\n\u001b[1;32m--> 899\u001b[0m         _assert_all_finite(\n\u001b[0;32m    900\u001b[0m             array,\n\u001b[0;32m    901\u001b[0m             input_name\u001b[39m=\u001b[39;49minput_name,\n\u001b[0;32m    902\u001b[0m             estimator_name\u001b[39m=\u001b[39;49mestimator_name,\n\u001b[0;32m    903\u001b[0m             allow_nan\u001b[39m=\u001b[39;49mforce_all_finite \u001b[39m==\u001b[39;49m \u001b[39m\"\u001b[39;49m\u001b[39mallow-nan\u001b[39;49m\u001b[39m\"\u001b[39;49m,\n\u001b[0;32m    904\u001b[0m         )\n\u001b[0;32m    906\u001b[0m \u001b[39mif\u001b[39;00m ensure_min_samples \u001b[39m>\u001b[39m \u001b[39m0\u001b[39m:\n\u001b[0;32m    907\u001b[0m     n_samples \u001b[39m=\u001b[39m _num_samples(array)\n",
      "File \u001b[1;32mc:\\Users\\ivan\\AppData\\Local\\Programs\\Python\\Python310\\lib\\site-packages\\sklearn\\utils\\validation.py:151\u001b[0m, in \u001b[0;36m_assert_all_finite\u001b[1;34m(X, allow_nan, msg_dtype, estimator_name, input_name)\u001b[0m\n\u001b[0;32m    149\u001b[0m \u001b[39melif\u001b[39;00m X\u001b[39m.\u001b[39mdtype \u001b[39m==\u001b[39m np\u001b[39m.\u001b[39mdtype(\u001b[39m\"\u001b[39m\u001b[39mobject\u001b[39m\u001b[39m\"\u001b[39m) \u001b[39mand\u001b[39;00m \u001b[39mnot\u001b[39;00m allow_nan:\n\u001b[0;32m    150\u001b[0m     \u001b[39mif\u001b[39;00m _object_dtype_isnan(X)\u001b[39m.\u001b[39many():\n\u001b[1;32m--> 151\u001b[0m         \u001b[39mraise\u001b[39;00m \u001b[39mValueError\u001b[39;00m(\u001b[39m\"\u001b[39m\u001b[39mInput contains NaN\u001b[39m\u001b[39m\"\u001b[39m)\n",
      "\u001b[1;31mValueError\u001b[0m: Input contains NaN"
     ]
    }
   ],
   "source": [
    "A_group, B_group= train_test_split(df_clients, test_size=0.5, stratify = df_clients[['r','region_name']])"
   ]
  },
  {
   "cell_type": "code",
   "execution_count": 31,
   "metadata": {},
   "outputs": [
    {
     "data": {
      "text/plain": [
       "537"
      ]
     },
     "execution_count": 31,
     "metadata": {},
     "output_type": "execute_result"
    }
   ],
   "source": [
    "A_group[A_group['r']==2].shape[0]"
   ]
  },
  {
   "cell_type": "code",
   "execution_count": 33,
   "metadata": {},
   "outputs": [
    {
     "data": {
      "text/plain": [
       "537"
      ]
     },
     "execution_count": 33,
     "metadata": {},
     "output_type": "execute_result"
    }
   ],
   "source": [
    "B_group[B_group['r']==2].shape[0]"
   ]
  },
  {
   "cell_type": "code",
   "execution_count": 35,
   "metadata": {},
   "outputs": [
    {
     "data": {
      "text/plain": [
       "2685"
      ]
     },
     "execution_count": 35,
     "metadata": {},
     "output_type": "execute_result"
    }
   ],
   "source": [
    "B_group.shape[0]"
   ]
  }
 ],
 "metadata": {
  "kernelspec": {
   "display_name": "Python 3.10.5 64-bit",
   "language": "python",
   "name": "python3"
  },
  "language_info": {
   "codemirror_mode": {
    "name": "ipython",
    "version": 3
   },
   "file_extension": ".py",
   "mimetype": "text/x-python",
   "name": "python",
   "nbconvert_exporter": "python",
   "pygments_lexer": "ipython3",
   "version": "3.10.5"
  },
  "orig_nbformat": 4,
  "vscode": {
   "interpreter": {
    "hash": "d14802a80fda041396e29d0ef764e9db1b52be87434e2145de2ac9afbbaeae6f"
   }
  }
 },
 "nbformat": 4,
 "nbformat_minor": 2
}

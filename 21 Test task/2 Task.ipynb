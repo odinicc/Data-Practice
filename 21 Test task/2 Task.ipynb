{
 "cells": [
  {
   "cell_type": "code",
   "execution_count": 1,
   "metadata": {},
   "outputs": [],
   "source": [
    "import pandas as pd\n",
    "import numpy as np\n",
    "from rfm import RFM\n",
    "from sklearn.model_selection import train_test_split\n",
    "import scipy.integrate\n",
    "import scipy.special"
   ]
  },
  {
   "cell_type": "markdown",
   "metadata": {},
   "source": [
    "Загружаем файлы с транзакциями и клиентами"
   ]
  },
  {
   "cell_type": "code",
   "execution_count": 2,
   "metadata": {},
   "outputs": [],
   "source": [
    "df_clients = pd.read_csv(\"./clients_small.csv\", sep=';')\n",
    "df_transactions = pd.read_csv(\"./transactions_small.csv\", sep=';')\n"
   ]
  },
  {
   "cell_type": "markdown",
   "metadata": {},
   "source": [
    "Общий план: \n",
    "1. Проводим RFM - сегментацию\n",
    "2. Приводим в порядок возраст клиентов \n",
    "3. Приводим в порядок пол клиентов\n",
    "4. Смотрим корреляцию и выделяем параметры которые сильнее всего коррелируют с частотой \n",
    "5. Пробуем разные разбиение по бинам и смотрим средне по дисперсии по всем бинам при разым разбиениям \n",
    "6. Для лучшего разбиения по бинам запускаем стратификацию и смотрит на Kolmogorov–Smirnov test"
   ]
  },
  {
   "cell_type": "code",
   "execution_count": 3,
   "metadata": {},
   "outputs": [
    {
     "data": {
      "text/html": [
       "<div>\n",
       "<style scoped>\n",
       "    .dataframe tbody tr th:only-of-type {\n",
       "        vertical-align: middle;\n",
       "    }\n",
       "\n",
       "    .dataframe tbody tr th {\n",
       "        vertical-align: top;\n",
       "    }\n",
       "\n",
       "    .dataframe thead th {\n",
       "        text-align: right;\n",
       "    }\n",
       "</style>\n",
       "<table border=\"1\" class=\"dataframe\">\n",
       "  <thead>\n",
       "    <tr style=\"text-align: right;\">\n",
       "      <th></th>\n",
       "      <th>customer_id</th>\n",
       "      <th>card_id</th>\n",
       "      <th>region_name</th>\n",
       "      <th>sex</th>\n",
       "      <th>birth_date</th>\n",
       "    </tr>\n",
       "  </thead>\n",
       "  <tbody>\n",
       "    <tr>\n",
       "      <th>0</th>\n",
       "      <td>02F4DB34C5696A668068CA3C1DE7C2D5</td>\n",
       "      <td>6600B4FDA036A6F00D464541EAD3B21F</td>\n",
       "      <td>Москва</td>\n",
       "      <td>F</td>\n",
       "      <td>1938-08-18</td>\n",
       "    </tr>\n",
       "    <tr>\n",
       "      <th>1</th>\n",
       "      <td>0308713D02D676920F2961E2A84B4516</td>\n",
       "      <td>1FB9344B8661069910D184EF19C448C7</td>\n",
       "      <td>Сахалинская область</td>\n",
       "      <td>F</td>\n",
       "      <td>1990-03-26</td>\n",
       "    </tr>\n",
       "    <tr>\n",
       "      <th>2</th>\n",
       "      <td>032672FDC2CF85213079F83E447AF75B</td>\n",
       "      <td>4C8AD60064AF412753EB54EAFCD8C59D</td>\n",
       "      <td>Самарская область</td>\n",
       "      <td>F</td>\n",
       "      <td>1989-01-13</td>\n",
       "    </tr>\n",
       "  </tbody>\n",
       "</table>\n",
       "</div>"
      ],
      "text/plain": [
       "                        customer_id                           card_id  \\\n",
       "0  02F4DB34C5696A668068CA3C1DE7C2D5  6600B4FDA036A6F00D464541EAD3B21F   \n",
       "1  0308713D02D676920F2961E2A84B4516  1FB9344B8661069910D184EF19C448C7   \n",
       "2  032672FDC2CF85213079F83E447AF75B  4C8AD60064AF412753EB54EAFCD8C59D   \n",
       "\n",
       "           region_name sex  birth_date  \n",
       "0               Москва   F  1938-08-18  \n",
       "1  Сахалинская область   F  1990-03-26  \n",
       "2    Самарская область   F  1989-01-13  "
      ]
     },
     "execution_count": 3,
     "metadata": {},
     "output_type": "execute_result"
    }
   ],
   "source": [
    "df_clients.head(3)"
   ]
  },
  {
   "cell_type": "code",
   "execution_count": 4,
   "metadata": {},
   "outputs": [
    {
     "data": {
      "text/html": [
       "<div>\n",
       "<style scoped>\n",
       "    .dataframe tbody tr th:only-of-type {\n",
       "        vertical-align: middle;\n",
       "    }\n",
       "\n",
       "    .dataframe tbody tr th {\n",
       "        vertical-align: top;\n",
       "    }\n",
       "\n",
       "    .dataframe thead th {\n",
       "        text-align: right;\n",
       "    }\n",
       "</style>\n",
       "<table border=\"1\" class=\"dataframe\">\n",
       "  <thead>\n",
       "    <tr style=\"text-align: right;\">\n",
       "      <th></th>\n",
       "      <th>customer_id</th>\n",
       "      <th>card_id</th>\n",
       "      <th>tr_datetime</th>\n",
       "      <th>tr_normalized_amount</th>\n",
       "      <th>currency</th>\n",
       "      <th>mcc</th>\n",
       "      <th>merchant_name</th>\n",
       "      <th>merchant_city</th>\n",
       "    </tr>\n",
       "  </thead>\n",
       "  <tbody>\n",
       "    <tr>\n",
       "      <th>0</th>\n",
       "      <td>634E7564849D27B3C452229E405629A6</td>\n",
       "      <td>52CD1B87531555F5611C663562FC686D</td>\n",
       "      <td>2019-09-07</td>\n",
       "      <td>10.00</td>\n",
       "      <td>810</td>\n",
       "      <td>5999</td>\n",
       "      <td>i-bank ┴шыaщэ         &gt;moscow         ru</td>\n",
       "      <td>moscow</td>\n",
       "    </tr>\n",
       "    <tr>\n",
       "      <th>1</th>\n",
       "      <td>B20A638E7EB926C63102144596F38C71</td>\n",
       "      <td>9D4F087597B65028953FBE8A8FBF48DE</td>\n",
       "      <td>2019-09-20</td>\n",
       "      <td>313.04</td>\n",
       "      <td>810</td>\n",
       "      <td>5411</td>\n",
       "      <td>dixy                      moskva      ru</td>\n",
       "      <td>moscow</td>\n",
       "    </tr>\n",
       "    <tr>\n",
       "      <th>2</th>\n",
       "      <td>125EBE0A38873D4888408F85877282EF</td>\n",
       "      <td>B8859E8DB421C73B785521A6252A36CB</td>\n",
       "      <td>2019-09-23</td>\n",
       "      <td>250.00</td>\n",
       "      <td>810</td>\n",
       "      <td>5999</td>\n",
       "      <td>i-bank teыe 2         &gt;moscow         ru</td>\n",
       "      <td>moscow</td>\n",
       "    </tr>\n",
       "  </tbody>\n",
       "</table>\n",
       "</div>"
      ],
      "text/plain": [
       "                        customer_id                           card_id  \\\n",
       "0  634E7564849D27B3C452229E405629A6  52CD1B87531555F5611C663562FC686D   \n",
       "1  B20A638E7EB926C63102144596F38C71  9D4F087597B65028953FBE8A8FBF48DE   \n",
       "2  125EBE0A38873D4888408F85877282EF  B8859E8DB421C73B785521A6252A36CB   \n",
       "\n",
       "  tr_datetime  tr_normalized_amount  currency   mcc  \\\n",
       "0  2019-09-07                 10.00       810  5999   \n",
       "1  2019-09-20                313.04       810  5411   \n",
       "2  2019-09-23                250.00       810  5999   \n",
       "\n",
       "                              merchant_name merchant_city  \n",
       "0  i-bank ┴шыaщэ         >moscow         ru        moscow  \n",
       "1  dixy                      moskva      ru        moscow  \n",
       "2  i-bank teыe 2         >moscow         ru        moscow  "
      ]
     },
     "execution_count": 4,
     "metadata": {},
     "output_type": "execute_result"
    }
   ],
   "source": [
    "df_transactions.head(3)"
   ]
  },
  {
   "cell_type": "markdown",
   "metadata": {},
   "source": [
    "1. Проводим RFM - сегментацию"
   ]
  },
  {
   "cell_type": "code",
   "execution_count": 5,
   "metadata": {},
   "outputs": [],
   "source": [
    "r = RFM(df_transactions, customer_id='customer_id', transaction_date='tr_datetime', amount='tr_normalized_amount')"
   ]
  },
  {
   "cell_type": "code",
   "execution_count": 6,
   "metadata": {},
   "outputs": [],
   "source": [
    "df_transactions['tr_datetime'] = pd.to_datetime(df_transactions['tr_datetime'])"
   ]
  },
  {
   "cell_type": "code",
   "execution_count": 7,
   "metadata": {},
   "outputs": [],
   "source": [
    "df_clients_rfm = r.rfm_table"
   ]
  },
  {
   "cell_type": "code",
   "execution_count": 8,
   "metadata": {},
   "outputs": [
    {
     "data": {
      "text/plain": [
       "1"
      ]
     },
     "execution_count": 8,
     "metadata": {},
     "output_type": "execute_result"
    }
   ],
   "source": [
    "df_clients_rfm[df_clients_rfm['recency'] == 90].shape[0]"
   ]
  },
  {
   "cell_type": "code",
   "execution_count": 9,
   "metadata": {},
   "outputs": [
    {
     "data": {
      "text/html": [
       "<div>\n",
       "<style scoped>\n",
       "    .dataframe tbody tr th:only-of-type {\n",
       "        vertical-align: middle;\n",
       "    }\n",
       "\n",
       "    .dataframe tbody tr th {\n",
       "        vertical-align: top;\n",
       "    }\n",
       "\n",
       "    .dataframe thead tr th {\n",
       "        text-align: left;\n",
       "    }\n",
       "</style>\n",
       "<table border=\"1\" class=\"dataframe\">\n",
       "  <thead>\n",
       "    <tr>\n",
       "      <th></th>\n",
       "      <th>f</th>\n",
       "      <th colspan=\"5\" halign=\"left\">customer_id</th>\n",
       "    </tr>\n",
       "    <tr>\n",
       "      <th>r</th>\n",
       "      <th></th>\n",
       "      <th>1</th>\n",
       "      <th>2</th>\n",
       "      <th>3</th>\n",
       "      <th>4</th>\n",
       "      <th>5</th>\n",
       "    </tr>\n",
       "  </thead>\n",
       "  <tbody>\n",
       "    <tr>\n",
       "      <th>0</th>\n",
       "      <td>1</td>\n",
       "      <td>542</td>\n",
       "      <td>220</td>\n",
       "      <td>126</td>\n",
       "      <td>100</td>\n",
       "      <td>86</td>\n",
       "    </tr>\n",
       "    <tr>\n",
       "      <th>1</th>\n",
       "      <td>2</td>\n",
       "      <td>242</td>\n",
       "      <td>280</td>\n",
       "      <td>200</td>\n",
       "      <td>179</td>\n",
       "      <td>173</td>\n",
       "    </tr>\n",
       "    <tr>\n",
       "      <th>2</th>\n",
       "      <td>3</td>\n",
       "      <td>152</td>\n",
       "      <td>255</td>\n",
       "      <td>231</td>\n",
       "      <td>199</td>\n",
       "      <td>237</td>\n",
       "    </tr>\n",
       "    <tr>\n",
       "      <th>3</th>\n",
       "      <td>4</td>\n",
       "      <td>89</td>\n",
       "      <td>204</td>\n",
       "      <td>247</td>\n",
       "      <td>261</td>\n",
       "      <td>273</td>\n",
       "    </tr>\n",
       "    <tr>\n",
       "      <th>4</th>\n",
       "      <td>5</td>\n",
       "      <td>49</td>\n",
       "      <td>115</td>\n",
       "      <td>270</td>\n",
       "      <td>335</td>\n",
       "      <td>305</td>\n",
       "    </tr>\n",
       "  </tbody>\n",
       "</table>\n",
       "</div>"
      ],
      "text/plain": [
       "   f customer_id                    \n",
       "r              1    2    3    4    5\n",
       "0  1         542  220  126  100   86\n",
       "1  2         242  280  200  179  173\n",
       "2  3         152  255  231  199  237\n",
       "3  4          89  204  247  261  273\n",
       "4  5          49  115  270  335  305"
      ]
     },
     "execution_count": 9,
     "metadata": {},
     "output_type": "execute_result"
    }
   ],
   "source": [
    "df_clients_rfm.pivot_table(columns=['r'],index=['f'], values = ['customer_id'], aggfunc= 'count',fill_value=0).reset_index()"
   ]
  },
  {
   "cell_type": "code",
   "execution_count": 10,
   "metadata": {},
   "outputs": [],
   "source": [
    "df_clients = df_clients[['customer_id','region_name','sex','birth_date']].merge(df_clients_rfm[['r','f','m','frequency']], left_index=True, right_index=True)\n"
   ]
  },
  {
   "cell_type": "markdown",
   "metadata": {},
   "source": [
    "2. Приводим в порядок возраст клиентов "
   ]
  },
  {
   "cell_type": "code",
   "execution_count": 11,
   "metadata": {},
   "outputs": [],
   "source": [
    "#Меняем тип даты рождения в датафрейме  \n",
    "df_clients['birth_date'] = pd.to_datetime(df_clients['birth_date'], errors='coerce')"
   ]
  },
  {
   "cell_type": "code",
   "execution_count": 12,
   "metadata": {},
   "outputs": [],
   "source": [
    "#Разбиываем даты рождения на бины \n",
    "df_clients['birth_date_bin'] = pd.cut(df_clients['birth_date'], bins=5, labels=False) + 1"
   ]
  },
  {
   "cell_type": "code",
   "execution_count": 13,
   "metadata": {},
   "outputs": [],
   "source": [
    "#Заполяем бины для тех кто у кого нет даты рождения нулями \n",
    "df_clients.loc[df_clients['birth_date_bin'].isnull(),'birth_date_bin'] = 0"
   ]
  },
  {
   "cell_type": "code",
   "execution_count": 14,
   "metadata": {},
   "outputs": [],
   "source": [
    "#Приводим значения бинов к типу int \n",
    "df_clients['birth_date_bin'] = df_clients['birth_date_bin'].astype(int)"
   ]
  },
  {
   "cell_type": "markdown",
   "metadata": {},
   "source": [
    "3. Приводим в порядок пол клиентов"
   ]
  },
  {
   "cell_type": "code",
   "execution_count": 15,
   "metadata": {},
   "outputs": [
    {
     "data": {
      "text/plain": [
       "131"
      ]
     },
     "execution_count": 15,
     "metadata": {},
     "output_type": "execute_result"
    }
   ],
   "source": [
    "#Ищем есть ли клиенты с незаполненным полом \n",
    "df_clients[df_clients['sex'].isna()].shape[0]"
   ]
  },
  {
   "cell_type": "code",
   "execution_count": 16,
   "metadata": {},
   "outputs": [],
   "source": [
    "#Заполняем нулями незаполненный пол \n",
    "df_clients['sex'] = df_clients['sex'].fillna(0)"
   ]
  },
  {
   "cell_type": "code",
   "execution_count": 17,
   "metadata": {},
   "outputs": [],
   "source": [
    "#Заполняем -1 и 1 женский и мужской пол\n",
    "df_clients['sex'] = df_clients['sex'].replace({ 'F' : -1, 'M' : 1})"
   ]
  },
  {
   "cell_type": "markdown",
   "metadata": {},
   "source": [
    "4. Смотрим корреляцию и выделяем параметры которые сильнее всего коррелируют с частотой "
   ]
  },
  {
   "cell_type": "code",
   "execution_count": 18,
   "metadata": {},
   "outputs": [
    {
     "data": {
      "text/html": [
       "<div>\n",
       "<style scoped>\n",
       "    .dataframe tbody tr th:only-of-type {\n",
       "        vertical-align: middle;\n",
       "    }\n",
       "\n",
       "    .dataframe tbody tr th {\n",
       "        vertical-align: top;\n",
       "    }\n",
       "\n",
       "    .dataframe thead th {\n",
       "        text-align: right;\n",
       "    }\n",
       "</style>\n",
       "<table border=\"1\" class=\"dataframe\">\n",
       "  <thead>\n",
       "    <tr style=\"text-align: right;\">\n",
       "      <th></th>\n",
       "      <th>sex</th>\n",
       "      <th>r</th>\n",
       "      <th>f</th>\n",
       "      <th>m</th>\n",
       "      <th>frequency</th>\n",
       "      <th>birth_date_bin</th>\n",
       "    </tr>\n",
       "  </thead>\n",
       "  <tbody>\n",
       "    <tr>\n",
       "      <th>sex</th>\n",
       "      <td>1.000000</td>\n",
       "      <td>-0.024664</td>\n",
       "      <td>-0.001333</td>\n",
       "      <td>-0.010932</td>\n",
       "      <td>-0.001138</td>\n",
       "      <td>0.005436</td>\n",
       "    </tr>\n",
       "    <tr>\n",
       "      <th>r</th>\n",
       "      <td>-0.024664</td>\n",
       "      <td>1.000000</td>\n",
       "      <td>0.390317</td>\n",
       "      <td>0.289479</td>\n",
       "      <td>0.364000</td>\n",
       "      <td>-0.012040</td>\n",
       "    </tr>\n",
       "    <tr>\n",
       "      <th>f</th>\n",
       "      <td>-0.001333</td>\n",
       "      <td>0.390317</td>\n",
       "      <td>1.000000</td>\n",
       "      <td>0.668715</td>\n",
       "      <td>0.866190</td>\n",
       "      <td>-0.023198</td>\n",
       "    </tr>\n",
       "    <tr>\n",
       "      <th>m</th>\n",
       "      <td>-0.010932</td>\n",
       "      <td>0.289479</td>\n",
       "      <td>0.668715</td>\n",
       "      <td>1.000000</td>\n",
       "      <td>0.629928</td>\n",
       "      <td>-0.030099</td>\n",
       "    </tr>\n",
       "    <tr>\n",
       "      <th>frequency</th>\n",
       "      <td>-0.001138</td>\n",
       "      <td>0.364000</td>\n",
       "      <td>0.866190</td>\n",
       "      <td>0.629928</td>\n",
       "      <td>1.000000</td>\n",
       "      <td>-0.033979</td>\n",
       "    </tr>\n",
       "    <tr>\n",
       "      <th>birth_date_bin</th>\n",
       "      <td>0.005436</td>\n",
       "      <td>-0.012040</td>\n",
       "      <td>-0.023198</td>\n",
       "      <td>-0.030099</td>\n",
       "      <td>-0.033979</td>\n",
       "      <td>1.000000</td>\n",
       "    </tr>\n",
       "  </tbody>\n",
       "</table>\n",
       "</div>"
      ],
      "text/plain": [
       "                     sex         r         f         m  frequency  \\\n",
       "sex             1.000000 -0.024664 -0.001333 -0.010932  -0.001138   \n",
       "r              -0.024664  1.000000  0.390317  0.289479   0.364000   \n",
       "f              -0.001333  0.390317  1.000000  0.668715   0.866190   \n",
       "m              -0.010932  0.289479  0.668715  1.000000   0.629928   \n",
       "frequency      -0.001138  0.364000  0.866190  0.629928   1.000000   \n",
       "birth_date_bin  0.005436 -0.012040 -0.023198 -0.030099  -0.033979   \n",
       "\n",
       "                birth_date_bin  \n",
       "sex                   0.005436  \n",
       "r                    -0.012040  \n",
       "f                    -0.023198  \n",
       "m                    -0.030099  \n",
       "frequency            -0.033979  \n",
       "birth_date_bin        1.000000  "
      ]
     },
     "execution_count": 18,
     "metadata": {},
     "output_type": "execute_result"
    }
   ],
   "source": [
    "df_clients.corr()"
   ]
  },
  {
   "cell_type": "markdown",
   "metadata": {},
   "source": [
    "Смотрим, какие переменные больше всего коррелируют с frequency, это:\n",
    "1. f\n",
    "2. m\n",
    "3. r\n",
    "От sex и birth_date_bin зависимость небольшая. \\\n",
    "---------------------------------------------------"
   ]
  },
  {
   "cell_type": "markdown",
   "metadata": {},
   "source": [
    "5. Пробуем разные разбиение по бинам\n",
    "- Для каждого бина в разбиении считаем дисперсию в качестве переменной\n",
    "- Считаем среднее между дисперсиями по всем бинам \n",
    "- Чем ниже будет среднее тем более качественное разделение   \n"
   ]
  },
  {
   "cell_type": "code",
   "execution_count": 19,
   "metadata": {},
   "outputs": [
    {
     "data": {
      "text/plain": [
       "20.569667413126272"
      ]
     },
     "execution_count": 19,
     "metadata": {},
     "output_type": "execute_result"
    }
   ],
   "source": [
    "df_clients.pivot_table(columns=['r'],index=['f'],values = ['frequency'],aggfunc= 'std',fill_value=0).reset_index().mean().mean()\n",
    "# по r и f значение 20.57"
   ]
  },
  {
   "cell_type": "code",
   "execution_count": 20,
   "metadata": {},
   "outputs": [
    {
     "data": {
      "text/plain": [
       "15.498378273719192"
      ]
     },
     "execution_count": 20,
     "metadata": {},
     "output_type": "execute_result"
    }
   ],
   "source": [
    "df_clients.pivot_table(columns=['m'],index=['f'],values = ['frequency'],aggfunc= 'std',fill_value=0).reset_index().mean().mean()\n",
    "# по m и f значение 15.49"
   ]
  },
  {
   "cell_type": "code",
   "execution_count": 21,
   "metadata": {},
   "outputs": [
    {
     "data": {
      "text/plain": [
       "79.92672723733817"
      ]
     },
     "execution_count": 21,
     "metadata": {},
     "output_type": "execute_result"
    }
   ],
   "source": [
    "df_clients.pivot_table(index=['region_name'],values = ['frequency'],aggfunc= 'std',fill_value=0).reset_index().mean().mean()\n",
    "# по region_name значение 79.92 \n",
    "# Деление по регионам плохая идея "
   ]
  },
  {
   "cell_type": "markdown",
   "metadata": {},
   "source": [
    "Судя по результатам лучшее для стратефикации разбиение по бинам это с использованием m и f \\\n",
    "[-------------------------------------------------------------------------------"
   ]
  },
  {
   "cell_type": "markdown",
   "metadata": {},
   "source": [
    "6. Для лучшего разбиения по бинам запускаем стратификацию и смотрит на Kolmogorov–Smirnov test"
   ]
  },
  {
   "cell_type": "code",
   "execution_count": 22,
   "metadata": {},
   "outputs": [],
   "source": [
    "#производим разделение на группы A и B с учетом стратификации по бинам\n",
    "A_group, B_group= train_test_split(df_clients, test_size=0.5, stratify = df_clients[['m','f']])"
   ]
  },
  {
   "cell_type": "code",
   "execution_count": 23,
   "metadata": {},
   "outputs": [
    {
     "data": {
      "text/plain": [
       "KstestResult(statistic=0.01303538175046555, pvalue=0.976529905515252)"
      ]
     },
     "execution_count": 23,
     "metadata": {},
     "output_type": "execute_result"
    }
   ],
   "source": [
    "#смотрим результаты теста Колмогорова-Смирнова\n",
    "scipy.stats.ks_2samp(A_group['frequency'], B_group['frequency'], alternative='two-sided', mode='auto')\n",
    "#statistic=0.0100 - хороший результат "
   ]
  }
 ],
 "metadata": {
  "kernelspec": {
   "display_name": "Python 3.10.5 64-bit",
   "language": "python",
   "name": "python3"
  },
  "language_info": {
   "codemirror_mode": {
    "name": "ipython",
    "version": 3
   },
   "file_extension": ".py",
   "mimetype": "text/x-python",
   "name": "python",
   "nbconvert_exporter": "python",
   "pygments_lexer": "ipython3",
   "version": "3.10.5"
  },
  "orig_nbformat": 4,
  "vscode": {
   "interpreter": {
    "hash": "d14802a80fda041396e29d0ef764e9db1b52be87434e2145de2ac9afbbaeae6f"
   }
  }
 },
 "nbformat": 4,
 "nbformat_minor": 2
}

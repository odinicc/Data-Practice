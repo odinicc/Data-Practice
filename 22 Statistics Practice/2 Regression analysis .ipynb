{
 "cells": [
  {
   "cell_type": "code",
   "execution_count": 33,
   "id": "02d59dd2",
   "metadata": {
    "pycharm": {
     "name": "#%%\n"
    }
   },
   "outputs": [],
   "source": [
    "import pandas as pd\n",
    "import scipy.stats as stats\n",
    "import seaborn as sns\n",
    "\n",
    "import numpy as np\n",
    "import matplotlib.pyplot as plt  # To visualize\n",
    "import pandas as pd  # To read data\n",
    "from sklearn.linear_model import LinearRegression\n",
    "from sklearn.metrics import r2_score\n"
   ]
  },
  {
   "cell_type": "markdown",
   "id": "6395b3fb",
   "metadata": {
    "pycharm": {
     "name": "#%% md\n"
    }
   },
   "source": [
    "Грузим данные"
   ]
  },
  {
   "cell_type": "code",
   "execution_count": 2,
   "id": "e3de4d8a",
   "metadata": {
    "pycharm": {
     "name": "#%%\n"
    }
   },
   "outputs": [],
   "source": [
    "\n",
    "data = pd.read_csv('./states.csv')"
   ]
  },
  {
   "cell_type": "code",
   "execution_count": 6,
   "outputs": [
    {
     "data": {
      "text/plain": "     state  metro_res  white  hs_grad  poverty  female_house\n0  Alabama       55.4   71.3     79.9     14.6          14.2",
      "text/html": "<div>\n<style scoped>\n    .dataframe tbody tr th:only-of-type {\n        vertical-align: middle;\n    }\n\n    .dataframe tbody tr th {\n        vertical-align: top;\n    }\n\n    .dataframe thead th {\n        text-align: right;\n    }\n</style>\n<table border=\"1\" class=\"dataframe\">\n  <thead>\n    <tr style=\"text-align: right;\">\n      <th></th>\n      <th>state</th>\n      <th>metro_res</th>\n      <th>white</th>\n      <th>hs_grad</th>\n      <th>poverty</th>\n      <th>female_house</th>\n    </tr>\n  </thead>\n  <tbody>\n    <tr>\n      <th>0</th>\n      <td>Alabama</td>\n      <td>55.4</td>\n      <td>71.3</td>\n      <td>79.9</td>\n      <td>14.6</td>\n      <td>14.2</td>\n    </tr>\n  </tbody>\n</table>\n</div>"
     },
     "execution_count": 6,
     "metadata": {},
     "output_type": "execute_result"
    }
   ],
   "source": [
    "data.head(1)"
   ],
   "metadata": {
    "collapsed": false,
    "pycharm": {
     "name": "#%%\n"
    }
   }
  },
  {
   "cell_type": "code",
   "execution_count": 8,
   "outputs": [
    {
     "data": {
      "text/plain": "                    state  metro_res  white  hs_grad  poverty  female_house\n45                Vermont       38.2   96.9     88.9      9.9           9.3\n19                  Maine       40.2   97.1     86.6     11.3           9.5\n48         West  Virginia       46.1   95.0     78.7     16.0          10.7\n24            Mississippi       48.8   61.2     81.2     17.6          17.3\n41           South Dakota       51.9   88.8     88.7     10.2           9.0\n3                Arkansas       52.5   81.0     80.9     18.0          12.1\n26                Montana       54.1   90.9     90.1     13.7           8.9\n0                 Alabama       55.4   71.3     79.9     14.6          14.2\n17               Kentucky       55.8   90.3     82.8     13.1          11.8\n34           North Dakota       55.9   92.5     89.7     11.9           7.8\n29         New  Hampshire       59.3   96.3     92.1      5.6           9.1\n33        North  Carolina       60.2   74.1     81.4     13.1          12.5\n40        South  Carolina       60.5   67.7     80.8     13.5          14.8\n15                   Iowa       61.1   94.9     89.7      8.3           8.6\n42              Tennessee       63.6   80.8     81.0     14.2          12.9\n50                Wyoming       65.1   94.7     90.9      9.5           8.7\n36               Oklahoma       65.3   78.4     85.7     14.7          11.4\n1                  Alaska       65.6   70.8     90.6      8.3          10.8\n12                  Idaho       66.4   95.5     88.2     11.8           8.7\n49              Wisconsin       68.3   90.1     88.6      8.6           9.6\n25               Missouri       69.4   85.3     88.3      9.6          11.6\n27               Nebraska       69.8   92.1     90.8      9.5           9.1\n14                Indiana       70.8   88.9     86.4      8.7          11.1\n23              Minnesota       70.9   90.2     91.6      6.5           8.9\n16                 Kansas       71.4   89.3     88.6      9.4           9.3\n10                Georgia       71.6   67.5     85.1     12.1          14.5\n18              Louisiana       72.6   64.2     79.8     17.0          16.6\n46               Virginia       73.0   73.9     87.8      8.7          11.9\n22               Michigan       74.7   81.5     87.6     10.3          12.5\n31             New Mexico       75.0   84.9     81.7     17.8          13.2\n38           Pennsylvania       77.1   86.4     86.0      9.2          11.6\n35                   Ohio       77.4   85.4     87.2     10.1          12.1\n37                 Oregon       78.7   90.8     86.9     11.2           9.8\n7                Delaware       80.1   76.3     88.7      8.1          13.1\n47             Washington       82.0   85.5     89.1     10.8           9.9\n43                  Texas       82.5   83.6     77.2     15.3          12.7\n5                Colorado       84.5   90.2     88.7      9.4           9.6\n20               Maryland       86.1   65.6     87.6      7.3          14.1\n32               New York       87.5   73.6     84.2     14.0          14.7\n6             Connecticut       87.7   85.4     87.5      7.8          12.1\n13               Illinois       87.8   79.5     85.9     11.2          12.3\n44                   Utah       88.2   93.6     89.4      9.3           9.4\n2                 Arizona       88.2   87.7     83.8     13.3          11.1\n9                 Florida       89.3   80.6     84.7     12.1          12.0\n39           Rhode Island       90.9   89.2     81.0     10.3          12.9\n21          Massachusetts       91.4   87.2     87.1      9.6          11.9\n28                 Nevada       91.5   84.1     85.6      8.3          11.1\n11                 Hawaii       91.5   25.9     88.5     10.6          12.4\n4              California       94.4   77.5     81.1     12.8          12.6\n30             New Jersey       94.4   77.3     86.2      7.8          12.6\n8   District  of Columbia      100.0   36.2     86.0     16.8          18.9",
      "text/html": "<div>\n<style scoped>\n    .dataframe tbody tr th:only-of-type {\n        vertical-align: middle;\n    }\n\n    .dataframe tbody tr th {\n        vertical-align: top;\n    }\n\n    .dataframe thead th {\n        text-align: right;\n    }\n</style>\n<table border=\"1\" class=\"dataframe\">\n  <thead>\n    <tr style=\"text-align: right;\">\n      <th></th>\n      <th>state</th>\n      <th>metro_res</th>\n      <th>white</th>\n      <th>hs_grad</th>\n      <th>poverty</th>\n      <th>female_house</th>\n    </tr>\n  </thead>\n  <tbody>\n    <tr>\n      <th>45</th>\n      <td>Vermont</td>\n      <td>38.2</td>\n      <td>96.9</td>\n      <td>88.9</td>\n      <td>9.9</td>\n      <td>9.3</td>\n    </tr>\n    <tr>\n      <th>19</th>\n      <td>Maine</td>\n      <td>40.2</td>\n      <td>97.1</td>\n      <td>86.6</td>\n      <td>11.3</td>\n      <td>9.5</td>\n    </tr>\n    <tr>\n      <th>48</th>\n      <td>West  Virginia</td>\n      <td>46.1</td>\n      <td>95.0</td>\n      <td>78.7</td>\n      <td>16.0</td>\n      <td>10.7</td>\n    </tr>\n    <tr>\n      <th>24</th>\n      <td>Mississippi</td>\n      <td>48.8</td>\n      <td>61.2</td>\n      <td>81.2</td>\n      <td>17.6</td>\n      <td>17.3</td>\n    </tr>\n    <tr>\n      <th>41</th>\n      <td>South Dakota</td>\n      <td>51.9</td>\n      <td>88.8</td>\n      <td>88.7</td>\n      <td>10.2</td>\n      <td>9.0</td>\n    </tr>\n    <tr>\n      <th>3</th>\n      <td>Arkansas</td>\n      <td>52.5</td>\n      <td>81.0</td>\n      <td>80.9</td>\n      <td>18.0</td>\n      <td>12.1</td>\n    </tr>\n    <tr>\n      <th>26</th>\n      <td>Montana</td>\n      <td>54.1</td>\n      <td>90.9</td>\n      <td>90.1</td>\n      <td>13.7</td>\n      <td>8.9</td>\n    </tr>\n    <tr>\n      <th>0</th>\n      <td>Alabama</td>\n      <td>55.4</td>\n      <td>71.3</td>\n      <td>79.9</td>\n      <td>14.6</td>\n      <td>14.2</td>\n    </tr>\n    <tr>\n      <th>17</th>\n      <td>Kentucky</td>\n      <td>55.8</td>\n      <td>90.3</td>\n      <td>82.8</td>\n      <td>13.1</td>\n      <td>11.8</td>\n    </tr>\n    <tr>\n      <th>34</th>\n      <td>North Dakota</td>\n      <td>55.9</td>\n      <td>92.5</td>\n      <td>89.7</td>\n      <td>11.9</td>\n      <td>7.8</td>\n    </tr>\n    <tr>\n      <th>29</th>\n      <td>New  Hampshire</td>\n      <td>59.3</td>\n      <td>96.3</td>\n      <td>92.1</td>\n      <td>5.6</td>\n      <td>9.1</td>\n    </tr>\n    <tr>\n      <th>33</th>\n      <td>North  Carolina</td>\n      <td>60.2</td>\n      <td>74.1</td>\n      <td>81.4</td>\n      <td>13.1</td>\n      <td>12.5</td>\n    </tr>\n    <tr>\n      <th>40</th>\n      <td>South  Carolina</td>\n      <td>60.5</td>\n      <td>67.7</td>\n      <td>80.8</td>\n      <td>13.5</td>\n      <td>14.8</td>\n    </tr>\n    <tr>\n      <th>15</th>\n      <td>Iowa</td>\n      <td>61.1</td>\n      <td>94.9</td>\n      <td>89.7</td>\n      <td>8.3</td>\n      <td>8.6</td>\n    </tr>\n    <tr>\n      <th>42</th>\n      <td>Tennessee</td>\n      <td>63.6</td>\n      <td>80.8</td>\n      <td>81.0</td>\n      <td>14.2</td>\n      <td>12.9</td>\n    </tr>\n    <tr>\n      <th>50</th>\n      <td>Wyoming</td>\n      <td>65.1</td>\n      <td>94.7</td>\n      <td>90.9</td>\n      <td>9.5</td>\n      <td>8.7</td>\n    </tr>\n    <tr>\n      <th>36</th>\n      <td>Oklahoma</td>\n      <td>65.3</td>\n      <td>78.4</td>\n      <td>85.7</td>\n      <td>14.7</td>\n      <td>11.4</td>\n    </tr>\n    <tr>\n      <th>1</th>\n      <td>Alaska</td>\n      <td>65.6</td>\n      <td>70.8</td>\n      <td>90.6</td>\n      <td>8.3</td>\n      <td>10.8</td>\n    </tr>\n    <tr>\n      <th>12</th>\n      <td>Idaho</td>\n      <td>66.4</td>\n      <td>95.5</td>\n      <td>88.2</td>\n      <td>11.8</td>\n      <td>8.7</td>\n    </tr>\n    <tr>\n      <th>49</th>\n      <td>Wisconsin</td>\n      <td>68.3</td>\n      <td>90.1</td>\n      <td>88.6</td>\n      <td>8.6</td>\n      <td>9.6</td>\n    </tr>\n    <tr>\n      <th>25</th>\n      <td>Missouri</td>\n      <td>69.4</td>\n      <td>85.3</td>\n      <td>88.3</td>\n      <td>9.6</td>\n      <td>11.6</td>\n    </tr>\n    <tr>\n      <th>27</th>\n      <td>Nebraska</td>\n      <td>69.8</td>\n      <td>92.1</td>\n      <td>90.8</td>\n      <td>9.5</td>\n      <td>9.1</td>\n    </tr>\n    <tr>\n      <th>14</th>\n      <td>Indiana</td>\n      <td>70.8</td>\n      <td>88.9</td>\n      <td>86.4</td>\n      <td>8.7</td>\n      <td>11.1</td>\n    </tr>\n    <tr>\n      <th>23</th>\n      <td>Minnesota</td>\n      <td>70.9</td>\n      <td>90.2</td>\n      <td>91.6</td>\n      <td>6.5</td>\n      <td>8.9</td>\n    </tr>\n    <tr>\n      <th>16</th>\n      <td>Kansas</td>\n      <td>71.4</td>\n      <td>89.3</td>\n      <td>88.6</td>\n      <td>9.4</td>\n      <td>9.3</td>\n    </tr>\n    <tr>\n      <th>10</th>\n      <td>Georgia</td>\n      <td>71.6</td>\n      <td>67.5</td>\n      <td>85.1</td>\n      <td>12.1</td>\n      <td>14.5</td>\n    </tr>\n    <tr>\n      <th>18</th>\n      <td>Louisiana</td>\n      <td>72.6</td>\n      <td>64.2</td>\n      <td>79.8</td>\n      <td>17.0</td>\n      <td>16.6</td>\n    </tr>\n    <tr>\n      <th>46</th>\n      <td>Virginia</td>\n      <td>73.0</td>\n      <td>73.9</td>\n      <td>87.8</td>\n      <td>8.7</td>\n      <td>11.9</td>\n    </tr>\n    <tr>\n      <th>22</th>\n      <td>Michigan</td>\n      <td>74.7</td>\n      <td>81.5</td>\n      <td>87.6</td>\n      <td>10.3</td>\n      <td>12.5</td>\n    </tr>\n    <tr>\n      <th>31</th>\n      <td>New Mexico</td>\n      <td>75.0</td>\n      <td>84.9</td>\n      <td>81.7</td>\n      <td>17.8</td>\n      <td>13.2</td>\n    </tr>\n    <tr>\n      <th>38</th>\n      <td>Pennsylvania</td>\n      <td>77.1</td>\n      <td>86.4</td>\n      <td>86.0</td>\n      <td>9.2</td>\n      <td>11.6</td>\n    </tr>\n    <tr>\n      <th>35</th>\n      <td>Ohio</td>\n      <td>77.4</td>\n      <td>85.4</td>\n      <td>87.2</td>\n      <td>10.1</td>\n      <td>12.1</td>\n    </tr>\n    <tr>\n      <th>37</th>\n      <td>Oregon</td>\n      <td>78.7</td>\n      <td>90.8</td>\n      <td>86.9</td>\n      <td>11.2</td>\n      <td>9.8</td>\n    </tr>\n    <tr>\n      <th>7</th>\n      <td>Delaware</td>\n      <td>80.1</td>\n      <td>76.3</td>\n      <td>88.7</td>\n      <td>8.1</td>\n      <td>13.1</td>\n    </tr>\n    <tr>\n      <th>47</th>\n      <td>Washington</td>\n      <td>82.0</td>\n      <td>85.5</td>\n      <td>89.1</td>\n      <td>10.8</td>\n      <td>9.9</td>\n    </tr>\n    <tr>\n      <th>43</th>\n      <td>Texas</td>\n      <td>82.5</td>\n      <td>83.6</td>\n      <td>77.2</td>\n      <td>15.3</td>\n      <td>12.7</td>\n    </tr>\n    <tr>\n      <th>5</th>\n      <td>Colorado</td>\n      <td>84.5</td>\n      <td>90.2</td>\n      <td>88.7</td>\n      <td>9.4</td>\n      <td>9.6</td>\n    </tr>\n    <tr>\n      <th>20</th>\n      <td>Maryland</td>\n      <td>86.1</td>\n      <td>65.6</td>\n      <td>87.6</td>\n      <td>7.3</td>\n      <td>14.1</td>\n    </tr>\n    <tr>\n      <th>32</th>\n      <td>New York</td>\n      <td>87.5</td>\n      <td>73.6</td>\n      <td>84.2</td>\n      <td>14.0</td>\n      <td>14.7</td>\n    </tr>\n    <tr>\n      <th>6</th>\n      <td>Connecticut</td>\n      <td>87.7</td>\n      <td>85.4</td>\n      <td>87.5</td>\n      <td>7.8</td>\n      <td>12.1</td>\n    </tr>\n    <tr>\n      <th>13</th>\n      <td>Illinois</td>\n      <td>87.8</td>\n      <td>79.5</td>\n      <td>85.9</td>\n      <td>11.2</td>\n      <td>12.3</td>\n    </tr>\n    <tr>\n      <th>44</th>\n      <td>Utah</td>\n      <td>88.2</td>\n      <td>93.6</td>\n      <td>89.4</td>\n      <td>9.3</td>\n      <td>9.4</td>\n    </tr>\n    <tr>\n      <th>2</th>\n      <td>Arizona</td>\n      <td>88.2</td>\n      <td>87.7</td>\n      <td>83.8</td>\n      <td>13.3</td>\n      <td>11.1</td>\n    </tr>\n    <tr>\n      <th>9</th>\n      <td>Florida</td>\n      <td>89.3</td>\n      <td>80.6</td>\n      <td>84.7</td>\n      <td>12.1</td>\n      <td>12.0</td>\n    </tr>\n    <tr>\n      <th>39</th>\n      <td>Rhode Island</td>\n      <td>90.9</td>\n      <td>89.2</td>\n      <td>81.0</td>\n      <td>10.3</td>\n      <td>12.9</td>\n    </tr>\n    <tr>\n      <th>21</th>\n      <td>Massachusetts</td>\n      <td>91.4</td>\n      <td>87.2</td>\n      <td>87.1</td>\n      <td>9.6</td>\n      <td>11.9</td>\n    </tr>\n    <tr>\n      <th>28</th>\n      <td>Nevada</td>\n      <td>91.5</td>\n      <td>84.1</td>\n      <td>85.6</td>\n      <td>8.3</td>\n      <td>11.1</td>\n    </tr>\n    <tr>\n      <th>11</th>\n      <td>Hawaii</td>\n      <td>91.5</td>\n      <td>25.9</td>\n      <td>88.5</td>\n      <td>10.6</td>\n      <td>12.4</td>\n    </tr>\n    <tr>\n      <th>4</th>\n      <td>California</td>\n      <td>94.4</td>\n      <td>77.5</td>\n      <td>81.1</td>\n      <td>12.8</td>\n      <td>12.6</td>\n    </tr>\n    <tr>\n      <th>30</th>\n      <td>New Jersey</td>\n      <td>94.4</td>\n      <td>77.3</td>\n      <td>86.2</td>\n      <td>7.8</td>\n      <td>12.6</td>\n    </tr>\n    <tr>\n      <th>8</th>\n      <td>District  of Columbia</td>\n      <td>100.0</td>\n      <td>36.2</td>\n      <td>86.0</td>\n      <td>16.8</td>\n      <td>18.9</td>\n    </tr>\n  </tbody>\n</table>\n</div>"
     },
     "execution_count": 8,
     "metadata": {},
     "output_type": "execute_result"
    }
   ],
   "source": [
    "data.sort_values(by='metro_res')"
   ],
   "metadata": {
    "collapsed": false,
    "pycharm": {
     "name": "#%%\n"
    }
   }
  },
  {
   "cell_type": "code",
   "execution_count": 11,
   "outputs": [
    {
     "data": {
      "text/plain": "<AxesSubplot:xlabel='white'>"
     },
     "execution_count": 11,
     "metadata": {},
     "output_type": "execute_result"
    },
    {
     "data": {
      "text/plain": "<Figure size 432x288 with 1 Axes>",
      "image/png": "[encoded data removed]"
     },
     "metadata": {
      "needs_background": "light"
     },
     "output_type": "display_data"
    }
   ],
   "source": [
    "data.sort_values(by='white').plot(x='white', y='hs_grad', style='o')"
   ],
   "metadata": {
    "collapsed": false,
    "pycharm": {
     "name": "#%%\n"
    }
   }
  },
  {
   "cell_type": "code",
   "execution_count": 21,
   "outputs": [],
   "source": [
    "np_white = data['white'].values.reshape(-1, 1)"
   ],
   "metadata": {
    "collapsed": false,
    "pycharm": {
     "name": "#%%\n"
    }
   }
  },
  {
   "cell_type": "code",
   "execution_count": 23,
   "outputs": [],
   "source": [
    "np_hs_grad = data['hs_grad'].values.reshape(-1, 1)"
   ],
   "metadata": {
    "collapsed": false,
    "pycharm": {
     "name": "#%%\n"
    }
   }
  },
  {
   "cell_type": "code",
   "execution_count": 24,
   "outputs": [
    {
     "data": {
      "text/plain": "array([[71.3],\n       [70.8],\n       [87.7],\n       [81. ],\n       [77.5],\n       [90.2],\n       [85.4],\n       [76.3],\n       [36.2],\n       [80.6],\n       [67.5],\n       [25.9],\n       [95.5],\n       [79.5],\n       [88.9],\n       [94.9],\n       [89.3],\n       [90.3],\n       [64.2],\n       [97.1],\n       [65.6],\n       [87.2],\n       [81.5],\n       [90.2],\n       [61.2],\n       [85.3],\n       [90.9],\n       [92.1],\n       [84.1],\n       [96.3],\n       [77.3],\n       [84.9],\n       [73.6],\n       [74.1],\n       [92.5],\n       [85.4],\n       [78.4],\n       [90.8],\n       [86.4],\n       [89.2],\n       [67.7],\n       [88.8],\n       [80.8],\n       [83.6],\n       [93.6],\n       [96.9],\n       [73.9],\n       [85.5],\n       [95. ],\n       [90.1],\n       [94.7]])"
     },
     "execution_count": 24,
     "metadata": {},
     "output_type": "execute_result"
    }
   ],
   "source": [
    "np_white"
   ],
   "metadata": {
    "collapsed": false,
    "pycharm": {
     "name": "#%%\n"
    }
   }
  },
  {
   "cell_type": "code",
   "execution_count": 14,
   "outputs": [],
   "source": [
    "linear_regressor = LinearRegression()"
   ],
   "metadata": {
    "collapsed": false,
    "pycharm": {
     "name": "#%%\n"
    }
   }
  },
  {
   "cell_type": "code",
   "execution_count": 25,
   "outputs": [
    {
     "data": {
      "text/plain": "LinearRegression()",
      "text/html": "<style>#sk-container-id-1 {color: black;background-color: white;}#sk-container-id-1 pre{padding: 0;}#sk-container-id-1 div.sk-toggleable {background-color: white;}#sk-container-id-1 label.sk-toggleable__label {cursor: pointer;display: block;width: 100%;margin-bottom: 0;padding: 0.3em;box-sizing: border-box;text-align: center;}#sk-container-id-1 label.sk-toggleable__label-arrow:before {content: \"▸\";float: left;margin-right: 0.25em;color: #696969;}#sk-container-id-1 label.sk-toggleable__label-arrow:hover:before {color: black;}#sk-container-id-1 div.sk-estimator:hover label.sk-toggleable__label-arrow:before {color: black;}#sk-container-id-1 div.sk-toggleable__content {max-height: 0;max-width: 0;overflow: hidden;text-align: left;background-color: #f0f8ff;}#sk-container-id-1 div.sk-toggleable__content pre {margin: 0.2em;color: black;border-radius: 0.25em;background-color: #f0f8ff;}#sk-container-id-1 input.sk-toggleable__control:checked~div.sk-toggleable__content {max-height: 200px;max-width: 100%;overflow: auto;}#sk-container-id-1 input.sk-toggleable__control:checked~label.sk-toggleable__label-arrow:before {content: \"▾\";}#sk-container-id-1 div.sk-estimator input.sk-toggleable__control:checked~label.sk-toggleable__label {background-color: #d4ebff;}#sk-container-id-1 div.sk-label input.sk-toggleable__control:checked~label.sk-toggleable__label {background-color: #d4ebff;}#sk-container-id-1 input.sk-hidden--visually {border: 0;clip: rect(1px 1px 1px 1px);clip: rect(1px, 1px, 1px, 1px);height: 1px;margin: -1px;overflow: hidden;padding: 0;position: absolute;width: 1px;}#sk-container-id-1 div.sk-estimator {font-family: monospace;background-color: #f0f8ff;border: 1px dotted black;border-radius: 0.25em;box-sizing: border-box;margin-bottom: 0.5em;}#sk-container-id-1 div.sk-estimator:hover {background-color: #d4ebff;}#sk-container-id-1 div.sk-parallel-item::after {content: \"\";width: 100%;border-bottom: 1px solid gray;flex-grow: 1;}#sk-container-id-1 div.sk-label:hover label.sk-toggleable__label {background-color: #d4ebff;}#sk-container-id-1 div.sk-serial::before {content: \"\";position: absolute;border-left: 1px solid gray;box-sizing: border-box;top: 0;bottom: 0;left: 50%;z-index: 0;}#sk-container-id-1 div.sk-serial {display: flex;flex-direction: column;align-items: center;background-color: white;padding-right: 0.2em;padding-left: 0.2em;position: relative;}#sk-container-id-1 div.sk-item {position: relative;z-index: 1;}#sk-container-id-1 div.sk-parallel {display: flex;align-items: stretch;justify-content: center;background-color: white;position: relative;}#sk-container-id-1 div.sk-item::before, #sk-container-id-1 div.sk-parallel-item::before {content: \"\";position: absolute;border-left: 1px solid gray;box-sizing: border-box;top: 0;bottom: 0;left: 50%;z-index: -1;}#sk-container-id-1 div.sk-parallel-item {display: flex;flex-direction: column;z-index: 1;position: relative;background-color: white;}#sk-container-id-1 div.sk-parallel-item:first-child::after {align-self: flex-end;width: 50%;}#sk-container-id-1 div.sk-parallel-item:last-child::after {align-self: flex-start;width: 50%;}#sk-container-id-1 div.sk-parallel-item:only-child::after {width: 0;}#sk-container-id-1 div.sk-dashed-wrapped {border: 1px dashed gray;margin: 0 0.4em 0.5em 0.4em;box-sizing: border-box;padding-bottom: 0.4em;background-color: white;}#sk-container-id-1 div.sk-label label {font-family: monospace;font-weight: bold;display: inline-block;line-height: 1.2em;}#sk-container-id-1 div.sk-label-container {text-align: center;}#sk-container-id-1 div.sk-container {/* jupyter's `normalize.less` sets `[hidden] { display: none; }` but bootstrap.min.css set `[hidden] { display: none !important; }` so we also need the `!important` here to be able to override the default hidden behavior on the sphinx rendered scikit-learn.org. See: https://github.com/scikit-learn/scikit-learn/issues/21755 */display: inline-block !important;position: relative;}#sk-container-id-1 div.sk-text-repr-fallback {display: none;}</style><div id=\"sk-container-id-1\" class=\"sk-top-container\"><div class=\"sk-text-repr-fallback\"><pre>LinearRegression()</pre><b>In a Jupyter environment, please rerun this cell to show the HTML representation or trust the notebook. <br />On GitHub, the HTML representation is unable to render, please try loading this page with nbviewer.org.</b></div><div class=\"sk-container\" hidden><div class=\"sk-item\"><div class=\"sk-estimator sk-toggleable\"><input class=\"sk-toggleable__control sk-hidden--visually\" id=\"sk-estimator-id-1\" type=\"checkbox\" checked><label for=\"sk-estimator-id-1\" class=\"sk-toggleable__label sk-toggleable__label-arrow\">LinearRegression</label><div class=\"sk-toggleable__content\"><pre>LinearRegression()</pre></div></div></div></div></div>"
     },
     "execution_count": 25,
     "metadata": {},
     "output_type": "execute_result"
    }
   ],
   "source": [
    "linear_regressor.fit(np_white, np_hs_grad)"
   ],
   "metadata": {
    "collapsed": false,
    "pycharm": {
     "name": "#%%\n"
    }
   }
  },
  {
   "cell_type": "code",
   "execution_count": 27,
   "outputs": [
    {
     "data": {
      "text/plain": "array([[0.06385225]])"
     },
     "execution_count": 27,
     "metadata": {},
     "output_type": "execute_result"
    }
   ],
   "source": [
    "linear_regressor.coef_"
   ],
   "metadata": {
    "collapsed": false,
    "pycharm": {
     "name": "#%%\n"
    }
   }
  },
  {
   "cell_type": "code",
   "execution_count": 29,
   "outputs": [
    {
     "data": {
      "text/plain": "array([80.79378372])"
     },
     "execution_count": 29,
     "metadata": {},
     "output_type": "execute_result"
    }
   ],
   "source": [
    "linear_regressor.intercept_"
   ],
   "metadata": {
    "collapsed": false,
    "pycharm": {
     "name": "#%%\n"
    }
   }
  },
  {
   "cell_type": "code",
   "execution_count": 35,
   "outputs": [
    {
     "data": {
      "text/plain": "-0.041475046349290556"
     },
     "execution_count": 35,
     "metadata": {},
     "output_type": "execute_result"
    }
   ],
   "source": [
    "r2_score(np_white, np_hs_grad)"
   ],
   "metadata": {
    "collapsed": false,
    "pycharm": {
     "name": "#%%\n"
    }
   }
  }
 ],
 "metadata": {
  "kernelspec": {
   "display_name": "Python 3.10.5 64-bit",
   "language": "python",
   "name": "python3"
  },
  "language_info": {
   "codemirror_mode": {
    "name": "ipython",
    "version": 3
   },
   "file_extension": ".py",
   "mimetype": "text/x-python",
   "name": "python",
   "nbconvert_exporter": "python",
   "pygments_lexer": "ipython3",
   "version": "3.10.5"
  },
  "vscode": {
   "interpreter": {
    "hash": "d14802a80fda041396e29d0ef764e9db1b52be87434e2145de2ac9afbbaeae6f"
   }
  }
 },
 "nbformat": 4,
 "nbformat_minor": 5
}
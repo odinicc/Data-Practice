{
 "cells": [
  {
   "cell_type": "code",
   "execution_count": 1,
   "id": "02d59dd2",
   "metadata": {},
   "outputs": [],
   "source": [
    "import pandas as pd\n",
    "import numpy as np\n",
    "from tqdm import tqdm_notebook\n",
    "pd.set_option('display.max_columns',None)\n",
    "\n",
    "\n",
    "\n",
    "from pandas.api.types import CategoricalDtype\n",
    "\n",
    "import matplotlib.pyplot as plt\n",
    "import seaborn as sns\n",
    "import plotly.express as px\n",
    "import plotly\n",
    "\n",
    "sns.set(style='whitegrid')\n",
    "plt.rcParams['figure.figsize']=(15,5)\n",
    "%config InlineBackend.figure_format = 'png'\n",
    "%matplotlib inline"
   ]
  },
  {
   "cell_type": "markdown",
   "id": "6395b3fb",
   "metadata": {},
   "source": [
    "Загружаем данные в датафреймы "
   ]
  },
  {
   "cell_type": "code",
   "execution_count": 2,
   "id": "9a219e8e",
   "metadata": {},
   "outputs": [],
   "source": [
    "df_shops = pd.read_pickle(\"./df_shops.pkl\")\n",
    "df_points = pd.read_pickle(\"./df_points.pkl\")\n",
    "df_left = pd.read_pickle(\"./df_left.pkl\")\n"
   ]
  },
  {
   "cell_type": "code",
   "execution_count": 3,
   "id": "84459403",
   "metadata": {},
   "outputs": [],
   "source": [
    "\n",
    "df_category = pd.read_pickle(\"./df_category.pkl\")\n",
    "df_checks_with_cat = pd.read_pickle(\"./df_checks_with_cat.pkl\")\n",
    "df_pivot_table = pd.read_pickle(\"./df_pivot_table.pkl\")\n",
    "df_week_diff = pd.read_pickle(\"./df_week_diff.pkl\")\n",
    "df_week_diff_cum = pd.read_pickle(\"./df_week_diff_cum.pkl\")\n"
   ]
  },
  {
   "cell_type": "code",
   "execution_count": 4,
   "id": "58ff0c0d",
   "metadata": {},
   "outputs": [],
   "source": [
    "#Исправляем табличку \n",
    "df_category.columns = list(map(''.join, df_category.columns.values))"
   ]
  },
  {
   "cell_type": "markdown",
   "id": "31b0e8a9",
   "metadata": {},
   "source": [
    "Находим популярные молочные товары и записываем в лист"
   ]
  },
  {
   "cell_type": "code",
   "execution_count": 35,
   "id": "04ed1c68",
   "metadata": {},
   "outputs": [],
   "source": [
    "popular_id_tov = df_category['id_tov'][(df_category['name_gr'] == 'Молочная Продукция') \n",
    "&(df_category['date_ttcount'] > 5000)&(7000 > df_category['date_ttcount'])].values.tolist()"
   ]
  },
  {
   "cell_type": "markdown",
   "id": "8fef0cbf",
   "metadata": {},
   "source": [
    "Выделяем дни где кончается молочная продукция"
   ]
  },
  {
   "cell_type": "code",
   "execution_count": 36,
   "id": "b7ca1d00",
   "metadata": {},
   "outputs": [],
   "source": [
    "good_shops = df_shops['id_tt'].loc[df_shops['good_or_bad'] == 1].values.tolist()\n",
    "bad_shops = df_shops['id_tt'].loc[df_shops['good_or_bad'] == -1].values.tolist()"
   ]
  },
  {
   "cell_type": "code",
   "execution_count": 37,
   "id": "a3f4181f",
   "metadata": {},
   "outputs": [],
   "source": [
    "bad_shop_stock = df_left[(df_left['name_gr'] == 'Молочная Продукция') \n",
    "& (df_left['evening'].isna()) \n",
    "& (df_left['id_tt'].isin(bad_shops))\n",
    "& (df_left['id_tov'].isin(popular_id_tov))]\n",
    "\n"
   ]
  },
  {
   "cell_type": "code",
   "execution_count": 38,
   "id": "d2904239",
   "metadata": {},
   "outputs": [],
   "source": [
    "good_shop_stock =  df_left[(df_left['name_gr'] == 'Молочная Продукция') \n",
    "& (df_left['evening'].isna() \n",
    "& (df_left['id_tt']).isin(good_shops))\n",
    "& (df_left['id_tov'].isin(popular_id_tov))\n",
    "]"
   ]
  },
  {
   "cell_type": "code",
   "execution_count": 39,
   "id": "e005efed",
   "metadata": {},
   "outputs": [
    {
     "data": {
      "text/plain": [
       "0.04441846873173583"
      ]
     },
     "execution_count": 39,
     "metadata": {},
     "output_type": "execute_result"
    }
   ],
   "source": [
    "1- len(good_shop_stock.index)/len(bad_shop_stock.index)"
   ]
  },
  {
   "cell_type": "code",
   "execution_count": 40,
   "id": "e4360baa",
   "metadata": {},
   "outputs": [
    {
     "data": {
      "text/plain": [
       "5133"
      ]
     },
     "execution_count": 40,
     "metadata": {},
     "output_type": "execute_result"
    }
   ],
   "source": [
    "len(bad_shop_stock.index)"
   ]
  },
  {
   "cell_type": "code",
   "execution_count": 41,
   "id": "c16871f1",
   "metadata": {},
   "outputs": [
    {
     "data": {
      "text/plain": [
       "4905"
      ]
     },
     "execution_count": 41,
     "metadata": {},
     "output_type": "execute_result"
    }
   ],
   "source": [
    "len(good_shop_stock.index)"
   ]
  },
  {
   "cell_type": "code",
   "execution_count": 45,
   "id": "f214e931",
   "metadata": {},
   "outputs": [
    {
     "data": {
      "text/plain": [
       "96652823.73999995"
      ]
     },
     "execution_count": 45,
     "metadata": {},
     "output_type": "execute_result"
    }
   ],
   "source": [
    "df_checks_with_cat['BaseSum'][\n",
    "    (df_checks_with_cat['id_tov_cl'].isin(popular_id_tov)) &\n",
    "    (df_checks_with_cat['name_gr'] == 'Молочная Продукция')\n",
    "].sum()"
   ]
  },
  {
   "cell_type": "code",
   "execution_count": 43,
   "id": "8c2d9b9e",
   "metadata": {},
   "outputs": [
    {
     "data": {
      "text/html": [
       "<div>\n",
       "<style scoped>\n",
       "    .dataframe tbody tr th:only-of-type {\n",
       "        vertical-align: middle;\n",
       "    }\n",
       "\n",
       "    .dataframe tbody tr th {\n",
       "        vertical-align: top;\n",
       "    }\n",
       "\n",
       "    .dataframe thead th {\n",
       "        text-align: right;\n",
       "    }\n",
       "</style>\n",
       "<table border=\"1\" class=\"dataframe\">\n",
       "  <thead>\n",
       "    <tr style=\"text-align: right;\">\n",
       "      <th></th>\n",
       "      <th>CheckUID</th>\n",
       "      <th>id_tt_cl</th>\n",
       "      <th>id_tov_cl</th>\n",
       "      <th>Quantity</th>\n",
       "      <th>date_ch</th>\n",
       "      <th>week</th>\n",
       "      <th>BaseSum</th>\n",
       "      <th>hour</th>\n",
       "      <th>name_gr</th>\n",
       "      <th>name_gr2</th>\n",
       "      <th>good_or_bad</th>\n",
       "    </tr>\n",
       "  </thead>\n",
       "  <tbody>\n",
       "    <tr>\n",
       "      <th>0</th>\n",
       "      <td>374BC969-4D99-EC11-9064-005056A7A8DF</td>\n",
       "      <td>10864</td>\n",
       "      <td>52</td>\n",
       "      <td>1.0</td>\n",
       "      <td>2022-03-01</td>\n",
       "      <td>9</td>\n",
       "      <td>119.09</td>\n",
       "      <td>13</td>\n",
       "      <td>Молочная Продукция</td>\n",
       "      <td>Сметана</td>\n",
       "      <td>-1.0</td>\n",
       "    </tr>\n",
       "    <tr>\n",
       "      <th>1</th>\n",
       "      <td>6A9DF7ED-7899-EC11-9064-005056A7A8DF</td>\n",
       "      <td>10864</td>\n",
       "      <td>52</td>\n",
       "      <td>1.0</td>\n",
       "      <td>2022-03-01</td>\n",
       "      <td>9</td>\n",
       "      <td>119.09</td>\n",
       "      <td>18</td>\n",
       "      <td>Молочная Продукция</td>\n",
       "      <td>Сметана</td>\n",
       "      <td>-1.0</td>\n",
       "    </tr>\n",
       "    <tr>\n",
       "      <th>2</th>\n",
       "      <td>6FC5327A-8499-EC11-9064-005056A7A8DF</td>\n",
       "      <td>10864</td>\n",
       "      <td>52</td>\n",
       "      <td>1.0</td>\n",
       "      <td>2022-03-01</td>\n",
       "      <td>9</td>\n",
       "      <td>119.09</td>\n",
       "      <td>20</td>\n",
       "      <td>Молочная Продукция</td>\n",
       "      <td>Сметана</td>\n",
       "      <td>-1.0</td>\n",
       "    </tr>\n",
       "    <tr>\n",
       "      <th>3</th>\n",
       "      <td>86F9A4A3-7199-EC11-9064-005056A7A8DF</td>\n",
       "      <td>10864</td>\n",
       "      <td>52</td>\n",
       "      <td>1.0</td>\n",
       "      <td>2022-03-01</td>\n",
       "      <td>9</td>\n",
       "      <td>119.09</td>\n",
       "      <td>18</td>\n",
       "      <td>Молочная Продукция</td>\n",
       "      <td>Сметана</td>\n",
       "      <td>-1.0</td>\n",
       "    </tr>\n",
       "    <tr>\n",
       "      <th>4</th>\n",
       "      <td>AC9C4F6B-5299-EC11-9064-005056A7A8DF</td>\n",
       "      <td>10864</td>\n",
       "      <td>52</td>\n",
       "      <td>1.0</td>\n",
       "      <td>2022-03-01</td>\n",
       "      <td>9</td>\n",
       "      <td>119.09</td>\n",
       "      <td>14</td>\n",
       "      <td>Молочная Продукция</td>\n",
       "      <td>Сметана</td>\n",
       "      <td>-1.0</td>\n",
       "    </tr>\n",
       "    <tr>\n",
       "      <th>...</th>\n",
       "      <td>...</td>\n",
       "      <td>...</td>\n",
       "      <td>...</td>\n",
       "      <td>...</td>\n",
       "      <td>...</td>\n",
       "      <td>...</td>\n",
       "      <td>...</td>\n",
       "      <td>...</td>\n",
       "      <td>...</td>\n",
       "      <td>...</td>\n",
       "      <td>...</td>\n",
       "    </tr>\n",
       "    <tr>\n",
       "      <th>15963717</th>\n",
       "      <td>926946EB-0EE1-EC11-9064-005056A7A8DF</td>\n",
       "      <td>12618</td>\n",
       "      <td>37800</td>\n",
       "      <td>1.0</td>\n",
       "      <td>2022-05-31</td>\n",
       "      <td>22</td>\n",
       "      <td>85.00</td>\n",
       "      <td>21</td>\n",
       "      <td>Напитки</td>\n",
       "      <td>Соки</td>\n",
       "      <td>0.0</td>\n",
       "    </tr>\n",
       "    <tr>\n",
       "      <th>15963718</th>\n",
       "      <td>BBFD7F55-10E1-EC11-9064-005056A7A8DF</td>\n",
       "      <td>16061</td>\n",
       "      <td>24000</td>\n",
       "      <td>1.0</td>\n",
       "      <td>2022-05-31</td>\n",
       "      <td>22</td>\n",
       "      <td>75.00</td>\n",
       "      <td>21</td>\n",
       "      <td>Сладости, кондитерские изделия</td>\n",
       "      <td>Пряники</td>\n",
       "      <td>-1.0</td>\n",
       "    </tr>\n",
       "    <tr>\n",
       "      <th>15963719</th>\n",
       "      <td>61ACDF39-C8E0-EC11-9064-005056A7A8DF</td>\n",
       "      <td>16061</td>\n",
       "      <td>37800</td>\n",
       "      <td>1.0</td>\n",
       "      <td>2022-05-31</td>\n",
       "      <td>22</td>\n",
       "      <td>85.00</td>\n",
       "      <td>12</td>\n",
       "      <td>Напитки</td>\n",
       "      <td>Соки</td>\n",
       "      <td>-1.0</td>\n",
       "    </tr>\n",
       "    <tr>\n",
       "      <th>15963720</th>\n",
       "      <td>0787699D-B3E0-EC11-9064-005056A7A8DF</td>\n",
       "      <td>16061</td>\n",
       "      <td>62800</td>\n",
       "      <td>1.0</td>\n",
       "      <td>2022-05-31</td>\n",
       "      <td>22</td>\n",
       "      <td>390.91</td>\n",
       "      <td>10</td>\n",
       "      <td>Мясо. Птица. П/ф охл. Яйца</td>\n",
       "      <td>Говядина.Телятина.</td>\n",
       "      <td>-1.0</td>\n",
       "    </tr>\n",
       "    <tr>\n",
       "      <th>15963721</th>\n",
       "      <td>A0A4A27A-EEE0-EC11-9064-005056A7A8DF</td>\n",
       "      <td>16061</td>\n",
       "      <td>62800</td>\n",
       "      <td>1.0</td>\n",
       "      <td>2022-05-31</td>\n",
       "      <td>22</td>\n",
       "      <td>489.09</td>\n",
       "      <td>17</td>\n",
       "      <td>Мясо. Птица. П/ф охл. Яйца</td>\n",
       "      <td>Говядина.Телятина.</td>\n",
       "      <td>-1.0</td>\n",
       "    </tr>\n",
       "  </tbody>\n",
       "</table>\n",
       "<p>15963722 rows × 11 columns</p>\n",
       "</div>"
      ],
      "text/plain": [
       "                                      CheckUID  id_tt_cl  id_tov_cl  Quantity  \\\n",
       "0         374BC969-4D99-EC11-9064-005056A7A8DF     10864         52       1.0   \n",
       "1         6A9DF7ED-7899-EC11-9064-005056A7A8DF     10864         52       1.0   \n",
       "2         6FC5327A-8499-EC11-9064-005056A7A8DF     10864         52       1.0   \n",
       "3         86F9A4A3-7199-EC11-9064-005056A7A8DF     10864         52       1.0   \n",
       "4         AC9C4F6B-5299-EC11-9064-005056A7A8DF     10864         52       1.0   \n",
       "...                                        ...       ...        ...       ...   \n",
       "15963717  926946EB-0EE1-EC11-9064-005056A7A8DF     12618      37800       1.0   \n",
       "15963718  BBFD7F55-10E1-EC11-9064-005056A7A8DF     16061      24000       1.0   \n",
       "15963719  61ACDF39-C8E0-EC11-9064-005056A7A8DF     16061      37800       1.0   \n",
       "15963720  0787699D-B3E0-EC11-9064-005056A7A8DF     16061      62800       1.0   \n",
       "15963721  A0A4A27A-EEE0-EC11-9064-005056A7A8DF     16061      62800       1.0   \n",
       "\n",
       "             date_ch  week  BaseSum  hour                         name_gr  \\\n",
       "0         2022-03-01     9   119.09    13              Молочная Продукция   \n",
       "1         2022-03-01     9   119.09    18              Молочная Продукция   \n",
       "2         2022-03-01     9   119.09    20              Молочная Продукция   \n",
       "3         2022-03-01     9   119.09    18              Молочная Продукция   \n",
       "4         2022-03-01     9   119.09    14              Молочная Продукция   \n",
       "...              ...   ...      ...   ...                             ...   \n",
       "15963717  2022-05-31    22    85.00    21                         Напитки   \n",
       "15963718  2022-05-31    22    75.00    21  Сладости, кондитерские изделия   \n",
       "15963719  2022-05-31    22    85.00    12                         Напитки   \n",
       "15963720  2022-05-31    22   390.91    10      Мясо. Птица. П/ф охл. Яйца   \n",
       "15963721  2022-05-31    22   489.09    17      Мясо. Птица. П/ф охл. Яйца   \n",
       "\n",
       "                    name_gr2  good_or_bad  \n",
       "0                    Сметана         -1.0  \n",
       "1                    Сметана         -1.0  \n",
       "2                    Сметана         -1.0  \n",
       "3                    Сметана         -1.0  \n",
       "4                    Сметана         -1.0  \n",
       "...                      ...          ...  \n",
       "15963717                Соки          0.0  \n",
       "15963718             Пряники         -1.0  \n",
       "15963719                Соки         -1.0  \n",
       "15963720  Говядина.Телятина.         -1.0  \n",
       "15963721  Говядина.Телятина.         -1.0  \n",
       "\n",
       "[15963722 rows x 11 columns]"
      ]
     },
     "execution_count": 43,
     "metadata": {},
     "output_type": "execute_result"
    }
   ],
   "source": [
    "df_checks_with_cat"
   ]
  }
 ],
 "metadata": {
  "kernelspec": {
   "display_name": "Python 3.10.5 64-bit",
   "language": "python",
   "name": "python3"
  },
  "language_info": {
   "codemirror_mode": {
    "name": "ipython",
    "version": 3
   },
   "file_extension": ".py",
   "mimetype": "text/x-python",
   "name": "python",
   "nbconvert_exporter": "python",
   "pygments_lexer": "ipython3",
   "version": "3.10.5"
  },
  "vscode": {
   "interpreter": {
    "hash": "d14802a80fda041396e29d0ef764e9db1b52be87434e2145de2ac9afbbaeae6f"
   }
  }
 },
 "nbformat": 4,
 "nbformat_minor": 5
}

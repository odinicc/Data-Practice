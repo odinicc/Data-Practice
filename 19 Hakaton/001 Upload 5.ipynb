{
 "cells": [
  {
   "cell_type": "code",
   "execution_count": 1,
   "id": "02d59dd2",
   "metadata": {},
   "outputs": [],
   "source": [
    "import pandas as pd\n",
    "import numpy as np\n",
    "from tqdm import tqdm_notebook\n",
    "pd.set_option('display.max_columns',None)\n",
    "\n",
    "\n",
    "\n",
    "from pandas.api.types import CategoricalDtype\n",
    "\n",
    "import matplotlib.pyplot as plt\n",
    "import seaborn as sns\n",
    "import plotly.express as px\n",
    "import plotly\n",
    "\n",
    "sns.set(style='whitegrid')\n",
    "plt.rcParams['figure.figsize']=(15,5)\n",
    "%config InlineBackend.figure_format = 'png'\n",
    "%matplotlib inline"
   ]
  },
  {
   "cell_type": "markdown",
   "id": "6395b3fb",
   "metadata": {},
   "source": [
    "Грузим чеки "
   ]
  },
  {
   "cell_type": "code",
   "execution_count": 2,
   "id": "e5d81f55",
   "metadata": {},
   "outputs": [],
   "source": [
    "#Убираем из чеков магазины ко оторым у нас нет данных \n",
    "df_checks_with_cat = pd.read_pickle(\"./df_checks_with_cat.pkl\")"
   ]
  },
  {
   "cell_type": "code",
   "execution_count": 3,
   "id": "e154ee92",
   "metadata": {},
   "outputs": [],
   "source": [
    "df_shops = pd.read_pickle(\"./df_shops.pkl\")\n"
   ]
  },
  {
   "cell_type": "code",
   "execution_count": 5,
   "id": "b269dfeb",
   "metadata": {},
   "outputs": [],
   "source": [
    "lis_shops = df_shops.index.to_list()"
   ]
  },
  {
   "cell_type": "code",
   "execution_count": 6,
   "id": "3fc17b43",
   "metadata": {},
   "outputs": [],
   "source": [
    "df_checks_with_cat = df_checks_with_cat[df_checks_with_cat['id_tt_cl'].isin(lis_shops)]"
   ]
  },
  {
   "cell_type": "code",
   "execution_count": 7,
   "id": "95f52a16",
   "metadata": {},
   "outputs": [],
   "source": [
    "df_checks_with_cat.to_pickle(\"./df_checks_with_cat.pkl\")"
   ]
  }
 ],
 "metadata": {
  "kernelspec": {
   "display_name": "Python 3.10.5 64-bit",
   "language": "python",
   "name": "python3"
  },
  "language_info": {
   "codemirror_mode": {
    "name": "ipython",
    "version": 3
   },
   "file_extension": ".py",
   "mimetype": "text/x-python",
   "name": "python",
   "nbconvert_exporter": "python",
   "pygments_lexer": "ipython3",
   "version": "3.10.5"
  },
  "vscode": {
   "interpreter": {
    "hash": "d14802a80fda041396e29d0ef764e9db1b52be87434e2145de2ac9afbbaeae6f"
   }
  }
 },
 "nbformat": 4,
 "nbformat_minor": 5
}

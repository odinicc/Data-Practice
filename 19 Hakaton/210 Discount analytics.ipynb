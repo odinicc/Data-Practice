{
 "cells": [
  {
   "cell_type": "code",
   "execution_count": 1,
   "id": "02d59dd2",
   "metadata": {},
   "outputs": [],
   "source": [
    "import pandas as pd\n",
    "import numpy as np\n",
    "from tqdm import tqdm_notebook\n",
    "pd.set_option('display.max_columns',None)\n",
    "\n",
    "\n",
    "\n",
    "from pandas.api.types import CategoricalDtype\n",
    "\n",
    "import matplotlib.pyplot as plt\n",
    "import seaborn as sns\n",
    "import plotly.express as px\n",
    "import plotly\n",
    "\n",
    "sns.set(style='whitegrid')\n",
    "plt.rcParams['figure.figsize']=(15,5)\n",
    "%config InlineBackend.figure_format = 'png'\n",
    "%matplotlib inline"
   ]
  },
  {
   "cell_type": "markdown",
   "id": "6395b3fb",
   "metadata": {},
   "source": [
    "Загружаем данные в датафреймы "
   ]
  },
  {
   "cell_type": "code",
   "execution_count": 2,
   "id": "5ff304ab",
   "metadata": {},
   "outputs": [],
   "source": [
    "df_checks = pd.read_pickle(\"./df_checks.pkl\")\n"
   ]
  },
  {
   "cell_type": "code",
   "execution_count": 3,
   "id": "9a219e8e",
   "metadata": {},
   "outputs": [],
   "source": [
    "df_shops = pd.read_pickle(\"./df_shops.pkl\")\n",
    "df_points = pd.read_pickle(\"./df_points.pkl\")\n",
    "df_left = pd.read_pickle(\"./df_left.pkl\")\n"
   ]
  },
  {
   "cell_type": "code",
   "execution_count": 4,
   "id": "84459403",
   "metadata": {},
   "outputs": [],
   "source": [
    "\n",
    "df_category = pd.read_pickle(\"./df_category.pkl\")\n",
    "df_checks_with_cat = pd.read_pickle(\"./df_checks_with_cat.pkl\")\n",
    "df_pivot_table = pd.read_pickle(\"./df_pivot_table.pkl\")\n",
    "df_week_diff = pd.read_pickle(\"./df_week_diff.pkl\")\n",
    "df_week_diff_cum = pd.read_pickle(\"./df_week_diff_cum.pkl\")\n"
   ]
  },
  {
   "cell_type": "markdown",
   "id": "fcb5c4d2",
   "metadata": {},
   "source": [
    "Немного Шлифуем данные по чекам"
   ]
  },
  {
   "cell_type": "code",
   "execution_count": 5,
   "id": "ae776664",
   "metadata": {},
   "outputs": [],
   "source": [
    "df_checks['discount'] = df_checks['Price_retail'].sub(df_checks['BasePrice'])\n",
    "df_checks['discount_percent'] = df_checks['discount'].div(df_checks['Price_retail'])\n",
    "df_checks['discount_type'] = df_checks['discount_percent'].apply(lambda x: 'Lp' if 0.19 < x < 0.31 else ('Discount' if 0 < x < 0.19 else ('Green' if 0.31 < x < 0.41 else 0)))"
   ]
  },
  {
   "cell_type": "code",
   "execution_count": 6,
   "id": "5bb91026",
   "metadata": {},
   "outputs": [],
   "source": [
    "df_bad =  df_shops['id_tt'].loc[df_shops['good_or_bad'] == -1].tolist()\n",
    "df_good = df_shops['id_tt'].loc[df_shops['good_or_bad'] == 1].tolist()"
   ]
  },
  {
   "cell_type": "code",
   "execution_count": 7,
   "id": "12023a25",
   "metadata": {},
   "outputs": [],
   "source": [
    "df_checks_good = df_checks[df_checks['id_tt_cl'].isin(df_good)]"
   ]
  },
  {
   "cell_type": "code",
   "execution_count": 8,
   "id": "cdc2ebd6",
   "metadata": {},
   "outputs": [],
   "source": [
    "df_checks_bad = df_checks[df_checks['id_tt_cl'].isin(df_bad)]"
   ]
  },
  {
   "cell_type": "code",
   "execution_count": 9,
   "id": "6f7e64a7",
   "metadata": {},
   "outputs": [],
   "source": [
    "#df_checks_good"
   ]
  },
  {
   "cell_type": "code",
   "execution_count": 16,
   "id": "cf9f58c7",
   "metadata": {},
   "outputs": [
    {
     "data": {
      "text/plain": [
       "0.04695923170488869"
      ]
     },
     "execution_count": 16,
     "metadata": {},
     "output_type": "execute_result"
    }
   ],
   "source": [
    "(df_checks_good[df_checks_good['discount_type'] == 'Lp'].count().CheckUID)/(df_checks_good.count().CheckUID)\n"
   ]
  },
  {
   "cell_type": "code",
   "execution_count": 17,
   "id": "12f53f0d",
   "metadata": {},
   "outputs": [
    {
     "data": {
      "text/plain": [
       "0.04708200817906238"
      ]
     },
     "execution_count": 17,
     "metadata": {},
     "output_type": "execute_result"
    }
   ],
   "source": [
    "(df_checks_bad[df_checks_bad['discount_type'] == 'Lp'].count().CheckUID)/(df_checks_bad.count().CheckUID)\n"
   ]
  },
  {
   "cell_type": "code",
   "execution_count": 18,
   "id": "cd266e2f",
   "metadata": {},
   "outputs": [
    {
     "data": {
      "text/plain": [
       "0.06221555399345999"
      ]
     },
     "execution_count": 18,
     "metadata": {},
     "output_type": "execute_result"
    }
   ],
   "source": [
    "(df_checks_good[df_checks_good['discount_type'] == 'Discount'].count().CheckUID)/(df_checks_good.count().CheckUID)\n"
   ]
  },
  {
   "cell_type": "code",
   "execution_count": 19,
   "id": "6253bf84",
   "metadata": {},
   "outputs": [
    {
     "data": {
      "text/plain": [
       "0.06506680301259027"
      ]
     },
     "execution_count": 19,
     "metadata": {},
     "output_type": "execute_result"
    }
   ],
   "source": [
    "(df_checks_bad[df_checks_bad['discount_type'] == 'Discount'].count().CheckUID)/(df_checks_bad.count().CheckUID)\n"
   ]
  },
  {
   "cell_type": "code",
   "execution_count": 20,
   "id": "94a536c4",
   "metadata": {},
   "outputs": [
    {
     "data": {
      "text/plain": [
       "0.09687478257948894"
      ]
     },
     "execution_count": 20,
     "metadata": {},
     "output_type": "execute_result"
    }
   ],
   "source": [
    "(df_checks_good[df_checks_good['discount_type'] == 'Green'].count().CheckUID)/(df_checks_good.count().CheckUID)\n"
   ]
  },
  {
   "cell_type": "code",
   "execution_count": 21,
   "id": "66575811",
   "metadata": {},
   "outputs": [
    {
     "data": {
      "text/plain": [
       "0.060578900186149434"
      ]
     },
     "execution_count": 21,
     "metadata": {},
     "output_type": "execute_result"
    }
   ],
   "source": [
    "(df_checks_bad[df_checks_bad['discount_type'] == 'Green'].count().CheckUID)/(df_checks_bad.count().CheckUID)\n"
   ]
  }
 ],
 "metadata": {
  "kernelspec": {
   "display_name": "Python 3.10.5 64-bit",
   "language": "python",
   "name": "python3"
  },
  "language_info": {
   "codemirror_mode": {
    "name": "ipython",
    "version": 3
   },
   "file_extension": ".py",
   "mimetype": "text/x-python",
   "name": "python",
   "nbconvert_exporter": "python",
   "pygments_lexer": "ipython3",
   "version": "3.10.5"
  },
  "vscode": {
   "interpreter": {
    "hash": "d14802a80fda041396e29d0ef764e9db1b52be87434e2145de2ac9afbbaeae6f"
   }
  }
 },
 "nbformat": 4,
 "nbformat_minor": 5
}

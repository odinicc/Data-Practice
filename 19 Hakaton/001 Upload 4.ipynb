{
 "cells": [
  {
   "cell_type": "code",
   "execution_count": 2,
   "id": "02d59dd2",
   "metadata": {},
   "outputs": [],
   "source": [
    "import pandas as pd\n",
    "import numpy as np\n",
    "from tqdm import tqdm_notebook\n",
    "pd.set_option('display.max_columns',None)\n",
    "\n",
    "\n",
    "\n",
    "from pandas.api.types import CategoricalDtype\n",
    "\n",
    "import matplotlib.pyplot as plt\n",
    "import seaborn as sns\n",
    "import plotly.express as px\n",
    "import plotly\n",
    "\n",
    "sns.set(style='whitegrid')\n",
    "plt.rcParams['figure.figsize']=(15,5)\n",
    "%config InlineBackend.figure_format = 'png'\n",
    "%matplotlib inline"
   ]
  },
  {
   "cell_type": "markdown",
   "id": "6395b3fb",
   "metadata": {},
   "source": [
    "Грузим чеки "
   ]
  },
  {
   "cell_type": "code",
   "execution_count": 3,
   "id": "e3de4d8a",
   "metadata": {},
   "outputs": [],
   "source": [
    "\n",
    "df_checks_short = pd.read_pickle(\"./df_checks_short.pkl\")"
   ]
  },
  {
   "cell_type": "code",
   "execution_count": 4,
   "id": "d5c40880",
   "metadata": {},
   "outputs": [
    {
     "data": {
      "text/html": [
       "<div>\n",
       "<style scoped>\n",
       "    .dataframe tbody tr th:only-of-type {\n",
       "        vertical-align: middle;\n",
       "    }\n",
       "\n",
       "    .dataframe tbody tr th {\n",
       "        vertical-align: top;\n",
       "    }\n",
       "\n",
       "    .dataframe thead th {\n",
       "        text-align: right;\n",
       "    }\n",
       "</style>\n",
       "<table border=\"1\" class=\"dataframe\">\n",
       "  <thead>\n",
       "    <tr style=\"text-align: right;\">\n",
       "      <th></th>\n",
       "      <th>CheckUID</th>\n",
       "      <th>id_tt_cl</th>\n",
       "      <th>id_tov_cl</th>\n",
       "      <th>Quantity</th>\n",
       "      <th>week</th>\n",
       "      <th>BaseSum</th>\n",
       "      <th>hour</th>\n",
       "    </tr>\n",
       "  </thead>\n",
       "  <tbody>\n",
       "    <tr>\n",
       "      <th>0</th>\n",
       "      <td>32C04617-1DA6-EC11-9064-005056A7A8DF</td>\n",
       "      <td>16061</td>\n",
       "      <td>25528</td>\n",
       "      <td>1.0</td>\n",
       "      <td>11</td>\n",
       "      <td>422.73</td>\n",
       "      <td>20</td>\n",
       "    </tr>\n",
       "    <tr>\n",
       "      <th>1</th>\n",
       "      <td>7CC04B95-79AA-EC11-9064-005056A7A8DF</td>\n",
       "      <td>11846</td>\n",
       "      <td>1609</td>\n",
       "      <td>2.0</td>\n",
       "      <td>12</td>\n",
       "      <td>67.62</td>\n",
       "      <td>10</td>\n",
       "    </tr>\n",
       "    <tr>\n",
       "      <th>2</th>\n",
       "      <td>7BC04CF0-8AA6-EC11-9064-005056A7A8DF</td>\n",
       "      <td>11160</td>\n",
       "      <td>49220</td>\n",
       "      <td>1.0</td>\n",
       "      <td>11</td>\n",
       "      <td>124.17</td>\n",
       "      <td>10</td>\n",
       "    </tr>\n",
       "    <tr>\n",
       "      <th>3</th>\n",
       "      <td>75C04F15-4C9A-EC11-9064-005056A7A8DF</td>\n",
       "      <td>14258</td>\n",
       "      <td>55220</td>\n",
       "      <td>1.0</td>\n",
       "      <td>9</td>\n",
       "      <td>69.09</td>\n",
       "      <td>19</td>\n",
       "    </tr>\n",
       "    <tr>\n",
       "      <th>4</th>\n",
       "      <td>54C0631E-D2AD-EC11-9064-005056A7A8DF</td>\n",
       "      <td>12853</td>\n",
       "      <td>32931</td>\n",
       "      <td>1.0</td>\n",
       "      <td>12</td>\n",
       "      <td>49.09</td>\n",
       "      <td>16</td>\n",
       "    </tr>\n",
       "    <tr>\n",
       "      <th>...</th>\n",
       "      <td>...</td>\n",
       "      <td>...</td>\n",
       "      <td>...</td>\n",
       "      <td>...</td>\n",
       "      <td>...</td>\n",
       "      <td>...</td>\n",
       "      <td>...</td>\n",
       "    </tr>\n",
       "    <tr>\n",
       "      <th>5497763</th>\n",
       "      <td>85EDD507-7AF5-EC11-9064-005056A7A8DF</td>\n",
       "      <td>12132</td>\n",
       "      <td>23237</td>\n",
       "      <td>1.0</td>\n",
       "      <td>25</td>\n",
       "      <td>0.83</td>\n",
       "      <td>20</td>\n",
       "    </tr>\n",
       "    <tr>\n",
       "      <th>5497764</th>\n",
       "      <td>C74F3169-E9E8-EC11-9064-005056A7A8DF</td>\n",
       "      <td>12132</td>\n",
       "      <td>23237</td>\n",
       "      <td>1.0</td>\n",
       "      <td>23</td>\n",
       "      <td>0.83</td>\n",
       "      <td>21</td>\n",
       "    </tr>\n",
       "    <tr>\n",
       "      <th>5497765</th>\n",
       "      <td>13299B7C-6FE3-EC11-9064-005056A7A8DF</td>\n",
       "      <td>12192</td>\n",
       "      <td>23237</td>\n",
       "      <td>4.0</td>\n",
       "      <td>22</td>\n",
       "      <td>3.00</td>\n",
       "      <td>21</td>\n",
       "    </tr>\n",
       "    <tr>\n",
       "      <th>5497766</th>\n",
       "      <td>5D2B2CB6-F6E4-EC11-9064-005056A7A8DF</td>\n",
       "      <td>12132</td>\n",
       "      <td>23237</td>\n",
       "      <td>2.0</td>\n",
       "      <td>22</td>\n",
       "      <td>1.62</td>\n",
       "      <td>20</td>\n",
       "    </tr>\n",
       "    <tr>\n",
       "      <th>5497767</th>\n",
       "      <td>1BAFA360-C0E5-EC11-9064-005056A7A8DF</td>\n",
       "      <td>12132</td>\n",
       "      <td>23237</td>\n",
       "      <td>1.0</td>\n",
       "      <td>23</td>\n",
       "      <td>0.68</td>\n",
       "      <td>20</td>\n",
       "    </tr>\n",
       "  </tbody>\n",
       "</table>\n",
       "<p>45915056 rows × 7 columns</p>\n",
       "</div>"
      ],
      "text/plain": [
       "                                     CheckUID  id_tt_cl  id_tov_cl  Quantity  \\\n",
       "0        32C04617-1DA6-EC11-9064-005056A7A8DF     16061      25528       1.0   \n",
       "1        7CC04B95-79AA-EC11-9064-005056A7A8DF     11846       1609       2.0   \n",
       "2        7BC04CF0-8AA6-EC11-9064-005056A7A8DF     11160      49220       1.0   \n",
       "3        75C04F15-4C9A-EC11-9064-005056A7A8DF     14258      55220       1.0   \n",
       "4        54C0631E-D2AD-EC11-9064-005056A7A8DF     12853      32931       1.0   \n",
       "...                                       ...       ...        ...       ...   \n",
       "5497763  85EDD507-7AF5-EC11-9064-005056A7A8DF     12132      23237       1.0   \n",
       "5497764  C74F3169-E9E8-EC11-9064-005056A7A8DF     12132      23237       1.0   \n",
       "5497765  13299B7C-6FE3-EC11-9064-005056A7A8DF     12192      23237       4.0   \n",
       "5497766  5D2B2CB6-F6E4-EC11-9064-005056A7A8DF     12132      23237       2.0   \n",
       "5497767  1BAFA360-C0E5-EC11-9064-005056A7A8DF     12132      23237       1.0   \n",
       "\n",
       "         week  BaseSum  hour  \n",
       "0          11   422.73    20  \n",
       "1          12    67.62    10  \n",
       "2          11   124.17    10  \n",
       "3           9    69.09    19  \n",
       "4          12    49.09    16  \n",
       "...       ...      ...   ...  \n",
       "5497763    25     0.83    20  \n",
       "5497764    23     0.83    21  \n",
       "5497765    22     3.00    21  \n",
       "5497766    22     1.62    20  \n",
       "5497767    23     0.68    20  \n",
       "\n",
       "[45915056 rows x 7 columns]"
      ]
     },
     "execution_count": 4,
     "metadata": {},
     "output_type": "execute_result"
    }
   ],
   "source": [
    "df_checks_short"
   ]
  },
  {
   "cell_type": "markdown",
   "id": "53f8cec0",
   "metadata": {},
   "source": [
    "Грузим Магазины"
   ]
  },
  {
   "cell_type": "code",
   "execution_count": 5,
   "id": "e5d81f55",
   "metadata": {},
   "outputs": [],
   "source": [
    "df_shops = pd.read_excel('./Data_ALL/Shops ZAO SVAO.xlsx')"
   ]
  },
  {
   "cell_type": "code",
   "execution_count": 6,
   "id": "e154ee92",
   "metadata": {},
   "outputs": [
    {
     "data": {
      "text/html": [
       "<div>\n",
       "<style scoped>\n",
       "    .dataframe tbody tr th:only-of-type {\n",
       "        vertical-align: middle;\n",
       "    }\n",
       "\n",
       "    .dataframe tbody tr th {\n",
       "        vertical-align: top;\n",
       "    }\n",
       "\n",
       "    .dataframe thead th {\n",
       "        text-align: right;\n",
       "    }\n",
       "</style>\n",
       "<table border=\"1\" class=\"dataframe\">\n",
       "  <thead>\n",
       "    <tr style=\"text-align: right;\">\n",
       "      <th></th>\n",
       "      <th>id_tt</th>\n",
       "      <th>adress</th>\n",
       "      <th>Hours</th>\n",
       "      <th>Shirota</th>\n",
       "      <th>Dolgota</th>\n",
       "      <th>ploshad</th>\n",
       "      <th>Район</th>\n",
       "      <th>shtat</th>\n",
       "      <th>qty_kassa</th>\n",
       "      <th>qty_kassa_so</th>\n",
       "      <th>format</th>\n",
       "      <th>Region</th>\n",
       "      <th>Start_date</th>\n",
       "    </tr>\n",
       "  </thead>\n",
       "  <tbody>\n",
       "    <tr>\n",
       "      <th>0</th>\n",
       "      <td>10780.0</td>\n",
       "      <td>Москва Осенний бульвар, д. 12, корп. 6</td>\n",
       "      <td>с 7-00 до 23-30</td>\n",
       "      <td>55.758341</td>\n",
       "      <td>37.413949</td>\n",
       "      <td>111.0</td>\n",
       "      <td>Крылатское</td>\n",
       "      <td>9.0</td>\n",
       "      <td>9.0</td>\n",
       "      <td>3.0</td>\n",
       "      <td>ВкусВилл</td>\n",
       "      <td>ZAO</td>\n",
       "      <td>2014-11-27</td>\n",
       "    </tr>\n",
       "    <tr>\n",
       "      <th>1</th>\n",
       "      <td>10786.0</td>\n",
       "      <td>Москва проспект Вернадского, д. 39</td>\n",
       "      <td>с 8-00 до 22-00</td>\n",
       "      <td>55.675544</td>\n",
       "      <td>37.505894</td>\n",
       "      <td>210.0</td>\n",
       "      <td>Проспект Вернадского</td>\n",
       "      <td>5.0</td>\n",
       "      <td>8.0</td>\n",
       "      <td>1.0</td>\n",
       "      <td>ВкусВилл</td>\n",
       "      <td>ZAO</td>\n",
       "      <td>2014-12-26</td>\n",
       "    </tr>\n",
       "    <tr>\n",
       "      <th>2</th>\n",
       "      <td>10864.0</td>\n",
       "      <td>Москва проспект Мира, д. 116</td>\n",
       "      <td>будни с 8-00 до 22-00; вых. с 9-00 до 22-00</td>\n",
       "      <td>55.808868</td>\n",
       "      <td>37.638011</td>\n",
       "      <td>113.4</td>\n",
       "      <td>Алексеевский</td>\n",
       "      <td>4.0</td>\n",
       "      <td>6.0</td>\n",
       "      <td>2.0</td>\n",
       "      <td>ВкусВилл</td>\n",
       "      <td>SVAO</td>\n",
       "      <td>2015-03-24</td>\n",
       "    </tr>\n",
       "    <tr>\n",
       "      <th>3</th>\n",
       "      <td>10904.0</td>\n",
       "      <td>Москва ул. 26 Бакинских Комиссаров, д. 8, корп. 2</td>\n",
       "      <td>с 9-00 до 22-00</td>\n",
       "      <td>55.659170</td>\n",
       "      <td>37.491359</td>\n",
       "      <td>114.5</td>\n",
       "      <td>Тропарево-Никулино</td>\n",
       "      <td>3.0</td>\n",
       "      <td>5.0</td>\n",
       "      <td>1.0</td>\n",
       "      <td>ВкусВилл</td>\n",
       "      <td>ZAO</td>\n",
       "      <td>2015-05-15</td>\n",
       "    </tr>\n",
       "    <tr>\n",
       "      <th>4</th>\n",
       "      <td>11103.0</td>\n",
       "      <td>Москва Можайское шоссе, д. 28</td>\n",
       "      <td>с 8-00 до 22-00</td>\n",
       "      <td>55.720249</td>\n",
       "      <td>37.421364</td>\n",
       "      <td>155.4</td>\n",
       "      <td>Можайский</td>\n",
       "      <td>5.0</td>\n",
       "      <td>6.0</td>\n",
       "      <td>1.0</td>\n",
       "      <td>ВкусВилл</td>\n",
       "      <td>ZAO</td>\n",
       "      <td>2015-12-01</td>\n",
       "    </tr>\n",
       "  </tbody>\n",
       "</table>\n",
       "</div>"
      ],
      "text/plain": [
       "     id_tt                                             adress  \\\n",
       "0  10780.0             Москва Осенний бульвар, д. 12, корп. 6   \n",
       "1  10786.0                 Москва проспект Вернадского, д. 39   \n",
       "2  10864.0                       Москва проспект Мира, д. 116   \n",
       "3  10904.0  Москва ул. 26 Бакинских Комиссаров, д. 8, корп. 2   \n",
       "4  11103.0                      Москва Можайское шоссе, д. 28   \n",
       "\n",
       "                                         Hours    Shirota    Dolgota  ploshad  \\\n",
       "0                              с 7-00 до 23-30  55.758341  37.413949    111.0   \n",
       "1                              с 8-00 до 22-00  55.675544  37.505894    210.0   \n",
       "2  будни с 8-00 до 22-00; вых. с 9-00 до 22-00  55.808868  37.638011    113.4   \n",
       "3                              с 9-00 до 22-00  55.659170  37.491359    114.5   \n",
       "4                              с 8-00 до 22-00  55.720249  37.421364    155.4   \n",
       "\n",
       "                  Район  shtat  qty_kassa  qty_kassa_so    format Region  \\\n",
       "0            Крылатское    9.0        9.0           3.0  ВкусВилл    ZAO   \n",
       "1  Проспект Вернадского    5.0        8.0           1.0  ВкусВилл    ZAO   \n",
       "2          Алексеевский    4.0        6.0           2.0  ВкусВилл   SVAO   \n",
       "3    Тропарево-Никулино    3.0        5.0           1.0  ВкусВилл    ZAO   \n",
       "4             Можайский    5.0        6.0           1.0  ВкусВилл    ZAO   \n",
       "\n",
       "  Start_date  \n",
       "0 2014-11-27  \n",
       "1 2014-12-26  \n",
       "2 2015-03-24  \n",
       "3 2015-05-15  \n",
       "4 2015-12-01  "
      ]
     },
     "execution_count": 6,
     "metadata": {},
     "output_type": "execute_result"
    }
   ],
   "source": [
    "df_shops.head()"
   ]
  },
  {
   "cell_type": "code",
   "execution_count": 7,
   "id": "b8fc7055",
   "metadata": {},
   "outputs": [
    {
     "name": "stdout",
     "output_type": "stream",
     "text": [
      "Small 51\n",
      "Medium 55\n",
      "Big 53\n"
     ]
    }
   ],
   "source": [
    "medium = 120\n",
    "big = 163\n",
    "\n",
    "print('Small', df_shops[df_shops['ploshad'] <= medium].shape[0])\n",
    "\n",
    "print('Medium',df_shops[(df_shops['ploshad'] > medium) & (df_shops['ploshad'] <= big)].shape[0])\n",
    "\n",
    "print('Big', df_shops[df_shops['ploshad'] > big].shape[0])"
   ]
  },
  {
   "cell_type": "markdown",
   "id": "57686b1a",
   "metadata": {},
   "source": [
    "Делим магазины на размеры"
   ]
  },
  {
   "cell_type": "code",
   "execution_count": 8,
   "id": "95f52a16",
   "metadata": {},
   "outputs": [],
   "source": [
    "conditions_s = [\n",
    "    (df_shops['ploshad'] <= medium),\n",
    "    (df_shops['ploshad'] > medium) & (df_shops['ploshad'] <= big),\n",
    "    (df_shops['ploshad'] > big) \n",
    "]\n",
    "values_s = ['S','M','L']\n",
    "\n",
    "df_shops['size'] = np.select(conditions_s,values_s)"
   ]
  },
  {
   "cell_type": "code",
   "execution_count": 9,
   "id": "3eb47da5",
   "metadata": {},
   "outputs": [],
   "source": [
    "l_shops_S = df_shops['id_tt'][df_shops['size'] == 'S'].to_list()\n",
    "l_shops_M = df_shops['id_tt'][df_shops['size'] == 'M'].to_list()\n",
    "l_shops_L = df_shops['id_tt'][df_shops['size'] == 'L'].to_list()"
   ]
  },
  {
   "cell_type": "markdown",
   "id": "3b8a0367",
   "metadata": {},
   "source": [
    "Создаем Pivot таблицу с продажами"
   ]
  },
  {
   "cell_type": "code",
   "execution_count": 10,
   "id": "24b1cc9e",
   "metadata": {},
   "outputs": [],
   "source": [
    "df_pivot_table_S = df_checks_short[df_checks_short['id_tt_cl'].isin(l_shops_S)]\\\n",
    "    .pivot_table(columns=['week'], index=['id_tt_cl'], values = ['BaseSum'])\\\n",
    "    .pct_change(axis=1).copy()\n",
    "\n",
    "df_pivot_table_M = df_checks_short[df_checks_short['id_tt_cl'].isin(l_shops_M)]\\\n",
    "    .pivot_table(columns=['week'], index=['id_tt_cl'], values = ['BaseSum'])\\\n",
    "    .pct_change(axis=1).copy()\n",
    "\n",
    "df_pivot_table_L = df_checks_short[df_checks_short['id_tt_cl'].isin(l_shops_L)]\\\n",
    "    .pivot_table(columns=['week'], index=['id_tt_cl'], values = ['BaseSum'])\\\n",
    "    .pct_change(axis=1).copy()"
   ]
  },
  {
   "cell_type": "markdown",
   "id": "12335723",
   "metadata": {},
   "source": [
    "Выделяем плохие и хорошие магазины на основе изменения продаж в этом магазине на неделе по сравнению с общей динамикой"
   ]
  },
  {
   "cell_type": "code",
   "execution_count": 11,
   "id": "5f5fbd8f",
   "metadata": {},
   "outputs": [],
   "source": [
    "df_week_diff_S = df_pivot_table_S - df_pivot_table_S.median()\n",
    "df_week_diff_M = df_pivot_table_M - df_pivot_table_M.median()\n",
    "df_week_diff_L = df_pivot_table_L - df_pivot_table_L.median()"
   ]
  },
  {
   "cell_type": "code",
   "execution_count": 12,
   "id": "f85c3ad1",
   "metadata": {},
   "outputs": [],
   "source": [
    "df_week_diff_cum_S = (df_week_diff_S - df_week_diff_S.median()).cumsum(axis=1)\n",
    "df_week_diff_cum_M = (df_week_diff_M - df_week_diff_M.median()).cumsum(axis=1)\n",
    "df_week_diff_cum_L = (df_week_diff_L - df_week_diff_L.median()).cumsum(axis=1)"
   ]
  },
  {
   "cell_type": "code",
   "execution_count": 13,
   "id": "5574b370",
   "metadata": {},
   "outputs": [
    {
     "data": {
      "image/png": "[encoded data removed]",
      "text/plain": [
       "<Figure size 1080x720 with 2 Axes>"
      ]
     },
     "metadata": {
      "needs_background": "light"
     },
     "output_type": "display_data"
    }
   ],
   "source": [
    "plt.figure(figsize=(15, 10))\n",
    "week_dif =sns.heatmap(df_week_diff_cum_L, cmap='vlag',center = 0)\n",
    "plt.title('Недельное изменение выручки в магазинах');\n",
    "fig = week_dif.get_figure()\n",
    "fig.tight_layout()\n",
    "fig.savefig('week_dif.jpeg')"
   ]
  },
  {
   "cell_type": "markdown",
   "id": "5931a745",
   "metadata": {},
   "source": [
    "Копируем итоговое Качество магазов в Series"
   ]
  },
  {
   "cell_type": "code",
   "execution_count": 14,
   "id": "73a3a092",
   "metadata": {},
   "outputs": [],
   "source": [
    "m = 20\n",
    "list_bad_S = df_week_diff_cum_S.iloc[:,-1].nsmallest(n = m).index.to_list()\n",
    "list_bad_M = df_week_diff_cum_M.iloc[:,-1].nsmallest(n = m).index.to_list()\n",
    "list_bad_L = df_week_diff_cum_L.iloc[:,-1].nsmallest(n = m).index.to_list()\n",
    "list_good_S = df_week_diff_cum_S.iloc[:,-1].nlargest(n = m).index.to_list()\n",
    "list_good_M = df_week_diff_cum_M.iloc[:,-1].nlargest(n = m).index.to_list()\n",
    "list_good_L = df_week_diff_cum_L.iloc[:,-1].nlargest(n = m).index.to_list()"
   ]
  },
  {
   "cell_type": "code",
   "execution_count": 26,
   "id": "9a8992e5",
   "metadata": {},
   "outputs": [
    {
     "data": {
      "text/plain": [
       "id_tt_cl\n",
       "10780    0.026183\n",
       "10864   -0.017693\n",
       "10904   -0.047143\n",
       "11127   -0.002660\n",
       "11309    0.021417\n",
       "11421   -0.021530\n",
       "11457    0.020643\n",
       "11600    0.006431\n",
       "11616   -0.037244\n",
       "11658    0.063952\n",
       "11697    0.005903\n",
       "11698    0.028536\n",
       "11723    0.012770\n",
       "11732    0.008230\n",
       "11750    0.073528\n",
       "11875   -0.020966\n",
       "11912    0.047695\n",
       "11956    0.036003\n",
       "12004   -0.031823\n",
       "12072   -0.037491\n",
       "12192   -0.026047\n",
       "12261    0.006677\n",
       "12285   -0.017828\n",
       "12296    0.000621\n",
       "12335   -0.008895\n",
       "12337    0.002863\n",
       "12348   -0.009308\n",
       "12468    0.013730\n",
       "12518   -0.020667\n",
       "12533   -0.019794\n",
       "12611    0.038843\n",
       "12689   -0.006536\n",
       "12712   -0.018070\n",
       "12821    0.011667\n",
       "12834    0.024148\n",
       "12859    0.032015\n",
       "12871    0.022192\n",
       "12938   -0.016964\n",
       "13012   -0.008578\n",
       "13168    0.023079\n",
       "13185   -0.017371\n",
       "13429    0.001251\n",
       "13623    0.001333\n",
       "13767    0.017904\n",
       "13779   -0.018694\n",
       "13968    0.002042\n",
       "14125    0.008053\n",
       "14184   -0.045141\n",
       "14537    0.020559\n",
       "14859   -0.020776\n",
       "14966    0.012168\n",
       "Name: (BaseSum, 26), dtype: float64"
      ]
     },
     "execution_count": 26,
     "metadata": {},
     "output_type": "execute_result"
    }
   ],
   "source": [
    "df_week_diff_cum_S.iloc[:,-1]"
   ]
  },
  {
   "cell_type": "markdown",
   "id": "de050581",
   "metadata": {},
   "source": [
    "Размечаем таблицу с магазинами по качеству магазинов"
   ]
  },
  {
   "cell_type": "code",
   "execution_count": 15,
   "id": "ebe5434b",
   "metadata": {},
   "outputs": [],
   "source": [
    "conditions_s = [\n",
    "    (df_shops['id_tt'].isin(list_bad_L)),\n",
    "    (df_shops['id_tt'].isin(list_bad_M)),\n",
    "    (df_shops['id_tt'].isin(list_bad_S)),\n",
    "    (df_shops['id_tt'].isin(list_good_S)),\n",
    "    (df_shops['id_tt'].isin(list_good_M)),\n",
    "    (df_shops['id_tt'].isin(list_good_L)),\n",
    "    (df_shops['size'] == 'S'),\n",
    "    (df_shops['size'] == 'M'),\n",
    "    (df_shops['size'] == 'L')\n",
    "]\n",
    "values_s = [-3,-2,-1,1,2,3,10,20,30]\n",
    "\n",
    "df_shops['quality'] = np.select(conditions_s,values_s, default=0)"
   ]
  },
  {
   "cell_type": "code",
   "execution_count": 16,
   "id": "772e66be",
   "metadata": {},
   "outputs": [],
   "source": [
    "df_shops['id_tt'] = df_shops['id_tt'].astype('int')"
   ]
  },
  {
   "cell_type": "code",
   "execution_count": 17,
   "id": "c4b609bf",
   "metadata": {},
   "outputs": [],
   "source": [
    "df_shops = df_shops.set_index('id_tt')"
   ]
  },
  {
   "cell_type": "code",
   "execution_count": 19,
   "id": "450c2bd5",
   "metadata": {},
   "outputs": [],
   "source": [
    "df_shops.to_excel(\"./df_shops.xlsx\")"
   ]
  },
  {
   "cell_type": "code",
   "execution_count": 20,
   "id": "bd4a4527",
   "metadata": {},
   "outputs": [],
   "source": [
    "df_shops.to_pickle(\"./df_shops.pkl\")"
   ]
  },
  {
   "cell_type": "code",
   "execution_count": 21,
   "id": "52fb0c33",
   "metadata": {},
   "outputs": [],
   "source": [
    "lis_shops = df_shops.index.to_list()"
   ]
  },
  {
   "cell_type": "code",
   "execution_count": 22,
   "id": "ecb7d1f4",
   "metadata": {},
   "outputs": [
    {
     "data": {
      "text/plain": [
       "45915056"
      ]
     },
     "execution_count": 22,
     "metadata": {},
     "output_type": "execute_result"
    }
   ],
   "source": [
    "df_checks_short.shape[0]"
   ]
  },
  {
   "cell_type": "code",
   "execution_count": 23,
   "id": "f76e179e",
   "metadata": {},
   "outputs": [
    {
     "data": {
      "text/plain": [
       "45915056"
      ]
     },
     "execution_count": 23,
     "metadata": {},
     "output_type": "execute_result"
    }
   ],
   "source": [
    "df_checks_short.shape[0]"
   ]
  },
  {
   "cell_type": "code",
   "execution_count": 24,
   "id": "6724f4d1",
   "metadata": {},
   "outputs": [],
   "source": [
    "#Убираем из чеков магазины ко оторым у нас нет данных \n",
    "df_checks_short = df_checks_short[df_checks_short['id_tt_cl'].isin(lis_shops)]"
   ]
  },
  {
   "cell_type": "code",
   "execution_count": 25,
   "id": "0deaca3c",
   "metadata": {},
   "outputs": [],
   "source": [
    "df_checks_short.to_pickle(\"./df_checks_short.pkl\")"
   ]
  }
 ],
 "metadata": {
  "kernelspec": {
   "display_name": "Python 3.10.5 64-bit",
   "language": "python",
   "name": "python3"
  },
  "language_info": {
   "codemirror_mode": {
    "name": "ipython",
    "version": 3
   },
   "file_extension": ".py",
   "mimetype": "text/x-python",
   "name": "python",
   "nbconvert_exporter": "python",
   "pygments_lexer": "ipython3",
   "version": "3.10.5"
  },
  "vscode": {
   "interpreter": {
    "hash": "d14802a80fda041396e29d0ef764e9db1b52be87434e2145de2ac9afbbaeae6f"
   }
  }
 },
 "nbformat": 4,
 "nbformat_minor": 5
}

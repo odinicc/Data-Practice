{
 "cells": [
  {
   "cell_type": "code",
   "execution_count": 1,
   "id": "02d59dd2",
   "metadata": {},
   "outputs": [],
   "source": [
    "import pandas as pd\n",
    "import numpy as np\n",
    "from tqdm import tqdm_notebook\n",
    "pd.set_option('display.max_columns',None)\n",
    "\n",
    "\n",
    "\n",
    "from pandas.api.types import CategoricalDtype\n",
    "\n",
    "import matplotlib.pyplot as plt\n",
    "import seaborn as sns\n",
    "import plotly.express as px\n",
    "import plotly\n",
    "\n",
    "sns.set(style='whitegrid')\n",
    "plt.rcParams['figure.figsize']=(15,5)\n",
    "%config InlineBackend.figure_format = 'png'\n",
    "%matplotlib inline"
   ]
  },
  {
   "cell_type": "markdown",
   "id": "6395b3fb",
   "metadata": {},
   "source": [
    "Грузим данные "
   ]
  },
  {
   "cell_type": "code",
   "execution_count": 2,
   "id": "f194addb",
   "metadata": {},
   "outputs": [],
   "source": [
    "df_march_SVAO = pd.read_csv('./data_SVAO/svao_march.csv', sep=';')\n",
    "df_apr_SVAO = pd.read_csv('./data_SVAO/svao_april.csv', sep=';')\n",
    "df_may_SVAO = pd.read_csv('./data_SVAO/svao_may.csv', sep=';')\n",
    "df_june_SVAO = pd.read_csv('./data_SVAO/svao_june.csv', sep=';')\n",
    "\n"
   ]
  },
  {
   "cell_type": "code",
   "execution_count": 3,
   "id": "45ec8600",
   "metadata": {},
   "outputs": [],
   "source": [
    "df_march_ZAO = pd.read_csv('./data_ZAO/zao_march.csv', sep=';')\n",
    "df_apr_ZAO = pd.read_csv('./data_ZAO/zao_april.csv', sep=';')"
   ]
  },
  {
   "cell_type": "code",
   "execution_count": 5,
   "id": "e3de4d8a",
   "metadata": {},
   "outputs": [],
   "source": [
    "\n",
    "df_may_ZAO = pd.read_csv('./data_ZAO/zao_may.csv', sep=';')\n",
    "df_june_ZAO = pd.read_csv('./data_ZAO/zao_june.csv', sep=';')\n"
   ]
  },
  {
   "cell_type": "code",
   "execution_count": 6,
   "id": "c0b25e32",
   "metadata": {},
   "outputs": [],
   "source": [
    "df_checks  = pd.concat([df_march_SVAO, df_apr_SVAO, df_may_SVAO, df_june_SVAO,df_march_ZAO, df_apr_ZAO, df_may_ZAO, df_june_ZAO ], axis=0)"
   ]
  },
  {
   "cell_type": "code",
   "execution_count": 7,
   "id": "1beda6db",
   "metadata": {},
   "outputs": [],
   "source": [
    "df_checks.to_pickle(\"./df_checks1.pkl\")"
   ]
  },
  {
   "cell_type": "code",
   "execution_count": null,
   "id": "018241b6",
   "metadata": {},
   "outputs": [
    {
     "name": "stderr",
     "output_type": "stream",
     "text": [
      "C:\\Temp\\ipykernel_10096\\315077176.py:5: FutureWarning: Series.dt.weekofyear and Series.dt.week have been deprecated. Please use Series.dt.isocalendar().week instead.\n",
      "  df_checks['week'] = date.dt.week\n"
     ]
    }
   ],
   "source": [
    "date = pd.to_datetime(df_checks['date_ch'])\n",
    "df_checks['day'] = date.dt.day\n",
    "df_checks['month'] = date.dt.month\n",
    "df_checks['week'] = date.dt.week\n",
    "df_checks['day_of_week'] = date.dt.day_name()\n",
    "\n",
    "df_checks['hour'] = df_checks['time_ch'].apply(lambda x: x.split(':')[0]).astype(int)"
   ]
  },
  {
   "cell_type": "code",
   "execution_count": null,
   "id": "144529f0",
   "metadata": {},
   "outputs": [],
   "source": [
    "df_checks['BaseSum'] = df_checks['BaseSum'].round(decimals = 2)"
   ]
  },
  {
   "cell_type": "code",
   "execution_count": null,
   "id": "513910a3",
   "metadata": {},
   "outputs": [
    {
     "ename": "MemoryError",
     "evalue": "Unable to allocate 351. MiB for an array with shape (45975796,) and data type float64",
     "output_type": "error",
     "traceback": [
      "\u001b[1;31m---------------------------------------------------------------------------\u001b[0m",
      "\u001b[1;31mMemoryError\u001b[0m                               Traceback (most recent call last)",
      "\u001b[1;32mc:\\Users\\ivan\\Dropbox\\vkusvill.ru\\01 Upload.ipynb Cell 9'\u001b[0m in \u001b[0;36m<cell line: 1>\u001b[1;34m()\u001b[0m\n\u001b[1;32m----> <a href='vscode-notebook-cell:/c%3A/Users/ivan/Dropbox/vkusvill.ru/01%20Upload.ipynb#ch0000020?line=0'>1</a>\u001b[0m df_checks[\u001b[39m'\u001b[39m\u001b[39mBasePrice\u001b[39m\u001b[39m'\u001b[39m] \u001b[39m=\u001b[39m df_checks[\u001b[39m'\u001b[39m\u001b[39mBasePrice\u001b[39m\u001b[39m'\u001b[39m]\u001b[39m.\u001b[39mround(decimals \u001b[39m=\u001b[39m \u001b[39m2\u001b[39m)\n",
      "File \u001b[1;32mc:\\Users\\ivan\\AppData\\Local\\Programs\\Python\\Python310\\lib\\site-packages\\pandas\\core\\frame.py:3655\u001b[0m, in \u001b[0;36mDataFrame.__setitem__\u001b[1;34m(self, key, value)\u001b[0m\n\u001b[0;32m   3652\u001b[0m     \u001b[39mself\u001b[39m\u001b[39m.\u001b[39m_setitem_array([key], value)\n\u001b[0;32m   3653\u001b[0m \u001b[39melse\u001b[39;00m:\n\u001b[0;32m   3654\u001b[0m     \u001b[39m# set column\u001b[39;00m\n\u001b[1;32m-> 3655\u001b[0m     \u001b[39mself\u001b[39;49m\u001b[39m.\u001b[39;49m_set_item(key, value)\n",
      "File \u001b[1;32mc:\\Users\\ivan\\AppData\\Local\\Programs\\Python\\Python310\\lib\\site-packages\\pandas\\core\\frame.py:3832\u001b[0m, in \u001b[0;36mDataFrame._set_item\u001b[1;34m(self, key, value)\u001b[0m\n\u001b[0;32m   3822\u001b[0m \u001b[39mdef\u001b[39;00m \u001b[39m_set_item\u001b[39m(\u001b[39mself\u001b[39m, key, value) \u001b[39m-\u001b[39m\u001b[39m>\u001b[39m \u001b[39mNone\u001b[39;00m:\n\u001b[0;32m   3823\u001b[0m     \u001b[39m\"\"\"\u001b[39;00m\n\u001b[0;32m   3824\u001b[0m \u001b[39m    Add series to DataFrame in specified column.\u001b[39;00m\n\u001b[0;32m   3825\u001b[0m \n\u001b[1;32m   (...)\u001b[0m\n\u001b[0;32m   3830\u001b[0m \u001b[39m    ensure homogeneity.\u001b[39;00m\n\u001b[0;32m   3831\u001b[0m \u001b[39m    \"\"\"\u001b[39;00m\n\u001b[1;32m-> 3832\u001b[0m     value \u001b[39m=\u001b[39m \u001b[39mself\u001b[39;49m\u001b[39m.\u001b[39;49m_sanitize_column(value)\n\u001b[0;32m   3834\u001b[0m     \u001b[39mif\u001b[39;00m (\n\u001b[0;32m   3835\u001b[0m         key \u001b[39min\u001b[39;00m \u001b[39mself\u001b[39m\u001b[39m.\u001b[39mcolumns\n\u001b[0;32m   3836\u001b[0m         \u001b[39mand\u001b[39;00m value\u001b[39m.\u001b[39mndim \u001b[39m==\u001b[39m \u001b[39m1\u001b[39m\n\u001b[0;32m   3837\u001b[0m         \u001b[39mand\u001b[39;00m \u001b[39mnot\u001b[39;00m is_extension_array_dtype(value)\n\u001b[0;32m   3838\u001b[0m     ):\n\u001b[0;32m   3839\u001b[0m         \u001b[39m# broadcast across multiple columns if necessary\u001b[39;00m\n\u001b[0;32m   3840\u001b[0m         \u001b[39mif\u001b[39;00m \u001b[39mnot\u001b[39;00m \u001b[39mself\u001b[39m\u001b[39m.\u001b[39mcolumns\u001b[39m.\u001b[39mis_unique \u001b[39mor\u001b[39;00m \u001b[39misinstance\u001b[39m(\u001b[39mself\u001b[39m\u001b[39m.\u001b[39mcolumns, MultiIndex):\n",
      "File \u001b[1;32mc:\\Users\\ivan\\AppData\\Local\\Programs\\Python\\Python310\\lib\\site-packages\\pandas\\core\\frame.py:4532\u001b[0m, in \u001b[0;36mDataFrame._sanitize_column\u001b[1;34m(self, value)\u001b[0m\n\u001b[0;32m   4530\u001b[0m \u001b[39m# We should never get here with DataFrame value\u001b[39;00m\n\u001b[0;32m   4531\u001b[0m \u001b[39mif\u001b[39;00m \u001b[39misinstance\u001b[39m(value, Series):\n\u001b[1;32m-> 4532\u001b[0m     \u001b[39mreturn\u001b[39;00m _reindex_for_setitem(value, \u001b[39mself\u001b[39;49m\u001b[39m.\u001b[39;49mindex)\n\u001b[0;32m   4534\u001b[0m \u001b[39mif\u001b[39;00m is_list_like(value):\n\u001b[0;32m   4535\u001b[0m     com\u001b[39m.\u001b[39mrequire_length_match(value, \u001b[39mself\u001b[39m\u001b[39m.\u001b[39mindex)\n",
      "File \u001b[1;32mc:\\Users\\ivan\\AppData\\Local\\Programs\\Python\\Python310\\lib\\site-packages\\pandas\\core\\frame.py:10990\u001b[0m, in \u001b[0;36m_reindex_for_setitem\u001b[1;34m(value, index)\u001b[0m\n\u001b[0;32m  10986\u001b[0m \u001b[39mdef\u001b[39;00m \u001b[39m_reindex_for_setitem\u001b[39m(value: DataFrame \u001b[39m|\u001b[39m Series, index: Index) \u001b[39m-\u001b[39m\u001b[39m>\u001b[39m ArrayLike:\n\u001b[0;32m  10987\u001b[0m     \u001b[39m# reindex if necessary\u001b[39;00m\n\u001b[0;32m  10989\u001b[0m     \u001b[39mif\u001b[39;00m value\u001b[39m.\u001b[39mindex\u001b[39m.\u001b[39mequals(index) \u001b[39mor\u001b[39;00m \u001b[39mnot\u001b[39;00m \u001b[39mlen\u001b[39m(index):\n\u001b[1;32m> 10990\u001b[0m         \u001b[39mreturn\u001b[39;00m value\u001b[39m.\u001b[39;49m_values\u001b[39m.\u001b[39;49mcopy()\n\u001b[0;32m  10992\u001b[0m     \u001b[39m# GH#4107\u001b[39;00m\n\u001b[0;32m  10993\u001b[0m     \u001b[39mtry\u001b[39;00m:\n",
      "\u001b[1;31mMemoryError\u001b[0m: Unable to allocate 351. MiB for an array with shape (45975796,) and data type float64"
     ]
    }
   ],
   "source": [
    "df_checks['BasePrice'] = df_checks['BasePrice'].round(decimals = 2)"
   ]
  },
  {
   "cell_type": "code",
   "execution_count": null,
   "id": "1f52000c",
   "metadata": {},
   "outputs": [
    {
     "ename": "MemoryError",
     "evalue": "Unable to allocate 351. MiB for an array with shape (45975796,) and data type float64",
     "output_type": "error",
     "traceback": [
      "\u001b[1;31m---------------------------------------------------------------------------\u001b[0m",
      "\u001b[1;31mMemoryError\u001b[0m                               Traceback (most recent call last)",
      "\u001b[1;32mc:\\Users\\ivan\\Dropbox\\vkusvill.ru\\01 Upload.ipynb Cell 10'\u001b[0m in \u001b[0;36m<cell line: 1>\u001b[1;34m()\u001b[0m\n\u001b[1;32m----> <a href='vscode-notebook-cell:/c%3A/Users/ivan/Dropbox/vkusvill.ru/01%20Upload.ipynb#ch0000021?line=0'>1</a>\u001b[0m df_checks[\u001b[39m'\u001b[39m\u001b[39mPrice_retail\u001b[39m\u001b[39m'\u001b[39m] \u001b[39m=\u001b[39m df_checks[\u001b[39m'\u001b[39m\u001b[39mPrice_retail\u001b[39m\u001b[39m'\u001b[39m]\u001b[39m.\u001b[39mround(decimals \u001b[39m=\u001b[39m \u001b[39m2\u001b[39m)\n",
      "File \u001b[1;32mc:\\Users\\ivan\\AppData\\Local\\Programs\\Python\\Python310\\lib\\site-packages\\pandas\\core\\frame.py:3655\u001b[0m, in \u001b[0;36mDataFrame.__setitem__\u001b[1;34m(self, key, value)\u001b[0m\n\u001b[0;32m   3652\u001b[0m     \u001b[39mself\u001b[39m\u001b[39m.\u001b[39m_setitem_array([key], value)\n\u001b[0;32m   3653\u001b[0m \u001b[39melse\u001b[39;00m:\n\u001b[0;32m   3654\u001b[0m     \u001b[39m# set column\u001b[39;00m\n\u001b[1;32m-> 3655\u001b[0m     \u001b[39mself\u001b[39;49m\u001b[39m.\u001b[39;49m_set_item(key, value)\n",
      "File \u001b[1;32mc:\\Users\\ivan\\AppData\\Local\\Programs\\Python\\Python310\\lib\\site-packages\\pandas\\core\\frame.py:3832\u001b[0m, in \u001b[0;36mDataFrame._set_item\u001b[1;34m(self, key, value)\u001b[0m\n\u001b[0;32m   3822\u001b[0m \u001b[39mdef\u001b[39;00m \u001b[39m_set_item\u001b[39m(\u001b[39mself\u001b[39m, key, value) \u001b[39m-\u001b[39m\u001b[39m>\u001b[39m \u001b[39mNone\u001b[39;00m:\n\u001b[0;32m   3823\u001b[0m     \u001b[39m\"\"\"\u001b[39;00m\n\u001b[0;32m   3824\u001b[0m \u001b[39m    Add series to DataFrame in specified column.\u001b[39;00m\n\u001b[0;32m   3825\u001b[0m \n\u001b[1;32m   (...)\u001b[0m\n\u001b[0;32m   3830\u001b[0m \u001b[39m    ensure homogeneity.\u001b[39;00m\n\u001b[0;32m   3831\u001b[0m \u001b[39m    \"\"\"\u001b[39;00m\n\u001b[1;32m-> 3832\u001b[0m     value \u001b[39m=\u001b[39m \u001b[39mself\u001b[39;49m\u001b[39m.\u001b[39;49m_sanitize_column(value)\n\u001b[0;32m   3834\u001b[0m     \u001b[39mif\u001b[39;00m (\n\u001b[0;32m   3835\u001b[0m         key \u001b[39min\u001b[39;00m \u001b[39mself\u001b[39m\u001b[39m.\u001b[39mcolumns\n\u001b[0;32m   3836\u001b[0m         \u001b[39mand\u001b[39;00m value\u001b[39m.\u001b[39mndim \u001b[39m==\u001b[39m \u001b[39m1\u001b[39m\n\u001b[0;32m   3837\u001b[0m         \u001b[39mand\u001b[39;00m \u001b[39mnot\u001b[39;00m is_extension_array_dtype(value)\n\u001b[0;32m   3838\u001b[0m     ):\n\u001b[0;32m   3839\u001b[0m         \u001b[39m# broadcast across multiple columns if necessary\u001b[39;00m\n\u001b[0;32m   3840\u001b[0m         \u001b[39mif\u001b[39;00m \u001b[39mnot\u001b[39;00m \u001b[39mself\u001b[39m\u001b[39m.\u001b[39mcolumns\u001b[39m.\u001b[39mis_unique \u001b[39mor\u001b[39;00m \u001b[39misinstance\u001b[39m(\u001b[39mself\u001b[39m\u001b[39m.\u001b[39mcolumns, MultiIndex):\n",
      "File \u001b[1;32mc:\\Users\\ivan\\AppData\\Local\\Programs\\Python\\Python310\\lib\\site-packages\\pandas\\core\\frame.py:4532\u001b[0m, in \u001b[0;36mDataFrame._sanitize_column\u001b[1;34m(self, value)\u001b[0m\n\u001b[0;32m   4530\u001b[0m \u001b[39m# We should never get here with DataFrame value\u001b[39;00m\n\u001b[0;32m   4531\u001b[0m \u001b[39mif\u001b[39;00m \u001b[39misinstance\u001b[39m(value, Series):\n\u001b[1;32m-> 4532\u001b[0m     \u001b[39mreturn\u001b[39;00m _reindex_for_setitem(value, \u001b[39mself\u001b[39;49m\u001b[39m.\u001b[39;49mindex)\n\u001b[0;32m   4534\u001b[0m \u001b[39mif\u001b[39;00m is_list_like(value):\n\u001b[0;32m   4535\u001b[0m     com\u001b[39m.\u001b[39mrequire_length_match(value, \u001b[39mself\u001b[39m\u001b[39m.\u001b[39mindex)\n",
      "File \u001b[1;32mc:\\Users\\ivan\\AppData\\Local\\Programs\\Python\\Python310\\lib\\site-packages\\pandas\\core\\frame.py:10990\u001b[0m, in \u001b[0;36m_reindex_for_setitem\u001b[1;34m(value, index)\u001b[0m\n\u001b[0;32m  10986\u001b[0m \u001b[39mdef\u001b[39;00m \u001b[39m_reindex_for_setitem\u001b[39m(value: DataFrame \u001b[39m|\u001b[39m Series, index: Index) \u001b[39m-\u001b[39m\u001b[39m>\u001b[39m ArrayLike:\n\u001b[0;32m  10987\u001b[0m     \u001b[39m# reindex if necessary\u001b[39;00m\n\u001b[0;32m  10989\u001b[0m     \u001b[39mif\u001b[39;00m value\u001b[39m.\u001b[39mindex\u001b[39m.\u001b[39mequals(index) \u001b[39mor\u001b[39;00m \u001b[39mnot\u001b[39;00m \u001b[39mlen\u001b[39m(index):\n\u001b[1;32m> 10990\u001b[0m         \u001b[39mreturn\u001b[39;00m value\u001b[39m.\u001b[39;49m_values\u001b[39m.\u001b[39;49mcopy()\n\u001b[0;32m  10992\u001b[0m     \u001b[39m# GH#4107\u001b[39;00m\n\u001b[0;32m  10993\u001b[0m     \u001b[39mtry\u001b[39;00m:\n",
      "\u001b[1;31mMemoryError\u001b[0m: Unable to allocate 351. MiB for an array with shape (45975796,) and data type float64"
     ]
    }
   ],
   "source": [
    "df_checks['Price_retail'] = df_checks['Price_retail'].round(decimals = 2)"
   ]
  },
  {
   "cell_type": "code",
   "execution_count": null,
   "id": "1f397f87",
   "metadata": {},
   "outputs": [
    {
     "data": {
      "text/html": [
       "<div>\n",
       "<style scoped>\n",
       "    .dataframe tbody tr th:only-of-type {\n",
       "        vertical-align: middle;\n",
       "    }\n",
       "\n",
       "    .dataframe tbody tr th {\n",
       "        vertical-align: top;\n",
       "    }\n",
       "\n",
       "    .dataframe thead th {\n",
       "        text-align: right;\n",
       "    }\n",
       "</style>\n",
       "<table border=\"1\" class=\"dataframe\">\n",
       "  <thead>\n",
       "    <tr style=\"text-align: right;\">\n",
       "      <th></th>\n",
       "      <th>CheckUID</th>\n",
       "      <th>BasePrice</th>\n",
       "      <th>Quantity</th>\n",
       "      <th>BaseSum</th>\n",
       "      <th>id_tt_cl</th>\n",
       "      <th>id_tov_cl</th>\n",
       "      <th>znak</th>\n",
       "      <th>Price_retail</th>\n",
       "      <th>BonusCard_cl</th>\n",
       "      <th>NameForClient</th>\n",
       "      <th>green_price</th>\n",
       "      <th>type_order</th>\n",
       "      <th>day</th>\n",
       "      <th>year</th>\n",
       "      <th>month</th>\n",
       "      <th>week</th>\n",
       "      <th>day_of_week</th>\n",
       "      <th>hour</th>\n",
       "      <th>time</th>\n",
       "    </tr>\n",
       "  </thead>\n",
       "  <tbody>\n",
       "    <tr>\n",
       "      <th>0</th>\n",
       "      <td>32C04617-1DA6-EC11-9064-005056A7A8DF</td>\n",
       "      <td>422.727273</td>\n",
       "      <td>1.0</td>\n",
       "      <td>422.73</td>\n",
       "      <td>16061</td>\n",
       "      <td>25528</td>\n",
       "      <td>1</td>\n",
       "      <td>422.727273</td>\n",
       "      <td>8228904</td>\n",
       "      <td>NaN</td>\n",
       "      <td>NaN</td>\n",
       "      <td>ofline</td>\n",
       "      <td>17</td>\n",
       "      <td>2022</td>\n",
       "      <td>3</td>\n",
       "      <td>11</td>\n",
       "      <td>Thursday</td>\n",
       "      <td>20</td>\n",
       "      <td>53</td>\n",
       "    </tr>\n",
       "    <tr>\n",
       "      <th>1</th>\n",
       "      <td>7CC04B95-79AA-EC11-9064-005056A7A8DF</td>\n",
       "      <td>33.809091</td>\n",
       "      <td>2.0</td>\n",
       "      <td>67.62</td>\n",
       "      <td>11846</td>\n",
       "      <td>1609</td>\n",
       "      <td>1</td>\n",
       "      <td>56.363636</td>\n",
       "      <td>5657889</td>\n",
       "      <td>Зеленый Ценник</td>\n",
       "      <td>1.0</td>\n",
       "      <td>ofline</td>\n",
       "      <td>23</td>\n",
       "      <td>2022</td>\n",
       "      <td>3</td>\n",
       "      <td>12</td>\n",
       "      <td>Wednesday</td>\n",
       "      <td>10</td>\n",
       "      <td>18</td>\n",
       "    </tr>\n",
       "    <tr>\n",
       "      <th>2</th>\n",
       "      <td>7BC04CF0-8AA6-EC11-9064-005056A7A8DF</td>\n",
       "      <td>124.166667</td>\n",
       "      <td>1.0</td>\n",
       "      <td>124.17</td>\n",
       "      <td>11160</td>\n",
       "      <td>49220</td>\n",
       "      <td>1</td>\n",
       "      <td>124.166667</td>\n",
       "      <td>7580039</td>\n",
       "      <td>NaN</td>\n",
       "      <td>NaN</td>\n",
       "      <td>online</td>\n",
       "      <td>18</td>\n",
       "      <td>2022</td>\n",
       "      <td>3</td>\n",
       "      <td>11</td>\n",
       "      <td>Friday</td>\n",
       "      <td>10</td>\n",
       "      <td>9</td>\n",
       "    </tr>\n",
       "    <tr>\n",
       "      <th>3</th>\n",
       "      <td>75C04F15-4C9A-EC11-9064-005056A7A8DF</td>\n",
       "      <td>69.090909</td>\n",
       "      <td>1.0</td>\n",
       "      <td>69.09</td>\n",
       "      <td>14258</td>\n",
       "      <td>55220</td>\n",
       "      <td>1</td>\n",
       "      <td>69.090909</td>\n",
       "      <td>8381841</td>\n",
       "      <td>NaN</td>\n",
       "      <td>NaN</td>\n",
       "      <td>ofline</td>\n",
       "      <td>2</td>\n",
       "      <td>2022</td>\n",
       "      <td>3</td>\n",
       "      <td>9</td>\n",
       "      <td>Wednesday</td>\n",
       "      <td>19</td>\n",
       "      <td>58</td>\n",
       "    </tr>\n",
       "    <tr>\n",
       "      <th>4</th>\n",
       "      <td>54C0631E-D2AD-EC11-9064-005056A7A8DF</td>\n",
       "      <td>49.090909</td>\n",
       "      <td>1.0</td>\n",
       "      <td>49.09</td>\n",
       "      <td>12853</td>\n",
       "      <td>32931</td>\n",
       "      <td>1</td>\n",
       "      <td>49.090909</td>\n",
       "      <td>9086837</td>\n",
       "      <td>NaN</td>\n",
       "      <td>NaN</td>\n",
       "      <td>ofline</td>\n",
       "      <td>27</td>\n",
       "      <td>2022</td>\n",
       "      <td>3</td>\n",
       "      <td>12</td>\n",
       "      <td>Sunday</td>\n",
       "      <td>16</td>\n",
       "      <td>21</td>\n",
       "    </tr>\n",
       "  </tbody>\n",
       "</table>\n",
       "</div>"
      ],
      "text/plain": [
       "                               CheckUID   BasePrice  Quantity  BaseSum  \\\n",
       "0  32C04617-1DA6-EC11-9064-005056A7A8DF  422.727273       1.0   422.73   \n",
       "1  7CC04B95-79AA-EC11-9064-005056A7A8DF   33.809091       2.0    67.62   \n",
       "2  7BC04CF0-8AA6-EC11-9064-005056A7A8DF  124.166667       1.0   124.17   \n",
       "3  75C04F15-4C9A-EC11-9064-005056A7A8DF   69.090909       1.0    69.09   \n",
       "4  54C0631E-D2AD-EC11-9064-005056A7A8DF   49.090909       1.0    49.09   \n",
       "\n",
       "   id_tt_cl  id_tov_cl  znak  Price_retail BonusCard_cl  \\\n",
       "0     16061      25528     1    422.727273   8228904      \n",
       "1     11846       1609     1     56.363636   5657889      \n",
       "2     11160      49220     1    124.166667   7580039      \n",
       "3     14258      55220     1     69.090909   8381841      \n",
       "4     12853      32931     1     49.090909   9086837      \n",
       "\n",
       "                              NameForClient  green_price type_order  day  \\\n",
       "0                                       NaN          NaN     ofline   17   \n",
       "1  Зеленый Ценник                                    1.0     ofline   23   \n",
       "2                                       NaN          NaN     online   18   \n",
       "3                                       NaN          NaN     ofline    2   \n",
       "4                                       NaN          NaN     ofline   27   \n",
       "\n",
       "   year  month  week day_of_week  hour  time  \n",
       "0  2022      3    11    Thursday    20    53  \n",
       "1  2022      3    12   Wednesday    10    18  \n",
       "2  2022      3    11      Friday    10     9  \n",
       "3  2022      3     9   Wednesday    19    58  \n",
       "4  2022      3    12      Sunday    16    21  "
      ]
     },
     "execution_count": 19,
     "metadata": {},
     "output_type": "execute_result"
    }
   ],
   "source": [
    "df_checks.head()"
   ]
  },
  {
   "cell_type": "code",
   "execution_count": 16,
   "id": "77ce55ea",
   "metadata": {},
   "outputs": [
    {
     "data": {
      "text/plain": [
       "Index(['CheckUID', 'CashCheckLineNo', 'BasePrice', 'Quantity', 'BaseSum',\n",
       "       'id_tt_cl', 'id_tov_cl', 'znak', 'Price_retail', 'BonusCard_cl',\n",
       "       'id_lovepr_card_tov', 'id_discount_chl', 'NameForClient', 'green_price',\n",
       "       'type_order', 'day', 'year', 'month', 'week', 'day_of_week', 'hour',\n",
       "       'time'],\n",
       "      dtype='object')"
      ]
     },
     "execution_count": 16,
     "metadata": {},
     "output_type": "execute_result"
    }
   ],
   "source": [
    "df_checks.columns"
   ]
  },
  {
   "cell_type": "code",
   "execution_count": 20,
   "id": "083e56d5",
   "metadata": {},
   "outputs": [],
   "source": [
    "del df_checks['time']"
   ]
  },
  {
   "cell_type": "code",
   "execution_count": 24,
   "id": "00b1f1a0",
   "metadata": {},
   "outputs": [],
   "source": [
    "del df_checks['green_price']\n"
   ]
  },
  {
   "cell_type": "code",
   "execution_count": 28,
   "id": "be4bea4d",
   "metadata": {},
   "outputs": [
    {
     "data": {
      "text/html": [
       "<div>\n",
       "<style scoped>\n",
       "    .dataframe tbody tr th:only-of-type {\n",
       "        vertical-align: middle;\n",
       "    }\n",
       "\n",
       "    .dataframe tbody tr th {\n",
       "        vertical-align: top;\n",
       "    }\n",
       "\n",
       "    .dataframe thead th {\n",
       "        text-align: right;\n",
       "    }\n",
       "</style>\n",
       "<table border=\"1\" class=\"dataframe\">\n",
       "  <thead>\n",
       "    <tr style=\"text-align: right;\">\n",
       "      <th></th>\n",
       "      <th>CheckUID</th>\n",
       "      <th>BasePrice</th>\n",
       "      <th>Quantity</th>\n",
       "      <th>BaseSum</th>\n",
       "      <th>id_tt_cl</th>\n",
       "      <th>id_tov_cl</th>\n",
       "      <th>Price_retail</th>\n",
       "      <th>BonusCard_cl</th>\n",
       "      <th>NameForClient</th>\n",
       "      <th>type_order</th>\n",
       "      <th>day</th>\n",
       "      <th>year</th>\n",
       "      <th>month</th>\n",
       "      <th>week</th>\n",
       "      <th>day_of_week</th>\n",
       "      <th>hour</th>\n",
       "    </tr>\n",
       "  </thead>\n",
       "  <tbody>\n",
       "    <tr>\n",
       "      <th>0</th>\n",
       "      <td>32C04617-1DA6-EC11-9064-005056A7A8DF</td>\n",
       "      <td>422.727273</td>\n",
       "      <td>1.0</td>\n",
       "      <td>422.73</td>\n",
       "      <td>16061</td>\n",
       "      <td>25528</td>\n",
       "      <td>422.727273</td>\n",
       "      <td>8228904</td>\n",
       "      <td>NaN</td>\n",
       "      <td>ofline</td>\n",
       "      <td>17</td>\n",
       "      <td>2022</td>\n",
       "      <td>3</td>\n",
       "      <td>11</td>\n",
       "      <td>Thursday</td>\n",
       "      <td>20</td>\n",
       "    </tr>\n",
       "    <tr>\n",
       "      <th>1</th>\n",
       "      <td>7CC04B95-79AA-EC11-9064-005056A7A8DF</td>\n",
       "      <td>33.809091</td>\n",
       "      <td>2.0</td>\n",
       "      <td>67.62</td>\n",
       "      <td>11846</td>\n",
       "      <td>1609</td>\n",
       "      <td>56.363636</td>\n",
       "      <td>5657889</td>\n",
       "      <td>Зеленый Ценник</td>\n",
       "      <td>ofline</td>\n",
       "      <td>23</td>\n",
       "      <td>2022</td>\n",
       "      <td>3</td>\n",
       "      <td>12</td>\n",
       "      <td>Wednesday</td>\n",
       "      <td>10</td>\n",
       "    </tr>\n",
       "    <tr>\n",
       "      <th>2</th>\n",
       "      <td>7BC04CF0-8AA6-EC11-9064-005056A7A8DF</td>\n",
       "      <td>124.166667</td>\n",
       "      <td>1.0</td>\n",
       "      <td>124.17</td>\n",
       "      <td>11160</td>\n",
       "      <td>49220</td>\n",
       "      <td>124.166667</td>\n",
       "      <td>7580039</td>\n",
       "      <td>NaN</td>\n",
       "      <td>online</td>\n",
       "      <td>18</td>\n",
       "      <td>2022</td>\n",
       "      <td>3</td>\n",
       "      <td>11</td>\n",
       "      <td>Friday</td>\n",
       "      <td>10</td>\n",
       "    </tr>\n",
       "    <tr>\n",
       "      <th>3</th>\n",
       "      <td>75C04F15-4C9A-EC11-9064-005056A7A8DF</td>\n",
       "      <td>69.090909</td>\n",
       "      <td>1.0</td>\n",
       "      <td>69.09</td>\n",
       "      <td>14258</td>\n",
       "      <td>55220</td>\n",
       "      <td>69.090909</td>\n",
       "      <td>8381841</td>\n",
       "      <td>NaN</td>\n",
       "      <td>ofline</td>\n",
       "      <td>2</td>\n",
       "      <td>2022</td>\n",
       "      <td>3</td>\n",
       "      <td>9</td>\n",
       "      <td>Wednesday</td>\n",
       "      <td>19</td>\n",
       "    </tr>\n",
       "    <tr>\n",
       "      <th>4</th>\n",
       "      <td>54C0631E-D2AD-EC11-9064-005056A7A8DF</td>\n",
       "      <td>49.090909</td>\n",
       "      <td>1.0</td>\n",
       "      <td>49.09</td>\n",
       "      <td>12853</td>\n",
       "      <td>32931</td>\n",
       "      <td>49.090909</td>\n",
       "      <td>9086837</td>\n",
       "      <td>NaN</td>\n",
       "      <td>ofline</td>\n",
       "      <td>27</td>\n",
       "      <td>2022</td>\n",
       "      <td>3</td>\n",
       "      <td>12</td>\n",
       "      <td>Sunday</td>\n",
       "      <td>16</td>\n",
       "    </tr>\n",
       "  </tbody>\n",
       "</table>\n",
       "</div>"
      ],
      "text/plain": [
       "                               CheckUID   BasePrice  Quantity  BaseSum  \\\n",
       "0  32C04617-1DA6-EC11-9064-005056A7A8DF  422.727273       1.0   422.73   \n",
       "1  7CC04B95-79AA-EC11-9064-005056A7A8DF   33.809091       2.0    67.62   \n",
       "2  7BC04CF0-8AA6-EC11-9064-005056A7A8DF  124.166667       1.0   124.17   \n",
       "3  75C04F15-4C9A-EC11-9064-005056A7A8DF   69.090909       1.0    69.09   \n",
       "4  54C0631E-D2AD-EC11-9064-005056A7A8DF   49.090909       1.0    49.09   \n",
       "\n",
       "   id_tt_cl  id_tov_cl  Price_retail BonusCard_cl  \\\n",
       "0     16061      25528    422.727273   8228904      \n",
       "1     11846       1609     56.363636   5657889      \n",
       "2     11160      49220    124.166667   7580039      \n",
       "3     14258      55220     69.090909   8381841      \n",
       "4     12853      32931     49.090909   9086837      \n",
       "\n",
       "                              NameForClient type_order  day  year  month  \\\n",
       "0                                       NaN     ofline   17  2022      3   \n",
       "1  Зеленый Ценник                               ofline   23  2022      3   \n",
       "2                                       NaN     online   18  2022      3   \n",
       "3                                       NaN     ofline    2  2022      3   \n",
       "4                                       NaN     ofline   27  2022      3   \n",
       "\n",
       "   week day_of_week  hour  \n",
       "0    11    Thursday    20  \n",
       "1    12   Wednesday    10  \n",
       "2    11      Friday    10  \n",
       "3     9   Wednesday    19  \n",
       "4    12      Sunday    16  "
      ]
     },
     "execution_count": 28,
     "metadata": {},
     "output_type": "execute_result"
    }
   ],
   "source": [
    "df_checks.head()\n"
   ]
  },
  {
   "cell_type": "code",
   "execution_count": 10,
   "id": "44a3ada4",
   "metadata": {},
   "outputs": [
    {
     "data": {
      "text/plain": [
       "Index(['CheckUID', 'CashCheckLineNo', 'BasePrice', 'Quantity', 'BaseSum',\n",
       "       'id_tt_cl', 'id_tov_cl', 'znak', 'Price_retail', 'BonusCard_cl',\n",
       "       'id_lovepr_card_tov', 'id_discount_chl', 'NameForClient', 'green_price',\n",
       "       'type_order', 'day', 'year', 'month', 'week', 'day_of_week', 'hour',\n",
       "       'time'],\n",
       "      dtype='object')"
      ]
     },
     "execution_count": 10,
     "metadata": {},
     "output_type": "execute_result"
    }
   ],
   "source": [
    "df_checks.columns"
   ]
  },
  {
   "cell_type": "code",
   "execution_count": 27,
   "id": "121f86b1",
   "metadata": {},
   "outputs": [],
   "source": [
    "del df_checks['znak']\n"
   ]
  },
  {
   "cell_type": "code",
   "execution_count": null,
   "id": "55a608b0",
   "metadata": {},
   "outputs": [],
   "source": [
    "del df_checks['id_lovepr_card_tov']\n",
    "del df_checks['id_discount_chl']"
   ]
  },
  {
   "cell_type": "code",
   "execution_count": 30,
   "id": "3ed5a497",
   "metadata": {},
   "outputs": [
    {
     "ename": "MemoryError",
     "evalue": "",
     "output_type": "error",
     "traceback": [
      "\u001b[1;31m---------------------------------------------------------------------------\u001b[0m",
      "\u001b[1;31mMemoryError\u001b[0m                               Traceback (most recent call last)",
      "\u001b[1;32mc:\\Users\\ivan\\Dropbox\\vkusvill.ru\\01 Upload.ipynb Cell 17'\u001b[0m in \u001b[0;36m<cell line: 1>\u001b[1;34m()\u001b[0m\n\u001b[1;32m----> <a href='vscode-notebook-cell:/c%3A/Users/ivan/Dropbox/vkusvill.ru/01%20Upload.ipynb#ch0000013?line=0'>1</a>\u001b[0m df_checks\u001b[39m.\u001b[39;49mto_pickle(\u001b[39m\"\u001b[39;49m\u001b[39m./df_checks.pkl\u001b[39;49m\u001b[39m\"\u001b[39;49m)\n",
      "File \u001b[1;32mc:\\Users\\ivan\\AppData\\Local\\Programs\\Python\\Python310\\lib\\site-packages\\pandas\\core\\generic.py:3026\u001b[0m, in \u001b[0;36mNDFrame.to_pickle\u001b[1;34m(self, path, compression, protocol, storage_options)\u001b[0m\n\u001b[0;32m   2976\u001b[0m \u001b[39m\"\"\"\u001b[39;00m\n\u001b[0;32m   2977\u001b[0m \u001b[39mPickle (serialize) object to file.\u001b[39;00m\n\u001b[0;32m   2978\u001b[0m \n\u001b[1;32m   (...)\u001b[0m\n\u001b[0;32m   3022\u001b[0m \u001b[39m4    4    9\u001b[39;00m\n\u001b[0;32m   3023\u001b[0m \u001b[39m\"\"\"\u001b[39;00m  \u001b[39m# noqa: E501\u001b[39;00m\n\u001b[0;32m   3024\u001b[0m \u001b[39mfrom\u001b[39;00m \u001b[39mpandas\u001b[39;00m\u001b[39m.\u001b[39;00m\u001b[39mio\u001b[39;00m\u001b[39m.\u001b[39;00m\u001b[39mpickle\u001b[39;00m \u001b[39mimport\u001b[39;00m to_pickle\n\u001b[1;32m-> 3026\u001b[0m to_pickle(\n\u001b[0;32m   3027\u001b[0m     \u001b[39mself\u001b[39;49m,\n\u001b[0;32m   3028\u001b[0m     path,\n\u001b[0;32m   3029\u001b[0m     compression\u001b[39m=\u001b[39;49mcompression,\n\u001b[0;32m   3030\u001b[0m     protocol\u001b[39m=\u001b[39;49mprotocol,\n\u001b[0;32m   3031\u001b[0m     storage_options\u001b[39m=\u001b[39;49mstorage_options,\n\u001b[0;32m   3032\u001b[0m )\n",
      "File \u001b[1;32mc:\\Users\\ivan\\AppData\\Local\\Programs\\Python\\Python310\\lib\\site-packages\\pandas\\io\\pickle.py:112\u001b[0m, in \u001b[0;36mto_pickle\u001b[1;34m(obj, filepath_or_buffer, compression, protocol, storage_options)\u001b[0m\n\u001b[0;32m    109\u001b[0m     handles\u001b[39m.\u001b[39mhandle\u001b[39m.\u001b[39mwrite(pickle\u001b[39m.\u001b[39mdumps(obj, protocol\u001b[39m=\u001b[39mprotocol))\n\u001b[0;32m    110\u001b[0m \u001b[39melse\u001b[39;00m:\n\u001b[0;32m    111\u001b[0m     \u001b[39m# letting pickle write directly to the buffer is more memory-efficient\u001b[39;00m\n\u001b[1;32m--> 112\u001b[0m     pickle\u001b[39m.\u001b[39;49mdump(obj, handles\u001b[39m.\u001b[39;49mhandle, protocol\u001b[39m=\u001b[39;49mprotocol)\n",
      "\u001b[1;31mMemoryError\u001b[0m: "
     ]
    }
   ],
   "source": [
    "df_checks.to_pickle(\"./df_checks1.pkl\")"
   ]
  },
  {
   "cell_type": "code",
   "execution_count": 34,
   "id": "723ba80b",
   "metadata": {},
   "outputs": [
    {
     "ename": "KeyboardInterrupt",
     "evalue": "",
     "output_type": "error",
     "traceback": [
      "\u001b[1;31m---------------------------------------------------------------------------\u001b[0m",
      "\u001b[1;31mKeyboardInterrupt\u001b[0m                         Traceback (most recent call last)",
      "\u001b[1;32mc:\\Users\\ivan\\Dropbox\\vkusvill.ru\\01 Upload.ipynb Cell 18'\u001b[0m in \u001b[0;36m<cell line: 1>\u001b[1;34m()\u001b[0m\n\u001b[1;32m----> <a href='vscode-notebook-cell:/c%3A/Users/ivan/Dropbox/vkusvill.ru/01%20Upload.ipynb#ch0000019?line=0'>1</a>\u001b[0m df_checks\u001b[39m.\u001b[39;49mto_csv(\u001b[39m\"\u001b[39;49m\u001b[39m./df_checks.csv\u001b[39;49m\u001b[39m\"\u001b[39;49m)\n",
      "File \u001b[1;32mc:\\Users\\ivan\\AppData\\Local\\Programs\\Python\\Python310\\lib\\site-packages\\pandas\\core\\generic.py:3551\u001b[0m, in \u001b[0;36mNDFrame.to_csv\u001b[1;34m(self, path_or_buf, sep, na_rep, float_format, columns, header, index, index_label, mode, encoding, compression, quoting, quotechar, line_terminator, chunksize, date_format, doublequote, escapechar, decimal, errors, storage_options)\u001b[0m\n\u001b[0;32m   3540\u001b[0m df \u001b[39m=\u001b[39m \u001b[39mself\u001b[39m \u001b[39mif\u001b[39;00m \u001b[39misinstance\u001b[39m(\u001b[39mself\u001b[39m, ABCDataFrame) \u001b[39melse\u001b[39;00m \u001b[39mself\u001b[39m\u001b[39m.\u001b[39mto_frame()\n\u001b[0;32m   3542\u001b[0m formatter \u001b[39m=\u001b[39m DataFrameFormatter(\n\u001b[0;32m   3543\u001b[0m     frame\u001b[39m=\u001b[39mdf,\n\u001b[0;32m   3544\u001b[0m     header\u001b[39m=\u001b[39mheader,\n\u001b[1;32m   (...)\u001b[0m\n\u001b[0;32m   3548\u001b[0m     decimal\u001b[39m=\u001b[39mdecimal,\n\u001b[0;32m   3549\u001b[0m )\n\u001b[1;32m-> 3551\u001b[0m \u001b[39mreturn\u001b[39;00m DataFrameRenderer(formatter)\u001b[39m.\u001b[39;49mto_csv(\n\u001b[0;32m   3552\u001b[0m     path_or_buf,\n\u001b[0;32m   3553\u001b[0m     line_terminator\u001b[39m=\u001b[39;49mline_terminator,\n\u001b[0;32m   3554\u001b[0m     sep\u001b[39m=\u001b[39;49msep,\n\u001b[0;32m   3555\u001b[0m     encoding\u001b[39m=\u001b[39;49mencoding,\n\u001b[0;32m   3556\u001b[0m     errors\u001b[39m=\u001b[39;49merrors,\n\u001b[0;32m   3557\u001b[0m     compression\u001b[39m=\u001b[39;49mcompression,\n\u001b[0;32m   3558\u001b[0m     quoting\u001b[39m=\u001b[39;49mquoting,\n\u001b[0;32m   3559\u001b[0m     columns\u001b[39m=\u001b[39;49mcolumns,\n\u001b[0;32m   3560\u001b[0m     index_label\u001b[39m=\u001b[39;49mindex_label,\n\u001b[0;32m   3561\u001b[0m     mode\u001b[39m=\u001b[39;49mmode,\n\u001b[0;32m   3562\u001b[0m     chunksize\u001b[39m=\u001b[39;49mchunksize,\n\u001b[0;32m   3563\u001b[0m     quotechar\u001b[39m=\u001b[39;49mquotechar,\n\u001b[0;32m   3564\u001b[0m     date_format\u001b[39m=\u001b[39;49mdate_format,\n\u001b[0;32m   3565\u001b[0m     doublequote\u001b[39m=\u001b[39;49mdoublequote,\n\u001b[0;32m   3566\u001b[0m     escapechar\u001b[39m=\u001b[39;49mescapechar,\n\u001b[0;32m   3567\u001b[0m     storage_options\u001b[39m=\u001b[39;49mstorage_options,\n\u001b[0;32m   3568\u001b[0m )\n",
      "File \u001b[1;32mc:\\Users\\ivan\\AppData\\Local\\Programs\\Python\\Python310\\lib\\site-packages\\pandas\\io\\formats\\format.py:1180\u001b[0m, in \u001b[0;36mDataFrameRenderer.to_csv\u001b[1;34m(self, path_or_buf, encoding, sep, columns, index_label, mode, compression, quoting, quotechar, line_terminator, chunksize, date_format, doublequote, escapechar, errors, storage_options)\u001b[0m\n\u001b[0;32m   1159\u001b[0m     created_buffer \u001b[39m=\u001b[39m \u001b[39mFalse\u001b[39;00m\n\u001b[0;32m   1161\u001b[0m csv_formatter \u001b[39m=\u001b[39m CSVFormatter(\n\u001b[0;32m   1162\u001b[0m     path_or_buf\u001b[39m=\u001b[39mpath_or_buf,\n\u001b[0;32m   1163\u001b[0m     line_terminator\u001b[39m=\u001b[39mline_terminator,\n\u001b[1;32m   (...)\u001b[0m\n\u001b[0;32m   1178\u001b[0m     formatter\u001b[39m=\u001b[39m\u001b[39mself\u001b[39m\u001b[39m.\u001b[39mfmt,\n\u001b[0;32m   1179\u001b[0m )\n\u001b[1;32m-> 1180\u001b[0m csv_formatter\u001b[39m.\u001b[39;49msave()\n\u001b[0;32m   1182\u001b[0m \u001b[39mif\u001b[39;00m created_buffer:\n\u001b[0;32m   1183\u001b[0m     \u001b[39massert\u001b[39;00m \u001b[39misinstance\u001b[39m(path_or_buf, StringIO)\n",
      "File \u001b[1;32mc:\\Users\\ivan\\AppData\\Local\\Programs\\Python\\Python310\\lib\\site-packages\\pandas\\io\\formats\\csvs.py:261\u001b[0m, in \u001b[0;36mCSVFormatter.save\u001b[1;34m(self)\u001b[0m\n\u001b[0;32m    241\u001b[0m \u001b[39mwith\u001b[39;00m get_handle(\n\u001b[0;32m    242\u001b[0m     \u001b[39mself\u001b[39m\u001b[39m.\u001b[39mfilepath_or_buffer,\n\u001b[0;32m    243\u001b[0m     \u001b[39mself\u001b[39m\u001b[39m.\u001b[39mmode,\n\u001b[1;32m   (...)\u001b[0m\n\u001b[0;32m    249\u001b[0m \n\u001b[0;32m    250\u001b[0m     \u001b[39m# Note: self.encoding is irrelevant here\u001b[39;00m\n\u001b[0;32m    251\u001b[0m     \u001b[39mself\u001b[39m\u001b[39m.\u001b[39mwriter \u001b[39m=\u001b[39m csvlib\u001b[39m.\u001b[39mwriter(\n\u001b[0;32m    252\u001b[0m         handles\u001b[39m.\u001b[39mhandle,\n\u001b[0;32m    253\u001b[0m         lineterminator\u001b[39m=\u001b[39m\u001b[39mself\u001b[39m\u001b[39m.\u001b[39mline_terminator,\n\u001b[1;32m   (...)\u001b[0m\n\u001b[0;32m    258\u001b[0m         quotechar\u001b[39m=\u001b[39m\u001b[39mself\u001b[39m\u001b[39m.\u001b[39mquotechar,\n\u001b[0;32m    259\u001b[0m     )\n\u001b[1;32m--> 261\u001b[0m     \u001b[39mself\u001b[39;49m\u001b[39m.\u001b[39;49m_save()\n",
      "File \u001b[1;32mc:\\Users\\ivan\\AppData\\Local\\Programs\\Python\\Python310\\lib\\site-packages\\pandas\\io\\formats\\csvs.py:266\u001b[0m, in \u001b[0;36mCSVFormatter._save\u001b[1;34m(self)\u001b[0m\n\u001b[0;32m    264\u001b[0m \u001b[39mif\u001b[39;00m \u001b[39mself\u001b[39m\u001b[39m.\u001b[39m_need_to_save_header:\n\u001b[0;32m    265\u001b[0m     \u001b[39mself\u001b[39m\u001b[39m.\u001b[39m_save_header()\n\u001b[1;32m--> 266\u001b[0m \u001b[39mself\u001b[39;49m\u001b[39m.\u001b[39;49m_save_body()\n",
      "File \u001b[1;32mc:\\Users\\ivan\\AppData\\Local\\Programs\\Python\\Python310\\lib\\site-packages\\pandas\\io\\formats\\csvs.py:304\u001b[0m, in \u001b[0;36mCSVFormatter._save_body\u001b[1;34m(self)\u001b[0m\n\u001b[0;32m    302\u001b[0m \u001b[39mif\u001b[39;00m start_i \u001b[39m>\u001b[39m\u001b[39m=\u001b[39m end_i:\n\u001b[0;32m    303\u001b[0m     \u001b[39mbreak\u001b[39;00m\n\u001b[1;32m--> 304\u001b[0m \u001b[39mself\u001b[39;49m\u001b[39m.\u001b[39;49m_save_chunk(start_i, end_i)\n",
      "File \u001b[1;32mc:\\Users\\ivan\\AppData\\Local\\Programs\\Python\\Python310\\lib\\site-packages\\pandas\\io\\formats\\csvs.py:315\u001b[0m, in \u001b[0;36mCSVFormatter._save_chunk\u001b[1;34m(self, start_i, end_i)\u001b[0m\n\u001b[0;32m    312\u001b[0m data \u001b[39m=\u001b[39m [res\u001b[39m.\u001b[39miget_values(i) \u001b[39mfor\u001b[39;00m i \u001b[39min\u001b[39;00m \u001b[39mrange\u001b[39m(\u001b[39mlen\u001b[39m(res\u001b[39m.\u001b[39mitems))]\n\u001b[0;32m    314\u001b[0m ix \u001b[39m=\u001b[39m \u001b[39mself\u001b[39m\u001b[39m.\u001b[39mdata_index[slicer]\u001b[39m.\u001b[39m_format_native_types(\u001b[39m*\u001b[39m\u001b[39m*\u001b[39m\u001b[39mself\u001b[39m\u001b[39m.\u001b[39m_number_format)\n\u001b[1;32m--> 315\u001b[0m libwriters\u001b[39m.\u001b[39;49mwrite_csv_rows(\n\u001b[0;32m    316\u001b[0m     data,\n\u001b[0;32m    317\u001b[0m     ix,\n\u001b[0;32m    318\u001b[0m     \u001b[39mself\u001b[39;49m\u001b[39m.\u001b[39;49mnlevels,\n\u001b[0;32m    319\u001b[0m     \u001b[39mself\u001b[39;49m\u001b[39m.\u001b[39;49mcols,\n\u001b[0;32m    320\u001b[0m     \u001b[39mself\u001b[39;49m\u001b[39m.\u001b[39;49mwriter,\n\u001b[0;32m    321\u001b[0m )\n",
      "File \u001b[1;32mc:\\Users\\ivan\\AppData\\Local\\Programs\\Python\\Python310\\lib\\site-packages\\pandas\\_libs\\writers.pyx:55\u001b[0m, in \u001b[0;36mpandas._libs.writers.write_csv_rows\u001b[1;34m()\u001b[0m\n",
      "\u001b[1;31mKeyboardInterrupt\u001b[0m: "
     ]
    }
   ],
   "source": [
    "df_checks.to_csv(\"./df_checks.csv\")"
   ]
  }
 ],
 "metadata": {
  "kernelspec": {
   "display_name": "Python 3.10.5 64-bit",
   "language": "python",
   "name": "python3"
  },
  "language_info": {
   "codemirror_mode": {
    "name": "ipython",
    "version": 3
   },
   "file_extension": ".py",
   "mimetype": "text/x-python",
   "name": "python",
   "nbconvert_exporter": "python",
   "pygments_lexer": "ipython3",
   "version": "3.10.5"
  },
  "vscode": {
   "interpreter": {
    "hash": "d14802a80fda041396e29d0ef764e9db1b52be87434e2145de2ac9afbbaeae6f"
   }
  }
 },
 "nbformat": 4,
 "nbformat_minor": 5
}

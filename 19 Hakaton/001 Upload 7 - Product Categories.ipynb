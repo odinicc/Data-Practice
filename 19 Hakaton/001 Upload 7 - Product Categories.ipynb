{
 "cells": [
  {
   "cell_type": "code",
   "execution_count": 2,
   "id": "02d59dd2",
   "metadata": {},
   "outputs": [],
   "source": [
    "import pandas as pd\n",
    "import numpy as np\n",
    "from tqdm import tqdm_notebook\n",
    "pd.set_option('display.max_columns',None)\n",
    "\n",
    "\n",
    "\n",
    "from pandas.api.types import CategoricalDtype\n",
    "\n",
    "import matplotlib.pyplot as plt\n",
    "import seaborn as sns\n",
    "import plotly.express as px\n",
    "import plotly\n",
    "\n",
    "sns.set(style='whitegrid')\n",
    "plt.rcParams['figure.figsize']=(15,5)\n",
    "%config InlineBackend.figure_format = 'png'\n",
    "%matplotlib inline"
   ]
  },
  {
   "cell_type": "markdown",
   "id": "6395b3fb",
   "metadata": {},
   "source": [
    "Грузим чеки "
   ]
  },
  {
   "cell_type": "code",
   "execution_count": 3,
   "id": "ed2a439d",
   "metadata": {},
   "outputs": [],
   "source": [
    "\n",
    "df_left = pd.read_csv('./data_SVAO/2_ost.csv', sep=';')"
   ]
  },
  {
   "cell_type": "markdown",
   "id": "57686b1a",
   "metadata": {},
   "source": [
    "Создаем таблицу категорий"
   ]
  },
  {
   "cell_type": "code",
   "execution_count": 4,
   "id": "fca23d86",
   "metadata": {},
   "outputs": [],
   "source": [
    "df_category = df_left.groupby(['id_group','name_gr','id_group2','name_gr2','id_tov','name_tov']).agg({'date_tt':['count']})\n",
    "df_category = df_category.reset_index()"
   ]
  },
  {
   "cell_type": "code",
   "execution_count": 8,
   "id": "5d1f5280",
   "metadata": {},
   "outputs": [],
   "source": [
    "#исправляем значения колонок\n",
    "df_category.columns = list(map(''.join, df_category.columns.values))"
   ]
  },
  {
   "cell_type": "code",
   "execution_count": 10,
   "id": "ceba076c",
   "metadata": {},
   "outputs": [],
   "source": [
    "df_category.to_pickle(\"./df_category.pkl\")"
   ]
  },
  {
   "cell_type": "code",
   "execution_count": 11,
   "id": "9b257986",
   "metadata": {},
   "outputs": [],
   "source": [
    "df_category.to_excel(\"./df_category.xlsx\")"
   ]
  }
 ],
 "metadata": {
  "kernelspec": {
   "display_name": "Python 3.10.5 64-bit",
   "language": "python",
   "name": "python3"
  },
  "language_info": {
   "codemirror_mode": {
    "name": "ipython",
    "version": 3
   },
   "file_extension": ".py",
   "mimetype": "text/x-python",
   "name": "python",
   "nbconvert_exporter": "python",
   "pygments_lexer": "ipython3",
   "version": "3.10.5"
  },
  "vscode": {
   "interpreter": {
    "hash": "d14802a80fda041396e29d0ef764e9db1b52be87434e2145de2ac9afbbaeae6f"
   }
  }
 },
 "nbformat": 4,
 "nbformat_minor": 5
}

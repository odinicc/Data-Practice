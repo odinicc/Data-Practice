{
 "cells": [
  {
   "cell_type": "code",
   "execution_count": 1,
   "id": "02d59dd2",
   "metadata": {
    "pycharm": {
     "name": "#%%\n"
    }
   },
   "outputs": [],
   "source": [
    "    import pandas as pd\n",
    "import numpy as np\n",
    "from tqdm import tqdm_notebook\n",
    "pd.set_option('display.max_columns',None)\n",
    "\n",
    "\n",
    "from pandas.api.types import CategoricalDtype\n",
    "\n",
    "import matplotlib.pyplot as plt\n",
    "import seaborn as sns\n",
    "import plotly.express as px\n",
    "import plotly\n",
    "\n",
    "sns.set(style='whitegrid')\n",
    "plt.rcParams['figure.figsize']=(15,5)\n",
    "%config InlineBackend.figure_format = 'png'\n",
    "%matplotlib inline"
   ]
  },
  {
   "cell_type": "markdown",
   "id": "6395b3fb",
   "metadata": {
    "pycharm": {
     "name": "#%% md\n"
    }
   },
   "source": [
    "Грузим чеки и магазины"
   ]
  },
  {
   "cell_type": "code",
   "execution_count": 2,
   "id": "e5d81f55",
   "metadata": {
    "pycharm": {
     "name": "#%%\n"
    }
   },
   "outputs": [],
   "source": [
    "#Грузим Магазины\n",
    "df_dopost = pd.read_excel(\"./002 Calculate_23_09_2.xlsx\")"
   ]
  },
  {
   "cell_type": "code",
   "execution_count": 3,
   "outputs": [
    {
     "data": {
      "text/plain": "      Unnamed: 0                name_TT  id_tov                       name_gr  \\\n0           2066     5447М_Боровское2к5   23074  Овощи. Фрукты. Грибы. Зелень   \n1           2007     5447М_Боровское2к5   17525            Молочная Продукция   \n2             23     1020М_Истринская10     731  Овощи. Фрукты. Грибы. Зелень   \n3            866         1501М_Пырьева5   23074  Овощи. Фрукты. Грибы. Зелень   \n4            417     1020М_Истринская10   65693                          Кафе   \n...          ...                    ...     ...                           ...   \n2452        2447  5673М_Кастанаевская42   64110    Мясные деликатесы. Колбасы   \n2453        2452  5673М_Кастанаевская42   66714                     Кулинария   \n2454        2453  5673М_Кастанаевская42   66924                          Хлеб   \n2455        2454  5673М_Кастанаевская42   67009            Молочная Продукция   \n2456        2455  5673М_Кастанаевская42   67139                          Кафе   \n\n                                               name_tov  Monday  Tuesday  \\\n0                                          Манго Египет      20        0   \n1                                 Молоко 3,2% в бутылке       0       20   \n2                                                Бананы      15        0   \n3                                          Манго Египет      10        0   \n4         Молоко ультрапастеризованное 3,2% сырье, кафе       0       10   \n...                                                 ...     ...      ...   \n2452                   Колбаса ливерная \"Яичная\", 300 г       0        0   \n2453          Запеканка творожная с наполнителем \"Дыня\"       0        0   \n2454              Круассан миндальный с лимонным курдом       0        0   \n2455                                 Сметана 10%, 200 г       0        0   \n2456  Кранч-бабка соленая карамель с грецким орехом,...       0        0   \n\n      Wednesday  Thursday  Friday  Saturday  Sunday  All_Weekdopost  квант  \n0             0         0       0        20       0             107    0.0  \n1             0         0       0         0      20              60    0.0  \n2            20         0       0         0       0              54    0.0  \n3             0         0       0         0       0              50    0.0  \n4             0        10       0         0      10              43   12.0  \n...         ...       ...     ...       ...     ...             ...    ...  \n2452          0         1       0         0       0               1    0.0  \n2453          0         1       0         0       0               1    0.0  \n2454          0         0       0         1       0               1    3.0  \n2455          1         0       0         0       0               1    0.0  \n2456          0         0       1         0       0               1    4.0  \n\n[2457 rows x 14 columns]",
      "text/html": "<div>\n<style scoped>\n    .dataframe tbody tr th:only-of-type {\n        vertical-align: middle;\n    }\n\n    .dataframe tbody tr th {\n        vertical-align: top;\n    }\n\n    .dataframe thead th {\n        text-align: right;\n    }\n</style>\n<table border=\"1\" class=\"dataframe\">\n  <thead>\n    <tr style=\"text-align: right;\">\n      <th></th>\n      <th>Unnamed: 0</th>\n      <th>name_TT</th>\n      <th>id_tov</th>\n      <th>name_gr</th>\n      <th>name_tov</th>\n      <th>Monday</th>\n      <th>Tuesday</th>\n      <th>Wednesday</th>\n      <th>Thursday</th>\n      <th>Friday</th>\n      <th>Saturday</th>\n      <th>Sunday</th>\n      <th>All_Weekdopost</th>\n      <th>квант</th>\n    </tr>\n  </thead>\n  <tbody>\n    <tr>\n      <th>0</th>\n      <td>2066</td>\n      <td>5447М_Боровское2к5</td>\n      <td>23074</td>\n      <td>Овощи. Фрукты. Грибы. Зелень</td>\n      <td>Манго Египет</td>\n      <td>20</td>\n      <td>0</td>\n      <td>0</td>\n      <td>0</td>\n      <td>0</td>\n      <td>20</td>\n      <td>0</td>\n      <td>107</td>\n      <td>0.0</td>\n    </tr>\n    <tr>\n      <th>1</th>\n      <td>2007</td>\n      <td>5447М_Боровское2к5</td>\n      <td>17525</td>\n      <td>Молочная Продукция</td>\n      <td>Молоко 3,2% в бутылке</td>\n      <td>0</td>\n      <td>20</td>\n      <td>0</td>\n      <td>0</td>\n      <td>0</td>\n      <td>0</td>\n      <td>20</td>\n      <td>60</td>\n      <td>0.0</td>\n    </tr>\n    <tr>\n      <th>2</th>\n      <td>23</td>\n      <td>1020М_Истринская10</td>\n      <td>731</td>\n      <td>Овощи. Фрукты. Грибы. Зелень</td>\n      <td>Бананы</td>\n      <td>15</td>\n      <td>0</td>\n      <td>20</td>\n      <td>0</td>\n      <td>0</td>\n      <td>0</td>\n      <td>0</td>\n      <td>54</td>\n      <td>0.0</td>\n    </tr>\n    <tr>\n      <th>3</th>\n      <td>866</td>\n      <td>1501М_Пырьева5</td>\n      <td>23074</td>\n      <td>Овощи. Фрукты. Грибы. Зелень</td>\n      <td>Манго Египет</td>\n      <td>10</td>\n      <td>0</td>\n      <td>0</td>\n      <td>0</td>\n      <td>0</td>\n      <td>0</td>\n      <td>0</td>\n      <td>50</td>\n      <td>0.0</td>\n    </tr>\n    <tr>\n      <th>4</th>\n      <td>417</td>\n      <td>1020М_Истринская10</td>\n      <td>65693</td>\n      <td>Кафе</td>\n      <td>Молоко ультрапастеризованное 3,2% сырье, кафе</td>\n      <td>0</td>\n      <td>10</td>\n      <td>0</td>\n      <td>10</td>\n      <td>0</td>\n      <td>0</td>\n      <td>10</td>\n      <td>43</td>\n      <td>12.0</td>\n    </tr>\n    <tr>\n      <th>...</th>\n      <td>...</td>\n      <td>...</td>\n      <td>...</td>\n      <td>...</td>\n      <td>...</td>\n      <td>...</td>\n      <td>...</td>\n      <td>...</td>\n      <td>...</td>\n      <td>...</td>\n      <td>...</td>\n      <td>...</td>\n      <td>...</td>\n      <td>...</td>\n    </tr>\n    <tr>\n      <th>2452</th>\n      <td>2447</td>\n      <td>5673М_Кастанаевская42</td>\n      <td>64110</td>\n      <td>Мясные деликатесы. Колбасы</td>\n      <td>Колбаса ливерная \"Яичная\", 300 г</td>\n      <td>0</td>\n      <td>0</td>\n      <td>0</td>\n      <td>1</td>\n      <td>0</td>\n      <td>0</td>\n      <td>0</td>\n      <td>1</td>\n      <td>0.0</td>\n    </tr>\n    <tr>\n      <th>2453</th>\n      <td>2452</td>\n      <td>5673М_Кастанаевская42</td>\n      <td>66714</td>\n      <td>Кулинария</td>\n      <td>Запеканка творожная с наполнителем \"Дыня\"</td>\n      <td>0</td>\n      <td>0</td>\n      <td>0</td>\n      <td>1</td>\n      <td>0</td>\n      <td>0</td>\n      <td>0</td>\n      <td>1</td>\n      <td>0.0</td>\n    </tr>\n    <tr>\n      <th>2454</th>\n      <td>2453</td>\n      <td>5673М_Кастанаевская42</td>\n      <td>66924</td>\n      <td>Хлеб</td>\n      <td>Круассан миндальный с лимонным курдом</td>\n      <td>0</td>\n      <td>0</td>\n      <td>0</td>\n      <td>0</td>\n      <td>0</td>\n      <td>1</td>\n      <td>0</td>\n      <td>1</td>\n      <td>3.0</td>\n    </tr>\n    <tr>\n      <th>2455</th>\n      <td>2454</td>\n      <td>5673М_Кастанаевская42</td>\n      <td>67009</td>\n      <td>Молочная Продукция</td>\n      <td>Сметана 10%, 200 г</td>\n      <td>0</td>\n      <td>0</td>\n      <td>1</td>\n      <td>0</td>\n      <td>0</td>\n      <td>0</td>\n      <td>0</td>\n      <td>1</td>\n      <td>0.0</td>\n    </tr>\n    <tr>\n      <th>2456</th>\n      <td>2455</td>\n      <td>5673М_Кастанаевская42</td>\n      <td>67139</td>\n      <td>Кафе</td>\n      <td>Кранч-бабка соленая карамель с грецким орехом,...</td>\n      <td>0</td>\n      <td>0</td>\n      <td>0</td>\n      <td>0</td>\n      <td>1</td>\n      <td>0</td>\n      <td>0</td>\n      <td>1</td>\n      <td>4.0</td>\n    </tr>\n  </tbody>\n</table>\n<p>2457 rows × 14 columns</p>\n</div>"
     },
     "execution_count": 3,
     "metadata": {},
     "output_type": "execute_result"
    }
   ],
   "source": [
    "df_dopost"
   ],
   "metadata": {
    "collapsed": false,
    "pycharm": {
     "name": "#%%\n"
    }
   }
  },
  {
   "cell_type": "code",
   "execution_count": 4,
   "outputs": [],
   "source": [
    "df_price = pd.read_csv(\"./price.csv\")"
   ],
   "metadata": {
    "collapsed": false,
    "pycharm": {
     "name": "#%%\n"
    }
   }
  },
  {
   "cell_type": "code",
   "execution_count": 5,
   "outputs": [],
   "source": [
    "df_dopost['All_Weekdopost'] = df_dopost[['Monday','Tuesday','Wednesday','Thursday','Friday','Saturday','Sunday']].sum(axis = 1)"
   ],
   "metadata": {
    "collapsed": false,
    "pycharm": {
     "name": "#%%\n"
    }
   }
  },
  {
   "cell_type": "code",
   "execution_count": 5,
   "outputs": [],
   "source": [],
   "metadata": {
    "collapsed": false,
    "pycharm": {
     "name": "#%%\n"
    }
   }
  },
  {
   "cell_type": "code",
   "execution_count": 5,
   "outputs": [],
   "source": [],
   "metadata": {
    "collapsed": false,
    "pycharm": {
     "name": "#%%\n"
    }
   }
  },
  {
   "cell_type": "code",
   "execution_count": 6,
   "outputs": [],
   "source": [
    "df_ost = pd.read_csv('./df_oos (5).csv', sep=',',low_memory=False)"
   ],
   "metadata": {
    "collapsed": false,
    "pycharm": {
     "name": "#%%\n"
    }
   }
  },
  {
   "cell_type": "code",
   "execution_count": 6,
   "outputs": [],
   "source": [],
   "metadata": {
    "collapsed": false,
    "pycharm": {
     "name": "#%%\n"
    }
   }
  },
  {
   "cell_type": "code",
   "execution_count": 7,
   "outputs": [
    {
     "data": {
      "text/plain": "array([10786, 11020, 11128, 11178, 11290, 11357, 11458, 11657, 11783,\n       11841, 12015, 12084, 12414, 12533, 12612, 12618, 12860, 14112,\n       14125, 14855, 14859, 14899, 14902, 15140, 15753, 15986, 16130],\n      dtype=int64)"
     },
     "execution_count": 7,
     "metadata": {},
     "output_type": "execute_result"
    }
   ],
   "source": [
    "df_ost['id_tt'].unique()"
   ],
   "metadata": {
    "collapsed": false,
    "pycharm": {
     "name": "#%%\n"
    }
   }
  },
  {
   "cell_type": "code",
   "execution_count": 7,
   "outputs": [],
   "source": [],
   "metadata": {
    "collapsed": false,
    "pycharm": {
     "name": "#%%\n"
    }
   }
  },
  {
   "cell_type": "code",
   "execution_count": 8,
   "outputs": [
    {
     "data": {
      "text/plain": "      Unnamed: 0                name_TT  id_tov                       name_gr  \\\n0           2066     5447М_Боровское2к5   23074  Овощи. Фрукты. Грибы. Зелень   \n1           2007     5447М_Боровское2к5   17525            Молочная Продукция   \n2             23     1020М_Истринская10     731  Овощи. Фрукты. Грибы. Зелень   \n3            866         1501М_Пырьева5   23074  Овощи. Фрукты. Грибы. Зелень   \n4            417     1020М_Истринская10   65693                          Кафе   \n...          ...                    ...     ...                           ...   \n2452        2447  5673М_Кастанаевская42   64110    Мясные деликатесы. Колбасы   \n2453        2452  5673М_Кастанаевская42   66714                     Кулинария   \n2454        2453  5673М_Кастанаевская42   66924                          Хлеб   \n2455        2454  5673М_Кастанаевская42   67009            Молочная Продукция   \n2456        2455  5673М_Кастанаевская42   67139                          Кафе   \n\n                                               name_tov  Monday  Tuesday  \\\n0                                          Манго Египет      20        0   \n1                                 Молоко 3,2% в бутылке       0       20   \n2                                                Бананы      15        0   \n3                                          Манго Египет      10        0   \n4         Молоко ультрапастеризованное 3,2% сырье, кафе       0       10   \n...                                                 ...     ...      ...   \n2452                   Колбаса ливерная \"Яичная\", 300 г       0        0   \n2453          Запеканка творожная с наполнителем \"Дыня\"       0        0   \n2454              Круассан миндальный с лимонным курдом       0        0   \n2455                                 Сметана 10%, 200 г       0        0   \n2456  Кранч-бабка соленая карамель с грецким орехом,...       0        0   \n\n      Wednesday  Thursday  Friday  Saturday  Sunday  All_Weekdopost  квант  \n0             0         0       0        20       0              40    0.0  \n1             0         0       0         0      20              40    0.0  \n2            20         0       0         0       0              35    0.0  \n3             0         0       0         0       0              10    0.0  \n4             0        10       0         0      10              30   12.0  \n...         ...       ...     ...       ...     ...             ...    ...  \n2452          0         1       0         0       0               1    0.0  \n2453          0         1       0         0       0               1    0.0  \n2454          0         0       0         1       0               1    3.0  \n2455          1         0       0         0       0               1    0.0  \n2456          0         0       1         0       0               1    4.0  \n\n[2457 rows x 14 columns]",
      "text/html": "<div>\n<style scoped>\n    .dataframe tbody tr th:only-of-type {\n        vertical-align: middle;\n    }\n\n    .dataframe tbody tr th {\n        vertical-align: top;\n    }\n\n    .dataframe thead th {\n        text-align: right;\n    }\n</style>\n<table border=\"1\" class=\"dataframe\">\n  <thead>\n    <tr style=\"text-align: right;\">\n      <th></th>\n      <th>Unnamed: 0</th>\n      <th>name_TT</th>\n      <th>id_tov</th>\n      <th>name_gr</th>\n      <th>name_tov</th>\n      <th>Monday</th>\n      <th>Tuesday</th>\n      <th>Wednesday</th>\n      <th>Thursday</th>\n      <th>Friday</th>\n      <th>Saturday</th>\n      <th>Sunday</th>\n      <th>All_Weekdopost</th>\n      <th>квант</th>\n    </tr>\n  </thead>\n  <tbody>\n    <tr>\n      <th>0</th>\n      <td>2066</td>\n      <td>5447М_Боровское2к5</td>\n      <td>23074</td>\n      <td>Овощи. Фрукты. Грибы. Зелень</td>\n      <td>Манго Египет</td>\n      <td>20</td>\n      <td>0</td>\n      <td>0</td>\n      <td>0</td>\n      <td>0</td>\n      <td>20</td>\n      <td>0</td>\n      <td>40</td>\n      <td>0.0</td>\n    </tr>\n    <tr>\n      <th>1</th>\n      <td>2007</td>\n      <td>5447М_Боровское2к5</td>\n      <td>17525</td>\n      <td>Молочная Продукция</td>\n      <td>Молоко 3,2% в бутылке</td>\n      <td>0</td>\n      <td>20</td>\n      <td>0</td>\n      <td>0</td>\n      <td>0</td>\n      <td>0</td>\n      <td>20</td>\n      <td>40</td>\n      <td>0.0</td>\n    </tr>\n    <tr>\n      <th>2</th>\n      <td>23</td>\n      <td>1020М_Истринская10</td>\n      <td>731</td>\n      <td>Овощи. Фрукты. Грибы. Зелень</td>\n      <td>Бананы</td>\n      <td>15</td>\n      <td>0</td>\n      <td>20</td>\n      <td>0</td>\n      <td>0</td>\n      <td>0</td>\n      <td>0</td>\n      <td>35</td>\n      <td>0.0</td>\n    </tr>\n    <tr>\n      <th>3</th>\n      <td>866</td>\n      <td>1501М_Пырьева5</td>\n      <td>23074</td>\n      <td>Овощи. Фрукты. Грибы. Зелень</td>\n      <td>Манго Египет</td>\n      <td>10</td>\n      <td>0</td>\n      <td>0</td>\n      <td>0</td>\n      <td>0</td>\n      <td>0</td>\n      <td>0</td>\n      <td>10</td>\n      <td>0.0</td>\n    </tr>\n    <tr>\n      <th>4</th>\n      <td>417</td>\n      <td>1020М_Истринская10</td>\n      <td>65693</td>\n      <td>Кафе</td>\n      <td>Молоко ультрапастеризованное 3,2% сырье, кафе</td>\n      <td>0</td>\n      <td>10</td>\n      <td>0</td>\n      <td>10</td>\n      <td>0</td>\n      <td>0</td>\n      <td>10</td>\n      <td>30</td>\n      <td>12.0</td>\n    </tr>\n    <tr>\n      <th>...</th>\n      <td>...</td>\n      <td>...</td>\n      <td>...</td>\n      <td>...</td>\n      <td>...</td>\n      <td>...</td>\n      <td>...</td>\n      <td>...</td>\n      <td>...</td>\n      <td>...</td>\n      <td>...</td>\n      <td>...</td>\n      <td>...</td>\n      <td>...</td>\n    </tr>\n    <tr>\n      <th>2452</th>\n      <td>2447</td>\n      <td>5673М_Кастанаевская42</td>\n      <td>64110</td>\n      <td>Мясные деликатесы. Колбасы</td>\n      <td>Колбаса ливерная \"Яичная\", 300 г</td>\n      <td>0</td>\n      <td>0</td>\n      <td>0</td>\n      <td>1</td>\n      <td>0</td>\n      <td>0</td>\n      <td>0</td>\n      <td>1</td>\n      <td>0.0</td>\n    </tr>\n    <tr>\n      <th>2453</th>\n      <td>2452</td>\n      <td>5673М_Кастанаевская42</td>\n      <td>66714</td>\n      <td>Кулинария</td>\n      <td>Запеканка творожная с наполнителем \"Дыня\"</td>\n      <td>0</td>\n      <td>0</td>\n      <td>0</td>\n      <td>1</td>\n      <td>0</td>\n      <td>0</td>\n      <td>0</td>\n      <td>1</td>\n      <td>0.0</td>\n    </tr>\n    <tr>\n      <th>2454</th>\n      <td>2453</td>\n      <td>5673М_Кастанаевская42</td>\n      <td>66924</td>\n      <td>Хлеб</td>\n      <td>Круассан миндальный с лимонным курдом</td>\n      <td>0</td>\n      <td>0</td>\n      <td>0</td>\n      <td>0</td>\n      <td>0</td>\n      <td>1</td>\n      <td>0</td>\n      <td>1</td>\n      <td>3.0</td>\n    </tr>\n    <tr>\n      <th>2455</th>\n      <td>2454</td>\n      <td>5673М_Кастанаевская42</td>\n      <td>67009</td>\n      <td>Молочная Продукция</td>\n      <td>Сметана 10%, 200 г</td>\n      <td>0</td>\n      <td>0</td>\n      <td>1</td>\n      <td>0</td>\n      <td>0</td>\n      <td>0</td>\n      <td>0</td>\n      <td>1</td>\n      <td>0.0</td>\n    </tr>\n    <tr>\n      <th>2456</th>\n      <td>2455</td>\n      <td>5673М_Кастанаевская42</td>\n      <td>67139</td>\n      <td>Кафе</td>\n      <td>Кранч-бабка соленая карамель с грецким орехом,...</td>\n      <td>0</td>\n      <td>0</td>\n      <td>0</td>\n      <td>0</td>\n      <td>1</td>\n      <td>0</td>\n      <td>0</td>\n      <td>1</td>\n      <td>4.0</td>\n    </tr>\n  </tbody>\n</table>\n<p>2457 rows × 14 columns</p>\n</div>"
     },
     "execution_count": 8,
     "metadata": {},
     "output_type": "execute_result"
    }
   ],
   "source": [
    "df_dopost"
   ],
   "metadata": {
    "collapsed": false,
    "pycharm": {
     "name": "#%%\n"
    }
   }
  },
  {
   "cell_type": "code",
   "execution_count": 9,
   "outputs": [
    {
     "data": {
      "text/plain": "      Unnamed: 0  id_tov  Price_retail\n0              0      52    131.818182\n1              1      61     74.545455\n2              2      69    490.909091\n3              3      75     48.181818\n4              4      77     59.090909\n...          ...     ...           ...\n5578        5578   64274     98.181818\n5579        5579   64329    180.000000\n5580        5580   64336    114.545455\n5581        5581   64341    135.757576\n5582        5582   64424     62.727273\n\n[5583 rows x 3 columns]",
      "text/html": "<div>\n<style scoped>\n    .dataframe tbody tr th:only-of-type {\n        vertical-align: middle;\n    }\n\n    .dataframe tbody tr th {\n        vertical-align: top;\n    }\n\n    .dataframe thead th {\n        text-align: right;\n    }\n</style>\n<table border=\"1\" class=\"dataframe\">\n  <thead>\n    <tr style=\"text-align: right;\">\n      <th></th>\n      <th>Unnamed: 0</th>\n      <th>id_tov</th>\n      <th>Price_retail</th>\n    </tr>\n  </thead>\n  <tbody>\n    <tr>\n      <th>0</th>\n      <td>0</td>\n      <td>52</td>\n      <td>131.818182</td>\n    </tr>\n    <tr>\n      <th>1</th>\n      <td>1</td>\n      <td>61</td>\n      <td>74.545455</td>\n    </tr>\n    <tr>\n      <th>2</th>\n      <td>2</td>\n      <td>69</td>\n      <td>490.909091</td>\n    </tr>\n    <tr>\n      <th>3</th>\n      <td>3</td>\n      <td>75</td>\n      <td>48.181818</td>\n    </tr>\n    <tr>\n      <th>4</th>\n      <td>4</td>\n      <td>77</td>\n      <td>59.090909</td>\n    </tr>\n    <tr>\n      <th>...</th>\n      <td>...</td>\n      <td>...</td>\n      <td>...</td>\n    </tr>\n    <tr>\n      <th>5578</th>\n      <td>5578</td>\n      <td>64274</td>\n      <td>98.181818</td>\n    </tr>\n    <tr>\n      <th>5579</th>\n      <td>5579</td>\n      <td>64329</td>\n      <td>180.000000</td>\n    </tr>\n    <tr>\n      <th>5580</th>\n      <td>5580</td>\n      <td>64336</td>\n      <td>114.545455</td>\n    </tr>\n    <tr>\n      <th>5581</th>\n      <td>5581</td>\n      <td>64341</td>\n      <td>135.757576</td>\n    </tr>\n    <tr>\n      <th>5582</th>\n      <td>5582</td>\n      <td>64424</td>\n      <td>62.727273</td>\n    </tr>\n  </tbody>\n</table>\n<p>5583 rows × 3 columns</p>\n</div>"
     },
     "execution_count": 9,
     "metadata": {},
     "output_type": "execute_result"
    }
   ],
   "source": [
    "df_price"
   ],
   "metadata": {
    "collapsed": false,
    "pycharm": {
     "name": "#%%\n"
    }
   }
  },
  {
   "cell_type": "code",
   "execution_count": 9,
   "outputs": [],
   "source": [],
   "metadata": {
    "collapsed": false,
    "pycharm": {
     "name": "#%%\n"
    }
   }
  },
  {
   "cell_type": "code",
   "execution_count": 10,
   "outputs": [],
   "source": [
    "df_dopost2= df_dopost.merge(df_price[['id_tov','Price_retail']], how='left', on='id_tov',)"
   ],
   "metadata": {
    "collapsed": false,
    "pycharm": {
     "name": "#%%\n"
    }
   }
  },
  {
   "cell_type": "code",
   "execution_count": 11,
   "outputs": [
    {
     "data": {
      "text/plain": "   Unnamed: 0             name_TT  id_tov                       name_gr  \\\n0        2066  5447М_Боровское2к5   23074  Овощи. Фрукты. Грибы. Зелень   \n\n       name_tov  Monday  Tuesday  Wednesday  Thursday  Friday  Saturday  \\\n0  Манго Египет      20        0          0         0       0        20   \n\n   Sunday  All_Weekdopost  квант  \n0       0              40    0.0  ",
      "text/html": "<div>\n<style scoped>\n    .dataframe tbody tr th:only-of-type {\n        vertical-align: middle;\n    }\n\n    .dataframe tbody tr th {\n        vertical-align: top;\n    }\n\n    .dataframe thead th {\n        text-align: right;\n    }\n</style>\n<table border=\"1\" class=\"dataframe\">\n  <thead>\n    <tr style=\"text-align: right;\">\n      <th></th>\n      <th>Unnamed: 0</th>\n      <th>name_TT</th>\n      <th>id_tov</th>\n      <th>name_gr</th>\n      <th>name_tov</th>\n      <th>Monday</th>\n      <th>Tuesday</th>\n      <th>Wednesday</th>\n      <th>Thursday</th>\n      <th>Friday</th>\n      <th>Saturday</th>\n      <th>Sunday</th>\n      <th>All_Weekdopost</th>\n      <th>квант</th>\n    </tr>\n  </thead>\n  <tbody>\n    <tr>\n      <th>0</th>\n      <td>2066</td>\n      <td>5447М_Боровское2к5</td>\n      <td>23074</td>\n      <td>Овощи. Фрукты. Грибы. Зелень</td>\n      <td>Манго Египет</td>\n      <td>20</td>\n      <td>0</td>\n      <td>0</td>\n      <td>0</td>\n      <td>0</td>\n      <td>20</td>\n      <td>0</td>\n      <td>40</td>\n      <td>0.0</td>\n    </tr>\n  </tbody>\n</table>\n</div>"
     },
     "execution_count": 11,
     "metadata": {},
     "output_type": "execute_result"
    }
   ],
   "source": [
    "df_dopost.head(1)"
   ],
   "metadata": {
    "collapsed": false,
    "pycharm": {
     "name": "#%%\n"
    }
   }
  },
  {
   "cell_type": "code",
   "execution_count": 12,
   "outputs": [],
   "source": [
    "df_dopost2['overal'] = df_dopost2['All_Weekdopost']* df_dopost2['Price_retail']"
   ],
   "metadata": {
    "collapsed": false,
    "pycharm": {
     "name": "#%%\n"
    }
   }
  },
  {
   "cell_type": "code",
   "execution_count": 13,
   "outputs": [
    {
     "data": {
      "text/plain": "Unnamed: 0                                                  2433234\nname_TT           5447М_Боровское2к55447М_Боровское2к51020М_Истр...\nid_tov                                                     61135025\nname_gr           Овощи. Фрукты. Грибы. ЗеленьМолочная Продукция...\nname_tov          Манго ЕгипетМолоко 3,2% в бутылкеБананыМанго Е...\nMonday                                                          765\nTuesday                                                         789\nWednesday                                                      1069\nThursday                                                        911\nFriday                                                          637\nSaturday                                                        870\nSunday                                                          957\nAll_Weekdopost                                                 5998\nквант                                                      5709.623\nPrice_retail                                          307403.145836\noveral                                                880306.588737\ndtype: object"
     },
     "execution_count": 13,
     "metadata": {},
     "output_type": "execute_result"
    }
   ],
   "source": [
    "df_dopost2[~df_dopost2['overal'].isnull()].sum()"
   ],
   "metadata": {
    "collapsed": false,
    "pycharm": {
     "name": "#%%\n"
    }
   }
  },
  {
   "cell_type": "code",
   "execution_count": 14,
   "outputs": [
    {
     "data": {
      "text/plain": "Empty DataFrame\nColumns: [Unnamed: 0, name_TT, id_tov, name_gr, name_tov, Monday, Tuesday, Wednesday, Thursday, Friday, Saturday, Sunday, All_Weekdopost, квант]\nIndex: []",
      "text/html": "<div>\n<style scoped>\n    .dataframe tbody tr th:only-of-type {\n        vertical-align: middle;\n    }\n\n    .dataframe tbody tr th {\n        vertical-align: top;\n    }\n\n    .dataframe thead th {\n        text-align: right;\n    }\n</style>\n<table border=\"1\" class=\"dataframe\">\n  <thead>\n    <tr style=\"text-align: right;\">\n      <th></th>\n      <th>Unnamed: 0</th>\n      <th>name_TT</th>\n      <th>id_tov</th>\n      <th>name_gr</th>\n      <th>name_tov</th>\n      <th>Monday</th>\n      <th>Tuesday</th>\n      <th>Wednesday</th>\n      <th>Thursday</th>\n      <th>Friday</th>\n      <th>Saturday</th>\n      <th>Sunday</th>\n      <th>All_Weekdopost</th>\n      <th>квант</th>\n    </tr>\n  </thead>\n  <tbody>\n  </tbody>\n</table>\n</div>"
     },
     "execution_count": 14,
     "metadata": {},
     "output_type": "execute_result"
    }
   ],
   "source": [
    "df_dopost[(df_dopost['name_gr'] == 'Овощи. Фрукты. Грибы. Зелень')& (df_dopost['name_TT'] =='1376М_Ельнинская23')]"
   ],
   "metadata": {
    "collapsed": false,
    "pycharm": {
     "name": "#%%\n"
    }
   }
  },
  {
   "cell_type": "code",
   "execution_count": 15,
   "outputs": [
    {
     "data": {
      "text/plain": "array(['5447М_Боровское2к5', '1020М_Истринская10', '1501М_Пырьева5',\n       '1087М_Грекова22', '3835Ш_АкадемикаЛандау1', '2554М_Кутузовский45',\n       '2218М_Енисейская11', '5673М_Кастанаевская42',\n       '2117Ш_Изумрудная24'], dtype=object)"
     },
     "execution_count": 15,
     "metadata": {},
     "output_type": "execute_result"
    }
   ],
   "source": [
    "df_dopost['name_TT'].unique()"
   ],
   "metadata": {
    "collapsed": false,
    "pycharm": {
     "name": "#%%\n"
    }
   }
  },
  {
   "cell_type": "code",
   "execution_count": 15,
   "outputs": [],
   "source": [],
   "metadata": {
    "collapsed": false,
    "pycharm": {
     "name": "#%%\n"
    }
   }
  },
  {
   "cell_type": "code",
   "execution_count": 15,
   "outputs": [],
   "source": [],
   "metadata": {
    "collapsed": false,
    "pycharm": {
     "name": "#%%\n"
    }
   }
  },
  {
   "cell_type": "code",
   "execution_count": 19,
   "outputs": [],
   "source": [
    "with pd.ExcelWriter(\"./26_09_02_10_FROV.xlsx\") as writer:\n",
    "\n",
    "    # use to_excel function and specify the sheet_name and index\n",
    "    # to store the dataframe in specified sheet\n",
    "    df_dopost[(df_dopost['name_gr'] == 'Овощи. Фрукты. Грибы. Зелень')& (df_dopost['name_TT'] =='5447М_Боровское2к5')].to_excel(writer, sheet_name=\"5447М\", index=False)\n",
    "    df_dopost[(df_dopost['name_gr'] == 'Овощи. Фрукты. Грибы. Зелень')& (df_dopost['name_TT'] =='1020М_Истринская10')].to_excel(writer, sheet_name=\"1020М\", index=False)\n",
    "    df_dopost[(df_dopost['name_gr'] == 'Овощи. Фрукты. Грибы. Зелень')& (df_dopost['name_TT'] =='1501М_Пырьева5')].to_excel(writer, sheet_name=\"1501М\", index=False)\n",
    "    df_dopost[(df_dopost['name_gr'] == 'Овощи. Фрукты. Грибы. Зелень')& (df_dopost['name_TT'] =='1087М_Грекова22')].to_excel(writer, sheet_name=\"1087М\", index=False)\n",
    "    df_dopost[(df_dopost['name_gr'] == 'Овощи. Фрукты. Грибы. Зелень')& (df_dopost['name_TT'] =='3835Ш_АкадемикаЛандау1')].to_excel(writer, sheet_name=\"3835Ш\", index=False)\n",
    "    df_dopost[(df_dopost['name_gr'] == 'Овощи. Фрукты. Грибы. Зелень')& (df_dopost['name_TT'] =='2554М_Кутузовский45')].to_excel(writer, sheet_name=\"2554М\", index=False)\n",
    "    df_dopost[(df_dopost['name_gr'] == 'Овощи. Фрукты. Грибы. Зелень')& (df_dopost['name_TT'] =='2218М_Енисейская11')].to_excel(writer, sheet_name=\"2218М\", index=False)\n",
    "    df_dopost[(df_dopost['name_gr'] == 'Овощи. Фрукты. Грибы. Зелень')& (df_dopost['name_TT'] =='5673М_Кастанаевская42')].to_excel(writer, sheet_name=\"5673М\", index=False)\n",
    "    df_dopost[(df_dopost['name_gr'] == 'Овощи. Фрукты. Грибы. Зелень')& (df_dopost['name_TT'] =='2117Ш_Изумрудная24')].to_excel(writer, sheet_name=\"2117Ш\", index=False)\n"
   ],
   "metadata": {
    "collapsed": false,
    "pycharm": {
     "name": "#%%\n"
    }
   }
  },
  {
   "cell_type": "code",
   "execution_count": 20,
   "outputs": [],
   "source": [
    "with pd.ExcelWriter(\"./26_09_02_10_NO_FROV.xlsx\") as writer:\n",
    "\n",
    "    # use to_excel function and specify the sheet_name and index\n",
    "    # to store the dataframe in specified sheet\n",
    "    df_dopost[~(df_dopost['name_gr'] == 'Овощи. Фрукты. Грибы. Зелень')& (df_dopost['name_TT'] =='5447М_Боровское2к5')].to_excel(writer, sheet_name=\"5447М\", index=False)\n",
    "    df_dopost[~(df_dopost['name_gr'] == 'Овощи. Фрукты. Грибы. Зелень')& (df_dopost['name_TT'] =='1020М_Истринская10')].to_excel(writer, sheet_name=\"1020М\", index=False)\n",
    "    df_dopost[~(df_dopost['name_gr'] == 'Овощи. Фрукты. Грибы. Зелень')& (df_dopost['name_TT'] =='1501М_Пырьева5')].to_excel(writer, sheet_name=\"1501М\", index=False)\n",
    "    df_dopost[~(df_dopost['name_gr'] == 'Овощи. Фрукты. Грибы. Зелень')& (df_dopost['name_TT'] =='1087М_Грекова22')].to_excel(writer, sheet_name=\"1087М\", index=False)\n",
    "    df_dopost[~(df_dopost['name_gr'] == 'Овощи. Фрукты. Грибы. Зелень')& (df_dopost['name_TT'] =='3835Ш_АкадемикаЛандау1')].to_excel(writer, sheet_name=\"3835Ш\", index=False)\n",
    "    df_dopost[~(df_dopost['name_gr'] == 'Овощи. Фрукты. Грибы. Зелень')& (df_dopost['name_TT'] =='2554М_Кутузовский45')].to_excel(writer, sheet_name=\"2554М\", index=False)\n",
    "    df_dopost[~(df_dopost['name_gr'] == 'Овощи. Фрукты. Грибы. Зелень')& (df_dopost['name_TT'] =='2218М_Енисейская11')].to_excel(writer, sheet_name=\"2218М\", index=False)\n",
    "    df_dopost[~(df_dopost['name_gr'] == 'Овощи. Фрукты. Грибы. Зелень')& (df_dopost['name_TT'] =='5673М_Кастанаевская42')].to_excel(writer, sheet_name=\"5673М\", index=False)\n",
    "    df_dopost[~(df_dopost['name_gr'] == 'Овощи. Фрукты. Грибы. Зелень')& (df_dopost['name_TT'] =='2117Ш_Изумрудная24')].to_excel(writer, sheet_name=\"2117Ш\", index=False)\n"
   ],
   "metadata": {
    "collapsed": false,
    "pycharm": {
     "name": "#%%\n"
    }
   }
  }
 ],
 "metadata": {
  "kernelspec": {
   "display_name": "Python 3.10.5 64-bit",
   "language": "python",
   "name": "python3"
  },
  "language_info": {
   "codemirror_mode": {
    "name": "ipython",
    "version": 3
   },
   "file_extension": ".py",
   "mimetype": "text/x-python",
   "name": "python",
   "nbconvert_exporter": "python",
   "pygments_lexer": "ipython3",
   "version": "3.10.5"
  },
  "vscode": {
   "interpreter": {
    "hash": "d14802a80fda041396e29d0ef764e9db1b52be87434e2145de2ac9afbbaeae6f"
   }
  }
 },
 "nbformat": 4,
 "nbformat_minor": 5
}
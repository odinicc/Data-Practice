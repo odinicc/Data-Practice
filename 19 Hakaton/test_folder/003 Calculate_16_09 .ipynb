{
 "cells": [
  {
   "cell_type": "code",
   "execution_count": 1,
   "id": "02d59dd2",
   "metadata": {
    "pycharm": {
     "name": "#%%\n"
    }
   },
   "outputs": [],
   "source": [
    "import pandas as pd\n",
    "import numpy as np\n",
    "from tqdm import tqdm_notebook\n",
    "pd.set_option('display.max_columns',None)\n",
    "\n",
    "\n",
    "from pandas.api.types import CategoricalDtype\n",
    "\n",
    "import matplotlib.pyplot as plt\n",
    "import seaborn as sns\n",
    "import plotly.express as px\n",
    "import plotly\n",
    "\n",
    "sns.set(style='whitegrid')\n",
    "plt.rcParams['figure.figsize']=(15,5)\n",
    "%config InlineBackend.figure_format = 'png'\n",
    "%matplotlib inline"
   ]
  },
  {
   "cell_type": "markdown",
   "id": "6395b3fb",
   "metadata": {
    "pycharm": {
     "name": "#%% md\n"
    }
   },
   "source": [
    "Грузим чеки и магазины"
   ]
  },
  {
   "cell_type": "code",
   "execution_count": 2,
   "id": "e5d81f55",
   "metadata": {
    "pycharm": {
     "name": "#%%\n"
    }
   },
   "outputs": [],
   "source": [
    "#Грузим Магазины \n",
    "oos_by_shop = pd.read_csv(\"./003 df_oos_16_09.csv\")"
   ]
  },
  {
   "cell_type": "code",
   "execution_count": 3,
   "outputs": [],
   "source": [
    "quant_goods = pd.read_excel(\"./tov_kvant_srok_09_09.xlsx\")"
   ],
   "metadata": {
    "collapsed": false,
    "pycharm": {
     "name": "#%%\n"
    }
   }
  },
  {
   "cell_type": "code",
   "execution_count": 3,
   "outputs": [],
   "source": [],
   "metadata": {
    "collapsed": false,
    "pycharm": {
     "name": "#%%\n"
    }
   }
  },
  {
   "cell_type": "code",
   "execution_count": 4,
   "outputs": [],
   "source": [
    "df_price = pd.read_csv(\"./price.csv\")"
   ],
   "metadata": {
    "collapsed": false,
    "pycharm": {
     "name": "#%%\n"
    }
   }
  },
  {
   "cell_type": "code",
   "execution_count": 5,
   "outputs": [],
   "source": [
    "id_tt_n_tt = pd.read_excel(\"./id_tt_n_tt.xlsx\")"
   ],
   "metadata": {
    "collapsed": false,
    "pycharm": {
     "name": "#%%\n"
    }
   }
  },
  {
   "cell_type": "code",
   "execution_count": 6,
   "outputs": [],
   "source": [
    "oos_by_shop.fillna(0, inplace = True)"
   ],
   "metadata": {
    "collapsed": false,
    "pycharm": {
     "name": "#%%\n"
    }
   }
  },
  {
   "cell_type": "code",
   "execution_count": 7,
   "outputs": [],
   "source": [
    "oos_by_shop_2 = oos_by_shop.copy()"
   ],
   "metadata": {
    "collapsed": false,
    "pycharm": {
     "name": "#%%\n"
    }
   }
  },
  {
   "cell_type": "code",
   "execution_count": 8,
   "outputs": [],
   "source": [
    "oos_by_shop_2 = oos_by_shop_2.round({'Monday':0,'Tuesday':0,'Tuesday':0,'Wednesday':0,'Thursday':0,'Friday':0,'Saturday':0,'Sunday':0})"
   ],
   "metadata": {
    "collapsed": false,
    "pycharm": {
     "name": "#%%\n"
    }
   }
  },
  {
   "cell_type": "code",
   "execution_count": 9,
   "outputs": [
    {
     "data": {
      "text/plain": "array([11290, 11357, 11783, 11956, 12414, 12533, 12860, 14112, 15753,\n       15986], dtype=int64)"
     },
     "execution_count": 9,
     "metadata": {},
     "output_type": "execute_result"
    }
   ],
   "source": [
    "oos_by_shop_2['id_tt'].unique()"
   ],
   "metadata": {
    "collapsed": false,
    "pycharm": {
     "name": "#%%\n"
    }
   }
  },
  {
   "cell_type": "code",
   "execution_count": 10,
   "outputs": [
    {
     "data": {
      "text/plain": "      id_tt  id_tov  Friday  Monday  Saturday  Sunday  Thursday  Tuesday  \\\n0     11290      52     0.0     0.0       0.0     4.0       0.0      0.0   \n1     11290     143     0.0     8.0       2.0     0.0       0.0      0.0   \n2     11290     176     0.0     0.0       0.0     0.0       0.0      0.0   \n3     11290     185     0.0    10.0       0.0     0.0       0.0      0.0   \n4     11290     188     0.0     0.0       6.0     0.0      10.0      0.0   \n...     ...     ...     ...     ...       ...     ...       ...      ...   \n3655  15986   67159     0.0     0.0       0.0     0.0       0.0      1.0   \n3656  15986   67189     0.0     0.0       1.0     0.0       0.0      0.0   \n3657  15986   67285     0.0     0.0       0.0     0.0       0.0      1.0   \n3658  15986   67653     0.0     0.0       0.0     1.0       0.0      0.0   \n3659  15986   67806     0.0     0.0       0.0     0.0       1.0      0.0   \n\n      Wednesday  \n0           0.0  \n1           8.0  \n2           0.0  \n3           0.0  \n4           0.0  \n...         ...  \n3655        0.0  \n3656        0.0  \n3657        0.0  \n3658        0.0  \n3659        0.0  \n\n[3660 rows x 9 columns]",
      "text/html": "<div>\n<style scoped>\n    .dataframe tbody tr th:only-of-type {\n        vertical-align: middle;\n    }\n\n    .dataframe tbody tr th {\n        vertical-align: top;\n    }\n\n    .dataframe thead th {\n        text-align: right;\n    }\n</style>\n<table border=\"1\" class=\"dataframe\">\n  <thead>\n    <tr style=\"text-align: right;\">\n      <th></th>\n      <th>id_tt</th>\n      <th>id_tov</th>\n      <th>Friday</th>\n      <th>Monday</th>\n      <th>Saturday</th>\n      <th>Sunday</th>\n      <th>Thursday</th>\n      <th>Tuesday</th>\n      <th>Wednesday</th>\n    </tr>\n  </thead>\n  <tbody>\n    <tr>\n      <th>0</th>\n      <td>11290</td>\n      <td>52</td>\n      <td>0.0</td>\n      <td>0.0</td>\n      <td>0.0</td>\n      <td>4.0</td>\n      <td>0.0</td>\n      <td>0.0</td>\n      <td>0.0</td>\n    </tr>\n    <tr>\n      <th>1</th>\n      <td>11290</td>\n      <td>143</td>\n      <td>0.0</td>\n      <td>8.0</td>\n      <td>2.0</td>\n      <td>0.0</td>\n      <td>0.0</td>\n      <td>0.0</td>\n      <td>8.0</td>\n    </tr>\n    <tr>\n      <th>2</th>\n      <td>11290</td>\n      <td>176</td>\n      <td>0.0</td>\n      <td>0.0</td>\n      <td>0.0</td>\n      <td>0.0</td>\n      <td>0.0</td>\n      <td>0.0</td>\n      <td>0.0</td>\n    </tr>\n    <tr>\n      <th>3</th>\n      <td>11290</td>\n      <td>185</td>\n      <td>0.0</td>\n      <td>10.0</td>\n      <td>0.0</td>\n      <td>0.0</td>\n      <td>0.0</td>\n      <td>0.0</td>\n      <td>0.0</td>\n    </tr>\n    <tr>\n      <th>4</th>\n      <td>11290</td>\n      <td>188</td>\n      <td>0.0</td>\n      <td>0.0</td>\n      <td>6.0</td>\n      <td>0.0</td>\n      <td>10.0</td>\n      <td>0.0</td>\n      <td>0.0</td>\n    </tr>\n    <tr>\n      <th>...</th>\n      <td>...</td>\n      <td>...</td>\n      <td>...</td>\n      <td>...</td>\n      <td>...</td>\n      <td>...</td>\n      <td>...</td>\n      <td>...</td>\n      <td>...</td>\n    </tr>\n    <tr>\n      <th>3655</th>\n      <td>15986</td>\n      <td>67159</td>\n      <td>0.0</td>\n      <td>0.0</td>\n      <td>0.0</td>\n      <td>0.0</td>\n      <td>0.0</td>\n      <td>1.0</td>\n      <td>0.0</td>\n    </tr>\n    <tr>\n      <th>3656</th>\n      <td>15986</td>\n      <td>67189</td>\n      <td>0.0</td>\n      <td>0.0</td>\n      <td>1.0</td>\n      <td>0.0</td>\n      <td>0.0</td>\n      <td>0.0</td>\n      <td>0.0</td>\n    </tr>\n    <tr>\n      <th>3657</th>\n      <td>15986</td>\n      <td>67285</td>\n      <td>0.0</td>\n      <td>0.0</td>\n      <td>0.0</td>\n      <td>0.0</td>\n      <td>0.0</td>\n      <td>1.0</td>\n      <td>0.0</td>\n    </tr>\n    <tr>\n      <th>3658</th>\n      <td>15986</td>\n      <td>67653</td>\n      <td>0.0</td>\n      <td>0.0</td>\n      <td>0.0</td>\n      <td>1.0</td>\n      <td>0.0</td>\n      <td>0.0</td>\n      <td>0.0</td>\n    </tr>\n    <tr>\n      <th>3659</th>\n      <td>15986</td>\n      <td>67806</td>\n      <td>0.0</td>\n      <td>0.0</td>\n      <td>0.0</td>\n      <td>0.0</td>\n      <td>1.0</td>\n      <td>0.0</td>\n      <td>0.0</td>\n    </tr>\n  </tbody>\n</table>\n<p>3660 rows × 9 columns</p>\n</div>"
     },
     "execution_count": 10,
     "metadata": {},
     "output_type": "execute_result"
    }
   ],
   "source": [
    "oos_by_shop_2"
   ],
   "metadata": {
    "collapsed": false,
    "pycharm": {
     "name": "#%%\n"
    }
   }
  },
  {
   "cell_type": "code",
   "execution_count": 11,
   "outputs": [],
   "source": [
    "oos_by_shop_2['All_Weekdopost'] = oos_by_shop_2[['Monday','Tuesday','Wednesday','Thursday','Friday','Saturday','Sunday']].sum(axis = 1)"
   ],
   "metadata": {
    "collapsed": false,
    "pycharm": {
     "name": "#%%\n"
    }
   }
  },
  {
   "cell_type": "markdown",
   "source": [
    "Приводим в порядок табдицу тоаров"
   ],
   "metadata": {
    "collapsed": false,
    "pycharm": {
     "name": "#%% md\n"
    }
   }
  },
  {
   "cell_type": "code",
   "execution_count": 12,
   "outputs": [
    {
     "data": {
      "text/plain": "    id_tov                                    Name_tov Country СтатусАктХар  \\\n0      NaN                                         NaN  РОССИЯ     Активная   \n1      NaN                                         NaN  РОССИЯ     Активная   \n2      NaN                                         NaN  РОССИЯ     Активная   \n3      NaN                                         NaN  РОССИЯ     Активная   \n4      NaN                                         NaN  РОССИЯ     Активная   \n5      NaN                                         NaN  РОССИЯ     Активная   \n6      5.0             (уд)товар ВкусВилл не определен     NaN  Не активная   \n7      6.0                         (уд)Кефир 1% Восход     NaN  Не активная   \n8      7.0                       (уд)Кефир 3.2% Восход     NaN  Не активная   \n9     10.0                   (уд)Творог 9% Восход, 0.3     NaN  Не активная   \n10    14.0                 (уд)Творог 18% Восход,  0.3     NaN  Не активная   \n11    16.0                (уд)Сметана 25% Восход,  0.2     NaN  Не активная   \n12    20.0             (уд)Творожная масса Восход, 0,3     NaN  Не активная   \n13    34.0          POLEX 500 арт 306, 500 мл + крышка     NaN        Новая   \n14    35.0  (не исп.) POLEX 350 арт 319, 350 мл стакан     NaN  Не активная   \n15    35.0  (не исп.) POLEX 350 арт 319, 350 мл стакан     NaN  Не активная   \n16    35.0  (не исп.) POLEX 350 арт 319, 350 мл стакан     NaN  Не активная   \n17    35.0  (не исп.) POLEX 350 арт 319, 350 мл стакан     NaN  Не активная   \n18    35.0  (не исп.) POLEX 350 арт 319, 350 мл стакан     NaN  Не активная   \n19    35.0  (не исп.) POLEX 350 арт 319, 350 мл стакан     NaN  Не активная   \n20    35.0  (не исп.) POLEX 350 арт 319, 350 мл стакан     NaN  Не активная   \n21    35.0  (не исп.) POLEX 350 арт 319, 350 мл стакан     NaN  Не активная   \n22    36.0              (не исп.) KOMUS ТВ-200, 300 мл     NaN  Не активная   \n23    37.0                         KOMUS КМ8СМ, 750 мл     NaN        Новая   \n24    38.0                        Элтека Бутылка 0.5 л     NaN        Новая   \n25    39.0                        Элтека Бутылка 0.9 л     NaN        Новая   \n26    44.0                    (уд)Молоко 3.2% Сухиничи     NaN  Не активная   \n27    45.0             (уд)Сметана  25% Сухиничи, 200г     NaN  Не активная   \n28    46.0                       Масло сливочное 82,5%  РОССИЯ  Не активная   \n29    46.0                       Масло сливочное 82,5%  РОССИЯ  Не активная   \n\n                                    Name_Har  СрокГодностиДни  krat_u Ed_Izm  \\\n0               ООО \"Мануфактура Вкус Жизни\"            365.0     NaN    NaN   \n1               ООО \"Мануфактура Вкус Жизни\"            365.0     NaN    NaN   \n2               ООО \"Мануфактура Вкус Жизни\"            304.0     NaN    NaN   \n3               ООО \"Мануфактура Вкус Жизни\"            304.0     NaN    NaN   \n4               ООО \"Мануфактура Вкус Жизни\"            304.0     NaN    NaN   \n5               ООО \"Мануфактура Вкус Жизни\"            304.0     NaN    NaN   \n6                    Агрофирма Пречистое ОАО              NaN     0.0     кг   \n7                                 Восход ОАО              NaN     0.0     Шт   \n8                                 Восход ОАО              NaN     0.0     Шт   \n9                                 Восход ОАО              NaN     0.0    NaN   \n10                                Восход ОАО              NaN     0.0    NaN   \n11                                Восход ОАО              NaN     0.0    NaN   \n12                                Восход ОАО              NaN     0.0    NaN   \n13                                    Россия              NaN     0.0     шт   \n14  КРЕСТЬЯНСКОЕ -ФЕРМЕРСКОЕ ХОЗЯЙСТВО \"НИЛ\"              NaN     0.0     шт   \n15                           Добрая вода ООО              NaN     0.0     шт   \n16                   ТОРГОВЫЙ ДОМ ОПТИНА ООО              NaN     0.0     шт   \n17                        Лебедяньмолоко ООО              NaN     0.0     шт   \n18                            ПКФ РОСТОК ООО              NaN     0.0     шт   \n19           КАРТОФЕЛЬНАЯ НИВА ОРЛОВЩИНЫ ЗАО              NaN     0.0     шт   \n20                               АМАЛТЕЯ ООО              NaN     0.0     шт   \n21           СЫЧЕВСКАЯ МОЛОЧНАЯ КОМПАНИЯ ООО              NaN     0.0     шт   \n22                                    Россия              NaN     0.0     шт   \n23                                    Россия              NaN     0.0     шт   \n24                                    Россия              NaN     0.0     шт   \n25                                    Россия              NaN     0.0     шт   \n26                            САПК-Молок ООО              NaN     0.0     Шт   \n27                            САПК-Молок ООО              NaN     0.0    NaN   \n28                            САПК-Молок ООО              NaN     0.0     кг   \n29                          Агрофирма Оптина             20.0     0.0     кг   \n\n    group_name   parent_group_name  \n0          NaN                 NaN  \n1          NaN                 NaN  \n2          NaN                 NaN  \n3          NaN                 NaN  \n4          NaN                 NaN  \n5          NaN                 NaN  \n6        Архив               Архив  \n7        Архив               Архив  \n8        Архив               Архив  \n9        Архив               Архив  \n10       Архив               Архив  \n11       Архив               Архив  \n12       Архив               Архив  \n13  Контейнеры          Контейнеры  \n14       Архив               Архив  \n15       Архив               Архив  \n16       Архив               Архив  \n17       Архив               Архив  \n18       Архив               Архив  \n19       Архив               Архив  \n20       Архив               Архив  \n21       Архив               Архив  \n22       Архив               Архив  \n23  Контейнеры          Контейнеры  \n24  Контейнеры          Контейнеры  \n25  Контейнеры          Контейнеры  \n26       Архив               Архив  \n27       Архив               Архив  \n28       Масло  Молочная Продукция  \n29       Масло  Молочная Продукция  ",
      "text/html": "<div>\n<style scoped>\n    .dataframe tbody tr th:only-of-type {\n        vertical-align: middle;\n    }\n\n    .dataframe tbody tr th {\n        vertical-align: top;\n    }\n\n    .dataframe thead th {\n        text-align: right;\n    }\n</style>\n<table border=\"1\" class=\"dataframe\">\n  <thead>\n    <tr style=\"text-align: right;\">\n      <th></th>\n      <th>id_tov</th>\n      <th>Name_tov</th>\n      <th>Country</th>\n      <th>СтатусАктХар</th>\n      <th>Name_Har</th>\n      <th>СрокГодностиДни</th>\n      <th>krat_u</th>\n      <th>Ed_Izm</th>\n      <th>group_name</th>\n      <th>parent_group_name</th>\n    </tr>\n  </thead>\n  <tbody>\n    <tr>\n      <th>0</th>\n      <td>NaN</td>\n      <td>NaN</td>\n      <td>РОССИЯ</td>\n      <td>Активная</td>\n      <td>ООО \"Мануфактура Вкус Жизни\"</td>\n      <td>365.0</td>\n      <td>NaN</td>\n      <td>NaN</td>\n      <td>NaN</td>\n      <td>NaN</td>\n    </tr>\n    <tr>\n      <th>1</th>\n      <td>NaN</td>\n      <td>NaN</td>\n      <td>РОССИЯ</td>\n      <td>Активная</td>\n      <td>ООО \"Мануфактура Вкус Жизни\"</td>\n      <td>365.0</td>\n      <td>NaN</td>\n      <td>NaN</td>\n      <td>NaN</td>\n      <td>NaN</td>\n    </tr>\n    <tr>\n      <th>2</th>\n      <td>NaN</td>\n      <td>NaN</td>\n      <td>РОССИЯ</td>\n      <td>Активная</td>\n      <td>ООО \"Мануфактура Вкус Жизни\"</td>\n      <td>304.0</td>\n      <td>NaN</td>\n      <td>NaN</td>\n      <td>NaN</td>\n      <td>NaN</td>\n    </tr>\n    <tr>\n      <th>3</th>\n      <td>NaN</td>\n      <td>NaN</td>\n      <td>РОССИЯ</td>\n      <td>Активная</td>\n      <td>ООО \"Мануфактура Вкус Жизни\"</td>\n      <td>304.0</td>\n      <td>NaN</td>\n      <td>NaN</td>\n      <td>NaN</td>\n      <td>NaN</td>\n    </tr>\n    <tr>\n      <th>4</th>\n      <td>NaN</td>\n      <td>NaN</td>\n      <td>РОССИЯ</td>\n      <td>Активная</td>\n      <td>ООО \"Мануфактура Вкус Жизни\"</td>\n      <td>304.0</td>\n      <td>NaN</td>\n      <td>NaN</td>\n      <td>NaN</td>\n      <td>NaN</td>\n    </tr>\n    <tr>\n      <th>5</th>\n      <td>NaN</td>\n      <td>NaN</td>\n      <td>РОССИЯ</td>\n      <td>Активная</td>\n      <td>ООО \"Мануфактура Вкус Жизни\"</td>\n      <td>304.0</td>\n      <td>NaN</td>\n      <td>NaN</td>\n      <td>NaN</td>\n      <td>NaN</td>\n    </tr>\n    <tr>\n      <th>6</th>\n      <td>5.0</td>\n      <td>(уд)товар ВкусВилл не определен</td>\n      <td>NaN</td>\n      <td>Не активная</td>\n      <td>Агрофирма Пречистое ОАО</td>\n      <td>NaN</td>\n      <td>0.0</td>\n      <td>кг</td>\n      <td>Архив</td>\n      <td>Архив</td>\n    </tr>\n    <tr>\n      <th>7</th>\n      <td>6.0</td>\n      <td>(уд)Кефир 1% Восход</td>\n      <td>NaN</td>\n      <td>Не активная</td>\n      <td>Восход ОАО</td>\n      <td>NaN</td>\n      <td>0.0</td>\n      <td>Шт</td>\n      <td>Архив</td>\n      <td>Архив</td>\n    </tr>\n    <tr>\n      <th>8</th>\n      <td>7.0</td>\n      <td>(уд)Кефир 3.2% Восход</td>\n      <td>NaN</td>\n      <td>Не активная</td>\n      <td>Восход ОАО</td>\n      <td>NaN</td>\n      <td>0.0</td>\n      <td>Шт</td>\n      <td>Архив</td>\n      <td>Архив</td>\n    </tr>\n    <tr>\n      <th>9</th>\n      <td>10.0</td>\n      <td>(уд)Творог 9% Восход, 0.3</td>\n      <td>NaN</td>\n      <td>Не активная</td>\n      <td>Восход ОАО</td>\n      <td>NaN</td>\n      <td>0.0</td>\n      <td>NaN</td>\n      <td>Архив</td>\n      <td>Архив</td>\n    </tr>\n    <tr>\n      <th>10</th>\n      <td>14.0</td>\n      <td>(уд)Творог 18% Восход,  0.3</td>\n      <td>NaN</td>\n      <td>Не активная</td>\n      <td>Восход ОАО</td>\n      <td>NaN</td>\n      <td>0.0</td>\n      <td>NaN</td>\n      <td>Архив</td>\n      <td>Архив</td>\n    </tr>\n    <tr>\n      <th>11</th>\n      <td>16.0</td>\n      <td>(уд)Сметана 25% Восход,  0.2</td>\n      <td>NaN</td>\n      <td>Не активная</td>\n      <td>Восход ОАО</td>\n      <td>NaN</td>\n      <td>0.0</td>\n      <td>NaN</td>\n      <td>Архив</td>\n      <td>Архив</td>\n    </tr>\n    <tr>\n      <th>12</th>\n      <td>20.0</td>\n      <td>(уд)Творожная масса Восход, 0,3</td>\n      <td>NaN</td>\n      <td>Не активная</td>\n      <td>Восход ОАО</td>\n      <td>NaN</td>\n      <td>0.0</td>\n      <td>NaN</td>\n      <td>Архив</td>\n      <td>Архив</td>\n    </tr>\n    <tr>\n      <th>13</th>\n      <td>34.0</td>\n      <td>POLEX 500 арт 306, 500 мл + крышка</td>\n      <td>NaN</td>\n      <td>Новая</td>\n      <td>Россия</td>\n      <td>NaN</td>\n      <td>0.0</td>\n      <td>шт</td>\n      <td>Контейнеры</td>\n      <td>Контейнеры</td>\n    </tr>\n    <tr>\n      <th>14</th>\n      <td>35.0</td>\n      <td>(не исп.) POLEX 350 арт 319, 350 мл стакан</td>\n      <td>NaN</td>\n      <td>Не активная</td>\n      <td>КРЕСТЬЯНСКОЕ -ФЕРМЕРСКОЕ ХОЗЯЙСТВО \"НИЛ\"</td>\n      <td>NaN</td>\n      <td>0.0</td>\n      <td>шт</td>\n      <td>Архив</td>\n      <td>Архив</td>\n    </tr>\n    <tr>\n      <th>15</th>\n      <td>35.0</td>\n      <td>(не исп.) POLEX 350 арт 319, 350 мл стакан</td>\n      <td>NaN</td>\n      <td>Не активная</td>\n      <td>Добрая вода ООО</td>\n      <td>NaN</td>\n      <td>0.0</td>\n      <td>шт</td>\n      <td>Архив</td>\n      <td>Архив</td>\n    </tr>\n    <tr>\n      <th>16</th>\n      <td>35.0</td>\n      <td>(не исп.) POLEX 350 арт 319, 350 мл стакан</td>\n      <td>NaN</td>\n      <td>Не активная</td>\n      <td>ТОРГОВЫЙ ДОМ ОПТИНА ООО</td>\n      <td>NaN</td>\n      <td>0.0</td>\n      <td>шт</td>\n      <td>Архив</td>\n      <td>Архив</td>\n    </tr>\n    <tr>\n      <th>17</th>\n      <td>35.0</td>\n      <td>(не исп.) POLEX 350 арт 319, 350 мл стакан</td>\n      <td>NaN</td>\n      <td>Не активная</td>\n      <td>Лебедяньмолоко ООО</td>\n      <td>NaN</td>\n      <td>0.0</td>\n      <td>шт</td>\n      <td>Архив</td>\n      <td>Архив</td>\n    </tr>\n    <tr>\n      <th>18</th>\n      <td>35.0</td>\n      <td>(не исп.) POLEX 350 арт 319, 350 мл стакан</td>\n      <td>NaN</td>\n      <td>Не активная</td>\n      <td>ПКФ РОСТОК ООО</td>\n      <td>NaN</td>\n      <td>0.0</td>\n      <td>шт</td>\n      <td>Архив</td>\n      <td>Архив</td>\n    </tr>\n    <tr>\n      <th>19</th>\n      <td>35.0</td>\n      <td>(не исп.) POLEX 350 арт 319, 350 мл стакан</td>\n      <td>NaN</td>\n      <td>Не активная</td>\n      <td>КАРТОФЕЛЬНАЯ НИВА ОРЛОВЩИНЫ ЗАО</td>\n      <td>NaN</td>\n      <td>0.0</td>\n      <td>шт</td>\n      <td>Архив</td>\n      <td>Архив</td>\n    </tr>\n    <tr>\n      <th>20</th>\n      <td>35.0</td>\n      <td>(не исп.) POLEX 350 арт 319, 350 мл стакан</td>\n      <td>NaN</td>\n      <td>Не активная</td>\n      <td>АМАЛТЕЯ ООО</td>\n      <td>NaN</td>\n      <td>0.0</td>\n      <td>шт</td>\n      <td>Архив</td>\n      <td>Архив</td>\n    </tr>\n    <tr>\n      <th>21</th>\n      <td>35.0</td>\n      <td>(не исп.) POLEX 350 арт 319, 350 мл стакан</td>\n      <td>NaN</td>\n      <td>Не активная</td>\n      <td>СЫЧЕВСКАЯ МОЛОЧНАЯ КОМПАНИЯ ООО</td>\n      <td>NaN</td>\n      <td>0.0</td>\n      <td>шт</td>\n      <td>Архив</td>\n      <td>Архив</td>\n    </tr>\n    <tr>\n      <th>22</th>\n      <td>36.0</td>\n      <td>(не исп.) KOMUS ТВ-200, 300 мл</td>\n      <td>NaN</td>\n      <td>Не активная</td>\n      <td>Россия</td>\n      <td>NaN</td>\n      <td>0.0</td>\n      <td>шт</td>\n      <td>Архив</td>\n      <td>Архив</td>\n    </tr>\n    <tr>\n      <th>23</th>\n      <td>37.0</td>\n      <td>KOMUS КМ8СМ, 750 мл</td>\n      <td>NaN</td>\n      <td>Новая</td>\n      <td>Россия</td>\n      <td>NaN</td>\n      <td>0.0</td>\n      <td>шт</td>\n      <td>Контейнеры</td>\n      <td>Контейнеры</td>\n    </tr>\n    <tr>\n      <th>24</th>\n      <td>38.0</td>\n      <td>Элтека Бутылка 0.5 л</td>\n      <td>NaN</td>\n      <td>Новая</td>\n      <td>Россия</td>\n      <td>NaN</td>\n      <td>0.0</td>\n      <td>шт</td>\n      <td>Контейнеры</td>\n      <td>Контейнеры</td>\n    </tr>\n    <tr>\n      <th>25</th>\n      <td>39.0</td>\n      <td>Элтека Бутылка 0.9 л</td>\n      <td>NaN</td>\n      <td>Новая</td>\n      <td>Россия</td>\n      <td>NaN</td>\n      <td>0.0</td>\n      <td>шт</td>\n      <td>Контейнеры</td>\n      <td>Контейнеры</td>\n    </tr>\n    <tr>\n      <th>26</th>\n      <td>44.0</td>\n      <td>(уд)Молоко 3.2% Сухиничи</td>\n      <td>NaN</td>\n      <td>Не активная</td>\n      <td>САПК-Молок ООО</td>\n      <td>NaN</td>\n      <td>0.0</td>\n      <td>Шт</td>\n      <td>Архив</td>\n      <td>Архив</td>\n    </tr>\n    <tr>\n      <th>27</th>\n      <td>45.0</td>\n      <td>(уд)Сметана  25% Сухиничи, 200г</td>\n      <td>NaN</td>\n      <td>Не активная</td>\n      <td>САПК-Молок ООО</td>\n      <td>NaN</td>\n      <td>0.0</td>\n      <td>NaN</td>\n      <td>Архив</td>\n      <td>Архив</td>\n    </tr>\n    <tr>\n      <th>28</th>\n      <td>46.0</td>\n      <td>Масло сливочное 82,5%</td>\n      <td>РОССИЯ</td>\n      <td>Не активная</td>\n      <td>САПК-Молок ООО</td>\n      <td>NaN</td>\n      <td>0.0</td>\n      <td>кг</td>\n      <td>Масло</td>\n      <td>Молочная Продукция</td>\n    </tr>\n    <tr>\n      <th>29</th>\n      <td>46.0</td>\n      <td>Масло сливочное 82,5%</td>\n      <td>РОССИЯ</td>\n      <td>Не активная</td>\n      <td>Агрофирма Оптина</td>\n      <td>20.0</td>\n      <td>0.0</td>\n      <td>кг</td>\n      <td>Масло</td>\n      <td>Молочная Продукция</td>\n    </tr>\n  </tbody>\n</table>\n</div>"
     },
     "execution_count": 12,
     "metadata": {},
     "output_type": "execute_result"
    }
   ],
   "source": [
    "quant_goods.head(30)"
   ],
   "metadata": {
    "collapsed": false,
    "pycharm": {
     "name": "#%%\n"
    }
   }
  },
  {
   "cell_type": "code",
   "execution_count": 13,
   "outputs": [
    {
     "data": {
      "text/plain": "        id_tov                            Name_tov      Country СтатусАктХар  \\\n0          NaN                                 NaN       РОССИЯ     Активная   \n1          NaN                                 NaN       РОССИЯ     Активная   \n2          NaN                                 NaN       РОССИЯ     Активная   \n3          NaN                                 NaN       РОССИЯ     Активная   \n4          NaN                                 NaN       РОССИЯ     Активная   \n...        ...                                 ...          ...          ...   \n64853  68057.0      Хлопушка пружинная с сюрпризом        Китай        Новая   \n64854  68058.0           Яблоко молодое Кабардинка       РОССИЯ     Активная   \n64855  68059.0  Киви Азербайджан в корзинке, 900 г  Азербайджан        Новая   \n64856  68059.0  Киви Азербайджан в корзинке, 900 г  Азербайджан        Новая   \n64857  68059.0  Киви Азербайджан в корзинке, 900 г  Азербайджан     Активная   \n\n                                Name_Har  СрокГодностиДни  krat_u Ed_Izm  \\\n0           ООО \"Мануфактура Вкус Жизни\"            365.0     NaN    NaN   \n1           ООО \"Мануфактура Вкус Жизни\"            365.0     NaN    NaN   \n2           ООО \"Мануфактура Вкус Жизни\"            304.0     NaN    NaN   \n3           ООО \"Мануфактура Вкус Жизни\"            304.0     NaN    NaN   \n4           ООО \"Мануфактура Вкус Жизни\"            304.0     NaN    NaN   \n...                                  ...              ...     ...    ...   \n64853  YONGKANG CHAOSHUAI ARTS&CRAFTS CO         364635.0     0.0     шт   \n64854                        ФРУТИКО ООО             30.0     0.0     кг   \n64855                      РУСФРУКТ+ ООО             30.0     0.0     шт   \n64856                        ВИМФРУТ ООО             30.0     0.0     шт   \n64857                       ФРУКТОЗА ООО             30.0     0.0     шт   \n\n           group_name             parent_group_name  \n0                 NaN                           NaN  \n1                 NaN                           NaN  \n2                 NaN                           NaN  \n3                 NaN                           NaN  \n4                 NaN                           NaN  \n...               ...                           ...  \n64853  Детские товары                       Нон-Фуд  \n64854          Яблоки  Овощи. Фрукты. Грибы. Зелень  \n64855          Фрукты  Овощи. Фрукты. Грибы. Зелень  \n64856          Фрукты  Овощи. Фрукты. Грибы. Зелень  \n64857          Фрукты  Овощи. Фрукты. Грибы. Зелень  \n\n[64858 rows x 10 columns]",
      "text/html": "<div>\n<style scoped>\n    .dataframe tbody tr th:only-of-type {\n        vertical-align: middle;\n    }\n\n    .dataframe tbody tr th {\n        vertical-align: top;\n    }\n\n    .dataframe thead th {\n        text-align: right;\n    }\n</style>\n<table border=\"1\" class=\"dataframe\">\n  <thead>\n    <tr style=\"text-align: right;\">\n      <th></th>\n      <th>id_tov</th>\n      <th>Name_tov</th>\n      <th>Country</th>\n      <th>СтатусАктХар</th>\n      <th>Name_Har</th>\n      <th>СрокГодностиДни</th>\n      <th>krat_u</th>\n      <th>Ed_Izm</th>\n      <th>group_name</th>\n      <th>parent_group_name</th>\n    </tr>\n  </thead>\n  <tbody>\n    <tr>\n      <th>0</th>\n      <td>NaN</td>\n      <td>NaN</td>\n      <td>РОССИЯ</td>\n      <td>Активная</td>\n      <td>ООО \"Мануфактура Вкус Жизни\"</td>\n      <td>365.0</td>\n      <td>NaN</td>\n      <td>NaN</td>\n      <td>NaN</td>\n      <td>NaN</td>\n    </tr>\n    <tr>\n      <th>1</th>\n      <td>NaN</td>\n      <td>NaN</td>\n      <td>РОССИЯ</td>\n      <td>Активная</td>\n      <td>ООО \"Мануфактура Вкус Жизни\"</td>\n      <td>365.0</td>\n      <td>NaN</td>\n      <td>NaN</td>\n      <td>NaN</td>\n      <td>NaN</td>\n    </tr>\n    <tr>\n      <th>2</th>\n      <td>NaN</td>\n      <td>NaN</td>\n      <td>РОССИЯ</td>\n      <td>Активная</td>\n      <td>ООО \"Мануфактура Вкус Жизни\"</td>\n      <td>304.0</td>\n      <td>NaN</td>\n      <td>NaN</td>\n      <td>NaN</td>\n      <td>NaN</td>\n    </tr>\n    <tr>\n      <th>3</th>\n      <td>NaN</td>\n      <td>NaN</td>\n      <td>РОССИЯ</td>\n      <td>Активная</td>\n      <td>ООО \"Мануфактура Вкус Жизни\"</td>\n      <td>304.0</td>\n      <td>NaN</td>\n      <td>NaN</td>\n      <td>NaN</td>\n      <td>NaN</td>\n    </tr>\n    <tr>\n      <th>4</th>\n      <td>NaN</td>\n      <td>NaN</td>\n      <td>РОССИЯ</td>\n      <td>Активная</td>\n      <td>ООО \"Мануфактура Вкус Жизни\"</td>\n      <td>304.0</td>\n      <td>NaN</td>\n      <td>NaN</td>\n      <td>NaN</td>\n      <td>NaN</td>\n    </tr>\n    <tr>\n      <th>...</th>\n      <td>...</td>\n      <td>...</td>\n      <td>...</td>\n      <td>...</td>\n      <td>...</td>\n      <td>...</td>\n      <td>...</td>\n      <td>...</td>\n      <td>...</td>\n      <td>...</td>\n    </tr>\n    <tr>\n      <th>64853</th>\n      <td>68057.0</td>\n      <td>Хлопушка пружинная с сюрпризом</td>\n      <td>Китай</td>\n      <td>Новая</td>\n      <td>YONGKANG CHAOSHUAI ARTS&amp;CRAFTS CO</td>\n      <td>364635.0</td>\n      <td>0.0</td>\n      <td>шт</td>\n      <td>Детские товары</td>\n      <td>Нон-Фуд</td>\n    </tr>\n    <tr>\n      <th>64854</th>\n      <td>68058.0</td>\n      <td>Яблоко молодое Кабардинка</td>\n      <td>РОССИЯ</td>\n      <td>Активная</td>\n      <td>ФРУТИКО ООО</td>\n      <td>30.0</td>\n      <td>0.0</td>\n      <td>кг</td>\n      <td>Яблоки</td>\n      <td>Овощи. Фрукты. Грибы. Зелень</td>\n    </tr>\n    <tr>\n      <th>64855</th>\n      <td>68059.0</td>\n      <td>Киви Азербайджан в корзинке, 900 г</td>\n      <td>Азербайджан</td>\n      <td>Новая</td>\n      <td>РУСФРУКТ+ ООО</td>\n      <td>30.0</td>\n      <td>0.0</td>\n      <td>шт</td>\n      <td>Фрукты</td>\n      <td>Овощи. Фрукты. Грибы. Зелень</td>\n    </tr>\n    <tr>\n      <th>64856</th>\n      <td>68059.0</td>\n      <td>Киви Азербайджан в корзинке, 900 г</td>\n      <td>Азербайджан</td>\n      <td>Новая</td>\n      <td>ВИМФРУТ ООО</td>\n      <td>30.0</td>\n      <td>0.0</td>\n      <td>шт</td>\n      <td>Фрукты</td>\n      <td>Овощи. Фрукты. Грибы. Зелень</td>\n    </tr>\n    <tr>\n      <th>64857</th>\n      <td>68059.0</td>\n      <td>Киви Азербайджан в корзинке, 900 г</td>\n      <td>Азербайджан</td>\n      <td>Активная</td>\n      <td>ФРУКТОЗА ООО</td>\n      <td>30.0</td>\n      <td>0.0</td>\n      <td>шт</td>\n      <td>Фрукты</td>\n      <td>Овощи. Фрукты. Грибы. Зелень</td>\n    </tr>\n  </tbody>\n</table>\n<p>64858 rows × 10 columns</p>\n</div>"
     },
     "execution_count": 13,
     "metadata": {},
     "output_type": "execute_result"
    }
   ],
   "source": [
    "quant_goods"
   ],
   "metadata": {
    "collapsed": false,
    "pycharm": {
     "name": "#%%\n"
    }
   }
  },
  {
   "cell_type": "code",
   "execution_count": 14,
   "outputs": [
    {
     "data": {
      "text/plain": "     id_tov    Name_tov Country СтатусАктХар  \\\n356   158.0  Кефир 3,2%  РОССИЯ  Не активная   \n357   158.0  Кефир 3,2%  РОССИЯ  Не активная   \n358   158.0  Кефир 3,2%  РОССИЯ  Не активная   \n359   158.0  Кефир 3,2%  РОССИЯ     Активная   \n360   158.0  Кефир 3,2%  РОССИЯ  Не активная   \n361   158.0  Кефир 3,2%  РОССИЯ  Не активная   \n362   158.0  Кефир 3,2%  РОССИЯ  Не активная   \n363   158.0  Кефир 3,2%  РОССИЯ  Не активная   \n364   158.0  Кефир 3,2%  РОССИЯ     Активная   \n365   158.0  Кефир 3,2%  РОССИЯ  Не активная   \n366   158.0  Кефир 3,2%  РОССИЯ  Не активная   \n367   158.0  Кефир 3,2%  РОССИЯ  Не активная   \n368   158.0  Кефир 3,2%  РОССИЯ  Не активная   \n369   158.0  Кефир 3,2%  РОССИЯ  Не активная   \n370   158.0  Кефир 3,2%  РОССИЯ     Активная   \n371   158.0  Кефир 3,2%  РОССИЯ     Активная   \n372   158.0  Кефир 3,2%  РОССИЯ  Не активная   \n373   158.0  Кефир 3,2%  РОССИЯ     Активная   \n374   158.0  Кефир 3,2%  РОССИЯ  Не активная   \n375   158.0  Кефир 3,2%  РОССИЯ     Активная   \n376   158.0  Кефир 3,2%  РОССИЯ  Не активная   \n377   158.0  Кефир 3,2%  РОССИЯ     Активная   \n378   158.0  Кефир 3,2%  РОССИЯ        Новая   \n\n                                Name_Har  СрокГодностиДни  krat_u Ed_Izm  \\\n356                     Агрофирма Оптина              NaN     0.0     шт   \n357                        БОР Щелканово              NaN     0.0     шт   \n358                            Сычевский              5.0     0.0     шт   \n359             ОДОЕВСКИЙ МАСЛОЗАВОД ОАО              5.0     0.0     шт   \n360           Болоховский хлебозавод ЗАО              NaN     0.0     шт   \n361                Торговый Дом БАРИНОФФ              NaN     0.0     шт   \n362                    АПК Шатурский ООО              NaN     0.0     шт   \n363                     Жуковомолоко ООО              NaN     0.0     шт   \n364                   Лебедяньмолоко ООО              6.0    10.0     шт   \n365  Великолукский молочный комбинат ЗАО              5.0     0.0     шт   \n366                     Молочко плюс ООО              5.0     0.0     шт   \n367                               ЗМК АО              6.0     0.0     шт   \n368                           ВОСХОД ООО              5.0     0.0     шт   \n369              УРИЦКИЙ МОЛОКОЗАВОД ООО              5.0     0.0     шт   \n370                           КОСМОЛ ООО              5.0    12.0     шт   \n371                    РЯЗАНСКИЙ ООО АМК              5.0     6.0     шт   \n372                           Молоко ОАО              7.0     0.0     шт   \n373             ТД Жуковское молоко, ООО              5.0    10.0     шт   \n374              ЕЛЕЦКИЙ ГОРМОЛЗАВОД ОАО              5.0     0.0     шт   \n375                               ТМК АО              6.0     6.0     шт   \n376                              ЧМК ООО              5.0     0.0     шт   \n377                          Молодел ООО              6.0    15.0     шт   \n378              ТД ШАХУНСКОЕ МОЛОКО ООО              5.0     0.0     шт   \n\n    group_name   parent_group_name  \n356      Кефир  Молочная Продукция  \n357      Кефир  Молочная Продукция  \n358      Кефир  Молочная Продукция  \n359      Кефир  Молочная Продукция  \n360      Кефир  Молочная Продукция  \n361      Кефир  Молочная Продукция  \n362      Кефир  Молочная Продукция  \n363      Кефир  Молочная Продукция  \n364      Кефир  Молочная Продукция  \n365      Кефир  Молочная Продукция  \n366      Кефир  Молочная Продукция  \n367      Кефир  Молочная Продукция  \n368      Кефир  Молочная Продукция  \n369      Кефир  Молочная Продукция  \n370      Кефир  Молочная Продукция  \n371      Кефир  Молочная Продукция  \n372      Кефир  Молочная Продукция  \n373      Кефир  Молочная Продукция  \n374      Кефир  Молочная Продукция  \n375      Кефир  Молочная Продукция  \n376      Кефир  Молочная Продукция  \n377      Кефир  Молочная Продукция  \n378      Кефир  Молочная Продукция  ",
      "text/html": "<div>\n<style scoped>\n    .dataframe tbody tr th:only-of-type {\n        vertical-align: middle;\n    }\n\n    .dataframe tbody tr th {\n        vertical-align: top;\n    }\n\n    .dataframe thead th {\n        text-align: right;\n    }\n</style>\n<table border=\"1\" class=\"dataframe\">\n  <thead>\n    <tr style=\"text-align: right;\">\n      <th></th>\n      <th>id_tov</th>\n      <th>Name_tov</th>\n      <th>Country</th>\n      <th>СтатусАктХар</th>\n      <th>Name_Har</th>\n      <th>СрокГодностиДни</th>\n      <th>krat_u</th>\n      <th>Ed_Izm</th>\n      <th>group_name</th>\n      <th>parent_group_name</th>\n    </tr>\n  </thead>\n  <tbody>\n    <tr>\n      <th>356</th>\n      <td>158.0</td>\n      <td>Кефир 3,2%</td>\n      <td>РОССИЯ</td>\n      <td>Не активная</td>\n      <td>Агрофирма Оптина</td>\n      <td>NaN</td>\n      <td>0.0</td>\n      <td>шт</td>\n      <td>Кефир</td>\n      <td>Молочная Продукция</td>\n    </tr>\n    <tr>\n      <th>357</th>\n      <td>158.0</td>\n      <td>Кефир 3,2%</td>\n      <td>РОССИЯ</td>\n      <td>Не активная</td>\n      <td>БОР Щелканово</td>\n      <td>NaN</td>\n      <td>0.0</td>\n      <td>шт</td>\n      <td>Кефир</td>\n      <td>Молочная Продукция</td>\n    </tr>\n    <tr>\n      <th>358</th>\n      <td>158.0</td>\n      <td>Кефир 3,2%</td>\n      <td>РОССИЯ</td>\n      <td>Не активная</td>\n      <td>Сычевский</td>\n      <td>5.0</td>\n      <td>0.0</td>\n      <td>шт</td>\n      <td>Кефир</td>\n      <td>Молочная Продукция</td>\n    </tr>\n    <tr>\n      <th>359</th>\n      <td>158.0</td>\n      <td>Кефир 3,2%</td>\n      <td>РОССИЯ</td>\n      <td>Активная</td>\n      <td>ОДОЕВСКИЙ МАСЛОЗАВОД ОАО</td>\n      <td>5.0</td>\n      <td>0.0</td>\n      <td>шт</td>\n      <td>Кефир</td>\n      <td>Молочная Продукция</td>\n    </tr>\n    <tr>\n      <th>360</th>\n      <td>158.0</td>\n      <td>Кефир 3,2%</td>\n      <td>РОССИЯ</td>\n      <td>Не активная</td>\n      <td>Болоховский хлебозавод ЗАО</td>\n      <td>NaN</td>\n      <td>0.0</td>\n      <td>шт</td>\n      <td>Кефир</td>\n      <td>Молочная Продукция</td>\n    </tr>\n    <tr>\n      <th>361</th>\n      <td>158.0</td>\n      <td>Кефир 3,2%</td>\n      <td>РОССИЯ</td>\n      <td>Не активная</td>\n      <td>Торговый Дом БАРИНОФФ</td>\n      <td>NaN</td>\n      <td>0.0</td>\n      <td>шт</td>\n      <td>Кефир</td>\n      <td>Молочная Продукция</td>\n    </tr>\n    <tr>\n      <th>362</th>\n      <td>158.0</td>\n      <td>Кефир 3,2%</td>\n      <td>РОССИЯ</td>\n      <td>Не активная</td>\n      <td>АПК Шатурский ООО</td>\n      <td>NaN</td>\n      <td>0.0</td>\n      <td>шт</td>\n      <td>Кефир</td>\n      <td>Молочная Продукция</td>\n    </tr>\n    <tr>\n      <th>363</th>\n      <td>158.0</td>\n      <td>Кефир 3,2%</td>\n      <td>РОССИЯ</td>\n      <td>Не активная</td>\n      <td>Жуковомолоко ООО</td>\n      <td>NaN</td>\n      <td>0.0</td>\n      <td>шт</td>\n      <td>Кефир</td>\n      <td>Молочная Продукция</td>\n    </tr>\n    <tr>\n      <th>364</th>\n      <td>158.0</td>\n      <td>Кефир 3,2%</td>\n      <td>РОССИЯ</td>\n      <td>Активная</td>\n      <td>Лебедяньмолоко ООО</td>\n      <td>6.0</td>\n      <td>10.0</td>\n      <td>шт</td>\n      <td>Кефир</td>\n      <td>Молочная Продукция</td>\n    </tr>\n    <tr>\n      <th>365</th>\n      <td>158.0</td>\n      <td>Кефир 3,2%</td>\n      <td>РОССИЯ</td>\n      <td>Не активная</td>\n      <td>Великолукский молочный комбинат ЗАО</td>\n      <td>5.0</td>\n      <td>0.0</td>\n      <td>шт</td>\n      <td>Кефир</td>\n      <td>Молочная Продукция</td>\n    </tr>\n    <tr>\n      <th>366</th>\n      <td>158.0</td>\n      <td>Кефир 3,2%</td>\n      <td>РОССИЯ</td>\n      <td>Не активная</td>\n      <td>Молочко плюс ООО</td>\n      <td>5.0</td>\n      <td>0.0</td>\n      <td>шт</td>\n      <td>Кефир</td>\n      <td>Молочная Продукция</td>\n    </tr>\n    <tr>\n      <th>367</th>\n      <td>158.0</td>\n      <td>Кефир 3,2%</td>\n      <td>РОССИЯ</td>\n      <td>Не активная</td>\n      <td>ЗМК АО</td>\n      <td>6.0</td>\n      <td>0.0</td>\n      <td>шт</td>\n      <td>Кефир</td>\n      <td>Молочная Продукция</td>\n    </tr>\n    <tr>\n      <th>368</th>\n      <td>158.0</td>\n      <td>Кефир 3,2%</td>\n      <td>РОССИЯ</td>\n      <td>Не активная</td>\n      <td>ВОСХОД ООО</td>\n      <td>5.0</td>\n      <td>0.0</td>\n      <td>шт</td>\n      <td>Кефир</td>\n      <td>Молочная Продукция</td>\n    </tr>\n    <tr>\n      <th>369</th>\n      <td>158.0</td>\n      <td>Кефир 3,2%</td>\n      <td>РОССИЯ</td>\n      <td>Не активная</td>\n      <td>УРИЦКИЙ МОЛОКОЗАВОД ООО</td>\n      <td>5.0</td>\n      <td>0.0</td>\n      <td>шт</td>\n      <td>Кефир</td>\n      <td>Молочная Продукция</td>\n    </tr>\n    <tr>\n      <th>370</th>\n      <td>158.0</td>\n      <td>Кефир 3,2%</td>\n      <td>РОССИЯ</td>\n      <td>Активная</td>\n      <td>КОСМОЛ ООО</td>\n      <td>5.0</td>\n      <td>12.0</td>\n      <td>шт</td>\n      <td>Кефир</td>\n      <td>Молочная Продукция</td>\n    </tr>\n    <tr>\n      <th>371</th>\n      <td>158.0</td>\n      <td>Кефир 3,2%</td>\n      <td>РОССИЯ</td>\n      <td>Активная</td>\n      <td>РЯЗАНСКИЙ ООО АМК</td>\n      <td>5.0</td>\n      <td>6.0</td>\n      <td>шт</td>\n      <td>Кефир</td>\n      <td>Молочная Продукция</td>\n    </tr>\n    <tr>\n      <th>372</th>\n      <td>158.0</td>\n      <td>Кефир 3,2%</td>\n      <td>РОССИЯ</td>\n      <td>Не активная</td>\n      <td>Молоко ОАО</td>\n      <td>7.0</td>\n      <td>0.0</td>\n      <td>шт</td>\n      <td>Кефир</td>\n      <td>Молочная Продукция</td>\n    </tr>\n    <tr>\n      <th>373</th>\n      <td>158.0</td>\n      <td>Кефир 3,2%</td>\n      <td>РОССИЯ</td>\n      <td>Активная</td>\n      <td>ТД Жуковское молоко, ООО</td>\n      <td>5.0</td>\n      <td>10.0</td>\n      <td>шт</td>\n      <td>Кефир</td>\n      <td>Молочная Продукция</td>\n    </tr>\n    <tr>\n      <th>374</th>\n      <td>158.0</td>\n      <td>Кефир 3,2%</td>\n      <td>РОССИЯ</td>\n      <td>Не активная</td>\n      <td>ЕЛЕЦКИЙ ГОРМОЛЗАВОД ОАО</td>\n      <td>5.0</td>\n      <td>0.0</td>\n      <td>шт</td>\n      <td>Кефир</td>\n      <td>Молочная Продукция</td>\n    </tr>\n    <tr>\n      <th>375</th>\n      <td>158.0</td>\n      <td>Кефир 3,2%</td>\n      <td>РОССИЯ</td>\n      <td>Активная</td>\n      <td>ТМК АО</td>\n      <td>6.0</td>\n      <td>6.0</td>\n      <td>шт</td>\n      <td>Кефир</td>\n      <td>Молочная Продукция</td>\n    </tr>\n    <tr>\n      <th>376</th>\n      <td>158.0</td>\n      <td>Кефир 3,2%</td>\n      <td>РОССИЯ</td>\n      <td>Не активная</td>\n      <td>ЧМК ООО</td>\n      <td>5.0</td>\n      <td>0.0</td>\n      <td>шт</td>\n      <td>Кефир</td>\n      <td>Молочная Продукция</td>\n    </tr>\n    <tr>\n      <th>377</th>\n      <td>158.0</td>\n      <td>Кефир 3,2%</td>\n      <td>РОССИЯ</td>\n      <td>Активная</td>\n      <td>Молодел ООО</td>\n      <td>6.0</td>\n      <td>15.0</td>\n      <td>шт</td>\n      <td>Кефир</td>\n      <td>Молочная Продукция</td>\n    </tr>\n    <tr>\n      <th>378</th>\n      <td>158.0</td>\n      <td>Кефир 3,2%</td>\n      <td>РОССИЯ</td>\n      <td>Новая</td>\n      <td>ТД ШАХУНСКОЕ МОЛОКО ООО</td>\n      <td>5.0</td>\n      <td>0.0</td>\n      <td>шт</td>\n      <td>Кефир</td>\n      <td>Молочная Продукция</td>\n    </tr>\n  </tbody>\n</table>\n</div>"
     },
     "execution_count": 14,
     "metadata": {},
     "output_type": "execute_result"
    }
   ],
   "source": [
    "quant_goods[quant_goods['Name_tov'] == 'Кефир 3,2%']"
   ],
   "metadata": {
    "collapsed": false,
    "pycharm": {
     "name": "#%%\n"
    }
   }
  },
  {
   "cell_type": "code",
   "execution_count": 15,
   "outputs": [],
   "source": [
    "quant_goods2 = quant_goods[['id_tov','Name_tov','parent_group_name','СрокГодностиДни','krat_u']].groupby(['id_tov','Name_tov','parent_group_name'], as_index=False).agg({\"СрокГодностиДни\": 'mean',\"krat_u\": 'min'})"
   ],
   "metadata": {
    "collapsed": false,
    "pycharm": {
     "name": "#%%\n"
    }
   }
  },
  {
   "cell_type": "code",
   "execution_count": 16,
   "outputs": [
    {
     "data": {
      "text/plain": "     id_tov    Name_tov   parent_group_name  СрокГодностиДни  krat_u\n108   158.0  Кефир 3,2%  Молочная Продукция         5.352941     0.0",
      "text/html": "<div>\n<style scoped>\n    .dataframe tbody tr th:only-of-type {\n        vertical-align: middle;\n    }\n\n    .dataframe tbody tr th {\n        vertical-align: top;\n    }\n\n    .dataframe thead th {\n        text-align: right;\n    }\n</style>\n<table border=\"1\" class=\"dataframe\">\n  <thead>\n    <tr style=\"text-align: right;\">\n      <th></th>\n      <th>id_tov</th>\n      <th>Name_tov</th>\n      <th>parent_group_name</th>\n      <th>СрокГодностиДни</th>\n      <th>krat_u</th>\n    </tr>\n  </thead>\n  <tbody>\n    <tr>\n      <th>108</th>\n      <td>158.0</td>\n      <td>Кефир 3,2%</td>\n      <td>Молочная Продукция</td>\n      <td>5.352941</td>\n      <td>0.0</td>\n    </tr>\n  </tbody>\n</table>\n</div>"
     },
     "execution_count": 16,
     "metadata": {},
     "output_type": "execute_result"
    }
   ],
   "source": [
    "quant_goods2[quant_goods2['Name_tov'] == 'Кефир 3,2%']"
   ],
   "metadata": {
    "collapsed": false,
    "pycharm": {
     "name": "#%%\n"
    }
   }
  },
  {
   "cell_type": "code",
   "execution_count": 17,
   "outputs": [
    {
     "data": {
      "text/plain": "   id_tov                         Name_tov parent_group_name  СрокГодностиДни  \\\n0     5.0  (уд)товар ВкусВилл не определен             Архив              NaN   \n\n   krat_u  \n0     0.0  ",
      "text/html": "<div>\n<style scoped>\n    .dataframe tbody tr th:only-of-type {\n        vertical-align: middle;\n    }\n\n    .dataframe tbody tr th {\n        vertical-align: top;\n    }\n\n    .dataframe thead th {\n        text-align: right;\n    }\n</style>\n<table border=\"1\" class=\"dataframe\">\n  <thead>\n    <tr style=\"text-align: right;\">\n      <th></th>\n      <th>id_tov</th>\n      <th>Name_tov</th>\n      <th>parent_group_name</th>\n      <th>СрокГодностиДни</th>\n      <th>krat_u</th>\n    </tr>\n  </thead>\n  <tbody>\n    <tr>\n      <th>0</th>\n      <td>5.0</td>\n      <td>(уд)товар ВкусВилл не определен</td>\n      <td>Архив</td>\n      <td>NaN</td>\n      <td>0.0</td>\n    </tr>\n  </tbody>\n</table>\n</div>"
     },
     "execution_count": 17,
     "metadata": {},
     "output_type": "execute_result"
    }
   ],
   "source": [
    "quant_goods2.head(1)"
   ],
   "metadata": {
    "collapsed": false,
    "pycharm": {
     "name": "#%%\n"
    }
   }
  },
  {
   "cell_type": "code",
   "execution_count": 18,
   "outputs": [],
   "source": [
    "quant_goods2.columns = ['id_tov', 'name_tov', 'name_gr','сроксуток','квант']"
   ],
   "metadata": {
    "collapsed": false,
    "pycharm": {
     "name": "#%%\n"
    }
   }
  },
  {
   "cell_type": "markdown",
   "source": [
    " Считаем допоставки без фильтров по сроку годности"
   ],
   "metadata": {
    "collapsed": false,
    "pycharm": {
     "name": "#%% md\n"
    }
   }
  },
  {
   "cell_type": "code",
   "execution_count": 19,
   "outputs": [],
   "source": [
    "oos_by_shop_3 = oos_by_shop_2.merge(quant_goods2, how='left', on='id_tov',)\n"
   ],
   "metadata": {
    "collapsed": false,
    "pycharm": {
     "name": "#%%\n"
    }
   }
  },
  {
   "cell_type": "code",
   "execution_count": 20,
   "outputs": [],
   "source": [
    "#Удаляем товары по которым нет срока годности и товары типа \"Выдача наличных\"\n",
    "oos_by_shop_3 = oos_by_shop_3[(~oos_by_shop_3['сроксуток'].isnull()) & (oos_by_shop_3['name_gr'] != 'Прочее, служебные товары')& (oos_by_shop_3['name_gr'] != 'Рекламные материалы')& (oos_by_shop_3['name_gr'] != 'Пространство ВкусВилл')]"
   ],
   "metadata": {
    "collapsed": false,
    "pycharm": {
     "name": "#%%\n"
    }
   }
  },
  {
   "cell_type": "code",
   "execution_count": 21,
   "outputs": [
    {
     "data": {
      "text/plain": "      id_tt  id_tov  Friday  Monday  Saturday  Sunday  Thursday  Tuesday  \\\n0     11290      52     0.0     0.0       0.0     4.0       0.0      0.0   \n1     11290     143     0.0     8.0       2.0     0.0       0.0      0.0   \n2     11290     176     0.0     0.0       0.0     0.0       0.0      0.0   \n3     11290     185     0.0    10.0       0.0     0.0       0.0      0.0   \n4     11290     188     0.0     0.0       6.0     0.0      10.0      0.0   \n...     ...     ...     ...     ...       ...     ...       ...      ...   \n3655  15986   67159     0.0     0.0       0.0     0.0       0.0      1.0   \n3656  15986   67189     0.0     0.0       1.0     0.0       0.0      0.0   \n3657  15986   67285     0.0     0.0       0.0     0.0       0.0      1.0   \n3658  15986   67653     0.0     0.0       0.0     1.0       0.0      0.0   \n3659  15986   67806     0.0     0.0       0.0     0.0       1.0      0.0   \n\n      Wednesday  All_Weekdopost                                     name_tov  \\\n0           0.0             4.0                                  Сметана 25%   \n1           8.0            18.0                                  Сметана 20%   \n2           0.0             0.0                           Крем творожный 15%   \n3           0.0            10.0                                    Творог 5%   \n4           0.0            16.0                                    Творог 9%   \n...         ...             ...                                          ...   \n3655        0.0             1.0                                 Груша Сербия   \n3656        0.0             1.0                                  Кинза, 30 г   \n3657        0.0             1.0                         Цыпленок табака вес.   \n3658        0.0             1.0                       Торт \"Алфавит\" медовый   \n3659        0.0             1.0  Сэндвич ролл с курицей и коктейльным соусом   \n\n                           name_gr  сроксуток  квант  \n0               Молочная Продукция   6.900000    0.0  \n1               Молочная Продукция   6.684211    0.0  \n2               Молочная Продукция   8.500000    0.0  \n3               Молочная Продукция   4.620690    0.0  \n4               Молочная Продукция   4.727273    0.0  \n...                            ...        ...    ...  \n3655  Овощи. Фрукты. Грибы. Зелень  41.250000    0.0  \n3656  Овощи. Фрукты. Грибы. Зелень   5.444444    0.0  \n3657             Мясная Витрина ВВ   2.000000    0.0  \n3658      Торты, пирожные, десерты   5.000000    2.0  \n3659                     Кулинария   3.000000    0.0  \n\n[3633 rows x 14 columns]",
      "text/html": "<div>\n<style scoped>\n    .dataframe tbody tr th:only-of-type {\n        vertical-align: middle;\n    }\n\n    .dataframe tbody tr th {\n        vertical-align: top;\n    }\n\n    .dataframe thead th {\n        text-align: right;\n    }\n</style>\n<table border=\"1\" class=\"dataframe\">\n  <thead>\n    <tr style=\"text-align: right;\">\n      <th></th>\n      <th>id_tt</th>\n      <th>id_tov</th>\n      <th>Friday</th>\n      <th>Monday</th>\n      <th>Saturday</th>\n      <th>Sunday</th>\n      <th>Thursday</th>\n      <th>Tuesday</th>\n      <th>Wednesday</th>\n      <th>All_Weekdopost</th>\n      <th>name_tov</th>\n      <th>name_gr</th>\n      <th>сроксуток</th>\n      <th>квант</th>\n    </tr>\n  </thead>\n  <tbody>\n    <tr>\n      <th>0</th>\n      <td>11290</td>\n      <td>52</td>\n      <td>0.0</td>\n      <td>0.0</td>\n      <td>0.0</td>\n      <td>4.0</td>\n      <td>0.0</td>\n      <td>0.0</td>\n      <td>0.0</td>\n      <td>4.0</td>\n      <td>Сметана 25%</td>\n      <td>Молочная Продукция</td>\n      <td>6.900000</td>\n      <td>0.0</td>\n    </tr>\n    <tr>\n      <th>1</th>\n      <td>11290</td>\n      <td>143</td>\n      <td>0.0</td>\n      <td>8.0</td>\n      <td>2.0</td>\n      <td>0.0</td>\n      <td>0.0</td>\n      <td>0.0</td>\n      <td>8.0</td>\n      <td>18.0</td>\n      <td>Сметана 20%</td>\n      <td>Молочная Продукция</td>\n      <td>6.684211</td>\n      <td>0.0</td>\n    </tr>\n    <tr>\n      <th>2</th>\n      <td>11290</td>\n      <td>176</td>\n      <td>0.0</td>\n      <td>0.0</td>\n      <td>0.0</td>\n      <td>0.0</td>\n      <td>0.0</td>\n      <td>0.0</td>\n      <td>0.0</td>\n      <td>0.0</td>\n      <td>Крем творожный 15%</td>\n      <td>Молочная Продукция</td>\n      <td>8.500000</td>\n      <td>0.0</td>\n    </tr>\n    <tr>\n      <th>3</th>\n      <td>11290</td>\n      <td>185</td>\n      <td>0.0</td>\n      <td>10.0</td>\n      <td>0.0</td>\n      <td>0.0</td>\n      <td>0.0</td>\n      <td>0.0</td>\n      <td>0.0</td>\n      <td>10.0</td>\n      <td>Творог 5%</td>\n      <td>Молочная Продукция</td>\n      <td>4.620690</td>\n      <td>0.0</td>\n    </tr>\n    <tr>\n      <th>4</th>\n      <td>11290</td>\n      <td>188</td>\n      <td>0.0</td>\n      <td>0.0</td>\n      <td>6.0</td>\n      <td>0.0</td>\n      <td>10.0</td>\n      <td>0.0</td>\n      <td>0.0</td>\n      <td>16.0</td>\n      <td>Творог 9%</td>\n      <td>Молочная Продукция</td>\n      <td>4.727273</td>\n      <td>0.0</td>\n    </tr>\n    <tr>\n      <th>...</th>\n      <td>...</td>\n      <td>...</td>\n      <td>...</td>\n      <td>...</td>\n      <td>...</td>\n      <td>...</td>\n      <td>...</td>\n      <td>...</td>\n      <td>...</td>\n      <td>...</td>\n      <td>...</td>\n      <td>...</td>\n      <td>...</td>\n      <td>...</td>\n    </tr>\n    <tr>\n      <th>3655</th>\n      <td>15986</td>\n      <td>67159</td>\n      <td>0.0</td>\n      <td>0.0</td>\n      <td>0.0</td>\n      <td>0.0</td>\n      <td>0.0</td>\n      <td>1.0</td>\n      <td>0.0</td>\n      <td>1.0</td>\n      <td>Груша Сербия</td>\n      <td>Овощи. Фрукты. Грибы. Зелень</td>\n      <td>41.250000</td>\n      <td>0.0</td>\n    </tr>\n    <tr>\n      <th>3656</th>\n      <td>15986</td>\n      <td>67189</td>\n      <td>0.0</td>\n      <td>0.0</td>\n      <td>1.0</td>\n      <td>0.0</td>\n      <td>0.0</td>\n      <td>0.0</td>\n      <td>0.0</td>\n      <td>1.0</td>\n      <td>Кинза, 30 г</td>\n      <td>Овощи. Фрукты. Грибы. Зелень</td>\n      <td>5.444444</td>\n      <td>0.0</td>\n    </tr>\n    <tr>\n      <th>3657</th>\n      <td>15986</td>\n      <td>67285</td>\n      <td>0.0</td>\n      <td>0.0</td>\n      <td>0.0</td>\n      <td>0.0</td>\n      <td>0.0</td>\n      <td>1.0</td>\n      <td>0.0</td>\n      <td>1.0</td>\n      <td>Цыпленок табака вес.</td>\n      <td>Мясная Витрина ВВ</td>\n      <td>2.000000</td>\n      <td>0.0</td>\n    </tr>\n    <tr>\n      <th>3658</th>\n      <td>15986</td>\n      <td>67653</td>\n      <td>0.0</td>\n      <td>0.0</td>\n      <td>0.0</td>\n      <td>1.0</td>\n      <td>0.0</td>\n      <td>0.0</td>\n      <td>0.0</td>\n      <td>1.0</td>\n      <td>Торт \"Алфавит\" медовый</td>\n      <td>Торты, пирожные, десерты</td>\n      <td>5.000000</td>\n      <td>2.0</td>\n    </tr>\n    <tr>\n      <th>3659</th>\n      <td>15986</td>\n      <td>67806</td>\n      <td>0.0</td>\n      <td>0.0</td>\n      <td>0.0</td>\n      <td>0.0</td>\n      <td>1.0</td>\n      <td>0.0</td>\n      <td>0.0</td>\n      <td>1.0</td>\n      <td>Сэндвич ролл с курицей и коктейльным соусом</td>\n      <td>Кулинария</td>\n      <td>3.000000</td>\n      <td>0.0</td>\n    </tr>\n  </tbody>\n</table>\n<p>3633 rows × 14 columns</p>\n</div>"
     },
     "execution_count": 21,
     "metadata": {},
     "output_type": "execute_result"
    }
   ],
   "source": [
    "oos_by_shop_3"
   ],
   "metadata": {
    "collapsed": false,
    "pycharm": {
     "name": "#%%\n"
    }
   }
  },
  {
   "cell_type": "code",
   "execution_count": 22,
   "outputs": [
    {
     "data": {
      "text/plain": "8974.0"
     },
     "execution_count": 22,
     "metadata": {},
     "output_type": "execute_result"
    }
   ],
   "source": [
    "#Оцениваем объем допоставок без фильтра по сроку годности\n",
    "oos_by_shop_3[['Monday','Tuesday','Wednesday','Thursday','Friday','Saturday','Sunday']].sum(axis = 1).sum(axis = 0)"
   ],
   "metadata": {
    "collapsed": false,
    "pycharm": {
     "name": "#%%\n"
    }
   }
  },
  {
   "cell_type": "code",
   "execution_count": 23,
   "outputs": [
    {
     "data": {
      "text/plain": "                                           name_gr  All_Weekdopost\n0                                         Алкоголь            11.0\n1                                            Архив             3.0\n2                                          Бакалея            31.0\n3                                  Детское питание            21.0\n4                                 Замороженные п/ф            36.0\n5                                             Кафе           327.0\n6                                      Консервация            29.0\n7                                        Кулинария          2294.0\n8                           Кулинария замороженная             5.0\n9                               Медицинские товары             2.0\n10                              Молочная Продукция          1556.0\n11                                       Мороженое            11.0\n12                               Мясная Витрина ВВ            70.0\n13                      Мясные деликатесы. Колбасы            95.0\n14                      Мясо. Птица. П/ф охл. Яйца           388.0\n15                                         Напитки           127.0\n16                                         Нон-Фуд            24.0\n17                    Овощи. Фрукты. Грибы. Зелень          1561.0\n18                              Отдел без упаковки             0.0\n19                     Подписки на товары и услуги             1.0\n20                              Рыба. Морепродукты            69.0\n21                  Сладости, кондитерские изделия           185.0\n22  Сухофрукты. Сушеные овощи, грибы, ягоды. Орехи             2.0\n23                                            Сыры            65.0\n24                     Торты, десерты замороженные             2.0\n25                        Торты, пирожные, десерты           377.0\n26                                            Хлеб          1682.0\n27                             Чай и кофе. Проекты             0.0",
      "text/html": "<div>\n<style scoped>\n    .dataframe tbody tr th:only-of-type {\n        vertical-align: middle;\n    }\n\n    .dataframe tbody tr th {\n        vertical-align: top;\n    }\n\n    .dataframe thead th {\n        text-align: right;\n    }\n</style>\n<table border=\"1\" class=\"dataframe\">\n  <thead>\n    <tr style=\"text-align: right;\">\n      <th></th>\n      <th>name_gr</th>\n      <th>All_Weekdopost</th>\n    </tr>\n  </thead>\n  <tbody>\n    <tr>\n      <th>0</th>\n      <td>Алкоголь</td>\n      <td>11.0</td>\n    </tr>\n    <tr>\n      <th>1</th>\n      <td>Архив</td>\n      <td>3.0</td>\n    </tr>\n    <tr>\n      <th>2</th>\n      <td>Бакалея</td>\n      <td>31.0</td>\n    </tr>\n    <tr>\n      <th>3</th>\n      <td>Детское питание</td>\n      <td>21.0</td>\n    </tr>\n    <tr>\n      <th>4</th>\n      <td>Замороженные п/ф</td>\n      <td>36.0</td>\n    </tr>\n    <tr>\n      <th>5</th>\n      <td>Кафе</td>\n      <td>327.0</td>\n    </tr>\n    <tr>\n      <th>6</th>\n      <td>Консервация</td>\n      <td>29.0</td>\n    </tr>\n    <tr>\n      <th>7</th>\n      <td>Кулинария</td>\n      <td>2294.0</td>\n    </tr>\n    <tr>\n      <th>8</th>\n      <td>Кулинария замороженная</td>\n      <td>5.0</td>\n    </tr>\n    <tr>\n      <th>9</th>\n      <td>Медицинские товары</td>\n      <td>2.0</td>\n    </tr>\n    <tr>\n      <th>10</th>\n      <td>Молочная Продукция</td>\n      <td>1556.0</td>\n    </tr>\n    <tr>\n      <th>11</th>\n      <td>Мороженое</td>\n      <td>11.0</td>\n    </tr>\n    <tr>\n      <th>12</th>\n      <td>Мясная Витрина ВВ</td>\n      <td>70.0</td>\n    </tr>\n    <tr>\n      <th>13</th>\n      <td>Мясные деликатесы. Колбасы</td>\n      <td>95.0</td>\n    </tr>\n    <tr>\n      <th>14</th>\n      <td>Мясо. Птица. П/ф охл. Яйца</td>\n      <td>388.0</td>\n    </tr>\n    <tr>\n      <th>15</th>\n      <td>Напитки</td>\n      <td>127.0</td>\n    </tr>\n    <tr>\n      <th>16</th>\n      <td>Нон-Фуд</td>\n      <td>24.0</td>\n    </tr>\n    <tr>\n      <th>17</th>\n      <td>Овощи. Фрукты. Грибы. Зелень</td>\n      <td>1561.0</td>\n    </tr>\n    <tr>\n      <th>18</th>\n      <td>Отдел без упаковки</td>\n      <td>0.0</td>\n    </tr>\n    <tr>\n      <th>19</th>\n      <td>Подписки на товары и услуги</td>\n      <td>1.0</td>\n    </tr>\n    <tr>\n      <th>20</th>\n      <td>Рыба. Морепродукты</td>\n      <td>69.0</td>\n    </tr>\n    <tr>\n      <th>21</th>\n      <td>Сладости, кондитерские изделия</td>\n      <td>185.0</td>\n    </tr>\n    <tr>\n      <th>22</th>\n      <td>Сухофрукты. Сушеные овощи, грибы, ягоды. Орехи</td>\n      <td>2.0</td>\n    </tr>\n    <tr>\n      <th>23</th>\n      <td>Сыры</td>\n      <td>65.0</td>\n    </tr>\n    <tr>\n      <th>24</th>\n      <td>Торты, десерты замороженные</td>\n      <td>2.0</td>\n    </tr>\n    <tr>\n      <th>25</th>\n      <td>Торты, пирожные, десерты</td>\n      <td>377.0</td>\n    </tr>\n    <tr>\n      <th>26</th>\n      <td>Хлеб</td>\n      <td>1682.0</td>\n    </tr>\n    <tr>\n      <th>27</th>\n      <td>Чай и кофе. Проекты</td>\n      <td>0.0</td>\n    </tr>\n  </tbody>\n</table>\n</div>"
     },
     "execution_count": 23,
     "metadata": {},
     "output_type": "execute_result"
    }
   ],
   "source": [
    "#Оцениваем объем допоставок по категориям без фильтра по сроку годности\n",
    "oos_by_shop_3.groupby([\"name_gr\"], as_index=False)[\"All_Weekdopost\"].sum()"
   ],
   "metadata": {
    "collapsed": false,
    "pycharm": {
     "name": "#%%\n"
    }
   }
  },
  {
   "cell_type": "markdown",
   "source": [
    "Учитываем срок годности и приоритетность товаров"
   ],
   "metadata": {
    "collapsed": false,
    "pycharm": {
     "name": "#%% md\n"
    }
   }
  },
  {
   "cell_type": "code",
   "execution_count": 24,
   "outputs": [],
   "source": [
    "conditions = [\n",
    "    (oos_by_shop_3['сроксуток'] <= 2),\n",
    "    (oos_by_shop_3['сроксуток'] > 2) & (oos_by_shop_3['сроксуток'] <= 7),\n",
    "    (oos_by_shop_3['сроксуток'] > 7) & (oos_by_shop_3['сроксуток'] <= 15),\n",
    "    (oos_by_shop_3['сроксуток'] > 15)\n",
    "]"
   ],
   "metadata": {
    "collapsed": false,
    "pycharm": {
     "name": "#%%\n"
    }
   }
  },
  {
   "cell_type": "code",
   "execution_count": 25,
   "outputs": [],
   "source": [
    "values = [1, 1, 1, 1]"
   ],
   "metadata": {
    "collapsed": false,
    "pycharm": {
     "name": "#%%\n"
    }
   }
  },
  {
   "cell_type": "code",
   "execution_count": 26,
   "outputs": [],
   "source": [
    "oos_by_shop_3['tier'] = np.select(conditions, values)"
   ],
   "metadata": {
    "collapsed": false,
    "pycharm": {
     "name": "#%%\n"
    }
   }
  },
  {
   "cell_type": "code",
   "execution_count": 27,
   "outputs": [
    {
     "data": {
      "text/plain": "      id_tt  id_tov  Friday  Monday  Saturday  Sunday  Thursday  Tuesday  \\\n0     11290      52     0.0     0.0       0.0     4.0       0.0      0.0   \n1     11290     143     0.0     8.0       2.0     0.0       0.0      0.0   \n2     11290     176     0.0     0.0       0.0     0.0       0.0      0.0   \n3     11290     185     0.0    10.0       0.0     0.0       0.0      0.0   \n4     11290     188     0.0     0.0       6.0     0.0      10.0      0.0   \n...     ...     ...     ...     ...       ...     ...       ...      ...   \n3655  15986   67159     0.0     0.0       0.0     0.0       0.0      1.0   \n3656  15986   67189     0.0     0.0       1.0     0.0       0.0      0.0   \n3657  15986   67285     0.0     0.0       0.0     0.0       0.0      1.0   \n3658  15986   67653     0.0     0.0       0.0     1.0       0.0      0.0   \n3659  15986   67806     0.0     0.0       0.0     0.0       1.0      0.0   \n\n      Wednesday  All_Weekdopost                                     name_tov  \\\n0           0.0             4.0                                  Сметана 25%   \n1           8.0            18.0                                  Сметана 20%   \n2           0.0             0.0                           Крем творожный 15%   \n3           0.0            10.0                                    Творог 5%   \n4           0.0            16.0                                    Творог 9%   \n...         ...             ...                                          ...   \n3655        0.0             1.0                                 Груша Сербия   \n3656        0.0             1.0                                  Кинза, 30 г   \n3657        0.0             1.0                         Цыпленок табака вес.   \n3658        0.0             1.0                       Торт \"Алфавит\" медовый   \n3659        0.0             1.0  Сэндвич ролл с курицей и коктейльным соусом   \n\n                           name_gr  сроксуток  квант  tier  \n0               Молочная Продукция   6.900000    0.0     1  \n1               Молочная Продукция   6.684211    0.0     1  \n2               Молочная Продукция   8.500000    0.0     1  \n3               Молочная Продукция   4.620690    0.0     1  \n4               Молочная Продукция   4.727273    0.0     1  \n...                            ...        ...    ...   ...  \n3655  Овощи. Фрукты. Грибы. Зелень  41.250000    0.0     1  \n3656  Овощи. Фрукты. Грибы. Зелень   5.444444    0.0     1  \n3657             Мясная Витрина ВВ   2.000000    0.0     1  \n3658      Торты, пирожные, десерты   5.000000    2.0     1  \n3659                     Кулинария   3.000000    0.0     1  \n\n[3633 rows x 15 columns]",
      "text/html": "<div>\n<style scoped>\n    .dataframe tbody tr th:only-of-type {\n        vertical-align: middle;\n    }\n\n    .dataframe tbody tr th {\n        vertical-align: top;\n    }\n\n    .dataframe thead th {\n        text-align: right;\n    }\n</style>\n<table border=\"1\" class=\"dataframe\">\n  <thead>\n    <tr style=\"text-align: right;\">\n      <th></th>\n      <th>id_tt</th>\n      <th>id_tov</th>\n      <th>Friday</th>\n      <th>Monday</th>\n      <th>Saturday</th>\n      <th>Sunday</th>\n      <th>Thursday</th>\n      <th>Tuesday</th>\n      <th>Wednesday</th>\n      <th>All_Weekdopost</th>\n      <th>name_tov</th>\n      <th>name_gr</th>\n      <th>сроксуток</th>\n      <th>квант</th>\n      <th>tier</th>\n    </tr>\n  </thead>\n  <tbody>\n    <tr>\n      <th>0</th>\n      <td>11290</td>\n      <td>52</td>\n      <td>0.0</td>\n      <td>0.0</td>\n      <td>0.0</td>\n      <td>4.0</td>\n      <td>0.0</td>\n      <td>0.0</td>\n      <td>0.0</td>\n      <td>4.0</td>\n      <td>Сметана 25%</td>\n      <td>Молочная Продукция</td>\n      <td>6.900000</td>\n      <td>0.0</td>\n      <td>1</td>\n    </tr>\n    <tr>\n      <th>1</th>\n      <td>11290</td>\n      <td>143</td>\n      <td>0.0</td>\n      <td>8.0</td>\n      <td>2.0</td>\n      <td>0.0</td>\n      <td>0.0</td>\n      <td>0.0</td>\n      <td>8.0</td>\n      <td>18.0</td>\n      <td>Сметана 20%</td>\n      <td>Молочная Продукция</td>\n      <td>6.684211</td>\n      <td>0.0</td>\n      <td>1</td>\n    </tr>\n    <tr>\n      <th>2</th>\n      <td>11290</td>\n      <td>176</td>\n      <td>0.0</td>\n      <td>0.0</td>\n      <td>0.0</td>\n      <td>0.0</td>\n      <td>0.0</td>\n      <td>0.0</td>\n      <td>0.0</td>\n      <td>0.0</td>\n      <td>Крем творожный 15%</td>\n      <td>Молочная Продукция</td>\n      <td>8.500000</td>\n      <td>0.0</td>\n      <td>1</td>\n    </tr>\n    <tr>\n      <th>3</th>\n      <td>11290</td>\n      <td>185</td>\n      <td>0.0</td>\n      <td>10.0</td>\n      <td>0.0</td>\n      <td>0.0</td>\n      <td>0.0</td>\n      <td>0.0</td>\n      <td>0.0</td>\n      <td>10.0</td>\n      <td>Творог 5%</td>\n      <td>Молочная Продукция</td>\n      <td>4.620690</td>\n      <td>0.0</td>\n      <td>1</td>\n    </tr>\n    <tr>\n      <th>4</th>\n      <td>11290</td>\n      <td>188</td>\n      <td>0.0</td>\n      <td>0.0</td>\n      <td>6.0</td>\n      <td>0.0</td>\n      <td>10.0</td>\n      <td>0.0</td>\n      <td>0.0</td>\n      <td>16.0</td>\n      <td>Творог 9%</td>\n      <td>Молочная Продукция</td>\n      <td>4.727273</td>\n      <td>0.0</td>\n      <td>1</td>\n    </tr>\n    <tr>\n      <th>...</th>\n      <td>...</td>\n      <td>...</td>\n      <td>...</td>\n      <td>...</td>\n      <td>...</td>\n      <td>...</td>\n      <td>...</td>\n      <td>...</td>\n      <td>...</td>\n      <td>...</td>\n      <td>...</td>\n      <td>...</td>\n      <td>...</td>\n      <td>...</td>\n      <td>...</td>\n    </tr>\n    <tr>\n      <th>3655</th>\n      <td>15986</td>\n      <td>67159</td>\n      <td>0.0</td>\n      <td>0.0</td>\n      <td>0.0</td>\n      <td>0.0</td>\n      <td>0.0</td>\n      <td>1.0</td>\n      <td>0.0</td>\n      <td>1.0</td>\n      <td>Груша Сербия</td>\n      <td>Овощи. Фрукты. Грибы. Зелень</td>\n      <td>41.250000</td>\n      <td>0.0</td>\n      <td>1</td>\n    </tr>\n    <tr>\n      <th>3656</th>\n      <td>15986</td>\n      <td>67189</td>\n      <td>0.0</td>\n      <td>0.0</td>\n      <td>1.0</td>\n      <td>0.0</td>\n      <td>0.0</td>\n      <td>0.0</td>\n      <td>0.0</td>\n      <td>1.0</td>\n      <td>Кинза, 30 г</td>\n      <td>Овощи. Фрукты. Грибы. Зелень</td>\n      <td>5.444444</td>\n      <td>0.0</td>\n      <td>1</td>\n    </tr>\n    <tr>\n      <th>3657</th>\n      <td>15986</td>\n      <td>67285</td>\n      <td>0.0</td>\n      <td>0.0</td>\n      <td>0.0</td>\n      <td>0.0</td>\n      <td>0.0</td>\n      <td>1.0</td>\n      <td>0.0</td>\n      <td>1.0</td>\n      <td>Цыпленок табака вес.</td>\n      <td>Мясная Витрина ВВ</td>\n      <td>2.000000</td>\n      <td>0.0</td>\n      <td>1</td>\n    </tr>\n    <tr>\n      <th>3658</th>\n      <td>15986</td>\n      <td>67653</td>\n      <td>0.0</td>\n      <td>0.0</td>\n      <td>0.0</td>\n      <td>1.0</td>\n      <td>0.0</td>\n      <td>0.0</td>\n      <td>0.0</td>\n      <td>1.0</td>\n      <td>Торт \"Алфавит\" медовый</td>\n      <td>Торты, пирожные, десерты</td>\n      <td>5.000000</td>\n      <td>2.0</td>\n      <td>1</td>\n    </tr>\n    <tr>\n      <th>3659</th>\n      <td>15986</td>\n      <td>67806</td>\n      <td>0.0</td>\n      <td>0.0</td>\n      <td>0.0</td>\n      <td>0.0</td>\n      <td>1.0</td>\n      <td>0.0</td>\n      <td>0.0</td>\n      <td>1.0</td>\n      <td>Сэндвич ролл с курицей и коктейльным соусом</td>\n      <td>Кулинария</td>\n      <td>3.000000</td>\n      <td>0.0</td>\n      <td>1</td>\n    </tr>\n  </tbody>\n</table>\n<p>3633 rows × 15 columns</p>\n</div>"
     },
     "execution_count": 27,
     "metadata": {},
     "output_type": "execute_result"
    }
   ],
   "source": [
    "oos_by_shop_3"
   ],
   "metadata": {
    "collapsed": false,
    "pycharm": {
     "name": "#%%\n"
    }
   }
  },
  {
   "cell_type": "code",
   "execution_count": 28,
   "outputs": [],
   "source": [
    "oos_by_shop_3['tier'].replace(to_replace = 0, value = 7, inplace=True)"
   ],
   "metadata": {
    "collapsed": false,
    "pycharm": {
     "name": "#%%\n"
    }
   }
  },
  {
   "cell_type": "code",
   "execution_count": 29,
   "outputs": [],
   "source": [
    "oos_by_shop_3['popularity'] = 1"
   ],
   "metadata": {
    "collapsed": false,
    "pycharm": {
     "name": "#%%\n"
    }
   }
  },
  {
   "cell_type": "code",
   "execution_count": 30,
   "outputs": [],
   "source": [
    "oos_by_shop_3.loc[oos_by_shop_3['name_gr'] == 'Мороженое', 'popularity'] = 0"
   ],
   "metadata": {
    "collapsed": false,
    "pycharm": {
     "name": "#%%\n"
    }
   }
  },
  {
   "cell_type": "code",
   "execution_count": 31,
   "outputs": [],
   "source": [
    "oos_by_shop_3.loc[oos_by_shop_3['name_tov'] == 'Смузи', 'popularity'] = 0"
   ],
   "metadata": {
    "collapsed": false,
    "pycharm": {
     "name": "#%%\n"
    }
   }
  },
  {
   "cell_type": "code",
   "execution_count": 32,
   "outputs": [],
   "source": [
    "oos_by_shop_3.loc[oos_by_shop_3['name_tov'].str.contains('Ролл'),'popularity'] = 0.5"
   ],
   "metadata": {
    "collapsed": false,
    "pycharm": {
     "name": "#%%\n"
    }
   }
  },
  {
   "cell_type": "code",
   "execution_count": 33,
   "outputs": [],
   "source": [
    "oos_by_shop_3.loc[oos_by_shop_3['name_tov'].str.contains('ролл'),'popularity'] = 0.5"
   ],
   "metadata": {
    "collapsed": false,
    "pycharm": {
     "name": "#%%\n"
    }
   }
  },
  {
   "cell_type": "code",
   "execution_count": 34,
   "outputs": [],
   "source": [
    "oos_by_shop_3.loc[oos_by_shop_3['name_gr'] == 'Хлеб', 'popularity'] = 0.5"
   ],
   "metadata": {
    "collapsed": false,
    "pycharm": {
     "name": "#%%\n"
    }
   }
  },
  {
   "cell_type": "code",
   "execution_count": 34,
   "outputs": [],
   "source": [],
   "metadata": {
    "collapsed": false,
    "pycharm": {
     "name": "#%%\n"
    }
   }
  },
  {
   "cell_type": "code",
   "execution_count": 35,
   "outputs": [
    {
     "data": {
      "text/plain": "      id_tt  id_tov  Friday  Monday  Saturday  Sunday  Thursday  Tuesday  \\\n0     11290      52     0.0     0.0       0.0     4.0       0.0      0.0   \n1     11290     143     0.0     8.0       2.0     0.0       0.0      0.0   \n2     11290     176     0.0     0.0       0.0     0.0       0.0      0.0   \n3     11290     185     0.0    10.0       0.0     0.0       0.0      0.0   \n4     11290     188     0.0     0.0       6.0     0.0      10.0      0.0   \n...     ...     ...     ...     ...       ...     ...       ...      ...   \n3655  15986   67159     0.0     0.0       0.0     0.0       0.0      1.0   \n3656  15986   67189     0.0     0.0       1.0     0.0       0.0      0.0   \n3657  15986   67285     0.0     0.0       0.0     0.0       0.0      1.0   \n3658  15986   67653     0.0     0.0       0.0     1.0       0.0      0.0   \n3659  15986   67806     0.0     0.0       0.0     0.0       1.0      0.0   \n\n      Wednesday  All_Weekdopost                                     name_tov  \\\n0           0.0             4.0                                  Сметана 25%   \n1           8.0            18.0                                  Сметана 20%   \n2           0.0             0.0                           Крем творожный 15%   \n3           0.0            10.0                                    Творог 5%   \n4           0.0            16.0                                    Творог 9%   \n...         ...             ...                                          ...   \n3655        0.0             1.0                                 Груша Сербия   \n3656        0.0             1.0                                  Кинза, 30 г   \n3657        0.0             1.0                         Цыпленок табака вес.   \n3658        0.0             1.0                       Торт \"Алфавит\" медовый   \n3659        0.0             1.0  Сэндвич ролл с курицей и коктейльным соусом   \n\n                           name_gr  сроксуток  квант  tier  popularity  \n0               Молочная Продукция   6.900000    0.0     1         1.0  \n1               Молочная Продукция   6.684211    0.0     1         1.0  \n2               Молочная Продукция   8.500000    0.0     1         1.0  \n3               Молочная Продукция   4.620690    0.0     1         1.0  \n4               Молочная Продукция   4.727273    0.0     1         1.0  \n...                            ...        ...    ...   ...         ...  \n3655  Овощи. Фрукты. Грибы. Зелень  41.250000    0.0     1         1.0  \n3656  Овощи. Фрукты. Грибы. Зелень   5.444444    0.0     1         1.0  \n3657             Мясная Витрина ВВ   2.000000    0.0     1         1.0  \n3658      Торты, пирожные, десерты   5.000000    2.0     1         1.0  \n3659                     Кулинария   3.000000    0.0     1         0.5  \n\n[3633 rows x 16 columns]",
      "text/html": "<div>\n<style scoped>\n    .dataframe tbody tr th:only-of-type {\n        vertical-align: middle;\n    }\n\n    .dataframe tbody tr th {\n        vertical-align: top;\n    }\n\n    .dataframe thead th {\n        text-align: right;\n    }\n</style>\n<table border=\"1\" class=\"dataframe\">\n  <thead>\n    <tr style=\"text-align: right;\">\n      <th></th>\n      <th>id_tt</th>\n      <th>id_tov</th>\n      <th>Friday</th>\n      <th>Monday</th>\n      <th>Saturday</th>\n      <th>Sunday</th>\n      <th>Thursday</th>\n      <th>Tuesday</th>\n      <th>Wednesday</th>\n      <th>All_Weekdopost</th>\n      <th>name_tov</th>\n      <th>name_gr</th>\n      <th>сроксуток</th>\n      <th>квант</th>\n      <th>tier</th>\n      <th>popularity</th>\n    </tr>\n  </thead>\n  <tbody>\n    <tr>\n      <th>0</th>\n      <td>11290</td>\n      <td>52</td>\n      <td>0.0</td>\n      <td>0.0</td>\n      <td>0.0</td>\n      <td>4.0</td>\n      <td>0.0</td>\n      <td>0.0</td>\n      <td>0.0</td>\n      <td>4.0</td>\n      <td>Сметана 25%</td>\n      <td>Молочная Продукция</td>\n      <td>6.900000</td>\n      <td>0.0</td>\n      <td>1</td>\n      <td>1.0</td>\n    </tr>\n    <tr>\n      <th>1</th>\n      <td>11290</td>\n      <td>143</td>\n      <td>0.0</td>\n      <td>8.0</td>\n      <td>2.0</td>\n      <td>0.0</td>\n      <td>0.0</td>\n      <td>0.0</td>\n      <td>8.0</td>\n      <td>18.0</td>\n      <td>Сметана 20%</td>\n      <td>Молочная Продукция</td>\n      <td>6.684211</td>\n      <td>0.0</td>\n      <td>1</td>\n      <td>1.0</td>\n    </tr>\n    <tr>\n      <th>2</th>\n      <td>11290</td>\n      <td>176</td>\n      <td>0.0</td>\n      <td>0.0</td>\n      <td>0.0</td>\n      <td>0.0</td>\n      <td>0.0</td>\n      <td>0.0</td>\n      <td>0.0</td>\n      <td>0.0</td>\n      <td>Крем творожный 15%</td>\n      <td>Молочная Продукция</td>\n      <td>8.500000</td>\n      <td>0.0</td>\n      <td>1</td>\n      <td>1.0</td>\n    </tr>\n    <tr>\n      <th>3</th>\n      <td>11290</td>\n      <td>185</td>\n      <td>0.0</td>\n      <td>10.0</td>\n      <td>0.0</td>\n      <td>0.0</td>\n      <td>0.0</td>\n      <td>0.0</td>\n      <td>0.0</td>\n      <td>10.0</td>\n      <td>Творог 5%</td>\n      <td>Молочная Продукция</td>\n      <td>4.620690</td>\n      <td>0.0</td>\n      <td>1</td>\n      <td>1.0</td>\n    </tr>\n    <tr>\n      <th>4</th>\n      <td>11290</td>\n      <td>188</td>\n      <td>0.0</td>\n      <td>0.0</td>\n      <td>6.0</td>\n      <td>0.0</td>\n      <td>10.0</td>\n      <td>0.0</td>\n      <td>0.0</td>\n      <td>16.0</td>\n      <td>Творог 9%</td>\n      <td>Молочная Продукция</td>\n      <td>4.727273</td>\n      <td>0.0</td>\n      <td>1</td>\n      <td>1.0</td>\n    </tr>\n    <tr>\n      <th>...</th>\n      <td>...</td>\n      <td>...</td>\n      <td>...</td>\n      <td>...</td>\n      <td>...</td>\n      <td>...</td>\n      <td>...</td>\n      <td>...</td>\n      <td>...</td>\n      <td>...</td>\n      <td>...</td>\n      <td>...</td>\n      <td>...</td>\n      <td>...</td>\n      <td>...</td>\n      <td>...</td>\n    </tr>\n    <tr>\n      <th>3655</th>\n      <td>15986</td>\n      <td>67159</td>\n      <td>0.0</td>\n      <td>0.0</td>\n      <td>0.0</td>\n      <td>0.0</td>\n      <td>0.0</td>\n      <td>1.0</td>\n      <td>0.0</td>\n      <td>1.0</td>\n      <td>Груша Сербия</td>\n      <td>Овощи. Фрукты. Грибы. Зелень</td>\n      <td>41.250000</td>\n      <td>0.0</td>\n      <td>1</td>\n      <td>1.0</td>\n    </tr>\n    <tr>\n      <th>3656</th>\n      <td>15986</td>\n      <td>67189</td>\n      <td>0.0</td>\n      <td>0.0</td>\n      <td>1.0</td>\n      <td>0.0</td>\n      <td>0.0</td>\n      <td>0.0</td>\n      <td>0.0</td>\n      <td>1.0</td>\n      <td>Кинза, 30 г</td>\n      <td>Овощи. Фрукты. Грибы. Зелень</td>\n      <td>5.444444</td>\n      <td>0.0</td>\n      <td>1</td>\n      <td>1.0</td>\n    </tr>\n    <tr>\n      <th>3657</th>\n      <td>15986</td>\n      <td>67285</td>\n      <td>0.0</td>\n      <td>0.0</td>\n      <td>0.0</td>\n      <td>0.0</td>\n      <td>0.0</td>\n      <td>1.0</td>\n      <td>0.0</td>\n      <td>1.0</td>\n      <td>Цыпленок табака вес.</td>\n      <td>Мясная Витрина ВВ</td>\n      <td>2.000000</td>\n      <td>0.0</td>\n      <td>1</td>\n      <td>1.0</td>\n    </tr>\n    <tr>\n      <th>3658</th>\n      <td>15986</td>\n      <td>67653</td>\n      <td>0.0</td>\n      <td>0.0</td>\n      <td>0.0</td>\n      <td>1.0</td>\n      <td>0.0</td>\n      <td>0.0</td>\n      <td>0.0</td>\n      <td>1.0</td>\n      <td>Торт \"Алфавит\" медовый</td>\n      <td>Торты, пирожные, десерты</td>\n      <td>5.000000</td>\n      <td>2.0</td>\n      <td>1</td>\n      <td>1.0</td>\n    </tr>\n    <tr>\n      <th>3659</th>\n      <td>15986</td>\n      <td>67806</td>\n      <td>0.0</td>\n      <td>0.0</td>\n      <td>0.0</td>\n      <td>0.0</td>\n      <td>1.0</td>\n      <td>0.0</td>\n      <td>0.0</td>\n      <td>1.0</td>\n      <td>Сэндвич ролл с курицей и коктейльным соусом</td>\n      <td>Кулинария</td>\n      <td>3.000000</td>\n      <td>0.0</td>\n      <td>1</td>\n      <td>0.5</td>\n    </tr>\n  </tbody>\n</table>\n<p>3633 rows × 16 columns</p>\n</div>"
     },
     "execution_count": 35,
     "metadata": {},
     "output_type": "execute_result"
    }
   ],
   "source": [
    "oos_by_shop_3"
   ],
   "metadata": {
    "collapsed": false,
    "pycharm": {
     "name": "#%%\n"
    }
   }
  },
  {
   "cell_type": "code",
   "execution_count": 36,
   "outputs": [],
   "source": [
    "for l in ['Monday','Tuesday','Wednesday','Thursday','Friday','Saturday','Sunday']:\n",
    "    oos_by_shop_3[l] = oos_by_shop_3[l]*oos_by_shop_3['popularity']/oos_by_shop_3['tier']"
   ],
   "metadata": {
    "collapsed": false,
    "pycharm": {
     "name": "#%%\n"
    }
   }
  },
  {
   "cell_type": "markdown",
   "source": [],
   "metadata": {
    "collapsed": false,
    "pycharm": {
     "name": "#%% md\n"
    }
   }
  },
  {
   "cell_type": "code",
   "execution_count": 37,
   "outputs": [],
   "source": [
    "oos_by_shop_3 = oos_by_shop_3.round({'Monday':0,'Tuesday':0,'Tuesday':0,'Wednesday':0,'Thursday':0,'Friday':0,'Saturday':0,'Sunday':0})\n"
   ],
   "metadata": {
    "collapsed": false,
    "pycharm": {
     "name": "#%%\n"
    }
   }
  },
  {
   "cell_type": "code",
   "execution_count": 38,
   "outputs": [],
   "source": [
    "oos_by_shop_3['All_Weekdopost'] = oos_by_shop_3[['Monday','Tuesday','Wednesday','Thursday','Friday','Saturday','Sunday']].sum(axis = 1)\n"
   ],
   "metadata": {
    "collapsed": false,
    "pycharm": {
     "name": "#%%\n"
    }
   }
  },
  {
   "cell_type": "code",
   "execution_count": 39,
   "outputs": [],
   "source": [
    "oos_by_shop_3 = oos_by_shop_3[oos_by_shop_3['All_Weekdopost'] > 0]"
   ],
   "metadata": {
    "collapsed": false,
    "pycharm": {
     "name": "#%%\n"
    }
   }
  },
  {
   "cell_type": "code",
   "execution_count": 40,
   "outputs": [
    {
     "data": {
      "text/plain": "7777.0"
     },
     "execution_count": 40,
     "metadata": {},
     "output_type": "execute_result"
    }
   ],
   "source": [
    "oos_by_shop_3['All_Weekdopost'].sum()"
   ],
   "metadata": {
    "collapsed": false,
    "pycharm": {
     "name": "#%%\n"
    }
   }
  },
  {
   "cell_type": "code",
   "execution_count": 41,
   "outputs": [
    {
     "data": {
      "text/plain": "                                           name_gr  All_Weekdopost\n0                                         Алкоголь            11.0\n1                                            Архив             3.0\n2                                          Бакалея            31.0\n3                                  Детское питание            21.0\n4                                 Замороженные п/ф            36.0\n5                                             Кафе           315.0\n6                                      Консервация            29.0\n7                                        Кулинария          2061.0\n8                           Кулинария замороженная             5.0\n9                               Медицинские товары             2.0\n10                              Молочная Продукция          1556.0\n11                               Мясная Витрина ВВ            70.0\n12                      Мясные деликатесы. Колбасы            95.0\n13                      Мясо. Птица. П/ф охл. Яйца           388.0\n14                                         Напитки           127.0\n15                                         Нон-Фуд            24.0\n16                    Овощи. Фрукты. Грибы. Зелень          1561.0\n17                     Подписки на товары и услуги             1.0\n18                              Рыба. Морепродукты            69.0\n19                  Сладости, кондитерские изделия           185.0\n20  Сухофрукты. Сушеные овощи, грибы, ягоды. Орехи             2.0\n21                                            Сыры            65.0\n22                     Торты, десерты замороженные             2.0\n23                        Торты, пирожные, десерты           377.0\n24                                            Хлеб           741.0",
      "text/html": "<div>\n<style scoped>\n    .dataframe tbody tr th:only-of-type {\n        vertical-align: middle;\n    }\n\n    .dataframe tbody tr th {\n        vertical-align: top;\n    }\n\n    .dataframe thead th {\n        text-align: right;\n    }\n</style>\n<table border=\"1\" class=\"dataframe\">\n  <thead>\n    <tr style=\"text-align: right;\">\n      <th></th>\n      <th>name_gr</th>\n      <th>All_Weekdopost</th>\n    </tr>\n  </thead>\n  <tbody>\n    <tr>\n      <th>0</th>\n      <td>Алкоголь</td>\n      <td>11.0</td>\n    </tr>\n    <tr>\n      <th>1</th>\n      <td>Архив</td>\n      <td>3.0</td>\n    </tr>\n    <tr>\n      <th>2</th>\n      <td>Бакалея</td>\n      <td>31.0</td>\n    </tr>\n    <tr>\n      <th>3</th>\n      <td>Детское питание</td>\n      <td>21.0</td>\n    </tr>\n    <tr>\n      <th>4</th>\n      <td>Замороженные п/ф</td>\n      <td>36.0</td>\n    </tr>\n    <tr>\n      <th>5</th>\n      <td>Кафе</td>\n      <td>315.0</td>\n    </tr>\n    <tr>\n      <th>6</th>\n      <td>Консервация</td>\n      <td>29.0</td>\n    </tr>\n    <tr>\n      <th>7</th>\n      <td>Кулинария</td>\n      <td>2061.0</td>\n    </tr>\n    <tr>\n      <th>8</th>\n      <td>Кулинария замороженная</td>\n      <td>5.0</td>\n    </tr>\n    <tr>\n      <th>9</th>\n      <td>Медицинские товары</td>\n      <td>2.0</td>\n    </tr>\n    <tr>\n      <th>10</th>\n      <td>Молочная Продукция</td>\n      <td>1556.0</td>\n    </tr>\n    <tr>\n      <th>11</th>\n      <td>Мясная Витрина ВВ</td>\n      <td>70.0</td>\n    </tr>\n    <tr>\n      <th>12</th>\n      <td>Мясные деликатесы. Колбасы</td>\n      <td>95.0</td>\n    </tr>\n    <tr>\n      <th>13</th>\n      <td>Мясо. Птица. П/ф охл. Яйца</td>\n      <td>388.0</td>\n    </tr>\n    <tr>\n      <th>14</th>\n      <td>Напитки</td>\n      <td>127.0</td>\n    </tr>\n    <tr>\n      <th>15</th>\n      <td>Нон-Фуд</td>\n      <td>24.0</td>\n    </tr>\n    <tr>\n      <th>16</th>\n      <td>Овощи. Фрукты. Грибы. Зелень</td>\n      <td>1561.0</td>\n    </tr>\n    <tr>\n      <th>17</th>\n      <td>Подписки на товары и услуги</td>\n      <td>1.0</td>\n    </tr>\n    <tr>\n      <th>18</th>\n      <td>Рыба. Морепродукты</td>\n      <td>69.0</td>\n    </tr>\n    <tr>\n      <th>19</th>\n      <td>Сладости, кондитерские изделия</td>\n      <td>185.0</td>\n    </tr>\n    <tr>\n      <th>20</th>\n      <td>Сухофрукты. Сушеные овощи, грибы, ягоды. Орехи</td>\n      <td>2.0</td>\n    </tr>\n    <tr>\n      <th>21</th>\n      <td>Сыры</td>\n      <td>65.0</td>\n    </tr>\n    <tr>\n      <th>22</th>\n      <td>Торты, десерты замороженные</td>\n      <td>2.0</td>\n    </tr>\n    <tr>\n      <th>23</th>\n      <td>Торты, пирожные, десерты</td>\n      <td>377.0</td>\n    </tr>\n    <tr>\n      <th>24</th>\n      <td>Хлеб</td>\n      <td>741.0</td>\n    </tr>\n  </tbody>\n</table>\n</div>"
     },
     "execution_count": 41,
     "metadata": {},
     "output_type": "execute_result"
    }
   ],
   "source": [
    "#Оцениваем объем допоставок по категориям c фильтрjv по сроку годности\n",
    "oos_by_shop_3.groupby([\"name_gr\"], as_index=False)[\"All_Weekdopost\"].sum()"
   ],
   "metadata": {
    "collapsed": false,
    "pycharm": {
     "name": "#%%\n"
    }
   }
  },
  {
   "cell_type": "markdown",
   "source": [
    "Считаем на сколько денег будет эта допоставка"
   ],
   "metadata": {
    "collapsed": false,
    "pycharm": {
     "name": "#%% md\n"
    }
   }
  },
  {
   "cell_type": "code",
   "execution_count": 41,
   "outputs": [],
   "source": [],
   "metadata": {
    "collapsed": false,
    "pycharm": {
     "name": "#%%\n"
    }
   }
  },
  {
   "cell_type": "code",
   "execution_count": 42,
   "outputs": [],
   "source": [
    "oos_by_shop_4 = oos_by_shop_3.merge(df_price[['id_tov','Price_retail']], how='left', on='id_tov',)"
   ],
   "metadata": {
    "collapsed": false,
    "pycharm": {
     "name": "#%%\n"
    }
   }
  },
  {
   "cell_type": "code",
   "execution_count": 43,
   "outputs": [
    {
     "data": {
      "text/plain": "   id_tt  id_tov  Friday  Monday  Saturday  Sunday  Thursday  Tuesday  \\\n0  11290      52     0.0     0.0       0.0     4.0       0.0      0.0   \n1  11290     143     0.0     8.0       2.0     0.0       0.0      0.0   \n\n   Wednesday  All_Weekdopost     name_tov             name_gr  сроксуток  \\\n0        0.0             4.0  Сметана 25%  Молочная Продукция   6.900000   \n1        8.0            18.0  Сметана 20%  Молочная Продукция   6.684211   \n\n   квант  tier  popularity  Price_retail  \n0    0.0     1         1.0    131.818182  \n1    0.0     1         1.0    126.363636  ",
      "text/html": "<div>\n<style scoped>\n    .dataframe tbody tr th:only-of-type {\n        vertical-align: middle;\n    }\n\n    .dataframe tbody tr th {\n        vertical-align: top;\n    }\n\n    .dataframe thead th {\n        text-align: right;\n    }\n</style>\n<table border=\"1\" class=\"dataframe\">\n  <thead>\n    <tr style=\"text-align: right;\">\n      <th></th>\n      <th>id_tt</th>\n      <th>id_tov</th>\n      <th>Friday</th>\n      <th>Monday</th>\n      <th>Saturday</th>\n      <th>Sunday</th>\n      <th>Thursday</th>\n      <th>Tuesday</th>\n      <th>Wednesday</th>\n      <th>All_Weekdopost</th>\n      <th>name_tov</th>\n      <th>name_gr</th>\n      <th>сроксуток</th>\n      <th>квант</th>\n      <th>tier</th>\n      <th>popularity</th>\n      <th>Price_retail</th>\n    </tr>\n  </thead>\n  <tbody>\n    <tr>\n      <th>0</th>\n      <td>11290</td>\n      <td>52</td>\n      <td>0.0</td>\n      <td>0.0</td>\n      <td>0.0</td>\n      <td>4.0</td>\n      <td>0.0</td>\n      <td>0.0</td>\n      <td>0.0</td>\n      <td>4.0</td>\n      <td>Сметана 25%</td>\n      <td>Молочная Продукция</td>\n      <td>6.900000</td>\n      <td>0.0</td>\n      <td>1</td>\n      <td>1.0</td>\n      <td>131.818182</td>\n    </tr>\n    <tr>\n      <th>1</th>\n      <td>11290</td>\n      <td>143</td>\n      <td>0.0</td>\n      <td>8.0</td>\n      <td>2.0</td>\n      <td>0.0</td>\n      <td>0.0</td>\n      <td>0.0</td>\n      <td>8.0</td>\n      <td>18.0</td>\n      <td>Сметана 20%</td>\n      <td>Молочная Продукция</td>\n      <td>6.684211</td>\n      <td>0.0</td>\n      <td>1</td>\n      <td>1.0</td>\n      <td>126.363636</td>\n    </tr>\n  </tbody>\n</table>\n</div>"
     },
     "execution_count": 43,
     "metadata": {},
     "output_type": "execute_result"
    }
   ],
   "source": [
    "oos_by_shop_4.head(2)"
   ],
   "metadata": {
    "collapsed": false,
    "pycharm": {
     "name": "#%%\n"
    }
   }
  },
  {
   "cell_type": "code",
   "execution_count": 44,
   "outputs": [],
   "source": [
    "oos_by_shop_4['overal_sum'] = oos_by_shop_4['Price_retail']* oos_by_shop_4['All_Weekdopost']"
   ],
   "metadata": {
    "collapsed": false,
    "pycharm": {
     "name": "#%%\n"
    }
   }
  },
  {
   "cell_type": "code",
   "execution_count": 45,
   "outputs": [
    {
     "data": {
      "text/plain": "   id_tt  id_tov  Friday  Monday  Saturday  Sunday  Thursday  Tuesday  \\\n0  11290      52     0.0     0.0       0.0     4.0       0.0      0.0   \n1  11290     143     0.0     8.0       2.0     0.0       0.0      0.0   \n\n   Wednesday  All_Weekdopost     name_tov             name_gr  сроксуток  \\\n0        0.0             4.0  Сметана 25%  Молочная Продукция   6.900000   \n1        8.0            18.0  Сметана 20%  Молочная Продукция   6.684211   \n\n   квант  tier  popularity  Price_retail   overal_sum  \n0    0.0     1         1.0    131.818182   527.272727  \n1    0.0     1         1.0    126.363636  2274.545455  ",
      "text/html": "<div>\n<style scoped>\n    .dataframe tbody tr th:only-of-type {\n        vertical-align: middle;\n    }\n\n    .dataframe tbody tr th {\n        vertical-align: top;\n    }\n\n    .dataframe thead th {\n        text-align: right;\n    }\n</style>\n<table border=\"1\" class=\"dataframe\">\n  <thead>\n    <tr style=\"text-align: right;\">\n      <th></th>\n      <th>id_tt</th>\n      <th>id_tov</th>\n      <th>Friday</th>\n      <th>Monday</th>\n      <th>Saturday</th>\n      <th>Sunday</th>\n      <th>Thursday</th>\n      <th>Tuesday</th>\n      <th>Wednesday</th>\n      <th>All_Weekdopost</th>\n      <th>name_tov</th>\n      <th>name_gr</th>\n      <th>сроксуток</th>\n      <th>квант</th>\n      <th>tier</th>\n      <th>popularity</th>\n      <th>Price_retail</th>\n      <th>overal_sum</th>\n    </tr>\n  </thead>\n  <tbody>\n    <tr>\n      <th>0</th>\n      <td>11290</td>\n      <td>52</td>\n      <td>0.0</td>\n      <td>0.0</td>\n      <td>0.0</td>\n      <td>4.0</td>\n      <td>0.0</td>\n      <td>0.0</td>\n      <td>0.0</td>\n      <td>4.0</td>\n      <td>Сметана 25%</td>\n      <td>Молочная Продукция</td>\n      <td>6.900000</td>\n      <td>0.0</td>\n      <td>1</td>\n      <td>1.0</td>\n      <td>131.818182</td>\n      <td>527.272727</td>\n    </tr>\n    <tr>\n      <th>1</th>\n      <td>11290</td>\n      <td>143</td>\n      <td>0.0</td>\n      <td>8.0</td>\n      <td>2.0</td>\n      <td>0.0</td>\n      <td>0.0</td>\n      <td>0.0</td>\n      <td>8.0</td>\n      <td>18.0</td>\n      <td>Сметана 20%</td>\n      <td>Молочная Продукция</td>\n      <td>6.684211</td>\n      <td>0.0</td>\n      <td>1</td>\n      <td>1.0</td>\n      <td>126.363636</td>\n      <td>2274.545455</td>\n    </tr>\n  </tbody>\n</table>\n</div>"
     },
     "execution_count": 45,
     "metadata": {},
     "output_type": "execute_result"
    }
   ],
   "source": [
    "oos_by_shop_4.head(2)"
   ],
   "metadata": {
    "collapsed": false,
    "pycharm": {
     "name": "#%%\n"
    }
   }
  },
  {
   "cell_type": "code",
   "execution_count": 46,
   "outputs": [
    {
     "data": {
      "text/plain": "986665.3782977926"
     },
     "execution_count": 46,
     "metadata": {},
     "output_type": "execute_result"
    }
   ],
   "source": [
    "\n",
    "oos_by_shop_4['overal_sum'].sum()"
   ],
   "metadata": {
    "collapsed": false,
    "pycharm": {
     "name": "#%%\n"
    }
   }
  },
  {
   "cell_type": "code",
   "execution_count": 47,
   "outputs": [
    {
     "data": {
      "text/plain": "                                           name_gr  overal_sum\n0                                         Алкоголь       972.0\n1                                            Архив       815.0\n2                                          Бакалея      2448.0\n3                                  Детское питание      1175.0\n4                                 Замороженные п/ф     10221.0\n5                                             Кафе     37193.0\n6                                      Консервация      2477.0\n7                                        Кулинария    318497.0\n8                           Кулинария замороженная      1034.0\n9                               Медицинские товары       760.0\n10                              Молочная Продукция    127509.0\n11                               Мясная Витрина ВВ         0.0\n12                      Мясные деликатесы. Колбасы     19498.0\n13                      Мясо. Птица. П/ф охл. Яйца     87993.0\n14                                         Напитки      7979.0\n15                                         Нон-Фуд      3802.0\n16                    Овощи. Фрукты. Грибы. Зелень    215052.0\n17                     Подписки на товары и услуги       408.0\n18                              Рыба. Морепродукты     11944.0\n19                  Сладости, кондитерские изделия     17852.0\n20  Сухофрукты. Сушеные овощи, грибы, ягоды. Орехи       108.0\n21                                            Сыры     11742.0\n22                     Торты, десерты замороженные       708.0\n23                        Торты, пирожные, десерты     62846.0\n24                                            Хлеб     43629.0",
      "text/html": "<div>\n<style scoped>\n    .dataframe tbody tr th:only-of-type {\n        vertical-align: middle;\n    }\n\n    .dataframe tbody tr th {\n        vertical-align: top;\n    }\n\n    .dataframe thead th {\n        text-align: right;\n    }\n</style>\n<table border=\"1\" class=\"dataframe\">\n  <thead>\n    <tr style=\"text-align: right;\">\n      <th></th>\n      <th>name_gr</th>\n      <th>overal_sum</th>\n    </tr>\n  </thead>\n  <tbody>\n    <tr>\n      <th>0</th>\n      <td>Алкоголь</td>\n      <td>972.0</td>\n    </tr>\n    <tr>\n      <th>1</th>\n      <td>Архив</td>\n      <td>815.0</td>\n    </tr>\n    <tr>\n      <th>2</th>\n      <td>Бакалея</td>\n      <td>2448.0</td>\n    </tr>\n    <tr>\n      <th>3</th>\n      <td>Детское питание</td>\n      <td>1175.0</td>\n    </tr>\n    <tr>\n      <th>4</th>\n      <td>Замороженные п/ф</td>\n      <td>10221.0</td>\n    </tr>\n    <tr>\n      <th>5</th>\n      <td>Кафе</td>\n      <td>37193.0</td>\n    </tr>\n    <tr>\n      <th>6</th>\n      <td>Консервация</td>\n      <td>2477.0</td>\n    </tr>\n    <tr>\n      <th>7</th>\n      <td>Кулинария</td>\n      <td>318497.0</td>\n    </tr>\n    <tr>\n      <th>8</th>\n      <td>Кулинария замороженная</td>\n      <td>1034.0</td>\n    </tr>\n    <tr>\n      <th>9</th>\n      <td>Медицинские товары</td>\n      <td>760.0</td>\n    </tr>\n    <tr>\n      <th>10</th>\n      <td>Молочная Продукция</td>\n      <td>127509.0</td>\n    </tr>\n    <tr>\n      <th>11</th>\n      <td>Мясная Витрина ВВ</td>\n      <td>0.0</td>\n    </tr>\n    <tr>\n      <th>12</th>\n      <td>Мясные деликатесы. Колбасы</td>\n      <td>19498.0</td>\n    </tr>\n    <tr>\n      <th>13</th>\n      <td>Мясо. Птица. П/ф охл. Яйца</td>\n      <td>87993.0</td>\n    </tr>\n    <tr>\n      <th>14</th>\n      <td>Напитки</td>\n      <td>7979.0</td>\n    </tr>\n    <tr>\n      <th>15</th>\n      <td>Нон-Фуд</td>\n      <td>3802.0</td>\n    </tr>\n    <tr>\n      <th>16</th>\n      <td>Овощи. Фрукты. Грибы. Зелень</td>\n      <td>215052.0</td>\n    </tr>\n    <tr>\n      <th>17</th>\n      <td>Подписки на товары и услуги</td>\n      <td>408.0</td>\n    </tr>\n    <tr>\n      <th>18</th>\n      <td>Рыба. Морепродукты</td>\n      <td>11944.0</td>\n    </tr>\n    <tr>\n      <th>19</th>\n      <td>Сладости, кондитерские изделия</td>\n      <td>17852.0</td>\n    </tr>\n    <tr>\n      <th>20</th>\n      <td>Сухофрукты. Сушеные овощи, грибы, ягоды. Орехи</td>\n      <td>108.0</td>\n    </tr>\n    <tr>\n      <th>21</th>\n      <td>Сыры</td>\n      <td>11742.0</td>\n    </tr>\n    <tr>\n      <th>22</th>\n      <td>Торты, десерты замороженные</td>\n      <td>708.0</td>\n    </tr>\n    <tr>\n      <th>23</th>\n      <td>Торты, пирожные, десерты</td>\n      <td>62846.0</td>\n    </tr>\n    <tr>\n      <th>24</th>\n      <td>Хлеб</td>\n      <td>43629.0</td>\n    </tr>\n  </tbody>\n</table>\n</div>"
     },
     "execution_count": 47,
     "metadata": {},
     "output_type": "execute_result"
    }
   ],
   "source": [
    "oos_by_shop_4[[\"name_gr\",\"overal_sum\"]].groupby([\"name_gr\"], as_index=False)[\"overal_sum\"].sum().round()"
   ],
   "metadata": {
    "collapsed": false,
    "pycharm": {
     "name": "#%%\n"
    }
   }
  },
  {
   "cell_type": "code",
   "execution_count": 48,
   "outputs": [
    {
     "data": {
      "text/plain": "      id_tt  id_tov  Friday  Monday  Saturday  Sunday  Thursday  Tuesday  \\\n0     11290      52     0.0     0.0       0.0     4.0       0.0      0.0   \n1     11290     143     0.0     8.0       2.0     0.0       0.0      0.0   \n2     11290     185     0.0    10.0       0.0     0.0       0.0      0.0   \n3     11290     188     0.0     0.0       6.0     0.0      10.0      0.0   \n4     11290     270     0.0     5.0       0.0     0.0       0.0      0.0   \n...     ...     ...     ...     ...       ...     ...       ...      ...   \n2638  15986   66704     0.0     0.0       0.0     0.0       0.0      0.0   \n2639  15986   67159     0.0     0.0       0.0     0.0       0.0      1.0   \n2640  15986   67189     0.0     0.0       1.0     0.0       0.0      0.0   \n2641  15986   67285     0.0     0.0       0.0     0.0       0.0      1.0   \n2642  15986   67653     0.0     0.0       0.0     1.0       0.0      0.0   \n\n      Wednesday  All_Weekdopost  \\\n0           0.0             4.0   \n1           8.0            18.0   \n2           0.0            10.0   \n3           0.0            16.0   \n4           0.0             5.0   \n...         ...             ...   \n2638        1.0             1.0   \n2639        0.0             1.0   \n2640        0.0             1.0   \n2641        0.0             1.0   \n2642        0.0             1.0   \n\n                                               name_tov  \\\n0                                           Сметана 25%   \n1                                           Сметана 20%   \n2                                             Творог 5%   \n3                                             Творог 9%   \n4                                   Молоко детское 3,2%   \n...                                                 ...   \n2638  Фарш из свинины и говядины \"по стандарту Вкусв...   \n2639                                       Груша Сербия   \n2640                                        Кинза, 30 г   \n2641                               Цыпленок табака вес.   \n2642                             Торт \"Алфавит\" медовый   \n\n                           name_gr  сроксуток  квант  tier  popularity  \\\n0               Молочная Продукция   6.900000    0.0     1         1.0   \n1               Молочная Продукция   6.684211    0.0     1         1.0   \n2               Молочная Продукция   4.620690    0.0     1         1.0   \n3               Молочная Продукция   4.727273    0.0     1         1.0   \n4               Молочная Продукция  30.000000    0.0     1         1.0   \n...                            ...        ...    ...   ...         ...   \n2638    Мясо. Птица. П/ф охл. Яйца   5.666667    0.0     1         1.0   \n2639  Овощи. Фрукты. Грибы. Зелень  41.250000    0.0     1         1.0   \n2640  Овощи. Фрукты. Грибы. Зелень   5.444444    0.0     1         1.0   \n2641             Мясная Витрина ВВ   2.000000    0.0     1         1.0   \n2642      Торты, пирожные, десерты   5.000000    2.0     1         1.0   \n\n      Price_retail   overal_sum     n                                adress  \\\n0       131.818182   527.272727  1020        Москва ул. Истринская д.10 к.1   \n1       126.363636  2274.545455  1020        Москва ул. Истринская д.10 к.1   \n2       150.000000  1500.000000  1020        Москва ул. Истринская д.10 к.1   \n3       160.000000  2560.000000  1020        Москва ул. Истринская д.10 к.1   \n4        31.818182   159.090909  1020        Москва ул. Истринская д.10 к.1   \n...            ...          ...   ...                                   ...   \n2638           NaN          NaN  5673  Москва ул. Кастанаевская, д. 42 к. 2   \n2639           NaN          NaN  5673  Москва ул. Кастанаевская, д. 42 к. 2   \n2640           NaN          NaN  5673  Москва ул. Кастанаевская, д. 42 к. 2   \n2641           NaN          NaN  5673  Москва ул. Кастанаевская, д. 42 к. 2   \n2642           NaN          NaN  5673  Москва ул. Кастанаевская, д. 42 к. 2   \n\n                    name_TT  \n0        1020М_Истринская10  \n1        1020М_Истринская10  \n2        1020М_Истринская10  \n3        1020М_Истринская10  \n4        1020М_Истринская10  \n...                     ...  \n2638  5673М_Кастанаевская42  \n2639  5673М_Кастанаевская42  \n2640  5673М_Кастанаевская42  \n2641  5673М_Кастанаевская42  \n2642  5673М_Кастанаевская42  \n\n[2643 rows x 21 columns]",
      "text/html": "<div>\n<style scoped>\n    .dataframe tbody tr th:only-of-type {\n        vertical-align: middle;\n    }\n\n    .dataframe tbody tr th {\n        vertical-align: top;\n    }\n\n    .dataframe thead th {\n        text-align: right;\n    }\n</style>\n<table border=\"1\" class=\"dataframe\">\n  <thead>\n    <tr style=\"text-align: right;\">\n      <th></th>\n      <th>id_tt</th>\n      <th>id_tov</th>\n      <th>Friday</th>\n      <th>Monday</th>\n      <th>Saturday</th>\n      <th>Sunday</th>\n      <th>Thursday</th>\n      <th>Tuesday</th>\n      <th>Wednesday</th>\n      <th>All_Weekdopost</th>\n      <th>name_tov</th>\n      <th>name_gr</th>\n      <th>сроксуток</th>\n      <th>квант</th>\n      <th>tier</th>\n      <th>popularity</th>\n      <th>Price_retail</th>\n      <th>overal_sum</th>\n      <th>n</th>\n      <th>adress</th>\n      <th>name_TT</th>\n    </tr>\n  </thead>\n  <tbody>\n    <tr>\n      <th>0</th>\n      <td>11290</td>\n      <td>52</td>\n      <td>0.0</td>\n      <td>0.0</td>\n      <td>0.0</td>\n      <td>4.0</td>\n      <td>0.0</td>\n      <td>0.0</td>\n      <td>0.0</td>\n      <td>4.0</td>\n      <td>Сметана 25%</td>\n      <td>Молочная Продукция</td>\n      <td>6.900000</td>\n      <td>0.0</td>\n      <td>1</td>\n      <td>1.0</td>\n      <td>131.818182</td>\n      <td>527.272727</td>\n      <td>1020</td>\n      <td>Москва ул. Истринская д.10 к.1</td>\n      <td>1020М_Истринская10</td>\n    </tr>\n    <tr>\n      <th>1</th>\n      <td>11290</td>\n      <td>143</td>\n      <td>0.0</td>\n      <td>8.0</td>\n      <td>2.0</td>\n      <td>0.0</td>\n      <td>0.0</td>\n      <td>0.0</td>\n      <td>8.0</td>\n      <td>18.0</td>\n      <td>Сметана 20%</td>\n      <td>Молочная Продукция</td>\n      <td>6.684211</td>\n      <td>0.0</td>\n      <td>1</td>\n      <td>1.0</td>\n      <td>126.363636</td>\n      <td>2274.545455</td>\n      <td>1020</td>\n      <td>Москва ул. Истринская д.10 к.1</td>\n      <td>1020М_Истринская10</td>\n    </tr>\n    <tr>\n      <th>2</th>\n      <td>11290</td>\n      <td>185</td>\n      <td>0.0</td>\n      <td>10.0</td>\n      <td>0.0</td>\n      <td>0.0</td>\n      <td>0.0</td>\n      <td>0.0</td>\n      <td>0.0</td>\n      <td>10.0</td>\n      <td>Творог 5%</td>\n      <td>Молочная Продукция</td>\n      <td>4.620690</td>\n      <td>0.0</td>\n      <td>1</td>\n      <td>1.0</td>\n      <td>150.000000</td>\n      <td>1500.000000</td>\n      <td>1020</td>\n      <td>Москва ул. Истринская д.10 к.1</td>\n      <td>1020М_Истринская10</td>\n    </tr>\n    <tr>\n      <th>3</th>\n      <td>11290</td>\n      <td>188</td>\n      <td>0.0</td>\n      <td>0.0</td>\n      <td>6.0</td>\n      <td>0.0</td>\n      <td>10.0</td>\n      <td>0.0</td>\n      <td>0.0</td>\n      <td>16.0</td>\n      <td>Творог 9%</td>\n      <td>Молочная Продукция</td>\n      <td>4.727273</td>\n      <td>0.0</td>\n      <td>1</td>\n      <td>1.0</td>\n      <td>160.000000</td>\n      <td>2560.000000</td>\n      <td>1020</td>\n      <td>Москва ул. Истринская д.10 к.1</td>\n      <td>1020М_Истринская10</td>\n    </tr>\n    <tr>\n      <th>4</th>\n      <td>11290</td>\n      <td>270</td>\n      <td>0.0</td>\n      <td>5.0</td>\n      <td>0.0</td>\n      <td>0.0</td>\n      <td>0.0</td>\n      <td>0.0</td>\n      <td>0.0</td>\n      <td>5.0</td>\n      <td>Молоко детское 3,2%</td>\n      <td>Молочная Продукция</td>\n      <td>30.000000</td>\n      <td>0.0</td>\n      <td>1</td>\n      <td>1.0</td>\n      <td>31.818182</td>\n      <td>159.090909</td>\n      <td>1020</td>\n      <td>Москва ул. Истринская д.10 к.1</td>\n      <td>1020М_Истринская10</td>\n    </tr>\n    <tr>\n      <th>...</th>\n      <td>...</td>\n      <td>...</td>\n      <td>...</td>\n      <td>...</td>\n      <td>...</td>\n      <td>...</td>\n      <td>...</td>\n      <td>...</td>\n      <td>...</td>\n      <td>...</td>\n      <td>...</td>\n      <td>...</td>\n      <td>...</td>\n      <td>...</td>\n      <td>...</td>\n      <td>...</td>\n      <td>...</td>\n      <td>...</td>\n      <td>...</td>\n      <td>...</td>\n      <td>...</td>\n    </tr>\n    <tr>\n      <th>2638</th>\n      <td>15986</td>\n      <td>66704</td>\n      <td>0.0</td>\n      <td>0.0</td>\n      <td>0.0</td>\n      <td>0.0</td>\n      <td>0.0</td>\n      <td>0.0</td>\n      <td>1.0</td>\n      <td>1.0</td>\n      <td>Фарш из свинины и говядины \"по стандарту Вкусв...</td>\n      <td>Мясо. Птица. П/ф охл. Яйца</td>\n      <td>5.666667</td>\n      <td>0.0</td>\n      <td>1</td>\n      <td>1.0</td>\n      <td>NaN</td>\n      <td>NaN</td>\n      <td>5673</td>\n      <td>Москва ул. Кастанаевская, д. 42 к. 2</td>\n      <td>5673М_Кастанаевская42</td>\n    </tr>\n    <tr>\n      <th>2639</th>\n      <td>15986</td>\n      <td>67159</td>\n      <td>0.0</td>\n      <td>0.0</td>\n      <td>0.0</td>\n      <td>0.0</td>\n      <td>0.0</td>\n      <td>1.0</td>\n      <td>0.0</td>\n      <td>1.0</td>\n      <td>Груша Сербия</td>\n      <td>Овощи. Фрукты. Грибы. Зелень</td>\n      <td>41.250000</td>\n      <td>0.0</td>\n      <td>1</td>\n      <td>1.0</td>\n      <td>NaN</td>\n      <td>NaN</td>\n      <td>5673</td>\n      <td>Москва ул. Кастанаевская, д. 42 к. 2</td>\n      <td>5673М_Кастанаевская42</td>\n    </tr>\n    <tr>\n      <th>2640</th>\n      <td>15986</td>\n      <td>67189</td>\n      <td>0.0</td>\n      <td>0.0</td>\n      <td>1.0</td>\n      <td>0.0</td>\n      <td>0.0</td>\n      <td>0.0</td>\n      <td>0.0</td>\n      <td>1.0</td>\n      <td>Кинза, 30 г</td>\n      <td>Овощи. Фрукты. Грибы. Зелень</td>\n      <td>5.444444</td>\n      <td>0.0</td>\n      <td>1</td>\n      <td>1.0</td>\n      <td>NaN</td>\n      <td>NaN</td>\n      <td>5673</td>\n      <td>Москва ул. Кастанаевская, д. 42 к. 2</td>\n      <td>5673М_Кастанаевская42</td>\n    </tr>\n    <tr>\n      <th>2641</th>\n      <td>15986</td>\n      <td>67285</td>\n      <td>0.0</td>\n      <td>0.0</td>\n      <td>0.0</td>\n      <td>0.0</td>\n      <td>0.0</td>\n      <td>1.0</td>\n      <td>0.0</td>\n      <td>1.0</td>\n      <td>Цыпленок табака вес.</td>\n      <td>Мясная Витрина ВВ</td>\n      <td>2.000000</td>\n      <td>0.0</td>\n      <td>1</td>\n      <td>1.0</td>\n      <td>NaN</td>\n      <td>NaN</td>\n      <td>5673</td>\n      <td>Москва ул. Кастанаевская, д. 42 к. 2</td>\n      <td>5673М_Кастанаевская42</td>\n    </tr>\n    <tr>\n      <th>2642</th>\n      <td>15986</td>\n      <td>67653</td>\n      <td>0.0</td>\n      <td>0.0</td>\n      <td>0.0</td>\n      <td>1.0</td>\n      <td>0.0</td>\n      <td>0.0</td>\n      <td>0.0</td>\n      <td>1.0</td>\n      <td>Торт \"Алфавит\" медовый</td>\n      <td>Торты, пирожные, десерты</td>\n      <td>5.000000</td>\n      <td>2.0</td>\n      <td>1</td>\n      <td>1.0</td>\n      <td>NaN</td>\n      <td>NaN</td>\n      <td>5673</td>\n      <td>Москва ул. Кастанаевская, д. 42 к. 2</td>\n      <td>5673М_Кастанаевская42</td>\n    </tr>\n  </tbody>\n</table>\n<p>2643 rows × 21 columns</p>\n</div>"
     },
     "execution_count": 48,
     "metadata": {},
     "output_type": "execute_result"
    }
   ],
   "source": [
    "oos_by_shop_4.merge(id_tt_n_tt[['id_tt','n','adress','name_TT']], how = 'left', on = 'id_tt')"
   ],
   "metadata": {
    "collapsed": false,
    "pycharm": {
     "name": "#%%\n"
    }
   }
  },
  {
   "cell_type": "code",
   "execution_count": 49,
   "outputs": [],
   "source": [
    "oos_by_shop_5 = oos_by_shop_4.merge(id_tt_n_tt[['id_tt','n','adress','name_TT']], how = 'left', on = 'id_tt')"
   ],
   "metadata": {
    "collapsed": false,
    "pycharm": {
     "name": "#%%\n"
    }
   }
  },
  {
   "cell_type": "code",
   "execution_count": 50,
   "outputs": [
    {
     "data": {
      "text/plain": "array([11290, 11357, 11783, 11956, 12414, 12533, 12860, 14112, 15753,\n       15986], dtype=int64)"
     },
     "execution_count": 50,
     "metadata": {},
     "output_type": "execute_result"
    }
   ],
   "source": [
    "oos_by_shop_5['id_tt'].unique()"
   ],
   "metadata": {
    "collapsed": false,
    "pycharm": {
     "name": "#%%\n"
    }
   }
  },
  {
   "cell_type": "code",
   "execution_count": 51,
   "outputs": [
    {
     "data": {
      "text/plain": "      id_tt  id_tov  Friday  Monday  Saturday  Sunday  Thursday  Tuesday  \\\n0     11290      52     0.0     0.0       0.0     4.0       0.0      0.0   \n1     11290     143     0.0     8.0       2.0     0.0       0.0      0.0   \n2     11290     185     0.0    10.0       0.0     0.0       0.0      0.0   \n3     11290     188     0.0     0.0       6.0     0.0      10.0      0.0   \n4     11290     270     0.0     5.0       0.0     0.0       0.0      0.0   \n...     ...     ...     ...     ...       ...     ...       ...      ...   \n2638  15986   66704     0.0     0.0       0.0     0.0       0.0      0.0   \n2639  15986   67159     0.0     0.0       0.0     0.0       0.0      1.0   \n2640  15986   67189     0.0     0.0       1.0     0.0       0.0      0.0   \n2641  15986   67285     0.0     0.0       0.0     0.0       0.0      1.0   \n2642  15986   67653     0.0     0.0       0.0     1.0       0.0      0.0   \n\n      Wednesday  All_Weekdopost  \\\n0           0.0             4.0   \n1           8.0            18.0   \n2           0.0            10.0   \n3           0.0            16.0   \n4           0.0             5.0   \n...         ...             ...   \n2638        1.0             1.0   \n2639        0.0             1.0   \n2640        0.0             1.0   \n2641        0.0             1.0   \n2642        0.0             1.0   \n\n                                               name_tov  \\\n0                                           Сметана 25%   \n1                                           Сметана 20%   \n2                                             Творог 5%   \n3                                             Творог 9%   \n4                                   Молоко детское 3,2%   \n...                                                 ...   \n2638  Фарш из свинины и говядины \"по стандарту Вкусв...   \n2639                                       Груша Сербия   \n2640                                        Кинза, 30 г   \n2641                               Цыпленок табака вес.   \n2642                             Торт \"Алфавит\" медовый   \n\n                           name_gr  сроксуток  квант  tier  popularity  \\\n0               Молочная Продукция   6.900000    0.0     1         1.0   \n1               Молочная Продукция   6.684211    0.0     1         1.0   \n2               Молочная Продукция   4.620690    0.0     1         1.0   \n3               Молочная Продукция   4.727273    0.0     1         1.0   \n4               Молочная Продукция  30.000000    0.0     1         1.0   \n...                            ...        ...    ...   ...         ...   \n2638    Мясо. Птица. П/ф охл. Яйца   5.666667    0.0     1         1.0   \n2639  Овощи. Фрукты. Грибы. Зелень  41.250000    0.0     1         1.0   \n2640  Овощи. Фрукты. Грибы. Зелень   5.444444    0.0     1         1.0   \n2641             Мясная Витрина ВВ   2.000000    0.0     1         1.0   \n2642      Торты, пирожные, десерты   5.000000    2.0     1         1.0   \n\n      Price_retail   overal_sum     n                                adress  \\\n0       131.818182   527.272727  1020        Москва ул. Истринская д.10 к.1   \n1       126.363636  2274.545455  1020        Москва ул. Истринская д.10 к.1   \n2       150.000000  1500.000000  1020        Москва ул. Истринская д.10 к.1   \n3       160.000000  2560.000000  1020        Москва ул. Истринская д.10 к.1   \n4        31.818182   159.090909  1020        Москва ул. Истринская д.10 к.1   \n...            ...          ...   ...                                   ...   \n2638           NaN          NaN  5673  Москва ул. Кастанаевская, д. 42 к. 2   \n2639           NaN          NaN  5673  Москва ул. Кастанаевская, д. 42 к. 2   \n2640           NaN          NaN  5673  Москва ул. Кастанаевская, д. 42 к. 2   \n2641           NaN          NaN  5673  Москва ул. Кастанаевская, д. 42 к. 2   \n2642           NaN          NaN  5673  Москва ул. Кастанаевская, д. 42 к. 2   \n\n                    name_TT  \n0        1020М_Истринская10  \n1        1020М_Истринская10  \n2        1020М_Истринская10  \n3        1020М_Истринская10  \n4        1020М_Истринская10  \n...                     ...  \n2638  5673М_Кастанаевская42  \n2639  5673М_Кастанаевская42  \n2640  5673М_Кастанаевская42  \n2641  5673М_Кастанаевская42  \n2642  5673М_Кастанаевская42  \n\n[2643 rows x 21 columns]",
      "text/html": "<div>\n<style scoped>\n    .dataframe tbody tr th:only-of-type {\n        vertical-align: middle;\n    }\n\n    .dataframe tbody tr th {\n        vertical-align: top;\n    }\n\n    .dataframe thead th {\n        text-align: right;\n    }\n</style>\n<table border=\"1\" class=\"dataframe\">\n  <thead>\n    <tr style=\"text-align: right;\">\n      <th></th>\n      <th>id_tt</th>\n      <th>id_tov</th>\n      <th>Friday</th>\n      <th>Monday</th>\n      <th>Saturday</th>\n      <th>Sunday</th>\n      <th>Thursday</th>\n      <th>Tuesday</th>\n      <th>Wednesday</th>\n      <th>All_Weekdopost</th>\n      <th>name_tov</th>\n      <th>name_gr</th>\n      <th>сроксуток</th>\n      <th>квант</th>\n      <th>tier</th>\n      <th>popularity</th>\n      <th>Price_retail</th>\n      <th>overal_sum</th>\n      <th>n</th>\n      <th>adress</th>\n      <th>name_TT</th>\n    </tr>\n  </thead>\n  <tbody>\n    <tr>\n      <th>0</th>\n      <td>11290</td>\n      <td>52</td>\n      <td>0.0</td>\n      <td>0.0</td>\n      <td>0.0</td>\n      <td>4.0</td>\n      <td>0.0</td>\n      <td>0.0</td>\n      <td>0.0</td>\n      <td>4.0</td>\n      <td>Сметана 25%</td>\n      <td>Молочная Продукция</td>\n      <td>6.900000</td>\n      <td>0.0</td>\n      <td>1</td>\n      <td>1.0</td>\n      <td>131.818182</td>\n      <td>527.272727</td>\n      <td>1020</td>\n      <td>Москва ул. Истринская д.10 к.1</td>\n      <td>1020М_Истринская10</td>\n    </tr>\n    <tr>\n      <th>1</th>\n      <td>11290</td>\n      <td>143</td>\n      <td>0.0</td>\n      <td>8.0</td>\n      <td>2.0</td>\n      <td>0.0</td>\n      <td>0.0</td>\n      <td>0.0</td>\n      <td>8.0</td>\n      <td>18.0</td>\n      <td>Сметана 20%</td>\n      <td>Молочная Продукция</td>\n      <td>6.684211</td>\n      <td>0.0</td>\n      <td>1</td>\n      <td>1.0</td>\n      <td>126.363636</td>\n      <td>2274.545455</td>\n      <td>1020</td>\n      <td>Москва ул. Истринская д.10 к.1</td>\n      <td>1020М_Истринская10</td>\n    </tr>\n    <tr>\n      <th>2</th>\n      <td>11290</td>\n      <td>185</td>\n      <td>0.0</td>\n      <td>10.0</td>\n      <td>0.0</td>\n      <td>0.0</td>\n      <td>0.0</td>\n      <td>0.0</td>\n      <td>0.0</td>\n      <td>10.0</td>\n      <td>Творог 5%</td>\n      <td>Молочная Продукция</td>\n      <td>4.620690</td>\n      <td>0.0</td>\n      <td>1</td>\n      <td>1.0</td>\n      <td>150.000000</td>\n      <td>1500.000000</td>\n      <td>1020</td>\n      <td>Москва ул. Истринская д.10 к.1</td>\n      <td>1020М_Истринская10</td>\n    </tr>\n    <tr>\n      <th>3</th>\n      <td>11290</td>\n      <td>188</td>\n      <td>0.0</td>\n      <td>0.0</td>\n      <td>6.0</td>\n      <td>0.0</td>\n      <td>10.0</td>\n      <td>0.0</td>\n      <td>0.0</td>\n      <td>16.0</td>\n      <td>Творог 9%</td>\n      <td>Молочная Продукция</td>\n      <td>4.727273</td>\n      <td>0.0</td>\n      <td>1</td>\n      <td>1.0</td>\n      <td>160.000000</td>\n      <td>2560.000000</td>\n      <td>1020</td>\n      <td>Москва ул. Истринская д.10 к.1</td>\n      <td>1020М_Истринская10</td>\n    </tr>\n    <tr>\n      <th>4</th>\n      <td>11290</td>\n      <td>270</td>\n      <td>0.0</td>\n      <td>5.0</td>\n      <td>0.0</td>\n      <td>0.0</td>\n      <td>0.0</td>\n      <td>0.0</td>\n      <td>0.0</td>\n      <td>5.0</td>\n      <td>Молоко детское 3,2%</td>\n      <td>Молочная Продукция</td>\n      <td>30.000000</td>\n      <td>0.0</td>\n      <td>1</td>\n      <td>1.0</td>\n      <td>31.818182</td>\n      <td>159.090909</td>\n      <td>1020</td>\n      <td>Москва ул. Истринская д.10 к.1</td>\n      <td>1020М_Истринская10</td>\n    </tr>\n    <tr>\n      <th>...</th>\n      <td>...</td>\n      <td>...</td>\n      <td>...</td>\n      <td>...</td>\n      <td>...</td>\n      <td>...</td>\n      <td>...</td>\n      <td>...</td>\n      <td>...</td>\n      <td>...</td>\n      <td>...</td>\n      <td>...</td>\n      <td>...</td>\n      <td>...</td>\n      <td>...</td>\n      <td>...</td>\n      <td>...</td>\n      <td>...</td>\n      <td>...</td>\n      <td>...</td>\n      <td>...</td>\n    </tr>\n    <tr>\n      <th>2638</th>\n      <td>15986</td>\n      <td>66704</td>\n      <td>0.0</td>\n      <td>0.0</td>\n      <td>0.0</td>\n      <td>0.0</td>\n      <td>0.0</td>\n      <td>0.0</td>\n      <td>1.0</td>\n      <td>1.0</td>\n      <td>Фарш из свинины и говядины \"по стандарту Вкусв...</td>\n      <td>Мясо. Птица. П/ф охл. Яйца</td>\n      <td>5.666667</td>\n      <td>0.0</td>\n      <td>1</td>\n      <td>1.0</td>\n      <td>NaN</td>\n      <td>NaN</td>\n      <td>5673</td>\n      <td>Москва ул. Кастанаевская, д. 42 к. 2</td>\n      <td>5673М_Кастанаевская42</td>\n    </tr>\n    <tr>\n      <th>2639</th>\n      <td>15986</td>\n      <td>67159</td>\n      <td>0.0</td>\n      <td>0.0</td>\n      <td>0.0</td>\n      <td>0.0</td>\n      <td>0.0</td>\n      <td>1.0</td>\n      <td>0.0</td>\n      <td>1.0</td>\n      <td>Груша Сербия</td>\n      <td>Овощи. Фрукты. Грибы. Зелень</td>\n      <td>41.250000</td>\n      <td>0.0</td>\n      <td>1</td>\n      <td>1.0</td>\n      <td>NaN</td>\n      <td>NaN</td>\n      <td>5673</td>\n      <td>Москва ул. Кастанаевская, д. 42 к. 2</td>\n      <td>5673М_Кастанаевская42</td>\n    </tr>\n    <tr>\n      <th>2640</th>\n      <td>15986</td>\n      <td>67189</td>\n      <td>0.0</td>\n      <td>0.0</td>\n      <td>1.0</td>\n      <td>0.0</td>\n      <td>0.0</td>\n      <td>0.0</td>\n      <td>0.0</td>\n      <td>1.0</td>\n      <td>Кинза, 30 г</td>\n      <td>Овощи. Фрукты. Грибы. Зелень</td>\n      <td>5.444444</td>\n      <td>0.0</td>\n      <td>1</td>\n      <td>1.0</td>\n      <td>NaN</td>\n      <td>NaN</td>\n      <td>5673</td>\n      <td>Москва ул. Кастанаевская, д. 42 к. 2</td>\n      <td>5673М_Кастанаевская42</td>\n    </tr>\n    <tr>\n      <th>2641</th>\n      <td>15986</td>\n      <td>67285</td>\n      <td>0.0</td>\n      <td>0.0</td>\n      <td>0.0</td>\n      <td>0.0</td>\n      <td>0.0</td>\n      <td>1.0</td>\n      <td>0.0</td>\n      <td>1.0</td>\n      <td>Цыпленок табака вес.</td>\n      <td>Мясная Витрина ВВ</td>\n      <td>2.000000</td>\n      <td>0.0</td>\n      <td>1</td>\n      <td>1.0</td>\n      <td>NaN</td>\n      <td>NaN</td>\n      <td>5673</td>\n      <td>Москва ул. Кастанаевская, д. 42 к. 2</td>\n      <td>5673М_Кастанаевская42</td>\n    </tr>\n    <tr>\n      <th>2642</th>\n      <td>15986</td>\n      <td>67653</td>\n      <td>0.0</td>\n      <td>0.0</td>\n      <td>0.0</td>\n      <td>1.0</td>\n      <td>0.0</td>\n      <td>0.0</td>\n      <td>0.0</td>\n      <td>1.0</td>\n      <td>Торт \"Алфавит\" медовый</td>\n      <td>Торты, пирожные, десерты</td>\n      <td>5.000000</td>\n      <td>2.0</td>\n      <td>1</td>\n      <td>1.0</td>\n      <td>NaN</td>\n      <td>NaN</td>\n      <td>5673</td>\n      <td>Москва ул. Кастанаевская, д. 42 к. 2</td>\n      <td>5673М_Кастанаевская42</td>\n    </tr>\n  </tbody>\n</table>\n<p>2643 rows × 21 columns</p>\n</div>"
     },
     "execution_count": 51,
     "metadata": {},
     "output_type": "execute_result"
    }
   ],
   "source": [
    "oos_by_shop_5"
   ],
   "metadata": {
    "collapsed": false,
    "pycharm": {
     "name": "#%%\n"
    }
   }
  },
  {
   "cell_type": "code",
   "execution_count": 51,
   "outputs": [],
   "source": [],
   "metadata": {
    "collapsed": false,
    "pycharm": {
     "name": "#%%\n"
    }
   }
  },
  {
   "cell_type": "code",
   "execution_count": 51,
   "outputs": [],
   "source": [],
   "metadata": {
    "collapsed": false,
    "pycharm": {
     "name": "#%%\n"
    }
   }
  },
  {
   "cell_type": "code",
   "execution_count": 51,
   "outputs": [
    {
     "data": {
      "text/plain": "                    name_TT  id_tov  \\\n0        1020М_Истринская10      52   \n1        1020М_Истринская10     143   \n2        1020М_Истринская10     185   \n3        1020М_Истринская10     188   \n4        1020М_Истринская10     270   \n...                     ...     ...   \n2638  5673М_Кастанаевская42   66704   \n2639  5673М_Кастанаевская42   67159   \n2640  5673М_Кастанаевская42   67189   \n2641  5673М_Кастанаевская42   67285   \n2642  5673М_Кастанаевская42   67653   \n\n                                               name_tov  \\\n0                                           Сметана 25%   \n1                                           Сметана 20%   \n2                                             Творог 5%   \n3                                             Творог 9%   \n4                                   Молоко детское 3,2%   \n...                                                 ...   \n2638  Фарш из свинины и говядины \"по стандарту Вкусв...   \n2639                                       Груша Сербия   \n2640                                        Кинза, 30 г   \n2641                               Цыпленок табака вес.   \n2642                             Торт \"Алфавит\" медовый   \n\n                           name_gr  Monday  Tuesday  Wednesday  Thursday  \\\n0               Молочная Продукция     0.0      0.0        0.0       0.0   \n1               Молочная Продукция     8.0      0.0        8.0       0.0   \n2               Молочная Продукция    10.0      0.0        0.0       0.0   \n3               Молочная Продукция     0.0      0.0        0.0      10.0   \n4               Молочная Продукция     5.0      0.0        0.0       0.0   \n...                            ...     ...      ...        ...       ...   \n2638    Мясо. Птица. П/ф охл. Яйца     0.0      0.0        1.0       0.0   \n2639  Овощи. Фрукты. Грибы. Зелень     0.0      1.0        0.0       0.0   \n2640  Овощи. Фрукты. Грибы. Зелень     0.0      0.0        0.0       0.0   \n2641             Мясная Витрина ВВ     0.0      1.0        0.0       0.0   \n2642      Торты, пирожные, десерты     0.0      0.0        0.0       0.0   \n\n      Friday  Saturday  Sunday  All_Weekdopost  квант  \n0        0.0       0.0     4.0             4.0    0.0  \n1        0.0       2.0     0.0            18.0    0.0  \n2        0.0       0.0     0.0            10.0    0.0  \n3        0.0       6.0     0.0            16.0    0.0  \n4        0.0       0.0     0.0             5.0    0.0  \n...      ...       ...     ...             ...    ...  \n2638     0.0       0.0     0.0             1.0    0.0  \n2639     0.0       0.0     0.0             1.0    0.0  \n2640     0.0       1.0     0.0             1.0    0.0  \n2641     0.0       0.0     0.0             1.0    0.0  \n2642     0.0       0.0     1.0             1.0    2.0  \n\n[2643 rows x 13 columns]",
      "text/html": "<div>\n<style scoped>\n    .dataframe tbody tr th:only-of-type {\n        vertical-align: middle;\n    }\n\n    .dataframe tbody tr th {\n        vertical-align: top;\n    }\n\n    .dataframe thead th {\n        text-align: right;\n    }\n</style>\n<table border=\"1\" class=\"dataframe\">\n  <thead>\n    <tr style=\"text-align: right;\">\n      <th></th>\n      <th>name_TT</th>\n      <th>id_tov</th>\n      <th>name_tov</th>\n      <th>name_gr</th>\n      <th>Monday</th>\n      <th>Tuesday</th>\n      <th>Wednesday</th>\n      <th>Thursday</th>\n      <th>Friday</th>\n      <th>Saturday</th>\n      <th>Sunday</th>\n      <th>All_Weekdopost</th>\n      <th>квант</th>\n    </tr>\n  </thead>\n  <tbody>\n    <tr>\n      <th>0</th>\n      <td>1020М_Истринская10</td>\n      <td>52</td>\n      <td>Сметана 25%</td>\n      <td>Молочная Продукция</td>\n      <td>0.0</td>\n      <td>0.0</td>\n      <td>0.0</td>\n      <td>0.0</td>\n      <td>0.0</td>\n      <td>0.0</td>\n      <td>4.0</td>\n      <td>4.0</td>\n      <td>0.0</td>\n    </tr>\n    <tr>\n      <th>1</th>\n      <td>1020М_Истринская10</td>\n      <td>143</td>\n      <td>Сметана 20%</td>\n      <td>Молочная Продукция</td>\n      <td>8.0</td>\n      <td>0.0</td>\n      <td>8.0</td>\n      <td>0.0</td>\n      <td>0.0</td>\n      <td>2.0</td>\n      <td>0.0</td>\n      <td>18.0</td>\n      <td>0.0</td>\n    </tr>\n    <tr>\n      <th>2</th>\n      <td>1020М_Истринская10</td>\n      <td>185</td>\n      <td>Творог 5%</td>\n      <td>Молочная Продукция</td>\n      <td>10.0</td>\n      <td>0.0</td>\n      <td>0.0</td>\n      <td>0.0</td>\n      <td>0.0</td>\n      <td>0.0</td>\n      <td>0.0</td>\n      <td>10.0</td>\n      <td>0.0</td>\n    </tr>\n    <tr>\n      <th>3</th>\n      <td>1020М_Истринская10</td>\n      <td>188</td>\n      <td>Творог 9%</td>\n      <td>Молочная Продукция</td>\n      <td>0.0</td>\n      <td>0.0</td>\n      <td>0.0</td>\n      <td>10.0</td>\n      <td>0.0</td>\n      <td>6.0</td>\n      <td>0.0</td>\n      <td>16.0</td>\n      <td>0.0</td>\n    </tr>\n    <tr>\n      <th>4</th>\n      <td>1020М_Истринская10</td>\n      <td>270</td>\n      <td>Молоко детское 3,2%</td>\n      <td>Молочная Продукция</td>\n      <td>5.0</td>\n      <td>0.0</td>\n      <td>0.0</td>\n      <td>0.0</td>\n      <td>0.0</td>\n      <td>0.0</td>\n      <td>0.0</td>\n      <td>5.0</td>\n      <td>0.0</td>\n    </tr>\n    <tr>\n      <th>...</th>\n      <td>...</td>\n      <td>...</td>\n      <td>...</td>\n      <td>...</td>\n      <td>...</td>\n      <td>...</td>\n      <td>...</td>\n      <td>...</td>\n      <td>...</td>\n      <td>...</td>\n      <td>...</td>\n      <td>...</td>\n      <td>...</td>\n    </tr>\n    <tr>\n      <th>2638</th>\n      <td>5673М_Кастанаевская42</td>\n      <td>66704</td>\n      <td>Фарш из свинины и говядины \"по стандарту Вкусв...</td>\n      <td>Мясо. Птица. П/ф охл. Яйца</td>\n      <td>0.0</td>\n      <td>0.0</td>\n      <td>1.0</td>\n      <td>0.0</td>\n      <td>0.0</td>\n      <td>0.0</td>\n      <td>0.0</td>\n      <td>1.0</td>\n      <td>0.0</td>\n    </tr>\n    <tr>\n      <th>2639</th>\n      <td>5673М_Кастанаевская42</td>\n      <td>67159</td>\n      <td>Груша Сербия</td>\n      <td>Овощи. Фрукты. Грибы. Зелень</td>\n      <td>0.0</td>\n      <td>1.0</td>\n      <td>0.0</td>\n      <td>0.0</td>\n      <td>0.0</td>\n      <td>0.0</td>\n      <td>0.0</td>\n      <td>1.0</td>\n      <td>0.0</td>\n    </tr>\n    <tr>\n      <th>2640</th>\n      <td>5673М_Кастанаевская42</td>\n      <td>67189</td>\n      <td>Кинза, 30 г</td>\n      <td>Овощи. Фрукты. Грибы. Зелень</td>\n      <td>0.0</td>\n      <td>0.0</td>\n      <td>0.0</td>\n      <td>0.0</td>\n      <td>0.0</td>\n      <td>1.0</td>\n      <td>0.0</td>\n      <td>1.0</td>\n      <td>0.0</td>\n    </tr>\n    <tr>\n      <th>2641</th>\n      <td>5673М_Кастанаевская42</td>\n      <td>67285</td>\n      <td>Цыпленок табака вес.</td>\n      <td>Мясная Витрина ВВ</td>\n      <td>0.0</td>\n      <td>1.0</td>\n      <td>0.0</td>\n      <td>0.0</td>\n      <td>0.0</td>\n      <td>0.0</td>\n      <td>0.0</td>\n      <td>1.0</td>\n      <td>0.0</td>\n    </tr>\n    <tr>\n      <th>2642</th>\n      <td>5673М_Кастанаевская42</td>\n      <td>67653</td>\n      <td>Торт \"Алфавит\" медовый</td>\n      <td>Торты, пирожные, десерты</td>\n      <td>0.0</td>\n      <td>0.0</td>\n      <td>0.0</td>\n      <td>0.0</td>\n      <td>0.0</td>\n      <td>0.0</td>\n      <td>1.0</td>\n      <td>1.0</td>\n      <td>2.0</td>\n    </tr>\n  </tbody>\n</table>\n<p>2643 rows × 13 columns</p>\n</div>"
     },
     "execution_count": 51,
     "metadata": {},
     "output_type": "execute_result"
    }
   ],
   "source": [],
   "metadata": {
    "collapsed": false,
    "pycharm": {
     "name": "#%%\n"
    }
   }
  },
  {
   "cell_type": "code",
   "execution_count": 52,
   "outputs": [],
   "source": [
    "#чисто посмотреть что поставляем\n",
    "oos_by_shop_5[['name_tov','id_tov','All_Weekdopost']].groupby(['name_tov','id_tov'],as_index=False)[\"All_Weekdopost\"].sum().to_excel('Goods 01_09.xlsx')"
   ],
   "metadata": {
    "collapsed": false,
    "pycharm": {
     "name": "#%%\n"
    }
   }
  },
  {
   "cell_type": "code",
   "execution_count": 53,
   "outputs": [],
   "source": [
    "oos_by_shop_6 = oos_by_shop_5[['name_TT','id_tov','name_tov','name_gr','Monday','Tuesday','Wednesday','Thursday','Friday','Saturday','Sunday','All_Weekdopost','квант']]"
   ],
   "metadata": {
    "collapsed": false,
    "pycharm": {
     "name": "#%%\n"
    }
   }
  },
  {
   "cell_type": "code",
   "execution_count": 55,
   "outputs": [],
   "source": [
    "oos_by_shop_6.to_excel('002 Calculate_16_09_2.xlsx')"
   ],
   "metadata": {
    "collapsed": false,
    "pycharm": {
     "name": "#%%\n"
    }
   }
  },
  {
   "cell_type": "code",
   "execution_count": 54,
   "outputs": [],
   "source": [],
   "metadata": {
    "collapsed": false,
    "pycharm": {
     "name": "#%%\n"
    }
   }
  }
 ],
 "metadata": {
  "kernelspec": {
   "display_name": "Python 3.10.5 64-bit",
   "language": "python",
   "name": "python3"
  },
  "language_info": {
   "codemirror_mode": {
    "name": "ipython",
    "version": 3
   },
   "file_extension": ".py",
   "mimetype": "text/x-python",
   "name": "python",
   "nbconvert_exporter": "python",
   "pygments_lexer": "ipython3",
   "version": "3.10.5"
  },
  "vscode": {
   "interpreter": {
    "hash": "d14802a80fda041396e29d0ef764e9db1b52be87434e2145de2ac9afbbaeae6f"
   }
  }
 },
 "nbformat": 4,
 "nbformat_minor": 5
}
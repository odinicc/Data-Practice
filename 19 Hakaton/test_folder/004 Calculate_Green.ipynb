{
 "cells": [
  {
   "cell_type": "code",
   "execution_count": 1,
   "id": "02d59dd2",
   "metadata": {
    "pycharm": {
     "name": "#%%\n"
    }
   },
   "outputs": [],
   "source": [
    "import pandas as pd\n",
    "import numpy as np\n",
    "from tqdm import tqdm_notebook\n",
    "pd.set_option('display.max_columns',None)\n",
    "\n",
    "\n",
    "from pandas.api.types import CategoricalDtype\n",
    "\n",
    "import matplotlib.pyplot as plt\n",
    "import seaborn as sns\n",
    "import plotly.express as px\n",
    "import plotly\n",
    "\n",
    "sns.set(style='whitegrid')\n",
    "plt.rcParams['figure.figsize']=(15,5)\n",
    "%config InlineBackend.figure_format = 'png'\n",
    "%matplotlib inline"
   ]
  },
  {
   "cell_type": "markdown",
   "id": "6395b3fb",
   "metadata": {
    "pycharm": {
     "name": "#%% md\n"
    }
   },
   "source": [
    "Грузим чеки и магазины"
   ]
  },
  {
   "cell_type": "code",
   "execution_count": 6,
   "id": "e5d81f55",
   "metadata": {
    "pycharm": {
     "name": "#%%\n"
    }
   },
   "outputs": [],
   "source": [
    "#Грузим Магазины \n",
    "df_cheks = pd.read_csv(\"./28_checklines_5-12.csv\",sep= ';' )"
   ]
  },
  {
   "cell_type": "code",
   "execution_count": 42,
   "outputs": [],
   "source": [
    "df_cheks_test = pd.read_csv(\"./28_checklines_2-15.csv\",sep= ';' )"
   ],
   "metadata": {
    "collapsed": false,
    "pycharm": {
     "name": "#%%\n"
    }
   }
  },
  {
   "cell_type": "code",
   "execution_count": null,
   "outputs": [],
   "source": [],
   "metadata": {
    "collapsed": false,
    "pycharm": {
     "name": "#%%\n"
    }
   }
  },
  {
   "cell_type": "code",
   "execution_count": 25,
   "outputs": [],
   "source": [
    "test_ids = ['11783', '12414', '12860', '11357', '15986', '14112', '11290', '11956', '15753', '12533']"
   ],
   "metadata": {
    "collapsed": false,
    "pycharm": {
     "name": "#%%\n"
    }
   }
  },
  {
   "cell_type": "code",
   "execution_count": 10,
   "outputs": [],
   "source": [
    "df_cheks = df_cheks.fillna(0)"
   ],
   "metadata": {
    "collapsed": false,
    "pycharm": {
     "name": "#%%\n"
    }
   }
  },
  {
   "cell_type": "code",
   "execution_count": 35,
   "outputs": [
    {
     "data": {
      "text/plain": "                           CheckLineUID                              CheckUID  \\\n0  0126BFCC-EB2D-ED11-9065-005056A7A8DF  0026BFCC-EB2D-ED11-9065-005056A7A8DF   \n1  1726ABFE-4130-ED11-9065-005056A7A8DF  0026ABFE-4130-ED11-9065-005056A7A8DF   \n2  1426ABFE-4130-ED11-9065-005056A7A8DF  0026ABFE-4130-ED11-9065-005056A7A8DF   \n3  0F26ABFE-4130-ED11-9065-005056A7A8DF  0026ABFE-4130-ED11-9065-005056A7A8DF   \n4  0A26ABFE-4130-ED11-9065-005056A7A8DF  0026ABFE-4130-ED11-9065-005056A7A8DF   \n5  0426ABFE-4130-ED11-9065-005056A7A8DF  0026ABFE-4130-ED11-9065-005056A7A8DF   \n\n   CashCheckLineNo   BasePrice  Quantity     BaseSum  id_tt_cl  id_tov_cl  \\\n0                1   95.833333       1.0   95.833333     11458      34208   \n1                5  158.333333       1.0  158.333333     12612      63789   \n2                4  112.500000       1.0  112.500000     12612      66178   \n3                3   65.454545       1.0   65.454545     12612      64612   \n4                2   79.166667       1.0   79.166667     12612      48171   \n5                1   97.500000       1.0   97.500000     12612      23971   \n\n      date_ch   time_ch  OperationType_cl  znak  Price_retail BonusCard_cl  \\\n0  2022-09-06  16:56:54                 1     1     95.833333                \n1  2022-09-09  16:08:04                 1     1    158.333333      2483507   \n2  2022-09-09  16:08:04                 1     1    112.500000      2483507   \n3  2022-09-09  16:08:04                 1     1     65.454545      2483507   \n4  2022-09-09  16:08:04                 1     1     87.500000      2483507   \n5  2022-09-09  16:08:04                 1     1    115.000000      2483507   \n\n   id_lovepr_card_tov  id_discount_chl   NameForClient  green_price type_order  \n0                 0.0              0.0               0          0.0     ofline  \n1                 0.0              0.0               0          0.0     ofline  \n2                 0.0              0.0               0          0.0     ofline  \n3                 0.0              0.0               0          0.0     ofline  \n4                 0.0              8.0  Жёлтый ценник           0.0     ofline  \n5                 0.0              8.0  Жёлтый ценник           0.0     ofline  ",
      "text/html": "<div>\n<style scoped>\n    .dataframe tbody tr th:only-of-type {\n        vertical-align: middle;\n    }\n\n    .dataframe tbody tr th {\n        vertical-align: top;\n    }\n\n    .dataframe thead th {\n        text-align: right;\n    }\n</style>\n<table border=\"1\" class=\"dataframe\">\n  <thead>\n    <tr style=\"text-align: right;\">\n      <th></th>\n      <th>CheckLineUID</th>\n      <th>CheckUID</th>\n      <th>CashCheckLineNo</th>\n      <th>BasePrice</th>\n      <th>Quantity</th>\n      <th>BaseSum</th>\n      <th>id_tt_cl</th>\n      <th>id_tov_cl</th>\n      <th>date_ch</th>\n      <th>time_ch</th>\n      <th>OperationType_cl</th>\n      <th>znak</th>\n      <th>Price_retail</th>\n      <th>BonusCard_cl</th>\n      <th>id_lovepr_card_tov</th>\n      <th>id_discount_chl</th>\n      <th>NameForClient</th>\n      <th>green_price</th>\n      <th>type_order</th>\n    </tr>\n  </thead>\n  <tbody>\n    <tr>\n      <th>0</th>\n      <td>0126BFCC-EB2D-ED11-9065-005056A7A8DF</td>\n      <td>0026BFCC-EB2D-ED11-9065-005056A7A8DF</td>\n      <td>1</td>\n      <td>95.833333</td>\n      <td>1.0</td>\n      <td>95.833333</td>\n      <td>11458</td>\n      <td>34208</td>\n      <td>2022-09-06</td>\n      <td>16:56:54</td>\n      <td>1</td>\n      <td>1</td>\n      <td>95.833333</td>\n      <td></td>\n      <td>0.0</td>\n      <td>0.0</td>\n      <td>0</td>\n      <td>0.0</td>\n      <td>ofline</td>\n    </tr>\n    <tr>\n      <th>1</th>\n      <td>1726ABFE-4130-ED11-9065-005056A7A8DF</td>\n      <td>0026ABFE-4130-ED11-9065-005056A7A8DF</td>\n      <td>5</td>\n      <td>158.333333</td>\n      <td>1.0</td>\n      <td>158.333333</td>\n      <td>12612</td>\n      <td>63789</td>\n      <td>2022-09-09</td>\n      <td>16:08:04</td>\n      <td>1</td>\n      <td>1</td>\n      <td>158.333333</td>\n      <td>2483507</td>\n      <td>0.0</td>\n      <td>0.0</td>\n      <td>0</td>\n      <td>0.0</td>\n      <td>ofline</td>\n    </tr>\n    <tr>\n      <th>2</th>\n      <td>1426ABFE-4130-ED11-9065-005056A7A8DF</td>\n      <td>0026ABFE-4130-ED11-9065-005056A7A8DF</td>\n      <td>4</td>\n      <td>112.500000</td>\n      <td>1.0</td>\n      <td>112.500000</td>\n      <td>12612</td>\n      <td>66178</td>\n      <td>2022-09-09</td>\n      <td>16:08:04</td>\n      <td>1</td>\n      <td>1</td>\n      <td>112.500000</td>\n      <td>2483507</td>\n      <td>0.0</td>\n      <td>0.0</td>\n      <td>0</td>\n      <td>0.0</td>\n      <td>ofline</td>\n    </tr>\n    <tr>\n      <th>3</th>\n      <td>0F26ABFE-4130-ED11-9065-005056A7A8DF</td>\n      <td>0026ABFE-4130-ED11-9065-005056A7A8DF</td>\n      <td>3</td>\n      <td>65.454545</td>\n      <td>1.0</td>\n      <td>65.454545</td>\n      <td>12612</td>\n      <td>64612</td>\n      <td>2022-09-09</td>\n      <td>16:08:04</td>\n      <td>1</td>\n      <td>1</td>\n      <td>65.454545</td>\n      <td>2483507</td>\n      <td>0.0</td>\n      <td>0.0</td>\n      <td>0</td>\n      <td>0.0</td>\n      <td>ofline</td>\n    </tr>\n    <tr>\n      <th>4</th>\n      <td>0A26ABFE-4130-ED11-9065-005056A7A8DF</td>\n      <td>0026ABFE-4130-ED11-9065-005056A7A8DF</td>\n      <td>2</td>\n      <td>79.166667</td>\n      <td>1.0</td>\n      <td>79.166667</td>\n      <td>12612</td>\n      <td>48171</td>\n      <td>2022-09-09</td>\n      <td>16:08:04</td>\n      <td>1</td>\n      <td>1</td>\n      <td>87.500000</td>\n      <td>2483507</td>\n      <td>0.0</td>\n      <td>8.0</td>\n      <td>Жёлтый ценник</td>\n      <td>0.0</td>\n      <td>ofline</td>\n    </tr>\n    <tr>\n      <th>5</th>\n      <td>0426ABFE-4130-ED11-9065-005056A7A8DF</td>\n      <td>0026ABFE-4130-ED11-9065-005056A7A8DF</td>\n      <td>1</td>\n      <td>97.500000</td>\n      <td>1.0</td>\n      <td>97.500000</td>\n      <td>12612</td>\n      <td>23971</td>\n      <td>2022-09-09</td>\n      <td>16:08:04</td>\n      <td>1</td>\n      <td>1</td>\n      <td>115.000000</td>\n      <td>2483507</td>\n      <td>0.0</td>\n      <td>8.0</td>\n      <td>Жёлтый ценник</td>\n      <td>0.0</td>\n      <td>ofline</td>\n    </tr>\n  </tbody>\n</table>\n</div>"
     },
     "execution_count": 35,
     "metadata": {},
     "output_type": "execute_result"
    }
   ],
   "source": [
    "df_cheks.head(6)"
   ],
   "metadata": {
    "collapsed": false,
    "pycharm": {
     "name": "#%%\n"
    }
   }
  },
  {
   "cell_type": "code",
   "execution_count": 29,
   "outputs": [
    {
     "data": {
      "text/plain": "array([11458, 12612, 14899, 16130, 14855, 12084, 10786, 14125, 11841,\n       12618, 14902, 11657, 12015, 11020, 11178, 11128, 15140, 14859],\n      dtype=int64)"
     },
     "execution_count": 29,
     "metadata": {},
     "output_type": "execute_result"
    }
   ],
   "source": [
    "df_cheks.id_tt_cl.unique()"
   ],
   "metadata": {
    "collapsed": false,
    "pycharm": {
     "name": "#%%\n"
    }
   }
  },
  {
   "cell_type": "code",
   "execution_count": 36,
   "outputs": [],
   "source": [
    "df_cheks['quant_sum'] = df_cheks['Quantity'] * df_cheks['green_price']"
   ],
   "metadata": {
    "collapsed": false,
    "pycharm": {
     "name": "#%%\n"
    }
   }
  },
  {
   "cell_type": "code",
   "execution_count": 47,
   "outputs": [
    {
     "data": {
      "text/plain": "0.05133748115900535"
     },
     "execution_count": 47,
     "metadata": {},
     "output_type": "execute_result"
    }
   ],
   "source": [
    "df_cheks['quant_sum'].sum(0)/df_cheks['Quantity'].count()"
   ],
   "metadata": {
    "collapsed": false,
    "pycharm": {
     "name": "#%%\n"
    }
   }
  },
  {
   "cell_type": "code",
   "execution_count": 39,
   "outputs": [
    {
     "data": {
      "text/plain": "475028"
     },
     "execution_count": 39,
     "metadata": {},
     "output_type": "execute_result"
    }
   ],
   "source": [],
   "metadata": {
    "collapsed": false,
    "pycharm": {
     "name": "#%%\n"
    }
   }
  },
  {
   "cell_type": "code",
   "execution_count": 43,
   "outputs": [
    {
     "data": {
      "text/plain": "array([14112, 11783, 12860, 11290, 11357, 15986, 12533, 15753, 11956,\n       12414], dtype=int64)"
     },
     "execution_count": 43,
     "metadata": {},
     "output_type": "execute_result"
    }
   ],
   "source": [
    "\n",
    "df_cheks_test.id_tt_cl.unique()"
   ],
   "metadata": {
    "collapsed": false,
    "pycharm": {
     "name": "#%%\n"
    }
   }
  },
  {
   "cell_type": "code",
   "execution_count": 45,
   "outputs": [],
   "source": [
    "df_cheks_test = df_cheks_test.fillna(0)"
   ],
   "metadata": {
    "collapsed": false,
    "pycharm": {
     "name": "#%%\n"
    }
   }
  },
  {
   "cell_type": "code",
   "execution_count": 46,
   "outputs": [],
   "source": [
    "df_cheks_test['quant_sum'] = df_cheks_test['Quantity'] * df_cheks_test['green_price']"
   ],
   "metadata": {
    "collapsed": false,
    "pycharm": {
     "name": "#%%\n"
    }
   }
  },
  {
   "cell_type": "code",
   "execution_count": 48,
   "outputs": [
    {
     "data": {
      "text/plain": "0.059367194736717074"
     },
     "execution_count": 48,
     "metadata": {},
     "output_type": "execute_result"
    }
   ],
   "source": [
    "df_cheks_test['quant_sum'].sum(0)/df_cheks_test['Quantity'].count()"
   ],
   "metadata": {
    "collapsed": false,
    "pycharm": {
     "name": "#%%\n"
    }
   }
  },
  {
   "cell_type": "code",
   "execution_count": null,
   "outputs": [],
   "source": [],
   "metadata": {
    "collapsed": false,
    "pycharm": {
     "name": "#%%\n"
    }
   }
  },
  {
   "cell_type": "code",
   "execution_count": 54,
   "outputs": [],
   "source": [],
   "metadata": {
    "collapsed": false,
    "pycharm": {
     "name": "#%%\n"
    }
   }
  }
 ],
 "metadata": {
  "kernelspec": {
   "display_name": "Python 3.10.5 64-bit",
   "language": "python",
   "name": "python3"
  },
  "language_info": {
   "codemirror_mode": {
    "name": "ipython",
    "version": 3
   },
   "file_extension": ".py",
   "mimetype": "text/x-python",
   "name": "python",
   "nbconvert_exporter": "python",
   "pygments_lexer": "ipython3",
   "version": "3.10.5"
  },
  "vscode": {
   "interpreter": {
    "hash": "d14802a80fda041396e29d0ef764e9db1b52be87434e2145de2ac9afbbaeae6f"
   }
  }
 },
 "nbformat": 4,
 "nbformat_minor": 5
}
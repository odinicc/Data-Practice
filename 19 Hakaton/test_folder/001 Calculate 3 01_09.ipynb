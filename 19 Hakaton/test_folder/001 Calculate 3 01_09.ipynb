{
 "cells": [
  {
   "cell_type": "code",
   "execution_count": 1,
   "id": "02d59dd2",
   "metadata": {
    "pycharm": {
     "name": "#%%\n"
    }
   },
   "outputs": [],
   "source": [
    "import pandas as pd\n",
    "import numpy as np\n",
    "from tqdm import tqdm_notebook\n",
    "pd.set_option('display.max_columns',None)\n",
    "\n",
    "\n",
    "from pandas.api.types import CategoricalDtype\n",
    "\n",
    "import matplotlib.pyplot as plt\n",
    "import seaborn as sns\n",
    "import plotly.express as px\n",
    "import plotly\n",
    "\n",
    "sns.set(style='whitegrid')\n",
    "plt.rcParams['figure.figsize']=(15,5)\n",
    "%config InlineBackend.figure_format = 'png'\n",
    "%matplotlib inline"
   ]
  },
  {
   "cell_type": "markdown",
   "id": "6395b3fb",
   "metadata": {
    "pycharm": {
     "name": "#%% md\n"
    }
   },
   "source": [
    "Грузим чеки и магазины"
   ]
  },
  {
   "cell_type": "code",
   "execution_count": 2,
   "id": "e5d81f55",
   "metadata": {
    "pycharm": {
     "name": "#%%\n"
    }
   },
   "outputs": [],
   "source": [
    "#Грузим Магазины \n",
    "oos_by_shop = pd.read_csv(\"./df_oos_do_01_09_2.csv\")"
   ]
  },
  {
   "cell_type": "code",
   "execution_count": 3,
   "outputs": [],
   "source": [
    "quant_goods = pd.read_excel(\"./tov_kvant_srok.xlsx\")"
   ],
   "metadata": {
    "collapsed": false,
    "pycharm": {
     "name": "#%%\n"
    }
   }
  },
  {
   "cell_type": "code",
   "execution_count": 3,
   "outputs": [],
   "source": [],
   "metadata": {
    "collapsed": false,
    "pycharm": {
     "name": "#%%\n"
    }
   }
  },
  {
   "cell_type": "code",
   "execution_count": 4,
   "outputs": [],
   "source": [
    "df_price = pd.read_csv(\"./price.csv\")"
   ],
   "metadata": {
    "collapsed": false,
    "pycharm": {
     "name": "#%%\n"
    }
   }
  },
  {
   "cell_type": "code",
   "execution_count": 5,
   "outputs": [],
   "source": [
    "id_tt_n_tt = pd.read_excel(\"./id_tt_n_tt.xlsx\")"
   ],
   "metadata": {
    "collapsed": false,
    "pycharm": {
     "name": "#%%\n"
    }
   }
  },
  {
   "cell_type": "code",
   "execution_count": 6,
   "outputs": [],
   "source": [
    "oos_by_shop.fillna(0, inplace = True)"
   ],
   "metadata": {
    "collapsed": false,
    "pycharm": {
     "name": "#%%\n"
    }
   }
  },
  {
   "cell_type": "code",
   "execution_count": 7,
   "outputs": [],
   "source": [
    "oos_by_shop_2 = oos_by_shop.copy()"
   ],
   "metadata": {
    "collapsed": false,
    "pycharm": {
     "name": "#%%\n"
    }
   }
  },
  {
   "cell_type": "code",
   "execution_count": 8,
   "outputs": [],
   "source": [
    "oos_by_shop_2 = oos_by_shop_2.round({'Monday':0,'Tuesday':0,'Tuesday':0,'Wednesday':0,'Thursday':0,'Friday':0,'Saturday':0,'Sunday':0})"
   ],
   "metadata": {
    "collapsed": false,
    "pycharm": {
     "name": "#%%\n"
    }
   }
  },
  {
   "cell_type": "code",
   "execution_count": 9,
   "outputs": [
    {
     "data": {
      "text/plain": "array([11290, 11357, 11783, 11956, 12414, 12533, 12860, 14112, 15753,\n       15986], dtype=int64)"
     },
     "execution_count": 9,
     "metadata": {},
     "output_type": "execute_result"
    }
   ],
   "source": [
    "oos_by_shop_2['id_tt'].unique()"
   ],
   "metadata": {
    "collapsed": false,
    "pycharm": {
     "name": "#%%\n"
    }
   }
  },
  {
   "cell_type": "code",
   "execution_count": 10,
   "outputs": [
    {
     "data": {
      "text/plain": "      id_tt  id_tov  Friday  Monday  Saturday  Sunday  Thursday  Tuesday  \\\n0     11290      77     0.0     0.0       0.0     0.0       0.0      0.0   \n1     11290      91     0.0     1.0       0.0     0.0       0.0      1.0   \n2     11290     143     0.0     7.0       0.0     1.0       0.0      0.0   \n3     11290     185     0.0     0.0       0.0    11.0       0.0     10.0   \n4     11290     188     0.0     0.0       0.0     0.0       0.0      7.0   \n...     ...     ...     ...     ...       ...     ...       ...      ...   \n4276  15986   67159     0.0     0.0       0.0     1.0       0.0      0.0   \n4277  15986   67188     0.0     0.0       0.0     0.0       0.0      0.0   \n4278  15986   67207     0.0     0.0       0.0     0.0       0.0      0.0   \n4279  15986   67291     0.0     0.0       0.0     1.0       0.0      0.0   \n4280  15986   67451     0.0     0.0       0.0     0.0       0.0      0.0   \n\n      Wednesday  \n0           0.0  \n1           0.0  \n2           0.0  \n3           0.0  \n4           0.0  \n...         ...  \n4276        1.0  \n4277        0.0  \n4278        0.0  \n4279        0.0  \n4280        0.0  \n\n[4281 rows x 9 columns]",
      "text/html": "<div>\n<style scoped>\n    .dataframe tbody tr th:only-of-type {\n        vertical-align: middle;\n    }\n\n    .dataframe tbody tr th {\n        vertical-align: top;\n    }\n\n    .dataframe thead th {\n        text-align: right;\n    }\n</style>\n<table border=\"1\" class=\"dataframe\">\n  <thead>\n    <tr style=\"text-align: right;\">\n      <th></th>\n      <th>id_tt</th>\n      <th>id_tov</th>\n      <th>Friday</th>\n      <th>Monday</th>\n      <th>Saturday</th>\n      <th>Sunday</th>\n      <th>Thursday</th>\n      <th>Tuesday</th>\n      <th>Wednesday</th>\n    </tr>\n  </thead>\n  <tbody>\n    <tr>\n      <th>0</th>\n      <td>11290</td>\n      <td>77</td>\n      <td>0.0</td>\n      <td>0.0</td>\n      <td>0.0</td>\n      <td>0.0</td>\n      <td>0.0</td>\n      <td>0.0</td>\n      <td>0.0</td>\n    </tr>\n    <tr>\n      <th>1</th>\n      <td>11290</td>\n      <td>91</td>\n      <td>0.0</td>\n      <td>1.0</td>\n      <td>0.0</td>\n      <td>0.0</td>\n      <td>0.0</td>\n      <td>1.0</td>\n      <td>0.0</td>\n    </tr>\n    <tr>\n      <th>2</th>\n      <td>11290</td>\n      <td>143</td>\n      <td>0.0</td>\n      <td>7.0</td>\n      <td>0.0</td>\n      <td>1.0</td>\n      <td>0.0</td>\n      <td>0.0</td>\n      <td>0.0</td>\n    </tr>\n    <tr>\n      <th>3</th>\n      <td>11290</td>\n      <td>185</td>\n      <td>0.0</td>\n      <td>0.0</td>\n      <td>0.0</td>\n      <td>11.0</td>\n      <td>0.0</td>\n      <td>10.0</td>\n      <td>0.0</td>\n    </tr>\n    <tr>\n      <th>4</th>\n      <td>11290</td>\n      <td>188</td>\n      <td>0.0</td>\n      <td>0.0</td>\n      <td>0.0</td>\n      <td>0.0</td>\n      <td>0.0</td>\n      <td>7.0</td>\n      <td>0.0</td>\n    </tr>\n    <tr>\n      <th>...</th>\n      <td>...</td>\n      <td>...</td>\n      <td>...</td>\n      <td>...</td>\n      <td>...</td>\n      <td>...</td>\n      <td>...</td>\n      <td>...</td>\n      <td>...</td>\n    </tr>\n    <tr>\n      <th>4276</th>\n      <td>15986</td>\n      <td>67159</td>\n      <td>0.0</td>\n      <td>0.0</td>\n      <td>0.0</td>\n      <td>1.0</td>\n      <td>0.0</td>\n      <td>0.0</td>\n      <td>1.0</td>\n    </tr>\n    <tr>\n      <th>4277</th>\n      <td>15986</td>\n      <td>67188</td>\n      <td>0.0</td>\n      <td>0.0</td>\n      <td>0.0</td>\n      <td>0.0</td>\n      <td>0.0</td>\n      <td>0.0</td>\n      <td>0.0</td>\n    </tr>\n    <tr>\n      <th>4278</th>\n      <td>15986</td>\n      <td>67207</td>\n      <td>0.0</td>\n      <td>0.0</td>\n      <td>0.0</td>\n      <td>0.0</td>\n      <td>0.0</td>\n      <td>0.0</td>\n      <td>0.0</td>\n    </tr>\n    <tr>\n      <th>4279</th>\n      <td>15986</td>\n      <td>67291</td>\n      <td>0.0</td>\n      <td>0.0</td>\n      <td>0.0</td>\n      <td>1.0</td>\n      <td>0.0</td>\n      <td>0.0</td>\n      <td>0.0</td>\n    </tr>\n    <tr>\n      <th>4280</th>\n      <td>15986</td>\n      <td>67451</td>\n      <td>0.0</td>\n      <td>0.0</td>\n      <td>0.0</td>\n      <td>0.0</td>\n      <td>0.0</td>\n      <td>0.0</td>\n      <td>0.0</td>\n    </tr>\n  </tbody>\n</table>\n<p>4281 rows × 9 columns</p>\n</div>"
     },
     "execution_count": 10,
     "metadata": {},
     "output_type": "execute_result"
    }
   ],
   "source": [
    "oos_by_shop_2"
   ],
   "metadata": {
    "collapsed": false,
    "pycharm": {
     "name": "#%%\n"
    }
   }
  },
  {
   "cell_type": "code",
   "execution_count": 11,
   "outputs": [],
   "source": [
    "oos_by_shop_2['All_Weekdopost'] = oos_by_shop_2[['Monday','Tuesday','Wednesday','Thursday','Friday','Saturday','Sunday']].sum(axis = 1)"
   ],
   "metadata": {
    "collapsed": false,
    "pycharm": {
     "name": "#%%\n"
    }
   }
  },
  {
   "cell_type": "markdown",
   "source": [
    "Приводим в порядок табдицу тоаров"
   ],
   "metadata": {
    "collapsed": false,
    "pycharm": {
     "name": "#%% md\n"
    }
   }
  },
  {
   "cell_type": "code",
   "execution_count": 12,
   "outputs": [
    {
     "data": {
      "text/plain": "    id_tov                                    Name_tov Country СтатусАктХар  \\\n0      NaN                                         NaN  РОССИЯ     Активная   \n1      NaN                                         NaN  РОССИЯ     Активная   \n2      NaN                                         NaN  РОССИЯ     Активная   \n3      NaN                                         NaN  РОССИЯ     Активная   \n4      NaN                                         NaN  РОССИЯ     Активная   \n5      NaN                                         NaN  РОССИЯ     Активная   \n6      5.0             (уд)товар ВкусВилл не определен     NaN  Не активная   \n7      6.0                         (уд)Кефир 1% Восход     NaN  Не активная   \n8      7.0                       (уд)Кефир 3.2% Восход     NaN  Не активная   \n9     10.0                   (уд)Творог 9% Восход, 0.3     NaN  Не активная   \n10    14.0                 (уд)Творог 18% Восход,  0.3     NaN  Не активная   \n11    16.0                (уд)Сметана 25% Восход,  0.2     NaN  Не активная   \n12    20.0             (уд)Творожная масса Восход, 0,3     NaN  Не активная   \n13    34.0          POLEX 500 арт 306, 500 мл + крышка     NaN        Новая   \n14    35.0  (не исп.) POLEX 350 арт 319, 350 мл стакан     NaN  Не активная   \n15    35.0  (не исп.) POLEX 350 арт 319, 350 мл стакан     NaN  Не активная   \n16    35.0  (не исп.) POLEX 350 арт 319, 350 мл стакан     NaN  Не активная   \n17    35.0  (не исп.) POLEX 350 арт 319, 350 мл стакан     NaN  Не активная   \n18    35.0  (не исп.) POLEX 350 арт 319, 350 мл стакан     NaN  Не активная   \n19    35.0  (не исп.) POLEX 350 арт 319, 350 мл стакан     NaN  Не активная   \n20    35.0  (не исп.) POLEX 350 арт 319, 350 мл стакан     NaN  Не активная   \n21    35.0  (не исп.) POLEX 350 арт 319, 350 мл стакан     NaN  Не активная   \n22    36.0              (не исп.) KOMUS ТВ-200, 300 мл     NaN  Не активная   \n23    37.0                         KOMUS КМ8СМ, 750 мл     NaN        Новая   \n24    38.0                        Элтека Бутылка 0.5 л     NaN        Новая   \n25    39.0                        Элтека Бутылка 0.9 л     NaN        Новая   \n26    44.0                    (уд)Молоко 3.2% Сухиничи     NaN  Не активная   \n27    45.0             (уд)Сметана  25% Сухиничи, 200г     NaN  Не активная   \n28    46.0                       Масло сливочное 82,5%  РОССИЯ  Не активная   \n29    46.0                       Масло сливочное 82,5%  РОССИЯ  Не активная   \n\n                                    Name_Har  СрокГодностиДни  krat_u Ed_Izm  \\\n0               ООО \"Мануфактура Вкус Жизни\"            365.0     NaN    NaN   \n1               ООО \"Мануфактура Вкус Жизни\"            365.0     NaN    NaN   \n2               ООО \"Мануфактура Вкус Жизни\"            304.0     NaN    NaN   \n3               ООО \"Мануфактура Вкус Жизни\"            304.0     NaN    NaN   \n4               ООО \"Мануфактура Вкус Жизни\"            304.0     NaN    NaN   \n5               ООО \"Мануфактура Вкус Жизни\"            304.0     NaN    NaN   \n6                    Агрофирма Пречистое ОАО              NaN     0.0     кг   \n7                                 Восход ОАО              NaN     0.0     Шт   \n8                                 Восход ОАО              NaN     0.0     Шт   \n9                                 Восход ОАО              NaN     0.0    NaN   \n10                                Восход ОАО              NaN     0.0    NaN   \n11                                Восход ОАО              NaN     0.0    NaN   \n12                                Восход ОАО              NaN     0.0    NaN   \n13                                    Россия              NaN     0.0     шт   \n14  КРЕСТЬЯНСКОЕ -ФЕРМЕРСКОЕ ХОЗЯЙСТВО \"НИЛ\"              NaN     0.0     шт   \n15                           Добрая вода ООО              NaN     0.0     шт   \n16                   ТОРГОВЫЙ ДОМ ОПТИНА ООО              NaN     0.0     шт   \n17                        Лебедяньмолоко ООО              NaN     0.0     шт   \n18                            ПКФ РОСТОК ООО              NaN     0.0     шт   \n19           КАРТОФЕЛЬНАЯ НИВА ОРЛОВЩИНЫ ЗАО              NaN     0.0     шт   \n20                               АМАЛТЕЯ ООО              NaN     0.0     шт   \n21           СЫЧЕВСКАЯ МОЛОЧНАЯ КОМПАНИЯ ООО              NaN     0.0     шт   \n22                                    Россия              NaN     0.0     шт   \n23                                    Россия              NaN     0.0     шт   \n24                                    Россия              NaN     0.0     шт   \n25                                    Россия              NaN     0.0     шт   \n26                            САПК-Молок ООО              NaN     0.0     Шт   \n27                            САПК-Молок ООО              NaN     0.0    NaN   \n28                            САПК-Молок ООО              NaN     0.0     кг   \n29                          Агрофирма Оптина             20.0     0.0     кг   \n\n    group_name   parent_group_name  \n0          NaN                 NaN  \n1          NaN                 NaN  \n2          NaN                 NaN  \n3          NaN                 NaN  \n4          NaN                 NaN  \n5          NaN                 NaN  \n6        Архив               Архив  \n7        Архив               Архив  \n8        Архив               Архив  \n9        Архив               Архив  \n10       Архив               Архив  \n11       Архив               Архив  \n12       Архив               Архив  \n13  Контейнеры          Контейнеры  \n14       Архив               Архив  \n15       Архив               Архив  \n16       Архив               Архив  \n17       Архив               Архив  \n18       Архив               Архив  \n19       Архив               Архив  \n20       Архив               Архив  \n21       Архив               Архив  \n22       Архив               Архив  \n23  Контейнеры          Контейнеры  \n24  Контейнеры          Контейнеры  \n25  Контейнеры          Контейнеры  \n26       Архив               Архив  \n27       Архив               Архив  \n28       Масло  Молочная Продукция  \n29       Масло  Молочная Продукция  ",
      "text/html": "<div>\n<style scoped>\n    .dataframe tbody tr th:only-of-type {\n        vertical-align: middle;\n    }\n\n    .dataframe tbody tr th {\n        vertical-align: top;\n    }\n\n    .dataframe thead th {\n        text-align: right;\n    }\n</style>\n<table border=\"1\" class=\"dataframe\">\n  <thead>\n    <tr style=\"text-align: right;\">\n      <th></th>\n      <th>id_tov</th>\n      <th>Name_tov</th>\n      <th>Country</th>\n      <th>СтатусАктХар</th>\n      <th>Name_Har</th>\n      <th>СрокГодностиДни</th>\n      <th>krat_u</th>\n      <th>Ed_Izm</th>\n      <th>group_name</th>\n      <th>parent_group_name</th>\n    </tr>\n  </thead>\n  <tbody>\n    <tr>\n      <th>0</th>\n      <td>NaN</td>\n      <td>NaN</td>\n      <td>РОССИЯ</td>\n      <td>Активная</td>\n      <td>ООО \"Мануфактура Вкус Жизни\"</td>\n      <td>365.0</td>\n      <td>NaN</td>\n      <td>NaN</td>\n      <td>NaN</td>\n      <td>NaN</td>\n    </tr>\n    <tr>\n      <th>1</th>\n      <td>NaN</td>\n      <td>NaN</td>\n      <td>РОССИЯ</td>\n      <td>Активная</td>\n      <td>ООО \"Мануфактура Вкус Жизни\"</td>\n      <td>365.0</td>\n      <td>NaN</td>\n      <td>NaN</td>\n      <td>NaN</td>\n      <td>NaN</td>\n    </tr>\n    <tr>\n      <th>2</th>\n      <td>NaN</td>\n      <td>NaN</td>\n      <td>РОССИЯ</td>\n      <td>Активная</td>\n      <td>ООО \"Мануфактура Вкус Жизни\"</td>\n      <td>304.0</td>\n      <td>NaN</td>\n      <td>NaN</td>\n      <td>NaN</td>\n      <td>NaN</td>\n    </tr>\n    <tr>\n      <th>3</th>\n      <td>NaN</td>\n      <td>NaN</td>\n      <td>РОССИЯ</td>\n      <td>Активная</td>\n      <td>ООО \"Мануфактура Вкус Жизни\"</td>\n      <td>304.0</td>\n      <td>NaN</td>\n      <td>NaN</td>\n      <td>NaN</td>\n      <td>NaN</td>\n    </tr>\n    <tr>\n      <th>4</th>\n      <td>NaN</td>\n      <td>NaN</td>\n      <td>РОССИЯ</td>\n      <td>Активная</td>\n      <td>ООО \"Мануфактура Вкус Жизни\"</td>\n      <td>304.0</td>\n      <td>NaN</td>\n      <td>NaN</td>\n      <td>NaN</td>\n      <td>NaN</td>\n    </tr>\n    <tr>\n      <th>5</th>\n      <td>NaN</td>\n      <td>NaN</td>\n      <td>РОССИЯ</td>\n      <td>Активная</td>\n      <td>ООО \"Мануфактура Вкус Жизни\"</td>\n      <td>304.0</td>\n      <td>NaN</td>\n      <td>NaN</td>\n      <td>NaN</td>\n      <td>NaN</td>\n    </tr>\n    <tr>\n      <th>6</th>\n      <td>5.0</td>\n      <td>(уд)товар ВкусВилл не определен</td>\n      <td>NaN</td>\n      <td>Не активная</td>\n      <td>Агрофирма Пречистое ОАО</td>\n      <td>NaN</td>\n      <td>0.0</td>\n      <td>кг</td>\n      <td>Архив</td>\n      <td>Архив</td>\n    </tr>\n    <tr>\n      <th>7</th>\n      <td>6.0</td>\n      <td>(уд)Кефир 1% Восход</td>\n      <td>NaN</td>\n      <td>Не активная</td>\n      <td>Восход ОАО</td>\n      <td>NaN</td>\n      <td>0.0</td>\n      <td>Шт</td>\n      <td>Архив</td>\n      <td>Архив</td>\n    </tr>\n    <tr>\n      <th>8</th>\n      <td>7.0</td>\n      <td>(уд)Кефир 3.2% Восход</td>\n      <td>NaN</td>\n      <td>Не активная</td>\n      <td>Восход ОАО</td>\n      <td>NaN</td>\n      <td>0.0</td>\n      <td>Шт</td>\n      <td>Архив</td>\n      <td>Архив</td>\n    </tr>\n    <tr>\n      <th>9</th>\n      <td>10.0</td>\n      <td>(уд)Творог 9% Восход, 0.3</td>\n      <td>NaN</td>\n      <td>Не активная</td>\n      <td>Восход ОАО</td>\n      <td>NaN</td>\n      <td>0.0</td>\n      <td>NaN</td>\n      <td>Архив</td>\n      <td>Архив</td>\n    </tr>\n    <tr>\n      <th>10</th>\n      <td>14.0</td>\n      <td>(уд)Творог 18% Восход,  0.3</td>\n      <td>NaN</td>\n      <td>Не активная</td>\n      <td>Восход ОАО</td>\n      <td>NaN</td>\n      <td>0.0</td>\n      <td>NaN</td>\n      <td>Архив</td>\n      <td>Архив</td>\n    </tr>\n    <tr>\n      <th>11</th>\n      <td>16.0</td>\n      <td>(уд)Сметана 25% Восход,  0.2</td>\n      <td>NaN</td>\n      <td>Не активная</td>\n      <td>Восход ОАО</td>\n      <td>NaN</td>\n      <td>0.0</td>\n      <td>NaN</td>\n      <td>Архив</td>\n      <td>Архив</td>\n    </tr>\n    <tr>\n      <th>12</th>\n      <td>20.0</td>\n      <td>(уд)Творожная масса Восход, 0,3</td>\n      <td>NaN</td>\n      <td>Не активная</td>\n      <td>Восход ОАО</td>\n      <td>NaN</td>\n      <td>0.0</td>\n      <td>NaN</td>\n      <td>Архив</td>\n      <td>Архив</td>\n    </tr>\n    <tr>\n      <th>13</th>\n      <td>34.0</td>\n      <td>POLEX 500 арт 306, 500 мл + крышка</td>\n      <td>NaN</td>\n      <td>Новая</td>\n      <td>Россия</td>\n      <td>NaN</td>\n      <td>0.0</td>\n      <td>шт</td>\n      <td>Контейнеры</td>\n      <td>Контейнеры</td>\n    </tr>\n    <tr>\n      <th>14</th>\n      <td>35.0</td>\n      <td>(не исп.) POLEX 350 арт 319, 350 мл стакан</td>\n      <td>NaN</td>\n      <td>Не активная</td>\n      <td>КРЕСТЬЯНСКОЕ -ФЕРМЕРСКОЕ ХОЗЯЙСТВО \"НИЛ\"</td>\n      <td>NaN</td>\n      <td>0.0</td>\n      <td>шт</td>\n      <td>Архив</td>\n      <td>Архив</td>\n    </tr>\n    <tr>\n      <th>15</th>\n      <td>35.0</td>\n      <td>(не исп.) POLEX 350 арт 319, 350 мл стакан</td>\n      <td>NaN</td>\n      <td>Не активная</td>\n      <td>Добрая вода ООО</td>\n      <td>NaN</td>\n      <td>0.0</td>\n      <td>шт</td>\n      <td>Архив</td>\n      <td>Архив</td>\n    </tr>\n    <tr>\n      <th>16</th>\n      <td>35.0</td>\n      <td>(не исп.) POLEX 350 арт 319, 350 мл стакан</td>\n      <td>NaN</td>\n      <td>Не активная</td>\n      <td>ТОРГОВЫЙ ДОМ ОПТИНА ООО</td>\n      <td>NaN</td>\n      <td>0.0</td>\n      <td>шт</td>\n      <td>Архив</td>\n      <td>Архив</td>\n    </tr>\n    <tr>\n      <th>17</th>\n      <td>35.0</td>\n      <td>(не исп.) POLEX 350 арт 319, 350 мл стакан</td>\n      <td>NaN</td>\n      <td>Не активная</td>\n      <td>Лебедяньмолоко ООО</td>\n      <td>NaN</td>\n      <td>0.0</td>\n      <td>шт</td>\n      <td>Архив</td>\n      <td>Архив</td>\n    </tr>\n    <tr>\n      <th>18</th>\n      <td>35.0</td>\n      <td>(не исп.) POLEX 350 арт 319, 350 мл стакан</td>\n      <td>NaN</td>\n      <td>Не активная</td>\n      <td>ПКФ РОСТОК ООО</td>\n      <td>NaN</td>\n      <td>0.0</td>\n      <td>шт</td>\n      <td>Архив</td>\n      <td>Архив</td>\n    </tr>\n    <tr>\n      <th>19</th>\n      <td>35.0</td>\n      <td>(не исп.) POLEX 350 арт 319, 350 мл стакан</td>\n      <td>NaN</td>\n      <td>Не активная</td>\n      <td>КАРТОФЕЛЬНАЯ НИВА ОРЛОВЩИНЫ ЗАО</td>\n      <td>NaN</td>\n      <td>0.0</td>\n      <td>шт</td>\n      <td>Архив</td>\n      <td>Архив</td>\n    </tr>\n    <tr>\n      <th>20</th>\n      <td>35.0</td>\n      <td>(не исп.) POLEX 350 арт 319, 350 мл стакан</td>\n      <td>NaN</td>\n      <td>Не активная</td>\n      <td>АМАЛТЕЯ ООО</td>\n      <td>NaN</td>\n      <td>0.0</td>\n      <td>шт</td>\n      <td>Архив</td>\n      <td>Архив</td>\n    </tr>\n    <tr>\n      <th>21</th>\n      <td>35.0</td>\n      <td>(не исп.) POLEX 350 арт 319, 350 мл стакан</td>\n      <td>NaN</td>\n      <td>Не активная</td>\n      <td>СЫЧЕВСКАЯ МОЛОЧНАЯ КОМПАНИЯ ООО</td>\n      <td>NaN</td>\n      <td>0.0</td>\n      <td>шт</td>\n      <td>Архив</td>\n      <td>Архив</td>\n    </tr>\n    <tr>\n      <th>22</th>\n      <td>36.0</td>\n      <td>(не исп.) KOMUS ТВ-200, 300 мл</td>\n      <td>NaN</td>\n      <td>Не активная</td>\n      <td>Россия</td>\n      <td>NaN</td>\n      <td>0.0</td>\n      <td>шт</td>\n      <td>Архив</td>\n      <td>Архив</td>\n    </tr>\n    <tr>\n      <th>23</th>\n      <td>37.0</td>\n      <td>KOMUS КМ8СМ, 750 мл</td>\n      <td>NaN</td>\n      <td>Новая</td>\n      <td>Россия</td>\n      <td>NaN</td>\n      <td>0.0</td>\n      <td>шт</td>\n      <td>Контейнеры</td>\n      <td>Контейнеры</td>\n    </tr>\n    <tr>\n      <th>24</th>\n      <td>38.0</td>\n      <td>Элтека Бутылка 0.5 л</td>\n      <td>NaN</td>\n      <td>Новая</td>\n      <td>Россия</td>\n      <td>NaN</td>\n      <td>0.0</td>\n      <td>шт</td>\n      <td>Контейнеры</td>\n      <td>Контейнеры</td>\n    </tr>\n    <tr>\n      <th>25</th>\n      <td>39.0</td>\n      <td>Элтека Бутылка 0.9 л</td>\n      <td>NaN</td>\n      <td>Новая</td>\n      <td>Россия</td>\n      <td>NaN</td>\n      <td>0.0</td>\n      <td>шт</td>\n      <td>Контейнеры</td>\n      <td>Контейнеры</td>\n    </tr>\n    <tr>\n      <th>26</th>\n      <td>44.0</td>\n      <td>(уд)Молоко 3.2% Сухиничи</td>\n      <td>NaN</td>\n      <td>Не активная</td>\n      <td>САПК-Молок ООО</td>\n      <td>NaN</td>\n      <td>0.0</td>\n      <td>Шт</td>\n      <td>Архив</td>\n      <td>Архив</td>\n    </tr>\n    <tr>\n      <th>27</th>\n      <td>45.0</td>\n      <td>(уд)Сметана  25% Сухиничи, 200г</td>\n      <td>NaN</td>\n      <td>Не активная</td>\n      <td>САПК-Молок ООО</td>\n      <td>NaN</td>\n      <td>0.0</td>\n      <td>NaN</td>\n      <td>Архив</td>\n      <td>Архив</td>\n    </tr>\n    <tr>\n      <th>28</th>\n      <td>46.0</td>\n      <td>Масло сливочное 82,5%</td>\n      <td>РОССИЯ</td>\n      <td>Не активная</td>\n      <td>САПК-Молок ООО</td>\n      <td>NaN</td>\n      <td>0.0</td>\n      <td>кг</td>\n      <td>Масло</td>\n      <td>Молочная Продукция</td>\n    </tr>\n    <tr>\n      <th>29</th>\n      <td>46.0</td>\n      <td>Масло сливочное 82,5%</td>\n      <td>РОССИЯ</td>\n      <td>Не активная</td>\n      <td>Агрофирма Оптина</td>\n      <td>20.0</td>\n      <td>0.0</td>\n      <td>кг</td>\n      <td>Масло</td>\n      <td>Молочная Продукция</td>\n    </tr>\n  </tbody>\n</table>\n</div>"
     },
     "execution_count": 12,
     "metadata": {},
     "output_type": "execute_result"
    }
   ],
   "source": [
    "quant_goods.head(30)"
   ],
   "metadata": {
    "collapsed": false,
    "pycharm": {
     "name": "#%%\n"
    }
   }
  },
  {
   "cell_type": "code",
   "execution_count": 12,
   "outputs": [],
   "source": [],
   "metadata": {
    "collapsed": false,
    "pycharm": {
     "name": "#%%\n"
    }
   }
  },
  {
   "cell_type": "code",
   "execution_count": 12,
   "outputs": [],
   "source": [],
   "metadata": {
    "collapsed": false,
    "pycharm": {
     "name": "#%%\n"
    }
   }
  },
  {
   "cell_type": "code",
   "execution_count": 13,
   "outputs": [],
   "source": [
    "quant_goods2 = quant_goods[['id_tov','Name_tov','parent_group_name','СрокГодностиДни']].groupby(['id_tov','Name_tov','parent_group_name'], as_index=False)[\"СрокГодностиДни\"].mean()"
   ],
   "metadata": {
    "collapsed": false,
    "pycharm": {
     "name": "#%%\n"
    }
   }
  },
  {
   "cell_type": "code",
   "execution_count": 14,
   "outputs": [
    {
     "data": {
      "text/plain": "   id_tov                         Name_tov parent_group_name  СрокГодностиДни\n0     5.0  (уд)товар ВкусВилл не определен             Архив              NaN",
      "text/html": "<div>\n<style scoped>\n    .dataframe tbody tr th:only-of-type {\n        vertical-align: middle;\n    }\n\n    .dataframe tbody tr th {\n        vertical-align: top;\n    }\n\n    .dataframe thead th {\n        text-align: right;\n    }\n</style>\n<table border=\"1\" class=\"dataframe\">\n  <thead>\n    <tr style=\"text-align: right;\">\n      <th></th>\n      <th>id_tov</th>\n      <th>Name_tov</th>\n      <th>parent_group_name</th>\n      <th>СрокГодностиДни</th>\n    </tr>\n  </thead>\n  <tbody>\n    <tr>\n      <th>0</th>\n      <td>5.0</td>\n      <td>(уд)товар ВкусВилл не определен</td>\n      <td>Архив</td>\n      <td>NaN</td>\n    </tr>\n  </tbody>\n</table>\n</div>"
     },
     "execution_count": 14,
     "metadata": {},
     "output_type": "execute_result"
    }
   ],
   "source": [
    "quant_goods2.head(1)"
   ],
   "metadata": {
    "collapsed": false,
    "pycharm": {
     "name": "#%%\n"
    }
   }
  },
  {
   "cell_type": "code",
   "execution_count": 15,
   "outputs": [],
   "source": [
    "quant_goods2.columns = ['id_tov', 'name_tov', 'name_gr','сроксуток']"
   ],
   "metadata": {
    "collapsed": false,
    "pycharm": {
     "name": "#%%\n"
    }
   }
  },
  {
   "cell_type": "markdown",
   "source": [
    " Считаем допоставки без фильтров по сроку годности"
   ],
   "metadata": {
    "collapsed": false,
    "pycharm": {
     "name": "#%% md\n"
    }
   }
  },
  {
   "cell_type": "code",
   "execution_count": 16,
   "outputs": [],
   "source": [
    "oos_by_shop_3 = oos_by_shop_2.merge(quant_goods2, how='left', on='id_tov',)\n"
   ],
   "metadata": {
    "collapsed": false,
    "pycharm": {
     "name": "#%%\n"
    }
   }
  },
  {
   "cell_type": "code",
   "execution_count": 17,
   "outputs": [],
   "source": [
    "#Удаляем товары по которым нет срока годности и товары типа \"Выдача наличных\"\n",
    "oos_by_shop_3 = oos_by_shop_3[(~oos_by_shop_3['сроксуток'].isnull()) & (oos_by_shop_3['name_gr'] != 'Прочее, служебные товары')& (oos_by_shop_3['name_gr'] != 'Рекламные материалы')& (oos_by_shop_3['name_gr'] != 'Пространство ВкусВилл')]"
   ],
   "metadata": {
    "collapsed": false,
    "pycharm": {
     "name": "#%%\n"
    }
   }
  },
  {
   "cell_type": "code",
   "execution_count": 18,
   "outputs": [
    {
     "data": {
      "text/plain": "      id_tt  id_tov  Friday  Monday  Saturday  Sunday  Thursday  Tuesday  \\\n0     11290      77     0.0     0.0       0.0     0.0       0.0      0.0   \n1     11290      91     0.0     1.0       0.0     0.0       0.0      1.0   \n2     11290     143     0.0     7.0       0.0     1.0       0.0      0.0   \n3     11290     185     0.0     0.0       0.0    11.0       0.0     10.0   \n4     11290     188     0.0     0.0       0.0     0.0       0.0      7.0   \n...     ...     ...     ...     ...       ...     ...       ...      ...   \n4276  15986   67159     0.0     0.0       0.0     1.0       0.0      0.0   \n4277  15986   67188     0.0     0.0       0.0     0.0       0.0      0.0   \n4278  15986   67207     0.0     0.0       0.0     0.0       0.0      0.0   \n4279  15986   67291     0.0     0.0       0.0     1.0       0.0      0.0   \n4280  15986   67451     0.0     0.0       0.0     0.0       0.0      0.0   \n\n      Wednesday  All_Weekdopost  \\\n0           0.0             0.0   \n1           0.0             2.0   \n2           0.0             8.0   \n3           0.0            21.0   \n4           0.0             7.0   \n...         ...             ...   \n4276        1.0             2.0   \n4277        0.0             0.0   \n4278        0.0             0.0   \n4279        0.0             1.0   \n4280        0.0             0.0   \n\n                                             name_tov  \\\n0                                          Ряженка 4%   \n1                           Творог зерненый 4%, 230 г   \n2                                         Сметана 20%   \n3                                           Творог 5%   \n4                                           Творог 9%   \n...                                               ...   \n4276                                     Груша Сербия   \n4277                                Лук зеленый, 50 г   \n4278  Кутабы \"Оригинальные\" (с сулугуни и баклажаном)   \n4279            Люля-кебаб из говядины и свинины вес.   \n4280                 Котлета куриная с гороховым пюре   \n\n                           name_gr     сроксуток  \n0               Молочная Продукция      5.285714  \n1               Молочная Продукция      6.250000  \n2               Молочная Продукция      6.684211  \n3               Молочная Продукция      4.620690  \n4               Молочная Продукция      4.727273  \n...                            ...           ...  \n4276  Овощи. Фрукты. Грибы. Зелень     41.250000  \n4277  Овощи. Фрукты. Грибы. Зелень      5.444444  \n4278                     Кулинария      4.000000  \n4279             Мясная Витрина ВВ  17520.000000  \n4280                     Кулинария      4.000000  \n\n[4262 rows x 13 columns]",
      "text/html": "<div>\n<style scoped>\n    .dataframe tbody tr th:only-of-type {\n        vertical-align: middle;\n    }\n\n    .dataframe tbody tr th {\n        vertical-align: top;\n    }\n\n    .dataframe thead th {\n        text-align: right;\n    }\n</style>\n<table border=\"1\" class=\"dataframe\">\n  <thead>\n    <tr style=\"text-align: right;\">\n      <th></th>\n      <th>id_tt</th>\n      <th>id_tov</th>\n      <th>Friday</th>\n      <th>Monday</th>\n      <th>Saturday</th>\n      <th>Sunday</th>\n      <th>Thursday</th>\n      <th>Tuesday</th>\n      <th>Wednesday</th>\n      <th>All_Weekdopost</th>\n      <th>name_tov</th>\n      <th>name_gr</th>\n      <th>сроксуток</th>\n    </tr>\n  </thead>\n  <tbody>\n    <tr>\n      <th>0</th>\n      <td>11290</td>\n      <td>77</td>\n      <td>0.0</td>\n      <td>0.0</td>\n      <td>0.0</td>\n      <td>0.0</td>\n      <td>0.0</td>\n      <td>0.0</td>\n      <td>0.0</td>\n      <td>0.0</td>\n      <td>Ряженка 4%</td>\n      <td>Молочная Продукция</td>\n      <td>5.285714</td>\n    </tr>\n    <tr>\n      <th>1</th>\n      <td>11290</td>\n      <td>91</td>\n      <td>0.0</td>\n      <td>1.0</td>\n      <td>0.0</td>\n      <td>0.0</td>\n      <td>0.0</td>\n      <td>1.0</td>\n      <td>0.0</td>\n      <td>2.0</td>\n      <td>Творог зерненый 4%, 230 г</td>\n      <td>Молочная Продукция</td>\n      <td>6.250000</td>\n    </tr>\n    <tr>\n      <th>2</th>\n      <td>11290</td>\n      <td>143</td>\n      <td>0.0</td>\n      <td>7.0</td>\n      <td>0.0</td>\n      <td>1.0</td>\n      <td>0.0</td>\n      <td>0.0</td>\n      <td>0.0</td>\n      <td>8.0</td>\n      <td>Сметана 20%</td>\n      <td>Молочная Продукция</td>\n      <td>6.684211</td>\n    </tr>\n    <tr>\n      <th>3</th>\n      <td>11290</td>\n      <td>185</td>\n      <td>0.0</td>\n      <td>0.0</td>\n      <td>0.0</td>\n      <td>11.0</td>\n      <td>0.0</td>\n      <td>10.0</td>\n      <td>0.0</td>\n      <td>21.0</td>\n      <td>Творог 5%</td>\n      <td>Молочная Продукция</td>\n      <td>4.620690</td>\n    </tr>\n    <tr>\n      <th>4</th>\n      <td>11290</td>\n      <td>188</td>\n      <td>0.0</td>\n      <td>0.0</td>\n      <td>0.0</td>\n      <td>0.0</td>\n      <td>0.0</td>\n      <td>7.0</td>\n      <td>0.0</td>\n      <td>7.0</td>\n      <td>Творог 9%</td>\n      <td>Молочная Продукция</td>\n      <td>4.727273</td>\n    </tr>\n    <tr>\n      <th>...</th>\n      <td>...</td>\n      <td>...</td>\n      <td>...</td>\n      <td>...</td>\n      <td>...</td>\n      <td>...</td>\n      <td>...</td>\n      <td>...</td>\n      <td>...</td>\n      <td>...</td>\n      <td>...</td>\n      <td>...</td>\n      <td>...</td>\n    </tr>\n    <tr>\n      <th>4276</th>\n      <td>15986</td>\n      <td>67159</td>\n      <td>0.0</td>\n      <td>0.0</td>\n      <td>0.0</td>\n      <td>1.0</td>\n      <td>0.0</td>\n      <td>0.0</td>\n      <td>1.0</td>\n      <td>2.0</td>\n      <td>Груша Сербия</td>\n      <td>Овощи. Фрукты. Грибы. Зелень</td>\n      <td>41.250000</td>\n    </tr>\n    <tr>\n      <th>4277</th>\n      <td>15986</td>\n      <td>67188</td>\n      <td>0.0</td>\n      <td>0.0</td>\n      <td>0.0</td>\n      <td>0.0</td>\n      <td>0.0</td>\n      <td>0.0</td>\n      <td>0.0</td>\n      <td>0.0</td>\n      <td>Лук зеленый, 50 г</td>\n      <td>Овощи. Фрукты. Грибы. Зелень</td>\n      <td>5.444444</td>\n    </tr>\n    <tr>\n      <th>4278</th>\n      <td>15986</td>\n      <td>67207</td>\n      <td>0.0</td>\n      <td>0.0</td>\n      <td>0.0</td>\n      <td>0.0</td>\n      <td>0.0</td>\n      <td>0.0</td>\n      <td>0.0</td>\n      <td>0.0</td>\n      <td>Кутабы \"Оригинальные\" (с сулугуни и баклажаном)</td>\n      <td>Кулинария</td>\n      <td>4.000000</td>\n    </tr>\n    <tr>\n      <th>4279</th>\n      <td>15986</td>\n      <td>67291</td>\n      <td>0.0</td>\n      <td>0.0</td>\n      <td>0.0</td>\n      <td>1.0</td>\n      <td>0.0</td>\n      <td>0.0</td>\n      <td>0.0</td>\n      <td>1.0</td>\n      <td>Люля-кебаб из говядины и свинины вес.</td>\n      <td>Мясная Витрина ВВ</td>\n      <td>17520.000000</td>\n    </tr>\n    <tr>\n      <th>4280</th>\n      <td>15986</td>\n      <td>67451</td>\n      <td>0.0</td>\n      <td>0.0</td>\n      <td>0.0</td>\n      <td>0.0</td>\n      <td>0.0</td>\n      <td>0.0</td>\n      <td>0.0</td>\n      <td>0.0</td>\n      <td>Котлета куриная с гороховым пюре</td>\n      <td>Кулинария</td>\n      <td>4.000000</td>\n    </tr>\n  </tbody>\n</table>\n<p>4262 rows × 13 columns</p>\n</div>"
     },
     "execution_count": 18,
     "metadata": {},
     "output_type": "execute_result"
    }
   ],
   "source": [
    "oos_by_shop_3"
   ],
   "metadata": {
    "collapsed": false,
    "pycharm": {
     "name": "#%%\n"
    }
   }
  },
  {
   "cell_type": "code",
   "execution_count": 19,
   "outputs": [
    {
     "data": {
      "text/plain": "10543.0"
     },
     "execution_count": 19,
     "metadata": {},
     "output_type": "execute_result"
    }
   ],
   "source": [
    "#Оцениваем объем допоставок без фильтра по сроку годности\n",
    "oos_by_shop_3[['Monday','Tuesday','Wednesday','Thursday','Friday','Saturday','Sunday']].sum(axis = 1).sum(axis = 0)"
   ],
   "metadata": {
    "collapsed": false,
    "pycharm": {
     "name": "#%%\n"
    }
   }
  },
  {
   "cell_type": "code",
   "execution_count": 20,
   "outputs": [
    {
     "data": {
      "text/plain": "                                           name_gr  All_Weekdopost\n0                                         Алкоголь            45.0\n1                                            Архив            21.0\n2                                          Бакалея            22.0\n3                                         ВВА_Вино             0.0\n4                                  Детское питание            13.0\n5                                 Замороженные п/ф            13.0\n6                                             Кафе           263.0\n7                                      Консервация            26.0\n8                                        Кулинария          2712.0\n9                           Кулинария замороженная             5.0\n10                              Медицинские товары             4.0\n11                                     Микромаркет             0.0\n12                              Молочная Продукция          2146.0\n13                                       Мороженое           111.0\n14                               Мясная Витрина ВВ            27.0\n15                      Мясные деликатесы. Колбасы            87.0\n16                      Мясо. Птица. П/ф охл. Яйца           469.0\n17                                         Напитки           247.0\n18                                         Нон-Фуд            14.0\n19                    Овощи. Фрукты. Грибы. Зелень          2066.0\n20                     Подписки на товары и услуги             0.0\n21                              Рыба. Морепродукты            77.0\n22                  Сладости, кондитерские изделия            88.0\n23  Сухофрукты. Сушеные овощи, грибы, ягоды. Орехи             0.0\n24                                            Сыры            52.0\n25                        Торты, пирожные, десерты           331.0\n26                                            Хлеб          1704.0\n27                             Чай и кофе. Проекты             0.0",
      "text/html": "<div>\n<style scoped>\n    .dataframe tbody tr th:only-of-type {\n        vertical-align: middle;\n    }\n\n    .dataframe tbody tr th {\n        vertical-align: top;\n    }\n\n    .dataframe thead th {\n        text-align: right;\n    }\n</style>\n<table border=\"1\" class=\"dataframe\">\n  <thead>\n    <tr style=\"text-align: right;\">\n      <th></th>\n      <th>name_gr</th>\n      <th>All_Weekdopost</th>\n    </tr>\n  </thead>\n  <tbody>\n    <tr>\n      <th>0</th>\n      <td>Алкоголь</td>\n      <td>45.0</td>\n    </tr>\n    <tr>\n      <th>1</th>\n      <td>Архив</td>\n      <td>21.0</td>\n    </tr>\n    <tr>\n      <th>2</th>\n      <td>Бакалея</td>\n      <td>22.0</td>\n    </tr>\n    <tr>\n      <th>3</th>\n      <td>ВВА_Вино</td>\n      <td>0.0</td>\n    </tr>\n    <tr>\n      <th>4</th>\n      <td>Детское питание</td>\n      <td>13.0</td>\n    </tr>\n    <tr>\n      <th>5</th>\n      <td>Замороженные п/ф</td>\n      <td>13.0</td>\n    </tr>\n    <tr>\n      <th>6</th>\n      <td>Кафе</td>\n      <td>263.0</td>\n    </tr>\n    <tr>\n      <th>7</th>\n      <td>Консервация</td>\n      <td>26.0</td>\n    </tr>\n    <tr>\n      <th>8</th>\n      <td>Кулинария</td>\n      <td>2712.0</td>\n    </tr>\n    <tr>\n      <th>9</th>\n      <td>Кулинария замороженная</td>\n      <td>5.0</td>\n    </tr>\n    <tr>\n      <th>10</th>\n      <td>Медицинские товары</td>\n      <td>4.0</td>\n    </tr>\n    <tr>\n      <th>11</th>\n      <td>Микромаркет</td>\n      <td>0.0</td>\n    </tr>\n    <tr>\n      <th>12</th>\n      <td>Молочная Продукция</td>\n      <td>2146.0</td>\n    </tr>\n    <tr>\n      <th>13</th>\n      <td>Мороженое</td>\n      <td>111.0</td>\n    </tr>\n    <tr>\n      <th>14</th>\n      <td>Мясная Витрина ВВ</td>\n      <td>27.0</td>\n    </tr>\n    <tr>\n      <th>15</th>\n      <td>Мясные деликатесы. Колбасы</td>\n      <td>87.0</td>\n    </tr>\n    <tr>\n      <th>16</th>\n      <td>Мясо. Птица. П/ф охл. Яйца</td>\n      <td>469.0</td>\n    </tr>\n    <tr>\n      <th>17</th>\n      <td>Напитки</td>\n      <td>247.0</td>\n    </tr>\n    <tr>\n      <th>18</th>\n      <td>Нон-Фуд</td>\n      <td>14.0</td>\n    </tr>\n    <tr>\n      <th>19</th>\n      <td>Овощи. Фрукты. Грибы. Зелень</td>\n      <td>2066.0</td>\n    </tr>\n    <tr>\n      <th>20</th>\n      <td>Подписки на товары и услуги</td>\n      <td>0.0</td>\n    </tr>\n    <tr>\n      <th>21</th>\n      <td>Рыба. Морепродукты</td>\n      <td>77.0</td>\n    </tr>\n    <tr>\n      <th>22</th>\n      <td>Сладости, кондитерские изделия</td>\n      <td>88.0</td>\n    </tr>\n    <tr>\n      <th>23</th>\n      <td>Сухофрукты. Сушеные овощи, грибы, ягоды. Орехи</td>\n      <td>0.0</td>\n    </tr>\n    <tr>\n      <th>24</th>\n      <td>Сыры</td>\n      <td>52.0</td>\n    </tr>\n    <tr>\n      <th>25</th>\n      <td>Торты, пирожные, десерты</td>\n      <td>331.0</td>\n    </tr>\n    <tr>\n      <th>26</th>\n      <td>Хлеб</td>\n      <td>1704.0</td>\n    </tr>\n    <tr>\n      <th>27</th>\n      <td>Чай и кофе. Проекты</td>\n      <td>0.0</td>\n    </tr>\n  </tbody>\n</table>\n</div>"
     },
     "execution_count": 20,
     "metadata": {},
     "output_type": "execute_result"
    }
   ],
   "source": [
    "#Оцениваем объем допоставок по категориям без фильтра по сроку годности\n",
    "oos_by_shop_3.groupby([\"name_gr\"], as_index=False)[\"All_Weekdopost\"].sum()"
   ],
   "metadata": {
    "collapsed": false,
    "pycharm": {
     "name": "#%%\n"
    }
   }
  },
  {
   "cell_type": "markdown",
   "source": [
    "Учитываем срок годности и приоритетность товаров"
   ],
   "metadata": {
    "collapsed": false,
    "pycharm": {
     "name": "#%% md\n"
    }
   }
  },
  {
   "cell_type": "code",
   "execution_count": 21,
   "outputs": [],
   "source": [
    "conditions = [\n",
    "    (oos_by_shop_3['сроксуток'] <= 2),\n",
    "    (oos_by_shop_3['сроксуток'] > 2) & (oos_by_shop_3['сроксуток'] <= 7),\n",
    "    (oos_by_shop_3['сроксуток'] > 7) & (oos_by_shop_3['сроксуток'] <= 15),\n",
    "    (oos_by_shop_3['сроксуток'] > 15)\n",
    "]"
   ],
   "metadata": {
    "collapsed": false,
    "pycharm": {
     "name": "#%%\n"
    }
   }
  },
  {
   "cell_type": "code",
   "execution_count": 22,
   "outputs": [],
   "source": [
    "values = [4, 3, 2, 1]"
   ],
   "metadata": {
    "collapsed": false,
    "pycharm": {
     "name": "#%%\n"
    }
   }
  },
  {
   "cell_type": "code",
   "execution_count": 23,
   "outputs": [],
   "source": [
    "oos_by_shop_3['tier'] = np.select(conditions, values)"
   ],
   "metadata": {
    "collapsed": false,
    "pycharm": {
     "name": "#%%\n"
    }
   }
  },
  {
   "cell_type": "code",
   "execution_count": 24,
   "outputs": [
    {
     "data": {
      "text/plain": "      id_tt  id_tov  Friday  Monday  Saturday  Sunday  Thursday  Tuesday  \\\n0     11290      77     0.0     0.0       0.0     0.0       0.0      0.0   \n1     11290      91     0.0     1.0       0.0     0.0       0.0      1.0   \n2     11290     143     0.0     7.0       0.0     1.0       0.0      0.0   \n3     11290     185     0.0     0.0       0.0    11.0       0.0     10.0   \n4     11290     188     0.0     0.0       0.0     0.0       0.0      7.0   \n...     ...     ...     ...     ...       ...     ...       ...      ...   \n4276  15986   67159     0.0     0.0       0.0     1.0       0.0      0.0   \n4277  15986   67188     0.0     0.0       0.0     0.0       0.0      0.0   \n4278  15986   67207     0.0     0.0       0.0     0.0       0.0      0.0   \n4279  15986   67291     0.0     0.0       0.0     1.0       0.0      0.0   \n4280  15986   67451     0.0     0.0       0.0     0.0       0.0      0.0   \n\n      Wednesday  All_Weekdopost  \\\n0           0.0             0.0   \n1           0.0             2.0   \n2           0.0             8.0   \n3           0.0            21.0   \n4           0.0             7.0   \n...         ...             ...   \n4276        1.0             2.0   \n4277        0.0             0.0   \n4278        0.0             0.0   \n4279        0.0             1.0   \n4280        0.0             0.0   \n\n                                             name_tov  \\\n0                                          Ряженка 4%   \n1                           Творог зерненый 4%, 230 г   \n2                                         Сметана 20%   \n3                                           Творог 5%   \n4                                           Творог 9%   \n...                                               ...   \n4276                                     Груша Сербия   \n4277                                Лук зеленый, 50 г   \n4278  Кутабы \"Оригинальные\" (с сулугуни и баклажаном)   \n4279            Люля-кебаб из говядины и свинины вес.   \n4280                 Котлета куриная с гороховым пюре   \n\n                           name_gr     сроксуток  tier  \n0               Молочная Продукция      5.285714     3  \n1               Молочная Продукция      6.250000     3  \n2               Молочная Продукция      6.684211     3  \n3               Молочная Продукция      4.620690     3  \n4               Молочная Продукция      4.727273     3  \n...                            ...           ...   ...  \n4276  Овощи. Фрукты. Грибы. Зелень     41.250000     1  \n4277  Овощи. Фрукты. Грибы. Зелень      5.444444     3  \n4278                     Кулинария      4.000000     3  \n4279             Мясная Витрина ВВ  17520.000000     1  \n4280                     Кулинария      4.000000     3  \n\n[4262 rows x 14 columns]",
      "text/html": "<div>\n<style scoped>\n    .dataframe tbody tr th:only-of-type {\n        vertical-align: middle;\n    }\n\n    .dataframe tbody tr th {\n        vertical-align: top;\n    }\n\n    .dataframe thead th {\n        text-align: right;\n    }\n</style>\n<table border=\"1\" class=\"dataframe\">\n  <thead>\n    <tr style=\"text-align: right;\">\n      <th></th>\n      <th>id_tt</th>\n      <th>id_tov</th>\n      <th>Friday</th>\n      <th>Monday</th>\n      <th>Saturday</th>\n      <th>Sunday</th>\n      <th>Thursday</th>\n      <th>Tuesday</th>\n      <th>Wednesday</th>\n      <th>All_Weekdopost</th>\n      <th>name_tov</th>\n      <th>name_gr</th>\n      <th>сроксуток</th>\n      <th>tier</th>\n    </tr>\n  </thead>\n  <tbody>\n    <tr>\n      <th>0</th>\n      <td>11290</td>\n      <td>77</td>\n      <td>0.0</td>\n      <td>0.0</td>\n      <td>0.0</td>\n      <td>0.0</td>\n      <td>0.0</td>\n      <td>0.0</td>\n      <td>0.0</td>\n      <td>0.0</td>\n      <td>Ряженка 4%</td>\n      <td>Молочная Продукция</td>\n      <td>5.285714</td>\n      <td>3</td>\n    </tr>\n    <tr>\n      <th>1</th>\n      <td>11290</td>\n      <td>91</td>\n      <td>0.0</td>\n      <td>1.0</td>\n      <td>0.0</td>\n      <td>0.0</td>\n      <td>0.0</td>\n      <td>1.0</td>\n      <td>0.0</td>\n      <td>2.0</td>\n      <td>Творог зерненый 4%, 230 г</td>\n      <td>Молочная Продукция</td>\n      <td>6.250000</td>\n      <td>3</td>\n    </tr>\n    <tr>\n      <th>2</th>\n      <td>11290</td>\n      <td>143</td>\n      <td>0.0</td>\n      <td>7.0</td>\n      <td>0.0</td>\n      <td>1.0</td>\n      <td>0.0</td>\n      <td>0.0</td>\n      <td>0.0</td>\n      <td>8.0</td>\n      <td>Сметана 20%</td>\n      <td>Молочная Продукция</td>\n      <td>6.684211</td>\n      <td>3</td>\n    </tr>\n    <tr>\n      <th>3</th>\n      <td>11290</td>\n      <td>185</td>\n      <td>0.0</td>\n      <td>0.0</td>\n      <td>0.0</td>\n      <td>11.0</td>\n      <td>0.0</td>\n      <td>10.0</td>\n      <td>0.0</td>\n      <td>21.0</td>\n      <td>Творог 5%</td>\n      <td>Молочная Продукция</td>\n      <td>4.620690</td>\n      <td>3</td>\n    </tr>\n    <tr>\n      <th>4</th>\n      <td>11290</td>\n      <td>188</td>\n      <td>0.0</td>\n      <td>0.0</td>\n      <td>0.0</td>\n      <td>0.0</td>\n      <td>0.0</td>\n      <td>7.0</td>\n      <td>0.0</td>\n      <td>7.0</td>\n      <td>Творог 9%</td>\n      <td>Молочная Продукция</td>\n      <td>4.727273</td>\n      <td>3</td>\n    </tr>\n    <tr>\n      <th>...</th>\n      <td>...</td>\n      <td>...</td>\n      <td>...</td>\n      <td>...</td>\n      <td>...</td>\n      <td>...</td>\n      <td>...</td>\n      <td>...</td>\n      <td>...</td>\n      <td>...</td>\n      <td>...</td>\n      <td>...</td>\n      <td>...</td>\n      <td>...</td>\n    </tr>\n    <tr>\n      <th>4276</th>\n      <td>15986</td>\n      <td>67159</td>\n      <td>0.0</td>\n      <td>0.0</td>\n      <td>0.0</td>\n      <td>1.0</td>\n      <td>0.0</td>\n      <td>0.0</td>\n      <td>1.0</td>\n      <td>2.0</td>\n      <td>Груша Сербия</td>\n      <td>Овощи. Фрукты. Грибы. Зелень</td>\n      <td>41.250000</td>\n      <td>1</td>\n    </tr>\n    <tr>\n      <th>4277</th>\n      <td>15986</td>\n      <td>67188</td>\n      <td>0.0</td>\n      <td>0.0</td>\n      <td>0.0</td>\n      <td>0.0</td>\n      <td>0.0</td>\n      <td>0.0</td>\n      <td>0.0</td>\n      <td>0.0</td>\n      <td>Лук зеленый, 50 г</td>\n      <td>Овощи. Фрукты. Грибы. Зелень</td>\n      <td>5.444444</td>\n      <td>3</td>\n    </tr>\n    <tr>\n      <th>4278</th>\n      <td>15986</td>\n      <td>67207</td>\n      <td>0.0</td>\n      <td>0.0</td>\n      <td>0.0</td>\n      <td>0.0</td>\n      <td>0.0</td>\n      <td>0.0</td>\n      <td>0.0</td>\n      <td>0.0</td>\n      <td>Кутабы \"Оригинальные\" (с сулугуни и баклажаном)</td>\n      <td>Кулинария</td>\n      <td>4.000000</td>\n      <td>3</td>\n    </tr>\n    <tr>\n      <th>4279</th>\n      <td>15986</td>\n      <td>67291</td>\n      <td>0.0</td>\n      <td>0.0</td>\n      <td>0.0</td>\n      <td>1.0</td>\n      <td>0.0</td>\n      <td>0.0</td>\n      <td>0.0</td>\n      <td>1.0</td>\n      <td>Люля-кебаб из говядины и свинины вес.</td>\n      <td>Мясная Витрина ВВ</td>\n      <td>17520.000000</td>\n      <td>1</td>\n    </tr>\n    <tr>\n      <th>4280</th>\n      <td>15986</td>\n      <td>67451</td>\n      <td>0.0</td>\n      <td>0.0</td>\n      <td>0.0</td>\n      <td>0.0</td>\n      <td>0.0</td>\n      <td>0.0</td>\n      <td>0.0</td>\n      <td>0.0</td>\n      <td>Котлета куриная с гороховым пюре</td>\n      <td>Кулинария</td>\n      <td>4.000000</td>\n      <td>3</td>\n    </tr>\n  </tbody>\n</table>\n<p>4262 rows × 14 columns</p>\n</div>"
     },
     "execution_count": 24,
     "metadata": {},
     "output_type": "execute_result"
    }
   ],
   "source": [
    "oos_by_shop_3"
   ],
   "metadata": {
    "collapsed": false,
    "pycharm": {
     "name": "#%%\n"
    }
   }
  },
  {
   "cell_type": "code",
   "execution_count": 25,
   "outputs": [],
   "source": [
    "oos_by_shop_3['tier'].replace(to_replace = 0, value = 7, inplace=True)"
   ],
   "metadata": {
    "collapsed": false,
    "pycharm": {
     "name": "#%%\n"
    }
   }
  },
  {
   "cell_type": "code",
   "execution_count": 26,
   "outputs": [],
   "source": [
    "oos_by_shop_3['popularity'] = 1"
   ],
   "metadata": {
    "collapsed": false,
    "pycharm": {
     "name": "#%%\n"
    }
   }
  },
  {
   "cell_type": "code",
   "execution_count": 27,
   "outputs": [],
   "source": [
    "oos_by_shop_3.loc[oos_by_shop_3['name_gr'] == 'Мороженое', 'popularity'] = 0"
   ],
   "metadata": {
    "collapsed": false,
    "pycharm": {
     "name": "#%%\n"
    }
   }
  },
  {
   "cell_type": "code",
   "execution_count": 28,
   "outputs": [],
   "source": [
    "oos_by_shop_3.loc[oos_by_shop_3['name_tov'] == 'Смузи', 'popularity'] = 0"
   ],
   "metadata": {
    "collapsed": false,
    "pycharm": {
     "name": "#%%\n"
    }
   }
  },
  {
   "cell_type": "code",
   "execution_count": 29,
   "outputs": [],
   "source": [
    "oos_by_shop_3.loc[oos_by_shop_3['name_tov'].str.contains('Ролл'),'popularity'] = 0.5"
   ],
   "metadata": {
    "collapsed": false,
    "pycharm": {
     "name": "#%%\n"
    }
   }
  },
  {
   "cell_type": "code",
   "execution_count": 30,
   "outputs": [],
   "source": [
    "oos_by_shop_3.loc[oos_by_shop_3['name_tov'].str.contains('ролл'),'popularity'] = 0.5"
   ],
   "metadata": {
    "collapsed": false,
    "pycharm": {
     "name": "#%%\n"
    }
   }
  },
  {
   "cell_type": "code",
   "execution_count": 30,
   "outputs": [],
   "source": [],
   "metadata": {
    "collapsed": false,
    "pycharm": {
     "name": "#%%\n"
    }
   }
  },
  {
   "cell_type": "code",
   "execution_count": 30,
   "outputs": [],
   "source": [],
   "metadata": {
    "collapsed": false,
    "pycharm": {
     "name": "#%%\n"
    }
   }
  },
  {
   "cell_type": "code",
   "execution_count": 31,
   "outputs": [
    {
     "data": {
      "text/plain": "      id_tt  id_tov  Friday  Monday  Saturday  Sunday  Thursday  Tuesday  \\\n0     11290      77     0.0     0.0       0.0     0.0       0.0      0.0   \n1     11290      91     0.0     1.0       0.0     0.0       0.0      1.0   \n2     11290     143     0.0     7.0       0.0     1.0       0.0      0.0   \n3     11290     185     0.0     0.0       0.0    11.0       0.0     10.0   \n4     11290     188     0.0     0.0       0.0     0.0       0.0      7.0   \n...     ...     ...     ...     ...       ...     ...       ...      ...   \n4276  15986   67159     0.0     0.0       0.0     1.0       0.0      0.0   \n4277  15986   67188     0.0     0.0       0.0     0.0       0.0      0.0   \n4278  15986   67207     0.0     0.0       0.0     0.0       0.0      0.0   \n4279  15986   67291     0.0     0.0       0.0     1.0       0.0      0.0   \n4280  15986   67451     0.0     0.0       0.0     0.0       0.0      0.0   \n\n      Wednesday  All_Weekdopost  \\\n0           0.0             0.0   \n1           0.0             2.0   \n2           0.0             8.0   \n3           0.0            21.0   \n4           0.0             7.0   \n...         ...             ...   \n4276        1.0             2.0   \n4277        0.0             0.0   \n4278        0.0             0.0   \n4279        0.0             1.0   \n4280        0.0             0.0   \n\n                                             name_tov  \\\n0                                          Ряженка 4%   \n1                           Творог зерненый 4%, 230 г   \n2                                         Сметана 20%   \n3                                           Творог 5%   \n4                                           Творог 9%   \n...                                               ...   \n4276                                     Груша Сербия   \n4277                                Лук зеленый, 50 г   \n4278  Кутабы \"Оригинальные\" (с сулугуни и баклажаном)   \n4279            Люля-кебаб из говядины и свинины вес.   \n4280                 Котлета куриная с гороховым пюре   \n\n                           name_gr     сроксуток  tier  popularity  \n0               Молочная Продукция      5.285714     3         1.0  \n1               Молочная Продукция      6.250000     3         1.0  \n2               Молочная Продукция      6.684211     3         1.0  \n3               Молочная Продукция      4.620690     3         1.0  \n4               Молочная Продукция      4.727273     3         1.0  \n...                            ...           ...   ...         ...  \n4276  Овощи. Фрукты. Грибы. Зелень     41.250000     1         1.0  \n4277  Овощи. Фрукты. Грибы. Зелень      5.444444     3         1.0  \n4278                     Кулинария      4.000000     3         1.0  \n4279             Мясная Витрина ВВ  17520.000000     1         1.0  \n4280                     Кулинария      4.000000     3         1.0  \n\n[4262 rows x 15 columns]",
      "text/html": "<div>\n<style scoped>\n    .dataframe tbody tr th:only-of-type {\n        vertical-align: middle;\n    }\n\n    .dataframe tbody tr th {\n        vertical-align: top;\n    }\n\n    .dataframe thead th {\n        text-align: right;\n    }\n</style>\n<table border=\"1\" class=\"dataframe\">\n  <thead>\n    <tr style=\"text-align: right;\">\n      <th></th>\n      <th>id_tt</th>\n      <th>id_tov</th>\n      <th>Friday</th>\n      <th>Monday</th>\n      <th>Saturday</th>\n      <th>Sunday</th>\n      <th>Thursday</th>\n      <th>Tuesday</th>\n      <th>Wednesday</th>\n      <th>All_Weekdopost</th>\n      <th>name_tov</th>\n      <th>name_gr</th>\n      <th>сроксуток</th>\n      <th>tier</th>\n      <th>popularity</th>\n    </tr>\n  </thead>\n  <tbody>\n    <tr>\n      <th>0</th>\n      <td>11290</td>\n      <td>77</td>\n      <td>0.0</td>\n      <td>0.0</td>\n      <td>0.0</td>\n      <td>0.0</td>\n      <td>0.0</td>\n      <td>0.0</td>\n      <td>0.0</td>\n      <td>0.0</td>\n      <td>Ряженка 4%</td>\n      <td>Молочная Продукция</td>\n      <td>5.285714</td>\n      <td>3</td>\n      <td>1.0</td>\n    </tr>\n    <tr>\n      <th>1</th>\n      <td>11290</td>\n      <td>91</td>\n      <td>0.0</td>\n      <td>1.0</td>\n      <td>0.0</td>\n      <td>0.0</td>\n      <td>0.0</td>\n      <td>1.0</td>\n      <td>0.0</td>\n      <td>2.0</td>\n      <td>Творог зерненый 4%, 230 г</td>\n      <td>Молочная Продукция</td>\n      <td>6.250000</td>\n      <td>3</td>\n      <td>1.0</td>\n    </tr>\n    <tr>\n      <th>2</th>\n      <td>11290</td>\n      <td>143</td>\n      <td>0.0</td>\n      <td>7.0</td>\n      <td>0.0</td>\n      <td>1.0</td>\n      <td>0.0</td>\n      <td>0.0</td>\n      <td>0.0</td>\n      <td>8.0</td>\n      <td>Сметана 20%</td>\n      <td>Молочная Продукция</td>\n      <td>6.684211</td>\n      <td>3</td>\n      <td>1.0</td>\n    </tr>\n    <tr>\n      <th>3</th>\n      <td>11290</td>\n      <td>185</td>\n      <td>0.0</td>\n      <td>0.0</td>\n      <td>0.0</td>\n      <td>11.0</td>\n      <td>0.0</td>\n      <td>10.0</td>\n      <td>0.0</td>\n      <td>21.0</td>\n      <td>Творог 5%</td>\n      <td>Молочная Продукция</td>\n      <td>4.620690</td>\n      <td>3</td>\n      <td>1.0</td>\n    </tr>\n    <tr>\n      <th>4</th>\n      <td>11290</td>\n      <td>188</td>\n      <td>0.0</td>\n      <td>0.0</td>\n      <td>0.0</td>\n      <td>0.0</td>\n      <td>0.0</td>\n      <td>7.0</td>\n      <td>0.0</td>\n      <td>7.0</td>\n      <td>Творог 9%</td>\n      <td>Молочная Продукция</td>\n      <td>4.727273</td>\n      <td>3</td>\n      <td>1.0</td>\n    </tr>\n    <tr>\n      <th>...</th>\n      <td>...</td>\n      <td>...</td>\n      <td>...</td>\n      <td>...</td>\n      <td>...</td>\n      <td>...</td>\n      <td>...</td>\n      <td>...</td>\n      <td>...</td>\n      <td>...</td>\n      <td>...</td>\n      <td>...</td>\n      <td>...</td>\n      <td>...</td>\n      <td>...</td>\n    </tr>\n    <tr>\n      <th>4276</th>\n      <td>15986</td>\n      <td>67159</td>\n      <td>0.0</td>\n      <td>0.0</td>\n      <td>0.0</td>\n      <td>1.0</td>\n      <td>0.0</td>\n      <td>0.0</td>\n      <td>1.0</td>\n      <td>2.0</td>\n      <td>Груша Сербия</td>\n      <td>Овощи. Фрукты. Грибы. Зелень</td>\n      <td>41.250000</td>\n      <td>1</td>\n      <td>1.0</td>\n    </tr>\n    <tr>\n      <th>4277</th>\n      <td>15986</td>\n      <td>67188</td>\n      <td>0.0</td>\n      <td>0.0</td>\n      <td>0.0</td>\n      <td>0.0</td>\n      <td>0.0</td>\n      <td>0.0</td>\n      <td>0.0</td>\n      <td>0.0</td>\n      <td>Лук зеленый, 50 г</td>\n      <td>Овощи. Фрукты. Грибы. Зелень</td>\n      <td>5.444444</td>\n      <td>3</td>\n      <td>1.0</td>\n    </tr>\n    <tr>\n      <th>4278</th>\n      <td>15986</td>\n      <td>67207</td>\n      <td>0.0</td>\n      <td>0.0</td>\n      <td>0.0</td>\n      <td>0.0</td>\n      <td>0.0</td>\n      <td>0.0</td>\n      <td>0.0</td>\n      <td>0.0</td>\n      <td>Кутабы \"Оригинальные\" (с сулугуни и баклажаном)</td>\n      <td>Кулинария</td>\n      <td>4.000000</td>\n      <td>3</td>\n      <td>1.0</td>\n    </tr>\n    <tr>\n      <th>4279</th>\n      <td>15986</td>\n      <td>67291</td>\n      <td>0.0</td>\n      <td>0.0</td>\n      <td>0.0</td>\n      <td>1.0</td>\n      <td>0.0</td>\n      <td>0.0</td>\n      <td>0.0</td>\n      <td>1.0</td>\n      <td>Люля-кебаб из говядины и свинины вес.</td>\n      <td>Мясная Витрина ВВ</td>\n      <td>17520.000000</td>\n      <td>1</td>\n      <td>1.0</td>\n    </tr>\n    <tr>\n      <th>4280</th>\n      <td>15986</td>\n      <td>67451</td>\n      <td>0.0</td>\n      <td>0.0</td>\n      <td>0.0</td>\n      <td>0.0</td>\n      <td>0.0</td>\n      <td>0.0</td>\n      <td>0.0</td>\n      <td>0.0</td>\n      <td>Котлета куриная с гороховым пюре</td>\n      <td>Кулинария</td>\n      <td>4.000000</td>\n      <td>3</td>\n      <td>1.0</td>\n    </tr>\n  </tbody>\n</table>\n<p>4262 rows × 15 columns</p>\n</div>"
     },
     "execution_count": 31,
     "metadata": {},
     "output_type": "execute_result"
    }
   ],
   "source": [
    "oos_by_shop_3"
   ],
   "metadata": {
    "collapsed": false,
    "pycharm": {
     "name": "#%%\n"
    }
   }
  },
  {
   "cell_type": "code",
   "execution_count": 32,
   "outputs": [],
   "source": [
    "for l in ['Monday','Tuesday','Wednesday','Thursday','Friday','Saturday','Sunday']:\n",
    "    oos_by_shop_3[l] = oos_by_shop_3[l]*oos_by_shop_3['popularity']/oos_by_shop_3['tier']"
   ],
   "metadata": {
    "collapsed": false,
    "pycharm": {
     "name": "#%%\n"
    }
   }
  },
  {
   "cell_type": "markdown",
   "source": [],
   "metadata": {
    "collapsed": false,
    "pycharm": {
     "name": "#%% md\n"
    }
   }
  },
  {
   "cell_type": "code",
   "execution_count": 33,
   "outputs": [],
   "source": [
    "oos_by_shop_3 = oos_by_shop_3.round({'Monday':0,'Tuesday':0,'Tuesday':0,'Wednesday':0,'Thursday':0,'Friday':0,'Saturday':0,'Sunday':0})\n"
   ],
   "metadata": {
    "collapsed": false,
    "pycharm": {
     "name": "#%%\n"
    }
   }
  },
  {
   "cell_type": "code",
   "execution_count": 34,
   "outputs": [],
   "source": [
    "oos_by_shop_3['All_Weekdopost'] = oos_by_shop_3[['Monday','Tuesday','Wednesday','Thursday','Friday','Saturday','Sunday']].sum(axis = 1)\n"
   ],
   "metadata": {
    "collapsed": false,
    "pycharm": {
     "name": "#%%\n"
    }
   }
  },
  {
   "cell_type": "code",
   "execution_count": 35,
   "outputs": [],
   "source": [
    "oos_by_shop_3 = oos_by_shop_3[oos_by_shop_3['All_Weekdopost'] > 0]"
   ],
   "metadata": {
    "collapsed": false,
    "pycharm": {
     "name": "#%%\n"
    }
   }
  },
  {
   "cell_type": "code",
   "execution_count": 36,
   "outputs": [
    {
     "data": {
      "text/plain": "4701.0"
     },
     "execution_count": 36,
     "metadata": {},
     "output_type": "execute_result"
    }
   ],
   "source": [
    "oos_by_shop_3['All_Weekdopost'].sum()"
   ],
   "metadata": {
    "collapsed": false,
    "pycharm": {
     "name": "#%%\n"
    }
   }
  },
  {
   "cell_type": "code",
   "execution_count": 37,
   "outputs": [
    {
     "data": {
      "text/plain": "                           name_gr  All_Weekdopost\n0                         Алкоголь            45.0\n1                            Архив            12.0\n2                          Бакалея            22.0\n3                  Детское питание            13.0\n4                 Замороженные п/ф            13.0\n5                             Кафе            77.0\n6                      Консервация            17.0\n7                        Кулинария           606.0\n8           Кулинария замороженная             5.0\n9               Медицинские товары             4.0\n10              Молочная Продукция           727.0\n11               Мясная Витрина ВВ             6.0\n12      Мясные деликатесы. Колбасы            50.0\n13      Мясо. Птица. П/ф охл. Яйца           183.0\n14                         Напитки           247.0\n15                         Нон-Фуд            14.0\n16    Овощи. Фрукты. Грибы. Зелень          1924.0\n17              Рыба. Морепродукты            36.0\n18  Сладости, кондитерские изделия            50.0\n19                            Сыры            37.0\n20        Торты, пирожные, десерты            60.0\n21                            Хлеб           553.0",
      "text/html": "<div>\n<style scoped>\n    .dataframe tbody tr th:only-of-type {\n        vertical-align: middle;\n    }\n\n    .dataframe tbody tr th {\n        vertical-align: top;\n    }\n\n    .dataframe thead th {\n        text-align: right;\n    }\n</style>\n<table border=\"1\" class=\"dataframe\">\n  <thead>\n    <tr style=\"text-align: right;\">\n      <th></th>\n      <th>name_gr</th>\n      <th>All_Weekdopost</th>\n    </tr>\n  </thead>\n  <tbody>\n    <tr>\n      <th>0</th>\n      <td>Алкоголь</td>\n      <td>45.0</td>\n    </tr>\n    <tr>\n      <th>1</th>\n      <td>Архив</td>\n      <td>12.0</td>\n    </tr>\n    <tr>\n      <th>2</th>\n      <td>Бакалея</td>\n      <td>22.0</td>\n    </tr>\n    <tr>\n      <th>3</th>\n      <td>Детское питание</td>\n      <td>13.0</td>\n    </tr>\n    <tr>\n      <th>4</th>\n      <td>Замороженные п/ф</td>\n      <td>13.0</td>\n    </tr>\n    <tr>\n      <th>5</th>\n      <td>Кафе</td>\n      <td>77.0</td>\n    </tr>\n    <tr>\n      <th>6</th>\n      <td>Консервация</td>\n      <td>17.0</td>\n    </tr>\n    <tr>\n      <th>7</th>\n      <td>Кулинария</td>\n      <td>606.0</td>\n    </tr>\n    <tr>\n      <th>8</th>\n      <td>Кулинария замороженная</td>\n      <td>5.0</td>\n    </tr>\n    <tr>\n      <th>9</th>\n      <td>Медицинские товары</td>\n      <td>4.0</td>\n    </tr>\n    <tr>\n      <th>10</th>\n      <td>Молочная Продукция</td>\n      <td>727.0</td>\n    </tr>\n    <tr>\n      <th>11</th>\n      <td>Мясная Витрина ВВ</td>\n      <td>6.0</td>\n    </tr>\n    <tr>\n      <th>12</th>\n      <td>Мясные деликатесы. Колбасы</td>\n      <td>50.0</td>\n    </tr>\n    <tr>\n      <th>13</th>\n      <td>Мясо. Птица. П/ф охл. Яйца</td>\n      <td>183.0</td>\n    </tr>\n    <tr>\n      <th>14</th>\n      <td>Напитки</td>\n      <td>247.0</td>\n    </tr>\n    <tr>\n      <th>15</th>\n      <td>Нон-Фуд</td>\n      <td>14.0</td>\n    </tr>\n    <tr>\n      <th>16</th>\n      <td>Овощи. Фрукты. Грибы. Зелень</td>\n      <td>1924.0</td>\n    </tr>\n    <tr>\n      <th>17</th>\n      <td>Рыба. Морепродукты</td>\n      <td>36.0</td>\n    </tr>\n    <tr>\n      <th>18</th>\n      <td>Сладости, кондитерские изделия</td>\n      <td>50.0</td>\n    </tr>\n    <tr>\n      <th>19</th>\n      <td>Сыры</td>\n      <td>37.0</td>\n    </tr>\n    <tr>\n      <th>20</th>\n      <td>Торты, пирожные, десерты</td>\n      <td>60.0</td>\n    </tr>\n    <tr>\n      <th>21</th>\n      <td>Хлеб</td>\n      <td>553.0</td>\n    </tr>\n  </tbody>\n</table>\n</div>"
     },
     "execution_count": 37,
     "metadata": {},
     "output_type": "execute_result"
    }
   ],
   "source": [
    "#Оцениваем объем допоставок по категориям c фильтрjv по сроку годности\n",
    "oos_by_shop_3.groupby([\"name_gr\"], as_index=False)[\"All_Weekdopost\"].sum()"
   ],
   "metadata": {
    "collapsed": false,
    "pycharm": {
     "name": "#%%\n"
    }
   }
  },
  {
   "cell_type": "markdown",
   "source": [
    "Считаем на сколько денег будет эта допоставка"
   ],
   "metadata": {
    "collapsed": false,
    "pycharm": {
     "name": "#%% md\n"
    }
   }
  },
  {
   "cell_type": "code",
   "execution_count": 37,
   "outputs": [],
   "source": [],
   "metadata": {
    "collapsed": false,
    "pycharm": {
     "name": "#%%\n"
    }
   }
  },
  {
   "cell_type": "code",
   "execution_count": 38,
   "outputs": [],
   "source": [
    "oos_by_shop_4 = oos_by_shop_3.merge(df_price[['id_tov','Price_retail']], how='left', on='id_tov',)"
   ],
   "metadata": {
    "collapsed": false,
    "pycharm": {
     "name": "#%%\n"
    }
   }
  },
  {
   "cell_type": "code",
   "execution_count": 39,
   "outputs": [
    {
     "data": {
      "text/plain": "   id_tt  id_tov  Friday  Monday  Saturday  Sunday  Thursday  Tuesday  \\\n0  11290     143     0.0     2.0       0.0     0.0       0.0      0.0   \n1  11290     185     0.0     0.0       0.0     4.0       0.0      3.0   \n\n   Wednesday  All_Weekdopost     name_tov             name_gr  сроксуток  \\\n0        0.0             2.0  Сметана 20%  Молочная Продукция   6.684211   \n1        0.0             7.0    Творог 5%  Молочная Продукция   4.620690   \n\n   tier  popularity  Price_retail  \n0     3         1.0    126.363636  \n1     3         1.0    150.000000  ",
      "text/html": "<div>\n<style scoped>\n    .dataframe tbody tr th:only-of-type {\n        vertical-align: middle;\n    }\n\n    .dataframe tbody tr th {\n        vertical-align: top;\n    }\n\n    .dataframe thead th {\n        text-align: right;\n    }\n</style>\n<table border=\"1\" class=\"dataframe\">\n  <thead>\n    <tr style=\"text-align: right;\">\n      <th></th>\n      <th>id_tt</th>\n      <th>id_tov</th>\n      <th>Friday</th>\n      <th>Monday</th>\n      <th>Saturday</th>\n      <th>Sunday</th>\n      <th>Thursday</th>\n      <th>Tuesday</th>\n      <th>Wednesday</th>\n      <th>All_Weekdopost</th>\n      <th>name_tov</th>\n      <th>name_gr</th>\n      <th>сроксуток</th>\n      <th>tier</th>\n      <th>popularity</th>\n      <th>Price_retail</th>\n    </tr>\n  </thead>\n  <tbody>\n    <tr>\n      <th>0</th>\n      <td>11290</td>\n      <td>143</td>\n      <td>0.0</td>\n      <td>2.0</td>\n      <td>0.0</td>\n      <td>0.0</td>\n      <td>0.0</td>\n      <td>0.0</td>\n      <td>0.0</td>\n      <td>2.0</td>\n      <td>Сметана 20%</td>\n      <td>Молочная Продукция</td>\n      <td>6.684211</td>\n      <td>3</td>\n      <td>1.0</td>\n      <td>126.363636</td>\n    </tr>\n    <tr>\n      <th>1</th>\n      <td>11290</td>\n      <td>185</td>\n      <td>0.0</td>\n      <td>0.0</td>\n      <td>0.0</td>\n      <td>4.0</td>\n      <td>0.0</td>\n      <td>3.0</td>\n      <td>0.0</td>\n      <td>7.0</td>\n      <td>Творог 5%</td>\n      <td>Молочная Продукция</td>\n      <td>4.620690</td>\n      <td>3</td>\n      <td>1.0</td>\n      <td>150.000000</td>\n    </tr>\n  </tbody>\n</table>\n</div>"
     },
     "execution_count": 39,
     "metadata": {},
     "output_type": "execute_result"
    }
   ],
   "source": [
    "oos_by_shop_4.head(2)"
   ],
   "metadata": {
    "collapsed": false,
    "pycharm": {
     "name": "#%%\n"
    }
   }
  },
  {
   "cell_type": "code",
   "execution_count": 40,
   "outputs": [],
   "source": [
    "oos_by_shop_4['overal_sum'] = oos_by_shop_4['Price_retail']* oos_by_shop_4['All_Weekdopost']"
   ],
   "metadata": {
    "collapsed": false,
    "pycharm": {
     "name": "#%%\n"
    }
   }
  },
  {
   "cell_type": "code",
   "execution_count": 41,
   "outputs": [
    {
     "data": {
      "text/plain": "   id_tt  id_tov  Friday  Monday  Saturday  Sunday  Thursday  Tuesday  \\\n0  11290     143     0.0     2.0       0.0     0.0       0.0      0.0   \n1  11290     185     0.0     0.0       0.0     4.0       0.0      3.0   \n\n   Wednesday  All_Weekdopost     name_tov             name_gr  сроксуток  \\\n0        0.0             2.0  Сметана 20%  Молочная Продукция   6.684211   \n1        0.0             7.0    Творог 5%  Молочная Продукция   4.620690   \n\n   tier  popularity  Price_retail   overal_sum  \n0     3         1.0    126.363636   252.727273  \n1     3         1.0    150.000000  1050.000000  ",
      "text/html": "<div>\n<style scoped>\n    .dataframe tbody tr th:only-of-type {\n        vertical-align: middle;\n    }\n\n    .dataframe tbody tr th {\n        vertical-align: top;\n    }\n\n    .dataframe thead th {\n        text-align: right;\n    }\n</style>\n<table border=\"1\" class=\"dataframe\">\n  <thead>\n    <tr style=\"text-align: right;\">\n      <th></th>\n      <th>id_tt</th>\n      <th>id_tov</th>\n      <th>Friday</th>\n      <th>Monday</th>\n      <th>Saturday</th>\n      <th>Sunday</th>\n      <th>Thursday</th>\n      <th>Tuesday</th>\n      <th>Wednesday</th>\n      <th>All_Weekdopost</th>\n      <th>name_tov</th>\n      <th>name_gr</th>\n      <th>сроксуток</th>\n      <th>tier</th>\n      <th>popularity</th>\n      <th>Price_retail</th>\n      <th>overal_sum</th>\n    </tr>\n  </thead>\n  <tbody>\n    <tr>\n      <th>0</th>\n      <td>11290</td>\n      <td>143</td>\n      <td>0.0</td>\n      <td>2.0</td>\n      <td>0.0</td>\n      <td>0.0</td>\n      <td>0.0</td>\n      <td>0.0</td>\n      <td>0.0</td>\n      <td>2.0</td>\n      <td>Сметана 20%</td>\n      <td>Молочная Продукция</td>\n      <td>6.684211</td>\n      <td>3</td>\n      <td>1.0</td>\n      <td>126.363636</td>\n      <td>252.727273</td>\n    </tr>\n    <tr>\n      <th>1</th>\n      <td>11290</td>\n      <td>185</td>\n      <td>0.0</td>\n      <td>0.0</td>\n      <td>0.0</td>\n      <td>4.0</td>\n      <td>0.0</td>\n      <td>3.0</td>\n      <td>0.0</td>\n      <td>7.0</td>\n      <td>Творог 5%</td>\n      <td>Молочная Продукция</td>\n      <td>4.620690</td>\n      <td>3</td>\n      <td>1.0</td>\n      <td>150.000000</td>\n      <td>1050.000000</td>\n    </tr>\n  </tbody>\n</table>\n</div>"
     },
     "execution_count": 41,
     "metadata": {},
     "output_type": "execute_result"
    }
   ],
   "source": [
    "oos_by_shop_4.head(2)"
   ],
   "metadata": {
    "collapsed": false,
    "pycharm": {
     "name": "#%%\n"
    }
   }
  },
  {
   "cell_type": "code",
   "execution_count": 42,
   "outputs": [
    {
     "data": {
      "text/plain": "425564.02660871943"
     },
     "execution_count": 42,
     "metadata": {},
     "output_type": "execute_result"
    }
   ],
   "source": [
    "\n",
    "oos_by_shop_4['overal_sum'].sum()"
   ],
   "metadata": {
    "collapsed": false,
    "pycharm": {
     "name": "#%%\n"
    }
   }
  },
  {
   "cell_type": "code",
   "execution_count": 43,
   "outputs": [
    {
     "data": {
      "text/plain": "                           name_gr  overal_sum\n0                         Алкоголь      3549.0\n1                            Архив       579.0\n2                          Бакалея      1381.0\n3                  Детское питание       679.0\n4                 Замороженные п/ф      2737.0\n5                             Кафе      6911.0\n6                      Консервация      1202.0\n7                        Кулинария     93409.0\n8           Кулинария замороженная       873.0\n9               Медицинские товары       167.0\n10              Молочная Продукция     54963.0\n11               Мясная Витрина ВВ         0.0\n12      Мясные деликатесы. Колбасы      8031.0\n13      Мясо. Птица. П/ф охл. Яйца     30986.0\n14                         Напитки     12257.0\n15                         Нон-Фуд      1302.0\n16    Овощи. Фрукты. Грибы. Зелень    149684.0\n17              Рыба. Морепродукты      5611.0\n18  Сладости, кондитерские изделия      4311.0\n19                            Сыры      5323.0\n20        Торты, пирожные, десерты      9367.0\n21                            Хлеб     32241.0",
      "text/html": "<div>\n<style scoped>\n    .dataframe tbody tr th:only-of-type {\n        vertical-align: middle;\n    }\n\n    .dataframe tbody tr th {\n        vertical-align: top;\n    }\n\n    .dataframe thead th {\n        text-align: right;\n    }\n</style>\n<table border=\"1\" class=\"dataframe\">\n  <thead>\n    <tr style=\"text-align: right;\">\n      <th></th>\n      <th>name_gr</th>\n      <th>overal_sum</th>\n    </tr>\n  </thead>\n  <tbody>\n    <tr>\n      <th>0</th>\n      <td>Алкоголь</td>\n      <td>3549.0</td>\n    </tr>\n    <tr>\n      <th>1</th>\n      <td>Архив</td>\n      <td>579.0</td>\n    </tr>\n    <tr>\n      <th>2</th>\n      <td>Бакалея</td>\n      <td>1381.0</td>\n    </tr>\n    <tr>\n      <th>3</th>\n      <td>Детское питание</td>\n      <td>679.0</td>\n    </tr>\n    <tr>\n      <th>4</th>\n      <td>Замороженные п/ф</td>\n      <td>2737.0</td>\n    </tr>\n    <tr>\n      <th>5</th>\n      <td>Кафе</td>\n      <td>6911.0</td>\n    </tr>\n    <tr>\n      <th>6</th>\n      <td>Консервация</td>\n      <td>1202.0</td>\n    </tr>\n    <tr>\n      <th>7</th>\n      <td>Кулинария</td>\n      <td>93409.0</td>\n    </tr>\n    <tr>\n      <th>8</th>\n      <td>Кулинария замороженная</td>\n      <td>873.0</td>\n    </tr>\n    <tr>\n      <th>9</th>\n      <td>Медицинские товары</td>\n      <td>167.0</td>\n    </tr>\n    <tr>\n      <th>10</th>\n      <td>Молочная Продукция</td>\n      <td>54963.0</td>\n    </tr>\n    <tr>\n      <th>11</th>\n      <td>Мясная Витрина ВВ</td>\n      <td>0.0</td>\n    </tr>\n    <tr>\n      <th>12</th>\n      <td>Мясные деликатесы. Колбасы</td>\n      <td>8031.0</td>\n    </tr>\n    <tr>\n      <th>13</th>\n      <td>Мясо. Птица. П/ф охл. Яйца</td>\n      <td>30986.0</td>\n    </tr>\n    <tr>\n      <th>14</th>\n      <td>Напитки</td>\n      <td>12257.0</td>\n    </tr>\n    <tr>\n      <th>15</th>\n      <td>Нон-Фуд</td>\n      <td>1302.0</td>\n    </tr>\n    <tr>\n      <th>16</th>\n      <td>Овощи. Фрукты. Грибы. Зелень</td>\n      <td>149684.0</td>\n    </tr>\n    <tr>\n      <th>17</th>\n      <td>Рыба. Морепродукты</td>\n      <td>5611.0</td>\n    </tr>\n    <tr>\n      <th>18</th>\n      <td>Сладости, кондитерские изделия</td>\n      <td>4311.0</td>\n    </tr>\n    <tr>\n      <th>19</th>\n      <td>Сыры</td>\n      <td>5323.0</td>\n    </tr>\n    <tr>\n      <th>20</th>\n      <td>Торты, пирожные, десерты</td>\n      <td>9367.0</td>\n    </tr>\n    <tr>\n      <th>21</th>\n      <td>Хлеб</td>\n      <td>32241.0</td>\n    </tr>\n  </tbody>\n</table>\n</div>"
     },
     "execution_count": 43,
     "metadata": {},
     "output_type": "execute_result"
    }
   ],
   "source": [
    "oos_by_shop_4[[\"name_gr\",\"overal_sum\"]].groupby([\"name_gr\"], as_index=False)[\"overal_sum\"].sum().round()"
   ],
   "metadata": {
    "collapsed": false,
    "pycharm": {
     "name": "#%%\n"
    }
   }
  },
  {
   "cell_type": "code",
   "execution_count": 44,
   "outputs": [
    {
     "data": {
      "text/plain": "      id_tt  id_tov  Friday  Monday  Saturday  Sunday  Thursday  Tuesday  \\\n0     11290     143     0.0     2.0       0.0     0.0       0.0      0.0   \n1     11290     185     0.0     0.0       0.0     4.0       0.0      3.0   \n2     11290     188     0.0     0.0       0.0     0.0       0.0      2.0   \n3     11290     272     0.0     0.0       0.0     1.0       0.0      0.0   \n4     11290     273     0.0     0.0       0.0     0.0       0.0      0.0   \n...     ...     ...     ...     ...       ...     ...       ...      ...   \n1887  15986   66108     0.0     0.0       0.0     0.0       0.0      0.0   \n1888  15986   66444     0.0     0.0       1.0     0.0       0.0      0.0   \n1889  15986   66445     0.0     2.0       2.0     0.0       0.0      0.0   \n1890  15986   67159     0.0     0.0       0.0     1.0       0.0      0.0   \n1891  15986   67291     0.0     0.0       0.0     1.0       0.0      0.0   \n\n      Wednesday  All_Weekdopost                                  name_tov  \\\n0           0.0             2.0                               Сметана 20%   \n1           0.0             7.0                                 Творог 5%   \n2           0.0             2.0                                 Творог 9%   \n3           0.0             1.0     Бифилайф детский без доб. сахара 2,9%   \n4           1.0             1.0                         Творог детский 5%   \n...         ...             ...                                       ...   \n1887        1.0             1.0                             Груша молодая   \n1888        0.0             1.0  Напиток \"Каркаде\" с черноплодной рябиной   \n1889        0.0             4.0                Лимонад \"Мандарин\", 300 мл   \n1890        1.0             2.0                              Груша Сербия   \n1891        0.0             1.0     Люля-кебаб из говядины и свинины вес.   \n\n                           name_gr     сроксуток  tier  popularity  \\\n0               Молочная Продукция      6.684211     3         1.0   \n1               Молочная Продукция      4.620690     3         1.0   \n2               Молочная Продукция      4.727273     3         1.0   \n3               Молочная Продукция      7.000000     3         1.0   \n4               Молочная Продукция      6.500000     3         1.0   \n...                            ...           ...   ...         ...   \n1887  Овощи. Фрукты. Грибы. Зелень     26.250000     1         1.0   \n1888                       Напитки     30.000000     1         1.0   \n1889                       Напитки     30.000000     1         1.0   \n1890  Овощи. Фрукты. Грибы. Зелень     41.250000     1         1.0   \n1891             Мясная Витрина ВВ  17520.000000     1         1.0   \n\n      Price_retail   overal_sum     n                                adress  \\\n0       126.363636   252.727273  1020        Москва ул. Истринская д.10 к.1   \n1       150.000000  1050.000000  1020        Москва ул. Истринская д.10 к.1   \n2       160.000000   320.000000  1020        Москва ул. Истринская д.10 к.1   \n3        38.181818    38.181818  1020        Москва ул. Истринская д.10 к.1   \n4        36.363636    36.363636  1020        Москва ул. Истринская д.10 к.1   \n...            ...          ...   ...                                   ...   \n1887           NaN          NaN  5673  Москва ул. Кастанаевская, д. 42 к. 2   \n1888           NaN          NaN  5673  Москва ул. Кастанаевская, д. 42 к. 2   \n1889           NaN          NaN  5673  Москва ул. Кастанаевская, д. 42 к. 2   \n1890           NaN          NaN  5673  Москва ул. Кастанаевская, д. 42 к. 2   \n1891           NaN          NaN  5673  Москва ул. Кастанаевская, д. 42 к. 2   \n\n                    name_TT  \n0        1020М_Истринская10  \n1        1020М_Истринская10  \n2        1020М_Истринская10  \n3        1020М_Истринская10  \n4        1020М_Истринская10  \n...                     ...  \n1887  5673М_Кастанаевская42  \n1888  5673М_Кастанаевская42  \n1889  5673М_Кастанаевская42  \n1890  5673М_Кастанаевская42  \n1891  5673М_Кастанаевская42  \n\n[1892 rows x 20 columns]",
      "text/html": "<div>\n<style scoped>\n    .dataframe tbody tr th:only-of-type {\n        vertical-align: middle;\n    }\n\n    .dataframe tbody tr th {\n        vertical-align: top;\n    }\n\n    .dataframe thead th {\n        text-align: right;\n    }\n</style>\n<table border=\"1\" class=\"dataframe\">\n  <thead>\n    <tr style=\"text-align: right;\">\n      <th></th>\n      <th>id_tt</th>\n      <th>id_tov</th>\n      <th>Friday</th>\n      <th>Monday</th>\n      <th>Saturday</th>\n      <th>Sunday</th>\n      <th>Thursday</th>\n      <th>Tuesday</th>\n      <th>Wednesday</th>\n      <th>All_Weekdopost</th>\n      <th>name_tov</th>\n      <th>name_gr</th>\n      <th>сроксуток</th>\n      <th>tier</th>\n      <th>popularity</th>\n      <th>Price_retail</th>\n      <th>overal_sum</th>\n      <th>n</th>\n      <th>adress</th>\n      <th>name_TT</th>\n    </tr>\n  </thead>\n  <tbody>\n    <tr>\n      <th>0</th>\n      <td>11290</td>\n      <td>143</td>\n      <td>0.0</td>\n      <td>2.0</td>\n      <td>0.0</td>\n      <td>0.0</td>\n      <td>0.0</td>\n      <td>0.0</td>\n      <td>0.0</td>\n      <td>2.0</td>\n      <td>Сметана 20%</td>\n      <td>Молочная Продукция</td>\n      <td>6.684211</td>\n      <td>3</td>\n      <td>1.0</td>\n      <td>126.363636</td>\n      <td>252.727273</td>\n      <td>1020</td>\n      <td>Москва ул. Истринская д.10 к.1</td>\n      <td>1020М_Истринская10</td>\n    </tr>\n    <tr>\n      <th>1</th>\n      <td>11290</td>\n      <td>185</td>\n      <td>0.0</td>\n      <td>0.0</td>\n      <td>0.0</td>\n      <td>4.0</td>\n      <td>0.0</td>\n      <td>3.0</td>\n      <td>0.0</td>\n      <td>7.0</td>\n      <td>Творог 5%</td>\n      <td>Молочная Продукция</td>\n      <td>4.620690</td>\n      <td>3</td>\n      <td>1.0</td>\n      <td>150.000000</td>\n      <td>1050.000000</td>\n      <td>1020</td>\n      <td>Москва ул. Истринская д.10 к.1</td>\n      <td>1020М_Истринская10</td>\n    </tr>\n    <tr>\n      <th>2</th>\n      <td>11290</td>\n      <td>188</td>\n      <td>0.0</td>\n      <td>0.0</td>\n      <td>0.0</td>\n      <td>0.0</td>\n      <td>0.0</td>\n      <td>2.0</td>\n      <td>0.0</td>\n      <td>2.0</td>\n      <td>Творог 9%</td>\n      <td>Молочная Продукция</td>\n      <td>4.727273</td>\n      <td>3</td>\n      <td>1.0</td>\n      <td>160.000000</td>\n      <td>320.000000</td>\n      <td>1020</td>\n      <td>Москва ул. Истринская д.10 к.1</td>\n      <td>1020М_Истринская10</td>\n    </tr>\n    <tr>\n      <th>3</th>\n      <td>11290</td>\n      <td>272</td>\n      <td>0.0</td>\n      <td>0.0</td>\n      <td>0.0</td>\n      <td>1.0</td>\n      <td>0.0</td>\n      <td>0.0</td>\n      <td>0.0</td>\n      <td>1.0</td>\n      <td>Бифилайф детский без доб. сахара 2,9%</td>\n      <td>Молочная Продукция</td>\n      <td>7.000000</td>\n      <td>3</td>\n      <td>1.0</td>\n      <td>38.181818</td>\n      <td>38.181818</td>\n      <td>1020</td>\n      <td>Москва ул. Истринская д.10 к.1</td>\n      <td>1020М_Истринская10</td>\n    </tr>\n    <tr>\n      <th>4</th>\n      <td>11290</td>\n      <td>273</td>\n      <td>0.0</td>\n      <td>0.0</td>\n      <td>0.0</td>\n      <td>0.0</td>\n      <td>0.0</td>\n      <td>0.0</td>\n      <td>1.0</td>\n      <td>1.0</td>\n      <td>Творог детский 5%</td>\n      <td>Молочная Продукция</td>\n      <td>6.500000</td>\n      <td>3</td>\n      <td>1.0</td>\n      <td>36.363636</td>\n      <td>36.363636</td>\n      <td>1020</td>\n      <td>Москва ул. Истринская д.10 к.1</td>\n      <td>1020М_Истринская10</td>\n    </tr>\n    <tr>\n      <th>...</th>\n      <td>...</td>\n      <td>...</td>\n      <td>...</td>\n      <td>...</td>\n      <td>...</td>\n      <td>...</td>\n      <td>...</td>\n      <td>...</td>\n      <td>...</td>\n      <td>...</td>\n      <td>...</td>\n      <td>...</td>\n      <td>...</td>\n      <td>...</td>\n      <td>...</td>\n      <td>...</td>\n      <td>...</td>\n      <td>...</td>\n      <td>...</td>\n      <td>...</td>\n    </tr>\n    <tr>\n      <th>1887</th>\n      <td>15986</td>\n      <td>66108</td>\n      <td>0.0</td>\n      <td>0.0</td>\n      <td>0.0</td>\n      <td>0.0</td>\n      <td>0.0</td>\n      <td>0.0</td>\n      <td>1.0</td>\n      <td>1.0</td>\n      <td>Груша молодая</td>\n      <td>Овощи. Фрукты. Грибы. Зелень</td>\n      <td>26.250000</td>\n      <td>1</td>\n      <td>1.0</td>\n      <td>NaN</td>\n      <td>NaN</td>\n      <td>5673</td>\n      <td>Москва ул. Кастанаевская, д. 42 к. 2</td>\n      <td>5673М_Кастанаевская42</td>\n    </tr>\n    <tr>\n      <th>1888</th>\n      <td>15986</td>\n      <td>66444</td>\n      <td>0.0</td>\n      <td>0.0</td>\n      <td>1.0</td>\n      <td>0.0</td>\n      <td>0.0</td>\n      <td>0.0</td>\n      <td>0.0</td>\n      <td>1.0</td>\n      <td>Напиток \"Каркаде\" с черноплодной рябиной</td>\n      <td>Напитки</td>\n      <td>30.000000</td>\n      <td>1</td>\n      <td>1.0</td>\n      <td>NaN</td>\n      <td>NaN</td>\n      <td>5673</td>\n      <td>Москва ул. Кастанаевская, д. 42 к. 2</td>\n      <td>5673М_Кастанаевская42</td>\n    </tr>\n    <tr>\n      <th>1889</th>\n      <td>15986</td>\n      <td>66445</td>\n      <td>0.0</td>\n      <td>2.0</td>\n      <td>2.0</td>\n      <td>0.0</td>\n      <td>0.0</td>\n      <td>0.0</td>\n      <td>0.0</td>\n      <td>4.0</td>\n      <td>Лимонад \"Мандарин\", 300 мл</td>\n      <td>Напитки</td>\n      <td>30.000000</td>\n      <td>1</td>\n      <td>1.0</td>\n      <td>NaN</td>\n      <td>NaN</td>\n      <td>5673</td>\n      <td>Москва ул. Кастанаевская, д. 42 к. 2</td>\n      <td>5673М_Кастанаевская42</td>\n    </tr>\n    <tr>\n      <th>1890</th>\n      <td>15986</td>\n      <td>67159</td>\n      <td>0.0</td>\n      <td>0.0</td>\n      <td>0.0</td>\n      <td>1.0</td>\n      <td>0.0</td>\n      <td>0.0</td>\n      <td>1.0</td>\n      <td>2.0</td>\n      <td>Груша Сербия</td>\n      <td>Овощи. Фрукты. Грибы. Зелень</td>\n      <td>41.250000</td>\n      <td>1</td>\n      <td>1.0</td>\n      <td>NaN</td>\n      <td>NaN</td>\n      <td>5673</td>\n      <td>Москва ул. Кастанаевская, д. 42 к. 2</td>\n      <td>5673М_Кастанаевская42</td>\n    </tr>\n    <tr>\n      <th>1891</th>\n      <td>15986</td>\n      <td>67291</td>\n      <td>0.0</td>\n      <td>0.0</td>\n      <td>0.0</td>\n      <td>1.0</td>\n      <td>0.0</td>\n      <td>0.0</td>\n      <td>0.0</td>\n      <td>1.0</td>\n      <td>Люля-кебаб из говядины и свинины вес.</td>\n      <td>Мясная Витрина ВВ</td>\n      <td>17520.000000</td>\n      <td>1</td>\n      <td>1.0</td>\n      <td>NaN</td>\n      <td>NaN</td>\n      <td>5673</td>\n      <td>Москва ул. Кастанаевская, д. 42 к. 2</td>\n      <td>5673М_Кастанаевская42</td>\n    </tr>\n  </tbody>\n</table>\n<p>1892 rows × 20 columns</p>\n</div>"
     },
     "execution_count": 44,
     "metadata": {},
     "output_type": "execute_result"
    }
   ],
   "source": [
    "oos_by_shop_4.merge(id_tt_n_tt[['id_tt','n','adress','name_TT']], how = 'left', on = 'id_tt')"
   ],
   "metadata": {
    "collapsed": false,
    "pycharm": {
     "name": "#%%\n"
    }
   }
  },
  {
   "cell_type": "code",
   "execution_count": 45,
   "outputs": [],
   "source": [
    "oos_by_shop_5 = oos_by_shop_4.merge(id_tt_n_tt[['id_tt','n','adress','name_TT']], how = 'left', on = 'id_tt')"
   ],
   "metadata": {
    "collapsed": false,
    "pycharm": {
     "name": "#%%\n"
    }
   }
  },
  {
   "cell_type": "code",
   "execution_count": 46,
   "outputs": [
    {
     "data": {
      "text/plain": "array([11290, 11357, 11783, 11956, 12414, 12533, 12860, 14112, 15753,\n       15986], dtype=int64)"
     },
     "execution_count": 46,
     "metadata": {},
     "output_type": "execute_result"
    }
   ],
   "source": [
    "oos_by_shop_5['id_tt'].unique()"
   ],
   "metadata": {
    "collapsed": false,
    "pycharm": {
     "name": "#%%\n"
    }
   }
  },
  {
   "cell_type": "code",
   "execution_count": 47,
   "outputs": [],
   "source": [
    "#чисто посмотреть что поставляем\n",
    "oos_by_shop_5[['name_tov','id_tov','All_Weekdopost']].groupby(['name_tov','id_tov'],as_index=False)[\"All_Weekdopost\"].sum().to_excel('Goods 01_09.xlsx')"
   ],
   "metadata": {
    "collapsed": false,
    "pycharm": {
     "name": "#%%\n"
    }
   }
  },
  {
   "cell_type": "code",
   "execution_count": 48,
   "outputs": [],
   "source": [
    "oos_by_shop_6 = oos_by_shop_5[['name_TT','id_tov','name_tov','Monday','Tuesday','Wednesday','Thursday','Friday','Saturday','Sunday',]]"
   ],
   "metadata": {
    "collapsed": false,
    "pycharm": {
     "name": "#%%\n"
    }
   }
  },
  {
   "cell_type": "code",
   "execution_count": 49,
   "outputs": [],
   "source": [
    "oos_by_shop_6.to_excel('Calculate 3 01_09.xlsx')"
   ],
   "metadata": {
    "collapsed": false,
    "pycharm": {
     "name": "#%%\n"
    }
   }
  },
  {
   "cell_type": "code",
   "execution_count": 49,
   "outputs": [],
   "source": [],
   "metadata": {
    "collapsed": false,
    "pycharm": {
     "name": "#%%\n"
    }
   }
  }
 ],
 "metadata": {
  "kernelspec": {
   "display_name": "Python 3.10.5 64-bit",
   "language": "python",
   "name": "python3"
  },
  "language_info": {
   "codemirror_mode": {
    "name": "ipython",
    "version": 3
   },
   "file_extension": ".py",
   "mimetype": "text/x-python",
   "name": "python",
   "nbconvert_exporter": "python",
   "pygments_lexer": "ipython3",
   "version": "3.10.5"
  },
  "vscode": {
   "interpreter": {
    "hash": "d14802a80fda041396e29d0ef764e9db1b52be87434e2145de2ac9afbbaeae6f"
   }
  }
 },
 "nbformat": 4,
 "nbformat_minor": 5
}
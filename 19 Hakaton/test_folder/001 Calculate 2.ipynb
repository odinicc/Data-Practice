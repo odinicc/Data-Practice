{
 "cells": [
  {
   "cell_type": "code",
   "execution_count": 1,
   "id": "02d59dd2",
   "metadata": {
    "pycharm": {
     "name": "#%%\n"
    }
   },
   "outputs": [],
   "source": [
    "import pandas as pd\n",
    "import numpy as np\n",
    "from tqdm import tqdm_notebook\n",
    "pd.set_option('display.max_columns',None)\n",
    "\n",
    "\n",
    "from pandas.api.types import CategoricalDtype\n",
    "\n",
    "import matplotlib.pyplot as plt\n",
    "import seaborn as sns\n",
    "import plotly.express as px\n",
    "import plotly\n",
    "\n",
    "sns.set(style='whitegrid')\n",
    "plt.rcParams['figure.figsize']=(15,5)\n",
    "%config InlineBackend.figure_format = 'png'\n",
    "%matplotlib inline"
   ]
  },
  {
   "cell_type": "markdown",
   "id": "6395b3fb",
   "metadata": {
    "pycharm": {
     "name": "#%% md\n"
    }
   },
   "source": [
    "Грузим чеки и магазины"
   ]
  },
  {
   "cell_type": "code",
   "execution_count": 2,
   "id": "e5d81f55",
   "metadata": {
    "pycharm": {
     "name": "#%%\n"
    }
   },
   "outputs": [],
   "source": [
    "#Грузим Магазины \n",
    "oos_by_shop = pd.read_csv(\"./oos_by_shop_2.csv\")"
   ]
  },
  {
   "cell_type": "code",
   "execution_count": 3,
   "outputs": [],
   "source": [
    "quant_goods = pd.read_excel(\"./quant_goods.xlsx\")"
   ],
   "metadata": {
    "collapsed": false,
    "pycharm": {
     "name": "#%%\n"
    }
   }
  },
  {
   "cell_type": "code",
   "execution_count": 4,
   "outputs": [],
   "source": [
    "df_price = pd.read_csv(\"./price.csv\")"
   ],
   "metadata": {
    "collapsed": false,
    "pycharm": {
     "name": "#%%\n"
    }
   }
  },
  {
   "cell_type": "code",
   "execution_count": 84,
   "outputs": [],
   "source": [
    "id_tt_n_tt = pd.read_excel(\"./id_tt_n_tt.xlsx\")"
   ],
   "metadata": {
    "collapsed": false,
    "pycharm": {
     "name": "#%%\n"
    }
   }
  },
  {
   "cell_type": "code",
   "execution_count": 5,
   "outputs": [
    {
     "data": {
      "text/plain": "       id_tov                            Владелец  \\\n0          46               Масло сливочное 82,5%   \n1          46               Масло сливочное 82,5%   \n2          46               Масло сливочное 82,5%   \n3          46               Масло сливочное 82,5%   \n4          46               Масло сливочное 82,5%   \n...       ...                                 ...   \n58712   66292            Маракуя микс сырье, кафе   \n58713   66293      Манго дайкири микс сырье, кафе   \n58714   66294  Пиво австрийское \"STIEGL GOLDBRAU\"   \n58715   66295   Торт-мини \"Йогуртовый\" с персиком   \n58716   66296           Чизкейк \"Лимонный\", веган   \n\n                                 Наименование СтатусАктивностиХарактеристики  \\\n0                                   Сычевский                    Не активная   \n1                                   Сычевский                    Не активная   \n2                            Агрофирма Оптина                    Не активная   \n3         Великолукский молочный комбинат ЗАО                    Не активная   \n4                              САПК-Молок ООО                    Не активная   \n...                                       ...                            ...   \n58712              Бреев Андрей Борисович ИП                           Новая   \n58713              Бреев Андрей Борисович ИП                           Новая   \n58714  STIEGL GETRANKE & SERVICE GMBH & CO KG                          Новая   \n58715                           ГРИН КЕЙК ООО                          Новая   \n58716                     ВКУСНЫЕ ИСТОРИИ ООО                          Новая   \n\n      БазоваяЕдиницаИзмерения   Вес  Квант  СрокГодности ТипСрокаГодности  \\\n0                          кг  1.00    4.8            20            Сутки   \n1                          кг  1.00    4.8            20            Сутки   \n2                          кг  1.00    3.4            20            Сутки   \n3                          кг  1.00    2.4            20            Сутки   \n4                          кг  1.00    NaN             0              NaN   \n...                       ...   ...    ...           ...              ...   \n58712                      шт  0.08    8.0            90            Сутки   \n58713                      шт  0.08    8.0            90            Сутки   \n58714                      шт  0.50   24.0           365            Сутки   \n58715                      шт  0.30    2.0             5            Сутки   \n58716                      шт  0.10    2.0             4            Сутки   \n\n       сроксуток          РодительРодитель           Родитель  \\\n0           20.0        Молочная Продукция              Масло   \n1           20.0        Молочная Продукция              Масло   \n2           20.0        Молочная Продукция              Масло   \n3           20.0        Молочная Продукция              Масло   \n4            NaN        Молочная Продукция              Масло   \n...          ...                       ...                ...   \n58712       90.0                      Кафе     Сырьё для кафе   \n58713       90.0                      Кафе     Сырьё для кафе   \n58714      365.0                  Алкоголь               Пиво   \n58715        5.0  Торты, пирожные, десерты         Торты мини   \n58716        4.0  Торты, пирожные, десерты  Десерты веганские   \n\n      КатегорияАссортимента  \n0              ОсобыеТовары  \n1              ОсобыеТовары  \n2              ОсобыеТовары  \n3              ОсобыеТовары  \n4              ОсобыеТовары  \n...                     ...  \n58712          ОсобыеТовары  \n58713          ОсобыеТовары  \n58714          ОсобыеТовары  \n58715               Новинки  \n58716               Новинки  \n\n[58717 rows x 13 columns]",
      "text/html": "<div>\n<style scoped>\n    .dataframe tbody tr th:only-of-type {\n        vertical-align: middle;\n    }\n\n    .dataframe tbody tr th {\n        vertical-align: top;\n    }\n\n    .dataframe thead th {\n        text-align: right;\n    }\n</style>\n<table border=\"1\" class=\"dataframe\">\n  <thead>\n    <tr style=\"text-align: right;\">\n      <th></th>\n      <th>id_tov</th>\n      <th>Владелец</th>\n      <th>Наименование</th>\n      <th>СтатусАктивностиХарактеристики</th>\n      <th>БазоваяЕдиницаИзмерения</th>\n      <th>Вес</th>\n      <th>Квант</th>\n      <th>СрокГодности</th>\n      <th>ТипСрокаГодности</th>\n      <th>сроксуток</th>\n      <th>РодительРодитель</th>\n      <th>Родитель</th>\n      <th>КатегорияАссортимента</th>\n    </tr>\n  </thead>\n  <tbody>\n    <tr>\n      <th>0</th>\n      <td>46</td>\n      <td>Масло сливочное 82,5%</td>\n      <td>Сычевский</td>\n      <td>Не активная</td>\n      <td>кг</td>\n      <td>1.00</td>\n      <td>4.8</td>\n      <td>20</td>\n      <td>Сутки</td>\n      <td>20.0</td>\n      <td>Молочная Продукция</td>\n      <td>Масло</td>\n      <td>ОсобыеТовары</td>\n    </tr>\n    <tr>\n      <th>1</th>\n      <td>46</td>\n      <td>Масло сливочное 82,5%</td>\n      <td>Сычевский</td>\n      <td>Не активная</td>\n      <td>кг</td>\n      <td>1.00</td>\n      <td>4.8</td>\n      <td>20</td>\n      <td>Сутки</td>\n      <td>20.0</td>\n      <td>Молочная Продукция</td>\n      <td>Масло</td>\n      <td>ОсобыеТовары</td>\n    </tr>\n    <tr>\n      <th>2</th>\n      <td>46</td>\n      <td>Масло сливочное 82,5%</td>\n      <td>Агрофирма Оптина</td>\n      <td>Не активная</td>\n      <td>кг</td>\n      <td>1.00</td>\n      <td>3.4</td>\n      <td>20</td>\n      <td>Сутки</td>\n      <td>20.0</td>\n      <td>Молочная Продукция</td>\n      <td>Масло</td>\n      <td>ОсобыеТовары</td>\n    </tr>\n    <tr>\n      <th>3</th>\n      <td>46</td>\n      <td>Масло сливочное 82,5%</td>\n      <td>Великолукский молочный комбинат ЗАО</td>\n      <td>Не активная</td>\n      <td>кг</td>\n      <td>1.00</td>\n      <td>2.4</td>\n      <td>20</td>\n      <td>Сутки</td>\n      <td>20.0</td>\n      <td>Молочная Продукция</td>\n      <td>Масло</td>\n      <td>ОсобыеТовары</td>\n    </tr>\n    <tr>\n      <th>4</th>\n      <td>46</td>\n      <td>Масло сливочное 82,5%</td>\n      <td>САПК-Молок ООО</td>\n      <td>Не активная</td>\n      <td>кг</td>\n      <td>1.00</td>\n      <td>NaN</td>\n      <td>0</td>\n      <td>NaN</td>\n      <td>NaN</td>\n      <td>Молочная Продукция</td>\n      <td>Масло</td>\n      <td>ОсобыеТовары</td>\n    </tr>\n    <tr>\n      <th>...</th>\n      <td>...</td>\n      <td>...</td>\n      <td>...</td>\n      <td>...</td>\n      <td>...</td>\n      <td>...</td>\n      <td>...</td>\n      <td>...</td>\n      <td>...</td>\n      <td>...</td>\n      <td>...</td>\n      <td>...</td>\n      <td>...</td>\n    </tr>\n    <tr>\n      <th>58712</th>\n      <td>66292</td>\n      <td>Маракуя микс сырье, кафе</td>\n      <td>Бреев Андрей Борисович ИП</td>\n      <td>Новая</td>\n      <td>шт</td>\n      <td>0.08</td>\n      <td>8.0</td>\n      <td>90</td>\n      <td>Сутки</td>\n      <td>90.0</td>\n      <td>Кафе</td>\n      <td>Сырьё для кафе</td>\n      <td>ОсобыеТовары</td>\n    </tr>\n    <tr>\n      <th>58713</th>\n      <td>66293</td>\n      <td>Манго дайкири микс сырье, кафе</td>\n      <td>Бреев Андрей Борисович ИП</td>\n      <td>Новая</td>\n      <td>шт</td>\n      <td>0.08</td>\n      <td>8.0</td>\n      <td>90</td>\n      <td>Сутки</td>\n      <td>90.0</td>\n      <td>Кафе</td>\n      <td>Сырьё для кафе</td>\n      <td>ОсобыеТовары</td>\n    </tr>\n    <tr>\n      <th>58714</th>\n      <td>66294</td>\n      <td>Пиво австрийское \"STIEGL GOLDBRAU\"</td>\n      <td>STIEGL GETRANKE &amp; SERVICE GMBH &amp; CO KG</td>\n      <td>Новая</td>\n      <td>шт</td>\n      <td>0.50</td>\n      <td>24.0</td>\n      <td>365</td>\n      <td>Сутки</td>\n      <td>365.0</td>\n      <td>Алкоголь</td>\n      <td>Пиво</td>\n      <td>ОсобыеТовары</td>\n    </tr>\n    <tr>\n      <th>58715</th>\n      <td>66295</td>\n      <td>Торт-мини \"Йогуртовый\" с персиком</td>\n      <td>ГРИН КЕЙК ООО</td>\n      <td>Новая</td>\n      <td>шт</td>\n      <td>0.30</td>\n      <td>2.0</td>\n      <td>5</td>\n      <td>Сутки</td>\n      <td>5.0</td>\n      <td>Торты, пирожные, десерты</td>\n      <td>Торты мини</td>\n      <td>Новинки</td>\n    </tr>\n    <tr>\n      <th>58716</th>\n      <td>66296</td>\n      <td>Чизкейк \"Лимонный\", веган</td>\n      <td>ВКУСНЫЕ ИСТОРИИ ООО</td>\n      <td>Новая</td>\n      <td>шт</td>\n      <td>0.10</td>\n      <td>2.0</td>\n      <td>4</td>\n      <td>Сутки</td>\n      <td>4.0</td>\n      <td>Торты, пирожные, десерты</td>\n      <td>Десерты веганские</td>\n      <td>Новинки</td>\n    </tr>\n  </tbody>\n</table>\n<p>58717 rows × 13 columns</p>\n</div>"
     },
     "execution_count": 5,
     "metadata": {},
     "output_type": "execute_result"
    }
   ],
   "source": [
    "quant_goods"
   ],
   "metadata": {
    "collapsed": false,
    "pycharm": {
     "name": "#%%\n"
    }
   }
  },
  {
   "cell_type": "code",
   "execution_count": 6,
   "outputs": [
    {
     "data": {
      "text/plain": "      Unnamed: 0  id_tt  id_tov  Friday  Monday  Saturday  Sunday  Thursday  \\\n0              0  11290      52     NaN     4.0       NaN     NaN       NaN   \n1              1  11357      52     NaN     NaN       NaN     NaN       1.0   \n2              2  11783      52     NaN     NaN       NaN     NaN       1.0   \n3              3  12860      52     NaN     NaN       NaN     NaN       2.0   \n4              4  15986      52     2.5     NaN       NaN     0.5       0.5   \n...          ...    ...     ...     ...     ...       ...     ...       ...   \n4918        4918  15986   64715     NaN     NaN       NaN     2.0       NaN   \n4919        4919  15986   65290     NaN     1.0       NaN     NaN       1.0   \n4920        4920  15986   65951     2.0     NaN       NaN     NaN       NaN   \n4921        4921  15986   66480     NaN     NaN       NaN     NaN       NaN   \n4922        4922  15986   66481     NaN     NaN       NaN     NaN       NaN   \n\n      Tuesday  Wednesday                                           name_tov  \\\n0         NaN        NaN                                        Сметана 25%   \n1         NaN        NaN                                        Сметана 25%   \n2         NaN        NaN                                        Сметана 25%   \n3         NaN        4.0                                        Сметана 25%   \n4         NaN        NaN                                        Сметана 25%   \n...       ...        ...                                                ...   \n4918      NaN        NaN                           Смузи \"Черная смородина\"   \n4919      1.0        NaN      Курица \"По-индонезийски\" с кускусом и овощами   \n4920      NaN        1.0                     Омлет с брокколи и сыром, кафе   \n4921      NaN        1.0  Крышка ПП для стакана с заглушкой пластик, каф...   \n4922      NaN        1.0           Стакан ПП 300 мл пластик, кафе расходник   \n\n                 name_gr  \n0     Молочная Продукция  \n1     Молочная Продукция  \n2     Молочная Продукция  \n3     Молочная Продукция  \n4     Молочная Продукция  \n...                  ...  \n4918             Напитки  \n4919           Кулинария  \n4920                Кафе  \n4921              Прочее  \n4922              Прочее  \n\n[4923 rows x 12 columns]",
      "text/html": "<div>\n<style scoped>\n    .dataframe tbody tr th:only-of-type {\n        vertical-align: middle;\n    }\n\n    .dataframe tbody tr th {\n        vertical-align: top;\n    }\n\n    .dataframe thead th {\n        text-align: right;\n    }\n</style>\n<table border=\"1\" class=\"dataframe\">\n  <thead>\n    <tr style=\"text-align: right;\">\n      <th></th>\n      <th>Unnamed: 0</th>\n      <th>id_tt</th>\n      <th>id_tov</th>\n      <th>Friday</th>\n      <th>Monday</th>\n      <th>Saturday</th>\n      <th>Sunday</th>\n      <th>Thursday</th>\n      <th>Tuesday</th>\n      <th>Wednesday</th>\n      <th>name_tov</th>\n      <th>name_gr</th>\n    </tr>\n  </thead>\n  <tbody>\n    <tr>\n      <th>0</th>\n      <td>0</td>\n      <td>11290</td>\n      <td>52</td>\n      <td>NaN</td>\n      <td>4.0</td>\n      <td>NaN</td>\n      <td>NaN</td>\n      <td>NaN</td>\n      <td>NaN</td>\n      <td>NaN</td>\n      <td>Сметана 25%</td>\n      <td>Молочная Продукция</td>\n    </tr>\n    <tr>\n      <th>1</th>\n      <td>1</td>\n      <td>11357</td>\n      <td>52</td>\n      <td>NaN</td>\n      <td>NaN</td>\n      <td>NaN</td>\n      <td>NaN</td>\n      <td>1.0</td>\n      <td>NaN</td>\n      <td>NaN</td>\n      <td>Сметана 25%</td>\n      <td>Молочная Продукция</td>\n    </tr>\n    <tr>\n      <th>2</th>\n      <td>2</td>\n      <td>11783</td>\n      <td>52</td>\n      <td>NaN</td>\n      <td>NaN</td>\n      <td>NaN</td>\n      <td>NaN</td>\n      <td>1.0</td>\n      <td>NaN</td>\n      <td>NaN</td>\n      <td>Сметана 25%</td>\n      <td>Молочная Продукция</td>\n    </tr>\n    <tr>\n      <th>3</th>\n      <td>3</td>\n      <td>12860</td>\n      <td>52</td>\n      <td>NaN</td>\n      <td>NaN</td>\n      <td>NaN</td>\n      <td>NaN</td>\n      <td>2.0</td>\n      <td>NaN</td>\n      <td>4.0</td>\n      <td>Сметана 25%</td>\n      <td>Молочная Продукция</td>\n    </tr>\n    <tr>\n      <th>4</th>\n      <td>4</td>\n      <td>15986</td>\n      <td>52</td>\n      <td>2.5</td>\n      <td>NaN</td>\n      <td>NaN</td>\n      <td>0.5</td>\n      <td>0.5</td>\n      <td>NaN</td>\n      <td>NaN</td>\n      <td>Сметана 25%</td>\n      <td>Молочная Продукция</td>\n    </tr>\n    <tr>\n      <th>...</th>\n      <td>...</td>\n      <td>...</td>\n      <td>...</td>\n      <td>...</td>\n      <td>...</td>\n      <td>...</td>\n      <td>...</td>\n      <td>...</td>\n      <td>...</td>\n      <td>...</td>\n      <td>...</td>\n      <td>...</td>\n    </tr>\n    <tr>\n      <th>4918</th>\n      <td>4918</td>\n      <td>15986</td>\n      <td>64715</td>\n      <td>NaN</td>\n      <td>NaN</td>\n      <td>NaN</td>\n      <td>2.0</td>\n      <td>NaN</td>\n      <td>NaN</td>\n      <td>NaN</td>\n      <td>Смузи \"Черная смородина\"</td>\n      <td>Напитки</td>\n    </tr>\n    <tr>\n      <th>4919</th>\n      <td>4919</td>\n      <td>15986</td>\n      <td>65290</td>\n      <td>NaN</td>\n      <td>1.0</td>\n      <td>NaN</td>\n      <td>NaN</td>\n      <td>1.0</td>\n      <td>1.0</td>\n      <td>NaN</td>\n      <td>Курица \"По-индонезийски\" с кускусом и овощами</td>\n      <td>Кулинария</td>\n    </tr>\n    <tr>\n      <th>4920</th>\n      <td>4920</td>\n      <td>15986</td>\n      <td>65951</td>\n      <td>2.0</td>\n      <td>NaN</td>\n      <td>NaN</td>\n      <td>NaN</td>\n      <td>NaN</td>\n      <td>NaN</td>\n      <td>1.0</td>\n      <td>Омлет с брокколи и сыром, кафе</td>\n      <td>Кафе</td>\n    </tr>\n    <tr>\n      <th>4921</th>\n      <td>4921</td>\n      <td>15986</td>\n      <td>66480</td>\n      <td>NaN</td>\n      <td>NaN</td>\n      <td>NaN</td>\n      <td>NaN</td>\n      <td>NaN</td>\n      <td>NaN</td>\n      <td>1.0</td>\n      <td>Крышка ПП для стакана с заглушкой пластик, каф...</td>\n      <td>Прочее</td>\n    </tr>\n    <tr>\n      <th>4922</th>\n      <td>4922</td>\n      <td>15986</td>\n      <td>66481</td>\n      <td>NaN</td>\n      <td>NaN</td>\n      <td>NaN</td>\n      <td>NaN</td>\n      <td>NaN</td>\n      <td>NaN</td>\n      <td>1.0</td>\n      <td>Стакан ПП 300 мл пластик, кафе расходник</td>\n      <td>Прочее</td>\n    </tr>\n  </tbody>\n</table>\n<p>4923 rows × 12 columns</p>\n</div>"
     },
     "execution_count": 6,
     "metadata": {},
     "output_type": "execute_result"
    }
   ],
   "source": [
    "oos_by_shop"
   ],
   "metadata": {
    "collapsed": false,
    "pycharm": {
     "name": "#%%\n"
    }
   }
  },
  {
   "cell_type": "code",
   "execution_count": 7,
   "outputs": [],
   "source": [
    "oos_by_shop.fillna(0, inplace = True)"
   ],
   "metadata": {
    "collapsed": false,
    "pycharm": {
     "name": "#%%\n"
    }
   }
  },
  {
   "cell_type": "code",
   "execution_count": 8,
   "outputs": [],
   "source": [
    "oos_by_shop_2 = oos_by_shop.copy()"
   ],
   "metadata": {
    "collapsed": false,
    "pycharm": {
     "name": "#%%\n"
    }
   }
  },
  {
   "cell_type": "code",
   "execution_count": 9,
   "outputs": [],
   "source": [
    "oos_by_shop_2 = oos_by_shop_2.round({'Monday':0,'Tuesday':0,'Tuesday':0,'Wednesday':0,'Thursday':0,'Friday':0,'Saturday':0,'Sunday':0})"
   ],
   "metadata": {
    "collapsed": false,
    "pycharm": {
     "name": "#%%\n"
    }
   }
  },
  {
   "cell_type": "code",
   "execution_count": 10,
   "outputs": [
    {
     "data": {
      "text/plain": "      Unnamed: 0  id_tt  id_tov  Friday  Monday  Saturday  Sunday  Thursday  \\\n0              0  11290      52     0.0     4.0       0.0     0.0       0.0   \n1              1  11357      52     0.0     0.0       0.0     0.0       1.0   \n2              2  11783      52     0.0     0.0       0.0     0.0       1.0   \n3              3  12860      52     0.0     0.0       0.0     0.0       2.0   \n4              4  15986      52     2.0     0.0       0.0     0.0       0.0   \n...          ...    ...     ...     ...     ...       ...     ...       ...   \n4918        4918  15986   64715     0.0     0.0       0.0     2.0       0.0   \n4919        4919  15986   65290     0.0     1.0       0.0     0.0       1.0   \n4920        4920  15986   65951     2.0     0.0       0.0     0.0       0.0   \n4921        4921  15986   66480     0.0     0.0       0.0     0.0       0.0   \n4922        4922  15986   66481     0.0     0.0       0.0     0.0       0.0   \n\n      Tuesday  Wednesday                                           name_tov  \\\n0         0.0        0.0                                        Сметана 25%   \n1         0.0        0.0                                        Сметана 25%   \n2         0.0        0.0                                        Сметана 25%   \n3         0.0        4.0                                        Сметана 25%   \n4         0.0        0.0                                        Сметана 25%   \n...       ...        ...                                                ...   \n4918      0.0        0.0                           Смузи \"Черная смородина\"   \n4919      1.0        0.0      Курица \"По-индонезийски\" с кускусом и овощами   \n4920      0.0        1.0                     Омлет с брокколи и сыром, кафе   \n4921      0.0        1.0  Крышка ПП для стакана с заглушкой пластик, каф...   \n4922      0.0        1.0           Стакан ПП 300 мл пластик, кафе расходник   \n\n                 name_gr  \n0     Молочная Продукция  \n1     Молочная Продукция  \n2     Молочная Продукция  \n3     Молочная Продукция  \n4     Молочная Продукция  \n...                  ...  \n4918             Напитки  \n4919           Кулинария  \n4920                Кафе  \n4921              Прочее  \n4922              Прочее  \n\n[4923 rows x 12 columns]",
      "text/html": "<div>\n<style scoped>\n    .dataframe tbody tr th:only-of-type {\n        vertical-align: middle;\n    }\n\n    .dataframe tbody tr th {\n        vertical-align: top;\n    }\n\n    .dataframe thead th {\n        text-align: right;\n    }\n</style>\n<table border=\"1\" class=\"dataframe\">\n  <thead>\n    <tr style=\"text-align: right;\">\n      <th></th>\n      <th>Unnamed: 0</th>\n      <th>id_tt</th>\n      <th>id_tov</th>\n      <th>Friday</th>\n      <th>Monday</th>\n      <th>Saturday</th>\n      <th>Sunday</th>\n      <th>Thursday</th>\n      <th>Tuesday</th>\n      <th>Wednesday</th>\n      <th>name_tov</th>\n      <th>name_gr</th>\n    </tr>\n  </thead>\n  <tbody>\n    <tr>\n      <th>0</th>\n      <td>0</td>\n      <td>11290</td>\n      <td>52</td>\n      <td>0.0</td>\n      <td>4.0</td>\n      <td>0.0</td>\n      <td>0.0</td>\n      <td>0.0</td>\n      <td>0.0</td>\n      <td>0.0</td>\n      <td>Сметана 25%</td>\n      <td>Молочная Продукция</td>\n    </tr>\n    <tr>\n      <th>1</th>\n      <td>1</td>\n      <td>11357</td>\n      <td>52</td>\n      <td>0.0</td>\n      <td>0.0</td>\n      <td>0.0</td>\n      <td>0.0</td>\n      <td>1.0</td>\n      <td>0.0</td>\n      <td>0.0</td>\n      <td>Сметана 25%</td>\n      <td>Молочная Продукция</td>\n    </tr>\n    <tr>\n      <th>2</th>\n      <td>2</td>\n      <td>11783</td>\n      <td>52</td>\n      <td>0.0</td>\n      <td>0.0</td>\n      <td>0.0</td>\n      <td>0.0</td>\n      <td>1.0</td>\n      <td>0.0</td>\n      <td>0.0</td>\n      <td>Сметана 25%</td>\n      <td>Молочная Продукция</td>\n    </tr>\n    <tr>\n      <th>3</th>\n      <td>3</td>\n      <td>12860</td>\n      <td>52</td>\n      <td>0.0</td>\n      <td>0.0</td>\n      <td>0.0</td>\n      <td>0.0</td>\n      <td>2.0</td>\n      <td>0.0</td>\n      <td>4.0</td>\n      <td>Сметана 25%</td>\n      <td>Молочная Продукция</td>\n    </tr>\n    <tr>\n      <th>4</th>\n      <td>4</td>\n      <td>15986</td>\n      <td>52</td>\n      <td>2.0</td>\n      <td>0.0</td>\n      <td>0.0</td>\n      <td>0.0</td>\n      <td>0.0</td>\n      <td>0.0</td>\n      <td>0.0</td>\n      <td>Сметана 25%</td>\n      <td>Молочная Продукция</td>\n    </tr>\n    <tr>\n      <th>...</th>\n      <td>...</td>\n      <td>...</td>\n      <td>...</td>\n      <td>...</td>\n      <td>...</td>\n      <td>...</td>\n      <td>...</td>\n      <td>...</td>\n      <td>...</td>\n      <td>...</td>\n      <td>...</td>\n      <td>...</td>\n    </tr>\n    <tr>\n      <th>4918</th>\n      <td>4918</td>\n      <td>15986</td>\n      <td>64715</td>\n      <td>0.0</td>\n      <td>0.0</td>\n      <td>0.0</td>\n      <td>2.0</td>\n      <td>0.0</td>\n      <td>0.0</td>\n      <td>0.0</td>\n      <td>Смузи \"Черная смородина\"</td>\n      <td>Напитки</td>\n    </tr>\n    <tr>\n      <th>4919</th>\n      <td>4919</td>\n      <td>15986</td>\n      <td>65290</td>\n      <td>0.0</td>\n      <td>1.0</td>\n      <td>0.0</td>\n      <td>0.0</td>\n      <td>1.0</td>\n      <td>1.0</td>\n      <td>0.0</td>\n      <td>Курица \"По-индонезийски\" с кускусом и овощами</td>\n      <td>Кулинария</td>\n    </tr>\n    <tr>\n      <th>4920</th>\n      <td>4920</td>\n      <td>15986</td>\n      <td>65951</td>\n      <td>2.0</td>\n      <td>0.0</td>\n      <td>0.0</td>\n      <td>0.0</td>\n      <td>0.0</td>\n      <td>0.0</td>\n      <td>1.0</td>\n      <td>Омлет с брокколи и сыром, кафе</td>\n      <td>Кафе</td>\n    </tr>\n    <tr>\n      <th>4921</th>\n      <td>4921</td>\n      <td>15986</td>\n      <td>66480</td>\n      <td>0.0</td>\n      <td>0.0</td>\n      <td>0.0</td>\n      <td>0.0</td>\n      <td>0.0</td>\n      <td>0.0</td>\n      <td>1.0</td>\n      <td>Крышка ПП для стакана с заглушкой пластик, каф...</td>\n      <td>Прочее</td>\n    </tr>\n    <tr>\n      <th>4922</th>\n      <td>4922</td>\n      <td>15986</td>\n      <td>66481</td>\n      <td>0.0</td>\n      <td>0.0</td>\n      <td>0.0</td>\n      <td>0.0</td>\n      <td>0.0</td>\n      <td>0.0</td>\n      <td>1.0</td>\n      <td>Стакан ПП 300 мл пластик, кафе расходник</td>\n      <td>Прочее</td>\n    </tr>\n  </tbody>\n</table>\n<p>4923 rows × 12 columns</p>\n</div>"
     },
     "execution_count": 10,
     "metadata": {},
     "output_type": "execute_result"
    }
   ],
   "source": [
    "oos_by_shop_2"
   ],
   "metadata": {
    "collapsed": false,
    "pycharm": {
     "name": "#%%\n"
    }
   }
  },
  {
   "cell_type": "code",
   "execution_count": 11,
   "outputs": [
    {
     "data": {
      "text/plain": "0       4.0\n1       1.0\n2       1.0\n3       6.0\n4       2.0\n       ... \n4918    2.0\n4919    3.0\n4920    3.0\n4921    1.0\n4922    1.0\nLength: 4923, dtype: float64"
     },
     "execution_count": 11,
     "metadata": {},
     "output_type": "execute_result"
    }
   ],
   "source": [
    "oos_by_shop_2[['Monday','Tuesday','Wednesday','Thursday','Friday','Saturday','Sunday']].sum(axis = 1)"
   ],
   "metadata": {
    "collapsed": false,
    "pycharm": {
     "name": "#%%\n"
    }
   }
  },
  {
   "cell_type": "code",
   "execution_count": 12,
   "outputs": [],
   "source": [
    "\n",
    "oos_by_shop_2['All_Weekdopost'] = oos_by_shop_2[['Monday','Tuesday','Wednesday','Thursday','Friday','Saturday','Sunday']].sum(axis = 1)\n",
    "\n"
   ],
   "metadata": {
    "collapsed": false,
    "pycharm": {
     "name": "#%%\n"
    }
   }
  },
  {
   "cell_type": "code",
   "execution_count": 52,
   "outputs": [
    {
     "data": {
      "text/plain": "      Unnamed: 0  id_tt  id_tov  Friday  Monday  Saturday  Sunday  Thursday  \\\n0              0  11290      52     0.0     4.0       0.0     0.0       0.0   \n1              1  11357      52     0.0     0.0       0.0     0.0       1.0   \n2              2  11783      52     0.0     0.0       0.0     0.0       1.0   \n3              3  12860      52     0.0     0.0       0.0     0.0       2.0   \n4              4  15986      52     2.0     0.0       0.0     0.0       0.0   \n...          ...    ...     ...     ...     ...       ...     ...       ...   \n4918        4918  15986   64715     0.0     0.0       0.0     2.0       0.0   \n4919        4919  15986   65290     0.0     1.0       0.0     0.0       1.0   \n4920        4920  15986   65951     2.0     0.0       0.0     0.0       0.0   \n4921        4921  15986   66480     0.0     0.0       0.0     0.0       0.0   \n4922        4922  15986   66481     0.0     0.0       0.0     0.0       0.0   \n\n      Tuesday  Wednesday                                           name_tov  \\\n0         0.0        0.0                                        Сметана 25%   \n1         0.0        0.0                                        Сметана 25%   \n2         0.0        0.0                                        Сметана 25%   \n3         0.0        4.0                                        Сметана 25%   \n4         0.0        0.0                                        Сметана 25%   \n...       ...        ...                                                ...   \n4918      0.0        0.0                           Смузи \"Черная смородина\"   \n4919      1.0        0.0      Курица \"По-индонезийски\" с кускусом и овощами   \n4920      0.0        1.0                     Омлет с брокколи и сыром, кафе   \n4921      0.0        1.0  Крышка ПП для стакана с заглушкой пластик, каф...   \n4922      0.0        1.0           Стакан ПП 300 мл пластик, кафе расходник   \n\n                 name_gr  All_Weekdopost  \n0     Молочная Продукция             4.0  \n1     Молочная Продукция             1.0  \n2     Молочная Продукция             1.0  \n3     Молочная Продукция             6.0  \n4     Молочная Продукция             2.0  \n...                  ...             ...  \n4918             Напитки             2.0  \n4919           Кулинария             3.0  \n4920                Кафе             3.0  \n4921              Прочее             1.0  \n4922              Прочее             1.0  \n\n[4923 rows x 13 columns]",
      "text/html": "<div>\n<style scoped>\n    .dataframe tbody tr th:only-of-type {\n        vertical-align: middle;\n    }\n\n    .dataframe tbody tr th {\n        vertical-align: top;\n    }\n\n    .dataframe thead th {\n        text-align: right;\n    }\n</style>\n<table border=\"1\" class=\"dataframe\">\n  <thead>\n    <tr style=\"text-align: right;\">\n      <th></th>\n      <th>Unnamed: 0</th>\n      <th>id_tt</th>\n      <th>id_tov</th>\n      <th>Friday</th>\n      <th>Monday</th>\n      <th>Saturday</th>\n      <th>Sunday</th>\n      <th>Thursday</th>\n      <th>Tuesday</th>\n      <th>Wednesday</th>\n      <th>name_tov</th>\n      <th>name_gr</th>\n      <th>All_Weekdopost</th>\n    </tr>\n  </thead>\n  <tbody>\n    <tr>\n      <th>0</th>\n      <td>0</td>\n      <td>11290</td>\n      <td>52</td>\n      <td>0.0</td>\n      <td>4.0</td>\n      <td>0.0</td>\n      <td>0.0</td>\n      <td>0.0</td>\n      <td>0.0</td>\n      <td>0.0</td>\n      <td>Сметана 25%</td>\n      <td>Молочная Продукция</td>\n      <td>4.0</td>\n    </tr>\n    <tr>\n      <th>1</th>\n      <td>1</td>\n      <td>11357</td>\n      <td>52</td>\n      <td>0.0</td>\n      <td>0.0</td>\n      <td>0.0</td>\n      <td>0.0</td>\n      <td>1.0</td>\n      <td>0.0</td>\n      <td>0.0</td>\n      <td>Сметана 25%</td>\n      <td>Молочная Продукция</td>\n      <td>1.0</td>\n    </tr>\n    <tr>\n      <th>2</th>\n      <td>2</td>\n      <td>11783</td>\n      <td>52</td>\n      <td>0.0</td>\n      <td>0.0</td>\n      <td>0.0</td>\n      <td>0.0</td>\n      <td>1.0</td>\n      <td>0.0</td>\n      <td>0.0</td>\n      <td>Сметана 25%</td>\n      <td>Молочная Продукция</td>\n      <td>1.0</td>\n    </tr>\n    <tr>\n      <th>3</th>\n      <td>3</td>\n      <td>12860</td>\n      <td>52</td>\n      <td>0.0</td>\n      <td>0.0</td>\n      <td>0.0</td>\n      <td>0.0</td>\n      <td>2.0</td>\n      <td>0.0</td>\n      <td>4.0</td>\n      <td>Сметана 25%</td>\n      <td>Молочная Продукция</td>\n      <td>6.0</td>\n    </tr>\n    <tr>\n      <th>4</th>\n      <td>4</td>\n      <td>15986</td>\n      <td>52</td>\n      <td>2.0</td>\n      <td>0.0</td>\n      <td>0.0</td>\n      <td>0.0</td>\n      <td>0.0</td>\n      <td>0.0</td>\n      <td>0.0</td>\n      <td>Сметана 25%</td>\n      <td>Молочная Продукция</td>\n      <td>2.0</td>\n    </tr>\n    <tr>\n      <th>...</th>\n      <td>...</td>\n      <td>...</td>\n      <td>...</td>\n      <td>...</td>\n      <td>...</td>\n      <td>...</td>\n      <td>...</td>\n      <td>...</td>\n      <td>...</td>\n      <td>...</td>\n      <td>...</td>\n      <td>...</td>\n      <td>...</td>\n    </tr>\n    <tr>\n      <th>4918</th>\n      <td>4918</td>\n      <td>15986</td>\n      <td>64715</td>\n      <td>0.0</td>\n      <td>0.0</td>\n      <td>0.0</td>\n      <td>2.0</td>\n      <td>0.0</td>\n      <td>0.0</td>\n      <td>0.0</td>\n      <td>Смузи \"Черная смородина\"</td>\n      <td>Напитки</td>\n      <td>2.0</td>\n    </tr>\n    <tr>\n      <th>4919</th>\n      <td>4919</td>\n      <td>15986</td>\n      <td>65290</td>\n      <td>0.0</td>\n      <td>1.0</td>\n      <td>0.0</td>\n      <td>0.0</td>\n      <td>1.0</td>\n      <td>1.0</td>\n      <td>0.0</td>\n      <td>Курица \"По-индонезийски\" с кускусом и овощами</td>\n      <td>Кулинария</td>\n      <td>3.0</td>\n    </tr>\n    <tr>\n      <th>4920</th>\n      <td>4920</td>\n      <td>15986</td>\n      <td>65951</td>\n      <td>2.0</td>\n      <td>0.0</td>\n      <td>0.0</td>\n      <td>0.0</td>\n      <td>0.0</td>\n      <td>0.0</td>\n      <td>1.0</td>\n      <td>Омлет с брокколи и сыром, кафе</td>\n      <td>Кафе</td>\n      <td>3.0</td>\n    </tr>\n    <tr>\n      <th>4921</th>\n      <td>4921</td>\n      <td>15986</td>\n      <td>66480</td>\n      <td>0.0</td>\n      <td>0.0</td>\n      <td>0.0</td>\n      <td>0.0</td>\n      <td>0.0</td>\n      <td>0.0</td>\n      <td>1.0</td>\n      <td>Крышка ПП для стакана с заглушкой пластик, каф...</td>\n      <td>Прочее</td>\n      <td>1.0</td>\n    </tr>\n    <tr>\n      <th>4922</th>\n      <td>4922</td>\n      <td>15986</td>\n      <td>66481</td>\n      <td>0.0</td>\n      <td>0.0</td>\n      <td>0.0</td>\n      <td>0.0</td>\n      <td>0.0</td>\n      <td>0.0</td>\n      <td>1.0</td>\n      <td>Стакан ПП 300 мл пластик, кафе расходник</td>\n      <td>Прочее</td>\n      <td>1.0</td>\n    </tr>\n  </tbody>\n</table>\n<p>4923 rows × 13 columns</p>\n</div>"
     },
     "execution_count": 52,
     "metadata": {},
     "output_type": "execute_result"
    }
   ],
   "source": [
    "oos_by_shop_2"
   ],
   "metadata": {
    "collapsed": false,
    "pycharm": {
     "name": "#%%\n"
    }
   }
  },
  {
   "cell_type": "code",
   "execution_count": 53,
   "outputs": [],
   "source": [
    "oos_by_shop_3 = oos_by_shop_2[(oos_by_shop_2['All_Weekdopost'] != 0) & (oos_by_shop_2['name_tov'] != 'Выдача наличных денег') & (oos_by_shop_2['name_gr'] != 'Прочее') & (oos_by_shop_2['name_gr'] != 'Пространство ВкусВилл') & (oos_by_shop_2['name_gr'] != 'Рекламные материалы')]"
   ],
   "metadata": {
    "collapsed": false,
    "pycharm": {
     "name": "#%%\n"
    }
   }
  },
  {
   "cell_type": "code",
   "execution_count": 53,
   "outputs": [],
   "source": [],
   "metadata": {
    "collapsed": false,
    "pycharm": {
     "name": "#%%\n"
    }
   }
  },
  {
   "cell_type": "code",
   "execution_count": 54,
   "outputs": [
    {
     "data": {
      "text/plain": "13858.0"
     },
     "execution_count": 54,
     "metadata": {},
     "output_type": "execute_result"
    }
   ],
   "source": [
    "oos_by_shop_3[['Monday','Tuesday','Wednesday','Thursday','Friday','Saturday','Sunday']].sum(axis = 1).sum(axis = 0)"
   ],
   "metadata": {
    "collapsed": false,
    "pycharm": {
     "name": "#%%\n"
    }
   }
  },
  {
   "cell_type": "code",
   "execution_count": 55,
   "outputs": [
    {
     "data": {
      "text/plain": "      Unnamed: 0  id_tt  id_tov  Friday  Monday  Saturday  Sunday  Thursday  \\\n0              0  11290      52     0.0     4.0       0.0     0.0       0.0   \n1              1  11357      52     0.0     0.0       0.0     0.0       1.0   \n2              2  11783      52     0.0     0.0       0.0     0.0       1.0   \n3              3  12860      52     0.0     0.0       0.0     0.0       2.0   \n4              4  15986      52     2.0     0.0       0.0     0.0       0.0   \n...          ...    ...     ...     ...     ...       ...     ...       ...   \n4910        4910  15986   62096     0.0     1.0       1.0     0.0       0.0   \n4916        4916  15986   64406     0.0     0.0       1.0     0.0       1.0   \n4918        4918  15986   64715     0.0     0.0       0.0     2.0       0.0   \n4919        4919  15986   65290     0.0     1.0       0.0     0.0       1.0   \n4920        4920  15986   65951     2.0     0.0       0.0     0.0       0.0   \n\n      Tuesday  Wednesday                                       name_tov  \\\n0         0.0        0.0                                    Сметана 25%   \n1         0.0        0.0                                    Сметана 25%   \n2         0.0        0.0                                    Сметана 25%   \n3         0.0        4.0                                    Сметана 25%   \n4         0.0        0.0                                    Сметана 25%   \n...       ...        ...                                            ...   \n4910      0.0        0.0                          Ролл с огурцом, 155 г   \n4916      0.0        0.0                      Бургер с куриной котлетой   \n4918      0.0        0.0                       Смузи \"Черная смородина\"   \n4919      1.0        0.0  Курица \"По-индонезийски\" с кускусом и овощами   \n4920      0.0        1.0                 Омлет с брокколи и сыром, кафе   \n\n                 name_gr  All_Weekdopost  \n0     Молочная Продукция             4.0  \n1     Молочная Продукция             1.0  \n2     Молочная Продукция             1.0  \n3     Молочная Продукция             6.0  \n4     Молочная Продукция             2.0  \n...                  ...             ...  \n4910           Кулинария             2.0  \n4916           Кулинария             2.0  \n4918             Напитки             2.0  \n4919           Кулинария             3.0  \n4920                Кафе             3.0  \n\n[3759 rows x 13 columns]",
      "text/html": "<div>\n<style scoped>\n    .dataframe tbody tr th:only-of-type {\n        vertical-align: middle;\n    }\n\n    .dataframe tbody tr th {\n        vertical-align: top;\n    }\n\n    .dataframe thead th {\n        text-align: right;\n    }\n</style>\n<table border=\"1\" class=\"dataframe\">\n  <thead>\n    <tr style=\"text-align: right;\">\n      <th></th>\n      <th>Unnamed: 0</th>\n      <th>id_tt</th>\n      <th>id_tov</th>\n      <th>Friday</th>\n      <th>Monday</th>\n      <th>Saturday</th>\n      <th>Sunday</th>\n      <th>Thursday</th>\n      <th>Tuesday</th>\n      <th>Wednesday</th>\n      <th>name_tov</th>\n      <th>name_gr</th>\n      <th>All_Weekdopost</th>\n    </tr>\n  </thead>\n  <tbody>\n    <tr>\n      <th>0</th>\n      <td>0</td>\n      <td>11290</td>\n      <td>52</td>\n      <td>0.0</td>\n      <td>4.0</td>\n      <td>0.0</td>\n      <td>0.0</td>\n      <td>0.0</td>\n      <td>0.0</td>\n      <td>0.0</td>\n      <td>Сметана 25%</td>\n      <td>Молочная Продукция</td>\n      <td>4.0</td>\n    </tr>\n    <tr>\n      <th>1</th>\n      <td>1</td>\n      <td>11357</td>\n      <td>52</td>\n      <td>0.0</td>\n      <td>0.0</td>\n      <td>0.0</td>\n      <td>0.0</td>\n      <td>1.0</td>\n      <td>0.0</td>\n      <td>0.0</td>\n      <td>Сметана 25%</td>\n      <td>Молочная Продукция</td>\n      <td>1.0</td>\n    </tr>\n    <tr>\n      <th>2</th>\n      <td>2</td>\n      <td>11783</td>\n      <td>52</td>\n      <td>0.0</td>\n      <td>0.0</td>\n      <td>0.0</td>\n      <td>0.0</td>\n      <td>1.0</td>\n      <td>0.0</td>\n      <td>0.0</td>\n      <td>Сметана 25%</td>\n      <td>Молочная Продукция</td>\n      <td>1.0</td>\n    </tr>\n    <tr>\n      <th>3</th>\n      <td>3</td>\n      <td>12860</td>\n      <td>52</td>\n      <td>0.0</td>\n      <td>0.0</td>\n      <td>0.0</td>\n      <td>0.0</td>\n      <td>2.0</td>\n      <td>0.0</td>\n      <td>4.0</td>\n      <td>Сметана 25%</td>\n      <td>Молочная Продукция</td>\n      <td>6.0</td>\n    </tr>\n    <tr>\n      <th>4</th>\n      <td>4</td>\n      <td>15986</td>\n      <td>52</td>\n      <td>2.0</td>\n      <td>0.0</td>\n      <td>0.0</td>\n      <td>0.0</td>\n      <td>0.0</td>\n      <td>0.0</td>\n      <td>0.0</td>\n      <td>Сметана 25%</td>\n      <td>Молочная Продукция</td>\n      <td>2.0</td>\n    </tr>\n    <tr>\n      <th>...</th>\n      <td>...</td>\n      <td>...</td>\n      <td>...</td>\n      <td>...</td>\n      <td>...</td>\n      <td>...</td>\n      <td>...</td>\n      <td>...</td>\n      <td>...</td>\n      <td>...</td>\n      <td>...</td>\n      <td>...</td>\n      <td>...</td>\n    </tr>\n    <tr>\n      <th>4910</th>\n      <td>4910</td>\n      <td>15986</td>\n      <td>62096</td>\n      <td>0.0</td>\n      <td>1.0</td>\n      <td>1.0</td>\n      <td>0.0</td>\n      <td>0.0</td>\n      <td>0.0</td>\n      <td>0.0</td>\n      <td>Ролл с огурцом, 155 г</td>\n      <td>Кулинария</td>\n      <td>2.0</td>\n    </tr>\n    <tr>\n      <th>4916</th>\n      <td>4916</td>\n      <td>15986</td>\n      <td>64406</td>\n      <td>0.0</td>\n      <td>0.0</td>\n      <td>1.0</td>\n      <td>0.0</td>\n      <td>1.0</td>\n      <td>0.0</td>\n      <td>0.0</td>\n      <td>Бургер с куриной котлетой</td>\n      <td>Кулинария</td>\n      <td>2.0</td>\n    </tr>\n    <tr>\n      <th>4918</th>\n      <td>4918</td>\n      <td>15986</td>\n      <td>64715</td>\n      <td>0.0</td>\n      <td>0.0</td>\n      <td>0.0</td>\n      <td>2.0</td>\n      <td>0.0</td>\n      <td>0.0</td>\n      <td>0.0</td>\n      <td>Смузи \"Черная смородина\"</td>\n      <td>Напитки</td>\n      <td>2.0</td>\n    </tr>\n    <tr>\n      <th>4919</th>\n      <td>4919</td>\n      <td>15986</td>\n      <td>65290</td>\n      <td>0.0</td>\n      <td>1.0</td>\n      <td>0.0</td>\n      <td>0.0</td>\n      <td>1.0</td>\n      <td>1.0</td>\n      <td>0.0</td>\n      <td>Курица \"По-индонезийски\" с кускусом и овощами</td>\n      <td>Кулинария</td>\n      <td>3.0</td>\n    </tr>\n    <tr>\n      <th>4920</th>\n      <td>4920</td>\n      <td>15986</td>\n      <td>65951</td>\n      <td>2.0</td>\n      <td>0.0</td>\n      <td>0.0</td>\n      <td>0.0</td>\n      <td>0.0</td>\n      <td>0.0</td>\n      <td>1.0</td>\n      <td>Омлет с брокколи и сыром, кафе</td>\n      <td>Кафе</td>\n      <td>3.0</td>\n    </tr>\n  </tbody>\n</table>\n<p>3759 rows × 13 columns</p>\n</div>"
     },
     "execution_count": 55,
     "metadata": {},
     "output_type": "execute_result"
    }
   ],
   "source": [
    "oos_by_shop_3"
   ],
   "metadata": {
    "collapsed": false,
    "pycharm": {
     "name": "#%%\n"
    }
   }
  },
  {
   "cell_type": "code",
   "execution_count": 56,
   "outputs": [
    {
     "data": {
      "text/plain": "                                           name_gr  All_Weekdopost\n0                                         Алкоголь            43.0\n1                                          Бакалея            24.0\n2                                    Бытовая Химия             4.0\n3                                   Детские товары             6.0\n4                                  Детское питание             5.0\n5                                 Замороженные п/ф             6.0\n6                                             Кафе           396.0\n7                                      Консервация            21.0\n8                                        Кулинария          4193.0\n9                           Кулинария замороженная             4.0\n10                           Личная гигиена и уход            11.0\n11                              Медицинские товары             5.0\n12                                     Микромаркет             2.0\n13                                  Мировые бренды             3.0\n14                              Молочная Продукция          2749.0\n15                                       Мороженое           151.0\n16                               Мясная Витрина ВВ            68.0\n17                      Мясные деликатесы. Колбасы            98.0\n18                      Мясо. Птица. П/ф охл. Яйца           455.0\n19                                         Напитки           169.0\n20                    Овощи. Фрукты. Грибы. Зелень          2238.0\n21                              Рыба. Морепродукты            71.0\n22                                  Рыбная витрина             2.0\n23                  Сладости, кондитерские изделия           126.0\n24  Сухофрукты. Сушеные овощи, грибы, ягоды. Орехи             3.0\n25                                            Сыры            60.0\n26                                 Товары для дома             4.0\n27                             Товары для животных             1.0\n28                     Торты, десерты замороженные             1.0\n29                        Торты, пирожные, десерты           406.0\n30                                            Хлеб          2533.0",
      "text/html": "<div>\n<style scoped>\n    .dataframe tbody tr th:only-of-type {\n        vertical-align: middle;\n    }\n\n    .dataframe tbody tr th {\n        vertical-align: top;\n    }\n\n    .dataframe thead th {\n        text-align: right;\n    }\n</style>\n<table border=\"1\" class=\"dataframe\">\n  <thead>\n    <tr style=\"text-align: right;\">\n      <th></th>\n      <th>name_gr</th>\n      <th>All_Weekdopost</th>\n    </tr>\n  </thead>\n  <tbody>\n    <tr>\n      <th>0</th>\n      <td>Алкоголь</td>\n      <td>43.0</td>\n    </tr>\n    <tr>\n      <th>1</th>\n      <td>Бакалея</td>\n      <td>24.0</td>\n    </tr>\n    <tr>\n      <th>2</th>\n      <td>Бытовая Химия</td>\n      <td>4.0</td>\n    </tr>\n    <tr>\n      <th>3</th>\n      <td>Детские товары</td>\n      <td>6.0</td>\n    </tr>\n    <tr>\n      <th>4</th>\n      <td>Детское питание</td>\n      <td>5.0</td>\n    </tr>\n    <tr>\n      <th>5</th>\n      <td>Замороженные п/ф</td>\n      <td>6.0</td>\n    </tr>\n    <tr>\n      <th>6</th>\n      <td>Кафе</td>\n      <td>396.0</td>\n    </tr>\n    <tr>\n      <th>7</th>\n      <td>Консервация</td>\n      <td>21.0</td>\n    </tr>\n    <tr>\n      <th>8</th>\n      <td>Кулинария</td>\n      <td>4193.0</td>\n    </tr>\n    <tr>\n      <th>9</th>\n      <td>Кулинария замороженная</td>\n      <td>4.0</td>\n    </tr>\n    <tr>\n      <th>10</th>\n      <td>Личная гигиена и уход</td>\n      <td>11.0</td>\n    </tr>\n    <tr>\n      <th>11</th>\n      <td>Медицинские товары</td>\n      <td>5.0</td>\n    </tr>\n    <tr>\n      <th>12</th>\n      <td>Микромаркет</td>\n      <td>2.0</td>\n    </tr>\n    <tr>\n      <th>13</th>\n      <td>Мировые бренды</td>\n      <td>3.0</td>\n    </tr>\n    <tr>\n      <th>14</th>\n      <td>Молочная Продукция</td>\n      <td>2749.0</td>\n    </tr>\n    <tr>\n      <th>15</th>\n      <td>Мороженое</td>\n      <td>151.0</td>\n    </tr>\n    <tr>\n      <th>16</th>\n      <td>Мясная Витрина ВВ</td>\n      <td>68.0</td>\n    </tr>\n    <tr>\n      <th>17</th>\n      <td>Мясные деликатесы. Колбасы</td>\n      <td>98.0</td>\n    </tr>\n    <tr>\n      <th>18</th>\n      <td>Мясо. Птица. П/ф охл. Яйца</td>\n      <td>455.0</td>\n    </tr>\n    <tr>\n      <th>19</th>\n      <td>Напитки</td>\n      <td>169.0</td>\n    </tr>\n    <tr>\n      <th>20</th>\n      <td>Овощи. Фрукты. Грибы. Зелень</td>\n      <td>2238.0</td>\n    </tr>\n    <tr>\n      <th>21</th>\n      <td>Рыба. Морепродукты</td>\n      <td>71.0</td>\n    </tr>\n    <tr>\n      <th>22</th>\n      <td>Рыбная витрина</td>\n      <td>2.0</td>\n    </tr>\n    <tr>\n      <th>23</th>\n      <td>Сладости, кондитерские изделия</td>\n      <td>126.0</td>\n    </tr>\n    <tr>\n      <th>24</th>\n      <td>Сухофрукты. Сушеные овощи, грибы, ягоды. Орехи</td>\n      <td>3.0</td>\n    </tr>\n    <tr>\n      <th>25</th>\n      <td>Сыры</td>\n      <td>60.0</td>\n    </tr>\n    <tr>\n      <th>26</th>\n      <td>Товары для дома</td>\n      <td>4.0</td>\n    </tr>\n    <tr>\n      <th>27</th>\n      <td>Товары для животных</td>\n      <td>1.0</td>\n    </tr>\n    <tr>\n      <th>28</th>\n      <td>Торты, десерты замороженные</td>\n      <td>1.0</td>\n    </tr>\n    <tr>\n      <th>29</th>\n      <td>Торты, пирожные, десерты</td>\n      <td>406.0</td>\n    </tr>\n    <tr>\n      <th>30</th>\n      <td>Хлеб</td>\n      <td>2533.0</td>\n    </tr>\n  </tbody>\n</table>\n</div>"
     },
     "execution_count": 56,
     "metadata": {},
     "output_type": "execute_result"
    }
   ],
   "source": [
    "oos_by_shop_3.groupby([\"name_gr\"], as_index=False)[\"All_Weekdopost\"].sum()"
   ],
   "metadata": {
    "collapsed": false,
    "pycharm": {
     "name": "#%%\n"
    }
   }
  },
  {
   "cell_type": "code",
   "execution_count": 56,
   "outputs": [],
   "source": [],
   "metadata": {
    "collapsed": false,
    "pycharm": {
     "name": "#%%\n"
    }
   }
  },
  {
   "cell_type": "code",
   "execution_count": 57,
   "outputs": [],
   "source": [
    "quant_goods2 = quant_goods[quant_goods['СтатусАктивностиХарактеристики'] == 'Активная']"
   ],
   "metadata": {
    "collapsed": false,
    "pycharm": {
     "name": "#%%\n"
    }
   }
  },
  {
   "cell_type": "code",
   "execution_count": 58,
   "outputs": [],
   "source": [
    "quant_goods3 = quant_goods2[['id_tov','РодительРодитель','Владелец','сроксуток']].groupby([\"id_tov\",'РодительРодитель','Владелец'], as_index=False)[\"сроксуток\"].sum()"
   ],
   "metadata": {
    "collapsed": false,
    "pycharm": {
     "name": "#%%\n"
    }
   }
  },
  {
   "cell_type": "code",
   "execution_count": 58,
   "outputs": [],
   "source": [],
   "metadata": {
    "collapsed": false,
    "pycharm": {
     "name": "#%%\n"
    }
   }
  },
  {
   "cell_type": "code",
   "execution_count": 59,
   "outputs": [],
   "source": [
    "oos_by_shop_4 = oos_by_shop_3.merge(quant_goods3[['сроксуток','id_tov']], how='left', on='id_tov',)"
   ],
   "metadata": {
    "collapsed": false,
    "pycharm": {
     "name": "#%%\n"
    }
   }
  },
  {
   "cell_type": "code",
   "execution_count": 60,
   "outputs": [],
   "source": [
    "conditions = [\n",
    "    (oos_by_shop_4['сроксуток'] <= 2),\n",
    "    (oos_by_shop_4['сроксуток'] > 2) & (oos_by_shop_4['сроксуток'] <= 9),\n",
    "    (oos_by_shop_4['сроксуток'] > 9) & (oos_by_shop_4['сроксуток'] <= 15),\n",
    "    (oos_by_shop_4['сроксуток'] > 15)\n",
    "]"
   ],
   "metadata": {
    "collapsed": false,
    "pycharm": {
     "name": "#%%\n"
    }
   }
  },
  {
   "cell_type": "code",
   "execution_count": 61,
   "outputs": [],
   "source": [
    "values = [7, 5, 2, 1]"
   ],
   "metadata": {
    "collapsed": false,
    "pycharm": {
     "name": "#%%\n"
    }
   }
  },
  {
   "cell_type": "code",
   "execution_count": 62,
   "outputs": [],
   "source": [
    "oos_by_shop_4['tier'] = np.select(conditions, values)"
   ],
   "metadata": {
    "collapsed": false,
    "pycharm": {
     "name": "#%%\n"
    }
   }
  },
  {
   "cell_type": "code",
   "execution_count": 63,
   "outputs": [],
   "source": [
    "oos_by_shop_4['tier'].replace(to_replace = 0, value = 1, inplace=True)"
   ],
   "metadata": {
    "collapsed": false,
    "pycharm": {
     "name": "#%%\n"
    }
   }
  },
  {
   "cell_type": "code",
   "execution_count": 64,
   "outputs": [],
   "source": [
    "oos_by_shop_4['Monday'] = oos_by_shop_4['Monday']/oos_by_shop_4['tier']"
   ],
   "metadata": {
    "collapsed": false,
    "pycharm": {
     "name": "#%%\n"
    }
   }
  },
  {
   "cell_type": "code",
   "execution_count": 65,
   "outputs": [],
   "source": [
    "oos_by_shop_4['Tuesday'] = oos_by_shop_4['Tuesday']/oos_by_shop_4['tier']\n"
   ],
   "metadata": {
    "collapsed": false,
    "pycharm": {
     "name": "#%%\n"
    }
   }
  },
  {
   "cell_type": "code",
   "execution_count": 66,
   "outputs": [],
   "source": [
    "oos_by_shop_4['Wednesday'] = oos_by_shop_4['Wednesday']/oos_by_shop_4['tier']"
   ],
   "metadata": {
    "collapsed": false,
    "pycharm": {
     "name": "#%%\n"
    }
   }
  },
  {
   "cell_type": "code",
   "execution_count": 67,
   "outputs": [],
   "source": [
    "oos_by_shop_4['Thursday'] = oos_by_shop_4['Thursday']/oos_by_shop_4['tier']"
   ],
   "metadata": {
    "collapsed": false,
    "pycharm": {
     "name": "#%%\n"
    }
   }
  },
  {
   "cell_type": "code",
   "execution_count": 68,
   "outputs": [],
   "source": [
    "oos_by_shop_4['Friday'] = oos_by_shop_4['Friday']/oos_by_shop_4['tier']"
   ],
   "metadata": {
    "collapsed": false,
    "pycharm": {
     "name": "#%%\n"
    }
   }
  },
  {
   "cell_type": "code",
   "execution_count": 69,
   "outputs": [],
   "source": [
    "oos_by_shop_4['Saturday'] = oos_by_shop_4['Saturday']/oos_by_shop_4['tier']"
   ],
   "metadata": {
    "collapsed": false,
    "pycharm": {
     "name": "#%%\n"
    }
   }
  },
  {
   "cell_type": "code",
   "execution_count": 70,
   "outputs": [],
   "source": [
    "oos_by_shop_4['Sunday'] = oos_by_shop_4['Sunday']/oos_by_shop_4['tier']"
   ],
   "metadata": {
    "collapsed": false,
    "pycharm": {
     "name": "#%%\n"
    }
   }
  },
  {
   "cell_type": "code",
   "execution_count": 71,
   "outputs": [],
   "source": [
    "oos_by_shop_4 = oos_by_shop_4.round({'Monday':0,'Tuesday':0,'Tuesday':0,'Wednesday':0,'Thursday':0,'Friday':0,'Saturday':0,'Sunday':0})\n"
   ],
   "metadata": {
    "collapsed": false,
    "pycharm": {
     "name": "#%%\n"
    }
   }
  },
  {
   "cell_type": "code",
   "execution_count": 71,
   "outputs": [],
   "source": [
    "\n"
   ],
   "metadata": {
    "collapsed": false,
    "pycharm": {
     "name": "#%%\n"
    }
   }
  },
  {
   "cell_type": "code",
   "execution_count": 71,
   "outputs": [],
   "source": [],
   "metadata": {
    "collapsed": false,
    "pycharm": {
     "name": "#%%\n"
    }
   }
  },
  {
   "cell_type": "code",
   "execution_count": 72,
   "outputs": [
    {
     "data": {
      "text/plain": "      Unnamed: 0  id_tt  id_tov  Friday  Monday  Saturday  Sunday  Thursday  \\\n0              0  11290      52     0.0     4.0       0.0     0.0       0.0   \n1              1  11357      52     0.0     0.0       0.0     0.0       1.0   \n2              2  11783      52     0.0     0.0       0.0     0.0       1.0   \n3              3  12860      52     0.0     0.0       0.0     0.0       2.0   \n4              4  15986      52     2.0     0.0       0.0     0.0       0.0   \n...          ...    ...     ...     ...     ...       ...     ...       ...   \n3754        4910  15986   62096     0.0     0.0       0.0     0.0       0.0   \n3755        4916  15986   64406     0.0     0.0       0.0     0.0       0.0   \n3756        4918  15986   64715     0.0     0.0       0.0     2.0       0.0   \n3757        4919  15986   65290     0.0     0.0       0.0     0.0       0.0   \n3758        4920  15986   65951     0.0     0.0       0.0     0.0       0.0   \n\n      Tuesday  Wednesday                                       name_tov  \\\n0         0.0        0.0                                    Сметана 25%   \n1         0.0        0.0                                    Сметана 25%   \n2         0.0        0.0                                    Сметана 25%   \n3         0.0        4.0                                    Сметана 25%   \n4         0.0        0.0                                    Сметана 25%   \n...       ...        ...                                            ...   \n3754      0.0        0.0                          Ролл с огурцом, 155 г   \n3755      0.0        0.0                      Бургер с куриной котлетой   \n3756      0.0        0.0                       Смузи \"Черная смородина\"   \n3757      0.0        0.0  Курица \"По-индонезийски\" с кускусом и овощами   \n3758      0.0        0.0                 Омлет с брокколи и сыром, кафе   \n\n                 name_gr  All_Weekdopost  сроксуток  tier  \n0     Молочная Продукция             4.0       81.0     1  \n1     Молочная Продукция             1.0       81.0     1  \n2     Молочная Продукция             1.0       81.0     1  \n3     Молочная Продукция             6.0       81.0     1  \n4     Молочная Продукция             2.0       81.0     1  \n...                  ...             ...        ...   ...  \n3754           Кулинария             2.0        3.0     5  \n3755           Кулинария             2.0        4.0     5  \n3756             Напитки             2.0       21.0     1  \n3757           Кулинария             3.0        4.0     5  \n3758                Кафе             3.0        4.0     5  \n\n[3759 rows x 15 columns]",
      "text/html": "<div>\n<style scoped>\n    .dataframe tbody tr th:only-of-type {\n        vertical-align: middle;\n    }\n\n    .dataframe tbody tr th {\n        vertical-align: top;\n    }\n\n    .dataframe thead th {\n        text-align: right;\n    }\n</style>\n<table border=\"1\" class=\"dataframe\">\n  <thead>\n    <tr style=\"text-align: right;\">\n      <th></th>\n      <th>Unnamed: 0</th>\n      <th>id_tt</th>\n      <th>id_tov</th>\n      <th>Friday</th>\n      <th>Monday</th>\n      <th>Saturday</th>\n      <th>Sunday</th>\n      <th>Thursday</th>\n      <th>Tuesday</th>\n      <th>Wednesday</th>\n      <th>name_tov</th>\n      <th>name_gr</th>\n      <th>All_Weekdopost</th>\n      <th>сроксуток</th>\n      <th>tier</th>\n    </tr>\n  </thead>\n  <tbody>\n    <tr>\n      <th>0</th>\n      <td>0</td>\n      <td>11290</td>\n      <td>52</td>\n      <td>0.0</td>\n      <td>4.0</td>\n      <td>0.0</td>\n      <td>0.0</td>\n      <td>0.0</td>\n      <td>0.0</td>\n      <td>0.0</td>\n      <td>Сметана 25%</td>\n      <td>Молочная Продукция</td>\n      <td>4.0</td>\n      <td>81.0</td>\n      <td>1</td>\n    </tr>\n    <tr>\n      <th>1</th>\n      <td>1</td>\n      <td>11357</td>\n      <td>52</td>\n      <td>0.0</td>\n      <td>0.0</td>\n      <td>0.0</td>\n      <td>0.0</td>\n      <td>1.0</td>\n      <td>0.0</td>\n      <td>0.0</td>\n      <td>Сметана 25%</td>\n      <td>Молочная Продукция</td>\n      <td>1.0</td>\n      <td>81.0</td>\n      <td>1</td>\n    </tr>\n    <tr>\n      <th>2</th>\n      <td>2</td>\n      <td>11783</td>\n      <td>52</td>\n      <td>0.0</td>\n      <td>0.0</td>\n      <td>0.0</td>\n      <td>0.0</td>\n      <td>1.0</td>\n      <td>0.0</td>\n      <td>0.0</td>\n      <td>Сметана 25%</td>\n      <td>Молочная Продукция</td>\n      <td>1.0</td>\n      <td>81.0</td>\n      <td>1</td>\n    </tr>\n    <tr>\n      <th>3</th>\n      <td>3</td>\n      <td>12860</td>\n      <td>52</td>\n      <td>0.0</td>\n      <td>0.0</td>\n      <td>0.0</td>\n      <td>0.0</td>\n      <td>2.0</td>\n      <td>0.0</td>\n      <td>4.0</td>\n      <td>Сметана 25%</td>\n      <td>Молочная Продукция</td>\n      <td>6.0</td>\n      <td>81.0</td>\n      <td>1</td>\n    </tr>\n    <tr>\n      <th>4</th>\n      <td>4</td>\n      <td>15986</td>\n      <td>52</td>\n      <td>2.0</td>\n      <td>0.0</td>\n      <td>0.0</td>\n      <td>0.0</td>\n      <td>0.0</td>\n      <td>0.0</td>\n      <td>0.0</td>\n      <td>Сметана 25%</td>\n      <td>Молочная Продукция</td>\n      <td>2.0</td>\n      <td>81.0</td>\n      <td>1</td>\n    </tr>\n    <tr>\n      <th>...</th>\n      <td>...</td>\n      <td>...</td>\n      <td>...</td>\n      <td>...</td>\n      <td>...</td>\n      <td>...</td>\n      <td>...</td>\n      <td>...</td>\n      <td>...</td>\n      <td>...</td>\n      <td>...</td>\n      <td>...</td>\n      <td>...</td>\n      <td>...</td>\n      <td>...</td>\n    </tr>\n    <tr>\n      <th>3754</th>\n      <td>4910</td>\n      <td>15986</td>\n      <td>62096</td>\n      <td>0.0</td>\n      <td>0.0</td>\n      <td>0.0</td>\n      <td>0.0</td>\n      <td>0.0</td>\n      <td>0.0</td>\n      <td>0.0</td>\n      <td>Ролл с огурцом, 155 г</td>\n      <td>Кулинария</td>\n      <td>2.0</td>\n      <td>3.0</td>\n      <td>5</td>\n    </tr>\n    <tr>\n      <th>3755</th>\n      <td>4916</td>\n      <td>15986</td>\n      <td>64406</td>\n      <td>0.0</td>\n      <td>0.0</td>\n      <td>0.0</td>\n      <td>0.0</td>\n      <td>0.0</td>\n      <td>0.0</td>\n      <td>0.0</td>\n      <td>Бургер с куриной котлетой</td>\n      <td>Кулинария</td>\n      <td>2.0</td>\n      <td>4.0</td>\n      <td>5</td>\n    </tr>\n    <tr>\n      <th>3756</th>\n      <td>4918</td>\n      <td>15986</td>\n      <td>64715</td>\n      <td>0.0</td>\n      <td>0.0</td>\n      <td>0.0</td>\n      <td>2.0</td>\n      <td>0.0</td>\n      <td>0.0</td>\n      <td>0.0</td>\n      <td>Смузи \"Черная смородина\"</td>\n      <td>Напитки</td>\n      <td>2.0</td>\n      <td>21.0</td>\n      <td>1</td>\n    </tr>\n    <tr>\n      <th>3757</th>\n      <td>4919</td>\n      <td>15986</td>\n      <td>65290</td>\n      <td>0.0</td>\n      <td>0.0</td>\n      <td>0.0</td>\n      <td>0.0</td>\n      <td>0.0</td>\n      <td>0.0</td>\n      <td>0.0</td>\n      <td>Курица \"По-индонезийски\" с кускусом и овощами</td>\n      <td>Кулинария</td>\n      <td>3.0</td>\n      <td>4.0</td>\n      <td>5</td>\n    </tr>\n    <tr>\n      <th>3758</th>\n      <td>4920</td>\n      <td>15986</td>\n      <td>65951</td>\n      <td>0.0</td>\n      <td>0.0</td>\n      <td>0.0</td>\n      <td>0.0</td>\n      <td>0.0</td>\n      <td>0.0</td>\n      <td>0.0</td>\n      <td>Омлет с брокколи и сыром, кафе</td>\n      <td>Кафе</td>\n      <td>3.0</td>\n      <td>4.0</td>\n      <td>5</td>\n    </tr>\n  </tbody>\n</table>\n<p>3759 rows × 15 columns</p>\n</div>"
     },
     "execution_count": 72,
     "metadata": {},
     "output_type": "execute_result"
    }
   ],
   "source": [
    "oos_by_shop_4"
   ],
   "metadata": {
    "collapsed": false,
    "pycharm": {
     "name": "#%%\n"
    }
   }
  },
  {
   "cell_type": "code",
   "execution_count": 72,
   "outputs": [],
   "source": [],
   "metadata": {
    "collapsed": false,
    "pycharm": {
     "name": "#%%\n"
    }
   }
  },
  {
   "cell_type": "code",
   "execution_count": 73,
   "outputs": [
    {
     "data": {
      "text/plain": "0       4.0\n1       1.0\n2       1.0\n3       6.0\n4       2.0\n       ... \n3754    0.0\n3755    0.0\n3756    2.0\n3757    0.0\n3758    0.0\nLength: 3759, dtype: float64"
     },
     "execution_count": 73,
     "metadata": {},
     "output_type": "execute_result"
    }
   ],
   "source": [
    "oos_by_shop_4[['Monday','Tuesday','Wednesday','Thursday','Friday','Saturday','Sunday']].sum(axis = 1)"
   ],
   "metadata": {
    "collapsed": false,
    "pycharm": {
     "name": "#%%\n"
    }
   }
  },
  {
   "cell_type": "code",
   "execution_count": 74,
   "outputs": [],
   "source": [
    "oos_by_shop_4['All_Weekdopost'] = oos_by_shop_4[['Monday','Tuesday','Wednesday','Thursday','Friday','Saturday','Sunday']].sum(axis = 1)\n"
   ],
   "metadata": {
    "collapsed": false,
    "pycharm": {
     "name": "#%%\n"
    }
   }
  },
  {
   "cell_type": "code",
   "execution_count": 74,
   "outputs": [],
   "source": [],
   "metadata": {
    "collapsed": false,
    "pycharm": {
     "name": "#%%\n"
    }
   }
  },
  {
   "cell_type": "code",
   "execution_count": 75,
   "outputs": [],
   "source": [
    "oos_by_shop_4 = oos_by_shop_4.merge(df_price[['Price_retail','id_tov']], how='left', on='id_tov',)"
   ],
   "metadata": {
    "collapsed": false,
    "pycharm": {
     "name": "#%%\n"
    }
   }
  },
  {
   "cell_type": "code",
   "execution_count": 76,
   "outputs": [],
   "source": [
    "oos_by_shop_4['overal_sum'] = oos_by_shop_4['Price_retail']* oos_by_shop_4['All_Weekdopost']"
   ],
   "metadata": {
    "collapsed": false,
    "pycharm": {
     "name": "#%%\n"
    }
   }
  },
  {
   "cell_type": "code",
   "execution_count": 77,
   "outputs": [
    {
     "data": {
      "text/plain": "686341.2212464431"
     },
     "execution_count": 77,
     "metadata": {},
     "output_type": "execute_result"
    }
   ],
   "source": [
    "oos_by_shop_4['overal_sum'].sum()"
   ],
   "metadata": {
    "collapsed": false,
    "pycharm": {
     "name": "#%%\n"
    }
   }
  },
  {
   "cell_type": "code",
   "execution_count": 78,
   "outputs": [
    {
     "data": {
      "text/plain": "6977.0"
     },
     "execution_count": 78,
     "metadata": {},
     "output_type": "execute_result"
    }
   ],
   "source": [
    "oos_by_shop_4[['Monday','Tuesday','Wednesday','Thursday','Friday','Saturday','Sunday']].sum(axis = 1).sum()"
   ],
   "metadata": {
    "collapsed": false,
    "pycharm": {
     "name": "#%%\n"
    }
   }
  },
  {
   "cell_type": "code",
   "execution_count": 79,
   "outputs": [
    {
     "data": {
      "text/plain": "                                           name_gr  overal_sum\n0                                         Алкоголь      3582.0\n1                                          Бакалея      2028.0\n2                                    Бытовая Химия       327.0\n3                                   Детские товары       250.0\n4                                  Детское питание       290.0\n5                                 Замороженные п/ф      1448.0\n6                                             Кафе      5236.0\n7                                      Консервация      1122.0\n8                                        Кулинария    123735.0\n9                           Кулинария замороженная       710.0\n10                           Личная гигиена и уход       687.0\n11                              Медицинские товары       238.0\n12                                     Микромаркет         0.0\n13                                  Мировые бренды       423.0\n14                              Молочная Продукция    164958.0\n15                                       Мороженое     11184.0\n16                               Мясная Витрина ВВ       554.0\n17                      Мясные деликатесы. Колбасы     11227.0\n18                      Мясо. Птица. П/ф охл. Яйца     64192.0\n19                                         Напитки      7131.0\n20                    Овощи. Фрукты. Грибы. Зелень    201343.0\n21                              Рыба. Морепродукты     15189.0\n22                                  Рыбная витрина      2417.0\n23                  Сладости, кондитерские изделия      7656.0\n24  Сухофрукты. Сушеные овощи, грибы, ягоды. Орехи       508.0\n25                                            Сыры     12913.0\n26                                 Товары для дома       204.0\n27                             Товары для животных       287.0\n28                     Торты, десерты замороженные         0.0\n29                        Торты, пирожные, десерты      2765.0\n30                                            Хлеб     43737.0",
      "text/html": "<div>\n<style scoped>\n    .dataframe tbody tr th:only-of-type {\n        vertical-align: middle;\n    }\n\n    .dataframe tbody tr th {\n        vertical-align: top;\n    }\n\n    .dataframe thead th {\n        text-align: right;\n    }\n</style>\n<table border=\"1\" class=\"dataframe\">\n  <thead>\n    <tr style=\"text-align: right;\">\n      <th></th>\n      <th>name_gr</th>\n      <th>overal_sum</th>\n    </tr>\n  </thead>\n  <tbody>\n    <tr>\n      <th>0</th>\n      <td>Алкоголь</td>\n      <td>3582.0</td>\n    </tr>\n    <tr>\n      <th>1</th>\n      <td>Бакалея</td>\n      <td>2028.0</td>\n    </tr>\n    <tr>\n      <th>2</th>\n      <td>Бытовая Химия</td>\n      <td>327.0</td>\n    </tr>\n    <tr>\n      <th>3</th>\n      <td>Детские товары</td>\n      <td>250.0</td>\n    </tr>\n    <tr>\n      <th>4</th>\n      <td>Детское питание</td>\n      <td>290.0</td>\n    </tr>\n    <tr>\n      <th>5</th>\n      <td>Замороженные п/ф</td>\n      <td>1448.0</td>\n    </tr>\n    <tr>\n      <th>6</th>\n      <td>Кафе</td>\n      <td>5236.0</td>\n    </tr>\n    <tr>\n      <th>7</th>\n      <td>Консервация</td>\n      <td>1122.0</td>\n    </tr>\n    <tr>\n      <th>8</th>\n      <td>Кулинария</td>\n      <td>123735.0</td>\n    </tr>\n    <tr>\n      <th>9</th>\n      <td>Кулинария замороженная</td>\n      <td>710.0</td>\n    </tr>\n    <tr>\n      <th>10</th>\n      <td>Личная гигиена и уход</td>\n      <td>687.0</td>\n    </tr>\n    <tr>\n      <th>11</th>\n      <td>Медицинские товары</td>\n      <td>238.0</td>\n    </tr>\n    <tr>\n      <th>12</th>\n      <td>Микромаркет</td>\n      <td>0.0</td>\n    </tr>\n    <tr>\n      <th>13</th>\n      <td>Мировые бренды</td>\n      <td>423.0</td>\n    </tr>\n    <tr>\n      <th>14</th>\n      <td>Молочная Продукция</td>\n      <td>164958.0</td>\n    </tr>\n    <tr>\n      <th>15</th>\n      <td>Мороженое</td>\n      <td>11184.0</td>\n    </tr>\n    <tr>\n      <th>16</th>\n      <td>Мясная Витрина ВВ</td>\n      <td>554.0</td>\n    </tr>\n    <tr>\n      <th>17</th>\n      <td>Мясные деликатесы. Колбасы</td>\n      <td>11227.0</td>\n    </tr>\n    <tr>\n      <th>18</th>\n      <td>Мясо. Птица. П/ф охл. Яйца</td>\n      <td>64192.0</td>\n    </tr>\n    <tr>\n      <th>19</th>\n      <td>Напитки</td>\n      <td>7131.0</td>\n    </tr>\n    <tr>\n      <th>20</th>\n      <td>Овощи. Фрукты. Грибы. Зелень</td>\n      <td>201343.0</td>\n    </tr>\n    <tr>\n      <th>21</th>\n      <td>Рыба. Морепродукты</td>\n      <td>15189.0</td>\n    </tr>\n    <tr>\n      <th>22</th>\n      <td>Рыбная витрина</td>\n      <td>2417.0</td>\n    </tr>\n    <tr>\n      <th>23</th>\n      <td>Сладости, кондитерские изделия</td>\n      <td>7656.0</td>\n    </tr>\n    <tr>\n      <th>24</th>\n      <td>Сухофрукты. Сушеные овощи, грибы, ягоды. Орехи</td>\n      <td>508.0</td>\n    </tr>\n    <tr>\n      <th>25</th>\n      <td>Сыры</td>\n      <td>12913.0</td>\n    </tr>\n    <tr>\n      <th>26</th>\n      <td>Товары для дома</td>\n      <td>204.0</td>\n    </tr>\n    <tr>\n      <th>27</th>\n      <td>Товары для животных</td>\n      <td>287.0</td>\n    </tr>\n    <tr>\n      <th>28</th>\n      <td>Торты, десерты замороженные</td>\n      <td>0.0</td>\n    </tr>\n    <tr>\n      <th>29</th>\n      <td>Торты, пирожные, десерты</td>\n      <td>2765.0</td>\n    </tr>\n    <tr>\n      <th>30</th>\n      <td>Хлеб</td>\n      <td>43737.0</td>\n    </tr>\n  </tbody>\n</table>\n</div>"
     },
     "execution_count": 79,
     "metadata": {},
     "output_type": "execute_result"
    }
   ],
   "source": [
    "oos_by_shop_4[[\"name_gr\",\"overal_sum\"]].groupby([\"name_gr\"], as_index=False)[\"overal_sum\"].sum().round()"
   ],
   "metadata": {
    "collapsed": false,
    "pycharm": {
     "name": "#%%\n"
    }
   }
  },
  {
   "cell_type": "code",
   "execution_count": 80,
   "outputs": [
    {
     "data": {
      "text/plain": "array([11290, 11357, 11783, 12860, 15986, 11956, 12414, 12533, 14112,\n       15753], dtype=int64)"
     },
     "execution_count": 80,
     "metadata": {},
     "output_type": "execute_result"
    }
   ],
   "source": [
    "oos_by_shop_4['id_tt'].unique()"
   ],
   "metadata": {
    "collapsed": false,
    "pycharm": {
     "name": "#%%\n"
    }
   }
  },
  {
   "cell_type": "code",
   "execution_count": 81,
   "outputs": [],
   "source": [
    "oos_by_shop_5 = oos_by_shop_4[oos_by_shop_4['All_Weekdopost'] != 0]"
   ],
   "metadata": {
    "collapsed": false,
    "pycharm": {
     "name": "#%%\n"
    }
   }
  },
  {
   "cell_type": "code",
   "execution_count": 82,
   "outputs": [
    {
     "data": {
      "text/plain": "                          name_gr  \\\n0    Овощи. Фрукты. Грибы. Зелень   \n1    Овощи. Фрукты. Грибы. Зелень   \n2    Овощи. Фрукты. Грибы. Зелень   \n3    Овощи. Фрукты. Грибы. Зелень   \n4    Овощи. Фрукты. Грибы. Зелень   \n..                            ...   \n877    Мясные деликатесы. Колбасы   \n878    Мясо. Птица. П/ф охл. Яйца   \n879    Мясо. Птица. П/ф охл. Яйца   \n880    Мясо. Птица. П/ф охл. Яйца   \n881    Мясо. Птица. П/ф охл. Яйца   \n\n                                              name_tov  \n0                                              Абрикос  \n1    Абрикос АзербайджанАбрикос АзербайджанАбрикос ...  \n2                                   Абрикос Крым, 1 кг  \n3                               Абрикос Медовый, 500 г  \n4                                     Абрикос Молдавия  \n..                                                 ...  \n877  Язык говяжий \"Традиционный\"Язык говяжий \"Тради...  \n878      Яйцо домашнее от кур бесклеточного содержания  \n879  Яйцо куриное С0Яйцо куриное С0Яйцо куриное С0Я...  \n880                     Яйцо куриное С1Яйцо куриное С1  \n881                                    Яйцо куриное С2  \n\n[882 rows x 2 columns]",
      "text/html": "<div>\n<style scoped>\n    .dataframe tbody tr th:only-of-type {\n        vertical-align: middle;\n    }\n\n    .dataframe tbody tr th {\n        vertical-align: top;\n    }\n\n    .dataframe thead th {\n        text-align: right;\n    }\n</style>\n<table border=\"1\" class=\"dataframe\">\n  <thead>\n    <tr style=\"text-align: right;\">\n      <th></th>\n      <th>name_gr</th>\n      <th>name_tov</th>\n    </tr>\n  </thead>\n  <tbody>\n    <tr>\n      <th>0</th>\n      <td>Овощи. Фрукты. Грибы. Зелень</td>\n      <td>Абрикос</td>\n    </tr>\n    <tr>\n      <th>1</th>\n      <td>Овощи. Фрукты. Грибы. Зелень</td>\n      <td>Абрикос АзербайджанАбрикос АзербайджанАбрикос ...</td>\n    </tr>\n    <tr>\n      <th>2</th>\n      <td>Овощи. Фрукты. Грибы. Зелень</td>\n      <td>Абрикос Крым, 1 кг</td>\n    </tr>\n    <tr>\n      <th>3</th>\n      <td>Овощи. Фрукты. Грибы. Зелень</td>\n      <td>Абрикос Медовый, 500 г</td>\n    </tr>\n    <tr>\n      <th>4</th>\n      <td>Овощи. Фрукты. Грибы. Зелень</td>\n      <td>Абрикос Молдавия</td>\n    </tr>\n    <tr>\n      <th>...</th>\n      <td>...</td>\n      <td>...</td>\n    </tr>\n    <tr>\n      <th>877</th>\n      <td>Мясные деликатесы. Колбасы</td>\n      <td>Язык говяжий \"Традиционный\"Язык говяжий \"Тради...</td>\n    </tr>\n    <tr>\n      <th>878</th>\n      <td>Мясо. Птица. П/ф охл. Яйца</td>\n      <td>Яйцо домашнее от кур бесклеточного содержания</td>\n    </tr>\n    <tr>\n      <th>879</th>\n      <td>Мясо. Птица. П/ф охл. Яйца</td>\n      <td>Яйцо куриное С0Яйцо куриное С0Яйцо куриное С0Я...</td>\n    </tr>\n    <tr>\n      <th>880</th>\n      <td>Мясо. Птица. П/ф охл. Яйца</td>\n      <td>Яйцо куриное С1Яйцо куриное С1</td>\n    </tr>\n    <tr>\n      <th>881</th>\n      <td>Мясо. Птица. П/ф охл. Яйца</td>\n      <td>Яйцо куриное С2</td>\n    </tr>\n  </tbody>\n</table>\n<p>882 rows × 2 columns</p>\n</div>"
     },
     "execution_count": 82,
     "metadata": {},
     "output_type": "execute_result"
    }
   ],
   "source": [
    "oos_by_shop_5[['name_gr','name_tov']].groupby([\"name_tov\",'name_gr'], as_index=False)[\"name_tov\"].sum()"
   ],
   "metadata": {
    "collapsed": false,
    "pycharm": {
     "name": "#%%\n"
    }
   }
  },
  {
   "cell_type": "code",
   "execution_count": 83,
   "outputs": [
    {
     "data": {
      "text/plain": "      Unnamed: 0  id_tt  id_tov  Friday  Monday  Saturday  Sunday  Thursday  \\\n0              0  11290      52     0.0     4.0       0.0     0.0       0.0   \n1              1  11357      52     0.0     0.0       0.0     0.0       1.0   \n2              2  11783      52     0.0     0.0       0.0     0.0       1.0   \n3              3  12860      52     0.0     0.0       0.0     0.0       2.0   \n4              4  15986      52     2.0     0.0       0.0     0.0       0.0   \n...          ...    ...     ...     ...     ...       ...     ...       ...   \n3747        4894  15986   47063     0.0     0.0       0.0     0.0       0.0   \n3748        4895  15986   50153     0.0     0.0       2.0     0.0       0.0   \n3749        4899  15986   51178     0.0     0.0       0.0     0.0       1.0   \n3751        4901  15986   53581     0.0     0.0       0.0     0.0       1.0   \n3756        4918  15986   64715     0.0     0.0       0.0     2.0       0.0   \n\n      Tuesday  Wednesday                                   name_tov  \\\n0         0.0        0.0                                Сметана 25%   \n1         0.0        0.0                                Сметана 25%   \n2         0.0        0.0                                Сметана 25%   \n3         0.0        4.0                                Сметана 25%   \n4         0.0        0.0                                Сметана 25%   \n...       ...        ...                                        ...   \n3747      0.0        2.0                          Рулет куриный Айс   \n3748      0.0        0.0                         Сорбет \"Облепиха\"    \n3749      0.0        0.0                           Кукис шоколадный   \n3751      1.0        0.0  Печенье с пармезаном, кунжутом и чесноком   \n3756      0.0        0.0                   Смузи \"Черная смородина\"   \n\n                             name_gr  All_Weekdopost  сроксуток  tier  \\\n0                 Молочная Продукция             4.0       81.0     1   \n1                 Молочная Продукция             1.0       81.0     1   \n2                 Молочная Продукция             1.0       81.0     1   \n3                 Молочная Продукция             6.0       81.0     1   \n4                 Молочная Продукция             2.0       81.0     1   \n...                              ...             ...        ...   ...   \n3747          Кулинария замороженная             2.0       90.0     1   \n3748                       Мороженое             2.0      180.0     1   \n3749  Сладости, кондитерские изделия             1.0       18.0     1   \n3751  Сладости, кондитерские изделия             2.0       30.0     1   \n3756                         Напитки             2.0       21.0     1   \n\n      Price_retail  overal_sum  \n0       131.818182  527.272727  \n1       131.818182  131.818182  \n2       131.818182  131.818182  \n3       131.818182  790.909091  \n4       131.818182  263.636364  \n...            ...         ...  \n3747    177.500000  355.000000  \n3748     88.333333  176.666667  \n3749     70.833333   70.833333  \n3751    133.333333  266.666667  \n3756           NaN         NaN  \n\n[2098 rows x 17 columns]",
      "text/html": "<div>\n<style scoped>\n    .dataframe tbody tr th:only-of-type {\n        vertical-align: middle;\n    }\n\n    .dataframe tbody tr th {\n        vertical-align: top;\n    }\n\n    .dataframe thead th {\n        text-align: right;\n    }\n</style>\n<table border=\"1\" class=\"dataframe\">\n  <thead>\n    <tr style=\"text-align: right;\">\n      <th></th>\n      <th>Unnamed: 0</th>\n      <th>id_tt</th>\n      <th>id_tov</th>\n      <th>Friday</th>\n      <th>Monday</th>\n      <th>Saturday</th>\n      <th>Sunday</th>\n      <th>Thursday</th>\n      <th>Tuesday</th>\n      <th>Wednesday</th>\n      <th>name_tov</th>\n      <th>name_gr</th>\n      <th>All_Weekdopost</th>\n      <th>сроксуток</th>\n      <th>tier</th>\n      <th>Price_retail</th>\n      <th>overal_sum</th>\n    </tr>\n  </thead>\n  <tbody>\n    <tr>\n      <th>0</th>\n      <td>0</td>\n      <td>11290</td>\n      <td>52</td>\n      <td>0.0</td>\n      <td>4.0</td>\n      <td>0.0</td>\n      <td>0.0</td>\n      <td>0.0</td>\n      <td>0.0</td>\n      <td>0.0</td>\n      <td>Сметана 25%</td>\n      <td>Молочная Продукция</td>\n      <td>4.0</td>\n      <td>81.0</td>\n      <td>1</td>\n      <td>131.818182</td>\n      <td>527.272727</td>\n    </tr>\n    <tr>\n      <th>1</th>\n      <td>1</td>\n      <td>11357</td>\n      <td>52</td>\n      <td>0.0</td>\n      <td>0.0</td>\n      <td>0.0</td>\n      <td>0.0</td>\n      <td>1.0</td>\n      <td>0.0</td>\n      <td>0.0</td>\n      <td>Сметана 25%</td>\n      <td>Молочная Продукция</td>\n      <td>1.0</td>\n      <td>81.0</td>\n      <td>1</td>\n      <td>131.818182</td>\n      <td>131.818182</td>\n    </tr>\n    <tr>\n      <th>2</th>\n      <td>2</td>\n      <td>11783</td>\n      <td>52</td>\n      <td>0.0</td>\n      <td>0.0</td>\n      <td>0.0</td>\n      <td>0.0</td>\n      <td>1.0</td>\n      <td>0.0</td>\n      <td>0.0</td>\n      <td>Сметана 25%</td>\n      <td>Молочная Продукция</td>\n      <td>1.0</td>\n      <td>81.0</td>\n      <td>1</td>\n      <td>131.818182</td>\n      <td>131.818182</td>\n    </tr>\n    <tr>\n      <th>3</th>\n      <td>3</td>\n      <td>12860</td>\n      <td>52</td>\n      <td>0.0</td>\n      <td>0.0</td>\n      <td>0.0</td>\n      <td>0.0</td>\n      <td>2.0</td>\n      <td>0.0</td>\n      <td>4.0</td>\n      <td>Сметана 25%</td>\n      <td>Молочная Продукция</td>\n      <td>6.0</td>\n      <td>81.0</td>\n      <td>1</td>\n      <td>131.818182</td>\n      <td>790.909091</td>\n    </tr>\n    <tr>\n      <th>4</th>\n      <td>4</td>\n      <td>15986</td>\n      <td>52</td>\n      <td>2.0</td>\n      <td>0.0</td>\n      <td>0.0</td>\n      <td>0.0</td>\n      <td>0.0</td>\n      <td>0.0</td>\n      <td>0.0</td>\n      <td>Сметана 25%</td>\n      <td>Молочная Продукция</td>\n      <td>2.0</td>\n      <td>81.0</td>\n      <td>1</td>\n      <td>131.818182</td>\n      <td>263.636364</td>\n    </tr>\n    <tr>\n      <th>...</th>\n      <td>...</td>\n      <td>...</td>\n      <td>...</td>\n      <td>...</td>\n      <td>...</td>\n      <td>...</td>\n      <td>...</td>\n      <td>...</td>\n      <td>...</td>\n      <td>...</td>\n      <td>...</td>\n      <td>...</td>\n      <td>...</td>\n      <td>...</td>\n      <td>...</td>\n      <td>...</td>\n      <td>...</td>\n    </tr>\n    <tr>\n      <th>3747</th>\n      <td>4894</td>\n      <td>15986</td>\n      <td>47063</td>\n      <td>0.0</td>\n      <td>0.0</td>\n      <td>0.0</td>\n      <td>0.0</td>\n      <td>0.0</td>\n      <td>0.0</td>\n      <td>2.0</td>\n      <td>Рулет куриный Айс</td>\n      <td>Кулинария замороженная</td>\n      <td>2.0</td>\n      <td>90.0</td>\n      <td>1</td>\n      <td>177.500000</td>\n      <td>355.000000</td>\n    </tr>\n    <tr>\n      <th>3748</th>\n      <td>4895</td>\n      <td>15986</td>\n      <td>50153</td>\n      <td>0.0</td>\n      <td>0.0</td>\n      <td>2.0</td>\n      <td>0.0</td>\n      <td>0.0</td>\n      <td>0.0</td>\n      <td>0.0</td>\n      <td>Сорбет \"Облепиха\"</td>\n      <td>Мороженое</td>\n      <td>2.0</td>\n      <td>180.0</td>\n      <td>1</td>\n      <td>88.333333</td>\n      <td>176.666667</td>\n    </tr>\n    <tr>\n      <th>3749</th>\n      <td>4899</td>\n      <td>15986</td>\n      <td>51178</td>\n      <td>0.0</td>\n      <td>0.0</td>\n      <td>0.0</td>\n      <td>0.0</td>\n      <td>1.0</td>\n      <td>0.0</td>\n      <td>0.0</td>\n      <td>Кукис шоколадный</td>\n      <td>Сладости, кондитерские изделия</td>\n      <td>1.0</td>\n      <td>18.0</td>\n      <td>1</td>\n      <td>70.833333</td>\n      <td>70.833333</td>\n    </tr>\n    <tr>\n      <th>3751</th>\n      <td>4901</td>\n      <td>15986</td>\n      <td>53581</td>\n      <td>0.0</td>\n      <td>0.0</td>\n      <td>0.0</td>\n      <td>0.0</td>\n      <td>1.0</td>\n      <td>1.0</td>\n      <td>0.0</td>\n      <td>Печенье с пармезаном, кунжутом и чесноком</td>\n      <td>Сладости, кондитерские изделия</td>\n      <td>2.0</td>\n      <td>30.0</td>\n      <td>1</td>\n      <td>133.333333</td>\n      <td>266.666667</td>\n    </tr>\n    <tr>\n      <th>3756</th>\n      <td>4918</td>\n      <td>15986</td>\n      <td>64715</td>\n      <td>0.0</td>\n      <td>0.0</td>\n      <td>0.0</td>\n      <td>2.0</td>\n      <td>0.0</td>\n      <td>0.0</td>\n      <td>0.0</td>\n      <td>Смузи \"Черная смородина\"</td>\n      <td>Напитки</td>\n      <td>2.0</td>\n      <td>21.0</td>\n      <td>1</td>\n      <td>NaN</td>\n      <td>NaN</td>\n    </tr>\n  </tbody>\n</table>\n<p>2098 rows × 17 columns</p>\n</div>"
     },
     "execution_count": 83,
     "metadata": {},
     "output_type": "execute_result"
    }
   ],
   "source": [
    "oos_by_shop_5"
   ],
   "metadata": {
    "collapsed": false,
    "pycharm": {
     "name": "#%%\n"
    }
   }
  },
  {
   "cell_type": "code",
   "execution_count": 100,
   "outputs": [],
   "source": [
    "oos_by_shop_6 = oos_by_shop_5.merge(id_tt_n_tt[['id_tt','n','adress','name_TT']], how = 'left', on = 'id_tt')"
   ],
   "metadata": {
    "collapsed": false,
    "pycharm": {
     "name": "#%%\n"
    }
   }
  },
  {
   "cell_type": "code",
   "execution_count": 92,
   "outputs": [
    {
     "data": {
      "text/plain": "Index(['Unnamed: 0', 'id_tt', 'id_tov', 'Friday', 'Monday', 'Saturday',\n       'Sunday', 'Thursday', 'Tuesday', 'Wednesday', 'name_tov', 'name_gr',\n       'All_Weekdopost', 'сроксуток', 'tier', 'Price_retail', 'overal_sum',\n       'n', 'adress'],\n      dtype='object')"
     },
     "execution_count": 92,
     "metadata": {},
     "output_type": "execute_result"
    }
   ],
   "source": [
    "oos_by_shop_6.columns"
   ],
   "metadata": {
    "collapsed": false,
    "pycharm": {
     "name": "#%%\n"
    }
   }
  },
  {
   "cell_type": "code",
   "execution_count": 101,
   "outputs": [],
   "source": [
    "oos_by_shop_7 = oos_by_shop_6[['id_tt','n', 'name_TT','adress', 'id_tov', 'name_tov', 'name_gr', 'Monday',  'Tuesday', 'Wednesday','Thursday','Friday','Saturday','Sunday']]"
   ],
   "metadata": {
    "collapsed": false,
    "pycharm": {
     "name": "#%%\n"
    }
   }
  },
  {
   "cell_type": "code",
   "execution_count": 103,
   "outputs": [
    {
     "data": {
      "text/plain": "   id_tt     n             name_TT                          adress  id_tov  \\\n0  11290  1020  1020М_Истринская10  Москва ул. Истринская д.10 к.1      52   \n1  11357  1087     1087М_Грекова22       Москва ул. Грекова, д. 22      52   \n2  11783  1501      1501М_Пырьева5       Москва ул. Пырьева, д. 5а      52   \n\n      name_tov             name_gr  Monday  Tuesday  Wednesday  Thursday  \\\n0  Сметана 25%  Молочная Продукция     4.0      0.0        0.0       0.0   \n1  Сметана 25%  Молочная Продукция     0.0      0.0        0.0       1.0   \n2  Сметана 25%  Молочная Продукция     0.0      0.0        0.0       1.0   \n\n   Friday  Saturday  Sunday  \n0     0.0       0.0     0.0  \n1     0.0       0.0     0.0  \n2     0.0       0.0     0.0  ",
      "text/html": "<div>\n<style scoped>\n    .dataframe tbody tr th:only-of-type {\n        vertical-align: middle;\n    }\n\n    .dataframe tbody tr th {\n        vertical-align: top;\n    }\n\n    .dataframe thead th {\n        text-align: right;\n    }\n</style>\n<table border=\"1\" class=\"dataframe\">\n  <thead>\n    <tr style=\"text-align: right;\">\n      <th></th>\n      <th>id_tt</th>\n      <th>n</th>\n      <th>name_TT</th>\n      <th>adress</th>\n      <th>id_tov</th>\n      <th>name_tov</th>\n      <th>name_gr</th>\n      <th>Monday</th>\n      <th>Tuesday</th>\n      <th>Wednesday</th>\n      <th>Thursday</th>\n      <th>Friday</th>\n      <th>Saturday</th>\n      <th>Sunday</th>\n    </tr>\n  </thead>\n  <tbody>\n    <tr>\n      <th>0</th>\n      <td>11290</td>\n      <td>1020</td>\n      <td>1020М_Истринская10</td>\n      <td>Москва ул. Истринская д.10 к.1</td>\n      <td>52</td>\n      <td>Сметана 25%</td>\n      <td>Молочная Продукция</td>\n      <td>4.0</td>\n      <td>0.0</td>\n      <td>0.0</td>\n      <td>0.0</td>\n      <td>0.0</td>\n      <td>0.0</td>\n      <td>0.0</td>\n    </tr>\n    <tr>\n      <th>1</th>\n      <td>11357</td>\n      <td>1087</td>\n      <td>1087М_Грекова22</td>\n      <td>Москва ул. Грекова, д. 22</td>\n      <td>52</td>\n      <td>Сметана 25%</td>\n      <td>Молочная Продукция</td>\n      <td>0.0</td>\n      <td>0.0</td>\n      <td>0.0</td>\n      <td>1.0</td>\n      <td>0.0</td>\n      <td>0.0</td>\n      <td>0.0</td>\n    </tr>\n    <tr>\n      <th>2</th>\n      <td>11783</td>\n      <td>1501</td>\n      <td>1501М_Пырьева5</td>\n      <td>Москва ул. Пырьева, д. 5а</td>\n      <td>52</td>\n      <td>Сметана 25%</td>\n      <td>Молочная Продукция</td>\n      <td>0.0</td>\n      <td>0.0</td>\n      <td>0.0</td>\n      <td>1.0</td>\n      <td>0.0</td>\n      <td>0.0</td>\n      <td>0.0</td>\n    </tr>\n  </tbody>\n</table>\n</div>"
     },
     "execution_count": 103,
     "metadata": {},
     "output_type": "execute_result"
    }
   ],
   "source": [
    "oos_by_shop_7.head(3)"
   ],
   "metadata": {
    "collapsed": false,
    "pycharm": {
     "name": "#%%\n"
    }
   }
  },
  {
   "cell_type": "code",
   "execution_count": 104,
   "outputs": [],
   "source": [
    "oos_by_shop_7.to_excel('Megasigma_postavki.xlsx')"
   ],
   "metadata": {
    "collapsed": false,
    "pycharm": {
     "name": "#%%\n"
    }
   }
  }
 ],
 "metadata": {
  "kernelspec": {
   "display_name": "Python 3.10.5 64-bit",
   "language": "python",
   "name": "python3"
  },
  "language_info": {
   "codemirror_mode": {
    "name": "ipython",
    "version": 3
   },
   "file_extension": ".py",
   "mimetype": "text/x-python",
   "name": "python",
   "nbconvert_exporter": "python",
   "pygments_lexer": "ipython3",
   "version": "3.10.5"
  },
  "vscode": {
   "interpreter": {
    "hash": "d14802a80fda041396e29d0ef764e9db1b52be87434e2145de2ac9afbbaeae6f"
   }
  }
 },
 "nbformat": 4,
 "nbformat_minor": 5
}
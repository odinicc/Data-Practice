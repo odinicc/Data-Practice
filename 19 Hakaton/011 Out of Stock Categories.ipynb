{
 "cells": [
  {
   "cell_type": "code",
   "execution_count": 1,
   "id": "02d59dd2",
   "metadata": {},
   "outputs": [],
   "source": [
    "import pandas as pd\n",
    "import numpy as np\n",
    "from tqdm import tqdm_notebook\n",
    "pd.set_option('display.max_columns',None)"
   ]
  },
  {
   "cell_type": "code",
   "execution_count": 2,
   "id": "fda51c98",
   "metadata": {},
   "outputs": [],
   "source": [
    "from pandas.api.types import CategoricalDtype\n",
    "\n",
    "import matplotlib.pyplot as plt\n",
    "import seaborn as sns\n",
    "import plotly.express as px\n",
    "import plotly\n",
    "from tqdm import tqdm\n",
    "\n",
    "sns.set(style='whitegrid')\n",
    "plt.rcParams['figure.figsize']=(15,5)\n",
    "%config InlineBackend.figure_format = 'png'\n",
    "%matplotlib inline"
   ]
  },
  {
   "cell_type": "markdown",
   "id": "6395b3fb",
   "metadata": {},
   "source": [
    "Загружаем данные в датафреймы "
   ]
  },
  {
   "cell_type": "code",
   "execution_count": 3,
   "id": "66481149",
   "metadata": {},
   "outputs": [],
   "source": [
    "df_ost = pd.read_pickle(\"./df_ost.pkl\")\n",
    "df_category = pd.read_pickle(\"./df_category.pkl\")\n",
    "df_worst_milk_sales_bad_shops = pd.read_pickle(\"./df_worst_milk_sales_bad_shops.pkl\")\n",
    "df_best_milk_sales_good_shops = pd.read_pickle(\"./df_best_milk_sales_good_shops.pkl\")\n",
    "df_shops = pd.read_pickle(\"./df_shops.pkl\")\n"
   ]
  },
  {
   "cell_type": "code",
   "execution_count": 4,
   "id": "741a7c52",
   "metadata": {},
   "outputs": [],
   "source": [
    "#исправляем колонки\n",
    "df_shops.columns = list(map(''.join, df_shops.columns.values))"
   ]
  },
  {
   "cell_type": "code",
   "execution_count": 5,
   "id": "d41224db",
   "metadata": {},
   "outputs": [],
   "source": [
    "#берем только те товары у которых было наличие по магазинам по всем магазинам больше чем 3000 за 3 месяца\n",
    "#таким образом стараемся брать популярные товары\n",
    "df_category_milk = df_category[['name_gr2','id_tov','name_tov','date_ttcount']][(df_category['name_gr'] =='Молочная Продукция') & (df_category['date_ttcount'] > 3000)]\n",
    "#формируем список имен молочных товаров \n",
    "milk_items = df_category_milk['name_tov'].unique().tolist()\n",
    "#формируем список id молочных товаров \n",
    "milk_items_id = df_category_milk['id_tov'].unique().tolist()"
   ]
  },
  {
   "cell_type": "code",
   "execution_count": 6,
   "id": "fd421914",
   "metadata": {},
   "outputs": [],
   "source": [
    "#составляем общий список из хороших, плохих и всех магазинов \n",
    "lis_good_shops = df_best_milk_sales_good_shops.index.values.tolist()\n",
    "lis_bad_shops = df_worst_milk_sales_bad_shops.index.values.tolist()\n",
    "lis_good_bad_shops = lis_good_shops + lis_bad_shops\n",
    "lis_all_shops = df_shops.index.tolist()\n"
   ]
  },
  {
   "cell_type": "code",
   "execution_count": 7,
   "id": "12a28b7d",
   "metadata": {},
   "outputs": [],
   "source": [
    "df_checks_short = pd.read_pickle(\"./df_checks_short.pkl\")"
   ]
  },
  {
   "cell_type": "markdown",
   "id": "9c787c40",
   "metadata": {},
   "source": [
    "Считаем общие продажи по магазинам "
   ]
  },
  {
   "cell_type": "code",
   "execution_count": 143,
   "id": "4125319a",
   "metadata": {},
   "outputs": [],
   "source": [
    "#Считаем общие продажи по каждому магазину\n",
    "df_id_tt_cl_sales = df_checks_short[df_checks_short['id_tt_cl'].isin(lis_good_bad_shops)].pivot_table(index=['id_tt_cl'],values = ['BaseSum'],aggfunc= 'sum',fill_value=0).reset_index()"
   ]
  },
  {
   "cell_type": "code",
   "execution_count": 145,
   "id": "995e8df8",
   "metadata": {},
   "outputs": [],
   "source": [
    "#Вычисляем общий коеффициент как продажи в конкретном магазине отличаются от среднего  \n",
    "df_id_tt_cl_sales['Sales_koeff'] = (df_id_tt_cl_sales['BaseSum']) / (df_id_tt_cl_sales['BaseSum'].mean())"
   ]
  },
  {
   "cell_type": "code",
   "execution_count": 147,
   "id": "8ac05bb5",
   "metadata": {},
   "outputs": [
    {
     "data": {
      "text/plain": [
       "39245517.42911764"
      ]
     },
     "execution_count": 147,
     "metadata": {},
     "output_type": "execute_result"
    }
   ],
   "source": [
    "#Вычисляем средние продажи по всем магазинам \n",
    "(df_id_tt_cl_sales['BaseSum'].mean())"
   ]
  },
  {
   "cell_type": "code",
   "execution_count": 146,
   "id": "6f04b528",
   "metadata": {},
   "outputs": [
    {
     "data": {
      "text/html": [
       "<div>\n",
       "<style scoped>\n",
       "    .dataframe tbody tr th:only-of-type {\n",
       "        vertical-align: middle;\n",
       "    }\n",
       "\n",
       "    .dataframe tbody tr th {\n",
       "        vertical-align: top;\n",
       "    }\n",
       "\n",
       "    .dataframe thead th {\n",
       "        text-align: right;\n",
       "    }\n",
       "</style>\n",
       "<table border=\"1\" class=\"dataframe\">\n",
       "  <thead>\n",
       "    <tr style=\"text-align: right;\">\n",
       "      <th></th>\n",
       "      <th>id_tt_cl</th>\n",
       "      <th>BaseSum</th>\n",
       "      <th>Sales_koeff</th>\n",
       "    </tr>\n",
       "  </thead>\n",
       "  <tbody>\n",
       "    <tr>\n",
       "      <th>0</th>\n",
       "      <td>10778</td>\n",
       "      <td>43277928.38</td>\n",
       "      <td>1.102748</td>\n",
       "    </tr>\n",
       "  </tbody>\n",
       "</table>\n",
       "</div>"
      ],
      "text/plain": [
       "   id_tt_cl      BaseSum  Sales_koeff\n",
       "0     10778  43277928.38     1.102748"
      ]
     },
     "execution_count": 146,
     "metadata": {},
     "output_type": "execute_result"
    }
   ],
   "source": [
    "df_id_tt_cl_sales.head(1)"
   ]
  },
  {
   "cell_type": "code",
   "execution_count": 162,
   "id": "99871464",
   "metadata": {},
   "outputs": [],
   "source": [
    "#Вычислим на сколько нужно делить продажи и показатели в хороших магазинах чтобы нормировать их на общие продажи с учетом размера и товарооборота \n",
    "diff_koef_gs = df_id_tt_cl_sales[df_id_tt_cl_sales['id_tt_cl'].isin(lis_good_shops)]['Sales_koeff'].sum() / df_id_tt_cl_sales[df_id_tt_cl_sales['id_tt_cl'].isin(lis_good_shops)].shape[0]\n",
    "diff_koef_bs = df_id_tt_cl_sales[df_id_tt_cl_sales['id_tt_cl'].isin(lis_bad_shops)]['Sales_koeff'].sum() / df_id_tt_cl_sales[df_id_tt_cl_sales['id_tt_cl'].isin(lis_bad_shops)].shape[0]\n",
    "diff_koef_as = df_id_tt_cl_sales[df_id_tt_cl_sales['id_tt_cl'].isin(lis_all_shops)]['Sales_koeff'].sum() / df_id_tt_cl_sales[df_id_tt_cl_sales['id_tt_cl'].isin(lis_all_shops)].shape[0]"
   ]
  },
  {
   "cell_type": "code",
   "execution_count": 163,
   "id": "debc9cb9",
   "metadata": {},
   "outputs": [
    {
     "name": "stdout",
     "output_type": "stream",
     "text": [
      "diff_koef_gs 0.69    diff_koef_as 1.0   diff_koef_bs  1.25\n"
     ]
    }
   ],
   "source": [
    "print('diff_koef_gs',diff_koef_gs.round(2),'   diff_koef_as',diff_koef_as.round(2),'  diff_koef_bs ',diff_koef_bs.round(2))"
   ]
  },
  {
   "cell_type": "code",
   "execution_count": 11,
   "id": "dc23d6e9",
   "metadata": {},
   "outputs": [],
   "source": [
    "#Вычислим на сколько нужно умножать продажи и показатели в хороших магазинах чтобы нормировать их на общие продажи \n",
    "diff_koef = df_id_tt_cl_sales[df_id_tt_cl_sales['id_tt_cl'].isin(lis_bad_shops)]['Sales_koeff'].sum() / df_id_tt_cl_sales[df_id_tt_cl_sales['id_tt_cl'].isin(lis_good_shops)]['Sales_koeff'].sum()"
   ]
  },
  {
   "cell_type": "code",
   "execution_count": 12,
   "id": "721ceb4d",
   "metadata": {},
   "outputs": [],
   "source": [
    "diff_koef = diff_koef.round(2)"
   ]
  },
  {
   "cell_type": "code",
   "execution_count": 13,
   "id": "add48c04",
   "metadata": {},
   "outputs": [],
   "source": [
    "df_id_tt_cl_sales.to_excel('df_id_tt_cl_sales.xlsx')"
   ]
  },
  {
   "cell_type": "markdown",
   "id": "bb0d8dc8",
   "metadata": {},
   "source": [
    "Считаем общие продажи молочки по магазинам "
   ]
  },
  {
   "cell_type": "code",
   "execution_count": 14,
   "id": "3be329e1",
   "metadata": {},
   "outputs": [],
   "source": [
    "#Считаем общие продажи молочки по каждому магазину\n",
    "df_id_tt_cl_milk_sales = df_checks_short[(df_checks_short['id_tt_cl'].isin(lis_good_bad_shops)) & (df_checks_short['id_tov_cl'].isin(milk_items_id))].pivot_table(index=['id_tt_cl'],values = ['BaseSum'],aggfunc= 'sum',fill_value=0).reset_index()"
   ]
  },
  {
   "cell_type": "code",
   "execution_count": 15,
   "id": "5bdfe5ec",
   "metadata": {},
   "outputs": [],
   "source": [
    "#Вычисляем общий коеффициент как продажи в конкретном магазине отличаются от среднего  \n",
    "df_id_tt_cl_milk_sales['Sales_koeff'] = (df_id_tt_cl_milk_sales['BaseSum']) / (df_id_tt_cl_milk_sales['BaseSum'].mean())"
   ]
  },
  {
   "cell_type": "code",
   "execution_count": 16,
   "id": "204eef30",
   "metadata": {},
   "outputs": [],
   "source": [
    "#Вычислим на сколько нужно умножать продажи и показатели в хороших магазинах чтобы нормировать их на общие продажи \n",
    "diff_koef_milk = df_id_tt_cl_milk_sales[df_id_tt_cl_milk_sales['id_tt_cl'].isin(lis_bad_shops)]['Sales_koeff'].sum() / df_id_tt_cl_milk_sales[df_id_tt_cl_milk_sales['id_tt_cl'].isin(lis_good_shops)]['Sales_koeff'].sum()"
   ]
  },
  {
   "cell_type": "code",
   "execution_count": 17,
   "id": "dbf0a5ea",
   "metadata": {},
   "outputs": [],
   "source": [
    "diff_koef_milk = diff_koef_milk.round(2)"
   ]
  },
  {
   "cell_type": "code",
   "execution_count": 18,
   "id": "25e85eb7",
   "metadata": {},
   "outputs": [],
   "source": [
    "df_id_tt_cl_milk_sales.to_excel('df_id_tt_cl_milk_sales.xlsx')"
   ]
  },
  {
   "cell_type": "code",
   "execution_count": 19,
   "id": "e2bf765e",
   "metadata": {},
   "outputs": [
    {
     "data": {
      "text/plain": [
       "2.29"
      ]
     },
     "execution_count": 19,
     "metadata": {},
     "output_type": "execute_result"
    }
   ],
   "source": [
    "diff_koef"
   ]
  },
  {
   "cell_type": "code",
   "execution_count": 20,
   "id": "7f8b58d8",
   "metadata": {},
   "outputs": [
    {
     "data": {
      "text/html": [
       "<div>\n",
       "<style scoped>\n",
       "    .dataframe tbody tr th:only-of-type {\n",
       "        vertical-align: middle;\n",
       "    }\n",
       "\n",
       "    .dataframe tbody tr th {\n",
       "        vertical-align: top;\n",
       "    }\n",
       "\n",
       "    .dataframe thead th {\n",
       "        text-align: right;\n",
       "    }\n",
       "</style>\n",
       "<table border=\"1\" class=\"dataframe\">\n",
       "  <thead>\n",
       "    <tr style=\"text-align: right;\">\n",
       "      <th></th>\n",
       "      <th>name_gr2</th>\n",
       "      <th>id_tov</th>\n",
       "      <th>name_tov</th>\n",
       "      <th>date_ttcount</th>\n",
       "    </tr>\n",
       "  </thead>\n",
       "  <tbody>\n",
       "    <tr>\n",
       "      <th>323</th>\n",
       "      <td>Молоко</td>\n",
       "      <td>61</td>\n",
       "      <td>Молоко цельное</td>\n",
       "      <td>5317</td>\n",
       "    </tr>\n",
       "    <tr>\n",
       "      <th>324</th>\n",
       "      <td>Молоко</td>\n",
       "      <td>173</td>\n",
       "      <td>Молоко 3,2%</td>\n",
       "      <td>4349</td>\n",
       "    </tr>\n",
       "    <tr>\n",
       "      <th>325</th>\n",
       "      <td>Молоко</td>\n",
       "      <td>15433</td>\n",
       "      <td>Молоко 2,5% в бутылке, 450 мл</td>\n",
       "      <td>5139</td>\n",
       "    </tr>\n",
       "    <tr>\n",
       "      <th>326</th>\n",
       "      <td>Молоко</td>\n",
       "      <td>17525</td>\n",
       "      <td>Молоко 3,2% в бутылке</td>\n",
       "      <td>5373</td>\n",
       "    </tr>\n",
       "    <tr>\n",
       "      <th>327</th>\n",
       "      <td>Молоко</td>\n",
       "      <td>17736</td>\n",
       "      <td>Молоко цельное в бутылке</td>\n",
       "      <td>5390</td>\n",
       "    </tr>\n",
       "    <tr>\n",
       "      <th>...</th>\n",
       "      <td>...</td>\n",
       "      <td>...</td>\n",
       "      <td>...</td>\n",
       "      <td>...</td>\n",
       "    </tr>\n",
       "    <tr>\n",
       "      <th>657</th>\n",
       "      <td>Кефир</td>\n",
       "      <td>49753</td>\n",
       "      <td>Кефир 3,2% с крышкой</td>\n",
       "      <td>3344</td>\n",
       "    </tr>\n",
       "    <tr>\n",
       "      <th>659</th>\n",
       "      <td>Кефир</td>\n",
       "      <td>58192</td>\n",
       "      <td>Кефир 3,2%, 290 г</td>\n",
       "      <td>3964</td>\n",
       "    </tr>\n",
       "    <tr>\n",
       "      <th>661</th>\n",
       "      <td>Кефир</td>\n",
       "      <td>58202</td>\n",
       "      <td>Кефир 2,5%, 290 г</td>\n",
       "      <td>4215</td>\n",
       "    </tr>\n",
       "    <tr>\n",
       "      <th>664</th>\n",
       "      <td>Безлактозные продукты</td>\n",
       "      <td>19628</td>\n",
       "      <td>Молоко безлактозное 3,5-4,5%</td>\n",
       "      <td>3392</td>\n",
       "    </tr>\n",
       "    <tr>\n",
       "      <th>666</th>\n",
       "      <td>Безлактозные продукты</td>\n",
       "      <td>38022</td>\n",
       "      <td>Творог натуральный безлактозный 4,5%</td>\n",
       "      <td>3118</td>\n",
       "    </tr>\n",
       "  </tbody>\n",
       "</table>\n",
       "<p>127 rows × 4 columns</p>\n",
       "</div>"
      ],
      "text/plain": [
       "                  name_gr2  id_tov                              name_tov  \\\n",
       "323                 Молоко      61                        Молоко цельное   \n",
       "324                 Молоко     173                           Молоко 3,2%   \n",
       "325                 Молоко   15433         Молоко 2,5% в бутылке, 450 мл   \n",
       "326                 Молоко   17525                 Молоко 3,2% в бутылке   \n",
       "327                 Молоко   17736              Молоко цельное в бутылке   \n",
       "..                     ...     ...                                   ...   \n",
       "657                  Кефир   49753                  Кефир 3,2% с крышкой   \n",
       "659                  Кефир   58192                     Кефир 3,2%, 290 г   \n",
       "661                  Кефир   58202                     Кефир 2,5%, 290 г   \n",
       "664  Безлактозные продукты   19628          Молоко безлактозное 3,5-4,5%   \n",
       "666  Безлактозные продукты   38022  Творог натуральный безлактозный 4,5%   \n",
       "\n",
       "     date_ttcount  \n",
       "323          5317  \n",
       "324          4349  \n",
       "325          5139  \n",
       "326          5373  \n",
       "327          5390  \n",
       "..            ...  \n",
       "657          3344  \n",
       "659          3964  \n",
       "661          4215  \n",
       "664          3392  \n",
       "666          3118  \n",
       "\n",
       "[127 rows x 4 columns]"
      ]
     },
     "execution_count": 20,
     "metadata": {},
     "output_type": "execute_result"
    }
   ],
   "source": [
    "df_category_milk"
   ]
  },
  {
   "cell_type": "markdown",
   "id": "9e62f284",
   "metadata": {},
   "source": [
    "Будем считать OOS по молочке по хорошим, плохим магазинам и в среднем "
   ]
  },
  {
   "cell_type": "code",
   "execution_count": 21,
   "id": "0aeec4b4",
   "metadata": {},
   "outputs": [
    {
     "data": {
      "text/plain": [
       "\"\\ndef OOS2(cat, group_type):\\n    bad_shop_oos_stock = df_ost[(df_ost[group_type] == cat) \\n    & (df_ost['evening'].isna()) \\n    & (df_ost['id_tt'].isin(lis_bad_shops))]\\n\\n    good_shop_oos_stock = df_ost[(df_ost[group_type] == cat) \\n    & (df_ost['evening'].isna()) \\n    & (df_ost['id_tt'].isin(lis_good_shops))]\\n\\n    OOS_in_good_shops  = len(good_shop_oos_stock.index)\\n    OOS_in_bad_shops  = len(bad_shop_oos_stock.index)\\n    OOS_percent = 1- len(good_shop_oos_stock.index)/(len(bad_shop_oos_stock.index)+1)\\n\\n    return OOS_in_good_shops, OOS_in_bad_shops , OOS_percent\\n\""
      ]
     },
     "execution_count": 21,
     "metadata": {},
     "output_type": "execute_result"
    }
   ],
   "source": [
    "'''\n",
    "def OOS2(cat, group_type):\n",
    "    bad_shop_oos_stock = df_ost[(df_ost[group_type] == cat) \n",
    "    & (df_ost['evening'].isna()) \n",
    "    & (df_ost['id_tt'].isin(lis_bad_shops))]\n",
    "\n",
    "    good_shop_oos_stock = df_ost[(df_ost[group_type] == cat) \n",
    "    & (df_ost['evening'].isna()) \n",
    "    & (df_ost['id_tt'].isin(lis_good_shops))]\n",
    "\n",
    "    OOS_in_good_shops  = len(good_shop_oos_stock.index)\n",
    "    OOS_in_bad_shops  = len(bad_shop_oos_stock.index)\n",
    "    OOS_percent = 1- len(good_shop_oos_stock.index)/(len(bad_shop_oos_stock.index)+1)\n",
    "\n",
    "    return OOS_in_good_shops, OOS_in_bad_shops , OOS_percent\n",
    "'''"
   ]
  },
  {
   "cell_type": "code",
   "execution_count": 22,
   "id": "ba466bf7",
   "metadata": {},
   "outputs": [],
   "source": [
    "def OOS(cat, group_type):\n",
    "    bad_shop_oos_stock = df_ost[(df_ost[group_type] == cat) \n",
    "    & (df_ost['evening'].isna()) \n",
    "    & (df_ost['id_tt'].isin(lis_bad_shops))]\n",
    "\n",
    "    good_shop_oos_stock = df_ost[(df_ost[group_type] == cat) \n",
    "    & (df_ost['evening'].isna()) \n",
    "    & (df_ost['id_tt'].isin(lis_good_shops))]\n",
    "\n",
    "    all_shop_oos_stock = df_ost[(df_ost[group_type] == cat) \n",
    "    & (df_ost['evening'].isna()) \n",
    "    & (df_ost['id_tt'].isin(lis_all_shops))]\n",
    "\n",
    "    OOS_in_good_shops  = len(good_shop_oos_stock.index)\n",
    "    OOS_in_bad_shops  = len(bad_shop_oos_stock.index)\n",
    "    OOS_in_avg_shops = len(all_shop_oos_stock.index)\n",
    "\n",
    "    return OOS_in_good_shops, OOS_in_bad_shops , OOS_in_avg_shops"
   ]
  },
  {
   "cell_type": "code",
   "execution_count": 23,
   "id": "114f5e6a",
   "metadata": {},
   "outputs": [],
   "source": [
    "def item_name_to_id(name):\n",
    "    id = df_category[df_category['name_tov'] == name ]['id_tov'].iloc[0].item()\n",
    "    return id"
   ]
  },
  {
   "cell_type": "code",
   "execution_count": 24,
   "id": "3831f5c9",
   "metadata": {},
   "outputs": [
    {
     "data": {
      "text/plain": [
       "int"
      ]
     },
     "execution_count": 24,
     "metadata": {},
     "output_type": "execute_result"
    }
   ],
   "source": [
    "type(item_name_to_id('Зубочистки (1000шт)'))"
   ]
  },
  {
   "cell_type": "code",
   "execution_count": 25,
   "id": "783b612e",
   "metadata": {},
   "outputs": [
    {
     "data": {
      "text/html": [
       "<div>\n",
       "<style scoped>\n",
       "    .dataframe tbody tr th:only-of-type {\n",
       "        vertical-align: middle;\n",
       "    }\n",
       "\n",
       "    .dataframe tbody tr th {\n",
       "        vertical-align: top;\n",
       "    }\n",
       "\n",
       "    .dataframe thead th {\n",
       "        text-align: right;\n",
       "    }\n",
       "</style>\n",
       "<table border=\"1\" class=\"dataframe\">\n",
       "  <thead>\n",
       "    <tr style=\"text-align: right;\">\n",
       "      <th></th>\n",
       "      <th>id_group</th>\n",
       "      <th>name_gr</th>\n",
       "      <th>id_group2</th>\n",
       "      <th>name_gr2</th>\n",
       "      <th>id_tov</th>\n",
       "      <th>name_tov</th>\n",
       "      <th>date_ttcount</th>\n",
       "    </tr>\n",
       "  </thead>\n",
       "  <tbody>\n",
       "    <tr>\n",
       "      <th>0</th>\n",
       "      <td>11</td>\n",
       "      <td>Прочее</td>\n",
       "      <td>100</td>\n",
       "      <td>ХозТовары</td>\n",
       "      <td>942</td>\n",
       "      <td>Комус Ёмкость РК-19</td>\n",
       "      <td>6</td>\n",
       "    </tr>\n",
       "    <tr>\n",
       "      <th>1</th>\n",
       "      <td>11</td>\n",
       "      <td>Прочее</td>\n",
       "      <td>100</td>\n",
       "      <td>ХозТовары</td>\n",
       "      <td>1260</td>\n",
       "      <td>Кассовая лента ВкусВилл (широкая)</td>\n",
       "      <td>26</td>\n",
       "    </tr>\n",
       "    <tr>\n",
       "      <th>2</th>\n",
       "      <td>11</td>\n",
       "      <td>Прочее</td>\n",
       "      <td>100</td>\n",
       "      <td>ХозТовары</td>\n",
       "      <td>1269</td>\n",
       "      <td>Зубочистки (1000шт)</td>\n",
       "      <td>2</td>\n",
       "    </tr>\n",
       "    <tr>\n",
       "      <th>3</th>\n",
       "      <td>11</td>\n",
       "      <td>Прочее</td>\n",
       "      <td>100</td>\n",
       "      <td>ХозТовары</td>\n",
       "      <td>1271</td>\n",
       "      <td>Стаканчики (100шт)</td>\n",
       "      <td>3</td>\n",
       "    </tr>\n",
       "    <tr>\n",
       "      <th>4</th>\n",
       "      <td>11</td>\n",
       "      <td>Прочее</td>\n",
       "      <td>100</td>\n",
       "      <td>ХозТовары</td>\n",
       "      <td>1272</td>\n",
       "      <td>Скотч</td>\n",
       "      <td>5</td>\n",
       "    </tr>\n",
       "    <tr>\n",
       "      <th>...</th>\n",
       "      <td>...</td>\n",
       "      <td>...</td>\n",
       "      <td>...</td>\n",
       "      <td>...</td>\n",
       "      <td>...</td>\n",
       "      <td>...</td>\n",
       "      <td>...</td>\n",
       "    </tr>\n",
       "    <tr>\n",
       "      <th>6640</th>\n",
       "      <td>10966</td>\n",
       "      <td>Чай и кофе. Проекты</td>\n",
       "      <td>10662</td>\n",
       "      <td>Сырье для Кофе с собой</td>\n",
       "      <td>30085</td>\n",
       "      <td>Кофе зерновой BLEND #5, 1кг</td>\n",
       "      <td>71</td>\n",
       "    </tr>\n",
       "    <tr>\n",
       "      <th>6641</th>\n",
       "      <td>10966</td>\n",
       "      <td>Чай и кофе. Проекты</td>\n",
       "      <td>10662</td>\n",
       "      <td>Сырье для Кофе с собой</td>\n",
       "      <td>30572</td>\n",
       "      <td>Кофе Флэт Уайт 0.2</td>\n",
       "      <td>6</td>\n",
       "    </tr>\n",
       "    <tr>\n",
       "      <th>6642</th>\n",
       "      <td>10966</td>\n",
       "      <td>Чай и кофе. Проекты</td>\n",
       "      <td>10662</td>\n",
       "      <td>Сырье для Кофе с собой</td>\n",
       "      <td>39254</td>\n",
       "      <td>Какао-напиток \"Choco 01 Rich Dark\", 1кг</td>\n",
       "      <td>141</td>\n",
       "    </tr>\n",
       "    <tr>\n",
       "      <th>6643</th>\n",
       "      <td>10966</td>\n",
       "      <td>Чай и кофе. Проекты</td>\n",
       "      <td>10662</td>\n",
       "      <td>Сырье для Кофе с собой</td>\n",
       "      <td>39255</td>\n",
       "      <td>Кофе зерновой \"SOLD OUT\", 1 кг</td>\n",
       "      <td>141</td>\n",
       "    </tr>\n",
       "    <tr>\n",
       "      <th>6644</th>\n",
       "      <td>10966</td>\n",
       "      <td>Чай и кофе. Проекты</td>\n",
       "      <td>10662</td>\n",
       "      <td>Сырье для Кофе с собой</td>\n",
       "      <td>44099</td>\n",
       "      <td>Какао Алмафуд Rich Granul, 1кг</td>\n",
       "      <td>215</td>\n",
       "    </tr>\n",
       "  </tbody>\n",
       "</table>\n",
       "<p>6645 rows × 7 columns</p>\n",
       "</div>"
      ],
      "text/plain": [
       "      id_group              name_gr  id_group2                name_gr2  \\\n",
       "0           11               Прочее        100               ХозТовары   \n",
       "1           11               Прочее        100               ХозТовары   \n",
       "2           11               Прочее        100               ХозТовары   \n",
       "3           11               Прочее        100               ХозТовары   \n",
       "4           11               Прочее        100               ХозТовары   \n",
       "...        ...                  ...        ...                     ...   \n",
       "6640     10966  Чай и кофе. Проекты      10662  Сырье для Кофе с собой   \n",
       "6641     10966  Чай и кофе. Проекты      10662  Сырье для Кофе с собой   \n",
       "6642     10966  Чай и кофе. Проекты      10662  Сырье для Кофе с собой   \n",
       "6643     10966  Чай и кофе. Проекты      10662  Сырье для Кофе с собой   \n",
       "6644     10966  Чай и кофе. Проекты      10662  Сырье для Кофе с собой   \n",
       "\n",
       "      id_tov                                 name_tov  date_ttcount  \n",
       "0        942                      Комус Ёмкость РК-19             6  \n",
       "1       1260        Кассовая лента ВкусВилл (широкая)            26  \n",
       "2       1269                      Зубочистки (1000шт)             2  \n",
       "3       1271                       Стаканчики (100шт)             3  \n",
       "4       1272                                    Скотч             5  \n",
       "...      ...                                      ...           ...  \n",
       "6640   30085              Кофе зерновой BLEND #5, 1кг            71  \n",
       "6641   30572                       Кофе Флэт Уайт 0.2             6  \n",
       "6642   39254  Какао-напиток \"Choco 01 Rich Dark\", 1кг           141  \n",
       "6643   39255           Кофе зерновой \"SOLD OUT\", 1 кг           141  \n",
       "6644   44099           Какао Алмафуд Rich Granul, 1кг           215  \n",
       "\n",
       "[6645 rows x 7 columns]"
      ]
     },
     "execution_count": 25,
     "metadata": {},
     "output_type": "execute_result"
    }
   ],
   "source": [
    "df_category"
   ]
  },
  {
   "cell_type": "code",
   "execution_count": 26,
   "id": "06fda3b9",
   "metadata": {},
   "outputs": [],
   "source": [
    "#создаем пустой датафрейм\n",
    "df_OOS2 = pd.DataFrame(columns = ['item_id','item_name','OOS_in_gs_pure','OOS_in_bs_pure','OOS_in_as_pure'])"
   ]
  },
  {
   "cell_type": "code",
   "execution_count": 107,
   "id": "1d5dfad5",
   "metadata": {},
   "outputs": [],
   "source": [
    "#del df_OOS2"
   ]
  },
  {
   "cell_type": "code",
   "execution_count": 27,
   "id": "c520cab6",
   "metadata": {},
   "outputs": [
    {
     "name": "stdout",
     "output_type": "stream",
     "text": [
      "(19332, 41122, 331084)\n"
     ]
    }
   ],
   "source": [
    "#тестируем что функция работает нормалльно \n",
    "print(OOS('Молочная Продукция', 'name_gr'))"
   ]
  },
  {
   "cell_type": "code",
   "execution_count": 28,
   "id": "56e36833",
   "metadata": {},
   "outputs": [
    {
     "name": "stderr",
     "output_type": "stream",
     "text": [
      "100%|██████████| 127/127 [06:16<00:00,  2.97s/it]\n"
     ]
    }
   ],
   "source": [
    "#заполним датафрейм продажами по разным молочным итемам в хороших и плохих магазинах\n",
    "for gr in tqdm(milk_items):\n",
    "    OOS_in_good_shops ,  OOS_in_bad_shops , OOS_in_avg_shops = OOS(gr ,'name_tov')\n",
    "    new_row = {'item_id':item_name_to_id(gr),'item_name':gr, 'OOS_in_gs_pure':OOS_in_good_shops, 'OOS_in_bs_pure':OOS_in_bad_shops, 'OOS_in_as_pure':OOS_in_avg_shops}\n",
    "    df_OOS2 = pd.concat([df_OOS2,pd.DataFrame([new_row])], axis=0, ignore_index=True)"
   ]
  },
  {
   "cell_type": "code",
   "execution_count": 29,
   "id": "0a94da13",
   "metadata": {},
   "outputs": [
    {
     "data": {
      "text/html": [
       "<div>\n",
       "<style scoped>\n",
       "    .dataframe tbody tr th:only-of-type {\n",
       "        vertical-align: middle;\n",
       "    }\n",
       "\n",
       "    .dataframe tbody tr th {\n",
       "        vertical-align: top;\n",
       "    }\n",
       "\n",
       "    .dataframe thead th {\n",
       "        text-align: right;\n",
       "    }\n",
       "</style>\n",
       "<table border=\"1\" class=\"dataframe\">\n",
       "  <thead>\n",
       "    <tr style=\"text-align: right;\">\n",
       "      <th></th>\n",
       "      <th>item_id</th>\n",
       "      <th>item_name</th>\n",
       "      <th>OOS_in_gs_pure</th>\n",
       "      <th>OOS_in_bs_pure</th>\n",
       "      <th>OOS_in_as_pure</th>\n",
       "    </tr>\n",
       "  </thead>\n",
       "  <tbody>\n",
       "    <tr>\n",
       "      <th>0</th>\n",
       "      <td>61</td>\n",
       "      <td>Молоко цельное</td>\n",
       "      <td>68</td>\n",
       "      <td>140</td>\n",
       "      <td>1684</td>\n",
       "    </tr>\n",
       "    <tr>\n",
       "      <th>1</th>\n",
       "      <td>173</td>\n",
       "      <td>Молоко 3,2%</td>\n",
       "      <td>144</td>\n",
       "      <td>256</td>\n",
       "      <td>2064</td>\n",
       "    </tr>\n",
       "    <tr>\n",
       "      <th>2</th>\n",
       "      <td>15433</td>\n",
       "      <td>Молоко 2,5% в бутылке, 450 мл</td>\n",
       "      <td>96</td>\n",
       "      <td>192</td>\n",
       "      <td>1756</td>\n",
       "    </tr>\n",
       "  </tbody>\n",
       "</table>\n",
       "</div>"
      ],
      "text/plain": [
       "  item_id                      item_name OOS_in_gs_pure OOS_in_bs_pure  \\\n",
       "0      61                 Молоко цельное             68            140   \n",
       "1     173                    Молоко 3,2%            144            256   \n",
       "2   15433  Молоко 2,5% в бутылке, 450 мл             96            192   \n",
       "\n",
       "  OOS_in_as_pure  \n",
       "0           1684  \n",
       "1           2064  \n",
       "2           1756  "
      ]
     },
     "execution_count": 29,
     "metadata": {},
     "output_type": "execute_result"
    }
   ],
   "source": [
    "df_OOS2.head(3)"
   ]
  },
  {
   "cell_type": "markdown",
   "id": "16150ecf",
   "metadata": {},
   "source": [
    "Будем считать продажи по молочке по хорошим и плохим магазинам и в среднем "
   ]
  },
  {
   "cell_type": "code",
   "execution_count": 30,
   "id": "35016eac",
   "metadata": {},
   "outputs": [
    {
     "data": {
      "text/html": [
       "<div>\n",
       "<style scoped>\n",
       "    .dataframe tbody tr th:only-of-type {\n",
       "        vertical-align: middle;\n",
       "    }\n",
       "\n",
       "    .dataframe tbody tr th {\n",
       "        vertical-align: top;\n",
       "    }\n",
       "\n",
       "    .dataframe thead th {\n",
       "        text-align: right;\n",
       "    }\n",
       "</style>\n",
       "<table border=\"1\" class=\"dataframe\">\n",
       "  <thead>\n",
       "    <tr style=\"text-align: right;\">\n",
       "      <th></th>\n",
       "      <th>CheckUID</th>\n",
       "      <th>id_tt_cl</th>\n",
       "      <th>id_tov_cl</th>\n",
       "      <th>Quantity</th>\n",
       "      <th>week</th>\n",
       "      <th>BaseSum</th>\n",
       "      <th>hour</th>\n",
       "    </tr>\n",
       "  </thead>\n",
       "  <tbody>\n",
       "    <tr>\n",
       "      <th>0</th>\n",
       "      <td>32C04617-1DA6-EC11-9064-005056A7A8DF</td>\n",
       "      <td>16061</td>\n",
       "      <td>25528</td>\n",
       "      <td>1.0</td>\n",
       "      <td>11</td>\n",
       "      <td>422.73</td>\n",
       "      <td>20</td>\n",
       "    </tr>\n",
       "  </tbody>\n",
       "</table>\n",
       "</div>"
      ],
      "text/plain": [
       "                               CheckUID  id_tt_cl  id_tov_cl  Quantity  week  \\\n",
       "0  32C04617-1DA6-EC11-9064-005056A7A8DF     16061      25528       1.0    11   \n",
       "\n",
       "   BaseSum  hour  \n",
       "0   422.73    20  "
      ]
     },
     "execution_count": 30,
     "metadata": {},
     "output_type": "execute_result"
    }
   ],
   "source": [
    "df_checks_short.head(1)"
   ]
  },
  {
   "cell_type": "code",
   "execution_count": 31,
   "id": "365d0427",
   "metadata": {},
   "outputs": [],
   "source": [
    "# считаем общие продажи молчки по всем магазиным по сумме и темам\n",
    "df_as_sales_by_item = df_checks_short[df_checks_short['id_tov_cl'].isin(milk_items_id)].pivot_table(index=['id_tov_cl'],values = ['BaseSum'],aggfunc= 'sum',fill_value=0).reset_index()\n",
    "df_as_item_by_item = df_checks_short[df_checks_short['id_tov_cl'].isin(milk_items_id)].pivot_table(index=['id_tov_cl'],values = ['Quantity'],aggfunc= 'sum',fill_value=0).reset_index()"
   ]
  },
  {
   "cell_type": "code",
   "execution_count": 32,
   "id": "2b52b52a",
   "metadata": {},
   "outputs": [],
   "source": [
    "# считаем общие продажи молчки по всем хорошим магазиным по сумме и темам\n",
    "df_gs_sales_by_item = df_checks_short[\n",
    "    (df_checks_short['id_tov_cl'].isin(milk_items_id)) &\n",
    "    (df_checks_short['id_tt_cl'].isin(lis_good_shops))\n",
    "].pivot_table(index=['id_tov_cl'],values = ['BaseSum'],aggfunc= 'sum',fill_value=0).reset_index()\n",
    "\n",
    "df_gs_item_by_item = df_checks_short[\n",
    "    (df_checks_short['id_tov_cl'].isin(milk_items_id)) &\n",
    "    (df_checks_short['id_tt_cl'].isin(lis_good_shops))\n",
    "].pivot_table(index=['id_tov_cl'],values = ['Quantity'],aggfunc= 'sum',fill_value=0).reset_index()\n"
   ]
  },
  {
   "cell_type": "code",
   "execution_count": 33,
   "id": "dd792d79",
   "metadata": {},
   "outputs": [],
   "source": [
    "# считаем общие продажи молчки по всем плохим магазиным по сумме и темам\n",
    "df_bs_sales_by_item = df_checks_short[\n",
    "    (df_checks_short['id_tov_cl'].isin(milk_items_id)) &\n",
    "    (df_checks_short['id_tt_cl'].isin(lis_bad_shops))\n",
    "].pivot_table(index=['id_tov_cl'],values = ['BaseSum'],aggfunc= 'sum',fill_value=0).reset_index()\n",
    "\n",
    "df_bs_item_by_item = df_checks_short[\n",
    "    (df_checks_short['id_tov_cl'].isin(milk_items_id)) &\n",
    "    (df_checks_short['id_tt_cl'].isin(lis_bad_shops))\n",
    "].pivot_table(index=['id_tov_cl'],values = ['Quantity'],aggfunc= 'sum',fill_value=0).reset_index()"
   ]
  },
  {
   "cell_type": "code",
   "execution_count": 34,
   "id": "97fe8860",
   "metadata": {},
   "outputs": [],
   "source": [
    "#Меняем названия \n",
    "df_as_item_by_item.rename(columns={'Quantity': 'items_as'},inplace=True)\n",
    "df_as_sales_by_item.rename(columns={'BaseSum': 'sales_as'},inplace=True)\n",
    "df_gs_item_by_item.rename(columns={'Quantity': 'items_gs'},inplace=True)\n",
    "df_gs_sales_by_item.rename(columns={'BaseSum': 'sales_gs'},inplace=True)\n",
    "df_bs_item_by_item.rename(columns={'Quantity': 'items_bs'},inplace=True)\n",
    "df_bs_sales_by_item.rename(columns={'BaseSum': 'sales_bs'},inplace=True)\n"
   ]
  },
  {
   "cell_type": "code",
   "execution_count": 35,
   "id": "f253085d",
   "metadata": {},
   "outputs": [
    {
     "data": {
      "text/html": [
       "<div>\n",
       "<style scoped>\n",
       "    .dataframe tbody tr th:only-of-type {\n",
       "        vertical-align: middle;\n",
       "    }\n",
       "\n",
       "    .dataframe tbody tr th {\n",
       "        vertical-align: top;\n",
       "    }\n",
       "\n",
       "    .dataframe thead th {\n",
       "        text-align: right;\n",
       "    }\n",
       "</style>\n",
       "<table border=\"1\" class=\"dataframe\">\n",
       "  <thead>\n",
       "    <tr style=\"text-align: right;\">\n",
       "      <th></th>\n",
       "      <th>id_tov_cl</th>\n",
       "      <th>items_as</th>\n",
       "    </tr>\n",
       "  </thead>\n",
       "  <tbody>\n",
       "    <tr>\n",
       "      <th>0</th>\n",
       "      <td>52</td>\n",
       "      <td>78811.0</td>\n",
       "    </tr>\n",
       "  </tbody>\n",
       "</table>\n",
       "</div>"
      ],
      "text/plain": [
       "   id_tov_cl  items_as\n",
       "0         52   78811.0"
      ]
     },
     "execution_count": 35,
     "metadata": {},
     "output_type": "execute_result"
    }
   ],
   "source": [
    "df_as_item_by_item.head(1)"
   ]
  },
  {
   "cell_type": "code",
   "execution_count": 36,
   "id": "b9047196",
   "metadata": {},
   "outputs": [
    {
     "data": {
      "text/html": [
       "<div>\n",
       "<style scoped>\n",
       "    .dataframe tbody tr th:only-of-type {\n",
       "        vertical-align: middle;\n",
       "    }\n",
       "\n",
       "    .dataframe tbody tr th {\n",
       "        vertical-align: top;\n",
       "    }\n",
       "\n",
       "    .dataframe thead th {\n",
       "        text-align: right;\n",
       "    }\n",
       "</style>\n",
       "<table border=\"1\" class=\"dataframe\">\n",
       "  <thead>\n",
       "    <tr style=\"text-align: right;\">\n",
       "      <th></th>\n",
       "      <th>item_id</th>\n",
       "      <th>item_name</th>\n",
       "      <th>OOS_in_gs_pure</th>\n",
       "      <th>OOS_in_bs_pure</th>\n",
       "      <th>OOS_in_as_pure</th>\n",
       "    </tr>\n",
       "  </thead>\n",
       "  <tbody>\n",
       "    <tr>\n",
       "      <th>0</th>\n",
       "      <td>61</td>\n",
       "      <td>Молоко цельное</td>\n",
       "      <td>68</td>\n",
       "      <td>140</td>\n",
       "      <td>1684</td>\n",
       "    </tr>\n",
       "  </tbody>\n",
       "</table>\n",
       "</div>"
      ],
      "text/plain": [
       "  item_id       item_name OOS_in_gs_pure OOS_in_bs_pure OOS_in_as_pure\n",
       "0      61  Молоко цельное             68            140           1684"
      ]
     },
     "execution_count": 36,
     "metadata": {},
     "output_type": "execute_result"
    }
   ],
   "source": [
    "df_OOS2.head(1)"
   ]
  },
  {
   "cell_type": "code",
   "execution_count": 37,
   "id": "f568aa79",
   "metadata": {},
   "outputs": [],
   "source": [
    "#Прикрепляем к нашему датафрейму нужные метрики \n",
    "df_OOS2 = df_OOS2.merge(df_as_item_by_item, how = 'left',left_on=['item_id'], right_on=['id_tov_cl']).drop(['id_tov_cl'], axis=1)\n",
    "df_OOS2 = df_OOS2.merge(df_as_sales_by_item, how = 'left',left_on=['item_id'], right_on=['id_tov_cl']).drop(['id_tov_cl'], axis=1)\n",
    "df_OOS2 = df_OOS2.merge(df_gs_item_by_item, how = 'left',left_on=['item_id'], right_on=['id_tov_cl']).drop(['id_tov_cl'], axis=1)\n",
    "df_OOS2 = df_OOS2.merge(df_gs_sales_by_item, how = 'left',left_on=['item_id'], right_on=['id_tov_cl']).drop(['id_tov_cl'], axis=1)\n",
    "df_OOS2 = df_OOS2.merge(df_bs_item_by_item, how = 'left',left_on=['item_id'], right_on=['id_tov_cl']).drop(['id_tov_cl'], axis=1)\n",
    "df_OOS2 = df_OOS2.merge(df_bs_sales_by_item, how = 'left',left_on=['item_id'], right_on=['id_tov_cl']).drop(['id_tov_cl'], axis=1)"
   ]
  },
  {
   "cell_type": "code",
   "execution_count": 38,
   "id": "58aa8590",
   "metadata": {},
   "outputs": [
    {
     "data": {
      "text/plain": [
       "Index(['item_id', 'item_name', 'OOS_in_gs_pure', 'OOS_in_bs_pure',\n",
       "       'OOS_in_as_pure', 'items_as', 'sales_as', 'items_gs', 'sales_gs',\n",
       "       'items_bs', 'sales_bs'],\n",
       "      dtype='object')"
      ]
     },
     "execution_count": 38,
     "metadata": {},
     "output_type": "execute_result"
    }
   ],
   "source": [
    "df_OOS2.columns"
   ]
  },
  {
   "cell_type": "code",
   "execution_count": 39,
   "id": "ee2b9000",
   "metadata": {},
   "outputs": [],
   "source": [
    "#округляем значения чтобы было проще \n",
    "df_OOS2[['sales_as', 'sales_gs', 'sales_bs','items_bs','items_as','items_gs']] = df_OOS2[['sales_as', 'sales_gs', 'sales_bs','items_bs','items_as','items_gs']].astype(int)"
   ]
  },
  {
   "cell_type": "code",
   "execution_count": 40,
   "id": "97e73291",
   "metadata": {},
   "outputs": [
    {
     "data": {
      "text/html": [
       "<div>\n",
       "<style scoped>\n",
       "    .dataframe tbody tr th:only-of-type {\n",
       "        vertical-align: middle;\n",
       "    }\n",
       "\n",
       "    .dataframe tbody tr th {\n",
       "        vertical-align: top;\n",
       "    }\n",
       "\n",
       "    .dataframe thead th {\n",
       "        text-align: right;\n",
       "    }\n",
       "</style>\n",
       "<table border=\"1\" class=\"dataframe\">\n",
       "  <thead>\n",
       "    <tr style=\"text-align: right;\">\n",
       "      <th></th>\n",
       "      <th>item_id</th>\n",
       "      <th>item_name</th>\n",
       "      <th>OOS_in_gs_pure</th>\n",
       "      <th>OOS_in_bs_pure</th>\n",
       "      <th>OOS_in_as_pure</th>\n",
       "      <th>items_as</th>\n",
       "      <th>sales_as</th>\n",
       "      <th>items_gs</th>\n",
       "      <th>sales_gs</th>\n",
       "      <th>items_bs</th>\n",
       "      <th>sales_bs</th>\n",
       "    </tr>\n",
       "  </thead>\n",
       "  <tbody>\n",
       "    <tr>\n",
       "      <th>0</th>\n",
       "      <td>61</td>\n",
       "      <td>Молоко цельное</td>\n",
       "      <td>68</td>\n",
       "      <td>140</td>\n",
       "      <td>1684</td>\n",
       "      <td>317626</td>\n",
       "      <td>20430989</td>\n",
       "      <td>41867</td>\n",
       "      <td>2696176</td>\n",
       "      <td>24017</td>\n",
       "      <td>1536470</td>\n",
       "    </tr>\n",
       "    <tr>\n",
       "      <th>1</th>\n",
       "      <td>173</td>\n",
       "      <td>Молоко 3,2%</td>\n",
       "      <td>144</td>\n",
       "      <td>256</td>\n",
       "      <td>2064</td>\n",
       "      <td>388787</td>\n",
       "      <td>23575887</td>\n",
       "      <td>47445</td>\n",
       "      <td>2879176</td>\n",
       "      <td>33061</td>\n",
       "      <td>1998541</td>\n",
       "    </tr>\n",
       "    <tr>\n",
       "      <th>2</th>\n",
       "      <td>15433</td>\n",
       "      <td>Молоко 2,5% в бутылке, 450 мл</td>\n",
       "      <td>96</td>\n",
       "      <td>192</td>\n",
       "      <td>1756</td>\n",
       "      <td>103890</td>\n",
       "      <td>4892710</td>\n",
       "      <td>6943</td>\n",
       "      <td>321354</td>\n",
       "      <td>16219</td>\n",
       "      <td>771624</td>\n",
       "    </tr>\n",
       "    <tr>\n",
       "      <th>3</th>\n",
       "      <td>17525</td>\n",
       "      <td>Молоко 3,2% в бутылке</td>\n",
       "      <td>122</td>\n",
       "      <td>240</td>\n",
       "      <td>1744</td>\n",
       "      <td>342007</td>\n",
       "      <td>24586916</td>\n",
       "      <td>30889</td>\n",
       "      <td>2211302</td>\n",
       "      <td>43020</td>\n",
       "      <td>3107830</td>\n",
       "    </tr>\n",
       "    <tr>\n",
       "      <th>4</th>\n",
       "      <td>17736</td>\n",
       "      <td>Молоко цельное в бутылке</td>\n",
       "      <td>78</td>\n",
       "      <td>132</td>\n",
       "      <td>1258</td>\n",
       "      <td>319407</td>\n",
       "      <td>24087593</td>\n",
       "      <td>30934</td>\n",
       "      <td>2330778</td>\n",
       "      <td>33647</td>\n",
       "      <td>2542958</td>\n",
       "    </tr>\n",
       "    <tr>\n",
       "      <th>...</th>\n",
       "      <td>...</td>\n",
       "      <td>...</td>\n",
       "      <td>...</td>\n",
       "      <td>...</td>\n",
       "      <td>...</td>\n",
       "      <td>...</td>\n",
       "      <td>...</td>\n",
       "      <td>...</td>\n",
       "      <td>...</td>\n",
       "      <td>...</td>\n",
       "      <td>...</td>\n",
       "    </tr>\n",
       "    <tr>\n",
       "      <th>122</th>\n",
       "      <td>49753</td>\n",
       "      <td>Кефир 3,2% с крышкой</td>\n",
       "      <td>68</td>\n",
       "      <td>104</td>\n",
       "      <td>944</td>\n",
       "      <td>33057</td>\n",
       "      <td>2762797</td>\n",
       "      <td>3880</td>\n",
       "      <td>329166</td>\n",
       "      <td>2993</td>\n",
       "      <td>246712</td>\n",
       "    </tr>\n",
       "    <tr>\n",
       "      <th>123</th>\n",
       "      <td>58192</td>\n",
       "      <td>Кефир 3,2%, 290 г</td>\n",
       "      <td>128</td>\n",
       "      <td>266</td>\n",
       "      <td>2180</td>\n",
       "      <td>28830</td>\n",
       "      <td>1306499</td>\n",
       "      <td>2262</td>\n",
       "      <td>101132</td>\n",
       "      <td>4080</td>\n",
       "      <td>186674</td>\n",
       "    </tr>\n",
       "    <tr>\n",
       "      <th>124</th>\n",
       "      <td>58202</td>\n",
       "      <td>Кефир 2,5%, 290 г</td>\n",
       "      <td>188</td>\n",
       "      <td>320</td>\n",
       "      <td>2414</td>\n",
       "      <td>32755</td>\n",
       "      <td>1339742</td>\n",
       "      <td>2935</td>\n",
       "      <td>119411</td>\n",
       "      <td>4995</td>\n",
       "      <td>207137</td>\n",
       "    </tr>\n",
       "    <tr>\n",
       "      <th>125</th>\n",
       "      <td>19628</td>\n",
       "      <td>Молоко безлактозное 3,5-4,5%</td>\n",
       "      <td>80</td>\n",
       "      <td>242</td>\n",
       "      <td>1544</td>\n",
       "      <td>27269</td>\n",
       "      <td>1999300</td>\n",
       "      <td>2061</td>\n",
       "      <td>144144</td>\n",
       "      <td>4306</td>\n",
       "      <td>322502</td>\n",
       "    </tr>\n",
       "    <tr>\n",
       "      <th>126</th>\n",
       "      <td>38022</td>\n",
       "      <td>Творог натуральный безлактозный 4,5%</td>\n",
       "      <td>74</td>\n",
       "      <td>190</td>\n",
       "      <td>1396</td>\n",
       "      <td>33894</td>\n",
       "      <td>1716406</td>\n",
       "      <td>2839</td>\n",
       "      <td>143342</td>\n",
       "      <td>4864</td>\n",
       "      <td>250508</td>\n",
       "    </tr>\n",
       "  </tbody>\n",
       "</table>\n",
       "<p>127 rows × 11 columns</p>\n",
       "</div>"
      ],
      "text/plain": [
       "    item_id                             item_name OOS_in_gs_pure  \\\n",
       "0        61                        Молоко цельное             68   \n",
       "1       173                           Молоко 3,2%            144   \n",
       "2     15433         Молоко 2,5% в бутылке, 450 мл             96   \n",
       "3     17525                 Молоко 3,2% в бутылке            122   \n",
       "4     17736              Молоко цельное в бутылке             78   \n",
       "..      ...                                   ...            ...   \n",
       "122   49753                  Кефир 3,2% с крышкой             68   \n",
       "123   58192                     Кефир 3,2%, 290 г            128   \n",
       "124   58202                     Кефир 2,5%, 290 г            188   \n",
       "125   19628          Молоко безлактозное 3,5-4,5%             80   \n",
       "126   38022  Творог натуральный безлактозный 4,5%             74   \n",
       "\n",
       "    OOS_in_bs_pure OOS_in_as_pure  items_as  sales_as  items_gs  sales_gs  \\\n",
       "0              140           1684    317626  20430989     41867   2696176   \n",
       "1              256           2064    388787  23575887     47445   2879176   \n",
       "2              192           1756    103890   4892710      6943    321354   \n",
       "3              240           1744    342007  24586916     30889   2211302   \n",
       "4              132           1258    319407  24087593     30934   2330778   \n",
       "..             ...            ...       ...       ...       ...       ...   \n",
       "122            104            944     33057   2762797      3880    329166   \n",
       "123            266           2180     28830   1306499      2262    101132   \n",
       "124            320           2414     32755   1339742      2935    119411   \n",
       "125            242           1544     27269   1999300      2061    144144   \n",
       "126            190           1396     33894   1716406      2839    143342   \n",
       "\n",
       "     items_bs  sales_bs  \n",
       "0       24017   1536470  \n",
       "1       33061   1998541  \n",
       "2       16219    771624  \n",
       "3       43020   3107830  \n",
       "4       33647   2542958  \n",
       "..        ...       ...  \n",
       "122      2993    246712  \n",
       "123      4080    186674  \n",
       "124      4995    207137  \n",
       "125      4306    322502  \n",
       "126      4864    250508  \n",
       "\n",
       "[127 rows x 11 columns]"
      ]
     },
     "execution_count": 40,
     "metadata": {},
     "output_type": "execute_result"
    }
   ],
   "source": [
    "df_OOS2"
   ]
  },
  {
   "cell_type": "code",
   "execution_count": 43,
   "id": "bb4ed5d6",
   "metadata": {},
   "outputs": [],
   "source": [
    "df_OOS2['OOS_per_10000_gs'] = 10000*df_OOS2['OOS_in_gs_pure']/df_OOS2['items_gs']\n",
    "df_OOS2['OOS_per_10000_bs'] = 10000*df_OOS2['OOS_in_bs_pure']/df_OOS2['items_bs']\n",
    "df_OOS2['OOS_per_10000_as'] = 10000*df_OOS2['OOS_in_as_pure']/df_OOS2['items_as']"
   ]
  },
  {
   "cell_type": "code",
   "execution_count": 171,
   "id": "5a097cbc",
   "metadata": {},
   "outputs": [],
   "source": [
    "#добавляем разницу между продажами в хороших и плохих в твсячах рублей\n",
    "df_OOS2['good_bad_Sales_diff'] = (df_OOS2['sales_gs']/(diff_koef_gs* len(lis_good_shops))- df_OOS2['sales_bs']/(diff_koef_bs*len(lis_bad_shops)))/1000"
   ]
  },
  {
   "cell_type": "code",
   "execution_count": 175,
   "id": "6dfc9d7a",
   "metadata": {},
   "outputs": [
    {
     "data": {
      "text/plain": [
       "[-1.5306826595274179,\n",
       " -1.4132170918982192,\n",
       " -1.3708805805460125,\n",
       " -0.8952560186847459,\n",
       " -0.8418958473100383,\n",
       " -0.815143169639452,\n",
       " -0.11064953767373663,\n",
       " 0.23941132542187188,\n",
       " 0.3113261169806119,\n",
       " 0.3550815860016901,\n",
       " 0.41693028163734835,\n",
       " 0.5079484413990721,\n",
       " 0.7665412974462507,\n",
       " 1.0921255327795316,\n",
       " 1.2830401158145468,\n",
       " 1.3337325132304232,\n",
       " 1.3405664218130695,\n",
       " 1.3509722222828078,\n",
       " 1.4365233869718632,\n",
       " 1.6277364071319627,\n",
       " 1.891855320296524,\n",
       " 1.9437999431811985,\n",
       " 1.9728765397379011,\n",
       " 1.9758971758843218,\n",
       " 2.018230925361755,\n",
       " 2.0297603546747585,\n",
       " 2.0703052229737695,\n",
       " 2.1100632634460816,\n",
       " 2.285128139739587,\n",
       " 2.589526567005156,\n",
       " 2.787171050987418,\n",
       " 2.794943823381702,\n",
       " 2.8544613610149407,\n",
       " 3.255050146364527,\n",
       " 3.2765082762465463,\n",
       " 3.295324313434605,\n",
       " 3.5731949530122473,\n",
       " 3.6077022043042715,\n",
       " 3.619187275464732,\n",
       " 3.7247389489248963,\n",
       " 3.810402777953357,\n",
       " 3.9285513261051146,\n",
       " 4.036890560422406,\n",
       " 4.129984817074719,\n",
       " 4.287465038296968,\n",
       " 4.3548205852613355,\n",
       " 4.531479175513301,\n",
       " 4.585624755946069,\n",
       " 4.751960852479164,\n",
       " 4.862191025652053,\n",
       " 4.872312881328519,\n",
       " 4.899257723994946,\n",
       " 4.94048972319514,\n",
       " 5.168139510061923,\n",
       " 5.265201445040111,\n",
       " 5.293390279592253,\n",
       " 5.403015153892704,\n",
       " 5.529265320015555,\n",
       " 5.603139691599834,\n",
       " 5.671449869827899,\n",
       " 5.72899954336142,\n",
       " 5.754327392229303,\n",
       " 5.920760731262515,\n",
       " 6.122817578738734,\n",
       " 6.306086730889272,\n",
       " 6.406106344408095,\n",
       " 6.460026897336483,\n",
       " 6.494960509165226,\n",
       " 6.795168804905641,\n",
       " 6.977515592816641,\n",
       " 7.1911176023638275,\n",
       " 7.328323472216328,\n",
       " 7.576078219574647,\n",
       " 7.8970759670004425,\n",
       " 8.048397787045412,\n",
       " 8.058249302016652,\n",
       " 8.168926301502678,\n",
       " 8.188347784828727,\n",
       " 8.397779833062577,\n",
       " 8.57381229511539,\n",
       " 8.620722783595284,\n",
       " 8.841551439213486,\n",
       " 8.857337287851879,\n",
       " 9.368445325235687,\n",
       " 9.47361453938252,\n",
       " 9.482361135394466,\n",
       " 9.74317820845609,\n",
       " 10.305407254334774,\n",
       " 10.324273812092374,\n",
       " 10.433755278839975,\n",
       " 10.509128062465987,\n",
       " 10.6003157762422,\n",
       " 10.782887759149009,\n",
       " 10.979676405269391,\n",
       " 11.284074954259678,\n",
       " 11.55516525204333,\n",
       " 11.76092335543708,\n",
       " 12.138656591208699,\n",
       " 12.345819860392025,\n",
       " 12.5678147811434,\n",
       " 13.843379143215177,\n",
       " 13.938549016502737,\n",
       " 15.102011385082722,\n",
       " 15.153749260508816,\n",
       " 17.43607811720185,\n",
       " 18.924158167247967,\n",
       " 19.902039673215317,\n",
       " 20.661547347122227,\n",
       " 21.409747442344575,\n",
       " 22.726818114290698,\n",
       " 25.936403230481304,\n",
       " 30.29514013567257,\n",
       " 33.06485275210875,\n",
       " 33.6334242860365,\n",
       " 37.76664616925944,\n",
       " 38.334426046453224,\n",
       " 47.108421494504164,\n",
       " 56.3863759361646,\n",
       " 62.93307899420394,\n",
       " 82.52684521887012,\n",
       " 90.15057714850221,\n",
       " 117.9562297196179,\n",
       " 128.46807816350187,\n",
       " 152.89031587291475,\n",
       " 159.45727072921514,\n",
       " 194.00622829356104,\n",
       " 195.83550709729838]"
      ]
     },
     "execution_count": 175,
     "metadata": {},
     "output_type": "execute_result"
    }
   ],
   "source": [
    "df_OOS2['good_bad_Sales_diff'].sort_values().to_list()"
   ]
  },
  {
   "cell_type": "code",
   "execution_count": 72,
   "id": "4f0866a9",
   "metadata": {},
   "outputs": [],
   "source": [
    "df_OOS3 = df_OOS2[['OOS_per_10000_gs','OOS_per_10000_bs','OOS_per_10000_as','item_name']].set_index('item_name')"
   ]
  },
  {
   "cell_type": "code",
   "execution_count": 73,
   "id": "ecb4988c",
   "metadata": {},
   "outputs": [],
   "source": [
    "df_OOS3 = df_OOS3.iloc[:, [1,2,0]]"
   ]
  },
  {
   "cell_type": "code",
   "execution_count": 87,
   "id": "d5311c7c",
   "metadata": {},
   "outputs": [
    {
     "data": {
      "text/plain": [
       "['Молоко цельное',\n",
       " 'Молоко 3,2%',\n",
       " 'Молоко 2,5% в бутылке, 450 мл',\n",
       " 'Молоко 3,2% в бутылке',\n",
       " 'Молоко цельное в бутылке',\n",
       " 'Молоко 3,2% в бутылке, 450 мл',\n",
       " 'Молоко топленое 4%, 430 г',\n",
       " 'Молоко ультрапастеризованное 3,2%',\n",
       " 'Молоко 1% в бутылке 900 мл',\n",
       " 'Молоко 3,2% с крышкой',\n",
       " 'Молоко \"Вологодское\" 3,2%',\n",
       " 'Творог мягкий \"Злаки-ваниль\"',\n",
       " 'Творог мягкий 4,5%',\n",
       " 'Творог мягкий \"Черника\" 6%',\n",
       " 'Творог с шоколадной крошкой 6,7%',\n",
       " 'Творог мягкий \"Вишня\" 6%',\n",
       " 'Творог мягкий \"Клюква\" 6%',\n",
       " 'Творог мягкий \"Черная смородина\" на эритрите 6%',\n",
       " 'Творог мягкий с черникой однородный 4,2%',\n",
       " 'Творог мягкий с клубникой однородный 4,2%',\n",
       " 'Творог мягкий с персиком однородный 4,2%',\n",
       " 'Творог мягкий высокобелковый 6%',\n",
       " 'Творог мягкий с бананом однородный 4,2%',\n",
       " 'Творог мягкий с манго однородный 4,2%',\n",
       " 'Сметана 25%',\n",
       " 'Сметана 20%',\n",
       " 'Сметана 15%',\n",
       " 'Сметана 10% термостатная',\n",
       " 'Сметана 30%',\n",
       " 'Сметана 20%, 30 гр',\n",
       " 'Сметана 15% Вологодская ',\n",
       " 'Сливки 10%, 450 мл',\n",
       " 'Сливки 30%',\n",
       " 'Сливки питьевые 10% порционные',\n",
       " 'Сливки 15%, 200 мл',\n",
       " 'Сливки 10%, 200 г',\n",
       " 'Простокваша 4%',\n",
       " 'Ряженка 4%',\n",
       " 'Снежок 2,5%',\n",
       " 'Ряженка из цельного молока 3,5 - 4,5%',\n",
       " 'Ряженка 3,2% в бутылке',\n",
       " 'Айран 2%',\n",
       " 'Молоко детское 3,2%',\n",
       " 'Кефир детский 3,2%, 210 г',\n",
       " 'Бифилайф детский без доб. сахара 2,9%',\n",
       " 'Бифилайф детский \"Черника\" 2,5%',\n",
       " 'Бифилайф детский \"Малина-шиповник\" 2,5%',\n",
       " 'Бифилайф детский \"Яблоко-Банан\" 2,5%',\n",
       " 'Бифилайф детский \"Чернослив\" 2,5%',\n",
       " 'Коктейль детский молочный с бананом 2,5%',\n",
       " 'Коктейль детский молочный с клубникой 2,5%',\n",
       " 'Биойогурт детский питьевой с персиком 2,5%',\n",
       " 'Биолакт детский без доб. сахара 3,2%',\n",
       " 'Коктейль детский молочный с шоколадом 2,5%',\n",
       " 'Ряженка детская 3,2%',\n",
       " 'Биойогурт детский питьевой с клубникой 2,5%',\n",
       " 'Биолакт детский с малиной 2,5%',\n",
       " 'Коктейль детский молочный с малиной 2,5%',\n",
       " 'Йогурт греческий 4%',\n",
       " 'Йогурт греческий \"Крыжовник\" 3,4%',\n",
       " 'Йогурт греческий \"Черника\"',\n",
       " 'Йогурт фруктовый \"Вишня\" 2,5%',\n",
       " 'Йогурт фруктовый \"Клубника\" 2,5%',\n",
       " 'Йогурт греческий \"Манго-маракуйя с семен. чиа\" 3%',\n",
       " 'Йогурт греческий \"Манго - маракуйя\" без д. сах. 3,4%',\n",
       " 'Йогурт \"Малина-земляника\" 2,5%',\n",
       " 'Йогурт высокобелковый 2,1%',\n",
       " 'Йогурт греческий из цельного молока',\n",
       " 'Масло сливочное 82,5%, 200 г',\n",
       " 'Масло крестьянское 72,5%, 200 г',\n",
       " 'Масло \"Вологодское\" сливочное 82,5%',\n",
       " 'Масло сливочное 82,5%, 100г',\n",
       " 'Десерт кокосовый с семенами чиа \"Манго-маракуйя\"',\n",
       " 'Йогурт ягодный \"Малина\" обезжиренный',\n",
       " 'Йогурт 1,5%',\n",
       " 'Йогурт фруктовый \"Персик-банан\" 1,5%',\n",
       " 'Йогурт питьевой \"Манго-маракуйя\" без доб. сахара 1%',\n",
       " 'Йогурт \"Черная смородина\" на эритрите 1,4%',\n",
       " 'Йогурт питьевой с финиками без доб. сахара 2,5%',\n",
       " 'Йогурт питьевой с черникой без доб. сахара 2,5%',\n",
       " 'Творог 5%',\n",
       " 'Творог 9%',\n",
       " 'Масса творожная с изюмом',\n",
       " 'Творог \"Пластовой\" из цельного молока',\n",
       " 'Творог \"Зернышко\" 5%',\n",
       " 'Творог обезжиренный со сметаной',\n",
       " 'Творог 9% 180 г',\n",
       " 'Творог обезжиренный, 180 г',\n",
       " 'Творог 5%, 180 г',\n",
       " 'Творог \"Пластовой\" обезжиренный',\n",
       " 'Творог \"Пластовой\" 5%',\n",
       " 'Творог с изюмом без доб. сахара 9% ',\n",
       " 'Творог 5% 200 г',\n",
       " 'Творог \"Пластовой\" 9%',\n",
       " 'Масса творожная с изюмом, 180 г',\n",
       " 'Творог 5% Вологодский',\n",
       " 'Сырок творожный в молочном шоколаде 5%',\n",
       " 'Сырок творожный со сгущённым молоком 5%',\n",
       " 'Сырок творожный с какао 5%',\n",
       " 'Сырок творожный с кокосовой стружкой 5%',\n",
       " 'Десерт творожный \"Чизкейк\" с ванилью 15%',\n",
       " 'Сырок творожный в темном шоколаде 5%',\n",
       " 'Десерт творожный с ванилью в вафельном рожке 15%',\n",
       " 'Творог детский 5%',\n",
       " 'Творог детский \"Клубника\" 4,2%',\n",
       " 'Творог детский \"Груша\" 4,2%',\n",
       " 'Творог детский \"Абрикос\" 4,2%',\n",
       " 'Биотворог детский 5%, 50 г',\n",
       " 'Биотворог детский с вишней 4,2%',\n",
       " 'Биотворог детский с малиной 4,2%',\n",
       " 'Мусс творожный \"Груша\"',\n",
       " 'Мусс творожный \"Вишня\"',\n",
       " 'Мусс творожный \"Малина\"',\n",
       " 'Мусс творожный \"Шоколад\" 3%',\n",
       " 'Мусс творожный \"Манго и Маракуйя\" 2,3%',\n",
       " 'Мусс творожный \"Манго и ананас\"',\n",
       " 'Кефир 1%',\n",
       " 'Кефир 3,2%',\n",
       " 'Кефир 3,2% в бутылке',\n",
       " 'Кефир 1% в бутылке',\n",
       " 'Кефир обогащенный лактулозой и витаминами 3,2%',\n",
       " 'Кефир 2,5% в бутылке',\n",
       " 'Кефир 3,2% с крышкой',\n",
       " 'Кефир 3,2%, 290 г',\n",
       " 'Кефир 2,5%, 290 г',\n",
       " 'Молоко безлактозное 3,5-4,5%',\n",
       " 'Творог натуральный безлактозный 4,5%']"
      ]
     },
     "execution_count": 87,
     "metadata": {},
     "output_type": "execute_result"
    }
   ],
   "source": [
    "df_OOS3.index.to_list()"
   ]
  },
  {
   "cell_type": "code",
   "execution_count": 77,
   "id": "e338115a",
   "metadata": {},
   "outputs": [
    {
     "data": {
      "text/html": [
       "<div>\n",
       "<style scoped>\n",
       "    .dataframe tbody tr th:only-of-type {\n",
       "        vertical-align: middle;\n",
       "    }\n",
       "\n",
       "    .dataframe tbody tr th {\n",
       "        vertical-align: top;\n",
       "    }\n",
       "\n",
       "    .dataframe thead th {\n",
       "        text-align: right;\n",
       "    }\n",
       "</style>\n",
       "<table border=\"1\" class=\"dataframe\">\n",
       "  <thead>\n",
       "    <tr style=\"text-align: right;\">\n",
       "      <th></th>\n",
       "      <th>OOS_per_10000_bs</th>\n",
       "      <th>OOS_per_10000_as</th>\n",
       "      <th>OOS_per_10000_gs</th>\n",
       "    </tr>\n",
       "    <tr>\n",
       "      <th>item_name</th>\n",
       "      <th></th>\n",
       "      <th></th>\n",
       "      <th></th>\n",
       "    </tr>\n",
       "  </thead>\n",
       "  <tbody>\n",
       "    <tr>\n",
       "      <th>Кефир детский 3,2%, 210 г</th>\n",
       "      <td>223.428024</td>\n",
       "      <td>224.064473</td>\n",
       "      <td>127.336765</td>\n",
       "    </tr>\n",
       "    <tr>\n",
       "      <th>Кефир 1%</th>\n",
       "      <td>294.6593</td>\n",
       "      <td>235.486064</td>\n",
       "      <td>135.85638</td>\n",
       "    </tr>\n",
       "    <tr>\n",
       "      <th>Кефир 3,2%</th>\n",
       "      <td>94.626563</td>\n",
       "      <td>96.00309</td>\n",
       "      <td>38.90051</td>\n",
       "    </tr>\n",
       "    <tr>\n",
       "      <th>Кефир 3,2% в бутылке</th>\n",
       "      <td>147.141413</td>\n",
       "      <td>112.277368</td>\n",
       "      <td>49.24797</td>\n",
       "    </tr>\n",
       "    <tr>\n",
       "      <th>Кефир 1% в бутылке</th>\n",
       "      <td>233.222819</td>\n",
       "      <td>275.371626</td>\n",
       "      <td>165.086055</td>\n",
       "    </tr>\n",
       "    <tr>\n",
       "      <th>Кефир обогащенный лактулозой и витаминами 3,2%</th>\n",
       "      <td>599.270453</td>\n",
       "      <td>794.790845</td>\n",
       "      <td>764.798324</td>\n",
       "    </tr>\n",
       "    <tr>\n",
       "      <th>Кефир 2,5% в бутылке</th>\n",
       "      <td>397.648316</td>\n",
       "      <td>376.989598</td>\n",
       "      <td>240.0</td>\n",
       "    </tr>\n",
       "    <tr>\n",
       "      <th>Кефир 3,2% с крышкой</th>\n",
       "      <td>347.477447</td>\n",
       "      <td>285.567353</td>\n",
       "      <td>175.257732</td>\n",
       "    </tr>\n",
       "    <tr>\n",
       "      <th>Кефир 3,2%, 290 г</th>\n",
       "      <td>651.960784</td>\n",
       "      <td>756.156781</td>\n",
       "      <td>565.870911</td>\n",
       "    </tr>\n",
       "    <tr>\n",
       "      <th>Кефир 2,5%, 290 г</th>\n",
       "      <td>640.640641</td>\n",
       "      <td>736.98672</td>\n",
       "      <td>640.545145</td>\n",
       "    </tr>\n",
       "  </tbody>\n",
       "</table>\n",
       "</div>"
      ],
      "text/plain": [
       "                                               OOS_per_10000_bs  \\\n",
       "item_name                                                         \n",
       "Кефир детский 3,2%, 210 г                            223.428024   \n",
       "Кефир 1%                                               294.6593   \n",
       "Кефир 3,2%                                            94.626563   \n",
       "Кефир 3,2% в бутылке                                 147.141413   \n",
       "Кефир 1% в бутылке                                   233.222819   \n",
       "Кефир обогащенный лактулозой и витаминами 3,2%       599.270453   \n",
       "Кефир 2,5% в бутылке                                 397.648316   \n",
       "Кефир 3,2% с крышкой                                 347.477447   \n",
       "Кефир 3,2%, 290 г                                    651.960784   \n",
       "Кефир 2,5%, 290 г                                    640.640641   \n",
       "\n",
       "                                               OOS_per_10000_as  \\\n",
       "item_name                                                         \n",
       "Кефир детский 3,2%, 210 г                            224.064473   \n",
       "Кефир 1%                                             235.486064   \n",
       "Кефир 3,2%                                             96.00309   \n",
       "Кефир 3,2% в бутылке                                 112.277368   \n",
       "Кефир 1% в бутылке                                   275.371626   \n",
       "Кефир обогащенный лактулозой и витаминами 3,2%       794.790845   \n",
       "Кефир 2,5% в бутылке                                 376.989598   \n",
       "Кефир 3,2% с крышкой                                 285.567353   \n",
       "Кефир 3,2%, 290 г                                    756.156781   \n",
       "Кефир 2,5%, 290 г                                     736.98672   \n",
       "\n",
       "                                               OOS_per_10000_gs  \n",
       "item_name                                                        \n",
       "Кефир детский 3,2%, 210 г                            127.336765  \n",
       "Кефир 1%                                              135.85638  \n",
       "Кефир 3,2%                                             38.90051  \n",
       "Кефир 3,2% в бутылке                                   49.24797  \n",
       "Кефир 1% в бутылке                                   165.086055  \n",
       "Кефир обогащенный лактулозой и витаминами 3,2%       764.798324  \n",
       "Кефир 2,5% в бутылке                                      240.0  \n",
       "Кефир 3,2% с крышкой                                 175.257732  \n",
       "Кефир 3,2%, 290 г                                    565.870911  \n",
       "Кефир 2,5%, 290 г                                    640.545145  "
      ]
     },
     "execution_count": 77,
     "metadata": {},
     "output_type": "execute_result"
    }
   ],
   "source": [
    "df_OOS3[df_OOS3.index.str.contains('безлактоз')]"
   ]
  },
  {
   "cell_type": "code",
   "execution_count": 91,
   "id": "59811ec9",
   "metadata": {},
   "outputs": [
    {
     "data": {
      "text/plain": [
       "<AxesSubplot:ylabel='item_name'>"
      ]
     },
     "execution_count": 91,
     "metadata": {},
     "output_type": "execute_result"
    },
    {
     "data": {
      "image/png": "[encoded data removed]",
      "text/plain": [
       "<Figure size 1440x360 with 1 Axes>"
      ]
     },
     "metadata": {
      "needs_background": "light"
     },
     "output_type": "display_data"
    }
   ],
   "source": [
    "df_OOS3[df_OOS3.index.str.contains('Сливки')].plot(kind=\"barh\",figsize=(20,5))"
   ]
  },
  {
   "cell_type": "code",
   "execution_count": 69,
   "id": "b73a0f0a",
   "metadata": {},
   "outputs": [],
   "source": [
    "df_OOS2.to_excel('df_OOS2.xlsx')"
   ]
  },
  {
   "cell_type": "code",
   "execution_count": 93,
   "id": "87113ee5",
   "metadata": {},
   "outputs": [
    {
     "data": {
      "text/plain": [
       "163.63364290442303"
      ]
     },
     "execution_count": 93,
     "metadata": {},
     "output_type": "execute_result"
    }
   ],
   "source": [
    "10000*df_OOS2['OOS_in_gs_pure'].sum()/df_OOS2['items_gs'].sum()"
   ]
  },
  {
   "cell_type": "code",
   "execution_count": 95,
   "id": "22cbf5a2",
   "metadata": {},
   "outputs": [
    {
     "name": "stdout",
     "output_type": "stream",
     "text": [
      "good 163.63364290442303\n",
      "bad, 269.31815855730457\n",
      "average 260.1300251329083\n"
     ]
    }
   ],
   "source": [
    "print('good',10000*df_OOS2['OOS_in_gs_pure'].sum()/df_OOS2['items_gs'].sum())\n",
    "print('bad,',10000*df_OOS2['OOS_in_bs_pure'].sum()/df_OOS2['items_bs'].sum())\n",
    "print('average',10000*df_OOS2['OOS_in_as_pure'].sum()/df_OOS2['items_as'].sum())\n"
   ]
  },
  {
   "cell_type": "code",
   "execution_count": 96,
   "id": "c009ce98",
   "metadata": {},
   "outputs": [
    {
     "name": "stdout",
     "output_type": "stream",
     "text": [
      "lis_good_shops  15\n",
      "lis_bad_shops  19\n",
      "lis_all_shops  159\n"
     ]
    }
   ],
   "source": [
    "print('lis_good_shops ',len(lis_good_shops))\n",
    "print('lis_bad_shops ',len(lis_bad_shops))\n",
    "print('lis_all_shops ',len(lis_all_shops))\n"
   ]
  },
  {
   "cell_type": "code",
   "execution_count": 121,
   "id": "ee5a0db7",
   "metadata": {},
   "outputs": [],
   "source": [
    "#Нормирочоный коэффициент хороших\n",
    "#Среднее кол-во хоорших магазинов \n",
    "koeff_good = len(lis_good_shops)"
   ]
  },
  {
   "cell_type": "code",
   "execution_count": 122,
   "id": "c2b9e88a",
   "metadata": {},
   "outputs": [],
   "source": [
    "#Среднее количество товаров в плохих магазинах \n",
    "#Среднее кол-во плохих магазинов\n",
    "koeff_bad = len(lis_bad_shops)"
   ]
  },
  {
   "cell_type": "code",
   "execution_count": 123,
   "id": "51959083",
   "metadata": {},
   "outputs": [],
   "source": [
    "#Среднее количество товаров во всех магазинах \n",
    "#Среднее кол-во всех магазинов\n",
    "koeff_avg = len(lis_all_shops)"
   ]
  },
  {
   "cell_type": "code",
   "execution_count": 124,
   "id": "0ba950f8",
   "metadata": {},
   "outputs": [],
   "source": [
    "df_OOS4 = df_OOS2[['OOS_in_gs_pure','OOS_in_bs_pure','OOS_in_as_pure','item_name']].set_index('item_name')"
   ]
  },
  {
   "cell_type": "code",
   "execution_count": 125,
   "id": "8a18ea21",
   "metadata": {},
   "outputs": [],
   "source": [
    "#Считаем сбалансированное кол-во OOS в среднем по магазину / кол-во итемов в магазине\n",
    "df_OOS4['OOS_in_gs_bal'] = 10000*df_OOS4['OOS_in_gs_pure']/koeff_good\n",
    "df_OOS4['OOS_in_bs_bal'] = 10000*df_OOS4['OOS_in_bs_pure']/koeff_bad\n",
    "df_OOS4['OOS_in_as_bal'] = 10000*df_OOS4['OOS_in_as_pure']/koeff_avg"
   ]
  },
  {
   "cell_type": "code",
   "execution_count": 137,
   "id": "382f126b",
   "metadata": {},
   "outputs": [],
   "source": [
    "df_OOS5 = df_OOS4[['OOS_in_gs_bal','OOS_in_as_bal','OOS_in_bs_bal']]"
   ]
  },
  {
   "cell_type": "code",
   "execution_count": 139,
   "metadata": {},
   "outputs": [
    {
     "data": {
      "text/plain": [
       "<AxesSubplot:ylabel='item_name'>"
      ]
     },
     "execution_count": 139,
     "metadata": {},
     "output_type": "execute_result"
    },
    {
     "data": {
      "image/png": "[encoded data removed]",
      "text/plain": [
       "<Figure size 1440x216 with 1 Axes>"
      ]
     },
     "metadata": {
      "needs_background": "light"
     },
     "output_type": "display_data"
    }
   ],
   "source": [
    "df_OOS5[df_OOS5.index.str.contains('обезжир')].plot(kind=\"barh\",figsize=(20,3))"
   ]
  },
  {
   "cell_type": "code",
   "execution_count": 140,
   "id": "ee864bc7",
   "metadata": {},
   "outputs": [
    {
     "data": {
      "text/html": [
       "<div>\n",
       "<style scoped>\n",
       "    .dataframe tbody tr th:only-of-type {\n",
       "        vertical-align: middle;\n",
       "    }\n",
       "\n",
       "    .dataframe tbody tr th {\n",
       "        vertical-align: top;\n",
       "    }\n",
       "\n",
       "    .dataframe thead th {\n",
       "        text-align: right;\n",
       "    }\n",
       "</style>\n",
       "<table border=\"1\" class=\"dataframe\">\n",
       "  <thead>\n",
       "    <tr style=\"text-align: right;\">\n",
       "      <th></th>\n",
       "      <th>item_id</th>\n",
       "      <th>item_name</th>\n",
       "      <th>OOS_in_gs_pure</th>\n",
       "      <th>OOS_in_bs_pure</th>\n",
       "      <th>OOS_in_as_pure</th>\n",
       "      <th>items_as</th>\n",
       "      <th>sales_as</th>\n",
       "      <th>items_gs</th>\n",
       "      <th>sales_gs</th>\n",
       "      <th>items_bs</th>\n",
       "      <th>sales_bs</th>\n",
       "      <th>OOS_per_10000_gs</th>\n",
       "      <th>OOS_per_10000_bs</th>\n",
       "      <th>OOS_per_10000_as</th>\n",
       "    </tr>\n",
       "  </thead>\n",
       "  <tbody>\n",
       "    <tr>\n",
       "      <th>0</th>\n",
       "      <td>61</td>\n",
       "      <td>Молоко цельное</td>\n",
       "      <td>68</td>\n",
       "      <td>140</td>\n",
       "      <td>1684</td>\n",
       "      <td>317626</td>\n",
       "      <td>20430989</td>\n",
       "      <td>41867</td>\n",
       "      <td>2696176</td>\n",
       "      <td>24017</td>\n",
       "      <td>1536470</td>\n",
       "      <td>16.241909</td>\n",
       "      <td>58.292043</td>\n",
       "      <td>53.01833</td>\n",
       "    </tr>\n",
       "    <tr>\n",
       "      <th>1</th>\n",
       "      <td>173</td>\n",
       "      <td>Молоко 3,2%</td>\n",
       "      <td>144</td>\n",
       "      <td>256</td>\n",
       "      <td>2064</td>\n",
       "      <td>388787</td>\n",
       "      <td>23575887</td>\n",
       "      <td>47445</td>\n",
       "      <td>2879176</td>\n",
       "      <td>33061</td>\n",
       "      <td>1998541</td>\n",
       "      <td>30.350933</td>\n",
       "      <td>77.432625</td>\n",
       "      <td>53.088195</td>\n",
       "    </tr>\n",
       "    <tr>\n",
       "      <th>2</th>\n",
       "      <td>15433</td>\n",
       "      <td>Молоко 2,5% в бутылке, 450 мл</td>\n",
       "      <td>96</td>\n",
       "      <td>192</td>\n",
       "      <td>1756</td>\n",
       "      <td>103890</td>\n",
       "      <td>4892710</td>\n",
       "      <td>6943</td>\n",
       "      <td>321354</td>\n",
       "      <td>16219</td>\n",
       "      <td>771624</td>\n",
       "      <td>138.26876</td>\n",
       "      <td>118.379678</td>\n",
       "      <td>169.02493</td>\n",
       "    </tr>\n",
       "    <tr>\n",
       "      <th>3</th>\n",
       "      <td>17525</td>\n",
       "      <td>Молоко 3,2% в бутылке</td>\n",
       "      <td>122</td>\n",
       "      <td>240</td>\n",
       "      <td>1744</td>\n",
       "      <td>342007</td>\n",
       "      <td>24586916</td>\n",
       "      <td>30889</td>\n",
       "      <td>2211302</td>\n",
       "      <td>43020</td>\n",
       "      <td>3107830</td>\n",
       "      <td>39.496261</td>\n",
       "      <td>55.788006</td>\n",
       "      <td>50.993108</td>\n",
       "    </tr>\n",
       "    <tr>\n",
       "      <th>4</th>\n",
       "      <td>17736</td>\n",
       "      <td>Молоко цельное в бутылке</td>\n",
       "      <td>78</td>\n",
       "      <td>132</td>\n",
       "      <td>1258</td>\n",
       "      <td>319407</td>\n",
       "      <td>24087593</td>\n",
       "      <td>30934</td>\n",
       "      <td>2330778</td>\n",
       "      <td>33647</td>\n",
       "      <td>2542958</td>\n",
       "      <td>25.214974</td>\n",
       "      <td>39.230838</td>\n",
       "      <td>39.385486</td>\n",
       "    </tr>\n",
       "    <tr>\n",
       "      <th>...</th>\n",
       "      <td>...</td>\n",
       "      <td>...</td>\n",
       "      <td>...</td>\n",
       "      <td>...</td>\n",
       "      <td>...</td>\n",
       "      <td>...</td>\n",
       "      <td>...</td>\n",
       "      <td>...</td>\n",
       "      <td>...</td>\n",
       "      <td>...</td>\n",
       "      <td>...</td>\n",
       "      <td>...</td>\n",
       "      <td>...</td>\n",
       "      <td>...</td>\n",
       "    </tr>\n",
       "    <tr>\n",
       "      <th>122</th>\n",
       "      <td>49753</td>\n",
       "      <td>Кефир 3,2% с крышкой</td>\n",
       "      <td>68</td>\n",
       "      <td>104</td>\n",
       "      <td>944</td>\n",
       "      <td>33057</td>\n",
       "      <td>2762797</td>\n",
       "      <td>3880</td>\n",
       "      <td>329166</td>\n",
       "      <td>2993</td>\n",
       "      <td>246712</td>\n",
       "      <td>175.257732</td>\n",
       "      <td>347.477447</td>\n",
       "      <td>285.567353</td>\n",
       "    </tr>\n",
       "    <tr>\n",
       "      <th>123</th>\n",
       "      <td>58192</td>\n",
       "      <td>Кефир 3,2%, 290 г</td>\n",
       "      <td>128</td>\n",
       "      <td>266</td>\n",
       "      <td>2180</td>\n",
       "      <td>28830</td>\n",
       "      <td>1306499</td>\n",
       "      <td>2262</td>\n",
       "      <td>101132</td>\n",
       "      <td>4080</td>\n",
       "      <td>186674</td>\n",
       "      <td>565.870911</td>\n",
       "      <td>651.960784</td>\n",
       "      <td>756.156781</td>\n",
       "    </tr>\n",
       "    <tr>\n",
       "      <th>124</th>\n",
       "      <td>58202</td>\n",
       "      <td>Кефир 2,5%, 290 г</td>\n",
       "      <td>188</td>\n",
       "      <td>320</td>\n",
       "      <td>2414</td>\n",
       "      <td>32755</td>\n",
       "      <td>1339742</td>\n",
       "      <td>2935</td>\n",
       "      <td>119411</td>\n",
       "      <td>4995</td>\n",
       "      <td>207137</td>\n",
       "      <td>640.545145</td>\n",
       "      <td>640.640641</td>\n",
       "      <td>736.98672</td>\n",
       "    </tr>\n",
       "    <tr>\n",
       "      <th>125</th>\n",
       "      <td>19628</td>\n",
       "      <td>Молоко безлактозное 3,5-4,5%</td>\n",
       "      <td>80</td>\n",
       "      <td>242</td>\n",
       "      <td>1544</td>\n",
       "      <td>27269</td>\n",
       "      <td>1999300</td>\n",
       "      <td>2061</td>\n",
       "      <td>144144</td>\n",
       "      <td>4306</td>\n",
       "      <td>322502</td>\n",
       "      <td>388.161087</td>\n",
       "      <td>562.006503</td>\n",
       "      <td>566.210715</td>\n",
       "    </tr>\n",
       "    <tr>\n",
       "      <th>126</th>\n",
       "      <td>38022</td>\n",
       "      <td>Творог натуральный безлактозный 4,5%</td>\n",
       "      <td>74</td>\n",
       "      <td>190</td>\n",
       "      <td>1396</td>\n",
       "      <td>33894</td>\n",
       "      <td>1716406</td>\n",
       "      <td>2839</td>\n",
       "      <td>143342</td>\n",
       "      <td>4864</td>\n",
       "      <td>250508</td>\n",
       "      <td>260.65516</td>\n",
       "      <td>390.625</td>\n",
       "      <td>411.872308</td>\n",
       "    </tr>\n",
       "  </tbody>\n",
       "</table>\n",
       "<p>127 rows × 14 columns</p>\n",
       "</div>"
      ],
      "text/plain": [
       "    item_id                             item_name OOS_in_gs_pure  \\\n",
       "0        61                        Молоко цельное             68   \n",
       "1       173                           Молоко 3,2%            144   \n",
       "2     15433         Молоко 2,5% в бутылке, 450 мл             96   \n",
       "3     17525                 Молоко 3,2% в бутылке            122   \n",
       "4     17736              Молоко цельное в бутылке             78   \n",
       "..      ...                                   ...            ...   \n",
       "122   49753                  Кефир 3,2% с крышкой             68   \n",
       "123   58192                     Кефир 3,2%, 290 г            128   \n",
       "124   58202                     Кефир 2,5%, 290 г            188   \n",
       "125   19628          Молоко безлактозное 3,5-4,5%             80   \n",
       "126   38022  Творог натуральный безлактозный 4,5%             74   \n",
       "\n",
       "    OOS_in_bs_pure OOS_in_as_pure  items_as  sales_as  items_gs  sales_gs  \\\n",
       "0              140           1684    317626  20430989     41867   2696176   \n",
       "1              256           2064    388787  23575887     47445   2879176   \n",
       "2              192           1756    103890   4892710      6943    321354   \n",
       "3              240           1744    342007  24586916     30889   2211302   \n",
       "4              132           1258    319407  24087593     30934   2330778   \n",
       "..             ...            ...       ...       ...       ...       ...   \n",
       "122            104            944     33057   2762797      3880    329166   \n",
       "123            266           2180     28830   1306499      2262    101132   \n",
       "124            320           2414     32755   1339742      2935    119411   \n",
       "125            242           1544     27269   1999300      2061    144144   \n",
       "126            190           1396     33894   1716406      2839    143342   \n",
       "\n",
       "     items_bs  sales_bs OOS_per_10000_gs OOS_per_10000_bs OOS_per_10000_as  \n",
       "0       24017   1536470        16.241909        58.292043         53.01833  \n",
       "1       33061   1998541        30.350933        77.432625        53.088195  \n",
       "2       16219    771624        138.26876       118.379678        169.02493  \n",
       "3       43020   3107830        39.496261        55.788006        50.993108  \n",
       "4       33647   2542958        25.214974        39.230838        39.385486  \n",
       "..        ...       ...              ...              ...              ...  \n",
       "122      2993    246712       175.257732       347.477447       285.567353  \n",
       "123      4080    186674       565.870911       651.960784       756.156781  \n",
       "124      4995    207137       640.545145       640.640641        736.98672  \n",
       "125      4306    322502       388.161087       562.006503       566.210715  \n",
       "126      4864    250508        260.65516          390.625       411.872308  \n",
       "\n",
       "[127 rows x 14 columns]"
      ]
     },
     "execution_count": 140,
     "metadata": {},
     "output_type": "execute_result"
    }
   ],
   "source": [
    "df_OOS2"
   ]
  },
  {
   "cell_type": "code",
   "execution_count": 166,
   "id": "8e0c13ec",
   "metadata": {},
   "outputs": [],
   "source": []
  },
  {
   "cell_type": "code",
   "execution_count": 167,
   "id": "32252494",
   "metadata": {},
   "outputs": [
    {
     "data": {
      "text/plain": [
       "0      2.677783\n",
       "1      2.572228\n",
       "2     -0.153408\n",
       "3      0.712506\n",
       "4      1.339442\n",
       "         ...   \n",
       "122    0.279438\n",
       "123   -0.003180\n",
       "124    0.006906\n",
       "125   -0.049851\n",
       "126    0.006798\n",
       "Name: good_bad_Sales_diff, Length: 127, dtype: float64"
      ]
     },
     "execution_count": 167,
     "metadata": {},
     "output_type": "execute_result"
    }
   ],
   "source": [
    "df_OOS2['good_bad_Sales_diff']"
   ]
  }
 ],
 "metadata": {
  "kernelspec": {
   "display_name": "Python 3.10.5 64-bit",
   "language": "python",
   "name": "python3"
  },
  "language_info": {
   "codemirror_mode": {
    "name": "ipython",
    "version": 3
   },
   "file_extension": ".py",
   "mimetype": "text/x-python",
   "name": "python",
   "nbconvert_exporter": "python",
   "pygments_lexer": "ipython3",
   "version": "3.10.5"
  },
  "vscode": {
   "interpreter": {
    "hash": "d14802a80fda041396e29d0ef764e9db1b52be87434e2145de2ac9afbbaeae6f"
   }
  }
 },
 "nbformat": 4,
 "nbformat_minor": 5
}

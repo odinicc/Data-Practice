{
 "cells": [
  {
   "cell_type": "code",
   "execution_count": 1,
   "id": "02d59dd2",
   "metadata": {},
   "outputs": [],
   "source": [
    "import pandas as pd\n",
    "import numpy as np\n",
    "from tqdm import tqdm_notebook\n",
    "pd.set_option('display.max_columns',None)\n",
    "\n",
    "\n",
    "\n",
    "from pandas.api.types import CategoricalDtype\n",
    "\n",
    "import matplotlib.pyplot as plt\n",
    "import seaborn as sns\n",
    "import plotly.express as px\n",
    "import plotly\n",
    "from tqdm import tqdm\n",
    "\n",
    "sns.set(style='whitegrid')\n",
    "plt.rcParams['figure.figsize']=(15,5)\n",
    "%config InlineBackend.figure_format = 'png'\n",
    "%matplotlib inline"
   ]
  },
  {
   "cell_type": "markdown",
   "id": "6395b3fb",
   "metadata": {},
   "source": [
    "Загружаем данные в датафреймы "
   ]
  },
  {
   "cell_type": "code",
   "execution_count": 4,
   "id": "66481149",
   "metadata": {},
   "outputs": [],
   "source": [
    "df_shops = pd.read_pickle(\"./df_shops.pkl\")\n"
   ]
  },
  {
   "cell_type": "code",
   "execution_count": 10,
   "id": "72359680",
   "metadata": {},
   "outputs": [
    {
     "data": {
      "text/html": [
       "<div>\n",
       "<style scoped>\n",
       "    .dataframe tbody tr th:only-of-type {\n",
       "        vertical-align: middle;\n",
       "    }\n",
       "\n",
       "    .dataframe tbody tr th {\n",
       "        vertical-align: top;\n",
       "    }\n",
       "\n",
       "    .dataframe thead th {\n",
       "        text-align: right;\n",
       "    }\n",
       "</style>\n",
       "<table border=\"1\" class=\"dataframe\">\n",
       "  <thead>\n",
       "    <tr style=\"text-align: right;\">\n",
       "      <th></th>\n",
       "      <th>adress</th>\n",
       "      <th>Hours</th>\n",
       "      <th>Shirota</th>\n",
       "      <th>Dolgota</th>\n",
       "      <th>ploshad</th>\n",
       "      <th>Район</th>\n",
       "      <th>shtat</th>\n",
       "      <th>qty_kassa</th>\n",
       "      <th>qty_kassa_so</th>\n",
       "      <th>format</th>\n",
       "      <th>Region</th>\n",
       "      <th>Start_date</th>\n",
       "      <th>size</th>\n",
       "      <th>quality</th>\n",
       "    </tr>\n",
       "    <tr>\n",
       "      <th>id_tt</th>\n",
       "      <th></th>\n",
       "      <th></th>\n",
       "      <th></th>\n",
       "      <th></th>\n",
       "      <th></th>\n",
       "      <th></th>\n",
       "      <th></th>\n",
       "      <th></th>\n",
       "      <th></th>\n",
       "      <th></th>\n",
       "      <th></th>\n",
       "      <th></th>\n",
       "      <th></th>\n",
       "      <th></th>\n",
       "    </tr>\n",
       "  </thead>\n",
       "  <tbody>\n",
       "    <tr>\n",
       "      <th>10780</th>\n",
       "      <td>Москва Осенний бульвар, д. 12, корп. 6</td>\n",
       "      <td>с 7-00 до 23-30</td>\n",
       "      <td>55.758341</td>\n",
       "      <td>37.413949</td>\n",
       "      <td>111.0</td>\n",
       "      <td>Крылатское</td>\n",
       "      <td>9.0</td>\n",
       "      <td>9.0</td>\n",
       "      <td>3.0</td>\n",
       "      <td>ВкусВилл</td>\n",
       "      <td>ZAO</td>\n",
       "      <td>2014-11-27</td>\n",
       "      <td>S</td>\n",
       "      <td>1</td>\n",
       "    </tr>\n",
       "    <tr>\n",
       "      <th>10786</th>\n",
       "      <td>Москва проспект Вернадского, д. 39</td>\n",
       "      <td>с 8-00 до 22-00</td>\n",
       "      <td>55.675544</td>\n",
       "      <td>37.505894</td>\n",
       "      <td>210.0</td>\n",
       "      <td>Проспект Вернадского</td>\n",
       "      <td>5.0</td>\n",
       "      <td>8.0</td>\n",
       "      <td>1.0</td>\n",
       "      <td>ВкусВилл</td>\n",
       "      <td>ZAO</td>\n",
       "      <td>2014-12-26</td>\n",
       "      <td>L</td>\n",
       "      <td>30</td>\n",
       "    </tr>\n",
       "    <tr>\n",
       "      <th>10864</th>\n",
       "      <td>Москва проспект Мира, д. 116</td>\n",
       "      <td>будни с 8-00 до 22-00; вых. с 9-00 до 22-00</td>\n",
       "      <td>55.808868</td>\n",
       "      <td>37.638011</td>\n",
       "      <td>113.4</td>\n",
       "      <td>Алексеевский</td>\n",
       "      <td>4.0</td>\n",
       "      <td>6.0</td>\n",
       "      <td>2.0</td>\n",
       "      <td>ВкусВилл</td>\n",
       "      <td>SVAO</td>\n",
       "      <td>2015-03-24</td>\n",
       "      <td>S</td>\n",
       "      <td>-1</td>\n",
       "    </tr>\n",
       "  </tbody>\n",
       "</table>\n",
       "</div>"
      ],
      "text/plain": [
       "                                       adress  \\\n",
       "id_tt                                           \n",
       "10780  Москва Осенний бульвар, д. 12, корп. 6   \n",
       "10786      Москва проспект Вернадского, д. 39   \n",
       "10864            Москва проспект Мира, д. 116   \n",
       "\n",
       "                                             Hours    Shirota    Dolgota  \\\n",
       "id_tt                                                                      \n",
       "10780                              с 7-00 до 23-30  55.758341  37.413949   \n",
       "10786                              с 8-00 до 22-00  55.675544  37.505894   \n",
       "10864  будни с 8-00 до 22-00; вых. с 9-00 до 22-00  55.808868  37.638011   \n",
       "\n",
       "       ploshad                 Район  shtat  qty_kassa  qty_kassa_so  \\\n",
       "id_tt                                                                  \n",
       "10780    111.0            Крылатское    9.0        9.0           3.0   \n",
       "10786    210.0  Проспект Вернадского    5.0        8.0           1.0   \n",
       "10864    113.4          Алексеевский    4.0        6.0           2.0   \n",
       "\n",
       "         format Region Start_date size  quality  \n",
       "id_tt                                            \n",
       "10780  ВкусВилл    ZAO 2014-11-27    S        1  \n",
       "10786  ВкусВилл    ZAO 2014-12-26    L       30  \n",
       "10864  ВкусВилл   SVAO 2015-03-24    S       -1  "
      ]
     },
     "execution_count": 10,
     "metadata": {},
     "output_type": "execute_result"
    }
   ],
   "source": [
    "df_shops.head(3)"
   ]
  },
  {
   "cell_type": "code",
   "execution_count": 5,
   "id": "7c303b36",
   "metadata": {},
   "outputs": [],
   "source": [
    "dog_friendly_shops =pd.read_excel('dog_friendly_shops.xlsx')"
   ]
  },
  {
   "cell_type": "code",
   "execution_count": 8,
   "id": "ba0e6699",
   "metadata": {},
   "outputs": [],
   "source": [
    "df_worst_milk_sales_bad_shops = pd.read_pickle(\"./df_worst_milk_sales_bad_shops.pkl\")\n",
    "df_best_milk_sales_good_shops = pd.read_pickle(\"./df_best_milk_sales_good_shops.pkl\")\n",
    "lis_good_shops = df_best_milk_sales_good_shops.index.values.tolist()\n",
    "lis_bad_shops = df_worst_milk_sales_bad_shops.index.values.tolist()"
   ]
  },
  {
   "cell_type": "code",
   "execution_count": 11,
   "id": "41d0c3af",
   "metadata": {},
   "outputs": [],
   "source": [
    "dog_friendly_shops2 = dog_friendly_shops.merge(df_shops, how='inner', on='id_tt')"
   ]
  },
  {
   "cell_type": "code",
   "execution_count": 13,
   "id": "45648e9a",
   "metadata": {},
   "outputs": [],
   "source": [
    "dog_friendly_shops3 = dog_friendly_shops2[['id_tt','dogs','quality_y']]"
   ]
  },
  {
   "cell_type": "code",
   "execution_count": 17,
   "id": "7df5f098",
   "metadata": {},
   "outputs": [
    {
     "data": {
      "text/html": [
       "<div>\n",
       "<style scoped>\n",
       "    .dataframe tbody tr th:only-of-type {\n",
       "        vertical-align: middle;\n",
       "    }\n",
       "\n",
       "    .dataframe tbody tr th {\n",
       "        vertical-align: top;\n",
       "    }\n",
       "\n",
       "    .dataframe thead th {\n",
       "        text-align: right;\n",
       "    }\n",
       "</style>\n",
       "<table border=\"1\" class=\"dataframe\">\n",
       "  <thead>\n",
       "    <tr style=\"text-align: right;\">\n",
       "      <th></th>\n",
       "      <th>id_tt</th>\n",
       "      <th>dogs</th>\n",
       "      <th>quality_y</th>\n",
       "    </tr>\n",
       "  </thead>\n",
       "  <tbody>\n",
       "    <tr>\n",
       "      <th>0</th>\n",
       "      <td>10780.0</td>\n",
       "      <td>0.0</td>\n",
       "      <td>1</td>\n",
       "    </tr>\n",
       "    <tr>\n",
       "      <th>1</th>\n",
       "      <td>10786.0</td>\n",
       "      <td>0.0</td>\n",
       "      <td>30</td>\n",
       "    </tr>\n",
       "    <tr>\n",
       "      <th>2</th>\n",
       "      <td>10864.0</td>\n",
       "      <td>0.0</td>\n",
       "      <td>-1</td>\n",
       "    </tr>\n",
       "    <tr>\n",
       "      <th>3</th>\n",
       "      <td>10904.0</td>\n",
       "      <td>0.0</td>\n",
       "      <td>-1</td>\n",
       "    </tr>\n",
       "    <tr>\n",
       "      <th>4</th>\n",
       "      <td>11103.0</td>\n",
       "      <td>1.0</td>\n",
       "      <td>20</td>\n",
       "    </tr>\n",
       "    <tr>\n",
       "      <th>...</th>\n",
       "      <td>...</td>\n",
       "      <td>...</td>\n",
       "      <td>...</td>\n",
       "    </tr>\n",
       "    <tr>\n",
       "      <th>154</th>\n",
       "      <td>16061.0</td>\n",
       "      <td>0.0</td>\n",
       "      <td>30</td>\n",
       "    </tr>\n",
       "    <tr>\n",
       "      <th>155</th>\n",
       "      <td>14855.0</td>\n",
       "      <td>1.0</td>\n",
       "      <td>30</td>\n",
       "    </tr>\n",
       "    <tr>\n",
       "      <th>156</th>\n",
       "      <td>16130.0</td>\n",
       "      <td>0.0</td>\n",
       "      <td>3</td>\n",
       "    </tr>\n",
       "    <tr>\n",
       "      <th>157</th>\n",
       "      <td>12611.0</td>\n",
       "      <td>1.0</td>\n",
       "      <td>1</td>\n",
       "    </tr>\n",
       "    <tr>\n",
       "      <th>158</th>\n",
       "      <td>11160.0</td>\n",
       "      <td>1.0</td>\n",
       "      <td>20</td>\n",
       "    </tr>\n",
       "  </tbody>\n",
       "</table>\n",
       "<p>159 rows × 3 columns</p>\n",
       "</div>"
      ],
      "text/plain": [
       "       id_tt  dogs  quality_y\n",
       "0    10780.0   0.0          1\n",
       "1    10786.0   0.0         30\n",
       "2    10864.0   0.0         -1\n",
       "3    10904.0   0.0         -1\n",
       "4    11103.0   1.0         20\n",
       "..       ...   ...        ...\n",
       "154  16061.0   0.0         30\n",
       "155  14855.0   1.0         30\n",
       "156  16130.0   0.0          3\n",
       "157  12611.0   1.0          1\n",
       "158  11160.0   1.0         20\n",
       "\n",
       "[159 rows x 3 columns]"
      ]
     },
     "execution_count": 17,
     "metadata": {},
     "output_type": "execute_result"
    }
   ],
   "source": [
    "dog_friendly_shops3"
   ]
  },
  {
   "cell_type": "code",
   "execution_count": 18,
   "id": "b067d940",
   "metadata": {},
   "outputs": [],
   "source": [
    "dog_friendly_shops_bad = dog_friendly_shops3[dog_friendly_shops3['quality_y'] < 0]\n",
    "dog_friendly_shops_avg = dog_friendly_shops3[(dog_friendly_shops3['quality_y'] > 9) & (dog_friendly_shops3['quality_y'] < 100)]\n",
    "dog_friendly_shops_good = dog_friendly_shops3[(dog_friendly_shops3['quality_y'] > 0) & (dog_friendly_shops3['quality_y'] < 4)]"
   ]
  },
  {
   "cell_type": "code",
   "execution_count": 23,
   "id": "7f69261c",
   "metadata": {},
   "outputs": [
    {
     "name": "stdout",
     "output_type": "stream",
     "text": [
      "bad 23 60\n",
      "avg 10 39\n",
      "good 25 60\n"
     ]
    }
   ],
   "source": [
    "print('bad',dog_friendly_shops_bad[dog_friendly_shops_bad['dogs'] == 1].shape[0] ,dog_friendly_shops_bad.shape[0] )\n",
    "print('avg',dog_friendly_shops_avg[dog_friendly_shops_avg['dogs'] == 1].shape[0] ,dog_friendly_shops_avg.shape[0] )\n",
    "print('good',dog_friendly_shops_good[dog_friendly_shops_good['dogs'] == 1].shape[0] ,dog_friendly_shops_good.shape[0] )"
   ]
  },
  {
   "cell_type": "code",
   "execution_count": null,
   "id": "274b1563",
   "metadata": {},
   "outputs": [],
   "source": [
    "print('Bad shops : ',df_worst_milk_sales[df_worst_milk_sales['quality'] < 0].shape[0])\n",
    "print('Average shops : ',.shape[0])\n",
    "print('Good shops : ',df_worst_milk_sales[(df_worst_milk_sales['quality'] > 0) & (df_worst_milk_sales['quality'] < 4)].shape[0])"
   ]
  },
  {
   "cell_type": "code",
   "execution_count": 5,
   "id": "a456db43",
   "metadata": {},
   "outputs": [],
   "source": [
    "lis_good_shops = df_best_milk_sales_good_shops.index.values.tolist()\n",
    "lis_bad_shops = df_worst_milk_sales_bad_shops.index.values.tolist()"
   ]
  },
  {
   "cell_type": "code",
   "execution_count": 10,
   "id": "2d37c48f",
   "metadata": {},
   "outputs": [],
   "source": [
    "df_checks3 = df_checks2[['BaseSum','id_tt_cl','day_of_week']] "
   ]
  },
  {
   "cell_type": "code",
   "execution_count": 11,
   "id": "4f28a3c0",
   "metadata": {},
   "outputs": [],
   "source": [
    "overal_sales_in_good_shops =   df_checks3[df_checks3['id_tt_cl'].isin(lis_good_shops)]['BaseSum'].sum()\n",
    "overal_sales_in_bad_shops =   df_checks3[df_checks3['id_tt_cl'].isin(lis_bad_shops)]['BaseSum'].sum()\n"
   ]
  },
  {
   "cell_type": "code",
   "execution_count": 13,
   "id": "0371d37b",
   "metadata": {},
   "outputs": [
    {
     "data": {
      "text/plain": [
       "array(['Thursday', 'Wednesday', 'Friday', 'Sunday', 'Saturday', 'Tuesday',\n",
       "       'Monday'], dtype=object)"
      ]
     },
     "execution_count": 13,
     "metadata": {},
     "output_type": "execute_result"
    }
   ],
   "source": [
    "df_checks3['day_of_week'].unique()"
   ]
  },
  {
   "cell_type": "code",
   "execution_count": 16,
   "id": "41e829ae",
   "metadata": {},
   "outputs": [],
   "source": [
    "overal_weekend_sales_in_good_shops =   df_checks3[(df_checks3['id_tt_cl'].isin(lis_good_shops)) & (df_checks3['day_of_week'].isin(['Sunday', 'Saturday'])) ]['BaseSum'].sum()"
   ]
  },
  {
   "cell_type": "code",
   "execution_count": 19,
   "id": "6d6ab403",
   "metadata": {},
   "outputs": [],
   "source": [
    "overal_weekend_sales_in_bad_shops =   df_checks3[(df_checks3['id_tt_cl'].isin(lis_bad_shops)) & (df_checks3['day_of_week'].isin(['Sunday', 'Saturday'])) ]['BaseSum'].sum()"
   ]
  },
  {
   "cell_type": "code",
   "execution_count": 17,
   "id": "8d8af2eb",
   "metadata": {},
   "outputs": [
    {
     "data": {
      "text/plain": [
       "0.2686219476252244"
      ]
     },
     "execution_count": 17,
     "metadata": {},
     "output_type": "execute_result"
    }
   ],
   "source": [
    "overal_weekend_sales_in_good_shops / overal_sales_in_good_shops"
   ]
  },
  {
   "cell_type": "code",
   "execution_count": 20,
   "id": "9043cbcb",
   "metadata": {},
   "outputs": [
    {
     "data": {
      "text/plain": [
       "0.25480863365326056"
      ]
     },
     "execution_count": 20,
     "metadata": {},
     "output_type": "execute_result"
    }
   ],
   "source": [
    "overal_weekend_sales_in_bad_shops/overal_sales_in_bad_shops"
   ]
  }
 ],
 "metadata": {
  "kernelspec": {
   "display_name": "Python 3.10.5 64-bit",
   "language": "python",
   "name": "python3"
  },
  "language_info": {
   "codemirror_mode": {
    "name": "ipython",
    "version": 3
   },
   "file_extension": ".py",
   "mimetype": "text/x-python",
   "name": "python",
   "nbconvert_exporter": "python",
   "pygments_lexer": "ipython3",
   "version": "3.10.5"
  },
  "vscode": {
   "interpreter": {
    "hash": "d14802a80fda041396e29d0ef764e9db1b52be87434e2145de2ac9afbbaeae6f"
   }
  }
 },
 "nbformat": 4,
 "nbformat_minor": 5
}

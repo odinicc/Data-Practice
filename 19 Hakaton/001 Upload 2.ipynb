{
 "cells": [
  {
   "cell_type": "code",
   "execution_count": 1,
   "id": "02d59dd2",
   "metadata": {},
   "outputs": [],
   "source": [
    "import pandas as pd\n",
    "import numpy as np\n",
    "from tqdm import tqdm_notebook\n",
    "pd.set_option('display.max_columns',None)\n",
    "\n",
    "\n",
    "\n",
    "from pandas.api.types import CategoricalDtype\n",
    "\n",
    "import matplotlib.pyplot as plt\n",
    "import seaborn as sns\n",
    "import plotly.express as px\n",
    "import plotly\n",
    "\n",
    "sns.set(style='whitegrid')\n",
    "plt.rcParams['figure.figsize']=(15,5)\n",
    "%config InlineBackend.figure_format = 'png'\n",
    "%matplotlib inline"
   ]
  },
  {
   "cell_type": "markdown",
   "id": "6395b3fb",
   "metadata": {},
   "source": [
    "Грузим чеки "
   ]
  },
  {
   "cell_type": "code",
   "execution_count": 2,
   "id": "e3de4d8a",
   "metadata": {},
   "outputs": [],
   "source": [
    "\n",
    "df_checks = pd.read_pickle(\"./df_checks1.pkl\")"
   ]
  },
  {
   "cell_type": "code",
   "execution_count": 3,
   "id": "3e09523f",
   "metadata": {},
   "outputs": [
    {
     "name": "stderr",
     "output_type": "stream",
     "text": [
      "C:\\Temp\\ipykernel_1820\\1837085039.py:4: FutureWarning: Series.dt.weekofyear and Series.dt.week have been deprecated. Please use Series.dt.isocalendar().week instead.\n",
      "  df_checks['week'] = date.dt.week\n"
     ]
    }
   ],
   "source": [
    "date = pd.to_datetime(df_checks['date_ch'])\n",
    "df_checks['day'] = date.dt.day\n",
    "df_checks['month'] = date.dt.month\n",
    "df_checks['week'] = date.dt.week\n",
    "df_checks['day_of_week'] = date.dt.day_name()\n",
    "\n",
    "df_checks['hour'] = df_checks['time_ch'].apply(lambda x: x.split(':')[0]).astype(int)"
   ]
  },
  {
   "cell_type": "code",
   "execution_count": 4,
   "id": "baf748cc",
   "metadata": {},
   "outputs": [],
   "source": [
    "df_checks['BaseSum'] = df_checks['BaseSum'].round(decimals = 2)\n",
    "df_checks['BasePrice'] = df_checks['BasePrice'].round(decimals = 2)\n",
    "df_checks['Price_retail'] = df_checks['Price_retail'].round(decimals = 2)"
   ]
  },
  {
   "cell_type": "code",
   "execution_count": 6,
   "id": "ed2a439d",
   "metadata": {},
   "outputs": [
    {
     "data": {
      "text/plain": [
       "Index(['CheckLineUID', 'CheckUID', 'CashCheckLineNo', 'BasePrice', 'Quantity',\n",
       "       'BaseSum', 'id_tt_cl', 'id_tov_cl', 'date_ch', 'time_ch',\n",
       "       'OperationType_cl', 'znak', 'Price_retail', 'BonusCard_cl',\n",
       "       'id_lovepr_card_tov', 'id_discount_chl', 'NameForClient', 'green_price',\n",
       "       'type_order', 'day', 'month', 'week', 'day_of_week', 'hour'],\n",
       "      dtype='object')"
      ]
     },
     "execution_count": 6,
     "metadata": {},
     "output_type": "execute_result"
    }
   ],
   "source": [
    "\n",
    "df_checks.columns\n"
   ]
  },
  {
   "cell_type": "code",
   "execution_count": 7,
   "id": "c8b0804c",
   "metadata": {},
   "outputs": [],
   "source": [
    "del df_checks['CheckLineUID']\n",
    "del df_checks['CashCheckLineNo']\n",
    "del df_checks['date_ch']\n",
    "del df_checks['time_ch']\n",
    "del df_checks['OperationType_cl']\n",
    "del df_checks['znak']"
   ]
  },
  {
   "cell_type": "code",
   "execution_count": 8,
   "id": "3c0145cf",
   "metadata": {},
   "outputs": [
    {
     "data": {
      "text/plain": [
       "Index(['CheckUID', 'BasePrice', 'Quantity', 'BaseSum', 'id_tt_cl', 'id_tov_cl',\n",
       "       'Price_retail', 'BonusCard_cl', 'id_lovepr_card_tov', 'id_discount_chl',\n",
       "       'NameForClient', 'green_price', 'type_order', 'day', 'month', 'week',\n",
       "       'day_of_week', 'hour'],\n",
       "      dtype='object')"
      ]
     },
     "execution_count": 8,
     "metadata": {},
     "output_type": "execute_result"
    }
   ],
   "source": [
    "\n",
    "df_checks.columns"
   ]
  },
  {
   "cell_type": "code",
   "execution_count": 9,
   "id": "e5d81f55",
   "metadata": {},
   "outputs": [],
   "source": [
    "del df_checks['id_lovepr_card_tov']\n",
    "del df_checks['id_discount_chl']\n",
    "del df_checks['green_price']"
   ]
  },
  {
   "cell_type": "code",
   "execution_count": 11,
   "id": "7088bf70",
   "metadata": {},
   "outputs": [
    {
     "data": {
      "text/html": [
       "<div>\n",
       "<style scoped>\n",
       "    .dataframe tbody tr th:only-of-type {\n",
       "        vertical-align: middle;\n",
       "    }\n",
       "\n",
       "    .dataframe tbody tr th {\n",
       "        vertical-align: top;\n",
       "    }\n",
       "\n",
       "    .dataframe thead th {\n",
       "        text-align: right;\n",
       "    }\n",
       "</style>\n",
       "<table border=\"1\" class=\"dataframe\">\n",
       "  <thead>\n",
       "    <tr style=\"text-align: right;\">\n",
       "      <th></th>\n",
       "      <th>CheckUID</th>\n",
       "      <th>BasePrice</th>\n",
       "      <th>Quantity</th>\n",
       "      <th>BaseSum</th>\n",
       "      <th>id_tt_cl</th>\n",
       "      <th>id_tov_cl</th>\n",
       "      <th>Price_retail</th>\n",
       "      <th>BonusCard_cl</th>\n",
       "      <th>NameForClient</th>\n",
       "      <th>type_order</th>\n",
       "      <th>day</th>\n",
       "      <th>month</th>\n",
       "      <th>week</th>\n",
       "      <th>day_of_week</th>\n",
       "      <th>hour</th>\n",
       "    </tr>\n",
       "  </thead>\n",
       "  <tbody>\n",
       "    <tr>\n",
       "      <th>0</th>\n",
       "      <td>32C04617-1DA6-EC11-9064-005056A7A8DF</td>\n",
       "      <td>422.73</td>\n",
       "      <td>1.0</td>\n",
       "      <td>422.73</td>\n",
       "      <td>16061</td>\n",
       "      <td>25528</td>\n",
       "      <td>422.73</td>\n",
       "      <td>8228904</td>\n",
       "      <td>NaN</td>\n",
       "      <td>ofline</td>\n",
       "      <td>17</td>\n",
       "      <td>3</td>\n",
       "      <td>11</td>\n",
       "      <td>Thursday</td>\n",
       "      <td>20</td>\n",
       "    </tr>\n",
       "    <tr>\n",
       "      <th>1</th>\n",
       "      <td>7CC04B95-79AA-EC11-9064-005056A7A8DF</td>\n",
       "      <td>33.81</td>\n",
       "      <td>2.0</td>\n",
       "      <td>67.62</td>\n",
       "      <td>11846</td>\n",
       "      <td>1609</td>\n",
       "      <td>56.36</td>\n",
       "      <td>5657889</td>\n",
       "      <td>Зеленый Ценник</td>\n",
       "      <td>ofline</td>\n",
       "      <td>23</td>\n",
       "      <td>3</td>\n",
       "      <td>12</td>\n",
       "      <td>Wednesday</td>\n",
       "      <td>10</td>\n",
       "    </tr>\n",
       "    <tr>\n",
       "      <th>2</th>\n",
       "      <td>7BC04CF0-8AA6-EC11-9064-005056A7A8DF</td>\n",
       "      <td>124.17</td>\n",
       "      <td>1.0</td>\n",
       "      <td>124.17</td>\n",
       "      <td>11160</td>\n",
       "      <td>49220</td>\n",
       "      <td>124.17</td>\n",
       "      <td>7580039</td>\n",
       "      <td>NaN</td>\n",
       "      <td>online</td>\n",
       "      <td>18</td>\n",
       "      <td>3</td>\n",
       "      <td>11</td>\n",
       "      <td>Friday</td>\n",
       "      <td>10</td>\n",
       "    </tr>\n",
       "    <tr>\n",
       "      <th>3</th>\n",
       "      <td>75C04F15-4C9A-EC11-9064-005056A7A8DF</td>\n",
       "      <td>69.09</td>\n",
       "      <td>1.0</td>\n",
       "      <td>69.09</td>\n",
       "      <td>14258</td>\n",
       "      <td>55220</td>\n",
       "      <td>69.09</td>\n",
       "      <td>8381841</td>\n",
       "      <td>NaN</td>\n",
       "      <td>ofline</td>\n",
       "      <td>2</td>\n",
       "      <td>3</td>\n",
       "      <td>9</td>\n",
       "      <td>Wednesday</td>\n",
       "      <td>19</td>\n",
       "    </tr>\n",
       "    <tr>\n",
       "      <th>4</th>\n",
       "      <td>54C0631E-D2AD-EC11-9064-005056A7A8DF</td>\n",
       "      <td>49.09</td>\n",
       "      <td>1.0</td>\n",
       "      <td>49.09</td>\n",
       "      <td>12853</td>\n",
       "      <td>32931</td>\n",
       "      <td>49.09</td>\n",
       "      <td>9086837</td>\n",
       "      <td>NaN</td>\n",
       "      <td>ofline</td>\n",
       "      <td>27</td>\n",
       "      <td>3</td>\n",
       "      <td>12</td>\n",
       "      <td>Sunday</td>\n",
       "      <td>16</td>\n",
       "    </tr>\n",
       "  </tbody>\n",
       "</table>\n",
       "</div>"
      ],
      "text/plain": [
       "                               CheckUID  BasePrice  Quantity  BaseSum  \\\n",
       "0  32C04617-1DA6-EC11-9064-005056A7A8DF     422.73       1.0   422.73   \n",
       "1  7CC04B95-79AA-EC11-9064-005056A7A8DF      33.81       2.0    67.62   \n",
       "2  7BC04CF0-8AA6-EC11-9064-005056A7A8DF     124.17       1.0   124.17   \n",
       "3  75C04F15-4C9A-EC11-9064-005056A7A8DF      69.09       1.0    69.09   \n",
       "4  54C0631E-D2AD-EC11-9064-005056A7A8DF      49.09       1.0    49.09   \n",
       "\n",
       "   id_tt_cl  id_tov_cl  Price_retail BonusCard_cl  \\\n",
       "0     16061      25528        422.73   8228904      \n",
       "1     11846       1609         56.36   5657889      \n",
       "2     11160      49220        124.17   7580039      \n",
       "3     14258      55220         69.09   8381841      \n",
       "4     12853      32931         49.09   9086837      \n",
       "\n",
       "                              NameForClient type_order  day  month  week  \\\n",
       "0                                       NaN     ofline   17      3    11   \n",
       "1  Зеленый Ценник                               ofline   23      3    12   \n",
       "2                                       NaN     online   18      3    11   \n",
       "3                                       NaN     ofline    2      3     9   \n",
       "4                                       NaN     ofline   27      3    12   \n",
       "\n",
       "  day_of_week  hour  \n",
       "0    Thursday    20  \n",
       "1   Wednesday    10  \n",
       "2      Friday    10  \n",
       "3   Wednesday    19  \n",
       "4      Sunday    16  "
      ]
     },
     "execution_count": 11,
     "metadata": {},
     "output_type": "execute_result"
    }
   ],
   "source": [
    "df_checks.head()"
   ]
  },
  {
   "cell_type": "code",
   "execution_count": 13,
   "id": "4c1a8fc1",
   "metadata": {},
   "outputs": [],
   "source": [
    "df_checks.to_pickle(\"./df_checks2.pkl\")"
   ]
  }
 ],
 "metadata": {
  "kernelspec": {
   "display_name": "Python 3.10.5 64-bit",
   "language": "python",
   "name": "python3"
  },
  "language_info": {
   "codemirror_mode": {
    "name": "ipython",
    "version": 3
   },
   "file_extension": ".py",
   "mimetype": "text/x-python",
   "name": "python",
   "nbconvert_exporter": "python",
   "pygments_lexer": "ipython3",
   "version": "3.10.5"
  },
  "vscode": {
   "interpreter": {
    "hash": "d14802a80fda041396e29d0ef764e9db1b52be87434e2145de2ac9afbbaeae6f"
   }
  }
 },
 "nbformat": 4,
 "nbformat_minor": 5
}

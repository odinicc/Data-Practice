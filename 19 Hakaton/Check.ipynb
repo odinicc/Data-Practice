{
 "cells": [
  {
   "cell_type": "code",
   "execution_count": 4,
   "metadata": {},
   "outputs": [],
   "source": [
    "import pandas as pd\n",
    "from tabulate import tabulate\n"
   ]
  },
  {
   "cell_type": "code",
   "execution_count": 10,
   "metadata": {},
   "outputs": [],
   "source": [
    "\n",
    "df_april = pd.read_csv(r'2_april.csv',sep=';') "
   ]
  },
  {
   "cell_type": "code",
   "execution_count": 16,
   "metadata": {},
   "outputs": [],
   "source": [
    "df_may = pd.read_csv(r'2_may.csv',sep=';') "
   ]
  },
  {
   "cell_type": "code",
   "execution_count": 17,
   "metadata": {},
   "outputs": [],
   "source": [
    "df_march = pd.read_csv(r'2_march.csv',sep=';') "
   ]
  },
  {
   "cell_type": "code",
   "execution_count": 19,
   "metadata": {},
   "outputs": [],
   "source": [
    "df_ost = pd.read_csv(r'2_ost.csv',sep=';') "
   ]
  },
  {
   "cell_type": "code",
   "execution_count": 21,
   "metadata": {},
   "outputs": [],
   "source": [
    "df_tt = pd.read_csv(r'svao_info.csv',sep=';') "
   ]
  },
  {
   "cell_type": "code",
   "execution_count": 23,
   "metadata": {},
   "outputs": [],
   "source": [
    "df_projects = pd.read_csv(r'projects for TT.csv',sep=';') "
   ]
  },
  {
   "cell_type": "code",
   "execution_count": 32,
   "metadata": {},
   "outputs": [],
   "source": [
    "#print without scientific notation \n",
    "pd.set_option('display.float_format', lambda x: '%.3f' % x)"
   ]
  },
  {
   "cell_type": "code",
   "execution_count": 36,
   "metadata": {},
   "outputs": [
    {
     "data": {
      "text/html": [
       "<div>\n",
       "<style scoped>\n",
       "    .dataframe tbody tr th:only-of-type {\n",
       "        vertical-align: middle;\n",
       "    }\n",
       "\n",
       "    .dataframe tbody tr th {\n",
       "        vertical-align: top;\n",
       "    }\n",
       "\n",
       "    .dataframe thead th {\n",
       "        text-align: right;\n",
       "    }\n",
       "</style>\n",
       "<table border=\"1\" class=\"dataframe\">\n",
       "  <thead>\n",
       "    <tr style=\"text-align: right;\">\n",
       "      <th></th>\n",
       "      <th>id_tt</th>\n",
       "      <th>id_tov</th>\n",
       "      <th>name_tov</th>\n",
       "      <th>id_group</th>\n",
       "      <th>name_gr</th>\n",
       "      <th>id_group2</th>\n",
       "      <th>name_gr2</th>\n",
       "      <th>date_tt</th>\n",
       "      <th>morning</th>\n",
       "      <th>evening</th>\n",
       "      <th>post</th>\n",
       "    </tr>\n",
       "  </thead>\n",
       "  <tbody>\n",
       "    <tr>\n",
       "      <th>0</th>\n",
       "      <td>13779</td>\n",
       "      <td>1655</td>\n",
       "      <td>Лукум с клюквой</td>\n",
       "      <td>10129</td>\n",
       "      <td>Сладости, кондитерские изделия</td>\n",
       "      <td>10291</td>\n",
       "      <td>Зефир, безе, пастила</td>\n",
       "      <td>2022-03-29</td>\n",
       "      <td>10.000</td>\n",
       "      <td>9.000</td>\n",
       "      <td>0</td>\n",
       "    </tr>\n",
       "    <tr>\n",
       "      <th>1</th>\n",
       "      <td>13779</td>\n",
       "      <td>1698</td>\n",
       "      <td>Творог мягкий 4,5%</td>\n",
       "      <td>33</td>\n",
       "      <td>Молочная Продукция</td>\n",
       "      <td>3</td>\n",
       "      <td>Творога мягкие</td>\n",
       "      <td>2022-03-29</td>\n",
       "      <td>10.000</td>\n",
       "      <td>NaN</td>\n",
       "      <td>0</td>\n",
       "    </tr>\n",
       "    <tr>\n",
       "      <th>2</th>\n",
       "      <td>13779</td>\n",
       "      <td>1225</td>\n",
       "      <td>Сливки 10%, 450 мл</td>\n",
       "      <td>33</td>\n",
       "      <td>Молочная Продукция</td>\n",
       "      <td>26</td>\n",
       "      <td>Сливки</td>\n",
       "      <td>2022-03-29</td>\n",
       "      <td>3.000</td>\n",
       "      <td>1.000</td>\n",
       "      <td>0</td>\n",
       "    </tr>\n",
       "    <tr>\n",
       "      <th>3</th>\n",
       "      <td>13779</td>\n",
       "      <td>16230</td>\n",
       "      <td>Батончик мягкий \"Годжи-гуарана\"</td>\n",
       "      <td>10123</td>\n",
       "      <td>Бакалея</td>\n",
       "      <td>10569</td>\n",
       "      <td>Бакалея даркстор</td>\n",
       "      <td>2022-03-29</td>\n",
       "      <td>19.000</td>\n",
       "      <td>18.000</td>\n",
       "      <td>0</td>\n",
       "    </tr>\n",
       "    <tr>\n",
       "      <th>4</th>\n",
       "      <td>13779</td>\n",
       "      <td>52</td>\n",
       "      <td>Сметана 25%</td>\n",
       "      <td>33</td>\n",
       "      <td>Молочная Продукция</td>\n",
       "      <td>5</td>\n",
       "      <td>Сметана</td>\n",
       "      <td>2022-03-29</td>\n",
       "      <td>2.000</td>\n",
       "      <td>3.000</td>\n",
       "      <td>6</td>\n",
       "    </tr>\n",
       "  </tbody>\n",
       "</table>\n",
       "</div>"
      ],
      "text/plain": [
       "   id_tt  id_tov                         name_tov  id_group  \\\n",
       "0  13779    1655                  Лукум с клюквой     10129   \n",
       "1  13779    1698               Творог мягкий 4,5%        33   \n",
       "2  13779    1225               Сливки 10%, 450 мл        33   \n",
       "3  13779   16230  Батончик мягкий \"Годжи-гуарана\"     10123   \n",
       "4  13779      52                      Сметана 25%        33   \n",
       "\n",
       "                          name_gr  id_group2              name_gr2  \\\n",
       "0  Сладости, кондитерские изделия      10291  Зефир, безе, пастила   \n",
       "1              Молочная Продукция          3        Творога мягкие   \n",
       "2              Молочная Продукция         26                Сливки   \n",
       "3                         Бакалея      10569      Бакалея даркстор   \n",
       "4              Молочная Продукция          5               Сметана   \n",
       "\n",
       "      date_tt  morning  evening post  \n",
       "0  2022-03-29   10.000    9.000    0  \n",
       "1  2022-03-29   10.000      NaN    0  \n",
       "2  2022-03-29    3.000    1.000    0  \n",
       "3  2022-03-29   19.000   18.000    0  \n",
       "4  2022-03-29    2.000    3.000    6  "
      ]
     },
     "execution_count": 36,
     "metadata": {},
     "output_type": "execute_result"
    }
   ],
   "source": [
    "df_ost.head()"
   ]
  },
  {
   "cell_type": "code",
   "execution_count": 37,
   "metadata": {},
   "outputs": [
    {
     "data": {
      "text/html": [
       "<div>\n",
       "<style scoped>\n",
       "    .dataframe tbody tr th:only-of-type {\n",
       "        vertical-align: middle;\n",
       "    }\n",
       "\n",
       "    .dataframe tbody tr th {\n",
       "        vertical-align: top;\n",
       "    }\n",
       "\n",
       "    .dataframe thead th {\n",
       "        text-align: right;\n",
       "    }\n",
       "</style>\n",
       "<table border=\"1\" class=\"dataframe\">\n",
       "  <thead>\n",
       "    <tr style=\"text-align: right;\">\n",
       "      <th></th>\n",
       "      <th>id_tt</th>\n",
       "      <th>id_tov</th>\n",
       "      <th>name_tov</th>\n",
       "      <th>id_group</th>\n",
       "      <th>name_gr</th>\n",
       "      <th>id_group2</th>\n",
       "      <th>name_gr2</th>\n",
       "      <th>date_tt</th>\n",
       "      <th>morning</th>\n",
       "      <th>evening</th>\n",
       "      <th>post</th>\n",
       "    </tr>\n",
       "  </thead>\n",
       "  <tbody>\n",
       "    <tr>\n",
       "      <th>0</th>\n",
       "      <td>13779</td>\n",
       "      <td>1655</td>\n",
       "      <td>Лукум с клюквой</td>\n",
       "      <td>10129</td>\n",
       "      <td>Сладости, кондитерские изделия</td>\n",
       "      <td>10291</td>\n",
       "      <td>Зефир, безе, пастила</td>\n",
       "      <td>2022-03-29</td>\n",
       "      <td>10.000</td>\n",
       "      <td>9.000</td>\n",
       "      <td>0</td>\n",
       "    </tr>\n",
       "    <tr>\n",
       "      <th>1307</th>\n",
       "      <td>14332</td>\n",
       "      <td>1655</td>\n",
       "      <td>Лукум с клюквой</td>\n",
       "      <td>10129</td>\n",
       "      <td>Сладости, кондитерские изделия</td>\n",
       "      <td>10291</td>\n",
       "      <td>Зефир, безе, пастила</td>\n",
       "      <td>2022-03-29</td>\n",
       "      <td>19.000</td>\n",
       "      <td>16.000</td>\n",
       "      <td>0</td>\n",
       "    </tr>\n",
       "    <tr>\n",
       "      <th>4223</th>\n",
       "      <td>14184</td>\n",
       "      <td>1655</td>\n",
       "      <td>Лукум с клюквой</td>\n",
       "      <td>10129</td>\n",
       "      <td>Сладости, кондитерские изделия</td>\n",
       "      <td>10291</td>\n",
       "      <td>Зефир, безе, пастила</td>\n",
       "      <td>2022-03-29</td>\n",
       "      <td>20.000</td>\n",
       "      <td>18.000</td>\n",
       "      <td>0</td>\n",
       "    </tr>\n",
       "    <tr>\n",
       "      <th>6046</th>\n",
       "      <td>14815</td>\n",
       "      <td>1655</td>\n",
       "      <td>Лукум с клюквой</td>\n",
       "      <td>10129</td>\n",
       "      <td>Сладости, кондитерские изделия</td>\n",
       "      <td>10291</td>\n",
       "      <td>Зефир, безе, пастила</td>\n",
       "      <td>2022-03-29</td>\n",
       "      <td>16.000</td>\n",
       "      <td>13.000</td>\n",
       "      <td>0</td>\n",
       "    </tr>\n",
       "    <tr>\n",
       "      <th>12403</th>\n",
       "      <td>14882</td>\n",
       "      <td>1655</td>\n",
       "      <td>Лукум с клюквой</td>\n",
       "      <td>10129</td>\n",
       "      <td>Сладости, кондитерские изделия</td>\n",
       "      <td>10291</td>\n",
       "      <td>Зефир, безе, пастила</td>\n",
       "      <td>2022-03-29</td>\n",
       "      <td>14.000</td>\n",
       "      <td>12.000</td>\n",
       "      <td>0</td>\n",
       "    </tr>\n",
       "  </tbody>\n",
       "</table>\n",
       "</div>"
      ],
      "text/plain": [
       "       id_tt  id_tov         name_tov  id_group  \\\n",
       "0      13779    1655  Лукум с клюквой     10129   \n",
       "1307   14332    1655  Лукум с клюквой     10129   \n",
       "4223   14184    1655  Лукум с клюквой     10129   \n",
       "6046   14815    1655  Лукум с клюквой     10129   \n",
       "12403  14882    1655  Лукум с клюквой     10129   \n",
       "\n",
       "                              name_gr  id_group2              name_gr2  \\\n",
       "0      Сладости, кондитерские изделия      10291  Зефир, безе, пастила   \n",
       "1307   Сладости, кондитерские изделия      10291  Зефир, безе, пастила   \n",
       "4223   Сладости, кондитерские изделия      10291  Зефир, безе, пастила   \n",
       "6046   Сладости, кондитерские изделия      10291  Зефир, безе, пастила   \n",
       "12403  Сладости, кондитерские изделия      10291  Зефир, безе, пастила   \n",
       "\n",
       "          date_tt  morning  evening post  \n",
       "0      2022-03-29   10.000    9.000    0  \n",
       "1307   2022-03-29   19.000   16.000    0  \n",
       "4223   2022-03-29   20.000   18.000    0  \n",
       "6046   2022-03-29   16.000   13.000    0  \n",
       "12403  2022-03-29   14.000   12.000    0  "
      ]
     },
     "execution_count": 37,
     "metadata": {},
     "output_type": "execute_result"
    }
   ],
   "source": [
    "df_ost_2= df_ost[df_ost['id_tov'] == 1655]\n",
    "df_ost_2.head()\n"
   ]
  },
  {
   "cell_type": "code",
   "execution_count": 29,
   "metadata": {},
   "outputs": [
    {
     "name": "stdout",
     "output_type": "stream",
     "text": [
      "                    id_TT\n",
      "project_name             \n",
      "Кафе-Пекарня           50\n",
      "Кофе с собой           97\n",
      "Мясная витрина          9\n",
      "Отдел без упаковки     36\n",
      "Рыбная витрина         13\n",
      "Сокомат                36\n"
     ]
    }
   ],
   "source": [
    "print(df_projects.groupby(['project_name']).count())"
   ]
  },
  {
   "cell_type": "code",
   "execution_count": 39,
   "metadata": {},
   "outputs": [
    {
     "name": "stdout",
     "output_type": "stream",
     "text": [
      "                                             id_tt  adress  Shirota  Dolgota  \\\n",
      "Hours                                                                          \n",
      "Откл. с 8:00 до 23:00                            1       1        1        1   \n",
      "будни с 8-00 до 22-00; вых. с 9-00 до 22-00      1       1        1        1   \n",
      "с 7-00 до 23-45                                  3       3        3        3   \n",
      "с 7:00 до 23:45                                  2       2        2        2   \n",
      "с 8-00 до 22-00                                 30      30       30       30   \n",
      "с 8-00 до 23-00                                  4       4        4        4   \n",
      "с 9-00 до 22-00                                 33      33       33       33   \n",
      "с 9:00 до 23:00                                  1       1        1        1   \n",
      "\n",
      "                                             ploshad  city_tt  Район  shtat  \\\n",
      "Hours                                                                         \n",
      "Откл. с 8:00 до 23:00                              1        1      1      1   \n",
      "будни с 8-00 до 22-00; вых. с 9-00 до 22-00        1        1      1      1   \n",
      "с 7-00 до 23-45                                    3        3      3      3   \n",
      "с 7:00 до 23:45                                    2        2      2      2   \n",
      "с 8-00 до 22-00                                   30       30     30     30   \n",
      "с 8-00 до 23-00                                    4        4      4      4   \n",
      "с 9-00 до 22-00                                   33       33     33     33   \n",
      "с 9:00 до 23:00                                    1        1      1      1   \n",
      "\n",
      "                                             qty_kassa  qty_kassa_so  format  \n",
      "Hours                                                                         \n",
      "Откл. с 8:00 до 23:00                                1             1       1  \n",
      "будни с 8-00 до 22-00; вых. с 9-00 до 22-00          1             1       1  \n",
      "с 7-00 до 23-45                                      3             3       3  \n",
      "с 7:00 до 23:45                                      2             2       2  \n",
      "с 8-00 до 22-00                                     30            30      30  \n",
      "с 8-00 до 23-00                                      4             4       4  \n",
      "с 9-00 до 22-00                                     33            33      33  \n",
      "с 9:00 до 23:00                                      1             1       1  \n"
     ]
    }
   ],
   "source": [
    "df_tt.head()\n",
    "print(df_tt.groupby(['Hours']).count())"
   ]
  }
 ],
 "metadata": {
  "kernelspec": {
   "display_name": "Python 3.10.5 64-bit",
   "language": "python",
   "name": "python3"
  },
  "language_info": {
   "codemirror_mode": {
    "name": "ipython",
    "version": 3
   },
   "file_extension": ".py",
   "mimetype": "text/x-python",
   "name": "python",
   "nbconvert_exporter": "python",
   "pygments_lexer": "ipython3",
   "version": "3.10.5"
  },
  "orig_nbformat": 4,
  "vscode": {
   "interpreter": {
    "hash": "d14802a80fda041396e29d0ef764e9db1b52be87434e2145de2ac9afbbaeae6f"
   }
  }
 },
 "nbformat": 4,
 "nbformat_minor": 2
}

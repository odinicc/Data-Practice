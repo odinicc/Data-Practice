{
 "cells": [
  {
   "cell_type": "code",
   "execution_count": 1,
   "id": "02d59dd2",
   "metadata": {},
   "outputs": [],
   "source": [
    "import pandas as pd\n",
    "import numpy as np\n",
    "from tqdm import tqdm_notebook\n",
    "pd.set_option('display.max_columns',None)\n",
    "\n",
    "\n",
    "\n",
    "from pandas.api.types import CategoricalDtype\n",
    "\n",
    "import matplotlib.pyplot as plt\n",
    "import seaborn as sns\n",
    "import plotly.express as px\n",
    "import plotly\n",
    "\n",
    "sns.set(style='whitegrid')\n",
    "plt.rcParams['figure.figsize']=(15,5)\n",
    "%config InlineBackend.figure_format = 'png'\n",
    "%matplotlib inline"
   ]
  },
  {
   "cell_type": "markdown",
   "id": "6395b3fb",
   "metadata": {},
   "source": [
    "Загружаем данные в датафреймы "
   ]
  },
  {
   "cell_type": "code",
   "execution_count": 2,
   "id": "5ff304ab",
   "metadata": {},
   "outputs": [],
   "source": [
    "df_checks_with_cat = pd.read_pickle(\"./df_checks_with_cat.pkl\")\n"
   ]
  },
  {
   "cell_type": "code",
   "execution_count": 3,
   "id": "9a219e8e",
   "metadata": {},
   "outputs": [],
   "source": [
    "df_shops = pd.read_pickle(\"./df_shops.pkl\")\n"
   ]
  },
  {
   "cell_type": "code",
   "execution_count": 4,
   "id": "ae776664",
   "metadata": {},
   "outputs": [
    {
     "data": {
      "text/html": [
       "<div>\n",
       "<style scoped>\n",
       "    .dataframe tbody tr th:only-of-type {\n",
       "        vertical-align: middle;\n",
       "    }\n",
       "\n",
       "    .dataframe tbody tr th {\n",
       "        vertical-align: top;\n",
       "    }\n",
       "\n",
       "    .dataframe thead th {\n",
       "        text-align: right;\n",
       "    }\n",
       "</style>\n",
       "<table border=\"1\" class=\"dataframe\">\n",
       "  <thead>\n",
       "    <tr style=\"text-align: right;\">\n",
       "      <th></th>\n",
       "      <th>CheckUID</th>\n",
       "      <th>id_tt_cl</th>\n",
       "      <th>id_tov_cl</th>\n",
       "      <th>Quantity</th>\n",
       "      <th>week</th>\n",
       "      <th>BaseSum</th>\n",
       "      <th>hour</th>\n",
       "      <th>name_gr</th>\n",
       "      <th>name_gr2</th>\n",
       "    </tr>\n",
       "  </thead>\n",
       "  <tbody>\n",
       "    <tr>\n",
       "      <th>0</th>\n",
       "      <td>32C04617-1DA6-EC11-9064-005056A7A8DF</td>\n",
       "      <td>16061</td>\n",
       "      <td>25528</td>\n",
       "      <td>1.0</td>\n",
       "      <td>11</td>\n",
       "      <td>422.73</td>\n",
       "      <td>20</td>\n",
       "      <td>Овощи. Фрукты. Грибы. Зелень</td>\n",
       "      <td>Авокадо</td>\n",
       "    </tr>\n",
       "    <tr>\n",
       "      <th>1</th>\n",
       "      <td>7CC04B95-79AA-EC11-9064-005056A7A8DF</td>\n",
       "      <td>11846</td>\n",
       "      <td>1609</td>\n",
       "      <td>2.0</td>\n",
       "      <td>12</td>\n",
       "      <td>67.62</td>\n",
       "      <td>10</td>\n",
       "      <td>Молочная Продукция</td>\n",
       "      <td>Лакомства молочные</td>\n",
       "    </tr>\n",
       "    <tr>\n",
       "      <th>2</th>\n",
       "      <td>7BC04CF0-8AA6-EC11-9064-005056A7A8DF</td>\n",
       "      <td>11160</td>\n",
       "      <td>49220</td>\n",
       "      <td>1.0</td>\n",
       "      <td>11</td>\n",
       "      <td>124.17</td>\n",
       "      <td>10</td>\n",
       "      <td>Пространство ВкусВилл</td>\n",
       "      <td>Продажа услуг</td>\n",
       "    </tr>\n",
       "    <tr>\n",
       "      <th>3</th>\n",
       "      <td>75C04F15-4C9A-EC11-9064-005056A7A8DF</td>\n",
       "      <td>14258</td>\n",
       "      <td>55220</td>\n",
       "      <td>1.0</td>\n",
       "      <td>9</td>\n",
       "      <td>69.09</td>\n",
       "      <td>19</td>\n",
       "      <td>Молочная Продукция</td>\n",
       "      <td>Йогурты питьевые</td>\n",
       "    </tr>\n",
       "    <tr>\n",
       "      <th>4</th>\n",
       "      <td>54C0631E-D2AD-EC11-9064-005056A7A8DF</td>\n",
       "      <td>12853</td>\n",
       "      <td>32931</td>\n",
       "      <td>1.0</td>\n",
       "      <td>12</td>\n",
       "      <td>49.09</td>\n",
       "      <td>16</td>\n",
       "      <td>Хлеб</td>\n",
       "      <td>Хлеб на закваске</td>\n",
       "    </tr>\n",
       "  </tbody>\n",
       "</table>\n",
       "</div>"
      ],
      "text/plain": [
       "                               CheckUID  id_tt_cl  id_tov_cl  Quantity  week  \\\n",
       "0  32C04617-1DA6-EC11-9064-005056A7A8DF     16061      25528       1.0    11   \n",
       "1  7CC04B95-79AA-EC11-9064-005056A7A8DF     11846       1609       2.0    12   \n",
       "2  7BC04CF0-8AA6-EC11-9064-005056A7A8DF     11160      49220       1.0    11   \n",
       "3  75C04F15-4C9A-EC11-9064-005056A7A8DF     14258      55220       1.0     9   \n",
       "4  54C0631E-D2AD-EC11-9064-005056A7A8DF     12853      32931       1.0    12   \n",
       "\n",
       "   BaseSum  hour                       name_gr            name_gr2  \n",
       "0   422.73    20  Овощи. Фрукты. Грибы. Зелень             Авокадо  \n",
       "1    67.62    10            Молочная Продукция  Лакомства молочные  \n",
       "2   124.17    10         Пространство ВкусВилл       Продажа услуг  \n",
       "3    69.09    19            Молочная Продукция    Йогурты питьевые  \n",
       "4    49.09    16                          Хлеб    Хлеб на закваске  "
      ]
     },
     "execution_count": 4,
     "metadata": {},
     "output_type": "execute_result"
    }
   ],
   "source": [
    "df_checks_with_cat.head()"
   ]
  },
  {
   "cell_type": "code",
   "execution_count": 5,
   "id": "8de54951",
   "metadata": {},
   "outputs": [
    {
     "data": {
      "text/plain": [
       "159"
      ]
     },
     "execution_count": 5,
     "metadata": {},
     "output_type": "execute_result"
    }
   ],
   "source": [
    "df_checks_with_cat['id_tt_cl'].nunique()"
   ]
  },
  {
   "cell_type": "markdown",
   "id": "b83f80a5",
   "metadata": {},
   "source": [
    "Строим пивот таблицу по группам"
   ]
  },
  {
   "cell_type": "code",
   "execution_count": 6,
   "id": "11e14bb6",
   "metadata": {},
   "outputs": [],
   "source": [
    "df_category_pivot_sum = df_checks_with_cat.pivot_table(columns=['name_gr'],index=['id_tt_cl'],values = ['BaseSum'],aggfunc= 'sum',fill_value=0).reset_index()\n"
   ]
  },
  {
   "cell_type": "markdown",
   "id": "addf295e",
   "metadata": {},
   "source": [
    "Исправляем кривое форматирование пивот таблицы"
   ]
  },
  {
   "cell_type": "code",
   "execution_count": 7,
   "id": "66fb021b",
   "metadata": {},
   "outputs": [],
   "source": [
    "\n",
    "df_category_pivot_sum = pd.concat([df_category_pivot_sum['id_tt_cl'].to_frame(),df_category_pivot_sum.loc[:,'BaseSum']], axis=1)"
   ]
  },
  {
   "cell_type": "markdown",
   "id": "e56c6d01",
   "metadata": {},
   "source": [
    "Добавляем по каждому магазину сумму проданных итемов -- df_category_pivot_sum"
   ]
  },
  {
   "cell_type": "code",
   "execution_count": 8,
   "id": "69b7f1e3",
   "metadata": {},
   "outputs": [],
   "source": [
    "df_category_pivot_sum['overal_sum'] = df_category_pivot_sum.drop('id_tt_cl',axis=1).sum(axis=1)"
   ]
  },
  {
   "cell_type": "markdown",
   "id": "e94f1c6e",
   "metadata": {},
   "source": [
    "Добавляем по каждому магазину количество проданных итемов в процентах по каждой категории -- df_category_pivot_sum3"
   ]
  },
  {
   "cell_type": "code",
   "execution_count": 9,
   "id": "c681f906",
   "metadata": {},
   "outputs": [],
   "source": [
    "df_category_pivot_sum3 = df_category_pivot_sum.copy()"
   ]
  },
  {
   "cell_type": "code",
   "execution_count": 10,
   "id": "acbb51b4",
   "metadata": {},
   "outputs": [],
   "source": [
    "for column in df_category_pivot_sum3.drop(['id_tt_cl','overal_sum'],axis=1):\n",
    "    df_category_pivot_sum3[column] = df_category_pivot_sum3[column].div(df_category_pivot_sum3['overal_sum']/100)"
   ]
  },
  {
   "cell_type": "code",
   "execution_count": 11,
   "id": "ede79947",
   "metadata": {},
   "outputs": [],
   "source": [
    "del df_category_pivot_sum3['overal_sum']"
   ]
  },
  {
   "cell_type": "code",
   "execution_count": 12,
   "id": "74248248",
   "metadata": {},
   "outputs": [],
   "source": [
    "df_category_pivot_sum3 = df_category_pivot_sum3.set_index('id_tt_cl')"
   ]
  },
  {
   "cell_type": "code",
   "execution_count": 27,
   "id": "be9bdd94",
   "metadata": {},
   "outputs": [],
   "source": [
    "df_worst_milk_sales =  df_category_pivot_sum3.nsmallest(n = 30 ,columns= 'Молочная Продукция')\n",
    "df_worst_milk_sales = df_worst_milk_sales ['Молочная Продукция'].to_frame()"
   ]
  },
  {
   "cell_type": "code",
   "execution_count": 28,
   "id": "ed9590fa",
   "metadata": {},
   "outputs": [],
   "source": [
    "#Create Dict id_tt_cl => Quality\n",
    "dic_shops_qual = df_shops['quality'].to_dict()\n",
    "dic_shops_size = df_shops['size'].to_dict()"
   ]
  },
  {
   "cell_type": "code",
   "execution_count": 29,
   "id": "fac03b5f",
   "metadata": {},
   "outputs": [],
   "source": [
    "df_worst_milk_sales['quality'] = df_worst_milk_sales.index\n",
    "df_worst_milk_sales['size'] = df_worst_milk_sales.index"
   ]
  },
  {
   "cell_type": "code",
   "execution_count": 30,
   "id": "e19f99ef",
   "metadata": {},
   "outputs": [],
   "source": [
    "df_worst_milk_sales.replace({\"quality\": dic_shops_qual},inplace=True)\n",
    "df_worst_milk_sales.replace({\"size\": dic_shops_size},inplace=True)"
   ]
  },
  {
   "cell_type": "code",
   "execution_count": 44,
   "id": "66d6a790",
   "metadata": {},
   "outputs": [
    {
     "name": "stdout",
     "output_type": "stream",
     "text": [
      "Bad shops :  19\n",
      "Average shops :  6\n",
      "Good shops :  5\n"
     ]
    }
   ],
   "source": [
    "print('Bad shops : ',df_worst_milk_sales[df_worst_milk_sales['quality'] < 0].shape[0])\n",
    "print('Average shops : ',df_worst_milk_sales[(df_worst_milk_sales['quality'] > 9) & (df_worst_milk_sales['quality'] < 100)].shape[0])\n",
    "print('Good shops : ',df_worst_milk_sales[(df_worst_milk_sales['quality'] > 0) & (df_worst_milk_sales['quality'] < 4)].shape[0])"
   ]
  },
  {
   "cell_type": "code",
   "execution_count": 45,
   "id": "6dd1c4f0",
   "metadata": {},
   "outputs": [],
   "source": [
    "\n",
    "df_worst_milk_sales.to_pickle(\"./df_worst_milk_sales.pkl\")"
   ]
  },
  {
   "cell_type": "code",
   "execution_count": 61,
   "id": "eecf96a5",
   "metadata": {},
   "outputs": [],
   "source": [
    "df_worst_milk_sales[df_worst_milk_sales['quality'] < 0].to_pickle(\"./df_worst_milk_sales_bad_shops.pkl\")"
   ]
  },
  {
   "cell_type": "code",
   "execution_count": 56,
   "id": "67b6feef",
   "metadata": {},
   "outputs": [],
   "source": [
    "df_best_milk_sales =  df_category_pivot_sum3.nlargest(n = 30 ,columns= 'Молочная Продукция')\n",
    "df_best_milk_sales = df_best_milk_sales ['Молочная Продукция'].to_frame()"
   ]
  },
  {
   "cell_type": "code",
   "execution_count": 57,
   "id": "7ded9f87",
   "metadata": {},
   "outputs": [],
   "source": [
    "df_best_milk_sales['quality'] = df_best_milk_sales.index\n",
    "df_best_milk_sales['size'] = df_best_milk_sales.index"
   ]
  },
  {
   "cell_type": "code",
   "execution_count": 58,
   "id": "f6246696",
   "metadata": {},
   "outputs": [],
   "source": [
    "df_best_milk_sales.replace({\"quality\": dic_shops_qual},inplace=True)\n",
    "df_best_milk_sales.replace({\"size\": dic_shops_size},inplace=True)"
   ]
  },
  {
   "cell_type": "code",
   "execution_count": 59,
   "id": "9d536716",
   "metadata": {},
   "outputs": [],
   "source": [
    "df_best_milk_sales.to_pickle(\"./df_best_milk_sales.pkl\")"
   ]
  },
  {
   "cell_type": "code",
   "execution_count": 60,
   "id": "b75754f3",
   "metadata": {},
   "outputs": [
    {
     "name": "stdout",
     "output_type": "stream",
     "text": [
      "Bad shops :  6\n",
      "Average shops :  9\n",
      "Good shops :  15\n"
     ]
    }
   ],
   "source": [
    "\n",
    "print('Bad shops : ',df_best_milk_sales[df_best_milk_sales['quality'] < 0].shape[0])\n",
    "print('Average shops : ',df_best_milk_sales[(df_best_milk_sales['quality'] > 9) & (df_best_milk_sales['quality'] < 100)].shape[0])\n",
    "print('Good shops : ',df_best_milk_sales[(df_best_milk_sales['quality'] > 0) & (df_best_milk_sales['quality'] < 4)].shape[0])"
   ]
  },
  {
   "cell_type": "code",
   "execution_count": 63,
   "id": "2848bb36",
   "metadata": {},
   "outputs": [],
   "source": [
    "df_best_milk_sales[(df_best_milk_sales['quality'] > 0) & (df_best_milk_sales['quality'] < 4)].to_pickle(\"./df_best_milk_sales_good_shops.pkl\")"
   ]
  }
 ],
 "metadata": {
  "kernelspec": {
   "display_name": "Python 3.10.5 64-bit",
   "language": "python",
   "name": "python3"
  },
  "language_info": {
   "codemirror_mode": {
    "name": "ipython",
    "version": 3
   },
   "file_extension": ".py",
   "mimetype": "text/x-python",
   "name": "python",
   "nbconvert_exporter": "python",
   "pygments_lexer": "ipython3",
   "version": "3.10.5"
  },
  "vscode": {
   "interpreter": {
    "hash": "d14802a80fda041396e29d0ef764e9db1b52be87434e2145de2ac9afbbaeae6f"
   }
  }
 },
 "nbformat": 4,
 "nbformat_minor": 5
}

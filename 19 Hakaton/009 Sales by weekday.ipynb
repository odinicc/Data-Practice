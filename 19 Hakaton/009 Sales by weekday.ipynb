{
 "cells": [
  {
   "cell_type": "code",
   "execution_count": 1,
   "id": "02d59dd2",
   "metadata": {},
   "outputs": [],
   "source": [
    "import pandas as pd\n",
    "import numpy as np\n",
    "from tqdm import tqdm_notebook\n",
    "pd.set_option('display.max_columns',None)\n",
    "\n",
    "\n",
    "\n",
    "from pandas.api.types import CategoricalDtype\n",
    "\n",
    "import matplotlib.pyplot as plt\n",
    "import seaborn as sns\n",
    "import plotly.express as px\n",
    "import plotly\n",
    "from tqdm import tqdm\n",
    "\n",
    "sns.set(style='whitegrid')\n",
    "plt.rcParams['figure.figsize']=(15,5)\n",
    "%config InlineBackend.figure_format = 'png'\n",
    "%matplotlib inline"
   ]
  },
  {
   "cell_type": "markdown",
   "id": "6395b3fb",
   "metadata": {},
   "source": [
    "Загружаем данные в датафреймы "
   ]
  },
  {
   "cell_type": "code",
   "execution_count": 2,
   "id": "66481149",
   "metadata": {},
   "outputs": [],
   "source": [
    "df_category = pd.read_pickle(\"./df_category.pkl\")\n",
    "df_worst_milk_sales_bad_shops = pd.read_pickle(\"./df_worst_milk_sales_bad_shops.pkl\")\n",
    "df_best_milk_sales_good_shops = pd.read_pickle(\"./df_best_milk_sales_good_shops.pkl\")"
   ]
  },
  {
   "cell_type": "code",
   "execution_count": 3,
   "id": "ba0e6699",
   "metadata": {},
   "outputs": [],
   "source": [
    "df_checks2 = pd.read_pickle(\"./df_checks2.pkl\")"
   ]
  },
  {
   "cell_type": "code",
   "execution_count": 4,
   "id": "b067d940",
   "metadata": {},
   "outputs": [],
   "source": [
    "#Исправляем табличку \n",
    "df_category.columns = list(map(''.join, df_category.columns.values))"
   ]
  },
  {
   "cell_type": "code",
   "execution_count": 5,
   "id": "a456db43",
   "metadata": {},
   "outputs": [],
   "source": [
    "lis_good_shops = df_best_milk_sales_good_shops.index.values.tolist()\n",
    "lis_bad_shops = df_worst_milk_sales_bad_shops.index.values.tolist()"
   ]
  },
  {
   "cell_type": "code",
   "execution_count": 10,
   "id": "2d37c48f",
   "metadata": {},
   "outputs": [],
   "source": [
    "df_checks3 = df_checks2[['BaseSum','id_tt_cl','day_of_week']] "
   ]
  },
  {
   "cell_type": "code",
   "execution_count": 11,
   "id": "4f28a3c0",
   "metadata": {},
   "outputs": [],
   "source": [
    "overal_sales_in_good_shops =   df_checks3[df_checks3['id_tt_cl'].isin(lis_good_shops)]['BaseSum'].sum()\n",
    "overal_sales_in_bad_shops =   df_checks3[df_checks3['id_tt_cl'].isin(lis_bad_shops)]['BaseSum'].sum()\n"
   ]
  },
  {
   "cell_type": "code",
   "execution_count": 13,
   "id": "0371d37b",
   "metadata": {},
   "outputs": [
    {
     "data": {
      "text/plain": [
       "array(['Thursday', 'Wednesday', 'Friday', 'Sunday', 'Saturday', 'Tuesday',\n",
       "       'Monday'], dtype=object)"
      ]
     },
     "execution_count": 13,
     "metadata": {},
     "output_type": "execute_result"
    }
   ],
   "source": [
    "df_checks3['day_of_week'].unique()"
   ]
  },
  {
   "cell_type": "code",
   "execution_count": 16,
   "id": "41e829ae",
   "metadata": {},
   "outputs": [],
   "source": [
    "overal_weekend_sales_in_good_shops =   df_checks3[(df_checks3['id_tt_cl'].isin(lis_good_shops)) & (df_checks3['day_of_week'].isin(['Sunday', 'Saturday'])) ]['BaseSum'].sum()"
   ]
  },
  {
   "cell_type": "code",
   "execution_count": 19,
   "id": "6d6ab403",
   "metadata": {},
   "outputs": [],
   "source": [
    "overal_weekend_sales_in_bad_shops =   df_checks3[(df_checks3['id_tt_cl'].isin(lis_bad_shops)) & (df_checks3['day_of_week'].isin(['Sunday', 'Saturday'])) ]['BaseSum'].sum()"
   ]
  },
  {
   "cell_type": "code",
   "execution_count": 17,
   "id": "8d8af2eb",
   "metadata": {},
   "outputs": [
    {
     "data": {
      "text/plain": [
       "0.2686219476252244"
      ]
     },
     "execution_count": 17,
     "metadata": {},
     "output_type": "execute_result"
    }
   ],
   "source": [
    "overal_weekend_sales_in_good_shops / overal_sales_in_good_shops"
   ]
  },
  {
   "cell_type": "code",
   "execution_count": 20,
   "id": "9043cbcb",
   "metadata": {},
   "outputs": [
    {
     "data": {
      "text/plain": [
       "0.25480863365326056"
      ]
     },
     "execution_count": 20,
     "metadata": {},
     "output_type": "execute_result"
    }
   ],
   "source": [
    "overal_weekend_sales_in_bad_shops/overal_sales_in_bad_shops"
   ]
  }
 ],
 "metadata": {
  "kernelspec": {
   "display_name": "Python 3.9.12 ('base')",
   "language": "python",
   "name": "python3"
  },
  "language_info": {
   "codemirror_mode": {
    "name": "ipython",
    "version": 3
   },
   "file_extension": ".py",
   "mimetype": "text/x-python",
   "name": "python",
   "nbconvert_exporter": "python",
   "pygments_lexer": "ipython3",
   "version": "3.9.12"
  },
  "vscode": {
   "interpreter": {
    "hash": "ad2bdc8ecc057115af97d19610ffacc2b4e99fae6737bb82f5d7fb13d2f2c186"
   }
  }
 },
 "nbformat": 4,
 "nbformat_minor": 5
}

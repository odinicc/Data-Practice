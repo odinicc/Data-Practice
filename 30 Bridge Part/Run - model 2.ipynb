{
 "cells": [
  {
   "cell_type": "code",
   "execution_count": 34,
   "metadata": {
    "collapsed": true,
    "pycharm": {
     "name": "#%%\n"
    }
   },
   "outputs": [],
   "source": [
    "import pandas as pd"
   ]
  },
  {
   "cell_type": "code",
   "execution_count": 35,
   "outputs": [],
   "source": [
    "# Standard\n",
    "import pandas as pd\n",
    "import numpy as np\n",
    "import os\n",
    "# Pycaret\n",
    "from pycaret.classification import *\n",
    "# Plots\n",
    "from plotly.offline import iplot\n",
    "import plotly.graph_objects as go\n",
    "from plotly.subplots import make_subplots\n",
    "import seaborn as sns\n",
    "# Sklearn tools\n",
    "from sklearn.preprocessing import LabelEncoder\n",
    "from sklearn.metrics import *\n",
    "# Extras\n",
    "from datetime import date\n",
    "import warnings\n",
    "warnings.filterwarnings(\"ignore\")\n",
    "import seaborn as sns\n",
    "import pycaret"
   ],
   "metadata": {
    "collapsed": false,
    "pycharm": {
     "name": "#%%\n"
    }
   }
  },
  {
   "cell_type": "code",
   "execution_count": 36,
   "outputs": [],
   "source": [
    "df_test = pd.read_csv('df_test_new.csv')"
   ],
   "metadata": {
    "collapsed": false,
    "pycharm": {
     "name": "#%%\n"
    }
   }
  },
  {
   "cell_type": "code",
   "execution_count": 37,
   "outputs": [],
   "source": [
    "df_train = pd.read_csv('df_train_new.csv')"
   ],
   "metadata": {
    "collapsed": false,
    "pycharm": {
     "name": "#%%\n"
    }
   }
  },
  {
   "cell_type": "code",
   "execution_count": 38,
   "outputs": [],
   "source": [
    "df_train_0 = df_train[df_train['target'] == 0]"
   ],
   "metadata": {
    "collapsed": false,
    "pycharm": {
     "name": "#%%\n"
    }
   }
  },
  {
   "cell_type": "code",
   "execution_count": 39,
   "outputs": [],
   "source": [
    "df_train_1 = df_train[df_train['target'] == 1]\n"
   ],
   "metadata": {
    "collapsed": false,
    "pycharm": {
     "name": "#%%\n"
    }
   }
  },
  {
   "cell_type": "code",
   "execution_count": 40,
   "outputs": [
    {
     "data": {
      "text/plain": "                 Id   target  RevolvingUtilizationOfUnsecuredLines  \\\ncount   68527.00000  68527.0                          68527.000000   \nmean    75005.23417      0.0                              5.888450   \nstd     43291.87137      0.0                            240.089641   \nmin         2.00000      0.0                              0.000000   \n25%     37388.50000      0.0                              0.026944   \n50%     75034.00000      0.0                              0.134361   \n75%    112537.50000      0.0                              0.489762   \nmax    149998.00000      0.0                          29110.000000   \n\n                age  NumberOfTime30-59DaysPastDueNotWorse      DebtRatio  \\\ncount  68527.000000                          68527.000000   68527.000000   \nmean      52.809739                              0.282006     364.425267   \nstd       14.804027                              2.998680    2547.179528   \nmin        0.000000                              0.000000       0.000000   \n25%       42.000000                              0.000000       0.171999   \n50%       52.000000                              0.000000       0.361834   \n75%       63.000000                              0.000000       0.858586   \nmax      105.000000                             98.000000  329664.000000   \n\n       MonthlyIncome  NumberOfOpenCreditLinesAndLoans  \\\ncount   6.852700e+04                     68527.000000   \nmean    6.709315e+03                         8.478643   \nstd     9.577051e+03                         5.101598   \nmin     0.000000e+00                         0.000000   \n25%     4.000000e+03                         5.000000   \n50%     6.649145e+03                         8.000000   \n75%     7.500000e+03                        11.000000   \nmax     1.560100e+06                        57.000000   \n\n       NumberOfTimes90DaysLate  NumberRealEstateLoansOrLines  \\\ncount             68527.000000                  68527.000000   \nmean                  0.137406                      1.020299   \nstd                   2.962835                      1.114329   \nmin                   0.000000                      0.000000   \n25%                   0.000000                      0.000000   \n50%                   0.000000                      1.000000   \n75%                   0.000000                      2.000000   \nmax                  98.000000                     32.000000   \n\n       NumberOfTime60-89DaysPastDueNotWorse  NumberOfDependents  NumberOfLoans  \ncount                          68527.000000        68527.000000   68527.000000  \nmean                               0.129920            0.743215       9.498942  \nstd                                2.955833            1.088433       5.668507  \nmin                                0.000000            0.000000       0.000000  \n25%                                0.000000            0.000000       5.000000  \n50%                                0.000000            0.000000       9.000000  \n75%                                0.000000            1.000000      13.000000  \nmax                               98.000000           13.000000      70.000000  ",
      "text/html": "<div>\n<style scoped>\n    .dataframe tbody tr th:only-of-type {\n        vertical-align: middle;\n    }\n\n    .dataframe tbody tr th {\n        vertical-align: top;\n    }\n\n    .dataframe thead th {\n        text-align: right;\n    }\n</style>\n<table border=\"1\" class=\"dataframe\">\n  <thead>\n    <tr style=\"text-align: right;\">\n      <th></th>\n      <th>Id</th>\n      <th>target</th>\n      <th>RevolvingUtilizationOfUnsecuredLines</th>\n      <th>age</th>\n      <th>NumberOfTime30-59DaysPastDueNotWorse</th>\n      <th>DebtRatio</th>\n      <th>MonthlyIncome</th>\n      <th>NumberOfOpenCreditLinesAndLoans</th>\n      <th>NumberOfTimes90DaysLate</th>\n      <th>NumberRealEstateLoansOrLines</th>\n      <th>NumberOfTime60-89DaysPastDueNotWorse</th>\n      <th>NumberOfDependents</th>\n      <th>NumberOfLoans</th>\n    </tr>\n  </thead>\n  <tbody>\n    <tr>\n      <th>count</th>\n      <td>68527.00000</td>\n      <td>68527.0</td>\n      <td>68527.000000</td>\n      <td>68527.000000</td>\n      <td>68527.000000</td>\n      <td>68527.000000</td>\n      <td>6.852700e+04</td>\n      <td>68527.000000</td>\n      <td>68527.000000</td>\n      <td>68527.000000</td>\n      <td>68527.000000</td>\n      <td>68527.000000</td>\n      <td>68527.000000</td>\n    </tr>\n    <tr>\n      <th>mean</th>\n      <td>75005.23417</td>\n      <td>0.0</td>\n      <td>5.888450</td>\n      <td>52.809739</td>\n      <td>0.282006</td>\n      <td>364.425267</td>\n      <td>6.709315e+03</td>\n      <td>8.478643</td>\n      <td>0.137406</td>\n      <td>1.020299</td>\n      <td>0.129920</td>\n      <td>0.743215</td>\n      <td>9.498942</td>\n    </tr>\n    <tr>\n      <th>std</th>\n      <td>43291.87137</td>\n      <td>0.0</td>\n      <td>240.089641</td>\n      <td>14.804027</td>\n      <td>2.998680</td>\n      <td>2547.179528</td>\n      <td>9.577051e+03</td>\n      <td>5.101598</td>\n      <td>2.962835</td>\n      <td>1.114329</td>\n      <td>2.955833</td>\n      <td>1.088433</td>\n      <td>5.668507</td>\n    </tr>\n    <tr>\n      <th>min</th>\n      <td>2.00000</td>\n      <td>0.0</td>\n      <td>0.000000</td>\n      <td>0.000000</td>\n      <td>0.000000</td>\n      <td>0.000000</td>\n      <td>0.000000e+00</td>\n      <td>0.000000</td>\n      <td>0.000000</td>\n      <td>0.000000</td>\n      <td>0.000000</td>\n      <td>0.000000</td>\n      <td>0.000000</td>\n    </tr>\n    <tr>\n      <th>25%</th>\n      <td>37388.50000</td>\n      <td>0.0</td>\n      <td>0.026944</td>\n      <td>42.000000</td>\n      <td>0.000000</td>\n      <td>0.171999</td>\n      <td>4.000000e+03</td>\n      <td>5.000000</td>\n      <td>0.000000</td>\n      <td>0.000000</td>\n      <td>0.000000</td>\n      <td>0.000000</td>\n      <td>5.000000</td>\n    </tr>\n    <tr>\n      <th>50%</th>\n      <td>75034.00000</td>\n      <td>0.0</td>\n      <td>0.134361</td>\n      <td>52.000000</td>\n      <td>0.000000</td>\n      <td>0.361834</td>\n      <td>6.649145e+03</td>\n      <td>8.000000</td>\n      <td>0.000000</td>\n      <td>1.000000</td>\n      <td>0.000000</td>\n      <td>0.000000</td>\n      <td>9.000000</td>\n    </tr>\n    <tr>\n      <th>75%</th>\n      <td>112537.50000</td>\n      <td>0.0</td>\n      <td>0.489762</td>\n      <td>63.000000</td>\n      <td>0.000000</td>\n      <td>0.858586</td>\n      <td>7.500000e+03</td>\n      <td>11.000000</td>\n      <td>0.000000</td>\n      <td>2.000000</td>\n      <td>0.000000</td>\n      <td>1.000000</td>\n      <td>13.000000</td>\n    </tr>\n    <tr>\n      <th>max</th>\n      <td>149998.00000</td>\n      <td>0.0</td>\n      <td>29110.000000</td>\n      <td>105.000000</td>\n      <td>98.000000</td>\n      <td>329664.000000</td>\n      <td>1.560100e+06</td>\n      <td>57.000000</td>\n      <td>98.000000</td>\n      <td>32.000000</td>\n      <td>98.000000</td>\n      <td>13.000000</td>\n      <td>70.000000</td>\n    </tr>\n  </tbody>\n</table>\n</div>"
     },
     "execution_count": 40,
     "metadata": {},
     "output_type": "execute_result"
    }
   ],
   "source": [
    "df_train_0.describe()"
   ],
   "metadata": {
    "collapsed": false,
    "pycharm": {
     "name": "#%%\n"
    }
   }
  },
  {
   "cell_type": "code",
   "execution_count": 41,
   "outputs": [
    {
     "data": {
      "text/plain": "                  Id  target  RevolvingUtilizationOfUnsecuredLines  \\\ncount    4836.000000  4836.0                           4836.000000   \nmean    75463.758892     1.0                              5.834660   \nstd     43473.754837     0.0                            156.830123   \nmin        13.000000     1.0                              0.000000   \n25%     38253.250000     1.0                              0.390220   \n50%     74965.500000     1.0                              0.830633   \n75%    113953.750000     1.0                              1.000000   \nmax    149979.000000     1.0                           8328.000000   \n\n               age  NumberOfTime30-59DaysPastDueNotWorse     DebtRatio  \\\ncount  4836.000000                           4836.000000   4836.000000   \nmean     46.031224                              2.231390    293.539092   \nstd      12.883298                             11.082637   1087.903421   \nmin      21.000000                              0.000000      0.000000   \n25%      36.000000                              0.000000      0.193529   \n50%      46.000000                              0.000000      0.432096   \n75%      54.000000                              2.000000      0.918747   \nmax      99.000000                             98.000000  21395.000000   \n\n       MonthlyIncome  NumberOfOpenCreditLinesAndLoans  \\\ncount    4836.000000                      4836.000000   \nmean     5796.516433                         7.951820   \nstd      5493.227619                         5.664632   \nmin         0.000000                         0.000000   \n25%      3207.250000                         4.000000   \n50%      5250.000000                         7.000000   \n75%      6649.144670                        11.000000   \nmax    234600.000000                        52.000000   \n\n       NumberOfTimes90DaysLate  NumberRealEstateLoansOrLines  \\\ncount              4836.000000                   4836.000000   \nmean                  1.944789                      1.014682   \nstd                  11.110838                      1.412162   \nmin                   0.000000                      0.000000   \n25%                   0.000000                      0.000000   \n50%                   0.000000                      1.000000   \n75%                   1.000000                      2.000000   \nmax                  98.000000                     20.000000   \n\n       NumberOfTime60-89DaysPastDueNotWorse  NumberOfDependents  NumberOfLoans  \ncount                           4836.000000         4836.000000    4836.000000  \nmean                               1.676179            0.929679       8.966501  \nstd                               11.094843            1.197183       6.499584  \nmin                                0.000000            0.000000       0.000000  \n25%                                0.000000            0.000000       4.000000  \n50%                                0.000000            0.000000       8.000000  \n75%                                1.000000            2.000000      13.000000  \nmax                               98.000000            7.000000      54.000000  ",
      "text/html": "<div>\n<style scoped>\n    .dataframe tbody tr th:only-of-type {\n        vertical-align: middle;\n    }\n\n    .dataframe tbody tr th {\n        vertical-align: top;\n    }\n\n    .dataframe thead th {\n        text-align: right;\n    }\n</style>\n<table border=\"1\" class=\"dataframe\">\n  <thead>\n    <tr style=\"text-align: right;\">\n      <th></th>\n      <th>Id</th>\n      <th>target</th>\n      <th>RevolvingUtilizationOfUnsecuredLines</th>\n      <th>age</th>\n      <th>NumberOfTime30-59DaysPastDueNotWorse</th>\n      <th>DebtRatio</th>\n      <th>MonthlyIncome</th>\n      <th>NumberOfOpenCreditLinesAndLoans</th>\n      <th>NumberOfTimes90DaysLate</th>\n      <th>NumberRealEstateLoansOrLines</th>\n      <th>NumberOfTime60-89DaysPastDueNotWorse</th>\n      <th>NumberOfDependents</th>\n      <th>NumberOfLoans</th>\n    </tr>\n  </thead>\n  <tbody>\n    <tr>\n      <th>count</th>\n      <td>4836.000000</td>\n      <td>4836.0</td>\n      <td>4836.000000</td>\n      <td>4836.000000</td>\n      <td>4836.000000</td>\n      <td>4836.000000</td>\n      <td>4836.000000</td>\n      <td>4836.000000</td>\n      <td>4836.000000</td>\n      <td>4836.000000</td>\n      <td>4836.000000</td>\n      <td>4836.000000</td>\n      <td>4836.000000</td>\n    </tr>\n    <tr>\n      <th>mean</th>\n      <td>75463.758892</td>\n      <td>1.0</td>\n      <td>5.834660</td>\n      <td>46.031224</td>\n      <td>2.231390</td>\n      <td>293.539092</td>\n      <td>5796.516433</td>\n      <td>7.951820</td>\n      <td>1.944789</td>\n      <td>1.014682</td>\n      <td>1.676179</td>\n      <td>0.929679</td>\n      <td>8.966501</td>\n    </tr>\n    <tr>\n      <th>std</th>\n      <td>43473.754837</td>\n      <td>0.0</td>\n      <td>156.830123</td>\n      <td>12.883298</td>\n      <td>11.082637</td>\n      <td>1087.903421</td>\n      <td>5493.227619</td>\n      <td>5.664632</td>\n      <td>11.110838</td>\n      <td>1.412162</td>\n      <td>11.094843</td>\n      <td>1.197183</td>\n      <td>6.499584</td>\n    </tr>\n    <tr>\n      <th>min</th>\n      <td>13.000000</td>\n      <td>1.0</td>\n      <td>0.000000</td>\n      <td>21.000000</td>\n      <td>0.000000</td>\n      <td>0.000000</td>\n      <td>0.000000</td>\n      <td>0.000000</td>\n      <td>0.000000</td>\n      <td>0.000000</td>\n      <td>0.000000</td>\n      <td>0.000000</td>\n      <td>0.000000</td>\n    </tr>\n    <tr>\n      <th>25%</th>\n      <td>38253.250000</td>\n      <td>1.0</td>\n      <td>0.390220</td>\n      <td>36.000000</td>\n      <td>0.000000</td>\n      <td>0.193529</td>\n      <td>3207.250000</td>\n      <td>4.000000</td>\n      <td>0.000000</td>\n      <td>0.000000</td>\n      <td>0.000000</td>\n      <td>0.000000</td>\n      <td>4.000000</td>\n    </tr>\n    <tr>\n      <th>50%</th>\n      <td>74965.500000</td>\n      <td>1.0</td>\n      <td>0.830633</td>\n      <td>46.000000</td>\n      <td>0.000000</td>\n      <td>0.432096</td>\n      <td>5250.000000</td>\n      <td>7.000000</td>\n      <td>0.000000</td>\n      <td>1.000000</td>\n      <td>0.000000</td>\n      <td>0.000000</td>\n      <td>8.000000</td>\n    </tr>\n    <tr>\n      <th>75%</th>\n      <td>113953.750000</td>\n      <td>1.0</td>\n      <td>1.000000</td>\n      <td>54.000000</td>\n      <td>2.000000</td>\n      <td>0.918747</td>\n      <td>6649.144670</td>\n      <td>11.000000</td>\n      <td>1.000000</td>\n      <td>2.000000</td>\n      <td>1.000000</td>\n      <td>2.000000</td>\n      <td>13.000000</td>\n    </tr>\n    <tr>\n      <th>max</th>\n      <td>149979.000000</td>\n      <td>1.0</td>\n      <td>8328.000000</td>\n      <td>99.000000</td>\n      <td>98.000000</td>\n      <td>21395.000000</td>\n      <td>234600.000000</td>\n      <td>52.000000</td>\n      <td>98.000000</td>\n      <td>20.000000</td>\n      <td>98.000000</td>\n      <td>7.000000</td>\n      <td>54.000000</td>\n    </tr>\n  </tbody>\n</table>\n</div>"
     },
     "execution_count": 41,
     "metadata": {},
     "output_type": "execute_result"
    }
   ],
   "source": [
    "df_train_1.describe()"
   ],
   "metadata": {
    "collapsed": false,
    "pycharm": {
     "name": "#%%\n"
    }
   }
  },
  {
   "cell_type": "code",
   "execution_count": 41,
   "outputs": [],
   "source": [],
   "metadata": {
    "collapsed": false,
    "pycharm": {
     "name": "#%%\n"
    }
   }
  },
  {
   "cell_type": "code",
   "execution_count": 42,
   "outputs": [
    {
     "data": {
      "text/plain": "<IPython.core.display.HTML object>",
      "text/html": ""
     },
     "metadata": {},
     "output_type": "display_data"
    }
   ],
   "source": [
    "clf1= setup(data = df_train, target = 'target' )"
   ],
   "metadata": {
    "collapsed": false,
    "pycharm": {
     "name": "#%%\n"
    }
   }
  },
  {
   "cell_type": "code",
   "execution_count": 60,
   "outputs": [
    {
     "data": {
      "text/plain": "                                                                    \n                                                                    \nInitiated  . . . . . . . . . . . . . . . . . .              11:36:30\nStatus     . . . . . . . . . . . . . . . . . .  Loading Dependencies\nEstimator  . . . . . . . . . . . . . . . . . .     Compiling Library",
      "text/html": "<div>\n<style scoped>\n    .dataframe tbody tr th:only-of-type {\n        vertical-align: middle;\n    }\n\n    .dataframe tbody tr th {\n        vertical-align: top;\n    }\n\n    .dataframe thead th {\n        text-align: right;\n    }\n</style>\n<table border=\"1\" class=\"dataframe\">\n  <thead>\n    <tr style=\"text-align: right;\">\n      <th></th>\n      <th></th>\n      <th></th>\n    </tr>\n    <tr>\n      <th></th>\n      <th></th>\n      <th></th>\n    </tr>\n  </thead>\n  <tbody>\n    <tr>\n      <th>Initiated</th>\n      <td>. . . . . . . . . . . . . . . . . .</td>\n      <td>11:36:30</td>\n    </tr>\n    <tr>\n      <th>Status</th>\n      <td>. . . . . . . . . . . . . . . . . .</td>\n      <td>Loading Dependencies</td>\n    </tr>\n    <tr>\n      <th>Estimator</th>\n      <td>. . . . . . . . . . . . . . . . . .</td>\n      <td>Compiling Library</td>\n    </tr>\n  </tbody>\n</table>\n</div>"
     },
     "metadata": {},
     "output_type": "display_data"
    },
    {
     "data": {
      "text/plain": "<IPython.core.display.HTML object>",
      "text/html": ""
     },
     "metadata": {},
     "output_type": "display_data"
    },
    {
     "data": {
      "text/plain": "Processing:   0%|          | 0/69 [00:00<?, ?it/s]",
      "application/vnd.jupyter.widget-view+json": {
       "version_major": 2,
       "version_minor": 0,
       "model_id": "0c2dd4165deb40c19ab3b6cd03e13e7b"
      }
     },
     "metadata": {},
     "output_type": "display_data"
    }
   ],
   "source": [
    "top5 = compare_models(n_select = 5,sort=\"F1\")"
   ],
   "metadata": {
    "collapsed": false,
    "pycharm": {
     "name": "#%%\n"
    }
   }
  },
  {
   "cell_type": "code",
   "execution_count": 44,
   "outputs": [
    {
     "data": {
      "text/plain": "                                    Model  Accuracy     AUC  Recall   Prec.  \\\nqda       Quadratic Discriminant Analysis    0.8221  0.7274  0.4578  0.2607   \nada                  Ada Boost Classifier    0.9361  0.8541  0.2047  0.5379   \ncatboost              CatBoost Classifier    0.9364  0.8569  0.1843  0.5522   \ngbc          Gradient Boosting Classifier    0.9371  0.8602  0.1799  0.5720   \ndt               Decision Tree Classifier    0.8980  0.6075  0.2730  0.2496   \nlightgbm  Light Gradient Boosting Machine    0.9363  0.8562  0.1678  0.5552   \nrf               Random Forest Classifier    0.9363  0.8405  0.1648  0.5560   \net                 Extra Trees Classifier    0.9353  0.8316  0.1521  0.5317   \nlda          Linear Discriminant Analysis    0.9347  0.6940  0.0954  0.5262   \nnb                            Naive Bayes    0.9337  0.6994  0.0186  0.4191   \nridge                    Ridge Classifier    0.9342  0.0000  0.0168  0.5127   \nsvm                   SVM - Linear Kernel    0.8536  0.0000  0.0938  0.0486   \nlr                    Logistic Regression    0.9342  0.6464  0.0086  0.3491   \nknn                K Neighbors Classifier    0.9315  0.5086  0.0050  0.0930   \ndummy                    Dummy Classifier    0.9341  0.5000  0.0000  0.0000   \n\n              F1   Kappa     MCC  TT (Sec)  \nqda       0.3074  0.2435  0.2552     0.040  \nada       0.2960  0.2697  0.3049     0.741  \ncatboost  0.2759  0.2513  0.2936     6.986  \ngbc       0.2732  0.2496  0.2964     3.060  \ndt        0.2606  0.2060  0.2063     0.125  \nlightgbm  0.2575  0.2341  0.2810     0.257  \nrf        0.2540  0.2309  0.2786     2.164  \net        0.2360  0.2130  0.2598     1.175  \nlda       0.1612  0.1440  0.2037     0.046  \nnb        0.0356  0.0303  0.0768     0.029  \nridge     0.0325  0.0286  0.0831     0.030  \nsvm       0.0170  0.0014  0.0028     0.435  \nlr        0.0167  0.0147  0.0485     0.688  \nknn       0.0095  0.0033  0.0071     0.146  \ndummy     0.0000  0.0000  0.0000     0.025  ",
      "text/html": "<div>\n<style scoped>\n    .dataframe tbody tr th:only-of-type {\n        vertical-align: middle;\n    }\n\n    .dataframe tbody tr th {\n        vertical-align: top;\n    }\n\n    .dataframe thead th {\n        text-align: right;\n    }\n</style>\n<table border=\"1\" class=\"dataframe\">\n  <thead>\n    <tr style=\"text-align: right;\">\n      <th></th>\n      <th>Model</th>\n      <th>Accuracy</th>\n      <th>AUC</th>\n      <th>Recall</th>\n      <th>Prec.</th>\n      <th>F1</th>\n      <th>Kappa</th>\n      <th>MCC</th>\n      <th>TT (Sec)</th>\n    </tr>\n  </thead>\n  <tbody>\n    <tr>\n      <th>qda</th>\n      <td>Quadratic Discriminant Analysis</td>\n      <td>0.8221</td>\n      <td>0.7274</td>\n      <td>0.4578</td>\n      <td>0.2607</td>\n      <td>0.3074</td>\n      <td>0.2435</td>\n      <td>0.2552</td>\n      <td>0.040</td>\n    </tr>\n    <tr>\n      <th>ada</th>\n      <td>Ada Boost Classifier</td>\n      <td>0.9361</td>\n      <td>0.8541</td>\n      <td>0.2047</td>\n      <td>0.5379</td>\n      <td>0.2960</td>\n      <td>0.2697</td>\n      <td>0.3049</td>\n      <td>0.741</td>\n    </tr>\n    <tr>\n      <th>catboost</th>\n      <td>CatBoost Classifier</td>\n      <td>0.9364</td>\n      <td>0.8569</td>\n      <td>0.1843</td>\n      <td>0.5522</td>\n      <td>0.2759</td>\n      <td>0.2513</td>\n      <td>0.2936</td>\n      <td>6.986</td>\n    </tr>\n    <tr>\n      <th>gbc</th>\n      <td>Gradient Boosting Classifier</td>\n      <td>0.9371</td>\n      <td>0.8602</td>\n      <td>0.1799</td>\n      <td>0.5720</td>\n      <td>0.2732</td>\n      <td>0.2496</td>\n      <td>0.2964</td>\n      <td>3.060</td>\n    </tr>\n    <tr>\n      <th>dt</th>\n      <td>Decision Tree Classifier</td>\n      <td>0.8980</td>\n      <td>0.6075</td>\n      <td>0.2730</td>\n      <td>0.2496</td>\n      <td>0.2606</td>\n      <td>0.2060</td>\n      <td>0.2063</td>\n      <td>0.125</td>\n    </tr>\n    <tr>\n      <th>lightgbm</th>\n      <td>Light Gradient Boosting Machine</td>\n      <td>0.9363</td>\n      <td>0.8562</td>\n      <td>0.1678</td>\n      <td>0.5552</td>\n      <td>0.2575</td>\n      <td>0.2341</td>\n      <td>0.2810</td>\n      <td>0.257</td>\n    </tr>\n    <tr>\n      <th>rf</th>\n      <td>Random Forest Classifier</td>\n      <td>0.9363</td>\n      <td>0.8405</td>\n      <td>0.1648</td>\n      <td>0.5560</td>\n      <td>0.2540</td>\n      <td>0.2309</td>\n      <td>0.2786</td>\n      <td>2.164</td>\n    </tr>\n    <tr>\n      <th>et</th>\n      <td>Extra Trees Classifier</td>\n      <td>0.9353</td>\n      <td>0.8316</td>\n      <td>0.1521</td>\n      <td>0.5317</td>\n      <td>0.2360</td>\n      <td>0.2130</td>\n      <td>0.2598</td>\n      <td>1.175</td>\n    </tr>\n    <tr>\n      <th>lda</th>\n      <td>Linear Discriminant Analysis</td>\n      <td>0.9347</td>\n      <td>0.6940</td>\n      <td>0.0954</td>\n      <td>0.5262</td>\n      <td>0.1612</td>\n      <td>0.1440</td>\n      <td>0.2037</td>\n      <td>0.046</td>\n    </tr>\n    <tr>\n      <th>nb</th>\n      <td>Naive Bayes</td>\n      <td>0.9337</td>\n      <td>0.6994</td>\n      <td>0.0186</td>\n      <td>0.4191</td>\n      <td>0.0356</td>\n      <td>0.0303</td>\n      <td>0.0768</td>\n      <td>0.029</td>\n    </tr>\n    <tr>\n      <th>ridge</th>\n      <td>Ridge Classifier</td>\n      <td>0.9342</td>\n      <td>0.0000</td>\n      <td>0.0168</td>\n      <td>0.5127</td>\n      <td>0.0325</td>\n      <td>0.0286</td>\n      <td>0.0831</td>\n      <td>0.030</td>\n    </tr>\n    <tr>\n      <th>svm</th>\n      <td>SVM - Linear Kernel</td>\n      <td>0.8536</td>\n      <td>0.0000</td>\n      <td>0.0938</td>\n      <td>0.0486</td>\n      <td>0.0170</td>\n      <td>0.0014</td>\n      <td>0.0028</td>\n      <td>0.435</td>\n    </tr>\n    <tr>\n      <th>lr</th>\n      <td>Logistic Regression</td>\n      <td>0.9342</td>\n      <td>0.6464</td>\n      <td>0.0086</td>\n      <td>0.3491</td>\n      <td>0.0167</td>\n      <td>0.0147</td>\n      <td>0.0485</td>\n      <td>0.688</td>\n    </tr>\n    <tr>\n      <th>knn</th>\n      <td>K Neighbors Classifier</td>\n      <td>0.9315</td>\n      <td>0.5086</td>\n      <td>0.0050</td>\n      <td>0.0930</td>\n      <td>0.0095</td>\n      <td>0.0033</td>\n      <td>0.0071</td>\n      <td>0.146</td>\n    </tr>\n    <tr>\n      <th>dummy</th>\n      <td>Dummy Classifier</td>\n      <td>0.9341</td>\n      <td>0.5000</td>\n      <td>0.0000</td>\n      <td>0.0000</td>\n      <td>0.0000</td>\n      <td>0.0000</td>\n      <td>0.0000</td>\n      <td>0.025</td>\n    </tr>\n  </tbody>\n</table>\n</div>"
     },
     "execution_count": 44,
     "metadata": {},
     "output_type": "execute_result"
    }
   ],
   "source": [
    "pull(top5)"
   ],
   "metadata": {
    "collapsed": false,
    "pycharm": {
     "name": "#%%\n"
    }
   }
  },
  {
   "cell_type": "code",
   "execution_count": 62,
   "outputs": [],
   "source": [
    "best = top5[0]"
   ],
   "metadata": {
    "collapsed": false,
    "pycharm": {
     "name": "#%%\n"
    }
   }
  },
  {
   "cell_type": "code",
   "execution_count": 45,
   "outputs": [
    {
     "data": {
      "text/plain": "                                                                    \n                                                                    \nInitiated  . . . . . . . . . . . . . . . . . .              10:47:55\nStatus     . . . . . . . . . . . . . . . . . .  Loading Dependencies\nEstimator  . . . . . . . . . . . . . . . . . .     Compiling Library",
      "text/html": "<div>\n<style scoped>\n    .dataframe tbody tr th:only-of-type {\n        vertical-align: middle;\n    }\n\n    .dataframe tbody tr th {\n        vertical-align: top;\n    }\n\n    .dataframe thead th {\n        text-align: right;\n    }\n</style>\n<table border=\"1\" class=\"dataframe\">\n  <thead>\n    <tr style=\"text-align: right;\">\n      <th></th>\n      <th></th>\n      <th></th>\n    </tr>\n    <tr>\n      <th></th>\n      <th></th>\n      <th></th>\n    </tr>\n  </thead>\n  <tbody>\n    <tr>\n      <th>Initiated</th>\n      <td>. . . . . . . . . . . . . . . . . .</td>\n      <td>10:47:55</td>\n    </tr>\n    <tr>\n      <th>Status</th>\n      <td>. . . . . . . . . . . . . . . . . .</td>\n      <td>Loading Dependencies</td>\n    </tr>\n    <tr>\n      <th>Estimator</th>\n      <td>. . . . . . . . . . . . . . . . . .</td>\n      <td>Compiling Library</td>\n    </tr>\n  </tbody>\n</table>\n</div>"
     },
     "metadata": {},
     "output_type": "display_data"
    },
    {
     "data": {
      "text/plain": "<IPython.core.display.HTML object>",
      "text/html": ""
     },
     "metadata": {},
     "output_type": "display_data"
    },
    {
     "data": {
      "text/plain": "Processing:   0%|          | 0/7 [00:00<?, ?it/s]",
      "application/vnd.jupyter.widget-view+json": {
       "version_major": 2,
       "version_minor": 0,
       "model_id": "3d4693113f1a47cca371b142cad8a008"
      }
     },
     "metadata": {},
     "output_type": "display_data"
    },
    {
     "name": "stdout",
     "output_type": "stream",
     "text": [
      "Fitting 10 folds for each of 10 candidates, totalling 100 fits\n"
     ]
    },
    {
     "data": {
      "text/plain": "                                                                    \n                                                                    \nInitiated  . . . . . . . . . . . . . . . . . .              10:48:00\nStatus     . . . . . . . . . . . . . . . . . .  Loading Dependencies\nEstimator  . . . . . . . . . . . . . . . . . .     Compiling Library",
      "text/html": "<div>\n<style scoped>\n    .dataframe tbody tr th:only-of-type {\n        vertical-align: middle;\n    }\n\n    .dataframe tbody tr th {\n        vertical-align: top;\n    }\n\n    .dataframe thead th {\n        text-align: right;\n    }\n</style>\n<table border=\"1\" class=\"dataframe\">\n  <thead>\n    <tr style=\"text-align: right;\">\n      <th></th>\n      <th></th>\n      <th></th>\n    </tr>\n    <tr>\n      <th></th>\n      <th></th>\n      <th></th>\n    </tr>\n  </thead>\n  <tbody>\n    <tr>\n      <th>Initiated</th>\n      <td>. . . . . . . . . . . . . . . . . .</td>\n      <td>10:48:00</td>\n    </tr>\n    <tr>\n      <th>Status</th>\n      <td>. . . . . . . . . . . . . . . . . .</td>\n      <td>Loading Dependencies</td>\n    </tr>\n    <tr>\n      <th>Estimator</th>\n      <td>. . . . . . . . . . . . . . . . . .</td>\n      <td>Compiling Library</td>\n    </tr>\n  </tbody>\n</table>\n</div>"
     },
     "metadata": {},
     "output_type": "display_data"
    },
    {
     "data": {
      "text/plain": "<IPython.core.display.HTML object>",
      "text/html": ""
     },
     "metadata": {},
     "output_type": "display_data"
    },
    {
     "data": {
      "text/plain": "Processing:   0%|          | 0/7 [00:00<?, ?it/s]",
      "application/vnd.jupyter.widget-view+json": {
       "version_major": 2,
       "version_minor": 0,
       "model_id": "02e46d70985f4550a47c87312e69999e"
      }
     },
     "metadata": {},
     "output_type": "display_data"
    },
    {
     "name": "stdout",
     "output_type": "stream",
     "text": [
      "Fitting 10 folds for each of 10 candidates, totalling 100 fits\n",
      "Original model was better than the tuned model, hence it will be returned. NOTE: The display metrics are for the tuned model (not the original one).\n"
     ]
    },
    {
     "data": {
      "text/plain": "                                                                    \n                                                                    \nInitiated  . . . . . . . . . . . . . . . . . .              10:52:27\nStatus     . . . . . . . . . . . . . . . . . .  Loading Dependencies\nEstimator  . . . . . . . . . . . . . . . . . .     Compiling Library",
      "text/html": "<div>\n<style scoped>\n    .dataframe tbody tr th:only-of-type {\n        vertical-align: middle;\n    }\n\n    .dataframe tbody tr th {\n        vertical-align: top;\n    }\n\n    .dataframe thead th {\n        text-align: right;\n    }\n</style>\n<table border=\"1\" class=\"dataframe\">\n  <thead>\n    <tr style=\"text-align: right;\">\n      <th></th>\n      <th></th>\n      <th></th>\n    </tr>\n    <tr>\n      <th></th>\n      <th></th>\n      <th></th>\n    </tr>\n  </thead>\n  <tbody>\n    <tr>\n      <th>Initiated</th>\n      <td>. . . . . . . . . . . . . . . . . .</td>\n      <td>10:52:27</td>\n    </tr>\n    <tr>\n      <th>Status</th>\n      <td>. . . . . . . . . . . . . . . . . .</td>\n      <td>Loading Dependencies</td>\n    </tr>\n    <tr>\n      <th>Estimator</th>\n      <td>. . . . . . . . . . . . . . . . . .</td>\n      <td>Compiling Library</td>\n    </tr>\n  </tbody>\n</table>\n</div>"
     },
     "metadata": {},
     "output_type": "display_data"
    },
    {
     "data": {
      "text/plain": "<IPython.core.display.HTML object>",
      "text/html": ""
     },
     "metadata": {},
     "output_type": "display_data"
    },
    {
     "data": {
      "text/plain": "Processing:   0%|          | 0/7 [00:00<?, ?it/s]",
      "application/vnd.jupyter.widget-view+json": {
       "version_major": 2,
       "version_minor": 0,
       "model_id": "0bdfa67403fc49089fbf1188713003fb"
      }
     },
     "metadata": {},
     "output_type": "display_data"
    },
    {
     "name": "stdout",
     "output_type": "stream",
     "text": [
      "Fitting 10 folds for each of 10 candidates, totalling 100 fits\n"
     ]
    },
    {
     "data": {
      "text/plain": "                                                                    \n                                                                    \nInitiated  . . . . . . . . . . . . . . . . . .              10:56:42\nStatus     . . . . . . . . . . . . . . . . . .  Loading Dependencies\nEstimator  . . . . . . . . . . . . . . . . . .     Compiling Library",
      "text/html": "<div>\n<style scoped>\n    .dataframe tbody tr th:only-of-type {\n        vertical-align: middle;\n    }\n\n    .dataframe tbody tr th {\n        vertical-align: top;\n    }\n\n    .dataframe thead th {\n        text-align: right;\n    }\n</style>\n<table border=\"1\" class=\"dataframe\">\n  <thead>\n    <tr style=\"text-align: right;\">\n      <th></th>\n      <th></th>\n      <th></th>\n    </tr>\n    <tr>\n      <th></th>\n      <th></th>\n      <th></th>\n    </tr>\n  </thead>\n  <tbody>\n    <tr>\n      <th>Initiated</th>\n      <td>. . . . . . . . . . . . . . . . . .</td>\n      <td>10:56:42</td>\n    </tr>\n    <tr>\n      <th>Status</th>\n      <td>. . . . . . . . . . . . . . . . . .</td>\n      <td>Loading Dependencies</td>\n    </tr>\n    <tr>\n      <th>Estimator</th>\n      <td>. . . . . . . . . . . . . . . . . .</td>\n      <td>Compiling Library</td>\n    </tr>\n  </tbody>\n</table>\n</div>"
     },
     "metadata": {},
     "output_type": "display_data"
    },
    {
     "data": {
      "text/plain": "<IPython.core.display.HTML object>",
      "text/html": ""
     },
     "metadata": {},
     "output_type": "display_data"
    },
    {
     "data": {
      "text/plain": "Processing:   0%|          | 0/7 [00:00<?, ?it/s]",
      "application/vnd.jupyter.widget-view+json": {
       "version_major": 2,
       "version_minor": 0,
       "model_id": "c2a11369dbd549368460dec00b1406f7"
      }
     },
     "metadata": {},
     "output_type": "display_data"
    },
    {
     "name": "stdout",
     "output_type": "stream",
     "text": [
      "Fitting 10 folds for each of 10 candidates, totalling 100 fits\n"
     ]
    },
    {
     "data": {
      "text/plain": "                                                                    \n                                                                    \nInitiated  . . . . . . . . . . . . . . . . . .              11:00:38\nStatus     . . . . . . . . . . . . . . . . . .  Loading Dependencies\nEstimator  . . . . . . . . . . . . . . . . . .     Compiling Library",
      "text/html": "<div>\n<style scoped>\n    .dataframe tbody tr th:only-of-type {\n        vertical-align: middle;\n    }\n\n    .dataframe tbody tr th {\n        vertical-align: top;\n    }\n\n    .dataframe thead th {\n        text-align: right;\n    }\n</style>\n<table border=\"1\" class=\"dataframe\">\n  <thead>\n    <tr style=\"text-align: right;\">\n      <th></th>\n      <th></th>\n      <th></th>\n    </tr>\n    <tr>\n      <th></th>\n      <th></th>\n      <th></th>\n    </tr>\n  </thead>\n  <tbody>\n    <tr>\n      <th>Initiated</th>\n      <td>. . . . . . . . . . . . . . . . . .</td>\n      <td>11:00:38</td>\n    </tr>\n    <tr>\n      <th>Status</th>\n      <td>. . . . . . . . . . . . . . . . . .</td>\n      <td>Loading Dependencies</td>\n    </tr>\n    <tr>\n      <th>Estimator</th>\n      <td>. . . . . . . . . . . . . . . . . .</td>\n      <td>Compiling Library</td>\n    </tr>\n  </tbody>\n</table>\n</div>"
     },
     "metadata": {},
     "output_type": "display_data"
    },
    {
     "data": {
      "text/plain": "<IPython.core.display.HTML object>",
      "text/html": ""
     },
     "metadata": {},
     "output_type": "display_data"
    },
    {
     "data": {
      "text/plain": "Processing:   0%|          | 0/7 [00:00<?, ?it/s]",
      "application/vnd.jupyter.widget-view+json": {
       "version_major": 2,
       "version_minor": 0,
       "model_id": "8cc6cb56bbf34c929ca12c091f1d242b"
      }
     },
     "metadata": {},
     "output_type": "display_data"
    },
    {
     "name": "stdout",
     "output_type": "stream",
     "text": [
      "Fitting 10 folds for each of 10 candidates, totalling 100 fits\n",
      "Original model was better than the tuned model, hence it will be returned. NOTE: The display metrics are for the tuned model (not the original one).\n"
     ]
    }
   ],
   "source": [
    "tuned_top5 = [tune_model(i , choose_better = True, optimize=\"F1\") for i in top5]"
   ],
   "metadata": {
    "collapsed": false,
    "pycharm": {
     "name": "#%%\n"
    }
   }
  },
  {
   "cell_type": "code",
   "execution_count": 46,
   "outputs": [
    {
     "data": {
      "text/plain": "      Accuracy     AUC  Recall   Prec.      F1   Kappa     MCC\nFold                                                          \n0       0.9342  0.8413  0.0885  0.5085  0.1508  0.1338  0.1921\n1       0.9315  0.8322  0.0796  0.4030  0.1330  0.1137  0.1560\n2       0.9356  0.8287  0.0973  0.5690  0.1662  0.1499  0.2165\n3       0.9365  0.8288  0.1209  0.5942  0.2010  0.1827  0.2482\n4       0.9367  0.8276  0.1213  0.5942  0.2015  0.1832  0.2487\n5       0.9361  0.8275  0.1479  0.5556  0.2336  0.2118  0.2638\n6       0.9369  0.8336  0.1213  0.6029  0.2020  0.1840  0.2509\n7       0.9316  0.8281  0.0710  0.3934  0.1203  0.1022  0.1449\n8       0.9381  0.8468  0.1509  0.6220  0.2429  0.2229  0.2857\n9       0.9355  0.8470  0.1475  0.5435  0.2320  0.2097  0.2597\nMean    0.9353  0.8341  0.1146  0.5386  0.1883  0.1694  0.2267\nStd     0.0021  0.0075  0.0278  0.0767  0.0413  0.0402  0.0452",
      "text/html": "<div>\n<style scoped>\n    .dataframe tbody tr th:only-of-type {\n        vertical-align: middle;\n    }\n\n    .dataframe tbody tr th {\n        vertical-align: top;\n    }\n\n    .dataframe thead th {\n        text-align: right;\n    }\n</style>\n<table border=\"1\" class=\"dataframe\">\n  <thead>\n    <tr style=\"text-align: right;\">\n      <th></th>\n      <th>Accuracy</th>\n      <th>AUC</th>\n      <th>Recall</th>\n      <th>Prec.</th>\n      <th>F1</th>\n      <th>Kappa</th>\n      <th>MCC</th>\n    </tr>\n    <tr>\n      <th>Fold</th>\n      <th></th>\n      <th></th>\n      <th></th>\n      <th></th>\n      <th></th>\n      <th></th>\n      <th></th>\n    </tr>\n  </thead>\n  <tbody>\n    <tr>\n      <th>0</th>\n      <td>0.9342</td>\n      <td>0.8413</td>\n      <td>0.0885</td>\n      <td>0.5085</td>\n      <td>0.1508</td>\n      <td>0.1338</td>\n      <td>0.1921</td>\n    </tr>\n    <tr>\n      <th>1</th>\n      <td>0.9315</td>\n      <td>0.8322</td>\n      <td>0.0796</td>\n      <td>0.4030</td>\n      <td>0.1330</td>\n      <td>0.1137</td>\n      <td>0.1560</td>\n    </tr>\n    <tr>\n      <th>2</th>\n      <td>0.9356</td>\n      <td>0.8287</td>\n      <td>0.0973</td>\n      <td>0.5690</td>\n      <td>0.1662</td>\n      <td>0.1499</td>\n      <td>0.2165</td>\n    </tr>\n    <tr>\n      <th>3</th>\n      <td>0.9365</td>\n      <td>0.8288</td>\n      <td>0.1209</td>\n      <td>0.5942</td>\n      <td>0.2010</td>\n      <td>0.1827</td>\n      <td>0.2482</td>\n    </tr>\n    <tr>\n      <th>4</th>\n      <td>0.9367</td>\n      <td>0.8276</td>\n      <td>0.1213</td>\n      <td>0.5942</td>\n      <td>0.2015</td>\n      <td>0.1832</td>\n      <td>0.2487</td>\n    </tr>\n    <tr>\n      <th>5</th>\n      <td>0.9361</td>\n      <td>0.8275</td>\n      <td>0.1479</td>\n      <td>0.5556</td>\n      <td>0.2336</td>\n      <td>0.2118</td>\n      <td>0.2638</td>\n    </tr>\n    <tr>\n      <th>6</th>\n      <td>0.9369</td>\n      <td>0.8336</td>\n      <td>0.1213</td>\n      <td>0.6029</td>\n      <td>0.2020</td>\n      <td>0.1840</td>\n      <td>0.2509</td>\n    </tr>\n    <tr>\n      <th>7</th>\n      <td>0.9316</td>\n      <td>0.8281</td>\n      <td>0.0710</td>\n      <td>0.3934</td>\n      <td>0.1203</td>\n      <td>0.1022</td>\n      <td>0.1449</td>\n    </tr>\n    <tr>\n      <th>8</th>\n      <td>0.9381</td>\n      <td>0.8468</td>\n      <td>0.1509</td>\n      <td>0.6220</td>\n      <td>0.2429</td>\n      <td>0.2229</td>\n      <td>0.2857</td>\n    </tr>\n    <tr>\n      <th>9</th>\n      <td>0.9355</td>\n      <td>0.8470</td>\n      <td>0.1475</td>\n      <td>0.5435</td>\n      <td>0.2320</td>\n      <td>0.2097</td>\n      <td>0.2597</td>\n    </tr>\n    <tr>\n      <th>Mean</th>\n      <td>0.9353</td>\n      <td>0.8341</td>\n      <td>0.1146</td>\n      <td>0.5386</td>\n      <td>0.1883</td>\n      <td>0.1694</td>\n      <td>0.2267</td>\n    </tr>\n    <tr>\n      <th>Std</th>\n      <td>0.0021</td>\n      <td>0.0075</td>\n      <td>0.0278</td>\n      <td>0.0767</td>\n      <td>0.0413</td>\n      <td>0.0402</td>\n      <td>0.0452</td>\n    </tr>\n  </tbody>\n</table>\n</div>"
     },
     "execution_count": 46,
     "metadata": {},
     "output_type": "execute_result"
    }
   ],
   "source": [
    "pull(tuned_top5)"
   ],
   "metadata": {
    "collapsed": false,
    "pycharm": {
     "name": "#%%\n"
    }
   }
  },
  {
   "cell_type": "code",
   "execution_count": 47,
   "outputs": [
    {
     "data": {
      "text/plain": "                                                                    \n                                                                    \nInitiated  . . . . . . . . . . . . . . . . . .              11:00:44\nStatus     . . . . . . . . . . . . . . . . . .  Loading Dependencies\nEstimator  . . . . . . . . . . . . . . . . . .     Compiling Library",
      "text/html": "<div>\n<style scoped>\n    .dataframe tbody tr th:only-of-type {\n        vertical-align: middle;\n    }\n\n    .dataframe tbody tr th {\n        vertical-align: top;\n    }\n\n    .dataframe thead th {\n        text-align: right;\n    }\n</style>\n<table border=\"1\" class=\"dataframe\">\n  <thead>\n    <tr style=\"text-align: right;\">\n      <th></th>\n      <th></th>\n      <th></th>\n    </tr>\n    <tr>\n      <th></th>\n      <th></th>\n      <th></th>\n    </tr>\n  </thead>\n  <tbody>\n    <tr>\n      <th>Initiated</th>\n      <td>. . . . . . . . . . . . . . . . . .</td>\n      <td>11:00:44</td>\n    </tr>\n    <tr>\n      <th>Status</th>\n      <td>. . . . . . . . . . . . . . . . . .</td>\n      <td>Loading Dependencies</td>\n    </tr>\n    <tr>\n      <th>Estimator</th>\n      <td>. . . . . . . . . . . . . . . . . .</td>\n      <td>Compiling Library</td>\n    </tr>\n  </tbody>\n</table>\n</div>"
     },
     "metadata": {},
     "output_type": "display_data"
    },
    {
     "data": {
      "text/plain": "<IPython.core.display.HTML object>",
      "text/html": ""
     },
     "metadata": {},
     "output_type": "display_data"
    },
    {
     "data": {
      "text/plain": "Processing:   0%|          | 0/6 [00:00<?, ?it/s]",
      "application/vnd.jupyter.widget-view+json": {
       "version_major": 2,
       "version_minor": 0,
       "model_id": "dfcc7076c88c4d11bd7da9c7beaca7e6"
      }
     },
     "metadata": {},
     "output_type": "display_data"
    },
    {
     "name": "stdout",
     "output_type": "stream",
     "text": [
      "Original model was better than the ensembled model, hence it will be returned. NOTE: The display metrics are for the ensembled model (not the original one).\n"
     ]
    },
    {
     "data": {
      "text/plain": "                                                                    \n                                                                    \nInitiated  . . . . . . . . . . . . . . . . . .              11:00:47\nStatus     . . . . . . . . . . . . . . . . . .  Loading Dependencies\nEstimator  . . . . . . . . . . . . . . . . . .     Compiling Library",
      "text/html": "<div>\n<style scoped>\n    .dataframe tbody tr th:only-of-type {\n        vertical-align: middle;\n    }\n\n    .dataframe tbody tr th {\n        vertical-align: top;\n    }\n\n    .dataframe thead th {\n        text-align: right;\n    }\n</style>\n<table border=\"1\" class=\"dataframe\">\n  <thead>\n    <tr style=\"text-align: right;\">\n      <th></th>\n      <th></th>\n      <th></th>\n    </tr>\n    <tr>\n      <th></th>\n      <th></th>\n      <th></th>\n    </tr>\n  </thead>\n  <tbody>\n    <tr>\n      <th>Initiated</th>\n      <td>. . . . . . . . . . . . . . . . . .</td>\n      <td>11:00:47</td>\n    </tr>\n    <tr>\n      <th>Status</th>\n      <td>. . . . . . . . . . . . . . . . . .</td>\n      <td>Loading Dependencies</td>\n    </tr>\n    <tr>\n      <th>Estimator</th>\n      <td>. . . . . . . . . . . . . . . . . .</td>\n      <td>Compiling Library</td>\n    </tr>\n  </tbody>\n</table>\n</div>"
     },
     "metadata": {},
     "output_type": "display_data"
    },
    {
     "data": {
      "text/plain": "<IPython.core.display.HTML object>",
      "text/html": ""
     },
     "metadata": {},
     "output_type": "display_data"
    },
    {
     "data": {
      "text/plain": "Processing:   0%|          | 0/6 [00:00<?, ?it/s]",
      "application/vnd.jupyter.widget-view+json": {
       "version_major": 2,
       "version_minor": 0,
       "model_id": "7429e1f192044483bbffec940999d1e9"
      }
     },
     "metadata": {},
     "output_type": "display_data"
    },
    {
     "data": {
      "text/plain": "                                                                    \n                                                                    \nInitiated  . . . . . . . . . . . . . . . . . .              11:02:17\nStatus     . . . . . . . . . . . . . . . . . .  Loading Dependencies\nEstimator  . . . . . . . . . . . . . . . . . .     Compiling Library",
      "text/html": "<div>\n<style scoped>\n    .dataframe tbody tr th:only-of-type {\n        vertical-align: middle;\n    }\n\n    .dataframe tbody tr th {\n        vertical-align: top;\n    }\n\n    .dataframe thead th {\n        text-align: right;\n    }\n</style>\n<table border=\"1\" class=\"dataframe\">\n  <thead>\n    <tr style=\"text-align: right;\">\n      <th></th>\n      <th></th>\n      <th></th>\n    </tr>\n    <tr>\n      <th></th>\n      <th></th>\n      <th></th>\n    </tr>\n  </thead>\n  <tbody>\n    <tr>\n      <th>Initiated</th>\n      <td>. . . . . . . . . . . . . . . . . .</td>\n      <td>11:02:17</td>\n    </tr>\n    <tr>\n      <th>Status</th>\n      <td>. . . . . . . . . . . . . . . . . .</td>\n      <td>Loading Dependencies</td>\n    </tr>\n    <tr>\n      <th>Estimator</th>\n      <td>. . . . . . . . . . . . . . . . . .</td>\n      <td>Compiling Library</td>\n    </tr>\n  </tbody>\n</table>\n</div>"
     },
     "metadata": {},
     "output_type": "display_data"
    },
    {
     "data": {
      "text/plain": "<IPython.core.display.HTML object>",
      "text/html": ""
     },
     "metadata": {},
     "output_type": "display_data"
    },
    {
     "data": {
      "text/plain": "Processing:   0%|          | 0/6 [00:00<?, ?it/s]",
      "application/vnd.jupyter.widget-view+json": {
       "version_major": 2,
       "version_minor": 0,
       "model_id": "29119516e1a8444cb20c5b3f6252a57d"
      }
     },
     "metadata": {},
     "output_type": "display_data"
    },
    {
     "name": "stdout",
     "output_type": "stream",
     "text": [
      "Original model was better than the ensembled model, hence it will be returned. NOTE: The display metrics are for the ensembled model (not the original one).\n"
     ]
    },
    {
     "data": {
      "text/plain": "                                                                    \n                                                                    \nInitiated  . . . . . . . . . . . . . . . . . .              11:07:24\nStatus     . . . . . . . . . . . . . . . . . .  Loading Dependencies\nEstimator  . . . . . . . . . . . . . . . . . .     Compiling Library",
      "text/html": "<div>\n<style scoped>\n    .dataframe tbody tr th:only-of-type {\n        vertical-align: middle;\n    }\n\n    .dataframe tbody tr th {\n        vertical-align: top;\n    }\n\n    .dataframe thead th {\n        text-align: right;\n    }\n</style>\n<table border=\"1\" class=\"dataframe\">\n  <thead>\n    <tr style=\"text-align: right;\">\n      <th></th>\n      <th></th>\n      <th></th>\n    </tr>\n    <tr>\n      <th></th>\n      <th></th>\n      <th></th>\n    </tr>\n  </thead>\n  <tbody>\n    <tr>\n      <th>Initiated</th>\n      <td>. . . . . . . . . . . . . . . . . .</td>\n      <td>11:07:24</td>\n    </tr>\n    <tr>\n      <th>Status</th>\n      <td>. . . . . . . . . . . . . . . . . .</td>\n      <td>Loading Dependencies</td>\n    </tr>\n    <tr>\n      <th>Estimator</th>\n      <td>. . . . . . . . . . . . . . . . . .</td>\n      <td>Compiling Library</td>\n    </tr>\n  </tbody>\n</table>\n</div>"
     },
     "metadata": {},
     "output_type": "display_data"
    },
    {
     "data": {
      "text/plain": "<IPython.core.display.HTML object>",
      "text/html": ""
     },
     "metadata": {},
     "output_type": "display_data"
    },
    {
     "data": {
      "text/plain": "Processing:   0%|          | 0/6 [00:00<?, ?it/s]",
      "application/vnd.jupyter.widget-view+json": {
       "version_major": 2,
       "version_minor": 0,
       "model_id": "33b11c82a1d84f34bb360dfa35b2a60c"
      }
     },
     "metadata": {},
     "output_type": "display_data"
    },
    {
     "name": "stdout",
     "output_type": "stream",
     "text": [
      "Original model was better than the ensembled model, hence it will be returned. NOTE: The display metrics are for the ensembled model (not the original one).\n"
     ]
    },
    {
     "data": {
      "text/plain": "                                                                    \n                                                                    \nInitiated  . . . . . . . . . . . . . . . . . .              11:08:17\nStatus     . . . . . . . . . . . . . . . . . .  Loading Dependencies\nEstimator  . . . . . . . . . . . . . . . . . .     Compiling Library",
      "text/html": "<div>\n<style scoped>\n    .dataframe tbody tr th:only-of-type {\n        vertical-align: middle;\n    }\n\n    .dataframe tbody tr th {\n        vertical-align: top;\n    }\n\n    .dataframe thead th {\n        text-align: right;\n    }\n</style>\n<table border=\"1\" class=\"dataframe\">\n  <thead>\n    <tr style=\"text-align: right;\">\n      <th></th>\n      <th></th>\n      <th></th>\n    </tr>\n    <tr>\n      <th></th>\n      <th></th>\n      <th></th>\n    </tr>\n  </thead>\n  <tbody>\n    <tr>\n      <th>Initiated</th>\n      <td>. . . . . . . . . . . . . . . . . .</td>\n      <td>11:08:17</td>\n    </tr>\n    <tr>\n      <th>Status</th>\n      <td>. . . . . . . . . . . . . . . . . .</td>\n      <td>Loading Dependencies</td>\n    </tr>\n    <tr>\n      <th>Estimator</th>\n      <td>. . . . . . . . . . . . . . . . . .</td>\n      <td>Compiling Library</td>\n    </tr>\n  </tbody>\n</table>\n</div>"
     },
     "metadata": {},
     "output_type": "display_data"
    },
    {
     "data": {
      "text/plain": "<IPython.core.display.HTML object>",
      "text/html": ""
     },
     "metadata": {},
     "output_type": "display_data"
    },
    {
     "data": {
      "text/plain": "Processing:   0%|          | 0/6 [00:00<?, ?it/s]",
      "application/vnd.jupyter.widget-view+json": {
       "version_major": 2,
       "version_minor": 0,
       "model_id": "a416681f3aac4613b2f46c2a04c7380a"
      }
     },
     "metadata": {},
     "output_type": "display_data"
    },
    {
     "name": "stdout",
     "output_type": "stream",
     "text": [
      "Original model was better than the ensembled model, hence it will be returned. NOTE: The display metrics are for the ensembled model (not the original one).\n"
     ]
    }
   ],
   "source": [
    "bagged_top5 = [ensemble_model(i, choose_better = True, optimize=\"F1\") for i in tuned_top5]"
   ],
   "metadata": {
    "collapsed": false,
    "pycharm": {
     "name": "#%%\n"
    }
   }
  },
  {
   "cell_type": "code",
   "execution_count": 48,
   "outputs": [
    {
     "data": {
      "text/plain": "      Accuracy     AUC  Recall   Prec.      F1   Kappa     MCC\nFold                                                          \n0       0.9272  0.7775  0.1504  0.3723  0.2143  0.1833  0.2042\n1       0.9274  0.7903  0.1121  0.3455  0.1693  0.1415  0.1665\n2       0.9340  0.7773  0.1711  0.5000  0.2549  0.2290  0.2657\n3       0.9354  0.7728  0.1740  0.5315  0.2622  0.2374  0.2787\n4       0.9348  0.7950  0.1893  0.5120  0.2765  0.2498  0.2842\n5       0.9309  0.7711  0.1805  0.4388  0.2558  0.2261  0.2509\n6       0.9346  0.7762  0.1627  0.5093  0.2466  0.2218  0.2621\n7       0.9340  0.7700  0.1746  0.4958  0.2582  0.2319  0.2671\n8       0.9336  0.7832  0.1598  0.4865  0.2405  0.2150  0.2522\n9       0.9363  0.8072  0.2124  0.5455  0.3057  0.2791  0.3136\nMean    0.9328  0.7821  0.1687  0.4737  0.2484  0.2215  0.2545\nStd     0.0031  0.0114  0.0249  0.0637  0.0346  0.0353  0.0395",
      "text/html": "<div>\n<style scoped>\n    .dataframe tbody tr th:only-of-type {\n        vertical-align: middle;\n    }\n\n    .dataframe tbody tr th {\n        vertical-align: top;\n    }\n\n    .dataframe thead th {\n        text-align: right;\n    }\n</style>\n<table border=\"1\" class=\"dataframe\">\n  <thead>\n    <tr style=\"text-align: right;\">\n      <th></th>\n      <th>Accuracy</th>\n      <th>AUC</th>\n      <th>Recall</th>\n      <th>Prec.</th>\n      <th>F1</th>\n      <th>Kappa</th>\n      <th>MCC</th>\n    </tr>\n    <tr>\n      <th>Fold</th>\n      <th></th>\n      <th></th>\n      <th></th>\n      <th></th>\n      <th></th>\n      <th></th>\n      <th></th>\n    </tr>\n  </thead>\n  <tbody>\n    <tr>\n      <th>0</th>\n      <td>0.9272</td>\n      <td>0.7775</td>\n      <td>0.1504</td>\n      <td>0.3723</td>\n      <td>0.2143</td>\n      <td>0.1833</td>\n      <td>0.2042</td>\n    </tr>\n    <tr>\n      <th>1</th>\n      <td>0.9274</td>\n      <td>0.7903</td>\n      <td>0.1121</td>\n      <td>0.3455</td>\n      <td>0.1693</td>\n      <td>0.1415</td>\n      <td>0.1665</td>\n    </tr>\n    <tr>\n      <th>2</th>\n      <td>0.9340</td>\n      <td>0.7773</td>\n      <td>0.1711</td>\n      <td>0.5000</td>\n      <td>0.2549</td>\n      <td>0.2290</td>\n      <td>0.2657</td>\n    </tr>\n    <tr>\n      <th>3</th>\n      <td>0.9354</td>\n      <td>0.7728</td>\n      <td>0.1740</td>\n      <td>0.5315</td>\n      <td>0.2622</td>\n      <td>0.2374</td>\n      <td>0.2787</td>\n    </tr>\n    <tr>\n      <th>4</th>\n      <td>0.9348</td>\n      <td>0.7950</td>\n      <td>0.1893</td>\n      <td>0.5120</td>\n      <td>0.2765</td>\n      <td>0.2498</td>\n      <td>0.2842</td>\n    </tr>\n    <tr>\n      <th>5</th>\n      <td>0.9309</td>\n      <td>0.7711</td>\n      <td>0.1805</td>\n      <td>0.4388</td>\n      <td>0.2558</td>\n      <td>0.2261</td>\n      <td>0.2509</td>\n    </tr>\n    <tr>\n      <th>6</th>\n      <td>0.9346</td>\n      <td>0.7762</td>\n      <td>0.1627</td>\n      <td>0.5093</td>\n      <td>0.2466</td>\n      <td>0.2218</td>\n      <td>0.2621</td>\n    </tr>\n    <tr>\n      <th>7</th>\n      <td>0.9340</td>\n      <td>0.7700</td>\n      <td>0.1746</td>\n      <td>0.4958</td>\n      <td>0.2582</td>\n      <td>0.2319</td>\n      <td>0.2671</td>\n    </tr>\n    <tr>\n      <th>8</th>\n      <td>0.9336</td>\n      <td>0.7832</td>\n      <td>0.1598</td>\n      <td>0.4865</td>\n      <td>0.2405</td>\n      <td>0.2150</td>\n      <td>0.2522</td>\n    </tr>\n    <tr>\n      <th>9</th>\n      <td>0.9363</td>\n      <td>0.8072</td>\n      <td>0.2124</td>\n      <td>0.5455</td>\n      <td>0.3057</td>\n      <td>0.2791</td>\n      <td>0.3136</td>\n    </tr>\n    <tr>\n      <th>Mean</th>\n      <td>0.9328</td>\n      <td>0.7821</td>\n      <td>0.1687</td>\n      <td>0.4737</td>\n      <td>0.2484</td>\n      <td>0.2215</td>\n      <td>0.2545</td>\n    </tr>\n    <tr>\n      <th>Std</th>\n      <td>0.0031</td>\n      <td>0.0114</td>\n      <td>0.0249</td>\n      <td>0.0637</td>\n      <td>0.0346</td>\n      <td>0.0353</td>\n      <td>0.0395</td>\n    </tr>\n  </tbody>\n</table>\n</div>"
     },
     "execution_count": 48,
     "metadata": {},
     "output_type": "execute_result"
    }
   ],
   "source": [
    "pull(bagged_top5)"
   ],
   "metadata": {
    "collapsed": false,
    "pycharm": {
     "name": "#%%\n"
    }
   }
  },
  {
   "cell_type": "code",
   "execution_count": 49,
   "outputs": [
    {
     "data": {
      "text/plain": "                                                                    \n                                                                    \nInitiated  . . . . . . . . . . . . . . . . . .              11:08:36\nStatus     . . . . . . . . . . . . . . . . . .  Loading Dependencies\nEstimator  . . . . . . . . . . . . . . . . . .     Compiling Library",
      "text/html": "<div>\n<style scoped>\n    .dataframe tbody tr th:only-of-type {\n        vertical-align: middle;\n    }\n\n    .dataframe tbody tr th {\n        vertical-align: top;\n    }\n\n    .dataframe thead th {\n        text-align: right;\n    }\n</style>\n<table border=\"1\" class=\"dataframe\">\n  <thead>\n    <tr style=\"text-align: right;\">\n      <th></th>\n      <th></th>\n      <th></th>\n    </tr>\n    <tr>\n      <th></th>\n      <th></th>\n      <th></th>\n    </tr>\n  </thead>\n  <tbody>\n    <tr>\n      <th>Initiated</th>\n      <td>. . . . . . . . . . . . . . . . . .</td>\n      <td>11:08:36</td>\n    </tr>\n    <tr>\n      <th>Status</th>\n      <td>. . . . . . . . . . . . . . . . . .</td>\n      <td>Loading Dependencies</td>\n    </tr>\n    <tr>\n      <th>Estimator</th>\n      <td>. . . . . . . . . . . . . . . . . .</td>\n      <td>Compiling Library</td>\n    </tr>\n  </tbody>\n</table>\n</div>"
     },
     "metadata": {},
     "output_type": "display_data"
    },
    {
     "data": {
      "text/plain": "<IPython.core.display.HTML object>",
      "text/html": ""
     },
     "metadata": {},
     "output_type": "display_data"
    },
    {
     "data": {
      "text/plain": "Processing:   0%|          | 0/6 [00:00<?, ?it/s]",
      "application/vnd.jupyter.widget-view+json": {
       "version_major": 2,
       "version_minor": 0,
       "model_id": "824d0d7513954ae4963db717d1acc3dc"
      }
     },
     "metadata": {},
     "output_type": "display_data"
    }
   ],
   "source": [
    "blender = blend_models(estimator_list = top5,choose_better = True, optimize=\"F1\")"
   ],
   "metadata": {
    "collapsed": false,
    "pycharm": {
     "name": "#%%\n"
    }
   }
  },
  {
   "cell_type": "code",
   "execution_count": 50,
   "outputs": [
    {
     "data": {
      "text/plain": "      Accuracy     AUC  Recall   Prec.      F1   Kappa     MCC\nFold                                                          \n0       0.9307  0.8514  0.2625  0.4564  0.3333  0.2996  0.3124\n1       0.9225  0.8133  0.2330  0.3641  0.2842  0.2453  0.2521\n2       0.9157  0.7976  0.3333  0.3531  0.3429  0.2979  0.2981\n3       0.9311  0.8388  0.2360  0.4571  0.3113  0.2789  0.2959\n4       0.9295  0.8369  0.2426  0.4362  0.3118  0.2778  0.2911\n5       0.9332  0.8458  0.2604  0.4862  0.3391  0.3073  0.3240\n6       0.9359  0.8316  0.2633  0.5266  0.3511  0.3213  0.3428\n7       0.9313  0.8354  0.1982  0.4497  0.2752  0.2447  0.2676\n8       0.9338  0.8534  0.2308  0.4937  0.3145  0.2845  0.3074\n9       0.9363  0.8680  0.2655  0.5357  0.3550  0.3255  0.3479\nMean    0.9300  0.8372  0.2526  0.4559  0.3218  0.2883  0.3039\nStd     0.0060  0.0191  0.0334  0.0576  0.0259  0.0265  0.0286",
      "text/html": "<div>\n<style scoped>\n    .dataframe tbody tr th:only-of-type {\n        vertical-align: middle;\n    }\n\n    .dataframe tbody tr th {\n        vertical-align: top;\n    }\n\n    .dataframe thead th {\n        text-align: right;\n    }\n</style>\n<table border=\"1\" class=\"dataframe\">\n  <thead>\n    <tr style=\"text-align: right;\">\n      <th></th>\n      <th>Accuracy</th>\n      <th>AUC</th>\n      <th>Recall</th>\n      <th>Prec.</th>\n      <th>F1</th>\n      <th>Kappa</th>\n      <th>MCC</th>\n    </tr>\n    <tr>\n      <th>Fold</th>\n      <th></th>\n      <th></th>\n      <th></th>\n      <th></th>\n      <th></th>\n      <th></th>\n      <th></th>\n    </tr>\n  </thead>\n  <tbody>\n    <tr>\n      <th>0</th>\n      <td>0.9307</td>\n      <td>0.8514</td>\n      <td>0.2625</td>\n      <td>0.4564</td>\n      <td>0.3333</td>\n      <td>0.2996</td>\n      <td>0.3124</td>\n    </tr>\n    <tr>\n      <th>1</th>\n      <td>0.9225</td>\n      <td>0.8133</td>\n      <td>0.2330</td>\n      <td>0.3641</td>\n      <td>0.2842</td>\n      <td>0.2453</td>\n      <td>0.2521</td>\n    </tr>\n    <tr>\n      <th>2</th>\n      <td>0.9157</td>\n      <td>0.7976</td>\n      <td>0.3333</td>\n      <td>0.3531</td>\n      <td>0.3429</td>\n      <td>0.2979</td>\n      <td>0.2981</td>\n    </tr>\n    <tr>\n      <th>3</th>\n      <td>0.9311</td>\n      <td>0.8388</td>\n      <td>0.2360</td>\n      <td>0.4571</td>\n      <td>0.3113</td>\n      <td>0.2789</td>\n      <td>0.2959</td>\n    </tr>\n    <tr>\n      <th>4</th>\n      <td>0.9295</td>\n      <td>0.8369</td>\n      <td>0.2426</td>\n      <td>0.4362</td>\n      <td>0.3118</td>\n      <td>0.2778</td>\n      <td>0.2911</td>\n    </tr>\n    <tr>\n      <th>5</th>\n      <td>0.9332</td>\n      <td>0.8458</td>\n      <td>0.2604</td>\n      <td>0.4862</td>\n      <td>0.3391</td>\n      <td>0.3073</td>\n      <td>0.3240</td>\n    </tr>\n    <tr>\n      <th>6</th>\n      <td>0.9359</td>\n      <td>0.8316</td>\n      <td>0.2633</td>\n      <td>0.5266</td>\n      <td>0.3511</td>\n      <td>0.3213</td>\n      <td>0.3428</td>\n    </tr>\n    <tr>\n      <th>7</th>\n      <td>0.9313</td>\n      <td>0.8354</td>\n      <td>0.1982</td>\n      <td>0.4497</td>\n      <td>0.2752</td>\n      <td>0.2447</td>\n      <td>0.2676</td>\n    </tr>\n    <tr>\n      <th>8</th>\n      <td>0.9338</td>\n      <td>0.8534</td>\n      <td>0.2308</td>\n      <td>0.4937</td>\n      <td>0.3145</td>\n      <td>0.2845</td>\n      <td>0.3074</td>\n    </tr>\n    <tr>\n      <th>9</th>\n      <td>0.9363</td>\n      <td>0.8680</td>\n      <td>0.2655</td>\n      <td>0.5357</td>\n      <td>0.3550</td>\n      <td>0.3255</td>\n      <td>0.3479</td>\n    </tr>\n    <tr>\n      <th>Mean</th>\n      <td>0.9300</td>\n      <td>0.8372</td>\n      <td>0.2526</td>\n      <td>0.4559</td>\n      <td>0.3218</td>\n      <td>0.2883</td>\n      <td>0.3039</td>\n    </tr>\n    <tr>\n      <th>Std</th>\n      <td>0.0060</td>\n      <td>0.0191</td>\n      <td>0.0334</td>\n      <td>0.0576</td>\n      <td>0.0259</td>\n      <td>0.0265</td>\n      <td>0.0286</td>\n    </tr>\n  </tbody>\n</table>\n</div>"
     },
     "execution_count": 50,
     "metadata": {},
     "output_type": "execute_result"
    }
   ],
   "source": [
    "pull(blender)"
   ],
   "metadata": {
    "collapsed": false,
    "pycharm": {
     "name": "#%%\n"
    }
   }
  },
  {
   "cell_type": "code",
   "execution_count": 51,
   "outputs": [
    {
     "data": {
      "text/plain": "                                                                    \n                                                                    \nInitiated  . . . . . . . . . . . . . . . . . .              11:14:03\nStatus     . . . . . . . . . . . . . . . . . .  Loading Dependencies\nEstimator  . . . . . . . . . . . . . . . . . .     Compiling Library",
      "text/html": "<div>\n<style scoped>\n    .dataframe tbody tr th:only-of-type {\n        vertical-align: middle;\n    }\n\n    .dataframe tbody tr th {\n        vertical-align: top;\n    }\n\n    .dataframe thead th {\n        text-align: right;\n    }\n</style>\n<table border=\"1\" class=\"dataframe\">\n  <thead>\n    <tr style=\"text-align: right;\">\n      <th></th>\n      <th></th>\n      <th></th>\n    </tr>\n    <tr>\n      <th></th>\n      <th></th>\n      <th></th>\n    </tr>\n  </thead>\n  <tbody>\n    <tr>\n      <th>Initiated</th>\n      <td>. . . . . . . . . . . . . . . . . .</td>\n      <td>11:14:03</td>\n    </tr>\n    <tr>\n      <th>Status</th>\n      <td>. . . . . . . . . . . . . . . . . .</td>\n      <td>Loading Dependencies</td>\n    </tr>\n    <tr>\n      <th>Estimator</th>\n      <td>. . . . . . . . . . . . . . . . . .</td>\n      <td>Compiling Library</td>\n    </tr>\n  </tbody>\n</table>\n</div>"
     },
     "metadata": {},
     "output_type": "display_data"
    },
    {
     "data": {
      "text/plain": "<IPython.core.display.HTML object>",
      "text/html": ""
     },
     "metadata": {},
     "output_type": "display_data"
    },
    {
     "data": {
      "text/plain": "Processing:   0%|          | 0/6 [00:00<?, ?it/s]",
      "application/vnd.jupyter.widget-view+json": {
       "version_major": 2,
       "version_minor": 0,
       "model_id": "939916ab62a2461c9a4bda39ff2608f3"
      }
     },
     "metadata": {},
     "output_type": "display_data"
    },
    {
     "name": "stdout",
     "output_type": "stream",
     "text": [
      "Original model was better than the stacked model, hence it will be returned. NOTE: The display metrics are for the stacked model (not the original one).\n"
     ]
    }
   ],
   "source": [
    "stacker = stack_models(estimator_list = top5,choose_better = True, optimize=\"F1\")"
   ],
   "metadata": {
    "collapsed": false,
    "pycharm": {
     "name": "#%%\n"
    }
   }
  },
  {
   "cell_type": "code",
   "execution_count": 52,
   "outputs": [
    {
     "data": {
      "text/plain": "      Accuracy     AUC  Recall   Prec.      F1   Kappa     MCC\nFold                                                          \n0       0.9340  0.6400  0.0000  0.0000  0.0000  0.0000  0.0000\n1       0.9342  0.6425  0.0177  0.5455  0.0343  0.0303  0.0895\n2       0.9336  0.6450  0.0118  0.4000  0.0229  0.0192  0.0594\n3       0.9336  0.6607  0.0088  0.3750  0.0173  0.0143  0.0492\n4       0.9340  0.6601  0.0059  0.4000  0.0117  0.0098  0.0421\n5       0.9340  0.6687  0.0089  0.4286  0.0174  0.0148  0.0540\n6       0.9342  0.6133  0.0000  0.0000  0.0000  0.0000  0.0000\n7       0.9338  0.6297  0.0030  0.2500  0.0058  0.0043  0.0207\n8       0.9340  0.6614  0.0118  0.4444  0.0231  0.0197  0.0640\n9       0.9346  0.6529  0.0236  0.6154  0.0455  0.0408  0.1115\nMean    0.9340  0.6474  0.0092  0.3459  0.0178  0.0153  0.0490\nStd     0.0003  0.0161  0.0072  0.1960  0.0138  0.0124  0.0340",
      "text/html": "<div>\n<style scoped>\n    .dataframe tbody tr th:only-of-type {\n        vertical-align: middle;\n    }\n\n    .dataframe tbody tr th {\n        vertical-align: top;\n    }\n\n    .dataframe thead th {\n        text-align: right;\n    }\n</style>\n<table border=\"1\" class=\"dataframe\">\n  <thead>\n    <tr style=\"text-align: right;\">\n      <th></th>\n      <th>Accuracy</th>\n      <th>AUC</th>\n      <th>Recall</th>\n      <th>Prec.</th>\n      <th>F1</th>\n      <th>Kappa</th>\n      <th>MCC</th>\n    </tr>\n    <tr>\n      <th>Fold</th>\n      <th></th>\n      <th></th>\n      <th></th>\n      <th></th>\n      <th></th>\n      <th></th>\n      <th></th>\n    </tr>\n  </thead>\n  <tbody>\n    <tr>\n      <th>0</th>\n      <td>0.9340</td>\n      <td>0.6400</td>\n      <td>0.0000</td>\n      <td>0.0000</td>\n      <td>0.0000</td>\n      <td>0.0000</td>\n      <td>0.0000</td>\n    </tr>\n    <tr>\n      <th>1</th>\n      <td>0.9342</td>\n      <td>0.6425</td>\n      <td>0.0177</td>\n      <td>0.5455</td>\n      <td>0.0343</td>\n      <td>0.0303</td>\n      <td>0.0895</td>\n    </tr>\n    <tr>\n      <th>2</th>\n      <td>0.9336</td>\n      <td>0.6450</td>\n      <td>0.0118</td>\n      <td>0.4000</td>\n      <td>0.0229</td>\n      <td>0.0192</td>\n      <td>0.0594</td>\n    </tr>\n    <tr>\n      <th>3</th>\n      <td>0.9336</td>\n      <td>0.6607</td>\n      <td>0.0088</td>\n      <td>0.3750</td>\n      <td>0.0173</td>\n      <td>0.0143</td>\n      <td>0.0492</td>\n    </tr>\n    <tr>\n      <th>4</th>\n      <td>0.9340</td>\n      <td>0.6601</td>\n      <td>0.0059</td>\n      <td>0.4000</td>\n      <td>0.0117</td>\n      <td>0.0098</td>\n      <td>0.0421</td>\n    </tr>\n    <tr>\n      <th>5</th>\n      <td>0.9340</td>\n      <td>0.6687</td>\n      <td>0.0089</td>\n      <td>0.4286</td>\n      <td>0.0174</td>\n      <td>0.0148</td>\n      <td>0.0540</td>\n    </tr>\n    <tr>\n      <th>6</th>\n      <td>0.9342</td>\n      <td>0.6133</td>\n      <td>0.0000</td>\n      <td>0.0000</td>\n      <td>0.0000</td>\n      <td>0.0000</td>\n      <td>0.0000</td>\n    </tr>\n    <tr>\n      <th>7</th>\n      <td>0.9338</td>\n      <td>0.6297</td>\n      <td>0.0030</td>\n      <td>0.2500</td>\n      <td>0.0058</td>\n      <td>0.0043</td>\n      <td>0.0207</td>\n    </tr>\n    <tr>\n      <th>8</th>\n      <td>0.9340</td>\n      <td>0.6614</td>\n      <td>0.0118</td>\n      <td>0.4444</td>\n      <td>0.0231</td>\n      <td>0.0197</td>\n      <td>0.0640</td>\n    </tr>\n    <tr>\n      <th>9</th>\n      <td>0.9346</td>\n      <td>0.6529</td>\n      <td>0.0236</td>\n      <td>0.6154</td>\n      <td>0.0455</td>\n      <td>0.0408</td>\n      <td>0.1115</td>\n    </tr>\n    <tr>\n      <th>Mean</th>\n      <td>0.9340</td>\n      <td>0.6474</td>\n      <td>0.0092</td>\n      <td>0.3459</td>\n      <td>0.0178</td>\n      <td>0.0153</td>\n      <td>0.0490</td>\n    </tr>\n    <tr>\n      <th>Std</th>\n      <td>0.0003</td>\n      <td>0.0161</td>\n      <td>0.0072</td>\n      <td>0.1960</td>\n      <td>0.0138</td>\n      <td>0.0124</td>\n      <td>0.0340</td>\n    </tr>\n  </tbody>\n</table>\n</div>"
     },
     "execution_count": 52,
     "metadata": {},
     "output_type": "execute_result"
    }
   ],
   "source": [
    "pull(stacker)"
   ],
   "metadata": {
    "collapsed": false,
    "pycharm": {
     "name": "#%%\n"
    }
   }
  },
  {
   "cell_type": "code",
   "execution_count": 53,
   "outputs": [],
   "source": [
    "best = automl(optimize = 'F1')"
   ],
   "metadata": {
    "collapsed": false,
    "pycharm": {
     "name": "#%%\n"
    }
   }
  },
  {
   "cell_type": "code",
   "execution_count": 54,
   "outputs": [
    {
     "data": {
      "text/plain": "      Accuracy     AUC  Recall   Prec.      F1   Kappa     MCC\nFold                                                          \n0       0.9389  0.8630  0.2124  0.6050  0.3144  0.2901  0.3344\n1       0.9350  0.8536  0.1622  0.5238  0.2477  0.2235  0.2664\n2       0.9379  0.8632  0.2006  0.5862  0.2989  0.2745  0.3185\n3       0.9348  0.8569  0.1770  0.5172  0.2637  0.2381  0.2763\n4       0.9361  0.8610  0.1805  0.5446  0.2711  0.2464  0.2883\n5       0.9367  0.8545  0.2130  0.5496  0.3070  0.2806  0.3157\n6       0.9387  0.8582  0.1716  0.6237  0.2691  0.2478  0.3055\n7       0.9346  0.8561  0.1627  0.5093  0.2466  0.2218  0.2621\n8       0.9369  0.8672  0.1893  0.5614  0.2832  0.2586  0.3011\n9       0.9429  0.8716  0.2625  0.6742  0.3779  0.3540  0.3979\nMean    0.9372  0.8605  0.1932  0.5695  0.2880  0.2635  0.3066\nStd     0.0024  0.0055  0.0290  0.0500  0.0372  0.0372  0.0377",
      "text/html": "<div>\n<style scoped>\n    .dataframe tbody tr th:only-of-type {\n        vertical-align: middle;\n    }\n\n    .dataframe tbody tr th {\n        vertical-align: top;\n    }\n\n    .dataframe thead th {\n        text-align: right;\n    }\n</style>\n<table border=\"1\" class=\"dataframe\">\n  <thead>\n    <tr style=\"text-align: right;\">\n      <th></th>\n      <th>Accuracy</th>\n      <th>AUC</th>\n      <th>Recall</th>\n      <th>Prec.</th>\n      <th>F1</th>\n      <th>Kappa</th>\n      <th>MCC</th>\n    </tr>\n    <tr>\n      <th>Fold</th>\n      <th></th>\n      <th></th>\n      <th></th>\n      <th></th>\n      <th></th>\n      <th></th>\n      <th></th>\n    </tr>\n  </thead>\n  <tbody>\n    <tr>\n      <th>0</th>\n      <td>0.9389</td>\n      <td>0.8630</td>\n      <td>0.2124</td>\n      <td>0.6050</td>\n      <td>0.3144</td>\n      <td>0.2901</td>\n      <td>0.3344</td>\n    </tr>\n    <tr>\n      <th>1</th>\n      <td>0.9350</td>\n      <td>0.8536</td>\n      <td>0.1622</td>\n      <td>0.5238</td>\n      <td>0.2477</td>\n      <td>0.2235</td>\n      <td>0.2664</td>\n    </tr>\n    <tr>\n      <th>2</th>\n      <td>0.9379</td>\n      <td>0.8632</td>\n      <td>0.2006</td>\n      <td>0.5862</td>\n      <td>0.2989</td>\n      <td>0.2745</td>\n      <td>0.3185</td>\n    </tr>\n    <tr>\n      <th>3</th>\n      <td>0.9348</td>\n      <td>0.8569</td>\n      <td>0.1770</td>\n      <td>0.5172</td>\n      <td>0.2637</td>\n      <td>0.2381</td>\n      <td>0.2763</td>\n    </tr>\n    <tr>\n      <th>4</th>\n      <td>0.9361</td>\n      <td>0.8610</td>\n      <td>0.1805</td>\n      <td>0.5446</td>\n      <td>0.2711</td>\n      <td>0.2464</td>\n      <td>0.2883</td>\n    </tr>\n    <tr>\n      <th>5</th>\n      <td>0.9367</td>\n      <td>0.8545</td>\n      <td>0.2130</td>\n      <td>0.5496</td>\n      <td>0.3070</td>\n      <td>0.2806</td>\n      <td>0.3157</td>\n    </tr>\n    <tr>\n      <th>6</th>\n      <td>0.9387</td>\n      <td>0.8582</td>\n      <td>0.1716</td>\n      <td>0.6237</td>\n      <td>0.2691</td>\n      <td>0.2478</td>\n      <td>0.3055</td>\n    </tr>\n    <tr>\n      <th>7</th>\n      <td>0.9346</td>\n      <td>0.8561</td>\n      <td>0.1627</td>\n      <td>0.5093</td>\n      <td>0.2466</td>\n      <td>0.2218</td>\n      <td>0.2621</td>\n    </tr>\n    <tr>\n      <th>8</th>\n      <td>0.9369</td>\n      <td>0.8672</td>\n      <td>0.1893</td>\n      <td>0.5614</td>\n      <td>0.2832</td>\n      <td>0.2586</td>\n      <td>0.3011</td>\n    </tr>\n    <tr>\n      <th>9</th>\n      <td>0.9429</td>\n      <td>0.8716</td>\n      <td>0.2625</td>\n      <td>0.6742</td>\n      <td>0.3779</td>\n      <td>0.3540</td>\n      <td>0.3979</td>\n    </tr>\n    <tr>\n      <th>Mean</th>\n      <td>0.9372</td>\n      <td>0.8605</td>\n      <td>0.1932</td>\n      <td>0.5695</td>\n      <td>0.2880</td>\n      <td>0.2635</td>\n      <td>0.3066</td>\n    </tr>\n    <tr>\n      <th>Std</th>\n      <td>0.0024</td>\n      <td>0.0055</td>\n      <td>0.0290</td>\n      <td>0.0500</td>\n      <td>0.0372</td>\n      <td>0.0372</td>\n      <td>0.0377</td>\n    </tr>\n  </tbody>\n</table>\n</div>"
     },
     "execution_count": 54,
     "metadata": {},
     "output_type": "execute_result"
    }
   ],
   "source": [
    "pull(best)"
   ],
   "metadata": {
    "collapsed": false,
    "pycharm": {
     "name": "#%%\n"
    }
   }
  },
  {
   "cell_type": "code",
   "execution_count": 63,
   "outputs": [],
   "source": [
    "final_model = best"
   ],
   "metadata": {
    "collapsed": false,
    "pycharm": {
     "name": "#%%\n"
    }
   }
  },
  {
   "cell_type": "code",
   "execution_count": 67,
   "outputs": [
    {
     "data": {
      "text/plain": "<IPython.core.display.HTML object>",
      "text/html": ""
     },
     "metadata": {},
     "output_type": "display_data"
    },
    {
     "data": {
      "text/plain": "                             Model  Accuracy     AUC  Recall   Prec.      F1  \\\n0  Quadratic Discriminant Analysis    0.9101  0.7989   0.377  0.3374  0.3561   \n\n   Kappa     MCC  \n0  0.308  0.3085  ",
      "text/html": "<div>\n<style scoped>\n    .dataframe tbody tr th:only-of-type {\n        vertical-align: middle;\n    }\n\n    .dataframe tbody tr th {\n        vertical-align: top;\n    }\n\n    .dataframe thead th {\n        text-align: right;\n    }\n</style>\n<table border=\"1\" class=\"dataframe\">\n  <thead>\n    <tr style=\"text-align: right;\">\n      <th></th>\n      <th>Model</th>\n      <th>Accuracy</th>\n      <th>AUC</th>\n      <th>Recall</th>\n      <th>Prec.</th>\n      <th>F1</th>\n      <th>Kappa</th>\n      <th>MCC</th>\n    </tr>\n  </thead>\n  <tbody>\n    <tr>\n      <th>0</th>\n      <td>Quadratic Discriminant Analysis</td>\n      <td>0.9101</td>\n      <td>0.7989</td>\n      <td>0.377</td>\n      <td>0.3374</td>\n      <td>0.3561</td>\n      <td>0.308</td>\n      <td>0.3085</td>\n    </tr>\n  </tbody>\n</table>\n</div>"
     },
     "execution_count": 67,
     "metadata": {},
     "output_type": "execute_result"
    }
   ],
   "source": [
    "predict_model(final_model)\n",
    "pull()"
   ],
   "metadata": {
    "collapsed": false,
    "pycharm": {
     "name": "#%%\n"
    }
   }
  },
  {
   "cell_type": "code",
   "execution_count": 64,
   "outputs": [
    {
     "data": {
      "text/plain": "                                    Model  Accuracy     AUC  Recall   Prec.  \\\nqda       Quadratic Discriminant Analysis    0.8221  0.7274  0.4578  0.2607   \nada                  Ada Boost Classifier    0.9361  0.8541  0.2047  0.5379   \ncatboost              CatBoost Classifier    0.9364  0.8569  0.1843  0.5522   \ngbc          Gradient Boosting Classifier    0.9371  0.8602  0.1799  0.5720   \ndt               Decision Tree Classifier    0.8980  0.6075  0.2730  0.2496   \nlightgbm  Light Gradient Boosting Machine    0.9363  0.8562  0.1678  0.5552   \nrf               Random Forest Classifier    0.9363  0.8405  0.1648  0.5560   \net                 Extra Trees Classifier    0.9353  0.8316  0.1521  0.5317   \nlda          Linear Discriminant Analysis    0.9347  0.6940  0.0954  0.5262   \nnb                            Naive Bayes    0.9337  0.6994  0.0186  0.4191   \nridge                    Ridge Classifier    0.9342  0.0000  0.0168  0.5127   \nsvm                   SVM - Linear Kernel    0.8536  0.0000  0.0938  0.0486   \nlr                    Logistic Regression    0.9342  0.6464  0.0086  0.3491   \nknn                K Neighbors Classifier    0.9315  0.5086  0.0050  0.0930   \ndummy                    Dummy Classifier    0.9341  0.5000  0.0000  0.0000   \n\n              F1   Kappa     MCC  TT (Sec)  \nqda       0.3074  0.2435  0.2552     0.039  \nada       0.2960  0.2697  0.3049     0.889  \ncatboost  0.2759  0.2513  0.2936     7.556  \ngbc       0.2732  0.2496  0.2964     3.394  \ndt        0.2606  0.2060  0.2063     0.189  \nlightgbm  0.2575  0.2341  0.2810     0.215  \nrf        0.2540  0.2309  0.2786     2.306  \net        0.2360  0.2130  0.2598     1.191  \nlda       0.1612  0.1440  0.2037     0.052  \nnb        0.0356  0.0303  0.0768     0.036  \nridge     0.0325  0.0286  0.0831     0.029  \nsvm       0.0170  0.0014  0.0028     0.522  \nlr        0.0167  0.0147  0.0485     0.671  \nknn       0.0095  0.0033  0.0071     0.250  \ndummy     0.0000  0.0000  0.0000     0.026  ",
      "text/html": "<div>\n<style scoped>\n    .dataframe tbody tr th:only-of-type {\n        vertical-align: middle;\n    }\n\n    .dataframe tbody tr th {\n        vertical-align: top;\n    }\n\n    .dataframe thead th {\n        text-align: right;\n    }\n</style>\n<table border=\"1\" class=\"dataframe\">\n  <thead>\n    <tr style=\"text-align: right;\">\n      <th></th>\n      <th>Model</th>\n      <th>Accuracy</th>\n      <th>AUC</th>\n      <th>Recall</th>\n      <th>Prec.</th>\n      <th>F1</th>\n      <th>Kappa</th>\n      <th>MCC</th>\n      <th>TT (Sec)</th>\n    </tr>\n  </thead>\n  <tbody>\n    <tr>\n      <th>qda</th>\n      <td>Quadratic Discriminant Analysis</td>\n      <td>0.8221</td>\n      <td>0.7274</td>\n      <td>0.4578</td>\n      <td>0.2607</td>\n      <td>0.3074</td>\n      <td>0.2435</td>\n      <td>0.2552</td>\n      <td>0.039</td>\n    </tr>\n    <tr>\n      <th>ada</th>\n      <td>Ada Boost Classifier</td>\n      <td>0.9361</td>\n      <td>0.8541</td>\n      <td>0.2047</td>\n      <td>0.5379</td>\n      <td>0.2960</td>\n      <td>0.2697</td>\n      <td>0.3049</td>\n      <td>0.889</td>\n    </tr>\n    <tr>\n      <th>catboost</th>\n      <td>CatBoost Classifier</td>\n      <td>0.9364</td>\n      <td>0.8569</td>\n      <td>0.1843</td>\n      <td>0.5522</td>\n      <td>0.2759</td>\n      <td>0.2513</td>\n      <td>0.2936</td>\n      <td>7.556</td>\n    </tr>\n    <tr>\n      <th>gbc</th>\n      <td>Gradient Boosting Classifier</td>\n      <td>0.9371</td>\n      <td>0.8602</td>\n      <td>0.1799</td>\n      <td>0.5720</td>\n      <td>0.2732</td>\n      <td>0.2496</td>\n      <td>0.2964</td>\n      <td>3.394</td>\n    </tr>\n    <tr>\n      <th>dt</th>\n      <td>Decision Tree Classifier</td>\n      <td>0.8980</td>\n      <td>0.6075</td>\n      <td>0.2730</td>\n      <td>0.2496</td>\n      <td>0.2606</td>\n      <td>0.2060</td>\n      <td>0.2063</td>\n      <td>0.189</td>\n    </tr>\n    <tr>\n      <th>lightgbm</th>\n      <td>Light Gradient Boosting Machine</td>\n      <td>0.9363</td>\n      <td>0.8562</td>\n      <td>0.1678</td>\n      <td>0.5552</td>\n      <td>0.2575</td>\n      <td>0.2341</td>\n      <td>0.2810</td>\n      <td>0.215</td>\n    </tr>\n    <tr>\n      <th>rf</th>\n      <td>Random Forest Classifier</td>\n      <td>0.9363</td>\n      <td>0.8405</td>\n      <td>0.1648</td>\n      <td>0.5560</td>\n      <td>0.2540</td>\n      <td>0.2309</td>\n      <td>0.2786</td>\n      <td>2.306</td>\n    </tr>\n    <tr>\n      <th>et</th>\n      <td>Extra Trees Classifier</td>\n      <td>0.9353</td>\n      <td>0.8316</td>\n      <td>0.1521</td>\n      <td>0.5317</td>\n      <td>0.2360</td>\n      <td>0.2130</td>\n      <td>0.2598</td>\n      <td>1.191</td>\n    </tr>\n    <tr>\n      <th>lda</th>\n      <td>Linear Discriminant Analysis</td>\n      <td>0.9347</td>\n      <td>0.6940</td>\n      <td>0.0954</td>\n      <td>0.5262</td>\n      <td>0.1612</td>\n      <td>0.1440</td>\n      <td>0.2037</td>\n      <td>0.052</td>\n    </tr>\n    <tr>\n      <th>nb</th>\n      <td>Naive Bayes</td>\n      <td>0.9337</td>\n      <td>0.6994</td>\n      <td>0.0186</td>\n      <td>0.4191</td>\n      <td>0.0356</td>\n      <td>0.0303</td>\n      <td>0.0768</td>\n      <td>0.036</td>\n    </tr>\n    <tr>\n      <th>ridge</th>\n      <td>Ridge Classifier</td>\n      <td>0.9342</td>\n      <td>0.0000</td>\n      <td>0.0168</td>\n      <td>0.5127</td>\n      <td>0.0325</td>\n      <td>0.0286</td>\n      <td>0.0831</td>\n      <td>0.029</td>\n    </tr>\n    <tr>\n      <th>svm</th>\n      <td>SVM - Linear Kernel</td>\n      <td>0.8536</td>\n      <td>0.0000</td>\n      <td>0.0938</td>\n      <td>0.0486</td>\n      <td>0.0170</td>\n      <td>0.0014</td>\n      <td>0.0028</td>\n      <td>0.522</td>\n    </tr>\n    <tr>\n      <th>lr</th>\n      <td>Logistic Regression</td>\n      <td>0.9342</td>\n      <td>0.6464</td>\n      <td>0.0086</td>\n      <td>0.3491</td>\n      <td>0.0167</td>\n      <td>0.0147</td>\n      <td>0.0485</td>\n      <td>0.671</td>\n    </tr>\n    <tr>\n      <th>knn</th>\n      <td>K Neighbors Classifier</td>\n      <td>0.9315</td>\n      <td>0.5086</td>\n      <td>0.0050</td>\n      <td>0.0930</td>\n      <td>0.0095</td>\n      <td>0.0033</td>\n      <td>0.0071</td>\n      <td>0.250</td>\n    </tr>\n    <tr>\n      <th>dummy</th>\n      <td>Dummy Classifier</td>\n      <td>0.9341</td>\n      <td>0.5000</td>\n      <td>0.0000</td>\n      <td>0.0000</td>\n      <td>0.0000</td>\n      <td>0.0000</td>\n      <td>0.0000</td>\n      <td>0.026</td>\n    </tr>\n  </tbody>\n</table>\n</div>"
     },
     "execution_count": 64,
     "metadata": {},
     "output_type": "execute_result"
    }
   ],
   "source": [
    "pull(final_model)"
   ],
   "metadata": {
    "collapsed": false,
    "pycharm": {
     "name": "#%%\n"
    }
   }
  },
  {
   "cell_type": "code",
   "execution_count": 68,
   "outputs": [
    {
     "data": {
      "text/plain": "<IPython.core.display.HTML object>",
      "text/html": ""
     },
     "metadata": {},
     "output_type": "display_data"
    }
   ],
   "source": [
    "predict_unseen = predict_model(final_model, data=df_test)"
   ],
   "metadata": {
    "collapsed": false,
    "pycharm": {
     "name": "#%%\n"
    }
   }
  },
  {
   "cell_type": "code",
   "execution_count": 69,
   "outputs": [],
   "source": [
    "df_result = predict_unseen[['Id','prediction_label']].rename(columns={'prediction_label':'target'})"
   ],
   "metadata": {
    "collapsed": false,
    "pycharm": {
     "name": "#%%\n"
    }
   }
  },
  {
   "cell_type": "code",
   "execution_count": 70,
   "outputs": [],
   "source": [
    "df_result.to_csv( 'out.csv',index=False,sep=',')"
   ],
   "metadata": {
    "collapsed": false,
    "pycharm": {
     "name": "#%%\n"
    }
   }
  }
 ],
 "metadata": {
  "kernelspec": {
   "display_name": "Python 3",
   "language": "python",
   "name": "python3"
  },
  "language_info": {
   "codemirror_mode": {
    "name": "ipython",
    "version": 2
   },
   "file_extension": ".py",
   "mimetype": "text/x-python",
   "name": "python",
   "nbconvert_exporter": "python",
   "pygments_lexer": "ipython2",
   "version": "2.7.6"
  }
 },
 "nbformat": 4,
 "nbformat_minor": 0
}
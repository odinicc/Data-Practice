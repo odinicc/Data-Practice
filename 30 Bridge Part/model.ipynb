{
 "cells": [
  {
   "cell_type": "code",
   "execution_count": 48,
   "metadata": {
    "collapsed": true,
    "pycharm": {
     "name": "#%%\n"
    }
   },
   "outputs": [],
   "source": [
    "import pandas as pd"
   ]
  },
  {
   "cell_type": "code",
   "execution_count": 49,
   "outputs": [],
   "source": [
    "# Standard\n",
    "import pandas as pd\n",
    "import numpy as np\n",
    "import os\n",
    "# Pycaret\n",
    "from pycaret.classification import *\n",
    "# Plots\n",
    "from plotly.offline import iplot\n",
    "import plotly.graph_objects as go\n",
    "from plotly.subplots import make_subplots\n",
    "import seaborn as sns\n",
    "# Sklearn tools\n",
    "from sklearn.preprocessing import LabelEncoder\n",
    "from sklearn.metrics import *\n",
    "# Extras\n",
    "from datetime import date\n",
    "import warnings\n",
    "warnings.filterwarnings(\"ignore\")\n",
    "import seaborn as sns\n",
    "import pycaret"
   ],
   "metadata": {
    "collapsed": false,
    "pycharm": {
     "name": "#%%\n"
    }
   }
  },
  {
   "cell_type": "code",
   "execution_count": 50,
   "outputs": [],
   "source": [
    "df_test = pd.read_csv('test.csv')"
   ],
   "metadata": {
    "collapsed": false,
    "pycharm": {
     "name": "#%%\n"
    }
   }
  },
  {
   "cell_type": "code",
   "execution_count": 51,
   "outputs": [],
   "source": [
    "df_train = pd.read_csv('train.csv')"
   ],
   "metadata": {
    "collapsed": false,
    "pycharm": {
     "name": "#%%\n"
    }
   }
  },
  {
   "cell_type": "code",
   "execution_count": 52,
   "outputs": [
    {
     "data": {
      "text/plain": "           Id  RevolvingUtilizationOfUnsecuredLines  age  \\\n0       15576                              0.051782  53y   \n1       94308                              0.022133  57y   \n2       53983                              0.013693  68y   \n3       61359                              0.018568  74y   \n4       71383                              0.008630  66y   \n...       ...                                   ...  ...   \n31437  110527                              0.469451  28y   \n31438  121978                              0.171910  44y   \n31439   77327                              0.004842  51y   \n31440   48341                              0.636554  42y   \n31441   37695                              0.011406  53y   \n\n       NumberOfTime30-59DaysPastDueNotWorse    DebtRatio  MonthlyIncome  \\\n0                                         0     0.009350         2245.0   \n1                                         0     0.319562         7672.0   \n2                                         0     0.139237         4064.0   \n3                                         0     0.018760        10500.0   \n4                                         0     9.000000            NaN   \n...                                     ...          ...            ...   \n31437                                     0     0.029072         2166.0   \n31438                                     0     0.375557         5833.0   \n31439                                     1    30.000000            0.0   \n31440                                     0     0.483931         7000.0   \n31441                                     0  2813.000000            NaN   \n\n       NumberOfOpenCreditLinesAndLoans  NumberOfTimes90DaysLate  \\\n0                                    3                        0   \n1                                   26                        0   \n2                                    4                        0   \n3                                   27                        0   \n4                                    5                        0   \n...                                ...                      ...   \n31437                                1                        0   \n31438                                8                        0   \n31439                                3                        0   \n31440                               10                        2   \n31441                               17                        0   \n\n       NumberRealEstateLoansOrLines  NumberOfTime60-89DaysPastDueNotWorse  \\\n0                                 0                                     0   \n1                                 1                                     0   \n2                                 0                                     0   \n3                                 0                                     0   \n4                                 0                                     0   \n...                             ...                                   ...   \n31437                             0                                     0   \n31438                             2                                     0   \n31439                             0                                     0   \n31440                             1                                     0   \n31441                             1                                     0   \n\n       NumberOfDependents  \n0                     0.0  \n1                     2.0  \n2                     1.0  \n3                     0.0  \n4                     0.0  \n...                   ...  \n31437                 0.0  \n31438                 4.0  \n31439                 2.0  \n31440                 1.0  \n31441                 0.0  \n\n[31442 rows x 11 columns]",
      "text/html": "<div>\n<style scoped>\n    .dataframe tbody tr th:only-of-type {\n        vertical-align: middle;\n    }\n\n    .dataframe tbody tr th {\n        vertical-align: top;\n    }\n\n    .dataframe thead th {\n        text-align: right;\n    }\n</style>\n<table border=\"1\" class=\"dataframe\">\n  <thead>\n    <tr style=\"text-align: right;\">\n      <th></th>\n      <th>Id</th>\n      <th>RevolvingUtilizationOfUnsecuredLines</th>\n      <th>age</th>\n      <th>NumberOfTime30-59DaysPastDueNotWorse</th>\n      <th>DebtRatio</th>\n      <th>MonthlyIncome</th>\n      <th>NumberOfOpenCreditLinesAndLoans</th>\n      <th>NumberOfTimes90DaysLate</th>\n      <th>NumberRealEstateLoansOrLines</th>\n      <th>NumberOfTime60-89DaysPastDueNotWorse</th>\n      <th>NumberOfDependents</th>\n    </tr>\n  </thead>\n  <tbody>\n    <tr>\n      <th>0</th>\n      <td>15576</td>\n      <td>0.051782</td>\n      <td>53y</td>\n      <td>0</td>\n      <td>0.009350</td>\n      <td>2245.0</td>\n      <td>3</td>\n      <td>0</td>\n      <td>0</td>\n      <td>0</td>\n      <td>0.0</td>\n    </tr>\n    <tr>\n      <th>1</th>\n      <td>94308</td>\n      <td>0.022133</td>\n      <td>57y</td>\n      <td>0</td>\n      <td>0.319562</td>\n      <td>7672.0</td>\n      <td>26</td>\n      <td>0</td>\n      <td>1</td>\n      <td>0</td>\n      <td>2.0</td>\n    </tr>\n    <tr>\n      <th>2</th>\n      <td>53983</td>\n      <td>0.013693</td>\n      <td>68y</td>\n      <td>0</td>\n      <td>0.139237</td>\n      <td>4064.0</td>\n      <td>4</td>\n      <td>0</td>\n      <td>0</td>\n      <td>0</td>\n      <td>1.0</td>\n    </tr>\n    <tr>\n      <th>3</th>\n      <td>61359</td>\n      <td>0.018568</td>\n      <td>74y</td>\n      <td>0</td>\n      <td>0.018760</td>\n      <td>10500.0</td>\n      <td>27</td>\n      <td>0</td>\n      <td>0</td>\n      <td>0</td>\n      <td>0.0</td>\n    </tr>\n    <tr>\n      <th>4</th>\n      <td>71383</td>\n      <td>0.008630</td>\n      <td>66y</td>\n      <td>0</td>\n      <td>9.000000</td>\n      <td>NaN</td>\n      <td>5</td>\n      <td>0</td>\n      <td>0</td>\n      <td>0</td>\n      <td>0.0</td>\n    </tr>\n    <tr>\n      <th>...</th>\n      <td>...</td>\n      <td>...</td>\n      <td>...</td>\n      <td>...</td>\n      <td>...</td>\n      <td>...</td>\n      <td>...</td>\n      <td>...</td>\n      <td>...</td>\n      <td>...</td>\n      <td>...</td>\n    </tr>\n    <tr>\n      <th>31437</th>\n      <td>110527</td>\n      <td>0.469451</td>\n      <td>28y</td>\n      <td>0</td>\n      <td>0.029072</td>\n      <td>2166.0</td>\n      <td>1</td>\n      <td>0</td>\n      <td>0</td>\n      <td>0</td>\n      <td>0.0</td>\n    </tr>\n    <tr>\n      <th>31438</th>\n      <td>121978</td>\n      <td>0.171910</td>\n      <td>44y</td>\n      <td>0</td>\n      <td>0.375557</td>\n      <td>5833.0</td>\n      <td>8</td>\n      <td>0</td>\n      <td>2</td>\n      <td>0</td>\n      <td>4.0</td>\n    </tr>\n    <tr>\n      <th>31439</th>\n      <td>77327</td>\n      <td>0.004842</td>\n      <td>51y</td>\n      <td>1</td>\n      <td>30.000000</td>\n      <td>0.0</td>\n      <td>3</td>\n      <td>0</td>\n      <td>0</td>\n      <td>0</td>\n      <td>2.0</td>\n    </tr>\n    <tr>\n      <th>31440</th>\n      <td>48341</td>\n      <td>0.636554</td>\n      <td>42y</td>\n      <td>0</td>\n      <td>0.483931</td>\n      <td>7000.0</td>\n      <td>10</td>\n      <td>2</td>\n      <td>1</td>\n      <td>0</td>\n      <td>1.0</td>\n    </tr>\n    <tr>\n      <th>31441</th>\n      <td>37695</td>\n      <td>0.011406</td>\n      <td>53y</td>\n      <td>0</td>\n      <td>2813.000000</td>\n      <td>NaN</td>\n      <td>17</td>\n      <td>0</td>\n      <td>1</td>\n      <td>0</td>\n      <td>0.0</td>\n    </tr>\n  </tbody>\n</table>\n<p>31442 rows × 11 columns</p>\n</div>"
     },
     "execution_count": 52,
     "metadata": {},
     "output_type": "execute_result"
    }
   ],
   "source": [
    "df_test"
   ],
   "metadata": {
    "collapsed": false,
    "pycharm": {
     "name": "#%%\n"
    }
   }
  },
  {
   "cell_type": "code",
   "execution_count": 53,
   "outputs": [],
   "source": [
    "df_train['MonthlyIncome'].fillna((df_train['MonthlyIncome'].mean()), inplace=True)\n",
    "df_train['NumberOfDependents'].fillna((df_train['NumberOfDependents'].mean()), inplace=True)\n",
    "df_train['NumberOfLoans'] = df_train['NumberOfOpenCreditLinesAndLoans'] + df_train['NumberRealEstateLoansOrLines']"
   ],
   "metadata": {
    "collapsed": false,
    "pycharm": {
     "name": "#%%\n"
    }
   }
  },
  {
   "cell_type": "code",
   "execution_count": 54,
   "outputs": [],
   "source": [
    "df_test['MonthlyIncome'].fillna((df_test['MonthlyIncome'].mean()), inplace=True)\n",
    "df_test['NumberOfDependents'].fillna((df_test['NumberOfDependents'].mean()), inplace=True)\n",
    "df_test['NumberOfLoans'] = df_test['NumberOfOpenCreditLinesAndLoans'] + df_test['NumberRealEstateLoansOrLines']"
   ],
   "metadata": {
    "collapsed": false,
    "pycharm": {
     "name": "#%%\n"
    }
   }
  },
  {
   "cell_type": "code",
   "execution_count": 55,
   "outputs": [],
   "source": [
    "df_train['age'] = df_train['age'].apply(lambda x: int(x[:-1]))\n",
    "df_test['age'] = df_test['age'].apply(lambda x: int(x[:-1]))"
   ],
   "metadata": {
    "collapsed": false,
    "pycharm": {
     "name": "#%%\n"
    }
   }
  },
  {
   "cell_type": "code",
   "execution_count": 56,
   "outputs": [
    {
     "data": {
      "text/plain": "           Id  target  RevolvingUtilizationOfUnsecuredLines  age  \\\n0       44164       0                              0.768219   68   \n1       95356       0                              0.289873   52   \n2      108917       0                              0.000000   54   \n3       99039       0                              0.046064   66   \n4      116168       0                              0.168771   45   \n...       ...     ...                                   ...  ...   \n73358   25055       0                              0.010468   45   \n73359  105554       0                              0.131250   42   \n73360  129050       0                              0.550527   59   \n73361   94633       0                              0.678651   31   \n73362   88136       0                              0.136699   58   \n\n       NumberOfTime30-59DaysPastDueNotWorse    DebtRatio  MonthlyIncome  \\\n0                                         1     0.687930     2178.00000   \n1                                         0     0.385497     3750.00000   \n2                                         0     0.346503     6833.00000   \n3                                         1     0.407614     5200.00000   \n4                                         0  4702.000000     6649.14467   \n...                                     ...          ...            ...   \n73358                                     0     0.211663    12500.00000   \n73359                                     0     0.311538     5000.00000   \n73360                                     0  2777.000000     6649.14467   \n73361                                     0     0.436990     3800.00000   \n73362                                     0     0.179301    16000.00000   \n\n       NumberOfOpenCreditLinesAndLoans  NumberOfTimes90DaysLate  \\\n0                                   12                        0   \n1                                   16                        0   \n2                                    8                        0   \n3                                    6                        0   \n4                                   10                        0   \n...                                ...                      ...   \n73358                               15                        0   \n73359                                9                        0   \n73360                               12                        0   \n73361                               12                        0   \n73362                               16                        0   \n\n       NumberRealEstateLoansOrLines  NumberOfTime60-89DaysPastDueNotWorse  \\\n0                                 1                                     0   \n1                                 1                                     0   \n2                                 1                                     0   \n3                                 1                                     0   \n4                                 3                                     0   \n...                             ...                                   ...   \n73358                             1                                     0   \n73359                             0                                     0   \n73360                             1                                     0   \n73361                             1                                     0   \n73362                             2                                     0   \n\n       NumberOfDependents  NumberOfLoans  \n0                     0.0             13  \n1                     1.0             17  \n2                     0.0              9  \n3                     1.0              7  \n4                     1.0             13  \n...                   ...            ...  \n73358                 3.0             16  \n73359                 0.0              9  \n73360                 0.0             13  \n73361                 0.0             13  \n73362                 0.0             18  \n\n[73363 rows x 13 columns]",
      "text/html": "<div>\n<style scoped>\n    .dataframe tbody tr th:only-of-type {\n        vertical-align: middle;\n    }\n\n    .dataframe tbody tr th {\n        vertical-align: top;\n    }\n\n    .dataframe thead th {\n        text-align: right;\n    }\n</style>\n<table border=\"1\" class=\"dataframe\">\n  <thead>\n    <tr style=\"text-align: right;\">\n      <th></th>\n      <th>Id</th>\n      <th>target</th>\n      <th>RevolvingUtilizationOfUnsecuredLines</th>\n      <th>age</th>\n      <th>NumberOfTime30-59DaysPastDueNotWorse</th>\n      <th>DebtRatio</th>\n      <th>MonthlyIncome</th>\n      <th>NumberOfOpenCreditLinesAndLoans</th>\n      <th>NumberOfTimes90DaysLate</th>\n      <th>NumberRealEstateLoansOrLines</th>\n      <th>NumberOfTime60-89DaysPastDueNotWorse</th>\n      <th>NumberOfDependents</th>\n      <th>NumberOfLoans</th>\n    </tr>\n  </thead>\n  <tbody>\n    <tr>\n      <th>0</th>\n      <td>44164</td>\n      <td>0</td>\n      <td>0.768219</td>\n      <td>68</td>\n      <td>1</td>\n      <td>0.687930</td>\n      <td>2178.00000</td>\n      <td>12</td>\n      <td>0</td>\n      <td>1</td>\n      <td>0</td>\n      <td>0.0</td>\n      <td>13</td>\n    </tr>\n    <tr>\n      <th>1</th>\n      <td>95356</td>\n      <td>0</td>\n      <td>0.289873</td>\n      <td>52</td>\n      <td>0</td>\n      <td>0.385497</td>\n      <td>3750.00000</td>\n      <td>16</td>\n      <td>0</td>\n      <td>1</td>\n      <td>0</td>\n      <td>1.0</td>\n      <td>17</td>\n    </tr>\n    <tr>\n      <th>2</th>\n      <td>108917</td>\n      <td>0</td>\n      <td>0.000000</td>\n      <td>54</td>\n      <td>0</td>\n      <td>0.346503</td>\n      <td>6833.00000</td>\n      <td>8</td>\n      <td>0</td>\n      <td>1</td>\n      <td>0</td>\n      <td>0.0</td>\n      <td>9</td>\n    </tr>\n    <tr>\n      <th>3</th>\n      <td>99039</td>\n      <td>0</td>\n      <td>0.046064</td>\n      <td>66</td>\n      <td>1</td>\n      <td>0.407614</td>\n      <td>5200.00000</td>\n      <td>6</td>\n      <td>0</td>\n      <td>1</td>\n      <td>0</td>\n      <td>1.0</td>\n      <td>7</td>\n    </tr>\n    <tr>\n      <th>4</th>\n      <td>116168</td>\n      <td>0</td>\n      <td>0.168771</td>\n      <td>45</td>\n      <td>0</td>\n      <td>4702.000000</td>\n      <td>6649.14467</td>\n      <td>10</td>\n      <td>0</td>\n      <td>3</td>\n      <td>0</td>\n      <td>1.0</td>\n      <td>13</td>\n    </tr>\n    <tr>\n      <th>...</th>\n      <td>...</td>\n      <td>...</td>\n      <td>...</td>\n      <td>...</td>\n      <td>...</td>\n      <td>...</td>\n      <td>...</td>\n      <td>...</td>\n      <td>...</td>\n      <td>...</td>\n      <td>...</td>\n      <td>...</td>\n      <td>...</td>\n    </tr>\n    <tr>\n      <th>73358</th>\n      <td>25055</td>\n      <td>0</td>\n      <td>0.010468</td>\n      <td>45</td>\n      <td>0</td>\n      <td>0.211663</td>\n      <td>12500.00000</td>\n      <td>15</td>\n      <td>0</td>\n      <td>1</td>\n      <td>0</td>\n      <td>3.0</td>\n      <td>16</td>\n    </tr>\n    <tr>\n      <th>73359</th>\n      <td>105554</td>\n      <td>0</td>\n      <td>0.131250</td>\n      <td>42</td>\n      <td>0</td>\n      <td>0.311538</td>\n      <td>5000.00000</td>\n      <td>9</td>\n      <td>0</td>\n      <td>0</td>\n      <td>0</td>\n      <td>0.0</td>\n      <td>9</td>\n    </tr>\n    <tr>\n      <th>73360</th>\n      <td>129050</td>\n      <td>0</td>\n      <td>0.550527</td>\n      <td>59</td>\n      <td>0</td>\n      <td>2777.000000</td>\n      <td>6649.14467</td>\n      <td>12</td>\n      <td>0</td>\n      <td>1</td>\n      <td>0</td>\n      <td>0.0</td>\n      <td>13</td>\n    </tr>\n    <tr>\n      <th>73361</th>\n      <td>94633</td>\n      <td>0</td>\n      <td>0.678651</td>\n      <td>31</td>\n      <td>0</td>\n      <td>0.436990</td>\n      <td>3800.00000</td>\n      <td>12</td>\n      <td>0</td>\n      <td>1</td>\n      <td>0</td>\n      <td>0.0</td>\n      <td>13</td>\n    </tr>\n    <tr>\n      <th>73362</th>\n      <td>88136</td>\n      <td>0</td>\n      <td>0.136699</td>\n      <td>58</td>\n      <td>0</td>\n      <td>0.179301</td>\n      <td>16000.00000</td>\n      <td>16</td>\n      <td>0</td>\n      <td>2</td>\n      <td>0</td>\n      <td>0.0</td>\n      <td>18</td>\n    </tr>\n  </tbody>\n</table>\n<p>73363 rows × 13 columns</p>\n</div>"
     },
     "execution_count": 56,
     "metadata": {},
     "output_type": "execute_result"
    }
   ],
   "source": [
    "df_train\n"
   ],
   "metadata": {
    "collapsed": false,
    "pycharm": {
     "name": "#%%\n"
    }
   }
  },
  {
   "cell_type": "code",
   "execution_count": 57,
   "outputs": [
    {
     "data": {
      "text/plain": "           Id  RevolvingUtilizationOfUnsecuredLines  age  \\\n0       15576                              0.051782   53   \n1       94308                              0.022133   57   \n2       53983                              0.013693   68   \n3       61359                              0.018568   74   \n4       71383                              0.008630   66   \n...       ...                                   ...  ...   \n31437  110527                              0.469451   28   \n31438  121978                              0.171910   44   \n31439   77327                              0.004842   51   \n31440   48341                              0.636554   42   \n31441   37695                              0.011406   53   \n\n       NumberOfTime30-59DaysPastDueNotWorse    DebtRatio  MonthlyIncome  \\\n0                                         0     0.009350    2245.000000   \n1                                         0     0.319562    7672.000000   \n2                                         0     0.139237    4064.000000   \n3                                         0     0.018760   10500.000000   \n4                                         0     9.000000    6766.741597   \n...                                     ...          ...            ...   \n31437                                     0     0.029072    2166.000000   \n31438                                     0     0.375557    5833.000000   \n31439                                     1    30.000000       0.000000   \n31440                                     0     0.483931    7000.000000   \n31441                                     0  2813.000000    6766.741597   \n\n       NumberOfOpenCreditLinesAndLoans  NumberOfTimes90DaysLate  \\\n0                                    3                        0   \n1                                   26                        0   \n2                                    4                        0   \n3                                   27                        0   \n4                                    5                        0   \n...                                ...                      ...   \n31437                                1                        0   \n31438                                8                        0   \n31439                                3                        0   \n31440                               10                        2   \n31441                               17                        0   \n\n       NumberRealEstateLoansOrLines  NumberOfTime60-89DaysPastDueNotWorse  \\\n0                                 0                                     0   \n1                                 1                                     0   \n2                                 0                                     0   \n3                                 0                                     0   \n4                                 0                                     0   \n...                             ...                                   ...   \n31437                             0                                     0   \n31438                             2                                     0   \n31439                             0                                     0   \n31440                             1                                     0   \n31441                             1                                     0   \n\n       NumberOfDependents  NumberOfLoans  \n0                     0.0              3  \n1                     2.0             27  \n2                     1.0              4  \n3                     0.0             27  \n4                     0.0              5  \n...                   ...            ...  \n31437                 0.0              1  \n31438                 4.0             10  \n31439                 2.0              3  \n31440                 1.0             11  \n31441                 0.0             18  \n\n[31442 rows x 12 columns]",
      "text/html": "<div>\n<style scoped>\n    .dataframe tbody tr th:only-of-type {\n        vertical-align: middle;\n    }\n\n    .dataframe tbody tr th {\n        vertical-align: top;\n    }\n\n    .dataframe thead th {\n        text-align: right;\n    }\n</style>\n<table border=\"1\" class=\"dataframe\">\n  <thead>\n    <tr style=\"text-align: right;\">\n      <th></th>\n      <th>Id</th>\n      <th>RevolvingUtilizationOfUnsecuredLines</th>\n      <th>age</th>\n      <th>NumberOfTime30-59DaysPastDueNotWorse</th>\n      <th>DebtRatio</th>\n      <th>MonthlyIncome</th>\n      <th>NumberOfOpenCreditLinesAndLoans</th>\n      <th>NumberOfTimes90DaysLate</th>\n      <th>NumberRealEstateLoansOrLines</th>\n      <th>NumberOfTime60-89DaysPastDueNotWorse</th>\n      <th>NumberOfDependents</th>\n      <th>NumberOfLoans</th>\n    </tr>\n  </thead>\n  <tbody>\n    <tr>\n      <th>0</th>\n      <td>15576</td>\n      <td>0.051782</td>\n      <td>53</td>\n      <td>0</td>\n      <td>0.009350</td>\n      <td>2245.000000</td>\n      <td>3</td>\n      <td>0</td>\n      <td>0</td>\n      <td>0</td>\n      <td>0.0</td>\n      <td>3</td>\n    </tr>\n    <tr>\n      <th>1</th>\n      <td>94308</td>\n      <td>0.022133</td>\n      <td>57</td>\n      <td>0</td>\n      <td>0.319562</td>\n      <td>7672.000000</td>\n      <td>26</td>\n      <td>0</td>\n      <td>1</td>\n      <td>0</td>\n      <td>2.0</td>\n      <td>27</td>\n    </tr>\n    <tr>\n      <th>2</th>\n      <td>53983</td>\n      <td>0.013693</td>\n      <td>68</td>\n      <td>0</td>\n      <td>0.139237</td>\n      <td>4064.000000</td>\n      <td>4</td>\n      <td>0</td>\n      <td>0</td>\n      <td>0</td>\n      <td>1.0</td>\n      <td>4</td>\n    </tr>\n    <tr>\n      <th>3</th>\n      <td>61359</td>\n      <td>0.018568</td>\n      <td>74</td>\n      <td>0</td>\n      <td>0.018760</td>\n      <td>10500.000000</td>\n      <td>27</td>\n      <td>0</td>\n      <td>0</td>\n      <td>0</td>\n      <td>0.0</td>\n      <td>27</td>\n    </tr>\n    <tr>\n      <th>4</th>\n      <td>71383</td>\n      <td>0.008630</td>\n      <td>66</td>\n      <td>0</td>\n      <td>9.000000</td>\n      <td>6766.741597</td>\n      <td>5</td>\n      <td>0</td>\n      <td>0</td>\n      <td>0</td>\n      <td>0.0</td>\n      <td>5</td>\n    </tr>\n    <tr>\n      <th>...</th>\n      <td>...</td>\n      <td>...</td>\n      <td>...</td>\n      <td>...</td>\n      <td>...</td>\n      <td>...</td>\n      <td>...</td>\n      <td>...</td>\n      <td>...</td>\n      <td>...</td>\n      <td>...</td>\n      <td>...</td>\n    </tr>\n    <tr>\n      <th>31437</th>\n      <td>110527</td>\n      <td>0.469451</td>\n      <td>28</td>\n      <td>0</td>\n      <td>0.029072</td>\n      <td>2166.000000</td>\n      <td>1</td>\n      <td>0</td>\n      <td>0</td>\n      <td>0</td>\n      <td>0.0</td>\n      <td>1</td>\n    </tr>\n    <tr>\n      <th>31438</th>\n      <td>121978</td>\n      <td>0.171910</td>\n      <td>44</td>\n      <td>0</td>\n      <td>0.375557</td>\n      <td>5833.000000</td>\n      <td>8</td>\n      <td>0</td>\n      <td>2</td>\n      <td>0</td>\n      <td>4.0</td>\n      <td>10</td>\n    </tr>\n    <tr>\n      <th>31439</th>\n      <td>77327</td>\n      <td>0.004842</td>\n      <td>51</td>\n      <td>1</td>\n      <td>30.000000</td>\n      <td>0.000000</td>\n      <td>3</td>\n      <td>0</td>\n      <td>0</td>\n      <td>0</td>\n      <td>2.0</td>\n      <td>3</td>\n    </tr>\n    <tr>\n      <th>31440</th>\n      <td>48341</td>\n      <td>0.636554</td>\n      <td>42</td>\n      <td>0</td>\n      <td>0.483931</td>\n      <td>7000.000000</td>\n      <td>10</td>\n      <td>2</td>\n      <td>1</td>\n      <td>0</td>\n      <td>1.0</td>\n      <td>11</td>\n    </tr>\n    <tr>\n      <th>31441</th>\n      <td>37695</td>\n      <td>0.011406</td>\n      <td>53</td>\n      <td>0</td>\n      <td>2813.000000</td>\n      <td>6766.741597</td>\n      <td>17</td>\n      <td>0</td>\n      <td>1</td>\n      <td>0</td>\n      <td>0.0</td>\n      <td>18</td>\n    </tr>\n  </tbody>\n</table>\n<p>31442 rows × 12 columns</p>\n</div>"
     },
     "execution_count": 57,
     "metadata": {},
     "output_type": "execute_result"
    }
   ],
   "source": [
    "df_test"
   ],
   "metadata": {
    "collapsed": false,
    "pycharm": {
     "name": "#%%\n"
    }
   }
  },
  {
   "cell_type": "code",
   "execution_count": 58,
   "outputs": [],
   "source": [
    "df_train.to_csv( 'df_train_new.csv', index=False)"
   ],
   "metadata": {
    "collapsed": false,
    "pycharm": {
     "name": "#%%\n"
    }
   }
  },
  {
   "cell_type": "code",
   "execution_count": 59,
   "outputs": [],
   "source": [
    "df_test.to_csv( 'df_test_new.csv',index=False)"
   ],
   "metadata": {
    "collapsed": false,
    "pycharm": {
     "name": "#%%\n"
    }
   }
  }
 ],
 "metadata": {
  "kernelspec": {
   "display_name": "Python 3",
   "language": "python",
   "name": "python3"
  },
  "language_info": {
   "codemirror_mode": {
    "name": "ipython",
    "version": 2
   },
   "file_extension": ".py",
   "mimetype": "text/x-python",
   "name": "python",
   "nbconvert_exporter": "python",
   "pygments_lexer": "ipython2",
   "version": "2.7.6"
  }
 },
 "nbformat": 4,
 "nbformat_minor": 0
}
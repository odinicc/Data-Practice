{
 "cells": [
  {
   "cell_type": "code",
   "execution_count": 1,
   "metadata": {
    "collapsed": true,
    "pycharm": {
     "name": "#%%\n"
    }
   },
   "outputs": [],
   "source": [
    "import pandas as pd"
   ]
  },
  {
   "cell_type": "code",
   "execution_count": 2,
   "outputs": [],
   "source": [
    "# Standard\n",
    "import pandas as pd\n",
    "import numpy as np\n",
    "import os\n",
    "# Pycaret\n",
    "from pycaret.classification import *\n",
    "# Plots\n",
    "from plotly.offline import iplot\n",
    "import plotly.graph_objects as go\n",
    "from plotly.subplots import make_subplots\n",
    "import seaborn as sns\n",
    "# Sklearn tools\n",
    "from sklearn.preprocessing import LabelEncoder\n",
    "from sklearn.metrics import *\n",
    "# Extras\n",
    "from datetime import date\n",
    "import warnings\n",
    "warnings.filterwarnings(\"ignore\")\n",
    "import seaborn as sns\n",
    "import pycaret"
   ],
   "metadata": {
    "collapsed": false,
    "pycharm": {
     "name": "#%%\n"
    }
   }
  },
  {
   "cell_type": "code",
   "execution_count": 3,
   "outputs": [],
   "source": [
    "df_test = pd.read_csv('df_test_new.csv')"
   ],
   "metadata": {
    "collapsed": false,
    "pycharm": {
     "name": "#%%\n"
    }
   }
  },
  {
   "cell_type": "code",
   "execution_count": 4,
   "outputs": [],
   "source": [
    "df_train = pd.read_csv('df_train_new.csv')"
   ],
   "metadata": {
    "collapsed": false,
    "pycharm": {
     "name": "#%%\n"
    }
   }
  },
  {
   "cell_type": "code",
   "execution_count": 5,
   "outputs": [],
   "source": [
    "df_train_0 = df_train[df_train['target'] == 0]"
   ],
   "metadata": {
    "collapsed": false,
    "pycharm": {
     "name": "#%%\n"
    }
   }
  },
  {
   "cell_type": "code",
   "execution_count": 6,
   "outputs": [],
   "source": [
    "df_train_1 = df_train[df_train['target'] == 1]\n"
   ],
   "metadata": {
    "collapsed": false,
    "pycharm": {
     "name": "#%%\n"
    }
   }
  },
  {
   "cell_type": "code",
   "execution_count": 7,
   "outputs": [
    {
     "data": {
      "text/plain": "                 Id   target  RevolvingUtilizationOfUnsecuredLines  \\\ncount   68527.00000  68527.0                          68527.000000   \nmean    75005.23417      0.0                              5.888450   \nstd     43291.87137      0.0                            240.089641   \nmin         2.00000      0.0                              0.000000   \n25%     37388.50000      0.0                              0.026944   \n50%     75034.00000      0.0                              0.134361   \n75%    112537.50000      0.0                              0.489762   \nmax    149998.00000      0.0                          29110.000000   \n\n                age  NumberOfTime30-59DaysPastDueNotWorse      DebtRatio  \\\ncount  68527.000000                          68527.000000   68527.000000   \nmean      52.809739                              0.282006     364.425267   \nstd       14.804027                              2.998680    2547.179528   \nmin        0.000000                              0.000000       0.000000   \n25%       42.000000                              0.000000       0.171999   \n50%       52.000000                              0.000000       0.361834   \n75%       63.000000                              0.000000       0.858586   \nmax      105.000000                             98.000000  329664.000000   \n\n       MonthlyIncome  NumberOfOpenCreditLinesAndLoans  \\\ncount   6.852700e+04                     68527.000000   \nmean    6.709315e+03                         8.478643   \nstd     9.577051e+03                         5.101598   \nmin     0.000000e+00                         0.000000   \n25%     4.000000e+03                         5.000000   \n50%     6.649145e+03                         8.000000   \n75%     7.500000e+03                        11.000000   \nmax     1.560100e+06                        57.000000   \n\n       NumberOfTimes90DaysLate  NumberRealEstateLoansOrLines  \\\ncount             68527.000000                  68527.000000   \nmean                  0.137406                      1.020299   \nstd                   2.962835                      1.114329   \nmin                   0.000000                      0.000000   \n25%                   0.000000                      0.000000   \n50%                   0.000000                      1.000000   \n75%                   0.000000                      2.000000   \nmax                  98.000000                     32.000000   \n\n       NumberOfTime60-89DaysPastDueNotWorse  NumberOfDependents  NumberOfLoans  \ncount                          68527.000000        68527.000000   68527.000000  \nmean                               0.129920            0.743215       9.498942  \nstd                                2.955833            1.088433       5.668507  \nmin                                0.000000            0.000000       0.000000  \n25%                                0.000000            0.000000       5.000000  \n50%                                0.000000            0.000000       9.000000  \n75%                                0.000000            1.000000      13.000000  \nmax                               98.000000           13.000000      70.000000  ",
      "text/html": "<div>\n<style scoped>\n    .dataframe tbody tr th:only-of-type {\n        vertical-align: middle;\n    }\n\n    .dataframe tbody tr th {\n        vertical-align: top;\n    }\n\n    .dataframe thead th {\n        text-align: right;\n    }\n</style>\n<table border=\"1\" class=\"dataframe\">\n  <thead>\n    <tr style=\"text-align: right;\">\n      <th></th>\n      <th>Id</th>\n      <th>target</th>\n      <th>RevolvingUtilizationOfUnsecuredLines</th>\n      <th>age</th>\n      <th>NumberOfTime30-59DaysPastDueNotWorse</th>\n      <th>DebtRatio</th>\n      <th>MonthlyIncome</th>\n      <th>NumberOfOpenCreditLinesAndLoans</th>\n      <th>NumberOfTimes90DaysLate</th>\n      <th>NumberRealEstateLoansOrLines</th>\n      <th>NumberOfTime60-89DaysPastDueNotWorse</th>\n      <th>NumberOfDependents</th>\n      <th>NumberOfLoans</th>\n    </tr>\n  </thead>\n  <tbody>\n    <tr>\n      <th>count</th>\n      <td>68527.00000</td>\n      <td>68527.0</td>\n      <td>68527.000000</td>\n      <td>68527.000000</td>\n      <td>68527.000000</td>\n      <td>68527.000000</td>\n      <td>6.852700e+04</td>\n      <td>68527.000000</td>\n      <td>68527.000000</td>\n      <td>68527.000000</td>\n      <td>68527.000000</td>\n      <td>68527.000000</td>\n      <td>68527.000000</td>\n    </tr>\n    <tr>\n      <th>mean</th>\n      <td>75005.23417</td>\n      <td>0.0</td>\n      <td>5.888450</td>\n      <td>52.809739</td>\n      <td>0.282006</td>\n      <td>364.425267</td>\n      <td>6.709315e+03</td>\n      <td>8.478643</td>\n      <td>0.137406</td>\n      <td>1.020299</td>\n      <td>0.129920</td>\n      <td>0.743215</td>\n      <td>9.498942</td>\n    </tr>\n    <tr>\n      <th>std</th>\n      <td>43291.87137</td>\n      <td>0.0</td>\n      <td>240.089641</td>\n      <td>14.804027</td>\n      <td>2.998680</td>\n      <td>2547.179528</td>\n      <td>9.577051e+03</td>\n      <td>5.101598</td>\n      <td>2.962835</td>\n      <td>1.114329</td>\n      <td>2.955833</td>\n      <td>1.088433</td>\n      <td>5.668507</td>\n    </tr>\n    <tr>\n      <th>min</th>\n      <td>2.00000</td>\n      <td>0.0</td>\n      <td>0.000000</td>\n      <td>0.000000</td>\n      <td>0.000000</td>\n      <td>0.000000</td>\n      <td>0.000000e+00</td>\n      <td>0.000000</td>\n      <td>0.000000</td>\n      <td>0.000000</td>\n      <td>0.000000</td>\n      <td>0.000000</td>\n      <td>0.000000</td>\n    </tr>\n    <tr>\n      <th>25%</th>\n      <td>37388.50000</td>\n      <td>0.0</td>\n      <td>0.026944</td>\n      <td>42.000000</td>\n      <td>0.000000</td>\n      <td>0.171999</td>\n      <td>4.000000e+03</td>\n      <td>5.000000</td>\n      <td>0.000000</td>\n      <td>0.000000</td>\n      <td>0.000000</td>\n      <td>0.000000</td>\n      <td>5.000000</td>\n    </tr>\n    <tr>\n      <th>50%</th>\n      <td>75034.00000</td>\n      <td>0.0</td>\n      <td>0.134361</td>\n      <td>52.000000</td>\n      <td>0.000000</td>\n      <td>0.361834</td>\n      <td>6.649145e+03</td>\n      <td>8.000000</td>\n      <td>0.000000</td>\n      <td>1.000000</td>\n      <td>0.000000</td>\n      <td>0.000000</td>\n      <td>9.000000</td>\n    </tr>\n    <tr>\n      <th>75%</th>\n      <td>112537.50000</td>\n      <td>0.0</td>\n      <td>0.489762</td>\n      <td>63.000000</td>\n      <td>0.000000</td>\n      <td>0.858586</td>\n      <td>7.500000e+03</td>\n      <td>11.000000</td>\n      <td>0.000000</td>\n      <td>2.000000</td>\n      <td>0.000000</td>\n      <td>1.000000</td>\n      <td>13.000000</td>\n    </tr>\n    <tr>\n      <th>max</th>\n      <td>149998.00000</td>\n      <td>0.0</td>\n      <td>29110.000000</td>\n      <td>105.000000</td>\n      <td>98.000000</td>\n      <td>329664.000000</td>\n      <td>1.560100e+06</td>\n      <td>57.000000</td>\n      <td>98.000000</td>\n      <td>32.000000</td>\n      <td>98.000000</td>\n      <td>13.000000</td>\n      <td>70.000000</td>\n    </tr>\n  </tbody>\n</table>\n</div>"
     },
     "execution_count": 7,
     "metadata": {},
     "output_type": "execute_result"
    }
   ],
   "source": [
    "df_train_0.describe()"
   ],
   "metadata": {
    "collapsed": false,
    "pycharm": {
     "name": "#%%\n"
    }
   }
  },
  {
   "cell_type": "code",
   "execution_count": 8,
   "outputs": [
    {
     "data": {
      "text/plain": "                  Id  target  RevolvingUtilizationOfUnsecuredLines  \\\ncount    4836.000000  4836.0                           4836.000000   \nmean    75463.758892     1.0                              5.834660   \nstd     43473.754837     0.0                            156.830123   \nmin        13.000000     1.0                              0.000000   \n25%     38253.250000     1.0                              0.390220   \n50%     74965.500000     1.0                              0.830633   \n75%    113953.750000     1.0                              1.000000   \nmax    149979.000000     1.0                           8328.000000   \n\n               age  NumberOfTime30-59DaysPastDueNotWorse     DebtRatio  \\\ncount  4836.000000                           4836.000000   4836.000000   \nmean     46.031224                              2.231390    293.539092   \nstd      12.883298                             11.082637   1087.903421   \nmin      21.000000                              0.000000      0.000000   \n25%      36.000000                              0.000000      0.193529   \n50%      46.000000                              0.000000      0.432096   \n75%      54.000000                              2.000000      0.918747   \nmax      99.000000                             98.000000  21395.000000   \n\n       MonthlyIncome  NumberOfOpenCreditLinesAndLoans  \\\ncount    4836.000000                      4836.000000   \nmean     5796.516433                         7.951820   \nstd      5493.227619                         5.664632   \nmin         0.000000                         0.000000   \n25%      3207.250000                         4.000000   \n50%      5250.000000                         7.000000   \n75%      6649.144670                        11.000000   \nmax    234600.000000                        52.000000   \n\n       NumberOfTimes90DaysLate  NumberRealEstateLoansOrLines  \\\ncount              4836.000000                   4836.000000   \nmean                  1.944789                      1.014682   \nstd                  11.110838                      1.412162   \nmin                   0.000000                      0.000000   \n25%                   0.000000                      0.000000   \n50%                   0.000000                      1.000000   \n75%                   1.000000                      2.000000   \nmax                  98.000000                     20.000000   \n\n       NumberOfTime60-89DaysPastDueNotWorse  NumberOfDependents  NumberOfLoans  \ncount                           4836.000000         4836.000000    4836.000000  \nmean                               1.676179            0.929679       8.966501  \nstd                               11.094843            1.197183       6.499584  \nmin                                0.000000            0.000000       0.000000  \n25%                                0.000000            0.000000       4.000000  \n50%                                0.000000            0.000000       8.000000  \n75%                                1.000000            2.000000      13.000000  \nmax                               98.000000            7.000000      54.000000  ",
      "text/html": "<div>\n<style scoped>\n    .dataframe tbody tr th:only-of-type {\n        vertical-align: middle;\n    }\n\n    .dataframe tbody tr th {\n        vertical-align: top;\n    }\n\n    .dataframe thead th {\n        text-align: right;\n    }\n</style>\n<table border=\"1\" class=\"dataframe\">\n  <thead>\n    <tr style=\"text-align: right;\">\n      <th></th>\n      <th>Id</th>\n      <th>target</th>\n      <th>RevolvingUtilizationOfUnsecuredLines</th>\n      <th>age</th>\n      <th>NumberOfTime30-59DaysPastDueNotWorse</th>\n      <th>DebtRatio</th>\n      <th>MonthlyIncome</th>\n      <th>NumberOfOpenCreditLinesAndLoans</th>\n      <th>NumberOfTimes90DaysLate</th>\n      <th>NumberRealEstateLoansOrLines</th>\n      <th>NumberOfTime60-89DaysPastDueNotWorse</th>\n      <th>NumberOfDependents</th>\n      <th>NumberOfLoans</th>\n    </tr>\n  </thead>\n  <tbody>\n    <tr>\n      <th>count</th>\n      <td>4836.000000</td>\n      <td>4836.0</td>\n      <td>4836.000000</td>\n      <td>4836.000000</td>\n      <td>4836.000000</td>\n      <td>4836.000000</td>\n      <td>4836.000000</td>\n      <td>4836.000000</td>\n      <td>4836.000000</td>\n      <td>4836.000000</td>\n      <td>4836.000000</td>\n      <td>4836.000000</td>\n      <td>4836.000000</td>\n    </tr>\n    <tr>\n      <th>mean</th>\n      <td>75463.758892</td>\n      <td>1.0</td>\n      <td>5.834660</td>\n      <td>46.031224</td>\n      <td>2.231390</td>\n      <td>293.539092</td>\n      <td>5796.516433</td>\n      <td>7.951820</td>\n      <td>1.944789</td>\n      <td>1.014682</td>\n      <td>1.676179</td>\n      <td>0.929679</td>\n      <td>8.966501</td>\n    </tr>\n    <tr>\n      <th>std</th>\n      <td>43473.754837</td>\n      <td>0.0</td>\n      <td>156.830123</td>\n      <td>12.883298</td>\n      <td>11.082637</td>\n      <td>1087.903421</td>\n      <td>5493.227619</td>\n      <td>5.664632</td>\n      <td>11.110838</td>\n      <td>1.412162</td>\n      <td>11.094843</td>\n      <td>1.197183</td>\n      <td>6.499584</td>\n    </tr>\n    <tr>\n      <th>min</th>\n      <td>13.000000</td>\n      <td>1.0</td>\n      <td>0.000000</td>\n      <td>21.000000</td>\n      <td>0.000000</td>\n      <td>0.000000</td>\n      <td>0.000000</td>\n      <td>0.000000</td>\n      <td>0.000000</td>\n      <td>0.000000</td>\n      <td>0.000000</td>\n      <td>0.000000</td>\n      <td>0.000000</td>\n    </tr>\n    <tr>\n      <th>25%</th>\n      <td>38253.250000</td>\n      <td>1.0</td>\n      <td>0.390220</td>\n      <td>36.000000</td>\n      <td>0.000000</td>\n      <td>0.193529</td>\n      <td>3207.250000</td>\n      <td>4.000000</td>\n      <td>0.000000</td>\n      <td>0.000000</td>\n      <td>0.000000</td>\n      <td>0.000000</td>\n      <td>4.000000</td>\n    </tr>\n    <tr>\n      <th>50%</th>\n      <td>74965.500000</td>\n      <td>1.0</td>\n      <td>0.830633</td>\n      <td>46.000000</td>\n      <td>0.000000</td>\n      <td>0.432096</td>\n      <td>5250.000000</td>\n      <td>7.000000</td>\n      <td>0.000000</td>\n      <td>1.000000</td>\n      <td>0.000000</td>\n      <td>0.000000</td>\n      <td>8.000000</td>\n    </tr>\n    <tr>\n      <th>75%</th>\n      <td>113953.750000</td>\n      <td>1.0</td>\n      <td>1.000000</td>\n      <td>54.000000</td>\n      <td>2.000000</td>\n      <td>0.918747</td>\n      <td>6649.144670</td>\n      <td>11.000000</td>\n      <td>1.000000</td>\n      <td>2.000000</td>\n      <td>1.000000</td>\n      <td>2.000000</td>\n      <td>13.000000</td>\n    </tr>\n    <tr>\n      <th>max</th>\n      <td>149979.000000</td>\n      <td>1.0</td>\n      <td>8328.000000</td>\n      <td>99.000000</td>\n      <td>98.000000</td>\n      <td>21395.000000</td>\n      <td>234600.000000</td>\n      <td>52.000000</td>\n      <td>98.000000</td>\n      <td>20.000000</td>\n      <td>98.000000</td>\n      <td>7.000000</td>\n      <td>54.000000</td>\n    </tr>\n  </tbody>\n</table>\n</div>"
     },
     "execution_count": 8,
     "metadata": {},
     "output_type": "execute_result"
    }
   ],
   "source": [
    "df_train_1.describe()"
   ],
   "metadata": {
    "collapsed": false,
    "pycharm": {
     "name": "#%%\n"
    }
   }
  },
  {
   "cell_type": "code",
   "execution_count": 8,
   "outputs": [],
   "source": [],
   "metadata": {
    "collapsed": false,
    "pycharm": {
     "name": "#%%\n"
    }
   }
  },
  {
   "cell_type": "code",
   "execution_count": 9,
   "outputs": [
    {
     "data": {
      "text/plain": "<IPython.core.display.HTML object>",
      "text/html": ""
     },
     "metadata": {},
     "output_type": "display_data"
    }
   ],
   "source": [
    "clf1= setup(data = df_train, target = 'target' ,fix_imbalance = True ,fold = 20 )"
   ],
   "metadata": {
    "collapsed": false,
    "pycharm": {
     "name": "#%%\n"
    }
   }
  },
  {
   "cell_type": "code",
   "execution_count": 1,
   "outputs": [
    {
     "ename": "NameError",
     "evalue": "name 'compare_models' is not defined",
     "output_type": "error",
     "traceback": [
      "\u001B[1;31m---------------------------------------------------------------------------\u001B[0m",
      "\u001B[1;31mNameError\u001B[0m                                 Traceback (most recent call last)",
      "Cell \u001B[1;32mIn[1], line 1\u001B[0m\n\u001B[1;32m----> 1\u001B[0m top5 \u001B[38;5;241m=\u001B[39m \u001B[43mcompare_models\u001B[49m(n_select \u001B[38;5;241m=\u001B[39m \u001B[38;5;241m5\u001B[39m,sort\u001B[38;5;241m=\u001B[39m\u001B[38;5;124m\"\u001B[39m\u001B[38;5;124mAccurancy\u001B[39m\u001B[38;5;124m\"\u001B[39m)\n",
      "\u001B[1;31mNameError\u001B[0m: name 'compare_models' is not defined"
     ]
    }
   ],
   "source": [
    "top5 = compare_models(n_select = 5,sort=\"Accurancy\")"
   ],
   "metadata": {
    "collapsed": false,
    "pycharm": {
     "name": "#%%\n"
    }
   }
  },
  {
   "cell_type": "code",
   "execution_count": 11,
   "outputs": [
    {
     "data": {
      "text/plain": "                               Model  Accuracy     AUC  Recall   Prec.  \\\nada             Ada Boost Classifier    0.9228  0.8366  0.4065  0.4131   \ngbc     Gradient Boosting Classifier    0.9327  0.8546  0.3256  0.4852   \nqda  Quadratic Discriminant Analysis    0.8626  0.7792  0.5294  0.2703   \n\n         F1   Kappa     MCC  TT (Sec)  \nada  0.4090  0.3678  0.3682    2.3065  \ngbc  0.3886  0.3545  0.3630   10.7400  \nqda  0.3506  0.2880  0.3101    0.5565  ",
      "text/html": "<div>\n<style scoped>\n    .dataframe tbody tr th:only-of-type {\n        vertical-align: middle;\n    }\n\n    .dataframe tbody tr th {\n        vertical-align: top;\n    }\n\n    .dataframe thead th {\n        text-align: right;\n    }\n</style>\n<table border=\"1\" class=\"dataframe\">\n  <thead>\n    <tr style=\"text-align: right;\">\n      <th></th>\n      <th>Model</th>\n      <th>Accuracy</th>\n      <th>AUC</th>\n      <th>Recall</th>\n      <th>Prec.</th>\n      <th>F1</th>\n      <th>Kappa</th>\n      <th>MCC</th>\n      <th>TT (Sec)</th>\n    </tr>\n  </thead>\n  <tbody>\n    <tr>\n      <th>ada</th>\n      <td>Ada Boost Classifier</td>\n      <td>0.9228</td>\n      <td>0.8366</td>\n      <td>0.4065</td>\n      <td>0.4131</td>\n      <td>0.4090</td>\n      <td>0.3678</td>\n      <td>0.3682</td>\n      <td>2.3065</td>\n    </tr>\n    <tr>\n      <th>gbc</th>\n      <td>Gradient Boosting Classifier</td>\n      <td>0.9327</td>\n      <td>0.8546</td>\n      <td>0.3256</td>\n      <td>0.4852</td>\n      <td>0.3886</td>\n      <td>0.3545</td>\n      <td>0.3630</td>\n      <td>10.7400</td>\n    </tr>\n    <tr>\n      <th>qda</th>\n      <td>Quadratic Discriminant Analysis</td>\n      <td>0.8626</td>\n      <td>0.7792</td>\n      <td>0.5294</td>\n      <td>0.2703</td>\n      <td>0.3506</td>\n      <td>0.2880</td>\n      <td>0.3101</td>\n      <td>0.5565</td>\n    </tr>\n  </tbody>\n</table>\n</div>"
     },
     "execution_count": 11,
     "metadata": {},
     "output_type": "execute_result"
    }
   ],
   "source": [
    "pull(top5)"
   ],
   "metadata": {
    "collapsed": false,
    "pycharm": {
     "name": "#%%\n"
    }
   }
  },
  {
   "cell_type": "code",
   "execution_count": 12,
   "outputs": [
    {
     "data": {
      "text/plain": "                                                                    \n                                                                    \nInitiated  . . . . . . . . . . . . . . . . . .              16:02:35\nStatus     . . . . . . . . . . . . . . . . . .  Loading Dependencies\nEstimator  . . . . . . . . . . . . . . . . . .     Compiling Library",
      "text/html": "<div>\n<style scoped>\n    .dataframe tbody tr th:only-of-type {\n        vertical-align: middle;\n    }\n\n    .dataframe tbody tr th {\n        vertical-align: top;\n    }\n\n    .dataframe thead th {\n        text-align: right;\n    }\n</style>\n<table border=\"1\" class=\"dataframe\">\n  <thead>\n    <tr style=\"text-align: right;\">\n      <th></th>\n      <th></th>\n      <th></th>\n    </tr>\n    <tr>\n      <th></th>\n      <th></th>\n      <th></th>\n    </tr>\n  </thead>\n  <tbody>\n    <tr>\n      <th>Initiated</th>\n      <td>. . . . . . . . . . . . . . . . . .</td>\n      <td>16:02:35</td>\n    </tr>\n    <tr>\n      <th>Status</th>\n      <td>. . . . . . . . . . . . . . . . . .</td>\n      <td>Loading Dependencies</td>\n    </tr>\n    <tr>\n      <th>Estimator</th>\n      <td>. . . . . . . . . . . . . . . . . .</td>\n      <td>Compiling Library</td>\n    </tr>\n  </tbody>\n</table>\n</div>"
     },
     "metadata": {},
     "output_type": "display_data"
    },
    {
     "data": {
      "text/plain": "<IPython.core.display.HTML object>",
      "text/html": ""
     },
     "metadata": {},
     "output_type": "display_data"
    },
    {
     "data": {
      "text/plain": "Processing:   0%|          | 0/7 [00:00<?, ?it/s]",
      "application/vnd.jupyter.widget-view+json": {
       "version_major": 2,
       "version_minor": 0,
       "model_id": "d578db679bdc4ba3af56ae12038bab19"
      }
     },
     "metadata": {},
     "output_type": "display_data"
    },
    {
     "name": "stdout",
     "output_type": "stream",
     "text": [
      "Fitting 20 folds for each of 10 candidates, totalling 200 fits\n"
     ]
    },
    {
     "data": {
      "text/plain": "                                                                    \n                                                                    \nInitiated  . . . . . . . . . . . . . . . . . .              16:23:41\nStatus     . . . . . . . . . . . . . . . . . .  Loading Dependencies\nEstimator  . . . . . . . . . . . . . . . . . .     Compiling Library",
      "text/html": "<div>\n<style scoped>\n    .dataframe tbody tr th:only-of-type {\n        vertical-align: middle;\n    }\n\n    .dataframe tbody tr th {\n        vertical-align: top;\n    }\n\n    .dataframe thead th {\n        text-align: right;\n    }\n</style>\n<table border=\"1\" class=\"dataframe\">\n  <thead>\n    <tr style=\"text-align: right;\">\n      <th></th>\n      <th></th>\n      <th></th>\n    </tr>\n    <tr>\n      <th></th>\n      <th></th>\n      <th></th>\n    </tr>\n  </thead>\n  <tbody>\n    <tr>\n      <th>Initiated</th>\n      <td>. . . . . . . . . . . . . . . . . .</td>\n      <td>16:23:41</td>\n    </tr>\n    <tr>\n      <th>Status</th>\n      <td>. . . . . . . . . . . . . . . . . .</td>\n      <td>Loading Dependencies</td>\n    </tr>\n    <tr>\n      <th>Estimator</th>\n      <td>. . . . . . . . . . . . . . . . . .</td>\n      <td>Compiling Library</td>\n    </tr>\n  </tbody>\n</table>\n</div>"
     },
     "metadata": {},
     "output_type": "display_data"
    },
    {
     "data": {
      "text/plain": "<IPython.core.display.HTML object>",
      "text/html": ""
     },
     "metadata": {},
     "output_type": "display_data"
    },
    {
     "data": {
      "text/plain": "Processing:   0%|          | 0/7 [00:00<?, ?it/s]",
      "application/vnd.jupyter.widget-view+json": {
       "version_major": 2,
       "version_minor": 0,
       "model_id": "fcdb6249528b44f6923b79429c43a101"
      }
     },
     "metadata": {},
     "output_type": "display_data"
    },
    {
     "name": "stdout",
     "output_type": "stream",
     "text": [
      "Fitting 20 folds for each of 10 candidates, totalling 200 fits\n"
     ]
    },
    {
     "data": {
      "text/plain": "                                                                    \n                                                                    \nInitiated  . . . . . . . . . . . . . . . . . .              16:55:17\nStatus     . . . . . . . . . . . . . . . . . .  Loading Dependencies\nEstimator  . . . . . . . . . . . . . . . . . .     Compiling Library",
      "text/html": "<div>\n<style scoped>\n    .dataframe tbody tr th:only-of-type {\n        vertical-align: middle;\n    }\n\n    .dataframe tbody tr th {\n        vertical-align: top;\n    }\n\n    .dataframe thead th {\n        text-align: right;\n    }\n</style>\n<table border=\"1\" class=\"dataframe\">\n  <thead>\n    <tr style=\"text-align: right;\">\n      <th></th>\n      <th></th>\n      <th></th>\n    </tr>\n    <tr>\n      <th></th>\n      <th></th>\n      <th></th>\n    </tr>\n  </thead>\n  <tbody>\n    <tr>\n      <th>Initiated</th>\n      <td>. . . . . . . . . . . . . . . . . .</td>\n      <td>16:55:17</td>\n    </tr>\n    <tr>\n      <th>Status</th>\n      <td>. . . . . . . . . . . . . . . . . .</td>\n      <td>Loading Dependencies</td>\n    </tr>\n    <tr>\n      <th>Estimator</th>\n      <td>. . . . . . . . . . . . . . . . . .</td>\n      <td>Compiling Library</td>\n    </tr>\n  </tbody>\n</table>\n</div>"
     },
     "metadata": {},
     "output_type": "display_data"
    },
    {
     "data": {
      "text/plain": "<IPython.core.display.HTML object>",
      "text/html": ""
     },
     "metadata": {},
     "output_type": "display_data"
    },
    {
     "data": {
      "text/plain": "Processing:   0%|          | 0/7 [00:00<?, ?it/s]",
      "application/vnd.jupyter.widget-view+json": {
       "version_major": 2,
       "version_minor": 0,
       "model_id": "683ebd27b40f45e990aa43c1e0979a7a"
      }
     },
     "metadata": {},
     "output_type": "display_data"
    },
    {
     "name": "stdout",
     "output_type": "stream",
     "text": [
      "Fitting 20 folds for each of 10 candidates, totalling 200 fits\n",
      "Original model was better than the tuned model, hence it will be returned. NOTE: The display metrics are for the tuned model (not the original one).\n"
     ]
    }
   ],
   "source": [
    "tuned_top5 = [tune_model(i , choose_better = True, optimize=\"F1\") for i in top5]"
   ],
   "metadata": {
    "collapsed": false,
    "pycharm": {
     "name": "#%%\n"
    }
   }
  },
  {
   "cell_type": "code",
   "execution_count": 13,
   "outputs": [
    {
     "data": {
      "text/plain": "      Accuracy     AUC  Recall   Prec.      F1   Kappa     MCC\nFold                                                          \n0       0.6067  0.7584  0.7692  0.1181  0.2047  0.1023  0.1826\n1       0.5985  0.7744  0.7751  0.1165  0.2026  0.0996  0.1805\n2       0.6519  0.7788  0.7337  0.1274  0.2172  0.1183  0.1941\n3       0.5974  0.7657  0.7574  0.1142  0.1984  0.0949  0.1717\n4       0.5670  0.7706  0.7692  0.1081  0.1895  0.0838  0.1600\n5       0.6094  0.7300  0.7101  0.1117  0.1931  0.0895  0.1570\n6       0.5970  0.7626  0.7574  0.1141  0.1983  0.0947  0.1715\n7       0.5876  0.7707  0.7870  0.1151  0.2008  0.0971  0.1797\n8       0.5678  0.7900  0.7988  0.1115  0.1957  0.0906  0.1740\n9       0.5942  0.7638  0.7294  0.1107  0.1922  0.0873  0.1575\n10      0.4696  0.7582  0.8471  0.0973  0.1745  0.0633  0.1459\n11      0.5218  0.7048  0.7118  0.0931  0.1646  0.0538  0.1095\n12      0.6231  0.8018  0.8000  0.1271  0.2194  0.1187  0.2070\n13      0.7434  0.7811  0.6588  0.1571  0.2537  0.1643  0.2266\n14      0.6661  0.7332  0.6746  0.1245  0.2101  0.1114  0.1761\n15      0.5699  0.7855  0.8047  0.1127  0.1977  0.0929  0.1779\n16      0.6782  0.7618  0.6805  0.1297  0.2178  0.1205  0.1870\n17      0.6315  0.7431  0.6864  0.1150  0.1969  0.0949  0.1594\n18      0.5536  0.7832  0.8225  0.1108  0.1952  0.0896  0.1772\n19      0.5769  0.7574  0.7515  0.1085  0.1896  0.0842  0.1574\nMean    0.6006  0.7638  0.7513  0.1161  0.2006  0.0976  0.1726\nStd     0.0568  0.0221  0.0510  0.0129  0.0177  0.0222  0.0232",
      "text/html": "<div>\n<style scoped>\n    .dataframe tbody tr th:only-of-type {\n        vertical-align: middle;\n    }\n\n    .dataframe tbody tr th {\n        vertical-align: top;\n    }\n\n    .dataframe thead th {\n        text-align: right;\n    }\n</style>\n<table border=\"1\" class=\"dataframe\">\n  <thead>\n    <tr style=\"text-align: right;\">\n      <th></th>\n      <th>Accuracy</th>\n      <th>AUC</th>\n      <th>Recall</th>\n      <th>Prec.</th>\n      <th>F1</th>\n      <th>Kappa</th>\n      <th>MCC</th>\n    </tr>\n    <tr>\n      <th>Fold</th>\n      <th></th>\n      <th></th>\n      <th></th>\n      <th></th>\n      <th></th>\n      <th></th>\n      <th></th>\n    </tr>\n  </thead>\n  <tbody>\n    <tr>\n      <th>0</th>\n      <td>0.6067</td>\n      <td>0.7584</td>\n      <td>0.7692</td>\n      <td>0.1181</td>\n      <td>0.2047</td>\n      <td>0.1023</td>\n      <td>0.1826</td>\n    </tr>\n    <tr>\n      <th>1</th>\n      <td>0.5985</td>\n      <td>0.7744</td>\n      <td>0.7751</td>\n      <td>0.1165</td>\n      <td>0.2026</td>\n      <td>0.0996</td>\n      <td>0.1805</td>\n    </tr>\n    <tr>\n      <th>2</th>\n      <td>0.6519</td>\n      <td>0.7788</td>\n      <td>0.7337</td>\n      <td>0.1274</td>\n      <td>0.2172</td>\n      <td>0.1183</td>\n      <td>0.1941</td>\n    </tr>\n    <tr>\n      <th>3</th>\n      <td>0.5974</td>\n      <td>0.7657</td>\n      <td>0.7574</td>\n      <td>0.1142</td>\n      <td>0.1984</td>\n      <td>0.0949</td>\n      <td>0.1717</td>\n    </tr>\n    <tr>\n      <th>4</th>\n      <td>0.5670</td>\n      <td>0.7706</td>\n      <td>0.7692</td>\n      <td>0.1081</td>\n      <td>0.1895</td>\n      <td>0.0838</td>\n      <td>0.1600</td>\n    </tr>\n    <tr>\n      <th>5</th>\n      <td>0.6094</td>\n      <td>0.7300</td>\n      <td>0.7101</td>\n      <td>0.1117</td>\n      <td>0.1931</td>\n      <td>0.0895</td>\n      <td>0.1570</td>\n    </tr>\n    <tr>\n      <th>6</th>\n      <td>0.5970</td>\n      <td>0.7626</td>\n      <td>0.7574</td>\n      <td>0.1141</td>\n      <td>0.1983</td>\n      <td>0.0947</td>\n      <td>0.1715</td>\n    </tr>\n    <tr>\n      <th>7</th>\n      <td>0.5876</td>\n      <td>0.7707</td>\n      <td>0.7870</td>\n      <td>0.1151</td>\n      <td>0.2008</td>\n      <td>0.0971</td>\n      <td>0.1797</td>\n    </tr>\n    <tr>\n      <th>8</th>\n      <td>0.5678</td>\n      <td>0.7900</td>\n      <td>0.7988</td>\n      <td>0.1115</td>\n      <td>0.1957</td>\n      <td>0.0906</td>\n      <td>0.1740</td>\n    </tr>\n    <tr>\n      <th>9</th>\n      <td>0.5942</td>\n      <td>0.7638</td>\n      <td>0.7294</td>\n      <td>0.1107</td>\n      <td>0.1922</td>\n      <td>0.0873</td>\n      <td>0.1575</td>\n    </tr>\n    <tr>\n      <th>10</th>\n      <td>0.4696</td>\n      <td>0.7582</td>\n      <td>0.8471</td>\n      <td>0.0973</td>\n      <td>0.1745</td>\n      <td>0.0633</td>\n      <td>0.1459</td>\n    </tr>\n    <tr>\n      <th>11</th>\n      <td>0.5218</td>\n      <td>0.7048</td>\n      <td>0.7118</td>\n      <td>0.0931</td>\n      <td>0.1646</td>\n      <td>0.0538</td>\n      <td>0.1095</td>\n    </tr>\n    <tr>\n      <th>12</th>\n      <td>0.6231</td>\n      <td>0.8018</td>\n      <td>0.8000</td>\n      <td>0.1271</td>\n      <td>0.2194</td>\n      <td>0.1187</td>\n      <td>0.2070</td>\n    </tr>\n    <tr>\n      <th>13</th>\n      <td>0.7434</td>\n      <td>0.7811</td>\n      <td>0.6588</td>\n      <td>0.1571</td>\n      <td>0.2537</td>\n      <td>0.1643</td>\n      <td>0.2266</td>\n    </tr>\n    <tr>\n      <th>14</th>\n      <td>0.6661</td>\n      <td>0.7332</td>\n      <td>0.6746</td>\n      <td>0.1245</td>\n      <td>0.2101</td>\n      <td>0.1114</td>\n      <td>0.1761</td>\n    </tr>\n    <tr>\n      <th>15</th>\n      <td>0.5699</td>\n      <td>0.7855</td>\n      <td>0.8047</td>\n      <td>0.1127</td>\n      <td>0.1977</td>\n      <td>0.0929</td>\n      <td>0.1779</td>\n    </tr>\n    <tr>\n      <th>16</th>\n      <td>0.6782</td>\n      <td>0.7618</td>\n      <td>0.6805</td>\n      <td>0.1297</td>\n      <td>0.2178</td>\n      <td>0.1205</td>\n      <td>0.1870</td>\n    </tr>\n    <tr>\n      <th>17</th>\n      <td>0.6315</td>\n      <td>0.7431</td>\n      <td>0.6864</td>\n      <td>0.1150</td>\n      <td>0.1969</td>\n      <td>0.0949</td>\n      <td>0.1594</td>\n    </tr>\n    <tr>\n      <th>18</th>\n      <td>0.5536</td>\n      <td>0.7832</td>\n      <td>0.8225</td>\n      <td>0.1108</td>\n      <td>0.1952</td>\n      <td>0.0896</td>\n      <td>0.1772</td>\n    </tr>\n    <tr>\n      <th>19</th>\n      <td>0.5769</td>\n      <td>0.7574</td>\n      <td>0.7515</td>\n      <td>0.1085</td>\n      <td>0.1896</td>\n      <td>0.0842</td>\n      <td>0.1574</td>\n    </tr>\n    <tr>\n      <th>Mean</th>\n      <td>0.6006</td>\n      <td>0.7638</td>\n      <td>0.7513</td>\n      <td>0.1161</td>\n      <td>0.2006</td>\n      <td>0.0976</td>\n      <td>0.1726</td>\n    </tr>\n    <tr>\n      <th>Std</th>\n      <td>0.0568</td>\n      <td>0.0221</td>\n      <td>0.0510</td>\n      <td>0.0129</td>\n      <td>0.0177</td>\n      <td>0.0222</td>\n      <td>0.0232</td>\n    </tr>\n  </tbody>\n</table>\n</div>"
     },
     "execution_count": 13,
     "metadata": {},
     "output_type": "execute_result"
    }
   ],
   "source": [
    "pull(tuned_top5)"
   ],
   "metadata": {
    "collapsed": false,
    "pycharm": {
     "name": "#%%\n"
    }
   }
  },
  {
   "cell_type": "code",
   "execution_count": 14,
   "outputs": [
    {
     "data": {
      "text/plain": "                                                                    \n                                                                    \nInitiated  . . . . . . . . . . . . . . . . . .              16:55:36\nStatus     . . . . . . . . . . . . . . . . . .  Loading Dependencies\nEstimator  . . . . . . . . . . . . . . . . . .     Compiling Library",
      "text/html": "<div>\n<style scoped>\n    .dataframe tbody tr th:only-of-type {\n        vertical-align: middle;\n    }\n\n    .dataframe tbody tr th {\n        vertical-align: top;\n    }\n\n    .dataframe thead th {\n        text-align: right;\n    }\n</style>\n<table border=\"1\" class=\"dataframe\">\n  <thead>\n    <tr style=\"text-align: right;\">\n      <th></th>\n      <th></th>\n      <th></th>\n    </tr>\n    <tr>\n      <th></th>\n      <th></th>\n      <th></th>\n    </tr>\n  </thead>\n  <tbody>\n    <tr>\n      <th>Initiated</th>\n      <td>. . . . . . . . . . . . . . . . . .</td>\n      <td>16:55:36</td>\n    </tr>\n    <tr>\n      <th>Status</th>\n      <td>. . . . . . . . . . . . . . . . . .</td>\n      <td>Loading Dependencies</td>\n    </tr>\n    <tr>\n      <th>Estimator</th>\n      <td>. . . . . . . . . . . . . . . . . .</td>\n      <td>Compiling Library</td>\n    </tr>\n  </tbody>\n</table>\n</div>"
     },
     "metadata": {},
     "output_type": "display_data"
    },
    {
     "data": {
      "text/plain": "<IPython.core.display.HTML object>",
      "text/html": ""
     },
     "metadata": {},
     "output_type": "display_data"
    },
    {
     "data": {
      "text/plain": "Processing:   0%|          | 0/6 [00:00<?, ?it/s]",
      "application/vnd.jupyter.widget-view+json": {
       "version_major": 2,
       "version_minor": 0,
       "model_id": "35425a22633b4b7aade0417c3e3efe4d"
      }
     },
     "metadata": {},
     "output_type": "display_data"
    },
    {
     "data": {
      "text/plain": "                                                                    \n                                                                    \nInitiated  . . . . . . . . . . . . . . . . . .              17:15:33\nStatus     . . . . . . . . . . . . . . . . . .  Loading Dependencies\nEstimator  . . . . . . . . . . . . . . . . . .     Compiling Library",
      "text/html": "<div>\n<style scoped>\n    .dataframe tbody tr th:only-of-type {\n        vertical-align: middle;\n    }\n\n    .dataframe tbody tr th {\n        vertical-align: top;\n    }\n\n    .dataframe thead th {\n        text-align: right;\n    }\n</style>\n<table border=\"1\" class=\"dataframe\">\n  <thead>\n    <tr style=\"text-align: right;\">\n      <th></th>\n      <th></th>\n      <th></th>\n    </tr>\n    <tr>\n      <th></th>\n      <th></th>\n      <th></th>\n    </tr>\n  </thead>\n  <tbody>\n    <tr>\n      <th>Initiated</th>\n      <td>. . . . . . . . . . . . . . . . . .</td>\n      <td>17:15:33</td>\n    </tr>\n    <tr>\n      <th>Status</th>\n      <td>. . . . . . . . . . . . . . . . . .</td>\n      <td>Loading Dependencies</td>\n    </tr>\n    <tr>\n      <th>Estimator</th>\n      <td>. . . . . . . . . . . . . . . . . .</td>\n      <td>Compiling Library</td>\n    </tr>\n  </tbody>\n</table>\n</div>"
     },
     "metadata": {},
     "output_type": "display_data"
    },
    {
     "data": {
      "text/plain": "<IPython.core.display.HTML object>",
      "text/html": ""
     },
     "metadata": {},
     "output_type": "display_data"
    },
    {
     "data": {
      "text/plain": "Processing:   0%|          | 0/6 [00:00<?, ?it/s]",
      "application/vnd.jupyter.widget-view+json": {
       "version_major": 2,
       "version_minor": 0,
       "model_id": "35bc8c38738f4dbdb269f73ec36cf26a"
      }
     },
     "metadata": {},
     "output_type": "display_data"
    },
    {
     "name": "stdout",
     "output_type": "stream",
     "text": [
      "Original model was better than the ensembled model, hence it will be returned. NOTE: The display metrics are for the ensembled model (not the original one).\n"
     ]
    },
    {
     "data": {
      "text/plain": "                                                                    \n                                                                    \nInitiated  . . . . . . . . . . . . . . . . . .              17:39:08\nStatus     . . . . . . . . . . . . . . . . . .  Loading Dependencies\nEstimator  . . . . . . . . . . . . . . . . . .     Compiling Library",
      "text/html": "<div>\n<style scoped>\n    .dataframe tbody tr th:only-of-type {\n        vertical-align: middle;\n    }\n\n    .dataframe tbody tr th {\n        vertical-align: top;\n    }\n\n    .dataframe thead th {\n        text-align: right;\n    }\n</style>\n<table border=\"1\" class=\"dataframe\">\n  <thead>\n    <tr style=\"text-align: right;\">\n      <th></th>\n      <th></th>\n      <th></th>\n    </tr>\n    <tr>\n      <th></th>\n      <th></th>\n      <th></th>\n    </tr>\n  </thead>\n  <tbody>\n    <tr>\n      <th>Initiated</th>\n      <td>. . . . . . . . . . . . . . . . . .</td>\n      <td>17:39:08</td>\n    </tr>\n    <tr>\n      <th>Status</th>\n      <td>. . . . . . . . . . . . . . . . . .</td>\n      <td>Loading Dependencies</td>\n    </tr>\n    <tr>\n      <th>Estimator</th>\n      <td>. . . . . . . . . . . . . . . . . .</td>\n      <td>Compiling Library</td>\n    </tr>\n  </tbody>\n</table>\n</div>"
     },
     "metadata": {},
     "output_type": "display_data"
    },
    {
     "data": {
      "text/plain": "<IPython.core.display.HTML object>",
      "text/html": ""
     },
     "metadata": {},
     "output_type": "display_data"
    },
    {
     "data": {
      "text/plain": "Processing:   0%|          | 0/6 [00:00<?, ?it/s]",
      "application/vnd.jupyter.widget-view+json": {
       "version_major": 2,
       "version_minor": 0,
       "model_id": "802570fc01f649158624d295f1af27bb"
      }
     },
     "metadata": {},
     "output_type": "display_data"
    }
   ],
   "source": [
    "bagged_top5 = [ensemble_model(i, choose_better = True, optimize=\"F1\") for i in tuned_top5]"
   ],
   "metadata": {
    "collapsed": false,
    "pycharm": {
     "name": "#%%\n"
    }
   }
  },
  {
   "cell_type": "code",
   "execution_count": 15,
   "outputs": [
    {
     "data": {
      "text/plain": "      Accuracy     AUC  Recall   Prec.      F1   Kappa     MCC\nFold                                                          \n0       0.8773  0.7798  0.5266  0.2747  0.3611  0.3006  0.3201\n1       0.8980  0.8276  0.5325  0.3297  0.4072  0.3548  0.3670\n2       0.8956  0.7995  0.5030  0.3160  0.3881  0.3343  0.3451\n3       0.8917  0.8121  0.5503  0.3153  0.4009  0.3461  0.3624\n4       0.8968  0.7836  0.5385  0.3273  0.4072  0.3543  0.3675\n5       0.8820  0.7622  0.4379  0.2624  0.3282  0.2679  0.2785\n6       0.8843  0.8045  0.4793  0.2793  0.3529  0.2943  0.3072\n7       0.8960  0.8022  0.5385  0.3250  0.4053  0.3522  0.3657\n8       0.8999  0.8347  0.5089  0.3308  0.4009  0.3490  0.3587\n9       0.8968  0.7938  0.5235  0.3260  0.4018  0.3487  0.3604\n10      0.8540  0.7652  0.5294  0.2338  0.3243  0.2560  0.2830\n11      0.8773  0.7599  0.5000  0.2698  0.3505  0.2894  0.3063\n12      0.8657  0.8390  0.6059  0.2703  0.3739  0.3108  0.3427\n13      0.9011  0.8009  0.4588  0.3250  0.3805  0.3284  0.3342\n14      0.8882  0.7878  0.4379  0.2782  0.3402  0.2825  0.2911\n15      0.8855  0.7938  0.5858  0.3065  0.4024  0.3459  0.3682\n16      0.8944  0.7926  0.4320  0.2944  0.3501  0.2949  0.3013\n17      0.8944  0.7439  0.4734  0.3053  0.3712  0.3165  0.3256\n18      0.8878  0.8142  0.5444  0.3036  0.3898  0.3335  0.3508\n19      0.8847  0.7910  0.5148  0.2890  0.3702  0.3122  0.3280\nMean    0.8876  0.7944  0.5111  0.2981  0.3753  0.3186  0.3332\nStd     0.0117  0.0242  0.0460  0.0267  0.0266  0.0299  0.0294",
      "text/html": "<div>\n<style scoped>\n    .dataframe tbody tr th:only-of-type {\n        vertical-align: middle;\n    }\n\n    .dataframe tbody tr th {\n        vertical-align: top;\n    }\n\n    .dataframe thead th {\n        text-align: right;\n    }\n</style>\n<table border=\"1\" class=\"dataframe\">\n  <thead>\n    <tr style=\"text-align: right;\">\n      <th></th>\n      <th>Accuracy</th>\n      <th>AUC</th>\n      <th>Recall</th>\n      <th>Prec.</th>\n      <th>F1</th>\n      <th>Kappa</th>\n      <th>MCC</th>\n    </tr>\n    <tr>\n      <th>Fold</th>\n      <th></th>\n      <th></th>\n      <th></th>\n      <th></th>\n      <th></th>\n      <th></th>\n      <th></th>\n    </tr>\n  </thead>\n  <tbody>\n    <tr>\n      <th>0</th>\n      <td>0.8773</td>\n      <td>0.7798</td>\n      <td>0.5266</td>\n      <td>0.2747</td>\n      <td>0.3611</td>\n      <td>0.3006</td>\n      <td>0.3201</td>\n    </tr>\n    <tr>\n      <th>1</th>\n      <td>0.8980</td>\n      <td>0.8276</td>\n      <td>0.5325</td>\n      <td>0.3297</td>\n      <td>0.4072</td>\n      <td>0.3548</td>\n      <td>0.3670</td>\n    </tr>\n    <tr>\n      <th>2</th>\n      <td>0.8956</td>\n      <td>0.7995</td>\n      <td>0.5030</td>\n      <td>0.3160</td>\n      <td>0.3881</td>\n      <td>0.3343</td>\n      <td>0.3451</td>\n    </tr>\n    <tr>\n      <th>3</th>\n      <td>0.8917</td>\n      <td>0.8121</td>\n      <td>0.5503</td>\n      <td>0.3153</td>\n      <td>0.4009</td>\n      <td>0.3461</td>\n      <td>0.3624</td>\n    </tr>\n    <tr>\n      <th>4</th>\n      <td>0.8968</td>\n      <td>0.7836</td>\n      <td>0.5385</td>\n      <td>0.3273</td>\n      <td>0.4072</td>\n      <td>0.3543</td>\n      <td>0.3675</td>\n    </tr>\n    <tr>\n      <th>5</th>\n      <td>0.8820</td>\n      <td>0.7622</td>\n      <td>0.4379</td>\n      <td>0.2624</td>\n      <td>0.3282</td>\n      <td>0.2679</td>\n      <td>0.2785</td>\n    </tr>\n    <tr>\n      <th>6</th>\n      <td>0.8843</td>\n      <td>0.8045</td>\n      <td>0.4793</td>\n      <td>0.2793</td>\n      <td>0.3529</td>\n      <td>0.2943</td>\n      <td>0.3072</td>\n    </tr>\n    <tr>\n      <th>7</th>\n      <td>0.8960</td>\n      <td>0.8022</td>\n      <td>0.5385</td>\n      <td>0.3250</td>\n      <td>0.4053</td>\n      <td>0.3522</td>\n      <td>0.3657</td>\n    </tr>\n    <tr>\n      <th>8</th>\n      <td>0.8999</td>\n      <td>0.8347</td>\n      <td>0.5089</td>\n      <td>0.3308</td>\n      <td>0.4009</td>\n      <td>0.3490</td>\n      <td>0.3587</td>\n    </tr>\n    <tr>\n      <th>9</th>\n      <td>0.8968</td>\n      <td>0.7938</td>\n      <td>0.5235</td>\n      <td>0.3260</td>\n      <td>0.4018</td>\n      <td>0.3487</td>\n      <td>0.3604</td>\n    </tr>\n    <tr>\n      <th>10</th>\n      <td>0.8540</td>\n      <td>0.7652</td>\n      <td>0.5294</td>\n      <td>0.2338</td>\n      <td>0.3243</td>\n      <td>0.2560</td>\n      <td>0.2830</td>\n    </tr>\n    <tr>\n      <th>11</th>\n      <td>0.8773</td>\n      <td>0.7599</td>\n      <td>0.5000</td>\n      <td>0.2698</td>\n      <td>0.3505</td>\n      <td>0.2894</td>\n      <td>0.3063</td>\n    </tr>\n    <tr>\n      <th>12</th>\n      <td>0.8657</td>\n      <td>0.8390</td>\n      <td>0.6059</td>\n      <td>0.2703</td>\n      <td>0.3739</td>\n      <td>0.3108</td>\n      <td>0.3427</td>\n    </tr>\n    <tr>\n      <th>13</th>\n      <td>0.9011</td>\n      <td>0.8009</td>\n      <td>0.4588</td>\n      <td>0.3250</td>\n      <td>0.3805</td>\n      <td>0.3284</td>\n      <td>0.3342</td>\n    </tr>\n    <tr>\n      <th>14</th>\n      <td>0.8882</td>\n      <td>0.7878</td>\n      <td>0.4379</td>\n      <td>0.2782</td>\n      <td>0.3402</td>\n      <td>0.2825</td>\n      <td>0.2911</td>\n    </tr>\n    <tr>\n      <th>15</th>\n      <td>0.8855</td>\n      <td>0.7938</td>\n      <td>0.5858</td>\n      <td>0.3065</td>\n      <td>0.4024</td>\n      <td>0.3459</td>\n      <td>0.3682</td>\n    </tr>\n    <tr>\n      <th>16</th>\n      <td>0.8944</td>\n      <td>0.7926</td>\n      <td>0.4320</td>\n      <td>0.2944</td>\n      <td>0.3501</td>\n      <td>0.2949</td>\n      <td>0.3013</td>\n    </tr>\n    <tr>\n      <th>17</th>\n      <td>0.8944</td>\n      <td>0.7439</td>\n      <td>0.4734</td>\n      <td>0.3053</td>\n      <td>0.3712</td>\n      <td>0.3165</td>\n      <td>0.3256</td>\n    </tr>\n    <tr>\n      <th>18</th>\n      <td>0.8878</td>\n      <td>0.8142</td>\n      <td>0.5444</td>\n      <td>0.3036</td>\n      <td>0.3898</td>\n      <td>0.3335</td>\n      <td>0.3508</td>\n    </tr>\n    <tr>\n      <th>19</th>\n      <td>0.8847</td>\n      <td>0.7910</td>\n      <td>0.5148</td>\n      <td>0.2890</td>\n      <td>0.3702</td>\n      <td>0.3122</td>\n      <td>0.3280</td>\n    </tr>\n    <tr>\n      <th>Mean</th>\n      <td>0.8876</td>\n      <td>0.7944</td>\n      <td>0.5111</td>\n      <td>0.2981</td>\n      <td>0.3753</td>\n      <td>0.3186</td>\n      <td>0.3332</td>\n    </tr>\n    <tr>\n      <th>Std</th>\n      <td>0.0117</td>\n      <td>0.0242</td>\n      <td>0.0460</td>\n      <td>0.0267</td>\n      <td>0.0266</td>\n      <td>0.0299</td>\n      <td>0.0294</td>\n    </tr>\n  </tbody>\n</table>\n</div>"
     },
     "execution_count": 15,
     "metadata": {},
     "output_type": "execute_result"
    }
   ],
   "source": [
    "pull(bagged_top5)"
   ],
   "metadata": {
    "collapsed": false,
    "pycharm": {
     "name": "#%%\n"
    }
   }
  },
  {
   "cell_type": "code",
   "execution_count": 23,
   "outputs": [
    {
     "data": {
      "text/plain": "                                                                    \n                                                                    \nInitiated  . . . . . . . . . . . . . . . . . .              17:43:53\nStatus     . . . . . . . . . . . . . . . . . .  Loading Dependencies\nEstimator  . . . . . . . . . . . . . . . . . .     Compiling Library",
      "text/html": "<div>\n<style scoped>\n    .dataframe tbody tr th:only-of-type {\n        vertical-align: middle;\n    }\n\n    .dataframe tbody tr th {\n        vertical-align: top;\n    }\n\n    .dataframe thead th {\n        text-align: right;\n    }\n</style>\n<table border=\"1\" class=\"dataframe\">\n  <thead>\n    <tr style=\"text-align: right;\">\n      <th></th>\n      <th></th>\n      <th></th>\n    </tr>\n    <tr>\n      <th></th>\n      <th></th>\n      <th></th>\n    </tr>\n  </thead>\n  <tbody>\n    <tr>\n      <th>Initiated</th>\n      <td>. . . . . . . . . . . . . . . . . .</td>\n      <td>17:43:53</td>\n    </tr>\n    <tr>\n      <th>Status</th>\n      <td>. . . . . . . . . . . . . . . . . .</td>\n      <td>Loading Dependencies</td>\n    </tr>\n    <tr>\n      <th>Estimator</th>\n      <td>. . . . . . . . . . . . . . . . . .</td>\n      <td>Compiling Library</td>\n    </tr>\n  </tbody>\n</table>\n</div>"
     },
     "metadata": {},
     "output_type": "display_data"
    },
    {
     "data": {
      "text/plain": "<IPython.core.display.HTML object>",
      "text/html": ""
     },
     "metadata": {},
     "output_type": "display_data"
    },
    {
     "data": {
      "text/plain": "Processing:   0%|          | 0/6 [00:00<?, ?it/s]",
      "application/vnd.jupyter.widget-view+json": {
       "version_major": 2,
       "version_minor": 0,
       "model_id": "832a6c6aa3174ff1a187afced050db4e"
      }
     },
     "metadata": {},
     "output_type": "display_data"
    },
    {
     "name": "stdout",
     "output_type": "stream",
     "text": [
      "Original model was better than the blended model, hence it will be returned. NOTE: The display metrics are for the blended model (not the original one).\n"
     ]
    }
   ],
   "source": [
    "blender = blend_models(estimator_list = top5,choose_better = True, optimize=\"F1\")"
   ],
   "metadata": {
    "collapsed": false,
    "pycharm": {
     "name": "#%%\n"
    }
   }
  },
  {
   "cell_type": "code",
   "execution_count": 24,
   "outputs": [
    {
     "data": {
      "text/plain": "      Accuracy     AUC  Recall   Prec.      F1   Kappa     MCC\nFold                                                          \n0       0.8976  0.8385  0.5030  0.3220  0.3926  0.3396  0.3497\n1       0.9112  0.8620  0.5089  0.3723  0.4300  0.3831  0.3886\n2       0.8614  0.8179  0.5976  0.2596  0.3620  0.2976  0.3303\n3       0.8956  0.8465  0.5740  0.3311  0.4199  0.3671  0.3839\n4       0.8976  0.8366  0.5680  0.3357  0.4220  0.3698  0.3853\n5       0.8832  0.8050  0.4438  0.2669  0.3333  0.2736  0.2843\n6       0.9085  0.8509  0.4556  0.3500  0.3959  0.3473  0.3508\n7       0.9089  0.8436  0.5266  0.3663  0.4320  0.3842  0.3917\n8       0.9128  0.8657  0.5148  0.3799  0.4372  0.3911  0.3964\n9       0.9069  0.8178  0.5529  0.3658  0.4403  0.3918  0.4018\n10      0.8941  0.8135  0.4706  0.3053  0.3704  0.3154  0.3242\n11      0.8999  0.8321  0.4000  0.3049  0.3461  0.2929  0.2961\n12      0.9077  0.8717  0.5294  0.3644  0.4317  0.3833  0.3912\n13      0.8727  0.8209  0.5000  0.2599  0.3421  0.2793  0.2977\n14      0.9003  0.8061  0.4379  0.3149  0.3663  0.3138  0.3188\n15      0.9147  0.8543  0.5148  0.3884  0.4427  0.3975  0.4022\n16      0.9065  0.8256  0.4379  0.3379  0.3814  0.3318  0.3350\n17      0.9030  0.8033  0.4970  0.3387  0.4029  0.3521  0.3598\n18      0.9069  0.8500  0.4556  0.3438  0.3919  0.3425  0.3465\n19      0.8909  0.8023  0.5207  0.3066  0.3860  0.3305  0.3445\nMean    0.8990  0.8332  0.5005  0.3307  0.3963  0.3442  0.3539\nStd     0.0133  0.0214  0.0503  0.0375  0.0341  0.0383  0.0367",
      "text/html": "<div>\n<style scoped>\n    .dataframe tbody tr th:only-of-type {\n        vertical-align: middle;\n    }\n\n    .dataframe tbody tr th {\n        vertical-align: top;\n    }\n\n    .dataframe thead th {\n        text-align: right;\n    }\n</style>\n<table border=\"1\" class=\"dataframe\">\n  <thead>\n    <tr style=\"text-align: right;\">\n      <th></th>\n      <th>Accuracy</th>\n      <th>AUC</th>\n      <th>Recall</th>\n      <th>Prec.</th>\n      <th>F1</th>\n      <th>Kappa</th>\n      <th>MCC</th>\n    </tr>\n    <tr>\n      <th>Fold</th>\n      <th></th>\n      <th></th>\n      <th></th>\n      <th></th>\n      <th></th>\n      <th></th>\n      <th></th>\n    </tr>\n  </thead>\n  <tbody>\n    <tr>\n      <th>0</th>\n      <td>0.8976</td>\n      <td>0.8385</td>\n      <td>0.5030</td>\n      <td>0.3220</td>\n      <td>0.3926</td>\n      <td>0.3396</td>\n      <td>0.3497</td>\n    </tr>\n    <tr>\n      <th>1</th>\n      <td>0.9112</td>\n      <td>0.8620</td>\n      <td>0.5089</td>\n      <td>0.3723</td>\n      <td>0.4300</td>\n      <td>0.3831</td>\n      <td>0.3886</td>\n    </tr>\n    <tr>\n      <th>2</th>\n      <td>0.8614</td>\n      <td>0.8179</td>\n      <td>0.5976</td>\n      <td>0.2596</td>\n      <td>0.3620</td>\n      <td>0.2976</td>\n      <td>0.3303</td>\n    </tr>\n    <tr>\n      <th>3</th>\n      <td>0.8956</td>\n      <td>0.8465</td>\n      <td>0.5740</td>\n      <td>0.3311</td>\n      <td>0.4199</td>\n      <td>0.3671</td>\n      <td>0.3839</td>\n    </tr>\n    <tr>\n      <th>4</th>\n      <td>0.8976</td>\n      <td>0.8366</td>\n      <td>0.5680</td>\n      <td>0.3357</td>\n      <td>0.4220</td>\n      <td>0.3698</td>\n      <td>0.3853</td>\n    </tr>\n    <tr>\n      <th>5</th>\n      <td>0.8832</td>\n      <td>0.8050</td>\n      <td>0.4438</td>\n      <td>0.2669</td>\n      <td>0.3333</td>\n      <td>0.2736</td>\n      <td>0.2843</td>\n    </tr>\n    <tr>\n      <th>6</th>\n      <td>0.9085</td>\n      <td>0.8509</td>\n      <td>0.4556</td>\n      <td>0.3500</td>\n      <td>0.3959</td>\n      <td>0.3473</td>\n      <td>0.3508</td>\n    </tr>\n    <tr>\n      <th>7</th>\n      <td>0.9089</td>\n      <td>0.8436</td>\n      <td>0.5266</td>\n      <td>0.3663</td>\n      <td>0.4320</td>\n      <td>0.3842</td>\n      <td>0.3917</td>\n    </tr>\n    <tr>\n      <th>8</th>\n      <td>0.9128</td>\n      <td>0.8657</td>\n      <td>0.5148</td>\n      <td>0.3799</td>\n      <td>0.4372</td>\n      <td>0.3911</td>\n      <td>0.3964</td>\n    </tr>\n    <tr>\n      <th>9</th>\n      <td>0.9069</td>\n      <td>0.8178</td>\n      <td>0.5529</td>\n      <td>0.3658</td>\n      <td>0.4403</td>\n      <td>0.3918</td>\n      <td>0.4018</td>\n    </tr>\n    <tr>\n      <th>10</th>\n      <td>0.8941</td>\n      <td>0.8135</td>\n      <td>0.4706</td>\n      <td>0.3053</td>\n      <td>0.3704</td>\n      <td>0.3154</td>\n      <td>0.3242</td>\n    </tr>\n    <tr>\n      <th>11</th>\n      <td>0.8999</td>\n      <td>0.8321</td>\n      <td>0.4000</td>\n      <td>0.3049</td>\n      <td>0.3461</td>\n      <td>0.2929</td>\n      <td>0.2961</td>\n    </tr>\n    <tr>\n      <th>12</th>\n      <td>0.9077</td>\n      <td>0.8717</td>\n      <td>0.5294</td>\n      <td>0.3644</td>\n      <td>0.4317</td>\n      <td>0.3833</td>\n      <td>0.3912</td>\n    </tr>\n    <tr>\n      <th>13</th>\n      <td>0.8727</td>\n      <td>0.8209</td>\n      <td>0.5000</td>\n      <td>0.2599</td>\n      <td>0.3421</td>\n      <td>0.2793</td>\n      <td>0.2977</td>\n    </tr>\n    <tr>\n      <th>14</th>\n      <td>0.9003</td>\n      <td>0.8061</td>\n      <td>0.4379</td>\n      <td>0.3149</td>\n      <td>0.3663</td>\n      <td>0.3138</td>\n      <td>0.3188</td>\n    </tr>\n    <tr>\n      <th>15</th>\n      <td>0.9147</td>\n      <td>0.8543</td>\n      <td>0.5148</td>\n      <td>0.3884</td>\n      <td>0.4427</td>\n      <td>0.3975</td>\n      <td>0.4022</td>\n    </tr>\n    <tr>\n      <th>16</th>\n      <td>0.9065</td>\n      <td>0.8256</td>\n      <td>0.4379</td>\n      <td>0.3379</td>\n      <td>0.3814</td>\n      <td>0.3318</td>\n      <td>0.3350</td>\n    </tr>\n    <tr>\n      <th>17</th>\n      <td>0.9030</td>\n      <td>0.8033</td>\n      <td>0.4970</td>\n      <td>0.3387</td>\n      <td>0.4029</td>\n      <td>0.3521</td>\n      <td>0.3598</td>\n    </tr>\n    <tr>\n      <th>18</th>\n      <td>0.9069</td>\n      <td>0.8500</td>\n      <td>0.4556</td>\n      <td>0.3438</td>\n      <td>0.3919</td>\n      <td>0.3425</td>\n      <td>0.3465</td>\n    </tr>\n    <tr>\n      <th>19</th>\n      <td>0.8909</td>\n      <td>0.8023</td>\n      <td>0.5207</td>\n      <td>0.3066</td>\n      <td>0.3860</td>\n      <td>0.3305</td>\n      <td>0.3445</td>\n    </tr>\n    <tr>\n      <th>Mean</th>\n      <td>0.8990</td>\n      <td>0.8332</td>\n      <td>0.5005</td>\n      <td>0.3307</td>\n      <td>0.3963</td>\n      <td>0.3442</td>\n      <td>0.3539</td>\n    </tr>\n    <tr>\n      <th>Std</th>\n      <td>0.0133</td>\n      <td>0.0214</td>\n      <td>0.0503</td>\n      <td>0.0375</td>\n      <td>0.0341</td>\n      <td>0.0383</td>\n      <td>0.0367</td>\n    </tr>\n  </tbody>\n</table>\n</div>"
     },
     "execution_count": 24,
     "metadata": {},
     "output_type": "execute_result"
    }
   ],
   "source": [
    "pull(blender)"
   ],
   "metadata": {
    "collapsed": false,
    "pycharm": {
     "name": "#%%\n"
    }
   }
  },
  {
   "cell_type": "code",
   "execution_count": 25,
   "outputs": [
    {
     "data": {
      "text/plain": "                                                                    \n                                                                    \nInitiated  . . . . . . . . . . . . . . . . . .              17:54:16\nStatus     . . . . . . . . . . . . . . . . . .  Loading Dependencies\nEstimator  . . . . . . . . . . . . . . . . . .     Compiling Library",
      "text/html": "<div>\n<style scoped>\n    .dataframe tbody tr th:only-of-type {\n        vertical-align: middle;\n    }\n\n    .dataframe tbody tr th {\n        vertical-align: top;\n    }\n\n    .dataframe thead th {\n        text-align: right;\n    }\n</style>\n<table border=\"1\" class=\"dataframe\">\n  <thead>\n    <tr style=\"text-align: right;\">\n      <th></th>\n      <th></th>\n      <th></th>\n    </tr>\n    <tr>\n      <th></th>\n      <th></th>\n      <th></th>\n    </tr>\n  </thead>\n  <tbody>\n    <tr>\n      <th>Initiated</th>\n      <td>. . . . . . . . . . . . . . . . . .</td>\n      <td>17:54:16</td>\n    </tr>\n    <tr>\n      <th>Status</th>\n      <td>. . . . . . . . . . . . . . . . . .</td>\n      <td>Loading Dependencies</td>\n    </tr>\n    <tr>\n      <th>Estimator</th>\n      <td>. . . . . . . . . . . . . . . . . .</td>\n      <td>Compiling Library</td>\n    </tr>\n  </tbody>\n</table>\n</div>"
     },
     "metadata": {},
     "output_type": "display_data"
    },
    {
     "data": {
      "text/plain": "<IPython.core.display.HTML object>",
      "text/html": ""
     },
     "metadata": {},
     "output_type": "display_data"
    },
    {
     "data": {
      "text/plain": "Processing:   0%|          | 0/6 [00:00<?, ?it/s]",
      "application/vnd.jupyter.widget-view+json": {
       "version_major": 2,
       "version_minor": 0,
       "model_id": "1a582f3751bb457ab76485a0216f16cb"
      }
     },
     "metadata": {},
     "output_type": "display_data"
    },
    {
     "name": "stdout",
     "output_type": "stream",
     "text": [
      "Original model was better than the stacked model, hence it will be returned. NOTE: The display metrics are for the stacked model (not the original one).\n"
     ]
    }
   ],
   "source": [
    "stacker = stack_models(estimator_list = top5,choose_better = True, optimize=\"F1\")"
   ],
   "metadata": {
    "collapsed": false,
    "pycharm": {
     "name": "#%%\n"
    }
   }
  },
  {
   "cell_type": "code",
   "execution_count": 26,
   "outputs": [
    {
     "data": {
      "text/plain": "      Accuracy     AUC  Recall   Prec.      F1   Kappa     MCC\nFold                                                          \n0       0.8707  0.8185  0.5917  0.2755  0.3759  0.3144  0.3431\n1       0.8734  0.8366  0.5621  0.2746  0.3689  0.3077  0.3322\n2       0.8742  0.8226  0.6036  0.2849  0.3871  0.3269  0.3557\n3       0.9124  0.8244  0.4320  0.3614  0.3935  0.3467  0.3483\n4       0.8723  0.8146  0.6272  0.2857  0.3926  0.3322  0.3645\n5       0.8680  0.8010  0.5148  0.2529  0.3392  0.2752  0.2968\n6       0.6881  0.5828  0.3905  0.0864  0.1415  0.0378  0.0540\n7       0.9112  0.8103  0.4024  0.3487  0.3736  0.3261  0.3271\n8       0.9198  0.8364  0.5030  0.4106  0.4521  0.4093  0.4118\n9       0.8769  0.8248  0.6294  0.2972  0.4038  0.3449  0.3752\n10      0.8715  0.8064  0.5235  0.2633  0.3504  0.2876  0.3087\n11      0.9058  0.7821  0.4176  0.3318  0.3698  0.3196  0.3221\n12      0.9093  0.8525  0.5059  0.3660  0.4247  0.3768  0.3826\n13      0.8832  0.8229  0.5824  0.3018  0.3976  0.3400  0.3627\n14      0.9123  0.8171  0.4260  0.3600  0.3902  0.3434  0.3448\n15      0.8648  0.8290  0.6391  0.2741  0.3837  0.3211  0.3576\n16      0.9077  0.7994  0.4497  0.3455  0.3907  0.3417  0.3452\n17      0.7109  0.6817  0.5444  0.1215  0.1987  0.1020  0.1452\n18      0.8691  0.8268  0.5680  0.2674  0.3636  0.3011  0.3277\n19      0.8660  0.7920  0.5266  0.2521  0.3410  0.2766  0.2999\nMean    0.8684  0.7991  0.5220  0.2881  0.3619  0.3016  0.3203\nStd     0.0594  0.0599  0.0779  0.0753  0.0695  0.0837  0.0797",
      "text/html": "<div>\n<style scoped>\n    .dataframe tbody tr th:only-of-type {\n        vertical-align: middle;\n    }\n\n    .dataframe tbody tr th {\n        vertical-align: top;\n    }\n\n    .dataframe thead th {\n        text-align: right;\n    }\n</style>\n<table border=\"1\" class=\"dataframe\">\n  <thead>\n    <tr style=\"text-align: right;\">\n      <th></th>\n      <th>Accuracy</th>\n      <th>AUC</th>\n      <th>Recall</th>\n      <th>Prec.</th>\n      <th>F1</th>\n      <th>Kappa</th>\n      <th>MCC</th>\n    </tr>\n    <tr>\n      <th>Fold</th>\n      <th></th>\n      <th></th>\n      <th></th>\n      <th></th>\n      <th></th>\n      <th></th>\n      <th></th>\n    </tr>\n  </thead>\n  <tbody>\n    <tr>\n      <th>0</th>\n      <td>0.8707</td>\n      <td>0.8185</td>\n      <td>0.5917</td>\n      <td>0.2755</td>\n      <td>0.3759</td>\n      <td>0.3144</td>\n      <td>0.3431</td>\n    </tr>\n    <tr>\n      <th>1</th>\n      <td>0.8734</td>\n      <td>0.8366</td>\n      <td>0.5621</td>\n      <td>0.2746</td>\n      <td>0.3689</td>\n      <td>0.3077</td>\n      <td>0.3322</td>\n    </tr>\n    <tr>\n      <th>2</th>\n      <td>0.8742</td>\n      <td>0.8226</td>\n      <td>0.6036</td>\n      <td>0.2849</td>\n      <td>0.3871</td>\n      <td>0.3269</td>\n      <td>0.3557</td>\n    </tr>\n    <tr>\n      <th>3</th>\n      <td>0.9124</td>\n      <td>0.8244</td>\n      <td>0.4320</td>\n      <td>0.3614</td>\n      <td>0.3935</td>\n      <td>0.3467</td>\n      <td>0.3483</td>\n    </tr>\n    <tr>\n      <th>4</th>\n      <td>0.8723</td>\n      <td>0.8146</td>\n      <td>0.6272</td>\n      <td>0.2857</td>\n      <td>0.3926</td>\n      <td>0.3322</td>\n      <td>0.3645</td>\n    </tr>\n    <tr>\n      <th>5</th>\n      <td>0.8680</td>\n      <td>0.8010</td>\n      <td>0.5148</td>\n      <td>0.2529</td>\n      <td>0.3392</td>\n      <td>0.2752</td>\n      <td>0.2968</td>\n    </tr>\n    <tr>\n      <th>6</th>\n      <td>0.6881</td>\n      <td>0.5828</td>\n      <td>0.3905</td>\n      <td>0.0864</td>\n      <td>0.1415</td>\n      <td>0.0378</td>\n      <td>0.0540</td>\n    </tr>\n    <tr>\n      <th>7</th>\n      <td>0.9112</td>\n      <td>0.8103</td>\n      <td>0.4024</td>\n      <td>0.3487</td>\n      <td>0.3736</td>\n      <td>0.3261</td>\n      <td>0.3271</td>\n    </tr>\n    <tr>\n      <th>8</th>\n      <td>0.9198</td>\n      <td>0.8364</td>\n      <td>0.5030</td>\n      <td>0.4106</td>\n      <td>0.4521</td>\n      <td>0.4093</td>\n      <td>0.4118</td>\n    </tr>\n    <tr>\n      <th>9</th>\n      <td>0.8769</td>\n      <td>0.8248</td>\n      <td>0.6294</td>\n      <td>0.2972</td>\n      <td>0.4038</td>\n      <td>0.3449</td>\n      <td>0.3752</td>\n    </tr>\n    <tr>\n      <th>10</th>\n      <td>0.8715</td>\n      <td>0.8064</td>\n      <td>0.5235</td>\n      <td>0.2633</td>\n      <td>0.3504</td>\n      <td>0.2876</td>\n      <td>0.3087</td>\n    </tr>\n    <tr>\n      <th>11</th>\n      <td>0.9058</td>\n      <td>0.7821</td>\n      <td>0.4176</td>\n      <td>0.3318</td>\n      <td>0.3698</td>\n      <td>0.3196</td>\n      <td>0.3221</td>\n    </tr>\n    <tr>\n      <th>12</th>\n      <td>0.9093</td>\n      <td>0.8525</td>\n      <td>0.5059</td>\n      <td>0.3660</td>\n      <td>0.4247</td>\n      <td>0.3768</td>\n      <td>0.3826</td>\n    </tr>\n    <tr>\n      <th>13</th>\n      <td>0.8832</td>\n      <td>0.8229</td>\n      <td>0.5824</td>\n      <td>0.3018</td>\n      <td>0.3976</td>\n      <td>0.3400</td>\n      <td>0.3627</td>\n    </tr>\n    <tr>\n      <th>14</th>\n      <td>0.9123</td>\n      <td>0.8171</td>\n      <td>0.4260</td>\n      <td>0.3600</td>\n      <td>0.3902</td>\n      <td>0.3434</td>\n      <td>0.3448</td>\n    </tr>\n    <tr>\n      <th>15</th>\n      <td>0.8648</td>\n      <td>0.8290</td>\n      <td>0.6391</td>\n      <td>0.2741</td>\n      <td>0.3837</td>\n      <td>0.3211</td>\n      <td>0.3576</td>\n    </tr>\n    <tr>\n      <th>16</th>\n      <td>0.9077</td>\n      <td>0.7994</td>\n      <td>0.4497</td>\n      <td>0.3455</td>\n      <td>0.3907</td>\n      <td>0.3417</td>\n      <td>0.3452</td>\n    </tr>\n    <tr>\n      <th>17</th>\n      <td>0.7109</td>\n      <td>0.6817</td>\n      <td>0.5444</td>\n      <td>0.1215</td>\n      <td>0.1987</td>\n      <td>0.1020</td>\n      <td>0.1452</td>\n    </tr>\n    <tr>\n      <th>18</th>\n      <td>0.8691</td>\n      <td>0.8268</td>\n      <td>0.5680</td>\n      <td>0.2674</td>\n      <td>0.3636</td>\n      <td>0.3011</td>\n      <td>0.3277</td>\n    </tr>\n    <tr>\n      <th>19</th>\n      <td>0.8660</td>\n      <td>0.7920</td>\n      <td>0.5266</td>\n      <td>0.2521</td>\n      <td>0.3410</td>\n      <td>0.2766</td>\n      <td>0.2999</td>\n    </tr>\n    <tr>\n      <th>Mean</th>\n      <td>0.8684</td>\n      <td>0.7991</td>\n      <td>0.5220</td>\n      <td>0.2881</td>\n      <td>0.3619</td>\n      <td>0.3016</td>\n      <td>0.3203</td>\n    </tr>\n    <tr>\n      <th>Std</th>\n      <td>0.0594</td>\n      <td>0.0599</td>\n      <td>0.0779</td>\n      <td>0.0753</td>\n      <td>0.0695</td>\n      <td>0.0837</td>\n      <td>0.0797</td>\n    </tr>\n  </tbody>\n</table>\n</div>"
     },
     "execution_count": 26,
     "metadata": {},
     "output_type": "execute_result"
    }
   ],
   "source": [
    "pull(stacker)"
   ],
   "metadata": {
    "collapsed": false,
    "pycharm": {
     "name": "#%%\n"
    }
   }
  },
  {
   "cell_type": "code",
   "execution_count": 27,
   "outputs": [],
   "source": [
    "best = automl(optimize = 'F1')"
   ],
   "metadata": {
    "collapsed": false,
    "pycharm": {
     "name": "#%%\n"
    }
   }
  },
  {
   "cell_type": "code",
   "execution_count": 28,
   "outputs": [],
   "source": [
    "final_model = finalize_model(best)"
   ],
   "metadata": {
    "collapsed": false,
    "pycharm": {
     "name": "#%%\n"
    }
   }
  },
  {
   "cell_type": "code",
   "execution_count": 29,
   "outputs": [
    {
     "data": {
      "text/plain": "<IPython.core.display.HTML object>",
      "text/html": ""
     },
     "metadata": {},
     "output_type": "display_data"
    },
    {
     "data": {
      "text/plain": "                          Model  Accuracy     AUC  Recall   Prec.      F1  \\\n0  Gradient Boosting Classifier    0.9209  0.8678  0.4666  0.4116  0.4373   \n\n    Kappa     MCC  \n0  0.3949  0.3958  ",
      "text/html": "<div>\n<style scoped>\n    .dataframe tbody tr th:only-of-type {\n        vertical-align: middle;\n    }\n\n    .dataframe tbody tr th {\n        vertical-align: top;\n    }\n\n    .dataframe thead th {\n        text-align: right;\n    }\n</style>\n<table border=\"1\" class=\"dataframe\">\n  <thead>\n    <tr style=\"text-align: right;\">\n      <th></th>\n      <th>Model</th>\n      <th>Accuracy</th>\n      <th>AUC</th>\n      <th>Recall</th>\n      <th>Prec.</th>\n      <th>F1</th>\n      <th>Kappa</th>\n      <th>MCC</th>\n    </tr>\n  </thead>\n  <tbody>\n    <tr>\n      <th>0</th>\n      <td>Gradient Boosting Classifier</td>\n      <td>0.9209</td>\n      <td>0.8678</td>\n      <td>0.4666</td>\n      <td>0.4116</td>\n      <td>0.4373</td>\n      <td>0.3949</td>\n      <td>0.3958</td>\n    </tr>\n  </tbody>\n</table>\n</div>"
     },
     "execution_count": 29,
     "metadata": {},
     "output_type": "execute_result"
    }
   ],
   "source": [
    "predict_model(final_model)\n",
    "pull()"
   ],
   "metadata": {
    "collapsed": false,
    "pycharm": {
     "name": "#%%\n"
    }
   }
  },
  {
   "cell_type": "code",
   "execution_count": 19,
   "outputs": [
    {
     "data": {
      "text/plain": "<IPython.core.display.HTML object>",
      "text/html": ""
     },
     "metadata": {},
     "output_type": "display_data"
    },
    {
     "data": {
      "text/plain": "                          Model  Accuracy     AUC  Recall   Prec.      F1  \\\n0  Gradient Boosting Classifier    0.9184  0.8554  0.4342  0.3925  0.4123   \n\n    Kappa     MCC  \n0  0.3686  0.3691  ",
      "text/html": "<div>\n<style scoped>\n    .dataframe tbody tr th:only-of-type {\n        vertical-align: middle;\n    }\n\n    .dataframe tbody tr th {\n        vertical-align: top;\n    }\n\n    .dataframe thead th {\n        text-align: right;\n    }\n</style>\n<table border=\"1\" class=\"dataframe\">\n  <thead>\n    <tr style=\"text-align: right;\">\n      <th></th>\n      <th>Model</th>\n      <th>Accuracy</th>\n      <th>AUC</th>\n      <th>Recall</th>\n      <th>Prec.</th>\n      <th>F1</th>\n      <th>Kappa</th>\n      <th>MCC</th>\n    </tr>\n  </thead>\n  <tbody>\n    <tr>\n      <th>0</th>\n      <td>Gradient Boosting Classifier</td>\n      <td>0.9184</td>\n      <td>0.8554</td>\n      <td>0.4342</td>\n      <td>0.3925</td>\n      <td>0.4123</td>\n      <td>0.3686</td>\n      <td>0.3691</td>\n    </tr>\n  </tbody>\n</table>\n</div>"
     },
     "execution_count": 19,
     "metadata": {},
     "output_type": "execute_result"
    }
   ],
   "source": [
    "predict_model(final_model)\n",
    "pull()"
   ],
   "metadata": {
    "collapsed": false,
    "pycharm": {
     "name": "#%%\n"
    }
   }
  },
  {
   "cell_type": "code",
   "execution_count": null,
   "outputs": [],
   "source": [],
   "metadata": {
    "collapsed": false,
    "pycharm": {
     "name": "#%%\n"
    }
   }
  },
  {
   "cell_type": "code",
   "execution_count": 30,
   "outputs": [
    {
     "data": {
      "text/plain": "<IPython.core.display.HTML object>",
      "text/html": ""
     },
     "metadata": {},
     "output_type": "display_data"
    }
   ],
   "source": [
    "predict_unseen = predict_model(final_model, data=df_test)"
   ],
   "metadata": {
    "collapsed": false,
    "pycharm": {
     "name": "#%%\n"
    }
   }
  },
  {
   "cell_type": "code",
   "execution_count": 31,
   "outputs": [],
   "source": [
    "df_result = predict_unseen[['Id','prediction_label']].rename(columns={'prediction_label':'target'})"
   ],
   "metadata": {
    "collapsed": false,
    "pycharm": {
     "name": "#%%\n"
    }
   }
  },
  {
   "cell_type": "code",
   "execution_count": 32,
   "outputs": [],
   "source": [
    "df_result.to_csv( 'out.csv',index=False,sep=',')"
   ],
   "metadata": {
    "collapsed": false,
    "pycharm": {
     "name": "#%%\n"
    }
   }
  }
 ],
 "metadata": {
  "kernelspec": {
   "display_name": "Python 3",
   "language": "python",
   "name": "python3"
  },
  "language_info": {
   "codemirror_mode": {
    "name": "ipython",
    "version": 2
   },
   "file_extension": ".py",
   "mimetype": "text/x-python",
   "name": "python",
   "nbconvert_exporter": "python",
   "pygments_lexer": "ipython2",
   "version": "2.7.6"
  }
 },
 "nbformat": 4,
 "nbformat_minor": 0
}
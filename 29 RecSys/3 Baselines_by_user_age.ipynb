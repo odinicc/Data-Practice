{
 "cells": [
  {
   "cell_type": "markdown",
   "metadata": {
    "papermill": {
     "duration": 0.043203,
     "end_time": "2020-10-25T07:01:24.222229",
     "exception": false,
     "start_time": "2020-10-25T07:01:24.179026",
     "status": "completed"
    },
    "tags": [],
    "pycharm": {
     "name": "#%% md\n"
    }
   },
   "source": [
    "# Metrics, validation strategies and baselines\n",
    "\n",
    "В данном jupyter notebook рассматриваются примеры того, какие схемы валидации и метрики используются в рекомендательных системах.\n",
    "Также построим простые модели (бейзлайны) на данных МТС Библиотеки. \n",
    "\n",
    "* [Preprocessing](#preprocessing)\n",
    "* [General remarks](#general-remarks)\n",
    "* [Metrics](#metrics)\n",
    "    * [Regression](#regression)\n",
    "    * [Classification](#classification)\n",
    "    * [Ranking](#ranking)\n",
    "* [Validation strategies](#validation)\n",
    "* [Baselines](#baselines)"
   ]
  },
  {
   "cell_type": "code",
   "execution_count": 1,
   "metadata": {
    "_cell_guid": "b1076dfc-b9ad-4769-8c92-a6c4dae69d19",
    "_kg_hide-input": true,
    "_uuid": "8f2839f25d086af736a60e9eeb907d3b93b6e0e5",
    "execution": {
     "iopub.execute_input": "2020-10-25T07:01:24.311769Z",
     "iopub.status.busy": "2020-10-25T07:01:24.311271Z",
     "iopub.status.idle": "2020-10-25T07:01:24.329979Z",
     "shell.execute_reply": "2020-10-25T07:01:24.329585Z"
    },
    "papermill": {
     "duration": 0.066139,
     "end_time": "2020-10-25T07:01:24.330062",
     "exception": false,
     "start_time": "2020-10-25T07:01:24.263923",
     "status": "completed"
    },
    "tags": [],
    "pycharm": {
     "name": "#%%\n"
    }
   },
   "outputs": [],
   "source": [
    "import os\n",
    "import numpy as np \n",
    "import pandas as pd \n",
    "from itertools import islice, cycle\n",
    "from more_itertools import pairwise\n",
    "\n"
   ]
  },
  {
   "cell_type": "markdown",
   "metadata": {
    "papermill": {
     "duration": 0.041416,
     "end_time": "2020-10-25T07:01:24.414765",
     "exception": false,
     "start_time": "2020-10-25T07:01:24.373349",
     "status": "completed"
    },
    "tags": [],
    "pycharm": {
     "name": "#%% md\n"
    }
   },
   "source": [
    "<a id=\"preprocessing\"></a>\n",
    "# Preprocessing\n",
    "\n",
    "Загрузим наши данные, теперь уже с фичами, и применим знания из [pandas-scipy-for-recsys](https://www.kaggle.com/sharthz23/pandas-scipy-for-recsys)"
   ]
  },
  {
   "cell_type": "code",
   "execution_count": 2,
   "metadata": {
    "execution": {
     "iopub.execute_input": "2020-10-25T07:01:24.502698Z",
     "iopub.status.busy": "2020-10-25T07:01:24.502203Z",
     "iopub.status.idle": "2020-10-25T07:01:26.303449Z",
     "shell.execute_reply": "2020-10-25T07:01:26.302965Z"
    },
    "papermill": {
     "duration": 1.846902,
     "end_time": "2020-10-25T07:01:26.303534",
     "exception": false,
     "start_time": "2020-10-25T07:01:24.456632",
     "status": "completed"
    },
    "tags": [],
    "pycharm": {
     "name": "#%%\n"
    }
   },
   "outputs": [],
   "source": [
    "df = pd.read_pickle('./interactions_preprocessed.pickle')\n",
    "df_users = pd.read_pickle('./users_preprocessed.pickle')\n",
    "df_items = pd.read_pickle('./items_preprocessed.pickle')"
   ]
  },
  {
   "cell_type": "code",
   "execution_count": 3,
   "outputs": [],
   "source": [
    "test_dates = df['start_date'].unique()[-7:]\n",
    "\n"
   ],
   "metadata": {
    "collapsed": false,
    "pycharm": {
     "name": "#%%\n"
    }
   }
  },
  {
   "cell_type": "code",
   "execution_count": 4,
   "outputs": [
    {
     "data": {
      "text/plain": "[(numpy.datetime64('2019-12-25T00:00:00.000000000'),\n  numpy.datetime64('2019-12-26T00:00:00.000000000')),\n (numpy.datetime64('2019-12-26T00:00:00.000000000'),\n  numpy.datetime64('2019-12-27T00:00:00.000000000')),\n (numpy.datetime64('2019-12-27T00:00:00.000000000'),\n  numpy.datetime64('2019-12-28T00:00:00.000000000')),\n (numpy.datetime64('2019-12-28T00:00:00.000000000'),\n  numpy.datetime64('2019-12-29T00:00:00.000000000')),\n (numpy.datetime64('2019-12-29T00:00:00.000000000'),\n  numpy.datetime64('2019-12-30T00:00:00.000000000')),\n (numpy.datetime64('2019-12-30T00:00:00.000000000'),\n  numpy.datetime64('2019-12-31T00:00:00.000000000'))]"
     },
     "execution_count": 4,
     "metadata": {},
     "output_type": "execute_result"
    }
   ],
   "source": [
    "test_dates = list(pairwise(test_dates))\n",
    "test_dates"
   ],
   "metadata": {
    "collapsed": false,
    "pycharm": {
     "name": "#%%\n"
    }
   }
  },
  {
   "cell_type": "code",
   "execution_count": 5,
   "outputs": [],
   "source": [
    "split_dates = test_dates[0]"
   ],
   "metadata": {
    "collapsed": false,
    "pycharm": {
     "name": "#%%\n"
    }
   }
  },
  {
   "cell_type": "code",
   "execution_count": 6,
   "outputs": [],
   "source": [
    "train = df[df['start_date'] < split_dates[0]]"
   ],
   "metadata": {
    "collapsed": false,
    "pycharm": {
     "name": "#%%\n"
    }
   }
  },
  {
   "cell_type": "code",
   "execution_count": 7,
   "outputs": [],
   "source": [
    "test = df[(df['start_date'] >= split_dates[0]) & (df['start_date'] < split_dates[1])]"
   ],
   "metadata": {
    "collapsed": false,
    "pycharm": {
     "name": "#%%\n"
    }
   }
  },
  {
   "cell_type": "code",
   "execution_count": 8,
   "outputs": [],
   "source": [
    "test = test[(test['rating'] >= 4) | (test['rating'].isnull())]"
   ],
   "metadata": {
    "collapsed": false,
    "pycharm": {
     "name": "#%%\n"
    }
   }
  },
  {
   "cell_type": "code",
   "execution_count": 9,
   "outputs": [
    {
     "data": {
      "text/plain": "((numpy.datetime64('2019-12-25T00:00:00.000000000'),\n  numpy.datetime64('2019-12-26T00:00:00.000000000')),\n (1517994, 5),\n (2114, 5))"
     },
     "execution_count": 9,
     "metadata": {},
     "output_type": "execute_result"
    }
   ],
   "source": [
    "split_dates, train.shape, test.shape\n"
   ],
   "metadata": {
    "collapsed": false,
    "pycharm": {
     "name": "#%%\n"
    }
   }
  },
  {
   "cell_type": "markdown",
   "source": [
    "<a id=\"baselines\"></a>\n",
    "# Baselines\n",
    "\n",
    "Будем строить бейзлайн по популярному в зависимости от возраста пользователя"
   ],
   "metadata": {
    "collapsed": false,
    "pycharm": {
     "name": "#%% md\n"
    }
   }
  },
  {
   "cell_type": "code",
   "execution_count": 10,
   "outputs": [
    {
     "data": {
      "text/plain": "        user_id     age  sex\n0             1   45_54  NaN\n1             2   18_24  0.0\n2             3  65_inf  0.0\n3             4   18_24  0.0\n4             5   35_44  0.0\n...         ...     ...  ...\n142883   159606   25_34  0.0\n142884   159607   25_34  NaN\n142885   159609   18_24  0.0\n142886   159610   35_44  0.0\n142887   159611   35_44  0.0\n\n[142888 rows x 3 columns]",
      "text/html": "<div>\n<style scoped>\n    .dataframe tbody tr th:only-of-type {\n        vertical-align: middle;\n    }\n\n    .dataframe tbody tr th {\n        vertical-align: top;\n    }\n\n    .dataframe thead th {\n        text-align: right;\n    }\n</style>\n<table border=\"1\" class=\"dataframe\">\n  <thead>\n    <tr style=\"text-align: right;\">\n      <th></th>\n      <th>user_id</th>\n      <th>age</th>\n      <th>sex</th>\n    </tr>\n  </thead>\n  <tbody>\n    <tr>\n      <th>0</th>\n      <td>1</td>\n      <td>45_54</td>\n      <td>NaN</td>\n    </tr>\n    <tr>\n      <th>1</th>\n      <td>2</td>\n      <td>18_24</td>\n      <td>0.0</td>\n    </tr>\n    <tr>\n      <th>2</th>\n      <td>3</td>\n      <td>65_inf</td>\n      <td>0.0</td>\n    </tr>\n    <tr>\n      <th>3</th>\n      <td>4</td>\n      <td>18_24</td>\n      <td>0.0</td>\n    </tr>\n    <tr>\n      <th>4</th>\n      <td>5</td>\n      <td>35_44</td>\n      <td>0.0</td>\n    </tr>\n    <tr>\n      <th>...</th>\n      <td>...</td>\n      <td>...</td>\n      <td>...</td>\n    </tr>\n    <tr>\n      <th>142883</th>\n      <td>159606</td>\n      <td>25_34</td>\n      <td>0.0</td>\n    </tr>\n    <tr>\n      <th>142884</th>\n      <td>159607</td>\n      <td>25_34</td>\n      <td>NaN</td>\n    </tr>\n    <tr>\n      <th>142885</th>\n      <td>159609</td>\n      <td>18_24</td>\n      <td>0.0</td>\n    </tr>\n    <tr>\n      <th>142886</th>\n      <td>159610</td>\n      <td>35_44</td>\n      <td>0.0</td>\n    </tr>\n    <tr>\n      <th>142887</th>\n      <td>159611</td>\n      <td>35_44</td>\n      <td>0.0</td>\n    </tr>\n  </tbody>\n</table>\n<p>142888 rows × 3 columns</p>\n</div>"
     },
     "execution_count": 10,
     "metadata": {},
     "output_type": "execute_result"
    }
   ],
   "source": [
    "df_users"
   ],
   "metadata": {
    "collapsed": false,
    "pycharm": {
     "name": "#%%\n"
    }
   }
  },
  {
   "cell_type": "code",
   "execution_count": 11,
   "outputs": [
    {
     "data": {
      "text/plain": "   user_id  item_id  progress  rating start_date\n0   126706    14433        80     NaN 2018-01-01\n1   127290   140952        58     NaN 2018-01-01",
      "text/html": "<div>\n<style scoped>\n    .dataframe tbody tr th:only-of-type {\n        vertical-align: middle;\n    }\n\n    .dataframe tbody tr th {\n        vertical-align: top;\n    }\n\n    .dataframe thead th {\n        text-align: right;\n    }\n</style>\n<table border=\"1\" class=\"dataframe\">\n  <thead>\n    <tr style=\"text-align: right;\">\n      <th></th>\n      <th>user_id</th>\n      <th>item_id</th>\n      <th>progress</th>\n      <th>rating</th>\n      <th>start_date</th>\n    </tr>\n  </thead>\n  <tbody>\n    <tr>\n      <th>0</th>\n      <td>126706</td>\n      <td>14433</td>\n      <td>80</td>\n      <td>NaN</td>\n      <td>2018-01-01</td>\n    </tr>\n    <tr>\n      <th>1</th>\n      <td>127290</td>\n      <td>140952</td>\n      <td>58</td>\n      <td>NaN</td>\n      <td>2018-01-01</td>\n    </tr>\n  </tbody>\n</table>\n</div>"
     },
     "execution_count": 11,
     "metadata": {},
     "output_type": "execute_result"
    }
   ],
   "source": [
    "train.head(2)"
   ],
   "metadata": {
    "collapsed": false,
    "pycharm": {
     "name": "#%%\n"
    }
   }
  },
  {
   "cell_type": "code",
   "execution_count": 12,
   "outputs": [
    {
     "data": {
      "text/plain": "         user_id  item_id  progress  rating start_date\n1517914    38753   135245         0     NaN 2019-12-25\n1517915   101642   319500        67     5.0 2019-12-25",
      "text/html": "<div>\n<style scoped>\n    .dataframe tbody tr th:only-of-type {\n        vertical-align: middle;\n    }\n\n    .dataframe tbody tr th {\n        vertical-align: top;\n    }\n\n    .dataframe thead th {\n        text-align: right;\n    }\n</style>\n<table border=\"1\" class=\"dataframe\">\n  <thead>\n    <tr style=\"text-align: right;\">\n      <th></th>\n      <th>user_id</th>\n      <th>item_id</th>\n      <th>progress</th>\n      <th>rating</th>\n      <th>start_date</th>\n    </tr>\n  </thead>\n  <tbody>\n    <tr>\n      <th>1517914</th>\n      <td>38753</td>\n      <td>135245</td>\n      <td>0</td>\n      <td>NaN</td>\n      <td>2019-12-25</td>\n    </tr>\n    <tr>\n      <th>1517915</th>\n      <td>101642</td>\n      <td>319500</td>\n      <td>67</td>\n      <td>5.0</td>\n      <td>2019-12-25</td>\n    </tr>\n  </tbody>\n</table>\n</div>"
     },
     "execution_count": 12,
     "metadata": {},
     "output_type": "execute_result"
    }
   ],
   "source": [
    "test.head(2)"
   ],
   "metadata": {
    "collapsed": false,
    "pycharm": {
     "name": "#%%\n"
    }
   }
  },
  {
   "cell_type": "code",
   "execution_count": 12,
   "outputs": [],
   "source": [],
   "metadata": {
    "collapsed": false,
    "pycharm": {
     "name": "#%%\n"
    }
   }
  },
  {
   "cell_type": "code",
   "execution_count": 32,
   "outputs": [],
   "source": [
    "class PopularRecommender():\n",
    "    def __init__(self, max_K=100, days=30, item_column='item_id', dt_column='date' , df_u = df_users):\n",
    "        self.max_K = max_K\n",
    "        self.days = days\n",
    "        self.item_column = item_column\n",
    "        self.dt_column = dt_column\n",
    "        self.recommendations = []\n",
    "        self.min_date = None\n",
    "        self.df_u = df_u\n",
    "        self.df_res = None\n",
    "\n",
    "    def fit(self, df, ):\n",
    "        min_date = df[self.dt_column].max().normalize() - pd.DateOffset(days=self.days)\n",
    "        self.min_date = min_date\n",
    "        self.recommendations = df.loc[df[self.dt_column] > min_date, self.item_column].value_counts().head(self.max_K).index.values\n",
    "\n",
    "    def super_fit(self, df, ):\n",
    "        min_date = df[self.dt_column].max().normalize() - pd.DateOffset(days=self.days)\n",
    "        self.min_date = min_date\n",
    "        self.df_res = df.loc[df[self.dt_column] > min_date, self.item_column]\n",
    "        self.recommendations = df.loc[df[self.dt_column] > min_date, self.item_column].value_counts().head(self.max_K).index.values\n",
    "\n",
    "\n",
    "    def recommend(self, users=None, N=10):\n",
    "        recs = self.recommendations[:N]\n",
    "        if users is None:\n",
    "            return recs\n",
    "        else:\n",
    "            return list(islice(cycle([recs]), len(users)))"
   ],
   "metadata": {
    "collapsed": false,
    "pycharm": {
     "name": "#%%\n"
    }
   }
  },
  {
   "cell_type": "code",
   "execution_count": 33,
   "outputs": [],
   "source": [
    "pop_model = PopularRecommender(days=77, dt_column='start_date')"
   ],
   "metadata": {
    "collapsed": false,
    "pycharm": {
     "name": "#%%\n"
    }
   }
  },
  {
   "cell_type": "code",
   "execution_count": 27,
   "outputs": [
    {
     "data": {
      "text/plain": "{'max_K': 100,\n 'days': 77,\n 'item_column': 'item_id',\n 'dt_column': 'start_date',\n 'recommendations': [],\n 'min_date': None,\n 'df_u':         user_id     age  sex\n 0             1   45_54  NaN\n 1             2   18_24  0.0\n 2             3  65_inf  0.0\n 3             4   18_24  0.0\n 4             5   35_44  0.0\n ...         ...     ...  ...\n 142883   159606   25_34  0.0\n 142884   159607   25_34  NaN\n 142885   159609   18_24  0.0\n 142886   159610   35_44  0.0\n 142887   159611   35_44  0.0\n \n [142888 rows x 3 columns]}"
     },
     "execution_count": 27,
     "metadata": {},
     "output_type": "execute_result"
    }
   ],
   "source": [
    "vars(pop_model)"
   ],
   "metadata": {
    "collapsed": false,
    "pycharm": {
     "name": "#%%\n"
    }
   }
  },
  {
   "cell_type": "code",
   "execution_count": 34,
   "outputs": [],
   "source": [
    "pop_model.super_fit(train)"
   ],
   "metadata": {
    "collapsed": false,
    "pycharm": {
     "name": "#%%\n"
    }
   }
  },
  {
   "cell_type": "code",
   "execution_count": null,
   "outputs": [],
   "source": [],
   "metadata": {
    "collapsed": false,
    "pycharm": {
     "name": "#%%\n"
    }
   }
  },
  {
   "cell_type": "code",
   "execution_count": 35,
   "outputs": [
    {
     "data": {
      "text/plain": "{'max_K': 100,\n 'days': 77,\n 'item_column': 'item_id',\n 'dt_column': 'start_date',\n 'recommendations': array([109201, 230067, 235407,  35265, 155266, 237760, 291806, 151190,\n        270415, 285394, 218025, 115190, 147734, 282647, 208935, 271846,\n         74650, 281005, 168037, 135032, 168900, 219099, 288531,  75579,\n        226196,  96052,   9197, 169853, 312940, 103077,  99616,  63978,\n          6136, 311394,  86588,  43622, 295007, 110811, 104010, 176898,\n        210979,  48510, 107522,  55913,  67643, 181955,  30772, 141961,\n        233762, 126581, 247959,  93249, 238200,  39878, 276498, 238856,\n        303990,  86123,   5001,   8875,  31454, 241026,  28889, 209326,\n        265984,  26963, 231923, 211217, 243711, 121687,  90674, 108759,\n        232317, 163618, 251856,  11424, 233644,  58803, 240571,  49352,\n        231257,  12301, 297013, 145016,  65912,  99357, 181857, 226128,\n         81827,  35226, 121544, 206185, 312792,  90225,  34363, 223806,\n        222102, 250772,  25173, 229749], dtype=int64),\n 'min_date': Timestamp('2019-10-08 00:00:00'),\n 'df_u':         user_id     age  sex\n 0             1   45_54  NaN\n 1             2   18_24  0.0\n 2             3  65_inf  0.0\n 3             4   18_24  0.0\n 4             5   35_44  0.0\n ...         ...     ...  ...\n 142883   159606   25_34  0.0\n 142884   159607   25_34  NaN\n 142885   159609   18_24  0.0\n 142886   159610   35_44  0.0\n 142887   159611   35_44  0.0\n \n [142888 rows x 3 columns],\n 'df_res': 1355528    158123\n 1355529    160933\n 1355530     63496\n 1355531    198094\n 1355532    299722\n             ...  \n 1517910     99669\n 1517911    142149\n 1517912    174535\n 1517913     55913\n 1532924    233762\n Name: item_id, Length: 162387, dtype: int64}"
     },
     "execution_count": 35,
     "metadata": {},
     "output_type": "execute_result"
    }
   ],
   "source": [
    "vars(pop_model)"
   ],
   "metadata": {
    "collapsed": false,
    "pycharm": {
     "name": "#%%\n"
    }
   }
  },
  {
   "cell_type": "code",
   "execution_count": 41,
   "outputs": [
    {
     "data": {
      "text/plain": "array([109201, 230067, 235407,  35265, 155266, 237760, 291806, 151190,\n       270415, 285394], dtype=int64)"
     },
     "execution_count": 41,
     "metadata": {},
     "output_type": "execute_result"
    }
   ],
   "source": [
    "pop_model.df_res.value_counts().head(10).index.values"
   ],
   "metadata": {
    "collapsed": false,
    "pycharm": {
     "name": "#%%\n"
    }
   }
  },
  {
   "cell_type": "code",
   "execution_count": null,
   "outputs": [],
   "source": [],
   "metadata": {
    "collapsed": false,
    "pycharm": {
     "name": "#%%\n"
    }
   }
  },
  {
   "cell_type": "code",
   "execution_count": null,
   "outputs": [],
   "source": [],
   "metadata": {
    "collapsed": false,
    "pycharm": {
     "name": "#%%\n"
    }
   }
  },
  {
   "cell_type": "code",
   "execution_count": null,
   "outputs": [],
   "source": [
    "dt_column = 'start_date'\n",
    "item_column = 'item_id'\n",
    "df.loc[df[dt_column] > min_date, item_column]"
   ],
   "metadata": {
    "collapsed": false,
    "pycharm": {
     "name": "#%%\n"
    }
   }
  },
  {
   "cell_type": "code",
   "execution_count": null,
   "outputs": [],
   "source": [],
   "metadata": {
    "collapsed": false,
    "pycharm": {
     "name": "#%%\n"
    }
   }
  },
  {
   "cell_type": "code",
   "execution_count": null,
   "outputs": [],
   "source": [],
   "metadata": {
    "collapsed": false,
    "pycharm": {
     "name": "#%%\n"
    }
   }
  },
  {
   "cell_type": "code",
   "execution_count": 21,
   "outputs": [
    {
     "data": {
      "text/plain": "   user_id  item_id  progress  rating start_date\n0   126706    14433        80     NaN 2018-01-01\n1   127290   140952        58     NaN 2018-01-01",
      "text/html": "<div>\n<style scoped>\n    .dataframe tbody tr th:only-of-type {\n        vertical-align: middle;\n    }\n\n    .dataframe tbody tr th {\n        vertical-align: top;\n    }\n\n    .dataframe thead th {\n        text-align: right;\n    }\n</style>\n<table border=\"1\" class=\"dataframe\">\n  <thead>\n    <tr style=\"text-align: right;\">\n      <th></th>\n      <th>user_id</th>\n      <th>item_id</th>\n      <th>progress</th>\n      <th>rating</th>\n      <th>start_date</th>\n    </tr>\n  </thead>\n  <tbody>\n    <tr>\n      <th>0</th>\n      <td>126706</td>\n      <td>14433</td>\n      <td>80</td>\n      <td>NaN</td>\n      <td>2018-01-01</td>\n    </tr>\n    <tr>\n      <th>1</th>\n      <td>127290</td>\n      <td>140952</td>\n      <td>58</td>\n      <td>NaN</td>\n      <td>2018-01-01</td>\n    </tr>\n  </tbody>\n</table>\n</div>"
     },
     "execution_count": 21,
     "metadata": {},
     "output_type": "execute_result"
    }
   ],
   "source": [
    "train.head(2)"
   ],
   "metadata": {
    "collapsed": false,
    "pycharm": {
     "name": "#%%\n"
    }
   }
  },
  {
   "cell_type": "code",
   "execution_count": null,
   "outputs": [],
   "source": [],
   "metadata": {
    "collapsed": false,
    "pycharm": {
     "name": "#%%\n"
    }
   }
  },
  {
   "cell_type": "code",
   "execution_count": 31,
   "outputs": [],
   "source": [],
   "metadata": {
    "collapsed": false,
    "pycharm": {
     "name": "#%%\n"
    }
   }
  },
  {
   "cell_type": "code",
   "execution_count": null,
   "outputs": [],
   "source": [],
   "metadata": {
    "collapsed": false,
    "pycharm": {
     "name": "#%%\n"
    }
   }
  },
  {
   "cell_type": "code",
   "execution_count": null,
   "outputs": [],
   "source": [],
   "metadata": {
    "collapsed": false,
    "pycharm": {
     "name": "#%%\n"
    }
   }
  },
  {
   "cell_type": "code",
   "execution_count": 23,
   "outputs": [
    {
     "data": {
      "text/plain": "{'max_K': 100,\n 'days': 77,\n 'item_column': 'item_id',\n 'dt_column': 'start_date',\n 'recommendations': array([109201, 230067, 235407,  35265, 155266, 237760, 291806, 151190,\n        270415, 285394, 218025, 115190, 147734, 282647, 208935, 271846,\n         74650, 281005, 168037, 135032, 168900, 219099, 288531,  75579,\n        226196,  96052,   9197, 169853, 312940, 103077,  99616,  63978,\n          6136, 311394,  86588,  43622, 295007, 110811, 104010, 176898,\n        210979,  48510, 107522,  55913,  67643, 181955,  30772, 141961,\n        233762, 126581, 247959,  93249, 238200,  39878, 276498, 238856,\n        303990,  86123,   5001,   8875,  31454, 241026,  28889, 209326,\n        265984,  26963, 231923, 211217, 243711, 121687,  90674, 108759,\n        232317, 163618, 251856,  11424, 233644,  58803, 240571,  49352,\n        231257,  12301, 297013, 145016,  65912,  99357, 181857, 226128,\n         81827,  35226, 121544, 206185, 312792,  90225,  34363, 223806,\n        222102, 250772,  25173, 229749], dtype=int64),\n 'min_date': Timestamp('2019-10-08 00:00:00')}"
     },
     "execution_count": 23,
     "metadata": {},
     "output_type": "execute_result"
    }
   ],
   "source": [
    "vars(pop_model)"
   ],
   "metadata": {
    "collapsed": false,
    "pycharm": {
     "name": "#%%\n"
    }
   }
  },
  {
   "cell_type": "code",
   "execution_count": 24,
   "outputs": [
    {
     "data": {
      "text/plain": "        user_id     age  sex\n0             1   45_54  NaN\n1             2   18_24  0.0\n2             3  65_inf  0.0\n3             4   18_24  0.0\n4             5   35_44  0.0\n...         ...     ...  ...\n142883   159606   25_34  0.0\n142884   159607   25_34  NaN\n142885   159609   18_24  0.0\n142886   159610   35_44  0.0\n142887   159611   35_44  0.0\n\n[142888 rows x 3 columns]",
      "text/html": "<div>\n<style scoped>\n    .dataframe tbody tr th:only-of-type {\n        vertical-align: middle;\n    }\n\n    .dataframe tbody tr th {\n        vertical-align: top;\n    }\n\n    .dataframe thead th {\n        text-align: right;\n    }\n</style>\n<table border=\"1\" class=\"dataframe\">\n  <thead>\n    <tr style=\"text-align: right;\">\n      <th></th>\n      <th>user_id</th>\n      <th>age</th>\n      <th>sex</th>\n    </tr>\n  </thead>\n  <tbody>\n    <tr>\n      <th>0</th>\n      <td>1</td>\n      <td>45_54</td>\n      <td>NaN</td>\n    </tr>\n    <tr>\n      <th>1</th>\n      <td>2</td>\n      <td>18_24</td>\n      <td>0.0</td>\n    </tr>\n    <tr>\n      <th>2</th>\n      <td>3</td>\n      <td>65_inf</td>\n      <td>0.0</td>\n    </tr>\n    <tr>\n      <th>3</th>\n      <td>4</td>\n      <td>18_24</td>\n      <td>0.0</td>\n    </tr>\n    <tr>\n      <th>4</th>\n      <td>5</td>\n      <td>35_44</td>\n      <td>0.0</td>\n    </tr>\n    <tr>\n      <th>...</th>\n      <td>...</td>\n      <td>...</td>\n      <td>...</td>\n    </tr>\n    <tr>\n      <th>142883</th>\n      <td>159606</td>\n      <td>25_34</td>\n      <td>0.0</td>\n    </tr>\n    <tr>\n      <th>142884</th>\n      <td>159607</td>\n      <td>25_34</td>\n      <td>NaN</td>\n    </tr>\n    <tr>\n      <th>142885</th>\n      <td>159609</td>\n      <td>18_24</td>\n      <td>0.0</td>\n    </tr>\n    <tr>\n      <th>142886</th>\n      <td>159610</td>\n      <td>35_44</td>\n      <td>0.0</td>\n    </tr>\n    <tr>\n      <th>142887</th>\n      <td>159611</td>\n      <td>35_44</td>\n      <td>0.0</td>\n    </tr>\n  </tbody>\n</table>\n<p>142888 rows × 3 columns</p>\n</div>"
     },
     "execution_count": 24,
     "metadata": {},
     "output_type": "execute_result"
    }
   ],
   "source": [
    "df_users"
   ],
   "metadata": {
    "collapsed": false,
    "pycharm": {
     "name": "#%%\n"
    }
   }
  },
  {
   "cell_type": "code",
   "execution_count": null,
   "outputs": [],
   "source": [],
   "metadata": {
    "collapsed": false,
    "pycharm": {
     "name": "#%%\n"
    }
   }
  },
  {
   "cell_type": "code",
   "execution_count": null,
   "outputs": [],
   "source": [],
   "metadata": {
    "collapsed": false,
    "pycharm": {
     "name": "#%%\n"
    }
   }
  },
  {
   "cell_type": "code",
   "execution_count": null,
   "outputs": [],
   "source": [],
   "metadata": {
    "collapsed": false,
    "pycharm": {
     "name": "#%%\n"
    }
   }
  },
  {
   "cell_type": "code",
   "execution_count": null,
   "outputs": [],
   "source": [
    "pop_model.recommendations"
   ],
   "metadata": {
    "collapsed": false,
    "pycharm": {
     "name": "#%%\n"
    }
   }
  },
  {
   "cell_type": "code",
   "execution_count": null,
   "outputs": [],
   "source": [
    "pop_model.days"
   ],
   "metadata": {
    "collapsed": false,
    "pycharm": {
     "name": "#%%\n"
    }
   }
  },
  {
   "cell_type": "code",
   "execution_count": null,
   "outputs": [],
   "source": [],
   "metadata": {
    "collapsed": false,
    "pycharm": {
     "name": "#%%\n"
    }
   }
  },
  {
   "cell_type": "code",
   "execution_count": null,
   "outputs": [],
   "source": [
    "item_titles = dict(zip(df_items.id,df_items.title))"
   ],
   "metadata": {
    "collapsed": false,
    "pycharm": {
     "name": "#%%\n"
    }
   }
  },
  {
   "cell_type": "code",
   "execution_count": null,
   "outputs": [],
   "source": [
    "item_titles[128115]"
   ],
   "metadata": {
    "collapsed": false,
    "pycharm": {
     "name": "#%%\n"
    }
   }
  },
  {
   "cell_type": "code",
   "execution_count": null,
   "outputs": [],
   "source": [
    "print(item_titles.get(128115))"
   ],
   "metadata": {
    "collapsed": false,
    "pycharm": {
     "name": "#%%\n"
    }
   }
  },
  {
   "cell_type": "code",
   "execution_count": null,
   "outputs": [],
   "source": [],
   "metadata": {
    "collapsed": false,
    "pycharm": {
     "name": "#%%\n"
    }
   }
  },
  {
   "cell_type": "code",
   "execution_count": null,
   "outputs": [],
   "source": [
    "top10_recs = pop_model.recommend()\n",
    "top10_recs"
   ],
   "metadata": {
    "collapsed": false,
    "pycharm": {
     "name": "#%%\n"
    }
   }
  },
  {
   "cell_type": "code",
   "execution_count": null,
   "outputs": [],
   "source": [
    "map(item_titles.get, top10_recs)"
   ],
   "metadata": {
    "collapsed": false,
    "pycharm": {
     "name": "#%%\n"
    }
   }
  },
  {
   "cell_type": "code",
   "execution_count": null,
   "outputs": [],
   "source": [],
   "metadata": {
    "collapsed": false,
    "pycharm": {
     "name": "#%%\n"
    }
   }
  },
  {
   "cell_type": "code",
   "execution_count": null,
   "outputs": [],
   "source": [
    "list(map(item_titles.get, top10_recs))"
   ],
   "metadata": {
    "collapsed": false,
    "pycharm": {
     "name": "#%%\n"
    }
   }
  },
  {
   "cell_type": "code",
   "execution_count": null,
   "outputs": [],
   "source": [
    "# create datframe with user_id fo recs\n",
    "recs = pd.DataFrame({'user_id': test['user_id'].unique()})\n"
   ],
   "metadata": {
    "collapsed": false,
    "pycharm": {
     "name": "#%%\n"
    }
   }
  },
  {
   "cell_type": "code",
   "execution_count": null,
   "outputs": [],
   "source": [
    "recs.head(2)"
   ],
   "metadata": {
    "collapsed": false,
    "pycharm": {
     "name": "#%%\n"
    }
   }
  },
  {
   "cell_type": "code",
   "execution_count": null,
   "outputs": [],
   "source": [
    "\n",
    "top_N = 10\n",
    "recs['item_id'] = pop_model.recommend(recs['user_id'], N=top_N)\n",
    "recs.head()"
   ],
   "metadata": {
    "collapsed": false,
    "pycharm": {
     "name": "#%%\n"
    }
   }
  },
  {
   "cell_type": "code",
   "execution_count": null,
   "outputs": [],
   "source": [
    "recs = recs.explode('item_id')\n",
    "recs.head(top_N + 2)"
   ],
   "metadata": {
    "collapsed": false,
    "pycharm": {
     "name": "#%%\n"
    }
   }
  },
  {
   "cell_type": "code",
   "execution_count": null,
   "outputs": [],
   "source": [
    "recs['rank'] = recs.groupby('user_id').cumcount() + 1\n",
    "recs.head(top_N + 2)"
   ],
   "metadata": {
    "collapsed": false,
    "pycharm": {
     "name": "#%%\n"
    }
   }
  },
  {
   "cell_type": "code",
   "execution_count": null,
   "outputs": [],
   "source": [
    "recs.rename(columns={'rank':'predict_rank'} , inplace = True)"
   ],
   "metadata": {
    "collapsed": false,
    "pycharm": {
     "name": "#%%\n"
    }
   }
  },
  {
   "cell_type": "code",
   "execution_count": null,
   "outputs": [],
   "source": [
    "recs.head(2)"
   ],
   "metadata": {
    "collapsed": false,
    "pycharm": {
     "name": "#%%\n"
    }
   }
  },
  {
   "cell_type": "code",
   "execution_count": null,
   "outputs": [],
   "source": [
    "test.head(2)"
   ],
   "metadata": {
    "collapsed": false,
    "pycharm": {
     "name": "#%%\n"
    }
   }
  },
  {
   "cell_type": "code",
   "execution_count": null,
   "outputs": [],
   "source": [
    "\n",
    "test_recs = test.merge(recs, how = 'left' , on = ['user_id','item_id'])"
   ],
   "metadata": {
    "collapsed": false,
    "pycharm": {
     "name": "#%%\n"
    }
   }
  },
  {
   "cell_type": "code",
   "execution_count": null,
   "outputs": [],
   "source": [
    "test_recs.head(2)"
   ],
   "metadata": {
    "collapsed": false,
    "pycharm": {
     "name": "#%%\n"
    }
   }
  },
  {
   "cell_type": "code",
   "execution_count": null,
   "outputs": [],
   "source": [
    "test_recs['users_item_count'] = test_recs.groupby(level='user_id', sort=False)['predict_rank'].transform(np.size)"
   ],
   "metadata": {
    "collapsed": false,
    "pycharm": {
     "name": "#%%\n"
    }
   }
  },
  {
   "cell_type": "code",
   "execution_count": null,
   "outputs": [],
   "source": [
    "uic = test_recs.groupby('user_id').agg({'item_id':'count'}).reset_index().rename(columns = {'item_id':'users_item_count'})"
   ],
   "metadata": {
    "collapsed": false,
    "pycharm": {
     "name": "#%%\n"
    }
   }
  },
  {
   "cell_type": "code",
   "execution_count": null,
   "outputs": [],
   "source": [
    "test_recs = test_recs.merge(uic , how = 'left' , on = 'user_id')"
   ],
   "metadata": {
    "collapsed": false,
    "pycharm": {
     "name": "#%%\n"
    }
   }
  },
  {
   "cell_type": "code",
   "execution_count": null,
   "outputs": [],
   "source": [
    "test_recs['pred_reciprocal_rank'] = 1 / test_recs['predict_rank']\n",
    "test_recs['pred_reciprocal_rank'] = test_recs['pred_reciprocal_rank'].fillna(0)"
   ],
   "metadata": {
    "collapsed": false,
    "pycharm": {
     "name": "#%%\n"
    }
   }
  },
  {
   "cell_type": "code",
   "execution_count": null,
   "outputs": [],
   "source": [
    "test_recs.head(2)"
   ],
   "metadata": {
    "collapsed": false,
    "pycharm": {
     "name": "#%%\n"
    }
   }
  },
  {
   "cell_type": "code",
   "execution_count": null,
   "outputs": [],
   "source": [
    "test_recs = test_recs.sort_values(by=['user_id', 'predict_rank'])\n",
    "\n"
   ],
   "metadata": {
    "collapsed": false,
    "pycharm": {
     "name": "#%%\n"
    }
   }
  },
  {
   "cell_type": "code",
   "execution_count": null,
   "outputs": [],
   "source": [
    "test_recs['cumulative_rank'] = test_recs.groupby('user_id').cumcount() + 1"
   ],
   "metadata": {
    "collapsed": false,
    "pycharm": {
     "name": "#%%\n"
    }
   }
  },
  {
   "cell_type": "code",
   "execution_count": null,
   "outputs": [],
   "source": [
    "test_recs"
   ],
   "metadata": {
    "collapsed": false,
    "pycharm": {
     "name": "#%%\n"
    }
   }
  },
  {
   "cell_type": "code",
   "execution_count": null,
   "outputs": [],
   "source": [
    "test_recs['cumulative_rank'] = test_recs['cumulative_rank'] / test_recs['predict_rank']"
   ],
   "metadata": {
    "collapsed": false,
    "pycharm": {
     "name": "#%%\n"
    }
   }
  },
  {
   "cell_type": "code",
   "execution_count": null,
   "outputs": [],
   "source": [
    "test_recs.head(2)"
   ],
   "metadata": {
    "collapsed": false,
    "pycharm": {
     "name": "#%%\n"
    }
   }
  },
  {
   "cell_type": "code",
   "execution_count": null,
   "outputs": [],
   "source": [
    "test_recs[test_recs['predict_rank'].notnull()]"
   ],
   "metadata": {
    "collapsed": false,
    "pycharm": {
     "name": "#%%\n"
    }
   }
  },
  {
   "cell_type": "code",
   "execution_count": null,
   "outputs": [],
   "source": [
    "print(f'Метрик по test ({str(split_dates[0])[:10]}, {str(split_dates[1])[:10]})')"
   ],
   "metadata": {
    "collapsed": false,
    "pycharm": {
     "name": "#%%\n"
    }
   }
  },
  {
   "cell_type": "code",
   "execution_count": null,
   "outputs": [],
   "source": [
    "users_count = test_recs['user_id'].nunique()"
   ],
   "metadata": {
    "collapsed": false,
    "pycharm": {
     "name": "#%%\n"
    }
   }
  },
  {
   "cell_type": "code",
   "execution_count": null,
   "outputs": [],
   "source": [
    "users_count"
   ],
   "metadata": {
    "collapsed": false,
    "pycharm": {
     "name": "#%%\n"
    }
   }
  },
  {
   "cell_type": "code",
   "execution_count": null,
   "outputs": [],
   "source": [
    "for k in range(1, top_N + 1):\n",
    "    hit_k = f'hit@{k}'\n",
    "    test_recs[hit_k] = test_recs['predict_rank'] <= k\n",
    "    print(f'Precision@{k} = {(test_recs[hit_k] / k).sum() / users_count:.4f}')\n",
    "    print(f\"Recall@{k} = {(test_recs[hit_k] / test_recs['users_item_count']).sum() / users_count:.4f}\")"
   ],
   "metadata": {
    "collapsed": false,
    "pycharm": {
     "name": "#%%\n"
    }
   }
  },
  {
   "cell_type": "code",
   "execution_count": null,
   "outputs": [],
   "source": [
    "mapN = (test_recs[\"cumulative_rank\"] / test_recs[\"users_item_count\"]).sum() / users_count\n",
    "print(f\"MAP@{top_N} = {mapN}\")"
   ],
   "metadata": {
    "collapsed": false,
    "pycharm": {
     "name": "#%%\n"
    }
   }
  },
  {
   "cell_type": "code",
   "execution_count": null,
   "outputs": [],
   "source": [
    "mrr = test_recs.groupby('user_id').agg({'pred_reciprocal_rank':'max'}).reset_index()['pred_reciprocal_rank'].mean()\n",
    "print(f\"MRR = {mrr}\")"
   ],
   "metadata": {
    "collapsed": false,
    "pycharm": {
     "name": "#%%\n"
    }
   }
  }
 ],
 "metadata": {
  "kernelspec": {
   "display_name": "Python 3",
   "language": "python",
   "name": "python3"
  },
  "language_info": {
   "codemirror_mode": {
    "name": "ipython",
    "version": 3
   },
   "file_extension": ".py",
   "mimetype": "text/x-python",
   "name": "python",
   "nbconvert_exporter": "python",
   "pygments_lexer": "ipython3",
   "version": "3.7.6"
  },
  "papermill": {
   "duration": 20.654014,
   "end_time": "2020-10-25T07:01:41.028757",
   "environment_variables": {},
   "exception": null,
   "input_path": "__notebook__.ipynb",
   "output_path": "__notebook__.ipynb",
   "parameters": {},
   "start_time": "2020-10-25T07:01:20.374743",
   "version": "2.1.0"
  }
 },
 "nbformat": 4,
 "nbformat_minor": 4
}
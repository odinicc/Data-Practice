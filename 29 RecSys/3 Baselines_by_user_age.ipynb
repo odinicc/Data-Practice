{
 "cells": [
  {
   "cell_type": "markdown",
   "metadata": {
    "papermill": {
     "duration": 0.043203,
     "end_time": "2020-10-25T07:01:24.222229",
     "exception": false,
     "start_time": "2020-10-25T07:01:24.179026",
     "status": "completed"
    },
    "tags": [],
    "pycharm": {
     "name": "#%% md\n"
    }
   },
   "source": [
    "# Metrics, validation strategies and baselines\n",
    "\n",
    "В данном jupyter notebook рассматриваются примеры того, какие схемы валидации и метрики используются в рекомендательных системах.\n",
    "Также построим простые модели (бейзлайны) на данных МТС Библиотеки. \n",
    "\n",
    "* [Preprocessing](#preprocessing)\n",
    "* [General remarks](#general-remarks)\n",
    "* [Metrics](#metrics)\n",
    "    * [Regression](#regression)\n",
    "    * [Classification](#classification)\n",
    "    * [Ranking](#ranking)\n",
    "* [Validation strategies](#validation)\n",
    "* [Baselines](#baselines)"
   ]
  },
  {
   "cell_type": "code",
   "execution_count": 3,
   "metadata": {
    "_cell_guid": "b1076dfc-b9ad-4769-8c92-a6c4dae69d19",
    "_kg_hide-input": true,
    "_uuid": "8f2839f25d086af736a60e9eeb907d3b93b6e0e5",
    "execution": {
     "iopub.execute_input": "2020-10-25T07:01:24.311769Z",
     "iopub.status.busy": "2020-10-25T07:01:24.311271Z",
     "iopub.status.idle": "2020-10-25T07:01:24.329979Z",
     "shell.execute_reply": "2020-10-25T07:01:24.329585Z"
    },
    "papermill": {
     "duration": 0.066139,
     "end_time": "2020-10-25T07:01:24.330062",
     "exception": false,
     "start_time": "2020-10-25T07:01:24.263923",
     "status": "completed"
    },
    "tags": [],
    "pycharm": {
     "name": "#%%\n"
    }
   },
   "outputs": [],
   "source": [
    "import os\n",
    "import numpy as np \n",
    "import pandas as pd \n",
    "from itertools import islice, cycle\n",
    "from more_itertools import pairwise\n",
    "\n"
   ]
  },
  {
   "cell_type": "code",
   "execution_count": 4,
   "outputs": [],
   "source": [
    "import math\n",
    "\n",
    "def is_nan(value):\n",
    "    return math.isnan(float(value))\n",
    "\n",
    "def isNaN(string):\n",
    "    return string != string"
   ],
   "metadata": {
    "collapsed": false,
    "pycharm": {
     "name": "#%%\n"
    }
   }
  },
  {
   "cell_type": "markdown",
   "metadata": {
    "papermill": {
     "duration": 0.041416,
     "end_time": "2020-10-25T07:01:24.414765",
     "exception": false,
     "start_time": "2020-10-25T07:01:24.373349",
     "status": "completed"
    },
    "tags": [],
    "pycharm": {
     "name": "#%% md\n"
    }
   },
   "source": [
    "<a id=\"preprocessing\"></a>\n",
    "# Preprocessing\n",
    "\n",
    "Загрузим наши данные, теперь уже с фичами, и применим знания из [pandas-scipy-for-recsys](https://www.kaggle.com/sharthz23/pandas-scipy-for-recsys)"
   ]
  },
  {
   "cell_type": "code",
   "execution_count": 5,
   "metadata": {
    "execution": {
     "iopub.execute_input": "2020-10-25T07:01:24.502698Z",
     "iopub.status.busy": "2020-10-25T07:01:24.502203Z",
     "iopub.status.idle": "2020-10-25T07:01:26.303449Z",
     "shell.execute_reply": "2020-10-25T07:01:26.302965Z"
    },
    "papermill": {
     "duration": 1.846902,
     "end_time": "2020-10-25T07:01:26.303534",
     "exception": false,
     "start_time": "2020-10-25T07:01:24.456632",
     "status": "completed"
    },
    "tags": [],
    "pycharm": {
     "name": "#%%\n"
    }
   },
   "outputs": [],
   "source": [
    "df = pd.read_pickle('./interactions_preprocessed.pickle')\n",
    "df_users = pd.read_pickle('./users_preprocessed.pickle')\n",
    "df_items = pd.read_pickle('./items_preprocessed.pickle')"
   ]
  },
  {
   "cell_type": "code",
   "execution_count": 6,
   "outputs": [],
   "source": [
    "test_dates = df['start_date'].unique()[-7:]\n",
    "\n"
   ],
   "metadata": {
    "collapsed": false,
    "pycharm": {
     "name": "#%%\n"
    }
   }
  },
  {
   "cell_type": "code",
   "execution_count": 7,
   "outputs": [
    {
     "data": {
      "text/plain": "[(numpy.datetime64('2019-12-25T00:00:00.000000000'),\n  numpy.datetime64('2019-12-26T00:00:00.000000000')),\n (numpy.datetime64('2019-12-26T00:00:00.000000000'),\n  numpy.datetime64('2019-12-27T00:00:00.000000000')),\n (numpy.datetime64('2019-12-27T00:00:00.000000000'),\n  numpy.datetime64('2019-12-28T00:00:00.000000000')),\n (numpy.datetime64('2019-12-28T00:00:00.000000000'),\n  numpy.datetime64('2019-12-29T00:00:00.000000000')),\n (numpy.datetime64('2019-12-29T00:00:00.000000000'),\n  numpy.datetime64('2019-12-30T00:00:00.000000000')),\n (numpy.datetime64('2019-12-30T00:00:00.000000000'),\n  numpy.datetime64('2019-12-31T00:00:00.000000000'))]"
     },
     "execution_count": 7,
     "metadata": {},
     "output_type": "execute_result"
    }
   ],
   "source": [
    "test_dates = list(pairwise(test_dates))\n",
    "test_dates"
   ],
   "metadata": {
    "collapsed": false,
    "pycharm": {
     "name": "#%%\n"
    }
   }
  },
  {
   "cell_type": "code",
   "execution_count": 8,
   "outputs": [],
   "source": [
    "split_dates = test_dates[0]"
   ],
   "metadata": {
    "collapsed": false,
    "pycharm": {
     "name": "#%%\n"
    }
   }
  },
  {
   "cell_type": "code",
   "execution_count": 9,
   "outputs": [],
   "source": [
    "train = df[df['start_date'] < split_dates[0]]"
   ],
   "metadata": {
    "collapsed": false,
    "pycharm": {
     "name": "#%%\n"
    }
   }
  },
  {
   "cell_type": "code",
   "execution_count": 10,
   "outputs": [],
   "source": [
    "test = df[(df['start_date'] >= split_dates[0]) & (df['start_date'] < split_dates[1])]"
   ],
   "metadata": {
    "collapsed": false,
    "pycharm": {
     "name": "#%%\n"
    }
   }
  },
  {
   "cell_type": "code",
   "execution_count": 11,
   "outputs": [],
   "source": [
    "test = test[(test['rating'] >= 4) | (test['rating'].isnull())]"
   ],
   "metadata": {
    "collapsed": false,
    "pycharm": {
     "name": "#%%\n"
    }
   }
  },
  {
   "cell_type": "code",
   "execution_count": 12,
   "outputs": [
    {
     "data": {
      "text/plain": "((numpy.datetime64('2019-12-25T00:00:00.000000000'),\n  numpy.datetime64('2019-12-26T00:00:00.000000000')),\n (1517994, 5),\n (2114, 5))"
     },
     "execution_count": 12,
     "metadata": {},
     "output_type": "execute_result"
    }
   ],
   "source": [
    "split_dates, train.shape, test.shape\n"
   ],
   "metadata": {
    "collapsed": false,
    "pycharm": {
     "name": "#%%\n"
    }
   }
  },
  {
   "cell_type": "markdown",
   "source": [
    "<a id=\"baselines\"></a>\n",
    "# Baselines\n",
    "\n",
    "Будем строить бейзлайн по популярному в зависимости от возраста пользователя"
   ],
   "metadata": {
    "collapsed": false,
    "pycharm": {
     "name": "#%% md\n"
    }
   }
  },
  {
   "cell_type": "code",
   "execution_count": 13,
   "outputs": [
    {
     "data": {
      "text/plain": "        user_id     age  sex\n0             1   45_54  NaN\n1             2   18_24  0.0\n2             3  65_inf  0.0\n3             4   18_24  0.0\n4             5   35_44  0.0\n...         ...     ...  ...\n142883   159606   25_34  0.0\n142884   159607   25_34  NaN\n142885   159609   18_24  0.0\n142886   159610   35_44  0.0\n142887   159611   35_44  0.0\n\n[142888 rows x 3 columns]",
      "text/html": "<div>\n<style scoped>\n    .dataframe tbody tr th:only-of-type {\n        vertical-align: middle;\n    }\n\n    .dataframe tbody tr th {\n        vertical-align: top;\n    }\n\n    .dataframe thead th {\n        text-align: right;\n    }\n</style>\n<table border=\"1\" class=\"dataframe\">\n  <thead>\n    <tr style=\"text-align: right;\">\n      <th></th>\n      <th>user_id</th>\n      <th>age</th>\n      <th>sex</th>\n    </tr>\n  </thead>\n  <tbody>\n    <tr>\n      <th>0</th>\n      <td>1</td>\n      <td>45_54</td>\n      <td>NaN</td>\n    </tr>\n    <tr>\n      <th>1</th>\n      <td>2</td>\n      <td>18_24</td>\n      <td>0.0</td>\n    </tr>\n    <tr>\n      <th>2</th>\n      <td>3</td>\n      <td>65_inf</td>\n      <td>0.0</td>\n    </tr>\n    <tr>\n      <th>3</th>\n      <td>4</td>\n      <td>18_24</td>\n      <td>0.0</td>\n    </tr>\n    <tr>\n      <th>4</th>\n      <td>5</td>\n      <td>35_44</td>\n      <td>0.0</td>\n    </tr>\n    <tr>\n      <th>...</th>\n      <td>...</td>\n      <td>...</td>\n      <td>...</td>\n    </tr>\n    <tr>\n      <th>142883</th>\n      <td>159606</td>\n      <td>25_34</td>\n      <td>0.0</td>\n    </tr>\n    <tr>\n      <th>142884</th>\n      <td>159607</td>\n      <td>25_34</td>\n      <td>NaN</td>\n    </tr>\n    <tr>\n      <th>142885</th>\n      <td>159609</td>\n      <td>18_24</td>\n      <td>0.0</td>\n    </tr>\n    <tr>\n      <th>142886</th>\n      <td>159610</td>\n      <td>35_44</td>\n      <td>0.0</td>\n    </tr>\n    <tr>\n      <th>142887</th>\n      <td>159611</td>\n      <td>35_44</td>\n      <td>0.0</td>\n    </tr>\n  </tbody>\n</table>\n<p>142888 rows × 3 columns</p>\n</div>"
     },
     "execution_count": 13,
     "metadata": {},
     "output_type": "execute_result"
    }
   ],
   "source": [
    "df_users"
   ],
   "metadata": {
    "collapsed": false,
    "pycharm": {
     "name": "#%%\n"
    }
   }
  },
  {
   "cell_type": "code",
   "execution_count": 14,
   "outputs": [
    {
     "data": {
      "text/plain": "   user_id  item_id  progress  rating start_date\n0   126706    14433        80     NaN 2018-01-01\n1   127290   140952        58     NaN 2018-01-01",
      "text/html": "<div>\n<style scoped>\n    .dataframe tbody tr th:only-of-type {\n        vertical-align: middle;\n    }\n\n    .dataframe tbody tr th {\n        vertical-align: top;\n    }\n\n    .dataframe thead th {\n        text-align: right;\n    }\n</style>\n<table border=\"1\" class=\"dataframe\">\n  <thead>\n    <tr style=\"text-align: right;\">\n      <th></th>\n      <th>user_id</th>\n      <th>item_id</th>\n      <th>progress</th>\n      <th>rating</th>\n      <th>start_date</th>\n    </tr>\n  </thead>\n  <tbody>\n    <tr>\n      <th>0</th>\n      <td>126706</td>\n      <td>14433</td>\n      <td>80</td>\n      <td>NaN</td>\n      <td>2018-01-01</td>\n    </tr>\n    <tr>\n      <th>1</th>\n      <td>127290</td>\n      <td>140952</td>\n      <td>58</td>\n      <td>NaN</td>\n      <td>2018-01-01</td>\n    </tr>\n  </tbody>\n</table>\n</div>"
     },
     "execution_count": 14,
     "metadata": {},
     "output_type": "execute_result"
    }
   ],
   "source": [
    "train.head(2)"
   ],
   "metadata": {
    "collapsed": false,
    "pycharm": {
     "name": "#%%\n"
    }
   }
  },
  {
   "cell_type": "code",
   "execution_count": 15,
   "outputs": [
    {
     "data": {
      "text/plain": "         user_id  item_id  progress  rating start_date\n1517914    38753   135245         0     NaN 2019-12-25\n1517915   101642   319500        67     5.0 2019-12-25",
      "text/html": "<div>\n<style scoped>\n    .dataframe tbody tr th:only-of-type {\n        vertical-align: middle;\n    }\n\n    .dataframe tbody tr th {\n        vertical-align: top;\n    }\n\n    .dataframe thead th {\n        text-align: right;\n    }\n</style>\n<table border=\"1\" class=\"dataframe\">\n  <thead>\n    <tr style=\"text-align: right;\">\n      <th></th>\n      <th>user_id</th>\n      <th>item_id</th>\n      <th>progress</th>\n      <th>rating</th>\n      <th>start_date</th>\n    </tr>\n  </thead>\n  <tbody>\n    <tr>\n      <th>1517914</th>\n      <td>38753</td>\n      <td>135245</td>\n      <td>0</td>\n      <td>NaN</td>\n      <td>2019-12-25</td>\n    </tr>\n    <tr>\n      <th>1517915</th>\n      <td>101642</td>\n      <td>319500</td>\n      <td>67</td>\n      <td>5.0</td>\n      <td>2019-12-25</td>\n    </tr>\n  </tbody>\n</table>\n</div>"
     },
     "execution_count": 15,
     "metadata": {},
     "output_type": "execute_result"
    }
   ],
   "source": [
    "test.head(2)"
   ],
   "metadata": {
    "collapsed": false,
    "pycharm": {
     "name": "#%%\n"
    }
   }
  },
  {
   "cell_type": "code",
   "execution_count": 15,
   "outputs": [],
   "source": [],
   "metadata": {
    "collapsed": false,
    "pycharm": {
     "name": "#%%\n"
    }
   }
  },
  {
   "cell_type": "code",
   "execution_count": 16,
   "outputs": [],
   "source": [
    "class PopularRecommender():\n",
    "    def __init__(self, max_K=10, days=30, item_column='item_id', dt_column='date' , df_u = df_users):\n",
    "        self.max_K = max_K\n",
    "        self.days = days\n",
    "        self.item_column = item_column\n",
    "        self.dt_column = dt_column\n",
    "        self.N = 10\n",
    "        self.recommendations = []\n",
    "        self.min_date = None\n",
    "        self.df_u = df_u\n",
    "        self.df_res = None\n",
    "\n",
    "\n",
    "    def fit(self, df, ):\n",
    "        min_date = df[self.dt_column].max().normalize() - pd.DateOffset(days=self.days)\n",
    "        self.min_date = min_date\n",
    "        self.standart_recommendations = df.loc[df[self.dt_column] > min_date, self.item_column].value_counts().head(self.max_K).index.values\n",
    "\n",
    "    def super_fit(self, df, ):\n",
    "        min_date = df[self.dt_column].max().normalize() - pd.DateOffset(days=self.days)\n",
    "        self.min_date = min_date\n",
    "        self.df_res = df.loc[df[self.dt_column] > min_date]\\\n",
    "            .merge(self.df_u , how = 'left' , on ='user_id')\\\n",
    "            .groupby(['age','sex','item_id']).agg({'user_id' : 'count'}).reset_index()\\\n",
    "            .rename(columns = {'user_id':'cnt'})\\\n",
    "            .sort_values(['age','sex','cnt'] , ascending=False)\\\n",
    "            .groupby(['age','sex']).head(self.max_K)\n",
    "        self.standart_recommendations = df.loc[df[self.dt_column] > min_date, self.item_column].value_counts().head(self.max_K).index.values\n",
    "\n",
    "\n",
    "    def recommend(self, users=None,):\n",
    "        recs = self.standart_recommendations[:self.N]\n",
    "        if users is None:\n",
    "            return recs\n",
    "        else:\n",
    "            return list(islice(cycle([recs]), len(users)))\n",
    "\n",
    "    def super_recommend(self, user,):\n",
    "        x = self.df_u.loc[self.df_u['user_id'] == user]\n",
    "        if x.empty:\n",
    "            return self.standart_recommendations\n",
    "        elif(is_nan(x['sex'].iloc[0])):\n",
    "            return self.standart_recommendations\n",
    "        elif(isNaN(x['age'].iloc[0])):\n",
    "            return self.standart_recommendations\n",
    "        else:\n",
    "            #m = self.df_res.loc[(self.df_res['age'] == x['age'].iloc[0])]\n",
    "            #m = self.df_res.loc[(self.df_res['sex'] == x['sex'].iloc[0])]\n",
    "            m = self.df_res.loc[(self.df_res['age'] == x['age'].iloc[0]) & (self.df_res['sex'] == x['sex'].iloc[0])]\n",
    "            n = m['item_id'].values\n",
    "            return n\n",
    "\n"
   ],
   "metadata": {
    "collapsed": false,
    "pycharm": {
     "name": "#%%\n"
    }
   }
  },
  {
   "cell_type": "code",
   "execution_count": 17,
   "outputs": [],
   "source": [
    "pop_model = PopularRecommender(days=77, dt_column='start_date')"
   ],
   "metadata": {
    "collapsed": false,
    "pycharm": {
     "name": "#%%\n"
    }
   }
  },
  {
   "cell_type": "code",
   "execution_count": 18,
   "outputs": [
    {
     "name": "stderr",
     "output_type": "stream",
     "text": [
      "C:\\Temp\\ipykernel_26364\\114650625.py:24: FutureWarning: In a future version, passing a SparseArray to pd.Index will store that array directly instead of converting to a dense numpy ndarray. To retain the old behavior, use pd.Index(arr.to_numpy()) instead\n",
      "  .groupby(['age','sex','item_id']).agg({'user_id' : 'count'}).reset_index()\\\n"
     ]
    }
   ],
   "source": [
    "pop_model.super_fit(train)"
   ],
   "metadata": {
    "collapsed": false,
    "pycharm": {
     "name": "#%%\n"
    }
   }
  },
  {
   "cell_type": "code",
   "execution_count": 18,
   "outputs": [],
   "source": [],
   "metadata": {
    "collapsed": false,
    "pycharm": {
     "name": "#%%\n"
    }
   }
  },
  {
   "cell_type": "code",
   "execution_count": 19,
   "outputs": [],
   "source": [
    "item_titles = dict(zip(df_items.id,df_items.title))"
   ],
   "metadata": {
    "collapsed": false,
    "pycharm": {
     "name": "#%%\n"
    }
   }
  },
  {
   "cell_type": "code",
   "execution_count": 20,
   "outputs": [
    {
     "name": "stdout",
     "output_type": "stream",
     "text": [
      "None\n"
     ]
    }
   ],
   "source": [
    "print(item_titles.get(271690))"
   ],
   "metadata": {
    "collapsed": false,
    "pycharm": {
     "name": "#%%\n"
    }
   }
  },
  {
   "cell_type": "code",
   "execution_count": 20,
   "outputs": [],
   "source": [],
   "metadata": {
    "collapsed": false,
    "pycharm": {
     "name": "#%%\n"
    }
   }
  },
  {
   "cell_type": "code",
   "execution_count": 21,
   "outputs": [],
   "source": [
    "top100_recs = pop_model.super_recommend(30)"
   ],
   "metadata": {
    "collapsed": false,
    "pycharm": {
     "name": "#%%\n"
    }
   }
  },
  {
   "cell_type": "code",
   "execution_count": 22,
   "outputs": [
    {
     "data": {
      "text/plain": "array([109201, 218025, 211217, 169853, 230067,  74650, 238856, 141961,\n       155266,  35265], dtype=int64)"
     },
     "execution_count": 22,
     "metadata": {},
     "output_type": "execute_result"
    }
   ],
   "source": [
    "top100_recs"
   ],
   "metadata": {
    "collapsed": false,
    "pycharm": {
     "name": "#%%\n"
    }
   }
  },
  {
   "cell_type": "code",
   "execution_count": 22,
   "outputs": [],
   "source": [],
   "metadata": {
    "collapsed": false,
    "pycharm": {
     "name": "#%%\n"
    }
   }
  },
  {
   "cell_type": "code",
   "execution_count": 22,
   "outputs": [],
   "source": [],
   "metadata": {
    "collapsed": false,
    "pycharm": {
     "name": "#%%\n"
    }
   }
  },
  {
   "cell_type": "code",
   "execution_count": 23,
   "outputs": [
    {
     "data": {
      "text/plain": "['Яблоки из сада Шлицбутера',\n 'Текст',\n 'НИ СЫ. Восточная мудрость, которая гласит: будь уверен в своих силах и не позволяй сомнениям мешать тебе двигаться вперед',\n 'Анна Каренина',\n 'Кавказский пленник',\n 'То, что делает меня',\n 'Большая книга «ленивой мамы»',\n 'Капитанская дочка',\n 'О любви',\n 'Записки юного врача']"
     },
     "execution_count": 23,
     "metadata": {},
     "output_type": "execute_result"
    }
   ],
   "source": [
    "list(map(item_titles.get, top100_recs))"
   ],
   "metadata": {
    "collapsed": false,
    "pycharm": {
     "name": "#%%\n"
    }
   }
  },
  {
   "cell_type": "code",
   "execution_count": 23,
   "outputs": [],
   "source": [],
   "metadata": {
    "collapsed": false,
    "pycharm": {
     "name": "#%%\n"
    }
   }
  },
  {
   "cell_type": "code",
   "execution_count": 45,
   "outputs": [],
   "source": [
    "# create datframe with user_id fo recs\n",
    "recs = pd.DataFrame({'user_id': test['user_id'].unique()})\n",
    "\n"
   ],
   "metadata": {
    "collapsed": false,
    "pycharm": {
     "name": "#%%\n"
    }
   }
  },
  {
   "cell_type": "code",
   "execution_count": 46,
   "outputs": [
    {
     "data": {
      "text/plain": "   user_id\n0    38753\n1   101642",
      "text/html": "<div>\n<style scoped>\n    .dataframe tbody tr th:only-of-type {\n        vertical-align: middle;\n    }\n\n    .dataframe tbody tr th {\n        vertical-align: top;\n    }\n\n    .dataframe thead th {\n        text-align: right;\n    }\n</style>\n<table border=\"1\" class=\"dataframe\">\n  <thead>\n    <tr style=\"text-align: right;\">\n      <th></th>\n      <th>user_id</th>\n    </tr>\n  </thead>\n  <tbody>\n    <tr>\n      <th>0</th>\n      <td>38753</td>\n    </tr>\n    <tr>\n      <th>1</th>\n      <td>101642</td>\n    </tr>\n  </tbody>\n</table>\n</div>"
     },
     "execution_count": 46,
     "metadata": {},
     "output_type": "execute_result"
    }
   ],
   "source": [
    "recs.head(2)"
   ],
   "metadata": {
    "collapsed": false,
    "pycharm": {
     "name": "#%%\n"
    }
   }
  },
  {
   "cell_type": "code",
   "execution_count": 47,
   "outputs": [],
   "source": [
    "def super_rec( u_id, pop_model = pop_model ):\n",
    "    g = pop_model.super_recommend(u_id)\n",
    "    return g"
   ],
   "metadata": {
    "collapsed": false,
    "pycharm": {
     "name": "#%%\n"
    }
   }
  },
  {
   "cell_type": "code",
   "execution_count": 48,
   "outputs": [
    {
     "data": {
      "text/plain": "array([230067, 109201, 226196,  35265, 235407, 151190, 297013, 311394,\n       115190, 237760], dtype=int64)"
     },
     "execution_count": 48,
     "metadata": {},
     "output_type": "execute_result"
    }
   ],
   "source": [
    "super_rec(34)"
   ],
   "metadata": {
    "collapsed": false,
    "pycharm": {
     "name": "#%%\n"
    }
   }
  },
  {
   "cell_type": "code",
   "execution_count": 49,
   "outputs": [],
   "source": [
    "recs['item_id'] = recs['user_id'].apply(super_rec)"
   ],
   "metadata": {
    "collapsed": false,
    "pycharm": {
     "name": "#%%\n"
    }
   }
  },
  {
   "cell_type": "code",
   "execution_count": 50,
   "outputs": [
    {
     "data": {
      "text/plain": "      user_id                                            item_id\n0       38753  [109201, 235407, 237760, 9197, 35265, 168900, ...\n1      101642  [109201, 218025, 211217, 169853, 230067, 74650...\n2       13548  [109201, 218025, 211217, 169853, 230067, 74650...\n3      130425  [109201, 235407, 237760, 9197, 35265, 168900, ...\n4       93986  [109201, 35265, 285394, 235407, 9197, 155266, ...\n...       ...                                                ...\n1746   129222  [109201, 218025, 99616, 237760, 230067, 281005...\n1747    18067  [109201, 218025, 99616, 237760, 230067, 281005...\n1748    76378  [230067, 109201, 237760, 235407, 281005, 27041...\n1749   135722  [109201, 218025, 211217, 169853, 230067, 74650...\n1750    92498  [235407, 230067, 109201, 226196, 35265, 151190...\n\n[1751 rows x 2 columns]",
      "text/html": "<div>\n<style scoped>\n    .dataframe tbody tr th:only-of-type {\n        vertical-align: middle;\n    }\n\n    .dataframe tbody tr th {\n        vertical-align: top;\n    }\n\n    .dataframe thead th {\n        text-align: right;\n    }\n</style>\n<table border=\"1\" class=\"dataframe\">\n  <thead>\n    <tr style=\"text-align: right;\">\n      <th></th>\n      <th>user_id</th>\n      <th>item_id</th>\n    </tr>\n  </thead>\n  <tbody>\n    <tr>\n      <th>0</th>\n      <td>38753</td>\n      <td>[109201, 235407, 237760, 9197, 35265, 168900, ...</td>\n    </tr>\n    <tr>\n      <th>1</th>\n      <td>101642</td>\n      <td>[109201, 218025, 211217, 169853, 230067, 74650...</td>\n    </tr>\n    <tr>\n      <th>2</th>\n      <td>13548</td>\n      <td>[109201, 218025, 211217, 169853, 230067, 74650...</td>\n    </tr>\n    <tr>\n      <th>3</th>\n      <td>130425</td>\n      <td>[109201, 235407, 237760, 9197, 35265, 168900, ...</td>\n    </tr>\n    <tr>\n      <th>4</th>\n      <td>93986</td>\n      <td>[109201, 35265, 285394, 235407, 9197, 155266, ...</td>\n    </tr>\n    <tr>\n      <th>...</th>\n      <td>...</td>\n      <td>...</td>\n    </tr>\n    <tr>\n      <th>1746</th>\n      <td>129222</td>\n      <td>[109201, 218025, 99616, 237760, 230067, 281005...</td>\n    </tr>\n    <tr>\n      <th>1747</th>\n      <td>18067</td>\n      <td>[109201, 218025, 99616, 237760, 230067, 281005...</td>\n    </tr>\n    <tr>\n      <th>1748</th>\n      <td>76378</td>\n      <td>[230067, 109201, 237760, 235407, 281005, 27041...</td>\n    </tr>\n    <tr>\n      <th>1749</th>\n      <td>135722</td>\n      <td>[109201, 218025, 211217, 169853, 230067, 74650...</td>\n    </tr>\n    <tr>\n      <th>1750</th>\n      <td>92498</td>\n      <td>[235407, 230067, 109201, 226196, 35265, 151190...</td>\n    </tr>\n  </tbody>\n</table>\n<p>1751 rows × 2 columns</p>\n</div>"
     },
     "execution_count": 50,
     "metadata": {},
     "output_type": "execute_result"
    }
   ],
   "source": [
    "recs"
   ],
   "metadata": {
    "collapsed": false,
    "pycharm": {
     "name": "#%%\n"
    }
   }
  },
  {
   "cell_type": "code",
   "execution_count": 50,
   "outputs": [],
   "source": [],
   "metadata": {
    "collapsed": false,
    "pycharm": {
     "name": "#%%\n"
    }
   }
  },
  {
   "cell_type": "code",
   "execution_count": 51,
   "outputs": [
    {
     "data": {
      "text/plain": "   user_id item_id\n0    38753  109201\n0    38753  235407\n0    38753  237760\n0    38753    9197\n0    38753   35265\n0    38753  168900\n0    38753  230067\n0    38753   99616\n0    38753  168037\n0    38753   43622\n1   101642  109201\n1   101642  218025",
      "text/html": "<div>\n<style scoped>\n    .dataframe tbody tr th:only-of-type {\n        vertical-align: middle;\n    }\n\n    .dataframe tbody tr th {\n        vertical-align: top;\n    }\n\n    .dataframe thead th {\n        text-align: right;\n    }\n</style>\n<table border=\"1\" class=\"dataframe\">\n  <thead>\n    <tr style=\"text-align: right;\">\n      <th></th>\n      <th>user_id</th>\n      <th>item_id</th>\n    </tr>\n  </thead>\n  <tbody>\n    <tr>\n      <th>0</th>\n      <td>38753</td>\n      <td>109201</td>\n    </tr>\n    <tr>\n      <th>0</th>\n      <td>38753</td>\n      <td>235407</td>\n    </tr>\n    <tr>\n      <th>0</th>\n      <td>38753</td>\n      <td>237760</td>\n    </tr>\n    <tr>\n      <th>0</th>\n      <td>38753</td>\n      <td>9197</td>\n    </tr>\n    <tr>\n      <th>0</th>\n      <td>38753</td>\n      <td>35265</td>\n    </tr>\n    <tr>\n      <th>0</th>\n      <td>38753</td>\n      <td>168900</td>\n    </tr>\n    <tr>\n      <th>0</th>\n      <td>38753</td>\n      <td>230067</td>\n    </tr>\n    <tr>\n      <th>0</th>\n      <td>38753</td>\n      <td>99616</td>\n    </tr>\n    <tr>\n      <th>0</th>\n      <td>38753</td>\n      <td>168037</td>\n    </tr>\n    <tr>\n      <th>0</th>\n      <td>38753</td>\n      <td>43622</td>\n    </tr>\n    <tr>\n      <th>1</th>\n      <td>101642</td>\n      <td>109201</td>\n    </tr>\n    <tr>\n      <th>1</th>\n      <td>101642</td>\n      <td>218025</td>\n    </tr>\n  </tbody>\n</table>\n</div>"
     },
     "execution_count": 51,
     "metadata": {},
     "output_type": "execute_result"
    }
   ],
   "source": [
    "recs = recs.explode('item_id')\n",
    "recs.head(top_N + 2)"
   ],
   "metadata": {
    "collapsed": false,
    "pycharm": {
     "name": "#%%\n"
    }
   }
  },
  {
   "cell_type": "code",
   "execution_count": 52,
   "outputs": [
    {
     "data": {
      "text/plain": "   user_id item_id  rank\n0    38753  109201     1\n0    38753  235407     2\n0    38753  237760     3\n0    38753    9197     4\n0    38753   35265     5\n0    38753  168900     6\n0    38753  230067     7\n0    38753   99616     8\n0    38753  168037     9\n0    38753   43622    10\n1   101642  109201     1\n1   101642  218025     2",
      "text/html": "<div>\n<style scoped>\n    .dataframe tbody tr th:only-of-type {\n        vertical-align: middle;\n    }\n\n    .dataframe tbody tr th {\n        vertical-align: top;\n    }\n\n    .dataframe thead th {\n        text-align: right;\n    }\n</style>\n<table border=\"1\" class=\"dataframe\">\n  <thead>\n    <tr style=\"text-align: right;\">\n      <th></th>\n      <th>user_id</th>\n      <th>item_id</th>\n      <th>rank</th>\n    </tr>\n  </thead>\n  <tbody>\n    <tr>\n      <th>0</th>\n      <td>38753</td>\n      <td>109201</td>\n      <td>1</td>\n    </tr>\n    <tr>\n      <th>0</th>\n      <td>38753</td>\n      <td>235407</td>\n      <td>2</td>\n    </tr>\n    <tr>\n      <th>0</th>\n      <td>38753</td>\n      <td>237760</td>\n      <td>3</td>\n    </tr>\n    <tr>\n      <th>0</th>\n      <td>38753</td>\n      <td>9197</td>\n      <td>4</td>\n    </tr>\n    <tr>\n      <th>0</th>\n      <td>38753</td>\n      <td>35265</td>\n      <td>5</td>\n    </tr>\n    <tr>\n      <th>0</th>\n      <td>38753</td>\n      <td>168900</td>\n      <td>6</td>\n    </tr>\n    <tr>\n      <th>0</th>\n      <td>38753</td>\n      <td>230067</td>\n      <td>7</td>\n    </tr>\n    <tr>\n      <th>0</th>\n      <td>38753</td>\n      <td>99616</td>\n      <td>8</td>\n    </tr>\n    <tr>\n      <th>0</th>\n      <td>38753</td>\n      <td>168037</td>\n      <td>9</td>\n    </tr>\n    <tr>\n      <th>0</th>\n      <td>38753</td>\n      <td>43622</td>\n      <td>10</td>\n    </tr>\n    <tr>\n      <th>1</th>\n      <td>101642</td>\n      <td>109201</td>\n      <td>1</td>\n    </tr>\n    <tr>\n      <th>1</th>\n      <td>101642</td>\n      <td>218025</td>\n      <td>2</td>\n    </tr>\n  </tbody>\n</table>\n</div>"
     },
     "execution_count": 52,
     "metadata": {},
     "output_type": "execute_result"
    }
   ],
   "source": [
    "recs['rank'] = recs.groupby('user_id').cumcount() + 1\n",
    "recs.head(top_N + 2)"
   ],
   "metadata": {
    "collapsed": false,
    "pycharm": {
     "name": "#%%\n"
    }
   }
  },
  {
   "cell_type": "code",
   "execution_count": 53,
   "outputs": [],
   "source": [
    "recs.rename(columns={'rank':'predict_rank'} , inplace = True)"
   ],
   "metadata": {
    "collapsed": false,
    "pycharm": {
     "name": "#%%\n"
    }
   }
  },
  {
   "cell_type": "code",
   "execution_count": 54,
   "outputs": [
    {
     "data": {
      "text/plain": "   user_id item_id  predict_rank\n0    38753  109201             1\n0    38753  235407             2",
      "text/html": "<div>\n<style scoped>\n    .dataframe tbody tr th:only-of-type {\n        vertical-align: middle;\n    }\n\n    .dataframe tbody tr th {\n        vertical-align: top;\n    }\n\n    .dataframe thead th {\n        text-align: right;\n    }\n</style>\n<table border=\"1\" class=\"dataframe\">\n  <thead>\n    <tr style=\"text-align: right;\">\n      <th></th>\n      <th>user_id</th>\n      <th>item_id</th>\n      <th>predict_rank</th>\n    </tr>\n  </thead>\n  <tbody>\n    <tr>\n      <th>0</th>\n      <td>38753</td>\n      <td>109201</td>\n      <td>1</td>\n    </tr>\n    <tr>\n      <th>0</th>\n      <td>38753</td>\n      <td>235407</td>\n      <td>2</td>\n    </tr>\n  </tbody>\n</table>\n</div>"
     },
     "execution_count": 54,
     "metadata": {},
     "output_type": "execute_result"
    }
   ],
   "source": [
    "recs.head(2)"
   ],
   "metadata": {
    "collapsed": false,
    "pycharm": {
     "name": "#%%\n"
    }
   }
  },
  {
   "cell_type": "code",
   "execution_count": 55,
   "outputs": [
    {
     "data": {
      "text/plain": "         user_id  item_id  progress  rating start_date\n1517914    38753   135245         0     NaN 2019-12-25\n1517915   101642   319500        67     5.0 2019-12-25",
      "text/html": "<div>\n<style scoped>\n    .dataframe tbody tr th:only-of-type {\n        vertical-align: middle;\n    }\n\n    .dataframe tbody tr th {\n        vertical-align: top;\n    }\n\n    .dataframe thead th {\n        text-align: right;\n    }\n</style>\n<table border=\"1\" class=\"dataframe\">\n  <thead>\n    <tr style=\"text-align: right;\">\n      <th></th>\n      <th>user_id</th>\n      <th>item_id</th>\n      <th>progress</th>\n      <th>rating</th>\n      <th>start_date</th>\n    </tr>\n  </thead>\n  <tbody>\n    <tr>\n      <th>1517914</th>\n      <td>38753</td>\n      <td>135245</td>\n      <td>0</td>\n      <td>NaN</td>\n      <td>2019-12-25</td>\n    </tr>\n    <tr>\n      <th>1517915</th>\n      <td>101642</td>\n      <td>319500</td>\n      <td>67</td>\n      <td>5.0</td>\n      <td>2019-12-25</td>\n    </tr>\n  </tbody>\n</table>\n</div>"
     },
     "execution_count": 55,
     "metadata": {},
     "output_type": "execute_result"
    }
   ],
   "source": [
    "test.head(2)"
   ],
   "metadata": {
    "collapsed": false,
    "pycharm": {
     "name": "#%%\n"
    }
   }
  },
  {
   "cell_type": "code",
   "execution_count": 56,
   "outputs": [],
   "source": [
    "\n",
    "test_recs = test.merge(recs, how = 'left' , on = ['user_id','item_id'])"
   ],
   "metadata": {
    "collapsed": false,
    "pycharm": {
     "name": "#%%\n"
    }
   }
  },
  {
   "cell_type": "code",
   "execution_count": 57,
   "outputs": [
    {
     "data": {
      "text/plain": "   user_id item_id  progress  rating start_date  predict_rank\n0    38753  135245         0     NaN 2019-12-25           NaN\n1   101642  319500        67     5.0 2019-12-25           NaN",
      "text/html": "<div>\n<style scoped>\n    .dataframe tbody tr th:only-of-type {\n        vertical-align: middle;\n    }\n\n    .dataframe tbody tr th {\n        vertical-align: top;\n    }\n\n    .dataframe thead th {\n        text-align: right;\n    }\n</style>\n<table border=\"1\" class=\"dataframe\">\n  <thead>\n    <tr style=\"text-align: right;\">\n      <th></th>\n      <th>user_id</th>\n      <th>item_id</th>\n      <th>progress</th>\n      <th>rating</th>\n      <th>start_date</th>\n      <th>predict_rank</th>\n    </tr>\n  </thead>\n  <tbody>\n    <tr>\n      <th>0</th>\n      <td>38753</td>\n      <td>135245</td>\n      <td>0</td>\n      <td>NaN</td>\n      <td>2019-12-25</td>\n      <td>NaN</td>\n    </tr>\n    <tr>\n      <th>1</th>\n      <td>101642</td>\n      <td>319500</td>\n      <td>67</td>\n      <td>5.0</td>\n      <td>2019-12-25</td>\n      <td>NaN</td>\n    </tr>\n  </tbody>\n</table>\n</div>"
     },
     "execution_count": 57,
     "metadata": {},
     "output_type": "execute_result"
    }
   ],
   "source": [
    "test_recs.head(2)"
   ],
   "metadata": {
    "collapsed": false,
    "pycharm": {
     "name": "#%%\n"
    }
   }
  },
  {
   "cell_type": "code",
   "execution_count": 59,
   "outputs": [],
   "source": [
    "test_recs = test.merge(recs, how = 'left' , on = ['user_id','item_id'])"
   ],
   "metadata": {
    "collapsed": false,
    "pycharm": {
     "name": "#%%\n"
    }
   }
  },
  {
   "cell_type": "code",
   "execution_count": 60,
   "outputs": [],
   "source": [
    "uic = test_recs.groupby('user_id').agg({'item_id':'count'}).reset_index().rename(columns = {'item_id':'users_item_count'})"
   ],
   "metadata": {
    "collapsed": false,
    "pycharm": {
     "name": "#%%\n"
    }
   }
  },
  {
   "cell_type": "code",
   "execution_count": 61,
   "outputs": [],
   "source": [
    "test_recs = test_recs.merge(uic , how = 'left' , on = 'user_id')"
   ],
   "metadata": {
    "collapsed": false,
    "pycharm": {
     "name": "#%%\n"
    }
   }
  },
  {
   "cell_type": "code",
   "execution_count": 62,
   "outputs": [],
   "source": [
    "test_recs['pred_reciprocal_rank'] = 1 / test_recs['predict_rank']\n",
    "test_recs['pred_reciprocal_rank'] = test_recs['pred_reciprocal_rank'].fillna(0)"
   ],
   "metadata": {
    "collapsed": false,
    "pycharm": {
     "name": "#%%\n"
    }
   }
  },
  {
   "cell_type": "code",
   "execution_count": 63,
   "outputs": [
    {
     "data": {
      "text/plain": "   user_id item_id  progress  rating start_date  predict_rank  \\\n0    38753  135245         0     NaN 2019-12-25           NaN   \n1   101642  319500        67     5.0 2019-12-25           NaN   \n\n   users_item_count  pred_reciprocal_rank  \n0                 1                   0.0  \n1                 1                   0.0  ",
      "text/html": "<div>\n<style scoped>\n    .dataframe tbody tr th:only-of-type {\n        vertical-align: middle;\n    }\n\n    .dataframe tbody tr th {\n        vertical-align: top;\n    }\n\n    .dataframe thead th {\n        text-align: right;\n    }\n</style>\n<table border=\"1\" class=\"dataframe\">\n  <thead>\n    <tr style=\"text-align: right;\">\n      <th></th>\n      <th>user_id</th>\n      <th>item_id</th>\n      <th>progress</th>\n      <th>rating</th>\n      <th>start_date</th>\n      <th>predict_rank</th>\n      <th>users_item_count</th>\n      <th>pred_reciprocal_rank</th>\n    </tr>\n  </thead>\n  <tbody>\n    <tr>\n      <th>0</th>\n      <td>38753</td>\n      <td>135245</td>\n      <td>0</td>\n      <td>NaN</td>\n      <td>2019-12-25</td>\n      <td>NaN</td>\n      <td>1</td>\n      <td>0.0</td>\n    </tr>\n    <tr>\n      <th>1</th>\n      <td>101642</td>\n      <td>319500</td>\n      <td>67</td>\n      <td>5.0</td>\n      <td>2019-12-25</td>\n      <td>NaN</td>\n      <td>1</td>\n      <td>0.0</td>\n    </tr>\n  </tbody>\n</table>\n</div>"
     },
     "execution_count": 63,
     "metadata": {},
     "output_type": "execute_result"
    }
   ],
   "source": [
    "test_recs.head(2)"
   ],
   "metadata": {
    "collapsed": false,
    "pycharm": {
     "name": "#%%\n"
    }
   }
  },
  {
   "cell_type": "code",
   "execution_count": 64,
   "outputs": [],
   "source": [
    "test_recs = test_recs.sort_values(by=['user_id', 'predict_rank'])\n",
    "\n"
   ],
   "metadata": {
    "collapsed": false,
    "pycharm": {
     "name": "#%%\n"
    }
   }
  },
  {
   "cell_type": "code",
   "execution_count": 65,
   "outputs": [],
   "source": [
    "test_recs['cumulative_rank'] = test_recs.groupby('user_id').cumcount() + 1"
   ],
   "metadata": {
    "collapsed": false,
    "pycharm": {
     "name": "#%%\n"
    }
   }
  },
  {
   "cell_type": "code",
   "execution_count": 66,
   "outputs": [
    {
     "data": {
      "text/plain": "      user_id item_id  progress  rating start_date  predict_rank  \\\n1440       21   97894       100     NaN 2019-12-25           NaN   \n798        27  179635        99     NaN 2019-12-25           NaN   \n199        58  315050        65     4.0 2019-12-25           NaN   \n1787      288   24595        11     NaN 2019-12-25           NaN   \n1596      430  218187        26     NaN 2019-12-25           NaN   \n...       ...     ...       ...     ...        ...           ...   \n994    159294  110617        18     NaN 2019-12-25           NaN   \n426    159303  197759        64     NaN 2019-12-25           NaN   \n5      159466  124115        84     NaN 2019-12-25           NaN   \n1121   159472  245992        78     NaN 2019-12-25           NaN   \n371    159511   31539        77     5.0 2019-12-25           NaN   \n\n      users_item_count  pred_reciprocal_rank  cumulative_rank  \n1440                 1                   0.0                1  \n798                  1                   0.0                1  \n199                  1                   0.0                1  \n1787                 1                   0.0                1  \n1596                 1                   0.0                1  \n...                ...                   ...              ...  \n994                  1                   0.0                1  \n426                  1                   0.0                1  \n5                    1                   0.0                1  \n1121                 1                   0.0                1  \n371                  1                   0.0                1  \n\n[2114 rows x 9 columns]",
      "text/html": "<div>\n<style scoped>\n    .dataframe tbody tr th:only-of-type {\n        vertical-align: middle;\n    }\n\n    .dataframe tbody tr th {\n        vertical-align: top;\n    }\n\n    .dataframe thead th {\n        text-align: right;\n    }\n</style>\n<table border=\"1\" class=\"dataframe\">\n  <thead>\n    <tr style=\"text-align: right;\">\n      <th></th>\n      <th>user_id</th>\n      <th>item_id</th>\n      <th>progress</th>\n      <th>rating</th>\n      <th>start_date</th>\n      <th>predict_rank</th>\n      <th>users_item_count</th>\n      <th>pred_reciprocal_rank</th>\n      <th>cumulative_rank</th>\n    </tr>\n  </thead>\n  <tbody>\n    <tr>\n      <th>1440</th>\n      <td>21</td>\n      <td>97894</td>\n      <td>100</td>\n      <td>NaN</td>\n      <td>2019-12-25</td>\n      <td>NaN</td>\n      <td>1</td>\n      <td>0.0</td>\n      <td>1</td>\n    </tr>\n    <tr>\n      <th>798</th>\n      <td>27</td>\n      <td>179635</td>\n      <td>99</td>\n      <td>NaN</td>\n      <td>2019-12-25</td>\n      <td>NaN</td>\n      <td>1</td>\n      <td>0.0</td>\n      <td>1</td>\n    </tr>\n    <tr>\n      <th>199</th>\n      <td>58</td>\n      <td>315050</td>\n      <td>65</td>\n      <td>4.0</td>\n      <td>2019-12-25</td>\n      <td>NaN</td>\n      <td>1</td>\n      <td>0.0</td>\n      <td>1</td>\n    </tr>\n    <tr>\n      <th>1787</th>\n      <td>288</td>\n      <td>24595</td>\n      <td>11</td>\n      <td>NaN</td>\n      <td>2019-12-25</td>\n      <td>NaN</td>\n      <td>1</td>\n      <td>0.0</td>\n      <td>1</td>\n    </tr>\n    <tr>\n      <th>1596</th>\n      <td>430</td>\n      <td>218187</td>\n      <td>26</td>\n      <td>NaN</td>\n      <td>2019-12-25</td>\n      <td>NaN</td>\n      <td>1</td>\n      <td>0.0</td>\n      <td>1</td>\n    </tr>\n    <tr>\n      <th>...</th>\n      <td>...</td>\n      <td>...</td>\n      <td>...</td>\n      <td>...</td>\n      <td>...</td>\n      <td>...</td>\n      <td>...</td>\n      <td>...</td>\n      <td>...</td>\n    </tr>\n    <tr>\n      <th>994</th>\n      <td>159294</td>\n      <td>110617</td>\n      <td>18</td>\n      <td>NaN</td>\n      <td>2019-12-25</td>\n      <td>NaN</td>\n      <td>1</td>\n      <td>0.0</td>\n      <td>1</td>\n    </tr>\n    <tr>\n      <th>426</th>\n      <td>159303</td>\n      <td>197759</td>\n      <td>64</td>\n      <td>NaN</td>\n      <td>2019-12-25</td>\n      <td>NaN</td>\n      <td>1</td>\n      <td>0.0</td>\n      <td>1</td>\n    </tr>\n    <tr>\n      <th>5</th>\n      <td>159466</td>\n      <td>124115</td>\n      <td>84</td>\n      <td>NaN</td>\n      <td>2019-12-25</td>\n      <td>NaN</td>\n      <td>1</td>\n      <td>0.0</td>\n      <td>1</td>\n    </tr>\n    <tr>\n      <th>1121</th>\n      <td>159472</td>\n      <td>245992</td>\n      <td>78</td>\n      <td>NaN</td>\n      <td>2019-12-25</td>\n      <td>NaN</td>\n      <td>1</td>\n      <td>0.0</td>\n      <td>1</td>\n    </tr>\n    <tr>\n      <th>371</th>\n      <td>159511</td>\n      <td>31539</td>\n      <td>77</td>\n      <td>5.0</td>\n      <td>2019-12-25</td>\n      <td>NaN</td>\n      <td>1</td>\n      <td>0.0</td>\n      <td>1</td>\n    </tr>\n  </tbody>\n</table>\n<p>2114 rows × 9 columns</p>\n</div>"
     },
     "execution_count": 66,
     "metadata": {},
     "output_type": "execute_result"
    }
   ],
   "source": [
    "test_recs"
   ],
   "metadata": {
    "collapsed": false,
    "pycharm": {
     "name": "#%%\n"
    }
   }
  },
  {
   "cell_type": "code",
   "execution_count": 67,
   "outputs": [],
   "source": [
    "test_recs['cumulative_rank'] = test_recs['cumulative_rank'] / test_recs['predict_rank']"
   ],
   "metadata": {
    "collapsed": false,
    "pycharm": {
     "name": "#%%\n"
    }
   }
  },
  {
   "cell_type": "code",
   "execution_count": 68,
   "outputs": [
    {
     "data": {
      "text/plain": "      user_id item_id  progress  rating start_date  predict_rank  \\\n1440       21   97894       100     NaN 2019-12-25           NaN   \n798        27  179635        99     NaN 2019-12-25           NaN   \n\n      users_item_count  pred_reciprocal_rank  cumulative_rank  \n1440                 1                   0.0              NaN  \n798                  1                   0.0              NaN  ",
      "text/html": "<div>\n<style scoped>\n    .dataframe tbody tr th:only-of-type {\n        vertical-align: middle;\n    }\n\n    .dataframe tbody tr th {\n        vertical-align: top;\n    }\n\n    .dataframe thead th {\n        text-align: right;\n    }\n</style>\n<table border=\"1\" class=\"dataframe\">\n  <thead>\n    <tr style=\"text-align: right;\">\n      <th></th>\n      <th>user_id</th>\n      <th>item_id</th>\n      <th>progress</th>\n      <th>rating</th>\n      <th>start_date</th>\n      <th>predict_rank</th>\n      <th>users_item_count</th>\n      <th>pred_reciprocal_rank</th>\n      <th>cumulative_rank</th>\n    </tr>\n  </thead>\n  <tbody>\n    <tr>\n      <th>1440</th>\n      <td>21</td>\n      <td>97894</td>\n      <td>100</td>\n      <td>NaN</td>\n      <td>2019-12-25</td>\n      <td>NaN</td>\n      <td>1</td>\n      <td>0.0</td>\n      <td>NaN</td>\n    </tr>\n    <tr>\n      <th>798</th>\n      <td>27</td>\n      <td>179635</td>\n      <td>99</td>\n      <td>NaN</td>\n      <td>2019-12-25</td>\n      <td>NaN</td>\n      <td>1</td>\n      <td>0.0</td>\n      <td>NaN</td>\n    </tr>\n  </tbody>\n</table>\n</div>"
     },
     "execution_count": 68,
     "metadata": {},
     "output_type": "execute_result"
    }
   ],
   "source": [
    "test_recs.head(2)"
   ],
   "metadata": {
    "collapsed": false,
    "pycharm": {
     "name": "#%%\n"
    }
   }
  },
  {
   "cell_type": "code",
   "execution_count": 69,
   "outputs": [
    {
     "data": {
      "text/plain": "      user_id item_id  progress  rating start_date  predict_rank  \\\n1513      474  235407       100     5.0 2019-12-25           2.0   \n671      1672  230067        12     NaN 2019-12-25           2.0   \n1536    10260   35265         0     NaN 2019-12-25           3.0   \n1489    11207  235407         0     NaN 2019-12-25           3.0   \n672     12589  230067         5     NaN 2019-12-25           2.0   \n1554    15277   35265        99     NaN 2019-12-25           2.0   \n654     19679  230067         1     NaN 2019-12-25           5.0   \n524     25849  285394        92     NaN 2019-12-25           5.0   \n940     26416  311394       100     NaN 2019-12-25           8.0   \n727     27884  208935        38     NaN 2019-12-25           8.0   \n1496    30303  235407         0     NaN 2019-12-25           2.0   \n653     34513  230067         8     NaN 2019-12-25           2.0   \n1292    36320  235407         8     NaN 2019-12-25           2.0   \n1509    40917  235407         0     NaN 2019-12-25           3.0   \n650     49285  230067        13     NaN 2019-12-25           5.0   \n1508    54703  235407        23     NaN 2019-12-25           3.0   \n523     55660  285394         1     NaN 2019-12-25           9.0   \n307     57724  230067        74     NaN 2019-12-25           1.0   \n1486    59159  235407       100     NaN 2019-12-25           2.0   \n1551    59857   35265         0     NaN 2019-12-25           2.0   \n665     62081  230067       100     NaN 2019-12-25           2.0   \n1284    62760  235407        98     NaN 2019-12-25           3.0   \n1558    65615   35265       100     5.0 2019-12-25           2.0   \n680     65615  230067         5     NaN 2019-12-25           5.0   \n1520    69315  235407         3     NaN 2019-12-25           4.0   \n1600    70530  291806         2     NaN 2019-12-25           7.0   \n1529    80461   35265         0     NaN 2019-12-25           3.0   \n1626    80609  291806         0     NaN 2019-12-25           7.0   \n1458    93609    8875        26     NaN 2019-12-25           5.0   \n756     94320  155266       100     NaN 2019-12-25           5.0   \n1321    94320  270415       100     NaN 2019-12-25           9.0   \n1562    97139   35265       100     NaN 2019-12-25           5.0   \n1733    97557  211217         8     NaN 2019-12-25           3.0   \n1400    99919  235407         0     NaN 2019-12-25           2.0   \n159    102560  147734         0     NaN 2019-12-25          10.0   \n1512   106678  235407         0     NaN 2019-12-25           4.0   \n774    110941  151190         1     NaN 2019-12-25           5.0   \n1511   112909  235407         0     NaN 2019-12-25           2.0   \n775    116977  151190         0     NaN 2019-12-25           7.0   \n1505   117770  235407        62     NaN 2019-12-25           3.0   \n928    118241  155266        11     NaN 2019-12-25           9.0   \n759    120351  151190         0     NaN 2019-12-25           6.0   \n661    125739  230067         1     NaN 2019-12-25           5.0   \n1287   126991  235407         0     NaN 2019-12-25           2.0   \n1753   127344  281005        28     NaN 2019-12-25           5.0   \n722    128885  208935         0     NaN 2019-12-25          10.0   \n1522   129383  235407       100     NaN 2019-12-25           4.0   \n1527   131940   35265        52     NaN 2019-12-25          10.0   \n723    135937  208935         2     NaN 2019-12-25           7.0   \n1547   139770   35265         0     NaN 2019-12-25           4.0   \n403    144116  155266        97     NaN 2019-12-25           5.0   \n761    144818  151190         3     NaN 2019-12-25           8.0   \n1283   146602  235407        11     NaN 2019-12-25           4.0   \n1856   150266  238856         0     NaN 2019-12-25           7.0   \n\n      users_item_count  pred_reciprocal_rank  cumulative_rank  \n1513                 1              0.500000         0.500000  \n671                  1              0.500000         0.500000  \n1536                 1              0.333333         0.333333  \n1489                 1              0.333333         0.333333  \n672                  1              0.500000         0.500000  \n1554                 2              0.500000         0.500000  \n654                  1              0.200000         0.200000  \n524                  1              0.200000         0.200000  \n940                  1              0.125000         0.125000  \n727                  1              0.125000         0.125000  \n1496                 1              0.500000         0.500000  \n653                  3              0.500000         0.500000  \n1292                 1              0.500000         0.500000  \n1509                 1              0.333333         0.333333  \n650                  3              0.200000         0.200000  \n1508                 1              0.333333         0.333333  \n523                  1              0.111111         0.111111  \n307                  1              1.000000         1.000000  \n1486                 1              0.500000         0.500000  \n1551                 2              0.500000         0.500000  \n665                  1              0.500000         0.500000  \n1284                 1              0.333333         0.333333  \n1558                 3              0.500000         0.500000  \n680                  3              0.200000         0.400000  \n1520                 1              0.250000         0.250000  \n1600                 1              0.142857         0.142857  \n1529                 1              0.333333         0.333333  \n1626                 1              0.142857         0.142857  \n1458                 2              0.200000         0.200000  \n756                  3              0.200000         0.200000  \n1321                 3              0.111111         0.222222  \n1562                 1              0.200000         0.200000  \n1733                 2              0.333333         0.333333  \n1400                 1              0.500000         0.500000  \n159                  1              0.100000         0.100000  \n1512                 1              0.250000         0.250000  \n774                  1              0.200000         0.200000  \n1511                 1              0.500000         0.500000  \n775                  1              0.142857         0.142857  \n1505                 1              0.333333         0.333333  \n928                  1              0.111111         0.111111  \n759                  1              0.166667         0.166667  \n661                  1              0.200000         0.200000  \n1287                 2              0.500000         0.500000  \n1753                 1              0.200000         0.200000  \n722                  1              0.100000         0.100000  \n1522                 1              0.250000         0.250000  \n1527                 1              0.100000         0.100000  \n723                  1              0.142857         0.142857  \n1547                 2              0.250000         0.250000  \n403                  1              0.200000         0.200000  \n761                  3              0.125000         0.125000  \n1283                 1              0.250000         0.250000  \n1856                 2              0.142857         0.142857  ",
      "text/html": "<div>\n<style scoped>\n    .dataframe tbody tr th:only-of-type {\n        vertical-align: middle;\n    }\n\n    .dataframe tbody tr th {\n        vertical-align: top;\n    }\n\n    .dataframe thead th {\n        text-align: right;\n    }\n</style>\n<table border=\"1\" class=\"dataframe\">\n  <thead>\n    <tr style=\"text-align: right;\">\n      <th></th>\n      <th>user_id</th>\n      <th>item_id</th>\n      <th>progress</th>\n      <th>rating</th>\n      <th>start_date</th>\n      <th>predict_rank</th>\n      <th>users_item_count</th>\n      <th>pred_reciprocal_rank</th>\n      <th>cumulative_rank</th>\n    </tr>\n  </thead>\n  <tbody>\n    <tr>\n      <th>1513</th>\n      <td>474</td>\n      <td>235407</td>\n      <td>100</td>\n      <td>5.0</td>\n      <td>2019-12-25</td>\n      <td>2.0</td>\n      <td>1</td>\n      <td>0.500000</td>\n      <td>0.500000</td>\n    </tr>\n    <tr>\n      <th>671</th>\n      <td>1672</td>\n      <td>230067</td>\n      <td>12</td>\n      <td>NaN</td>\n      <td>2019-12-25</td>\n      <td>2.0</td>\n      <td>1</td>\n      <td>0.500000</td>\n      <td>0.500000</td>\n    </tr>\n    <tr>\n      <th>1536</th>\n      <td>10260</td>\n      <td>35265</td>\n      <td>0</td>\n      <td>NaN</td>\n      <td>2019-12-25</td>\n      <td>3.0</td>\n      <td>1</td>\n      <td>0.333333</td>\n      <td>0.333333</td>\n    </tr>\n    <tr>\n      <th>1489</th>\n      <td>11207</td>\n      <td>235407</td>\n      <td>0</td>\n      <td>NaN</td>\n      <td>2019-12-25</td>\n      <td>3.0</td>\n      <td>1</td>\n      <td>0.333333</td>\n      <td>0.333333</td>\n    </tr>\n    <tr>\n      <th>672</th>\n      <td>12589</td>\n      <td>230067</td>\n      <td>5</td>\n      <td>NaN</td>\n      <td>2019-12-25</td>\n      <td>2.0</td>\n      <td>1</td>\n      <td>0.500000</td>\n      <td>0.500000</td>\n    </tr>\n    <tr>\n      <th>1554</th>\n      <td>15277</td>\n      <td>35265</td>\n      <td>99</td>\n      <td>NaN</td>\n      <td>2019-12-25</td>\n      <td>2.0</td>\n      <td>2</td>\n      <td>0.500000</td>\n      <td>0.500000</td>\n    </tr>\n    <tr>\n      <th>654</th>\n      <td>19679</td>\n      <td>230067</td>\n      <td>1</td>\n      <td>NaN</td>\n      <td>2019-12-25</td>\n      <td>5.0</td>\n      <td>1</td>\n      <td>0.200000</td>\n      <td>0.200000</td>\n    </tr>\n    <tr>\n      <th>524</th>\n      <td>25849</td>\n      <td>285394</td>\n      <td>92</td>\n      <td>NaN</td>\n      <td>2019-12-25</td>\n      <td>5.0</td>\n      <td>1</td>\n      <td>0.200000</td>\n      <td>0.200000</td>\n    </tr>\n    <tr>\n      <th>940</th>\n      <td>26416</td>\n      <td>311394</td>\n      <td>100</td>\n      <td>NaN</td>\n      <td>2019-12-25</td>\n      <td>8.0</td>\n      <td>1</td>\n      <td>0.125000</td>\n      <td>0.125000</td>\n    </tr>\n    <tr>\n      <th>727</th>\n      <td>27884</td>\n      <td>208935</td>\n      <td>38</td>\n      <td>NaN</td>\n      <td>2019-12-25</td>\n      <td>8.0</td>\n      <td>1</td>\n      <td>0.125000</td>\n      <td>0.125000</td>\n    </tr>\n    <tr>\n      <th>1496</th>\n      <td>30303</td>\n      <td>235407</td>\n      <td>0</td>\n      <td>NaN</td>\n      <td>2019-12-25</td>\n      <td>2.0</td>\n      <td>1</td>\n      <td>0.500000</td>\n      <td>0.500000</td>\n    </tr>\n    <tr>\n      <th>653</th>\n      <td>34513</td>\n      <td>230067</td>\n      <td>8</td>\n      <td>NaN</td>\n      <td>2019-12-25</td>\n      <td>2.0</td>\n      <td>3</td>\n      <td>0.500000</td>\n      <td>0.500000</td>\n    </tr>\n    <tr>\n      <th>1292</th>\n      <td>36320</td>\n      <td>235407</td>\n      <td>8</td>\n      <td>NaN</td>\n      <td>2019-12-25</td>\n      <td>2.0</td>\n      <td>1</td>\n      <td>0.500000</td>\n      <td>0.500000</td>\n    </tr>\n    <tr>\n      <th>1509</th>\n      <td>40917</td>\n      <td>235407</td>\n      <td>0</td>\n      <td>NaN</td>\n      <td>2019-12-25</td>\n      <td>3.0</td>\n      <td>1</td>\n      <td>0.333333</td>\n      <td>0.333333</td>\n    </tr>\n    <tr>\n      <th>650</th>\n      <td>49285</td>\n      <td>230067</td>\n      <td>13</td>\n      <td>NaN</td>\n      <td>2019-12-25</td>\n      <td>5.0</td>\n      <td>3</td>\n      <td>0.200000</td>\n      <td>0.200000</td>\n    </tr>\n    <tr>\n      <th>1508</th>\n      <td>54703</td>\n      <td>235407</td>\n      <td>23</td>\n      <td>NaN</td>\n      <td>2019-12-25</td>\n      <td>3.0</td>\n      <td>1</td>\n      <td>0.333333</td>\n      <td>0.333333</td>\n    </tr>\n    <tr>\n      <th>523</th>\n      <td>55660</td>\n      <td>285394</td>\n      <td>1</td>\n      <td>NaN</td>\n      <td>2019-12-25</td>\n      <td>9.0</td>\n      <td>1</td>\n      <td>0.111111</td>\n      <td>0.111111</td>\n    </tr>\n    <tr>\n      <th>307</th>\n      <td>57724</td>\n      <td>230067</td>\n      <td>74</td>\n      <td>NaN</td>\n      <td>2019-12-25</td>\n      <td>1.0</td>\n      <td>1</td>\n      <td>1.000000</td>\n      <td>1.000000</td>\n    </tr>\n    <tr>\n      <th>1486</th>\n      <td>59159</td>\n      <td>235407</td>\n      <td>100</td>\n      <td>NaN</td>\n      <td>2019-12-25</td>\n      <td>2.0</td>\n      <td>1</td>\n      <td>0.500000</td>\n      <td>0.500000</td>\n    </tr>\n    <tr>\n      <th>1551</th>\n      <td>59857</td>\n      <td>35265</td>\n      <td>0</td>\n      <td>NaN</td>\n      <td>2019-12-25</td>\n      <td>2.0</td>\n      <td>2</td>\n      <td>0.500000</td>\n      <td>0.500000</td>\n    </tr>\n    <tr>\n      <th>665</th>\n      <td>62081</td>\n      <td>230067</td>\n      <td>100</td>\n      <td>NaN</td>\n      <td>2019-12-25</td>\n      <td>2.0</td>\n      <td>1</td>\n      <td>0.500000</td>\n      <td>0.500000</td>\n    </tr>\n    <tr>\n      <th>1284</th>\n      <td>62760</td>\n      <td>235407</td>\n      <td>98</td>\n      <td>NaN</td>\n      <td>2019-12-25</td>\n      <td>3.0</td>\n      <td>1</td>\n      <td>0.333333</td>\n      <td>0.333333</td>\n    </tr>\n    <tr>\n      <th>1558</th>\n      <td>65615</td>\n      <td>35265</td>\n      <td>100</td>\n      <td>5.0</td>\n      <td>2019-12-25</td>\n      <td>2.0</td>\n      <td>3</td>\n      <td>0.500000</td>\n      <td>0.500000</td>\n    </tr>\n    <tr>\n      <th>680</th>\n      <td>65615</td>\n      <td>230067</td>\n      <td>5</td>\n      <td>NaN</td>\n      <td>2019-12-25</td>\n      <td>5.0</td>\n      <td>3</td>\n      <td>0.200000</td>\n      <td>0.400000</td>\n    </tr>\n    <tr>\n      <th>1520</th>\n      <td>69315</td>\n      <td>235407</td>\n      <td>3</td>\n      <td>NaN</td>\n      <td>2019-12-25</td>\n      <td>4.0</td>\n      <td>1</td>\n      <td>0.250000</td>\n      <td>0.250000</td>\n    </tr>\n    <tr>\n      <th>1600</th>\n      <td>70530</td>\n      <td>291806</td>\n      <td>2</td>\n      <td>NaN</td>\n      <td>2019-12-25</td>\n      <td>7.0</td>\n      <td>1</td>\n      <td>0.142857</td>\n      <td>0.142857</td>\n    </tr>\n    <tr>\n      <th>1529</th>\n      <td>80461</td>\n      <td>35265</td>\n      <td>0</td>\n      <td>NaN</td>\n      <td>2019-12-25</td>\n      <td>3.0</td>\n      <td>1</td>\n      <td>0.333333</td>\n      <td>0.333333</td>\n    </tr>\n    <tr>\n      <th>1626</th>\n      <td>80609</td>\n      <td>291806</td>\n      <td>0</td>\n      <td>NaN</td>\n      <td>2019-12-25</td>\n      <td>7.0</td>\n      <td>1</td>\n      <td>0.142857</td>\n      <td>0.142857</td>\n    </tr>\n    <tr>\n      <th>1458</th>\n      <td>93609</td>\n      <td>8875</td>\n      <td>26</td>\n      <td>NaN</td>\n      <td>2019-12-25</td>\n      <td>5.0</td>\n      <td>2</td>\n      <td>0.200000</td>\n      <td>0.200000</td>\n    </tr>\n    <tr>\n      <th>756</th>\n      <td>94320</td>\n      <td>155266</td>\n      <td>100</td>\n      <td>NaN</td>\n      <td>2019-12-25</td>\n      <td>5.0</td>\n      <td>3</td>\n      <td>0.200000</td>\n      <td>0.200000</td>\n    </tr>\n    <tr>\n      <th>1321</th>\n      <td>94320</td>\n      <td>270415</td>\n      <td>100</td>\n      <td>NaN</td>\n      <td>2019-12-25</td>\n      <td>9.0</td>\n      <td>3</td>\n      <td>0.111111</td>\n      <td>0.222222</td>\n    </tr>\n    <tr>\n      <th>1562</th>\n      <td>97139</td>\n      <td>35265</td>\n      <td>100</td>\n      <td>NaN</td>\n      <td>2019-12-25</td>\n      <td>5.0</td>\n      <td>1</td>\n      <td>0.200000</td>\n      <td>0.200000</td>\n    </tr>\n    <tr>\n      <th>1733</th>\n      <td>97557</td>\n      <td>211217</td>\n      <td>8</td>\n      <td>NaN</td>\n      <td>2019-12-25</td>\n      <td>3.0</td>\n      <td>2</td>\n      <td>0.333333</td>\n      <td>0.333333</td>\n    </tr>\n    <tr>\n      <th>1400</th>\n      <td>99919</td>\n      <td>235407</td>\n      <td>0</td>\n      <td>NaN</td>\n      <td>2019-12-25</td>\n      <td>2.0</td>\n      <td>1</td>\n      <td>0.500000</td>\n      <td>0.500000</td>\n    </tr>\n    <tr>\n      <th>159</th>\n      <td>102560</td>\n      <td>147734</td>\n      <td>0</td>\n      <td>NaN</td>\n      <td>2019-12-25</td>\n      <td>10.0</td>\n      <td>1</td>\n      <td>0.100000</td>\n      <td>0.100000</td>\n    </tr>\n    <tr>\n      <th>1512</th>\n      <td>106678</td>\n      <td>235407</td>\n      <td>0</td>\n      <td>NaN</td>\n      <td>2019-12-25</td>\n      <td>4.0</td>\n      <td>1</td>\n      <td>0.250000</td>\n      <td>0.250000</td>\n    </tr>\n    <tr>\n      <th>774</th>\n      <td>110941</td>\n      <td>151190</td>\n      <td>1</td>\n      <td>NaN</td>\n      <td>2019-12-25</td>\n      <td>5.0</td>\n      <td>1</td>\n      <td>0.200000</td>\n      <td>0.200000</td>\n    </tr>\n    <tr>\n      <th>1511</th>\n      <td>112909</td>\n      <td>235407</td>\n      <td>0</td>\n      <td>NaN</td>\n      <td>2019-12-25</td>\n      <td>2.0</td>\n      <td>1</td>\n      <td>0.500000</td>\n      <td>0.500000</td>\n    </tr>\n    <tr>\n      <th>775</th>\n      <td>116977</td>\n      <td>151190</td>\n      <td>0</td>\n      <td>NaN</td>\n      <td>2019-12-25</td>\n      <td>7.0</td>\n      <td>1</td>\n      <td>0.142857</td>\n      <td>0.142857</td>\n    </tr>\n    <tr>\n      <th>1505</th>\n      <td>117770</td>\n      <td>235407</td>\n      <td>62</td>\n      <td>NaN</td>\n      <td>2019-12-25</td>\n      <td>3.0</td>\n      <td>1</td>\n      <td>0.333333</td>\n      <td>0.333333</td>\n    </tr>\n    <tr>\n      <th>928</th>\n      <td>118241</td>\n      <td>155266</td>\n      <td>11</td>\n      <td>NaN</td>\n      <td>2019-12-25</td>\n      <td>9.0</td>\n      <td>1</td>\n      <td>0.111111</td>\n      <td>0.111111</td>\n    </tr>\n    <tr>\n      <th>759</th>\n      <td>120351</td>\n      <td>151190</td>\n      <td>0</td>\n      <td>NaN</td>\n      <td>2019-12-25</td>\n      <td>6.0</td>\n      <td>1</td>\n      <td>0.166667</td>\n      <td>0.166667</td>\n    </tr>\n    <tr>\n      <th>661</th>\n      <td>125739</td>\n      <td>230067</td>\n      <td>1</td>\n      <td>NaN</td>\n      <td>2019-12-25</td>\n      <td>5.0</td>\n      <td>1</td>\n      <td>0.200000</td>\n      <td>0.200000</td>\n    </tr>\n    <tr>\n      <th>1287</th>\n      <td>126991</td>\n      <td>235407</td>\n      <td>0</td>\n      <td>NaN</td>\n      <td>2019-12-25</td>\n      <td>2.0</td>\n      <td>2</td>\n      <td>0.500000</td>\n      <td>0.500000</td>\n    </tr>\n    <tr>\n      <th>1753</th>\n      <td>127344</td>\n      <td>281005</td>\n      <td>28</td>\n      <td>NaN</td>\n      <td>2019-12-25</td>\n      <td>5.0</td>\n      <td>1</td>\n      <td>0.200000</td>\n      <td>0.200000</td>\n    </tr>\n    <tr>\n      <th>722</th>\n      <td>128885</td>\n      <td>208935</td>\n      <td>0</td>\n      <td>NaN</td>\n      <td>2019-12-25</td>\n      <td>10.0</td>\n      <td>1</td>\n      <td>0.100000</td>\n      <td>0.100000</td>\n    </tr>\n    <tr>\n      <th>1522</th>\n      <td>129383</td>\n      <td>235407</td>\n      <td>100</td>\n      <td>NaN</td>\n      <td>2019-12-25</td>\n      <td>4.0</td>\n      <td>1</td>\n      <td>0.250000</td>\n      <td>0.250000</td>\n    </tr>\n    <tr>\n      <th>1527</th>\n      <td>131940</td>\n      <td>35265</td>\n      <td>52</td>\n      <td>NaN</td>\n      <td>2019-12-25</td>\n      <td>10.0</td>\n      <td>1</td>\n      <td>0.100000</td>\n      <td>0.100000</td>\n    </tr>\n    <tr>\n      <th>723</th>\n      <td>135937</td>\n      <td>208935</td>\n      <td>2</td>\n      <td>NaN</td>\n      <td>2019-12-25</td>\n      <td>7.0</td>\n      <td>1</td>\n      <td>0.142857</td>\n      <td>0.142857</td>\n    </tr>\n    <tr>\n      <th>1547</th>\n      <td>139770</td>\n      <td>35265</td>\n      <td>0</td>\n      <td>NaN</td>\n      <td>2019-12-25</td>\n      <td>4.0</td>\n      <td>2</td>\n      <td>0.250000</td>\n      <td>0.250000</td>\n    </tr>\n    <tr>\n      <th>403</th>\n      <td>144116</td>\n      <td>155266</td>\n      <td>97</td>\n      <td>NaN</td>\n      <td>2019-12-25</td>\n      <td>5.0</td>\n      <td>1</td>\n      <td>0.200000</td>\n      <td>0.200000</td>\n    </tr>\n    <tr>\n      <th>761</th>\n      <td>144818</td>\n      <td>151190</td>\n      <td>3</td>\n      <td>NaN</td>\n      <td>2019-12-25</td>\n      <td>8.0</td>\n      <td>3</td>\n      <td>0.125000</td>\n      <td>0.125000</td>\n    </tr>\n    <tr>\n      <th>1283</th>\n      <td>146602</td>\n      <td>235407</td>\n      <td>11</td>\n      <td>NaN</td>\n      <td>2019-12-25</td>\n      <td>4.0</td>\n      <td>1</td>\n      <td>0.250000</td>\n      <td>0.250000</td>\n    </tr>\n    <tr>\n      <th>1856</th>\n      <td>150266</td>\n      <td>238856</td>\n      <td>0</td>\n      <td>NaN</td>\n      <td>2019-12-25</td>\n      <td>7.0</td>\n      <td>2</td>\n      <td>0.142857</td>\n      <td>0.142857</td>\n    </tr>\n  </tbody>\n</table>\n</div>"
     },
     "execution_count": 69,
     "metadata": {},
     "output_type": "execute_result"
    }
   ],
   "source": [
    "test_recs[test_recs['predict_rank'].notnull()]"
   ],
   "metadata": {
    "collapsed": false,
    "pycharm": {
     "name": "#%%\n"
    }
   }
  },
  {
   "cell_type": "code",
   "execution_count": 70,
   "outputs": [
    {
     "name": "stdout",
     "output_type": "stream",
     "text": [
      "Метрик по test (2019-12-25, 2019-12-26)\n"
     ]
    }
   ],
   "source": [
    "print(f'Метрик по test ({str(split_dates[0])[:10]}, {str(split_dates[1])[:10]})')"
   ],
   "metadata": {
    "collapsed": false,
    "pycharm": {
     "name": "#%%\n"
    }
   }
  },
  {
   "cell_type": "code",
   "execution_count": 71,
   "outputs": [],
   "source": [
    "users_count = test_recs['user_id'].nunique()"
   ],
   "metadata": {
    "collapsed": false,
    "pycharm": {
     "name": "#%%\n"
    }
   }
  },
  {
   "cell_type": "code",
   "execution_count": 72,
   "outputs": [
    {
     "data": {
      "text/plain": "1751"
     },
     "execution_count": 72,
     "metadata": {},
     "output_type": "execute_result"
    }
   ],
   "source": [
    "users_count"
   ],
   "metadata": {
    "collapsed": false,
    "pycharm": {
     "name": "#%%\n"
    }
   }
  },
  {
   "cell_type": "code",
   "execution_count": 73,
   "outputs": [
    {
     "name": "stdout",
     "output_type": "stream",
     "text": [
      "Precision@1 = 0.0006\n",
      "Recall@1 = 0.0006\n",
      "Precision@2 = 0.0043\n",
      "Recall@2 = 0.0069\n",
      "Precision@3 = 0.0044\n",
      "Recall@3 = 0.0112\n",
      "Precision@4 = 0.0040\n",
      "Recall@4 = 0.0138\n",
      "Precision@5 = 0.0045\n",
      "Recall@5 = 0.0187\n",
      "Precision@6 = 0.0038\n",
      "Recall@6 = 0.0192\n",
      "Precision@7 = 0.0037\n",
      "Recall@7 = 0.0218\n",
      "Precision@8 = 0.0034\n",
      "Recall@8 = 0.0231\n",
      "Precision@9 = 0.0032\n",
      "Recall@9 = 0.0245\n",
      "Precision@10 = 0.0031\n",
      "Recall@10 = 0.0262\n"
     ]
    }
   ],
   "source": [
    "for k in range(1, top_N + 1):\n",
    "    hit_k = f'hit@{k}'\n",
    "    test_recs[hit_k] = test_recs['predict_rank'] <= k\n",
    "    print(f'Precision@{k} = {(test_recs[hit_k] / k).sum() / users_count:.4f}')\n",
    "    print(f\"Recall@{k} = {(test_recs[hit_k] / test_recs['users_item_count']).sum() / users_count:.4f}\")"
   ],
   "metadata": {
    "collapsed": false,
    "pycharm": {
     "name": "#%%\n"
    }
   }
  },
  {
   "cell_type": "code",
   "execution_count": 74,
   "outputs": [
    {
     "name": "stdout",
     "output_type": "stream",
     "text": [
      "MAP@10 = 0.007808387648479025\n"
     ]
    }
   ],
   "source": [
    "mapN = (test_recs[\"cumulative_rank\"] / test_recs[\"users_item_count\"]).sum() / users_count\n",
    "print(f\"MAP@{top_N} = {mapN}\")"
   ],
   "metadata": {
    "collapsed": false,
    "pycharm": {
     "name": "#%%\n"
    }
   }
  },
  {
   "cell_type": "code",
   "execution_count": 75,
   "outputs": [
    {
     "name": "stdout",
     "output_type": "stream",
     "text": [
      "MRR = 0.008963358806305693\n"
     ]
    }
   ],
   "source": [
    "mrr = test_recs.groupby('user_id').agg({'pred_reciprocal_rank':'max'}).reset_index()['pred_reciprocal_rank'].mean()\n",
    "print(f\"MRR = {mrr}\")"
   ],
   "metadata": {
    "collapsed": false,
    "pycharm": {
     "name": "#%%\n"
    }
   }
  }
 ],
 "metadata": {
  "kernelspec": {
   "display_name": "Python 3",
   "language": "python",
   "name": "python3"
  },
  "language_info": {
   "codemirror_mode": {
    "name": "ipython",
    "version": 3
   },
   "file_extension": ".py",
   "mimetype": "text/x-python",
   "name": "python",
   "nbconvert_exporter": "python",
   "pygments_lexer": "ipython3",
   "version": "3.7.6"
  },
  "papermill": {
   "duration": 20.654014,
   "end_time": "2020-10-25T07:01:41.028757",
   "environment_variables": {},
   "exception": null,
   "input_path": "__notebook__.ipynb",
   "output_path": "__notebook__.ipynb",
   "parameters": {},
   "start_time": "2020-10-25T07:01:20.374743",
   "version": "2.1.0"
  }
 },
 "nbformat": 4,
 "nbformat_minor": 4
}
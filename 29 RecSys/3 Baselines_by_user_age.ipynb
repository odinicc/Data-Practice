{
 "cells": [
  {
   "cell_type": "markdown",
   "metadata": {
    "papermill": {
     "duration": 0.043203,
     "end_time": "2020-10-25T07:01:24.222229",
     "exception": false,
     "start_time": "2020-10-25T07:01:24.179026",
     "status": "completed"
    },
    "tags": [],
    "pycharm": {
     "name": "#%% md\n"
    }
   },
   "source": [
    "# Metrics, validation strategies and baselines\n",
    "\n",
    "В данном jupyter notebook рассматриваются примеры того, какие схемы валидации и метрики используются в рекомендательных системах.\n",
    "Также построим простые модели (бейзлайны) на данных МТС Библиотеки. \n",
    "\n",
    "* [Preprocessing](#preprocessing)\n",
    "* [General remarks](#general-remarks)\n",
    "* [Metrics](#metrics)\n",
    "    * [Regression](#regression)\n",
    "    * [Classification](#classification)\n",
    "    * [Ranking](#ranking)\n",
    "* [Validation strategies](#validation)\n",
    "* [Baselines](#baselines)"
   ]
  },
  {
   "cell_type": "code",
   "execution_count": 2,
   "metadata": {
    "_cell_guid": "b1076dfc-b9ad-4769-8c92-a6c4dae69d19",
    "_kg_hide-input": true,
    "_uuid": "8f2839f25d086af736a60e9eeb907d3b93b6e0e5",
    "execution": {
     "iopub.execute_input": "2020-10-25T07:01:24.311769Z",
     "iopub.status.busy": "2020-10-25T07:01:24.311271Z",
     "iopub.status.idle": "2020-10-25T07:01:24.329979Z",
     "shell.execute_reply": "2020-10-25T07:01:24.329585Z"
    },
    "papermill": {
     "duration": 0.066139,
     "end_time": "2020-10-25T07:01:24.330062",
     "exception": false,
     "start_time": "2020-10-25T07:01:24.263923",
     "status": "completed"
    },
    "tags": [],
    "pycharm": {
     "name": "#%%\n"
    }
   },
   "outputs": [],
   "source": [
    "import os\n",
    "import numpy as np \n",
    "import pandas as pd \n",
    "from itertools import islice, cycle\n",
    "from more_itertools import pairwise\n",
    "\n"
   ]
  },
  {
   "cell_type": "markdown",
   "metadata": {
    "papermill": {
     "duration": 0.041416,
     "end_time": "2020-10-25T07:01:24.414765",
     "exception": false,
     "start_time": "2020-10-25T07:01:24.373349",
     "status": "completed"
    },
    "tags": [],
    "pycharm": {
     "name": "#%% md\n"
    }
   },
   "source": [
    "<a id=\"preprocessing\"></a>\n",
    "# Preprocessing\n",
    "\n",
    "Загрузим наши данные, теперь уже с фичами, и применим знания из [pandas-scipy-for-recsys](https://www.kaggle.com/sharthz23/pandas-scipy-for-recsys)"
   ]
  },
  {
   "cell_type": "code",
   "execution_count": 3,
   "metadata": {
    "execution": {
     "iopub.execute_input": "2020-10-25T07:01:24.502698Z",
     "iopub.status.busy": "2020-10-25T07:01:24.502203Z",
     "iopub.status.idle": "2020-10-25T07:01:26.303449Z",
     "shell.execute_reply": "2020-10-25T07:01:26.302965Z"
    },
    "papermill": {
     "duration": 1.846902,
     "end_time": "2020-10-25T07:01:26.303534",
     "exception": false,
     "start_time": "2020-10-25T07:01:24.456632",
     "status": "completed"
    },
    "tags": [],
    "pycharm": {
     "name": "#%%\n"
    }
   },
   "outputs": [],
   "source": [
    "df = pd.read_pickle('./interactions_preprocessed.pickle')\n",
    "df_users = pd.read_pickle('./users_preprocessed.pickle')\n",
    "df_items = pd.read_pickle('./items_preprocessed.pickle')"
   ]
  },
  {
   "cell_type": "code",
   "execution_count": 4,
   "outputs": [],
   "source": [
    "test_dates = df['start_date'].unique()[-7:]\n",
    "\n"
   ],
   "metadata": {
    "collapsed": false,
    "pycharm": {
     "name": "#%%\n"
    }
   }
  },
  {
   "cell_type": "code",
   "execution_count": 5,
   "outputs": [
    {
     "data": {
      "text/plain": "[(numpy.datetime64('2019-12-25T00:00:00.000000000'),\n  numpy.datetime64('2019-12-26T00:00:00.000000000')),\n (numpy.datetime64('2019-12-26T00:00:00.000000000'),\n  numpy.datetime64('2019-12-27T00:00:00.000000000')),\n (numpy.datetime64('2019-12-27T00:00:00.000000000'),\n  numpy.datetime64('2019-12-28T00:00:00.000000000')),\n (numpy.datetime64('2019-12-28T00:00:00.000000000'),\n  numpy.datetime64('2019-12-29T00:00:00.000000000')),\n (numpy.datetime64('2019-12-29T00:00:00.000000000'),\n  numpy.datetime64('2019-12-30T00:00:00.000000000')),\n (numpy.datetime64('2019-12-30T00:00:00.000000000'),\n  numpy.datetime64('2019-12-31T00:00:00.000000000'))]"
     },
     "execution_count": 5,
     "metadata": {},
     "output_type": "execute_result"
    }
   ],
   "source": [
    "test_dates = list(pairwise(test_dates))\n",
    "test_dates"
   ],
   "metadata": {
    "collapsed": false,
    "pycharm": {
     "name": "#%%\n"
    }
   }
  },
  {
   "cell_type": "code",
   "execution_count": 6,
   "outputs": [],
   "source": [
    "split_dates = test_dates[0]"
   ],
   "metadata": {
    "collapsed": false,
    "pycharm": {
     "name": "#%%\n"
    }
   }
  },
  {
   "cell_type": "code",
   "execution_count": 7,
   "outputs": [],
   "source": [
    "train = df[df['start_date'] < split_dates[0]]"
   ],
   "metadata": {
    "collapsed": false,
    "pycharm": {
     "name": "#%%\n"
    }
   }
  },
  {
   "cell_type": "code",
   "execution_count": 8,
   "outputs": [],
   "source": [
    "test = df[(df['start_date'] >= split_dates[0]) & (df['start_date'] < split_dates[1])]"
   ],
   "metadata": {
    "collapsed": false,
    "pycharm": {
     "name": "#%%\n"
    }
   }
  },
  {
   "cell_type": "code",
   "execution_count": 9,
   "outputs": [],
   "source": [
    "test = test[(test['rating'] >= 4) | (test['rating'].isnull())]"
   ],
   "metadata": {
    "collapsed": false,
    "pycharm": {
     "name": "#%%\n"
    }
   }
  },
  {
   "cell_type": "code",
   "execution_count": 10,
   "outputs": [
    {
     "data": {
      "text/plain": "((numpy.datetime64('2019-12-25T00:00:00.000000000'),\n  numpy.datetime64('2019-12-26T00:00:00.000000000')),\n (1517994, 5),\n (2114, 5))"
     },
     "execution_count": 10,
     "metadata": {},
     "output_type": "execute_result"
    }
   ],
   "source": [
    "split_dates, train.shape, test.shape\n"
   ],
   "metadata": {
    "collapsed": false,
    "pycharm": {
     "name": "#%%\n"
    }
   }
  },
  {
   "cell_type": "markdown",
   "source": [
    "<a id=\"baselines\"></a>\n",
    "# Baselines\n",
    "\n",
    "Будем строить бейзлайн по популярному в зависимости от возраста пользователя"
   ],
   "metadata": {
    "collapsed": false,
    "pycharm": {
     "name": "#%% md\n"
    }
   }
  },
  {
   "cell_type": "code",
   "execution_count": 11,
   "outputs": [
    {
     "data": {
      "text/plain": "        user_id     age  sex\n0             1   45_54  NaN\n1             2   18_24  0.0\n2             3  65_inf  0.0\n3             4   18_24  0.0\n4             5   35_44  0.0\n...         ...     ...  ...\n142883   159606   25_34  0.0\n142884   159607   25_34  NaN\n142885   159609   18_24  0.0\n142886   159610   35_44  0.0\n142887   159611   35_44  0.0\n\n[142888 rows x 3 columns]",
      "text/html": "<div>\n<style scoped>\n    .dataframe tbody tr th:only-of-type {\n        vertical-align: middle;\n    }\n\n    .dataframe tbody tr th {\n        vertical-align: top;\n    }\n\n    .dataframe thead th {\n        text-align: right;\n    }\n</style>\n<table border=\"1\" class=\"dataframe\">\n  <thead>\n    <tr style=\"text-align: right;\">\n      <th></th>\n      <th>user_id</th>\n      <th>age</th>\n      <th>sex</th>\n    </tr>\n  </thead>\n  <tbody>\n    <tr>\n      <th>0</th>\n      <td>1</td>\n      <td>45_54</td>\n      <td>NaN</td>\n    </tr>\n    <tr>\n      <th>1</th>\n      <td>2</td>\n      <td>18_24</td>\n      <td>0.0</td>\n    </tr>\n    <tr>\n      <th>2</th>\n      <td>3</td>\n      <td>65_inf</td>\n      <td>0.0</td>\n    </tr>\n    <tr>\n      <th>3</th>\n      <td>4</td>\n      <td>18_24</td>\n      <td>0.0</td>\n    </tr>\n    <tr>\n      <th>4</th>\n      <td>5</td>\n      <td>35_44</td>\n      <td>0.0</td>\n    </tr>\n    <tr>\n      <th>...</th>\n      <td>...</td>\n      <td>...</td>\n      <td>...</td>\n    </tr>\n    <tr>\n      <th>142883</th>\n      <td>159606</td>\n      <td>25_34</td>\n      <td>0.0</td>\n    </tr>\n    <tr>\n      <th>142884</th>\n      <td>159607</td>\n      <td>25_34</td>\n      <td>NaN</td>\n    </tr>\n    <tr>\n      <th>142885</th>\n      <td>159609</td>\n      <td>18_24</td>\n      <td>0.0</td>\n    </tr>\n    <tr>\n      <th>142886</th>\n      <td>159610</td>\n      <td>35_44</td>\n      <td>0.0</td>\n    </tr>\n    <tr>\n      <th>142887</th>\n      <td>159611</td>\n      <td>35_44</td>\n      <td>0.0</td>\n    </tr>\n  </tbody>\n</table>\n<p>142888 rows × 3 columns</p>\n</div>"
     },
     "execution_count": 11,
     "metadata": {},
     "output_type": "execute_result"
    }
   ],
   "source": [
    "df_users"
   ],
   "metadata": {
    "collapsed": false,
    "pycharm": {
     "name": "#%%\n"
    }
   }
  },
  {
   "cell_type": "code",
   "execution_count": 12,
   "outputs": [
    {
     "data": {
      "text/plain": "   user_id  item_id  progress  rating start_date\n0   126706    14433        80     NaN 2018-01-01\n1   127290   140952        58     NaN 2018-01-01",
      "text/html": "<div>\n<style scoped>\n    .dataframe tbody tr th:only-of-type {\n        vertical-align: middle;\n    }\n\n    .dataframe tbody tr th {\n        vertical-align: top;\n    }\n\n    .dataframe thead th {\n        text-align: right;\n    }\n</style>\n<table border=\"1\" class=\"dataframe\">\n  <thead>\n    <tr style=\"text-align: right;\">\n      <th></th>\n      <th>user_id</th>\n      <th>item_id</th>\n      <th>progress</th>\n      <th>rating</th>\n      <th>start_date</th>\n    </tr>\n  </thead>\n  <tbody>\n    <tr>\n      <th>0</th>\n      <td>126706</td>\n      <td>14433</td>\n      <td>80</td>\n      <td>NaN</td>\n      <td>2018-01-01</td>\n    </tr>\n    <tr>\n      <th>1</th>\n      <td>127290</td>\n      <td>140952</td>\n      <td>58</td>\n      <td>NaN</td>\n      <td>2018-01-01</td>\n    </tr>\n  </tbody>\n</table>\n</div>"
     },
     "execution_count": 12,
     "metadata": {},
     "output_type": "execute_result"
    }
   ],
   "source": [
    "train.head(2)"
   ],
   "metadata": {
    "collapsed": false,
    "pycharm": {
     "name": "#%%\n"
    }
   }
  },
  {
   "cell_type": "code",
   "execution_count": 13,
   "outputs": [
    {
     "data": {
      "text/plain": "         user_id  item_id  progress  rating start_date\n1517914    38753   135245         0     NaN 2019-12-25\n1517915   101642   319500        67     5.0 2019-12-25",
      "text/html": "<div>\n<style scoped>\n    .dataframe tbody tr th:only-of-type {\n        vertical-align: middle;\n    }\n\n    .dataframe tbody tr th {\n        vertical-align: top;\n    }\n\n    .dataframe thead th {\n        text-align: right;\n    }\n</style>\n<table border=\"1\" class=\"dataframe\">\n  <thead>\n    <tr style=\"text-align: right;\">\n      <th></th>\n      <th>user_id</th>\n      <th>item_id</th>\n      <th>progress</th>\n      <th>rating</th>\n      <th>start_date</th>\n    </tr>\n  </thead>\n  <tbody>\n    <tr>\n      <th>1517914</th>\n      <td>38753</td>\n      <td>135245</td>\n      <td>0</td>\n      <td>NaN</td>\n      <td>2019-12-25</td>\n    </tr>\n    <tr>\n      <th>1517915</th>\n      <td>101642</td>\n      <td>319500</td>\n      <td>67</td>\n      <td>5.0</td>\n      <td>2019-12-25</td>\n    </tr>\n  </tbody>\n</table>\n</div>"
     },
     "execution_count": 13,
     "metadata": {},
     "output_type": "execute_result"
    }
   ],
   "source": [
    "test.head(2)"
   ],
   "metadata": {
    "collapsed": false,
    "pycharm": {
     "name": "#%%\n"
    }
   }
  },
  {
   "cell_type": "code",
   "execution_count": null,
   "outputs": [],
   "source": [],
   "metadata": {
    "collapsed": false,
    "pycharm": {
     "name": "#%%\n"
    }
   }
  },
  {
   "cell_type": "code",
   "execution_count": 35,
   "outputs": [],
   "source": [
    "class PopularRecommender():\n",
    "    def __init__(self, max_K=100, days=30, item_column='item_id', dt_column='date'):\n",
    "        self.max_K = max_K\n",
    "        self.days = days\n",
    "        self.item_column = item_column\n",
    "        self.dt_column = dt_column\n",
    "        self.recommendations = []\n",
    "        self.min_date = min_date\n",
    "\n",
    "    def fit(self, df, ):\n",
    "        min_date = df[self.dt_column].max().normalize() - pd.DateOffset(days=self.days)\n",
    "        self.min_date = min_date\n",
    "        self.recommendations = df.loc[df[self.dt_column] > min_date, self.item_column].value_counts().head(self.max_K).index.values\n",
    "\n",
    "    def recommend(self, users=None, N=10):\n",
    "        recs = self.recommendations[:N]\n",
    "        if users is None:\n",
    "            return recs\n",
    "        else:\n",
    "            return list(islice(cycle([recs]), len(users)))"
   ],
   "metadata": {
    "collapsed": false,
    "pycharm": {
     "name": "#%%\n"
    }
   }
  },
  {
   "cell_type": "code",
   "execution_count": 36,
   "outputs": [],
   "source": [
    "pop_model = PopularRecommender(days=77, dt_column='start_date')"
   ],
   "metadata": {
    "collapsed": false,
    "pycharm": {
     "name": "#%%\n"
    }
   }
  },
  {
   "cell_type": "code",
   "execution_count": 37,
   "outputs": [
    {
     "data": {
      "text/plain": "{'max_K': 100,\n 'days': 77,\n 'item_column': 'item_id',\n 'dt_column': 'start_date',\n 'recommendations': [],\n 'min_date': Timestamp('2019-10-08 00:00:00')}"
     },
     "execution_count": 37,
     "metadata": {},
     "output_type": "execute_result"
    }
   ],
   "source": [
    "vars(pop_model)"
   ],
   "metadata": {
    "collapsed": false,
    "pycharm": {
     "name": "#%%\n"
    }
   }
  },
  {
   "cell_type": "code",
   "execution_count": 21,
   "outputs": [
    {
     "data": {
      "text/plain": "723"
     },
     "execution_count": 21,
     "metadata": {},
     "output_type": "execute_result"
    }
   ],
   "source": [
    "train['start_date'].nunique()"
   ],
   "metadata": {
    "collapsed": false,
    "pycharm": {
     "name": "#%%\n"
    }
   }
  },
  {
   "cell_type": "code",
   "execution_count": null,
   "outputs": [],
   "source": [],
   "metadata": {
    "collapsed": false,
    "pycharm": {
     "name": "#%%\n"
    }
   }
  },
  {
   "cell_type": "code",
   "execution_count": null,
   "outputs": [],
   "source": [],
   "metadata": {
    "collapsed": false,
    "pycharm": {
     "name": "#%%\n"
    }
   }
  },
  {
   "cell_type": "code",
   "execution_count": 26,
   "outputs": [],
   "source": [
    "min_date = train['start_date'].max().normalize() - pd.DateOffset(days=77)"
   ],
   "metadata": {
    "collapsed": false,
    "pycharm": {
     "name": "#%%\n"
    }
   }
  },
  {
   "cell_type": "code",
   "execution_count": 27,
   "outputs": [
    {
     "data": {
      "text/plain": "Timestamp('2019-10-08 00:00:00')"
     },
     "execution_count": 27,
     "metadata": {},
     "output_type": "execute_result"
    }
   ],
   "source": [
    "min_date"
   ],
   "metadata": {
    "collapsed": false,
    "pycharm": {
     "name": "#%%\n"
    }
   }
  },
  {
   "cell_type": "code",
   "execution_count": 43,
   "outputs": [
    {
     "data": {
      "text/plain": "1355528    158123\n1355529    160933\n1355530     63496\n1355531    198094\n1355532    299722\n            ...  \n1532914    285394\n1532915     73789\n1532916     77993\n1532917    230195\n1532924    233762\nName: item_id, Length: 177391, dtype: int64"
     },
     "execution_count": 43,
     "metadata": {},
     "output_type": "execute_result"
    }
   ],
   "source": [
    "dt_column = 'start_date'\n",
    "item_column = 'item_id'\n",
    "df.loc[df[dt_column] > min_date, item_column]"
   ],
   "metadata": {
    "collapsed": false,
    "pycharm": {
     "name": "#%%\n"
    }
   }
  },
  {
   "cell_type": "code",
   "execution_count": null,
   "outputs": [],
   "source": [],
   "metadata": {
    "collapsed": false,
    "pycharm": {
     "name": "#%%\n"
    }
   }
  },
  {
   "cell_type": "code",
   "execution_count": null,
   "outputs": [],
   "source": [],
   "metadata": {
    "collapsed": false,
    "pycharm": {
     "name": "#%%\n"
    }
   }
  },
  {
   "cell_type": "code",
   "execution_count": 25,
   "outputs": [
    {
     "data": {
      "text/plain": "   user_id  item_id  progress  rating start_date\n0   126706    14433        80     NaN 2018-01-01\n1   127290   140952        58     NaN 2018-01-01",
      "text/html": "<div>\n<style scoped>\n    .dataframe tbody tr th:only-of-type {\n        vertical-align: middle;\n    }\n\n    .dataframe tbody tr th {\n        vertical-align: top;\n    }\n\n    .dataframe thead th {\n        text-align: right;\n    }\n</style>\n<table border=\"1\" class=\"dataframe\">\n  <thead>\n    <tr style=\"text-align: right;\">\n      <th></th>\n      <th>user_id</th>\n      <th>item_id</th>\n      <th>progress</th>\n      <th>rating</th>\n      <th>start_date</th>\n    </tr>\n  </thead>\n  <tbody>\n    <tr>\n      <th>0</th>\n      <td>126706</td>\n      <td>14433</td>\n      <td>80</td>\n      <td>NaN</td>\n      <td>2018-01-01</td>\n    </tr>\n    <tr>\n      <th>1</th>\n      <td>127290</td>\n      <td>140952</td>\n      <td>58</td>\n      <td>NaN</td>\n      <td>2018-01-01</td>\n    </tr>\n  </tbody>\n</table>\n</div>"
     },
     "execution_count": 25,
     "metadata": {},
     "output_type": "execute_result"
    }
   ],
   "source": [
    "train.head(2)"
   ],
   "metadata": {
    "collapsed": false,
    "pycharm": {
     "name": "#%%\n"
    }
   }
  },
  {
   "cell_type": "code",
   "execution_count": null,
   "outputs": [],
   "source": [],
   "metadata": {
    "collapsed": false,
    "pycharm": {
     "name": "#%%\n"
    }
   }
  },
  {
   "cell_type": "code",
   "execution_count": 38,
   "outputs": [],
   "source": [
    "pop_model.fit(train)"
   ],
   "metadata": {
    "collapsed": false,
    "pycharm": {
     "name": "#%%\n"
    }
   }
  },
  {
   "cell_type": "code",
   "execution_count": 40,
   "outputs": [
    {
     "data": {
      "text/plain": "{'max_K': 100,\n 'days': 77,\n 'item_column': 'item_id',\n 'dt_column': 'start_date',\n 'recommendations': array([109201, 230067, 235407,  35265, 155266, 237760, 291806, 151190,\n        270415, 285394, 218025, 115190, 147734, 282647, 208935, 271846,\n         74650, 281005, 168037, 135032, 168900, 219099, 288531,  75579,\n        226196,  96052,   9197, 169853, 312940, 103077,  99616,  63978,\n          6136, 311394,  86588,  43622, 295007, 110811, 104010, 176898,\n        210979,  48510, 107522,  55913,  67643, 181955,  30772, 141961,\n        233762, 126581, 247959,  93249, 238200,  39878, 276498, 238856,\n        303990,  86123,   5001,   8875,  31454, 241026,  28889, 209326,\n        265984,  26963, 231923, 211217, 243711, 121687,  90674, 108759,\n        232317, 163618, 251856,  11424, 233644,  58803, 240571,  49352,\n        231257,  12301, 297013, 145016,  65912,  99357, 181857, 226128,\n         81827,  35226, 121544, 206185, 312792,  90225,  34363, 223806,\n        222102, 250772,  25173, 229749], dtype=int64),\n 'min_date': Timestamp('2019-10-08 00:00:00')}"
     },
     "execution_count": 40,
     "metadata": {},
     "output_type": "execute_result"
    }
   ],
   "source": [
    "vars(pop_model)"
   ],
   "metadata": {
    "collapsed": false,
    "pycharm": {
     "name": "#%%\n"
    }
   }
  },
  {
   "cell_type": "code",
   "execution_count": 17,
   "outputs": [
    {
     "data": {
      "text/plain": "array([109201, 230067, 235407,  35265, 155266, 237760, 291806, 151190,\n       270415, 285394, 218025, 115190, 147734, 282647, 208935, 271846,\n        74650, 281005, 168037, 135032, 168900, 219099, 288531,  75579,\n       226196,  96052,   9197, 169853, 312940, 103077,  99616,  63978,\n         6136, 311394,  86588,  43622, 295007, 110811, 104010, 176898,\n       210979,  48510, 107522,  55913,  67643, 181955,  30772, 141961,\n       233762, 126581, 247959,  93249, 238200,  39878, 276498, 238856,\n       303990,  86123,   5001,   8875,  31454, 241026,  28889, 209326,\n       265984,  26963, 231923, 211217, 243711, 121687,  90674, 108759,\n       232317, 163618, 251856,  11424, 233644,  58803, 240571,  49352,\n       231257,  12301, 297013, 145016,  65912,  99357, 181857, 226128,\n        81827,  35226, 121544, 206185, 312792,  90225,  34363, 223806,\n       222102, 250772,  25173, 229749], dtype=int64)"
     },
     "execution_count": 17,
     "metadata": {},
     "output_type": "execute_result"
    }
   ],
   "source": [
    "pop_model.recommendations"
   ],
   "metadata": {
    "collapsed": false,
    "pycharm": {
     "name": "#%%\n"
    }
   }
  },
  {
   "cell_type": "code",
   "execution_count": 18,
   "outputs": [
    {
     "data": {
      "text/plain": "77"
     },
     "execution_count": 18,
     "metadata": {},
     "output_type": "execute_result"
    }
   ],
   "source": [
    "pop_model.days"
   ],
   "metadata": {
    "collapsed": false,
    "pycharm": {
     "name": "#%%\n"
    }
   }
  },
  {
   "cell_type": "code",
   "execution_count": null,
   "outputs": [],
   "source": [],
   "metadata": {
    "collapsed": false,
    "pycharm": {
     "name": "#%%\n"
    }
   }
  },
  {
   "cell_type": "code",
   "execution_count": 21,
   "outputs": [],
   "source": [
    "item_titles = dict(zip(df_items.id,df_items.title))"
   ],
   "metadata": {
    "collapsed": false,
    "pycharm": {
     "name": "#%%\n"
    }
   }
  },
  {
   "cell_type": "code",
   "execution_count": 24,
   "outputs": [
    {
     "data": {
      "text/plain": "'Ворон-челобитчик'"
     },
     "execution_count": 24,
     "metadata": {},
     "output_type": "execute_result"
    }
   ],
   "source": [
    "item_titles[128115]"
   ],
   "metadata": {
    "collapsed": false,
    "pycharm": {
     "name": "#%%\n"
    }
   }
  },
  {
   "cell_type": "code",
   "execution_count": 25,
   "outputs": [
    {
     "name": "stdout",
     "output_type": "stream",
     "text": [
      "Ворон-челобитчик\n"
     ]
    }
   ],
   "source": [
    "print(item_titles.get(128115))"
   ],
   "metadata": {
    "collapsed": false,
    "pycharm": {
     "name": "#%%\n"
    }
   }
  },
  {
   "cell_type": "code",
   "execution_count": null,
   "outputs": [],
   "source": [],
   "metadata": {
    "collapsed": false,
    "pycharm": {
     "name": "#%%\n"
    }
   }
  },
  {
   "cell_type": "code",
   "execution_count": 55,
   "outputs": [
    {
     "data": {
      "text/plain": "array([109201, 230067, 235407,  35265, 155266, 237760, 291806, 151190,\n       270415, 285394], dtype=int64)"
     },
     "execution_count": 55,
     "metadata": {},
     "output_type": "execute_result"
    }
   ],
   "source": [
    "top10_recs = pop_model.recommend()\n",
    "top10_recs"
   ],
   "metadata": {
    "collapsed": false,
    "pycharm": {
     "name": "#%%\n"
    }
   }
  },
  {
   "cell_type": "code",
   "execution_count": 57,
   "outputs": [
    {
     "data": {
      "text/plain": "<map at 0x1dde3a08fa0>"
     },
     "execution_count": 57,
     "metadata": {},
     "output_type": "execute_result"
    }
   ],
   "source": [
    "map(item_titles.get, top10_recs)"
   ],
   "metadata": {
    "collapsed": false,
    "pycharm": {
     "name": "#%%\n"
    }
   }
  },
  {
   "cell_type": "code",
   "execution_count": null,
   "outputs": [],
   "source": [],
   "metadata": {
    "collapsed": false,
    "pycharm": {
     "name": "#%%\n"
    }
   }
  },
  {
   "cell_type": "code",
   "execution_count": 56,
   "outputs": [
    {
     "data": {
      "text/plain": "['Яблоки из сада Шлицбутера',\n 'Кавказский пленник',\n 'Пикник на обочине',\n 'Записки юного врача',\n 'О любви',\n 'Русские народные сказки',\n 'Женская война',\n 'История государства Российского. Том 2. От Великого князя Святополка до Великого князя Мстислава Изяславовича',\n 'Черный человек',\n 'Хитрость']"
     },
     "execution_count": 56,
     "metadata": {},
     "output_type": "execute_result"
    }
   ],
   "source": [
    "list(map(item_titles.get, top10_recs))"
   ],
   "metadata": {
    "collapsed": false,
    "pycharm": {
     "name": "#%%\n"
    }
   }
  },
  {
   "cell_type": "code",
   "execution_count": 30,
   "outputs": [],
   "source": [
    "# create datframe with user_id fo recs\n",
    "recs = pd.DataFrame({'user_id': test['user_id'].unique()})\n"
   ],
   "metadata": {
    "collapsed": false,
    "pycharm": {
     "name": "#%%\n"
    }
   }
  },
  {
   "cell_type": "code",
   "execution_count": 32,
   "outputs": [
    {
     "data": {
      "text/plain": "   user_id\n0    38753\n1   101642",
      "text/html": "<div>\n<style scoped>\n    .dataframe tbody tr th:only-of-type {\n        vertical-align: middle;\n    }\n\n    .dataframe tbody tr th {\n        vertical-align: top;\n    }\n\n    .dataframe thead th {\n        text-align: right;\n    }\n</style>\n<table border=\"1\" class=\"dataframe\">\n  <thead>\n    <tr style=\"text-align: right;\">\n      <th></th>\n      <th>user_id</th>\n    </tr>\n  </thead>\n  <tbody>\n    <tr>\n      <th>0</th>\n      <td>38753</td>\n    </tr>\n    <tr>\n      <th>1</th>\n      <td>101642</td>\n    </tr>\n  </tbody>\n</table>\n</div>"
     },
     "execution_count": 32,
     "metadata": {},
     "output_type": "execute_result"
    }
   ],
   "source": [
    "recs.head(2)"
   ],
   "metadata": {
    "collapsed": false,
    "pycharm": {
     "name": "#%%\n"
    }
   }
  },
  {
   "cell_type": "code",
   "execution_count": 33,
   "outputs": [
    {
     "data": {
      "text/plain": "   user_id                                            item_id\n0    38753  [109201, 230067, 235407, 35265, 155266, 237760...\n1   101642  [109201, 230067, 235407, 35265, 155266, 237760...\n2    13548  [109201, 230067, 235407, 35265, 155266, 237760...\n3   130425  [109201, 230067, 235407, 35265, 155266, 237760...\n4    93986  [109201, 230067, 235407, 35265, 155266, 237760...",
      "text/html": "<div>\n<style scoped>\n    .dataframe tbody tr th:only-of-type {\n        vertical-align: middle;\n    }\n\n    .dataframe tbody tr th {\n        vertical-align: top;\n    }\n\n    .dataframe thead th {\n        text-align: right;\n    }\n</style>\n<table border=\"1\" class=\"dataframe\">\n  <thead>\n    <tr style=\"text-align: right;\">\n      <th></th>\n      <th>user_id</th>\n      <th>item_id</th>\n    </tr>\n  </thead>\n  <tbody>\n    <tr>\n      <th>0</th>\n      <td>38753</td>\n      <td>[109201, 230067, 235407, 35265, 155266, 237760...</td>\n    </tr>\n    <tr>\n      <th>1</th>\n      <td>101642</td>\n      <td>[109201, 230067, 235407, 35265, 155266, 237760...</td>\n    </tr>\n    <tr>\n      <th>2</th>\n      <td>13548</td>\n      <td>[109201, 230067, 235407, 35265, 155266, 237760...</td>\n    </tr>\n    <tr>\n      <th>3</th>\n      <td>130425</td>\n      <td>[109201, 230067, 235407, 35265, 155266, 237760...</td>\n    </tr>\n    <tr>\n      <th>4</th>\n      <td>93986</td>\n      <td>[109201, 230067, 235407, 35265, 155266, 237760...</td>\n    </tr>\n  </tbody>\n</table>\n</div>"
     },
     "execution_count": 33,
     "metadata": {},
     "output_type": "execute_result"
    }
   ],
   "source": [
    "\n",
    "top_N = 10\n",
    "recs['item_id'] = pop_model.recommend(recs['user_id'], N=top_N)\n",
    "recs.head()"
   ],
   "metadata": {
    "collapsed": false,
    "pycharm": {
     "name": "#%%\n"
    }
   }
  },
  {
   "cell_type": "code",
   "execution_count": 34,
   "outputs": [
    {
     "data": {
      "text/plain": "   user_id item_id\n0    38753  109201\n0    38753  230067\n0    38753  235407\n0    38753   35265\n0    38753  155266\n0    38753  237760\n0    38753  291806\n0    38753  151190\n0    38753  270415\n0    38753  285394\n1   101642  109201\n1   101642  230067",
      "text/html": "<div>\n<style scoped>\n    .dataframe tbody tr th:only-of-type {\n        vertical-align: middle;\n    }\n\n    .dataframe tbody tr th {\n        vertical-align: top;\n    }\n\n    .dataframe thead th {\n        text-align: right;\n    }\n</style>\n<table border=\"1\" class=\"dataframe\">\n  <thead>\n    <tr style=\"text-align: right;\">\n      <th></th>\n      <th>user_id</th>\n      <th>item_id</th>\n    </tr>\n  </thead>\n  <tbody>\n    <tr>\n      <th>0</th>\n      <td>38753</td>\n      <td>109201</td>\n    </tr>\n    <tr>\n      <th>0</th>\n      <td>38753</td>\n      <td>230067</td>\n    </tr>\n    <tr>\n      <th>0</th>\n      <td>38753</td>\n      <td>235407</td>\n    </tr>\n    <tr>\n      <th>0</th>\n      <td>38753</td>\n      <td>35265</td>\n    </tr>\n    <tr>\n      <th>0</th>\n      <td>38753</td>\n      <td>155266</td>\n    </tr>\n    <tr>\n      <th>0</th>\n      <td>38753</td>\n      <td>237760</td>\n    </tr>\n    <tr>\n      <th>0</th>\n      <td>38753</td>\n      <td>291806</td>\n    </tr>\n    <tr>\n      <th>0</th>\n      <td>38753</td>\n      <td>151190</td>\n    </tr>\n    <tr>\n      <th>0</th>\n      <td>38753</td>\n      <td>270415</td>\n    </tr>\n    <tr>\n      <th>0</th>\n      <td>38753</td>\n      <td>285394</td>\n    </tr>\n    <tr>\n      <th>1</th>\n      <td>101642</td>\n      <td>109201</td>\n    </tr>\n    <tr>\n      <th>1</th>\n      <td>101642</td>\n      <td>230067</td>\n    </tr>\n  </tbody>\n</table>\n</div>"
     },
     "execution_count": 34,
     "metadata": {},
     "output_type": "execute_result"
    }
   ],
   "source": [
    "recs = recs.explode('item_id')\n",
    "recs.head(top_N + 2)"
   ],
   "metadata": {
    "collapsed": false,
    "pycharm": {
     "name": "#%%\n"
    }
   }
  },
  {
   "cell_type": "code",
   "execution_count": 35,
   "outputs": [
    {
     "data": {
      "text/plain": "   user_id item_id  rank\n0    38753  109201     1\n0    38753  230067     2\n0    38753  235407     3\n0    38753   35265     4\n0    38753  155266     5\n0    38753  237760     6\n0    38753  291806     7\n0    38753  151190     8\n0    38753  270415     9\n0    38753  285394    10\n1   101642  109201     1\n1   101642  230067     2",
      "text/html": "<div>\n<style scoped>\n    .dataframe tbody tr th:only-of-type {\n        vertical-align: middle;\n    }\n\n    .dataframe tbody tr th {\n        vertical-align: top;\n    }\n\n    .dataframe thead th {\n        text-align: right;\n    }\n</style>\n<table border=\"1\" class=\"dataframe\">\n  <thead>\n    <tr style=\"text-align: right;\">\n      <th></th>\n      <th>user_id</th>\n      <th>item_id</th>\n      <th>rank</th>\n    </tr>\n  </thead>\n  <tbody>\n    <tr>\n      <th>0</th>\n      <td>38753</td>\n      <td>109201</td>\n      <td>1</td>\n    </tr>\n    <tr>\n      <th>0</th>\n      <td>38753</td>\n      <td>230067</td>\n      <td>2</td>\n    </tr>\n    <tr>\n      <th>0</th>\n      <td>38753</td>\n      <td>235407</td>\n      <td>3</td>\n    </tr>\n    <tr>\n      <th>0</th>\n      <td>38753</td>\n      <td>35265</td>\n      <td>4</td>\n    </tr>\n    <tr>\n      <th>0</th>\n      <td>38753</td>\n      <td>155266</td>\n      <td>5</td>\n    </tr>\n    <tr>\n      <th>0</th>\n      <td>38753</td>\n      <td>237760</td>\n      <td>6</td>\n    </tr>\n    <tr>\n      <th>0</th>\n      <td>38753</td>\n      <td>291806</td>\n      <td>7</td>\n    </tr>\n    <tr>\n      <th>0</th>\n      <td>38753</td>\n      <td>151190</td>\n      <td>8</td>\n    </tr>\n    <tr>\n      <th>0</th>\n      <td>38753</td>\n      <td>270415</td>\n      <td>9</td>\n    </tr>\n    <tr>\n      <th>0</th>\n      <td>38753</td>\n      <td>285394</td>\n      <td>10</td>\n    </tr>\n    <tr>\n      <th>1</th>\n      <td>101642</td>\n      <td>109201</td>\n      <td>1</td>\n    </tr>\n    <tr>\n      <th>1</th>\n      <td>101642</td>\n      <td>230067</td>\n      <td>2</td>\n    </tr>\n  </tbody>\n</table>\n</div>"
     },
     "execution_count": 35,
     "metadata": {},
     "output_type": "execute_result"
    }
   ],
   "source": [
    "recs['rank'] = recs.groupby('user_id').cumcount() + 1\n",
    "recs.head(top_N + 2)"
   ],
   "metadata": {
    "collapsed": false,
    "pycharm": {
     "name": "#%%\n"
    }
   }
  },
  {
   "cell_type": "code",
   "execution_count": 37,
   "outputs": [],
   "source": [
    "recs.rename(columns={'rank':'predict_rank'} , inplace = True)"
   ],
   "metadata": {
    "collapsed": false,
    "pycharm": {
     "name": "#%%\n"
    }
   }
  },
  {
   "cell_type": "code",
   "execution_count": 41,
   "outputs": [
    {
     "data": {
      "text/plain": "   user_id item_id  predict_rank\n0    38753  109201             1\n0    38753  230067             2",
      "text/html": "<div>\n<style scoped>\n    .dataframe tbody tr th:only-of-type {\n        vertical-align: middle;\n    }\n\n    .dataframe tbody tr th {\n        vertical-align: top;\n    }\n\n    .dataframe thead th {\n        text-align: right;\n    }\n</style>\n<table border=\"1\" class=\"dataframe\">\n  <thead>\n    <tr style=\"text-align: right;\">\n      <th></th>\n      <th>user_id</th>\n      <th>item_id</th>\n      <th>predict_rank</th>\n    </tr>\n  </thead>\n  <tbody>\n    <tr>\n      <th>0</th>\n      <td>38753</td>\n      <td>109201</td>\n      <td>1</td>\n    </tr>\n    <tr>\n      <th>0</th>\n      <td>38753</td>\n      <td>230067</td>\n      <td>2</td>\n    </tr>\n  </tbody>\n</table>\n</div>"
     },
     "execution_count": 41,
     "metadata": {},
     "output_type": "execute_result"
    }
   ],
   "source": [
    "recs.head(2)"
   ],
   "metadata": {
    "collapsed": false,
    "pycharm": {
     "name": "#%%\n"
    }
   }
  },
  {
   "cell_type": "code",
   "execution_count": 40,
   "outputs": [
    {
     "data": {
      "text/plain": "         user_id  item_id  progress  rating start_date\n1517914    38753   135245         0     NaN 2019-12-25\n1517915   101642   319500        67     5.0 2019-12-25",
      "text/html": "<div>\n<style scoped>\n    .dataframe tbody tr th:only-of-type {\n        vertical-align: middle;\n    }\n\n    .dataframe tbody tr th {\n        vertical-align: top;\n    }\n\n    .dataframe thead th {\n        text-align: right;\n    }\n</style>\n<table border=\"1\" class=\"dataframe\">\n  <thead>\n    <tr style=\"text-align: right;\">\n      <th></th>\n      <th>user_id</th>\n      <th>item_id</th>\n      <th>progress</th>\n      <th>rating</th>\n      <th>start_date</th>\n    </tr>\n  </thead>\n  <tbody>\n    <tr>\n      <th>1517914</th>\n      <td>38753</td>\n      <td>135245</td>\n      <td>0</td>\n      <td>NaN</td>\n      <td>2019-12-25</td>\n    </tr>\n    <tr>\n      <th>1517915</th>\n      <td>101642</td>\n      <td>319500</td>\n      <td>67</td>\n      <td>5.0</td>\n      <td>2019-12-25</td>\n    </tr>\n  </tbody>\n</table>\n</div>"
     },
     "execution_count": 40,
     "metadata": {},
     "output_type": "execute_result"
    }
   ],
   "source": [
    "test.head(2)"
   ],
   "metadata": {
    "collapsed": false,
    "pycharm": {
     "name": "#%%\n"
    }
   }
  },
  {
   "cell_type": "code",
   "execution_count": 43,
   "outputs": [],
   "source": [
    "\n",
    "test_recs = test.merge(recs, how = 'left' , on = ['user_id','item_id'])"
   ],
   "metadata": {
    "collapsed": false,
    "pycharm": {
     "name": "#%%\n"
    }
   }
  },
  {
   "cell_type": "code",
   "execution_count": 45,
   "outputs": [
    {
     "data": {
      "text/plain": "   user_id item_id  progress  rating start_date  predict_rank\n0    38753  135245         0     NaN 2019-12-25           NaN\n1   101642  319500        67     5.0 2019-12-25           NaN",
      "text/html": "<div>\n<style scoped>\n    .dataframe tbody tr th:only-of-type {\n        vertical-align: middle;\n    }\n\n    .dataframe tbody tr th {\n        vertical-align: top;\n    }\n\n    .dataframe thead th {\n        text-align: right;\n    }\n</style>\n<table border=\"1\" class=\"dataframe\">\n  <thead>\n    <tr style=\"text-align: right;\">\n      <th></th>\n      <th>user_id</th>\n      <th>item_id</th>\n      <th>progress</th>\n      <th>rating</th>\n      <th>start_date</th>\n      <th>predict_rank</th>\n    </tr>\n  </thead>\n  <tbody>\n    <tr>\n      <th>0</th>\n      <td>38753</td>\n      <td>135245</td>\n      <td>0</td>\n      <td>NaN</td>\n      <td>2019-12-25</td>\n      <td>NaN</td>\n    </tr>\n    <tr>\n      <th>1</th>\n      <td>101642</td>\n      <td>319500</td>\n      <td>67</td>\n      <td>5.0</td>\n      <td>2019-12-25</td>\n      <td>NaN</td>\n    </tr>\n  </tbody>\n</table>\n</div>"
     },
     "execution_count": 45,
     "metadata": {},
     "output_type": "execute_result"
    }
   ],
   "source": [
    "test_recs.head(2)"
   ],
   "metadata": {
    "collapsed": false,
    "pycharm": {
     "name": "#%%\n"
    }
   }
  },
  {
   "cell_type": "code",
   "execution_count": 47,
   "outputs": [
    {
     "ename": "ValueError",
     "evalue": "level name user_id is not the name of the index",
     "output_type": "error",
     "traceback": [
      "\u001B[1;31m---------------------------------------------------------------------------\u001B[0m",
      "\u001B[1;31mValueError\u001B[0m                                Traceback (most recent call last)",
      "Input \u001B[1;32mIn [47]\u001B[0m, in \u001B[0;36m<cell line: 1>\u001B[1;34m()\u001B[0m\n\u001B[1;32m----> 1\u001B[0m test_recs[\u001B[38;5;124m'\u001B[39m\u001B[38;5;124musers_item_count\u001B[39m\u001B[38;5;124m'\u001B[39m] \u001B[38;5;241m=\u001B[39m \u001B[43mtest_recs\u001B[49m\u001B[38;5;241;43m.\u001B[39;49m\u001B[43mgroupby\u001B[49m\u001B[43m(\u001B[49m\u001B[43mlevel\u001B[49m\u001B[38;5;241;43m=\u001B[39;49m\u001B[38;5;124;43m'\u001B[39;49m\u001B[38;5;124;43muser_id\u001B[39;49m\u001B[38;5;124;43m'\u001B[39;49m\u001B[43m,\u001B[49m\u001B[43m \u001B[49m\u001B[43msort\u001B[49m\u001B[38;5;241;43m=\u001B[39;49m\u001B[38;5;28;43;01mFalse\u001B[39;49;00m\u001B[43m)\u001B[49m[\u001B[38;5;124m'\u001B[39m\u001B[38;5;124mpredict_rank\u001B[39m\u001B[38;5;124m'\u001B[39m]\u001B[38;5;241m.\u001B[39mtransform(np\u001B[38;5;241m.\u001B[39msize)\n",
      "File \u001B[1;32m~\\AppData\\Local\\Programs\\Python\\Python310\\lib\\site-packages\\pandas\\core\\frame.py:7712\u001B[0m, in \u001B[0;36mDataFrame.groupby\u001B[1;34m(self, by, axis, level, as_index, sort, group_keys, squeeze, observed, dropna)\u001B[0m\n\u001B[0;32m   7707\u001B[0m axis \u001B[38;5;241m=\u001B[39m \u001B[38;5;28mself\u001B[39m\u001B[38;5;241m.\u001B[39m_get_axis_number(axis)\n\u001B[0;32m   7709\u001B[0m \u001B[38;5;66;03m# https://github.com/python/mypy/issues/7642\u001B[39;00m\n\u001B[0;32m   7710\u001B[0m \u001B[38;5;66;03m# error: Argument \"squeeze\" to \"DataFrameGroupBy\" has incompatible type\u001B[39;00m\n\u001B[0;32m   7711\u001B[0m \u001B[38;5;66;03m# \"Union[bool, NoDefault]\"; expected \"bool\"\u001B[39;00m\n\u001B[1;32m-> 7712\u001B[0m \u001B[38;5;28;01mreturn\u001B[39;00m \u001B[43mDataFrameGroupBy\u001B[49m\u001B[43m(\u001B[49m\n\u001B[0;32m   7713\u001B[0m \u001B[43m    \u001B[49m\u001B[43mobj\u001B[49m\u001B[38;5;241;43m=\u001B[39;49m\u001B[38;5;28;43mself\u001B[39;49m\u001B[43m,\u001B[49m\n\u001B[0;32m   7714\u001B[0m \u001B[43m    \u001B[49m\u001B[43mkeys\u001B[49m\u001B[38;5;241;43m=\u001B[39;49m\u001B[43mby\u001B[49m\u001B[43m,\u001B[49m\n\u001B[0;32m   7715\u001B[0m \u001B[43m    \u001B[49m\u001B[43maxis\u001B[49m\u001B[38;5;241;43m=\u001B[39;49m\u001B[43maxis\u001B[49m\u001B[43m,\u001B[49m\n\u001B[0;32m   7716\u001B[0m \u001B[43m    \u001B[49m\u001B[43mlevel\u001B[49m\u001B[38;5;241;43m=\u001B[39;49m\u001B[43mlevel\u001B[49m\u001B[43m,\u001B[49m\n\u001B[0;32m   7717\u001B[0m \u001B[43m    \u001B[49m\u001B[43mas_index\u001B[49m\u001B[38;5;241;43m=\u001B[39;49m\u001B[43mas_index\u001B[49m\u001B[43m,\u001B[49m\n\u001B[0;32m   7718\u001B[0m \u001B[43m    \u001B[49m\u001B[43msort\u001B[49m\u001B[38;5;241;43m=\u001B[39;49m\u001B[43msort\u001B[49m\u001B[43m,\u001B[49m\n\u001B[0;32m   7719\u001B[0m \u001B[43m    \u001B[49m\u001B[43mgroup_keys\u001B[49m\u001B[38;5;241;43m=\u001B[39;49m\u001B[43mgroup_keys\u001B[49m\u001B[43m,\u001B[49m\n\u001B[0;32m   7720\u001B[0m \u001B[43m    \u001B[49m\u001B[43msqueeze\u001B[49m\u001B[38;5;241;43m=\u001B[39;49m\u001B[43msqueeze\u001B[49m\u001B[43m,\u001B[49m\u001B[43m  \u001B[49m\u001B[38;5;66;43;03m# type: ignore[arg-type]\u001B[39;49;00m\n\u001B[0;32m   7721\u001B[0m \u001B[43m    \u001B[49m\u001B[43mobserved\u001B[49m\u001B[38;5;241;43m=\u001B[39;49m\u001B[43mobserved\u001B[49m\u001B[43m,\u001B[49m\n\u001B[0;32m   7722\u001B[0m \u001B[43m    \u001B[49m\u001B[43mdropna\u001B[49m\u001B[38;5;241;43m=\u001B[39;49m\u001B[43mdropna\u001B[49m\u001B[43m,\u001B[49m\n\u001B[0;32m   7723\u001B[0m \u001B[43m\u001B[49m\u001B[43m)\u001B[49m\n",
      "File \u001B[1;32m~\\AppData\\Local\\Programs\\Python\\Python310\\lib\\site-packages\\pandas\\core\\groupby\\groupby.py:882\u001B[0m, in \u001B[0;36mGroupBy.__init__\u001B[1;34m(self, obj, keys, axis, level, grouper, exclusions, selection, as_index, sort, group_keys, squeeze, observed, mutated, dropna)\u001B[0m\n\u001B[0;32m    879\u001B[0m \u001B[38;5;28;01mif\u001B[39;00m grouper \u001B[38;5;129;01mis\u001B[39;00m \u001B[38;5;28;01mNone\u001B[39;00m:\n\u001B[0;32m    880\u001B[0m     \u001B[38;5;28;01mfrom\u001B[39;00m \u001B[38;5;21;01mpandas\u001B[39;00m\u001B[38;5;21;01m.\u001B[39;00m\u001B[38;5;21;01mcore\u001B[39;00m\u001B[38;5;21;01m.\u001B[39;00m\u001B[38;5;21;01mgroupby\u001B[39;00m\u001B[38;5;21;01m.\u001B[39;00m\u001B[38;5;21;01mgrouper\u001B[39;00m \u001B[38;5;28;01mimport\u001B[39;00m get_grouper\n\u001B[1;32m--> 882\u001B[0m     grouper, exclusions, obj \u001B[38;5;241m=\u001B[39m \u001B[43mget_grouper\u001B[49m\u001B[43m(\u001B[49m\n\u001B[0;32m    883\u001B[0m \u001B[43m        \u001B[49m\u001B[43mobj\u001B[49m\u001B[43m,\u001B[49m\n\u001B[0;32m    884\u001B[0m \u001B[43m        \u001B[49m\u001B[43mkeys\u001B[49m\u001B[43m,\u001B[49m\n\u001B[0;32m    885\u001B[0m \u001B[43m        \u001B[49m\u001B[43maxis\u001B[49m\u001B[38;5;241;43m=\u001B[39;49m\u001B[43maxis\u001B[49m\u001B[43m,\u001B[49m\n\u001B[0;32m    886\u001B[0m \u001B[43m        \u001B[49m\u001B[43mlevel\u001B[49m\u001B[38;5;241;43m=\u001B[39;49m\u001B[43mlevel\u001B[49m\u001B[43m,\u001B[49m\n\u001B[0;32m    887\u001B[0m \u001B[43m        \u001B[49m\u001B[43msort\u001B[49m\u001B[38;5;241;43m=\u001B[39;49m\u001B[43msort\u001B[49m\u001B[43m,\u001B[49m\n\u001B[0;32m    888\u001B[0m \u001B[43m        \u001B[49m\u001B[43mobserved\u001B[49m\u001B[38;5;241;43m=\u001B[39;49m\u001B[43mobserved\u001B[49m\u001B[43m,\u001B[49m\n\u001B[0;32m    889\u001B[0m \u001B[43m        \u001B[49m\u001B[43mmutated\u001B[49m\u001B[38;5;241;43m=\u001B[39;49m\u001B[38;5;28;43mself\u001B[39;49m\u001B[38;5;241;43m.\u001B[39;49m\u001B[43mmutated\u001B[49m\u001B[43m,\u001B[49m\n\u001B[0;32m    890\u001B[0m \u001B[43m        \u001B[49m\u001B[43mdropna\u001B[49m\u001B[38;5;241;43m=\u001B[39;49m\u001B[38;5;28;43mself\u001B[39;49m\u001B[38;5;241;43m.\u001B[39;49m\u001B[43mdropna\u001B[49m\u001B[43m,\u001B[49m\n\u001B[0;32m    891\u001B[0m \u001B[43m    \u001B[49m\u001B[43m)\u001B[49m\n\u001B[0;32m    893\u001B[0m \u001B[38;5;28mself\u001B[39m\u001B[38;5;241m.\u001B[39mobj \u001B[38;5;241m=\u001B[39m obj\n\u001B[0;32m    894\u001B[0m \u001B[38;5;28mself\u001B[39m\u001B[38;5;241m.\u001B[39maxis \u001B[38;5;241m=\u001B[39m obj\u001B[38;5;241m.\u001B[39m_get_axis_number(axis)\n",
      "File \u001B[1;32m~\\AppData\\Local\\Programs\\Python\\Python310\\lib\\site-packages\\pandas\\core\\groupby\\grouper.py:770\u001B[0m, in \u001B[0;36mget_grouper\u001B[1;34m(obj, key, axis, level, sort, observed, mutated, validate, dropna)\u001B[0m\n\u001B[0;32m    768\u001B[0m \u001B[38;5;28;01mif\u001B[39;00m \u001B[38;5;28misinstance\u001B[39m(level, \u001B[38;5;28mstr\u001B[39m):\n\u001B[0;32m    769\u001B[0m     \u001B[38;5;28;01mif\u001B[39;00m obj\u001B[38;5;241m.\u001B[39m_get_axis(axis)\u001B[38;5;241m.\u001B[39mname \u001B[38;5;241m!=\u001B[39m level:\n\u001B[1;32m--> 770\u001B[0m         \u001B[38;5;28;01mraise\u001B[39;00m \u001B[38;5;167;01mValueError\u001B[39;00m(\n\u001B[0;32m    771\u001B[0m             \u001B[38;5;124mf\u001B[39m\u001B[38;5;124m\"\u001B[39m\u001B[38;5;124mlevel name \u001B[39m\u001B[38;5;132;01m{\u001B[39;00mlevel\u001B[38;5;132;01m}\u001B[39;00m\u001B[38;5;124m is not the name \u001B[39m\u001B[38;5;124m\"\u001B[39m\n\u001B[0;32m    772\u001B[0m             \u001B[38;5;124mf\u001B[39m\u001B[38;5;124m\"\u001B[39m\u001B[38;5;124mof the \u001B[39m\u001B[38;5;132;01m{\u001B[39;00mobj\u001B[38;5;241m.\u001B[39m_get_axis_name(axis)\u001B[38;5;132;01m}\u001B[39;00m\u001B[38;5;124m\"\u001B[39m\n\u001B[0;32m    773\u001B[0m         )\n\u001B[0;32m    774\u001B[0m \u001B[38;5;28;01melif\u001B[39;00m level \u001B[38;5;241m>\u001B[39m \u001B[38;5;241m0\u001B[39m \u001B[38;5;129;01mor\u001B[39;00m level \u001B[38;5;241m<\u001B[39m \u001B[38;5;241m-\u001B[39m\u001B[38;5;241m1\u001B[39m:\n\u001B[0;32m    775\u001B[0m     \u001B[38;5;28;01mraise\u001B[39;00m \u001B[38;5;167;01mValueError\u001B[39;00m(\u001B[38;5;124m\"\u001B[39m\u001B[38;5;124mlevel > 0 or level < -1 only valid with MultiIndex\u001B[39m\u001B[38;5;124m\"\u001B[39m)\n",
      "\u001B[1;31mValueError\u001B[0m: level name user_id is not the name of the index"
     ]
    }
   ],
   "source": [
    "test_recs['users_item_count'] = test_recs.groupby(level='user_id', sort=False)['predict_rank'].transform(np.size)"
   ],
   "metadata": {
    "collapsed": false,
    "pycharm": {
     "name": "#%%\n"
    }
   }
  },
  {
   "cell_type": "code",
   "execution_count": 51,
   "outputs": [],
   "source": [
    "uic = test_recs.groupby('user_id').agg({'item_id':'count'}).reset_index().rename(columns = {'item_id':'users_item_count'})"
   ],
   "metadata": {
    "collapsed": false,
    "pycharm": {
     "name": "#%%\n"
    }
   }
  },
  {
   "cell_type": "code",
   "execution_count": 53,
   "outputs": [],
   "source": [
    "test_recs = test_recs.merge(uic , how = 'left' , on = 'user_id')"
   ],
   "metadata": {
    "collapsed": false,
    "pycharm": {
     "name": "#%%\n"
    }
   }
  },
  {
   "cell_type": "code",
   "execution_count": 54,
   "outputs": [],
   "source": [
    "test_recs['pred_reciprocal_rank'] = 1 / test_recs['predict_rank']\n",
    "test_recs['pred_reciprocal_rank'] = test_recs['pred_reciprocal_rank'].fillna(0)"
   ],
   "metadata": {
    "collapsed": false,
    "pycharm": {
     "name": "#%%\n"
    }
   }
  },
  {
   "cell_type": "code",
   "execution_count": 55,
   "outputs": [
    {
     "data": {
      "text/plain": "   user_id item_id  progress  rating start_date  predict_rank  \\\n0    38753  135245         0     NaN 2019-12-25           NaN   \n1   101642  319500        67     5.0 2019-12-25           NaN   \n\n   users_item_count  pred_reciprocal_rank  \n0                 1                   0.0  \n1                 1                   0.0  ",
      "text/html": "<div>\n<style scoped>\n    .dataframe tbody tr th:only-of-type {\n        vertical-align: middle;\n    }\n\n    .dataframe tbody tr th {\n        vertical-align: top;\n    }\n\n    .dataframe thead th {\n        text-align: right;\n    }\n</style>\n<table border=\"1\" class=\"dataframe\">\n  <thead>\n    <tr style=\"text-align: right;\">\n      <th></th>\n      <th>user_id</th>\n      <th>item_id</th>\n      <th>progress</th>\n      <th>rating</th>\n      <th>start_date</th>\n      <th>predict_rank</th>\n      <th>users_item_count</th>\n      <th>pred_reciprocal_rank</th>\n    </tr>\n  </thead>\n  <tbody>\n    <tr>\n      <th>0</th>\n      <td>38753</td>\n      <td>135245</td>\n      <td>0</td>\n      <td>NaN</td>\n      <td>2019-12-25</td>\n      <td>NaN</td>\n      <td>1</td>\n      <td>0.0</td>\n    </tr>\n    <tr>\n      <th>1</th>\n      <td>101642</td>\n      <td>319500</td>\n      <td>67</td>\n      <td>5.0</td>\n      <td>2019-12-25</td>\n      <td>NaN</td>\n      <td>1</td>\n      <td>0.0</td>\n    </tr>\n  </tbody>\n</table>\n</div>"
     },
     "execution_count": 55,
     "metadata": {},
     "output_type": "execute_result"
    }
   ],
   "source": [
    "test_recs.head(2)"
   ],
   "metadata": {
    "collapsed": false,
    "pycharm": {
     "name": "#%%\n"
    }
   }
  },
  {
   "cell_type": "code",
   "execution_count": 57,
   "outputs": [],
   "source": [
    "test_recs = test_recs.sort_values(by=['user_id', 'predict_rank'])\n",
    "\n"
   ],
   "metadata": {
    "collapsed": false,
    "pycharm": {
     "name": "#%%\n"
    }
   }
  },
  {
   "cell_type": "code",
   "execution_count": 58,
   "outputs": [],
   "source": [
    "test_recs['cumulative_rank'] = test_recs.groupby('user_id').cumcount() + 1"
   ],
   "metadata": {
    "collapsed": false,
    "pycharm": {
     "name": "#%%\n"
    }
   }
  },
  {
   "cell_type": "code",
   "execution_count": 59,
   "outputs": [
    {
     "data": {
      "text/plain": "      user_id item_id  progress  rating start_date  predict_rank  \\\n1440       21   97894       100     NaN 2019-12-25           NaN   \n798        27  179635        99     NaN 2019-12-25           NaN   \n199        58  315050        65     4.0 2019-12-25           NaN   \n1787      288   24595        11     NaN 2019-12-25           NaN   \n1596      430  218187        26     NaN 2019-12-25           NaN   \n...       ...     ...       ...     ...        ...           ...   \n994    159294  110617        18     NaN 2019-12-25           NaN   \n426    159303  197759        64     NaN 2019-12-25           NaN   \n5      159466  124115        84     NaN 2019-12-25           NaN   \n1121   159472  245992        78     NaN 2019-12-25           NaN   \n371    159511   31539        77     5.0 2019-12-25           NaN   \n\n      users_item_count  pred_reciprocal_rank  cumulative_rank  \n1440                 1                   0.0                1  \n798                  1                   0.0                1  \n199                  1                   0.0                1  \n1787                 1                   0.0                1  \n1596                 1                   0.0                1  \n...                ...                   ...              ...  \n994                  1                   0.0                1  \n426                  1                   0.0                1  \n5                    1                   0.0                1  \n1121                 1                   0.0                1  \n371                  1                   0.0                1  \n\n[2114 rows x 9 columns]",
      "text/html": "<div>\n<style scoped>\n    .dataframe tbody tr th:only-of-type {\n        vertical-align: middle;\n    }\n\n    .dataframe tbody tr th {\n        vertical-align: top;\n    }\n\n    .dataframe thead th {\n        text-align: right;\n    }\n</style>\n<table border=\"1\" class=\"dataframe\">\n  <thead>\n    <tr style=\"text-align: right;\">\n      <th></th>\n      <th>user_id</th>\n      <th>item_id</th>\n      <th>progress</th>\n      <th>rating</th>\n      <th>start_date</th>\n      <th>predict_rank</th>\n      <th>users_item_count</th>\n      <th>pred_reciprocal_rank</th>\n      <th>cumulative_rank</th>\n    </tr>\n  </thead>\n  <tbody>\n    <tr>\n      <th>1440</th>\n      <td>21</td>\n      <td>97894</td>\n      <td>100</td>\n      <td>NaN</td>\n      <td>2019-12-25</td>\n      <td>NaN</td>\n      <td>1</td>\n      <td>0.0</td>\n      <td>1</td>\n    </tr>\n    <tr>\n      <th>798</th>\n      <td>27</td>\n      <td>179635</td>\n      <td>99</td>\n      <td>NaN</td>\n      <td>2019-12-25</td>\n      <td>NaN</td>\n      <td>1</td>\n      <td>0.0</td>\n      <td>1</td>\n    </tr>\n    <tr>\n      <th>199</th>\n      <td>58</td>\n      <td>315050</td>\n      <td>65</td>\n      <td>4.0</td>\n      <td>2019-12-25</td>\n      <td>NaN</td>\n      <td>1</td>\n      <td>0.0</td>\n      <td>1</td>\n    </tr>\n    <tr>\n      <th>1787</th>\n      <td>288</td>\n      <td>24595</td>\n      <td>11</td>\n      <td>NaN</td>\n      <td>2019-12-25</td>\n      <td>NaN</td>\n      <td>1</td>\n      <td>0.0</td>\n      <td>1</td>\n    </tr>\n    <tr>\n      <th>1596</th>\n      <td>430</td>\n      <td>218187</td>\n      <td>26</td>\n      <td>NaN</td>\n      <td>2019-12-25</td>\n      <td>NaN</td>\n      <td>1</td>\n      <td>0.0</td>\n      <td>1</td>\n    </tr>\n    <tr>\n      <th>...</th>\n      <td>...</td>\n      <td>...</td>\n      <td>...</td>\n      <td>...</td>\n      <td>...</td>\n      <td>...</td>\n      <td>...</td>\n      <td>...</td>\n      <td>...</td>\n    </tr>\n    <tr>\n      <th>994</th>\n      <td>159294</td>\n      <td>110617</td>\n      <td>18</td>\n      <td>NaN</td>\n      <td>2019-12-25</td>\n      <td>NaN</td>\n      <td>1</td>\n      <td>0.0</td>\n      <td>1</td>\n    </tr>\n    <tr>\n      <th>426</th>\n      <td>159303</td>\n      <td>197759</td>\n      <td>64</td>\n      <td>NaN</td>\n      <td>2019-12-25</td>\n      <td>NaN</td>\n      <td>1</td>\n      <td>0.0</td>\n      <td>1</td>\n    </tr>\n    <tr>\n      <th>5</th>\n      <td>159466</td>\n      <td>124115</td>\n      <td>84</td>\n      <td>NaN</td>\n      <td>2019-12-25</td>\n      <td>NaN</td>\n      <td>1</td>\n      <td>0.0</td>\n      <td>1</td>\n    </tr>\n    <tr>\n      <th>1121</th>\n      <td>159472</td>\n      <td>245992</td>\n      <td>78</td>\n      <td>NaN</td>\n      <td>2019-12-25</td>\n      <td>NaN</td>\n      <td>1</td>\n      <td>0.0</td>\n      <td>1</td>\n    </tr>\n    <tr>\n      <th>371</th>\n      <td>159511</td>\n      <td>31539</td>\n      <td>77</td>\n      <td>5.0</td>\n      <td>2019-12-25</td>\n      <td>NaN</td>\n      <td>1</td>\n      <td>0.0</td>\n      <td>1</td>\n    </tr>\n  </tbody>\n</table>\n<p>2114 rows × 9 columns</p>\n</div>"
     },
     "execution_count": 59,
     "metadata": {},
     "output_type": "execute_result"
    }
   ],
   "source": [
    "test_recs"
   ],
   "metadata": {
    "collapsed": false,
    "pycharm": {
     "name": "#%%\n"
    }
   }
  },
  {
   "cell_type": "code",
   "execution_count": 61,
   "outputs": [],
   "source": [
    "test_recs['cumulative_rank'] = test_recs['cumulative_rank'] / test_recs['predict_rank']"
   ],
   "metadata": {
    "collapsed": false,
    "pycharm": {
     "name": "#%%\n"
    }
   }
  },
  {
   "cell_type": "code",
   "execution_count": 63,
   "outputs": [
    {
     "data": {
      "text/plain": "      user_id item_id  progress  rating start_date  predict_rank  \\\n1440       21   97894       100     NaN 2019-12-25           NaN   \n798        27  179635        99     NaN 2019-12-25           NaN   \n\n      users_item_count  pred_reciprocal_rank  cumulative_rank  \n1440                 1                   0.0              NaN  \n798                  1                   0.0              NaN  ",
      "text/html": "<div>\n<style scoped>\n    .dataframe tbody tr th:only-of-type {\n        vertical-align: middle;\n    }\n\n    .dataframe tbody tr th {\n        vertical-align: top;\n    }\n\n    .dataframe thead th {\n        text-align: right;\n    }\n</style>\n<table border=\"1\" class=\"dataframe\">\n  <thead>\n    <tr style=\"text-align: right;\">\n      <th></th>\n      <th>user_id</th>\n      <th>item_id</th>\n      <th>progress</th>\n      <th>rating</th>\n      <th>start_date</th>\n      <th>predict_rank</th>\n      <th>users_item_count</th>\n      <th>pred_reciprocal_rank</th>\n      <th>cumulative_rank</th>\n    </tr>\n  </thead>\n  <tbody>\n    <tr>\n      <th>1440</th>\n      <td>21</td>\n      <td>97894</td>\n      <td>100</td>\n      <td>NaN</td>\n      <td>2019-12-25</td>\n      <td>NaN</td>\n      <td>1</td>\n      <td>0.0</td>\n      <td>NaN</td>\n    </tr>\n    <tr>\n      <th>798</th>\n      <td>27</td>\n      <td>179635</td>\n      <td>99</td>\n      <td>NaN</td>\n      <td>2019-12-25</td>\n      <td>NaN</td>\n      <td>1</td>\n      <td>0.0</td>\n      <td>NaN</td>\n    </tr>\n  </tbody>\n</table>\n</div>"
     },
     "execution_count": 63,
     "metadata": {},
     "output_type": "execute_result"
    }
   ],
   "source": [
    "test_recs.head(2)"
   ],
   "metadata": {
    "collapsed": false,
    "pycharm": {
     "name": "#%%\n"
    }
   }
  },
  {
   "cell_type": "code",
   "execution_count": 64,
   "outputs": [
    {
     "data": {
      "text/plain": "      user_id item_id  progress  rating start_date  predict_rank  \\\n1513      474  235407       100     5.0 2019-12-25           3.0   \n671      1672  230067        12     NaN 2019-12-25           2.0   \n1595     7313  291806         0     NaN 2019-12-25           7.0   \n1536    10260   35265         0     NaN 2019-12-25           4.0   \n1489    11207  235407         0     NaN 2019-12-25           3.0   \n...       ...     ...       ...     ...        ...           ...   \n496    139770  285394        96     NaN 2019-12-25          10.0   \n403    144116  155266        97     NaN 2019-12-25           5.0   \n761    144818  151190         3     NaN 2019-12-25           8.0   \n1283   146602  235407        11     NaN 2019-12-25           3.0   \n1347   148608  270415        96     NaN 2019-12-25           9.0   \n\n      users_item_count  pred_reciprocal_rank  cumulative_rank  \n1513                 1              0.333333         0.333333  \n671                  1              0.500000         0.500000  \n1595                 5              0.142857         0.142857  \n1536                 1              0.250000         0.250000  \n1489                 1              0.333333         0.333333  \n...                ...                   ...              ...  \n496                  2              0.100000         0.200000  \n403                  1              0.200000         0.200000  \n761                  3              0.125000         0.125000  \n1283                 1              0.333333         0.333333  \n1347                 4              0.111111         0.111111  \n\n[61 rows x 9 columns]",
      "text/html": "<div>\n<style scoped>\n    .dataframe tbody tr th:only-of-type {\n        vertical-align: middle;\n    }\n\n    .dataframe tbody tr th {\n        vertical-align: top;\n    }\n\n    .dataframe thead th {\n        text-align: right;\n    }\n</style>\n<table border=\"1\" class=\"dataframe\">\n  <thead>\n    <tr style=\"text-align: right;\">\n      <th></th>\n      <th>user_id</th>\n      <th>item_id</th>\n      <th>progress</th>\n      <th>rating</th>\n      <th>start_date</th>\n      <th>predict_rank</th>\n      <th>users_item_count</th>\n      <th>pred_reciprocal_rank</th>\n      <th>cumulative_rank</th>\n    </tr>\n  </thead>\n  <tbody>\n    <tr>\n      <th>1513</th>\n      <td>474</td>\n      <td>235407</td>\n      <td>100</td>\n      <td>5.0</td>\n      <td>2019-12-25</td>\n      <td>3.0</td>\n      <td>1</td>\n      <td>0.333333</td>\n      <td>0.333333</td>\n    </tr>\n    <tr>\n      <th>671</th>\n      <td>1672</td>\n      <td>230067</td>\n      <td>12</td>\n      <td>NaN</td>\n      <td>2019-12-25</td>\n      <td>2.0</td>\n      <td>1</td>\n      <td>0.500000</td>\n      <td>0.500000</td>\n    </tr>\n    <tr>\n      <th>1595</th>\n      <td>7313</td>\n      <td>291806</td>\n      <td>0</td>\n      <td>NaN</td>\n      <td>2019-12-25</td>\n      <td>7.0</td>\n      <td>5</td>\n      <td>0.142857</td>\n      <td>0.142857</td>\n    </tr>\n    <tr>\n      <th>1536</th>\n      <td>10260</td>\n      <td>35265</td>\n      <td>0</td>\n      <td>NaN</td>\n      <td>2019-12-25</td>\n      <td>4.0</td>\n      <td>1</td>\n      <td>0.250000</td>\n      <td>0.250000</td>\n    </tr>\n    <tr>\n      <th>1489</th>\n      <td>11207</td>\n      <td>235407</td>\n      <td>0</td>\n      <td>NaN</td>\n      <td>2019-12-25</td>\n      <td>3.0</td>\n      <td>1</td>\n      <td>0.333333</td>\n      <td>0.333333</td>\n    </tr>\n    <tr>\n      <th>...</th>\n      <td>...</td>\n      <td>...</td>\n      <td>...</td>\n      <td>...</td>\n      <td>...</td>\n      <td>...</td>\n      <td>...</td>\n      <td>...</td>\n      <td>...</td>\n    </tr>\n    <tr>\n      <th>496</th>\n      <td>139770</td>\n      <td>285394</td>\n      <td>96</td>\n      <td>NaN</td>\n      <td>2019-12-25</td>\n      <td>10.0</td>\n      <td>2</td>\n      <td>0.100000</td>\n      <td>0.200000</td>\n    </tr>\n    <tr>\n      <th>403</th>\n      <td>144116</td>\n      <td>155266</td>\n      <td>97</td>\n      <td>NaN</td>\n      <td>2019-12-25</td>\n      <td>5.0</td>\n      <td>1</td>\n      <td>0.200000</td>\n      <td>0.200000</td>\n    </tr>\n    <tr>\n      <th>761</th>\n      <td>144818</td>\n      <td>151190</td>\n      <td>3</td>\n      <td>NaN</td>\n      <td>2019-12-25</td>\n      <td>8.0</td>\n      <td>3</td>\n      <td>0.125000</td>\n      <td>0.125000</td>\n    </tr>\n    <tr>\n      <th>1283</th>\n      <td>146602</td>\n      <td>235407</td>\n      <td>11</td>\n      <td>NaN</td>\n      <td>2019-12-25</td>\n      <td>3.0</td>\n      <td>1</td>\n      <td>0.333333</td>\n      <td>0.333333</td>\n    </tr>\n    <tr>\n      <th>1347</th>\n      <td>148608</td>\n      <td>270415</td>\n      <td>96</td>\n      <td>NaN</td>\n      <td>2019-12-25</td>\n      <td>9.0</td>\n      <td>4</td>\n      <td>0.111111</td>\n      <td>0.111111</td>\n    </tr>\n  </tbody>\n</table>\n<p>61 rows × 9 columns</p>\n</div>"
     },
     "execution_count": 64,
     "metadata": {},
     "output_type": "execute_result"
    }
   ],
   "source": [
    "test_recs[test_recs['predict_rank'].notnull()]"
   ],
   "metadata": {
    "collapsed": false,
    "pycharm": {
     "name": "#%%\n"
    }
   }
  },
  {
   "cell_type": "code",
   "execution_count": 68,
   "outputs": [
    {
     "name": "stdout",
     "output_type": "stream",
     "text": [
      "Метрик по test (2019-12-25, 2019-12-26)\n"
     ]
    }
   ],
   "source": [
    "print(f'Метрик по test ({str(split_dates[0])[:10]}, {str(split_dates[1])[:10]})')"
   ],
   "metadata": {
    "collapsed": false,
    "pycharm": {
     "name": "#%%\n"
    }
   }
  },
  {
   "cell_type": "code",
   "execution_count": 69,
   "outputs": [],
   "source": [
    "users_count = test_recs['user_id'].nunique()"
   ],
   "metadata": {
    "collapsed": false,
    "pycharm": {
     "name": "#%%\n"
    }
   }
  },
  {
   "cell_type": "code",
   "execution_count": 70,
   "outputs": [
    {
     "data": {
      "text/plain": "1751"
     },
     "execution_count": 70,
     "metadata": {},
     "output_type": "execute_result"
    }
   ],
   "source": [
    "users_count"
   ],
   "metadata": {
    "collapsed": false,
    "pycharm": {
     "name": "#%%\n"
    }
   }
  },
  {
   "cell_type": "code",
   "execution_count": 72,
   "outputs": [
    {
     "name": "stdout",
     "output_type": "stream",
     "text": [
      "Precision@1 = 0.0000\n",
      "Recall@1 = 0.0000\n",
      "Precision@2 = 0.0026\n",
      "Recall@2 = 0.0040\n",
      "Precision@3 = 0.0048\n",
      "Recall@3 = 0.0128\n",
      "Precision@4 = 0.0050\n",
      "Recall@4 = 0.0173\n",
      "Precision@5 = 0.0045\n",
      "Recall@5 = 0.0192\n",
      "Precision@6 = 0.0039\n",
      "Recall@6 = 0.0204\n",
      "Precision@7 = 0.0037\n",
      "Recall@7 = 0.0222\n",
      "Precision@8 = 0.0035\n",
      "Recall@8 = 0.0241\n",
      "Precision@9 = 0.0034\n",
      "Recall@9 = 0.0253\n",
      "Precision@10 = 0.0035\n",
      "Recall@10 = 0.0290\n"
     ]
    }
   ],
   "source": [
    "for k in range(1, top_N + 1):\n",
    "    hit_k = f'hit@{k}'\n",
    "    test_recs[hit_k] = test_recs['predict_rank'] <= k\n",
    "    print(f'Precision@{k} = {(test_recs[hit_k] / k).sum() / users_count:.4f}')\n",
    "    print(f\"Recall@{k} = {(test_recs[hit_k] / test_recs['users_item_count']).sum() / users_count:.4f}\")"
   ],
   "metadata": {
    "collapsed": false,
    "pycharm": {
     "name": "#%%\n"
    }
   }
  },
  {
   "cell_type": "code",
   "execution_count": 73,
   "outputs": [
    {
     "name": "stdout",
     "output_type": "stream",
     "text": [
      "MAP@10 = 0.007738812893010494\n"
     ]
    }
   ],
   "source": [
    "mapN = (test_recs[\"cumulative_rank\"] / test_recs[\"users_item_count\"]).sum() / users_count\n",
    "print(f\"MAP@{top_N} = {mapN}\")"
   ],
   "metadata": {
    "collapsed": false,
    "pycharm": {
     "name": "#%%\n"
    }
   }
  },
  {
   "cell_type": "code",
   "execution_count": 80,
   "outputs": [
    {
     "name": "stdout",
     "output_type": "stream",
     "text": [
      "MRR = 0.008750101982540589\n"
     ]
    }
   ],
   "source": [
    "mrr = test_recs.groupby('user_id').agg({'pred_reciprocal_rank':'max'}).reset_index()['pred_reciprocal_rank'].mean()\n",
    "print(f\"MRR = {mrr}\")"
   ],
   "metadata": {
    "collapsed": false,
    "pycharm": {
     "name": "#%%\n"
    }
   }
  }
 ],
 "metadata": {
  "kernelspec": {
   "display_name": "Python 3",
   "language": "python",
   "name": "python3"
  },
  "language_info": {
   "codemirror_mode": {
    "name": "ipython",
    "version": 3
   },
   "file_extension": ".py",
   "mimetype": "text/x-python",
   "name": "python",
   "nbconvert_exporter": "python",
   "pygments_lexer": "ipython3",
   "version": "3.7.6"
  },
  "papermill": {
   "duration": 20.654014,
   "end_time": "2020-10-25T07:01:41.028757",
   "environment_variables": {},
   "exception": null,
   "input_path": "__notebook__.ipynb",
   "output_path": "__notebook__.ipynb",
   "parameters": {},
   "start_time": "2020-10-25T07:01:20.374743",
   "version": "2.1.0"
  }
 },
 "nbformat": 4,
 "nbformat_minor": 4
}
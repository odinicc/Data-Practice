{
 "cells": [
  {
   "cell_type": "markdown",
   "metadata": {
    "papermill": {
     "duration": 0.043203,
     "end_time": "2020-10-25T07:01:24.222229",
     "exception": false,
     "start_time": "2020-10-25T07:01:24.179026",
     "status": "completed"
    },
    "tags": [],
    "pycharm": {
     "name": "#%% md\n"
    }
   },
   "source": [
    "# Metrics, validation strategies and baselines\n",
    "\n",
    "В данном jupyter notebook рассматриваются примеры того, какие схемы валидации и метрики используются в рекомендательных системах.\n",
    "Также построим простые модели (бейзлайны) на данных МТС Библиотеки. \n",
    "\n",
    "* [Preprocessing](#preprocessing)\n",
    "* [General remarks](#general-remarks)\n",
    "* [Metrics](#metrics)\n",
    "    * [Regression](#regression)\n",
    "    * [Classification](#classification)\n",
    "    * [Ranking](#ranking)\n",
    "* [Validation strategies](#validation)\n",
    "* [Baselines](#baselines)"
   ]
  },
  {
   "cell_type": "code",
   "execution_count": 1,
   "metadata": {
    "_cell_guid": "b1076dfc-b9ad-4769-8c92-a6c4dae69d19",
    "_kg_hide-input": true,
    "_uuid": "8f2839f25d086af736a60e9eeb907d3b93b6e0e5",
    "execution": {
     "iopub.execute_input": "2020-10-25T07:01:24.311769Z",
     "iopub.status.busy": "2020-10-25T07:01:24.311271Z",
     "iopub.status.idle": "2020-10-25T07:01:24.329979Z",
     "shell.execute_reply": "2020-10-25T07:01:24.329585Z"
    },
    "papermill": {
     "duration": 0.066139,
     "end_time": "2020-10-25T07:01:24.330062",
     "exception": false,
     "start_time": "2020-10-25T07:01:24.263923",
     "status": "completed"
    },
    "tags": [],
    "pycharm": {
     "name": "#%%\n"
    }
   },
   "outputs": [],
   "source": [
    "import os\n",
    "import numpy as np \n",
    "import pandas as pd \n",
    "from itertools import islice, cycle\n",
    "from more_itertools import pairwise\n",
    "\n"
   ]
  },
  {
   "cell_type": "markdown",
   "metadata": {
    "papermill": {
     "duration": 0.041416,
     "end_time": "2020-10-25T07:01:24.414765",
     "exception": false,
     "start_time": "2020-10-25T07:01:24.373349",
     "status": "completed"
    },
    "tags": [],
    "pycharm": {
     "name": "#%% md\n"
    }
   },
   "source": [
    "<a id=\"preprocessing\"></a>\n",
    "# Preprocessing\n",
    "\n",
    "Загрузим наши данные, теперь уже с фичами, и применим знания из [pandas-scipy-for-recsys](https://www.kaggle.com/sharthz23/pandas-scipy-for-recsys)"
   ]
  },
  {
   "cell_type": "code",
   "execution_count": 2,
   "metadata": {
    "execution": {
     "iopub.execute_input": "2020-10-25T07:01:24.502698Z",
     "iopub.status.busy": "2020-10-25T07:01:24.502203Z",
     "iopub.status.idle": "2020-10-25T07:01:26.303449Z",
     "shell.execute_reply": "2020-10-25T07:01:26.302965Z"
    },
    "papermill": {
     "duration": 1.846902,
     "end_time": "2020-10-25T07:01:26.303534",
     "exception": false,
     "start_time": "2020-10-25T07:01:24.456632",
     "status": "completed"
    },
    "tags": [],
    "pycharm": {
     "name": "#%%\n"
    }
   },
   "outputs": [],
   "source": [
    "df = pd.read_pickle('./interactions_preprocessed.pickle')\n",
    "df_users = pd.read_pickle('./users_preprocessed.pickle')\n",
    "df_items = pd.read_pickle('./items_preprocessed.pickle')"
   ]
  },
  {
   "cell_type": "code",
   "execution_count": null,
   "outputs": [],
   "source": [],
   "metadata": {
    "collapsed": false,
    "pycharm": {
     "name": "#%%\n"
    }
   }
  },
  {
   "cell_type": "code",
   "execution_count": 4,
   "outputs": [
    {
     "data": {
      "text/plain": "        user_id     age  sex\n0             1   45_54  NaN\n1             2   18_24  0.0\n2             3  65_inf  0.0\n3             4   18_24  0.0\n4             5   35_44  0.0\n...         ...     ...  ...\n142883   159606   25_34  0.0\n142884   159607   25_34  NaN\n142885   159609   18_24  0.0\n142886   159610   35_44  0.0\n142887   159611   35_44  0.0\n\n[142888 rows x 3 columns]",
      "text/html": "<div>\n<style scoped>\n    .dataframe tbody tr th:only-of-type {\n        vertical-align: middle;\n    }\n\n    .dataframe tbody tr th {\n        vertical-align: top;\n    }\n\n    .dataframe thead th {\n        text-align: right;\n    }\n</style>\n<table border=\"1\" class=\"dataframe\">\n  <thead>\n    <tr style=\"text-align: right;\">\n      <th></th>\n      <th>user_id</th>\n      <th>age</th>\n      <th>sex</th>\n    </tr>\n  </thead>\n  <tbody>\n    <tr>\n      <th>0</th>\n      <td>1</td>\n      <td>45_54</td>\n      <td>NaN</td>\n    </tr>\n    <tr>\n      <th>1</th>\n      <td>2</td>\n      <td>18_24</td>\n      <td>0.0</td>\n    </tr>\n    <tr>\n      <th>2</th>\n      <td>3</td>\n      <td>65_inf</td>\n      <td>0.0</td>\n    </tr>\n    <tr>\n      <th>3</th>\n      <td>4</td>\n      <td>18_24</td>\n      <td>0.0</td>\n    </tr>\n    <tr>\n      <th>4</th>\n      <td>5</td>\n      <td>35_44</td>\n      <td>0.0</td>\n    </tr>\n    <tr>\n      <th>...</th>\n      <td>...</td>\n      <td>...</td>\n      <td>...</td>\n    </tr>\n    <tr>\n      <th>142883</th>\n      <td>159606</td>\n      <td>25_34</td>\n      <td>0.0</td>\n    </tr>\n    <tr>\n      <th>142884</th>\n      <td>159607</td>\n      <td>25_34</td>\n      <td>NaN</td>\n    </tr>\n    <tr>\n      <th>142885</th>\n      <td>159609</td>\n      <td>18_24</td>\n      <td>0.0</td>\n    </tr>\n    <tr>\n      <th>142886</th>\n      <td>159610</td>\n      <td>35_44</td>\n      <td>0.0</td>\n    </tr>\n    <tr>\n      <th>142887</th>\n      <td>159611</td>\n      <td>35_44</td>\n      <td>0.0</td>\n    </tr>\n  </tbody>\n</table>\n<p>142888 rows × 3 columns</p>\n</div>"
     },
     "execution_count": 4,
     "metadata": {},
     "output_type": "execute_result"
    }
   ],
   "source": [
    "df_users"
   ],
   "metadata": {
    "collapsed": false,
    "pycharm": {
     "name": "#%%\n"
    }
   }
  }
 ],
 "metadata": {
  "kernelspec": {
   "display_name": "Python 3",
   "language": "python",
   "name": "python3"
  },
  "language_info": {
   "codemirror_mode": {
    "name": "ipython",
    "version": 3
   },
   "file_extension": ".py",
   "mimetype": "text/x-python",
   "name": "python",
   "nbconvert_exporter": "python",
   "pygments_lexer": "ipython3",
   "version": "3.7.6"
  },
  "papermill": {
   "duration": 20.654014,
   "end_time": "2020-10-25T07:01:41.028757",
   "environment_variables": {},
   "exception": null,
   "input_path": "__notebook__.ipynb",
   "output_path": "__notebook__.ipynb",
   "parameters": {},
   "start_time": "2020-10-25T07:01:20.374743",
   "version": "2.1.0"
  }
 },
 "nbformat": 4,
 "nbformat_minor": 4
}
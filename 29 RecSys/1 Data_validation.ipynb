{
 "cells": [
  {
   "cell_type": "markdown",
   "metadata": {
    "papermill": {
     "duration": 0.043203,
     "end_time": "2020-10-25T07:01:24.222229",
     "exception": false,
     "start_time": "2020-10-25T07:01:24.179026",
     "status": "completed"
    },
    "tags": [],
    "pycharm": {
     "name": "#%% md\n"
    }
   },
   "source": [
    "# Metrics, validation strategies and baselines\n",
    "\n",
    "В данном jupyter notebook рассматриваются примеры того, какие схемы валидации и метрики используются в рекомендательных системах.\n",
    "Также построим простые модели (бейзлайны) на данных МТС Библиотеки. \n",
    "\n",
    "* [Preprocessing](#preprocessing)\n",
    "* [General remarks](#general-remarks)\n",
    "* [Metrics](#metrics)\n",
    "    * [Regression](#regression)\n",
    "    * [Classification](#classification)\n",
    "    * [Ranking](#ranking)\n",
    "* [Validation strategies](#validation)\n",
    "* [Baselines](#baselines)"
   ]
  },
  {
   "cell_type": "code",
   "execution_count": 22,
   "metadata": {
    "_cell_guid": "b1076dfc-b9ad-4769-8c92-a6c4dae69d19",
    "_kg_hide-input": true,
    "_uuid": "8f2839f25d086af736a60e9eeb907d3b93b6e0e5",
    "execution": {
     "iopub.execute_input": "2020-10-25T07:01:24.311769Z",
     "iopub.status.busy": "2020-10-25T07:01:24.311271Z",
     "iopub.status.idle": "2020-10-25T07:01:24.329979Z",
     "shell.execute_reply": "2020-10-25T07:01:24.329585Z"
    },
    "papermill": {
     "duration": 0.066139,
     "end_time": "2020-10-25T07:01:24.330062",
     "exception": false,
     "start_time": "2020-10-25T07:01:24.263923",
     "status": "completed"
    },
    "tags": [],
    "pycharm": {
     "name": "#%%\n"
    }
   },
   "outputs": [],
   "source": [
    "import os\n",
    "import numpy as np \n",
    "import pandas as pd \n",
    "from itertools import islice, cycle\n",
    "from more_itertools import pairwise\n",
    "\n"
   ]
  },
  {
   "cell_type": "markdown",
   "metadata": {
    "papermill": {
     "duration": 0.041416,
     "end_time": "2020-10-25T07:01:24.414765",
     "exception": false,
     "start_time": "2020-10-25T07:01:24.373349",
     "status": "completed"
    },
    "tags": [],
    "pycharm": {
     "name": "#%% md\n"
    }
   },
   "source": [
    "<a id=\"preprocessing\"></a>\n",
    "# Preprocessing\n",
    "\n",
    "Загрузим наши данные, теперь уже с фичами, и применим знания из [pandas-scipy-for-recsys](https://www.kaggle.com/sharthz23/pandas-scipy-for-recsys)"
   ]
  },
  {
   "cell_type": "code",
   "execution_count": 23,
   "metadata": {
    "execution": {
     "iopub.execute_input": "2020-10-25T07:01:24.502698Z",
     "iopub.status.busy": "2020-10-25T07:01:24.502203Z",
     "iopub.status.idle": "2020-10-25T07:01:26.303449Z",
     "shell.execute_reply": "2020-10-25T07:01:26.302965Z"
    },
    "papermill": {
     "duration": 1.846902,
     "end_time": "2020-10-25T07:01:26.303534",
     "exception": false,
     "start_time": "2020-10-25T07:01:24.456632",
     "status": "completed"
    },
    "tags": [],
    "pycharm": {
     "name": "#%%\n"
    }
   },
   "outputs": [],
   "source": [
    "df = pd.read_pickle('./interactions_preprocessed.pickle')\n",
    "df_users = pd.read_pickle('./users_preprocessed.pickle')\n",
    "df_items = pd.read_pickle('./items_preprocessed.pickle')"
   ]
  },
  {
   "cell_type": "code",
   "execution_count": 23,
   "outputs": [],
   "source": [],
   "metadata": {
    "collapsed": false,
    "pycharm": {
     "name": "#%%\n"
    }
   }
  },
  {
   "cell_type": "code",
   "execution_count": 24,
   "outputs": [
    {
     "data": {
      "text/plain": "        user_id     age  sex\n0             1   45_54  NaN\n1             2   18_24  0.0\n2             3  65_inf  0.0\n3             4   18_24  0.0\n4             5   35_44  0.0\n...         ...     ...  ...\n142883   159606   25_34  0.0\n142884   159607   25_34  NaN\n142885   159609   18_24  0.0\n142886   159610   35_44  0.0\n142887   159611   35_44  0.0\n\n[142888 rows x 3 columns]",
      "text/html": "<div>\n<style scoped>\n    .dataframe tbody tr th:only-of-type {\n        vertical-align: middle;\n    }\n\n    .dataframe tbody tr th {\n        vertical-align: top;\n    }\n\n    .dataframe thead th {\n        text-align: right;\n    }\n</style>\n<table border=\"1\" class=\"dataframe\">\n  <thead>\n    <tr style=\"text-align: right;\">\n      <th></th>\n      <th>user_id</th>\n      <th>age</th>\n      <th>sex</th>\n    </tr>\n  </thead>\n  <tbody>\n    <tr>\n      <th>0</th>\n      <td>1</td>\n      <td>45_54</td>\n      <td>NaN</td>\n    </tr>\n    <tr>\n      <th>1</th>\n      <td>2</td>\n      <td>18_24</td>\n      <td>0.0</td>\n    </tr>\n    <tr>\n      <th>2</th>\n      <td>3</td>\n      <td>65_inf</td>\n      <td>0.0</td>\n    </tr>\n    <tr>\n      <th>3</th>\n      <td>4</td>\n      <td>18_24</td>\n      <td>0.0</td>\n    </tr>\n    <tr>\n      <th>4</th>\n      <td>5</td>\n      <td>35_44</td>\n      <td>0.0</td>\n    </tr>\n    <tr>\n      <th>...</th>\n      <td>...</td>\n      <td>...</td>\n      <td>...</td>\n    </tr>\n    <tr>\n      <th>142883</th>\n      <td>159606</td>\n      <td>25_34</td>\n      <td>0.0</td>\n    </tr>\n    <tr>\n      <th>142884</th>\n      <td>159607</td>\n      <td>25_34</td>\n      <td>NaN</td>\n    </tr>\n    <tr>\n      <th>142885</th>\n      <td>159609</td>\n      <td>18_24</td>\n      <td>0.0</td>\n    </tr>\n    <tr>\n      <th>142886</th>\n      <td>159610</td>\n      <td>35_44</td>\n      <td>0.0</td>\n    </tr>\n    <tr>\n      <th>142887</th>\n      <td>159611</td>\n      <td>35_44</td>\n      <td>0.0</td>\n    </tr>\n  </tbody>\n</table>\n<p>142888 rows × 3 columns</p>\n</div>"
     },
     "execution_count": 24,
     "metadata": {},
     "output_type": "execute_result"
    }
   ],
   "source": [
    "df_users"
   ],
   "metadata": {
    "collapsed": false,
    "pycharm": {
     "name": "#%%\n"
    }
   }
  },
  {
   "cell_type": "code",
   "execution_count": 25,
   "outputs": [
    {
     "data": {
      "text/plain": "  user_id                              item_id\n0     Аня                   Мастер и Маргарита\n1    Боря                   451° по Фаренгейту\n2    Вася                         Зеленая миля\n3    Вася  Рита Хейуорт и спасение из Шоушенка",
      "text/html": "<div>\n<style scoped>\n    .dataframe tbody tr th:only-of-type {\n        vertical-align: middle;\n    }\n\n    .dataframe tbody tr th {\n        vertical-align: top;\n    }\n\n    .dataframe thead th {\n        text-align: right;\n    }\n</style>\n<table border=\"1\" class=\"dataframe\">\n  <thead>\n    <tr style=\"text-align: right;\">\n      <th></th>\n      <th>user_id</th>\n      <th>item_id</th>\n    </tr>\n  </thead>\n  <tbody>\n    <tr>\n      <th>0</th>\n      <td>Аня</td>\n      <td>Мастер и Маргарита</td>\n    </tr>\n    <tr>\n      <th>1</th>\n      <td>Боря</td>\n      <td>451° по Фаренгейту</td>\n    </tr>\n    <tr>\n      <th>2</th>\n      <td>Вася</td>\n      <td>Зеленая миля</td>\n    </tr>\n    <tr>\n      <th>3</th>\n      <td>Вася</td>\n      <td>Рита Хейуорт и спасение из Шоушенка</td>\n    </tr>\n  </tbody>\n</table>\n</div>"
     },
     "execution_count": 25,
     "metadata": {},
     "output_type": "execute_result"
    }
   ],
   "source": [
    "df_true = pd.DataFrame({\n",
    "    'user_id': ['Аня',                'Боря',               'Вася',         'Вася'],\n",
    "    'item_id': ['Мастер и Маргарита', '451° по Фаренгейту', 'Зеленая миля', 'Рита Хейуорт и спасение из Шоушенка'],\n",
    "})\n",
    "df_true"
   ],
   "metadata": {
    "collapsed": false,
    "pycharm": {
     "name": "#%%\n"
    }
   }
  },
  {
   "cell_type": "code",
   "execution_count": 26,
   "outputs": [
    {
     "data": {
      "text/plain": "  user_id               item_id  rank\n0     Аня           Отверженные     1\n1     Аня    Двенадцать стульев     2\n2     Аня  Герои нашего времени     3\n3    Боря    451° по Фаренгейту     1\n4    Боря                  1984     2\n5    Боря    О дивный новый мир     3\n6    Вася       Десять негритят     1\n7    Вася           Искра жизни     2\n8    Вася          Зеленая миля     3",
      "text/html": "<div>\n<style scoped>\n    .dataframe tbody tr th:only-of-type {\n        vertical-align: middle;\n    }\n\n    .dataframe tbody tr th {\n        vertical-align: top;\n    }\n\n    .dataframe thead th {\n        text-align: right;\n    }\n</style>\n<table border=\"1\" class=\"dataframe\">\n  <thead>\n    <tr style=\"text-align: right;\">\n      <th></th>\n      <th>user_id</th>\n      <th>item_id</th>\n      <th>rank</th>\n    </tr>\n  </thead>\n  <tbody>\n    <tr>\n      <th>0</th>\n      <td>Аня</td>\n      <td>Отверженные</td>\n      <td>1</td>\n    </tr>\n    <tr>\n      <th>1</th>\n      <td>Аня</td>\n      <td>Двенадцать стульев</td>\n      <td>2</td>\n    </tr>\n    <tr>\n      <th>2</th>\n      <td>Аня</td>\n      <td>Герои нашего времени</td>\n      <td>3</td>\n    </tr>\n    <tr>\n      <th>3</th>\n      <td>Боря</td>\n      <td>451° по Фаренгейту</td>\n      <td>1</td>\n    </tr>\n    <tr>\n      <th>4</th>\n      <td>Боря</td>\n      <td>1984</td>\n      <td>2</td>\n    </tr>\n    <tr>\n      <th>5</th>\n      <td>Боря</td>\n      <td>О дивный новый мир</td>\n      <td>3</td>\n    </tr>\n    <tr>\n      <th>6</th>\n      <td>Вася</td>\n      <td>Десять негритят</td>\n      <td>1</td>\n    </tr>\n    <tr>\n      <th>7</th>\n      <td>Вася</td>\n      <td>Искра жизни</td>\n      <td>2</td>\n    </tr>\n    <tr>\n      <th>8</th>\n      <td>Вася</td>\n      <td>Зеленая миля</td>\n      <td>3</td>\n    </tr>\n  </tbody>\n</table>\n</div>"
     },
     "execution_count": 26,
     "metadata": {},
     "output_type": "execute_result"
    }
   ],
   "source": [
    "df_recs = pd.DataFrame({\n",
    "    'user_id': [\n",
    "        'Аня', 'Аня', 'Аня',\n",
    "        'Боря', 'Боря', 'Боря',\n",
    "        'Вася', 'Вася', 'Вася',\n",
    "    ],\n",
    "    'item_id': [\n",
    "        'Отверженные', 'Двенадцать стульев', 'Герои нашего времени',\n",
    "        '451° по Фаренгейту', '1984', 'О дивный новый мир',\n",
    "        'Десять негритят', 'Искра жизни', 'Зеленая миля',\n",
    "    ],\n",
    "    'rank': [\n",
    "        1, 2, 3,\n",
    "        1, 2, 3,\n",
    "        1, 2, 3,\n",
    "    ]\n",
    "})\n",
    "df_recs"
   ],
   "metadata": {
    "collapsed": false,
    "pycharm": {
     "name": "#%%\n"
    }
   }
  },
  {
   "cell_type": "code",
   "execution_count": 27,
   "outputs": [
    {
     "data": {
      "text/plain": "                                             rank\nuser_id item_id                                  \nАня     Мастер и Маргарита                    NaN\nБоря    451° по Фаренгейту                    1.0\nВася    Зеленая миля                          3.0\n        Рита Хейуорт и спасение из Шоушенка   NaN",
      "text/html": "<div>\n<style scoped>\n    .dataframe tbody tr th:only-of-type {\n        vertical-align: middle;\n    }\n\n    .dataframe tbody tr th {\n        vertical-align: top;\n    }\n\n    .dataframe thead th {\n        text-align: right;\n    }\n</style>\n<table border=\"1\" class=\"dataframe\">\n  <thead>\n    <tr style=\"text-align: right;\">\n      <th></th>\n      <th></th>\n      <th>rank</th>\n    </tr>\n    <tr>\n      <th>user_id</th>\n      <th>item_id</th>\n      <th></th>\n    </tr>\n  </thead>\n  <tbody>\n    <tr>\n      <th>Аня</th>\n      <th>Мастер и Маргарита</th>\n      <td>NaN</td>\n    </tr>\n    <tr>\n      <th>Боря</th>\n      <th>451° по Фаренгейту</th>\n      <td>1.0</td>\n    </tr>\n    <tr>\n      <th rowspan=\"2\" valign=\"top\">Вася</th>\n      <th>Зеленая миля</th>\n      <td>3.0</td>\n    </tr>\n    <tr>\n      <th>Рита Хейуорт и спасение из Шоушенка</th>\n      <td>NaN</td>\n    </tr>\n  </tbody>\n</table>\n</div>"
     },
     "execution_count": 27,
     "metadata": {},
     "output_type": "execute_result"
    }
   ],
   "source": [
    "df_true.set_index(['user_id', 'item_id']).join(df_recs.set_index(['user_id', 'item_id']), how='left')\n"
   ],
   "metadata": {
    "collapsed": false,
    "pycharm": {
     "name": "#%%\n"
    }
   }
  },
  {
   "cell_type": "code",
   "execution_count": 28,
   "outputs": [],
   "source": [
    "df_merged = df_true.merge(df_recs, on = ['user_id','item_id'], how = 'left')"
   ],
   "metadata": {
    "collapsed": false,
    "pycharm": {
     "name": "#%%\n"
    }
   }
  },
  {
   "cell_type": "code",
   "execution_count": 29,
   "outputs": [],
   "source": [
    "df_merged['hit@2'] = df_merged['rank'] <= 2"
   ],
   "metadata": {
    "collapsed": false,
    "pycharm": {
     "name": "#%%\n"
    }
   }
  },
  {
   "cell_type": "code",
   "execution_count": 30,
   "outputs": [
    {
     "data": {
      "text/plain": "  user_id                              item_id  rank  hit@2\n0     Аня                   Мастер и Маргарита   NaN  False\n1    Боря                   451° по Фаренгейту   1.0   True\n2    Вася                         Зеленая миля   3.0  False\n3    Вася  Рита Хейуорт и спасение из Шоушенка   NaN  False",
      "text/html": "<div>\n<style scoped>\n    .dataframe tbody tr th:only-of-type {\n        vertical-align: middle;\n    }\n\n    .dataframe tbody tr th {\n        vertical-align: top;\n    }\n\n    .dataframe thead th {\n        text-align: right;\n    }\n</style>\n<table border=\"1\" class=\"dataframe\">\n  <thead>\n    <tr style=\"text-align: right;\">\n      <th></th>\n      <th>user_id</th>\n      <th>item_id</th>\n      <th>rank</th>\n      <th>hit@2</th>\n    </tr>\n  </thead>\n  <tbody>\n    <tr>\n      <th>0</th>\n      <td>Аня</td>\n      <td>Мастер и Маргарита</td>\n      <td>NaN</td>\n      <td>False</td>\n    </tr>\n    <tr>\n      <th>1</th>\n      <td>Боря</td>\n      <td>451° по Фаренгейту</td>\n      <td>1.0</td>\n      <td>True</td>\n    </tr>\n    <tr>\n      <th>2</th>\n      <td>Вася</td>\n      <td>Зеленая миля</td>\n      <td>3.0</td>\n      <td>False</td>\n    </tr>\n    <tr>\n      <th>3</th>\n      <td>Вася</td>\n      <td>Рита Хейуорт и спасение из Шоушенка</td>\n      <td>NaN</td>\n      <td>False</td>\n    </tr>\n  </tbody>\n</table>\n</div>"
     },
     "execution_count": 30,
     "metadata": {},
     "output_type": "execute_result"
    }
   ],
   "source": [
    "df_merged"
   ],
   "metadata": {
    "collapsed": false,
    "pycharm": {
     "name": "#%%\n"
    }
   }
  },
  {
   "cell_type": "code",
   "execution_count": 31,
   "outputs": [
    {
     "data": {
      "text/plain": "  user_id                              item_id  rank  hit@2  hit@2/2\n0     Аня                   Мастер и Маргарита   NaN  False      0.0\n1    Боря                   451° по Фаренгейту   1.0   True      0.5\n2    Вася                         Зеленая миля   3.0  False      0.0\n3    Вася  Рита Хейуорт и спасение из Шоушенка   NaN  False      0.0",
      "text/html": "<div>\n<style scoped>\n    .dataframe tbody tr th:only-of-type {\n        vertical-align: middle;\n    }\n\n    .dataframe tbody tr th {\n        vertical-align: top;\n    }\n\n    .dataframe thead th {\n        text-align: right;\n    }\n</style>\n<table border=\"1\" class=\"dataframe\">\n  <thead>\n    <tr style=\"text-align: right;\">\n      <th></th>\n      <th>user_id</th>\n      <th>item_id</th>\n      <th>rank</th>\n      <th>hit@2</th>\n      <th>hit@2/2</th>\n    </tr>\n  </thead>\n  <tbody>\n    <tr>\n      <th>0</th>\n      <td>Аня</td>\n      <td>Мастер и Маргарита</td>\n      <td>NaN</td>\n      <td>False</td>\n      <td>0.0</td>\n    </tr>\n    <tr>\n      <th>1</th>\n      <td>Боря</td>\n      <td>451° по Фаренгейту</td>\n      <td>1.0</td>\n      <td>True</td>\n      <td>0.5</td>\n    </tr>\n    <tr>\n      <th>2</th>\n      <td>Вася</td>\n      <td>Зеленая миля</td>\n      <td>3.0</td>\n      <td>False</td>\n      <td>0.0</td>\n    </tr>\n    <tr>\n      <th>3</th>\n      <td>Вася</td>\n      <td>Рита Хейуорт и спасение из Шоушенка</td>\n      <td>NaN</td>\n      <td>False</td>\n      <td>0.0</td>\n    </tr>\n  </tbody>\n</table>\n</div>"
     },
     "execution_count": 31,
     "metadata": {},
     "output_type": "execute_result"
    }
   ],
   "source": [
    "df_merged['hit@2/2'] = df_merged['hit@2'] / 2\n",
    "df_merged"
   ],
   "metadata": {
    "collapsed": false,
    "pycharm": {
     "name": "#%%\n"
    }
   }
  },
  {
   "cell_type": "code",
   "execution_count": 32,
   "outputs": [],
   "source": [
    "df_prec2 = df_merged.groupby('user_id').agg({'hit@2/2':'sum'}).reset_index()\n"
   ],
   "metadata": {
    "collapsed": false,
    "pycharm": {
     "name": "#%%\n"
    }
   }
  },
  {
   "cell_type": "code",
   "execution_count": 33,
   "outputs": [
    {
     "data": {
      "text/plain": "  user_id  hit@2/2\n0     Аня      0.0\n1    Боря      0.5\n2    Вася      0.0",
      "text/html": "<div>\n<style scoped>\n    .dataframe tbody tr th:only-of-type {\n        vertical-align: middle;\n    }\n\n    .dataframe tbody tr th {\n        vertical-align: top;\n    }\n\n    .dataframe thead th {\n        text-align: right;\n    }\n</style>\n<table border=\"1\" class=\"dataframe\">\n  <thead>\n    <tr style=\"text-align: right;\">\n      <th></th>\n      <th>user_id</th>\n      <th>hit@2/2</th>\n    </tr>\n  </thead>\n  <tbody>\n    <tr>\n      <th>0</th>\n      <td>Аня</td>\n      <td>0.0</td>\n    </tr>\n    <tr>\n      <th>1</th>\n      <td>Боря</td>\n      <td>0.5</td>\n    </tr>\n    <tr>\n      <th>2</th>\n      <td>Вася</td>\n      <td>0.0</td>\n    </tr>\n  </tbody>\n</table>\n</div>"
     },
     "execution_count": 33,
     "metadata": {},
     "output_type": "execute_result"
    }
   ],
   "source": [
    "df_prec2"
   ],
   "metadata": {
    "collapsed": false,
    "pycharm": {
     "name": "#%%\n"
    }
   }
  },
  {
   "cell_type": "code",
   "execution_count": 34,
   "outputs": [
    {
     "name": "stdout",
     "output_type": "stream",
     "text": [
      "Precision@2 0.16666666666666666\n"
     ]
    }
   ],
   "source": [
    "print('Precision@2' ,df_prec2['hit@2/2'].mean())"
   ],
   "metadata": {
    "collapsed": false,
    "pycharm": {
     "name": "#%%\n"
    }
   }
  },
  {
   "cell_type": "code",
   "execution_count": 35,
   "outputs": [],
   "source": [
    "for k in [1, 2, 3]:\n",
    "    hit_k = f'hit@{k}'\n",
    "    hit_k2 = f'hit@{k}/{k}'\n",
    "    df_merged[hit_k] = df_merged['rank'] <= k\n",
    "    df_merged[hit_k2] = df_merged[hit_k] / k"
   ],
   "metadata": {
    "collapsed": false,
    "pycharm": {
     "name": "#%%\n"
    }
   }
  },
  {
   "cell_type": "code",
   "execution_count": 64,
   "outputs": [],
   "source": [
    "users_count = df_merged['user_id'].nunique()"
   ],
   "metadata": {
    "collapsed": false,
    "pycharm": {
     "name": "#%%\n"
    }
   }
  },
  {
   "cell_type": "code",
   "execution_count": 65,
   "outputs": [
    {
     "name": "stdout",
     "output_type": "stream",
     "text": [
      "Precision@1 0.3333333333333333 \n",
      " Precision@2 0.16666666666666666 \n",
      " Precision@3 0.2222222222222222\n"
     ]
    }
   ],
   "source": [
    "print( 'Precision@1', df_merged['hit@1/1'].sum() / users_count,'\\n',\n",
    "    'Precision@2', df_merged['hit@2/2'].sum() / users_count,'\\n',\n",
    "       'Precision@3', df_merged['hit@3/3'].sum() / users_count\n",
    "       )"
   ],
   "metadata": {
    "collapsed": false,
    "pycharm": {
     "name": "#%%\n"
    }
   }
  },
  {
   "cell_type": "code",
   "execution_count": 47,
   "outputs": [
    {
     "data": {
      "text/plain": "  user_id                              item_id  rank  hit@2  hit@2/2  hit@1  \\\n0     Аня                   Мастер и Маргарита   NaN  False      0.0  False   \n1    Боря                   451° по Фаренгейту   1.0   True      0.5   True   \n2    Вася                         Зеленая миля   3.0  False      0.0  False   \n3    Вася  Рита Хейуорт и спасение из Шоушенка   NaN  False      0.0  False   \n\n   hit@1/1  hit@3   hit@3/3  \n0      0.0  False  0.000000  \n1      1.0   True  0.333333  \n2      0.0   True  0.333333  \n3      0.0  False  0.000000  ",
      "text/html": "<div>\n<style scoped>\n    .dataframe tbody tr th:only-of-type {\n        vertical-align: middle;\n    }\n\n    .dataframe tbody tr th {\n        vertical-align: top;\n    }\n\n    .dataframe thead th {\n        text-align: right;\n    }\n</style>\n<table border=\"1\" class=\"dataframe\">\n  <thead>\n    <tr style=\"text-align: right;\">\n      <th></th>\n      <th>user_id</th>\n      <th>item_id</th>\n      <th>rank</th>\n      <th>hit@2</th>\n      <th>hit@2/2</th>\n      <th>hit@1</th>\n      <th>hit@1/1</th>\n      <th>hit@3</th>\n      <th>hit@3/3</th>\n    </tr>\n  </thead>\n  <tbody>\n    <tr>\n      <th>0</th>\n      <td>Аня</td>\n      <td>Мастер и Маргарита</td>\n      <td>NaN</td>\n      <td>False</td>\n      <td>0.0</td>\n      <td>False</td>\n      <td>0.0</td>\n      <td>False</td>\n      <td>0.000000</td>\n    </tr>\n    <tr>\n      <th>1</th>\n      <td>Боря</td>\n      <td>451° по Фаренгейту</td>\n      <td>1.0</td>\n      <td>True</td>\n      <td>0.5</td>\n      <td>True</td>\n      <td>1.0</td>\n      <td>True</td>\n      <td>0.333333</td>\n    </tr>\n    <tr>\n      <th>2</th>\n      <td>Вася</td>\n      <td>Зеленая миля</td>\n      <td>3.0</td>\n      <td>False</td>\n      <td>0.0</td>\n      <td>False</td>\n      <td>0.0</td>\n      <td>True</td>\n      <td>0.333333</td>\n    </tr>\n    <tr>\n      <th>3</th>\n      <td>Вася</td>\n      <td>Рита Хейуорт и спасение из Шоушенка</td>\n      <td>NaN</td>\n      <td>False</td>\n      <td>0.0</td>\n      <td>False</td>\n      <td>0.0</td>\n      <td>False</td>\n      <td>0.000000</td>\n    </tr>\n  </tbody>\n</table>\n</div>"
     },
     "execution_count": 47,
     "metadata": {},
     "output_type": "execute_result"
    }
   ],
   "source": [
    "df_merged"
   ],
   "metadata": {
    "collapsed": false,
    "pycharm": {
     "name": "#%%\n"
    }
   }
  },
  {
   "cell_type": "code",
   "execution_count": 59,
   "outputs": [
    {
     "data": {
      "text/plain": "0.25"
     },
     "execution_count": 59,
     "metadata": {},
     "output_type": "execute_result"
    }
   ],
   "source": [
    "df_merged['hit@2'].sum()/df_merged['hit@2'].count()"
   ],
   "metadata": {
    "collapsed": false,
    "pycharm": {
     "name": "#%%\n"
    }
   }
  },
  {
   "cell_type": "code",
   "execution_count": 66,
   "outputs": [],
   "source": [
    "df_merged = df_merged.merge(df_merged.groupby(['user_id']).agg({'item_id':'count'}).reset_index().rename(columns = {'item_id':'users_item_count'}) , on = 'user_id', how = 'left')"
   ],
   "metadata": {
    "collapsed": false,
    "pycharm": {
     "name": "#%%\n"
    }
   }
  },
  {
   "cell_type": "code",
   "execution_count": 67,
   "outputs": [
    {
     "data": {
      "text/plain": "  user_id                              item_id  rank  hit@2  hit@2/2  hit@1  \\\n0     Аня                   Мастер и Маргарита   NaN  False      0.0  False   \n1    Боря                   451° по Фаренгейту   1.0   True      0.5   True   \n2    Вася                         Зеленая миля   3.0  False      0.0  False   \n3    Вася  Рита Хейуорт и спасение из Шоушенка   NaN  False      0.0  False   \n\n   hit@1/1  hit@3   hit@3/3  users_item_count  \n0      0.0  False  0.000000                 1  \n1      1.0   True  0.333333                 1  \n2      0.0   True  0.333333                 2  \n3      0.0  False  0.000000                 2  ",
      "text/html": "<div>\n<style scoped>\n    .dataframe tbody tr th:only-of-type {\n        vertical-align: middle;\n    }\n\n    .dataframe tbody tr th {\n        vertical-align: top;\n    }\n\n    .dataframe thead th {\n        text-align: right;\n    }\n</style>\n<table border=\"1\" class=\"dataframe\">\n  <thead>\n    <tr style=\"text-align: right;\">\n      <th></th>\n      <th>user_id</th>\n      <th>item_id</th>\n      <th>rank</th>\n      <th>hit@2</th>\n      <th>hit@2/2</th>\n      <th>hit@1</th>\n      <th>hit@1/1</th>\n      <th>hit@3</th>\n      <th>hit@3/3</th>\n      <th>users_item_count</th>\n    </tr>\n  </thead>\n  <tbody>\n    <tr>\n      <th>0</th>\n      <td>Аня</td>\n      <td>Мастер и Маргарита</td>\n      <td>NaN</td>\n      <td>False</td>\n      <td>0.0</td>\n      <td>False</td>\n      <td>0.0</td>\n      <td>False</td>\n      <td>0.000000</td>\n      <td>1</td>\n    </tr>\n    <tr>\n      <th>1</th>\n      <td>Боря</td>\n      <td>451° по Фаренгейту</td>\n      <td>1.0</td>\n      <td>True</td>\n      <td>0.5</td>\n      <td>True</td>\n      <td>1.0</td>\n      <td>True</td>\n      <td>0.333333</td>\n      <td>1</td>\n    </tr>\n    <tr>\n      <th>2</th>\n      <td>Вася</td>\n      <td>Зеленая миля</td>\n      <td>3.0</td>\n      <td>False</td>\n      <td>0.0</td>\n      <td>False</td>\n      <td>0.0</td>\n      <td>True</td>\n      <td>0.333333</td>\n      <td>2</td>\n    </tr>\n    <tr>\n      <th>3</th>\n      <td>Вася</td>\n      <td>Рита Хейуорт и спасение из Шоушенка</td>\n      <td>NaN</td>\n      <td>False</td>\n      <td>0.0</td>\n      <td>False</td>\n      <td>0.0</td>\n      <td>False</td>\n      <td>0.000000</td>\n      <td>2</td>\n    </tr>\n  </tbody>\n</table>\n</div>"
     },
     "execution_count": 67,
     "metadata": {},
     "output_type": "execute_result"
    }
   ],
   "source": [
    "df_merged"
   ],
   "metadata": {
    "collapsed": false,
    "pycharm": {
     "name": "#%%\n"
    }
   }
  },
  {
   "cell_type": "code",
   "execution_count": 71,
   "outputs": [
    {
     "name": "stdout",
     "output_type": "stream",
     "text": [
      "0.3333333333333333\n"
     ]
    }
   ],
   "source": [
    "print( (df_merged['hit@1'] / df_merged['users_item_count']).sum() / users_count)"
   ],
   "metadata": {
    "collapsed": false,
    "pycharm": {
     "name": "#%%\n"
    }
   }
  },
  {
   "cell_type": "code",
   "execution_count": 72,
   "outputs": [
    {
     "name": "stdout",
     "output_type": "stream",
     "text": [
      "0.3333333333333333\n"
     ]
    }
   ],
   "source": [
    "print( (df_merged['hit@2'] / df_merged['users_item_count']).sum() / users_count)"
   ],
   "metadata": {
    "collapsed": false,
    "pycharm": {
     "name": "#%%\n"
    }
   }
  },
  {
   "cell_type": "code",
   "execution_count": 74,
   "outputs": [
    {
     "name": "stdout",
     "output_type": "stream",
     "text": [
      "0.5\n"
     ]
    }
   ],
   "source": [
    "print( (df_merged['hit@3'] / df_merged['users_item_count']).sum() / users_count)"
   ],
   "metadata": {
    "collapsed": false,
    "pycharm": {
     "name": "#%%\n"
    }
   }
  },
  {
   "cell_type": "markdown",
   "source": [
    "Mean Average Precision\n",
    "То есть MAP - это усреднение AveragePrecision по всем пользователям. А AveragePrecision в свою очередь, это средний Precision@K по релевантным объектам одного пользователя"
   ],
   "metadata": {
    "collapsed": false,
    "pycharm": {
     "name": "#%% md\n"
    }
   }
  },
  {
   "cell_type": "code",
   "execution_count": 75,
   "outputs": [
    {
     "data": {
      "text/plain": "  user_id                              item_id\n0     Аня                   Мастер и Маргарита\n1    Боря                   451° по Фаренгейту\n2    Вася                         Зеленая миля\n3    Вася  Рита Хейуорт и спасение из Шоушенка",
      "text/html": "<div>\n<style scoped>\n    .dataframe tbody tr th:only-of-type {\n        vertical-align: middle;\n    }\n\n    .dataframe tbody tr th {\n        vertical-align: top;\n    }\n\n    .dataframe thead th {\n        text-align: right;\n    }\n</style>\n<table border=\"1\" class=\"dataframe\">\n  <thead>\n    <tr style=\"text-align: right;\">\n      <th></th>\n      <th>user_id</th>\n      <th>item_id</th>\n    </tr>\n  </thead>\n  <tbody>\n    <tr>\n      <th>0</th>\n      <td>Аня</td>\n      <td>Мастер и Маргарита</td>\n    </tr>\n    <tr>\n      <th>1</th>\n      <td>Боря</td>\n      <td>451° по Фаренгейту</td>\n    </tr>\n    <tr>\n      <th>2</th>\n      <td>Вася</td>\n      <td>Зеленая миля</td>\n    </tr>\n    <tr>\n      <th>3</th>\n      <td>Вася</td>\n      <td>Рита Хейуорт и спасение из Шоушенка</td>\n    </tr>\n  </tbody>\n</table>\n</div>"
     },
     "execution_count": 75,
     "metadata": {},
     "output_type": "execute_result"
    }
   ],
   "source": [
    "df_true = pd.DataFrame({\n",
    "    'user_id': ['Аня',                'Боря',               'Вася',         'Вася'],\n",
    "    'item_id': ['Мастер и Маргарита', '451° по Фаренгейту', 'Зеленая миля', 'Рита Хейуорт и спасение из Шоушенка'],\n",
    "})\n",
    "df_true"
   ],
   "metadata": {
    "collapsed": false,
    "pycharm": {
     "name": "#%%\n"
    }
   }
  },
  {
   "cell_type": "code",
   "execution_count": 76,
   "outputs": [
    {
     "data": {
      "text/plain": "  user_id                              item_id  rank\n0     Аня                          Отверженные     1\n1     Аня                   Двенадцать стульев     2\n2     Аня                 Герои нашего времени     3\n3    Боря                   451° по Фаренгейту     1\n4    Боря                                 1984     2\n5    Боря                   О дивный новый мир     3\n6    Вася                      Десять негритят     1\n7    Вася  Рита Хейуорт и спасение из Шоушенка     2\n8    Вася                         Зеленая миля     3",
      "text/html": "<div>\n<style scoped>\n    .dataframe tbody tr th:only-of-type {\n        vertical-align: middle;\n    }\n\n    .dataframe tbody tr th {\n        vertical-align: top;\n    }\n\n    .dataframe thead th {\n        text-align: right;\n    }\n</style>\n<table border=\"1\" class=\"dataframe\">\n  <thead>\n    <tr style=\"text-align: right;\">\n      <th></th>\n      <th>user_id</th>\n      <th>item_id</th>\n      <th>rank</th>\n    </tr>\n  </thead>\n  <tbody>\n    <tr>\n      <th>0</th>\n      <td>Аня</td>\n      <td>Отверженные</td>\n      <td>1</td>\n    </tr>\n    <tr>\n      <th>1</th>\n      <td>Аня</td>\n      <td>Двенадцать стульев</td>\n      <td>2</td>\n    </tr>\n    <tr>\n      <th>2</th>\n      <td>Аня</td>\n      <td>Герои нашего времени</td>\n      <td>3</td>\n    </tr>\n    <tr>\n      <th>3</th>\n      <td>Боря</td>\n      <td>451° по Фаренгейту</td>\n      <td>1</td>\n    </tr>\n    <tr>\n      <th>4</th>\n      <td>Боря</td>\n      <td>1984</td>\n      <td>2</td>\n    </tr>\n    <tr>\n      <th>5</th>\n      <td>Боря</td>\n      <td>О дивный новый мир</td>\n      <td>3</td>\n    </tr>\n    <tr>\n      <th>6</th>\n      <td>Вася</td>\n      <td>Десять негритят</td>\n      <td>1</td>\n    </tr>\n    <tr>\n      <th>7</th>\n      <td>Вася</td>\n      <td>Рита Хейуорт и спасение из Шоушенка</td>\n      <td>2</td>\n    </tr>\n    <tr>\n      <th>8</th>\n      <td>Вася</td>\n      <td>Зеленая миля</td>\n      <td>3</td>\n    </tr>\n  </tbody>\n</table>\n</div>"
     },
     "execution_count": 76,
     "metadata": {},
     "output_type": "execute_result"
    }
   ],
   "source": [
    "df_recs = pd.DataFrame({\n",
    "    'user_id': [\n",
    "        'Аня', 'Аня', 'Аня',\n",
    "        'Боря', 'Боря', 'Боря',\n",
    "        'Вася', 'Вася', 'Вася',\n",
    "    ],\n",
    "    'item_id': [\n",
    "        'Отверженные', 'Двенадцать стульев', 'Герои нашего времени',\n",
    "        '451° по Фаренгейту', '1984', 'О дивный новый мир',\n",
    "        'Десять негритят', 'Рита Хейуорт и спасение из Шоушенка', 'Зеленая миля',\n",
    "    ],\n",
    "    'rank': [\n",
    "        1, 2, 3,\n",
    "        1, 2, 3,\n",
    "        1, 2, 3,\n",
    "    ]\n",
    "})\n",
    "df_recs"
   ],
   "metadata": {
    "collapsed": false,
    "pycharm": {
     "name": "#%%\n"
    }
   }
  },
  {
   "cell_type": "code",
   "execution_count": 79,
   "outputs": [
    {
     "data": {
      "text/plain": "  user_id                              item_id  rank\n0     Аня                   Мастер и Маргарита   NaN\n1    Боря                   451° по Фаренгейту   1.0\n2    Вася                         Зеленая миля   3.0\n3    Вася  Рита Хейуорт и спасение из Шоушенка   2.0",
      "text/html": "<div>\n<style scoped>\n    .dataframe tbody tr th:only-of-type {\n        vertical-align: middle;\n    }\n\n    .dataframe tbody tr th {\n        vertical-align: top;\n    }\n\n    .dataframe thead th {\n        text-align: right;\n    }\n</style>\n<table border=\"1\" class=\"dataframe\">\n  <thead>\n    <tr style=\"text-align: right;\">\n      <th></th>\n      <th>user_id</th>\n      <th>item_id</th>\n      <th>rank</th>\n    </tr>\n  </thead>\n  <tbody>\n    <tr>\n      <th>0</th>\n      <td>Аня</td>\n      <td>Мастер и Маргарита</td>\n      <td>NaN</td>\n    </tr>\n    <tr>\n      <th>1</th>\n      <td>Боря</td>\n      <td>451° по Фаренгейту</td>\n      <td>1.0</td>\n    </tr>\n    <tr>\n      <th>2</th>\n      <td>Вася</td>\n      <td>Зеленая миля</td>\n      <td>3.0</td>\n    </tr>\n    <tr>\n      <th>3</th>\n      <td>Вася</td>\n      <td>Рита Хейуорт и спасение из Шоушенка</td>\n      <td>2.0</td>\n    </tr>\n  </tbody>\n</table>\n</div>"
     },
     "execution_count": 79,
     "metadata": {},
     "output_type": "execute_result"
    }
   ],
   "source": [
    "df_merged = df_true.merge(df_recs,on = ['user_id', 'item_id'], how='left')\n"
   ],
   "metadata": {
    "collapsed": false,
    "pycharm": {
     "name": "#%%\n"
    }
   }
  },
  {
   "cell_type": "code",
   "execution_count": 80,
   "outputs": [],
   "source": [
    "df_merged.sort_values(by=['user_id', 'rank'] , inplace= True)"
   ],
   "metadata": {
    "collapsed": false,
    "pycharm": {
     "name": "#%%\n"
    }
   }
  },
  {
   "cell_type": "code",
   "execution_count": 82,
   "outputs": [],
   "source": [
    "df_merged['reciprocal_rank'] = 1 / df_merged['rank']"
   ],
   "metadata": {
    "collapsed": false,
    "pycharm": {
     "name": "#%%\n"
    }
   }
  },
  {
   "cell_type": "code",
   "execution_count": 86,
   "outputs": [],
   "source": [
    "df_merged = df_merged.reset_index()"
   ],
   "metadata": {
    "collapsed": false,
    "pycharm": {
     "name": "#%%\n"
    }
   }
  },
  {
   "cell_type": "code",
   "execution_count": 90,
   "outputs": [],
   "source": [
    "df_merged[['reciprocal_rank']] = df_merged[['reciprocal_rank']].fillna(0)"
   ],
   "metadata": {
    "collapsed": false,
    "pycharm": {
     "name": "#%%\n"
    }
   }
  },
  {
   "cell_type": "code",
   "execution_count": 91,
   "outputs": [
    {
     "data": {
      "text/plain": "  user_id                              item_id  rank  reciprocal_rank\n0     Аня                   Мастер и Маргарита   NaN         0.000000\n1    Боря                   451° по Фаренгейту   1.0         1.000000\n2    Вася  Рита Хейуорт и спасение из Шоушенка   2.0         0.500000\n3    Вася                         Зеленая миля   3.0         0.333333",
      "text/html": "<div>\n<style scoped>\n    .dataframe tbody tr th:only-of-type {\n        vertical-align: middle;\n    }\n\n    .dataframe tbody tr th {\n        vertical-align: top;\n    }\n\n    .dataframe thead th {\n        text-align: right;\n    }\n</style>\n<table border=\"1\" class=\"dataframe\">\n  <thead>\n    <tr style=\"text-align: right;\">\n      <th></th>\n      <th>user_id</th>\n      <th>item_id</th>\n      <th>rank</th>\n      <th>reciprocal_rank</th>\n    </tr>\n  </thead>\n  <tbody>\n    <tr>\n      <th>0</th>\n      <td>Аня</td>\n      <td>Мастер и Маргарита</td>\n      <td>NaN</td>\n      <td>0.000000</td>\n    </tr>\n    <tr>\n      <th>1</th>\n      <td>Боря</td>\n      <td>451° по Фаренгейту</td>\n      <td>1.0</td>\n      <td>1.000000</td>\n    </tr>\n    <tr>\n      <th>2</th>\n      <td>Вася</td>\n      <td>Рита Хейуорт и спасение из Шоушенка</td>\n      <td>2.0</td>\n      <td>0.500000</td>\n    </tr>\n    <tr>\n      <th>3</th>\n      <td>Вася</td>\n      <td>Зеленая миля</td>\n      <td>3.0</td>\n      <td>0.333333</td>\n    </tr>\n  </tbody>\n</table>\n</div>"
     },
     "execution_count": 91,
     "metadata": {},
     "output_type": "execute_result"
    }
   ],
   "source": [
    "df_merged"
   ],
   "metadata": {
    "collapsed": false,
    "pycharm": {
     "name": "#%%\n"
    }
   }
  },
  {
   "cell_type": "code",
   "execution_count": 92,
   "outputs": [],
   "source": [
    "mrr = df_merged.groupby(['user_id']).agg({'reciprocal_rank':'max'}).reset_index()"
   ],
   "metadata": {
    "collapsed": false,
    "pycharm": {
     "name": "#%%\n"
    }
   }
  },
  {
   "cell_type": "code",
   "execution_count": 93,
   "outputs": [
    {
     "data": {
      "text/plain": "  user_id  reciprocal_rank\n0     Аня              0.0\n1    Боря              1.0\n2    Вася              0.5",
      "text/html": "<div>\n<style scoped>\n    .dataframe tbody tr th:only-of-type {\n        vertical-align: middle;\n    }\n\n    .dataframe tbody tr th {\n        vertical-align: top;\n    }\n\n    .dataframe thead th {\n        text-align: right;\n    }\n</style>\n<table border=\"1\" class=\"dataframe\">\n  <thead>\n    <tr style=\"text-align: right;\">\n      <th></th>\n      <th>user_id</th>\n      <th>reciprocal_rank</th>\n    </tr>\n  </thead>\n  <tbody>\n    <tr>\n      <th>0</th>\n      <td>Аня</td>\n      <td>0.0</td>\n    </tr>\n    <tr>\n      <th>1</th>\n      <td>Боря</td>\n      <td>1.0</td>\n    </tr>\n    <tr>\n      <th>2</th>\n      <td>Вася</td>\n      <td>0.5</td>\n    </tr>\n  </tbody>\n</table>\n</div>"
     },
     "execution_count": 93,
     "metadata": {},
     "output_type": "execute_result"
    }
   ],
   "source": [
    "mrr"
   ],
   "metadata": {
    "collapsed": false,
    "pycharm": {
     "name": "#%%\n"
    }
   }
  },
  {
   "cell_type": "code",
   "execution_count": null,
   "outputs": [],
   "source": [],
   "metadata": {
    "collapsed": false,
    "pycharm": {
     "name": "#%%\n"
    }
   }
  }
 ],
 "metadata": {
  "kernelspec": {
   "display_name": "Python 3",
   "language": "python",
   "name": "python3"
  },
  "language_info": {
   "codemirror_mode": {
    "name": "ipython",
    "version": 3
   },
   "file_extension": ".py",
   "mimetype": "text/x-python",
   "name": "python",
   "nbconvert_exporter": "python",
   "pygments_lexer": "ipython3",
   "version": "3.7.6"
  },
  "papermill": {
   "duration": 20.654014,
   "end_time": "2020-10-25T07:01:41.028757",
   "environment_variables": {},
   "exception": null,
   "input_path": "__notebook__.ipynb",
   "output_path": "__notebook__.ipynb",
   "parameters": {},
   "start_time": "2020-10-25T07:01:20.374743",
   "version": "2.1.0"
  }
 },
 "nbformat": 4,
 "nbformat_minor": 4
}
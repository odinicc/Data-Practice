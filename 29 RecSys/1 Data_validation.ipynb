{
 "cells": [
  {
   "cell_type": "markdown",
   "metadata": {
    "papermill": {
     "duration": 0.043203,
     "end_time": "2020-10-25T07:01:24.222229",
     "exception": false,
     "start_time": "2020-10-25T07:01:24.179026",
     "status": "completed"
    },
    "tags": [],
    "pycharm": {
     "name": "#%% md\n"
    }
   },
   "source": [
    "# Metrics, validation strategies and baselines\n",
    "\n",
    "В данном jupyter notebook рассматриваются примеры того, какие схемы валидации и метрики используются в рекомендательных системах.\n",
    "Также построим простые модели (бейзлайны) на данных МТС Библиотеки. \n",
    "\n",
    "* [Preprocessing](#preprocessing)\n",
    "* [General remarks](#general-remarks)\n",
    "* [Metrics](#metrics)\n",
    "    * [Regression](#regression)\n",
    "    * [Classification](#classification)\n",
    "    * [Ranking](#ranking)\n",
    "* [Validation strategies](#validation)\n",
    "* [Baselines](#baselines)"
   ]
  },
  {
   "cell_type": "code",
   "execution_count": 1,
   "metadata": {
    "_cell_guid": "b1076dfc-b9ad-4769-8c92-a6c4dae69d19",
    "_kg_hide-input": true,
    "_uuid": "8f2839f25d086af736a60e9eeb907d3b93b6e0e5",
    "execution": {
     "iopub.execute_input": "2020-10-25T07:01:24.311769Z",
     "iopub.status.busy": "2020-10-25T07:01:24.311271Z",
     "iopub.status.idle": "2020-10-25T07:01:24.329979Z",
     "shell.execute_reply": "2020-10-25T07:01:24.329585Z"
    },
    "papermill": {
     "duration": 0.066139,
     "end_time": "2020-10-25T07:01:24.330062",
     "exception": false,
     "start_time": "2020-10-25T07:01:24.263923",
     "status": "completed"
    },
    "tags": [],
    "pycharm": {
     "name": "#%%\n"
    }
   },
   "outputs": [],
   "source": [
    "import os\n",
    "import numpy as np \n",
    "import pandas as pd \n",
    "from itertools import islice, cycle\n",
    "from more_itertools import pairwise\n",
    "\n"
   ]
  },
  {
   "cell_type": "markdown",
   "metadata": {
    "papermill": {
     "duration": 0.041416,
     "end_time": "2020-10-25T07:01:24.414765",
     "exception": false,
     "start_time": "2020-10-25T07:01:24.373349",
     "status": "completed"
    },
    "tags": [],
    "pycharm": {
     "name": "#%% md\n"
    }
   },
   "source": [
    "<a id=\"preprocessing\"></a>\n",
    "# Preprocessing\n",
    "\n",
    "Загрузим наши данные, теперь уже с фичами, и применим знания из [pandas-scipy-for-recsys](https://www.kaggle.com/sharthz23/pandas-scipy-for-recsys)"
   ]
  },
  {
   "cell_type": "code",
   "execution_count": 2,
   "metadata": {
    "execution": {
     "iopub.execute_input": "2020-10-25T07:01:24.502698Z",
     "iopub.status.busy": "2020-10-25T07:01:24.502203Z",
     "iopub.status.idle": "2020-10-25T07:01:26.303449Z",
     "shell.execute_reply": "2020-10-25T07:01:26.302965Z"
    },
    "papermill": {
     "duration": 1.846902,
     "end_time": "2020-10-25T07:01:26.303534",
     "exception": false,
     "start_time": "2020-10-25T07:01:24.456632",
     "status": "completed"
    },
    "tags": [],
    "pycharm": {
     "name": "#%%\n"
    }
   },
   "outputs": [],
   "source": [
    "df = pd.read_pickle('./interactions_preprocessed.pickle')\n",
    "df_users = pd.read_pickle('./users_preprocessed.pickle')\n",
    "df_items = pd.read_pickle('./items_preprocessed.pickle')"
   ]
  },
  {
   "cell_type": "code",
   "execution_count": null,
   "outputs": [],
   "source": [],
   "metadata": {
    "collapsed": false,
    "pycharm": {
     "name": "#%%\n"
    }
   }
  },
  {
   "cell_type": "code",
   "execution_count": 3,
   "outputs": [
    {
     "data": {
      "text/plain": "           id                              title  \\\n0      128115                   Ворон-челобитчик   \n1      210979                  Скрипка Ротшильда   \n2       95632                   Испорченные дети   \n3      247906                   Странный человек   \n4      294280                  Господа ташкентцы   \n...       ...                                ...   \n59594   45640  МК Московский Комсомолец 291-2019   \n59595  321616  МК Московский Комсомолец 292-2019   \n59596  125582              Известия 248-249-2019   \n59597   33188               Men's Health 01-2020   \n59598   65317                Знание-сила 01-2020   \n\n                                                  genres  \\\n0      Зарубежные детские книги,Сказки,Зарубежная кла...   \n1      Классическая проза,Литература 19 века,Русская ...   \n2      Зарубежная классика,Классическая проза,Литерат...   \n3                 Пьесы и драматургия,Литература 19 века   \n4      Зарубежная классика,Классическая проза,Литерат...   \n...                                                  ...   \n59594              Политология,Книги по экономике,Газеты   \n59595              Политология,Книги по экономике,Газеты   \n59596                   Политология,Общая история,Газеты   \n59597                                 Журнальные издания   \n59598  Журнальные издания,Энциклопедии,Научная фантас...   \n\n                      authors  year  \n0      Михаил Салтыков-Щедрин  1886  \n1                 Антон Чехов  1894  \n2      Михаил Салтыков-Щедрин  1869  \n3            Михаил Лермонтов  1831  \n4      Михаил Салтыков-Щедрин  1873  \n...                       ...   ...  \n59594                     NaN  2019  \n59595                     NaN  2019  \n59596                     NaN  2019  \n59597                     NaN  2019  \n59598                     NaN  2019  \n\n[59599 rows x 5 columns]",
      "text/html": "<div>\n<style scoped>\n    .dataframe tbody tr th:only-of-type {\n        vertical-align: middle;\n    }\n\n    .dataframe tbody tr th {\n        vertical-align: top;\n    }\n\n    .dataframe thead th {\n        text-align: right;\n    }\n</style>\n<table border=\"1\" class=\"dataframe\">\n  <thead>\n    <tr style=\"text-align: right;\">\n      <th></th>\n      <th>id</th>\n      <th>title</th>\n      <th>genres</th>\n      <th>authors</th>\n      <th>year</th>\n    </tr>\n  </thead>\n  <tbody>\n    <tr>\n      <th>0</th>\n      <td>128115</td>\n      <td>Ворон-челобитчик</td>\n      <td>Зарубежные детские книги,Сказки,Зарубежная кла...</td>\n      <td>Михаил Салтыков-Щедрин</td>\n      <td>1886</td>\n    </tr>\n    <tr>\n      <th>1</th>\n      <td>210979</td>\n      <td>Скрипка Ротшильда</td>\n      <td>Классическая проза,Литература 19 века,Русская ...</td>\n      <td>Антон Чехов</td>\n      <td>1894</td>\n    </tr>\n    <tr>\n      <th>2</th>\n      <td>95632</td>\n      <td>Испорченные дети</td>\n      <td>Зарубежная классика,Классическая проза,Литерат...</td>\n      <td>Михаил Салтыков-Щедрин</td>\n      <td>1869</td>\n    </tr>\n    <tr>\n      <th>3</th>\n      <td>247906</td>\n      <td>Странный человек</td>\n      <td>Пьесы и драматургия,Литература 19 века</td>\n      <td>Михаил Лермонтов</td>\n      <td>1831</td>\n    </tr>\n    <tr>\n      <th>4</th>\n      <td>294280</td>\n      <td>Господа ташкентцы</td>\n      <td>Зарубежная классика,Классическая проза,Литерат...</td>\n      <td>Михаил Салтыков-Щедрин</td>\n      <td>1873</td>\n    </tr>\n    <tr>\n      <th>...</th>\n      <td>...</td>\n      <td>...</td>\n      <td>...</td>\n      <td>...</td>\n      <td>...</td>\n    </tr>\n    <tr>\n      <th>59594</th>\n      <td>45640</td>\n      <td>МК Московский Комсомолец 291-2019</td>\n      <td>Политология,Книги по экономике,Газеты</td>\n      <td>NaN</td>\n      <td>2019</td>\n    </tr>\n    <tr>\n      <th>59595</th>\n      <td>321616</td>\n      <td>МК Московский Комсомолец 292-2019</td>\n      <td>Политология,Книги по экономике,Газеты</td>\n      <td>NaN</td>\n      <td>2019</td>\n    </tr>\n    <tr>\n      <th>59596</th>\n      <td>125582</td>\n      <td>Известия 248-249-2019</td>\n      <td>Политология,Общая история,Газеты</td>\n      <td>NaN</td>\n      <td>2019</td>\n    </tr>\n    <tr>\n      <th>59597</th>\n      <td>33188</td>\n      <td>Men's Health 01-2020</td>\n      <td>Журнальные издания</td>\n      <td>NaN</td>\n      <td>2019</td>\n    </tr>\n    <tr>\n      <th>59598</th>\n      <td>65317</td>\n      <td>Знание-сила 01-2020</td>\n      <td>Журнальные издания,Энциклопедии,Научная фантас...</td>\n      <td>NaN</td>\n      <td>2019</td>\n    </tr>\n  </tbody>\n</table>\n<p>59599 rows × 5 columns</p>\n</div>"
     },
     "execution_count": 3,
     "metadata": {},
     "output_type": "execute_result"
    }
   ],
   "source": [
    "df_items"
   ],
   "metadata": {
    "collapsed": false,
    "pycharm": {
     "name": "#%%\n"
    }
   }
  }
 ],
 "metadata": {
  "kernelspec": {
   "display_name": "Python 3",
   "language": "python",
   "name": "python3"
  },
  "language_info": {
   "codemirror_mode": {
    "name": "ipython",
    "version": 3
   },
   "file_extension": ".py",
   "mimetype": "text/x-python",
   "name": "python",
   "nbconvert_exporter": "python",
   "pygments_lexer": "ipython3",
   "version": "3.7.6"
  },
  "papermill": {
   "duration": 20.654014,
   "end_time": "2020-10-25T07:01:41.028757",
   "environment_variables": {},
   "exception": null,
   "input_path": "__notebook__.ipynb",
   "output_path": "__notebook__.ipynb",
   "parameters": {},
   "start_time": "2020-10-25T07:01:20.374743",
   "version": "2.1.0"
  }
 },
 "nbformat": 4,
 "nbformat_minor": 4
}
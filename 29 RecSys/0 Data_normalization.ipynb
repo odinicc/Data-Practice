{
 "cells": [
  {
   "cell_type": "markdown",
   "metadata": {
    "papermill": {
     "duration": 0.043203,
     "end_time": "2020-10-25T07:01:24.222229",
     "exception": false,
     "start_time": "2020-10-25T07:01:24.179026",
     "status": "completed"
    },
    "tags": [],
    "pycharm": {
     "name": "#%% md\n"
    }
   },
   "source": [
    "# Metrics, validation strategies and baselines\n",
    "\n",
    "В данном jupyter notebook рассматриваются примеры того, какие схемы валидации и метрики используются в рекомендательных системах.\n",
    "Также построим простые модели (бейзлайны) на данных МТС Библиотеки. \n",
    "\n",
    "* [Preprocessing](#preprocessing)\n",
    "* [General remarks](#general-remarks)\n",
    "* [Metrics](#metrics)\n",
    "    * [Regression](#regression)\n",
    "    * [Classification](#classification)\n",
    "    * [Ranking](#ranking)\n",
    "* [Validation strategies](#validation)\n",
    "* [Baselines](#baselines)"
   ]
  },
  {
   "cell_type": "code",
   "execution_count": 1,
   "metadata": {
    "_cell_guid": "b1076dfc-b9ad-4769-8c92-a6c4dae69d19",
    "_kg_hide-input": true,
    "_uuid": "8f2839f25d086af736a60e9eeb907d3b93b6e0e5",
    "execution": {
     "iopub.execute_input": "2020-10-25T07:01:24.311769Z",
     "iopub.status.busy": "2020-10-25T07:01:24.311271Z",
     "iopub.status.idle": "2020-10-25T07:01:24.329979Z",
     "shell.execute_reply": "2020-10-25T07:01:24.329585Z"
    },
    "papermill": {
     "duration": 0.066139,
     "end_time": "2020-10-25T07:01:24.330062",
     "exception": false,
     "start_time": "2020-10-25T07:01:24.263923",
     "status": "completed"
    },
    "tags": [],
    "pycharm": {
     "name": "#%%\n"
    }
   },
   "outputs": [],
   "source": [
    "import os\n",
    "import numpy as np \n",
    "import pandas as pd \n",
    "from itertools import islice, cycle\n",
    "from more_itertools import pairwise\n",
    "\n"
   ]
  },
  {
   "cell_type": "markdown",
   "metadata": {
    "papermill": {
     "duration": 0.041416,
     "end_time": "2020-10-25T07:01:24.414765",
     "exception": false,
     "start_time": "2020-10-25T07:01:24.373349",
     "status": "completed"
    },
    "tags": [],
    "pycharm": {
     "name": "#%% md\n"
    }
   },
   "source": [
    "<a id=\"preprocessing\"></a>\n",
    "# Preprocessing\n",
    "\n",
    "Загрузим наши данные, теперь уже с фичами, и применим знания из [pandas-scipy-for-recsys](https://www.kaggle.com/sharthz23/pandas-scipy-for-recsys)"
   ]
  },
  {
   "cell_type": "code",
   "execution_count": 2,
   "metadata": {
    "execution": {
     "iopub.execute_input": "2020-10-25T07:01:24.502698Z",
     "iopub.status.busy": "2020-10-25T07:01:24.502203Z",
     "iopub.status.idle": "2020-10-25T07:01:26.303449Z",
     "shell.execute_reply": "2020-10-25T07:01:26.302965Z"
    },
    "papermill": {
     "duration": 1.846902,
     "end_time": "2020-10-25T07:01:26.303534",
     "exception": false,
     "start_time": "2020-10-25T07:01:24.456632",
     "status": "completed"
    },
    "tags": [],
    "pycharm": {
     "name": "#%%\n"
    }
   },
   "outputs": [],
   "source": [
    "df = pd.read_csv('./interactions.csv')\n",
    "df_users = pd.read_csv('./users.csv')\n",
    "df_items = pd.read_csv('./items.csv')"
   ]
  },
  {
   "cell_type": "markdown",
   "metadata": {
    "papermill": {
     "duration": 0.041838,
     "end_time": "2020-10-25T07:01:26.387310",
     "exception": false,
     "start_time": "2020-10-25T07:01:26.345472",
     "status": "completed"
    },
    "tags": [],
    "pycharm": {
     "name": "#%% md\n"
    }
   },
   "source": [
    "## Interactions"
   ]
  },
  {
   "cell_type": "code",
   "execution_count": 3,
   "metadata": {
    "execution": {
     "iopub.execute_input": "2020-10-25T07:01:26.479504Z",
     "iopub.status.busy": "2020-10-25T07:01:26.478848Z",
     "iopub.status.idle": "2020-10-25T07:01:26.559537Z",
     "shell.execute_reply": "2020-10-25T07:01:26.559037Z"
    },
    "papermill": {
     "duration": 0.13052,
     "end_time": "2020-10-25T07:01:26.559652",
     "exception": false,
     "start_time": "2020-10-25T07:01:26.429132",
     "status": "completed"
    },
    "tags": [],
    "pycharm": {
     "name": "#%%\n"
    }
   },
   "outputs": [
    {
     "data": {
      "text/plain": "   user_id  item_id  progress  rating  start_date\n0   126706    14433        80     NaN  2018-01-01",
      "text/html": "<div>\n<style scoped>\n    .dataframe tbody tr th:only-of-type {\n        vertical-align: middle;\n    }\n\n    .dataframe tbody tr th {\n        vertical-align: top;\n    }\n\n    .dataframe thead th {\n        text-align: right;\n    }\n</style>\n<table border=\"1\" class=\"dataframe\">\n  <thead>\n    <tr style=\"text-align: right;\">\n      <th></th>\n      <th>user_id</th>\n      <th>item_id</th>\n      <th>progress</th>\n      <th>rating</th>\n      <th>start_date</th>\n    </tr>\n  </thead>\n  <tbody>\n    <tr>\n      <th>0</th>\n      <td>126706</td>\n      <td>14433</td>\n      <td>80</td>\n      <td>NaN</td>\n      <td>2018-01-01</td>\n    </tr>\n  </tbody>\n</table>\n</div>"
     },
     "execution_count": 3,
     "metadata": {},
     "output_type": "execute_result"
    }
   ],
   "source": [
    "df.head(1)"
   ]
  },
  {
   "cell_type": "code",
   "execution_count": 4,
   "outputs": [
    {
     "data": {
      "text/plain": "       id             title  \\\n0  128115  Ворон-челобитчик   \n\n                                              genres                 authors  \\\n0  Зарубежные детские книги,Сказки,Зарубежная кла...  Михаил Салтыков-Щедрин   \n\n   year  \n0  1886  ",
      "text/html": "<div>\n<style scoped>\n    .dataframe tbody tr th:only-of-type {\n        vertical-align: middle;\n    }\n\n    .dataframe tbody tr th {\n        vertical-align: top;\n    }\n\n    .dataframe thead th {\n        text-align: right;\n    }\n</style>\n<table border=\"1\" class=\"dataframe\">\n  <thead>\n    <tr style=\"text-align: right;\">\n      <th></th>\n      <th>id</th>\n      <th>title</th>\n      <th>genres</th>\n      <th>authors</th>\n      <th>year</th>\n    </tr>\n  </thead>\n  <tbody>\n    <tr>\n      <th>0</th>\n      <td>128115</td>\n      <td>Ворон-челобитчик</td>\n      <td>Зарубежные детские книги,Сказки,Зарубежная кла...</td>\n      <td>Михаил Салтыков-Щедрин</td>\n      <td>1886</td>\n    </tr>\n  </tbody>\n</table>\n</div>"
     },
     "execution_count": 4,
     "metadata": {},
     "output_type": "execute_result"
    }
   ],
   "source": [
    "df_items.head(1)"
   ],
   "metadata": {
    "collapsed": false,
    "pycharm": {
     "name": "#%%\n"
    }
   }
  },
  {
   "cell_type": "code",
   "execution_count": 5,
   "outputs": [
    {
     "data": {
      "text/plain": "       id             title  \\\n0  128115  Ворон-челобитчик   \n\n                                              genres                 authors  \\\n0  Зарубежные детские книги,Сказки,Зарубежная кла...  Михаил Салтыков-Щедрин   \n\n   year  \n0  1886  ",
      "text/html": "<div>\n<style scoped>\n    .dataframe tbody tr th:only-of-type {\n        vertical-align: middle;\n    }\n\n    .dataframe tbody tr th {\n        vertical-align: top;\n    }\n\n    .dataframe thead th {\n        text-align: right;\n    }\n</style>\n<table border=\"1\" class=\"dataframe\">\n  <thead>\n    <tr style=\"text-align: right;\">\n      <th></th>\n      <th>id</th>\n      <th>title</th>\n      <th>genres</th>\n      <th>authors</th>\n      <th>year</th>\n    </tr>\n  </thead>\n  <tbody>\n    <tr>\n      <th>0</th>\n      <td>128115</td>\n      <td>Ворон-челобитчик</td>\n      <td>Зарубежные детские книги,Сказки,Зарубежная кла...</td>\n      <td>Михаил Салтыков-Щедрин</td>\n      <td>1886</td>\n    </tr>\n  </tbody>\n</table>\n</div>"
     },
     "execution_count": 5,
     "metadata": {},
     "output_type": "execute_result"
    }
   ],
   "source": [
    "df_items.head(1)"
   ],
   "metadata": {
    "collapsed": false,
    "pycharm": {
     "name": "#%%\n"
    }
   }
  },
  {
   "cell_type": "code",
   "execution_count": 6,
   "outputs": [
    {
     "data": {
      "text/plain": "   user_id  item_id  progress  rating  start_date\n0   126706    14433        80     NaN  2018-01-01\n1   127290   140952        58     NaN  2018-01-01\n2    66991   198453        89     NaN  2018-01-01\n3    46791    83486        23     5.0  2018-01-01\n4    79313   188770        88     5.0  2018-01-01\n5    63454    78434        87     NaN  2018-01-01\n6   127451    14876        69     NaN  2018-01-01\n7    42797   315927        69     5.0  2018-01-01\n8    47287   258483        22     NaN  2018-01-01\n9    23439     9762        74     4.0  2018-01-01",
      "text/html": "<div>\n<style scoped>\n    .dataframe tbody tr th:only-of-type {\n        vertical-align: middle;\n    }\n\n    .dataframe tbody tr th {\n        vertical-align: top;\n    }\n\n    .dataframe thead th {\n        text-align: right;\n    }\n</style>\n<table border=\"1\" class=\"dataframe\">\n  <thead>\n    <tr style=\"text-align: right;\">\n      <th></th>\n      <th>user_id</th>\n      <th>item_id</th>\n      <th>progress</th>\n      <th>rating</th>\n      <th>start_date</th>\n    </tr>\n  </thead>\n  <tbody>\n    <tr>\n      <th>0</th>\n      <td>126706</td>\n      <td>14433</td>\n      <td>80</td>\n      <td>NaN</td>\n      <td>2018-01-01</td>\n    </tr>\n    <tr>\n      <th>1</th>\n      <td>127290</td>\n      <td>140952</td>\n      <td>58</td>\n      <td>NaN</td>\n      <td>2018-01-01</td>\n    </tr>\n    <tr>\n      <th>2</th>\n      <td>66991</td>\n      <td>198453</td>\n      <td>89</td>\n      <td>NaN</td>\n      <td>2018-01-01</td>\n    </tr>\n    <tr>\n      <th>3</th>\n      <td>46791</td>\n      <td>83486</td>\n      <td>23</td>\n      <td>5.0</td>\n      <td>2018-01-01</td>\n    </tr>\n    <tr>\n      <th>4</th>\n      <td>79313</td>\n      <td>188770</td>\n      <td>88</td>\n      <td>5.0</td>\n      <td>2018-01-01</td>\n    </tr>\n    <tr>\n      <th>5</th>\n      <td>63454</td>\n      <td>78434</td>\n      <td>87</td>\n      <td>NaN</td>\n      <td>2018-01-01</td>\n    </tr>\n    <tr>\n      <th>6</th>\n      <td>127451</td>\n      <td>14876</td>\n      <td>69</td>\n      <td>NaN</td>\n      <td>2018-01-01</td>\n    </tr>\n    <tr>\n      <th>7</th>\n      <td>42797</td>\n      <td>315927</td>\n      <td>69</td>\n      <td>5.0</td>\n      <td>2018-01-01</td>\n    </tr>\n    <tr>\n      <th>8</th>\n      <td>47287</td>\n      <td>258483</td>\n      <td>22</td>\n      <td>NaN</td>\n      <td>2018-01-01</td>\n    </tr>\n    <tr>\n      <th>9</th>\n      <td>23439</td>\n      <td>9762</td>\n      <td>74</td>\n      <td>4.0</td>\n      <td>2018-01-01</td>\n    </tr>\n  </tbody>\n</table>\n</div>"
     },
     "execution_count": 6,
     "metadata": {},
     "output_type": "execute_result"
    }
   ],
   "source": [
    "df.head(10)"
   ],
   "metadata": {
    "collapsed": false,
    "pycharm": {
     "name": "#%%\n"
    }
   }
  },
  {
   "cell_type": "code",
   "execution_count": 6,
   "outputs": [],
   "source": [],
   "metadata": {
    "collapsed": false,
    "pycharm": {
     "name": "#%%\n"
    }
   }
  },
  {
   "cell_type": "code",
   "execution_count": 6,
   "outputs": [],
   "source": [],
   "metadata": {
    "collapsed": false,
    "pycharm": {
     "name": "#%%\n"
    }
   }
  },
  {
   "cell_type": "code",
   "execution_count": 7,
   "metadata": {
    "execution": {
     "iopub.execute_input": "2020-10-25T07:01:26.708337Z",
     "iopub.status.busy": "2020-10-25T07:01:26.671273Z",
     "iopub.status.idle": "2020-10-25T07:01:26.838257Z",
     "shell.execute_reply": "2020-10-25T07:01:26.837627Z"
    },
    "papermill": {
     "duration": 0.234188,
     "end_time": "2020-10-25T07:01:26.838362",
     "exception": false,
     "start_time": "2020-10-25T07:01:26.604174",
     "status": "completed"
    },
    "tags": [],
    "pycharm": {
     "name": "#%%\n"
    }
   },
   "outputs": [],
   "source": [
    "df['start_date'] = pd.to_datetime(df['start_date'])"
   ]
  },
  {
   "cell_type": "code",
   "execution_count": 8,
   "metadata": {
    "execution": {
     "iopub.execute_input": "2020-10-25T07:01:26.970348Z",
     "iopub.status.busy": "2020-10-25T07:01:26.969725Z",
     "iopub.status.idle": "2020-10-25T07:01:27.172699Z",
     "shell.execute_reply": "2020-10-25T07:01:27.173213Z"
    },
    "papermill": {
     "duration": 0.271513,
     "end_time": "2020-10-25T07:01:27.173329",
     "exception": false,
     "start_time": "2020-10-25T07:01:26.901816",
     "status": "completed"
    },
    "tags": [],
    "pycharm": {
     "name": "#%%\n"
    }
   },
   "outputs": [],
   "source": [
    "duplicates = df.duplicated(subset=['user_id', 'item_id'], keep=False)\n",
    "df_duplicates = df[duplicates].sort_values(by=['user_id', 'start_date'])\n",
    "df = df[~duplicates]"
   ]
  },
  {
   "cell_type": "code",
   "execution_count": 9,
   "outputs": [
    {
     "data": {
      "text/plain": "         user_id  item_id  progress  rating start_date\n235670       523    49329        50     NaN 2018-04-24\n322043       523    49329        91     NaN 2018-06-05\n538989      2758   113728        56     NaN 2018-09-16\n894709      2758   113728        10     NaN 2019-03-04\n1157841     4804   114245        99     NaN 2019-07-06\n...          ...      ...       ...     ...        ...\n1486973   154892   298192         4     NaN 2019-12-10\n478655    156948    38118        78     NaN 2018-08-19\n1053656   156948    38118        36     5.0 2019-05-18\n1115537   158041   208145        19     NaN 2019-06-16\n1346468   158041   208145        64     4.0 2019-10-04\n\n[160 rows x 5 columns]",
      "text/html": "<div>\n<style scoped>\n    .dataframe tbody tr th:only-of-type {\n        vertical-align: middle;\n    }\n\n    .dataframe tbody tr th {\n        vertical-align: top;\n    }\n\n    .dataframe thead th {\n        text-align: right;\n    }\n</style>\n<table border=\"1\" class=\"dataframe\">\n  <thead>\n    <tr style=\"text-align: right;\">\n      <th></th>\n      <th>user_id</th>\n      <th>item_id</th>\n      <th>progress</th>\n      <th>rating</th>\n      <th>start_date</th>\n    </tr>\n  </thead>\n  <tbody>\n    <tr>\n      <th>235670</th>\n      <td>523</td>\n      <td>49329</td>\n      <td>50</td>\n      <td>NaN</td>\n      <td>2018-04-24</td>\n    </tr>\n    <tr>\n      <th>322043</th>\n      <td>523</td>\n      <td>49329</td>\n      <td>91</td>\n      <td>NaN</td>\n      <td>2018-06-05</td>\n    </tr>\n    <tr>\n      <th>538989</th>\n      <td>2758</td>\n      <td>113728</td>\n      <td>56</td>\n      <td>NaN</td>\n      <td>2018-09-16</td>\n    </tr>\n    <tr>\n      <th>894709</th>\n      <td>2758</td>\n      <td>113728</td>\n      <td>10</td>\n      <td>NaN</td>\n      <td>2019-03-04</td>\n    </tr>\n    <tr>\n      <th>1157841</th>\n      <td>4804</td>\n      <td>114245</td>\n      <td>99</td>\n      <td>NaN</td>\n      <td>2019-07-06</td>\n    </tr>\n    <tr>\n      <th>...</th>\n      <td>...</td>\n      <td>...</td>\n      <td>...</td>\n      <td>...</td>\n      <td>...</td>\n    </tr>\n    <tr>\n      <th>1486973</th>\n      <td>154892</td>\n      <td>298192</td>\n      <td>4</td>\n      <td>NaN</td>\n      <td>2019-12-10</td>\n    </tr>\n    <tr>\n      <th>478655</th>\n      <td>156948</td>\n      <td>38118</td>\n      <td>78</td>\n      <td>NaN</td>\n      <td>2018-08-19</td>\n    </tr>\n    <tr>\n      <th>1053656</th>\n      <td>156948</td>\n      <td>38118</td>\n      <td>36</td>\n      <td>5.0</td>\n      <td>2019-05-18</td>\n    </tr>\n    <tr>\n      <th>1115537</th>\n      <td>158041</td>\n      <td>208145</td>\n      <td>19</td>\n      <td>NaN</td>\n      <td>2019-06-16</td>\n    </tr>\n    <tr>\n      <th>1346468</th>\n      <td>158041</td>\n      <td>208145</td>\n      <td>64</td>\n      <td>4.0</td>\n      <td>2019-10-04</td>\n    </tr>\n  </tbody>\n</table>\n<p>160 rows × 5 columns</p>\n</div>"
     },
     "execution_count": 9,
     "metadata": {},
     "output_type": "execute_result"
    }
   ],
   "source": [
    "df_duplicates"
   ],
   "metadata": {
    "collapsed": false,
    "pycharm": {
     "name": "#%%\n"
    }
   }
  },
  {
   "cell_type": "code",
   "execution_count": 10,
   "outputs": [
    {
     "data": {
      "text/plain": "         user_id  item_id  progress  rating start_date\n0         126706    14433        80     NaN 2018-01-01\n1         127290   140952        58     NaN 2018-01-01\n2          66991   198453        89     NaN 2018-01-01\n3          46791    83486        23     5.0 2018-01-01\n4          79313   188770        88     5.0 2018-01-01\n...          ...      ...       ...     ...        ...\n1533073    76968   285394        95     NaN 2019-12-31\n1533074   153877   285394        76     5.0 2019-12-31\n1533075    90021    73789        97     NaN 2019-12-31\n1533076     6452    77993        39     NaN 2019-12-31\n1533077    70445   230195         2     NaN 2019-12-31\n\n[1532918 rows x 5 columns]",
      "text/html": "<div>\n<style scoped>\n    .dataframe tbody tr th:only-of-type {\n        vertical-align: middle;\n    }\n\n    .dataframe tbody tr th {\n        vertical-align: top;\n    }\n\n    .dataframe thead th {\n        text-align: right;\n    }\n</style>\n<table border=\"1\" class=\"dataframe\">\n  <thead>\n    <tr style=\"text-align: right;\">\n      <th></th>\n      <th>user_id</th>\n      <th>item_id</th>\n      <th>progress</th>\n      <th>rating</th>\n      <th>start_date</th>\n    </tr>\n  </thead>\n  <tbody>\n    <tr>\n      <th>0</th>\n      <td>126706</td>\n      <td>14433</td>\n      <td>80</td>\n      <td>NaN</td>\n      <td>2018-01-01</td>\n    </tr>\n    <tr>\n      <th>1</th>\n      <td>127290</td>\n      <td>140952</td>\n      <td>58</td>\n      <td>NaN</td>\n      <td>2018-01-01</td>\n    </tr>\n    <tr>\n      <th>2</th>\n      <td>66991</td>\n      <td>198453</td>\n      <td>89</td>\n      <td>NaN</td>\n      <td>2018-01-01</td>\n    </tr>\n    <tr>\n      <th>3</th>\n      <td>46791</td>\n      <td>83486</td>\n      <td>23</td>\n      <td>5.0</td>\n      <td>2018-01-01</td>\n    </tr>\n    <tr>\n      <th>4</th>\n      <td>79313</td>\n      <td>188770</td>\n      <td>88</td>\n      <td>5.0</td>\n      <td>2018-01-01</td>\n    </tr>\n    <tr>\n      <th>...</th>\n      <td>...</td>\n      <td>...</td>\n      <td>...</td>\n      <td>...</td>\n      <td>...</td>\n    </tr>\n    <tr>\n      <th>1533073</th>\n      <td>76968</td>\n      <td>285394</td>\n      <td>95</td>\n      <td>NaN</td>\n      <td>2019-12-31</td>\n    </tr>\n    <tr>\n      <th>1533074</th>\n      <td>153877</td>\n      <td>285394</td>\n      <td>76</td>\n      <td>5.0</td>\n      <td>2019-12-31</td>\n    </tr>\n    <tr>\n      <th>1533075</th>\n      <td>90021</td>\n      <td>73789</td>\n      <td>97</td>\n      <td>NaN</td>\n      <td>2019-12-31</td>\n    </tr>\n    <tr>\n      <th>1533076</th>\n      <td>6452</td>\n      <td>77993</td>\n      <td>39</td>\n      <td>NaN</td>\n      <td>2019-12-31</td>\n    </tr>\n    <tr>\n      <th>1533077</th>\n      <td>70445</td>\n      <td>230195</td>\n      <td>2</td>\n      <td>NaN</td>\n      <td>2019-12-31</td>\n    </tr>\n  </tbody>\n</table>\n<p>1532918 rows × 5 columns</p>\n</div>"
     },
     "execution_count": 10,
     "metadata": {},
     "output_type": "execute_result"
    }
   ],
   "source": [
    "df"
   ],
   "metadata": {
    "collapsed": false,
    "pycharm": {
     "name": "#%%\n"
    }
   }
  },
  {
   "cell_type": "code",
   "execution_count": 10,
   "outputs": [],
   "source": [],
   "metadata": {
    "collapsed": false,
    "pycharm": {
     "name": "#%%\n"
    }
   }
  },
  {
   "cell_type": "code",
   "execution_count": 11,
   "metadata": {
    "execution": {
     "iopub.execute_input": "2020-10-25T07:01:27.277365Z",
     "iopub.status.busy": "2020-10-25T07:01:27.267738Z",
     "iopub.status.idle": "2020-10-25T07:01:27.292405Z",
     "shell.execute_reply": "2020-10-25T07:01:27.291920Z"
    },
    "papermill": {
     "duration": 0.075589,
     "end_time": "2020-10-25T07:01:27.292494",
     "exception": false,
     "start_time": "2020-10-25T07:01:27.216905",
     "status": "completed"
    },
    "tags": [],
    "pycharm": {
     "name": "#%%\n"
    }
   },
   "outputs": [
    {
     "name": "stderr",
     "output_type": "stream",
     "text": [
      "C:\\Temp\\ipykernel_3680\\1901207371.py:6: FutureWarning: The frame.append method is deprecated and will be removed from pandas in a future version. Use pandas.concat instead.\n",
      "  df = df.append(df_duplicates.reset_index(), ignore_index=True)\n"
     ]
    }
   ],
   "source": [
    "df_duplicates = df_duplicates.groupby(['user_id', 'item_id']).agg({\n",
    "    'progress': 'max',\n",
    "    'rating': 'max',\n",
    "    'start_date': 'min'\n",
    "})\n",
    "df = df.append(df_duplicates.reset_index(), ignore_index=True)"
   ]
  },
  {
   "cell_type": "code",
   "execution_count": 12,
   "metadata": {
    "execution": {
     "iopub.execute_input": "2020-10-25T07:01:27.383476Z",
     "iopub.status.busy": "2020-10-25T07:01:27.382901Z",
     "iopub.status.idle": "2020-10-25T07:01:27.404000Z",
     "shell.execute_reply": "2020-10-25T07:01:27.403495Z"
    },
    "papermill": {
     "duration": 0.068752,
     "end_time": "2020-10-25T07:01:27.404093",
     "exception": false,
     "start_time": "2020-10-25T07:01:27.335341",
     "status": "completed"
    },
    "tags": [],
    "pycharm": {
     "name": "#%%\n"
    }
   },
   "outputs": [],
   "source": [
    "df['progress'] = df['progress'].astype(np.int8)\n",
    "df['rating'] = df['rating'].astype(pd.SparseDtype(np.float32, np.nan))"
   ]
  },
  {
   "cell_type": "code",
   "execution_count": 13,
   "metadata": {
    "execution": {
     "iopub.execute_input": "2020-10-25T07:01:27.493228Z",
     "iopub.status.busy": "2020-10-25T07:01:27.492615Z",
     "iopub.status.idle": "2020-10-25T07:01:27.510337Z",
     "shell.execute_reply": "2020-10-25T07:01:27.509840Z"
    },
    "papermill": {
     "duration": 0.063423,
     "end_time": "2020-10-25T07:01:27.510439",
     "exception": false,
     "start_time": "2020-10-25T07:01:27.447016",
     "status": "completed"
    },
    "tags": [],
    "pycharm": {
     "name": "#%%\n"
    }
   },
   "outputs": [
    {
     "name": "stdout",
     "output_type": "stream",
     "text": [
      "<class 'pandas.core.frame.DataFrame'>\n",
      "RangeIndex: 1532998 entries, 0 to 1532997\n",
      "Data columns (total 5 columns):\n",
      " #   Column      Non-Null Count    Dtype               \n",
      "---  ------      --------------    -----               \n",
      " 0   user_id     1532998 non-null  int64               \n",
      " 1   item_id     1532998 non-null  int64               \n",
      " 2   progress    1532998 non-null  int8                \n",
      " 3   rating      285355 non-null   Sparse[float32, nan]\n",
      " 4   start_date  1532998 non-null  datetime64[ns]      \n",
      "dtypes: Sparse[float32, nan](1), datetime64[ns](1), int64(2), int8(1)\n",
      "memory usage: 38.7 MB\n"
     ]
    }
   ],
   "source": [
    "df.info()"
   ]
  },
  {
   "cell_type": "code",
   "execution_count": 14,
   "metadata": {
    "execution": {
     "iopub.execute_input": "2020-10-25T07:01:27.603793Z",
     "iopub.status.busy": "2020-10-25T07:01:27.603211Z",
     "iopub.status.idle": "2020-10-25T07:01:27.916266Z",
     "shell.execute_reply": "2020-10-25T07:01:27.915773Z"
    },
    "papermill": {
     "duration": 0.360664,
     "end_time": "2020-10-25T07:01:27.916352",
     "exception": false,
     "start_time": "2020-10-25T07:01:27.555688",
     "status": "completed"
    },
    "tags": [],
    "pycharm": {
     "name": "#%%\n"
    }
   },
   "outputs": [],
   "source": [
    "df.to_pickle('interactions_preprocessed.pickle')"
   ]
  },
  {
   "cell_type": "markdown",
   "metadata": {
    "papermill": {
     "duration": 0.043237,
     "end_time": "2020-10-25T07:01:28.361510",
     "exception": false,
     "start_time": "2020-10-25T07:01:28.318273",
     "status": "completed"
    },
    "tags": [],
    "pycharm": {
     "name": "#%% md\n"
    }
   },
   "source": [
    "## Users"
   ]
  },
  {
   "cell_type": "code",
   "execution_count": 15,
   "metadata": {
    "execution": {
     "iopub.execute_input": "2020-10-25T07:01:28.462016Z",
     "iopub.status.busy": "2020-10-25T07:01:28.461508Z",
     "iopub.status.idle": "2020-10-25T07:01:28.469003Z",
     "shell.execute_reply": "2020-10-25T07:01:28.468521Z"
    },
    "papermill": {
     "duration": 0.063916,
     "end_time": "2020-10-25T07:01:28.469084",
     "exception": false,
     "start_time": "2020-10-25T07:01:28.405168",
     "status": "completed"
    },
    "tags": [],
    "pycharm": {
     "name": "#%%\n"
    }
   },
   "outputs": [
    {
     "data": {
      "text/plain": "   user_id     age  sex\n0        1   45_54  NaN\n1        2   18_24  0.0\n2        3  65_inf  0.0\n3        4   18_24  0.0\n4        5   35_44  0.0",
      "text/html": "<div>\n<style scoped>\n    .dataframe tbody tr th:only-of-type {\n        vertical-align: middle;\n    }\n\n    .dataframe tbody tr th {\n        vertical-align: top;\n    }\n\n    .dataframe thead th {\n        text-align: right;\n    }\n</style>\n<table border=\"1\" class=\"dataframe\">\n  <thead>\n    <tr style=\"text-align: right;\">\n      <th></th>\n      <th>user_id</th>\n      <th>age</th>\n      <th>sex</th>\n    </tr>\n  </thead>\n  <tbody>\n    <tr>\n      <th>0</th>\n      <td>1</td>\n      <td>45_54</td>\n      <td>NaN</td>\n    </tr>\n    <tr>\n      <th>1</th>\n      <td>2</td>\n      <td>18_24</td>\n      <td>0.0</td>\n    </tr>\n    <tr>\n      <th>2</th>\n      <td>3</td>\n      <td>65_inf</td>\n      <td>0.0</td>\n    </tr>\n    <tr>\n      <th>3</th>\n      <td>4</td>\n      <td>18_24</td>\n      <td>0.0</td>\n    </tr>\n    <tr>\n      <th>4</th>\n      <td>5</td>\n      <td>35_44</td>\n      <td>0.0</td>\n    </tr>\n  </tbody>\n</table>\n</div>"
     },
     "execution_count": 15,
     "metadata": {},
     "output_type": "execute_result"
    }
   ],
   "source": [
    "df_users.head()"
   ]
  },
  {
   "cell_type": "code",
   "execution_count": 16,
   "metadata": {
    "execution": {
     "iopub.execute_input": "2020-10-25T07:01:28.566670Z",
     "iopub.status.busy": "2020-10-25T07:01:28.561205Z",
     "iopub.status.idle": "2020-10-25T07:01:28.576216Z",
     "shell.execute_reply": "2020-10-25T07:01:28.575468Z"
    },
    "papermill": {
     "duration": 0.063391,
     "end_time": "2020-10-25T07:01:28.576340",
     "exception": false,
     "start_time": "2020-10-25T07:01:28.512949",
     "status": "completed"
    },
    "tags": [],
    "pycharm": {
     "name": "#%%\n"
    }
   },
   "outputs": [
    {
     "name": "stdout",
     "output_type": "stream",
     "text": [
      "<class 'pandas.core.frame.DataFrame'>\n",
      "RangeIndex: 142888 entries, 0 to 142887\n",
      "Data columns (total 3 columns):\n",
      " #   Column   Non-Null Count   Dtype  \n",
      "---  ------   --------------   -----  \n",
      " 0   user_id  142888 non-null  int64  \n",
      " 1   age      142742 non-null  object \n",
      " 2   sex      136626 non-null  float64\n",
      "dtypes: float64(1), int64(1), object(1)\n",
      "memory usage: 3.3+ MB\n"
     ]
    }
   ],
   "source": [
    "df_users.info()"
   ]
  },
  {
   "cell_type": "code",
   "execution_count": 17,
   "metadata": {
    "execution": {
     "iopub.execute_input": "2020-10-25T07:01:28.714236Z",
     "iopub.status.busy": "2020-10-25T07:01:28.713752Z",
     "iopub.status.idle": "2020-10-25T07:01:28.726714Z",
     "shell.execute_reply": "2020-10-25T07:01:28.727064Z"
    },
    "papermill": {
     "duration": 0.082995,
     "end_time": "2020-10-25T07:01:28.727181",
     "exception": false,
     "start_time": "2020-10-25T07:01:28.644186",
     "status": "completed"
    },
    "tags": [],
    "pycharm": {
     "name": "#%%\n"
    }
   },
   "outputs": [
    {
     "data": {
      "text/plain": "user_id    142888\nage             6\nsex             2\ndtype: int64"
     },
     "execution_count": 17,
     "metadata": {},
     "output_type": "execute_result"
    }
   ],
   "source": [
    "df_users.nunique()"
   ]
  },
  {
   "cell_type": "code",
   "execution_count": 18,
   "metadata": {
    "execution": {
     "iopub.execute_input": "2020-10-25T07:01:28.827686Z",
     "iopub.status.busy": "2020-10-25T07:01:28.827030Z",
     "iopub.status.idle": "2020-10-25T07:01:28.832853Z",
     "shell.execute_reply": "2020-10-25T07:01:28.833210Z"
    },
    "papermill": {
     "duration": 0.06104,
     "end_time": "2020-10-25T07:01:28.833328",
     "exception": false,
     "start_time": "2020-10-25T07:01:28.772288",
     "status": "completed"
    },
    "tags": [],
    "pycharm": {
     "name": "#%%\n"
    }
   },
   "outputs": [],
   "source": [
    "df_users['age'] = df_users['age'].astype('category')\n",
    "df_users['sex'] = df_users['sex'].astype(pd.SparseDtype(np.float32, np.nan))"
   ]
  },
  {
   "cell_type": "code",
   "execution_count": 19,
   "metadata": {
    "execution": {
     "iopub.execute_input": "2020-10-25T07:01:28.927981Z",
     "iopub.status.busy": "2020-10-25T07:01:28.927493Z",
     "iopub.status.idle": "2020-10-25T07:01:28.935378Z",
     "shell.execute_reply": "2020-10-25T07:01:28.935750Z"
    },
    "papermill": {
     "duration": 0.058086,
     "end_time": "2020-10-25T07:01:28.935861",
     "exception": false,
     "start_time": "2020-10-25T07:01:28.877775",
     "status": "completed"
    },
    "tags": [],
    "pycharm": {
     "name": "#%%\n"
    }
   },
   "outputs": [
    {
     "name": "stdout",
     "output_type": "stream",
     "text": [
      "<class 'pandas.core.frame.DataFrame'>\n",
      "RangeIndex: 142888 entries, 0 to 142887\n",
      "Data columns (total 3 columns):\n",
      " #   Column   Non-Null Count   Dtype               \n",
      "---  ------   --------------   -----               \n",
      " 0   user_id  142888 non-null  int64               \n",
      " 1   age      142742 non-null  category            \n",
      " 2   sex      136626 non-null  Sparse[float32, nan]\n",
      "dtypes: Sparse[float32, nan](1), category(1), int64(1)\n",
      "memory usage: 2.3 MB\n"
     ]
    }
   ],
   "source": [
    "df_users.info()"
   ]
  },
  {
   "cell_type": "code",
   "execution_count": 20,
   "outputs": [],
   "source": [
    "interaction_users = df['user_id'].unique()"
   ],
   "metadata": {
    "collapsed": false,
    "pycharm": {
     "name": "#%%\n"
    }
   }
  },
  {
   "cell_type": "code",
   "execution_count": 21,
   "outputs": [],
   "source": [
    "common_users = len(np.intersect1d(interaction_users, df_users['user_id']))"
   ],
   "metadata": {
    "collapsed": false,
    "pycharm": {
     "name": "#%%\n"
    }
   }
  },
  {
   "cell_type": "code",
   "execution_count": 22,
   "outputs": [
    {
     "data": {
      "text/plain": "135677"
     },
     "execution_count": 22,
     "metadata": {},
     "output_type": "execute_result"
    }
   ],
   "source": [
    "common_users"
   ],
   "metadata": {
    "collapsed": false,
    "pycharm": {
     "name": "#%%\n"
    }
   }
  },
  {
   "cell_type": "code",
   "execution_count": 23,
   "metadata": {
    "execution": {
     "iopub.execute_input": "2020-10-25T07:01:29.031949Z",
     "iopub.status.busy": "2020-10-25T07:01:29.031464Z",
     "iopub.status.idle": "2020-10-25T07:01:29.097921Z",
     "shell.execute_reply": "2020-10-25T07:01:29.098512Z"
    },
    "papermill": {
     "duration": 0.117454,
     "end_time": "2020-10-25T07:01:29.098682",
     "exception": false,
     "start_time": "2020-10-25T07:01:28.981228",
     "status": "completed"
    },
    "tags": [],
    "pycharm": {
     "name": "#%%\n"
    }
   },
   "outputs": [
    {
     "name": "stdout",
     "output_type": "stream",
     "text": [
      "Кол-во пользователей - 158811\n",
      "Кол-во пользователей c взаимодействиями и фичами - 135677 (85.43%)\n",
      "Кол-во пользователей только c взаимодействиями - 15923 (10.03%)\n",
      "Кол-во пользователей только c фичами - 7211 (4.54%)\n"
     ]
    }
   ],
   "source": [
    "\n",
    "\n",
    "\n",
    "users_only_in_interaction = len(np.setdiff1d(interaction_users, df_users['user_id']))\n",
    "users_only_features = len(np.setdiff1d(df_users['user_id'], interaction_users))\n",
    "total_users = common_users + users_only_in_interaction + users_only_features\n",
    "print(f'Кол-во пользователей - {total_users}')\n",
    "print(f'Кол-во пользователей c взаимодействиями и фичами - {common_users} ({common_users / total_users * 100:.2f}%)')\n",
    "print(f'Кол-во пользователей только c взаимодействиями - {users_only_in_interaction} ({users_only_in_interaction / total_users * 100:.2f}%)')\n",
    "print(f'Кол-во пользователей только c фичами - {users_only_features} ({users_only_features / total_users * 100:.2f}%)')"
   ]
  },
  {
   "cell_type": "code",
   "execution_count": 23,
   "outputs": [],
   "source": [],
   "metadata": {
    "collapsed": false,
    "pycharm": {
     "name": "#%%\n"
    }
   }
  },
  {
   "cell_type": "code",
   "execution_count": 24,
   "metadata": {
    "execution": {
     "iopub.execute_input": "2020-10-25T07:01:29.238531Z",
     "iopub.status.busy": "2020-10-25T07:01:29.238073Z",
     "iopub.status.idle": "2020-10-25T07:01:29.241998Z",
     "shell.execute_reply": "2020-10-25T07:01:29.241527Z"
    },
    "papermill": {
     "duration": 0.075135,
     "end_time": "2020-10-25T07:01:29.242070",
     "exception": false,
     "start_time": "2020-10-25T07:01:29.166935",
     "status": "completed"
    },
    "tags": [],
    "pycharm": {
     "name": "#%%\n"
    }
   },
   "outputs": [],
   "source": [
    "df_users.to_pickle('users_preprocessed.pickle')"
   ]
  },
  {
   "cell_type": "markdown",
   "metadata": {
    "papermill": {
     "duration": 0.045709,
     "end_time": "2020-10-25T07:01:29.687985",
     "exception": false,
     "start_time": "2020-10-25T07:01:29.642276",
     "status": "completed"
    },
    "tags": [],
    "pycharm": {
     "name": "#%% md\n"
    }
   },
   "source": [
    "## Items"
   ]
  },
  {
   "cell_type": "code",
   "execution_count": 25,
   "metadata": {
    "execution": {
     "iopub.execute_input": "2020-10-25T07:01:29.792201Z",
     "iopub.status.busy": "2020-10-25T07:01:29.791531Z",
     "iopub.status.idle": "2020-10-25T07:01:29.796042Z",
     "shell.execute_reply": "2020-10-25T07:01:29.795660Z"
    },
    "papermill": {
     "duration": 0.062105,
     "end_time": "2020-10-25T07:01:29.796123",
     "exception": false,
     "start_time": "2020-10-25T07:01:29.734018",
     "status": "completed"
    },
    "tags": [],
    "pycharm": {
     "name": "#%%\n"
    }
   },
   "outputs": [
    {
     "data": {
      "text/plain": "       id              title  \\\n0  128115   Ворон-челобитчик   \n1  210979  Скрипка Ротшильда   \n2   95632   Испорченные дети   \n3  247906   Странный человек   \n4  294280  Господа ташкентцы   \n\n                                              genres                 authors  \\\n0  Зарубежные детские книги,Сказки,Зарубежная кла...  Михаил Салтыков-Щедрин   \n1  Классическая проза,Литература 19 века,Русская ...             Антон Чехов   \n2  Зарубежная классика,Классическая проза,Литерат...  Михаил Салтыков-Щедрин   \n3             Пьесы и драматургия,Литература 19 века        Михаил Лермонтов   \n4  Зарубежная классика,Классическая проза,Литерат...  Михаил Салтыков-Щедрин   \n\n   year  \n0  1886  \n1  1894  \n2  1869  \n3  1831  \n4  1873  ",
      "text/html": "<div>\n<style scoped>\n    .dataframe tbody tr th:only-of-type {\n        vertical-align: middle;\n    }\n\n    .dataframe tbody tr th {\n        vertical-align: top;\n    }\n\n    .dataframe thead th {\n        text-align: right;\n    }\n</style>\n<table border=\"1\" class=\"dataframe\">\n  <thead>\n    <tr style=\"text-align: right;\">\n      <th></th>\n      <th>id</th>\n      <th>title</th>\n      <th>genres</th>\n      <th>authors</th>\n      <th>year</th>\n    </tr>\n  </thead>\n  <tbody>\n    <tr>\n      <th>0</th>\n      <td>128115</td>\n      <td>Ворон-челобитчик</td>\n      <td>Зарубежные детские книги,Сказки,Зарубежная кла...</td>\n      <td>Михаил Салтыков-Щедрин</td>\n      <td>1886</td>\n    </tr>\n    <tr>\n      <th>1</th>\n      <td>210979</td>\n      <td>Скрипка Ротшильда</td>\n      <td>Классическая проза,Литература 19 века,Русская ...</td>\n      <td>Антон Чехов</td>\n      <td>1894</td>\n    </tr>\n    <tr>\n      <th>2</th>\n      <td>95632</td>\n      <td>Испорченные дети</td>\n      <td>Зарубежная классика,Классическая проза,Литерат...</td>\n      <td>Михаил Салтыков-Щедрин</td>\n      <td>1869</td>\n    </tr>\n    <tr>\n      <th>3</th>\n      <td>247906</td>\n      <td>Странный человек</td>\n      <td>Пьесы и драматургия,Литература 19 века</td>\n      <td>Михаил Лермонтов</td>\n      <td>1831</td>\n    </tr>\n    <tr>\n      <th>4</th>\n      <td>294280</td>\n      <td>Господа ташкентцы</td>\n      <td>Зарубежная классика,Классическая проза,Литерат...</td>\n      <td>Михаил Салтыков-Щедрин</td>\n      <td>1873</td>\n    </tr>\n  </tbody>\n</table>\n</div>"
     },
     "execution_count": 25,
     "metadata": {},
     "output_type": "execute_result"
    }
   ],
   "source": [
    "df_items.head()"
   ]
  },
  {
   "cell_type": "code",
   "execution_count": 26,
   "metadata": {
    "execution": {
     "iopub.execute_input": "2020-10-25T07:01:29.907235Z",
     "iopub.status.busy": "2020-10-25T07:01:29.906807Z",
     "iopub.status.idle": "2020-10-25T07:01:29.915710Z",
     "shell.execute_reply": "2020-10-25T07:01:29.916065Z"
    },
    "papermill": {
     "duration": 0.07248,
     "end_time": "2020-10-25T07:01:29.916158",
     "exception": false,
     "start_time": "2020-10-25T07:01:29.843678",
     "status": "completed"
    },
    "tags": [],
    "pycharm": {
     "name": "#%%\n"
    }
   },
   "outputs": [
    {
     "name": "stdout",
     "output_type": "stream",
     "text": [
      "<class 'pandas.core.frame.DataFrame'>\n",
      "RangeIndex: 59599 entries, 0 to 59598\n",
      "Data columns (total 5 columns):\n",
      " #   Column   Non-Null Count  Dtype \n",
      "---  ------   --------------  ----- \n",
      " 0   id       59599 non-null  int64 \n",
      " 1   title    59599 non-null  object\n",
      " 2   genres   59568 non-null  object\n",
      " 3   authors  52714 non-null  object\n",
      " 4   year     46720 non-null  object\n",
      "dtypes: int64(1), object(4)\n",
      "memory usage: 2.3+ MB\n"
     ]
    }
   ],
   "source": [
    "df_items.info(memory_usage='full')"
   ]
  },
  {
   "cell_type": "code",
   "execution_count": 27,
   "metadata": {
    "execution": {
     "iopub.execute_input": "2020-10-25T07:01:30.015570Z",
     "iopub.status.busy": "2020-10-25T07:01:30.014955Z",
     "iopub.status.idle": "2020-10-25T07:01:30.018355Z",
     "shell.execute_reply": "2020-10-25T07:01:30.018002Z"
    },
    "papermill": {
     "duration": 0.055695,
     "end_time": "2020-10-25T07:01:30.018427",
     "exception": false,
     "start_time": "2020-10-25T07:01:29.962732",
     "status": "completed"
    },
    "tags": [],
    "pycharm": {
     "name": "#%%\n"
    }
   },
   "outputs": [],
   "source": [
    "def num_bytes_format(num_bytes, float_prec=4):\n",
    "    units = ['bytes', 'Kb', 'Mb', 'Gb', 'Tb', 'Pb', 'Eb']\n",
    "    for unit in units[:-1]:\n",
    "        if abs(num_bytes) < 1000:\n",
    "            return f'{num_bytes:.{float_prec}f} {unit}'\n",
    "        num_bytes /= 1000\n",
    "    return f'{num_bytes:.4f} {units[-1]}'"
   ]
  },
  {
   "cell_type": "code",
   "execution_count": 28,
   "metadata": {
    "execution": {
     "iopub.execute_input": "2020-10-25T07:01:30.164111Z",
     "iopub.status.busy": "2020-10-25T07:01:30.152801Z",
     "iopub.status.idle": "2020-10-25T07:01:30.171255Z",
     "shell.execute_reply": "2020-10-25T07:01:30.170695Z"
    },
    "papermill": {
     "duration": 0.106094,
     "end_time": "2020-10-25T07:01:30.171365",
     "exception": false,
     "start_time": "2020-10-25T07:01:30.065271",
     "status": "completed"
    },
    "tags": [],
    "pycharm": {
     "name": "#%%\n"
    }
   },
   "outputs": [
    {
     "data": {
      "text/plain": "'28.1660 Mb'"
     },
     "execution_count": 28,
     "metadata": {},
     "output_type": "execute_result"
    }
   ],
   "source": [
    "num_bytes = df_items.memory_usage(deep=True).sum()\n",
    "num_bytes_format(num_bytes)"
   ]
  },
  {
   "cell_type": "code",
   "execution_count": 29,
   "metadata": {
    "execution": {
     "iopub.execute_input": "2020-10-25T07:01:30.315197Z",
     "iopub.status.busy": "2020-10-25T07:01:30.314753Z",
     "iopub.status.idle": "2020-10-25T07:01:30.363958Z",
     "shell.execute_reply": "2020-10-25T07:01:30.363547Z"
    },
    "papermill": {
     "duration": 0.122153,
     "end_time": "2020-10-25T07:01:30.364039",
     "exception": false,
     "start_time": "2020-10-25T07:01:30.241886",
     "status": "completed"
    },
    "tags": [],
    "pycharm": {
     "name": "#%%\n"
    }
   },
   "outputs": [
    {
     "data": {
      "text/plain": "id         59599\ntitle      57358\ngenres     10769\nauthors    17265\nyear        1053\ndtype: int64"
     },
     "execution_count": 29,
     "metadata": {},
     "output_type": "execute_result"
    }
   ],
   "source": [
    "df_items.nunique()"
   ]
  },
  {
   "cell_type": "markdown",
   "metadata": {
    "papermill": {
     "duration": 0.056087,
     "end_time": "2020-10-25T07:01:30.467880",
     "exception": false,
     "start_time": "2020-10-25T07:01:30.411793",
     "status": "completed"
    },
    "tags": [],
    "pycharm": {
     "name": "#%% md\n"
    }
   },
   "source": [
    "Почему колонка `year` типа `object`, а не `int`?"
   ]
  },
  {
   "cell_type": "code",
   "execution_count": 30,
   "outputs": [
    {
     "data": {
      "text/plain": "1954, 1955, 1956                1\n1962,1970                       1\n1998-2018                       1\n1906-1913                       1\n1928, 1930                      1\n1971, 1989                      1\n1799                            1\n1865, 1871                      1\n2002, 2004                      1\n1915, 1923, 1934                1\n1924, 1932, 1934                1\n1609                            1\n1954, 1964                      1\n1945, 1938-1949                 1\n1857, 1878, 1908, 1916,         1\n1942, 1942, 1958                1\n1912, 1918, 1919                1\n1812-1819                       1\n1945, 1949                      1\n1947, 1957, 1958, 1969, 2005    1\n1957, 1966, 1970                1\n1932, 1976                      1\n1987, 1989                      1\n1929, 1931                      1\n1965,1966,1967,1968             1\nName: year, dtype: int64"
     },
     "execution_count": 30,
     "metadata": {},
     "output_type": "execute_result"
    }
   ],
   "source": [
    "df_items['year'].value_counts().tail(25)"
   ],
   "metadata": {
    "collapsed": false,
    "pycharm": {
     "name": "#%%\n"
    }
   }
  },
  {
   "cell_type": "code",
   "execution_count": 31,
   "outputs": [
    {
     "data": {
      "text/plain": "           id                                              title  \\\n44131  273885  «Мальчик, который рисовал кошек» и другие исто...   \n\n                                                  genres        authors  \\\n44131  Ужасы,Мистика,Зарубежная классика,Литература 1...  Лафкадио Хирн   \n\n                   year  \n44131  1898, 1897, 1901  ",
      "text/html": "<div>\n<style scoped>\n    .dataframe tbody tr th:only-of-type {\n        vertical-align: middle;\n    }\n\n    .dataframe tbody tr th {\n        vertical-align: top;\n    }\n\n    .dataframe thead th {\n        text-align: right;\n    }\n</style>\n<table border=\"1\" class=\"dataframe\">\n  <thead>\n    <tr style=\"text-align: right;\">\n      <th></th>\n      <th>id</th>\n      <th>title</th>\n      <th>genres</th>\n      <th>authors</th>\n      <th>year</th>\n    </tr>\n  </thead>\n  <tbody>\n    <tr>\n      <th>44131</th>\n      <td>273885</td>\n      <td>«Мальчик, который рисовал кошек» и другие исто...</td>\n      <td>Ужасы,Мистика,Зарубежная классика,Литература 1...</td>\n      <td>Лафкадио Хирн</td>\n      <td>1898, 1897, 1901</td>\n    </tr>\n  </tbody>\n</table>\n</div>"
     },
     "execution_count": 31,
     "metadata": {},
     "output_type": "execute_result"
    }
   ],
   "source": [
    "df_items[df_items['year'] == '1898, 1897, 1901']"
   ],
   "metadata": {
    "collapsed": false,
    "pycharm": {
     "name": "#%%\n"
    }
   }
  },
  {
   "cell_type": "code",
   "execution_count": 32,
   "outputs": [],
   "source": [
    "for col in ['genres', 'authors', 'year']:\n",
    "    df_items[col] = df_items[col].astype('category')"
   ],
   "metadata": {
    "collapsed": false,
    "pycharm": {
     "name": "#%%\n"
    }
   }
  },
  {
   "cell_type": "code",
   "execution_count": 33,
   "outputs": [
    {
     "name": "stdout",
     "output_type": "stream",
     "text": [
      "<class 'pandas.core.frame.DataFrame'>\n",
      "RangeIndex: 59599 entries, 0 to 59598\n",
      "Data columns (total 5 columns):\n",
      " #   Column   Non-Null Count  Dtype   \n",
      "---  ------   --------------  -----   \n",
      " 0   id       59599 non-null  int64   \n",
      " 1   title    59599 non-null  object  \n",
      " 2   genres   59568 non-null  category\n",
      " 3   authors  52714 non-null  category\n",
      " 4   year     46720 non-null  category\n",
      "dtypes: category(3), int64(1), object(1)\n",
      "memory usage: 2.3+ MB\n"
     ]
    }
   ],
   "source": [
    "df_items.info(memory_usage='full')"
   ],
   "metadata": {
    "collapsed": false,
    "pycharm": {
     "name": "#%%\n"
    }
   }
  },
  {
   "cell_type": "code",
   "execution_count": 34,
   "outputs": [
    {
     "data": {
      "text/plain": "'17.7194 Mb'"
     },
     "execution_count": 34,
     "metadata": {},
     "output_type": "execute_result"
    }
   ],
   "source": [
    "num_bytes = df_items.memory_usage(deep=True).sum()\n",
    "num_bytes_format(num_bytes)"
   ],
   "metadata": {
    "collapsed": false,
    "pycharm": {
     "name": "#%%\n"
    }
   }
  },
  {
   "cell_type": "code",
   "execution_count": 35,
   "outputs": [
    {
     "data": {
      "text/plain": "17719446"
     },
     "execution_count": 35,
     "metadata": {},
     "output_type": "execute_result"
    }
   ],
   "source": [
    "num_bytes"
   ],
   "metadata": {
    "collapsed": false,
    "pycharm": {
     "name": "#%%\n"
    }
   }
  },
  {
   "cell_type": "code",
   "execution_count": 36,
   "outputs": [
    {
     "data": {
      "text/plain": "           id                              title  \\\n0      128115                   Ворон-челобитчик   \n1      210979                  Скрипка Ротшильда   \n2       95632                   Испорченные дети   \n3      247906                   Странный человек   \n4      294280                  Господа ташкентцы   \n...       ...                                ...   \n59594   45640  МК Московский Комсомолец 291-2019   \n59595  321616  МК Московский Комсомолец 292-2019   \n59596  125582              Известия 248-249-2019   \n59597   33188               Men's Health 01-2020   \n59598   65317                Знание-сила 01-2020   \n\n                                                  genres  \\\n0      Зарубежные детские книги,Сказки,Зарубежная кла...   \n1      Классическая проза,Литература 19 века,Русская ...   \n2      Зарубежная классика,Классическая проза,Литерат...   \n3                 Пьесы и драматургия,Литература 19 века   \n4      Зарубежная классика,Классическая проза,Литерат...   \n...                                                  ...   \n59594              Политология,Книги по экономике,Газеты   \n59595              Политология,Книги по экономике,Газеты   \n59596                   Политология,Общая история,Газеты   \n59597                                 Журнальные издания   \n59598  Журнальные издания,Энциклопедии,Научная фантас...   \n\n                      authors  year  \n0      Михаил Салтыков-Щедрин  1886  \n1                 Антон Чехов  1894  \n2      Михаил Салтыков-Щедрин  1869  \n3            Михаил Лермонтов  1831  \n4      Михаил Салтыков-Щедрин  1873  \n...                       ...   ...  \n59594                     NaN  2019  \n59595                     NaN  2019  \n59596                     NaN  2019  \n59597                     NaN  2019  \n59598                     NaN  2019  \n\n[59599 rows x 5 columns]",
      "text/html": "<div>\n<style scoped>\n    .dataframe tbody tr th:only-of-type {\n        vertical-align: middle;\n    }\n\n    .dataframe tbody tr th {\n        vertical-align: top;\n    }\n\n    .dataframe thead th {\n        text-align: right;\n    }\n</style>\n<table border=\"1\" class=\"dataframe\">\n  <thead>\n    <tr style=\"text-align: right;\">\n      <th></th>\n      <th>id</th>\n      <th>title</th>\n      <th>genres</th>\n      <th>authors</th>\n      <th>year</th>\n    </tr>\n  </thead>\n  <tbody>\n    <tr>\n      <th>0</th>\n      <td>128115</td>\n      <td>Ворон-челобитчик</td>\n      <td>Зарубежные детские книги,Сказки,Зарубежная кла...</td>\n      <td>Михаил Салтыков-Щедрин</td>\n      <td>1886</td>\n    </tr>\n    <tr>\n      <th>1</th>\n      <td>210979</td>\n      <td>Скрипка Ротшильда</td>\n      <td>Классическая проза,Литература 19 века,Русская ...</td>\n      <td>Антон Чехов</td>\n      <td>1894</td>\n    </tr>\n    <tr>\n      <th>2</th>\n      <td>95632</td>\n      <td>Испорченные дети</td>\n      <td>Зарубежная классика,Классическая проза,Литерат...</td>\n      <td>Михаил Салтыков-Щедрин</td>\n      <td>1869</td>\n    </tr>\n    <tr>\n      <th>3</th>\n      <td>247906</td>\n      <td>Странный человек</td>\n      <td>Пьесы и драматургия,Литература 19 века</td>\n      <td>Михаил Лермонтов</td>\n      <td>1831</td>\n    </tr>\n    <tr>\n      <th>4</th>\n      <td>294280</td>\n      <td>Господа ташкентцы</td>\n      <td>Зарубежная классика,Классическая проза,Литерат...</td>\n      <td>Михаил Салтыков-Щедрин</td>\n      <td>1873</td>\n    </tr>\n    <tr>\n      <th>...</th>\n      <td>...</td>\n      <td>...</td>\n      <td>...</td>\n      <td>...</td>\n      <td>...</td>\n    </tr>\n    <tr>\n      <th>59594</th>\n      <td>45640</td>\n      <td>МК Московский Комсомолец 291-2019</td>\n      <td>Политология,Книги по экономике,Газеты</td>\n      <td>NaN</td>\n      <td>2019</td>\n    </tr>\n    <tr>\n      <th>59595</th>\n      <td>321616</td>\n      <td>МК Московский Комсомолец 292-2019</td>\n      <td>Политология,Книги по экономике,Газеты</td>\n      <td>NaN</td>\n      <td>2019</td>\n    </tr>\n    <tr>\n      <th>59596</th>\n      <td>125582</td>\n      <td>Известия 248-249-2019</td>\n      <td>Политология,Общая история,Газеты</td>\n      <td>NaN</td>\n      <td>2019</td>\n    </tr>\n    <tr>\n      <th>59597</th>\n      <td>33188</td>\n      <td>Men's Health 01-2020</td>\n      <td>Журнальные издания</td>\n      <td>NaN</td>\n      <td>2019</td>\n    </tr>\n    <tr>\n      <th>59598</th>\n      <td>65317</td>\n      <td>Знание-сила 01-2020</td>\n      <td>Журнальные издания,Энциклопедии,Научная фантас...</td>\n      <td>NaN</td>\n      <td>2019</td>\n    </tr>\n  </tbody>\n</table>\n<p>59599 rows × 5 columns</p>\n</div>"
     },
     "execution_count": 36,
     "metadata": {},
     "output_type": "execute_result"
    }
   ],
   "source": [
    "df_items"
   ],
   "metadata": {
    "collapsed": false,
    "pycharm": {
     "name": "#%%\n"
    }
   }
  },
  {
   "cell_type": "code",
   "execution_count": 37,
   "outputs": [
    {
     "data": {
      "text/plain": "['1886', '1894', '1869', '1831', '1873', ..., '2006-2014', '2006-2019', '2004, 2007', '2014–2019', '1965,1966,1967,1968']\nLength: 1054\nCategories (1053, object): ['04.01.2014', '04.08.2010', '1000', '1048–1123', ..., 'ок. 355 г. до н. э.', 'около 1900 г.', 'около 500 г. до н.э.', 'первая половина XIX dtrf']"
     },
     "execution_count": 37,
     "metadata": {},
     "output_type": "execute_result"
    }
   ],
   "source": [
    "df_items['year'].unique()"
   ],
   "metadata": {
    "collapsed": false,
    "pycharm": {
     "name": "#%%\n"
    }
   }
  },
  {
   "cell_type": "code",
   "execution_count": 37,
   "outputs": [],
   "source": [],
   "metadata": {
    "collapsed": false,
    "pycharm": {
     "name": "#%%\n"
    }
   }
  },
  {
   "cell_type": "code",
   "execution_count": 37,
   "outputs": [],
   "source": [],
   "metadata": {
    "collapsed": false,
    "pycharm": {
     "name": "#%%\n"
    }
   }
  },
  {
   "cell_type": "code",
   "execution_count": 38,
   "outputs": [
    {
     "name": "stdout",
     "output_type": "stream",
     "text": [
      "Кол-во книг - 59599\n",
      "Кол-во книг c взаимодействиями и фичами - 59599 (100.00%)\n",
      "Кол-во книг только c взаимодействиями - 0 (0.00%)\n",
      "Кол-во книг только c фичами - 0 (0.00%)\n"
     ]
    }
   ],
   "source": [
    "interaction_items = df['item_id'].unique()\n",
    "\n",
    "common_items = len(np.intersect1d(interaction_items, df_items['id']))\n",
    "items_only_in_interaction = len(np.setdiff1d(interaction_items, df_items['id']))\n",
    "items_only_features = len(np.setdiff1d(df_items['id'], interaction_items))\n",
    "total_items = common_items + items_only_in_interaction + items_only_features\n",
    "print(f'Кол-во книг - {total_items}')\n",
    "print(f'Кол-во книг c взаимодействиями и фичами - {common_items} ({common_items / total_items * 100:.2f}%)')\n",
    "print(f'Кол-во книг только c взаимодействиями - {items_only_in_interaction} ({items_only_in_interaction / total_items * 100:.2f}%)')\n",
    "print(f'Кол-во книг только c фичами - {items_only_features} ({items_only_features / total_items * 100:.2f}%)')"
   ],
   "metadata": {
    "collapsed": false,
    "pycharm": {
     "name": "#%%\n"
    }
   }
  },
  {
   "cell_type": "code",
   "execution_count": 39,
   "outputs": [],
   "source": [
    "df_items.to_pickle('items_preprocessed.pickle')"
   ],
   "metadata": {
    "collapsed": false,
    "pycharm": {
     "name": "#%%\n"
    }
   }
  }
 ],
 "metadata": {
  "kernelspec": {
   "display_name": "Python 3",
   "language": "python",
   "name": "python3"
  },
  "language_info": {
   "codemirror_mode": {
    "name": "ipython",
    "version": 3
   },
   "file_extension": ".py",
   "mimetype": "text/x-python",
   "name": "python",
   "nbconvert_exporter": "python",
   "pygments_lexer": "ipython3",
   "version": "3.7.6"
  },
  "papermill": {
   "duration": 20.654014,
   "end_time": "2020-10-25T07:01:41.028757",
   "environment_variables": {},
   "exception": null,
   "input_path": "__notebook__.ipynb",
   "output_path": "__notebook__.ipynb",
   "parameters": {},
   "start_time": "2020-10-25T07:01:20.374743",
   "version": "2.1.0"
  }
 },
 "nbformat": 4,
 "nbformat_minor": 4
}
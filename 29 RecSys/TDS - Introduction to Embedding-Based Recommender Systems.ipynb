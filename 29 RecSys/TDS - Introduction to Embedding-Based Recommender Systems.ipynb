{
 "cells": [
  {
   "cell_type": "code",
   "execution_count": null,
   "metadata": {
    "pycharm": {
     "name": "#%%\n"
    }
   },
   "outputs": [],
   "source": [
    "#!pip install tensorflow-datasets tensorflow"
   ]
  },
  {
   "cell_type": "code",
   "execution_count": 2,
   "metadata": {
    "pycharm": {
     "name": "#%%\n"
    }
   },
   "outputs": [],
   "source": [
    "import tensorflow_datasets as tfds\n",
    "import tensorflow as tf"
   ]
  },
  {
   "cell_type": "code",
   "execution_count": 3,
   "outputs": [
    {
     "name": "stdout",
     "output_type": "stream",
     "text": [
      "Downloading and preparing dataset Unknown size (download: Unknown size, generated: Unknown size, total: Unknown size) to C:\\Users\\ivan\\tensorflow_datasets\\movielens\\1m-ratings\\0.1.1...\n"
     ]
    },
    {
     "data": {
      "text/plain": "Dl Completed...: 0 url [00:00, ? url/s]",
      "application/vnd.jupyter.widget-view+json": {
       "version_major": 2,
       "version_minor": 0,
       "model_id": "47da9b9978a14bceb4860c38d45d4cad"
      },
      "application/json": {
       "n": 0,
       "total": 0,
       "elapsed": 0.02888965606689453,
       "ncols": null,
       "nrows": null,
       "prefix": "Dl Completed...",
       "ascii": false,
       "unit": " url",
       "unit_scale": false,
       "rate": null,
       "bar_format": null,
       "postfix": null,
       "unit_divisor": 1000,
       "initial": 0,
       "colour": null
      }
     },
     "metadata": {},
     "output_type": "display_data"
    },
    {
     "data": {
      "text/plain": "Dl Size...: 0 MiB [00:00, ? MiB/s]",
      "application/vnd.jupyter.widget-view+json": {
       "version_major": 2,
       "version_minor": 0,
       "model_id": "c4a9363b5cf64af2a532e1859e820160"
      },
      "application/json": {
       "n": 0,
       "total": 0,
       "elapsed": 0.025088071823120117,
       "ncols": null,
       "nrows": null,
       "prefix": "Dl Size...",
       "ascii": false,
       "unit": " MiB",
       "unit_scale": false,
       "rate": null,
       "bar_format": null,
       "postfix": null,
       "unit_divisor": 1000,
       "initial": 0,
       "colour": null
      }
     },
     "metadata": {},
     "output_type": "display_data"
    },
    {
     "data": {
      "text/plain": "Extraction completed...: 0 file [00:00, ? file/s]",
      "application/vnd.jupyter.widget-view+json": {
       "version_major": 2,
       "version_minor": 0,
       "model_id": "7afc4da799a94493a5dd527c7c4a6a2a"
      },
      "application/json": {
       "n": 0,
       "total": 0,
       "elapsed": 0.0844881534576416,
       "ncols": null,
       "nrows": null,
       "prefix": "Extraction completed...",
       "ascii": false,
       "unit": " file",
       "unit_scale": false,
       "rate": null,
       "bar_format": null,
       "postfix": null,
       "unit_divisor": 1000,
       "initial": 0,
       "colour": null
      }
     },
     "metadata": {},
     "output_type": "display_data"
    },
    {
     "data": {
      "text/plain": "Generating splits...:   0%|          | 0/1 [00:00<?, ? splits/s]",
      "application/vnd.jupyter.widget-view+json": {
       "version_major": 2,
       "version_minor": 0,
       "model_id": "2d9ac261f39b452c87fe95bd7737a428"
      },
      "application/json": {
       "n": 0,
       "total": 1,
       "elapsed": 0.02735304832458496,
       "ncols": null,
       "nrows": null,
       "prefix": "Generating splits...",
       "ascii": false,
       "unit": " splits",
       "unit_scale": false,
       "rate": null,
       "bar_format": null,
       "postfix": null,
       "unit_divisor": 1000,
       "initial": 0,
       "colour": null
      }
     },
     "metadata": {},
     "output_type": "display_data"
    },
    {
     "name": "stderr",
     "output_type": "stream",
     "text": [
      "WARNING:absl:`TensorInfo.dtype` is deprecated. Please change your code to use NumPy with the field `TensorInfo.np_dtype` or use TensorFlow with the field `TensorInfo.tf_dtype`.\n",
      "WARNING:absl:You use TensorFlow DType <dtype: 'int64'> in tfds.features This will soon be deprecated in favor of NumPy DTypes. In the meantime it was converted to int64.\n"
     ]
    },
    {
     "data": {
      "text/plain": "Generating train examples...: 0 examples [00:00, ? examples/s]",
      "application/vnd.jupyter.widget-view+json": {
       "version_major": 2,
       "version_minor": 0,
       "model_id": "c8c6aa53ce134d10a47b0254b5c835c2"
      },
      "application/json": {
       "n": 0,
       "total": null,
       "elapsed": 0.0260162353515625,
       "ncols": null,
       "nrows": null,
       "prefix": "Generating train examples...",
       "ascii": false,
       "unit": " examples",
       "unit_scale": false,
       "rate": null,
       "bar_format": null,
       "postfix": null,
       "unit_divisor": 1000,
       "initial": 0,
       "colour": null
      }
     },
     "metadata": {},
     "output_type": "display_data"
    },
    {
     "data": {
      "text/plain": "Shuffling C:\\Users\\ivan\\tensorflow_datasets\\movielens\\1m-ratings\\0.1.1.incomplete5T8OXM\\movielens-train.tfreco…",
      "application/vnd.jupyter.widget-view+json": {
       "version_major": 2,
       "version_minor": 0,
       "model_id": "dce566372b654492aa75eeddc69ab9c0"
      },
      "application/json": {
       "n": 0,
       "total": 1000209,
       "elapsed": 0.04404759407043457,
       "ncols": null,
       "nrows": null,
       "prefix": "Shuffling C:\\Users\\ivan\\tensorflow_datasets\\movielens\\1m-ratings\\0.1.1.incomplete5T8OXM\\movielens-train.tfrecord*...",
       "ascii": false,
       "unit": " examples",
       "unit_scale": false,
       "rate": null,
       "bar_format": null,
       "postfix": null,
       "unit_divisor": 1000,
       "initial": 0,
       "colour": null
      }
     },
     "metadata": {},
     "output_type": "display_data"
    },
    {
     "name": "stdout",
     "output_type": "stream",
     "text": [
      "Dataset movielens downloaded and prepared to C:\\Users\\ivan\\tensorflow_datasets\\movielens\\1m-ratings\\0.1.1. Subsequent calls will reuse this data.\n"
     ]
    }
   ],
   "source": [
    "data = tfds.load(\"movielens/1m-ratings\")"
   ],
   "metadata": {
    "collapsed": false,
    "pycharm": {
     "name": "#%%\n"
    }
   }
  },
  {
   "cell_type": "code",
   "execution_count": 5,
   "outputs": [],
   "source": [
    "df = tfds.as_dataframe(data[\"train\"])\n"
   ],
   "metadata": {
    "collapsed": false,
    "pycharm": {
     "name": "#%%\n"
    }
   }
  },
  {
   "cell_type": "code",
   "execution_count": 6,
   "outputs": [
    {
     "data": {
      "text/plain": "   bucketized_user_age movie_genres movie_id                      movie_title  \\\n0                 35.0       [0, 7]  b'3107'              b'Backdraft (1991)'   \n1                 25.0          [7]  b'2114'         b'Outsiders, The (1983)'   \n2                 18.0      [4, 15]   b'256'                 b'Junior (1994)'   \n3                 18.0      [0, 10]  b'1389'               b'Jaws 3-D (1983)'   \n4                 18.0          [0]  b'3635'  b'Spy Who Loved Me, The (1977)'   \n\n    timestamp  user_gender  user_id  user_occupation_label  \\\n0   977432193         True   b'130'                     18   \n1   965932967        False  b'3829'                      0   \n2  1012103552        False  b'1265'                     21   \n3   972004605         True  b'2896'                     14   \n4   961180111         True  b'5264'                     17   \n\n      user_occupation_text  user_rating user_zip_code  \n0   b'technician/engineer'          5.0      b'50021'  \n1     b'academic/educator'          4.0      b'22307'  \n2                b'writer'          1.0      b'49321'  \n3       b'sales/marketing'          5.0      b'60073'  \n4  b'college/grad student'          4.0      b'15217'  ",
      "text/html": "<div>\n<style scoped>\n    .dataframe tbody tr th:only-of-type {\n        vertical-align: middle;\n    }\n\n    .dataframe tbody tr th {\n        vertical-align: top;\n    }\n\n    .dataframe thead th {\n        text-align: right;\n    }\n</style>\n<table border=\"1\" class=\"dataframe\">\n  <thead>\n    <tr style=\"text-align: right;\">\n      <th></th>\n      <th>bucketized_user_age</th>\n      <th>movie_genres</th>\n      <th>movie_id</th>\n      <th>movie_title</th>\n      <th>timestamp</th>\n      <th>user_gender</th>\n      <th>user_id</th>\n      <th>user_occupation_label</th>\n      <th>user_occupation_text</th>\n      <th>user_rating</th>\n      <th>user_zip_code</th>\n    </tr>\n  </thead>\n  <tbody>\n    <tr>\n      <th>0</th>\n      <td>35.0</td>\n      <td>[0, 7]</td>\n      <td>b'3107'</td>\n      <td>b'Backdraft (1991)'</td>\n      <td>977432193</td>\n      <td>True</td>\n      <td>b'130'</td>\n      <td>18</td>\n      <td>b'technician/engineer'</td>\n      <td>5.0</td>\n      <td>b'50021'</td>\n    </tr>\n    <tr>\n      <th>1</th>\n      <td>25.0</td>\n      <td>[7]</td>\n      <td>b'2114'</td>\n      <td>b'Outsiders, The (1983)'</td>\n      <td>965932967</td>\n      <td>False</td>\n      <td>b'3829'</td>\n      <td>0</td>\n      <td>b'academic/educator'</td>\n      <td>4.0</td>\n      <td>b'22307'</td>\n    </tr>\n    <tr>\n      <th>2</th>\n      <td>18.0</td>\n      <td>[4, 15]</td>\n      <td>b'256'</td>\n      <td>b'Junior (1994)'</td>\n      <td>1012103552</td>\n      <td>False</td>\n      <td>b'1265'</td>\n      <td>21</td>\n      <td>b'writer'</td>\n      <td>1.0</td>\n      <td>b'49321'</td>\n    </tr>\n    <tr>\n      <th>3</th>\n      <td>18.0</td>\n      <td>[0, 10]</td>\n      <td>b'1389'</td>\n      <td>b'Jaws 3-D (1983)'</td>\n      <td>972004605</td>\n      <td>True</td>\n      <td>b'2896'</td>\n      <td>14</td>\n      <td>b'sales/marketing'</td>\n      <td>5.0</td>\n      <td>b'60073'</td>\n    </tr>\n    <tr>\n      <th>4</th>\n      <td>18.0</td>\n      <td>[0]</td>\n      <td>b'3635'</td>\n      <td>b'Spy Who Loved Me, The (1977)'</td>\n      <td>961180111</td>\n      <td>True</td>\n      <td>b'5264'</td>\n      <td>17</td>\n      <td>b'college/grad student'</td>\n      <td>4.0</td>\n      <td>b'15217'</td>\n    </tr>\n  </tbody>\n</table>\n</div>"
     },
     "execution_count": 6,
     "metadata": {},
     "output_type": "execute_result"
    }
   ],
   "source": [
    "df.head(5)"
   ],
   "metadata": {
    "collapsed": false,
    "pycharm": {
     "name": "#%%\n"
    }
   }
  },
  {
   "cell_type": "code",
   "execution_count": 7,
   "metadata": {
    "pycharm": {
     "name": "#%%\n"
    }
   },
   "outputs": [],
   "source": [
    "\n",
    "df.to_parquet('df_embed.parquet.gzip',\n",
    "              compression='gzip')\n"
   ]
  },
  {
   "cell_type": "code",
   "execution_count": null,
   "outputs": [],
   "source": [],
   "metadata": {
    "collapsed": false,
    "pycharm": {
     "name": "#%%\n"
    }
   }
  },
  {
   "cell_type": "code",
   "execution_count": null,
   "metadata": {
    "pycharm": {
     "name": "#%%\n"
    }
   },
   "outputs": [],
   "source": [
    "filtered_data = (\n",
    "    df.filter([\"timestamp\", \"user_id\", \"movie_id\", \"user_rating\"])\n",
    "    .sort_values(\"timestamp\")\n",
    "    .astype({\"user_id\": int, \"movie_id\": int, \"user_rating\": int})\n",
    "    .drop(columns=[\"timestamp\"])\n",
    ")\n",
    "\n",
    "train = filtered_data.iloc[:900000]\n",
    "test = filtered_data.iloc[900000:]"
   ]
  },
  {
   "cell_type": "code",
   "execution_count": null,
   "metadata": {
    "pycharm": {
     "name": "#%%\n"
    }
   },
   "outputs": [],
   "source": [
    "filtered_data"
   ]
  },
  {
   "cell_type": "code",
   "execution_count": null,
   "metadata": {
    "pycharm": {
     "name": "#%%\n"
    }
   },
   "outputs": [],
   "source": [
    "print(train.query(\"user_id == 1\").shape[0])\n",
    "print(test.query(\"user_id == 1\").shape[0])"
   ]
  },
  {
   "cell_type": "code",
   "execution_count": null,
   "metadata": {
    "pycharm": {
     "name": "#%%\n"
    }
   },
   "outputs": [],
   "source": [
    "X_train = train.drop(columns=[\"user_rating\"])\n",
    "y_train = train[\"user_rating\"]\n",
    "X_test = test.drop(columns=[\"user_rating\"])\n",
    "y_test = test[\"user_rating\"]"
   ]
  },
  {
   "cell_type": "code",
   "execution_count": null,
   "metadata": {
    "pycharm": {
     "name": "#%%\n"
    }
   },
   "outputs": [],
   "source": [
    "from sklearn.ensemble import HistGradientBoostingRegressor\n",
    "from sklearn.metrics import mean_absolute_error, r2_score\n",
    "\n",
    "hgb = HistGradientBoostingRegressor(random_state=0)\n",
    "hgb.fit(X_train, y_train)\n",
    "print(hgb.score(X_test, y_test), mean_absolute_error(y_test, hgb.predict(X_test)))"
   ]
  },
  {
   "cell_type": "code",
   "execution_count": 9,
   "metadata": {
    "pycharm": {
     "name": "#%%\n"
    }
   },
   "outputs": [
    {
     "ename": "NameError",
     "evalue": "name 'train' is not defined",
     "output_type": "error",
     "traceback": [
      "\u001B[1;31m---------------------------------------------------------------------------\u001B[0m",
      "\u001B[1;31mNameError\u001B[0m                                 Traceback (most recent call last)",
      "Input \u001B[1;32mIn [9]\u001B[0m, in \u001B[0;36m<cell line: 1>\u001B[1;34m()\u001B[0m\n\u001B[1;32m----> 1\u001B[0m all_users \u001B[38;5;241m=\u001B[39m \u001B[43mtrain\u001B[49m[\u001B[38;5;124m\"\u001B[39m\u001B[38;5;124muser_id\u001B[39m\u001B[38;5;124m\"\u001B[39m]\u001B[38;5;241m.\u001B[39munique()\n\u001B[0;32m      2\u001B[0m all_movies \u001B[38;5;241m=\u001B[39m train[\u001B[38;5;124m\"\u001B[39m\u001B[38;5;124mmovie_id\u001B[39m\u001B[38;5;124m\"\u001B[39m]\u001B[38;5;241m.\u001B[39munique()\n",
      "\u001B[1;31mNameError\u001B[0m: name 'train' is not defined"
     ]
    }
   ],
   "source": [
    "all_users = train[\"user_id\"].unique()\n",
    "all_movies = train[\"movie_id\"].unique()"
   ]
  },
  {
   "cell_type": "code",
   "execution_count": 8,
   "outputs": [
    {
     "ename": "NameError",
     "evalue": "name 'all_users' is not defined",
     "output_type": "error",
     "traceback": [
      "\u001B[1;31m---------------------------------------------------------------------------\u001B[0m",
      "\u001B[1;31mNameError\u001B[0m                                 Traceback (most recent call last)",
      "Input \u001B[1;32mIn [8]\u001B[0m, in \u001B[0;36m<cell line: 1>\u001B[1;34m()\u001B[0m\n\u001B[1;32m----> 1\u001B[0m \u001B[43mall_users\u001B[49m\n",
      "\u001B[1;31mNameError\u001B[0m: name 'all_users' is not defined"
     ]
    }
   ],
   "source": [
    "all_users"
   ],
   "metadata": {
    "collapsed": false,
    "pycharm": {
     "name": "#%%\n"
    }
   }
  },
  {
   "cell_type": "markdown",
   "metadata": {
    "pycharm": {
     "name": "#%% md\n"
    }
   },
   "source": [
    "# First version"
   ]
  },
  {
   "cell_type": "code",
   "execution_count": null,
   "metadata": {
    "pycharm": {
     "name": "#%%\n"
    }
   },
   "outputs": [],
   "source": [
    "user_input = tf.keras.layers.Input(shape=(1,), name=\"user\")\n",
    "user_as_integer = tf.keras.layers.IntegerLookup(vocabulary=all_users)(user_input)\n",
    "user_embedding = tf.keras.layers.Embedding(input_dim=len(all_users) + 1, output_dim=32)(user_as_integer)\n",
    "\n",
    "movie_input = tf.keras.layers.Input(shape=(1,), name=\"movie\")\n",
    "movie_as_integer = tf.keras.layers.IntegerLookup(vocabulary=all_movies)(movie_input)\n",
    "movie_embedding = tf.keras.layers.Embedding(input_dim=len(all_movies) + 1, output_dim=32)(movie_as_integer)\n",
    "\n",
    "dot = tf.keras.layers.Dot(axes=2)([user_embedding, movie_embedding])\n",
    "flatten = tf.keras.layers.Flatten()(dot)\n",
    "\n",
    "model = tf.keras.Model(inputs=[user_input, movie_input], outputs=flatten)\n",
    "\n",
    "model.compile(loss=\"mse\", metrics=[tf.keras.metrics.MeanAbsoluteError()])"
   ]
  },
  {
   "cell_type": "markdown",
   "metadata": {
    "pycharm": {
     "name": "#%% md\n"
    }
   },
   "source": [
    "# Second version"
   ]
  },
  {
   "cell_type": "code",
   "execution_count": null,
   "metadata": {
    "pycharm": {
     "name": "#%%\n"
    }
   },
   "outputs": [],
   "source": [
    "user_input = tf.keras.layers.Input(shape=(1,), name=\"user\")\n",
    "user_as_integer = tf.keras.layers.IntegerLookup(vocabulary=all_users)(user_input)\n",
    "user_embedding = tf.keras.layers.Embedding(input_dim=len(all_users) + 1, output_dim=32)(user_as_integer)\n",
    "\n",
    "movie_input = tf.keras.layers.Input(shape=(1,), name=\"movie\")\n",
    "movie_as_integer = tf.keras.layers.IntegerLookup(vocabulary=all_movies)(movie_input)\n",
    "movie_embedding = tf.keras.layers.Embedding(input_dim=len(all_movies) + 1, output_dim=32)(movie_as_integer)\n",
    "\n",
    "dot = tf.keras.layers.Dot(axes=2)([user_embedding, movie_embedding])\n",
    "flatten = tf.keras.layers.Flatten()(dot)\n",
    "squash = tf.keras.layers.Lambda(lambda x: 4 * tf.nn.sigmoid(x) + 1)(flatten)\n",
    "\n",
    "model = tf.keras.Model(inputs=[user_input, movie_input], outputs=squash)\n",
    "\n",
    "model.compile(loss=\"mse\", metrics=[tf.keras.metrics.MeanAbsoluteError()])"
   ]
  },
  {
   "cell_type": "markdown",
   "metadata": {
    "pycharm": {
     "name": "#%% md\n"
    }
   },
   "source": [
    "# Final version"
   ]
  },
  {
   "cell_type": "code",
   "execution_count": null,
   "metadata": {
    "pycharm": {
     "name": "#%%\n"
    }
   },
   "outputs": [],
   "source": [
    "user_input = tf.keras.layers.Input(shape=(1,), name=\"user\")\n",
    "user_as_integer = tf.keras.layers.IntegerLookup(vocabulary=all_users, name=\"user_as_integer\")(user_input)\n",
    "user_embedding = tf.keras.layers.Embedding(input_dim=len(all_users) + 1, output_dim=32, name=\"user_embedding\")(user_as_integer)\n",
    "user_bias = tf.keras.layers.Embedding(input_dim=len(all_users) + 1, output_dim=1, name=\"user_bias\")(user_as_integer)\n",
    "\n",
    "movie_input = tf.keras.layers.Input(shape=(1,), name=\"movie\")\n",
    "movie_as_integer = tf.keras.layers.IntegerLookup(vocabulary=all_movies, name=\"movie_as_integer\")(movie_input)\n",
    "movie_embedding = tf.keras.layers.Embedding(input_dim=len(all_movies) + 1, output_dim=32, name=\"movie_embedding\")(movie_as_integer)\n",
    "movie_bias = tf.keras.layers.Embedding(input_dim=len(all_movies) + 1, output_dim=1, name=\"movie_bias\")(movie_as_integer)\n",
    "\n",
    "dot = tf.keras.layers.Dot(axes=2, name=\"dot_product\")([user_embedding, movie_embedding])\n",
    "add = tf.keras.layers.Add(name=\"sum\")([dot, user_bias, movie_bias])\n",
    "flatten = tf.keras.layers.Flatten(name=\"flatten\")(add)\n",
    "squash = tf.keras.layers.Lambda(lambda x: 4 * tf.nn.sigmoid(x) + 1, name=\"squash\")(flatten)\n",
    "\n",
    "model = tf.keras.Model(inputs=[user_input, movie_input], outputs=squash)\n",
    "\n",
    "model.compile(loss=\"mse\", metrics=[tf.keras.metrics.MeanAbsoluteError()])"
   ]
  },
  {
   "cell_type": "code",
   "execution_count": null,
   "metadata": {
    "pycharm": {
     "name": "#%%\n"
    }
   },
   "outputs": [],
   "source": [
    "tf.keras.utils.plot_model(model, show_shapes=True)"
   ]
  },
  {
   "cell_type": "code",
   "execution_count": null,
   "metadata": {
    "pycharm": {
     "name": "#%%\n"
    }
   },
   "outputs": [],
   "source": [
    "model.fit(\n",
    "    x={\"user\": X_train[\"user_id\"], \"movie\": X_train[\"movie_id\"]},\n",
    "    y=y_train.values,\n",
    "    batch_size=256,\n",
    "    epochs=100,\n",
    "    validation_split=0.1,\n",
    "    callbacks=[tf.keras.callbacks.EarlyStopping(patience=1, restore_best_weights=True)],\n",
    ")"
   ]
  },
  {
   "cell_type": "code",
   "execution_count": null,
   "metadata": {
    "pycharm": {
     "name": "#%%\n"
    }
   },
   "outputs": [],
   "source": [
    "model.evaluate(x={\"user\": X_test[\"user_id\"], \"movie\": X_test[\"movie_id\"]}, y=y_test)"
   ]
  },
  {
   "cell_type": "code",
   "execution_count": null,
   "metadata": {
    "pycharm": {
     "name": "#%%\n"
    }
   },
   "outputs": [],
   "source": [
    "from sklearn.metrics import r2_score\n",
    "\n",
    "r2_score(\n",
    "    y_test,\n",
    "    model.predict({\"user\": X_test[\"user_id\"], \"movie\": X_test[\"movie_id\"]}).ravel(),\n",
    ")"
   ]
  },
  {
   "cell_type": "code",
   "execution_count": null,
   "metadata": {
    "pycharm": {
     "name": "#%%\n"
    }
   },
   "outputs": [],
   "source": []
  }
 ],
 "metadata": {
  "kernelspec": {
   "display_name": "Python 3",
   "language": "python",
   "name": "python3"
  },
  "language_info": {
   "codemirror_mode": {
    "name": "ipython",
    "version": 3
   },
   "file_extension": ".py",
   "mimetype": "text/x-python",
   "name": "python",
   "nbconvert_exporter": "python",
   "pygments_lexer": "ipython3",
   "version": "3.9.9"
  },
  "vscode": {
   "interpreter": {
    "hash": "67783390838d2e02912aac04d405c75735cc05868bfeaabbe6ec2bbdb2e2542d"
   }
  }
 },
 "nbformat": 4,
 "nbformat_minor": 4
}
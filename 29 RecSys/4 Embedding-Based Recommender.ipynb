{
 "cells": [
  {
   "cell_type": "code",
   "execution_count": 2,
   "metadata": {
    "collapsed": true,
    "pycharm": {
     "name": "#%%\n"
    }
   },
   "outputs": [],
   "source": [
    "import tensorflow_datasets as tfds\n",
    "import tensorflow as tf\n",
    "import pandas as pd"
   ]
  },
  {
   "cell_type": "code",
   "execution_count": 3,
   "outputs": [],
   "source": [
    "df = pd.read_parquet('df_embed.parquet.gzip')"
   ],
   "metadata": {
    "collapsed": false,
    "pycharm": {
     "name": "#%%\n"
    }
   }
  },
  {
   "cell_type": "code",
   "execution_count": 4,
   "outputs": [
    {
     "data": {
      "text/plain": "         bucketized_user_age movie_genres movie_id  \\\n0                       35.0       [0, 7]  b'3107'   \n1                       25.0          [7]  b'2114'   \n2                       18.0      [4, 15]   b'256'   \n3                       18.0      [0, 10]  b'1389'   \n4                       18.0          [0]  b'3635'   \n...                      ...          ...      ...   \n1000204                 25.0       [4, 7]  b'2290'   \n1000205                 25.0   [0, 1, 15]  b'2643'   \n1000206                 25.0      [7, 16]   b'593'   \n1000207                 25.0          [7]  b'1693'   \n1000208                 35.0      [7, 16]   b'454'   \n\n                                        movie_title   timestamp  user_gender  \\\n0                               b'Backdraft (1991)'   977432193         True   \n1                          b'Outsiders, The (1983)'   965932967        False   \n2                                  b'Junior (1994)'  1012103552        False   \n3                                b'Jaws 3-D (1983)'   972004605         True   \n4                   b'Spy Who Loved Me, The (1977)'   961180111         True   \n...                                             ...         ...          ...   \n1000204                 b'Stardust Memories (1980)'   964985140         True   \n1000205  b'Superman IV: The Quest for Peace (1987)'   965335130         True   \n1000206         b'Silence of the Lambs, The (1991)'   958054732         True   \n1000207                           b'Amistad (1997)'   968543692        False   \n1000208                         b'Firm, The (1993)'   959814459         True   \n\n         user_id  user_occupation_label     user_occupation_text  user_rating  \\\n0         b'130'                     18   b'technician/engineer'          5.0   \n1        b'3829'                      0     b'academic/educator'          4.0   \n2        b'1265'                     21                b'writer'          1.0   \n3        b'2896'                     14       b'sales/marketing'          5.0   \n4        b'5264'                     17  b'college/grad student'          4.0   \n...          ...                    ...                      ...          ...   \n1000204  b'4508'                     21                b'writer'          4.0   \n1000205  b'4167'                     21                b'writer'          1.0   \n1000206  b'5799'                      3      b'customer service'          5.0   \n1000207  b'3224'                     14       b'sales/marketing'          3.0   \n1000208  b'5493'                     12            b'programmer'          3.0   \n\n        user_zip_code  \n0            b'50021'  \n1            b'22307'  \n2            b'49321'  \n3            b'60073'  \n4            b'15217'  \n...               ...  \n1000204      b'15701'  \n1000205      b'22032'  \n1000206      b'80916'  \n1000207      b'93428'  \n1000208      b'96797'  \n\n[1000209 rows x 11 columns]",
      "text/html": "<div>\n<style scoped>\n    .dataframe tbody tr th:only-of-type {\n        vertical-align: middle;\n    }\n\n    .dataframe tbody tr th {\n        vertical-align: top;\n    }\n\n    .dataframe thead th {\n        text-align: right;\n    }\n</style>\n<table border=\"1\" class=\"dataframe\">\n  <thead>\n    <tr style=\"text-align: right;\">\n      <th></th>\n      <th>bucketized_user_age</th>\n      <th>movie_genres</th>\n      <th>movie_id</th>\n      <th>movie_title</th>\n      <th>timestamp</th>\n      <th>user_gender</th>\n      <th>user_id</th>\n      <th>user_occupation_label</th>\n      <th>user_occupation_text</th>\n      <th>user_rating</th>\n      <th>user_zip_code</th>\n    </tr>\n  </thead>\n  <tbody>\n    <tr>\n      <th>0</th>\n      <td>35.0</td>\n      <td>[0, 7]</td>\n      <td>b'3107'</td>\n      <td>b'Backdraft (1991)'</td>\n      <td>977432193</td>\n      <td>True</td>\n      <td>b'130'</td>\n      <td>18</td>\n      <td>b'technician/engineer'</td>\n      <td>5.0</td>\n      <td>b'50021'</td>\n    </tr>\n    <tr>\n      <th>1</th>\n      <td>25.0</td>\n      <td>[7]</td>\n      <td>b'2114'</td>\n      <td>b'Outsiders, The (1983)'</td>\n      <td>965932967</td>\n      <td>False</td>\n      <td>b'3829'</td>\n      <td>0</td>\n      <td>b'academic/educator'</td>\n      <td>4.0</td>\n      <td>b'22307'</td>\n    </tr>\n    <tr>\n      <th>2</th>\n      <td>18.0</td>\n      <td>[4, 15]</td>\n      <td>b'256'</td>\n      <td>b'Junior (1994)'</td>\n      <td>1012103552</td>\n      <td>False</td>\n      <td>b'1265'</td>\n      <td>21</td>\n      <td>b'writer'</td>\n      <td>1.0</td>\n      <td>b'49321'</td>\n    </tr>\n    <tr>\n      <th>3</th>\n      <td>18.0</td>\n      <td>[0, 10]</td>\n      <td>b'1389'</td>\n      <td>b'Jaws 3-D (1983)'</td>\n      <td>972004605</td>\n      <td>True</td>\n      <td>b'2896'</td>\n      <td>14</td>\n      <td>b'sales/marketing'</td>\n      <td>5.0</td>\n      <td>b'60073'</td>\n    </tr>\n    <tr>\n      <th>4</th>\n      <td>18.0</td>\n      <td>[0]</td>\n      <td>b'3635'</td>\n      <td>b'Spy Who Loved Me, The (1977)'</td>\n      <td>961180111</td>\n      <td>True</td>\n      <td>b'5264'</td>\n      <td>17</td>\n      <td>b'college/grad student'</td>\n      <td>4.0</td>\n      <td>b'15217'</td>\n    </tr>\n    <tr>\n      <th>...</th>\n      <td>...</td>\n      <td>...</td>\n      <td>...</td>\n      <td>...</td>\n      <td>...</td>\n      <td>...</td>\n      <td>...</td>\n      <td>...</td>\n      <td>...</td>\n      <td>...</td>\n      <td>...</td>\n    </tr>\n    <tr>\n      <th>1000204</th>\n      <td>25.0</td>\n      <td>[4, 7]</td>\n      <td>b'2290'</td>\n      <td>b'Stardust Memories (1980)'</td>\n      <td>964985140</td>\n      <td>True</td>\n      <td>b'4508'</td>\n      <td>21</td>\n      <td>b'writer'</td>\n      <td>4.0</td>\n      <td>b'15701'</td>\n    </tr>\n    <tr>\n      <th>1000205</th>\n      <td>25.0</td>\n      <td>[0, 1, 15]</td>\n      <td>b'2643'</td>\n      <td>b'Superman IV: The Quest for Peace (1987)'</td>\n      <td>965335130</td>\n      <td>True</td>\n      <td>b'4167'</td>\n      <td>21</td>\n      <td>b'writer'</td>\n      <td>1.0</td>\n      <td>b'22032'</td>\n    </tr>\n    <tr>\n      <th>1000206</th>\n      <td>25.0</td>\n      <td>[7, 16]</td>\n      <td>b'593'</td>\n      <td>b'Silence of the Lambs, The (1991)'</td>\n      <td>958054732</td>\n      <td>True</td>\n      <td>b'5799'</td>\n      <td>3</td>\n      <td>b'customer service'</td>\n      <td>5.0</td>\n      <td>b'80916'</td>\n    </tr>\n    <tr>\n      <th>1000207</th>\n      <td>25.0</td>\n      <td>[7]</td>\n      <td>b'1693'</td>\n      <td>b'Amistad (1997)'</td>\n      <td>968543692</td>\n      <td>False</td>\n      <td>b'3224'</td>\n      <td>14</td>\n      <td>b'sales/marketing'</td>\n      <td>3.0</td>\n      <td>b'93428'</td>\n    </tr>\n    <tr>\n      <th>1000208</th>\n      <td>35.0</td>\n      <td>[7, 16]</td>\n      <td>b'454'</td>\n      <td>b'Firm, The (1993)'</td>\n      <td>959814459</td>\n      <td>True</td>\n      <td>b'5493'</td>\n      <td>12</td>\n      <td>b'programmer'</td>\n      <td>3.0</td>\n      <td>b'96797'</td>\n    </tr>\n  </tbody>\n</table>\n<p>1000209 rows × 11 columns</p>\n</div>"
     },
     "execution_count": 4,
     "metadata": {},
     "output_type": "execute_result"
    }
   ],
   "source": [
    "df"
   ],
   "metadata": {
    "collapsed": false,
    "pycharm": {
     "name": "#%%\n"
    }
   }
  },
  {
   "cell_type": "code",
   "execution_count": 5,
   "outputs": [],
   "source": [
    "filtered_data = (\n",
    "    df.filter([\"timestamp\", \"user_id\", \"movie_id\", \"user_rating\"])\n",
    "        .sort_values(\"timestamp\")\n",
    "        .astype({\"user_id\": int, \"movie_id\": int, \"user_rating\": int})\n",
    "        .drop(columns=[\"timestamp\"])\n",
    ")"
   ],
   "metadata": {
    "collapsed": false,
    "pycharm": {
     "name": "#%%\n"
    }
   }
  },
  {
   "cell_type": "code",
   "execution_count": 8,
   "outputs": [],
   "source": [
    "train = filtered_data.iloc[:900000]\n",
    "test = filtered_data.iloc[900000:]"
   ],
   "metadata": {
    "collapsed": false,
    "pycharm": {
     "name": "#%%\n"
    }
   }
  },
  {
   "cell_type": "code",
   "execution_count": 10,
   "outputs": [
    {
     "data": {
      "text/plain": "        user_id  movie_id  user_rating\n795357     6040       858            4\n285481     6040      2384            4\n709440     6040       593            5\n152436     6040      1961            4\n868294     6040      2019            5\n...         ...       ...          ...\n953968       26       511            5\n513264       26       480            4\n631679       48      2968            3\n421901       25      2253            4\n441465       25      1198            5\n\n[900000 rows x 3 columns]",
      "text/html": "<div>\n<style scoped>\n    .dataframe tbody tr th:only-of-type {\n        vertical-align: middle;\n    }\n\n    .dataframe tbody tr th {\n        vertical-align: top;\n    }\n\n    .dataframe thead th {\n        text-align: right;\n    }\n</style>\n<table border=\"1\" class=\"dataframe\">\n  <thead>\n    <tr style=\"text-align: right;\">\n      <th></th>\n      <th>user_id</th>\n      <th>movie_id</th>\n      <th>user_rating</th>\n    </tr>\n  </thead>\n  <tbody>\n    <tr>\n      <th>795357</th>\n      <td>6040</td>\n      <td>858</td>\n      <td>4</td>\n    </tr>\n    <tr>\n      <th>285481</th>\n      <td>6040</td>\n      <td>2384</td>\n      <td>4</td>\n    </tr>\n    <tr>\n      <th>709440</th>\n      <td>6040</td>\n      <td>593</td>\n      <td>5</td>\n    </tr>\n    <tr>\n      <th>152436</th>\n      <td>6040</td>\n      <td>1961</td>\n      <td>4</td>\n    </tr>\n    <tr>\n      <th>868294</th>\n      <td>6040</td>\n      <td>2019</td>\n      <td>5</td>\n    </tr>\n    <tr>\n      <th>...</th>\n      <td>...</td>\n      <td>...</td>\n      <td>...</td>\n    </tr>\n    <tr>\n      <th>953968</th>\n      <td>26</td>\n      <td>511</td>\n      <td>5</td>\n    </tr>\n    <tr>\n      <th>513264</th>\n      <td>26</td>\n      <td>480</td>\n      <td>4</td>\n    </tr>\n    <tr>\n      <th>631679</th>\n      <td>48</td>\n      <td>2968</td>\n      <td>3</td>\n    </tr>\n    <tr>\n      <th>421901</th>\n      <td>25</td>\n      <td>2253</td>\n      <td>4</td>\n    </tr>\n    <tr>\n      <th>441465</th>\n      <td>25</td>\n      <td>1198</td>\n      <td>5</td>\n    </tr>\n  </tbody>\n</table>\n<p>900000 rows × 3 columns</p>\n</div>"
     },
     "execution_count": 10,
     "metadata": {},
     "output_type": "execute_result"
    }
   ],
   "source": [
    "train"
   ],
   "metadata": {
    "collapsed": false,
    "pycharm": {
     "name": "#%%\n"
    }
   }
  },
  {
   "cell_type": "code",
   "execution_count": 11,
   "outputs": [
    {
     "name": "stdout",
     "output_type": "stream",
     "text": [
      "0\n"
     ]
    }
   ],
   "source": [
    "print(train.query(\"user_id == 1\").shape[0])"
   ],
   "metadata": {
    "collapsed": false,
    "pycharm": {
     "name": "#%%\n"
    }
   }
  },
  {
   "cell_type": "code",
   "execution_count": 12,
   "outputs": [
    {
     "name": "stdout",
     "output_type": "stream",
     "text": [
      "53\n"
     ]
    }
   ],
   "source": [
    "print(test.query(\"user_id == 1\").shape[0])"
   ],
   "metadata": {
    "collapsed": false,
    "pycharm": {
     "name": "#%%\n"
    }
   }
  },
  {
   "cell_type": "code",
   "execution_count": 14,
   "outputs": [
    {
     "data": {
      "text/plain": "        user_id  movie_id  user_rating\n486815        1      3186            4\n985165        1      1721            4\n918576        1      1022            5\n17504         1      1270            5\n52019         1      2340            3\n177182        1      1836            5\n762275        1      3408            4\n313921        1      1207            4\n220016        1      2804            5\n58354         1       260            4\n298725        1      1193            5\n593684        1       720            3\n212734        1       919            4\n891299        1       608            4\n253943        1      2692            4\n216803        1      1961            5\n100760        1      2028            5\n898379        1      3105            5\n518707        1       938            4\n703240        1      1035            5\n205881        1      1962            4\n25581         1      2018            4\n65991         1       150            5\n597917        1      1028            5\n5202          1      1097            4\n691254        1       914            3\n396425        1      2797            4\n253891        1      1287            5\n404520        1      1246            4\n458748        1      2762            4\n942695        1       661            3\n253074        1      2918            4\n464272        1       531            4\n297350        1      3114            4\n312214        1      2791            4\n110837        1      2321            3\n810034        1      1029            5\n912130        1      1197            3\n516708        1       594            4\n471887        1      2398            4\n146376        1      1545            4\n670443        1       527            5\n911964        1       595            5\n342217        1       588            4\n368774        1      2687            3\n735259        1       745            3\n384204        1         1            5\n671193        1      2355            5\n980138        1      2294            4\n308181        1       783            4\n425438        1      1566            4\n987526        1      1907            4\n743178        1        48            5",
      "text/html": "<div>\n<style scoped>\n    .dataframe tbody tr th:only-of-type {\n        vertical-align: middle;\n    }\n\n    .dataframe tbody tr th {\n        vertical-align: top;\n    }\n\n    .dataframe thead th {\n        text-align: right;\n    }\n</style>\n<table border=\"1\" class=\"dataframe\">\n  <thead>\n    <tr style=\"text-align: right;\">\n      <th></th>\n      <th>user_id</th>\n      <th>movie_id</th>\n      <th>user_rating</th>\n    </tr>\n  </thead>\n  <tbody>\n    <tr>\n      <th>486815</th>\n      <td>1</td>\n      <td>3186</td>\n      <td>4</td>\n    </tr>\n    <tr>\n      <th>985165</th>\n      <td>1</td>\n      <td>1721</td>\n      <td>4</td>\n    </tr>\n    <tr>\n      <th>918576</th>\n      <td>1</td>\n      <td>1022</td>\n      <td>5</td>\n    </tr>\n    <tr>\n      <th>17504</th>\n      <td>1</td>\n      <td>1270</td>\n      <td>5</td>\n    </tr>\n    <tr>\n      <th>52019</th>\n      <td>1</td>\n      <td>2340</td>\n      <td>3</td>\n    </tr>\n    <tr>\n      <th>177182</th>\n      <td>1</td>\n      <td>1836</td>\n      <td>5</td>\n    </tr>\n    <tr>\n      <th>762275</th>\n      <td>1</td>\n      <td>3408</td>\n      <td>4</td>\n    </tr>\n    <tr>\n      <th>313921</th>\n      <td>1</td>\n      <td>1207</td>\n      <td>4</td>\n    </tr>\n    <tr>\n      <th>220016</th>\n      <td>1</td>\n      <td>2804</td>\n      <td>5</td>\n    </tr>\n    <tr>\n      <th>58354</th>\n      <td>1</td>\n      <td>260</td>\n      <td>4</td>\n    </tr>\n    <tr>\n      <th>298725</th>\n      <td>1</td>\n      <td>1193</td>\n      <td>5</td>\n    </tr>\n    <tr>\n      <th>593684</th>\n      <td>1</td>\n      <td>720</td>\n      <td>3</td>\n    </tr>\n    <tr>\n      <th>212734</th>\n      <td>1</td>\n      <td>919</td>\n      <td>4</td>\n    </tr>\n    <tr>\n      <th>891299</th>\n      <td>1</td>\n      <td>608</td>\n      <td>4</td>\n    </tr>\n    <tr>\n      <th>253943</th>\n      <td>1</td>\n      <td>2692</td>\n      <td>4</td>\n    </tr>\n    <tr>\n      <th>216803</th>\n      <td>1</td>\n      <td>1961</td>\n      <td>5</td>\n    </tr>\n    <tr>\n      <th>100760</th>\n      <td>1</td>\n      <td>2028</td>\n      <td>5</td>\n    </tr>\n    <tr>\n      <th>898379</th>\n      <td>1</td>\n      <td>3105</td>\n      <td>5</td>\n    </tr>\n    <tr>\n      <th>518707</th>\n      <td>1</td>\n      <td>938</td>\n      <td>4</td>\n    </tr>\n    <tr>\n      <th>703240</th>\n      <td>1</td>\n      <td>1035</td>\n      <td>5</td>\n    </tr>\n    <tr>\n      <th>205881</th>\n      <td>1</td>\n      <td>1962</td>\n      <td>4</td>\n    </tr>\n    <tr>\n      <th>25581</th>\n      <td>1</td>\n      <td>2018</td>\n      <td>4</td>\n    </tr>\n    <tr>\n      <th>65991</th>\n      <td>1</td>\n      <td>150</td>\n      <td>5</td>\n    </tr>\n    <tr>\n      <th>597917</th>\n      <td>1</td>\n      <td>1028</td>\n      <td>5</td>\n    </tr>\n    <tr>\n      <th>5202</th>\n      <td>1</td>\n      <td>1097</td>\n      <td>4</td>\n    </tr>\n    <tr>\n      <th>691254</th>\n      <td>1</td>\n      <td>914</td>\n      <td>3</td>\n    </tr>\n    <tr>\n      <th>396425</th>\n      <td>1</td>\n      <td>2797</td>\n      <td>4</td>\n    </tr>\n    <tr>\n      <th>253891</th>\n      <td>1</td>\n      <td>1287</td>\n      <td>5</td>\n    </tr>\n    <tr>\n      <th>404520</th>\n      <td>1</td>\n      <td>1246</td>\n      <td>4</td>\n    </tr>\n    <tr>\n      <th>458748</th>\n      <td>1</td>\n      <td>2762</td>\n      <td>4</td>\n    </tr>\n    <tr>\n      <th>942695</th>\n      <td>1</td>\n      <td>661</td>\n      <td>3</td>\n    </tr>\n    <tr>\n      <th>253074</th>\n      <td>1</td>\n      <td>2918</td>\n      <td>4</td>\n    </tr>\n    <tr>\n      <th>464272</th>\n      <td>1</td>\n      <td>531</td>\n      <td>4</td>\n    </tr>\n    <tr>\n      <th>297350</th>\n      <td>1</td>\n      <td>3114</td>\n      <td>4</td>\n    </tr>\n    <tr>\n      <th>312214</th>\n      <td>1</td>\n      <td>2791</td>\n      <td>4</td>\n    </tr>\n    <tr>\n      <th>110837</th>\n      <td>1</td>\n      <td>2321</td>\n      <td>3</td>\n    </tr>\n    <tr>\n      <th>810034</th>\n      <td>1</td>\n      <td>1029</td>\n      <td>5</td>\n    </tr>\n    <tr>\n      <th>912130</th>\n      <td>1</td>\n      <td>1197</td>\n      <td>3</td>\n    </tr>\n    <tr>\n      <th>516708</th>\n      <td>1</td>\n      <td>594</td>\n      <td>4</td>\n    </tr>\n    <tr>\n      <th>471887</th>\n      <td>1</td>\n      <td>2398</td>\n      <td>4</td>\n    </tr>\n    <tr>\n      <th>146376</th>\n      <td>1</td>\n      <td>1545</td>\n      <td>4</td>\n    </tr>\n    <tr>\n      <th>670443</th>\n      <td>1</td>\n      <td>527</td>\n      <td>5</td>\n    </tr>\n    <tr>\n      <th>911964</th>\n      <td>1</td>\n      <td>595</td>\n      <td>5</td>\n    </tr>\n    <tr>\n      <th>342217</th>\n      <td>1</td>\n      <td>588</td>\n      <td>4</td>\n    </tr>\n    <tr>\n      <th>368774</th>\n      <td>1</td>\n      <td>2687</td>\n      <td>3</td>\n    </tr>\n    <tr>\n      <th>735259</th>\n      <td>1</td>\n      <td>745</td>\n      <td>3</td>\n    </tr>\n    <tr>\n      <th>384204</th>\n      <td>1</td>\n      <td>1</td>\n      <td>5</td>\n    </tr>\n    <tr>\n      <th>671193</th>\n      <td>1</td>\n      <td>2355</td>\n      <td>5</td>\n    </tr>\n    <tr>\n      <th>980138</th>\n      <td>1</td>\n      <td>2294</td>\n      <td>4</td>\n    </tr>\n    <tr>\n      <th>308181</th>\n      <td>1</td>\n      <td>783</td>\n      <td>4</td>\n    </tr>\n    <tr>\n      <th>425438</th>\n      <td>1</td>\n      <td>1566</td>\n      <td>4</td>\n    </tr>\n    <tr>\n      <th>987526</th>\n      <td>1</td>\n      <td>1907</td>\n      <td>4</td>\n    </tr>\n    <tr>\n      <th>743178</th>\n      <td>1</td>\n      <td>48</td>\n      <td>5</td>\n    </tr>\n  </tbody>\n</table>\n</div>"
     },
     "execution_count": 14,
     "metadata": {},
     "output_type": "execute_result"
    }
   ],
   "source": [
    "test.query(\"user_id == 1\")"
   ],
   "metadata": {
    "collapsed": false,
    "pycharm": {
     "name": "#%%\n"
    }
   }
  },
  {
   "cell_type": "code",
   "execution_count": 19,
   "outputs": [],
   "source": [
    "X_train = train.drop(columns=[\"user_rating\"])\n",
    "y_train = train[\"user_rating\"]\n",
    "X_test = test.drop(columns=[\"user_rating\"])\n",
    "y_test = test[\"user_rating\"]"
   ],
   "metadata": {
    "collapsed": false,
    "pycharm": {
     "name": "#%%\n"
    }
   }
  },
  {
   "cell_type": "code",
   "execution_count": 15,
   "outputs": [],
   "source": [
    "##BAD BAD BAD\n",
    "from sklearn.ensemble import HistGradientBoostingRegressor\n",
    "from sklearn.metrics import mean_absolute_error, r2_score\n",
    "\n",
    "hgb = HistGradientBoostingRegressor(random_state=0)"
   ],
   "metadata": {
    "collapsed": false,
    "pycharm": {
     "name": "#%%\n"
    }
   }
  },
  {
   "cell_type": "code",
   "execution_count": 17,
   "outputs": [
    {
     "data": {
      "text/plain": "sklearn.ensemble._hist_gradient_boosting.gradient_boosting.HistGradientBoostingRegressor"
     },
     "execution_count": 17,
     "metadata": {},
     "output_type": "execute_result"
    }
   ],
   "source": [
    "type(hgb)"
   ],
   "metadata": {
    "collapsed": false,
    "pycharm": {
     "name": "#%%\n"
    }
   }
  },
  {
   "cell_type": "code",
   "execution_count": 20,
   "outputs": [
    {
     "data": {
      "text/plain": "HistGradientBoostingRegressor(random_state=0)",
      "text/html": "<style>#sk-container-id-2 {color: black;background-color: white;}#sk-container-id-2 pre{padding: 0;}#sk-container-id-2 div.sk-toggleable {background-color: white;}#sk-container-id-2 label.sk-toggleable__label {cursor: pointer;display: block;width: 100%;margin-bottom: 0;padding: 0.3em;box-sizing: border-box;text-align: center;}#sk-container-id-2 label.sk-toggleable__label-arrow:before {content: \"▸\";float: left;margin-right: 0.25em;color: #696969;}#sk-container-id-2 label.sk-toggleable__label-arrow:hover:before {color: black;}#sk-container-id-2 div.sk-estimator:hover label.sk-toggleable__label-arrow:before {color: black;}#sk-container-id-2 div.sk-toggleable__content {max-height: 0;max-width: 0;overflow: hidden;text-align: left;background-color: #f0f8ff;}#sk-container-id-2 div.sk-toggleable__content pre {margin: 0.2em;color: black;border-radius: 0.25em;background-color: #f0f8ff;}#sk-container-id-2 input.sk-toggleable__control:checked~div.sk-toggleable__content {max-height: 200px;max-width: 100%;overflow: auto;}#sk-container-id-2 input.sk-toggleable__control:checked~label.sk-toggleable__label-arrow:before {content: \"▾\";}#sk-container-id-2 div.sk-estimator input.sk-toggleable__control:checked~label.sk-toggleable__label {background-color: #d4ebff;}#sk-container-id-2 div.sk-label input.sk-toggleable__control:checked~label.sk-toggleable__label {background-color: #d4ebff;}#sk-container-id-2 input.sk-hidden--visually {border: 0;clip: rect(1px 1px 1px 1px);clip: rect(1px, 1px, 1px, 1px);height: 1px;margin: -1px;overflow: hidden;padding: 0;position: absolute;width: 1px;}#sk-container-id-2 div.sk-estimator {font-family: monospace;background-color: #f0f8ff;border: 1px dotted black;border-radius: 0.25em;box-sizing: border-box;margin-bottom: 0.5em;}#sk-container-id-2 div.sk-estimator:hover {background-color: #d4ebff;}#sk-container-id-2 div.sk-parallel-item::after {content: \"\";width: 100%;border-bottom: 1px solid gray;flex-grow: 1;}#sk-container-id-2 div.sk-label:hover label.sk-toggleable__label {background-color: #d4ebff;}#sk-container-id-2 div.sk-serial::before {content: \"\";position: absolute;border-left: 1px solid gray;box-sizing: border-box;top: 0;bottom: 0;left: 50%;z-index: 0;}#sk-container-id-2 div.sk-serial {display: flex;flex-direction: column;align-items: center;background-color: white;padding-right: 0.2em;padding-left: 0.2em;position: relative;}#sk-container-id-2 div.sk-item {position: relative;z-index: 1;}#sk-container-id-2 div.sk-parallel {display: flex;align-items: stretch;justify-content: center;background-color: white;position: relative;}#sk-container-id-2 div.sk-item::before, #sk-container-id-2 div.sk-parallel-item::before {content: \"\";position: absolute;border-left: 1px solid gray;box-sizing: border-box;top: 0;bottom: 0;left: 50%;z-index: -1;}#sk-container-id-2 div.sk-parallel-item {display: flex;flex-direction: column;z-index: 1;position: relative;background-color: white;}#sk-container-id-2 div.sk-parallel-item:first-child::after {align-self: flex-end;width: 50%;}#sk-container-id-2 div.sk-parallel-item:last-child::after {align-self: flex-start;width: 50%;}#sk-container-id-2 div.sk-parallel-item:only-child::after {width: 0;}#sk-container-id-2 div.sk-dashed-wrapped {border: 1px dashed gray;margin: 0 0.4em 0.5em 0.4em;box-sizing: border-box;padding-bottom: 0.4em;background-color: white;}#sk-container-id-2 div.sk-label label {font-family: monospace;font-weight: bold;display: inline-block;line-height: 1.2em;}#sk-container-id-2 div.sk-label-container {text-align: center;}#sk-container-id-2 div.sk-container {/* jupyter's `normalize.less` sets `[hidden] { display: none; }` but bootstrap.min.css set `[hidden] { display: none !important; }` so we also need the `!important` here to be able to override the default hidden behavior on the sphinx rendered scikit-learn.org. See: https://github.com/scikit-learn/scikit-learn/issues/21755 */display: inline-block !important;position: relative;}#sk-container-id-2 div.sk-text-repr-fallback {display: none;}</style><div id=\"sk-container-id-2\" class=\"sk-top-container\"><div class=\"sk-text-repr-fallback\"><pre>HistGradientBoostingRegressor(random_state=0)</pre><b>In a Jupyter environment, please rerun this cell to show the HTML representation or trust the notebook. <br />On GitHub, the HTML representation is unable to render, please try loading this page with nbviewer.org.</b></div><div class=\"sk-container\" hidden><div class=\"sk-item\"><div class=\"sk-estimator sk-toggleable\"><input class=\"sk-toggleable__control sk-hidden--visually\" id=\"sk-estimator-id-2\" type=\"checkbox\" checked><label for=\"sk-estimator-id-2\" class=\"sk-toggleable__label sk-toggleable__label-arrow\">HistGradientBoostingRegressor</label><div class=\"sk-toggleable__content\"><pre>HistGradientBoostingRegressor(random_state=0)</pre></div></div></div></div></div>"
     },
     "execution_count": 20,
     "metadata": {},
     "output_type": "execute_result"
    }
   ],
   "source": [
    "hgb.fit(X_train, y_train)"
   ],
   "metadata": {
    "collapsed": false,
    "pycharm": {
     "name": "#%%\n"
    }
   }
  },
  {
   "cell_type": "code",
   "execution_count": 21,
   "outputs": [
    {
     "name": "stdout",
     "output_type": "stream",
     "text": [
      "0.07018701410615702\n"
     ]
    }
   ],
   "source": [
    "print(hgb.score(X_test, y_test))"
   ],
   "metadata": {
    "collapsed": false,
    "pycharm": {
     "name": "#%%\n"
    }
   }
  },
  {
   "cell_type": "code",
   "execution_count": 22,
   "outputs": [
    {
     "name": "stdout",
     "output_type": "stream",
     "text": [
      "0.09402684518604798\n"
     ]
    }
   ],
   "source": [
    "print(hgb.score(X_train, y_train))"
   ],
   "metadata": {
    "collapsed": false,
    "pycharm": {
     "name": "#%%\n"
    }
   }
  },
  {
   "cell_type": "code",
   "execution_count": 23,
   "outputs": [],
   "source": [
    "y_pred = hgb.predict(X_test)"
   ],
   "metadata": {
    "collapsed": false,
    "pycharm": {
     "name": "#%%\n"
    }
   }
  },
  {
   "cell_type": "code",
   "execution_count": 24,
   "outputs": [
    {
     "data": {
      "text/plain": "array([3.54843724, 3.5840094 , 3.49207883, ..., 3.39326735, 3.37404638,\n       3.86590447])"
     },
     "execution_count": 24,
     "metadata": {},
     "output_type": "execute_result"
    }
   ],
   "source": [
    "y_pred"
   ],
   "metadata": {
    "collapsed": false,
    "pycharm": {
     "name": "#%%\n"
    }
   }
  },
  {
   "cell_type": "code",
   "execution_count": 25,
   "outputs": [
    {
     "name": "stdout",
     "output_type": "stream",
     "text": [
      "0.8508620798953698\n"
     ]
    }
   ],
   "source": [
    "print(mean_absolute_error(y_test, y_pred))"
   ],
   "metadata": {
    "collapsed": false,
    "pycharm": {
     "name": "#%%\n"
    }
   }
  },
  {
   "cell_type": "markdown",
   "source": [
    "Implementation in TensorFlow, Version One"
   ],
   "metadata": {
    "collapsed": false,
    "pycharm": {
     "name": "#%% md\n"
    }
   }
  },
  {
   "cell_type": "code",
   "execution_count": 26,
   "outputs": [],
   "source": [
    "all_users = train[\"user_id\"].unique()\n",
    "all_movies = train[\"movie_id\"].unique()"
   ],
   "metadata": {
    "collapsed": false,
    "pycharm": {
     "name": "#%%\n"
    }
   }
  },
  {
   "cell_type": "code",
   "execution_count": 31,
   "outputs": [
    {
     "data": {
      "text/plain": "array([6040, 6039, 6038, ...,   27,   26,   25])"
     },
     "execution_count": 31,
     "metadata": {},
     "output_type": "execute_result"
    }
   ],
   "source": [
    "all_users"
   ],
   "metadata": {
    "collapsed": false,
    "pycharm": {
     "name": "#%%\n"
    }
   }
  },
  {
   "cell_type": "code",
   "execution_count": 32,
   "outputs": [
    {
     "data": {
      "text/plain": "array([ 858, 2384,  593, ...,  826,  576, 3280])"
     },
     "execution_count": 32,
     "metadata": {},
     "output_type": "execute_result"
    }
   ],
   "source": [
    "all_movies"
   ],
   "metadata": {
    "collapsed": false,
    "pycharm": {
     "name": "#%%\n"
    }
   }
  },
  {
   "cell_type": "code",
   "execution_count": 27,
   "outputs": [],
   "source": [
    "import tensorflow as tf"
   ],
   "metadata": {
    "collapsed": false,
    "pycharm": {
     "name": "#%%\n"
    }
   }
  },
  {
   "cell_type": "code",
   "execution_count": 33,
   "outputs": [],
   "source": [
    "user_input = tf.keras.layers.Input(shape=(1,), name=\"user\")\n",
    "user_as_integer = tf.keras.layers.IntegerLookup(vocabulary=all_users)(user_input)\n",
    "user_embedding = tf.keras.layers.Embedding(input_dim=len(all_users) + 1, output_dim=32)(user_as_integer)"
   ],
   "metadata": {
    "collapsed": false,
    "pycharm": {
     "name": "#%%\n"
    }
   }
  },
  {
   "cell_type": "code",
   "execution_count": 35,
   "outputs": [],
   "source": [
    "movie_input = tf.keras.layers.Input(shape=(1,), name=\"movie\")\n",
    "movie_as_integer = tf.keras.layers.IntegerLookup(vocabulary=all_movies)(movie_input)\n",
    "movie_embedding = tf.keras.layers.Embedding(input_dim=len(all_movies) + 1, output_dim=32)(movie_as_integer)"
   ],
   "metadata": {
    "collapsed": false,
    "pycharm": {
     "name": "#%%\n"
    }
   }
  },
  {
   "cell_type": "code",
   "execution_count": 36,
   "outputs": [],
   "source": [
    "dot = tf.keras.layers.Dot(axes=2)([user_embedding, movie_embedding])\n",
    "flatten = tf.keras.layers.Flatten()(dot)"
   ],
   "metadata": {
    "collapsed": false,
    "pycharm": {
     "name": "#%%\n"
    }
   }
  },
  {
   "cell_type": "code",
   "execution_count": 37,
   "outputs": [],
   "source": [
    "model = tf.keras.Model(inputs=[user_input, movie_input], outputs=flatten)\n",
    "\n",
    "model.compile(loss=\"mse\", metrics=[tf.keras.metrics.MeanAbsoluteError()])"
   ],
   "metadata": {
    "collapsed": false,
    "pycharm": {
     "name": "#%%\n"
    }
   }
  },
  {
   "cell_type": "code",
   "execution_count": null,
   "outputs": [
    {
     "name": "stdout",
     "output_type": "stream",
     "text": [
      "Epoch 1/100\n",
      "3165/3165 [==============================] - 15s 4ms/step - loss: 8.9111 - mean_absolute_error: 2.6080 - val_loss: 12.1811 - val_mean_absolute_error: 3.1907\n",
      "Epoch 2/100\n",
      "3165/3165 [==============================] - 13s 4ms/step - loss: 1.6741 - mean_absolute_error: 0.9783 - val_loss: 11.7479 - val_mean_absolute_error: 3.0751\n",
      "Epoch 3/100\n",
      "3165/3165 [==============================] - 12s 4ms/step - loss: 1.0750 - mean_absolute_error: 0.7958 - val_loss: 11.6230 - val_mean_absolute_error: 3.0443\n",
      "Epoch 4/100\n",
      "3165/3165 [==============================] - 12s 4ms/step - loss: 0.9382 - mean_absolute_error: 0.7504 - val_loss: 11.5565 - val_mean_absolute_error: 3.0279\n",
      "Epoch 5/100\n",
      "2095/3165 [==================>...........] - ETA: 3s - loss: 0.8903 - mean_absolute_error: 0.7329"
     ]
    }
   ],
   "source": [
    "model.fit(\n",
    "    x={\n",
    "        \"user\": X_train[\"user_id\"],\n",
    "        \"movie\": X_train[\"movie_id\"]\n",
    "    },\n",
    "    y=y_train.values,\n",
    "    batch_size=256,\n",
    "    epochs=100,\n",
    "    validation_split=0.1, # for early stopping\n",
    "    callbacks=[\n",
    "        tf.keras.callbacks.EarlyStopping(patience=1, restore_best_weights=True)\n",
    "    ],\n",
    ")\n"
   ],
   "metadata": {
    "collapsed": false,
    "pycharm": {
     "name": "#%%\n",
     "is_executing": true
    }
   }
  },
  {
   "cell_type": "code",
   "execution_count": null,
   "outputs": [],
   "source": [],
   "metadata": {
    "collapsed": false,
    "pycharm": {
     "name": "#%%\n"
    }
   }
  },
  {
   "cell_type": "code",
   "execution_count": null,
   "outputs": [],
   "source": [],
   "metadata": {
    "collapsed": false,
    "pycharm": {
     "name": "#%%\n"
    }
   }
  },
  {
   "cell_type": "code",
   "execution_count": 30,
   "outputs": [
    {
     "data": {
      "text/plain": "keras.engine.keras_tensor.KerasTensor"
     },
     "execution_count": 30,
     "metadata": {},
     "output_type": "execute_result"
    }
   ],
   "source": [
    "type(user_input)"
   ],
   "metadata": {
    "collapsed": false,
    "pycharm": {
     "name": "#%%\n"
    }
   }
  },
  {
   "cell_type": "code",
   "execution_count": null,
   "outputs": [],
   "source": [],
   "metadata": {
    "collapsed": false,
    "pycharm": {
     "name": "#%%\n"
    }
   }
  },
  {
   "cell_type": "code",
   "execution_count": null,
   "outputs": [],
   "source": [],
   "metadata": {
    "collapsed": false,
    "pycharm": {
     "name": "#%%\n"
    }
   }
  },
  {
   "cell_type": "code",
   "execution_count": null,
   "outputs": [],
   "source": [],
   "metadata": {
    "collapsed": false,
    "pycharm": {
     "name": "#%%\n"
    }
   }
  }
 ],
 "metadata": {
  "kernelspec": {
   "display_name": "Python 3",
   "language": "python",
   "name": "python3"
  },
  "language_info": {
   "codemirror_mode": {
    "name": "ipython",
    "version": 2
   },
   "file_extension": ".py",
   "mimetype": "text/x-python",
   "name": "python",
   "nbconvert_exporter": "python",
   "pygments_lexer": "ipython2",
   "version": "2.7.6"
  }
 },
 "nbformat": 4,
 "nbformat_minor": 0
}
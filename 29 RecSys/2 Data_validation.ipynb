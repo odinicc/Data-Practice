{
 "cells": [
  {
   "cell_type": "markdown",
   "metadata": {
    "papermill": {
     "duration": 0.043203,
     "end_time": "2020-10-25T07:01:24.222229",
     "exception": false,
     "start_time": "2020-10-25T07:01:24.179026",
     "status": "completed"
    },
    "tags": [],
    "pycharm": {
     "name": "#%% md\n"
    }
   },
   "source": [
    "# Metrics, validation strategies and baselines\n",
    "\n",
    "В данном jupyter notebook рассматриваются примеры того, какие схемы валидации и метрики используются в рекомендательных системах.\n",
    "Также построим простые модели (бейзлайны) на данных МТС Библиотеки. \n",
    "\n",
    "* [Preprocessing](#preprocessing)\n",
    "* [General remarks](#general-remarks)\n",
    "* [Metrics](#metrics)\n",
    "    * [Regression](#regression)\n",
    "    * [Classification](#classification)\n",
    "    * [Ranking](#ranking)\n",
    "* [Validation strategies](#validation)\n",
    "* [Baselines](#baselines)"
   ]
  },
  {
   "cell_type": "code",
   "execution_count": 1,
   "metadata": {
    "_cell_guid": "b1076dfc-b9ad-4769-8c92-a6c4dae69d19",
    "_kg_hide-input": true,
    "_uuid": "8f2839f25d086af736a60e9eeb907d3b93b6e0e5",
    "execution": {
     "iopub.execute_input": "2020-10-25T07:01:24.311769Z",
     "iopub.status.busy": "2020-10-25T07:01:24.311271Z",
     "iopub.status.idle": "2020-10-25T07:01:24.329979Z",
     "shell.execute_reply": "2020-10-25T07:01:24.329585Z"
    },
    "papermill": {
     "duration": 0.066139,
     "end_time": "2020-10-25T07:01:24.330062",
     "exception": false,
     "start_time": "2020-10-25T07:01:24.263923",
     "status": "completed"
    },
    "tags": [],
    "pycharm": {
     "name": "#%%\n"
    }
   },
   "outputs": [],
   "source": [
    "import os\n",
    "import numpy as np \n",
    "import pandas as pd \n",
    "from itertools import islice, cycle\n",
    "from more_itertools import pairwise\n",
    "\n"
   ]
  },
  {
   "cell_type": "markdown",
   "metadata": {
    "papermill": {
     "duration": 0.041416,
     "end_time": "2020-10-25T07:01:24.414765",
     "exception": false,
     "start_time": "2020-10-25T07:01:24.373349",
     "status": "completed"
    },
    "tags": [],
    "pycharm": {
     "name": "#%% md\n"
    }
   },
   "source": [
    "<a id=\"preprocessing\"></a>\n",
    "# Preprocessing\n",
    "\n",
    "Загрузим наши данные, теперь уже с фичами, и применим знания из [pandas-scipy-for-recsys](https://www.kaggle.com/sharthz23/pandas-scipy-for-recsys)"
   ]
  },
  {
   "cell_type": "code",
   "execution_count": 2,
   "metadata": {
    "execution": {
     "iopub.execute_input": "2020-10-25T07:01:24.502698Z",
     "iopub.status.busy": "2020-10-25T07:01:24.502203Z",
     "iopub.status.idle": "2020-10-25T07:01:26.303449Z",
     "shell.execute_reply": "2020-10-25T07:01:26.302965Z"
    },
    "papermill": {
     "duration": 1.846902,
     "end_time": "2020-10-25T07:01:26.303534",
     "exception": false,
     "start_time": "2020-10-25T07:01:24.456632",
     "status": "completed"
    },
    "tags": [],
    "pycharm": {
     "name": "#%%\n"
    }
   },
   "outputs": [],
   "source": [
    "df = pd.read_pickle('./interactions_preprocessed.pickle')\n",
    "df_users = pd.read_pickle('./users_preprocessed.pickle')\n",
    "df_items = pd.read_pickle('./items_preprocessed.pickle')"
   ]
  },
  {
   "cell_type": "code",
   "execution_count": 3,
   "outputs": [],
   "source": [
    "test_dates = df['start_date'].unique()[-7:]\n",
    "\n"
   ],
   "metadata": {
    "collapsed": false,
    "pycharm": {
     "name": "#%%\n"
    }
   }
  },
  {
   "cell_type": "code",
   "execution_count": 4,
   "outputs": [
    {
     "data": {
      "text/plain": "[(numpy.datetime64('2019-12-25T00:00:00.000000000'),\n  numpy.datetime64('2019-12-26T00:00:00.000000000')),\n (numpy.datetime64('2019-12-26T00:00:00.000000000'),\n  numpy.datetime64('2019-12-27T00:00:00.000000000')),\n (numpy.datetime64('2019-12-27T00:00:00.000000000'),\n  numpy.datetime64('2019-12-28T00:00:00.000000000')),\n (numpy.datetime64('2019-12-28T00:00:00.000000000'),\n  numpy.datetime64('2019-12-29T00:00:00.000000000')),\n (numpy.datetime64('2019-12-29T00:00:00.000000000'),\n  numpy.datetime64('2019-12-30T00:00:00.000000000')),\n (numpy.datetime64('2019-12-30T00:00:00.000000000'),\n  numpy.datetime64('2019-12-31T00:00:00.000000000'))]"
     },
     "execution_count": 4,
     "metadata": {},
     "output_type": "execute_result"
    }
   ],
   "source": [
    "test_dates = list(pairwise(test_dates))\n",
    "test_dates"
   ],
   "metadata": {
    "collapsed": false,
    "pycharm": {
     "name": "#%%\n"
    }
   }
  },
  {
   "cell_type": "code",
   "execution_count": 5,
   "outputs": [],
   "source": [
    "split_dates = test_dates[0]"
   ],
   "metadata": {
    "collapsed": false,
    "pycharm": {
     "name": "#%%\n"
    }
   }
  },
  {
   "cell_type": "code",
   "execution_count": 6,
   "outputs": [],
   "source": [
    "train = df[df['start_date'] < split_dates[0]]"
   ],
   "metadata": {
    "collapsed": false,
    "pycharm": {
     "name": "#%%\n"
    }
   }
  },
  {
   "cell_type": "code",
   "execution_count": 7,
   "outputs": [],
   "source": [
    "test = df[(df['start_date'] >= split_dates[0]) & (df['start_date'] < split_dates[1])]"
   ],
   "metadata": {
    "collapsed": false,
    "pycharm": {
     "name": "#%%\n"
    }
   }
  },
  {
   "cell_type": "code",
   "execution_count": 8,
   "outputs": [],
   "source": [
    "test = test[(test['rating'] >= 4) | (test['rating'].isnull())]"
   ],
   "metadata": {
    "collapsed": false,
    "pycharm": {
     "name": "#%%\n"
    }
   }
  },
  {
   "cell_type": "code",
   "execution_count": 9,
   "outputs": [
    {
     "data": {
      "text/plain": "((numpy.datetime64('2019-12-25T00:00:00.000000000'),\n  numpy.datetime64('2019-12-26T00:00:00.000000000')),\n (1517994, 5),\n (2114, 5))"
     },
     "execution_count": 9,
     "metadata": {},
     "output_type": "execute_result"
    }
   ],
   "source": [
    "split_dates, train.shape, test.shape\n"
   ],
   "metadata": {
    "collapsed": false,
    "pycharm": {
     "name": "#%%\n"
    }
   }
  },
  {
   "cell_type": "markdown",
   "source": [
    "<a id=\"baselines\"></a>\n",
    "# Baselines\n",
    "\n",
    "Самым популярным бейзлайном является просто построение популярного :)\n",
    "Гиперпараметром такой модели может быть например окно, за которое мы считаем популярное.\n",
    "\n",
    "Модель можно расширять засчет учета фичей, чтобы считать популярное в рамках каких-то групп.\n",
    "\n",
    "Но на самом деле бейзлайны в первую очередь зависят от типа данных. В некоторых случаях это могут быть простые модели (или даже бизнес-правила), которые просто учитывают контекст задачи."
   ],
   "metadata": {
    "collapsed": false,
    "pycharm": {
     "name": "#%% md\n"
    }
   }
  },
  {
   "cell_type": "code",
   "execution_count": 10,
   "outputs": [],
   "source": [
    "class PopularRecommender():\n",
    "    def __init__(self, max_K=100, days=30, item_column='item_id', dt_column='date'):\n",
    "        self.max_K = max_K\n",
    "        self.days = days\n",
    "        self.item_column = item_column\n",
    "        self.dt_column = dt_column\n",
    "        self.recommendations = []\n",
    "\n",
    "    def fit(self, df, ):\n",
    "        min_date = df[self.dt_column].max().normalize() - pd.DateOffset(days=self.days)\n",
    "        self.recommendations = df.loc[df[self.dt_column] > min_date, self.item_column].value_counts().head(self.max_K).index.values\n",
    "\n",
    "    def recommend(self, users=None, N=10):\n",
    "        recs = self.recommendations[:N]\n",
    "        if users is None:\n",
    "            return recs\n",
    "        else:\n",
    "            return list(islice(cycle([recs]), len(users)))"
   ],
   "metadata": {
    "collapsed": false,
    "pycharm": {
     "name": "#%%\n"
    }
   }
  },
  {
   "cell_type": "code",
   "execution_count": 11,
   "outputs": [],
   "source": [
    "pop_model = PopularRecommender(days=77, dt_column='start_date')"
   ],
   "metadata": {
    "collapsed": false,
    "pycharm": {
     "name": "#%%\n"
    }
   }
  },
  {
   "cell_type": "code",
   "execution_count": 12,
   "outputs": [
    {
     "data": {
      "text/plain": "{'max_K': 100,\n 'days': 77,\n 'item_column': 'item_id',\n 'dt_column': 'start_date',\n 'recommendations': []}"
     },
     "execution_count": 12,
     "metadata": {},
     "output_type": "execute_result"
    }
   ],
   "source": [
    "vars(pop_model)"
   ],
   "metadata": {
    "collapsed": false,
    "pycharm": {
     "name": "#%%\n"
    }
   }
  },
  {
   "cell_type": "code",
   "execution_count": 13,
   "outputs": [],
   "source": [
    "pop_model.fit(train)"
   ],
   "metadata": {
    "collapsed": false,
    "pycharm": {
     "name": "#%%\n"
    }
   }
  },
  {
   "cell_type": "code",
   "execution_count": 14,
   "outputs": [
    {
     "data": {
      "text/plain": "{'max_K': 100,\n 'days': 77,\n 'item_column': 'item_id',\n 'dt_column': 'start_date',\n 'recommendations': array([109201, 230067, 235407,  35265, 155266, 237760, 291806, 151190,\n        270415, 285394, 218025, 115190, 147734, 282647, 208935, 271846,\n         74650, 281005, 168037, 135032, 168900, 219099, 288531,  75579,\n        226196,  96052,   9197, 169853, 312940, 103077,  99616,  63978,\n          6136, 311394,  86588,  43622, 295007, 110811, 104010, 176898,\n        210979,  48510, 107522,  55913,  67643, 181955,  30772, 141961,\n        233762, 126581, 247959,  93249, 238200,  39878, 276498, 238856,\n        303990,  86123,   5001,   8875,  31454, 241026,  28889, 209326,\n        265984,  26963, 231923, 211217, 243711, 121687,  90674, 108759,\n        232317, 163618, 251856,  11424, 233644,  58803, 240571,  49352,\n        231257,  12301, 297013, 145016,  65912,  99357, 181857, 226128,\n         81827,  35226, 121544, 206185, 312792,  90225,  34363, 223806,\n        222102, 250772,  25173, 229749], dtype=int64)}"
     },
     "execution_count": 14,
     "metadata": {},
     "output_type": "execute_result"
    }
   ],
   "source": [
    "vars(pop_model)"
   ],
   "metadata": {
    "collapsed": false,
    "pycharm": {
     "name": "#%%\n"
    }
   }
  },
  {
   "cell_type": "code",
   "execution_count": 15,
   "outputs": [
    {
     "data": {
      "text/plain": "array([109201, 230067, 235407,  35265, 155266, 237760, 291806, 151190,\n       270415, 285394, 218025, 115190, 147734, 282647, 208935, 271846,\n        74650, 281005, 168037, 135032, 168900, 219099, 288531,  75579,\n       226196,  96052,   9197, 169853, 312940, 103077,  99616,  63978,\n         6136, 311394,  86588,  43622, 295007, 110811, 104010, 176898,\n       210979,  48510, 107522,  55913,  67643, 181955,  30772, 141961,\n       233762, 126581, 247959,  93249, 238200,  39878, 276498, 238856,\n       303990,  86123,   5001,   8875,  31454, 241026,  28889, 209326,\n       265984,  26963, 231923, 211217, 243711, 121687,  90674, 108759,\n       232317, 163618, 251856,  11424, 233644,  58803, 240571,  49352,\n       231257,  12301, 297013, 145016,  65912,  99357, 181857, 226128,\n        81827,  35226, 121544, 206185, 312792,  90225,  34363, 223806,\n       222102, 250772,  25173, 229749], dtype=int64)"
     },
     "execution_count": 15,
     "metadata": {},
     "output_type": "execute_result"
    }
   ],
   "source": [
    "pop_model.recommendations"
   ],
   "metadata": {
    "collapsed": false,
    "pycharm": {
     "name": "#%%\n"
    }
   }
  },
  {
   "cell_type": "code",
   "execution_count": 16,
   "outputs": [
    {
     "data": {
      "text/plain": "77"
     },
     "execution_count": 16,
     "metadata": {},
     "output_type": "execute_result"
    }
   ],
   "source": [
    "pop_model.days"
   ],
   "metadata": {
    "collapsed": false,
    "pycharm": {
     "name": "#%%\n"
    }
   }
  },
  {
   "cell_type": "code",
   "execution_count": 16,
   "outputs": [],
   "source": [],
   "metadata": {
    "collapsed": false,
    "pycharm": {
     "name": "#%%\n"
    }
   }
  },
  {
   "cell_type": "code",
   "execution_count": 17,
   "outputs": [],
   "source": [
    "item_titles = dict(zip(df_items.id,df_items.title))"
   ],
   "metadata": {
    "collapsed": false,
    "pycharm": {
     "name": "#%%\n"
    }
   }
  },
  {
   "cell_type": "code",
   "execution_count": 18,
   "outputs": [
    {
     "data": {
      "text/plain": "'Ворон-челобитчик'"
     },
     "execution_count": 18,
     "metadata": {},
     "output_type": "execute_result"
    }
   ],
   "source": [
    "item_titles[128115]"
   ],
   "metadata": {
    "collapsed": false,
    "pycharm": {
     "name": "#%%\n"
    }
   }
  },
  {
   "cell_type": "code",
   "execution_count": 19,
   "outputs": [
    {
     "name": "stdout",
     "output_type": "stream",
     "text": [
      "Ворон-челобитчик\n"
     ]
    }
   ],
   "source": [
    "print(item_titles.get(128115))"
   ],
   "metadata": {
    "collapsed": false,
    "pycharm": {
     "name": "#%%\n"
    }
   }
  },
  {
   "cell_type": "code",
   "execution_count": 19,
   "outputs": [],
   "source": [],
   "metadata": {
    "collapsed": false,
    "pycharm": {
     "name": "#%%\n"
    }
   }
  },
  {
   "cell_type": "code",
   "execution_count": 20,
   "outputs": [
    {
     "data": {
      "text/plain": "array([109201, 230067, 235407,  35265, 155266, 237760, 291806, 151190,\n       270415, 285394], dtype=int64)"
     },
     "execution_count": 20,
     "metadata": {},
     "output_type": "execute_result"
    }
   ],
   "source": [
    "top10_recs = pop_model.recommend()\n",
    "top10_recs"
   ],
   "metadata": {
    "collapsed": false,
    "pycharm": {
     "name": "#%%\n"
    }
   }
  },
  {
   "cell_type": "code",
   "execution_count": 21,
   "outputs": [
    {
     "data": {
      "text/plain": "<map at 0x2d6c0afe080>"
     },
     "execution_count": 21,
     "metadata": {},
     "output_type": "execute_result"
    }
   ],
   "source": [
    "map(item_titles.get, top10_recs)"
   ],
   "metadata": {
    "collapsed": false,
    "pycharm": {
     "name": "#%%\n"
    }
   }
  },
  {
   "cell_type": "code",
   "execution_count": 21,
   "outputs": [],
   "source": [],
   "metadata": {
    "collapsed": false,
    "pycharm": {
     "name": "#%%\n"
    }
   }
  },
  {
   "cell_type": "code",
   "execution_count": 22,
   "outputs": [
    {
     "data": {
      "text/plain": "['Яблоки из сада Шлицбутера',\n 'Кавказский пленник',\n 'Пикник на обочине',\n 'Записки юного врача',\n 'О любви',\n 'Русские народные сказки',\n 'Женская война',\n 'История государства Российского. Том 2. От Великого князя Святополка до Великого князя Мстислава Изяславовича',\n 'Черный человек',\n 'Хитрость']"
     },
     "execution_count": 22,
     "metadata": {},
     "output_type": "execute_result"
    }
   ],
   "source": [
    "list(map(item_titles.get, top10_recs))"
   ],
   "metadata": {
    "collapsed": false,
    "pycharm": {
     "name": "#%%\n"
    }
   }
  },
  {
   "cell_type": "code",
   "execution_count": 23,
   "outputs": [],
   "source": [
    "# create datframe with user_id fo recs\n",
    "recs = pd.DataFrame({'user_id': test['user_id'].unique()})\n"
   ],
   "metadata": {
    "collapsed": false,
    "pycharm": {
     "name": "#%%\n"
    }
   }
  },
  {
   "cell_type": "code",
   "execution_count": 24,
   "outputs": [
    {
     "data": {
      "text/plain": "   user_id\n0    38753\n1   101642",
      "text/html": "<div>\n<style scoped>\n    .dataframe tbody tr th:only-of-type {\n        vertical-align: middle;\n    }\n\n    .dataframe tbody tr th {\n        vertical-align: top;\n    }\n\n    .dataframe thead th {\n        text-align: right;\n    }\n</style>\n<table border=\"1\" class=\"dataframe\">\n  <thead>\n    <tr style=\"text-align: right;\">\n      <th></th>\n      <th>user_id</th>\n    </tr>\n  </thead>\n  <tbody>\n    <tr>\n      <th>0</th>\n      <td>38753</td>\n    </tr>\n    <tr>\n      <th>1</th>\n      <td>101642</td>\n    </tr>\n  </tbody>\n</table>\n</div>"
     },
     "execution_count": 24,
     "metadata": {},
     "output_type": "execute_result"
    }
   ],
   "source": [
    "recs.head(2)"
   ],
   "metadata": {
    "collapsed": false,
    "pycharm": {
     "name": "#%%\n"
    }
   }
  },
  {
   "cell_type": "code",
   "execution_count": 25,
   "outputs": [
    {
     "data": {
      "text/plain": "   user_id                                            item_id\n0    38753  [109201, 230067, 235407, 35265, 155266, 237760...\n1   101642  [109201, 230067, 235407, 35265, 155266, 237760...\n2    13548  [109201, 230067, 235407, 35265, 155266, 237760...\n3   130425  [109201, 230067, 235407, 35265, 155266, 237760...\n4    93986  [109201, 230067, 235407, 35265, 155266, 237760...",
      "text/html": "<div>\n<style scoped>\n    .dataframe tbody tr th:only-of-type {\n        vertical-align: middle;\n    }\n\n    .dataframe tbody tr th {\n        vertical-align: top;\n    }\n\n    .dataframe thead th {\n        text-align: right;\n    }\n</style>\n<table border=\"1\" class=\"dataframe\">\n  <thead>\n    <tr style=\"text-align: right;\">\n      <th></th>\n      <th>user_id</th>\n      <th>item_id</th>\n    </tr>\n  </thead>\n  <tbody>\n    <tr>\n      <th>0</th>\n      <td>38753</td>\n      <td>[109201, 230067, 235407, 35265, 155266, 237760...</td>\n    </tr>\n    <tr>\n      <th>1</th>\n      <td>101642</td>\n      <td>[109201, 230067, 235407, 35265, 155266, 237760...</td>\n    </tr>\n    <tr>\n      <th>2</th>\n      <td>13548</td>\n      <td>[109201, 230067, 235407, 35265, 155266, 237760...</td>\n    </tr>\n    <tr>\n      <th>3</th>\n      <td>130425</td>\n      <td>[109201, 230067, 235407, 35265, 155266, 237760...</td>\n    </tr>\n    <tr>\n      <th>4</th>\n      <td>93986</td>\n      <td>[109201, 230067, 235407, 35265, 155266, 237760...</td>\n    </tr>\n  </tbody>\n</table>\n</div>"
     },
     "execution_count": 25,
     "metadata": {},
     "output_type": "execute_result"
    }
   ],
   "source": [
    "\n",
    "top_N = 10\n",
    "recs['item_id'] = pop_model.recommend(recs['user_id'], N=top_N)\n",
    "recs.head()"
   ],
   "metadata": {
    "collapsed": false,
    "pycharm": {
     "name": "#%%\n"
    }
   }
  },
  {
   "cell_type": "code",
   "execution_count": 26,
   "outputs": [
    {
     "data": {
      "text/plain": "   user_id item_id\n0    38753  109201\n0    38753  230067\n0    38753  235407\n0    38753   35265\n0    38753  155266\n0    38753  237760\n0    38753  291806\n0    38753  151190\n0    38753  270415\n0    38753  285394\n1   101642  109201\n1   101642  230067",
      "text/html": "<div>\n<style scoped>\n    .dataframe tbody tr th:only-of-type {\n        vertical-align: middle;\n    }\n\n    .dataframe tbody tr th {\n        vertical-align: top;\n    }\n\n    .dataframe thead th {\n        text-align: right;\n    }\n</style>\n<table border=\"1\" class=\"dataframe\">\n  <thead>\n    <tr style=\"text-align: right;\">\n      <th></th>\n      <th>user_id</th>\n      <th>item_id</th>\n    </tr>\n  </thead>\n  <tbody>\n    <tr>\n      <th>0</th>\n      <td>38753</td>\n      <td>109201</td>\n    </tr>\n    <tr>\n      <th>0</th>\n      <td>38753</td>\n      <td>230067</td>\n    </tr>\n    <tr>\n      <th>0</th>\n      <td>38753</td>\n      <td>235407</td>\n    </tr>\n    <tr>\n      <th>0</th>\n      <td>38753</td>\n      <td>35265</td>\n    </tr>\n    <tr>\n      <th>0</th>\n      <td>38753</td>\n      <td>155266</td>\n    </tr>\n    <tr>\n      <th>0</th>\n      <td>38753</td>\n      <td>237760</td>\n    </tr>\n    <tr>\n      <th>0</th>\n      <td>38753</td>\n      <td>291806</td>\n    </tr>\n    <tr>\n      <th>0</th>\n      <td>38753</td>\n      <td>151190</td>\n    </tr>\n    <tr>\n      <th>0</th>\n      <td>38753</td>\n      <td>270415</td>\n    </tr>\n    <tr>\n      <th>0</th>\n      <td>38753</td>\n      <td>285394</td>\n    </tr>\n    <tr>\n      <th>1</th>\n      <td>101642</td>\n      <td>109201</td>\n    </tr>\n    <tr>\n      <th>1</th>\n      <td>101642</td>\n      <td>230067</td>\n    </tr>\n  </tbody>\n</table>\n</div>"
     },
     "execution_count": 26,
     "metadata": {},
     "output_type": "execute_result"
    }
   ],
   "source": [
    "recs = recs.explode('item_id')\n",
    "recs.head(top_N + 2)"
   ],
   "metadata": {
    "collapsed": false,
    "pycharm": {
     "name": "#%%\n"
    }
   }
  },
  {
   "cell_type": "code",
   "execution_count": 27,
   "outputs": [
    {
     "data": {
      "text/plain": "   user_id item_id  rank\n0    38753  109201     1\n0    38753  230067     2\n0    38753  235407     3\n0    38753   35265     4\n0    38753  155266     5\n0    38753  237760     6\n0    38753  291806     7\n0    38753  151190     8\n0    38753  270415     9\n0    38753  285394    10\n1   101642  109201     1\n1   101642  230067     2",
      "text/html": "<div>\n<style scoped>\n    .dataframe tbody tr th:only-of-type {\n        vertical-align: middle;\n    }\n\n    .dataframe tbody tr th {\n        vertical-align: top;\n    }\n\n    .dataframe thead th {\n        text-align: right;\n    }\n</style>\n<table border=\"1\" class=\"dataframe\">\n  <thead>\n    <tr style=\"text-align: right;\">\n      <th></th>\n      <th>user_id</th>\n      <th>item_id</th>\n      <th>rank</th>\n    </tr>\n  </thead>\n  <tbody>\n    <tr>\n      <th>0</th>\n      <td>38753</td>\n      <td>109201</td>\n      <td>1</td>\n    </tr>\n    <tr>\n      <th>0</th>\n      <td>38753</td>\n      <td>230067</td>\n      <td>2</td>\n    </tr>\n    <tr>\n      <th>0</th>\n      <td>38753</td>\n      <td>235407</td>\n      <td>3</td>\n    </tr>\n    <tr>\n      <th>0</th>\n      <td>38753</td>\n      <td>35265</td>\n      <td>4</td>\n    </tr>\n    <tr>\n      <th>0</th>\n      <td>38753</td>\n      <td>155266</td>\n      <td>5</td>\n    </tr>\n    <tr>\n      <th>0</th>\n      <td>38753</td>\n      <td>237760</td>\n      <td>6</td>\n    </tr>\n    <tr>\n      <th>0</th>\n      <td>38753</td>\n      <td>291806</td>\n      <td>7</td>\n    </tr>\n    <tr>\n      <th>0</th>\n      <td>38753</td>\n      <td>151190</td>\n      <td>8</td>\n    </tr>\n    <tr>\n      <th>0</th>\n      <td>38753</td>\n      <td>270415</td>\n      <td>9</td>\n    </tr>\n    <tr>\n      <th>0</th>\n      <td>38753</td>\n      <td>285394</td>\n      <td>10</td>\n    </tr>\n    <tr>\n      <th>1</th>\n      <td>101642</td>\n      <td>109201</td>\n      <td>1</td>\n    </tr>\n    <tr>\n      <th>1</th>\n      <td>101642</td>\n      <td>230067</td>\n      <td>2</td>\n    </tr>\n  </tbody>\n</table>\n</div>"
     },
     "execution_count": 27,
     "metadata": {},
     "output_type": "execute_result"
    }
   ],
   "source": [
    "recs['rank'] = recs.groupby('user_id').cumcount() + 1\n",
    "recs.head(top_N + 2)"
   ],
   "metadata": {
    "collapsed": false,
    "pycharm": {
     "name": "#%%\n"
    }
   }
  },
  {
   "cell_type": "code",
   "execution_count": 28,
   "outputs": [],
   "source": [
    "recs.rename(columns={'rank':'predict_rank'} , inplace = True)"
   ],
   "metadata": {
    "collapsed": false,
    "pycharm": {
     "name": "#%%\n"
    }
   }
  },
  {
   "cell_type": "code",
   "execution_count": 29,
   "outputs": [
    {
     "data": {
      "text/plain": "   user_id item_id  predict_rank\n0    38753  109201             1\n0    38753  230067             2",
      "text/html": "<div>\n<style scoped>\n    .dataframe tbody tr th:only-of-type {\n        vertical-align: middle;\n    }\n\n    .dataframe tbody tr th {\n        vertical-align: top;\n    }\n\n    .dataframe thead th {\n        text-align: right;\n    }\n</style>\n<table border=\"1\" class=\"dataframe\">\n  <thead>\n    <tr style=\"text-align: right;\">\n      <th></th>\n      <th>user_id</th>\n      <th>item_id</th>\n      <th>predict_rank</th>\n    </tr>\n  </thead>\n  <tbody>\n    <tr>\n      <th>0</th>\n      <td>38753</td>\n      <td>109201</td>\n      <td>1</td>\n    </tr>\n    <tr>\n      <th>0</th>\n      <td>38753</td>\n      <td>230067</td>\n      <td>2</td>\n    </tr>\n  </tbody>\n</table>\n</div>"
     },
     "execution_count": 29,
     "metadata": {},
     "output_type": "execute_result"
    }
   ],
   "source": [
    "recs.head(2)"
   ],
   "metadata": {
    "collapsed": false,
    "pycharm": {
     "name": "#%%\n"
    }
   }
  },
  {
   "cell_type": "code",
   "execution_count": 30,
   "outputs": [
    {
     "data": {
      "text/plain": "         user_id  item_id  progress  rating start_date\n1517914    38753   135245         0     NaN 2019-12-25\n1517915   101642   319500        67     5.0 2019-12-25",
      "text/html": "<div>\n<style scoped>\n    .dataframe tbody tr th:only-of-type {\n        vertical-align: middle;\n    }\n\n    .dataframe tbody tr th {\n        vertical-align: top;\n    }\n\n    .dataframe thead th {\n        text-align: right;\n    }\n</style>\n<table border=\"1\" class=\"dataframe\">\n  <thead>\n    <tr style=\"text-align: right;\">\n      <th></th>\n      <th>user_id</th>\n      <th>item_id</th>\n      <th>progress</th>\n      <th>rating</th>\n      <th>start_date</th>\n    </tr>\n  </thead>\n  <tbody>\n    <tr>\n      <th>1517914</th>\n      <td>38753</td>\n      <td>135245</td>\n      <td>0</td>\n      <td>NaN</td>\n      <td>2019-12-25</td>\n    </tr>\n    <tr>\n      <th>1517915</th>\n      <td>101642</td>\n      <td>319500</td>\n      <td>67</td>\n      <td>5.0</td>\n      <td>2019-12-25</td>\n    </tr>\n  </tbody>\n</table>\n</div>"
     },
     "execution_count": 30,
     "metadata": {},
     "output_type": "execute_result"
    }
   ],
   "source": [
    "test.head(2)"
   ],
   "metadata": {
    "collapsed": false,
    "pycharm": {
     "name": "#%%\n"
    }
   }
  },
  {
   "cell_type": "code",
   "execution_count": 31,
   "outputs": [],
   "source": [
    "\n",
    "test_recs = test.merge(recs, how = 'left' , on = ['user_id','item_id'])"
   ],
   "metadata": {
    "collapsed": false,
    "pycharm": {
     "name": "#%%\n"
    }
   }
  },
  {
   "cell_type": "code",
   "execution_count": 32,
   "outputs": [
    {
     "data": {
      "text/plain": "   user_id item_id  progress  rating start_date  predict_rank\n0    38753  135245         0     NaN 2019-12-25           NaN\n1   101642  319500        67     5.0 2019-12-25           NaN",
      "text/html": "<div>\n<style scoped>\n    .dataframe tbody tr th:only-of-type {\n        vertical-align: middle;\n    }\n\n    .dataframe tbody tr th {\n        vertical-align: top;\n    }\n\n    .dataframe thead th {\n        text-align: right;\n    }\n</style>\n<table border=\"1\" class=\"dataframe\">\n  <thead>\n    <tr style=\"text-align: right;\">\n      <th></th>\n      <th>user_id</th>\n      <th>item_id</th>\n      <th>progress</th>\n      <th>rating</th>\n      <th>start_date</th>\n      <th>predict_rank</th>\n    </tr>\n  </thead>\n  <tbody>\n    <tr>\n      <th>0</th>\n      <td>38753</td>\n      <td>135245</td>\n      <td>0</td>\n      <td>NaN</td>\n      <td>2019-12-25</td>\n      <td>NaN</td>\n    </tr>\n    <tr>\n      <th>1</th>\n      <td>101642</td>\n      <td>319500</td>\n      <td>67</td>\n      <td>5.0</td>\n      <td>2019-12-25</td>\n      <td>NaN</td>\n    </tr>\n  </tbody>\n</table>\n</div>"
     },
     "execution_count": 32,
     "metadata": {},
     "output_type": "execute_result"
    }
   ],
   "source": [
    "test_recs.head(2)"
   ],
   "metadata": {
    "collapsed": false,
    "pycharm": {
     "name": "#%%\n"
    }
   }
  },
  {
   "cell_type": "code",
   "execution_count": 34,
   "outputs": [],
   "source": [
    "uic = test_recs.groupby('user_id').agg({'item_id':'count'}).reset_index().rename(columns = {'item_id':'users_item_count'})"
   ],
   "metadata": {
    "collapsed": false,
    "pycharm": {
     "name": "#%%\n"
    }
   }
  },
  {
   "cell_type": "code",
   "execution_count": 35,
   "outputs": [],
   "source": [
    "test_recs = test_recs.merge(uic , how = 'left' , on = 'user_id')"
   ],
   "metadata": {
    "collapsed": false,
    "pycharm": {
     "name": "#%%\n"
    }
   }
  },
  {
   "cell_type": "code",
   "execution_count": 36,
   "outputs": [],
   "source": [
    "test_recs['pred_reciprocal_rank'] = 1 / test_recs['predict_rank']\n",
    "test_recs['pred_reciprocal_rank'] = test_recs['pred_reciprocal_rank'].fillna(0)"
   ],
   "metadata": {
    "collapsed": false,
    "pycharm": {
     "name": "#%%\n"
    }
   }
  },
  {
   "cell_type": "code",
   "execution_count": 37,
   "outputs": [
    {
     "data": {
      "text/plain": "   user_id item_id  progress  rating start_date  predict_rank  \\\n0    38753  135245         0     NaN 2019-12-25           NaN   \n1   101642  319500        67     5.0 2019-12-25           NaN   \n\n   users_item_count  pred_reciprocal_rank  \n0                 1                   0.0  \n1                 1                   0.0  ",
      "text/html": "<div>\n<style scoped>\n    .dataframe tbody tr th:only-of-type {\n        vertical-align: middle;\n    }\n\n    .dataframe tbody tr th {\n        vertical-align: top;\n    }\n\n    .dataframe thead th {\n        text-align: right;\n    }\n</style>\n<table border=\"1\" class=\"dataframe\">\n  <thead>\n    <tr style=\"text-align: right;\">\n      <th></th>\n      <th>user_id</th>\n      <th>item_id</th>\n      <th>progress</th>\n      <th>rating</th>\n      <th>start_date</th>\n      <th>predict_rank</th>\n      <th>users_item_count</th>\n      <th>pred_reciprocal_rank</th>\n    </tr>\n  </thead>\n  <tbody>\n    <tr>\n      <th>0</th>\n      <td>38753</td>\n      <td>135245</td>\n      <td>0</td>\n      <td>NaN</td>\n      <td>2019-12-25</td>\n      <td>NaN</td>\n      <td>1</td>\n      <td>0.0</td>\n    </tr>\n    <tr>\n      <th>1</th>\n      <td>101642</td>\n      <td>319500</td>\n      <td>67</td>\n      <td>5.0</td>\n      <td>2019-12-25</td>\n      <td>NaN</td>\n      <td>1</td>\n      <td>0.0</td>\n    </tr>\n  </tbody>\n</table>\n</div>"
     },
     "execution_count": 37,
     "metadata": {},
     "output_type": "execute_result"
    }
   ],
   "source": [
    "test_recs.head(2)"
   ],
   "metadata": {
    "collapsed": false,
    "pycharm": {
     "name": "#%%\n"
    }
   }
  },
  {
   "cell_type": "code",
   "execution_count": 38,
   "outputs": [],
   "source": [
    "test_recs = test_recs.sort_values(by=['user_id', 'predict_rank'])\n",
    "\n"
   ],
   "metadata": {
    "collapsed": false,
    "pycharm": {
     "name": "#%%\n"
    }
   }
  },
  {
   "cell_type": "code",
   "execution_count": 39,
   "outputs": [],
   "source": [
    "test_recs['cumulative_rank'] = test_recs.groupby('user_id').cumcount() + 1"
   ],
   "metadata": {
    "collapsed": false,
    "pycharm": {
     "name": "#%%\n"
    }
   }
  },
  {
   "cell_type": "code",
   "execution_count": 40,
   "outputs": [
    {
     "data": {
      "text/plain": "      user_id item_id  progress  rating start_date  predict_rank  \\\n1440       21   97894       100     NaN 2019-12-25           NaN   \n798        27  179635        99     NaN 2019-12-25           NaN   \n199        58  315050        65     4.0 2019-12-25           NaN   \n1787      288   24595        11     NaN 2019-12-25           NaN   \n1596      430  218187        26     NaN 2019-12-25           NaN   \n...       ...     ...       ...     ...        ...           ...   \n994    159294  110617        18     NaN 2019-12-25           NaN   \n426    159303  197759        64     NaN 2019-12-25           NaN   \n5      159466  124115        84     NaN 2019-12-25           NaN   \n1121   159472  245992        78     NaN 2019-12-25           NaN   \n371    159511   31539        77     5.0 2019-12-25           NaN   \n\n      users_item_count  pred_reciprocal_rank  cumulative_rank  \n1440                 1                   0.0                1  \n798                  1                   0.0                1  \n199                  1                   0.0                1  \n1787                 1                   0.0                1  \n1596                 1                   0.0                1  \n...                ...                   ...              ...  \n994                  1                   0.0                1  \n426                  1                   0.0                1  \n5                    1                   0.0                1  \n1121                 1                   0.0                1  \n371                  1                   0.0                1  \n\n[2114 rows x 9 columns]",
      "text/html": "<div>\n<style scoped>\n    .dataframe tbody tr th:only-of-type {\n        vertical-align: middle;\n    }\n\n    .dataframe tbody tr th {\n        vertical-align: top;\n    }\n\n    .dataframe thead th {\n        text-align: right;\n    }\n</style>\n<table border=\"1\" class=\"dataframe\">\n  <thead>\n    <tr style=\"text-align: right;\">\n      <th></th>\n      <th>user_id</th>\n      <th>item_id</th>\n      <th>progress</th>\n      <th>rating</th>\n      <th>start_date</th>\n      <th>predict_rank</th>\n      <th>users_item_count</th>\n      <th>pred_reciprocal_rank</th>\n      <th>cumulative_rank</th>\n    </tr>\n  </thead>\n  <tbody>\n    <tr>\n      <th>1440</th>\n      <td>21</td>\n      <td>97894</td>\n      <td>100</td>\n      <td>NaN</td>\n      <td>2019-12-25</td>\n      <td>NaN</td>\n      <td>1</td>\n      <td>0.0</td>\n      <td>1</td>\n    </tr>\n    <tr>\n      <th>798</th>\n      <td>27</td>\n      <td>179635</td>\n      <td>99</td>\n      <td>NaN</td>\n      <td>2019-12-25</td>\n      <td>NaN</td>\n      <td>1</td>\n      <td>0.0</td>\n      <td>1</td>\n    </tr>\n    <tr>\n      <th>199</th>\n      <td>58</td>\n      <td>315050</td>\n      <td>65</td>\n      <td>4.0</td>\n      <td>2019-12-25</td>\n      <td>NaN</td>\n      <td>1</td>\n      <td>0.0</td>\n      <td>1</td>\n    </tr>\n    <tr>\n      <th>1787</th>\n      <td>288</td>\n      <td>24595</td>\n      <td>11</td>\n      <td>NaN</td>\n      <td>2019-12-25</td>\n      <td>NaN</td>\n      <td>1</td>\n      <td>0.0</td>\n      <td>1</td>\n    </tr>\n    <tr>\n      <th>1596</th>\n      <td>430</td>\n      <td>218187</td>\n      <td>26</td>\n      <td>NaN</td>\n      <td>2019-12-25</td>\n      <td>NaN</td>\n      <td>1</td>\n      <td>0.0</td>\n      <td>1</td>\n    </tr>\n    <tr>\n      <th>...</th>\n      <td>...</td>\n      <td>...</td>\n      <td>...</td>\n      <td>...</td>\n      <td>...</td>\n      <td>...</td>\n      <td>...</td>\n      <td>...</td>\n      <td>...</td>\n    </tr>\n    <tr>\n      <th>994</th>\n      <td>159294</td>\n      <td>110617</td>\n      <td>18</td>\n      <td>NaN</td>\n      <td>2019-12-25</td>\n      <td>NaN</td>\n      <td>1</td>\n      <td>0.0</td>\n      <td>1</td>\n    </tr>\n    <tr>\n      <th>426</th>\n      <td>159303</td>\n      <td>197759</td>\n      <td>64</td>\n      <td>NaN</td>\n      <td>2019-12-25</td>\n      <td>NaN</td>\n      <td>1</td>\n      <td>0.0</td>\n      <td>1</td>\n    </tr>\n    <tr>\n      <th>5</th>\n      <td>159466</td>\n      <td>124115</td>\n      <td>84</td>\n      <td>NaN</td>\n      <td>2019-12-25</td>\n      <td>NaN</td>\n      <td>1</td>\n      <td>0.0</td>\n      <td>1</td>\n    </tr>\n    <tr>\n      <th>1121</th>\n      <td>159472</td>\n      <td>245992</td>\n      <td>78</td>\n      <td>NaN</td>\n      <td>2019-12-25</td>\n      <td>NaN</td>\n      <td>1</td>\n      <td>0.0</td>\n      <td>1</td>\n    </tr>\n    <tr>\n      <th>371</th>\n      <td>159511</td>\n      <td>31539</td>\n      <td>77</td>\n      <td>5.0</td>\n      <td>2019-12-25</td>\n      <td>NaN</td>\n      <td>1</td>\n      <td>0.0</td>\n      <td>1</td>\n    </tr>\n  </tbody>\n</table>\n<p>2114 rows × 9 columns</p>\n</div>"
     },
     "execution_count": 40,
     "metadata": {},
     "output_type": "execute_result"
    }
   ],
   "source": [
    "test_recs"
   ],
   "metadata": {
    "collapsed": false,
    "pycharm": {
     "name": "#%%\n"
    }
   }
  },
  {
   "cell_type": "code",
   "execution_count": 41,
   "outputs": [],
   "source": [
    "test_recs['cumulative_rank'] = test_recs['cumulative_rank'] / test_recs['predict_rank']"
   ],
   "metadata": {
    "collapsed": false,
    "pycharm": {
     "name": "#%%\n"
    }
   }
  },
  {
   "cell_type": "code",
   "execution_count": 42,
   "outputs": [
    {
     "data": {
      "text/plain": "      user_id item_id  progress  rating start_date  predict_rank  \\\n1440       21   97894       100     NaN 2019-12-25           NaN   \n798        27  179635        99     NaN 2019-12-25           NaN   \n\n      users_item_count  pred_reciprocal_rank  cumulative_rank  \n1440                 1                   0.0              NaN  \n798                  1                   0.0              NaN  ",
      "text/html": "<div>\n<style scoped>\n    .dataframe tbody tr th:only-of-type {\n        vertical-align: middle;\n    }\n\n    .dataframe tbody tr th {\n        vertical-align: top;\n    }\n\n    .dataframe thead th {\n        text-align: right;\n    }\n</style>\n<table border=\"1\" class=\"dataframe\">\n  <thead>\n    <tr style=\"text-align: right;\">\n      <th></th>\n      <th>user_id</th>\n      <th>item_id</th>\n      <th>progress</th>\n      <th>rating</th>\n      <th>start_date</th>\n      <th>predict_rank</th>\n      <th>users_item_count</th>\n      <th>pred_reciprocal_rank</th>\n      <th>cumulative_rank</th>\n    </tr>\n  </thead>\n  <tbody>\n    <tr>\n      <th>1440</th>\n      <td>21</td>\n      <td>97894</td>\n      <td>100</td>\n      <td>NaN</td>\n      <td>2019-12-25</td>\n      <td>NaN</td>\n      <td>1</td>\n      <td>0.0</td>\n      <td>NaN</td>\n    </tr>\n    <tr>\n      <th>798</th>\n      <td>27</td>\n      <td>179635</td>\n      <td>99</td>\n      <td>NaN</td>\n      <td>2019-12-25</td>\n      <td>NaN</td>\n      <td>1</td>\n      <td>0.0</td>\n      <td>NaN</td>\n    </tr>\n  </tbody>\n</table>\n</div>"
     },
     "execution_count": 42,
     "metadata": {},
     "output_type": "execute_result"
    }
   ],
   "source": [
    "test_recs.head(2)"
   ],
   "metadata": {
    "collapsed": false,
    "pycharm": {
     "name": "#%%\n"
    }
   }
  },
  {
   "cell_type": "code",
   "execution_count": 43,
   "outputs": [
    {
     "data": {
      "text/plain": "      user_id item_id  progress  rating start_date  predict_rank  \\\n1513      474  235407       100     5.0 2019-12-25           3.0   \n671      1672  230067        12     NaN 2019-12-25           2.0   \n1595     7313  291806         0     NaN 2019-12-25           7.0   \n1536    10260   35265         0     NaN 2019-12-25           4.0   \n1489    11207  235407         0     NaN 2019-12-25           3.0   \n...       ...     ...       ...     ...        ...           ...   \n496    139770  285394        96     NaN 2019-12-25          10.0   \n403    144116  155266        97     NaN 2019-12-25           5.0   \n761    144818  151190         3     NaN 2019-12-25           8.0   \n1283   146602  235407        11     NaN 2019-12-25           3.0   \n1347   148608  270415        96     NaN 2019-12-25           9.0   \n\n      users_item_count  pred_reciprocal_rank  cumulative_rank  \n1513                 1              0.333333         0.333333  \n671                  1              0.500000         0.500000  \n1595                 5              0.142857         0.142857  \n1536                 1              0.250000         0.250000  \n1489                 1              0.333333         0.333333  \n...                ...                   ...              ...  \n496                  2              0.100000         0.200000  \n403                  1              0.200000         0.200000  \n761                  3              0.125000         0.125000  \n1283                 1              0.333333         0.333333  \n1347                 4              0.111111         0.111111  \n\n[61 rows x 9 columns]",
      "text/html": "<div>\n<style scoped>\n    .dataframe tbody tr th:only-of-type {\n        vertical-align: middle;\n    }\n\n    .dataframe tbody tr th {\n        vertical-align: top;\n    }\n\n    .dataframe thead th {\n        text-align: right;\n    }\n</style>\n<table border=\"1\" class=\"dataframe\">\n  <thead>\n    <tr style=\"text-align: right;\">\n      <th></th>\n      <th>user_id</th>\n      <th>item_id</th>\n      <th>progress</th>\n      <th>rating</th>\n      <th>start_date</th>\n      <th>predict_rank</th>\n      <th>users_item_count</th>\n      <th>pred_reciprocal_rank</th>\n      <th>cumulative_rank</th>\n    </tr>\n  </thead>\n  <tbody>\n    <tr>\n      <th>1513</th>\n      <td>474</td>\n      <td>235407</td>\n      <td>100</td>\n      <td>5.0</td>\n      <td>2019-12-25</td>\n      <td>3.0</td>\n      <td>1</td>\n      <td>0.333333</td>\n      <td>0.333333</td>\n    </tr>\n    <tr>\n      <th>671</th>\n      <td>1672</td>\n      <td>230067</td>\n      <td>12</td>\n      <td>NaN</td>\n      <td>2019-12-25</td>\n      <td>2.0</td>\n      <td>1</td>\n      <td>0.500000</td>\n      <td>0.500000</td>\n    </tr>\n    <tr>\n      <th>1595</th>\n      <td>7313</td>\n      <td>291806</td>\n      <td>0</td>\n      <td>NaN</td>\n      <td>2019-12-25</td>\n      <td>7.0</td>\n      <td>5</td>\n      <td>0.142857</td>\n      <td>0.142857</td>\n    </tr>\n    <tr>\n      <th>1536</th>\n      <td>10260</td>\n      <td>35265</td>\n      <td>0</td>\n      <td>NaN</td>\n      <td>2019-12-25</td>\n      <td>4.0</td>\n      <td>1</td>\n      <td>0.250000</td>\n      <td>0.250000</td>\n    </tr>\n    <tr>\n      <th>1489</th>\n      <td>11207</td>\n      <td>235407</td>\n      <td>0</td>\n      <td>NaN</td>\n      <td>2019-12-25</td>\n      <td>3.0</td>\n      <td>1</td>\n      <td>0.333333</td>\n      <td>0.333333</td>\n    </tr>\n    <tr>\n      <th>...</th>\n      <td>...</td>\n      <td>...</td>\n      <td>...</td>\n      <td>...</td>\n      <td>...</td>\n      <td>...</td>\n      <td>...</td>\n      <td>...</td>\n      <td>...</td>\n    </tr>\n    <tr>\n      <th>496</th>\n      <td>139770</td>\n      <td>285394</td>\n      <td>96</td>\n      <td>NaN</td>\n      <td>2019-12-25</td>\n      <td>10.0</td>\n      <td>2</td>\n      <td>0.100000</td>\n      <td>0.200000</td>\n    </tr>\n    <tr>\n      <th>403</th>\n      <td>144116</td>\n      <td>155266</td>\n      <td>97</td>\n      <td>NaN</td>\n      <td>2019-12-25</td>\n      <td>5.0</td>\n      <td>1</td>\n      <td>0.200000</td>\n      <td>0.200000</td>\n    </tr>\n    <tr>\n      <th>761</th>\n      <td>144818</td>\n      <td>151190</td>\n      <td>3</td>\n      <td>NaN</td>\n      <td>2019-12-25</td>\n      <td>8.0</td>\n      <td>3</td>\n      <td>0.125000</td>\n      <td>0.125000</td>\n    </tr>\n    <tr>\n      <th>1283</th>\n      <td>146602</td>\n      <td>235407</td>\n      <td>11</td>\n      <td>NaN</td>\n      <td>2019-12-25</td>\n      <td>3.0</td>\n      <td>1</td>\n      <td>0.333333</td>\n      <td>0.333333</td>\n    </tr>\n    <tr>\n      <th>1347</th>\n      <td>148608</td>\n      <td>270415</td>\n      <td>96</td>\n      <td>NaN</td>\n      <td>2019-12-25</td>\n      <td>9.0</td>\n      <td>4</td>\n      <td>0.111111</td>\n      <td>0.111111</td>\n    </tr>\n  </tbody>\n</table>\n<p>61 rows × 9 columns</p>\n</div>"
     },
     "execution_count": 43,
     "metadata": {},
     "output_type": "execute_result"
    }
   ],
   "source": [
    "test_recs[test_recs['predict_rank'].notnull()]"
   ],
   "metadata": {
    "collapsed": false,
    "pycharm": {
     "name": "#%%\n"
    }
   }
  },
  {
   "cell_type": "code",
   "execution_count": 44,
   "outputs": [
    {
     "name": "stdout",
     "output_type": "stream",
     "text": [
      "Метрик по test (2019-12-25, 2019-12-26)\n"
     ]
    }
   ],
   "source": [
    "print(f'Метрик по test ({str(split_dates[0])[:10]}, {str(split_dates[1])[:10]})')"
   ],
   "metadata": {
    "collapsed": false,
    "pycharm": {
     "name": "#%%\n"
    }
   }
  },
  {
   "cell_type": "code",
   "execution_count": 45,
   "outputs": [],
   "source": [
    "users_count = test_recs['user_id'].nunique()"
   ],
   "metadata": {
    "collapsed": false,
    "pycharm": {
     "name": "#%%\n"
    }
   }
  },
  {
   "cell_type": "code",
   "execution_count": 46,
   "outputs": [
    {
     "data": {
      "text/plain": "1751"
     },
     "execution_count": 46,
     "metadata": {},
     "output_type": "execute_result"
    }
   ],
   "source": [
    "users_count"
   ],
   "metadata": {
    "collapsed": false,
    "pycharm": {
     "name": "#%%\n"
    }
   }
  },
  {
   "cell_type": "code",
   "execution_count": 47,
   "outputs": [
    {
     "name": "stdout",
     "output_type": "stream",
     "text": [
      "Precision@1 = 0.0000\n",
      "Recall@1 = 0.0000\n",
      "Precision@2 = 0.0026\n",
      "Recall@2 = 0.0040\n",
      "Precision@3 = 0.0048\n",
      "Recall@3 = 0.0128\n",
      "Precision@4 = 0.0050\n",
      "Recall@4 = 0.0173\n",
      "Precision@5 = 0.0045\n",
      "Recall@5 = 0.0192\n",
      "Precision@6 = 0.0039\n",
      "Recall@6 = 0.0204\n",
      "Precision@7 = 0.0037\n",
      "Recall@7 = 0.0222\n",
      "Precision@8 = 0.0035\n",
      "Recall@8 = 0.0241\n",
      "Precision@9 = 0.0034\n",
      "Recall@9 = 0.0253\n",
      "Precision@10 = 0.0035\n",
      "Recall@10 = 0.0290\n"
     ]
    }
   ],
   "source": [
    "for k in range(1, top_N + 1):\n",
    "    hit_k = f'hit@{k}'\n",
    "    test_recs[hit_k] = test_recs['predict_rank'] <= k\n",
    "    print(f'Precision@{k} = {(test_recs[hit_k] / k).sum() / users_count:.4f}')\n",
    "    print(f\"Recall@{k} = {(test_recs[hit_k] / test_recs['users_item_count']).sum() / users_count:.4f}\")"
   ],
   "metadata": {
    "collapsed": false,
    "pycharm": {
     "name": "#%%\n"
    }
   }
  },
  {
   "cell_type": "code",
   "execution_count": 48,
   "outputs": [
    {
     "name": "stdout",
     "output_type": "stream",
     "text": [
      "MAP@10 = 0.007738812893010494\n"
     ]
    }
   ],
   "source": [
    "mapN = (test_recs[\"cumulative_rank\"] / test_recs[\"users_item_count\"]).sum() / users_count\n",
    "print(f\"MAP@{top_N} = {mapN}\")"
   ],
   "metadata": {
    "collapsed": false,
    "pycharm": {
     "name": "#%%\n"
    }
   }
  },
  {
   "cell_type": "code",
   "execution_count": 49,
   "outputs": [
    {
     "name": "stdout",
     "output_type": "stream",
     "text": [
      "MRR = 0.008750101982540589\n"
     ]
    }
   ],
   "source": [
    "mrr = test_recs.groupby('user_id').agg({'pred_reciprocal_rank':'max'}).reset_index()['pred_reciprocal_rank'].mean()\n",
    "print(f\"MRR = {mrr}\")"
   ],
   "metadata": {
    "collapsed": false,
    "pycharm": {
     "name": "#%%\n"
    }
   }
  }
 ],
 "metadata": {
  "kernelspec": {
   "display_name": "Python 3",
   "language": "python",
   "name": "python3"
  },
  "language_info": {
   "codemirror_mode": {
    "name": "ipython",
    "version": 3
   },
   "file_extension": ".py",
   "mimetype": "text/x-python",
   "name": "python",
   "nbconvert_exporter": "python",
   "pygments_lexer": "ipython3",
   "version": "3.7.6"
  },
  "papermill": {
   "duration": 20.654014,
   "end_time": "2020-10-25T07:01:41.028757",
   "environment_variables": {},
   "exception": null,
   "input_path": "__notebook__.ipynb",
   "output_path": "__notebook__.ipynb",
   "parameters": {},
   "start_time": "2020-10-25T07:01:20.374743",
   "version": "2.1.0"
  }
 },
 "nbformat": 4,
 "nbformat_minor": 4
}
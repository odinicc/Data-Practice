{
 "cells": [
  {
   "cell_type": "markdown",
   "metadata": {
    "papermill": {
     "duration": 0.043203,
     "end_time": "2020-10-25T07:01:24.222229",
     "exception": false,
     "start_time": "2020-10-25T07:01:24.179026",
     "status": "completed"
    },
    "tags": [],
    "pycharm": {
     "name": "#%% md\n"
    }
   },
   "source": [
    "# Metrics, validation strategies and baselines\n",
    "\n",
    "В данном jupyter notebook рассматриваются примеры того, какие схемы валидации и метрики используются в рекомендательных системах.\n",
    "Также построим простые модели (бейзлайны) на данных МТС Библиотеки. \n",
    "\n",
    "* [Preprocessing](#preprocessing)\n",
    "* [General remarks](#general-remarks)\n",
    "* [Metrics](#metrics)\n",
    "    * [Regression](#regression)\n",
    "    * [Classification](#classification)\n",
    "    * [Ranking](#ranking)\n",
    "* [Validation strategies](#validation)\n",
    "* [Baselines](#baselines)"
   ]
  },
  {
   "cell_type": "code",
   "execution_count": 1,
   "metadata": {
    "_cell_guid": "b1076dfc-b9ad-4769-8c92-a6c4dae69d19",
    "_kg_hide-input": true,
    "_uuid": "8f2839f25d086af736a60e9eeb907d3b93b6e0e5",
    "execution": {
     "iopub.execute_input": "2020-10-25T07:01:24.311769Z",
     "iopub.status.busy": "2020-10-25T07:01:24.311271Z",
     "iopub.status.idle": "2020-10-25T07:01:24.329979Z",
     "shell.execute_reply": "2020-10-25T07:01:24.329585Z"
    },
    "papermill": {
     "duration": 0.066139,
     "end_time": "2020-10-25T07:01:24.330062",
     "exception": false,
     "start_time": "2020-10-25T07:01:24.263923",
     "status": "completed"
    },
    "tags": [],
    "pycharm": {
     "name": "#%%\n"
    }
   },
   "outputs": [],
   "source": [
    "import os\n",
    "import numpy as np \n",
    "import pandas as pd \n",
    "from itertools import islice, cycle\n",
    "from more_itertools import pairwise\n",
    "\n"
   ]
  },
  {
   "cell_type": "markdown",
   "metadata": {
    "papermill": {
     "duration": 0.041416,
     "end_time": "2020-10-25T07:01:24.414765",
     "exception": false,
     "start_time": "2020-10-25T07:01:24.373349",
     "status": "completed"
    },
    "tags": [],
    "pycharm": {
     "name": "#%% md\n"
    }
   },
   "source": [
    "<a id=\"preprocessing\"></a>\n",
    "# Preprocessing\n",
    "\n",
    "Загрузим наши данные, теперь уже с фичами, и применим знания из [pandas-scipy-for-recsys](https://www.kaggle.com/sharthz23/pandas-scipy-for-recsys)"
   ]
  },
  {
   "cell_type": "code",
   "execution_count": 2,
   "metadata": {
    "execution": {
     "iopub.execute_input": "2020-10-25T07:01:24.502698Z",
     "iopub.status.busy": "2020-10-25T07:01:24.502203Z",
     "iopub.status.idle": "2020-10-25T07:01:26.303449Z",
     "shell.execute_reply": "2020-10-25T07:01:26.302965Z"
    },
    "papermill": {
     "duration": 1.846902,
     "end_time": "2020-10-25T07:01:26.303534",
     "exception": false,
     "start_time": "2020-10-25T07:01:24.456632",
     "status": "completed"
    },
    "tags": [],
    "pycharm": {
     "name": "#%%\n"
    }
   },
   "outputs": [],
   "source": [
    "df = pd.read_pickle('./interactions_preprocessed.pickle')\n",
    "df_users = pd.read_pickle('./users_preprocessed.pickle')\n",
    "df_items = pd.read_pickle('./items_preprocessed.pickle')"
   ]
  },
  {
   "cell_type": "code",
   "execution_count": 3,
   "outputs": [],
   "source": [
    "test_dates = df['start_date'].unique()[-7:]\n",
    "\n"
   ],
   "metadata": {
    "collapsed": false,
    "pycharm": {
     "name": "#%%\n"
    }
   }
  },
  {
   "cell_type": "code",
   "execution_count": 4,
   "outputs": [
    {
     "data": {
      "text/plain": "[(numpy.datetime64('2019-12-25T00:00:00.000000000'),\n  numpy.datetime64('2019-12-26T00:00:00.000000000')),\n (numpy.datetime64('2019-12-26T00:00:00.000000000'),\n  numpy.datetime64('2019-12-27T00:00:00.000000000')),\n (numpy.datetime64('2019-12-27T00:00:00.000000000'),\n  numpy.datetime64('2019-12-28T00:00:00.000000000')),\n (numpy.datetime64('2019-12-28T00:00:00.000000000'),\n  numpy.datetime64('2019-12-29T00:00:00.000000000')),\n (numpy.datetime64('2019-12-29T00:00:00.000000000'),\n  numpy.datetime64('2019-12-30T00:00:00.000000000')),\n (numpy.datetime64('2019-12-30T00:00:00.000000000'),\n  numpy.datetime64('2019-12-31T00:00:00.000000000'))]"
     },
     "execution_count": 4,
     "metadata": {},
     "output_type": "execute_result"
    }
   ],
   "source": [
    "test_dates = list(pairwise(test_dates))\n",
    "test_dates"
   ],
   "metadata": {
    "collapsed": false,
    "pycharm": {
     "name": "#%%\n"
    }
   }
  },
  {
   "cell_type": "code",
   "execution_count": 5,
   "outputs": [],
   "source": [
    "split_dates = test_dates[0]"
   ],
   "metadata": {
    "collapsed": false,
    "pycharm": {
     "name": "#%%\n"
    }
   }
  },
  {
   "cell_type": "code",
   "execution_count": 6,
   "outputs": [],
   "source": [
    "train = df[df['start_date'] < split_dates[0]]"
   ],
   "metadata": {
    "collapsed": false,
    "pycharm": {
     "name": "#%%\n"
    }
   }
  },
  {
   "cell_type": "code",
   "execution_count": 7,
   "outputs": [],
   "source": [
    "test = df[(df['start_date'] >= split_dates[0]) & (df['start_date'] < split_dates[1])]"
   ],
   "metadata": {
    "collapsed": false,
    "pycharm": {
     "name": "#%%\n"
    }
   }
  },
  {
   "cell_type": "code",
   "execution_count": 8,
   "outputs": [],
   "source": [
    "test = test[(test['rating'] >= 4) | (test['rating'].isnull())]"
   ],
   "metadata": {
    "collapsed": false,
    "pycharm": {
     "name": "#%%\n"
    }
   }
  },
  {
   "cell_type": "code",
   "execution_count": 9,
   "outputs": [
    {
     "data": {
      "text/plain": "((numpy.datetime64('2019-12-25T00:00:00.000000000'),\n  numpy.datetime64('2019-12-26T00:00:00.000000000')),\n (1517994, 5),\n (2114, 5))"
     },
     "execution_count": 9,
     "metadata": {},
     "output_type": "execute_result"
    }
   ],
   "source": [
    "split_dates, train.shape, test.shape\n"
   ],
   "metadata": {
    "collapsed": false,
    "pycharm": {
     "name": "#%%\n"
    }
   }
  },
  {
   "cell_type": "markdown",
   "source": [
    "<a id=\"baselines\"></a>\n",
    "# Baselines\n",
    "\n",
    "Самым популярным бейзлайном является просто построение популярного :)\n",
    "Гиперпараметром такой модели может быть например окно, за которое мы считаем популярное.\n",
    "\n",
    "Модель можно расширять засчет учета фичей, чтобы считать популярное в рамках каких-то групп.\n",
    "\n",
    "Но на самом деле бейзлайны в первую очередь зависят от типа данных. В некоторых случаях это могут быть простые модели (или даже бизнес-правила), которые просто учитывают контекст задачи."
   ],
   "metadata": {
    "collapsed": false,
    "pycharm": {
     "name": "#%% md\n"
    }
   }
  },
  {
   "cell_type": "code",
   "execution_count": 10,
   "outputs": [],
   "source": [
    "class PopularRecommender():\n",
    "    def __init__(self, max_K=100, days=30, item_column='item_id', dt_column='date'):\n",
    "        self.max_K = max_K\n",
    "        self.days = days\n",
    "        self.item_column = item_column\n",
    "        self.dt_column = dt_column\n",
    "        self.recommendations = []\n",
    "\n",
    "    def fit(self, df, ):\n",
    "        min_date = df[self.dt_column].max().normalize() - pd.DateOffset(days=self.days)\n",
    "        self.recommendations = df.loc[df[self.dt_column] > min_date, self.item_column].value_counts().head(self.max_K).index.values\n",
    "\n",
    "    def recommend(self, users=None, N=10):\n",
    "        recs = self.recommendations[:N]\n",
    "        if users is None:\n",
    "            return recs\n",
    "        else:\n",
    "            return list(islice(cycle([recs]), len(users)))"
   ],
   "metadata": {
    "collapsed": false,
    "pycharm": {
     "name": "#%%\n"
    }
   }
  },
  {
   "cell_type": "code",
   "execution_count": 11,
   "outputs": [],
   "source": [
    "pop_model = PopularRecommender(days=77, dt_column='start_date')"
   ],
   "metadata": {
    "collapsed": false,
    "pycharm": {
     "name": "#%%\n"
    }
   }
  },
  {
   "cell_type": "code",
   "execution_count": 12,
   "outputs": [
    {
     "data": {
      "text/plain": "{'max_K': 100,\n 'days': 77,\n 'item_column': 'item_id',\n 'dt_column': 'start_date',\n 'recommendations': []}"
     },
     "execution_count": 12,
     "metadata": {},
     "output_type": "execute_result"
    }
   ],
   "source": [
    "vars(pop_model)"
   ],
   "metadata": {
    "collapsed": false,
    "pycharm": {
     "name": "#%%\n"
    }
   }
  },
  {
   "cell_type": "code",
   "execution_count": 15,
   "outputs": [],
   "source": [
    "pop_model.fit(train)"
   ],
   "metadata": {
    "collapsed": false,
    "pycharm": {
     "name": "#%%\n"
    }
   }
  },
  {
   "cell_type": "code",
   "execution_count": 16,
   "outputs": [
    {
     "data": {
      "text/plain": "{'max_K': 100,\n 'days': 77,\n 'item_column': 'item_id',\n 'dt_column': 'start_date',\n 'recommendations': array([109201, 230067, 235407,  35265, 155266, 237760, 291806, 151190,\n        270415, 285394, 218025, 115190, 147734, 282647, 208935, 271846,\n         74650, 281005, 168037, 135032, 168900, 219099, 288531,  75579,\n        226196,  96052,   9197, 169853, 312940, 103077,  99616,  63978,\n          6136, 311394,  86588,  43622, 295007, 110811, 104010, 176898,\n        210979,  48510, 107522,  55913,  67643, 181955,  30772, 141961,\n        233762, 126581, 247959,  93249, 238200,  39878, 276498, 238856,\n        303990,  86123,   5001,   8875,  31454, 241026,  28889, 209326,\n        265984,  26963, 231923, 211217, 243711, 121687,  90674, 108759,\n        232317, 163618, 251856,  11424, 233644,  58803, 240571,  49352,\n        231257,  12301, 297013, 145016,  65912,  99357, 181857, 226128,\n         81827,  35226, 121544, 206185, 312792,  90225,  34363, 223806,\n        222102, 250772,  25173, 229749], dtype=int64)}"
     },
     "execution_count": 16,
     "metadata": {},
     "output_type": "execute_result"
    }
   ],
   "source": [
    "vars(pop_model)"
   ],
   "metadata": {
    "collapsed": false,
    "pycharm": {
     "name": "#%%\n"
    }
   }
  },
  {
   "cell_type": "code",
   "execution_count": 17,
   "outputs": [
    {
     "data": {
      "text/plain": "array([109201, 230067, 235407,  35265, 155266, 237760, 291806, 151190,\n       270415, 285394, 218025, 115190, 147734, 282647, 208935, 271846,\n        74650, 281005, 168037, 135032, 168900, 219099, 288531,  75579,\n       226196,  96052,   9197, 169853, 312940, 103077,  99616,  63978,\n         6136, 311394,  86588,  43622, 295007, 110811, 104010, 176898,\n       210979,  48510, 107522,  55913,  67643, 181955,  30772, 141961,\n       233762, 126581, 247959,  93249, 238200,  39878, 276498, 238856,\n       303990,  86123,   5001,   8875,  31454, 241026,  28889, 209326,\n       265984,  26963, 231923, 211217, 243711, 121687,  90674, 108759,\n       232317, 163618, 251856,  11424, 233644,  58803, 240571,  49352,\n       231257,  12301, 297013, 145016,  65912,  99357, 181857, 226128,\n        81827,  35226, 121544, 206185, 312792,  90225,  34363, 223806,\n       222102, 250772,  25173, 229749], dtype=int64)"
     },
     "execution_count": 17,
     "metadata": {},
     "output_type": "execute_result"
    }
   ],
   "source": [
    "pop_model.recommendations"
   ],
   "metadata": {
    "collapsed": false,
    "pycharm": {
     "name": "#%%\n"
    }
   }
  },
  {
   "cell_type": "code",
   "execution_count": 18,
   "outputs": [
    {
     "data": {
      "text/plain": "77"
     },
     "execution_count": 18,
     "metadata": {},
     "output_type": "execute_result"
    }
   ],
   "source": [
    "pop_model.days"
   ],
   "metadata": {
    "collapsed": false,
    "pycharm": {
     "name": "#%%\n"
    }
   }
  },
  {
   "cell_type": "code",
   "execution_count": null,
   "outputs": [],
   "source": [],
   "metadata": {
    "collapsed": false,
    "pycharm": {
     "name": "#%%\n"
    }
   }
  },
  {
   "cell_type": "code",
   "execution_count": 21,
   "outputs": [],
   "source": [
    "item_titles = dict(zip(df_items.id,df_items.title))"
   ],
   "metadata": {
    "collapsed": false,
    "pycharm": {
     "name": "#%%\n"
    }
   }
  },
  {
   "cell_type": "code",
   "execution_count": 24,
   "outputs": [
    {
     "data": {
      "text/plain": "'Ворон-челобитчик'"
     },
     "execution_count": 24,
     "metadata": {},
     "output_type": "execute_result"
    }
   ],
   "source": [
    "item_titles[128115]"
   ],
   "metadata": {
    "collapsed": false,
    "pycharm": {
     "name": "#%%\n"
    }
   }
  },
  {
   "cell_type": "code",
   "execution_count": 25,
   "outputs": [
    {
     "name": "stdout",
     "output_type": "stream",
     "text": [
      "Ворон-челобитчик\n"
     ]
    }
   ],
   "source": [
    "print(item_titles.get(128115))"
   ],
   "metadata": {
    "collapsed": false,
    "pycharm": {
     "name": "#%%\n"
    }
   }
  },
  {
   "cell_type": "code",
   "execution_count": null,
   "outputs": [],
   "source": [],
   "metadata": {
    "collapsed": false,
    "pycharm": {
     "name": "#%%\n"
    }
   }
  },
  {
   "cell_type": "code",
   "execution_count": 55,
   "outputs": [
    {
     "data": {
      "text/plain": "array([109201, 230067, 235407,  35265, 155266, 237760, 291806, 151190,\n       270415, 285394], dtype=int64)"
     },
     "execution_count": 55,
     "metadata": {},
     "output_type": "execute_result"
    }
   ],
   "source": [
    "top10_recs = pop_model.recommend()\n",
    "top10_recs"
   ],
   "metadata": {
    "collapsed": false,
    "pycharm": {
     "name": "#%%\n"
    }
   }
  },
  {
   "cell_type": "code",
   "execution_count": 57,
   "outputs": [
    {
     "data": {
      "text/plain": "<map at 0x1dde3a08fa0>"
     },
     "execution_count": 57,
     "metadata": {},
     "output_type": "execute_result"
    }
   ],
   "source": [
    "map(item_titles.get, top10_recs)"
   ],
   "metadata": {
    "collapsed": false,
    "pycharm": {
     "name": "#%%\n"
    }
   }
  },
  {
   "cell_type": "code",
   "execution_count": null,
   "outputs": [],
   "source": [],
   "metadata": {
    "collapsed": false,
    "pycharm": {
     "name": "#%%\n"
    }
   }
  },
  {
   "cell_type": "code",
   "execution_count": 56,
   "outputs": [
    {
     "data": {
      "text/plain": "['Яблоки из сада Шлицбутера',\n 'Кавказский пленник',\n 'Пикник на обочине',\n 'Записки юного врача',\n 'О любви',\n 'Русские народные сказки',\n 'Женская война',\n 'История государства Российского. Том 2. От Великого князя Святополка до Великого князя Мстислава Изяславовича',\n 'Черный человек',\n 'Хитрость']"
     },
     "execution_count": 56,
     "metadata": {},
     "output_type": "execute_result"
    }
   ],
   "source": [
    "list(map(item_titles.get, top10_recs))"
   ],
   "metadata": {
    "collapsed": false,
    "pycharm": {
     "name": "#%%\n"
    }
   }
  },
  {
   "cell_type": "code",
   "execution_count": 30,
   "outputs": [],
   "source": [
    "# create datframe with user_id fo recs\n",
    "recs = pd.DataFrame({'user_id': test['user_id'].unique()})\n"
   ],
   "metadata": {
    "collapsed": false,
    "pycharm": {
     "name": "#%%\n"
    }
   }
  },
  {
   "cell_type": "code",
   "execution_count": 32,
   "outputs": [
    {
     "data": {
      "text/plain": "   user_id\n0    38753\n1   101642",
      "text/html": "<div>\n<style scoped>\n    .dataframe tbody tr th:only-of-type {\n        vertical-align: middle;\n    }\n\n    .dataframe tbody tr th {\n        vertical-align: top;\n    }\n\n    .dataframe thead th {\n        text-align: right;\n    }\n</style>\n<table border=\"1\" class=\"dataframe\">\n  <thead>\n    <tr style=\"text-align: right;\">\n      <th></th>\n      <th>user_id</th>\n    </tr>\n  </thead>\n  <tbody>\n    <tr>\n      <th>0</th>\n      <td>38753</td>\n    </tr>\n    <tr>\n      <th>1</th>\n      <td>101642</td>\n    </tr>\n  </tbody>\n</table>\n</div>"
     },
     "execution_count": 32,
     "metadata": {},
     "output_type": "execute_result"
    }
   ],
   "source": [
    "recs.head(2)"
   ],
   "metadata": {
    "collapsed": false,
    "pycharm": {
     "name": "#%%\n"
    }
   }
  },
  {
   "cell_type": "code",
   "execution_count": 33,
   "outputs": [
    {
     "data": {
      "text/plain": "   user_id                                            item_id\n0    38753  [109201, 230067, 235407, 35265, 155266, 237760...\n1   101642  [109201, 230067, 235407, 35265, 155266, 237760...\n2    13548  [109201, 230067, 235407, 35265, 155266, 237760...\n3   130425  [109201, 230067, 235407, 35265, 155266, 237760...\n4    93986  [109201, 230067, 235407, 35265, 155266, 237760...",
      "text/html": "<div>\n<style scoped>\n    .dataframe tbody tr th:only-of-type {\n        vertical-align: middle;\n    }\n\n    .dataframe tbody tr th {\n        vertical-align: top;\n    }\n\n    .dataframe thead th {\n        text-align: right;\n    }\n</style>\n<table border=\"1\" class=\"dataframe\">\n  <thead>\n    <tr style=\"text-align: right;\">\n      <th></th>\n      <th>user_id</th>\n      <th>item_id</th>\n    </tr>\n  </thead>\n  <tbody>\n    <tr>\n      <th>0</th>\n      <td>38753</td>\n      <td>[109201, 230067, 235407, 35265, 155266, 237760...</td>\n    </tr>\n    <tr>\n      <th>1</th>\n      <td>101642</td>\n      <td>[109201, 230067, 235407, 35265, 155266, 237760...</td>\n    </tr>\n    <tr>\n      <th>2</th>\n      <td>13548</td>\n      <td>[109201, 230067, 235407, 35265, 155266, 237760...</td>\n    </tr>\n    <tr>\n      <th>3</th>\n      <td>130425</td>\n      <td>[109201, 230067, 235407, 35265, 155266, 237760...</td>\n    </tr>\n    <tr>\n      <th>4</th>\n      <td>93986</td>\n      <td>[109201, 230067, 235407, 35265, 155266, 237760...</td>\n    </tr>\n  </tbody>\n</table>\n</div>"
     },
     "execution_count": 33,
     "metadata": {},
     "output_type": "execute_result"
    }
   ],
   "source": [
    "\n",
    "top_N = 10\n",
    "recs['item_id'] = pop_model.recommend(recs['user_id'], N=top_N)\n",
    "recs.head()"
   ],
   "metadata": {
    "collapsed": false,
    "pycharm": {
     "name": "#%%\n"
    }
   }
  },
  {
   "cell_type": "code",
   "execution_count": null,
   "outputs": [],
   "source": [],
   "metadata": {
    "collapsed": false,
    "pycharm": {
     "name": "#%%\n"
    }
   }
  },
  {
   "cell_type": "code",
   "execution_count": null,
   "outputs": [],
   "source": [],
   "metadata": {
    "collapsed": false,
    "pycharm": {
     "name": "#%%\n"
    }
   }
  },
  {
   "cell_type": "code",
   "execution_count": null,
   "outputs": [],
   "source": [],
   "metadata": {
    "collapsed": false,
    "pycharm": {
     "name": "#%%\n"
    }
   }
  },
  {
   "cell_type": "code",
   "execution_count": null,
   "outputs": [],
   "source": [],
   "metadata": {
    "collapsed": false,
    "pycharm": {
     "name": "#%%\n"
    }
   }
  },
  {
   "cell_type": "code",
   "execution_count": null,
   "outputs": [],
   "source": [],
   "metadata": {
    "collapsed": false,
    "pycharm": {
     "name": "#%%\n"
    }
   }
  }
 ],
 "metadata": {
  "kernelspec": {
   "display_name": "Python 3",
   "language": "python",
   "name": "python3"
  },
  "language_info": {
   "codemirror_mode": {
    "name": "ipython",
    "version": 3
   },
   "file_extension": ".py",
   "mimetype": "text/x-python",
   "name": "python",
   "nbconvert_exporter": "python",
   "pygments_lexer": "ipython3",
   "version": "3.7.6"
  },
  "papermill": {
   "duration": 20.654014,
   "end_time": "2020-10-25T07:01:41.028757",
   "environment_variables": {},
   "exception": null,
   "input_path": "__notebook__.ipynb",
   "output_path": "__notebook__.ipynb",
   "parameters": {},
   "start_time": "2020-10-25T07:01:20.374743",
   "version": "2.1.0"
  }
 },
 "nbformat": 4,
 "nbformat_minor": 4
}